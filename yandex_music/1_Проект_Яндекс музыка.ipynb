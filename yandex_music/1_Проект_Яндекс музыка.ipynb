{
 "cells": [
  {
   "cell_type": "markdown",
   "metadata": {
    "toc": true
   },
   "source": [
    "<h1>Содержание<span class=\"tocSkip\"></span></h1>\n",
    "<div class=\"toc\"><ul class=\"toc-item\"><li><span><a href=\"#Обзор-данных\" data-toc-modified-id=\"Обзор-данных-1\"><span class=\"toc-item-num\">1&nbsp;&nbsp;</span>Обзор данных</a></span></li><li><span><a href=\"#Предобработка-данных\" data-toc-modified-id=\"Предобработка-данных-2\"><span class=\"toc-item-num\">2&nbsp;&nbsp;</span>Предобработка данных</a></span><ul class=\"toc-item\"><li><span><a href=\"#Приводим-заголовки-к-единому-стилю\" data-toc-modified-id=\"Приводим-заголовки-к-единому-стилю-2.1\"><span class=\"toc-item-num\">2.1&nbsp;&nbsp;</span>Приводим заголовки к единому стилю</a></span></li><li><span><a href=\"#Обработка-пропусков-значений\" data-toc-modified-id=\"Обработка-пропусков-значений-2.2\"><span class=\"toc-item-num\">2.2&nbsp;&nbsp;</span>Обработка пропусков значений</a></span></li><li><span><a href=\"#Проверка-и-обработка-дубликатов\" data-toc-modified-id=\"Проверка-и-обработка-дубликатов-2.3\"><span class=\"toc-item-num\">2.3&nbsp;&nbsp;</span>Проверка и обработка дубликатов</a></span></li></ul></li><li><span><a href=\"#Проверка-гипотез\" data-toc-modified-id=\"Проверка-гипотез-3\"><span class=\"toc-item-num\">3&nbsp;&nbsp;</span>Проверка гипотез</a></span><ul class=\"toc-item\"><li><span><a href=\"#Сравнение-поведения-пользователей-двух-столиц\" data-toc-modified-id=\"Сравнение-поведения-пользователей-двух-столиц-3.1\"><span class=\"toc-item-num\">3.1&nbsp;&nbsp;</span>Сравнение поведения пользователей двух столиц</a></span></li><li><span><a href=\"#Музыка-в-начале-и-в-конце-недели\" data-toc-modified-id=\"Музыка-в-начале-и-в-конце-недели-3.2\"><span class=\"toc-item-num\">3.2&nbsp;&nbsp;</span>Музыка в начале и в конце недели</a></span></li><li><span><a href=\"#Жанровые-предпочтения-в-Москве-и-Петербурге\" data-toc-modified-id=\"Жанровые-предпочтения-в-Москве-и-Петербурге-3.3\"><span class=\"toc-item-num\">3.3&nbsp;&nbsp;</span>Жанровые предпочтения в Москве и Петербурге</a></span></li></ul></li><li><span><a href=\"#Итоги-исследования\" data-toc-modified-id=\"Итоги-исследования-4\"><span class=\"toc-item-num\">4&nbsp;&nbsp;</span>Итоги исследования</a></span></li></ul></div>"
   ]
  },
  {
   "cell_type": "markdown",
   "metadata": {
    "id": "E0vqbgi9ay0H"
   },
   "source": [
    "# Яндекс.Музыка"
   ]
  },
  {
   "cell_type": "markdown",
   "metadata": {
    "id": "VUC88oWjTJw2"
   },
   "source": [
    "# Описание проекта\n",
    "На реальных данных Яндекс Музыки нужно проверить гипотезы и сравните поведение пользователей Москвы и Санкт-Петербурга.\n",
    "\n",
    "**Цель исследования** — проверить три гипотезы:\n",
    "1. Активность пользователей зависит от дня недели. Причём в Москве и Петербурге это проявляется по-разному.\n",
    "2. В понедельник утром в Москве преобладают одни жанры, а в Петербурге — другие. Так же и вечером пятницы преобладают разные жанры — в зависимости от города. \n",
    "3. Москва и Петербург предпочитают разные жанры музыки. В Москве чаще слушают поп-музыку, в Петербурге — русский рэп.\n",
    "\n",
    "**Ход исследования**\n",
    "\n",
    "Исследование пройдёт в три этапа:\n",
    " 1. Обзор данных.\n",
    " 2. Предобработка данных.\n",
    " 3. Проверка гипотез.\n",
    "\n"
   ]
  },
  {
   "cell_type": "markdown",
   "metadata": {},
   "source": [
    "# Описание данных\n",
    "Данные хранятся в файле yandex_music_project.csv. \n",
    "Описание колонок:\n",
    " - userID — идентификатор пользователя;\n",
    " - Track — название трека;\n",
    " - artist — имя исполнителя;\n",
    " - genre — название жанра;\n",
    " - City — город пользователя;\n",
    " - time — время начала прослушивания;\n",
    " - Day — день недели."
   ]
  },
  {
   "cell_type": "markdown",
   "metadata": {
    "id": "Ml1hmfXC_Zcs"
   },
   "source": [
    "## Обзор данных\n",
    "\n",
    "\n",
    "\n",
    "\n"
   ]
  },
  {
   "cell_type": "code",
   "execution_count": 1,
   "metadata": {
    "id": "AXN7PHPN_Zcs"
   },
   "outputs": [],
   "source": [
    "# импорт библиотеки pandas\n",
    "import pandas as pd "
   ]
  },
  {
   "cell_type": "code",
   "execution_count": 2,
   "metadata": {
    "id": "fFVu7vqh_Zct"
   },
   "outputs": [],
   "source": [
    "# чтение файла с данными и сохранение в df\n",
    "df = pd.read_csv('/datasets/yandex_music_project.csv') "
   ]
  },
  {
   "cell_type": "code",
   "execution_count": 3,
   "metadata": {
    "id": "oWTVX3gW_Zct"
   },
   "outputs": [
    {
     "data": {
      "text/html": [
       "<div>\n",
       "<style scoped>\n",
       "    .dataframe tbody tr th:only-of-type {\n",
       "        vertical-align: middle;\n",
       "    }\n",
       "\n",
       "    .dataframe tbody tr th {\n",
       "        vertical-align: top;\n",
       "    }\n",
       "\n",
       "    .dataframe thead th {\n",
       "        text-align: right;\n",
       "    }\n",
       "</style>\n",
       "<table border=\"1\" class=\"dataframe\">\n",
       "  <thead>\n",
       "    <tr style=\"text-align: right;\">\n",
       "      <th></th>\n",
       "      <th>userID</th>\n",
       "      <th>Track</th>\n",
       "      <th>artist</th>\n",
       "      <th>genre</th>\n",
       "      <th>City</th>\n",
       "      <th>time</th>\n",
       "      <th>Day</th>\n",
       "    </tr>\n",
       "  </thead>\n",
       "  <tbody>\n",
       "    <tr>\n",
       "      <th>0</th>\n",
       "      <td>FFB692EC</td>\n",
       "      <td>Kamigata To Boots</td>\n",
       "      <td>The Mass Missile</td>\n",
       "      <td>rock</td>\n",
       "      <td>Saint-Petersburg</td>\n",
       "      <td>20:28:33</td>\n",
       "      <td>Wednesday</td>\n",
       "    </tr>\n",
       "    <tr>\n",
       "      <th>1</th>\n",
       "      <td>55204538</td>\n",
       "      <td>Delayed Because of Accident</td>\n",
       "      <td>Andreas Rönnberg</td>\n",
       "      <td>rock</td>\n",
       "      <td>Moscow</td>\n",
       "      <td>14:07:09</td>\n",
       "      <td>Friday</td>\n",
       "    </tr>\n",
       "    <tr>\n",
       "      <th>2</th>\n",
       "      <td>20EC38</td>\n",
       "      <td>Funiculì funiculà</td>\n",
       "      <td>Mario Lanza</td>\n",
       "      <td>pop</td>\n",
       "      <td>Saint-Petersburg</td>\n",
       "      <td>20:58:07</td>\n",
       "      <td>Wednesday</td>\n",
       "    </tr>\n",
       "    <tr>\n",
       "      <th>3</th>\n",
       "      <td>A3DD03C9</td>\n",
       "      <td>Dragons in the Sunset</td>\n",
       "      <td>Fire + Ice</td>\n",
       "      <td>folk</td>\n",
       "      <td>Saint-Petersburg</td>\n",
       "      <td>08:37:09</td>\n",
       "      <td>Monday</td>\n",
       "    </tr>\n",
       "    <tr>\n",
       "      <th>4</th>\n",
       "      <td>E2DC1FAE</td>\n",
       "      <td>Soul People</td>\n",
       "      <td>Space Echo</td>\n",
       "      <td>dance</td>\n",
       "      <td>Moscow</td>\n",
       "      <td>08:34:34</td>\n",
       "      <td>Monday</td>\n",
       "    </tr>\n",
       "    <tr>\n",
       "      <th>5</th>\n",
       "      <td>842029A1</td>\n",
       "      <td>Преданная</td>\n",
       "      <td>IMPERVTOR</td>\n",
       "      <td>rusrap</td>\n",
       "      <td>Saint-Petersburg</td>\n",
       "      <td>13:09:41</td>\n",
       "      <td>Friday</td>\n",
       "    </tr>\n",
       "    <tr>\n",
       "      <th>6</th>\n",
       "      <td>4CB90AA5</td>\n",
       "      <td>True</td>\n",
       "      <td>Roman Messer</td>\n",
       "      <td>dance</td>\n",
       "      <td>Moscow</td>\n",
       "      <td>13:00:07</td>\n",
       "      <td>Wednesday</td>\n",
       "    </tr>\n",
       "    <tr>\n",
       "      <th>7</th>\n",
       "      <td>F03E1C1F</td>\n",
       "      <td>Feeling This Way</td>\n",
       "      <td>Polina Griffith</td>\n",
       "      <td>dance</td>\n",
       "      <td>Moscow</td>\n",
       "      <td>20:47:49</td>\n",
       "      <td>Wednesday</td>\n",
       "    </tr>\n",
       "    <tr>\n",
       "      <th>8</th>\n",
       "      <td>8FA1D3BE</td>\n",
       "      <td>И вновь продолжается бой</td>\n",
       "      <td>NaN</td>\n",
       "      <td>ruspop</td>\n",
       "      <td>Moscow</td>\n",
       "      <td>09:17:40</td>\n",
       "      <td>Friday</td>\n",
       "    </tr>\n",
       "    <tr>\n",
       "      <th>9</th>\n",
       "      <td>E772D5C0</td>\n",
       "      <td>Pessimist</td>\n",
       "      <td>NaN</td>\n",
       "      <td>dance</td>\n",
       "      <td>Saint-Petersburg</td>\n",
       "      <td>21:20:49</td>\n",
       "      <td>Wednesday</td>\n",
       "    </tr>\n",
       "  </tbody>\n",
       "</table>\n",
       "</div>"
      ],
      "text/plain": [
       "     userID                        Track            artist   genre  \\\n",
       "0  FFB692EC            Kamigata To Boots  The Mass Missile    rock   \n",
       "1  55204538  Delayed Because of Accident  Andreas Rönnberg    rock   \n",
       "2    20EC38            Funiculì funiculà       Mario Lanza     pop   \n",
       "3  A3DD03C9        Dragons in the Sunset        Fire + Ice    folk   \n",
       "4  E2DC1FAE                  Soul People        Space Echo   dance   \n",
       "5  842029A1                    Преданная         IMPERVTOR  rusrap   \n",
       "6  4CB90AA5                         True      Roman Messer   dance   \n",
       "7  F03E1C1F             Feeling This Way   Polina Griffith   dance   \n",
       "8  8FA1D3BE     И вновь продолжается бой               NaN  ruspop   \n",
       "9  E772D5C0                    Pessimist               NaN   dance   \n",
       "\n",
       "             City        time        Day  \n",
       "0  Saint-Petersburg  20:28:33  Wednesday  \n",
       "1            Moscow  14:07:09     Friday  \n",
       "2  Saint-Petersburg  20:58:07  Wednesday  \n",
       "3  Saint-Petersburg  08:37:09     Monday  \n",
       "4            Moscow  08:34:34     Monday  \n",
       "5  Saint-Petersburg  13:09:41     Friday  \n",
       "6            Moscow  13:00:07  Wednesday  \n",
       "7            Moscow  20:47:49  Wednesday  \n",
       "8            Moscow  09:17:40     Friday  \n",
       "9  Saint-Petersburg  21:20:49  Wednesday  "
      ]
     },
     "execution_count": 3,
     "metadata": {},
     "output_type": "execute_result"
    }
   ],
   "source": [
    "# посмотрим структуру таблицы на примере первых 10 строк\n",
    "df.head(10) # получение первых 10 строк таблицы df"
   ]
  },
  {
   "cell_type": "code",
   "execution_count": 4,
   "metadata": {
    "id": "DSf2kIb-_Zct"
   },
   "outputs": [
    {
     "name": "stdout",
     "output_type": "stream",
     "text": [
      "<class 'pandas.core.frame.DataFrame'>\n",
      "RangeIndex: 65079 entries, 0 to 65078\n",
      "Data columns (total 7 columns):\n",
      " #   Column    Non-Null Count  Dtype \n",
      "---  ------    --------------  ----- \n",
      " 0     userID  65079 non-null  object\n",
      " 1   Track     63848 non-null  object\n",
      " 2   artist    57876 non-null  object\n",
      " 3   genre     63881 non-null  object\n",
      " 4     City    65079 non-null  object\n",
      " 5   time      65079 non-null  object\n",
      " 6   Day       65079 non-null  object\n",
      "dtypes: object(7)\n",
      "memory usage: 3.5+ MB\n"
     ]
    }
   ],
   "source": [
    "# получение общей информации о данных в таблице df\n",
    "df.info() "
   ]
  },
  {
   "cell_type": "markdown",
   "metadata": {
    "id": "TaQ2Iwbr_Zct"
   },
   "source": [
    "Итак, в таблице семь столбцов. Тип данных во всех столбцах — `object`.\n",
    "\n",
    "Согласно документации к данным:\n",
    "* `userID` — идентификатор пользователя;\n",
    "* `Track` — название трека;  \n",
    "* `artist` — имя исполнителя;\n",
    "* `genre` — название жанра;\n",
    "* `City` — город пользователя;\n",
    "* `time` — время начала прослушивания;\n",
    "* `Day` — день недели.\n",
    "\n",
    "В названиях колонок видны три нарушения стиля:\n",
    "1. Строчные буквы сочетаются с прописными.\n",
    "2. Встречаются пробелы.\n",
    "3. Найдите ещё одну проблему в названии колонок и опишите её в этом пункте. userID без нижнего подчеркивания.\n",
    "\n",
    "\n",
    "\n",
    "Количество значений в столбцах различается. Значит, в данных есть пропущенные значения.\n"
   ]
  },
  {
   "cell_type": "markdown",
   "metadata": {
    "id": "MCB6-dXG_Zct"
   },
   "source": [
    "**Выводы**\n",
    "\n",
    "1. В каждой строке таблицы — данные о прослушанном треке. Часть колонок описывает саму композицию: название, исполнителя и жанр. Остальные данные рассказывают о пользователе: из какого он города, когда он слушал музыку; \n",
    "2. Всего в таблице 65 079 строк. Тип данных во всех столбцах - object;\n",
    "3. Предварительно можно утверждать, что, данных достаточно для проверки гипотез. Но встречаются пропуски в данных, а названия колонок приведены с использованием символов разного регистра.\n",
    "Чтобы двигаться дальше, нужно устранить проблемы в данных."
   ]
  },
  {
   "cell_type": "markdown",
   "metadata": {
    "id": "SjYF6Ub9_Zct"
   },
   "source": [
    "## Предобработка данных\n"
   ]
  },
  {
   "cell_type": "markdown",
   "metadata": {
    "id": "dIaKXr29_Zct"
   },
   "source": [
    "### Приводим заголовки к единому стилю\n",
    "Выведите на экран названия столбцов:"
   ]
  },
  {
   "cell_type": "code",
   "execution_count": 5,
   "metadata": {
    "id": "oKOTdF_Q_Zct"
   },
   "outputs": [
    {
     "data": {
      "text/plain": [
       "Index(['  userID', 'Track', 'artist', 'genre', '  City  ', 'time', 'Day'], dtype='object')"
      ]
     },
     "execution_count": 5,
     "metadata": {},
     "output_type": "execute_result"
    }
   ],
   "source": [
    "# перечень названий столбцов таблицы df\n",
    "df.columns "
   ]
  },
  {
   "cell_type": "code",
   "execution_count": 6,
   "metadata": {
    "id": "ISlFqs5y_Zct"
   },
   "outputs": [],
   "source": [
    "# переименуем некоторые столбцы\n",
    "df = df.rename(columns = {'  userID':'user_id', 'Track':'track', '  City  ':'city', 'Day':'day'}) # переименование столбцов"
   ]
  },
  {
   "cell_type": "code",
   "execution_count": 7,
   "metadata": {
    "id": "d4NOAmTW_Zct"
   },
   "outputs": [
    {
     "data": {
      "text/plain": [
       "Index(['user_id', 'track', 'artist', 'genre', 'city', 'time', 'day'], dtype='object')"
      ]
     },
     "execution_count": 7,
     "metadata": {},
     "output_type": "execute_result"
    }
   ],
   "source": [
    "df.columns"
   ]
  },
  {
   "cell_type": "markdown",
   "metadata": {
    "id": "5ISfbcfY_Zct"
   },
   "source": [
    "### Обработка пропусков значений"
   ]
  },
  {
   "cell_type": "code",
   "execution_count": 8,
   "metadata": {
    "id": "RskX29qr_Zct"
   },
   "outputs": [
    {
     "data": {
      "text/plain": [
       "user_id       0\n",
       "track      1231\n",
       "artist     7203\n",
       "genre      1198\n",
       "city          0\n",
       "time          0\n",
       "day           0\n",
       "dtype: int64"
      ]
     },
     "execution_count": 8,
     "metadata": {},
     "output_type": "execute_result"
    }
   ],
   "source": [
    "# подсчёт пропусков\n",
    "df.isna().sum() "
   ]
  },
  {
   "cell_type": "markdown",
   "metadata": {
    "id": "qubhgnlO_Zct"
   },
   "source": [
    "Не все пропущенные значения влияют на исследование. Так в `track` и `artist` пропуски не важны для нашей работы. Достаточно заменить их явными обозначениями.\n",
    "\n",
    "Но пропуски в `genre` могут помешать сравнению музыкальных вкусов в Москве и Санкт-Петербурге. Нужно:\n",
    "* заполнить и эти пропуски явными обозначениями,\n",
    "* оценить, насколько они повредят расчётам. "
   ]
  },
  {
   "cell_type": "code",
   "execution_count": 9,
   "metadata": {
    "id": "KplB5qWs_Zct"
   },
   "outputs": [],
   "source": [
    "# перебор названий столбцов в цикле и замена пропущенных значений на 'unknown'\n",
    "columns_to_replace = ['track', 'artist', 'genre'] \n",
    "for i in columns_to_replace:\n",
    "    df[i] = df[i].fillna('unknown')"
   ]
  },
  {
   "cell_type": "code",
   "execution_count": 10,
   "metadata": {
    "id": "Tq4nYRX4_Zct"
   },
   "outputs": [
    {
     "data": {
      "text/plain": [
       "user_id    0\n",
       "track      0\n",
       "artist     0\n",
       "genre      0\n",
       "city       0\n",
       "time       0\n",
       "day        0\n",
       "dtype: int64"
      ]
     },
     "execution_count": 10,
     "metadata": {},
     "output_type": "execute_result"
    }
   ],
   "source": [
    "# убедимся, что пропусков не осталось\n",
    "df.isna().sum()"
   ]
  },
  {
   "cell_type": "markdown",
   "metadata": {
    "id": "BWKRtBJ3_Zct"
   },
   "source": [
    "### Проверка и обработка дубликатов\n"
   ]
  },
  {
   "cell_type": "code",
   "execution_count": 11,
   "metadata": {
    "id": "36eES_S0_Zct"
   },
   "outputs": [
    {
     "data": {
      "text/plain": [
       "3826"
      ]
     },
     "execution_count": 11,
     "metadata": {},
     "output_type": "execute_result"
    }
   ],
   "source": [
    "# подсчёт явных дубликатов\n",
    "df.duplicated().sum() "
   ]
  },
  {
   "cell_type": "code",
   "execution_count": 12,
   "metadata": {
    "id": "exFHq6tt_Zct"
   },
   "outputs": [],
   "source": [
    "# удаление явных дубликатов (с удалением старых индексов и формированием новых)\n",
    "df = df.drop_duplicates().reset_index(drop=True) "
   ]
  },
  {
   "cell_type": "code",
   "execution_count": 13,
   "metadata": {
    "id": "-8PuNWQ0_Zct"
   },
   "outputs": [
    {
     "data": {
      "text/plain": [
       "0"
      ]
     },
     "execution_count": 13,
     "metadata": {},
     "output_type": "execute_result"
    }
   ],
   "source": [
    "# проверка на отсутствие дубликатов\n",
    "df.duplicated().sum() "
   ]
  },
  {
   "cell_type": "markdown",
   "metadata": {
    "id": "QlFBsxAr_Zct"
   },
   "source": [
    "Проверим на наличие неявных дубликатов."
   ]
  },
  {
   "cell_type": "code",
   "execution_count": 14,
   "metadata": {
    "id": "JIUcqzZN_Zct"
   },
   "outputs": [
    {
     "data": {
      "text/plain": [
       "array(['acid', 'acoustic', 'action', 'adult', 'africa', 'afrikaans',\n",
       "       'alternative', 'alternativepunk', 'ambient', 'americana',\n",
       "       'animated', 'anime', 'arabesk', 'arabic', 'arena',\n",
       "       'argentinetango', 'art', 'audiobook', 'author', 'avantgarde',\n",
       "       'axé', 'baile', 'balkan', 'beats', 'bigroom', 'black', 'bluegrass',\n",
       "       'blues', 'bollywood', 'bossa', 'brazilian', 'breakbeat', 'breaks',\n",
       "       'broadway', 'cantautori', 'cantopop', 'canzone', 'caribbean',\n",
       "       'caucasian', 'celtic', 'chamber', 'chanson', 'children', 'chill',\n",
       "       'chinese', 'choral', 'christian', 'christmas', 'classical',\n",
       "       'classicmetal', 'club', 'colombian', 'comedy', 'conjazz',\n",
       "       'contemporary', 'country', 'cuban', 'dance', 'dancehall',\n",
       "       'dancepop', 'dark', 'death', 'deep', 'deutschrock', 'deutschspr',\n",
       "       'dirty', 'disco', 'dnb', 'documentary', 'downbeat', 'downtempo',\n",
       "       'drum', 'dub', 'dubstep', 'eastern', 'easy', 'electronic',\n",
       "       'electropop', 'emo', 'entehno', 'epicmetal', 'estrada', 'ethnic',\n",
       "       'eurofolk', 'european', 'experimental', 'extrememetal', 'fado',\n",
       "       'fairytail', 'film', 'fitness', 'flamenco', 'folk', 'folklore',\n",
       "       'folkmetal', 'folkrock', 'folktronica', 'forró', 'frankreich',\n",
       "       'französisch', 'french', 'funk', 'future', 'gangsta', 'garage',\n",
       "       'german', 'ghazal', 'gitarre', 'glitch', 'gospel', 'gothic',\n",
       "       'grime', 'grunge', 'gypsy', 'handsup', \"hard'n'heavy\", 'hardcore',\n",
       "       'hardstyle', 'hardtechno', 'hip', 'hip-hop', 'hiphop',\n",
       "       'historisch', 'holiday', 'hop', 'horror', 'house', 'hymn', 'idm',\n",
       "       'independent', 'indian', 'indie', 'indipop', 'industrial',\n",
       "       'inspirational', 'instrumental', 'international', 'irish', 'jam',\n",
       "       'japanese', 'jazz', 'jewish', 'jpop', 'jungle', 'k-pop',\n",
       "       'karadeniz', 'karaoke', 'kayokyoku', 'korean', 'laiko', 'latin',\n",
       "       'latino', 'leftfield', 'local', 'lounge', 'loungeelectronic',\n",
       "       'lovers', 'malaysian', 'mandopop', 'marschmusik', 'meditative',\n",
       "       'mediterranean', 'melodic', 'metal', 'metalcore', 'mexican',\n",
       "       'middle', 'minimal', 'miscellaneous', 'modern', 'mood', 'mpb',\n",
       "       'muslim', 'native', 'neoklassik', 'neue', 'new', 'newage',\n",
       "       'newwave', 'nu', 'nujazz', 'numetal', 'oceania', 'old', 'opera',\n",
       "       'orchestral', 'other', 'piano', 'podcasts', 'pop', 'popdance',\n",
       "       'popelectronic', 'popeurodance', 'poprussian', 'post',\n",
       "       'posthardcore', 'postrock', 'power', 'progmetal', 'progressive',\n",
       "       'psychedelic', 'punjabi', 'punk', 'quebecois', 'ragga', 'ram',\n",
       "       'rancheras', 'rap', 'rave', 'reggae', 'reggaeton', 'regional',\n",
       "       'relax', 'religious', 'retro', 'rhythm', 'rnb', 'rnr', 'rock',\n",
       "       'rockabilly', 'rockalternative', 'rockindie', 'rockother',\n",
       "       'romance', 'roots', 'ruspop', 'rusrap', 'rusrock', 'russian',\n",
       "       'salsa', 'samba', 'scenic', 'schlager', 'self', 'sertanejo',\n",
       "       'shanson', 'shoegazing', 'showtunes', 'singer', 'ska', 'skarock',\n",
       "       'slow', 'smooth', 'soft', 'soul', 'soulful', 'sound', 'soundtrack',\n",
       "       'southern', 'specialty', 'speech', 'spiritual', 'sport',\n",
       "       'stonerrock', 'surf', 'swing', 'synthpop', 'synthrock',\n",
       "       'sängerportrait', 'tango', 'tanzorchester', 'taraftar', 'tatar',\n",
       "       'tech', 'techno', 'teen', 'thrash', 'top', 'traditional',\n",
       "       'tradjazz', 'trance', 'tribal', 'trip', 'triphop', 'tropical',\n",
       "       'türk', 'türkçe', 'ukrrock', 'unknown', 'urban', 'uzbek',\n",
       "       'variété', 'vi', 'videogame', 'vocal', 'western', 'world',\n",
       "       'worldbeat', 'ïîï', 'электроника'], dtype=object)"
      ]
     },
     "execution_count": 14,
     "metadata": {},
     "output_type": "execute_result"
    }
   ],
   "source": [
    "# Просмотр уникальных названий жанров\n",
    "df['genre'].sort_values().unique() "
   ]
  },
  {
   "cell_type": "markdown",
   "metadata": {
    "id": "qej-Qmuo_Zct"
   },
   "source": [
    "В списке неявные дубликаты названия `hiphop`. Это альтернативные названия одного и того же жанра.\n",
    "\n",
    "Имеются следующие неявные дубликаты:\n",
    "* *hip*,\n",
    "* *hop*,\n",
    "* *hip-hop*.\n",
    "\n"
   ]
  },
  {
   "cell_type": "code",
   "execution_count": 15,
   "metadata": {
    "id": "ErNDkmns_Zct"
   },
   "outputs": [],
   "source": [
    "# функция для замены неявных дубликатов\n",
    "def replace_wrong_genres(wrong_genres, correct_genre): \n",
    "    for index in wrong_genres:\n",
    "        df['genre'] = df['genre'].replace(index, correct_genre)"
   ]
  },
  {
   "cell_type": "code",
   "execution_count": 16,
   "metadata": {
    "id": "YN5i2hpmSo09"
   },
   "outputs": [],
   "source": [
    "# устранение неявных дубликатов\n",
    "duplicates = ['hip', 'hop', 'hip-hop'] \n",
    "genre = 'hiphop'\n",
    "replace_wrong_genres(duplicates, genre)"
   ]
  },
  {
   "cell_type": "code",
   "execution_count": 17,
   "metadata": {
    "id": "wvixALnFG15m"
   },
   "outputs": [
    {
     "data": {
      "text/plain": [
       "array(['acid', 'acoustic', 'action', 'adult', 'africa', 'afrikaans',\n",
       "       'alternative', 'alternativepunk', 'ambient', 'americana',\n",
       "       'animated', 'anime', 'arabesk', 'arabic', 'arena',\n",
       "       'argentinetango', 'art', 'audiobook', 'author', 'avantgarde',\n",
       "       'axé', 'baile', 'balkan', 'beats', 'bigroom', 'black', 'bluegrass',\n",
       "       'blues', 'bollywood', 'bossa', 'brazilian', 'breakbeat', 'breaks',\n",
       "       'broadway', 'cantautori', 'cantopop', 'canzone', 'caribbean',\n",
       "       'caucasian', 'celtic', 'chamber', 'chanson', 'children', 'chill',\n",
       "       'chinese', 'choral', 'christian', 'christmas', 'classical',\n",
       "       'classicmetal', 'club', 'colombian', 'comedy', 'conjazz',\n",
       "       'contemporary', 'country', 'cuban', 'dance', 'dancehall',\n",
       "       'dancepop', 'dark', 'death', 'deep', 'deutschrock', 'deutschspr',\n",
       "       'dirty', 'disco', 'dnb', 'documentary', 'downbeat', 'downtempo',\n",
       "       'drum', 'dub', 'dubstep', 'eastern', 'easy', 'electronic',\n",
       "       'electropop', 'emo', 'entehno', 'epicmetal', 'estrada', 'ethnic',\n",
       "       'eurofolk', 'european', 'experimental', 'extrememetal', 'fado',\n",
       "       'fairytail', 'film', 'fitness', 'flamenco', 'folk', 'folklore',\n",
       "       'folkmetal', 'folkrock', 'folktronica', 'forró', 'frankreich',\n",
       "       'französisch', 'french', 'funk', 'future', 'gangsta', 'garage',\n",
       "       'german', 'ghazal', 'gitarre', 'glitch', 'gospel', 'gothic',\n",
       "       'grime', 'grunge', 'gypsy', 'handsup', \"hard'n'heavy\", 'hardcore',\n",
       "       'hardstyle', 'hardtechno', 'hiphop', 'historisch', 'holiday',\n",
       "       'horror', 'house', 'hymn', 'idm', 'independent', 'indian', 'indie',\n",
       "       'indipop', 'industrial', 'inspirational', 'instrumental',\n",
       "       'international', 'irish', 'jam', 'japanese', 'jazz', 'jewish',\n",
       "       'jpop', 'jungle', 'k-pop', 'karadeniz', 'karaoke', 'kayokyoku',\n",
       "       'korean', 'laiko', 'latin', 'latino', 'leftfield', 'local',\n",
       "       'lounge', 'loungeelectronic', 'lovers', 'malaysian', 'mandopop',\n",
       "       'marschmusik', 'meditative', 'mediterranean', 'melodic', 'metal',\n",
       "       'metalcore', 'mexican', 'middle', 'minimal', 'miscellaneous',\n",
       "       'modern', 'mood', 'mpb', 'muslim', 'native', 'neoklassik', 'neue',\n",
       "       'new', 'newage', 'newwave', 'nu', 'nujazz', 'numetal', 'oceania',\n",
       "       'old', 'opera', 'orchestral', 'other', 'piano', 'podcasts', 'pop',\n",
       "       'popdance', 'popelectronic', 'popeurodance', 'poprussian', 'post',\n",
       "       'posthardcore', 'postrock', 'power', 'progmetal', 'progressive',\n",
       "       'psychedelic', 'punjabi', 'punk', 'quebecois', 'ragga', 'ram',\n",
       "       'rancheras', 'rap', 'rave', 'reggae', 'reggaeton', 'regional',\n",
       "       'relax', 'religious', 'retro', 'rhythm', 'rnb', 'rnr', 'rock',\n",
       "       'rockabilly', 'rockalternative', 'rockindie', 'rockother',\n",
       "       'romance', 'roots', 'ruspop', 'rusrap', 'rusrock', 'russian',\n",
       "       'salsa', 'samba', 'scenic', 'schlager', 'self', 'sertanejo',\n",
       "       'shanson', 'shoegazing', 'showtunes', 'singer', 'ska', 'skarock',\n",
       "       'slow', 'smooth', 'soft', 'soul', 'soulful', 'sound', 'soundtrack',\n",
       "       'southern', 'specialty', 'speech', 'spiritual', 'sport',\n",
       "       'stonerrock', 'surf', 'swing', 'synthpop', 'synthrock',\n",
       "       'sängerportrait', 'tango', 'tanzorchester', 'taraftar', 'tatar',\n",
       "       'tech', 'techno', 'teen', 'thrash', 'top', 'traditional',\n",
       "       'tradjazz', 'trance', 'tribal', 'trip', 'triphop', 'tropical',\n",
       "       'türk', 'türkçe', 'ukrrock', 'unknown', 'urban', 'uzbek',\n",
       "       'variété', 'vi', 'videogame', 'vocal', 'western', 'world',\n",
       "       'worldbeat', 'ïîï', 'электроника'], dtype=object)"
      ]
     },
     "execution_count": 17,
     "metadata": {},
     "output_type": "execute_result"
    }
   ],
   "source": [
    "# проверка на неявные дубликаты\n",
    "df['genre'].sort_values().unique() "
   ]
  },
  {
   "cell_type": "markdown",
   "metadata": {
    "id": "jz6a9-7HQUDd"
   },
   "source": [
    "**Выводы**\n",
    "\n",
    "Предобработка обнаружила три проблемы в данных:\n",
    "\n",
    "- нарушения в стиле заголовков,\n",
    "- пропущенные значения,\n",
    "- дубликаты — явные и неявные.\n",
    "\n",
    "Мы исправили заголовки, чтобы упростить работу с таблицей. Без дубликатов исследование станет более точным.\n",
    "\n",
    "Пропущенные значения заменили на `'unknown'`. Ещё предстоит увидеть, не повредят ли исследованию пропуски в колонке `genre`.\n",
    "\n",
    "Теперь можно перейти к проверке гипотез. "
   ]
  },
  {
   "cell_type": "markdown",
   "metadata": {
    "id": "WttZHXH0SqKk"
   },
   "source": [
    "## Проверка гипотез"
   ]
  },
  {
   "cell_type": "markdown",
   "metadata": {
    "id": "Im936VVi_Zcu"
   },
   "source": [
    "### Сравнение поведения пользователей двух столиц"
   ]
  },
  {
   "cell_type": "markdown",
   "metadata": {
    "id": "nwt_MuaL_Zcu"
   },
   "source": [
    "Первая гипотеза утверждает, что пользователи по-разному слушают музыку в Москве и Санкт-Петербурге. Проверим это предположение по данным о трёх днях недели — понедельнике, среде и пятнице. Для этого:\n",
    "\n",
    "* Разделим пользователей Москвы и Санкт-Петербурга\n",
    "* Сравним, сколько треков послушала каждая группа пользователей в понедельник, среду и пятницу.\n"
   ]
  },
  {
   "cell_type": "code",
   "execution_count": 18,
   "metadata": {
    "id": "0_Qs96oh_Zcu"
   },
   "outputs": [
    {
     "data": {
      "text/plain": [
       "city\n",
       "Moscow              42741\n",
       "Saint-Petersburg    18512\n",
       "Name: track, dtype: int64"
      ]
     },
     "execution_count": 18,
     "metadata": {},
     "output_type": "execute_result"
    }
   ],
   "source": [
    "# подсчёт прослушиваний в каждом городе\n",
    "df.groupby('city')['track'].count() "
   ]
  },
  {
   "cell_type": "markdown",
   "metadata": {
    "id": "dzli3w8o_Zcu"
   },
   "source": [
    "В Москве прослушиваний больше, чем в Петербурге. Из этого не следует, что московские пользователи чаще слушают музыку. Просто самих пользователей в Москве больше.\n",
    "\n",
    "Теперь сгруппируем данные по дню недели и подсчитаем прослушивания в понедельник, среду и пятницу. \n"
   ]
  },
  {
   "cell_type": "code",
   "execution_count": 24,
   "metadata": {
    "id": "uZMKjiJz_Zcu"
   },
   "outputs": [
    {
     "data": {
      "text/plain": [
       "day\n",
       "Friday       21840\n",
       "Monday       21354\n",
       "Wednesday    18059\n",
       "Name: track, dtype: int64"
      ]
     },
     "execution_count": 24,
     "metadata": {},
     "output_type": "execute_result"
    }
   ],
   "source": [
    "# подсчёт прослушиваний в каждый из трёх дней\n",
    "df.groupby('day')['track'].count() "
   ]
  },
  {
   "cell_type": "markdown",
   "metadata": {
    "id": "cC2tNrlL_Zcu"
   },
   "source": [
    "В среднем пользователи из двух городов менее активны по средам. Но картина может измениться, если рассмотреть каждый город в отдельности."
   ]
  },
  {
   "cell_type": "markdown",
   "metadata": {
    "id": "POzs8bGa_Zcu"
   },
   "source": [
    "Создадим функцию `number_tracks()`, которая посчитает прослушивания для заданного дня и города. Ей понадобятся два параметра:\n",
    "* день недели,\n",
    "* название города.\n",
    "\n",
    "В функции сохраним в переменную строки исходной таблицы, у которых значение:\n",
    "  * в колонке `day` равно параметру `day`,\n",
    "  * в колонке `city` равно параметру `city`.\n",
    "\n",
    "Для этого применим последовательную фильтрацию с логической индексацией.\n",
    "\n",
    "Затем посчитаем значения в столбце `user_id` получившейся таблицы. Результат сохраним в новую переменную. "
   ]
  },
  {
   "cell_type": "code",
   "execution_count": 19,
   "metadata": {
    "id": "Nz3GdQB1_Zcu"
   },
   "outputs": [],
   "source": [
    "# <создание функции number_tracks()>\n",
    "def number_tracks(day, city): # Объявляется функция с двумя параметрами: day, city.\n",
    "    track_list = df[(df['day'] == day) & (df['city'] == city)]\n",
    "    track_list_count = track_list['user_id'].count()\n",
    "    return track_list_count \n"
   ]
  },
  {
   "cell_type": "markdown",
   "metadata": {
    "id": "ytf7xFrFJQ2r"
   },
   "source": [
    "Вызовим `number_tracks()` шесть раз, меняя значение параметров — так, чтобы получить данные для каждого города в каждый из трёх дней."
   ]
  },
  {
   "cell_type": "code",
   "execution_count": 20,
   "metadata": {
    "id": "rJcRATNQ_Zcu"
   },
   "outputs": [
    {
     "data": {
      "text/plain": [
       "15740"
      ]
     },
     "execution_count": 20,
     "metadata": {},
     "output_type": "execute_result"
    }
   ],
   "source": [
    "number_tracks('Monday', 'Moscow') # количество прослушиваний в Москве по понедельникам"
   ]
  },
  {
   "cell_type": "code",
   "execution_count": 21,
   "metadata": {
    "id": "hq_ncZ5T_Zcu"
   },
   "outputs": [
    {
     "data": {
      "text/plain": [
       "5614"
      ]
     },
     "execution_count": 21,
     "metadata": {},
     "output_type": "execute_result"
    }
   ],
   "source": [
    "number_tracks('Monday', 'Saint-Petersburg') # количество прослушиваний в Санкт-Петербурге по понедельникам"
   ]
  },
  {
   "cell_type": "code",
   "execution_count": 22,
   "metadata": {
    "id": "_NTy2VPU_Zcu"
   },
   "outputs": [
    {
     "data": {
      "text/plain": [
       "11056"
      ]
     },
     "execution_count": 22,
     "metadata": {},
     "output_type": "execute_result"
    }
   ],
   "source": [
    "number_tracks('Wednesday', 'Moscow') # количество прослушиваний в Москве по средам"
   ]
  },
  {
   "cell_type": "code",
   "execution_count": 23,
   "metadata": {
    "id": "j2y3TAwo_Zcu"
   },
   "outputs": [
    {
     "data": {
      "text/plain": [
       "7003"
      ]
     },
     "execution_count": 23,
     "metadata": {},
     "output_type": "execute_result"
    }
   ],
   "source": [
    "number_tracks('Wednesday', 'Saint-Petersburg') # количество прослушиваний в Санкт-Петербурге по средам"
   ]
  },
  {
   "cell_type": "code",
   "execution_count": 24,
   "metadata": {
    "id": "vYDw5u_K_Zcu"
   },
   "outputs": [
    {
     "data": {
      "text/plain": [
       "15945"
      ]
     },
     "execution_count": 24,
     "metadata": {},
     "output_type": "execute_result"
    }
   ],
   "source": [
    "number_tracks('Friday', 'Moscow') # количество прослушиваний в Москве по пятницам"
   ]
  },
  {
   "cell_type": "code",
   "execution_count": 25,
   "metadata": {
    "id": "8_yzFtW3_Zcu"
   },
   "outputs": [
    {
     "data": {
      "text/plain": [
       "5895"
      ]
     },
     "execution_count": 25,
     "metadata": {},
     "output_type": "execute_result"
    }
   ],
   "source": [
    "number_tracks('Friday', 'Saint-Petersburg') # количество прослушиваний в Санкт-Петербурге по пятницам"
   ]
  },
  {
   "cell_type": "markdown",
   "metadata": {
    "id": "7QXffbO-_Zcu"
   },
   "source": [
    "Создадим c помощью конструктора `pd.DataFrame` таблицу, где\n",
    "* названия колонок — `['city', 'monday', 'wednesday', 'friday']`;\n",
    "* данные — результаты, которые вы получили с помощью `number_tracks`."
   ]
  },
  {
   "cell_type": "code",
   "execution_count": 27,
   "metadata": {
    "id": "APAcLpOr_Zcu"
   },
   "outputs": [
    {
     "data": {
      "text/html": [
       "<div>\n",
       "<style scoped>\n",
       "    .dataframe tbody tr th:only-of-type {\n",
       "        vertical-align: middle;\n",
       "    }\n",
       "\n",
       "    .dataframe tbody tr th {\n",
       "        vertical-align: top;\n",
       "    }\n",
       "\n",
       "    .dataframe thead th {\n",
       "        text-align: right;\n",
       "    }\n",
       "</style>\n",
       "<table border=\"1\" class=\"dataframe\">\n",
       "  <thead>\n",
       "    <tr style=\"text-align: right;\">\n",
       "      <th></th>\n",
       "      <th>city</th>\n",
       "      <th>monday</th>\n",
       "      <th>wednesday</th>\n",
       "      <th>friday</th>\n",
       "    </tr>\n",
       "  </thead>\n",
       "  <tbody>\n",
       "    <tr>\n",
       "      <th>0</th>\n",
       "      <td>Moscow</td>\n",
       "      <td>15740</td>\n",
       "      <td>11056</td>\n",
       "      <td>15945</td>\n",
       "    </tr>\n",
       "    <tr>\n",
       "      <th>1</th>\n",
       "      <td>Saint-Petersburg</td>\n",
       "      <td>5614</td>\n",
       "      <td>7003</td>\n",
       "      <td>5895</td>\n",
       "    </tr>\n",
       "  </tbody>\n",
       "</table>\n",
       "</div>"
      ],
      "text/plain": [
       "               city  monday  wednesday  friday\n",
       "0            Moscow   15740      11056   15945\n",
       "1  Saint-Petersburg    5614       7003    5895"
      ]
     },
     "execution_count": 27,
     "metadata": {},
     "output_type": "execute_result"
    }
   ],
   "source": [
    "data = [['Moscow', 15740, 11056, 15945], ['Saint-Petersburg', 5614, 7003, 5895]] # Таблица с результатами\n",
    "columns = ['city', 'monday', 'wednesday', 'friday']\n",
    "chart = pd.DataFrame(data = data, columns = columns)\n",
    "chart\n"
   ]
  },
  {
   "cell_type": "markdown",
   "metadata": {
    "id": "-EgPIHYu_Zcu"
   },
   "source": [
    "**Выводы**\n",
    "\n",
    "Данные показывают разницу поведения пользователей:\n",
    "\n",
    "- В Москве пик прослушиваний приходится на понедельник и пятницу, а в среду заметен спад.\n",
    "- В Петербурге, наоборот, больше слушают музыку по средам. Активность в понедельник и пятницу здесь почти в равной мере уступает среде.\n",
    "\n",
    "Значит, данные говорят в пользу первой гипотезы."
   ]
  },
  {
   "cell_type": "markdown",
   "metadata": {
    "id": "atZAxtq4_Zcu"
   },
   "source": [
    "### Музыка в начале и в конце недели"
   ]
  },
  {
   "cell_type": "markdown",
   "metadata": {
    "id": "eXrQqXFH_Zcu"
   },
   "source": [
    "Согласно второй гипотезе, утром в понедельник в Москве преобладают одни жанры, а в Петербурге — другие. Так же и вечером пятницы преобладают разные жанры — в зависимости от города."
   ]
  },
  {
   "cell_type": "markdown",
   "metadata": {
    "id": "S8UcW6Hw_Zcu"
   },
   "source": [
    "Сохраним таблицы с данными в две переменные:\n",
    "* по Москве — в `moscow_general`;\n",
    "* по Санкт-Петербургу — в `spb_general`."
   ]
  },
  {
   "cell_type": "code",
   "execution_count": 28,
   "metadata": {
    "id": "qeaFfM_P_Zcu"
   },
   "outputs": [
    {
     "data": {
      "text/html": [
       "<div>\n",
       "<style scoped>\n",
       "    .dataframe tbody tr th:only-of-type {\n",
       "        vertical-align: middle;\n",
       "    }\n",
       "\n",
       "    .dataframe tbody tr th {\n",
       "        vertical-align: top;\n",
       "    }\n",
       "\n",
       "    .dataframe thead th {\n",
       "        text-align: right;\n",
       "    }\n",
       "</style>\n",
       "<table border=\"1\" class=\"dataframe\">\n",
       "  <thead>\n",
       "    <tr style=\"text-align: right;\">\n",
       "      <th></th>\n",
       "      <th>user_id</th>\n",
       "      <th>track</th>\n",
       "      <th>artist</th>\n",
       "      <th>genre</th>\n",
       "      <th>city</th>\n",
       "      <th>time</th>\n",
       "      <th>day</th>\n",
       "    </tr>\n",
       "  </thead>\n",
       "  <tbody>\n",
       "    <tr>\n",
       "      <th>1</th>\n",
       "      <td>55204538</td>\n",
       "      <td>Delayed Because of Accident</td>\n",
       "      <td>Andreas Rönnberg</td>\n",
       "      <td>rock</td>\n",
       "      <td>Moscow</td>\n",
       "      <td>14:07:09</td>\n",
       "      <td>Friday</td>\n",
       "    </tr>\n",
       "    <tr>\n",
       "      <th>4</th>\n",
       "      <td>E2DC1FAE</td>\n",
       "      <td>Soul People</td>\n",
       "      <td>Space Echo</td>\n",
       "      <td>dance</td>\n",
       "      <td>Moscow</td>\n",
       "      <td>08:34:34</td>\n",
       "      <td>Monday</td>\n",
       "    </tr>\n",
       "    <tr>\n",
       "      <th>6</th>\n",
       "      <td>4CB90AA5</td>\n",
       "      <td>True</td>\n",
       "      <td>Roman Messer</td>\n",
       "      <td>dance</td>\n",
       "      <td>Moscow</td>\n",
       "      <td>13:00:07</td>\n",
       "      <td>Wednesday</td>\n",
       "    </tr>\n",
       "    <tr>\n",
       "      <th>7</th>\n",
       "      <td>F03E1C1F</td>\n",
       "      <td>Feeling This Way</td>\n",
       "      <td>Polina Griffith</td>\n",
       "      <td>dance</td>\n",
       "      <td>Moscow</td>\n",
       "      <td>20:47:49</td>\n",
       "      <td>Wednesday</td>\n",
       "    </tr>\n",
       "    <tr>\n",
       "      <th>8</th>\n",
       "      <td>8FA1D3BE</td>\n",
       "      <td>И вновь продолжается бой</td>\n",
       "      <td>unknown</td>\n",
       "      <td>ruspop</td>\n",
       "      <td>Moscow</td>\n",
       "      <td>09:17:40</td>\n",
       "      <td>Friday</td>\n",
       "    </tr>\n",
       "  </tbody>\n",
       "</table>\n",
       "</div>"
      ],
      "text/plain": [
       "    user_id                        track            artist   genre    city  \\\n",
       "1  55204538  Delayed Because of Accident  Andreas Rönnberg    rock  Moscow   \n",
       "4  E2DC1FAE                  Soul People        Space Echo   dance  Moscow   \n",
       "6  4CB90AA5                         True      Roman Messer   dance  Moscow   \n",
       "7  F03E1C1F             Feeling This Way   Polina Griffith   dance  Moscow   \n",
       "8  8FA1D3BE     И вновь продолжается бой           unknown  ruspop  Moscow   \n",
       "\n",
       "       time        day  \n",
       "1  14:07:09     Friday  \n",
       "4  08:34:34     Monday  \n",
       "6  13:00:07  Wednesday  \n",
       "7  20:47:49  Wednesday  \n",
       "8  09:17:40     Friday  "
      ]
     },
     "execution_count": 28,
     "metadata": {},
     "output_type": "execute_result"
    }
   ],
   "source": [
    "moscow_general = df[df['city'] == 'Moscow']\n",
    "moscow_general.head() # получение таблицы moscow_general из тех строк таблицы df, \n",
    "# для которых значение в столбце 'city' равно 'Moscow'\n"
   ]
  },
  {
   "cell_type": "code",
   "execution_count": 29,
   "metadata": {
    "id": "ORaVRKto_Zcu"
   },
   "outputs": [
    {
     "data": {
      "text/html": [
       "<div>\n",
       "<style scoped>\n",
       "    .dataframe tbody tr th:only-of-type {\n",
       "        vertical-align: middle;\n",
       "    }\n",
       "\n",
       "    .dataframe tbody tr th {\n",
       "        vertical-align: top;\n",
       "    }\n",
       "\n",
       "    .dataframe thead th {\n",
       "        text-align: right;\n",
       "    }\n",
       "</style>\n",
       "<table border=\"1\" class=\"dataframe\">\n",
       "  <thead>\n",
       "    <tr style=\"text-align: right;\">\n",
       "      <th></th>\n",
       "      <th>user_id</th>\n",
       "      <th>track</th>\n",
       "      <th>artist</th>\n",
       "      <th>genre</th>\n",
       "      <th>city</th>\n",
       "      <th>time</th>\n",
       "      <th>day</th>\n",
       "    </tr>\n",
       "  </thead>\n",
       "  <tbody>\n",
       "    <tr>\n",
       "      <th>0</th>\n",
       "      <td>FFB692EC</td>\n",
       "      <td>Kamigata To Boots</td>\n",
       "      <td>The Mass Missile</td>\n",
       "      <td>rock</td>\n",
       "      <td>Saint-Petersburg</td>\n",
       "      <td>20:28:33</td>\n",
       "      <td>Wednesday</td>\n",
       "    </tr>\n",
       "    <tr>\n",
       "      <th>2</th>\n",
       "      <td>20EC38</td>\n",
       "      <td>Funiculì funiculà</td>\n",
       "      <td>Mario Lanza</td>\n",
       "      <td>pop</td>\n",
       "      <td>Saint-Petersburg</td>\n",
       "      <td>20:58:07</td>\n",
       "      <td>Wednesday</td>\n",
       "    </tr>\n",
       "    <tr>\n",
       "      <th>3</th>\n",
       "      <td>A3DD03C9</td>\n",
       "      <td>Dragons in the Sunset</td>\n",
       "      <td>Fire + Ice</td>\n",
       "      <td>folk</td>\n",
       "      <td>Saint-Petersburg</td>\n",
       "      <td>08:37:09</td>\n",
       "      <td>Monday</td>\n",
       "    </tr>\n",
       "    <tr>\n",
       "      <th>5</th>\n",
       "      <td>842029A1</td>\n",
       "      <td>Преданная</td>\n",
       "      <td>IMPERVTOR</td>\n",
       "      <td>rusrap</td>\n",
       "      <td>Saint-Petersburg</td>\n",
       "      <td>13:09:41</td>\n",
       "      <td>Friday</td>\n",
       "    </tr>\n",
       "    <tr>\n",
       "      <th>9</th>\n",
       "      <td>E772D5C0</td>\n",
       "      <td>Pessimist</td>\n",
       "      <td>unknown</td>\n",
       "      <td>dance</td>\n",
       "      <td>Saint-Petersburg</td>\n",
       "      <td>21:20:49</td>\n",
       "      <td>Wednesday</td>\n",
       "    </tr>\n",
       "  </tbody>\n",
       "</table>\n",
       "</div>"
      ],
      "text/plain": [
       "    user_id                  track            artist   genre  \\\n",
       "0  FFB692EC      Kamigata To Boots  The Mass Missile    rock   \n",
       "2    20EC38      Funiculì funiculà       Mario Lanza     pop   \n",
       "3  A3DD03C9  Dragons in the Sunset        Fire + Ice    folk   \n",
       "5  842029A1              Преданная         IMPERVTOR  rusrap   \n",
       "9  E772D5C0              Pessimist           unknown   dance   \n",
       "\n",
       "               city      time        day  \n",
       "0  Saint-Petersburg  20:28:33  Wednesday  \n",
       "2  Saint-Petersburg  20:58:07  Wednesday  \n",
       "3  Saint-Petersburg  08:37:09     Monday  \n",
       "5  Saint-Petersburg  13:09:41     Friday  \n",
       "9  Saint-Petersburg  21:20:49  Wednesday  "
      ]
     },
     "execution_count": 29,
     "metadata": {},
     "output_type": "execute_result"
    }
   ],
   "source": [
    "spb_general = df[df['city'] == 'Saint-Petersburg']\n",
    "spb_general.head() # получение таблицы spb_general из тех строк таблицы df,\n",
    "# для которых значение в столбце 'city' равно 'Saint-Petersburg'\n"
   ]
  },
  {
   "cell_type": "markdown",
   "metadata": {
    "id": "MEJV-CX2_Zcu"
   },
   "source": [
    "Создадим функцию `genre_weekday()` с четырьмя параметрами:\n",
    "* таблица (датафрейм) с данными,\n",
    "* день недели,\n",
    "* начальная временная метка в формате 'hh:mm', \n",
    "* последняя временная метка в формате 'hh:mm'.\n",
    "\n",
    "Функция должна вернуть информацию о топ-10 жанров тех треков, которые прослушивали в указанный день, в промежутке между двумя отметками времени."
   ]
  },
  {
   "cell_type": "code",
   "execution_count": 31,
   "metadata": {
    "id": "laJT9BYl_Zcu"
   },
   "outputs": [],
   "source": [
    "def genre_weekday(table, day, time1, time2):\n",
    "    genre_df = table[(table['day'] == day) & (table['time'] > time1) & (table['time'] < time2)]\n",
    "    genre_df_count = genre_df.groupby('genre')['city'].count()\n",
    "    genre_df_sorted = genre_df_count.sort_values(ascending = False).head(10)\n",
    "    return genre_df_sorted"
   ]
  },
  {
   "cell_type": "markdown",
   "metadata": {
    "id": "la2s2_PF_Zcu"
   },
   "source": [
    "Cравним результаты функции `genre_weekday()` для Москвы и Санкт-Петербурга в понедельник утром (с 7:00 до 11:00) и в пятницу вечером (с 17:00 до 23:00):"
   ]
  },
  {
   "cell_type": "code",
   "execution_count": 32,
   "metadata": {
    "id": "yz7itPUQ_Zcu"
   },
   "outputs": [
    {
     "data": {
      "text/plain": [
       "genre\n",
       "pop            781\n",
       "dance          549\n",
       "electronic     480\n",
       "rock           474\n",
       "hiphop         286\n",
       "ruspop         186\n",
       "world          181\n",
       "rusrap         175\n",
       "alternative    164\n",
       "unknown        161\n",
       "Name: city, dtype: int64"
      ]
     },
     "execution_count": 32,
     "metadata": {},
     "output_type": "execute_result"
    }
   ],
   "source": [
    "genre_weekday(moscow_general, 'Monday', '07:00', '11:00')\n",
    "# вызов функции для утра понедельника в Москве (вместо df — таблица moscow_general)\n",
    "# объекты, хранящие время, являются строками и сравниваются как строки\n",
    "# пример вызова: genre_weekday(moscow_general, 'Monday', '07:00', '11:00')"
   ]
  },
  {
   "cell_type": "code",
   "execution_count": 34,
   "metadata": {
    "id": "kwUcHPdy_Zcu"
   },
   "outputs": [
    {
     "data": {
      "text/plain": [
       "genre\n",
       "pop            218\n",
       "dance          182\n",
       "rock           162\n",
       "electronic     147\n",
       "hiphop          80\n",
       "ruspop          64\n",
       "alternative     58\n",
       "rusrap          55\n",
       "jazz            44\n",
       "classical       40\n",
       "Name: city, dtype: int64"
      ]
     },
     "execution_count": 34,
     "metadata": {},
     "output_type": "execute_result"
    }
   ],
   "source": [
    "# вызов функции для утра понедельника в Петербурге (вместо df — таблица spb_general)\n",
    "genre_weekday(spb_general, 'Monday', '07:00', '11:00') "
   ]
  },
  {
   "cell_type": "code",
   "execution_count": 35,
   "metadata": {
    "id": "EzXVRE1o_Zcu"
   },
   "outputs": [
    {
     "data": {
      "text/plain": [
       "genre\n",
       "pop            713\n",
       "rock           517\n",
       "dance          495\n",
       "electronic     482\n",
       "hiphop         273\n",
       "world          208\n",
       "ruspop         170\n",
       "alternative    163\n",
       "classical      163\n",
       "rusrap         142\n",
       "Name: city, dtype: int64"
      ]
     },
     "execution_count": 35,
     "metadata": {},
     "output_type": "execute_result"
    }
   ],
   "source": [
    "genre_weekday(moscow_general, 'Friday', '17:00', '23:00') # вызов функции для вечера пятницы в Москве"
   ]
  },
  {
   "cell_type": "code",
   "execution_count": 36,
   "metadata": {
    "id": "JZaEKu5v_Zcu"
   },
   "outputs": [
    {
     "data": {
      "text/plain": [
       "genre\n",
       "pop            256\n",
       "electronic     216\n",
       "rock           216\n",
       "dance          210\n",
       "hiphop          97\n",
       "alternative     63\n",
       "jazz            61\n",
       "classical       60\n",
       "rusrap          59\n",
       "world           54\n",
       "Name: city, dtype: int64"
      ]
     },
     "execution_count": 36,
     "metadata": {},
     "output_type": "execute_result"
    }
   ],
   "source": [
    "genre_weekday(spb_general, 'Friday', '17:00', '23:00') # вызов функции для вечера пятницы в Петербурге"
   ]
  },
  {
   "cell_type": "markdown",
   "metadata": {
    "id": "wrCe4MNX_Zcu"
   },
   "source": [
    "**Выводы**\n",
    "\n",
    "Если сравнить топ-10 жанров в понедельник утром, можно сделать такие выводы:\n",
    "\n",
    "1. В Москве и Петербурге слушают похожую музыку. Единственное отличие — в московский рейтинг вошёл жанр “world”, а в петербургский — джаз и классика.\n",
    "\n",
    "2. В Москве пропущенных значений оказалось так много, что значение `'unknown'` заняло десятое место среди самых популярных жанров. Значит, пропущенные значения занимают существенную долю в данных и угрожают достоверности исследования.\n",
    "\n",
    "Вечер пятницы не меняет эту картину. Некоторые жанры поднимаются немного выше, другие спускаются, но в целом топ-10 остаётся тем же самым.\n",
    "\n",
    "Таким образом, вторая гипотеза подтвердилась лишь частично:\n",
    "* Пользователи слушают похожую музыку в начале недели и в конце.\n",
    "* Разница между Москвой и Петербургом не слишком выражена. В Москве чаще слушают русскую популярную музыку, в Петербурге — джаз.\n",
    "\n",
    "Однако пропуски в данных ставят под сомнение этот результат. В Москве их так много, что рейтинг топ-10 мог бы выглядеть иначе, если бы не утерянные  данные о жанрах."
   ]
  },
  {
   "cell_type": "markdown",
   "metadata": {
    "id": "JolODAqr_Zcu"
   },
   "source": [
    "### Жанровые предпочтения в Москве и Петербурге\n",
    "\n",
    "Гипотеза: Петербург — столица рэпа, музыку этого жанра там слушают чаще, чем в Москве.  А Москва — город контрастов, в котором, тем не менее, преобладает поп-музыка."
   ]
  },
  {
   "cell_type": "markdown",
   "metadata": {
    "id": "DlegSvaT_Zcu"
   },
   "source": [
    "Сгруппируем таблицу `moscow_general` по жанру и посчитаем прослушивания треков каждого жанра методом `count()`. Затем отсортируем результат в порядке убывания и сохраним его в таблице `moscow_genres`."
   ]
  },
  {
   "cell_type": "code",
   "execution_count": 37,
   "metadata": {
    "id": "r19lIPke_Zcu"
   },
   "outputs": [],
   "source": [
    "moscow_genres = moscow_general.groupby('genre')['genre'].count().sort_values(ascending = False)\n",
    "# одной строкой: группировка таблицы moscow_general по столбцу 'genre', \n",
    "# подсчёт числа значений 'genre' в этой группировке методом count(), \n",
    "# сортировка получившегося Series в порядке убывания и сохранение в moscow_genres"
   ]
  },
  {
   "cell_type": "code",
   "execution_count": 38,
   "metadata": {
    "id": "WhCSooF8_Zcv"
   },
   "outputs": [
    {
     "data": {
      "text/plain": [
       "genre\n",
       "pop            5892\n",
       "dance          4435\n",
       "rock           3965\n",
       "electronic     3786\n",
       "hiphop         2096\n",
       "classical      1616\n",
       "world          1432\n",
       "alternative    1379\n",
       "ruspop         1372\n",
       "rusrap         1161\n",
       "Name: genre, dtype: int64"
      ]
     },
     "execution_count": 38,
     "metadata": {},
     "output_type": "execute_result"
    }
   ],
   "source": [
    "moscow_genres.head(10) # просмотр первых 10 строк moscow_genres"
   ]
  },
  {
   "cell_type": "markdown",
   "metadata": {
    "id": "cnPG2vnN_Zcv"
   },
   "source": [
    "Теперь повторим то же и для Петербурга.\n",
    "\n"
   ]
  },
  {
   "cell_type": "code",
   "execution_count": 39,
   "metadata": {
    "id": "gluLIpE7_Zcv"
   },
   "outputs": [],
   "source": [
    "spb_genres = spb_general.groupby('genre')['genre'].count().sort_values(ascending = False)\n",
    "# одной строкой: группировка таблицы spb_general по столбцу 'genre', \n",
    "# подсчёт числа значений 'genre' в этой группировке методом count(), \n",
    "# сортировка получившегося Series в порядке убывания и сохранение в spb_genres"
   ]
  },
  {
   "cell_type": "code",
   "execution_count": 40,
   "metadata": {
    "id": "uaGJHjVU_Zcv"
   },
   "outputs": [
    {
     "data": {
      "text/plain": [
       "genre\n",
       "pop            2431\n",
       "dance          1932\n",
       "rock           1879\n",
       "electronic     1736\n",
       "hiphop          960\n",
       "alternative     649\n",
       "classical       646\n",
       "rusrap          564\n",
       "ruspop          538\n",
       "world           515\n",
       "Name: genre, dtype: int64"
      ]
     },
     "execution_count": 40,
     "metadata": {},
     "output_type": "execute_result"
    }
   ],
   "source": [
    "spb_genres.head(10) # просмотр первых 10 строк spb_genres"
   ]
  },
  {
   "cell_type": "markdown",
   "metadata": {
    "id": "RY51YJYu_Zcv"
   },
   "source": [
    "**Выводы**"
   ]
  },
  {
   "cell_type": "markdown",
   "metadata": {
    "id": "nVhnJEm__Zcv"
   },
   "source": [
    "Гипотеза частично подтвердилась:\n",
    "* Поп-музыка — самый популярный жанр в Москве, как и предполагала гипотеза. Более того, в топ-10 жанров встречается близкий жанр — русская популярная музыка.\n",
    "* Вопреки ожиданиям, рэп одинаково популярен в Москве и Петербурге. \n"
   ]
  },
  {
   "cell_type": "markdown",
   "metadata": {
    "id": "ykKQ0N65_Zcv"
   },
   "source": [
    "## Итоги исследования"
   ]
  },
  {
   "cell_type": "markdown",
   "metadata": {
    "id": "tjUwbHb3_Zcv"
   },
   "source": [
    "Мы проверили три гипотезы и установили:\n",
    "\n",
    "1. День недели по-разному влияет на активность пользователей в Москве и Петербурге. \n",
    "\n",
    "Первая гипотеза полностью подтвердилась.\n",
    "\n",
    "2. Музыкальные предпочтения не сильно меняются в течение недели — будь то Москва или Петербург. Небольшие различия заметны в начале недели, по понедельникам:\n",
    "* в Москве слушают музыку жанра “world”,\n",
    "* в Петербурге — джаз и классику.\n",
    "\n",
    "Таким образом, вторая гипотеза подтвердилась лишь отчасти. Этот результат мог оказаться иным, если бы не пропуски в данных.\n",
    "\n",
    "3. Во вкусах пользователей Москвы и Петербурга больше общего чем различий. Вопреки ожиданиям, предпочтения жанров в Петербурге напоминают московские.\n",
    "\n",
    "Третья гипотеза не подтвердилась. Если различия в предпочтениях и существуют, на основной массе пользователей они незаметны.\n",
    "\n"
   ]
  }
 ],
 "metadata": {
  "ExecuteTimeLog": [
   {
    "duration": 242,
    "start_time": "2022-05-08T16:43:21.547Z"
   },
   {
    "duration": 196,
    "start_time": "2022-05-08T16:50:06.899Z"
   },
   {
    "duration": 185,
    "start_time": "2022-05-08T16:50:23.139Z"
   },
   {
    "duration": 191,
    "start_time": "2022-05-08T16:50:38.889Z"
   },
   {
    "duration": 223,
    "start_time": "2022-05-08T16:52:13.222Z"
   },
   {
    "duration": 189,
    "start_time": "2022-05-08T16:52:55.866Z"
   },
   {
    "duration": 189,
    "start_time": "2022-05-08T16:53:07.362Z"
   },
   {
    "duration": 7,
    "start_time": "2022-05-08T16:53:26.432Z"
   },
   {
    "duration": 7,
    "start_time": "2022-05-08T16:53:38.548Z"
   },
   {
    "duration": 6,
    "start_time": "2022-05-08T16:54:00.745Z"
   },
   {
    "duration": 6,
    "start_time": "2022-05-08T16:54:19.618Z"
   },
   {
    "duration": 67,
    "start_time": "2022-05-08T16:56:01.620Z"
   },
   {
    "duration": 7,
    "start_time": "2022-05-08T16:56:08.029Z"
   },
   {
    "duration": 6,
    "start_time": "2022-05-08T16:58:18.761Z"
   },
   {
    "duration": 6,
    "start_time": "2022-05-08T16:58:31.365Z"
   },
   {
    "duration": 68,
    "start_time": "2022-05-08T17:00:55.288Z"
   },
   {
    "duration": 8,
    "start_time": "2022-05-08T17:00:59.715Z"
   },
   {
    "duration": 484,
    "start_time": "2022-05-08T17:01:11.074Z"
   },
   {
    "duration": 122,
    "start_time": "2022-05-08T17:01:20.636Z"
   },
   {
    "duration": 120,
    "start_time": "2022-05-08T17:01:39.351Z"
   },
   {
    "duration": 7,
    "start_time": "2022-05-08T17:01:46.505Z"
   },
   {
    "duration": 489,
    "start_time": "2022-05-08T17:03:38.711Z"
   },
   {
    "duration": 148,
    "start_time": "2022-05-08T17:05:38.267Z"
   },
   {
    "duration": 9,
    "start_time": "2022-05-08T17:05:49.536Z"
   },
   {
    "duration": 11,
    "start_time": "2022-05-08T17:06:02.222Z"
   },
   {
    "duration": 39,
    "start_time": "2022-05-08T17:06:57.662Z"
   },
   {
    "duration": 11,
    "start_time": "2022-05-08T17:13:26.731Z"
   },
   {
    "duration": 3,
    "start_time": "2022-05-08T17:19:43.002Z"
   },
   {
    "duration": 19,
    "start_time": "2022-05-08T19:08:33.407Z"
   },
   {
    "duration": 5,
    "start_time": "2022-05-08T19:10:06.716Z"
   },
   {
    "duration": 3,
    "start_time": "2022-05-08T19:10:15.552Z"
   },
   {
    "duration": 60,
    "start_time": "2022-05-08T19:10:35.729Z"
   },
   {
    "duration": 9,
    "start_time": "2022-05-08T19:11:07.438Z"
   },
   {
    "duration": 9,
    "start_time": "2022-05-08T19:11:35.819Z"
   },
   {
    "duration": 35,
    "start_time": "2022-05-08T19:12:27.485Z"
   },
   {
    "duration": 8,
    "start_time": "2022-05-08T19:13:09.834Z"
   },
   {
    "duration": 31,
    "start_time": "2022-05-08T19:13:13.915Z"
   },
   {
    "duration": 15,
    "start_time": "2022-05-08T19:13:39.253Z"
   },
   {
    "duration": 52,
    "start_time": "2022-05-08T19:13:40.895Z"
   },
   {
    "duration": 23,
    "start_time": "2022-05-08T19:16:03.361Z"
   },
   {
    "duration": 11,
    "start_time": "2022-05-08T19:32:17.586Z"
   },
   {
    "duration": 35,
    "start_time": "2022-05-08T19:33:31.827Z"
   },
   {
    "duration": 7,
    "start_time": "2022-05-08T19:34:53.978Z"
   },
   {
    "duration": 7,
    "start_time": "2022-05-08T19:35:14.046Z"
   },
   {
    "duration": 8,
    "start_time": "2022-05-08T19:35:41.976Z"
   },
   {
    "duration": 38,
    "start_time": "2022-05-08T19:35:48.049Z"
   },
   {
    "duration": 4233,
    "start_time": "2022-05-08T19:40:35.521Z"
   },
   {
    "duration": 30,
    "start_time": "2022-05-08T19:40:44.211Z"
   },
   {
    "duration": 18,
    "start_time": "2022-05-08T19:44:10.185Z"
   },
   {
    "duration": 19,
    "start_time": "2022-05-08T19:44:22.719Z"
   },
   {
    "duration": 22,
    "start_time": "2022-05-08T19:44:28.132Z"
   },
   {
    "duration": 23,
    "start_time": "2022-05-08T19:44:40.426Z"
   },
   {
    "duration": 11,
    "start_time": "2022-05-08T19:48:57.675Z"
   },
   {
    "duration": 21,
    "start_time": "2022-05-08T19:49:37.626Z"
   },
   {
    "duration": 23,
    "start_time": "2022-05-08T19:49:44.269Z"
   },
   {
    "duration": 12,
    "start_time": "2022-05-08T19:57:26.798Z"
   },
   {
    "duration": 104,
    "start_time": "2022-05-08T19:57:39.115Z"
   },
   {
    "duration": 25,
    "start_time": "2022-05-08T19:57:50.992Z"
   },
   {
    "duration": 3096,
    "start_time": "2022-05-08T20:18:17.822Z"
   },
   {
    "duration": 2983,
    "start_time": "2022-05-08T20:18:49.214Z"
   },
   {
    "duration": 5,
    "start_time": "2022-05-08T20:28:03.348Z"
   },
   {
    "duration": 24,
    "start_time": "2022-05-08T20:34:02.440Z"
   },
   {
    "duration": 27,
    "start_time": "2022-05-08T20:39:34.685Z"
   },
   {
    "duration": 37,
    "start_time": "2022-05-08T20:39:39.049Z"
   },
   {
    "duration": 10,
    "start_time": "2022-05-08T20:40:28.918Z"
   },
   {
    "duration": 27,
    "start_time": "2022-05-08T20:40:55.424Z"
   },
   {
    "duration": 4,
    "start_time": "2022-05-08T20:41:04.179Z"
   },
   {
    "duration": 10,
    "start_time": "2022-05-08T20:41:10.036Z"
   },
   {
    "duration": 47,
    "start_time": "2022-05-08T20:41:23.302Z"
   },
   {
    "duration": 40,
    "start_time": "2022-05-08T20:41:27.525Z"
   },
   {
    "duration": 24,
    "start_time": "2022-05-08T20:41:30.977Z"
   },
   {
    "duration": 38,
    "start_time": "2022-05-08T20:41:33.728Z"
   },
   {
    "duration": 89,
    "start_time": "2022-05-08T20:42:53.782Z"
   },
   {
    "duration": 78,
    "start_time": "2022-05-08T20:43:24.937Z"
   },
   {
    "duration": 91,
    "start_time": "2022-05-08T20:43:46.398Z"
   },
   {
    "duration": 55,
    "start_time": "2022-05-08T20:56:25.891Z"
   },
   {
    "duration": 70,
    "start_time": "2022-05-08T20:58:43.991Z"
   },
   {
    "duration": 59,
    "start_time": "2022-05-08T20:58:47.273Z"
   },
   {
    "duration": 7,
    "start_time": "2022-05-08T21:00:17.561Z"
   },
   {
    "duration": 11,
    "start_time": "2022-05-08T21:03:14.973Z"
   },
   {
    "duration": 8,
    "start_time": "2022-05-08T21:05:06.125Z"
   },
   {
    "duration": 7,
    "start_time": "2022-05-08T21:19:47.157Z"
   },
   {
    "duration": 8,
    "start_time": "2022-05-08T21:20:05.508Z"
   },
   {
    "duration": 9,
    "start_time": "2022-05-08T21:20:53.611Z"
   },
   {
    "duration": 7,
    "start_time": "2022-05-08T21:34:56.980Z"
   },
   {
    "duration": 7,
    "start_time": "2022-05-08T21:37:35.539Z"
   },
   {
    "duration": 3,
    "start_time": "2022-05-08T21:38:15.949Z"
   },
   {
    "duration": 10,
    "start_time": "2022-05-08T21:38:30.144Z"
   },
   {
    "duration": 12,
    "start_time": "2022-05-08T21:39:21.094Z"
   },
   {
    "duration": 14,
    "start_time": "2022-05-08T21:40:28.899Z"
   },
   {
    "duration": 8,
    "start_time": "2022-05-08T21:43:08.813Z"
   },
   {
    "duration": 31,
    "start_time": "2022-05-08T21:51:59.628Z"
   },
   {
    "duration": 37,
    "start_time": "2022-05-08T21:53:41.448Z"
   },
   {
    "duration": 9,
    "start_time": "2022-05-09T13:38:38.732Z"
   },
   {
    "duration": 4,
    "start_time": "2022-05-09T13:38:44.988Z"
   },
   {
    "duration": 40,
    "start_time": "2022-05-09T13:40:20.377Z"
   },
   {
    "duration": 3,
    "start_time": "2022-05-09T13:57:08.498Z"
   },
   {
    "duration": 6,
    "start_time": "2022-05-09T13:57:12.015Z"
   },
   {
    "duration": 5,
    "start_time": "2022-05-09T13:57:17.335Z"
   },
   {
    "duration": 7,
    "start_time": "2022-05-09T13:57:57.647Z"
   },
   {
    "duration": 4,
    "start_time": "2022-05-09T13:58:38.191Z"
   },
   {
    "duration": 8,
    "start_time": "2022-05-09T13:58:42.808Z"
   },
   {
    "duration": 6,
    "start_time": "2022-05-09T13:59:51.632Z"
   },
   {
    "duration": 4,
    "start_time": "2022-05-09T14:08:22.816Z"
   },
   {
    "duration": 6,
    "start_time": "2022-05-09T14:08:25.018Z"
   },
   {
    "duration": 6,
    "start_time": "2022-05-09T14:09:13.061Z"
   },
   {
    "duration": 2,
    "start_time": "2022-05-09T14:09:14.566Z"
   },
   {
    "duration": 4,
    "start_time": "2022-05-09T14:09:32.717Z"
   },
   {
    "duration": 8,
    "start_time": "2022-05-09T14:09:40.810Z"
   },
   {
    "duration": 4,
    "start_time": "2022-05-09T14:16:42.459Z"
   },
   {
    "duration": 7,
    "start_time": "2022-05-09T14:16:46.958Z"
   },
   {
    "duration": 424,
    "start_time": "2022-05-09T14:17:18.178Z"
   },
   {
    "duration": 154,
    "start_time": "2022-05-09T14:17:29.862Z"
   },
   {
    "duration": 17,
    "start_time": "2022-05-09T14:17:39.980Z"
   },
   {
    "duration": 28,
    "start_time": "2022-05-09T14:17:53.884Z"
   },
   {
    "duration": 3,
    "start_time": "2022-05-09T14:18:10.177Z"
   },
   {
    "duration": 11,
    "start_time": "2022-05-09T14:18:31.237Z"
   },
   {
    "duration": 28,
    "start_time": "2022-05-09T14:18:36.545Z"
   },
   {
    "duration": 23,
    "start_time": "2022-05-09T14:18:47.324Z"
   },
   {
    "duration": 20,
    "start_time": "2022-05-09T14:18:58.122Z"
   },
   {
    "duration": 24,
    "start_time": "2022-05-09T14:19:01.537Z"
   },
   {
    "duration": 65,
    "start_time": "2022-05-09T14:19:09.812Z"
   },
   {
    "duration": 76,
    "start_time": "2022-05-09T14:19:13.402Z"
   },
   {
    "duration": 58,
    "start_time": "2022-05-09T14:19:17.467Z"
   },
   {
    "duration": 8,
    "start_time": "2022-05-09T14:19:22.124Z"
   },
   {
    "duration": 2,
    "start_time": "2022-05-09T14:19:33.123Z"
   },
   {
    "duration": 9,
    "start_time": "2022-05-09T14:19:34.792Z"
   },
   {
    "duration": 8,
    "start_time": "2022-05-09T14:19:45.525Z"
   },
   {
    "duration": 34,
    "start_time": "2022-05-09T14:20:00.748Z"
   },
   {
    "duration": 33,
    "start_time": "2022-05-09T14:20:09.580Z"
   },
   {
    "duration": 3,
    "start_time": "2022-05-09T14:20:21.998Z"
   },
   {
    "duration": 11,
    "start_time": "2022-05-09T14:20:42.705Z"
   },
   {
    "duration": 11,
    "start_time": "2022-05-09T14:21:06.149Z"
   },
   {
    "duration": 3,
    "start_time": "2022-05-09T14:21:16.242Z"
   },
   {
    "duration": 11,
    "start_time": "2022-05-09T14:21:17.625Z"
   },
   {
    "duration": 29,
    "start_time": "2022-05-09T14:22:09.334Z"
   },
   {
    "duration": 7,
    "start_time": "2022-05-09T14:47:45.700Z"
   },
   {
    "duration": 3,
    "start_time": "2022-05-09T14:47:47.315Z"
   },
   {
    "duration": 3,
    "start_time": "2022-05-09T14:47:51.600Z"
   },
   {
    "duration": 8,
    "start_time": "2022-05-09T14:47:53.673Z"
   },
   {
    "duration": 4,
    "start_time": "2022-05-09T14:48:20.637Z"
   },
   {
    "duration": 11,
    "start_time": "2022-05-09T14:48:26.093Z"
   },
   {
    "duration": 11,
    "start_time": "2022-05-09T14:50:02.921Z"
   },
   {
    "duration": 4,
    "start_time": "2022-05-09T14:50:36.171Z"
   },
   {
    "duration": 147,
    "start_time": "2022-05-09T14:50:41.724Z"
   },
   {
    "duration": 11,
    "start_time": "2022-05-09T14:50:46.762Z"
   },
   {
    "duration": 27,
    "start_time": "2022-05-09T14:50:59.012Z"
   },
   {
    "duration": 4,
    "start_time": "2022-05-09T14:51:21.173Z"
   },
   {
    "duration": 11,
    "start_time": "2022-05-09T14:51:24.745Z"
   },
   {
    "duration": 27,
    "start_time": "2022-05-09T14:51:34.102Z"
   },
   {
    "duration": 24,
    "start_time": "2022-05-09T14:51:44.396Z"
   },
   {
    "duration": 17,
    "start_time": "2022-05-09T14:51:52.547Z"
   },
   {
    "duration": 27,
    "start_time": "2022-05-09T14:51:55.081Z"
   },
   {
    "duration": 61,
    "start_time": "2022-05-09T14:52:03.920Z"
   },
   {
    "duration": 68,
    "start_time": "2022-05-09T14:52:06.056Z"
   },
   {
    "duration": 55,
    "start_time": "2022-05-09T14:52:07.334Z"
   },
   {
    "duration": 8,
    "start_time": "2022-05-09T14:52:10.516Z"
   },
   {
    "duration": 3,
    "start_time": "2022-05-09T14:52:18.124Z"
   },
   {
    "duration": 12,
    "start_time": "2022-05-09T14:52:19.275Z"
   },
   {
    "duration": 9,
    "start_time": "2022-05-09T14:52:20.804Z"
   },
   {
    "duration": 55,
    "start_time": "2022-05-09T14:52:30.353Z"
   },
   {
    "duration": 32,
    "start_time": "2022-05-09T14:52:40.518Z"
   },
   {
    "duration": 5,
    "start_time": "2022-05-09T14:52:48.404Z"
   },
   {
    "duration": 10,
    "start_time": "2022-05-09T14:52:56.272Z"
   },
   {
    "duration": 10,
    "start_time": "2022-05-09T14:52:57.321Z"
   },
   {
    "duration": 12,
    "start_time": "2022-05-09T14:54:10.995Z"
   },
   {
    "duration": 11,
    "start_time": "2022-05-09T14:55:49.344Z"
   },
   {
    "duration": 11,
    "start_time": "2022-05-09T14:55:58.423Z"
   },
   {
    "duration": 4,
    "start_time": "2022-05-09T15:00:23.949Z"
   },
   {
    "duration": 1864,
    "start_time": "2022-05-09T15:00:25.797Z"
   },
   {
    "duration": 3,
    "start_time": "2022-05-09T15:00:52.390Z"
   },
   {
    "duration": 11,
    "start_time": "2022-05-09T15:00:55.798Z"
   },
   {
    "duration": 3,
    "start_time": "2022-05-09T15:02:44.202Z"
   },
   {
    "duration": 16,
    "start_time": "2022-05-09T15:02:46.106Z"
   },
   {
    "duration": 14,
    "start_time": "2022-05-09T15:03:06.950Z"
   },
   {
    "duration": 14,
    "start_time": "2022-05-09T15:03:46.375Z"
   },
   {
    "duration": 12,
    "start_time": "2022-05-09T15:04:15.905Z"
   },
   {
    "duration": 15,
    "start_time": "2022-05-09T15:04:54.783Z"
   },
   {
    "duration": 15,
    "start_time": "2022-05-09T15:05:19.013Z"
   },
   {
    "duration": 13,
    "start_time": "2022-05-09T15:05:32.990Z"
   },
   {
    "duration": 6,
    "start_time": "2022-05-09T15:16:03.616Z"
   },
   {
    "duration": 6,
    "start_time": "2022-05-09T15:16:09.872Z"
   },
   {
    "duration": 7,
    "start_time": "2022-05-09T15:18:06.203Z"
   },
   {
    "duration": 9,
    "start_time": "2022-05-09T15:18:18.297Z"
   },
   {
    "duration": 12,
    "start_time": "2022-05-09T15:18:49.332Z"
   },
   {
    "duration": 12,
    "start_time": "2022-05-09T15:18:57.896Z"
   },
   {
    "duration": 17,
    "start_time": "2022-05-09T16:25:26.187Z"
   },
   {
    "duration": 23,
    "start_time": "2022-05-09T16:28:53.746Z"
   },
   {
    "duration": 6,
    "start_time": "2022-05-09T16:55:22.777Z"
   },
   {
    "duration": 18,
    "start_time": "2022-05-09T17:04:48.698Z"
   },
   {
    "duration": 4,
    "start_time": "2022-05-09T17:05:25.001Z"
   },
   {
    "duration": 20,
    "start_time": "2022-05-09T17:05:54.299Z"
   },
   {
    "duration": 5,
    "start_time": "2022-05-09T17:06:29.990Z"
   },
   {
    "duration": 20,
    "start_time": "2022-05-09T17:06:31.608Z"
   },
   {
    "duration": 4,
    "start_time": "2022-05-09T17:09:03.405Z"
   },
   {
    "duration": 22,
    "start_time": "2022-05-09T17:09:05.607Z"
   },
   {
    "duration": 6,
    "start_time": "2022-05-09T17:16:30.388Z"
   },
   {
    "duration": 13,
    "start_time": "2022-05-09T17:16:33.306Z"
   },
   {
    "duration": 9,
    "start_time": "2022-05-09T17:16:45.595Z"
   },
   {
    "duration": 13,
    "start_time": "2022-05-09T17:17:22.265Z"
   },
   {
    "duration": 6,
    "start_time": "2022-05-09T17:26:30.423Z"
   },
   {
    "duration": 38,
    "start_time": "2022-05-09T17:26:35.333Z"
   },
   {
    "duration": 33,
    "start_time": "2022-05-09T17:27:15.854Z"
   },
   {
    "duration": 3,
    "start_time": "2022-05-09T17:29:15.106Z"
   },
   {
    "duration": 15,
    "start_time": "2022-05-09T17:29:17.301Z"
   },
   {
    "duration": 5,
    "start_time": "2022-05-09T17:33:25.995Z"
   },
   {
    "duration": 13,
    "start_time": "2022-05-09T17:33:27.506Z"
   },
   {
    "duration": 5,
    "start_time": "2022-05-09T17:35:43.199Z"
   },
   {
    "duration": 13,
    "start_time": "2022-05-09T17:35:45.177Z"
   },
   {
    "duration": 6,
    "start_time": "2022-05-09T17:35:52.719Z"
   },
   {
    "duration": 14,
    "start_time": "2022-05-09T17:35:53.969Z"
   },
   {
    "duration": 5,
    "start_time": "2022-05-09T17:36:38.569Z"
   },
   {
    "duration": 23,
    "start_time": "2022-05-09T17:36:40.801Z"
   },
   {
    "duration": 4,
    "start_time": "2022-05-09T17:39:41.375Z"
   },
   {
    "duration": 23,
    "start_time": "2022-05-09T17:39:43.784Z"
   },
   {
    "duration": 28,
    "start_time": "2022-05-09T17:40:21.531Z"
   },
   {
    "duration": 15,
    "start_time": "2022-05-09T17:41:03.876Z"
   },
   {
    "duration": 23,
    "start_time": "2022-05-09T17:42:03.406Z"
   },
   {
    "duration": 23,
    "start_time": "2022-05-09T17:42:47.412Z"
   },
   {
    "duration": 2,
    "start_time": "2022-05-09T17:42:48.943Z"
   },
   {
    "duration": 24,
    "start_time": "2022-05-09T17:42:54.774Z"
   },
   {
    "duration": 5,
    "start_time": "2022-05-09T17:43:48.469Z"
   },
   {
    "duration": 44,
    "start_time": "2022-05-09T17:43:51.435Z"
   },
   {
    "duration": 25,
    "start_time": "2022-05-09T17:44:21.146Z"
   },
   {
    "duration": 35,
    "start_time": "2022-05-09T17:44:38.017Z"
   },
   {
    "duration": 4,
    "start_time": "2022-05-09T17:45:03.014Z"
   },
   {
    "duration": 42,
    "start_time": "2022-05-09T17:45:05.069Z"
   },
   {
    "duration": 6,
    "start_time": "2022-05-09T17:45:27.270Z"
   },
   {
    "duration": 37,
    "start_time": "2022-05-09T17:45:29.309Z"
   },
   {
    "duration": 21,
    "start_time": "2022-05-09T17:49:21.666Z"
   },
   {
    "duration": 14,
    "start_time": "2022-05-09T17:49:23.394Z"
   },
   {
    "duration": 35,
    "start_time": "2022-05-09T17:50:09.940Z"
   },
   {
    "duration": 19,
    "start_time": "2022-05-09T17:51:05.837Z"
   },
   {
    "duration": 3,
    "start_time": "2022-05-09T17:54:58.221Z"
   },
   {
    "duration": 1639,
    "start_time": "2022-05-09T17:54:59.063Z"
   },
   {
    "duration": 13,
    "start_time": "2022-05-09T17:55:00.705Z"
   },
   {
    "duration": 67,
    "start_time": "2022-05-09T17:55:00.721Z"
   },
   {
    "duration": 8,
    "start_time": "2022-05-09T17:55:00.790Z"
   },
   {
    "duration": 7,
    "start_time": "2022-05-09T17:55:01.283Z"
   },
   {
    "duration": 50,
    "start_time": "2022-05-09T17:55:01.606Z"
   },
   {
    "duration": 50,
    "start_time": "2022-05-09T17:55:01.945Z"
   },
   {
    "duration": 32,
    "start_time": "2022-05-09T17:55:02.383Z"
   },
   {
    "duration": 52,
    "start_time": "2022-05-09T17:55:02.711Z"
   },
   {
    "duration": 100,
    "start_time": "2022-05-09T17:55:03.044Z"
   },
   {
    "duration": 123,
    "start_time": "2022-05-09T17:55:03.385Z"
   },
   {
    "duration": 59,
    "start_time": "2022-05-09T17:55:03.679Z"
   },
   {
    "duration": 11,
    "start_time": "2022-05-09T17:55:04.375Z"
   },
   {
    "duration": 4,
    "start_time": "2022-05-09T17:55:04.705Z"
   },
   {
    "duration": 10,
    "start_time": "2022-05-09T17:55:05.082Z"
   },
   {
    "duration": 8,
    "start_time": "2022-05-09T17:55:05.426Z"
   },
   {
    "duration": 50,
    "start_time": "2022-05-09T17:55:06.736Z"
   },
   {
    "duration": 32,
    "start_time": "2022-05-09T17:55:07.606Z"
   },
   {
    "duration": 4,
    "start_time": "2022-05-09T17:55:09.278Z"
   },
   {
    "duration": 17,
    "start_time": "2022-05-09T17:55:09.691Z"
   },
   {
    "duration": 19,
    "start_time": "2022-05-09T17:55:11.337Z"
   },
   {
    "duration": 17,
    "start_time": "2022-05-09T17:55:12.079Z"
   },
   {
    "duration": 15,
    "start_time": "2022-05-09T17:55:12.907Z"
   },
   {
    "duration": 17,
    "start_time": "2022-05-09T17:55:13.827Z"
   },
   {
    "duration": 24,
    "start_time": "2022-05-09T17:55:15.049Z"
   },
   {
    "duration": 9,
    "start_time": "2022-05-09T17:55:19.722Z"
   },
   {
    "duration": 18,
    "start_time": "2022-05-09T17:55:24.683Z"
   },
   {
    "duration": 23,
    "start_time": "2022-05-09T17:55:26.267Z"
   },
   {
    "duration": 5,
    "start_time": "2022-05-09T17:55:27.821Z"
   },
   {
    "duration": 34,
    "start_time": "2022-05-09T17:55:29.956Z"
   },
   {
    "duration": 22,
    "start_time": "2022-05-09T17:55:33.967Z"
   },
   {
    "duration": 23,
    "start_time": "2022-05-09T17:55:38.801Z"
   },
   {
    "duration": 21,
    "start_time": "2022-05-09T17:55:40.775Z"
   },
   {
    "duration": 29,
    "start_time": "2022-05-09T17:56:58.030Z"
   },
   {
    "duration": 24,
    "start_time": "2022-05-09T17:57:10.840Z"
   },
   {
    "duration": 37,
    "start_time": "2022-05-09T17:57:28.343Z"
   },
   {
    "duration": 15,
    "start_time": "2022-05-09T17:57:53.922Z"
   },
   {
    "duration": 6,
    "start_time": "2022-05-09T18:00:58.475Z"
   },
   {
    "duration": 22,
    "start_time": "2022-05-09T18:01:01.991Z"
   },
   {
    "duration": 24,
    "start_time": "2022-05-09T18:01:04.943Z"
   },
   {
    "duration": 33,
    "start_time": "2022-05-09T18:01:06.900Z"
   },
   {
    "duration": 21,
    "start_time": "2022-05-09T18:01:12.613Z"
   },
   {
    "duration": 34,
    "start_time": "2022-05-09T18:01:28.623Z"
   },
   {
    "duration": 8,
    "start_time": "2022-05-09T18:05:08.099Z"
   },
   {
    "duration": 17,
    "start_time": "2022-05-09T18:05:09.996Z"
   },
   {
    "duration": 11,
    "start_time": "2022-05-09T18:05:11.389Z"
   },
   {
    "duration": 23,
    "start_time": "2022-05-09T18:05:17.745Z"
   },
   {
    "duration": 12,
    "start_time": "2022-05-09T18:05:19.696Z"
   },
   {
    "duration": 5,
    "start_time": "2022-05-09T18:08:13.066Z"
   },
   {
    "duration": 24,
    "start_time": "2022-05-09T18:08:14.885Z"
   },
   {
    "duration": 16,
    "start_time": "2022-05-09T18:08:16.124Z"
   },
   {
    "duration": 17,
    "start_time": "2022-05-09T18:08:17.566Z"
   },
   {
    "duration": 12,
    "start_time": "2022-05-09T18:08:19.306Z"
   },
   {
    "duration": 7,
    "start_time": "2022-05-09T18:13:04.758Z"
   },
   {
    "duration": 16,
    "start_time": "2022-05-09T18:13:17.210Z"
   },
   {
    "duration": 14,
    "start_time": "2022-05-09T18:13:18.737Z"
   },
   {
    "duration": 16,
    "start_time": "2022-05-09T18:13:20.509Z"
   },
   {
    "duration": 11,
    "start_time": "2022-05-09T18:13:22.784Z"
   },
   {
    "duration": 4,
    "start_time": "2022-05-09T18:14:50.101Z"
   },
   {
    "duration": 24,
    "start_time": "2022-05-09T18:14:53.354Z"
   },
   {
    "duration": 12,
    "start_time": "2022-05-09T18:14:54.830Z"
   },
   {
    "duration": 15,
    "start_time": "2022-05-09T18:14:57.581Z"
   },
   {
    "duration": 11,
    "start_time": "2022-05-09T18:14:58.910Z"
   },
   {
    "duration": 4,
    "start_time": "2022-05-09T18:50:19.792Z"
   },
   {
    "duration": 15,
    "start_time": "2022-05-09T18:50:25.753Z"
   },
   {
    "duration": 11,
    "start_time": "2022-05-09T18:50:27.096Z"
   },
   {
    "duration": 17,
    "start_time": "2022-05-09T18:50:29.555Z"
   },
   {
    "duration": 11,
    "start_time": "2022-05-09T18:50:30.851Z"
   },
   {
    "duration": 4,
    "start_time": "2022-05-09T18:52:50.357Z"
   },
   {
    "duration": 16,
    "start_time": "2022-05-09T18:52:52.580Z"
   },
   {
    "duration": 12,
    "start_time": "2022-05-09T18:52:54.580Z"
   },
   {
    "duration": 16,
    "start_time": "2022-05-09T18:52:57.330Z"
   },
   {
    "duration": 12,
    "start_time": "2022-05-09T18:53:05.159Z"
   },
   {
    "duration": 27,
    "start_time": "2022-05-09T18:57:00.140Z"
   },
   {
    "duration": 8,
    "start_time": "2022-05-09T18:58:59.841Z"
   },
   {
    "duration": 7,
    "start_time": "2022-05-09T18:59:23.511Z"
   },
   {
    "duration": 8,
    "start_time": "2022-05-09T18:59:41.898Z"
   },
   {
    "duration": 5,
    "start_time": "2022-05-09T18:59:43.532Z"
   },
   {
    "duration": 7,
    "start_time": "2022-05-09T19:00:41.708Z"
   },
   {
    "duration": 5,
    "start_time": "2022-05-09T19:01:10.028Z"
   },
   {
    "duration": 51,
    "start_time": "2022-05-10T10:33:31.054Z"
   },
   {
    "duration": 450,
    "start_time": "2022-05-10T10:33:40.014Z"
   },
   {
    "duration": 171,
    "start_time": "2022-05-10T10:33:40.466Z"
   },
   {
    "duration": 19,
    "start_time": "2022-05-10T10:33:40.639Z"
   },
   {
    "duration": 10,
    "start_time": "2022-05-10T10:33:40.661Z"
   },
   {
    "duration": 51,
    "start_time": "2022-05-10T10:33:40.672Z"
   },
   {
    "duration": 6,
    "start_time": "2022-05-10T10:33:40.725Z"
   },
   {
    "duration": 15,
    "start_time": "2022-05-10T10:33:40.734Z"
   },
   {
    "duration": 72,
    "start_time": "2022-05-10T10:33:40.751Z"
   },
   {
    "duration": 46,
    "start_time": "2022-05-10T10:33:40.825Z"
   },
   {
    "duration": 50,
    "start_time": "2022-05-10T10:33:40.875Z"
   },
   {
    "duration": 32,
    "start_time": "2022-05-10T10:33:40.927Z"
   },
   {
    "duration": 91,
    "start_time": "2022-05-10T10:33:40.961Z"
   },
   {
    "duration": 100,
    "start_time": "2022-05-10T10:33:41.054Z"
   },
   {
    "duration": 76,
    "start_time": "2022-05-10T10:33:41.155Z"
   },
   {
    "duration": 8,
    "start_time": "2022-05-10T10:33:41.233Z"
   },
   {
    "duration": 3,
    "start_time": "2022-05-10T10:33:41.243Z"
   },
   {
    "duration": 15,
    "start_time": "2022-05-10T10:33:41.248Z"
   },
   {
    "duration": 9,
    "start_time": "2022-05-10T10:33:41.265Z"
   },
   {
    "duration": 72,
    "start_time": "2022-05-10T10:33:41.277Z"
   },
   {
    "duration": 38,
    "start_time": "2022-05-10T10:33:41.350Z"
   },
   {
    "duration": 4,
    "start_time": "2022-05-10T10:33:41.389Z"
   },
   {
    "duration": 42,
    "start_time": "2022-05-10T10:33:41.395Z"
   },
   {
    "duration": 17,
    "start_time": "2022-05-10T10:33:41.439Z"
   },
   {
    "duration": 17,
    "start_time": "2022-05-10T10:33:41.458Z"
   },
   {
    "duration": 47,
    "start_time": "2022-05-10T10:33:41.477Z"
   },
   {
    "duration": 27,
    "start_time": "2022-05-10T10:33:41.527Z"
   },
   {
    "duration": 22,
    "start_time": "2022-05-10T10:33:41.556Z"
   },
   {
    "duration": 42,
    "start_time": "2022-05-10T10:33:41.583Z"
   },
   {
    "duration": 31,
    "start_time": "2022-05-10T10:33:41.627Z"
   },
   {
    "duration": 27,
    "start_time": "2022-05-10T10:33:41.660Z"
   },
   {
    "duration": 5,
    "start_time": "2022-05-10T10:33:41.689Z"
   },
   {
    "duration": 27,
    "start_time": "2022-05-10T10:33:41.723Z"
   },
   {
    "duration": 15,
    "start_time": "2022-05-10T10:33:41.753Z"
   },
   {
    "duration": 19,
    "start_time": "2022-05-10T10:33:41.770Z"
   },
   {
    "duration": 48,
    "start_time": "2022-05-10T10:33:41.790Z"
   },
   {
    "duration": 11,
    "start_time": "2022-05-10T10:33:41.840Z"
   },
   {
    "duration": 7,
    "start_time": "2022-05-10T10:33:41.853Z"
   },
   {
    "duration": 10,
    "start_time": "2022-05-10T10:33:41.865Z"
   },
   {
    "duration": 8,
    "start_time": "2022-05-10T10:33:41.877Z"
   },
   {
    "duration": 49,
    "start_time": "2022-05-11T18:26:36.138Z"
   },
   {
    "duration": 7,
    "start_time": "2022-05-11T18:26:56.153Z"
   },
   {
    "duration": 8,
    "start_time": "2022-05-11T18:27:18.641Z"
   },
   {
    "duration": 435,
    "start_time": "2022-05-11T18:27:47.122Z"
   },
   {
    "duration": 191,
    "start_time": "2022-05-11T18:27:49.759Z"
   },
   {
    "duration": 16,
    "start_time": "2022-05-11T18:27:52.774Z"
   },
   {
    "duration": 9,
    "start_time": "2022-05-11T18:27:55.346Z"
   },
   {
    "duration": 31,
    "start_time": "2022-05-11T18:27:57.174Z"
   },
   {
    "duration": 4,
    "start_time": "2022-05-11T18:28:15.784Z"
   },
   {
    "duration": 15,
    "start_time": "2022-05-11T18:28:26.964Z"
   },
   {
    "duration": 40,
    "start_time": "2022-05-11T18:28:30.607Z"
   },
   {
    "duration": 29,
    "start_time": "2022-05-11T18:29:49.560Z"
   },
   {
    "duration": 6,
    "start_time": "2022-05-11T18:30:05.345Z"
   },
   {
    "duration": 5,
    "start_time": "2022-05-11T18:32:23.168Z"
   },
   {
    "duration": 26,
    "start_time": "2022-05-11T19:08:49.185Z"
   },
   {
    "duration": 25,
    "start_time": "2022-05-11T19:09:32.104Z"
   },
   {
    "duration": 21,
    "start_time": "2022-05-11T19:09:35.432Z"
   },
   {
    "duration": 27,
    "start_time": "2022-05-11T19:09:38.436Z"
   },
   {
    "duration": 72,
    "start_time": "2022-05-11T19:14:18.794Z"
   },
   {
    "duration": 81,
    "start_time": "2022-05-11T19:14:23.579Z"
   },
   {
    "duration": 65,
    "start_time": "2022-05-11T19:14:25.187Z"
   },
   {
    "duration": 8,
    "start_time": "2022-05-11T19:14:37.719Z"
   },
   {
    "duration": 59,
    "start_time": "2022-05-11T19:20:39.263Z"
   },
   {
    "duration": 4,
    "start_time": "2022-05-11T19:24:00.169Z"
   },
   {
    "duration": 14,
    "start_time": "2022-05-11T19:24:02.754Z"
   },
   {
    "duration": 13,
    "start_time": "2022-05-11T19:24:05.863Z"
   },
   {
    "duration": 50,
    "start_time": "2022-05-11T19:24:36.443Z"
   },
   {
    "duration": 13,
    "start_time": "2022-05-11T19:27:06.879Z"
   },
   {
    "duration": 9,
    "start_time": "2022-05-11T19:28:05.124Z"
   },
   {
    "duration": 14,
    "start_time": "2022-05-11T19:28:18.574Z"
   },
   {
    "duration": 12,
    "start_time": "2022-05-11T19:30:32.924Z"
   },
   {
    "duration": 4,
    "start_time": "2022-05-11T19:32:06.809Z"
   },
   {
    "duration": 16,
    "start_time": "2022-05-11T19:35:21.684Z"
   },
   {
    "duration": 10,
    "start_time": "2022-05-11T19:36:18.652Z"
   },
   {
    "duration": 6,
    "start_time": "2022-05-11T19:39:55.988Z"
   },
   {
    "duration": 8,
    "start_time": "2022-05-11T19:40:10.820Z"
   },
   {
    "duration": 18,
    "start_time": "2022-05-11T19:41:37.300Z"
   },
   {
    "duration": 26,
    "start_time": "2022-05-11T19:41:40.023Z"
   },
   {
    "duration": 5,
    "start_time": "2022-05-11T19:41:50.849Z"
   },
   {
    "duration": 25,
    "start_time": "2022-05-11T19:42:00.628Z"
   },
   {
    "duration": 13,
    "start_time": "2022-05-11T19:42:53.792Z"
   },
   {
    "duration": 17,
    "start_time": "2022-05-11T19:42:54.611Z"
   },
   {
    "duration": 12,
    "start_time": "2022-05-11T19:42:55.572Z"
   },
   {
    "duration": 11,
    "start_time": "2022-05-11T19:43:46.297Z"
   },
   {
    "duration": 5,
    "start_time": "2022-05-11T19:43:47.008Z"
   },
   {
    "duration": 6,
    "start_time": "2022-05-11T19:43:47.938Z"
   },
   {
    "duration": 5,
    "start_time": "2022-05-11T19:43:48.305Z"
   },
   {
    "duration": 448,
    "start_time": "2023-05-29T08:17:56.721Z"
   },
   {
    "duration": 289,
    "start_time": "2023-05-29T08:18:33.792Z"
   },
   {
    "duration": 46,
    "start_time": "2023-05-29T08:19:49.004Z"
   },
   {
    "duration": 57,
    "start_time": "2023-05-29T08:20:50.202Z"
   },
   {
    "duration": 7,
    "start_time": "2023-05-29T08:23:26.260Z"
   },
   {
    "duration": 250,
    "start_time": "2023-05-29T08:23:28.793Z"
   },
   {
    "duration": 17,
    "start_time": "2023-05-29T08:23:30.480Z"
   },
   {
    "duration": 56,
    "start_time": "2023-05-29T08:23:31.152Z"
   },
   {
    "duration": 11,
    "start_time": "2023-05-29T08:31:34.168Z"
   },
   {
    "duration": 22,
    "start_time": "2023-05-29T08:33:00.748Z"
   },
   {
    "duration": 6,
    "start_time": "2023-05-29T08:33:35.504Z"
   },
   {
    "duration": 45,
    "start_time": "2023-05-29T08:35:01.182Z"
   },
   {
    "duration": 33,
    "start_time": "2023-05-29T08:38:59.602Z"
   },
   {
    "duration": 51,
    "start_time": "2023-05-29T08:39:54.054Z"
   },
   {
    "duration": 116,
    "start_time": "2023-05-29T08:41:29.755Z"
   },
   {
    "duration": 164,
    "start_time": "2023-05-29T08:42:11.859Z"
   },
   {
    "duration": 101,
    "start_time": "2023-05-29T08:42:39.798Z"
   },
   {
    "duration": 124,
    "start_time": "2023-05-29T08:44:04.007Z"
   },
   {
    "duration": 9,
    "start_time": "2023-05-29T08:48:09.664Z"
   },
   {
    "duration": 11,
    "start_time": "2023-05-29T08:49:00.254Z"
   },
   {
    "duration": 13,
    "start_time": "2023-05-29T08:49:03.181Z"
   },
   {
    "duration": 82,
    "start_time": "2023-05-29T08:51:11.672Z"
   },
   {
    "duration": 51,
    "start_time": "2023-05-29T08:53:41.295Z"
   },
   {
    "duration": 25,
    "start_time": "2023-05-29T08:55:15.087Z"
   },
   {
    "duration": 336,
    "start_time": "2023-05-29T18:14:41.370Z"
   },
   {
    "duration": 193,
    "start_time": "2023-05-29T18:14:42.334Z"
   },
   {
    "duration": 19,
    "start_time": "2023-05-29T18:14:48.905Z"
   },
   {
    "duration": 27,
    "start_time": "2023-05-29T18:14:49.941Z"
   },
   {
    "duration": 6,
    "start_time": "2023-05-29T18:14:52.492Z"
   },
   {
    "duration": 12,
    "start_time": "2023-05-29T18:14:52.618Z"
   },
   {
    "duration": 4,
    "start_time": "2023-05-29T18:14:52.898Z"
   },
   {
    "duration": 19,
    "start_time": "2023-05-29T18:14:53.392Z"
   },
   {
    "duration": 15,
    "start_time": "2023-05-29T18:14:53.834Z"
   },
   {
    "duration": 20,
    "start_time": "2023-05-29T18:14:54.380Z"
   },
   {
    "duration": 59,
    "start_time": "2023-05-29T18:14:54.837Z"
   },
   {
    "duration": 81,
    "start_time": "2023-05-29T18:14:54.992Z"
   },
   {
    "duration": 225,
    "start_time": "2023-05-29T18:14:55.235Z"
   },
   {
    "duration": 48,
    "start_time": "2023-05-29T18:14:56.599Z"
   },
   {
    "duration": 3,
    "start_time": "2023-05-29T18:14:56.935Z"
   },
   {
    "duration": 9,
    "start_time": "2023-05-29T18:14:57.167Z"
   },
   {
    "duration": 54,
    "start_time": "2023-05-29T18:14:57.683Z"
   },
   {
    "duration": 13,
    "start_time": "2023-05-29T18:15:00.586Z"
   },
   {
    "duration": 3,
    "start_time": "2023-05-29T18:18:19.391Z"
   },
   {
    "duration": 16,
    "start_time": "2023-05-29T18:18:51.695Z"
   },
   {
    "duration": 12,
    "start_time": "2023-05-29T18:18:52.498Z"
   },
   {
    "duration": 14,
    "start_time": "2023-05-29T18:18:53.340Z"
   },
   {
    "duration": 17,
    "start_time": "2023-05-29T18:18:54.328Z"
   },
   {
    "duration": 16,
    "start_time": "2023-05-29T18:18:55.107Z"
   },
   {
    "duration": 12,
    "start_time": "2023-05-29T18:18:56.208Z"
   },
   {
    "duration": 7,
    "start_time": "2023-05-29T18:19:54.597Z"
   },
   {
    "duration": 8,
    "start_time": "2023-05-29T18:21:10.047Z"
   },
   {
    "duration": 14,
    "start_time": "2023-05-29T18:22:20.530Z"
   },
   {
    "duration": 14,
    "start_time": "2023-05-29T18:22:36.228Z"
   },
   {
    "duration": 4,
    "start_time": "2023-05-29T18:23:49.340Z"
   },
   {
    "duration": 3,
    "start_time": "2023-05-29T18:24:10.927Z"
   },
   {
    "duration": 13,
    "start_time": "2023-05-29T18:25:32.134Z"
   },
   {
    "duration": 10,
    "start_time": "2023-05-29T18:25:44.655Z"
   },
   {
    "duration": 10,
    "start_time": "2023-05-29T18:26:09.083Z"
   },
   {
    "duration": 16,
    "start_time": "2023-05-29T18:26:15.522Z"
   },
   {
    "duration": 12,
    "start_time": "2023-05-29T18:26:16.442Z"
   },
   {
    "duration": 8,
    "start_time": "2023-05-29T18:28:03.601Z"
   },
   {
    "duration": 5,
    "start_time": "2023-05-29T18:28:08.047Z"
   },
   {
    "duration": 6,
    "start_time": "2023-05-29T18:28:47.091Z"
   },
   {
    "duration": 4,
    "start_time": "2023-05-29T18:28:50.845Z"
   }
  ],
  "colab": {
   "collapsed_sections": [
    "E0vqbgi9ay0H",
    "VUC88oWjTJw2"
   ],
   "name": "yandex_music_project.ipynb",
   "provenance": []
  },
  "kernelspec": {
   "display_name": "Python 3 (ipykernel)",
   "language": "python",
   "name": "python3"
  },
  "language_info": {
   "codemirror_mode": {
    "name": "ipython",
    "version": 3
   },
   "file_extension": ".py",
   "mimetype": "text/x-python",
   "name": "python",
   "nbconvert_exporter": "python",
   "pygments_lexer": "ipython3",
   "version": "3.9.5"
  },
  "toc": {
   "base_numbering": 1,
   "nav_menu": {},
   "number_sections": true,
   "sideBar": true,
   "skip_h1_title": true,
   "title_cell": "Содержание",
   "title_sidebar": "Contents",
   "toc_cell": true,
   "toc_position": {},
   "toc_section_display": true,
   "toc_window_display": false
  }
 },
 "nbformat": 4,
 "nbformat_minor": 1
}
