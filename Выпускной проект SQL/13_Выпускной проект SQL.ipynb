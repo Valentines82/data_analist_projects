{
 "cells": [
  {
   "cell_type": "markdown",
   "id": "dedef721",
   "metadata": {
    "toc": true
   },
   "source": [
    "<h1>Содержание<span class=\"tocSkip\"></span></h1>\n",
    "<div class=\"toc\"><ul class=\"toc-item\"><li><span><a href=\"#Цель-исследования---проанализировать-базу-данных-и-ответить-на-5-вопросов:\" data-toc-modified-id=\"Цель-исследования---проанализировать-базу-данных-и-ответить-на-5-вопросов:-1\"><span class=\"toc-item-num\">1&nbsp;&nbsp;</span>Цель исследования - проанализировать базу данных и ответить на 5 вопросов:</a></span><ul class=\"toc-item\"><li><span><a href=\"#Знакомимся-с-базой\" data-toc-modified-id=\"Знакомимся-с-базой-1.1\"><span class=\"toc-item-num\">1.1&nbsp;&nbsp;</span>Знакомимся с базой</a></span></li><li><span><a href=\"#№1---посчитаем,-сколько-книг-вышло-после-1-января-2000-года\" data-toc-modified-id=\"№1---посчитаем,-сколько-книг-вышло-после-1-января-2000-года-1.2\"><span class=\"toc-item-num\">1.2&nbsp;&nbsp;</span>№1 - посчитаем, сколько книг вышло после 1 января 2000 года</a></span><ul class=\"toc-item\"><li><span><a href=\"#Вывод:-после-1-января-2000-года-вышло-819-книг.\" data-toc-modified-id=\"Вывод:-после-1-января-2000-года-вышло-819-книг.-1.2.1\"><span class=\"toc-item-num\">1.2.1&nbsp;&nbsp;</span>Вывод: после 1 января 2000 года вышло 819 книг.</a></span></li></ul></li><li><span><a href=\"#№2---для-каждой-книги-посчитаем-количество-обзоров-и-среднюю-оценку\" data-toc-modified-id=\"№2---для-каждой-книги-посчитаем-количество-обзоров-и-среднюю-оценку-1.3\"><span class=\"toc-item-num\">1.3&nbsp;&nbsp;</span>№2 - для каждой книги посчитаем количество обзоров и среднюю оценку</a></span><ul class=\"toc-item\"><li><span><a href=\"#Вывод:-наибольший-средний-рейтинг-имеющихся-книг-составляет-5,-а-самая-непопулярная-книга-имеет-рейтинг-1,5\" data-toc-modified-id=\"Вывод:-наибольший-средний-рейтинг-имеющихся-книг-составляет-5,-а-самая-непопулярная-книга-имеет-рейтинг-1,5-1.3.1\"><span class=\"toc-item-num\">1.3.1&nbsp;&nbsp;</span>Вывод: наибольший средний рейтинг имеющихся книг составляет 5, а самая непопулярная книга имеет рейтинг 1,5</a></span></li></ul></li><li><span><a href=\"#№3---определим-издательство,-которое-выпустило-наибольшее-число-книг-толще-50-страниц-—-так-мы-исключим-из-анализа-брошюры\" data-toc-modified-id=\"№3---определим-издательство,-которое-выпустило-наибольшее-число-книг-толще-50-страниц-—-так-мы-исключим-из-анализа-брошюры-1.4\"><span class=\"toc-item-num\">1.4&nbsp;&nbsp;</span>№3 - определим издательство, которое выпустило наибольшее число книг толще 50 страниц — так мы исключим из анализа брошюры</a></span><ul class=\"toc-item\"><li><span><a href=\"#Вывод:-издательство-Penguin-Books-выпустило-больше-всего-книг-толще-50-страниц.\" data-toc-modified-id=\"Вывод:-издательство-Penguin-Books-выпустило-больше-всего-книг-толще-50-страниц.-1.4.1\"><span class=\"toc-item-num\">1.4.1&nbsp;&nbsp;</span>Вывод: издательство Penguin Books выпустило больше всего книг толще 50 страниц.</a></span></li></ul></li><li><span><a href=\"#№4---определим-автора-с-самой-высокой-средней-оценкой-книг-—-учитываем-только-книги-с-50-и-более-оценками\" data-toc-modified-id=\"№4---определим-автора-с-самой-высокой-средней-оценкой-книг-—-учитываем-только-книги-с-50-и-более-оценками-1.5\"><span class=\"toc-item-num\">1.5&nbsp;&nbsp;</span>№4 - определим автора с самой высокой средней оценкой книг — учитываем только книги с 50 и более оценками</a></span><ul class=\"toc-item\"><li><span><a href=\"#Вывод:-Книги-J.K.-Rowling/Mary-GrandPré-пользуются-наибольшей-популярностью.-Средний-рейтинг-составляет-4,28\" data-toc-modified-id=\"Вывод:-Книги-J.K.-Rowling/Mary-GrandPré-пользуются-наибольшей-популярностью.-Средний-рейтинг-составляет-4,28-1.5.1\"><span class=\"toc-item-num\">1.5.1&nbsp;&nbsp;</span>Вывод: Книги J.K. Rowling/Mary GrandPré пользуются наибольшей популярностью. Средний рейтинг составляет 4,28</a></span></li></ul></li><li><span><a href=\"#№5---посчитаем-среднее-количество-обзоров-от-пользователей,-которые-поставили-больше-50-оценок\" data-toc-modified-id=\"№5---посчитаем-среднее-количество-обзоров-от-пользователей,-которые-поставили-больше-50-оценок-1.6\"><span class=\"toc-item-num\">1.6&nbsp;&nbsp;</span>№5 - посчитаем среднее количество обзоров от пользователей, которые поставили больше 50 оценок</a></span><ul class=\"toc-item\"><li><span><a href=\"#Вывод:-наиболее-активные-пользователи,-которые-поставили-более-50-оценок,-в-среднем-составляют-24-обзоров\" data-toc-modified-id=\"Вывод:-наиболее-активные-пользователи,-которые-поставили-более-50-оценок,-в-среднем-составляют-24-обзоров-1.6.1\"><span class=\"toc-item-num\">1.6.1&nbsp;&nbsp;</span>Вывод: наиболее активные пользователи, которые поставили более 50 оценок, в среднем составляют 24 обзоров</a></span></li></ul></li></ul></li><li><span><a href=\"#Общий-вывод:\" data-toc-modified-id=\"Общий-вывод:-2\"><span class=\"toc-item-num\">2&nbsp;&nbsp;</span>Общий вывод:</a></span></li></ul></div>"
   ]
  },
  {
   "cell_type": "markdown",
   "id": "a5eabb9a",
   "metadata": {},
   "source": [
    "# Проект по SQL"
   ]
  },
  {
   "cell_type": "markdown",
   "id": "22850e8a",
   "metadata": {},
   "source": [
    "**Коронавирус застал мир врасплох, изменив привычный порядок вещей. В свободное время жители городов больше не выходят на улицу, не посещают кафе и торговые центры. Зато стало больше времени для книг. Это заметили стартаперы — и бросились создавать приложения для тех, кто любит читать. Наша компания решила быть на волне и купила крупный сервис для чтения книг по подписке. Наша первая задача как аналитика — проанализировать базу данных.**"
   ]
  },
  {
   "cell_type": "markdown",
   "id": "1aae75bc",
   "metadata": {},
   "source": [
    "# Описание данных\n",
    " - Таблица books\n",
    " - Содержит данные о книгах:\n",
    " -- book_id — идентификатор книги;\n",
    " -- author_id — идентификатор автора;\n",
    " -- title — название книги;\n",
    " -- num_pages — количество страниц;\n",
    " -- publication_date — дата публикации книги;\n",
    " -- publisher_id — идентификатор издателя.\n",
    " - Таблица authors\n",
    " - Содержит данные об авторах:\n",
    " -- author_id — идентификатор автора;\n",
    " -- author — имя автора.\n",
    " - Таблица publishers\n",
    " - Содержит данные об издательствах:\n",
    " -- publisher_id — идентификатор издательства;\n",
    " -- publisher — название издательства;\n",
    " - Таблица ratings\n",
    " - Содержит данные о пользовательских оценках книг:\n",
    " -- rating_id — идентификатор оценки;\n",
    " -- book_id — идентификатор книги;\n",
    " -- username — имя пользователя, оставившего оценку;\n",
    " -- rating — оценка книги.\n",
    " - Таблица reviews\n",
    " - Содержит данные о пользовательских обзорах:\n",
    " -- review_id — идентификатор обзора;\n",
    " -- book_id — идентификатор книги;\n",
    " -- username — имя автора обзора;\n",
    " -- text — текст обзора."
   ]
  },
  {
   "cell_type": "markdown",
   "id": "b224b4de",
   "metadata": {},
   "source": [
    "## Цель исследования - проанализировать базу данных и ответить на 5 вопросов:\n",
    "1. Сколько в базе книг, которые вышли после 1 января 2000 года;\n",
    "2. Посчитать для каждой книги количество обзоров и среднюю оценку;\n",
    "3. Определить издательство - лидера по выпуску книг тольщиной более 50 страниц (для исключения брошюр);\n",
    "4. Определить автора с самой высокой средней оценкой популярных книг (книги с 50 и более оценками);\n",
    "5. Посчитать среднее количество обзоров наиболее активных пользователей (пользователи, которые поставили более 50 оценок)."
   ]
  },
  {
   "cell_type": "code",
   "execution_count": 1,
   "id": "cde25bb6",
   "metadata": {},
   "outputs": [],
   "source": [
    "# импортируем библиотеки\n",
    "import pandas as pd\n",
    "from sqlalchemy import create_engine\n"
   ]
  },
  {
   "cell_type": "markdown",
   "id": "13d61718",
   "metadata": {},
   "source": [
    "### Знакомимся с базой"
   ]
  },
  {
   "cell_type": "code",
   "execution_count": 2,
   "id": "2ca68b72",
   "metadata": {},
   "outputs": [],
   "source": [
    "query = '''\n",
    "SELECT *\n",
    "FROM books\n",
    "LIMIT 5\n",
    "'''"
   ]
  },
  {
   "cell_type": "code",
   "execution_count": 3,
   "id": "8535f70d",
   "metadata": {},
   "outputs": [
    {
     "data": {
      "text/html": [
       "<div>\n",
       "<style scoped>\n",
       "    .dataframe tbody tr th:only-of-type {\n",
       "        vertical-align: middle;\n",
       "    }\n",
       "\n",
       "    .dataframe tbody tr th {\n",
       "        vertical-align: top;\n",
       "    }\n",
       "\n",
       "    .dataframe thead th {\n",
       "        text-align: right;\n",
       "    }\n",
       "</style>\n",
       "<table border=\"1\" class=\"dataframe\">\n",
       "  <thead>\n",
       "    <tr style=\"text-align: right;\">\n",
       "      <th></th>\n",
       "      <th>book_id</th>\n",
       "      <th>author_id</th>\n",
       "      <th>title</th>\n",
       "      <th>num_pages</th>\n",
       "      <th>publication_date</th>\n",
       "      <th>publisher_id</th>\n",
       "    </tr>\n",
       "  </thead>\n",
       "  <tbody>\n",
       "    <tr>\n",
       "      <th>0</th>\n",
       "      <td>1</td>\n",
       "      <td>546</td>\n",
       "      <td>'Salem's Lot</td>\n",
       "      <td>594</td>\n",
       "      <td>2005-11-01</td>\n",
       "      <td>93</td>\n",
       "    </tr>\n",
       "    <tr>\n",
       "      <th>1</th>\n",
       "      <td>2</td>\n",
       "      <td>465</td>\n",
       "      <td>1 000 Places to See Before You Die</td>\n",
       "      <td>992</td>\n",
       "      <td>2003-05-22</td>\n",
       "      <td>336</td>\n",
       "    </tr>\n",
       "    <tr>\n",
       "      <th>2</th>\n",
       "      <td>3</td>\n",
       "      <td>407</td>\n",
       "      <td>13 Little Blue Envelopes (Little Blue Envelope...</td>\n",
       "      <td>322</td>\n",
       "      <td>2010-12-21</td>\n",
       "      <td>135</td>\n",
       "    </tr>\n",
       "    <tr>\n",
       "      <th>3</th>\n",
       "      <td>4</td>\n",
       "      <td>82</td>\n",
       "      <td>1491: New Revelations of the Americas Before C...</td>\n",
       "      <td>541</td>\n",
       "      <td>2006-10-10</td>\n",
       "      <td>309</td>\n",
       "    </tr>\n",
       "    <tr>\n",
       "      <th>4</th>\n",
       "      <td>5</td>\n",
       "      <td>125</td>\n",
       "      <td>1776</td>\n",
       "      <td>386</td>\n",
       "      <td>2006-07-04</td>\n",
       "      <td>268</td>\n",
       "    </tr>\n",
       "  </tbody>\n",
       "</table>\n",
       "</div>"
      ],
      "text/plain": [
       "   book_id  author_id                                              title  \\\n",
       "0        1        546                                       'Salem's Lot   \n",
       "1        2        465                 1 000 Places to See Before You Die   \n",
       "2        3        407  13 Little Blue Envelopes (Little Blue Envelope...   \n",
       "3        4         82  1491: New Revelations of the Americas Before C...   \n",
       "4        5        125                                               1776   \n",
       "\n",
       "   num_pages publication_date  publisher_id  \n",
       "0        594       2005-11-01            93  \n",
       "1        992       2003-05-22           336  \n",
       "2        322       2010-12-21           135  \n",
       "3        541       2006-10-10           309  \n",
       "4        386       2006-07-04           268  "
      ]
     },
     "execution_count": 3,
     "metadata": {},
     "output_type": "execute_result"
    }
   ],
   "source": [
    "pd.io.sql.read_sql(query, con = engine) "
   ]
  },
  {
   "cell_type": "code",
   "execution_count": 4,
   "id": "26d86515",
   "metadata": {},
   "outputs": [],
   "source": [
    "query = '''\n",
    "SELECT *\n",
    "FROM authors\n",
    "LIMIT 5\n",
    "'''"
   ]
  },
  {
   "cell_type": "code",
   "execution_count": 5,
   "id": "b2b6c0cf",
   "metadata": {},
   "outputs": [
    {
     "data": {
      "text/html": [
       "<div>\n",
       "<style scoped>\n",
       "    .dataframe tbody tr th:only-of-type {\n",
       "        vertical-align: middle;\n",
       "    }\n",
       "\n",
       "    .dataframe tbody tr th {\n",
       "        vertical-align: top;\n",
       "    }\n",
       "\n",
       "    .dataframe thead th {\n",
       "        text-align: right;\n",
       "    }\n",
       "</style>\n",
       "<table border=\"1\" class=\"dataframe\">\n",
       "  <thead>\n",
       "    <tr style=\"text-align: right;\">\n",
       "      <th></th>\n",
       "      <th>author_id</th>\n",
       "      <th>author</th>\n",
       "    </tr>\n",
       "  </thead>\n",
       "  <tbody>\n",
       "    <tr>\n",
       "      <th>0</th>\n",
       "      <td>1</td>\n",
       "      <td>A.S. Byatt</td>\n",
       "    </tr>\n",
       "    <tr>\n",
       "      <th>1</th>\n",
       "      <td>2</td>\n",
       "      <td>Aesop/Laura Harris/Laura Gibbs</td>\n",
       "    </tr>\n",
       "    <tr>\n",
       "      <th>2</th>\n",
       "      <td>3</td>\n",
       "      <td>Agatha Christie</td>\n",
       "    </tr>\n",
       "    <tr>\n",
       "      <th>3</th>\n",
       "      <td>4</td>\n",
       "      <td>Alan Brennert</td>\n",
       "    </tr>\n",
       "    <tr>\n",
       "      <th>4</th>\n",
       "      <td>5</td>\n",
       "      <td>Alan Moore/David   Lloyd</td>\n",
       "    </tr>\n",
       "  </tbody>\n",
       "</table>\n",
       "</div>"
      ],
      "text/plain": [
       "   author_id                          author\n",
       "0          1                      A.S. Byatt\n",
       "1          2  Aesop/Laura Harris/Laura Gibbs\n",
       "2          3                 Agatha Christie\n",
       "3          4                   Alan Brennert\n",
       "4          5        Alan Moore/David   Lloyd"
      ]
     },
     "execution_count": 5,
     "metadata": {},
     "output_type": "execute_result"
    }
   ],
   "source": [
    "pd.io.sql.read_sql(query, con = engine) "
   ]
  },
  {
   "cell_type": "code",
   "execution_count": 6,
   "id": "cc0242f3",
   "metadata": {},
   "outputs": [],
   "source": [
    "query = '''\n",
    "SELECT *\n",
    "FROM publishers\n",
    "LIMIT 5\n",
    "'''"
   ]
  },
  {
   "cell_type": "code",
   "execution_count": 7,
   "id": "60805e04",
   "metadata": {},
   "outputs": [
    {
     "data": {
      "text/html": [
       "<div>\n",
       "<style scoped>\n",
       "    .dataframe tbody tr th:only-of-type {\n",
       "        vertical-align: middle;\n",
       "    }\n",
       "\n",
       "    .dataframe tbody tr th {\n",
       "        vertical-align: top;\n",
       "    }\n",
       "\n",
       "    .dataframe thead th {\n",
       "        text-align: right;\n",
       "    }\n",
       "</style>\n",
       "<table border=\"1\" class=\"dataframe\">\n",
       "  <thead>\n",
       "    <tr style=\"text-align: right;\">\n",
       "      <th></th>\n",
       "      <th>publisher_id</th>\n",
       "      <th>publisher</th>\n",
       "    </tr>\n",
       "  </thead>\n",
       "  <tbody>\n",
       "    <tr>\n",
       "      <th>0</th>\n",
       "      <td>1</td>\n",
       "      <td>Ace</td>\n",
       "    </tr>\n",
       "    <tr>\n",
       "      <th>1</th>\n",
       "      <td>2</td>\n",
       "      <td>Ace Book</td>\n",
       "    </tr>\n",
       "    <tr>\n",
       "      <th>2</th>\n",
       "      <td>3</td>\n",
       "      <td>Ace Books</td>\n",
       "    </tr>\n",
       "    <tr>\n",
       "      <th>3</th>\n",
       "      <td>4</td>\n",
       "      <td>Ace Hardcover</td>\n",
       "    </tr>\n",
       "    <tr>\n",
       "      <th>4</th>\n",
       "      <td>5</td>\n",
       "      <td>Addison Wesley Publishing Company</td>\n",
       "    </tr>\n",
       "  </tbody>\n",
       "</table>\n",
       "</div>"
      ],
      "text/plain": [
       "   publisher_id                          publisher\n",
       "0             1                                Ace\n",
       "1             2                           Ace Book\n",
       "2             3                          Ace Books\n",
       "3             4                      Ace Hardcover\n",
       "4             5  Addison Wesley Publishing Company"
      ]
     },
     "execution_count": 7,
     "metadata": {},
     "output_type": "execute_result"
    }
   ],
   "source": [
    "pd.io.sql.read_sql(query, con = engine) "
   ]
  },
  {
   "cell_type": "code",
   "execution_count": 8,
   "id": "a172f62d",
   "metadata": {},
   "outputs": [],
   "source": [
    "query = '''\n",
    "SELECT *\n",
    "FROM ratings\n",
    "LIMIT 5\n",
    "'''"
   ]
  },
  {
   "cell_type": "code",
   "execution_count": 9,
   "id": "a4f8f641",
   "metadata": {},
   "outputs": [
    {
     "data": {
      "text/html": [
       "<div>\n",
       "<style scoped>\n",
       "    .dataframe tbody tr th:only-of-type {\n",
       "        vertical-align: middle;\n",
       "    }\n",
       "\n",
       "    .dataframe tbody tr th {\n",
       "        vertical-align: top;\n",
       "    }\n",
       "\n",
       "    .dataframe thead th {\n",
       "        text-align: right;\n",
       "    }\n",
       "</style>\n",
       "<table border=\"1\" class=\"dataframe\">\n",
       "  <thead>\n",
       "    <tr style=\"text-align: right;\">\n",
       "      <th></th>\n",
       "      <th>rating_id</th>\n",
       "      <th>book_id</th>\n",
       "      <th>username</th>\n",
       "      <th>rating</th>\n",
       "    </tr>\n",
       "  </thead>\n",
       "  <tbody>\n",
       "    <tr>\n",
       "      <th>0</th>\n",
       "      <td>1</td>\n",
       "      <td>1</td>\n",
       "      <td>ryanfranco</td>\n",
       "      <td>4</td>\n",
       "    </tr>\n",
       "    <tr>\n",
       "      <th>1</th>\n",
       "      <td>2</td>\n",
       "      <td>1</td>\n",
       "      <td>grantpatricia</td>\n",
       "      <td>2</td>\n",
       "    </tr>\n",
       "    <tr>\n",
       "      <th>2</th>\n",
       "      <td>3</td>\n",
       "      <td>1</td>\n",
       "      <td>brandtandrea</td>\n",
       "      <td>5</td>\n",
       "    </tr>\n",
       "    <tr>\n",
       "      <th>3</th>\n",
       "      <td>4</td>\n",
       "      <td>2</td>\n",
       "      <td>lorichen</td>\n",
       "      <td>3</td>\n",
       "    </tr>\n",
       "    <tr>\n",
       "      <th>4</th>\n",
       "      <td>5</td>\n",
       "      <td>2</td>\n",
       "      <td>mariokeller</td>\n",
       "      <td>2</td>\n",
       "    </tr>\n",
       "  </tbody>\n",
       "</table>\n",
       "</div>"
      ],
      "text/plain": [
       "   rating_id  book_id       username  rating\n",
       "0          1        1     ryanfranco       4\n",
       "1          2        1  grantpatricia       2\n",
       "2          3        1   brandtandrea       5\n",
       "3          4        2       lorichen       3\n",
       "4          5        2    mariokeller       2"
      ]
     },
     "execution_count": 9,
     "metadata": {},
     "output_type": "execute_result"
    }
   ],
   "source": [
    "pd.io.sql.read_sql(query, con = engine) "
   ]
  },
  {
   "cell_type": "code",
   "execution_count": 10,
   "id": "08acbb54",
   "metadata": {},
   "outputs": [],
   "source": [
    "query = '''\n",
    "SELECT *\n",
    "FROM reviews\n",
    "LIMIT 5\n",
    "'''"
   ]
  },
  {
   "cell_type": "code",
   "execution_count": 11,
   "id": "a9eea334",
   "metadata": {},
   "outputs": [
    {
     "data": {
      "text/html": [
       "<div>\n",
       "<style scoped>\n",
       "    .dataframe tbody tr th:only-of-type {\n",
       "        vertical-align: middle;\n",
       "    }\n",
       "\n",
       "    .dataframe tbody tr th {\n",
       "        vertical-align: top;\n",
       "    }\n",
       "\n",
       "    .dataframe thead th {\n",
       "        text-align: right;\n",
       "    }\n",
       "</style>\n",
       "<table border=\"1\" class=\"dataframe\">\n",
       "  <thead>\n",
       "    <tr style=\"text-align: right;\">\n",
       "      <th></th>\n",
       "      <th>review_id</th>\n",
       "      <th>book_id</th>\n",
       "      <th>username</th>\n",
       "      <th>text</th>\n",
       "    </tr>\n",
       "  </thead>\n",
       "  <tbody>\n",
       "    <tr>\n",
       "      <th>0</th>\n",
       "      <td>1</td>\n",
       "      <td>1</td>\n",
       "      <td>brandtandrea</td>\n",
       "      <td>Mention society tell send professor analysis. ...</td>\n",
       "    </tr>\n",
       "    <tr>\n",
       "      <th>1</th>\n",
       "      <td>2</td>\n",
       "      <td>1</td>\n",
       "      <td>ryanfranco</td>\n",
       "      <td>Foot glass pretty audience hit themselves. Amo...</td>\n",
       "    </tr>\n",
       "    <tr>\n",
       "      <th>2</th>\n",
       "      <td>3</td>\n",
       "      <td>2</td>\n",
       "      <td>lorichen</td>\n",
       "      <td>Listen treat keep worry. Miss husband tax but ...</td>\n",
       "    </tr>\n",
       "    <tr>\n",
       "      <th>3</th>\n",
       "      <td>4</td>\n",
       "      <td>3</td>\n",
       "      <td>johnsonamanda</td>\n",
       "      <td>Finally month interesting blue could nature cu...</td>\n",
       "    </tr>\n",
       "    <tr>\n",
       "      <th>4</th>\n",
       "      <td>5</td>\n",
       "      <td>3</td>\n",
       "      <td>scotttamara</td>\n",
       "      <td>Nation purpose heavy give wait song will. List...</td>\n",
       "    </tr>\n",
       "  </tbody>\n",
       "</table>\n",
       "</div>"
      ],
      "text/plain": [
       "   review_id  book_id       username  \\\n",
       "0          1        1   brandtandrea   \n",
       "1          2        1     ryanfranco   \n",
       "2          3        2       lorichen   \n",
       "3          4        3  johnsonamanda   \n",
       "4          5        3    scotttamara   \n",
       "\n",
       "                                                text  \n",
       "0  Mention society tell send professor analysis. ...  \n",
       "1  Foot glass pretty audience hit themselves. Amo...  \n",
       "2  Listen treat keep worry. Miss husband tax but ...  \n",
       "3  Finally month interesting blue could nature cu...  \n",
       "4  Nation purpose heavy give wait song will. List...  "
      ]
     },
     "execution_count": 11,
     "metadata": {},
     "output_type": "execute_result"
    }
   ],
   "source": [
    "pd.io.sql.read_sql(query, con = engine) "
   ]
  },
  {
   "cell_type": "markdown",
   "id": "4714cd05",
   "metadata": {},
   "source": [
    "### №1 - посчитаем, сколько книг вышло после 1 января 2000 года"
   ]
  },
  {
   "cell_type": "code",
   "execution_count": 12,
   "id": "6dd94f86",
   "metadata": {},
   "outputs": [],
   "source": [
    "query = '''\n",
    "SELECT COUNT(DISTINCT book_id)\n",
    "FROM books\n",
    "WHERE publication_date > '2000-01-01'\n",
    "'''"
   ]
  },
  {
   "cell_type": "code",
   "execution_count": 13,
   "id": "5209d5db",
   "metadata": {},
   "outputs": [
    {
     "data": {
      "text/html": [
       "<div>\n",
       "<style scoped>\n",
       "    .dataframe tbody tr th:only-of-type {\n",
       "        vertical-align: middle;\n",
       "    }\n",
       "\n",
       "    .dataframe tbody tr th {\n",
       "        vertical-align: top;\n",
       "    }\n",
       "\n",
       "    .dataframe thead th {\n",
       "        text-align: right;\n",
       "    }\n",
       "</style>\n",
       "<table border=\"1\" class=\"dataframe\">\n",
       "  <thead>\n",
       "    <tr style=\"text-align: right;\">\n",
       "      <th></th>\n",
       "      <th>count</th>\n",
       "    </tr>\n",
       "  </thead>\n",
       "  <tbody>\n",
       "    <tr>\n",
       "      <th>0</th>\n",
       "      <td>819</td>\n",
       "    </tr>\n",
       "  </tbody>\n",
       "</table>\n",
       "</div>"
      ],
      "text/plain": [
       "   count\n",
       "0    819"
      ]
     },
     "execution_count": 13,
     "metadata": {},
     "output_type": "execute_result"
    }
   ],
   "source": [
    "pd.io.sql.read_sql(query, con = engine) "
   ]
  },
  {
   "cell_type": "markdown",
   "id": "e9915d82",
   "metadata": {},
   "source": [
    "#### Вывод: после 1 января 2000 года вышло 819 книг."
   ]
  },
  {
   "cell_type": "markdown",
   "id": "4f699a05",
   "metadata": {},
   "source": [
    "### №2 - для каждой книги посчитаем количество обзоров и среднюю оценку"
   ]
  },
  {
   "cell_type": "code",
   "execution_count": 14,
   "id": "9d90c395",
   "metadata": {},
   "outputs": [],
   "source": [
    "query = '''\n",
    "SELECT DISTINCT b.book_id,\n",
    "       b.title,\n",
    "       COUNT(DISTINCT re.review_id) AS count_review,\n",
    "       AVG(r.rating) AS avg_rating\n",
    "FROM books AS b\n",
    "LEFT JOIN ratings AS r ON b.book_id = r.book_id\n",
    "LEFT JOIN reviews AS re ON b.book_id = re.book_id\n",
    "GROUP BY b.book_id, b.title\n",
    "ORDER BY avg_rating DESC, b.title\n",
    "'''"
   ]
  },
  {
   "cell_type": "code",
   "execution_count": 15,
   "id": "ea0c829c",
   "metadata": {},
   "outputs": [
    {
     "data": {
      "text/html": [
       "<div>\n",
       "<style scoped>\n",
       "    .dataframe tbody tr th:only-of-type {\n",
       "        vertical-align: middle;\n",
       "    }\n",
       "\n",
       "    .dataframe tbody tr th {\n",
       "        vertical-align: top;\n",
       "    }\n",
       "\n",
       "    .dataframe thead th {\n",
       "        text-align: right;\n",
       "    }\n",
       "</style>\n",
       "<table border=\"1\" class=\"dataframe\">\n",
       "  <thead>\n",
       "    <tr style=\"text-align: right;\">\n",
       "      <th></th>\n",
       "      <th>book_id</th>\n",
       "      <th>title</th>\n",
       "      <th>count_review</th>\n",
       "      <th>avg_rating</th>\n",
       "    </tr>\n",
       "  </thead>\n",
       "  <tbody>\n",
       "    <tr>\n",
       "      <th>0</th>\n",
       "      <td>17</td>\n",
       "      <td>A Dirty Job (Grim Reaper  #1)</td>\n",
       "      <td>4</td>\n",
       "      <td>5.00</td>\n",
       "    </tr>\n",
       "    <tr>\n",
       "      <th>1</th>\n",
       "      <td>20</td>\n",
       "      <td>A Fistful of Charms (The Hollows  #4)</td>\n",
       "      <td>2</td>\n",
       "      <td>5.00</td>\n",
       "    </tr>\n",
       "    <tr>\n",
       "      <th>2</th>\n",
       "      <td>55</td>\n",
       "      <td>A Woman of Substance (Emma Harte Saga #1)</td>\n",
       "      <td>2</td>\n",
       "      <td>5.00</td>\n",
       "    </tr>\n",
       "    <tr>\n",
       "      <th>3</th>\n",
       "      <td>57</td>\n",
       "      <td>Act of Treason (Mitch Rapp  #9)</td>\n",
       "      <td>2</td>\n",
       "      <td>5.00</td>\n",
       "    </tr>\n",
       "    <tr>\n",
       "      <th>4</th>\n",
       "      <td>62</td>\n",
       "      <td>Alas  Babylon</td>\n",
       "      <td>2</td>\n",
       "      <td>5.00</td>\n",
       "    </tr>\n",
       "    <tr>\n",
       "      <th>...</th>\n",
       "      <td>...</td>\n",
       "      <td>...</td>\n",
       "      <td>...</td>\n",
       "      <td>...</td>\n",
       "    </tr>\n",
       "    <tr>\n",
       "      <th>995</th>\n",
       "      <td>915</td>\n",
       "      <td>The World Is Flat: A Brief History of the Twen...</td>\n",
       "      <td>3</td>\n",
       "      <td>2.25</td>\n",
       "    </tr>\n",
       "    <tr>\n",
       "      <th>996</th>\n",
       "      <td>202</td>\n",
       "      <td>Drowning Ruth</td>\n",
       "      <td>3</td>\n",
       "      <td>2.00</td>\n",
       "    </tr>\n",
       "    <tr>\n",
       "      <th>997</th>\n",
       "      <td>316</td>\n",
       "      <td>His Excellency: George Washington</td>\n",
       "      <td>2</td>\n",
       "      <td>2.00</td>\n",
       "    </tr>\n",
       "    <tr>\n",
       "      <th>998</th>\n",
       "      <td>371</td>\n",
       "      <td>Junky</td>\n",
       "      <td>2</td>\n",
       "      <td>2.00</td>\n",
       "    </tr>\n",
       "    <tr>\n",
       "      <th>999</th>\n",
       "      <td>303</td>\n",
       "      <td>Harvesting the Heart</td>\n",
       "      <td>2</td>\n",
       "      <td>1.50</td>\n",
       "    </tr>\n",
       "  </tbody>\n",
       "</table>\n",
       "<p>1000 rows × 4 columns</p>\n",
       "</div>"
      ],
      "text/plain": [
       "     book_id                                              title  count_review  \\\n",
       "0         17                      A Dirty Job (Grim Reaper  #1)             4   \n",
       "1         20              A Fistful of Charms (The Hollows  #4)             2   \n",
       "2         55          A Woman of Substance (Emma Harte Saga #1)             2   \n",
       "3         57                    Act of Treason (Mitch Rapp  #9)             2   \n",
       "4         62                                      Alas  Babylon             2   \n",
       "..       ...                                                ...           ...   \n",
       "995      915  The World Is Flat: A Brief History of the Twen...             3   \n",
       "996      202                                      Drowning Ruth             3   \n",
       "997      316                  His Excellency: George Washington             2   \n",
       "998      371                                              Junky             2   \n",
       "999      303                               Harvesting the Heart             2   \n",
       "\n",
       "     avg_rating  \n",
       "0          5.00  \n",
       "1          5.00  \n",
       "2          5.00  \n",
       "3          5.00  \n",
       "4          5.00  \n",
       "..          ...  \n",
       "995        2.25  \n",
       "996        2.00  \n",
       "997        2.00  \n",
       "998        2.00  \n",
       "999        1.50  \n",
       "\n",
       "[1000 rows x 4 columns]"
      ]
     },
     "execution_count": 15,
     "metadata": {},
     "output_type": "execute_result"
    }
   ],
   "source": [
    "pd.io.sql.read_sql(query, con = engine) "
   ]
  },
  {
   "cell_type": "markdown",
   "id": "af335a54",
   "metadata": {},
   "source": [
    "#### Вывод: наибольший средний рейтинг имеющихся книг составляет 5, а самая непопулярная книга имеет рейтинг 1,5"
   ]
  },
  {
   "cell_type": "markdown",
   "id": "d1df9658",
   "metadata": {},
   "source": [
    "### №3 - определим издательство, которое выпустило наибольшее число книг толще 50 страниц — так мы исключим из анализа брошюры"
   ]
  },
  {
   "cell_type": "code",
   "execution_count": 16,
   "id": "01014e90",
   "metadata": {},
   "outputs": [],
   "source": [
    "query = '''\n",
    "SELECT p.publisher,\n",
    "       COUNT(DISTINCT b.book_id) AS books_cnt\n",
    "FROM publishers AS p\n",
    "LEFT JOIN books AS b ON p.publisher_id = b.publisher_id\n",
    "WHERE b.num_pages > 50\n",
    "GROUP BY p.publisher\n",
    "ORDER BY books_cnt DESC\n",
    "LIMIT 5\n",
    "'''"
   ]
  },
  {
   "cell_type": "code",
   "execution_count": 17,
   "id": "9e6b8a74",
   "metadata": {},
   "outputs": [
    {
     "data": {
      "text/html": [
       "<div>\n",
       "<style scoped>\n",
       "    .dataframe tbody tr th:only-of-type {\n",
       "        vertical-align: middle;\n",
       "    }\n",
       "\n",
       "    .dataframe tbody tr th {\n",
       "        vertical-align: top;\n",
       "    }\n",
       "\n",
       "    .dataframe thead th {\n",
       "        text-align: right;\n",
       "    }\n",
       "</style>\n",
       "<table border=\"1\" class=\"dataframe\">\n",
       "  <thead>\n",
       "    <tr style=\"text-align: right;\">\n",
       "      <th></th>\n",
       "      <th>publisher</th>\n",
       "      <th>books_cnt</th>\n",
       "    </tr>\n",
       "  </thead>\n",
       "  <tbody>\n",
       "    <tr>\n",
       "      <th>0</th>\n",
       "      <td>Penguin Books</td>\n",
       "      <td>42</td>\n",
       "    </tr>\n",
       "    <tr>\n",
       "      <th>1</th>\n",
       "      <td>Vintage</td>\n",
       "      <td>31</td>\n",
       "    </tr>\n",
       "    <tr>\n",
       "      <th>2</th>\n",
       "      <td>Grand Central Publishing</td>\n",
       "      <td>25</td>\n",
       "    </tr>\n",
       "    <tr>\n",
       "      <th>3</th>\n",
       "      <td>Penguin Classics</td>\n",
       "      <td>24</td>\n",
       "    </tr>\n",
       "    <tr>\n",
       "      <th>4</th>\n",
       "      <td>Ballantine Books</td>\n",
       "      <td>19</td>\n",
       "    </tr>\n",
       "  </tbody>\n",
       "</table>\n",
       "</div>"
      ],
      "text/plain": [
       "                  publisher  books_cnt\n",
       "0             Penguin Books         42\n",
       "1                   Vintage         31\n",
       "2  Grand Central Publishing         25\n",
       "3          Penguin Classics         24\n",
       "4          Ballantine Books         19"
      ]
     },
     "execution_count": 17,
     "metadata": {},
     "output_type": "execute_result"
    }
   ],
   "source": [
    "pd.io.sql.read_sql(query, con = engine) "
   ]
  },
  {
   "cell_type": "markdown",
   "id": "e403769a",
   "metadata": {},
   "source": [
    "#### Вывод: издательство Penguin Books выпустило больше всего книг толще 50 страниц."
   ]
  },
  {
   "cell_type": "markdown",
   "id": "962d18ac",
   "metadata": {},
   "source": [
    "### №4 - определим автора с самой высокой средней оценкой книг — учитываем только книги с 50 и более оценками"
   ]
  },
  {
   "cell_type": "code",
   "execution_count": 18,
   "id": "1d028100",
   "metadata": {},
   "outputs": [],
   "source": [
    "query = '''\n",
    "SELECT cnt.author AS author, AVG(cnt.avg_rating) AS avg_rating\n",
    "FROM\n",
    "(SELECT a.author AS author, b.book_id, AVG(r.rating) AS avg_rating, COUNT(r.rating) AS rating_cnt\n",
    "FROM books as b\n",
    "INNER JOIN authors AS a ON b.author_id = a.author_id\n",
    "INNER JOIN ratings AS r ON r.book_id = b.book_id\n",
    "GROUP BY author, b.book_id\n",
    "HAVING COUNT(r.rating) >= 50) AS cnt\n",
    "GROUP BY author\n",
    "ORDER BY avg_rating DESC\n",
    "LIMIT 1\n",
    "'''"
   ]
  },
  {
   "cell_type": "code",
   "execution_count": 19,
   "id": "6bb716a2",
   "metadata": {},
   "outputs": [
    {
     "data": {
      "text/html": [
       "<div>\n",
       "<style scoped>\n",
       "    .dataframe tbody tr th:only-of-type {\n",
       "        vertical-align: middle;\n",
       "    }\n",
       "\n",
       "    .dataframe tbody tr th {\n",
       "        vertical-align: top;\n",
       "    }\n",
       "\n",
       "    .dataframe thead th {\n",
       "        text-align: right;\n",
       "    }\n",
       "</style>\n",
       "<table border=\"1\" class=\"dataframe\">\n",
       "  <thead>\n",
       "    <tr style=\"text-align: right;\">\n",
       "      <th></th>\n",
       "      <th>author</th>\n",
       "      <th>avg_rating</th>\n",
       "    </tr>\n",
       "  </thead>\n",
       "  <tbody>\n",
       "    <tr>\n",
       "      <th>0</th>\n",
       "      <td>J.K. Rowling/Mary GrandPré</td>\n",
       "      <td>4.283844</td>\n",
       "    </tr>\n",
       "  </tbody>\n",
       "</table>\n",
       "</div>"
      ],
      "text/plain": [
       "                       author  avg_rating\n",
       "0  J.K. Rowling/Mary GrandPré    4.283844"
      ]
     },
     "execution_count": 19,
     "metadata": {},
     "output_type": "execute_result"
    }
   ],
   "source": [
    "pd.io.sql.read_sql(query, con = engine) "
   ]
  },
  {
   "cell_type": "markdown",
   "id": "a2ed6745",
   "metadata": {},
   "source": [
    "#### Вывод: Книги J.K. Rowling/Mary GrandPré пользуются наибольшей популярностью. Средний рейтинг составляет 4,28"
   ]
  },
  {
   "cell_type": "markdown",
   "id": "78e93940",
   "metadata": {},
   "source": [
    "### №5 - посчитаем среднее количество обзоров от пользователей, которые поставили больше 50 оценок"
   ]
  },
  {
   "cell_type": "code",
   "execution_count": 20,
   "id": "5e966f17",
   "metadata": {},
   "outputs": [],
   "source": [
    "query = '''\n",
    "SELECT ROUND(AVG(re.review_cnt)) AS avg_review\n",
    "FROM (SELECT COUNT(review_id) AS review_cnt\n",
    "FROM reviews\n",
    "WHERE username IN (SELECT username\n",
    "                   FROM ratings\n",
    "                   GROUP BY username\n",
    "                   HAVING COUNT(ratings) > 50)\n",
    "                   GROUP BY username) AS re\n",
    "'''"
   ]
  },
  {
   "cell_type": "code",
   "execution_count": 21,
   "id": "2964b0ed",
   "metadata": {},
   "outputs": [
    {
     "data": {
      "text/html": [
       "<div>\n",
       "<style scoped>\n",
       "    .dataframe tbody tr th:only-of-type {\n",
       "        vertical-align: middle;\n",
       "    }\n",
       "\n",
       "    .dataframe tbody tr th {\n",
       "        vertical-align: top;\n",
       "    }\n",
       "\n",
       "    .dataframe thead th {\n",
       "        text-align: right;\n",
       "    }\n",
       "</style>\n",
       "<table border=\"1\" class=\"dataframe\">\n",
       "  <thead>\n",
       "    <tr style=\"text-align: right;\">\n",
       "      <th></th>\n",
       "      <th>avg_review</th>\n",
       "    </tr>\n",
       "  </thead>\n",
       "  <tbody>\n",
       "    <tr>\n",
       "      <th>0</th>\n",
       "      <td>24.0</td>\n",
       "    </tr>\n",
       "  </tbody>\n",
       "</table>\n",
       "</div>"
      ],
      "text/plain": [
       "   avg_review\n",
       "0        24.0"
      ]
     },
     "execution_count": 21,
     "metadata": {},
     "output_type": "execute_result"
    }
   ],
   "source": [
    "pd.io.sql.read_sql(query, con = engine)"
   ]
  },
  {
   "cell_type": "markdown",
   "id": "c18ae634",
   "metadata": {},
   "source": [
    "#### Вывод: наиболее активные пользователи, которые поставили более 50 оценок, в среднем составляют 24 обзоров"
   ]
  },
  {
   "cell_type": "markdown",
   "id": "9eb78292",
   "metadata": {},
   "source": [
    "## Общий вывод:\n",
    "- Целью нашего исследования были:\n",
    "1. Посчитать сколько в базе книг, которые вышли после 1 января 2000 года;\n",
    "2. Посчитать для каждой книги количество обзоров и среднюю оценку;\n",
    "3. Определить издательство - лидера по выпуску книг тольщиной более 50 страниц (для исключения брошюр);\n",
    "4. Определить автора с самой высокой средней оценкой популярных книг (книги с 50 и более оценками);\n",
    "5. Посчитать среднее количество обзоров наиболее активных пользователей (пользователи, которые поставили более 50 оценок).\n",
    "- Проведя исследование можем ответить на все эти вопросы следующее:\n",
    "1. После 1 января 2000 года вышло 819 книг;\n",
    "2. Наибольший средний рейтинг имеющихся книг составляет 5, а самая непопулярная книга имеет рейтинг 1,5;\n",
    "3. Издательство Penguin Books выпустило больше всего книг толще 50 страниц;\n",
    "4. Книги J.K. Rowling/Mary GrandPré пользуются наибольшей популярностью. Средний рейтинг составляет 4,28;\n",
    "5. Наиболее активные пользователи, которые поставили более 50 оценок, в среднем составляют 24 обзоров."
   ]
  }
 ],
 "metadata": {
  "ExecuteTimeLog": [
   {
    "duration": 10783,
    "start_time": "2023-04-27T17:40:38.575Z"
   },
   {
    "duration": 3,
    "start_time": "2023-04-27T17:40:49.360Z"
   },
   {
    "duration": 296,
    "start_time": "2023-04-27T17:40:49.365Z"
   },
   {
    "duration": 3,
    "start_time": "2023-04-27T17:40:49.663Z"
   },
   {
    "duration": 92,
    "start_time": "2023-04-27T17:40:49.667Z"
   },
   {
    "duration": 2,
    "start_time": "2023-04-27T17:40:49.761Z"
   },
   {
    "duration": 99,
    "start_time": "2023-04-27T17:40:49.765Z"
   },
   {
    "duration": 3,
    "start_time": "2023-04-27T17:40:49.865Z"
   },
   {
    "duration": 93,
    "start_time": "2023-04-27T17:40:49.870Z"
   },
   {
    "duration": 2,
    "start_time": "2023-04-27T17:40:49.966Z"
   },
   {
    "duration": 93,
    "start_time": "2023-04-27T17:40:49.970Z"
   },
   {
    "duration": 3,
    "start_time": "2023-04-27T17:40:50.064Z"
   },
   {
    "duration": 93,
    "start_time": "2023-04-27T17:40:50.068Z"
   },
   {
    "duration": 3,
    "start_time": "2023-04-27T17:40:50.163Z"
   },
   {
    "duration": 131,
    "start_time": "2023-04-27T17:40:50.167Z"
   },
   {
    "duration": 2,
    "start_time": "2023-04-27T17:40:50.300Z"
   },
   {
    "duration": 98,
    "start_time": "2023-04-27T17:40:50.304Z"
   },
   {
    "duration": 3,
    "start_time": "2023-04-27T17:40:50.403Z"
   },
   {
    "duration": 117,
    "start_time": "2023-04-27T17:40:50.408Z"
   },
   {
    "duration": 4,
    "start_time": "2023-04-27T17:40:50.527Z"
   },
   {
    "duration": 133,
    "start_time": "2023-04-27T17:40:50.533Z"
   },
   {
    "duration": 10831,
    "start_time": "2023-04-27T19:50:06.070Z"
   },
   {
    "duration": 3,
    "start_time": "2023-04-27T19:50:16.903Z"
   },
   {
    "duration": 350,
    "start_time": "2023-04-27T19:50:16.907Z"
   },
   {
    "duration": 2,
    "start_time": "2023-04-27T19:50:17.259Z"
   },
   {
    "duration": 92,
    "start_time": "2023-04-27T19:50:17.263Z"
   },
   {
    "duration": 2,
    "start_time": "2023-04-27T19:50:17.357Z"
   },
   {
    "duration": 81,
    "start_time": "2023-04-27T19:50:17.809Z"
   },
   {
    "duration": 2,
    "start_time": "2023-04-27T19:50:18.806Z"
   },
   {
    "duration": 75,
    "start_time": "2023-04-27T19:50:19.334Z"
   },
   {
    "duration": 3,
    "start_time": "2023-04-27T19:50:20.047Z"
   },
   {
    "duration": 75,
    "start_time": "2023-04-27T19:50:23.235Z"
   },
   {
    "duration": 3,
    "start_time": "2023-04-27T19:51:03.380Z"
   },
   {
    "duration": 77,
    "start_time": "2023-04-27T19:51:05.300Z"
   },
   {
    "duration": 2,
    "start_time": "2023-04-27T19:51:30.751Z"
   },
   {
    "duration": 117,
    "start_time": "2023-04-27T19:51:31.446Z"
   },
   {
    "duration": 2,
    "start_time": "2023-04-27T19:51:36.104Z"
   },
   {
    "duration": 76,
    "start_time": "2023-04-27T19:51:36.734Z"
   },
   {
    "duration": 3,
    "start_time": "2023-04-27T19:51:39.928Z"
   },
   {
    "duration": 3,
    "start_time": "2023-04-27T19:54:06.378Z"
   },
   {
    "duration": 281,
    "start_time": "2023-04-27T19:54:07.053Z"
   },
   {
    "duration": 6,
    "start_time": "2023-04-27T19:55:16.428Z"
   },
   {
    "duration": 162,
    "start_time": "2023-04-27T19:55:17.252Z"
   },
   {
    "duration": 3,
    "start_time": "2023-04-27T19:55:42.961Z"
   },
   {
    "duration": 169,
    "start_time": "2023-04-27T19:55:43.612Z"
   },
   {
    "duration": 2,
    "start_time": "2023-04-27T19:56:02.638Z"
   },
   {
    "duration": 82,
    "start_time": "2023-04-27T19:56:03.365Z"
   },
   {
    "duration": 3,
    "start_time": "2023-04-27T19:56:46.528Z"
   },
   {
    "duration": 163,
    "start_time": "2023-04-27T19:56:47.455Z"
   },
   {
    "duration": 5,
    "start_time": "2023-04-27T19:59:29.673Z"
   },
   {
    "duration": 2,
    "start_time": "2023-04-27T19:59:30.570Z"
   },
   {
    "duration": 262,
    "start_time": "2023-04-27T19:59:30.817Z"
   },
   {
    "duration": 2,
    "start_time": "2023-04-27T19:59:31.082Z"
   },
   {
    "duration": 84,
    "start_time": "2023-04-27T19:59:31.172Z"
   },
   {
    "duration": 3,
    "start_time": "2023-04-27T19:59:31.498Z"
   },
   {
    "duration": 79,
    "start_time": "2023-04-27T19:59:31.600Z"
   },
   {
    "duration": 4,
    "start_time": "2023-04-27T19:59:31.846Z"
   },
   {
    "duration": 84,
    "start_time": "2023-04-27T19:59:31.976Z"
   },
   {
    "duration": 3,
    "start_time": "2023-04-27T19:59:32.228Z"
   },
   {
    "duration": 87,
    "start_time": "2023-04-27T19:59:32.316Z"
   },
   {
    "duration": 3,
    "start_time": "2023-04-27T19:59:33.202Z"
   },
   {
    "duration": 81,
    "start_time": "2023-04-27T19:59:33.416Z"
   },
   {
    "duration": 3,
    "start_time": "2023-04-27T19:59:34.792Z"
   },
   {
    "duration": 124,
    "start_time": "2023-04-27T19:59:34.911Z"
   },
   {
    "duration": 3,
    "start_time": "2023-04-27T19:59:35.832Z"
   },
   {
    "duration": 86,
    "start_time": "2023-04-27T19:59:36.374Z"
   },
   {
    "duration": 3,
    "start_time": "2023-04-27T19:59:38.084Z"
   },
   {
    "duration": 175,
    "start_time": "2023-04-27T19:59:38.681Z"
   },
   {
    "duration": 3,
    "start_time": "2023-04-27T20:01:39.959Z"
   },
   {
    "duration": 176,
    "start_time": "2023-04-27T20:01:40.670Z"
   },
   {
    "duration": 7,
    "start_time": "2023-04-27T20:02:18.315Z"
   },
   {
    "duration": 77,
    "start_time": "2023-04-27T20:02:18.914Z"
   },
   {
    "duration": 3,
    "start_time": "2023-04-27T20:15:51.313Z"
   },
   {
    "duration": 95,
    "start_time": "2023-04-27T20:15:51.828Z"
   },
   {
    "duration": 2,
    "start_time": "2023-04-27T20:21:53.832Z"
   },
   {
    "duration": 205,
    "start_time": "2023-04-27T20:21:55.888Z"
   },
   {
    "duration": 2,
    "start_time": "2023-04-27T20:22:09.493Z"
   },
   {
    "duration": 85,
    "start_time": "2023-04-27T20:22:11.798Z"
   },
   {
    "duration": 2,
    "start_time": "2023-04-27T20:23:44.582Z"
   },
   {
    "duration": 79,
    "start_time": "2023-04-27T20:23:45.332Z"
   },
   {
    "duration": 4,
    "start_time": "2023-04-27T20:32:09.925Z"
   },
   {
    "duration": 80,
    "start_time": "2023-04-27T20:32:10.611Z"
   },
   {
    "duration": 3,
    "start_time": "2023-04-27T20:33:05.084Z"
   },
   {
    "duration": 81,
    "start_time": "2023-04-27T20:33:05.842Z"
   },
   {
    "duration": 3,
    "start_time": "2023-04-27T20:34:55.078Z"
   },
   {
    "duration": 211,
    "start_time": "2023-04-27T20:34:55.689Z"
   },
   {
    "duration": 2,
    "start_time": "2023-04-27T20:35:53.194Z"
   },
   {
    "duration": 173,
    "start_time": "2023-04-27T20:35:53.837Z"
   },
   {
    "duration": 2,
    "start_time": "2023-04-27T20:36:34.286Z"
   },
   {
    "duration": 182,
    "start_time": "2023-04-27T20:36:34.970Z"
   },
   {
    "duration": 2,
    "start_time": "2023-04-27T20:36:46.914Z"
   },
   {
    "duration": 217,
    "start_time": "2023-04-27T20:36:47.636Z"
   },
   {
    "duration": 3,
    "start_time": "2023-04-27T20:37:01.967Z"
   },
   {
    "duration": 197,
    "start_time": "2023-04-27T20:37:02.602Z"
   },
   {
    "duration": 3,
    "start_time": "2023-04-27T20:37:26.606Z"
   },
   {
    "duration": 194,
    "start_time": "2023-04-27T20:37:27.270Z"
   },
   {
    "duration": 7,
    "start_time": "2023-04-27T20:39:19.918Z"
   },
   {
    "duration": 180,
    "start_time": "2023-04-27T20:39:20.595Z"
   },
   {
    "duration": 6,
    "start_time": "2023-04-27T20:39:30.564Z"
   },
   {
    "duration": 3,
    "start_time": "2023-04-27T20:39:32.884Z"
   },
   {
    "duration": 272,
    "start_time": "2023-04-27T20:39:33.275Z"
   },
   {
    "duration": 2,
    "start_time": "2023-04-27T20:39:33.631Z"
   },
   {
    "duration": 75,
    "start_time": "2023-04-27T20:39:34.034Z"
   },
   {
    "duration": 3,
    "start_time": "2023-04-27T20:39:34.416Z"
   },
   {
    "duration": 77,
    "start_time": "2023-04-27T20:39:34.679Z"
   },
   {
    "duration": 3,
    "start_time": "2023-04-27T20:39:34.790Z"
   },
   {
    "duration": 83,
    "start_time": "2023-04-27T20:39:35.006Z"
   },
   {
    "duration": 3,
    "start_time": "2023-04-27T20:39:35.093Z"
   },
   {
    "duration": 76,
    "start_time": "2023-04-27T20:39:35.360Z"
   },
   {
    "duration": 3,
    "start_time": "2023-04-27T20:39:35.879Z"
   },
   {
    "duration": 82,
    "start_time": "2023-04-27T20:39:36.095Z"
   },
   {
    "duration": 3,
    "start_time": "2023-04-27T20:39:36.528Z"
   },
   {
    "duration": 112,
    "start_time": "2023-04-27T20:39:36.688Z"
   },
   {
    "duration": 2,
    "start_time": "2023-04-27T20:39:37.275Z"
   },
   {
    "duration": 76,
    "start_time": "2023-04-27T20:39:37.372Z"
   },
   {
    "duration": 3,
    "start_time": "2023-04-27T20:39:38.271Z"
   },
   {
    "duration": 79,
    "start_time": "2023-04-27T20:39:38.474Z"
   },
   {
    "duration": 2,
    "start_time": "2023-04-27T20:39:39.376Z"
   },
   {
    "duration": 161,
    "start_time": "2023-04-27T20:39:39.527Z"
   },
   {
    "duration": 4,
    "start_time": "2023-04-27T20:44:45.823Z"
   },
   {
    "duration": 77,
    "start_time": "2023-04-27T20:44:46.469Z"
   },
   {
    "duration": 6,
    "start_time": "2023-04-27T20:47:26.897Z"
   },
   {
    "duration": 76,
    "start_time": "2023-04-27T20:47:27.537Z"
   },
   {
    "duration": 5,
    "start_time": "2023-04-27T20:48:33.106Z"
   },
   {
    "duration": 3,
    "start_time": "2023-04-27T20:48:33.763Z"
   },
   {
    "duration": 279,
    "start_time": "2023-04-27T20:48:33.811Z"
   },
   {
    "duration": 3,
    "start_time": "2023-04-27T20:48:34.092Z"
   },
   {
    "duration": 75,
    "start_time": "2023-04-27T20:48:34.223Z"
   },
   {
    "duration": 2,
    "start_time": "2023-04-27T20:48:34.300Z"
   },
   {
    "duration": 82,
    "start_time": "2023-04-27T20:48:37.964Z"
   },
   {
    "duration": 3,
    "start_time": "2023-04-27T20:48:38.368Z"
   },
   {
    "duration": 81,
    "start_time": "2023-04-27T20:48:38.509Z"
   },
   {
    "duration": 3,
    "start_time": "2023-04-27T20:48:38.592Z"
   },
   {
    "duration": 83,
    "start_time": "2023-04-27T20:48:38.811Z"
   },
   {
    "duration": 3,
    "start_time": "2023-04-27T20:48:39.409Z"
   },
   {
    "duration": 78,
    "start_time": "2023-04-27T20:48:39.480Z"
   },
   {
    "duration": 5,
    "start_time": "2023-04-27T20:48:40.114Z"
   },
   {
    "duration": 124,
    "start_time": "2023-04-27T20:48:40.206Z"
   },
   {
    "duration": 3,
    "start_time": "2023-04-27T20:48:40.633Z"
   },
   {
    "duration": 79,
    "start_time": "2023-04-27T20:48:40.872Z"
   },
   {
    "duration": 3,
    "start_time": "2023-04-27T20:48:41.760Z"
   },
   {
    "duration": 93,
    "start_time": "2023-04-27T20:48:41.945Z"
   },
   {
    "duration": 4,
    "start_time": "2023-04-27T21:04:07.067Z"
   },
   {
    "duration": 2,
    "start_time": "2023-04-27T21:04:07.664Z"
   },
   {
    "duration": 258,
    "start_time": "2023-04-27T21:04:07.832Z"
   },
   {
    "duration": 2,
    "start_time": "2023-04-27T21:04:08.092Z"
   },
   {
    "duration": 74,
    "start_time": "2023-04-27T21:04:08.169Z"
   },
   {
    "duration": 3,
    "start_time": "2023-04-27T21:04:08.283Z"
   },
   {
    "duration": 84,
    "start_time": "2023-04-27T21:04:08.386Z"
   },
   {
    "duration": 3,
    "start_time": "2023-04-27T21:04:08.472Z"
   },
   {
    "duration": 84,
    "start_time": "2023-04-27T21:04:08.608Z"
   },
   {
    "duration": 3,
    "start_time": "2023-04-27T21:04:11.379Z"
   },
   {
    "duration": 88,
    "start_time": "2023-04-27T21:04:11.460Z"
   },
   {
    "duration": 2,
    "start_time": "2023-04-27T21:04:12.003Z"
   },
   {
    "duration": 75,
    "start_time": "2023-04-27T21:04:12.107Z"
   },
   {
    "duration": 2,
    "start_time": "2023-04-27T21:04:14.001Z"
   },
   {
    "duration": 111,
    "start_time": "2023-04-27T21:04:14.191Z"
   },
   {
    "duration": 2,
    "start_time": "2023-04-27T21:04:14.678Z"
   },
   {
    "duration": 81,
    "start_time": "2023-04-27T21:04:14.807Z"
   },
   {
    "duration": 3,
    "start_time": "2023-04-27T21:04:15.383Z"
   },
   {
    "duration": 84,
    "start_time": "2023-04-27T21:04:15.459Z"
   },
   {
    "duration": 4,
    "start_time": "2023-04-27T21:04:16.098Z"
   },
   {
    "duration": 81,
    "start_time": "2023-04-27T21:04:16.161Z"
   },
   {
    "duration": 9883,
    "start_time": "2023-04-27T21:05:26.331Z"
   },
   {
    "duration": 3,
    "start_time": "2023-04-27T21:05:36.216Z"
   },
   {
    "duration": 302,
    "start_time": "2023-04-27T21:05:36.221Z"
   },
   {
    "duration": 5,
    "start_time": "2023-04-27T21:05:36.528Z"
   },
   {
    "duration": 114,
    "start_time": "2023-04-27T21:05:36.535Z"
   },
   {
    "duration": 3,
    "start_time": "2023-04-27T21:05:36.650Z"
   },
   {
    "duration": 134,
    "start_time": "2023-04-27T21:05:36.654Z"
   },
   {
    "duration": 2,
    "start_time": "2023-04-27T21:05:36.790Z"
   },
   {
    "duration": 98,
    "start_time": "2023-04-27T21:05:36.795Z"
   },
   {
    "duration": 3,
    "start_time": "2023-04-27T21:05:36.895Z"
   },
   {
    "duration": 105,
    "start_time": "2023-04-27T21:05:36.900Z"
   },
   {
    "duration": 4,
    "start_time": "2023-04-27T21:05:37.007Z"
   },
   {
    "duration": 101,
    "start_time": "2023-04-27T21:05:37.012Z"
   },
   {
    "duration": 6,
    "start_time": "2023-04-27T21:05:37.116Z"
   },
   {
    "duration": 151,
    "start_time": "2023-04-27T21:05:37.123Z"
   },
   {
    "duration": 2,
    "start_time": "2023-04-27T21:05:37.276Z"
   },
   {
    "duration": 93,
    "start_time": "2023-04-27T21:05:37.280Z"
   },
   {
    "duration": 3,
    "start_time": "2023-04-27T21:05:37.374Z"
   },
   {
    "duration": 106,
    "start_time": "2023-04-27T21:05:37.379Z"
   },
   {
    "duration": 2,
    "start_time": "2023-04-27T21:05:37.487Z"
   },
   {
    "duration": 99,
    "start_time": "2023-04-27T21:05:37.491Z"
   },
   {
    "duration": 6904,
    "start_time": "2023-06-03T11:16:16.257Z"
   },
   {
    "duration": 3,
    "start_time": "2023-06-03T11:16:27.191Z"
   },
   {
    "duration": 65,
    "start_time": "2023-06-03T11:16:28.024Z"
   },
   {
    "duration": 3,
    "start_time": "2023-06-03T11:16:28.856Z"
   },
   {
    "duration": 12,
    "start_time": "2023-06-03T11:16:29.644Z"
   },
   {
    "duration": 2,
    "start_time": "2023-06-03T11:16:30.592Z"
   },
   {
    "duration": 12,
    "start_time": "2023-06-03T11:16:31.256Z"
   },
   {
    "duration": 10,
    "start_time": "2023-06-03T11:16:31.979Z"
   },
   {
    "duration": 12,
    "start_time": "2023-06-03T11:16:32.705Z"
   },
   {
    "duration": 3,
    "start_time": "2023-06-03T11:16:33.349Z"
   },
   {
    "duration": 13,
    "start_time": "2023-06-03T11:16:34.089Z"
   },
   {
    "duration": 2,
    "start_time": "2023-06-03T11:16:49.415Z"
   },
   {
    "duration": 18,
    "start_time": "2023-06-03T11:16:50.069Z"
   },
   {
    "duration": 3,
    "start_time": "2023-06-03T11:16:57.108Z"
   },
   {
    "duration": 29,
    "start_time": "2023-06-03T11:16:57.792Z"
   },
   {
    "duration": 2,
    "start_time": "2023-06-03T11:17:03.888Z"
   },
   {
    "duration": 16,
    "start_time": "2023-06-03T11:17:04.445Z"
   },
   {
    "duration": 6,
    "start_time": "2023-06-03T11:17:11.369Z"
   },
   {
    "duration": 29,
    "start_time": "2023-06-03T11:17:14.561Z"
   },
   {
    "duration": 4,
    "start_time": "2023-06-03T11:17:20.756Z"
   },
   {
    "duration": 13,
    "start_time": "2023-06-03T11:17:21.257Z"
   }
  ],
  "kernelspec": {
   "display_name": "Python 3 (ipykernel)",
   "language": "python",
   "name": "python3"
  },
  "language_info": {
   "codemirror_mode": {
    "name": "ipython",
    "version": 3
   },
   "file_extension": ".py",
   "mimetype": "text/x-python",
   "name": "python",
   "nbconvert_exporter": "python",
   "pygments_lexer": "ipython3",
   "version": "3.9.5"
  },
  "toc": {
   "base_numbering": 1,
   "nav_menu": {},
   "number_sections": true,
   "sideBar": true,
   "skip_h1_title": true,
   "title_cell": "Содержание",
   "title_sidebar": "Содержание",
   "toc_cell": true,
   "toc_position": {},
   "toc_section_display": true,
   "toc_window_display": false
  }
 },
 "nbformat": 4,
 "nbformat_minor": 5
}
