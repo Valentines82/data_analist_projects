{
 "cells": [
  {
   "cell_type": "markdown",
   "metadata": {
    "toc": true
   },
   "source": [
    "<h1>Содержание<span class=\"tocSkip\"></span></h1>\n",
    "<div class=\"toc\"><ul class=\"toc-item\"><li><span><a href=\"#Откроем-файлы-с-данными-и-объединим-их-в-один-датафрейм.\" data-toc-modified-id=\"Откроем-файлы-с-данными-и-объединим-их-в-один-датафрейм.-1\"><span class=\"toc-item-num\">1&nbsp;&nbsp;</span>Откроем файлы с данными и объединим их в один датафрейм.</a></span></li><li><span><a href=\"#Предобработка-данных\" data-toc-modified-id=\"Предобработка-данных-2\"><span class=\"toc-item-num\">2&nbsp;&nbsp;</span>Предобработка данных</a></span><ul class=\"toc-item\"><li><span><a href=\"#Проверка-типов-данных\" data-toc-modified-id=\"Проверка-типов-данных-2.1\"><span class=\"toc-item-num\">2.1&nbsp;&nbsp;</span>Проверка типов данных</a></span></li><li><span><a href=\"#Изучение-и-обработка-пропусков-в-датафрейме\" data-toc-modified-id=\"Изучение-и-обработка-пропусков-в-датафрейме-2.2\"><span class=\"toc-item-num\">2.2&nbsp;&nbsp;</span>Изучение и обработка пропусков в датафрейме</a></span></li><li><span><a href=\"#Изучим-дубликаты-в-датафрейме\" data-toc-modified-id=\"Изучим-дубликаты-в-датафрейме-2.3\"><span class=\"toc-item-num\">2.3&nbsp;&nbsp;</span>Изучим дубликаты в датафрейме</a></span></li><li><span><a href=\"#Изучим-категориальные-значения\" data-toc-modified-id=\"Изучим-категориальные-значения-2.4\"><span class=\"toc-item-num\">2.4&nbsp;&nbsp;</span>Изучим категориальные значения</a></span></li><li><span><a href=\"#Проверим-количественные-значения\" data-toc-modified-id=\"Проверим-количественные-значения-2.5\"><span class=\"toc-item-num\">2.5&nbsp;&nbsp;</span>Проверим количественные значения</a></span></li><li><span><a href=\"#Добавим-новые-столбцы-с-информацией-о-годе-проката\" data-toc-modified-id=\"Добавим-новые-столбцы-с-информацией-о-годе-проката-2.6\"><span class=\"toc-item-num\">2.6&nbsp;&nbsp;</span>Добавим новые столбцы с информацией о годе проката</a></span></li><li><span><a href=\"#Создадим-два-столбца:-с-именем-и-фамилией-главного-режиссёра-и-основным-жанром-фильма.-В-столбцы-войдут-первые-значения-из-списка-режиссёров-и-жанров-соответственно.\" data-toc-modified-id=\"Создадим-два-столбца:-с-именем-и-фамилией-главного-режиссёра-и-основным-жанром-фильма.-В-столбцы-войдут-первые-значения-из-списка-режиссёров-и-жанров-соответственно.-2.7\"><span class=\"toc-item-num\">2.7&nbsp;&nbsp;</span>Создадим два столбца: с именем и фамилией главного режиссёра и основным жанром фильма. В столбцы войдут первые значения из списка режиссёров и жанров соответственно.</a></span></li><li><span><a href=\"#Проведем-исследовательский-анализ-данных\" data-toc-modified-id=\"Проведем-исследовательский-анализ-данных-2.8\"><span class=\"toc-item-num\">2.8&nbsp;&nbsp;</span>Проведем исследовательский анализ данных</a></span></li><li><span><a href=\"#Исследуем-фильмы,-которые-получили-государственную-поддержку\" data-toc-modified-id=\"Исследуем-фильмы,-которые-получили-государственную-поддержку-2.9\"><span class=\"toc-item-num\">2.9&nbsp;&nbsp;</span>Исследуем фильмы, которые получили государственную поддержку</a></span></li></ul></li><li><span><a href=\"#Общий-вывод\" data-toc-modified-id=\"Общий-вывод-3\"><span class=\"toc-item-num\">3&nbsp;&nbsp;</span>Общий вывод</a></span></li></ul></div>"
   ]
  },
  {
   "cell_type": "markdown",
   "metadata": {
    "id": "sIfNaMOxgFyK"
   },
   "source": [
    "# Исследование данных о российском кинопрокате\n",
    "\n"
   ]
  },
  {
   "cell_type": "markdown",
   "metadata": {},
   "source": [
    "Заказчик этого исследования — Министерство культуры Российской Федерации.\n",
    "Нужно изучить рынок российского кинопроката и выявить текущие тренды. На насколько фильмы, которые снимаются с государственной поддержкой интересны зрителю."
   ]
  },
  {
   "cell_type": "markdown",
   "metadata": {},
   "source": [
    "# Описание данных\n",
    "Таблица mkrf_movies содержит информацию из реестра прокатных удостоверений. У одного фильма может быть несколько прокатных удостоверений. \n",
    " - title — название фильма;\n",
    " - puNumber — номер прокатного удостоверения;\n",
    " - show_start_date — дата премьеры фильма;\n",
    " - type — тип фильма;\n",
    " - film_studio — студия-производитель;\n",
    " - production_country — страна-производитель;\n",
    " - director — режиссёр;\n",
    " - producer — продюсер;\n",
    " - age_restriction — возрастная категория;\n",
    " - refundable_support — объём возвратных средств государственной поддержки;\n",
    " - nonrefundable_support — объём невозвратных средств государственной поддержки;\n",
    " - financing_source — источник государственного финансирования;\n",
    " - budget — общий бюджет фильма;\n",
    " - ratings — рейтинг фильма на КиноПоиске;\n",
    " - genres — жанр фильма."
   ]
  },
  {
   "cell_type": "markdown",
   "metadata": {},
   "source": [
    "Столбец budget уже включает в себя полный объём государственной поддержки. Данные в этом столбце указаны только для тех фильмов, которые получили государственную поддержку. "
   ]
  },
  {
   "cell_type": "markdown",
   "metadata": {
    "id": "3bSlkCsbgFyL"
   },
   "source": [
    "## Откроем файлы с данными и объединим их в один датафрейм. \n",
    "\n"
   ]
  },
  {
   "cell_type": "code",
   "execution_count": 1,
   "metadata": {},
   "outputs": [],
   "source": [
    "import pandas as pd\n",
    "import matplotlib.pyplot as plt\n",
    "import seaborn as sns\n",
    "import warnings\n",
    "warnings.filterwarnings('ignore')"
   ]
  },
  {
   "cell_type": "code",
   "execution_count": 2,
   "metadata": {
    "id": "dw87FlzMgFyM"
   },
   "outputs": [
    {
     "name": "stdout",
     "output_type": "stream",
     "text": [
      "<class 'pandas.core.frame.DataFrame'>\n",
      "Int64Index: 7485 entries, 0 to 7485\n",
      "Data columns (total 15 columns):\n",
      " #   Column                 Non-Null Count  Dtype  \n",
      "---  ------                 --------------  -----  \n",
      " 0   title                  7485 non-null   object \n",
      " 1   puNumber               7485 non-null   int64  \n",
      " 2   show_start_date        7485 non-null   object \n",
      " 3   type                   7485 non-null   object \n",
      " 4   film_studio            7467 non-null   object \n",
      " 5   production_country     7483 non-null   object \n",
      " 6   director               7476 non-null   object \n",
      " 7   producer               6917 non-null   object \n",
      " 8   age_restriction        7485 non-null   object \n",
      " 9   refundable_support     332 non-null    float64\n",
      " 10  nonrefundable_support  332 non-null    float64\n",
      " 11  budget                 332 non-null    float64\n",
      " 12  financing_source       332 non-null    object \n",
      " 13  ratings                6519 non-null   object \n",
      " 14  genres                 6510 non-null   object \n",
      "dtypes: float64(3), int64(1), object(11)\n",
      "memory usage: 935.6+ KB\n"
     ]
    }
   ],
   "source": [
    "data_mov = pd.read_csv('/datasets/mkrf_movies.csv') #данные о прокатных удостоверениях.\n",
    "data_mov.head()\n",
    "data_mov[data_mov['puNumber'] == 'нет'] #фильм с некорректным заполнением данной строки, ее название получили из ошибки при попытке перевести в тип 'int'\n",
    "data_mov = data_mov.loc[data_mov['puNumber'] != 'нет'] #удаляем эту строку\n",
    "data_mov['puNumber'] = data_mov['puNumber'].astype('int') #приводим к типу 'int'\n",
    "data_mov.info()"
   ]
  },
  {
   "cell_type": "code",
   "execution_count": 3,
   "metadata": {},
   "outputs": [
    {
     "name": "stdout",
     "output_type": "stream",
     "text": [
      "<class 'pandas.core.frame.DataFrame'>\n",
      "RangeIndex: 3158 entries, 0 to 3157\n",
      "Data columns (total 2 columns):\n",
      " #   Column      Non-Null Count  Dtype  \n",
      "---  ------      --------------  -----  \n",
      " 0   puNumber    3158 non-null   int64  \n",
      " 1   box_office  3158 non-null   float64\n",
      "dtypes: float64(1), int64(1)\n",
      "memory usage: 49.5 KB\n"
     ]
    }
   ],
   "source": [
    "data_shows = pd.read_csv('/datasets/mkrf_shows.csv') #данные о прокате в российских кинотеатрах.\n",
    "data_shows.head()\n",
    "data_shows.info()\n"
   ]
  },
  {
   "cell_type": "code",
   "execution_count": 4,
   "metadata": {},
   "outputs": [
    {
     "name": "stdout",
     "output_type": "stream",
     "text": [
      "<class 'pandas.core.frame.DataFrame'>\n",
      "Int64Index: 7485 entries, 0 to 7484\n",
      "Data columns (total 16 columns):\n",
      " #   Column                 Non-Null Count  Dtype  \n",
      "---  ------                 --------------  -----  \n",
      " 0   title                  7485 non-null   object \n",
      " 1   puNumber               7485 non-null   int64  \n",
      " 2   show_start_date        7485 non-null   object \n",
      " 3   type                   7485 non-null   object \n",
      " 4   film_studio            7467 non-null   object \n",
      " 5   production_country     7483 non-null   object \n",
      " 6   director               7476 non-null   object \n",
      " 7   producer               6917 non-null   object \n",
      " 8   age_restriction        7485 non-null   object \n",
      " 9   refundable_support     332 non-null    float64\n",
      " 10  nonrefundable_support  332 non-null    float64\n",
      " 11  budget                 332 non-null    float64\n",
      " 12  financing_source       332 non-null    object \n",
      " 13  ratings                6519 non-null   object \n",
      " 14  genres                 6510 non-null   object \n",
      " 15  box_office             3158 non-null   float64\n",
      "dtypes: float64(4), int64(1), object(11)\n",
      "memory usage: 994.1+ KB\n"
     ]
    }
   ],
   "source": [
    "data_full = data_mov.merge(data_shows, on = 'puNumber', how = 'left') #объединяем таблицы в одну\n",
    "data_full.info()"
   ]
  },
  {
   "cell_type": "code",
   "execution_count": 5,
   "metadata": {},
   "outputs": [
    {
     "data": {
      "text/html": [
       "<div>\n",
       "<style scoped>\n",
       "    .dataframe tbody tr th:only-of-type {\n",
       "        vertical-align: middle;\n",
       "    }\n",
       "\n",
       "    .dataframe tbody tr th {\n",
       "        vertical-align: top;\n",
       "    }\n",
       "\n",
       "    .dataframe thead th {\n",
       "        text-align: right;\n",
       "    }\n",
       "</style>\n",
       "<table border=\"1\" class=\"dataframe\">\n",
       "  <thead>\n",
       "    <tr style=\"text-align: right;\">\n",
       "      <th></th>\n",
       "      <th>title</th>\n",
       "      <th>puNumber</th>\n",
       "      <th>show_start_date</th>\n",
       "      <th>type</th>\n",
       "      <th>film_studio</th>\n",
       "      <th>production_country</th>\n",
       "      <th>director</th>\n",
       "      <th>producer</th>\n",
       "      <th>age_restriction</th>\n",
       "      <th>refundable_support</th>\n",
       "      <th>nonrefundable_support</th>\n",
       "      <th>budget</th>\n",
       "      <th>financing_source</th>\n",
       "      <th>ratings</th>\n",
       "      <th>genres</th>\n",
       "      <th>box_office</th>\n",
       "    </tr>\n",
       "  </thead>\n",
       "  <tbody>\n",
       "    <tr>\n",
       "      <th>0</th>\n",
       "      <td>Открытый простор</td>\n",
       "      <td>221048915</td>\n",
       "      <td>2015-11-27T12:00:00.000Z</td>\n",
       "      <td>Художественный</td>\n",
       "      <td>Тачстоун Пикчерз, Кобальт Пикчерз, Бикон Пикче...</td>\n",
       "      <td>США</td>\n",
       "      <td>Кевин Костнер</td>\n",
       "      <td>Дэвид Валдес, Кевин Костнер, Джейк Эбертс</td>\n",
       "      <td>«18+» - запрещено для детей</td>\n",
       "      <td>NaN</td>\n",
       "      <td>NaN</td>\n",
       "      <td>NaN</td>\n",
       "      <td>NaN</td>\n",
       "      <td>7.2</td>\n",
       "      <td>боевик,драма,мелодрама</td>\n",
       "      <td>NaN</td>\n",
       "    </tr>\n",
       "    <tr>\n",
       "      <th>1</th>\n",
       "      <td>Особо важное задание</td>\n",
       "      <td>111013716</td>\n",
       "      <td>2016-09-13T12:00:00.000Z</td>\n",
       "      <td>Художественный</td>\n",
       "      <td>Киностудия \"Мосфильм\"</td>\n",
       "      <td>СССР</td>\n",
       "      <td>Е.Матвеев</td>\n",
       "      <td>NaN</td>\n",
       "      <td>«6+» - для детей старше 6 лет</td>\n",
       "      <td>NaN</td>\n",
       "      <td>NaN</td>\n",
       "      <td>NaN</td>\n",
       "      <td>NaN</td>\n",
       "      <td>6.6</td>\n",
       "      <td>драма,военный</td>\n",
       "      <td>NaN</td>\n",
       "    </tr>\n",
       "    <tr>\n",
       "      <th>2</th>\n",
       "      <td>Особо опасен</td>\n",
       "      <td>221038416</td>\n",
       "      <td>2016-10-10T12:00:00.000Z</td>\n",
       "      <td>Художественный</td>\n",
       "      <td>Юниверсал Пикчерз, Кикстарт Продакшнз, Марк Пл...</td>\n",
       "      <td>США</td>\n",
       "      <td>Тимур Бекмамбетов</td>\n",
       "      <td>Джим Лемли, Джейсон Нетер, Марк Е.Платт, Яйн Смит</td>\n",
       "      <td>«18+» - запрещено для детей</td>\n",
       "      <td>NaN</td>\n",
       "      <td>NaN</td>\n",
       "      <td>NaN</td>\n",
       "      <td>NaN</td>\n",
       "      <td>6.8</td>\n",
       "      <td>фантастика,боевик,триллер</td>\n",
       "      <td>NaN</td>\n",
       "    </tr>\n",
       "    <tr>\n",
       "      <th>3</th>\n",
       "      <td>Особо опасен</td>\n",
       "      <td>221026916</td>\n",
       "      <td>2016-06-10T12:00:00.000Z</td>\n",
       "      <td>Художественный</td>\n",
       "      <td>Юниверсал Пикчерз, Кикстарт Продакшнз, Марк Пл...</td>\n",
       "      <td>США</td>\n",
       "      <td>Тимур Бекмамбетов</td>\n",
       "      <td>Джим Лемли, Джейсон Нетер, Марк Е.Платт, Яйн Смит</td>\n",
       "      <td>«18+» - запрещено для детей</td>\n",
       "      <td>NaN</td>\n",
       "      <td>NaN</td>\n",
       "      <td>NaN</td>\n",
       "      <td>NaN</td>\n",
       "      <td>6.8</td>\n",
       "      <td>фантастика,боевик,триллер</td>\n",
       "      <td>NaN</td>\n",
       "    </tr>\n",
       "    <tr>\n",
       "      <th>4</th>\n",
       "      <td>Особо опасен</td>\n",
       "      <td>221030815</td>\n",
       "      <td>2015-07-29T12:00:00.000Z</td>\n",
       "      <td>Художественный</td>\n",
       "      <td>Юниверсал Пикчерз, Кикстарт Продакшнз, Марк Пл...</td>\n",
       "      <td>США</td>\n",
       "      <td>Тимур Бекмамбетов</td>\n",
       "      <td>Джим Лемли, Джейсон Нетер, Марк Е.Платт, Яйн Смит</td>\n",
       "      <td>«18+» - запрещено для детей</td>\n",
       "      <td>NaN</td>\n",
       "      <td>NaN</td>\n",
       "      <td>NaN</td>\n",
       "      <td>NaN</td>\n",
       "      <td>6.8</td>\n",
       "      <td>фантастика,боевик,триллер</td>\n",
       "      <td>NaN</td>\n",
       "    </tr>\n",
       "  </tbody>\n",
       "</table>\n",
       "</div>"
      ],
      "text/plain": [
       "                  title   puNumber           show_start_date            type  \\\n",
       "0      Открытый простор  221048915  2015-11-27T12:00:00.000Z  Художественный   \n",
       "1  Особо важное задание  111013716  2016-09-13T12:00:00.000Z  Художественный   \n",
       "2          Особо опасен  221038416  2016-10-10T12:00:00.000Z  Художественный   \n",
       "3          Особо опасен  221026916  2016-06-10T12:00:00.000Z  Художественный   \n",
       "4          Особо опасен  221030815  2015-07-29T12:00:00.000Z  Художественный   \n",
       "\n",
       "                                         film_studio production_country  \\\n",
       "0  Тачстоун Пикчерз, Кобальт Пикчерз, Бикон Пикче...                США   \n",
       "1                              Киностудия \"Мосфильм\"               СССР   \n",
       "2  Юниверсал Пикчерз, Кикстарт Продакшнз, Марк Пл...                США   \n",
       "3  Юниверсал Пикчерз, Кикстарт Продакшнз, Марк Пл...                США   \n",
       "4  Юниверсал Пикчерз, Кикстарт Продакшнз, Марк Пл...                США   \n",
       "\n",
       "            director                                           producer  \\\n",
       "0      Кевин Костнер          Дэвид Валдес, Кевин Костнер, Джейк Эбертс   \n",
       "1          Е.Матвеев                                                NaN   \n",
       "2  Тимур Бекмамбетов  Джим Лемли, Джейсон Нетер, Марк Е.Платт, Яйн Смит   \n",
       "3  Тимур Бекмамбетов  Джим Лемли, Джейсон Нетер, Марк Е.Платт, Яйн Смит   \n",
       "4  Тимур Бекмамбетов  Джим Лемли, Джейсон Нетер, Марк Е.Платт, Яйн Смит   \n",
       "\n",
       "                 age_restriction  refundable_support  nonrefundable_support  \\\n",
       "0    «18+» - запрещено для детей                 NaN                    NaN   \n",
       "1  «6+» - для детей старше 6 лет                 NaN                    NaN   \n",
       "2    «18+» - запрещено для детей                 NaN                    NaN   \n",
       "3    «18+» - запрещено для детей                 NaN                    NaN   \n",
       "4    «18+» - запрещено для детей                 NaN                    NaN   \n",
       "\n",
       "   budget financing_source ratings                     genres  box_office  \n",
       "0     NaN              NaN     7.2     боевик,драма,мелодрама         NaN  \n",
       "1     NaN              NaN     6.6              драма,военный         NaN  \n",
       "2     NaN              NaN     6.8  фантастика,боевик,триллер         NaN  \n",
       "3     NaN              NaN     6.8  фантастика,боевик,триллер         NaN  \n",
       "4     NaN              NaN     6.8  фантастика,боевик,триллер         NaN  "
      ]
     },
     "execution_count": 5,
     "metadata": {},
     "output_type": "execute_result"
    }
   ],
   "source": [
    "data_full.head()"
   ]
  },
  {
   "cell_type": "markdown",
   "metadata": {
    "id": "KLDGpPG0gFyM"
   },
   "source": [
    "## Предобработка данных"
   ]
  },
  {
   "cell_type": "markdown",
   "metadata": {
    "id": "ssWwKXsxgFyO"
   },
   "source": [
    "### Проверка типов данных\n",
    "\n",
    "- Проверим типы данных в датафрейме и преобразуем их там, где это необходимо."
   ]
  },
  {
   "cell_type": "code",
   "execution_count": 6,
   "metadata": {},
   "outputs": [],
   "source": [
    "data_full['show_start_date'] = pd.to_datetime(data_full['show_start_date'], format = '%Y-%m-%d')\n",
    "#приводим столбец 'show_start_date' к типу datetime"
   ]
  },
  {
   "cell_type": "markdown",
   "metadata": {
    "id": "i0MOLbF-gFyP"
   },
   "source": [
    "### Изучение и обработка пропусков в датафрейме"
   ]
  },
  {
   "cell_type": "code",
   "execution_count": 7,
   "metadata": {
    "id": "8MJD_lkngFyP"
   },
   "outputs": [
    {
     "name": "stdout",
     "output_type": "stream",
     "text": [
      "<class 'pandas.core.frame.DataFrame'>\n",
      "Int64Index: 7485 entries, 0 to 7484\n",
      "Data columns (total 16 columns):\n",
      " #   Column                 Non-Null Count  Dtype              \n",
      "---  ------                 --------------  -----              \n",
      " 0   title                  7485 non-null   object             \n",
      " 1   puNumber               7485 non-null   int64              \n",
      " 2   show_start_date        7485 non-null   datetime64[ns, UTC]\n",
      " 3   type                   7485 non-null   object             \n",
      " 4   film_studio            7467 non-null   object             \n",
      " 5   production_country     7483 non-null   object             \n",
      " 6   director               7476 non-null   object             \n",
      " 7   producer               6917 non-null   object             \n",
      " 8   age_restriction        7485 non-null   object             \n",
      " 9   refundable_support     332 non-null    float64            \n",
      " 10  nonrefundable_support  332 non-null    float64            \n",
      " 11  budget                 332 non-null    float64            \n",
      " 12  financing_source       332 non-null    object             \n",
      " 13  ratings                6519 non-null   object             \n",
      " 14  genres                 6510 non-null   object             \n",
      " 15  box_office             3158 non-null   float64            \n",
      "dtypes: datetime64[ns, UTC](1), float64(4), int64(1), object(10)\n",
      "memory usage: 994.1+ KB\n"
     ]
    }
   ],
   "source": [
    "data_full.info()"
   ]
  },
  {
   "cell_type": "code",
   "execution_count": 8,
   "metadata": {},
   "outputs": [
    {
     "data": {
      "text/plain": [
       "<AxesSubplot:>"
      ]
     },
     "execution_count": 8,
     "metadata": {},
     "output_type": "execute_result"
    },
    {
     "data": {
      "image/png": "[encoded data removed]",
      "text/plain": [
       "<Figure size 432x288 with 2 Axes>"
      ]
     },
     "metadata": {
      "needs_background": "light"
     },
     "output_type": "display_data"
    }
   ],
   "source": [
    "sns.heatmap(data_full.isna(), yticklabels = False, cbar = True) #смотрим общую картину пропусков"
   ]
  },
  {
   "cell_type": "code",
   "execution_count": 9,
   "metadata": {},
   "outputs": [
    {
     "data": {
      "text/html": [
       "<style  type=\"text/css\" >\n",
       "#T_e8b0c_row0_col0,#T_e8b0c_row1_col0,#T_e8b0c_row2_col0,#T_e8b0c_row3_col0{\n",
       "            background-color:  #67000d;\n",
       "            color:  #f1f1f1;\n",
       "        }#T_e8b0c_row4_col0{\n",
       "            background-color:  #f14331;\n",
       "            color:  #f1f1f1;\n",
       "        }#T_e8b0c_row5_col0,#T_e8b0c_row6_col0{\n",
       "            background-color:  #fedecf;\n",
       "            color:  #000000;\n",
       "        }#T_e8b0c_row7_col0{\n",
       "            background-color:  #fee8dd;\n",
       "            color:  #000000;\n",
       "        }#T_e8b0c_row8_col0,#T_e8b0c_row9_col0,#T_e8b0c_row10_col0,#T_e8b0c_row11_col0,#T_e8b0c_row12_col0,#T_e8b0c_row13_col0,#T_e8b0c_row14_col0,#T_e8b0c_row15_col0{\n",
       "            background-color:  #fff5f0;\n",
       "            color:  #000000;\n",
       "        }</style><table id=\"T_e8b0c_\" ><thead>    <tr>        <th class=\"blank level0\" ></th>        <th class=\"col_heading level0 col0\" >0</th>    </tr></thead><tbody>\n",
       "                <tr>\n",
       "                        <th id=\"T_e8b0c_level0_row0\" class=\"row_heading level0 row0\" >refundable_support</th>\n",
       "                        <td id=\"T_e8b0c_row0_col0\" class=\"data row0 col0\" >0.955645</td>\n",
       "            </tr>\n",
       "            <tr>\n",
       "                        <th id=\"T_e8b0c_level0_row1\" class=\"row_heading level0 row1\" >nonrefundable_support</th>\n",
       "                        <td id=\"T_e8b0c_row1_col0\" class=\"data row1 col0\" >0.955645</td>\n",
       "            </tr>\n",
       "            <tr>\n",
       "                        <th id=\"T_e8b0c_level0_row2\" class=\"row_heading level0 row2\" >budget</th>\n",
       "                        <td id=\"T_e8b0c_row2_col0\" class=\"data row2 col0\" >0.955645</td>\n",
       "            </tr>\n",
       "            <tr>\n",
       "                        <th id=\"T_e8b0c_level0_row3\" class=\"row_heading level0 row3\" >financing_source</th>\n",
       "                        <td id=\"T_e8b0c_row3_col0\" class=\"data row3 col0\" >0.955645</td>\n",
       "            </tr>\n",
       "            <tr>\n",
       "                        <th id=\"T_e8b0c_level0_row4\" class=\"row_heading level0 row4\" >box_office</th>\n",
       "                        <td id=\"T_e8b0c_row4_col0\" class=\"data row4 col0\" >0.578090</td>\n",
       "            </tr>\n",
       "            <tr>\n",
       "                        <th id=\"T_e8b0c_level0_row5\" class=\"row_heading level0 row5\" >genres</th>\n",
       "                        <td id=\"T_e8b0c_row5_col0\" class=\"data row5 col0\" >0.130261</td>\n",
       "            </tr>\n",
       "            <tr>\n",
       "                        <th id=\"T_e8b0c_level0_row6\" class=\"row_heading level0 row6\" >ratings</th>\n",
       "                        <td id=\"T_e8b0c_row6_col0\" class=\"data row6 col0\" >0.129058</td>\n",
       "            </tr>\n",
       "            <tr>\n",
       "                        <th id=\"T_e8b0c_level0_row7\" class=\"row_heading level0 row7\" >producer</th>\n",
       "                        <td id=\"T_e8b0c_row7_col0\" class=\"data row7 col0\" >0.075885</td>\n",
       "            </tr>\n",
       "            <tr>\n",
       "                        <th id=\"T_e8b0c_level0_row8\" class=\"row_heading level0 row8\" >film_studio</th>\n",
       "                        <td id=\"T_e8b0c_row8_col0\" class=\"data row8 col0\" >0.002405</td>\n",
       "            </tr>\n",
       "            <tr>\n",
       "                        <th id=\"T_e8b0c_level0_row9\" class=\"row_heading level0 row9\" >director</th>\n",
       "                        <td id=\"T_e8b0c_row9_col0\" class=\"data row9 col0\" >0.001202</td>\n",
       "            </tr>\n",
       "            <tr>\n",
       "                        <th id=\"T_e8b0c_level0_row10\" class=\"row_heading level0 row10\" >production_country</th>\n",
       "                        <td id=\"T_e8b0c_row10_col0\" class=\"data row10 col0\" >0.000267</td>\n",
       "            </tr>\n",
       "            <tr>\n",
       "                        <th id=\"T_e8b0c_level0_row11\" class=\"row_heading level0 row11\" >title</th>\n",
       "                        <td id=\"T_e8b0c_row11_col0\" class=\"data row11 col0\" >0.000000</td>\n",
       "            </tr>\n",
       "            <tr>\n",
       "                        <th id=\"T_e8b0c_level0_row12\" class=\"row_heading level0 row12\" >puNumber</th>\n",
       "                        <td id=\"T_e8b0c_row12_col0\" class=\"data row12 col0\" >0.000000</td>\n",
       "            </tr>\n",
       "            <tr>\n",
       "                        <th id=\"T_e8b0c_level0_row13\" class=\"row_heading level0 row13\" >show_start_date</th>\n",
       "                        <td id=\"T_e8b0c_row13_col0\" class=\"data row13 col0\" >0.000000</td>\n",
       "            </tr>\n",
       "            <tr>\n",
       "                        <th id=\"T_e8b0c_level0_row14\" class=\"row_heading level0 row14\" >type</th>\n",
       "                        <td id=\"T_e8b0c_row14_col0\" class=\"data row14 col0\" >0.000000</td>\n",
       "            </tr>\n",
       "            <tr>\n",
       "                        <th id=\"T_e8b0c_level0_row15\" class=\"row_heading level0 row15\" >age_restriction</th>\n",
       "                        <td id=\"T_e8b0c_row15_col0\" class=\"data row15 col0\" >0.000000</td>\n",
       "            </tr>\n",
       "    </tbody></table>"
      ],
      "text/plain": [
       "<pandas.io.formats.style.Styler at 0x7f61c48678b0>"
      ]
     },
     "execution_count": 9,
     "metadata": {},
     "output_type": "execute_result"
    }
   ],
   "source": [
    "# другой вид отображение пропсков\n",
    "data_full.isna().mean().sort_values(ascending = False).to_frame().style.background_gradient(cmap='Reds')"
   ]
  },
  {
   "cell_type": "code",
   "execution_count": 10,
   "metadata": {},
   "outputs": [
    {
     "data": {
      "text/plain": [
       "18"
      ]
     },
     "execution_count": 10,
     "metadata": {},
     "output_type": "execute_result"
    }
   ],
   "source": [
    "data_full['film_studio'].isna().sum()"
   ]
  },
  {
   "cell_type": "code",
   "execution_count": 11,
   "metadata": {},
   "outputs": [
    {
     "data": {
      "text/plain": [
       "Киностудия \"Мосфильм\"                                                                                        341\n",
       "ООО \"Мульт в кино\"                                                                                            57\n",
       "Анимаккорд Лтд                                                                                                23\n",
       "ООО \"Мульт в кино\"                                                                                            18\n",
       "ФГУП \"ТПО \"Киностудия \"Союзмультфильм\"                                                                        16\n",
       "                                                                                                            ... \n",
       "ООО \"Муви Про\"                                                                                                 1\n",
       "Гио Интертейнмент                                                                                              1\n",
       "Еуропа Корпорейшн, Франс 3 Синема, Бибо Фильм, Вокинг зе Дог, юФильм                                           1\n",
       "Эс Ис Продакшн, Тоник Продакшнз, Уолден Медиа, Вайнштейн Компани                                               1\n",
       "Арте, кооп99 фильмпродукцион, Эссеншиал Фильмпродукцион, Паризьен де Продюксьон, Термидор Фильмпродукцион      1\n",
       "Name: film_studio, Length: 5490, dtype: int64"
      ]
     },
     "execution_count": 11,
     "metadata": {},
     "output_type": "execute_result"
    }
   ],
   "source": [
    "data_full['film_studio'].value_counts()"
   ]
  },
  {
   "cell_type": "code",
   "execution_count": 12,
   "metadata": {},
   "outputs": [
    {
     "data": {
      "text/html": [
       "<div>\n",
       "<style scoped>\n",
       "    .dataframe tbody tr th:only-of-type {\n",
       "        vertical-align: middle;\n",
       "    }\n",
       "\n",
       "    .dataframe tbody tr th {\n",
       "        vertical-align: top;\n",
       "    }\n",
       "\n",
       "    .dataframe thead th {\n",
       "        text-align: right;\n",
       "    }\n",
       "</style>\n",
       "<table border=\"1\" class=\"dataframe\">\n",
       "  <thead>\n",
       "    <tr style=\"text-align: right;\">\n",
       "      <th></th>\n",
       "      <th>title</th>\n",
       "      <th>puNumber</th>\n",
       "      <th>show_start_date</th>\n",
       "      <th>type</th>\n",
       "      <th>film_studio</th>\n",
       "      <th>production_country</th>\n",
       "      <th>director</th>\n",
       "      <th>producer</th>\n",
       "      <th>age_restriction</th>\n",
       "      <th>refundable_support</th>\n",
       "      <th>nonrefundable_support</th>\n",
       "      <th>budget</th>\n",
       "      <th>financing_source</th>\n",
       "      <th>ratings</th>\n",
       "      <th>genres</th>\n",
       "      <th>box_office</th>\n",
       "    </tr>\n",
       "  </thead>\n",
       "  <tbody>\n",
       "  </tbody>\n",
       "</table>\n",
       "</div>"
      ],
      "text/plain": [
       "Empty DataFrame\n",
       "Columns: [title, puNumber, show_start_date, type, film_studio, production_country, director, producer, age_restriction, refundable_support, nonrefundable_support, budget, financing_source, ratings, genres, box_office]\n",
       "Index: []"
      ]
     },
     "execution_count": 12,
     "metadata": {},
     "output_type": "execute_result"
    }
   ],
   "source": [
    "data_full[data_full['film_studio'].isna()]\n",
    "len(data_full[data_full['film_studio'].isna()]) / len(data_full['film_studio']) \n",
    "\n",
    "data_full[(data_full['film_studio'].isna()) & (data_full['budget'] >= 0)] \n"
   ]
  },
  {
   "cell_type": "markdown",
   "metadata": {},
   "source": [
    "Пропусков меньше 10%, какой-то взаимосвязи нет, оставим как есть. Пропущенные фильмы не финансировались из госбюджета."
   ]
  },
  {
   "cell_type": "code",
   "execution_count": 13,
   "metadata": {},
   "outputs": [],
   "source": [
    "data_full[data_full['production_country'].isna()]\n",
    "data_full['production_country'] = data_full['production_country'].fillna('Россия')"
   ]
  },
  {
   "cell_type": "markdown",
   "metadata": {},
   "source": [
    "Пропуски в production_country заменили на Россия"
   ]
  },
  {
   "cell_type": "code",
   "execution_count": 14,
   "metadata": {},
   "outputs": [
    {
     "data": {
      "text/plain": [
       "0.0012024048096192384"
      ]
     },
     "execution_count": 14,
     "metadata": {},
     "output_type": "execute_result"
    }
   ],
   "source": [
    "data_full[data_full['director'].isna()]\n",
    "len(data_full[data_full['director'].isna()]) / len(data_full['director'])"
   ]
  },
  {
   "cell_type": "markdown",
   "metadata": {},
   "source": [
    "Пропусков в director слишком мало (1%). Оставляем как есть."
   ]
  },
  {
   "cell_type": "code",
   "execution_count": 15,
   "metadata": {},
   "outputs": [
    {
     "data": {
      "text/plain": [
       "0.07588510354041417"
      ]
     },
     "execution_count": 15,
     "metadata": {},
     "output_type": "execute_result"
    }
   ],
   "source": [
    "len(data_full[data_full['producer'].isna()]) / len(data_full['producer'])"
   ]
  },
  {
   "cell_type": "markdown",
   "metadata": {},
   "source": [
    "Пропусков меньше 10%, какой-то взаимосвязи нет, оставим как есть."
   ]
  },
  {
   "cell_type": "markdown",
   "metadata": {},
   "source": [
    "Согласно заданию, столбец budget уже включает в себя полный объём государственной поддержки. Данные в этом столбце указаны только для тех фильмов, которые получили государственную поддержку.' Количество пропусков в столбцах 'refundable_support', 'nonrefundable_support', 'budget' и 'financing_source' совпадает, соответственно все пропуски оставляем без изменений."
   ]
  },
  {
   "cell_type": "code",
   "execution_count": 16,
   "metadata": {},
   "outputs": [
    {
     "data": {
      "text/plain": [
       "count    3.320000e+02\n",
       "mean     4.898099e+07\n",
       "std      5.998012e+07\n",
       "min      0.000000e+00\n",
       "25%      2.500000e+07\n",
       "50%      3.000000e+07\n",
       "75%      4.037500e+07\n",
       "max      4.000000e+08\n",
       "Name: nonrefundable_support, dtype: float64"
      ]
     },
     "execution_count": 16,
     "metadata": {},
     "output_type": "execute_result"
    }
   ],
   "source": [
    "data_full['refundable_support'].describe()\n",
    "data_full['nonrefundable_support'].describe()"
   ]
  },
  {
   "cell_type": "code",
   "execution_count": 17,
   "metadata": {},
   "outputs": [
    {
     "data": {
      "text/plain": [
       "0.13293253173012692"
      ]
     },
     "execution_count": 17,
     "metadata": {},
     "output_type": "execute_result"
    }
   ],
   "source": [
    "data_full['ratings'].unique()\n",
    "data_full['ratings'] = pd.to_numeric(data_full['ratings'], errors = 'coerce')\n",
    "len(data_full[data_full['ratings'].isna()]) / len(data_full['ratings'])"
   ]
  },
  {
   "cell_type": "code",
   "execution_count": 18,
   "metadata": {},
   "outputs": [
    {
     "data": {
      "text/plain": [
       "count    6490.000000\n",
       "mean        6.479245\n",
       "std         1.101665\n",
       "min         1.000000\n",
       "25%         5.900000\n",
       "50%         6.600000\n",
       "75%         7.200000\n",
       "max         9.200000\n",
       "Name: ratings, dtype: float64"
      ]
     },
     "execution_count": 18,
     "metadata": {},
     "output_type": "execute_result"
    }
   ],
   "source": [
    "data_full['ratings'].describe()"
   ]
  },
  {
   "cell_type": "code",
   "execution_count": 19,
   "metadata": {},
   "outputs": [],
   "source": [
    "data_full['ratings'] = data_full['ratings'].fillna(data_full['ratings'].median())"
   ]
  },
  {
   "cell_type": "markdown",
   "metadata": {},
   "source": [
    "В ratings пропусков 13%. Значения mean и median очень близки, стандартное отклонение std = 1.1, это говорит о том, что данные равномерные. Меняем пропуски на median"
   ]
  },
  {
   "cell_type": "code",
   "execution_count": 20,
   "metadata": {},
   "outputs": [
    {
     "data": {
      "text/plain": [
       "0.13026052104208416"
      ]
     },
     "execution_count": 20,
     "metadata": {},
     "output_type": "execute_result"
    }
   ],
   "source": [
    "len(data_full[data_full['genres'].isna()]) / len(data_full['genres'])"
   ]
  },
  {
   "cell_type": "code",
   "execution_count": 21,
   "metadata": {
    "scrolled": true
   },
   "outputs": [
    {
     "data": {
      "text/html": [
       "<div>\n",
       "<style scoped>\n",
       "    .dataframe tbody tr th:only-of-type {\n",
       "        vertical-align: middle;\n",
       "    }\n",
       "\n",
       "    .dataframe tbody tr th {\n",
       "        vertical-align: top;\n",
       "    }\n",
       "\n",
       "    .dataframe thead th {\n",
       "        text-align: right;\n",
       "    }\n",
       "</style>\n",
       "<table border=\"1\" class=\"dataframe\">\n",
       "  <thead>\n",
       "    <tr style=\"text-align: right;\">\n",
       "      <th></th>\n",
       "      <th>title</th>\n",
       "      <th>puNumber</th>\n",
       "      <th>show_start_date</th>\n",
       "      <th>type</th>\n",
       "      <th>film_studio</th>\n",
       "      <th>production_country</th>\n",
       "      <th>director</th>\n",
       "      <th>producer</th>\n",
       "      <th>age_restriction</th>\n",
       "      <th>refundable_support</th>\n",
       "      <th>nonrefundable_support</th>\n",
       "      <th>budget</th>\n",
       "      <th>financing_source</th>\n",
       "      <th>ratings</th>\n",
       "      <th>genres</th>\n",
       "      <th>box_office</th>\n",
       "    </tr>\n",
       "  </thead>\n",
       "  <tbody>\n",
       "    <tr>\n",
       "      <th>43</th>\n",
       "      <td>Мемуары гейши (по роману Артура Голдена)</td>\n",
       "      <td>121000606</td>\n",
       "      <td>2012-12-14 12:00:00+00:00</td>\n",
       "      <td>Художественный</td>\n",
       "      <td>Коламбия Пикчерз Корпорейшн, ДримУоркс ЭсКейДж...</td>\n",
       "      <td>США</td>\n",
       "      <td>Роб Маршалл</td>\n",
       "      <td>Стивен Спилберг, Люси Фишер, Дуглас Уик, Джон ...</td>\n",
       "      <td>«12+» - для детей старше 12 лет</td>\n",
       "      <td>NaN</td>\n",
       "      <td>NaN</td>\n",
       "      <td>NaN</td>\n",
       "      <td>NaN</td>\n",
       "      <td>6.6</td>\n",
       "      <td>NaN</td>\n",
       "      <td>NaN</td>\n",
       "    </tr>\n",
       "    <tr>\n",
       "      <th>150</th>\n",
       "      <td>Жди меня</td>\n",
       "      <td>111013615</td>\n",
       "      <td>2015-08-25 12:00:00+00:00</td>\n",
       "      <td>Художественный</td>\n",
       "      <td>Киностудия \"Мосфильм\"</td>\n",
       "      <td>СССР</td>\n",
       "      <td>А.Столпер, Б.Иванов</td>\n",
       "      <td>NaN</td>\n",
       "      <td>«6+» - для детей старше 6 лет</td>\n",
       "      <td>NaN</td>\n",
       "      <td>NaN</td>\n",
       "      <td>NaN</td>\n",
       "      <td>NaN</td>\n",
       "      <td>6.6</td>\n",
       "      <td>NaN</td>\n",
       "      <td>NaN</td>\n",
       "    </tr>\n",
       "    <tr>\n",
       "      <th>154</th>\n",
       "      <td>Дом из песка и тумана (по книге Андре Дюбуи III)</td>\n",
       "      <td>221037813</td>\n",
       "      <td>2013-10-25 12:00:00+00:00</td>\n",
       "      <td>Художественный</td>\n",
       "      <td>Кобальт Пикчерз</td>\n",
       "      <td>США</td>\n",
       "      <td>Вадим Перельман</td>\n",
       "      <td>Майкл Лондон</td>\n",
       "      <td>«16+» - для детей старше 16 лет</td>\n",
       "      <td>NaN</td>\n",
       "      <td>NaN</td>\n",
       "      <td>NaN</td>\n",
       "      <td>NaN</td>\n",
       "      <td>6.6</td>\n",
       "      <td>NaN</td>\n",
       "      <td>NaN</td>\n",
       "    </tr>\n",
       "    <tr>\n",
       "      <th>159</th>\n",
       "      <td>Жемчужная девушка</td>\n",
       "      <td>224011014</td>\n",
       "      <td>2014-08-28 12:00:00+00:00</td>\n",
       "      <td>Художественный</td>\n",
       "      <td>Чешское телевидение,Студия \"Три брата\" агентск...</td>\n",
       "      <td>Чехия</td>\n",
       "      <td>Владимир Дрга</td>\n",
       "      <td>NaN</td>\n",
       "      <td>«0+» - для любой зрительской аудитории</td>\n",
       "      <td>NaN</td>\n",
       "      <td>NaN</td>\n",
       "      <td>NaN</td>\n",
       "      <td>NaN</td>\n",
       "      <td>6.6</td>\n",
       "      <td>NaN</td>\n",
       "      <td>NaN</td>\n",
       "    </tr>\n",
       "    <tr>\n",
       "      <th>227</th>\n",
       "      <td>Полустанок</td>\n",
       "      <td>111026714</td>\n",
       "      <td>2014-12-24 12:00:00+00:00</td>\n",
       "      <td>Художественный</td>\n",
       "      <td>Киностудия \"Мосфильм\"</td>\n",
       "      <td>СССР</td>\n",
       "      <td>Б.Барнет</td>\n",
       "      <td>NaN</td>\n",
       "      <td>«12+» - для детей старше 12 лет</td>\n",
       "      <td>NaN</td>\n",
       "      <td>NaN</td>\n",
       "      <td>NaN</td>\n",
       "      <td>NaN</td>\n",
       "      <td>6.6</td>\n",
       "      <td>NaN</td>\n",
       "      <td>NaN</td>\n",
       "    </tr>\n",
       "    <tr>\n",
       "      <th>...</th>\n",
       "      <td>...</td>\n",
       "      <td>...</td>\n",
       "      <td>...</td>\n",
       "      <td>...</td>\n",
       "      <td>...</td>\n",
       "      <td>...</td>\n",
       "      <td>...</td>\n",
       "      <td>...</td>\n",
       "      <td>...</td>\n",
       "      <td>...</td>\n",
       "      <td>...</td>\n",
       "      <td>...</td>\n",
       "      <td>...</td>\n",
       "      <td>...</td>\n",
       "      <td>...</td>\n",
       "      <td>...</td>\n",
       "    </tr>\n",
       "    <tr>\n",
       "      <th>7478</th>\n",
       "      <td>Эколав</td>\n",
       "      <td>111023219</td>\n",
       "      <td>2019-12-26 12:00:00+00:00</td>\n",
       "      <td>Художественный</td>\n",
       "      <td>ВГИК</td>\n",
       "      <td>Россия</td>\n",
       "      <td>Д.Григорьев</td>\n",
       "      <td>ВГИК</td>\n",
       "      <td>«18+» - запрещено для детей</td>\n",
       "      <td>NaN</td>\n",
       "      <td>NaN</td>\n",
       "      <td>NaN</td>\n",
       "      <td>NaN</td>\n",
       "      <td>6.6</td>\n",
       "      <td>NaN</td>\n",
       "      <td>NaN</td>\n",
       "    </tr>\n",
       "    <tr>\n",
       "      <th>7479</th>\n",
       "      <td>Акрам Хан: Родом из Карри Хауса</td>\n",
       "      <td>126007919</td>\n",
       "      <td>2019-12-23 12:00:00+00:00</td>\n",
       "      <td>Прочие</td>\n",
       "      <td>Свон Филмз</td>\n",
       "      <td>Великобритания</td>\n",
       "      <td>Ник Пойнц</td>\n",
       "      <td>Поппи Бегум, Ник Пойнц</td>\n",
       "      <td>«12+» - для детей старше 12 лет</td>\n",
       "      <td>NaN</td>\n",
       "      <td>NaN</td>\n",
       "      <td>NaN</td>\n",
       "      <td>NaN</td>\n",
       "      <td>6.6</td>\n",
       "      <td>NaN</td>\n",
       "      <td>219569.0</td>\n",
       "    </tr>\n",
       "    <tr>\n",
       "      <th>7480</th>\n",
       "      <td>Сад художника: Американский импрессионизм</td>\n",
       "      <td>126008019</td>\n",
       "      <td>2019-12-23 12:00:00+00:00</td>\n",
       "      <td>Прочие</td>\n",
       "      <td>Севен Артс Продакшнз</td>\n",
       "      <td>Великобритания</td>\n",
       "      <td>Фил Грабски</td>\n",
       "      <td>Фил Грабски</td>\n",
       "      <td>«12+» - для детей старше 12 лет</td>\n",
       "      <td>NaN</td>\n",
       "      <td>NaN</td>\n",
       "      <td>NaN</td>\n",
       "      <td>NaN</td>\n",
       "      <td>6.6</td>\n",
       "      <td>NaN</td>\n",
       "      <td>NaN</td>\n",
       "    </tr>\n",
       "    <tr>\n",
       "      <th>7482</th>\n",
       "      <td>Щенячий патруль: Скорей спешим на помощь!</td>\n",
       "      <td>124010819</td>\n",
       "      <td>2019-12-28 12:00:00+00:00</td>\n",
       "      <td>Художественный</td>\n",
       "      <td>Никелодеон Анимейшн Студиос, Спин Мастер</td>\n",
       "      <td>США - Канада</td>\n",
       "      <td>Чарльз Е.Бастьен</td>\n",
       "      <td>Дженнифер Додж</td>\n",
       "      <td>«0+» - для любой зрительской аудитории</td>\n",
       "      <td>NaN</td>\n",
       "      <td>NaN</td>\n",
       "      <td>NaN</td>\n",
       "      <td>NaN</td>\n",
       "      <td>6.6</td>\n",
       "      <td>NaN</td>\n",
       "      <td>NaN</td>\n",
       "    </tr>\n",
       "    <tr>\n",
       "      <th>7483</th>\n",
       "      <td>Машины песенки. Серия \"Испанские мотивы\"</td>\n",
       "      <td>124010619</td>\n",
       "      <td>2019-12-30 12:00:00+00:00</td>\n",
       "      <td>Анимационный</td>\n",
       "      <td>Анимаккорд Лтд., ООО Студия \"АНИМАККОРД\"</td>\n",
       "      <td>Республика Кипр, Россия</td>\n",
       "      <td>А.Беляев</td>\n",
       "      <td>Д.Ловейко</td>\n",
       "      <td>«0+» - для любой зрительской аудитории</td>\n",
       "      <td>NaN</td>\n",
       "      <td>NaN</td>\n",
       "      <td>NaN</td>\n",
       "      <td>NaN</td>\n",
       "      <td>6.6</td>\n",
       "      <td>NaN</td>\n",
       "      <td>NaN</td>\n",
       "    </tr>\n",
       "  </tbody>\n",
       "</table>\n",
       "<p>975 rows × 16 columns</p>\n",
       "</div>"
      ],
      "text/plain": [
       "                                                 title   puNumber  \\\n",
       "43            Мемуары гейши (по роману Артура Голдена)  121000606   \n",
       "150                                           Жди меня  111013615   \n",
       "154   Дом из песка и тумана (по книге Андре Дюбуи III)  221037813   \n",
       "159                                  Жемчужная девушка  224011014   \n",
       "227                                         Полустанок  111026714   \n",
       "...                                                ...        ...   \n",
       "7478                                            Эколав  111023219   \n",
       "7479                   Акрам Хан: Родом из Карри Хауса  126007919   \n",
       "7480         Сад художника: Американский импрессионизм  126008019   \n",
       "7482         Щенячий патруль: Скорей спешим на помощь!  124010819   \n",
       "7483          Машины песенки. Серия \"Испанские мотивы\"  124010619   \n",
       "\n",
       "               show_start_date             type  \\\n",
       "43   2012-12-14 12:00:00+00:00   Художественный   \n",
       "150  2015-08-25 12:00:00+00:00   Художественный   \n",
       "154  2013-10-25 12:00:00+00:00   Художественный   \n",
       "159  2014-08-28 12:00:00+00:00   Художественный   \n",
       "227  2014-12-24 12:00:00+00:00   Художественный   \n",
       "...                        ...              ...   \n",
       "7478 2019-12-26 12:00:00+00:00   Художественный   \n",
       "7479 2019-12-23 12:00:00+00:00           Прочие   \n",
       "7480 2019-12-23 12:00:00+00:00           Прочие   \n",
       "7482 2019-12-28 12:00:00+00:00   Художественный   \n",
       "7483 2019-12-30 12:00:00+00:00     Анимационный   \n",
       "\n",
       "                                            film_studio  \\\n",
       "43    Коламбия Пикчерз Корпорейшн, ДримУоркс ЭсКейДж...   \n",
       "150                               Киностудия \"Мосфильм\"   \n",
       "154                                     Кобальт Пикчерз   \n",
       "159   Чешское телевидение,Студия \"Три брата\" агентск...   \n",
       "227                               Киностудия \"Мосфильм\"   \n",
       "...                                                 ...   \n",
       "7478                                               ВГИК   \n",
       "7479                                         Свон Филмз   \n",
       "7480                               Севен Артс Продакшнз   \n",
       "7482           Никелодеон Анимейшн Студиос, Спин Мастер   \n",
       "7483           Анимаккорд Лтд., ООО Студия \"АНИМАККОРД\"   \n",
       "\n",
       "           production_country             director  \\\n",
       "43                        США          Роб Маршалл   \n",
       "150                      СССР  А.Столпер, Б.Иванов   \n",
       "154                       США      Вадим Перельман   \n",
       "159                     Чехия        Владимир Дрга   \n",
       "227                      СССР             Б.Барнет   \n",
       "...                       ...                  ...   \n",
       "7478                   Россия          Д.Григорьев   \n",
       "7479           Великобритания            Ник Пойнц   \n",
       "7480           Великобритания          Фил Грабски   \n",
       "7482             США - Канада     Чарльз Е.Бастьен   \n",
       "7483  Республика Кипр, Россия             А.Беляев   \n",
       "\n",
       "                                               producer  \\\n",
       "43    Стивен Спилберг, Люси Фишер, Дуглас Уик, Джон ...   \n",
       "150                                                 NaN   \n",
       "154                                        Майкл Лондон   \n",
       "159                                                 NaN   \n",
       "227                                                 NaN   \n",
       "...                                                 ...   \n",
       "7478                                               ВГИК   \n",
       "7479                             Поппи Бегум, Ник Пойнц   \n",
       "7480                                        Фил Грабски   \n",
       "7482                                     Дженнифер Додж   \n",
       "7483                                          Д.Ловейко   \n",
       "\n",
       "                             age_restriction  refundable_support  \\\n",
       "43           «12+» - для детей старше 12 лет                 NaN   \n",
       "150            «6+» - для детей старше 6 лет                 NaN   \n",
       "154          «16+» - для детей старше 16 лет                 NaN   \n",
       "159   «0+» - для любой зрительской аудитории                 NaN   \n",
       "227          «12+» - для детей старше 12 лет                 NaN   \n",
       "...                                      ...                 ...   \n",
       "7478             «18+» - запрещено для детей                 NaN   \n",
       "7479         «12+» - для детей старше 12 лет                 NaN   \n",
       "7480         «12+» - для детей старше 12 лет                 NaN   \n",
       "7482  «0+» - для любой зрительской аудитории                 NaN   \n",
       "7483  «0+» - для любой зрительской аудитории                 NaN   \n",
       "\n",
       "      nonrefundable_support  budget financing_source  ratings genres  \\\n",
       "43                      NaN     NaN              NaN      6.6    NaN   \n",
       "150                     NaN     NaN              NaN      6.6    NaN   \n",
       "154                     NaN     NaN              NaN      6.6    NaN   \n",
       "159                     NaN     NaN              NaN      6.6    NaN   \n",
       "227                     NaN     NaN              NaN      6.6    NaN   \n",
       "...                     ...     ...              ...      ...    ...   \n",
       "7478                    NaN     NaN              NaN      6.6    NaN   \n",
       "7479                    NaN     NaN              NaN      6.6    NaN   \n",
       "7480                    NaN     NaN              NaN      6.6    NaN   \n",
       "7482                    NaN     NaN              NaN      6.6    NaN   \n",
       "7483                    NaN     NaN              NaN      6.6    NaN   \n",
       "\n",
       "      box_office  \n",
       "43           NaN  \n",
       "150          NaN  \n",
       "154          NaN  \n",
       "159          NaN  \n",
       "227          NaN  \n",
       "...          ...  \n",
       "7478         NaN  \n",
       "7479    219569.0  \n",
       "7480         NaN  \n",
       "7482         NaN  \n",
       "7483         NaN  \n",
       "\n",
       "[975 rows x 16 columns]"
      ]
     },
     "execution_count": 21,
     "metadata": {},
     "output_type": "execute_result"
    }
   ],
   "source": [
    "data_full[data_full['genres'].isna()]"
   ]
  },
  {
   "cell_type": "markdown",
   "metadata": {},
   "source": [
    "В genres пропусков 13%. Взаимосвязи в пропусках нет, оставляем как есть."
   ]
  },
  {
   "cell_type": "code",
   "execution_count": 22,
   "metadata": {},
   "outputs": [
    {
     "name": "stdout",
     "output_type": "stream",
     "text": [
      "<class 'pandas.core.frame.DataFrame'>\n",
      "Int64Index: 7485 entries, 0 to 7484\n",
      "Data columns (total 16 columns):\n",
      " #   Column                 Non-Null Count  Dtype              \n",
      "---  ------                 --------------  -----              \n",
      " 0   title                  7485 non-null   object             \n",
      " 1   puNumber               7485 non-null   int64              \n",
      " 2   show_start_date        7485 non-null   datetime64[ns, UTC]\n",
      " 3   type                   7485 non-null   object             \n",
      " 4   film_studio            7467 non-null   object             \n",
      " 5   production_country     7485 non-null   object             \n",
      " 6   director               7476 non-null   object             \n",
      " 7   producer               6917 non-null   object             \n",
      " 8   age_restriction        7485 non-null   object             \n",
      " 9   refundable_support     332 non-null    float64            \n",
      " 10  nonrefundable_support  332 non-null    float64            \n",
      " 11  budget                 332 non-null    float64            \n",
      " 12  financing_source       332 non-null    object             \n",
      " 13  ratings                7485 non-null   float64            \n",
      " 14  genres                 6510 non-null   object             \n",
      " 15  box_office             3158 non-null   float64            \n",
      "dtypes: datetime64[ns, UTC](1), float64(5), int64(1), object(9)\n",
      "memory usage: 994.1+ KB\n"
     ]
    }
   ],
   "source": [
    "data_full[data_full['box_office'].isna()]\n",
    "data_full['box_office'].describe()\n",
    "data_full.info()"
   ]
  },
  {
   "cell_type": "markdown",
   "metadata": {},
   "source": [
    "ВЫВОД.\n",
    "Были обнаружены пропуски в следующих столбцах:\n",
    "1. 'film_studio' - пропусков слишком мало (2%), и они не финансировались из госбюджета. Не будем тратить на них время, оставляем как есть.\n",
    "2. 'production_country' - два пропуска из России. Заменили.\n",
    "3. 'director' - пропусков слишком мало (1%). Оставляем как есть.\n",
    "4. 'producer' - пропусков мало (7,5%). Оставляем как есть.\n",
    "5. В задании указано: 'Обратите внимание, что столбец budget уже включает в себя полный объём государственной поддержки. Данные в этом столбце указаны только для тех фильмов, которые получили государственную поддержку.' Количество пропусков в столбцах 'refundable_support', 'nonrefundable_support', 'budget' и 'financing_source' совпадает, соответственно все пропуски оставляем без изменений.\n",
    "6. 'ratings' - были пропуски и значения в %. Данные привели к типу 'float', а значения в процентах перевели в NaN. Mean и median очень близки, стандартное отклонение std = 1.1, это говорит о том, что данные равномерные. Заменили пропуски на median.\n",
    "7. 'genres' - пропусков 13%. Взаимосвязи в пропусках нет, оставляем как есть.\n",
    "8. 'box_office' - пропусков много, оставили без изменений."
   ]
  },
  {
   "cell_type": "markdown",
   "metadata": {
    "id": "4c6k1t9ygFyQ"
   },
   "source": [
    "### Изучим дубликаты в датафрейме\n"
   ]
  },
  {
   "cell_type": "code",
   "execution_count": 23,
   "metadata": {
    "id": "aKck8RIdgFyQ"
   },
   "outputs": [
    {
     "data": {
      "text/plain": [
       "0"
      ]
     },
     "execution_count": 23,
     "metadata": {},
     "output_type": "execute_result"
    }
   ],
   "source": [
    "data_full.duplicated().sum()"
   ]
  },
  {
   "cell_type": "markdown",
   "metadata": {},
   "source": [
    "Явных дублей нет."
   ]
  },
  {
   "cell_type": "code",
   "execution_count": 24,
   "metadata": {},
   "outputs": [
    {
     "data": {
      "text/plain": [
       "714"
      ]
     },
     "execution_count": 24,
     "metadata": {},
     "output_type": "execute_result"
    }
   ],
   "source": [
    "data_full['title'].duplicated().sum()"
   ]
  },
  {
   "cell_type": "markdown",
   "metadata": {},
   "source": [
    "В столюце наименование (title) есть 714 дубликатов."
   ]
  },
  {
   "cell_type": "code",
   "execution_count": 25,
   "metadata": {},
   "outputs": [
    {
     "data": {
      "text/html": [
       "<div>\n",
       "<style scoped>\n",
       "    .dataframe tbody tr th:only-of-type {\n",
       "        vertical-align: middle;\n",
       "    }\n",
       "\n",
       "    .dataframe tbody tr th {\n",
       "        vertical-align: top;\n",
       "    }\n",
       "\n",
       "    .dataframe thead th {\n",
       "        text-align: right;\n",
       "    }\n",
       "</style>\n",
       "<table border=\"1\" class=\"dataframe\">\n",
       "  <thead>\n",
       "    <tr style=\"text-align: right;\">\n",
       "      <th></th>\n",
       "      <th>title</th>\n",
       "      <th>puNumber</th>\n",
       "      <th>show_start_date</th>\n",
       "      <th>type</th>\n",
       "      <th>film_studio</th>\n",
       "      <th>production_country</th>\n",
       "      <th>director</th>\n",
       "      <th>producer</th>\n",
       "      <th>age_restriction</th>\n",
       "      <th>refundable_support</th>\n",
       "      <th>nonrefundable_support</th>\n",
       "      <th>budget</th>\n",
       "      <th>financing_source</th>\n",
       "      <th>ratings</th>\n",
       "      <th>genres</th>\n",
       "      <th>box_office</th>\n",
       "    </tr>\n",
       "  </thead>\n",
       "  <tbody>\n",
       "    <tr>\n",
       "      <th>3</th>\n",
       "      <td>Особо опасен</td>\n",
       "      <td>221026916</td>\n",
       "      <td>2016-06-10 12:00:00+00:00</td>\n",
       "      <td>Художественный</td>\n",
       "      <td>Юниверсал Пикчерз, Кикстарт Продакшнз, Марк Пл...</td>\n",
       "      <td>США</td>\n",
       "      <td>Тимур Бекмамбетов</td>\n",
       "      <td>Джим Лемли, Джейсон Нетер, Марк Е.Платт, Яйн Смит</td>\n",
       "      <td>«18+» - запрещено для детей</td>\n",
       "      <td>NaN</td>\n",
       "      <td>NaN</td>\n",
       "      <td>NaN</td>\n",
       "      <td>NaN</td>\n",
       "      <td>6.8</td>\n",
       "      <td>фантастика,боевик,триллер</td>\n",
       "      <td>NaN</td>\n",
       "    </tr>\n",
       "    <tr>\n",
       "      <th>4</th>\n",
       "      <td>Особо опасен</td>\n",
       "      <td>221030815</td>\n",
       "      <td>2015-07-29 12:00:00+00:00</td>\n",
       "      <td>Художественный</td>\n",
       "      <td>Юниверсал Пикчерз, Кикстарт Продакшнз, Марк Пл...</td>\n",
       "      <td>США</td>\n",
       "      <td>Тимур Бекмамбетов</td>\n",
       "      <td>Джим Лемли, Джейсон Нетер, Марк Е.Платт, Яйн Смит</td>\n",
       "      <td>«18+» - запрещено для детей</td>\n",
       "      <td>NaN</td>\n",
       "      <td>NaN</td>\n",
       "      <td>NaN</td>\n",
       "      <td>NaN</td>\n",
       "      <td>6.8</td>\n",
       "      <td>фантастика,боевик,триллер</td>\n",
       "      <td>NaN</td>\n",
       "    </tr>\n",
       "    <tr>\n",
       "      <th>41</th>\n",
       "      <td>Алекс и Эмма</td>\n",
       "      <td>221004616</td>\n",
       "      <td>2016-02-09 12:00:00+00:00</td>\n",
       "      <td>Художественный</td>\n",
       "      <td>Эскейп Артистс, Франчайз Пикчерз, Рейнер-Грэйс...</td>\n",
       "      <td>США</td>\n",
       "      <td>Роб Райнер</td>\n",
       "      <td>Тодд Блэк, Элан Грейсман, Джереми Левен, Роб Р...</td>\n",
       "      <td>«16+» - для детей старше 16 лет</td>\n",
       "      <td>NaN</td>\n",
       "      <td>NaN</td>\n",
       "      <td>NaN</td>\n",
       "      <td>NaN</td>\n",
       "      <td>6.4</td>\n",
       "      <td>мелодрама,комедия</td>\n",
       "      <td>NaN</td>\n",
       "    </tr>\n",
       "    <tr>\n",
       "      <th>110</th>\n",
       "      <td>Гарри Поттер и орден Феникса /По роману Дж.К.Р...</td>\n",
       "      <td>121026316</td>\n",
       "      <td>2016-09-23 12:00:00+00:00</td>\n",
       "      <td>Художественный</td>\n",
       "      <td>Уорнер Бразерс, Хэйдей Филмз</td>\n",
       "      <td>США - Великобритания</td>\n",
       "      <td>Дэвид Йетс</td>\n",
       "      <td>Дэйвид Баррон, Дэйвид Хейман</td>\n",
       "      <td>«16+» - для детей старше 16 лет</td>\n",
       "      <td>NaN</td>\n",
       "      <td>NaN</td>\n",
       "      <td>NaN</td>\n",
       "      <td>NaN</td>\n",
       "      <td>7.7</td>\n",
       "      <td>фэнтези,приключения,семейный</td>\n",
       "      <td>759526.00</td>\n",
       "    </tr>\n",
       "    <tr>\n",
       "      <th>113</th>\n",
       "      <td>Гарри Поттер и узник Азкабана /По роману Дж.К....</td>\n",
       "      <td>121026116</td>\n",
       "      <td>2016-09-23 12:00:00+00:00</td>\n",
       "      <td>Художественный</td>\n",
       "      <td>Хэйдей Филмз, 1492 Пикчерз, Уорнер Бразерс</td>\n",
       "      <td>США</td>\n",
       "      <td>Альфонсо Куарон</td>\n",
       "      <td>Майкл Барната</td>\n",
       "      <td>«12+» - для детей старше 12 лет</td>\n",
       "      <td>NaN</td>\n",
       "      <td>NaN</td>\n",
       "      <td>NaN</td>\n",
       "      <td>NaN</td>\n",
       "      <td>8.2</td>\n",
       "      <td>фэнтези,приключения,семейный</td>\n",
       "      <td>1125302.00</td>\n",
       "    </tr>\n",
       "    <tr>\n",
       "      <th>...</th>\n",
       "      <td>...</td>\n",
       "      <td>...</td>\n",
       "      <td>...</td>\n",
       "      <td>...</td>\n",
       "      <td>...</td>\n",
       "      <td>...</td>\n",
       "      <td>...</td>\n",
       "      <td>...</td>\n",
       "      <td>...</td>\n",
       "      <td>...</td>\n",
       "      <td>...</td>\n",
       "      <td>...</td>\n",
       "      <td>...</td>\n",
       "      <td>...</td>\n",
       "      <td>...</td>\n",
       "      <td>...</td>\n",
       "    </tr>\n",
       "    <tr>\n",
       "      <th>7368</th>\n",
       "      <td>Невиновен</td>\n",
       "      <td>111019319</td>\n",
       "      <td>2019-11-07 12:00:00+00:00</td>\n",
       "      <td>Художественный</td>\n",
       "      <td>ООО \"Кавказфильм\"</td>\n",
       "      <td>Россия</td>\n",
       "      <td>А.Емкужев</td>\n",
       "      <td>А.Емкужев, А.Хуажева, ООО \"Корпорация Русская ...</td>\n",
       "      <td>«16+» - для детей старше 16 лет</td>\n",
       "      <td>NaN</td>\n",
       "      <td>NaN</td>\n",
       "      <td>NaN</td>\n",
       "      <td>NaN</td>\n",
       "      <td>7.5</td>\n",
       "      <td>триллер,детектив,криминал</td>\n",
       "      <td>NaN</td>\n",
       "    </tr>\n",
       "    <tr>\n",
       "      <th>7415</th>\n",
       "      <td>Отель \"Гранд Будапешт\"</td>\n",
       "      <td>121035119</td>\n",
       "      <td>2019-12-13 12:00:00+00:00</td>\n",
       "      <td>Художественный</td>\n",
       "      <td>Американ Эмпирикал, Индиан Пэинтбраш, Скотт Ру...</td>\n",
       "      <td>Германия, США</td>\n",
       "      <td>Уэс Андерсен</td>\n",
       "      <td>Уэс Андерсон, Джереми Доусон, Стивен Рейлс</td>\n",
       "      <td>«16+» - для детей старше 16 лет</td>\n",
       "      <td>NaN</td>\n",
       "      <td>NaN</td>\n",
       "      <td>NaN</td>\n",
       "      <td>NaN</td>\n",
       "      <td>7.9</td>\n",
       "      <td>комедия,приключения,детектив</td>\n",
       "      <td>NaN</td>\n",
       "    </tr>\n",
       "    <tr>\n",
       "      <th>7437</th>\n",
       "      <td>Зверь</td>\n",
       "      <td>121035919</td>\n",
       "      <td>2019-12-05 12:00:00+00:00</td>\n",
       "      <td>Художественный</td>\n",
       "      <td>Студио энд Нью</td>\n",
       "      <td>Южная Корея</td>\n",
       "      <td>Ли Джон-хо</td>\n",
       "      <td>Чан Гён-ик, Чон Джи-хун, Пэк Кён сук</td>\n",
       "      <td>«18+» - запрещено для детей</td>\n",
       "      <td>NaN</td>\n",
       "      <td>NaN</td>\n",
       "      <td>NaN</td>\n",
       "      <td>NaN</td>\n",
       "      <td>6.5</td>\n",
       "      <td>триллер,драма</td>\n",
       "      <td>175003.51</td>\n",
       "    </tr>\n",
       "    <tr>\n",
       "      <th>7449</th>\n",
       "      <td>В тихом омуте</td>\n",
       "      <td>121036919</td>\n",
       "      <td>2019-12-09 12:00:00+00:00</td>\n",
       "      <td>Художественный</td>\n",
       "      <td>Хэд Гир Филмз, Крео Филмз, Локал Хироу, Метрол...</td>\n",
       "      <td>США</td>\n",
       "      <td>Адам Рэндолл</td>\n",
       "      <td>Мэтт Уолдек</td>\n",
       "      <td>«18+» - запрещено для детей</td>\n",
       "      <td>NaN</td>\n",
       "      <td>NaN</td>\n",
       "      <td>NaN</td>\n",
       "      <td>NaN</td>\n",
       "      <td>6.8</td>\n",
       "      <td>триллер,криминал,детектив</td>\n",
       "      <td>NaN</td>\n",
       "    </tr>\n",
       "    <tr>\n",
       "      <th>7473</th>\n",
       "      <td>Вторжение</td>\n",
       "      <td>111022519</td>\n",
       "      <td>2019-12-23 12:00:00+00:00</td>\n",
       "      <td>Художественный</td>\n",
       "      <td>ООО \"Арт Пикчерс Студия\", ООО \"Водород 2011\"</td>\n",
       "      <td>Россия</td>\n",
       "      <td>Ф.Бондарчук</td>\n",
       "      <td>Ф.Бондарчук, М.Врубель, А.Андрющенко, Д.Рудовский</td>\n",
       "      <td>«12+» - для детей старше 12 лет</td>\n",
       "      <td>100000000.0</td>\n",
       "      <td>400000000.0</td>\n",
       "      <td>944000000.0</td>\n",
       "      <td>Фонд кино</td>\n",
       "      <td>5.7</td>\n",
       "      <td>фантастика,боевик</td>\n",
       "      <td>NaN</td>\n",
       "    </tr>\n",
       "  </tbody>\n",
       "</table>\n",
       "<p>714 rows × 16 columns</p>\n",
       "</div>"
      ],
      "text/plain": [
       "                                                  title   puNumber  \\\n",
       "3                                          Особо опасен  221026916   \n",
       "4                                          Особо опасен  221030815   \n",
       "41                                         Алекс и Эмма  221004616   \n",
       "110   Гарри Поттер и орден Феникса /По роману Дж.К.Р...  121026316   \n",
       "113   Гарри Поттер и узник Азкабана /По роману Дж.К....  121026116   \n",
       "...                                                 ...        ...   \n",
       "7368                                          Невиновен  111019319   \n",
       "7415                             Отель \"Гранд Будапешт\"  121035119   \n",
       "7437                                              Зверь  121035919   \n",
       "7449                                      В тихом омуте  121036919   \n",
       "7473                                          Вторжение  111022519   \n",
       "\n",
       "               show_start_date             type  \\\n",
       "3    2016-06-10 12:00:00+00:00   Художественный   \n",
       "4    2015-07-29 12:00:00+00:00   Художественный   \n",
       "41   2016-02-09 12:00:00+00:00   Художественный   \n",
       "110  2016-09-23 12:00:00+00:00   Художественный   \n",
       "113  2016-09-23 12:00:00+00:00   Художественный   \n",
       "...                        ...              ...   \n",
       "7368 2019-11-07 12:00:00+00:00   Художественный   \n",
       "7415 2019-12-13 12:00:00+00:00   Художественный   \n",
       "7437 2019-12-05 12:00:00+00:00   Художественный   \n",
       "7449 2019-12-09 12:00:00+00:00   Художественный   \n",
       "7473 2019-12-23 12:00:00+00:00   Художественный   \n",
       "\n",
       "                                            film_studio    production_country  \\\n",
       "3     Юниверсал Пикчерз, Кикстарт Продакшнз, Марк Пл...                   США   \n",
       "4     Юниверсал Пикчерз, Кикстарт Продакшнз, Марк Пл...                   США   \n",
       "41    Эскейп Артистс, Франчайз Пикчерз, Рейнер-Грэйс...                   США   \n",
       "110                        Уорнер Бразерс, Хэйдей Филмз  США - Великобритания   \n",
       "113          Хэйдей Филмз, 1492 Пикчерз, Уорнер Бразерс                   США   \n",
       "...                                                 ...                   ...   \n",
       "7368                                  ООО \"Кавказфильм\"                Россия   \n",
       "7415  Американ Эмпирикал, Индиан Пэинтбраш, Скотт Ру...         Германия, США   \n",
       "7437                                     Студио энд Нью           Южная Корея   \n",
       "7449  Хэд Гир Филмз, Крео Филмз, Локал Хироу, Метрол...                   США   \n",
       "7473       ООО \"Арт Пикчерс Студия\", ООО \"Водород 2011\"                Россия   \n",
       "\n",
       "               director                                           producer  \\\n",
       "3     Тимур Бекмамбетов  Джим Лемли, Джейсон Нетер, Марк Е.Платт, Яйн Смит   \n",
       "4     Тимур Бекмамбетов  Джим Лемли, Джейсон Нетер, Марк Е.Платт, Яйн Смит   \n",
       "41           Роб Райнер  Тодд Блэк, Элан Грейсман, Джереми Левен, Роб Р...   \n",
       "110          Дэвид Йетс                       Дэйвид Баррон, Дэйвид Хейман   \n",
       "113     Альфонсо Куарон                                      Майкл Барната   \n",
       "...                 ...                                                ...   \n",
       "7368          А.Емкужев  А.Емкужев, А.Хуажева, ООО \"Корпорация Русская ...   \n",
       "7415       Уэс Андерсен         Уэс Андерсон, Джереми Доусон, Стивен Рейлс   \n",
       "7437         Ли Джон-хо               Чан Гён-ик, Чон Джи-хун, Пэк Кён сук   \n",
       "7449       Адам Рэндолл                                        Мэтт Уолдек   \n",
       "7473        Ф.Бондарчук  Ф.Бондарчук, М.Врубель, А.Андрющенко, Д.Рудовский   \n",
       "\n",
       "                      age_restriction  refundable_support  \\\n",
       "3         «18+» - запрещено для детей                 NaN   \n",
       "4         «18+» - запрещено для детей                 NaN   \n",
       "41    «16+» - для детей старше 16 лет                 NaN   \n",
       "110   «16+» - для детей старше 16 лет                 NaN   \n",
       "113   «12+» - для детей старше 12 лет                 NaN   \n",
       "...                               ...                 ...   \n",
       "7368  «16+» - для детей старше 16 лет                 NaN   \n",
       "7415  «16+» - для детей старше 16 лет                 NaN   \n",
       "7437      «18+» - запрещено для детей                 NaN   \n",
       "7449      «18+» - запрещено для детей                 NaN   \n",
       "7473  «12+» - для детей старше 12 лет         100000000.0   \n",
       "\n",
       "      nonrefundable_support       budget financing_source  ratings  \\\n",
       "3                       NaN          NaN              NaN      6.8   \n",
       "4                       NaN          NaN              NaN      6.8   \n",
       "41                      NaN          NaN              NaN      6.4   \n",
       "110                     NaN          NaN              NaN      7.7   \n",
       "113                     NaN          NaN              NaN      8.2   \n",
       "...                     ...          ...              ...      ...   \n",
       "7368                    NaN          NaN              NaN      7.5   \n",
       "7415                    NaN          NaN              NaN      7.9   \n",
       "7437                    NaN          NaN              NaN      6.5   \n",
       "7449                    NaN          NaN              NaN      6.8   \n",
       "7473            400000000.0  944000000.0        Фонд кино      5.7   \n",
       "\n",
       "                            genres  box_office  \n",
       "3        фантастика,боевик,триллер         NaN  \n",
       "4        фантастика,боевик,триллер         NaN  \n",
       "41               мелодрама,комедия         NaN  \n",
       "110   фэнтези,приключения,семейный   759526.00  \n",
       "113   фэнтези,приключения,семейный  1125302.00  \n",
       "...                            ...         ...  \n",
       "7368     триллер,детектив,криминал         NaN  \n",
       "7415  комедия,приключения,детектив         NaN  \n",
       "7437                 триллер,драма   175003.51  \n",
       "7449     триллер,криминал,детектив         NaN  \n",
       "7473             фантастика,боевик         NaN  \n",
       "\n",
       "[714 rows x 16 columns]"
      ]
     },
     "execution_count": 25,
     "metadata": {},
     "output_type": "execute_result"
    }
   ],
   "source": [
    "data_full[data_full['title'].duplicated()]"
   ]
  },
  {
   "cell_type": "code",
   "execution_count": 26,
   "metadata": {},
   "outputs": [
    {
     "data": {
      "text/html": [
       "<div>\n",
       "<style scoped>\n",
       "    .dataframe tbody tr th:only-of-type {\n",
       "        vertical-align: middle;\n",
       "    }\n",
       "\n",
       "    .dataframe tbody tr th {\n",
       "        vertical-align: top;\n",
       "    }\n",
       "\n",
       "    .dataframe thead th {\n",
       "        text-align: right;\n",
       "    }\n",
       "</style>\n",
       "<table border=\"1\" class=\"dataframe\">\n",
       "  <thead>\n",
       "    <tr style=\"text-align: right;\">\n",
       "      <th></th>\n",
       "      <th>title</th>\n",
       "      <th>puNumber</th>\n",
       "      <th>show_start_date</th>\n",
       "      <th>type</th>\n",
       "      <th>film_studio</th>\n",
       "      <th>production_country</th>\n",
       "      <th>director</th>\n",
       "      <th>producer</th>\n",
       "      <th>age_restriction</th>\n",
       "      <th>refundable_support</th>\n",
       "      <th>nonrefundable_support</th>\n",
       "      <th>budget</th>\n",
       "      <th>financing_source</th>\n",
       "      <th>ratings</th>\n",
       "      <th>genres</th>\n",
       "      <th>box_office</th>\n",
       "    </tr>\n",
       "  </thead>\n",
       "  <tbody>\n",
       "    <tr>\n",
       "      <th>2</th>\n",
       "      <td>Особо опасен</td>\n",
       "      <td>221038416</td>\n",
       "      <td>2016-10-10 12:00:00+00:00</td>\n",
       "      <td>Художественный</td>\n",
       "      <td>Юниверсал Пикчерз, Кикстарт Продакшнз, Марк Пл...</td>\n",
       "      <td>США</td>\n",
       "      <td>Тимур Бекмамбетов</td>\n",
       "      <td>Джим Лемли, Джейсон Нетер, Марк Е.Платт, Яйн Смит</td>\n",
       "      <td>«18+» - запрещено для детей</td>\n",
       "      <td>NaN</td>\n",
       "      <td>NaN</td>\n",
       "      <td>NaN</td>\n",
       "      <td>NaN</td>\n",
       "      <td>6.8</td>\n",
       "      <td>фантастика,боевик,триллер</td>\n",
       "      <td>NaN</td>\n",
       "    </tr>\n",
       "    <tr>\n",
       "      <th>3</th>\n",
       "      <td>Особо опасен</td>\n",
       "      <td>221026916</td>\n",
       "      <td>2016-06-10 12:00:00+00:00</td>\n",
       "      <td>Художественный</td>\n",
       "      <td>Юниверсал Пикчерз, Кикстарт Продакшнз, Марк Пл...</td>\n",
       "      <td>США</td>\n",
       "      <td>Тимур Бекмамбетов</td>\n",
       "      <td>Джим Лемли, Джейсон Нетер, Марк Е.Платт, Яйн Смит</td>\n",
       "      <td>«18+» - запрещено для детей</td>\n",
       "      <td>NaN</td>\n",
       "      <td>NaN</td>\n",
       "      <td>NaN</td>\n",
       "      <td>NaN</td>\n",
       "      <td>6.8</td>\n",
       "      <td>фантастика,боевик,триллер</td>\n",
       "      <td>NaN</td>\n",
       "    </tr>\n",
       "    <tr>\n",
       "      <th>4</th>\n",
       "      <td>Особо опасен</td>\n",
       "      <td>221030815</td>\n",
       "      <td>2015-07-29 12:00:00+00:00</td>\n",
       "      <td>Художественный</td>\n",
       "      <td>Юниверсал Пикчерз, Кикстарт Продакшнз, Марк Пл...</td>\n",
       "      <td>США</td>\n",
       "      <td>Тимур Бекмамбетов</td>\n",
       "      <td>Джим Лемли, Джейсон Нетер, Марк Е.Платт, Яйн Смит</td>\n",
       "      <td>«18+» - запрещено для детей</td>\n",
       "      <td>NaN</td>\n",
       "      <td>NaN</td>\n",
       "      <td>NaN</td>\n",
       "      <td>NaN</td>\n",
       "      <td>6.8</td>\n",
       "      <td>фантастика,боевик,триллер</td>\n",
       "      <td>NaN</td>\n",
       "    </tr>\n",
       "  </tbody>\n",
       "</table>\n",
       "</div>"
      ],
      "text/plain": [
       "          title   puNumber           show_start_date            type  \\\n",
       "2  Особо опасен  221038416 2016-10-10 12:00:00+00:00  Художественный   \n",
       "3  Особо опасен  221026916 2016-06-10 12:00:00+00:00  Художественный   \n",
       "4  Особо опасен  221030815 2015-07-29 12:00:00+00:00  Художественный   \n",
       "\n",
       "                                         film_studio production_country  \\\n",
       "2  Юниверсал Пикчерз, Кикстарт Продакшнз, Марк Пл...                США   \n",
       "3  Юниверсал Пикчерз, Кикстарт Продакшнз, Марк Пл...                США   \n",
       "4  Юниверсал Пикчерз, Кикстарт Продакшнз, Марк Пл...                США   \n",
       "\n",
       "            director                                           producer  \\\n",
       "2  Тимур Бекмамбетов  Джим Лемли, Джейсон Нетер, Марк Е.Платт, Яйн Смит   \n",
       "3  Тимур Бекмамбетов  Джим Лемли, Джейсон Нетер, Марк Е.Платт, Яйн Смит   \n",
       "4  Тимур Бекмамбетов  Джим Лемли, Джейсон Нетер, Марк Е.Платт, Яйн Смит   \n",
       "\n",
       "               age_restriction  refundable_support  nonrefundable_support  \\\n",
       "2  «18+» - запрещено для детей                 NaN                    NaN   \n",
       "3  «18+» - запрещено для детей                 NaN                    NaN   \n",
       "4  «18+» - запрещено для детей                 NaN                    NaN   \n",
       "\n",
       "   budget financing_source  ratings                     genres  box_office  \n",
       "2     NaN              NaN      6.8  фантастика,боевик,триллер         NaN  \n",
       "3     NaN              NaN      6.8  фантастика,боевик,триллер         NaN  \n",
       "4     NaN              NaN      6.8  фантастика,боевик,триллер         NaN  "
      ]
     },
     "execution_count": 26,
     "metadata": {},
     "output_type": "execute_result"
    }
   ],
   "source": [
    "data_full[data_full['title'] == 'Особо опасен']"
   ]
  },
  {
   "cell_type": "code",
   "execution_count": 27,
   "metadata": {},
   "outputs": [
    {
     "data": {
      "text/plain": [
       "2"
      ]
     },
     "execution_count": 27,
     "metadata": {},
     "output_type": "execute_result"
    }
   ],
   "source": [
    "data_full['puNumber'].duplicated().sum()"
   ]
  },
  {
   "cell_type": "code",
   "execution_count": 28,
   "metadata": {},
   "outputs": [
    {
     "data": {
      "text/html": [
       "<div>\n",
       "<style scoped>\n",
       "    .dataframe tbody tr th:only-of-type {\n",
       "        vertical-align: middle;\n",
       "    }\n",
       "\n",
       "    .dataframe tbody tr th {\n",
       "        vertical-align: top;\n",
       "    }\n",
       "\n",
       "    .dataframe thead th {\n",
       "        text-align: right;\n",
       "    }\n",
       "</style>\n",
       "<table border=\"1\" class=\"dataframe\">\n",
       "  <thead>\n",
       "    <tr style=\"text-align: right;\">\n",
       "      <th></th>\n",
       "      <th>title</th>\n",
       "      <th>puNumber</th>\n",
       "      <th>show_start_date</th>\n",
       "      <th>type</th>\n",
       "      <th>film_studio</th>\n",
       "      <th>production_country</th>\n",
       "      <th>director</th>\n",
       "      <th>producer</th>\n",
       "      <th>age_restriction</th>\n",
       "      <th>refundable_support</th>\n",
       "      <th>nonrefundable_support</th>\n",
       "      <th>budget</th>\n",
       "      <th>financing_source</th>\n",
       "      <th>ratings</th>\n",
       "      <th>genres</th>\n",
       "      <th>box_office</th>\n",
       "    </tr>\n",
       "  </thead>\n",
       "  <tbody>\n",
       "    <tr>\n",
       "      <th>4638</th>\n",
       "      <td>Иоанна - женщина на папском престоле /По роман...</td>\n",
       "      <td>221154310</td>\n",
       "      <td>2010-12-17 12:00:00+00:00</td>\n",
       "      <td>Художественный</td>\n",
       "      <td>Константин Фильм, А Эр Ди Дегето Фильм, Дюне ...</td>\n",
       "      <td>Германия - Великобритания - Италия - Испания</td>\n",
       "      <td>Зенке Вортманн</td>\n",
       "      <td>Оливер Бербен, Дорис Д.Хайнце, Фарук Элтан</td>\n",
       "      <td>«16+» - для детей старше 16 лет</td>\n",
       "      <td>NaN</td>\n",
       "      <td>NaN</td>\n",
       "      <td>NaN</td>\n",
       "      <td>NaN</td>\n",
       "      <td>7.6</td>\n",
       "      <td>драма,мелодрама,история</td>\n",
       "      <td>NaN</td>\n",
       "    </tr>\n",
       "    <tr>\n",
       "      <th>5067</th>\n",
       "      <td>Анализируй то!</td>\n",
       "      <td>221054410</td>\n",
       "      <td>2010-05-25 12:00:00+00:00</td>\n",
       "      <td>Художественный</td>\n",
       "      <td>Уорнер Бразерс, Виллидж Роадшоу Пикчерз, Эн-Пи...</td>\n",
       "      <td>США</td>\n",
       "      <td>Гарольд Реймис</td>\n",
       "      <td>Джейн Розенталь, Паул Уэйнстейн</td>\n",
       "      <td>«12+» - для детей старше 12 лет</td>\n",
       "      <td>NaN</td>\n",
       "      <td>NaN</td>\n",
       "      <td>NaN</td>\n",
       "      <td>NaN</td>\n",
       "      <td>6.8</td>\n",
       "      <td>комедия,криминал</td>\n",
       "      <td>NaN</td>\n",
       "    </tr>\n",
       "  </tbody>\n",
       "</table>\n",
       "</div>"
      ],
      "text/plain": [
       "                                                  title   puNumber  \\\n",
       "4638  Иоанна - женщина на папском престоле /По роман...  221154310   \n",
       "5067                                     Анализируй то!  221054410   \n",
       "\n",
       "               show_start_date            type  \\\n",
       "4638 2010-12-17 12:00:00+00:00  Художественный   \n",
       "5067 2010-05-25 12:00:00+00:00  Художественный   \n",
       "\n",
       "                                            film_studio  \\\n",
       "4638   Константин Фильм, А Эр Ди Дегето Фильм, Дюне ...   \n",
       "5067  Уорнер Бразерс, Виллидж Роадшоу Пикчерз, Эн-Пи...   \n",
       "\n",
       "                                production_country        director  \\\n",
       "4638  Германия - Великобритания - Италия - Испания  Зенке Вортманн   \n",
       "5067                                           США  Гарольд Реймис   \n",
       "\n",
       "                                        producer  \\\n",
       "4638  Оливер Бербен, Дорис Д.Хайнце, Фарук Элтан   \n",
       "5067             Джейн Розенталь, Паул Уэйнстейн   \n",
       "\n",
       "                      age_restriction  refundable_support  \\\n",
       "4638  «16+» - для детей старше 16 лет                 NaN   \n",
       "5067  «12+» - для детей старше 12 лет                 NaN   \n",
       "\n",
       "      nonrefundable_support  budget financing_source  ratings  \\\n",
       "4638                    NaN     NaN              NaN      7.6   \n",
       "5067                    NaN     NaN              NaN      6.8   \n",
       "\n",
       "                       genres  box_office  \n",
       "4638  драма,мелодрама,история         NaN  \n",
       "5067         комедия,криминал         NaN  "
      ]
     },
     "execution_count": 28,
     "metadata": {},
     "output_type": "execute_result"
    }
   ],
   "source": [
    "data_full[data_full['puNumber'].duplicated()]"
   ]
  },
  {
   "cell_type": "code",
   "execution_count": 29,
   "metadata": {},
   "outputs": [
    {
     "data": {
      "text/html": [
       "<div>\n",
       "<style scoped>\n",
       "    .dataframe tbody tr th:only-of-type {\n",
       "        vertical-align: middle;\n",
       "    }\n",
       "\n",
       "    .dataframe tbody tr th {\n",
       "        vertical-align: top;\n",
       "    }\n",
       "\n",
       "    .dataframe thead th {\n",
       "        text-align: right;\n",
       "    }\n",
       "</style>\n",
       "<table border=\"1\" class=\"dataframe\">\n",
       "  <thead>\n",
       "    <tr style=\"text-align: right;\">\n",
       "      <th></th>\n",
       "      <th>title</th>\n",
       "      <th>puNumber</th>\n",
       "      <th>show_start_date</th>\n",
       "      <th>type</th>\n",
       "      <th>film_studio</th>\n",
       "      <th>production_country</th>\n",
       "      <th>director</th>\n",
       "      <th>producer</th>\n",
       "      <th>age_restriction</th>\n",
       "      <th>refundable_support</th>\n",
       "      <th>nonrefundable_support</th>\n",
       "      <th>budget</th>\n",
       "      <th>financing_source</th>\n",
       "      <th>ratings</th>\n",
       "      <th>genres</th>\n",
       "      <th>box_office</th>\n",
       "    </tr>\n",
       "  </thead>\n",
       "  <tbody>\n",
       "    <tr>\n",
       "      <th>4637</th>\n",
       "      <td>Как жениться и остаться холостым</td>\n",
       "      <td>221154310</td>\n",
       "      <td>2010-12-17 12:00:00+00:00</td>\n",
       "      <td>Художественный</td>\n",
       "      <td>Ше Вам, Скрипт Ассосье, Тэ Фэ 1 Фильм Продюксь...</td>\n",
       "      <td>Франция</td>\n",
       "      <td>Эрик Лартиго</td>\n",
       "      <td>Амандин Било, Алан Шаба</td>\n",
       "      <td>«16+» - для детей старше 16 лет</td>\n",
       "      <td>NaN</td>\n",
       "      <td>NaN</td>\n",
       "      <td>NaN</td>\n",
       "      <td>NaN</td>\n",
       "      <td>7.0</td>\n",
       "      <td>мелодрама,комедия</td>\n",
       "      <td>NaN</td>\n",
       "    </tr>\n",
       "    <tr>\n",
       "      <th>4638</th>\n",
       "      <td>Иоанна - женщина на папском престоле /По роман...</td>\n",
       "      <td>221154310</td>\n",
       "      <td>2010-12-17 12:00:00+00:00</td>\n",
       "      <td>Художественный</td>\n",
       "      <td>Константин Фильм, А Эр Ди Дегето Фильм, Дюне ...</td>\n",
       "      <td>Германия - Великобритания - Италия - Испания</td>\n",
       "      <td>Зенке Вортманн</td>\n",
       "      <td>Оливер Бербен, Дорис Д.Хайнце, Фарук Элтан</td>\n",
       "      <td>«16+» - для детей старше 16 лет</td>\n",
       "      <td>NaN</td>\n",
       "      <td>NaN</td>\n",
       "      <td>NaN</td>\n",
       "      <td>NaN</td>\n",
       "      <td>7.6</td>\n",
       "      <td>драма,мелодрама,история</td>\n",
       "      <td>NaN</td>\n",
       "    </tr>\n",
       "  </tbody>\n",
       "</table>\n",
       "</div>"
      ],
      "text/plain": [
       "                                                  title   puNumber  \\\n",
       "4637                   Как жениться и остаться холостым  221154310   \n",
       "4638  Иоанна - женщина на папском престоле /По роман...  221154310   \n",
       "\n",
       "               show_start_date            type  \\\n",
       "4637 2010-12-17 12:00:00+00:00  Художественный   \n",
       "4638 2010-12-17 12:00:00+00:00  Художественный   \n",
       "\n",
       "                                            film_studio  \\\n",
       "4637  Ше Вам, Скрипт Ассосье, Тэ Фэ 1 Фильм Продюксь...   \n",
       "4638   Константин Фильм, А Эр Ди Дегето Фильм, Дюне ...   \n",
       "\n",
       "                                production_country        director  \\\n",
       "4637                                       Франция    Эрик Лартиго   \n",
       "4638  Германия - Великобритания - Италия - Испания  Зенке Вортманн   \n",
       "\n",
       "                                        producer  \\\n",
       "4637                     Амандин Било, Алан Шаба   \n",
       "4638  Оливер Бербен, Дорис Д.Хайнце, Фарук Элтан   \n",
       "\n",
       "                      age_restriction  refundable_support  \\\n",
       "4637  «16+» - для детей старше 16 лет                 NaN   \n",
       "4638  «16+» - для детей старше 16 лет                 NaN   \n",
       "\n",
       "      nonrefundable_support  budget financing_source  ratings  \\\n",
       "4637                    NaN     NaN              NaN      7.0   \n",
       "4638                    NaN     NaN              NaN      7.6   \n",
       "\n",
       "                       genres  box_office  \n",
       "4637        мелодрама,комедия         NaN  \n",
       "4638  драма,мелодрама,история         NaN  "
      ]
     },
     "execution_count": 29,
     "metadata": {},
     "output_type": "execute_result"
    }
   ],
   "source": [
    "data_full[data_full['puNumber'] == 221154310]"
   ]
  },
  {
   "cell_type": "code",
   "execution_count": 30,
   "metadata": {},
   "outputs": [
    {
     "data": {
      "text/html": [
       "<div>\n",
       "<style scoped>\n",
       "    .dataframe tbody tr th:only-of-type {\n",
       "        vertical-align: middle;\n",
       "    }\n",
       "\n",
       "    .dataframe tbody tr th {\n",
       "        vertical-align: top;\n",
       "    }\n",
       "\n",
       "    .dataframe thead th {\n",
       "        text-align: right;\n",
       "    }\n",
       "</style>\n",
       "<table border=\"1\" class=\"dataframe\">\n",
       "  <thead>\n",
       "    <tr style=\"text-align: right;\">\n",
       "      <th></th>\n",
       "      <th>title</th>\n",
       "      <th>puNumber</th>\n",
       "      <th>show_start_date</th>\n",
       "      <th>type</th>\n",
       "      <th>film_studio</th>\n",
       "      <th>production_country</th>\n",
       "      <th>director</th>\n",
       "      <th>producer</th>\n",
       "      <th>age_restriction</th>\n",
       "      <th>refundable_support</th>\n",
       "      <th>nonrefundable_support</th>\n",
       "      <th>budget</th>\n",
       "      <th>financing_source</th>\n",
       "      <th>ratings</th>\n",
       "      <th>genres</th>\n",
       "      <th>box_office</th>\n",
       "    </tr>\n",
       "  </thead>\n",
       "  <tbody>\n",
       "    <tr>\n",
       "      <th>5066</th>\n",
       "      <td>Анализируй это!</td>\n",
       "      <td>221054410</td>\n",
       "      <td>2010-05-25 12:00:00+00:00</td>\n",
       "      <td>Художественный</td>\n",
       "      <td>Уорнер Бразерс, Вилладж Роудшоу Филмз ЛТД</td>\n",
       "      <td>США-Австралия</td>\n",
       "      <td>ХЭрольд Рэмис</td>\n",
       "      <td>Джейн Розенталь, Пола Уейнстейн</td>\n",
       "      <td>«16+» - для детей старше 16 лет</td>\n",
       "      <td>NaN</td>\n",
       "      <td>NaN</td>\n",
       "      <td>NaN</td>\n",
       "      <td>NaN</td>\n",
       "      <td>7.4</td>\n",
       "      <td>комедия,криминал</td>\n",
       "      <td>NaN</td>\n",
       "    </tr>\n",
       "    <tr>\n",
       "      <th>5067</th>\n",
       "      <td>Анализируй то!</td>\n",
       "      <td>221054410</td>\n",
       "      <td>2010-05-25 12:00:00+00:00</td>\n",
       "      <td>Художественный</td>\n",
       "      <td>Уорнер Бразерс, Виллидж Роадшоу Пикчерз, Эн-Пи...</td>\n",
       "      <td>США</td>\n",
       "      <td>Гарольд Реймис</td>\n",
       "      <td>Джейн Розенталь, Паул Уэйнстейн</td>\n",
       "      <td>«12+» - для детей старше 12 лет</td>\n",
       "      <td>NaN</td>\n",
       "      <td>NaN</td>\n",
       "      <td>NaN</td>\n",
       "      <td>NaN</td>\n",
       "      <td>6.8</td>\n",
       "      <td>комедия,криминал</td>\n",
       "      <td>NaN</td>\n",
       "    </tr>\n",
       "  </tbody>\n",
       "</table>\n",
       "</div>"
      ],
      "text/plain": [
       "                title   puNumber           show_start_date            type  \\\n",
       "5066  Анализируй это!  221054410 2010-05-25 12:00:00+00:00  Художественный   \n",
       "5067   Анализируй то!  221054410 2010-05-25 12:00:00+00:00  Художественный   \n",
       "\n",
       "                                            film_studio production_country  \\\n",
       "5066          Уорнер Бразерс, Вилладж Роудшоу Филмз ЛТД      США-Австралия   \n",
       "5067  Уорнер Бразерс, Виллидж Роадшоу Пикчерз, Эн-Пи...                США   \n",
       "\n",
       "            director                         producer  \\\n",
       "5066   ХЭрольд Рэмис  Джейн Розенталь, Пола Уейнстейн   \n",
       "5067  Гарольд Реймис  Джейн Розенталь, Паул Уэйнстейн   \n",
       "\n",
       "                      age_restriction  refundable_support  \\\n",
       "5066  «16+» - для детей старше 16 лет                 NaN   \n",
       "5067  «12+» - для детей старше 12 лет                 NaN   \n",
       "\n",
       "      nonrefundable_support  budget financing_source  ratings  \\\n",
       "5066                    NaN     NaN              NaN      7.4   \n",
       "5067                    NaN     NaN              NaN      6.8   \n",
       "\n",
       "                genres  box_office  \n",
       "5066  комедия,криминал         NaN  \n",
       "5067  комедия,криминал         NaN  "
      ]
     },
     "execution_count": 30,
     "metadata": {},
     "output_type": "execute_result"
    }
   ],
   "source": [
    "data_full[data_full['puNumber'] == 221054410]"
   ]
  },
  {
   "cell_type": "markdown",
   "metadata": {},
   "source": [
    "В puNumber в двух случаях на два разных фильма дали одно прокатное удостоверение, это не дубликат."
   ]
  },
  {
   "cell_type": "markdown",
   "metadata": {},
   "source": [
    "ВЫВОД:\n",
    "Явных дублей нет. \n",
    "Есть 714 дубликатов в названиях фильмов и два дубля в прокатных удостоверениях. Но это нельзя назвать дубликатами. Получается одни и теже фильмы выходили несколько раз в прокат, так как прокатные удостоверения разные. И в двух случаях на два разных фильма было выдано одно прокатное удостоверение. Такое бывает."
   ]
  },
  {
   "cell_type": "markdown",
   "metadata": {
    "id": "52fOPrEBgFyQ"
   },
   "source": [
    "### Изучим категориальные значения"
   ]
  },
  {
   "cell_type": "code",
   "execution_count": 31,
   "metadata": {},
   "outputs": [
    {
     "data": {
      "text/plain": [
       "count    7.485000e+03\n",
       "mean     1.351966e+08\n",
       "std      3.835292e+07\n",
       "min      1.811096e+06\n",
       "25%      1.120251e+08\n",
       "50%      1.210155e+08\n",
       "75%      1.240033e+08\n",
       "max      2.310011e+08\n",
       "Name: puNumber, dtype: float64"
      ]
     },
     "metadata": {},
     "output_type": "display_data"
    },
    {
     "data": {
      "text/html": [
       "<div>\n",
       "<style scoped>\n",
       "    .dataframe tbody tr th:only-of-type {\n",
       "        vertical-align: middle;\n",
       "    }\n",
       "\n",
       "    .dataframe tbody tr th {\n",
       "        vertical-align: top;\n",
       "    }\n",
       "\n",
       "    .dataframe thead th {\n",
       "        text-align: right;\n",
       "    }\n",
       "</style>\n",
       "<table border=\"1\" class=\"dataframe\">\n",
       "  <thead>\n",
       "    <tr style=\"text-align: right;\">\n",
       "      <th></th>\n",
       "      <th>title</th>\n",
       "      <th>puNumber</th>\n",
       "      <th>show_start_date</th>\n",
       "      <th>type</th>\n",
       "      <th>film_studio</th>\n",
       "      <th>production_country</th>\n",
       "      <th>director</th>\n",
       "      <th>producer</th>\n",
       "      <th>age_restriction</th>\n",
       "      <th>refundable_support</th>\n",
       "      <th>nonrefundable_support</th>\n",
       "      <th>budget</th>\n",
       "      <th>financing_source</th>\n",
       "      <th>ratings</th>\n",
       "      <th>genres</th>\n",
       "      <th>box_office</th>\n",
       "    </tr>\n",
       "  </thead>\n",
       "  <tbody>\n",
       "    <tr>\n",
       "      <th>4700</th>\n",
       "      <td>1001 рецепт влюбленного кулинара</td>\n",
       "      <td>1811096</td>\n",
       "      <td>2010-12-23 12:00:00+00:00</td>\n",
       "      <td>Художественный</td>\n",
       "      <td>Ле Фильм дю Риваж, Ля Сет Синема, Адам и Ева, ...</td>\n",
       "      <td>Франция-Грузия-Германия-Россия-Украина-Бельгия</td>\n",
       "      <td>Н.Джорджадзе</td>\n",
       "      <td>NaN</td>\n",
       "      <td>«0+» - для любой зрительской аудитории</td>\n",
       "      <td>NaN</td>\n",
       "      <td>NaN</td>\n",
       "      <td>NaN</td>\n",
       "      <td>NaN</td>\n",
       "      <td>6.7</td>\n",
       "      <td>мелодрама,комедия</td>\n",
       "      <td>NaN</td>\n",
       "    </tr>\n",
       "  </tbody>\n",
       "</table>\n",
       "</div>"
      ],
      "text/plain": [
       "                                 title  puNumber           show_start_date  \\\n",
       "4700  1001 рецепт влюбленного кулинара   1811096 2010-12-23 12:00:00+00:00   \n",
       "\n",
       "                type                                        film_studio  \\\n",
       "4700  Художественный  Ле Фильм дю Риваж, Ля Сет Синема, Адам и Ева, ...   \n",
       "\n",
       "                                  production_country      director producer  \\\n",
       "4700  Франция-Грузия-Германия-Россия-Украина-Бельгия  Н.Джорджадзе      NaN   \n",
       "\n",
       "                             age_restriction  refundable_support  \\\n",
       "4700  «0+» - для любой зрительской аудитории                 NaN   \n",
       "\n",
       "      nonrefundable_support  budget financing_source  ratings  \\\n",
       "4700                    NaN     NaN              NaN      6.7   \n",
       "\n",
       "                 genres  box_office  \n",
       "4700  мелодрама,комедия         NaN  "
      ]
     },
     "metadata": {},
     "output_type": "display_data"
    }
   ],
   "source": [
    "display(data_full['puNumber'].describe())\n",
    "display(data_full[data_full['puNumber'] < 100000000])\n",
    "data_full = data_full.loc[data_full['puNumber'] > 100000000]"
   ]
  },
  {
   "cell_type": "markdown",
   "metadata": {},
   "source": [
    "В столбце прокатных удостоверений (puNumber) есть нетепичное значение 1811096, избавимся от него."
   ]
  },
  {
   "cell_type": "code",
   "execution_count": 32,
   "metadata": {
    "id": "PnXKIVdFgFyR"
   },
   "outputs": [
    {
     "data": {
      "text/plain": [
       "array(['Художественный', 'Анимационный', 'Прочие', 'Документальный',\n",
       "       'Научно-популярный', ' Художественный', ' Анимационный',\n",
       "       'Музыкально-развлекательный'], dtype=object)"
      ]
     },
     "metadata": {},
     "output_type": "display_data"
    },
    {
     "data": {
      "text/plain": [
       "array(['Художественный', 'Анимационный', 'Прочие', 'Документальный',\n",
       "       'Научно-популярный', 'Музыкально-развлекательный'], dtype=object)"
      ]
     },
     "metadata": {},
     "output_type": "display_data"
    }
   ],
   "source": [
    "display(data_full['type'].unique()) # у значений 'Художественный' и 'Анимационный' лишние пробелы\n",
    "data_full['type'] = data_full['type'].str.strip() # удаляем лишние пробелы\n",
    "display(data_full['type'].unique())"
   ]
  },
  {
   "cell_type": "code",
   "execution_count": 34,
   "metadata": {
    "scrolled": false
   },
   "outputs": [
    {
     "data": {
      "text/plain": [
       "array(['США', 'СССР', 'Франция', 'СССР, Венгрия',\n",
       "       'Германия-Великобритания', 'Великобритания - Италия',\n",
       "       'Чехословакия', 'США - Франция - Турция', 'Новая Зеландия',\n",
       "       'Канада - Франция - Испания', 'США-Германия',\n",
       "       'США - Великобритания', 'Великобритания', 'США - Германия',\n",
       "       'Франция - Мексика - США', 'Россия, Казахстан, США',\n",
       "       'СССР, Швеция', 'СССР, Франция, Англия, Куба, ГДР', 'Германия',\n",
       "       'Великобритания-США-Германия-КНР',\n",
       "       'СССР, ЧССР, Западный Берлин, ПНР', 'СССР, Италия', 'Гонконг, КНР',\n",
       "       'США - Франция', 'США - Япония - Франция - Великобритания',\n",
       "       'Гонконг - Сингапур - Таиланд - Великобритания', 'США-Канада',\n",
       "       'Франция - Италия - Великобритания - США', 'Франция - США',\n",
       "       'Ирландия-Великобритания-Германия', 'Чехия', 'США-Австралия',\n",
       "       'СССР, Финляндия', 'США-Франция-Великобритания-Австрия',\n",
       "       'США - Бельгия', 'США - Ирландия - Великобритания',\n",
       "       'Великобритания - США',\n",
       "       'Люксембург - Нидерланды - Испания - Великобритания - США - Италия',\n",
       "       'Великобритания - Франция - США', 'Новая Зеландия - США',\n",
       "       'США - Великобритания - Чехия',\n",
       "       'Канада - Франция - Великобритания', 'Ирландия',\n",
       "       'Великобритания - Германия - США',\n",
       "       'США - Франция - Великобритания', 'Япония', 'СССР, Польша',\n",
       "       'Франция - Испания', 'Канада-Франция', 'Германия - Италия - США',\n",
       "       'Аргентина - Бразилия', 'Дания - Швейцария - Бельгия - Франция',\n",
       "       'США - Испания', 'Германия - США',\n",
       "       'Франция - Австрия - Германия - Италия - США', 'Австрия',\n",
       "       'США - Канада - Германия', 'США - Канада',\n",
       "       'СССР - Швейцария - Франция', 'Россия - Казахстан', 'Гонконг',\n",
       "       'Италия', 'США - ОАЭ', 'Россия',\n",
       "       'США - Франция - Испания - Великобритания',\n",
       "       'Великобритания - Франция', 'США-Италия-Испания-Аргентина',\n",
       "       'Франция-Великобритания', 'КНР - Гонконг',\n",
       "       'Франция - Италия - Швейцария', 'США - Новая Зеландия',\n",
       "       'Франция - Бельгия', 'КНР', 'Германия - Великобритания - Австрия',\n",
       "       'Великобритания - Израиль - Франция - Япония - США', 'Швеция',\n",
       "       'Испания', 'Дания', 'Франция - Бельгия - Люксембург',\n",
       "       'США - Индия - ОАЭ',\n",
       "       'Германия-Канада-Великобритания-Швейцария-Франция',\n",
       "       'Мексика - Чили', 'Аргентина', 'Бразилия', 'Чили', 'Австралия',\n",
       "       'Португалия - Франция', 'США - ЮАР', 'Исландия-Ирландия-Германия',\n",
       "       'США-Индонезия', 'Южная Корея', 'Мексика - Испания - Дания - США',\n",
       "       'Великобритания-США', 'Франция - Италия', 'США-Франция',\n",
       "       'США - Венгрия - Великобритания', 'Бельгия-Франция-Италия',\n",
       "       'Чехия - Германия', 'Германия - Франция', 'США-Нидерланды',\n",
       "       'Украина', 'Великобритания - Германия', 'Франция-Бельгия',\n",
       "       'США-Франция-Испания', 'Италия - Франция', 'Канада',\n",
       "       'Швеция-Франция-Дания', 'Германия-Франция-Польша',\n",
       "       'Франция-Великобритания - Германия',\n",
       "       'США - Бразилия - Франция - Австралия - Великобритания - Германия',\n",
       "       'Германия-Австрия', 'Германия-Италия- Шри-Ланка',\n",
       "       'Великобритания - Испания',\n",
       "       'США - Великобритания - Канада - Швеция',\n",
       "       'Босния и Герцеговина - Франция - Великобритания - Германия - Словения - Бельгия - Сербия',\n",
       "       'Великобритания - Франция - Италия - США', 'США-ОАЭ',\n",
       "       'Испания - Франция', 'США-Великобритания', 'США-ЮАР',\n",
       "       'Великобритания-Австралия - США',\n",
       "       'Норвегия - Швеция - Дания - Германия', 'Норвегия', 'Швейцария',\n",
       "       'Греция - Германия - Франция', 'Норвения', 'Южная Корея - США',\n",
       "       'Чили - Франция - США', 'Австрия - Германия - Франция',\n",
       "       'Швеция - Дания', 'Великобритания - Франция - Бельгия - Италия',\n",
       "       'Франция - Германия', 'Грузия - Франция - Люксембург',\n",
       "       'США - Франция - Великобритания - Бразилия', 'США - КНР',\n",
       "       'Мексика - Франция', 'США - Германия - Гонконг - Сингапур',\n",
       "       'Финляндия - Австрия - Россия', 'Испания - Куба',\n",
       "       'Великобритания - ЮАР', 'Великобритания - Ирландия', 'Израиль',\n",
       "       'Бразилия - Германия - Порртугалия - Франция',\n",
       "       'Франция - Канада - Бельгия', 'Франция-Испания',\n",
       "       'Испания - Канада - Япония', 'Иран', 'Швеция-Куба',\n",
       "       'США-Великобритания-Ирландия', 'Гонконг - КНР', 'Нидерланды',\n",
       "       'Испания - Канада', 'Япония-Великобритания',\n",
       "       'Великобритания - Норвегия - Дания - Германия',\n",
       "       'Финляндия - Франция - Германия',\n",
       "       'Мексика - Франция - Нидерланды - Германия', 'США - Индия',\n",
       "       'США-Великобритания-Индия', 'США-Канада-Бельгия',\n",
       "       'Республика Узбекистан', 'Турция',\n",
       "       'Сербия - Словения - Хорватия - Черногория - Македония',\n",
       "       'Киргизия', 'Германия - Нидерланды - Беларусь - Россия - Латвия',\n",
       "       'Индия', 'Нидерланды - Россия - Германия',\n",
       "       'Великобритания - Нидерланды - Франция - Хорватия',\n",
       "       'Канада - Южная Корея',\n",
       "       'Великобритания - Польша - КНР - Индия - Норвегия',\n",
       "       'Япония - Франция - США - Южная Корея - Турция',\n",
       "       'Мексика - Аргентина - Великобритания', 'Израиль - Франция',\n",
       "       'Польша - Португалия - Франция - Великобритания',\n",
       "       'Австралия - США', 'Франция - Люксембург - Бельгия', 'Армения',\n",
       "       'Бельгия - Люксембург - Франция - Швейцария',\n",
       "       'США - Великобритания - Канада', 'Норвегия - Швеция',\n",
       "       'Канада - Франция', 'КНР - Гонконг - США',\n",
       "       'США - Сингапур - Малайзия - Индонезия', 'Германия - Россия',\n",
       "       'Япония - Канада', 'Финляндия - Дания - Германия - Ирландия',\n",
       "       'Франция - Люксембург - Германия - Бельгия - Швейцария - Великобритания',\n",
       "       'Канада - США', 'США-Италия-Испания', 'США-Испания',\n",
       "       'США - Швейцария - Франция', 'Испания - США - Колумбия',\n",
       "       'Канада-ЮАР', 'Франция - Россия',\n",
       "       'Германия - Финляндия - Австралия', 'Дания - Швеция', 'Бельгия',\n",
       "       'Германия - Франция - Австрия', 'Франция-Индия', 'ЮАР',\n",
       "       'Франция-Перу', 'Франция - Канада', 'Республика Беларусь',\n",
       "       'Великобритания - Австрия - Франция - США',\n",
       "       'Австрия-Германия-Франция', 'США-Россия', 'Германия-США',\n",
       "       'США - Южная Корея', 'Канада - КНР',\n",
       "       'Дания - Швеция - Италия - Франция - Германия',\n",
       "       'Франция-Италия-Испания-Венгрия', 'Франция - Германия - Бельгия',\n",
       "       'Франция-Великобритания-Чехия', 'Румыния - Франция - Бельгия',\n",
       "       'Болгария - Франция - Изриль',\n",
       "       'Израиль - Германия - Польша - Бельгия - Франция - Люксембург',\n",
       "       'Россия, Германия, Франция, Бельгия', 'Индонезия',\n",
       "       'Франция - Португалия', 'Великобритания - Пуэрто-Рико',\n",
       "       'СССР, ФРГ, Западный Берлин', 'Россия, Республика Беларусь',\n",
       "       'США, Великобритания', 'Франция - Австрия', 'Бельгия-Нидерланды',\n",
       "       'Великобритания - США - Индия', 'США - Великобритания - Австралия',\n",
       "       'Канада - Франция - США - ОАЭ - Великобритания',\n",
       "       'США - Австралия - Франция',\n",
       "       'Дания-Франция-Бельгия-Германия-Великобритания',\n",
       "       'Испания - Аргентина', 'Исландия - Финляндия',\n",
       "       'Россия-Польша-Голландия-Словакия', 'Дания - Германия - Швеция',\n",
       "       'Южная Корея - США - Канада', 'Таиланд', 'США-Мальта',\n",
       "       'США -Германия',\n",
       "       'Великобритания - Германия - Франция - Кипр - США', 'Мексика',\n",
       "       'США - Великобритания - Ирландия', 'США - Украина',\n",
       "       'США - Финляндия - Испания - Великобритания - Франция',\n",
       "       'Австралия-Великобритания',\n",
       "       'США - Канада - Афганистан - Бельгия - Франция',\n",
       "       'США - Великобритания - Германия - Новая Зеландия - Бельгия - Франция',\n",
       "       'Франция-Канада',\n",
       "       'Ирландия - Финляндия - Бельгия - Великобритания - США - Швейцария',\n",
       "       'Малайзия - США', 'Германия - Италия',\n",
       "       'США - Франция - Бельгия - Италия', 'Франция - Ирландия - Швеция',\n",
       "       'Азербайджан-Россия', 'Великобритания - Италия - Швейцария',\n",
       "       'США - Германия - Великобритания',\n",
       "       'Германия - Бельгия - США -Франция', 'США-Китай', 'Чили - Испания',\n",
       "       'Франция - Швейцария', 'Канада - Испания',\n",
       "       'США - Румыния - Великобритания', 'США - Япония',\n",
       "       'США - Россия - Франция', 'Франция-США', 'Парагвай',\n",
       "       'Германия - Канада', 'США - Канада - Великобритания',\n",
       "       'Финляндия - Канада', 'Уругвай-Мексика-Германия', 'США - Чили',\n",
       "       'Германия - Аргентина - Нидерланды - Чили',\n",
       "       'США - Канада - Индонезия', 'Армения - Казахстан', 'Финляндия',\n",
       "       'Испания - Италия - Франция',\n",
       "       'Бельгия - Испания - Канада - Нидерланды',\n",
       "       'Великобритания - Франция - Швеция - Бельгия',\n",
       "       'Мексика - Эквадор - Канада - США - Франция - Малайзия - Италия - Аргентина - Германия - Индия',\n",
       "       'Франция - Бенльгия', 'Индия - Великобритания',\n",
       "       'Япония - Великобритания - Франция',\n",
       "       'Испания - Уругвай - Аргентина',\n",
       "       'Франция - Италия - Бельгия - Люксембург',\n",
       "       'Франция - Украина - Грузия - Армения',\n",
       "       'Сербия - Германия - Венгрия', 'Франция-Польша', 'Румыния-США',\n",
       "       'Россия-Азербайджан',\n",
       "       'США - Нидерланды - Бельгия - Венгрия - Греция - Канада',\n",
       "       'Германия - Франция - Люксембург', 'США - Россия',\n",
       "       'Великобритания - США - Франция', 'США - Австралия - Дания',\n",
       "       'Бельгия-Франция', 'США-Мексика',\n",
       "       'Норвегия - Азербайджан - Россия - Колумбия - Великобритания - Венгрия - Румыния - Франция - Грузия',\n",
       "       'СЩА', 'Бразилия - Испания', 'Россия, Франция, Латвия',\n",
       "       'Нидерланды - США - Германия - Канада - Франция - Ирландия - Великобритания',\n",
       "       'Уругвай - Колумбия', 'США - Испания - Болгария',\n",
       "       'Армения - Германия', 'США - Великобритания- Франция - Швеция',\n",
       "       'США - Мексика', 'Австралия-Турция-США', 'Швеция - Германия',\n",
       "       'Польша - Италия - Россия', 'Франция - Бразилия',\n",
       "       'США - Канада - КНР', 'СССР, Венгрия, ЧССР, ГДР',\n",
       "       'Бельгия - Германия - Люксембург', 'США - Австралия',\n",
       "       'Бразилия - США', 'США - Великобритания - Канада - КНР',\n",
       "       'Франция - Чили',\n",
       "       'Франция - США - Великобритания - Колумбия - Бельгия - Россия',\n",
       "       'Дания - Великобритания - ЮАР', 'Россия-США-Канада-Люксембург',\n",
       "       'Россия - Республика Кипр', 'Германия - США - Швеция - Франция',\n",
       "       'Великобритания-Германия-Канада-ЮАР', 'Ирландия, Канада',\n",
       "       'Япония - Великобритания - Швейцария - Ирландия - Дания - Франция - Польша - Австралия - Канада',\n",
       "       'Великобритания, Канада', 'Бельгия - США',\n",
       "       'Великобритания - США - Россия', 'Россия-Украина',\n",
       "       'Германия - США - Великобритания - Израиль', 'Канада - Германия',\n",
       "       'США- Ю.Корея', 'Индия - Мексика',\n",
       "       'Великобритания - Франция - Республика Кипр - Швейцария - США - Сербия',\n",
       "       'Испания - Аргентина - Индия - США',\n",
       "       'Норвегия - Исландия - США - Великобритания',\n",
       "       'Турция - Германя - Франция', 'Германия - Великобритания',\n",
       "       'Австралия - Германия', 'Мексика - Испания',\n",
       "       'Великобритания - США - Германия - Бельгия',\n",
       "       'США - Чехия - Франция', 'Россия - Италия', 'Франция-Россия',\n",
       "       'Норвегия - Дания - Швеция', 'Франция - Швейцария - Германия',\n",
       "       'Грузия - Украина', 'Россия - Эстония - Финляндия - Беларусь',\n",
       "       'США - Франция - ЮАР', 'Великобритания - США - Швейцария',\n",
       "       'Канада-США', 'Мексика - Нидерланды - Германия - Франция',\n",
       "       'США - Испания - Франция', 'США - Великобритания - КНР',\n",
       "       'США-Франция-Канада',\n",
       "       'Япония, Великобритания, Австрия, Германия, Ю.Корея',\n",
       "       'Великобритания - Ирландия - США', 'Бельгия - Италия - Франция',\n",
       "       'Швейцария-Германия-ЮАР', 'Великобритания - США - Германия',\n",
       "       'Германия - Исландия', 'Испания - США', 'Хорватия',\n",
       "       'Финляндия - Исландия - Швеция',\n",
       "       'Канада - США - Германия - Франция',\n",
       "       'США - Великобритания - Испания', 'Ирландия-Великобритания',\n",
       "       'Аргентина - Испания', 'Австрия - Германия',\n",
       "       'Германия - Швейцария - Франция - Южная Корея - США',\n",
       "       'Украина - Нидерланды', 'Венгрия - Германия - Швеция',\n",
       "       'Германия - Франция -  Польша - Турция - Канада - Италия - Россия',\n",
       "       'СССР, Афганистан', 'СССР, Монголия', 'Россия-Кипр',\n",
       "       'Россия, Грузия, Испания',\n",
       "       'Великобритания - Нидерланды - Германия - Франция - Бельгия - Австрия',\n",
       "       'Испания - Великобритания - Франция',\n",
       "       'Дания - Норвегия - Великобритания',\n",
       "       'Бельгия - Франция - Люксембург',\n",
       "       'Италия - Франция - Швейцария - Великобритания',\n",
       "       'Франция - Бельгия - Великобритания - Испания - Германия - США',\n",
       "       'Швейцария - Израиль - Франция - Великобритания',\n",
       "       'Великобритания - США - Канада - Нидерланды - Франция',\n",
       "       'Россия, Италия', 'СССР, Албания',\n",
       "       'Россия, Украина, Республика Беларусь, Литва',\n",
       "       'Финляндия - Великобритания - Германия', 'Россия, Украина, Польша',\n",
       "       'Франция - Италия - Бельгия - КНР',\n",
       "       'Германия - Бельгия - Люксембург - Ирландия', 'КНР - Сингапур',\n",
       "       'Франция - Бельгия - Великобритания - США - Нидерланды - Канада',\n",
       "       'США - Россия - Польша - Германия - Пуэрто Рико',\n",
       "       'Франция - Бельгия - Канада', 'Мексика - США',\n",
       "       'США - Гонконг - КНР', 'Греция - Россия',\n",
       "       'Ирландия - Дания - Бельгия - Люксембург - Франция',\n",
       "       'Эстония - Россия',\n",
       "       'Великобритания - Исландия - Испания - Швейцария - США',\n",
       "       'Австралия - Великобритания - Бельгия - Индия',\n",
       "       'Швеция - Германия - Франция - Норвегия',\n",
       "       'Нидерланды - Бельгия - Германия - Ирландия',\n",
       "       'Нидерланды - Великобритания - Бельгия',\n",
       "       'США - Колумбия - Испания', 'Франция-Испания-Бельгия-Панама',\n",
       "       'США-Великобритания-Чехия-Румыния',\n",
       "       'Аргентина - Уругвай - Россия - Германия - Франция - Нидерланды',\n",
       "       'Швеция - Франция - Норвегия - Дания',\n",
       "       'Италия-Франция-Великобритания', 'Великобритания, Франция',\n",
       "       'Австралия, США', 'Венесуэла',\n",
       "       'Великобритания - США - Австралия - Ирландия - Германия - Куба - Канада',\n",
       "       'Южная Корея - КНР',\n",
       "       'Аргентина - Мексика - Бразилия - Франция - США', 'Швеция - США',\n",
       "       'Франция - Германия - Турция - Катар', 'Франция-Китай',\n",
       "       'Россия, Германия, Великобритания',\n",
       "       'Великобритания - Италия - Испания', 'Италия - Россия',\n",
       "       'Япония - КНР - Южная Корея', 'Россия, Германия',\n",
       "       'Россия-Ирландия', 'Македония - Франция - Великобритания',\n",
       "       'Франция - Бразилия - Италия', 'Россия-США', 'Армения-Россия',\n",
       "       'Россия, Румыния', 'Франция -  Бельгия', 'Грузия-Франция',\n",
       "       'ЮАР - США', 'Великобритания-США-Франция',\n",
       "       'Великобритания - США - Германия - Канада - Австралия',\n",
       "       'США-Ирландия', 'Россия, Республика Кипр',\n",
       "       'Германия - Люксембург - Франция', 'Россия-Франция',\n",
       "       'США - Нидерланды - Финляндия - Великобритания - Италия',\n",
       "       'Республика Кипр', 'Венгрия', 'Франция - США - Норвегия - Дания',\n",
       "       'Германия - Австрия - Ирландия', 'США - Финляндия',\n",
       "       'Италия-Великобритания', 'Россия, Испания',\n",
       "       'США - Великобритания - Болгария', 'Великобритания - Люксембург',\n",
       "       'Индия - США', 'США - Канада - Россия - Франция - Чили - Ирландия',\n",
       "       'Грузия-Россия',\n",
       "       'Дания - Австрия - Ирландия - Финляндия - Норвегия - Швеция - Нидерланды',\n",
       "       'США-КНР', 'Грузия', 'Австралия - Ирландия',\n",
       "       'Великобритания - Канада', 'Италия - Аргентина - Словения',\n",
       "       'Испания - Франция - Нидерланды - Германия - Бельгия - Великобритания - Канада',\n",
       "       'Франция - Чехия - Бельгия',\n",
       "       'Великобритания - Франция - Германия - США',\n",
       "       'Ирландия - Великобритания - Франция - США - Германия - Нидерланды',\n",
       "       'США - Канада - Япония - КНР', 'Италия-Франция',\n",
       "       'США - Великобритания - Исландия', 'Великобритания-Франция',\n",
       "       'Франция - Германия - Нидерланды',\n",
       "       'Франция - Германия - Швеция - США - Чехия - Словакия - Великобритания - Нидерланды',\n",
       "       'Франция - Канада - Н.Зеландия - США - Нидерланды - Германия - Швеция - Россия',\n",
       "       'Турция - США',\n",
       "       'Великобритания - США - Канада - Бельгия - Нидерланды - Австрия - Германия',\n",
       "       'Израиль - Франция - Германия - Палестина - США - Австрия - Великобритания',\n",
       "       'Аргентина - Франция - Испания', 'СССР, Россия',\n",
       "       'Великобритания - Франция - Италия - Индия - Дания - КНР - Бангладеш - Камбоджа - Гаити - Уганда',\n",
       "       'Италия - Франция - Швейцария',\n",
       "       'Ирландия - Великобритания - Канада', 'Перу', 'США - Норвегия',\n",
       "       'Испания-Канада', 'Китай-Гонконг', 'США - Германия - КНР',\n",
       "       'Великобритания - Новая Зеландия',\n",
       "       'Франция - Дания - Швеция - КНР',\n",
       "       'США - Великобритания - Германия - Бельгия - Дания',\n",
       "       'США - Франция - Канада - Германия - Австралия - Индия',\n",
       "       'СССР, Румыния, Франция', 'СССР, ГДР', 'Австралия-Ирландия',\n",
       "       'США - Китай', 'Великобритания - Франция - Австрия - Швеция',\n",
       "       'Россия, Таджикистан', 'Нидерланды - Бельгия - Болгария',\n",
       "       'Великобритания - Канада - США', 'Франция - Бельгия - Испания',\n",
       "       'Китай-Гонконг-США', 'Франция - Великобритания', 'США - Вьетнам',\n",
       "       'США - Германия - Франция', 'Германия - Франция - Бельгия',\n",
       "       'США - Италия',\n",
       "       'Германия - Дания - Испания - Швеция - Канада - Эстония - Франция',\n",
       "       'Княжество Андорра - Украина', 'Германия - Люксембург - Бельгия',\n",
       "       'Великобритания - Россия - Украина - США',\n",
       "       'Германия - Бельгия - Люксембург - Норвегия',\n",
       "       'США - Австралия - Новая Зеландия - Великобритания',\n",
       "       'США - Франция - Канада - Великобритания', 'Испания-Колумбия',\n",
       "       'Великобритания - Чехия - Франция', 'Россия, Украина', 'Исландия',\n",
       "       'Великобритания - Франция - Венгрия',\n",
       "       'Россия, Франция, Германия, Бельгия', 'Франция - Македония',\n",
       "       'Нидерланды - Франция - Германия - Бельгия - Швеция - Великобритания',\n",
       "       'Испания - США - Великобритания - Канада', 'Германия - Австрия',\n",
       "       'Республика Казахстан',\n",
       "       'Франция - Испания - Дания - Венгрия - Швейцария', 'Франция-КНР',\n",
       "       'США - Пуэрто-Рико - Франция', 'Мексика - Тайвань - США',\n",
       "       'Великобритания - Испания - Непал - Индия - Венгрия - Гонконг - Германия - Дания - Бахрейн',\n",
       "       'Великобритания - Аргентина - США - Франция - Россия - Испания',\n",
       "       'КНР - США', 'Италия - США', 'Финляндия - Швеция - Германия',\n",
       "       'Канада- Испания', 'Франция - Бельгия - Чехия',\n",
       "       'Франция-Бельгия-Канада', 'Франция - Германия - США',\n",
       "       'США - Дания', 'Индия - КНР', 'Чехия-Великобритания-США',\n",
       "       'США-ФРГ-Россия', 'Ирландия-Нидерланды-Франция-США-Великобритания',\n",
       "       'Россия, Грузия, Хорватия, Испания',\n",
       "       'Финляндия - Швеция - Норвегия', 'Сербия - Великобритания - США',\n",
       "       'США - Великобритания - Франция - Гонконг', 'Швейцария - Франция',\n",
       "       'Швейцария - Великобритания', 'ОАЭ - США',\n",
       "       'США - Франция - Германия - Канада - Австралия',\n",
       "       'Германия - Австралия', 'Иран, Франция',\n",
       "       'США - Великобритания - Новая Зеландия', 'США-Колумбия',\n",
       "       'США-Франция-Ирландия', 'Великобритания - Франция - Бельгия',\n",
       "       'США - Великобритания - Япония', 'США - Франция - Германия',\n",
       "       'Польша - Ирландия', 'Ирландия - Великобритания - Франция - США',\n",
       "       'США - Бельгия - Великобритания', 'СССР, ВНР',\n",
       "       'Испания - Франция - США - Великобритания - Бельгия',\n",
       "       'Франция - Дания - США', 'США - Гонконг', 'Бразилия - К;анада',\n",
       "       'Франция-Германия', 'США - Колумбия',\n",
       "       'США - Ирландия - Великобритания - Франция',\n",
       "       'Великобритания - США - Канада', 'Польша - Франция',\n",
       "       'Канада - США - Нидерланды - Великобритания - Аргентина',\n",
       "       'Великобритания - Дания', 'Франция - Бельгия - Япония',\n",
       "       'Россия,  Испания', 'Франция -Бельгия',\n",
       "       'США - Канада - Германия - Франция', 'США-Канада-Франция',\n",
       "       'Россия - Германия', 'Россия-Италия', 'Китай - Гонконг',\n",
       "       'Германия-Австрия-Франция-Италия', 'США-Япония',\n",
       "       'США - Германия - Канада', 'Испания-Мексика',\n",
       "       'США - Япония - Канада - Великобритания - Германия - Франция',\n",
       "       'США -Великобритания - Австралия', 'Россия-Украина-Германия',\n",
       "       'Израиль - Франция - Великобритания - Германия', 'Корея',\n",
       "       'Россия - Болгария', 'США-Индия',\n",
       "       'Германия-Канада-Франция-Бельгия', 'Германия-Кения',\n",
       "       'Франция - Монако', 'Франция-Испания-Швейцария',\n",
       "       'Австрия-Франция-Германия', 'Румыния',\n",
       "       'США-Великобритания-Франция', 'Канада-Великобритания',\n",
       "       'Канада-Бразилия-Япония', 'Германия - Дания - Норвегия',\n",
       "       'Дания - Германия', 'СССР - Италия',\n",
       "       'СССР - ГДР - Польша - Италия',\n",
       "       'США - Испания - Франция - Великобритания', 'Китай',\n",
       "       'Мексика-Аргентина',\n",
       "       'Германия - Великобритания - Италия - Испания',\n",
       "       'Франция-Германия-Великобритания', 'Россия - Германия - Швейцария',\n",
       "       'Франция-Австралия', 'Голландия', 'Швейцария-Франция',\n",
       "       'Россия-Белоруссия', 'Франция - Испания - Тайвань',\n",
       "       'США-Южная Корея-Новая Зеландия', 'Великобритания-Венгрия',\n",
       "       'Россия-Германия', 'Великобритания-Франция-Германия',\n",
       "       'Франция-Германия-Италия', 'Швеция-Финляндия-Франция-Норвегия',\n",
       "       'Франция-Италия', 'Германия-Израиль',\n",
       "       'Швеция - Германия - Дания - Норвегия', 'США-Бельгия',\n",
       "       'Франция-Гонконг-Ирландия', 'Эстония', 'Литва-Россия-Украина',\n",
       "       'Германия - Италия - Франция',\n",
       "       'Великобритания - Австрия - Германия', 'Бельгия - Франция',\n",
       "       'Россия-Казахстан', 'Испания - Мальта',\n",
       "       'Франция-Россия-Румыния-Италия-Бельгия', 'Россия - Польша',\n",
       "       'Испания - Мексика', 'США-Аргентина', 'Израиль-США-Франция',\n",
       "       'США - Новая Зеландия - Япония',\n",
       "       'Франция - Чехия - Великобритания', 'Россия-Польша',\n",
       "       'Германия-Франция-Великобритания', 'США-Германия-Канада',\n",
       "       'США-Гонконг-Китай', 'США - Великобритания - Германия',\n",
       "       'США-Канада-Австралия', 'Япония-США-Франция',\n",
       "       'Франция-Испания-Германия', 'США - Хорватия - Босния-Герцеговина',\n",
       "       'Великобритания - Чехия - Франция - Италия',\n",
       "       'США - Германия - Нидерланды', 'Германия - Франция - Канада',\n",
       "       'Великобритания - Франция - Италия', 'Россия - США',\n",
       "       'Франция - Италия - Иран', 'Россия - Азербайджан', 'Греция',\n",
       "       'Дания - США', 'США-Великобритания-Новая Зеландия',\n",
       "       'США-Германия-Австралия', 'США-Канада-Италия',\n",
       "       'США - Япония - Германия', 'Австралия-США',\n",
       "       'Франция - Великобритания - Багамские острова - США',\n",
       "       'Швейцария - Люксембург', 'Швейцария - Австрия',\n",
       "       'Германия - Швейцария', 'Дания-Швеция-Франция-Германия', 'Польша',\n",
       "       'Швейцария-Австрия', 'Бразилия - Канада - США',\n",
       "       'Нидерланды - Россия', 'Португалия', 'Франция-Аргентина',\n",
       "       'Швеция-Франция', 'Франция-Украина', 'Германия-Украина-Нидерланды',\n",
       "       'Италия-Швейцария', 'США-Германия-Великобритания',\n",
       "       'Латвия - Россия', 'Германия-Франция-Великобритания-США',\n",
       "       'Канада - Италия', 'США - Объединенные Арабские Эмираты',\n",
       "       'США-Венгрия', 'Малайзия', 'Россия - Германия - Украина',\n",
       "       'США - Австралия - Мексика', 'Литва - Венгрия', 'Германия - Китай',\n",
       "       'Казахстан', 'Республика Корея',\n",
       "       'США - Германия - Франция - Великобритания - Канада',\n",
       "       'Бельгия - Германия - Люксембург - Франция', 'Франция - Греция',\n",
       "       'Италия - Канада', 'США - Великобритания - Франция',\n",
       "       'США-Италия-Греция', 'Германия - США - Великобритания - Ирландия',\n",
       "       'Великобритания - Франция - Германия',\n",
       "       'Германия - Нидерланды - ЮАР',\n",
       "       'США-Япония-Германия-Великобритания-Нидерланды',\n",
       "       'США-Япония-Германия-Великобритания',\n",
       "       'Германия - Франция - Польша',\n",
       "       'Таиланд-Великобритания-Франция-Германия-Испания-Нидерланды',\n",
       "       'Германия-Италия-Швейцария',\n",
       "       'Дания - Швеция - Великобритания - Франция - Германия - Нидерланды - Норвегия - Финляндия',\n",
       "       'Франция - Великобритания - Нидерланды - Люксембург',\n",
       "       'Нидерланды-Великобритания-Франция-Италия-Япония',\n",
       "       'Финляндия-Дания-Германия-Ирландия', 'Испания-Аргентина',\n",
       "       'Великобритания - Нидерланды - Франция - США', 'Канада - Мексика',\n",
       "       'США, Франция', 'Канада-Южная Корея-США',\n",
       "       'Великобритания - Франция - Бельгия - США', 'КНР - Канада - США',\n",
       "       'Италия - Франция - Германия',\n",
       "       'Швеция - Германия - Франция - Дания', 'Франция - США - Бельгия',\n",
       "       'Украина - Германия - Латвия - Эстония', 'Австрия - Люксембург',\n",
       "       'Великобритания - КНР', 'Монголия', 'Франция - Дания',\n",
       "       'Швеция - Дания - Финляндия',\n",
       "       'Сингапур - Великобритания - Индонезия - Канада - США',\n",
       "       'США - Германия - Япония', 'Таиланд - США', 'Франция - Нидерланды',\n",
       "       'Великобритания - Румыния', 'США - Мальта',\n",
       "       'Великобритания - Германия - Нидерланды - Дания',\n",
       "       'Франция - Германия - Литва - Нидерланды - Россия',\n",
       "       'США - ЮАР - Гонконг', 'Австралия - Колумбия',\n",
       "       'Великобритания - Польша', 'США - Великобритания - Швеция',\n",
       "       'Франция - Швеция - Дания - Норвегия', 'Болгария - США',\n",
       "       'СССР, ФРГ', 'Бельгия - Нидерланды - Франция',\n",
       "       'Финляндия - Германия', 'Болгария',\n",
       "       'Грузия - Россия - Украина - Хорватия - Германия',\n",
       "       'Франция - Люксембург', 'Франция - Германия - Австрия',\n",
       "       'Норвегия - США', 'Германия-Швеция', 'Франция - Германия - Италия',\n",
       "       'Франция-Германия-Австрия', 'КНР-США',\n",
       "       'Дания - Латвия - Россия - США', 'Финляндия - Польша',\n",
       "       'Германия - Бельгия', 'Германия - США - Франция - Испания',\n",
       "       'Бельгия-Германия-Канада-Франция-США-Великобритания',\n",
       "       'Нидерланды - Бельгия - Люксембург', 'Канада-Германия',\n",
       "       'Люксембург - Бельгия - Франция', 'США-Великобритания-Австралия',\n",
       "       'Великобритания, Новая Зеландия', 'Бельгия, Великобритания, США',\n",
       "       'Великобритания, Австралия', 'Исландия, Бельгия',\n",
       "       'Испания - Швейцария - Великобритания - Германия - Новая Зеландия - Нидерланды - Канада',\n",
       "       'Франция, Бельгия', 'Великобритания, США', 'Киргизия-Россия',\n",
       "       'Германия, США', 'Великобритания, США, Испания',\n",
       "       'Италия - Швейцария - Германия', 'Россия, Армения',\n",
       "       'Франция, Германия', 'Китай, Канада, США', 'Германия, Австралия',\n",
       "       'КНР, США', 'США, Великобритания, Люксембург',\n",
       "       'Испания, Ирландия, Бельгия, Франция',\n",
       "       'Великобритания - Гонконг - Венгрия - США - Ирландия',\n",
       "       'США - Пуэрто Рико', 'Аргентина - Испания - Уругвай',\n",
       "       'Израиль - Германия - Франция - Швейцария',\n",
       "       'Великобритания - Мексика - США', 'Испания - Болгария - США',\n",
       "       'Россия-Словакия-Чехия',\n",
       "       'Швейцария - КНР - США - Россия - Республика Корея - Великобритания',\n",
       "       'Россия, Нидерланды, Финляндия',\n",
       "       'Испания - Бельгия - Франция - Португалия - Великобритания',\n",
       "       'Бразилия - Португалия - Франция', 'Швеция - Норвегия',\n",
       "       'Франция - Польша - Бельгия', 'CША', 'Китай, США',\n",
       "       'Италия, Франция, Германия', 'Германия - Австрия - Франция',\n",
       "       'Чехия - Словакия - Хорватия', 'Россия, Польша, Финляндия',\n",
       "       'Россия, Латвия, Чешская Республика',\n",
       "       'Франция - Великобритания - Камбоджа - США - КНР',\n",
       "       'Чехия - Испания - США', 'Германия - Люксембург - Дания',\n",
       "       'Великобритания - Испания - Германия', 'Дания - Исландия',\n",
       "       'Германия, Франция, Великобритания',\n",
       "       'Великобритания - Испания - Италия - Латвия - Франция - Эстония',\n",
       "       'Дания, Швеция, Великобритания, Франция, Германия, Норвегия, Финляндия, Нидерланды, Италия',\n",
       "       'Польша - Франция - Великобритания',\n",
       "       'Дания, Норвегия, Венгрия, Чехия',\n",
       "       'Дания - Франция - Германия - Швеция',\n",
       "       'Великобритания, Швеция, США',\n",
       "       'Канада, Франция, Италия, Швейцария, США', 'США, Индия',\n",
       "       'США - Великобритания - Германия - - Швеция - Канада',\n",
       "       'Италия, Франция', 'Республика Беларусь, Германия, США, Россия',\n",
       "       'Италия-Швейцария-Франция-Германия',\n",
       "       'Россия - Франция - Великобритания - Латвия', 'Россия-Беларусь',\n",
       "       'Франция - Испания - Румыния - США - Бельгия', 'Италия-США',\n",
       "       'Россия, Австрия', 'Ирландия - Великобритания - США',\n",
       "       'Швейцария, Великобритания, Франция, США, Ирландия',\n",
       "       'Мексика, Франция, Германия, Дания, Швеция', 'Нидерланды, Бельгия',\n",
       "       'Швеция, Норвегия, Финляндия, Франция', 'Испания, Франция, Италия',\n",
       "       'Испания-Франция-Греция-Индия-США-Россия-Великобритания',\n",
       "       'Великобритания - Япония - США',\n",
       "       'Дания, Канада, Норвегия, Австралия, США', 'Аргентина, Испания',\n",
       "       'Россия, Германия, Казахстан, Польша, Китай',\n",
       "       'Португалия, Франция, Польша, США', 'США - Канада - Аргентина',\n",
       "       'Ливан-США', 'Япония - США', 'США, Гонконг',\n",
       "       'Франция - Россия - Швейцария - Румыния - Венгрия',\n",
       "       'Аргентина-Испания', 'Россия, Сербия', 'США - Болгария - Мексика',\n",
       "       'США - Великобритания - Швейцария - Франция',\n",
       "       'Таиланд - КНР - США',\n",
       "       'Великобритания, Нидерланды, Польша, Швейцария, Франция',\n",
       "       'Ирландия - США',\n",
       "       'Германия - Франция - Великобритания - Польша - США',\n",
       "       'Великобритания-Франция-Италия', 'США - Австралия - Индия',\n",
       "       'Франция - КНР', 'Великобритания - Израиль',\n",
       "       'Великобритания - Норвегия - Кения - Хорватия',\n",
       "       'США - Бразилия - Великобритания - Канада', 'Германия, Бельгия',\n",
       "       'Австралия, Канада', 'США, Великобритания, Франция',\n",
       "       'Кения, Германия', 'Нидерланды, Бельгия, Люксембург', 'Колумбия',\n",
       "       'Латвия - Франция', 'Ирландия, Великобритания',\n",
       "       'Франция - Израиль - Германия', 'Швеция, Франция, Великобритания',\n",
       "       'Бельгия - Люксембург', 'Германия - Бельгия - Великобритания',\n",
       "       'Испания, Франция, Великобритания, Дания, Бельгия, Германия',\n",
       "       'Румыния, ЮАР, Иран, Франция, Канада, Великобритания',\n",
       "       'Германия, Франция', 'США, Япония',\n",
       "       'США, Великобритания, Ирландия, Люксембург', 'Республика Армения',\n",
       "       'США, Франция, Япония', 'Япония, США', 'Канада, США',\n",
       "       'Республика Кипр - Россия',\n",
       "       'Дания - Франция - Италия - Бельгия - Нидерланды',\n",
       "       'Россия - Грузия', 'Италия, Германия', 'Норвегия, Швеция, Дания',\n",
       "       'Республика Кипр, Россия', 'КНР, Индия, Гонконг, США',\n",
       "       'Израиль, Украина', 'США, Россия', 'США - КНР - Индия - Ю.Корея',\n",
       "       'США - Швеция', 'Франция, Канада', 'Россия-Китай',\n",
       "       'Канада, Великобритания', 'США, Германия',\n",
       "       'Канада, США, Каймановы острова',\n",
       "       'Бразилия, Уругвай, Дания, Норвегия, Чили, Швеция',\n",
       "       'Пуэрто-Рико, Великобритания, США',\n",
       "       'Уругвай - Аргентина - Испания',\n",
       "       'США - Великобритания - Италия - Израиль - Сербия - Индия',\n",
       "       'США - Канада - Франция - Индия', 'Великобритания - Россия - КНР',\n",
       "       'Франция, Новая Зеландия', 'Франция, Люксембург, Бельгия',\n",
       "       'Канада, США, Норвегия', 'Италия, Испания',\n",
       "       'Испания - Германия - Нидерланды', 'Бразилия - США - КНР',\n",
       "       'Великобритания, Германия, Дания, США', '2019',\n",
       "       'Италия - Фрация - Бразилия - Германия',\n",
       "       'Норвегия - Швеция - Россия', 'Великобритания, Япония, США',\n",
       "       'Сша, Канада', 'Бельгия, Канада',\n",
       "       'Великобритания - Австралия - США', 'США, Канада',\n",
       "       'Франция - Финляндия', 'Колумбия - США',\n",
       "       'Великобритания, Франция, Бельгия', 'Норвегия - Нидерланды',\n",
       "       'Великобритания, Канада, США', 'Япония, Великобритания',\n",
       "       'Италия - Бельгия - Франция', 'Россия, Бельгия, Финляндия',\n",
       "       'США, Украина', 'Франция, Норвегия',\n",
       "       'Великобритания, Южная Корея, Канада, США, Индия, Китай, Япония',\n",
       "       'Канада - Норвегия', 'Республика Кипр-Россия', 'Германия, Россия',\n",
       "       'Польша - Франция - Испания - Бразилия - Швеция',\n",
       "       'Австрия, Великобритания, Германия', 'Франция - Сенегал - Бельгия',\n",
       "       'Франция, Бельгия, Люксембург', 'Финляндия, Латвия', 'Пакистан',\n",
       "       'Германия, Франция, США', 'Германия - Великобритания - США',\n",
       "       'КНР - Франция', 'Дания, Норвегия, Швеция, Исландия',\n",
       "       'Республика Кипр, США, Россия', 'Новая Зеландия - КНР',\n",
       "       'Дания - Канада - Швеция - Франция - Германия - Великобритания - США'],\n",
       "      dtype=object)"
      ]
     },
     "metadata": {},
     "output_type": "display_data"
    },
    {
     "data": {
      "text/plain": [
       "США                                       2175\n",
       "Россия                                    1822\n",
       "СССР                                       377\n",
       "Франция                                    302\n",
       "Великобритания                             259\n",
       "                                          ... \n",
       "Россия - Германия - Украина                  1\n",
       "Швеция - Германия - Франция - Норвегия       1\n",
       "США - Великобритания- Франция - Швеция       1\n",
       "Россия, Грузия, Хорватия, Испания            1\n",
       "США - КНР - Индия - Ю.Корея                  1\n",
       "Name: production_country, Length: 933, dtype: int64"
      ]
     },
     "metadata": {},
     "output_type": "display_data"
    }
   ],
   "source": [
    "display(data_full['production_country'].unique()) \n",
    "data_full['production_country'] = data_full['production_country'].str.strip() \n",
    "display(data_full['production_country'].value_counts())"
   ]
  },
  {
   "cell_type": "markdown",
   "metadata": {},
   "source": [
    "Названия стран-производителей, где несколько стран, приведены не единообразно. Где-то страны перечисляются через \",\" (с пробелами и без), где через \"-\" (с пробелами и без). Мы удалили пробелы в пределах ковычек."
   ]
  },
  {
   "cell_type": "code",
   "execution_count": 36,
   "metadata": {},
   "outputs": [
    {
     "data": {
      "text/plain": [
       "О.Семёнова                                                                 47\n",
       "Стивен Содерберг                                                           17\n",
       "Д.Червяцов                                                                 17\n",
       "Ридли Скотт                                                                16\n",
       "Тиль Швайгер                                                               14\n",
       "                                                                           ..\n",
       "М.Агранович                                                                 1\n",
       "С.Андрианова, А.Чижикова (псевдоним А.Воронина), П.Кутукина, К.Голубков     1\n",
       "Джон Красинский                                                             1\n",
       "Н.Карачкова                                                                 1\n",
       "Саверио Костанцо                                                            1\n",
       "Name: director, Length: 4811, dtype: int64"
      ]
     },
     "execution_count": 36,
     "metadata": {},
     "output_type": "execute_result"
    }
   ],
   "source": [
    "data_full['director'].unique()\n",
    "data_full['director'].value_counts() "
   ]
  },
  {
   "cell_type": "markdown",
   "metadata": {},
   "source": [
    "Имена зарубежных режиссеров могут писаться по-разному, например: ХЭрольд Рэмис и Гарольд Реймис. Явно это один и тот же человек. Нет смысла копаться в этих данных, потому что они не влияют на результат задачи."
   ]
  },
  {
   "cell_type": "code",
   "execution_count": 38,
   "metadata": {},
   "outputs": [
    {
     "data": {
      "text/plain": [
       "П.Смирнов                                        67\n",
       "Олег Кузовков, Дмитрий Ловейко, Марина Ратина    28\n",
       "С.Сельянов                                       18\n",
       "Д.Ловейко, О.Кузовков                            17\n",
       "А.Тельнов                                        11\n",
       "                                                 ..\n",
       "Лиза Хансен, Пол Херцберг                         1\n",
       "Дебора Андерсон, Трина Венит, Кристофер Галло     1\n",
       "Витторио Чекки Гори, Марио Чекки Гори             1\n",
       "Саша Барон Коэн, Алек Берг, Дэвид Мэндел          1\n",
       "Тьяго Мескита, Росс Оттерман, Джон Янг            1\n",
       "Name: producer, Length: 5349, dtype: int64"
      ]
     },
     "execution_count": 38,
     "metadata": {},
     "output_type": "execute_result"
    }
   ],
   "source": [
    "data_full['producer'].unique()\n",
    "data_full['producer'].value_counts()"
   ]
  },
  {
   "cell_type": "code",
   "execution_count": 39,
   "metadata": {},
   "outputs": [
    {
     "data": {
      "text/plain": [
       "array(['Тачстоун Пикчерз, Кобальт Пикчерз, Бикон Пикчерз, Тиг Продакшнз',\n",
       "       'Киностудия \"Мосфильм\"',\n",
       "       'Юниверсал Пикчерз, Кикстарт Продакшнз, Марк Платт Продакшнз, Рилейтивити Медиа, Спайгласс Интертейнмент, Стилкин Филмз, Топ Кау Продакшнз',\n",
       "       ...,\n",
       "       'Дэниел Гродник Продакшнз, Вандерфилм Медиа Корпорэйшн, Импринт Интертейнмент, Вор Хорс Интертейнмент, Пимиента ',\n",
       "       'Никелодеон Анимейшн Студиос, Спин Мастер',\n",
       "       'Анимаккорд Лтд., ООО Студия \"АНИМАККОРД\"'], dtype=object)"
      ]
     },
     "metadata": {},
     "output_type": "display_data"
    },
    {
     "data": {
      "text/plain": [
       "Киностудия \"Мосфильм\"                                                                                        341\n",
       "ООО \"Мульт в кино\"                                                                                            57\n",
       "Анимаккорд Лтд                                                                                                23\n",
       "ООО \"Мульт в кино\"                                                                                            18\n",
       "ФГУП \"ТПО \"Киностудия \"Союзмультфильм\"                                                                        16\n",
       "                                                                                                            ... \n",
       "Гио Интертейнмент                                                                                              1\n",
       "Еуропа Корпорейшн, Франс 3 Синема, Бибо Фильм, Вокинг зе Дог, юФильм                                           1\n",
       "Эс Ис Продакшн, Тоник Продакшнз, Уолден Медиа, Вайнштейн Компани                                               1\n",
       "Мирамакс, Хостадж Эл Эл Си, Стрэйтус Филм Компани, Чейни Энтерпрайзис, Экуити Пикчерз Медиенфонд ГмбХ          1\n",
       "Арте, кооп99 фильмпродукцион, Эссеншиал Фильмпродукцион, Паризьен де Продюксьон, Термидор Фильмпродукцион      1\n",
       "Name: film_studio, Length: 5489, dtype: int64"
      ]
     },
     "metadata": {},
     "output_type": "display_data"
    }
   ],
   "source": [
    "display(data_full['film_studio'].unique())\n",
    "display(data_full['film_studio'].value_counts()) \n",
    "data_full['film_studio'] = data_full['film_studio'].str.strip() "
   ]
  },
  {
   "cell_type": "markdown",
   "metadata": {},
   "source": [
    "Из-за лишних пробелов некоторые значения дублируются, например 'ООО \"Мульт в кино\" ' и  'ООО \"Мульт в кино\"'. Удалили лишние пробелы."
   ]
  },
  {
   "cell_type": "code",
   "execution_count": 40,
   "metadata": {},
   "outputs": [
    {
     "data": {
      "text/plain": [
       "«16+» - для детей старше 16 лет           2851\n",
       "«18+» - запрещено для детей               1605\n",
       "«12+» - для детей старше 12 лет           1592\n",
       "«0+» - для любой зрительской аудитории     810\n",
       "«6+» - для детей старше 6 лет              626\n",
       "Name: age_restriction, dtype: int64"
      ]
     },
     "execution_count": 40,
     "metadata": {},
     "output_type": "execute_result"
    }
   ],
   "source": [
    "data_full['age_restriction'].unique()\n",
    "data_full['age_restriction'].value_counts()"
   ]
  },
  {
   "cell_type": "code",
   "execution_count": 41,
   "metadata": {},
   "outputs": [
    {
     "data": {
      "text/plain": [
       "драма                           476\n",
       "комедия                         352\n",
       "мелодрама,комедия               221\n",
       "драма,мелодрама,комедия         189\n",
       "драма,мелодрама                 183\n",
       "                               ... \n",
       "спорт,мелодрама,криминал          1\n",
       "фантастика,боевик,ужасы           1\n",
       "приключения,фантастика,драма      1\n",
       "приключения,фэнтези,семейный      1\n",
       "комедия,драма,семейный            1\n",
       "Name: genres, Length: 742, dtype: int64"
      ]
     },
     "execution_count": 41,
     "metadata": {},
     "output_type": "execute_result"
    }
   ],
   "source": [
    "data_full['genres'].unique()\n",
    "data_full['genres'].value_counts()"
   ]
  },
  {
   "cell_type": "markdown",
   "metadata": {},
   "source": [
    "ВЫВОД\n",
    "1. Во многих категориальных значениях встречаются недочеты в виде лишних пробелов. Удалили пробелы в столбцах - 'type', 'production_country' и 'film_studio'.\n",
    "2. В 'puNumber' есть нетепичное значение 1811096, строку с этим значением удалили.\n",
    "2. В 'production_country', названия стран-производителей, где несколько стран, приведены не единообразно. Где-то страны перечисляются через \",\" (с пробелами и без), где через \"-\" (с пробелами и без). Что с этим делать не понятно.\n",
    "3. В столбцах 'producer' и 'director' велика вероятность дублей из-за разного написания инстранных имен в русской транскрипции. например: ХЭрольд Рэмис и Гарольд Реймис. Явно это один и тот же человек. \n",
    "4. В 'genres' слишком много вариаций, при желании можно провести какую-нибудь унификацию."
   ]
  },
  {
   "cell_type": "markdown",
   "metadata": {
    "id": "XFSN5lrEgFyR"
   },
   "source": [
    "### Проверим количественные значения"
   ]
  },
  {
   "cell_type": "code",
   "execution_count": 42,
   "metadata": {
    "id": "YbzClBxagFyS"
   },
   "outputs": [
    {
     "data": {
      "text/html": [
       "<div>\n",
       "<style scoped>\n",
       "    .dataframe tbody tr th:only-of-type {\n",
       "        vertical-align: middle;\n",
       "    }\n",
       "\n",
       "    .dataframe tbody tr th {\n",
       "        vertical-align: top;\n",
       "    }\n",
       "\n",
       "    .dataframe thead th {\n",
       "        text-align: right;\n",
       "    }\n",
       "</style>\n",
       "<table border=\"1\" class=\"dataframe\">\n",
       "  <thead>\n",
       "    <tr style=\"text-align: right;\">\n",
       "      <th></th>\n",
       "      <th>title</th>\n",
       "      <th>puNumber</th>\n",
       "      <th>show_start_date</th>\n",
       "      <th>type</th>\n",
       "      <th>film_studio</th>\n",
       "      <th>production_country</th>\n",
       "      <th>director</th>\n",
       "      <th>producer</th>\n",
       "      <th>age_restriction</th>\n",
       "      <th>refundable_support</th>\n",
       "      <th>nonrefundable_support</th>\n",
       "      <th>budget</th>\n",
       "      <th>financing_source</th>\n",
       "      <th>ratings</th>\n",
       "      <th>genres</th>\n",
       "      <th>box_office</th>\n",
       "    </tr>\n",
       "  </thead>\n",
       "  <tbody>\n",
       "    <tr>\n",
       "      <th>0</th>\n",
       "      <td>Открытый простор</td>\n",
       "      <td>221048915</td>\n",
       "      <td>2015-11-27 12:00:00+00:00</td>\n",
       "      <td>Художественный</td>\n",
       "      <td>Тачстоун Пикчерз, Кобальт Пикчерз, Бикон Пикче...</td>\n",
       "      <td>США</td>\n",
       "      <td>Кевин Костнер</td>\n",
       "      <td>Дэвид Валдес, Кевин Костнер, Джейк Эбертс</td>\n",
       "      <td>«18+» - запрещено для детей</td>\n",
       "      <td>NaN</td>\n",
       "      <td>NaN</td>\n",
       "      <td>NaN</td>\n",
       "      <td>NaN</td>\n",
       "      <td>7.2</td>\n",
       "      <td>боевик,драма,мелодрама</td>\n",
       "      <td>NaN</td>\n",
       "    </tr>\n",
       "    <tr>\n",
       "      <th>1</th>\n",
       "      <td>Особо важное задание</td>\n",
       "      <td>111013716</td>\n",
       "      <td>2016-09-13 12:00:00+00:00</td>\n",
       "      <td>Художественный</td>\n",
       "      <td>Киностудия \"Мосфильм\"</td>\n",
       "      <td>СССР</td>\n",
       "      <td>Е.Матвеев</td>\n",
       "      <td>NaN</td>\n",
       "      <td>«6+» - для детей старше 6 лет</td>\n",
       "      <td>NaN</td>\n",
       "      <td>NaN</td>\n",
       "      <td>NaN</td>\n",
       "      <td>NaN</td>\n",
       "      <td>6.6</td>\n",
       "      <td>драма,военный</td>\n",
       "      <td>NaN</td>\n",
       "    </tr>\n",
       "    <tr>\n",
       "      <th>2</th>\n",
       "      <td>Особо опасен</td>\n",
       "      <td>221038416</td>\n",
       "      <td>2016-10-10 12:00:00+00:00</td>\n",
       "      <td>Художественный</td>\n",
       "      <td>Юниверсал Пикчерз, Кикстарт Продакшнз, Марк Пл...</td>\n",
       "      <td>США</td>\n",
       "      <td>Тимур Бекмамбетов</td>\n",
       "      <td>Джим Лемли, Джейсон Нетер, Марк Е.Платт, Яйн Смит</td>\n",
       "      <td>«18+» - запрещено для детей</td>\n",
       "      <td>NaN</td>\n",
       "      <td>NaN</td>\n",
       "      <td>NaN</td>\n",
       "      <td>NaN</td>\n",
       "      <td>6.8</td>\n",
       "      <td>фантастика,боевик,триллер</td>\n",
       "      <td>NaN</td>\n",
       "    </tr>\n",
       "    <tr>\n",
       "      <th>3</th>\n",
       "      <td>Особо опасен</td>\n",
       "      <td>221026916</td>\n",
       "      <td>2016-06-10 12:00:00+00:00</td>\n",
       "      <td>Художественный</td>\n",
       "      <td>Юниверсал Пикчерз, Кикстарт Продакшнз, Марк Пл...</td>\n",
       "      <td>США</td>\n",
       "      <td>Тимур Бекмамбетов</td>\n",
       "      <td>Джим Лемли, Джейсон Нетер, Марк Е.Платт, Яйн Смит</td>\n",
       "      <td>«18+» - запрещено для детей</td>\n",
       "      <td>NaN</td>\n",
       "      <td>NaN</td>\n",
       "      <td>NaN</td>\n",
       "      <td>NaN</td>\n",
       "      <td>6.8</td>\n",
       "      <td>фантастика,боевик,триллер</td>\n",
       "      <td>NaN</td>\n",
       "    </tr>\n",
       "    <tr>\n",
       "      <th>4</th>\n",
       "      <td>Особо опасен</td>\n",
       "      <td>221030815</td>\n",
       "      <td>2015-07-29 12:00:00+00:00</td>\n",
       "      <td>Художественный</td>\n",
       "      <td>Юниверсал Пикчерз, Кикстарт Продакшнз, Марк Пл...</td>\n",
       "      <td>США</td>\n",
       "      <td>Тимур Бекмамбетов</td>\n",
       "      <td>Джим Лемли, Джейсон Нетер, Марк Е.Платт, Яйн Смит</td>\n",
       "      <td>«18+» - запрещено для детей</td>\n",
       "      <td>NaN</td>\n",
       "      <td>NaN</td>\n",
       "      <td>NaN</td>\n",
       "      <td>NaN</td>\n",
       "      <td>6.8</td>\n",
       "      <td>фантастика,боевик,триллер</td>\n",
       "      <td>NaN</td>\n",
       "    </tr>\n",
       "  </tbody>\n",
       "</table>\n",
       "</div>"
      ],
      "text/plain": [
       "                  title   puNumber           show_start_date            type  \\\n",
       "0      Открытый простор  221048915 2015-11-27 12:00:00+00:00  Художественный   \n",
       "1  Особо важное задание  111013716 2016-09-13 12:00:00+00:00  Художественный   \n",
       "2          Особо опасен  221038416 2016-10-10 12:00:00+00:00  Художественный   \n",
       "3          Особо опасен  221026916 2016-06-10 12:00:00+00:00  Художественный   \n",
       "4          Особо опасен  221030815 2015-07-29 12:00:00+00:00  Художественный   \n",
       "\n",
       "                                         film_studio production_country  \\\n",
       "0  Тачстоун Пикчерз, Кобальт Пикчерз, Бикон Пикче...                США   \n",
       "1                              Киностудия \"Мосфильм\"               СССР   \n",
       "2  Юниверсал Пикчерз, Кикстарт Продакшнз, Марк Пл...                США   \n",
       "3  Юниверсал Пикчерз, Кикстарт Продакшнз, Марк Пл...                США   \n",
       "4  Юниверсал Пикчерз, Кикстарт Продакшнз, Марк Пл...                США   \n",
       "\n",
       "            director                                           producer  \\\n",
       "0      Кевин Костнер          Дэвид Валдес, Кевин Костнер, Джейк Эбертс   \n",
       "1          Е.Матвеев                                                NaN   \n",
       "2  Тимур Бекмамбетов  Джим Лемли, Джейсон Нетер, Марк Е.Платт, Яйн Смит   \n",
       "3  Тимур Бекмамбетов  Джим Лемли, Джейсон Нетер, Марк Е.Платт, Яйн Смит   \n",
       "4  Тимур Бекмамбетов  Джим Лемли, Джейсон Нетер, Марк Е.Платт, Яйн Смит   \n",
       "\n",
       "                 age_restriction  refundable_support  nonrefundable_support  \\\n",
       "0    «18+» - запрещено для детей                 NaN                    NaN   \n",
       "1  «6+» - для детей старше 6 лет                 NaN                    NaN   \n",
       "2    «18+» - запрещено для детей                 NaN                    NaN   \n",
       "3    «18+» - запрещено для детей                 NaN                    NaN   \n",
       "4    «18+» - запрещено для детей                 NaN                    NaN   \n",
       "\n",
       "   budget financing_source  ratings                     genres  box_office  \n",
       "0     NaN              NaN      7.2     боевик,драма,мелодрама         NaN  \n",
       "1     NaN              NaN      6.6              драма,военный         NaN  \n",
       "2     NaN              NaN      6.8  фантастика,боевик,триллер         NaN  \n",
       "3     NaN              NaN      6.8  фантастика,боевик,триллер         NaN  \n",
       "4     NaN              NaN      6.8  фантастика,боевик,триллер         NaN  "
      ]
     },
     "execution_count": 42,
     "metadata": {},
     "output_type": "execute_result"
    }
   ],
   "source": [
    "data_full.head()"
   ]
  },
  {
   "cell_type": "code",
   "execution_count": 48,
   "metadata": {},
   "outputs": [
    {
     "data": {
      "text/html": [
       "<div>\n",
       "<style scoped>\n",
       "    .dataframe tbody tr th:only-of-type {\n",
       "        vertical-align: middle;\n",
       "    }\n",
       "\n",
       "    .dataframe tbody tr th {\n",
       "        vertical-align: top;\n",
       "    }\n",
       "\n",
       "    .dataframe thead th {\n",
       "        text-align: right;\n",
       "    }\n",
       "</style>\n",
       "<table border=\"1\" class=\"dataframe\">\n",
       "  <thead>\n",
       "    <tr style=\"text-align: right;\">\n",
       "      <th></th>\n",
       "      <th>puNumber</th>\n",
       "      <th>refundable_support</th>\n",
       "      <th>nonrefundable_support</th>\n",
       "      <th>budget</th>\n",
       "      <th>ratings</th>\n",
       "      <th>box_office</th>\n",
       "    </tr>\n",
       "  </thead>\n",
       "  <tbody>\n",
       "    <tr>\n",
       "      <th>count</th>\n",
       "      <td>7.484000e+03</td>\n",
       "      <td>3.320000e+02</td>\n",
       "      <td>3.320000e+02</td>\n",
       "      <td>3.320000e+02</td>\n",
       "      <td>7484.000000</td>\n",
       "      <td>3.158000e+03</td>\n",
       "    </tr>\n",
       "    <tr>\n",
       "      <th>mean</th>\n",
       "      <td>1.352144e+08</td>\n",
       "      <td>1.186446e+07</td>\n",
       "      <td>4.898099e+07</td>\n",
       "      <td>1.272297e+08</td>\n",
       "      <td>6.495270</td>\n",
       "      <td>7.647870e+07</td>\n",
       "    </tr>\n",
       "    <tr>\n",
       "      <th>std</th>\n",
       "      <td>3.832447e+07</td>\n",
       "      <td>2.491656e+07</td>\n",
       "      <td>5.998012e+07</td>\n",
       "      <td>1.885883e+08</td>\n",
       "      <td>1.026706</td>\n",
       "      <td>2.403531e+08</td>\n",
       "    </tr>\n",
       "    <tr>\n",
       "      <th>min</th>\n",
       "      <td>1.110001e+08</td>\n",
       "      <td>0.000000e+00</td>\n",
       "      <td>0.000000e+00</td>\n",
       "      <td>0.000000e+00</td>\n",
       "      <td>1.000000</td>\n",
       "      <td>0.000000e+00</td>\n",
       "    </tr>\n",
       "    <tr>\n",
       "      <th>25%</th>\n",
       "      <td>1.120252e+08</td>\n",
       "      <td>0.000000e+00</td>\n",
       "      <td>2.500000e+07</td>\n",
       "      <td>4.200000e+07</td>\n",
       "      <td>6.000000</td>\n",
       "      <td>8.623900e+04</td>\n",
       "    </tr>\n",
       "    <tr>\n",
       "      <th>50%</th>\n",
       "      <td>1.210155e+08</td>\n",
       "      <td>0.000000e+00</td>\n",
       "      <td>3.000000e+07</td>\n",
       "      <td>6.864992e+07</td>\n",
       "      <td>6.600000</td>\n",
       "      <td>2.327988e+06</td>\n",
       "    </tr>\n",
       "    <tr>\n",
       "      <th>75%</th>\n",
       "      <td>1.240033e+08</td>\n",
       "      <td>1.500000e+07</td>\n",
       "      <td>4.037500e+07</td>\n",
       "      <td>1.419853e+08</td>\n",
       "      <td>7.100000</td>\n",
       "      <td>2.397967e+07</td>\n",
       "    </tr>\n",
       "    <tr>\n",
       "      <th>max</th>\n",
       "      <td>2.310011e+08</td>\n",
       "      <td>1.800000e+08</td>\n",
       "      <td>4.000000e+08</td>\n",
       "      <td>2.305074e+09</td>\n",
       "      <td>9.200000</td>\n",
       "      <td>3.073569e+09</td>\n",
       "    </tr>\n",
       "  </tbody>\n",
       "</table>\n",
       "</div>"
      ],
      "text/plain": [
       "           puNumber  refundable_support  nonrefundable_support        budget  \\\n",
       "count  7.484000e+03        3.320000e+02           3.320000e+02  3.320000e+02   \n",
       "mean   1.352144e+08        1.186446e+07           4.898099e+07  1.272297e+08   \n",
       "std    3.832447e+07        2.491656e+07           5.998012e+07  1.885883e+08   \n",
       "min    1.110001e+08        0.000000e+00           0.000000e+00  0.000000e+00   \n",
       "25%    1.120252e+08        0.000000e+00           2.500000e+07  4.200000e+07   \n",
       "50%    1.210155e+08        0.000000e+00           3.000000e+07  6.864992e+07   \n",
       "75%    1.240033e+08        1.500000e+07           4.037500e+07  1.419853e+08   \n",
       "max    2.310011e+08        1.800000e+08           4.000000e+08  2.305074e+09   \n",
       "\n",
       "           ratings    box_office  \n",
       "count  7484.000000  3.158000e+03  \n",
       "mean      6.495270  7.647870e+07  \n",
       "std       1.026706  2.403531e+08  \n",
       "min       1.000000  0.000000e+00  \n",
       "25%       6.000000  8.623900e+04  \n",
       "50%       6.600000  2.327988e+06  \n",
       "75%       7.100000  2.397967e+07  \n",
       "max       9.200000  3.073569e+09  "
      ]
     },
     "execution_count": 48,
     "metadata": {},
     "output_type": "execute_result"
    }
   ],
   "source": [
    "data_full.describe()"
   ]
  },
  {
   "cell_type": "code",
   "execution_count": 49,
   "metadata": {},
   "outputs": [
    {
     "data": {
      "text/plain": [
       "0.35962164732637264"
      ]
     },
     "execution_count": 49,
     "metadata": {},
     "output_type": "execute_result"
    }
   ],
   "source": [
    "data_full['refundable_support'].corr(data_full['nonrefundable_support'])"
   ]
  },
  {
   "cell_type": "code",
   "execution_count": 50,
   "metadata": {},
   "outputs": [
    {
     "data": {
      "text/plain": [
       "0.6412236551080055"
      ]
     },
     "execution_count": 50,
     "metadata": {},
     "output_type": "execute_result"
    }
   ],
   "source": [
    "data_full['refundable_support'].corr(data_full['budget'])"
   ]
  },
  {
   "cell_type": "code",
   "execution_count": 51,
   "metadata": {},
   "outputs": [
    {
     "data": {
      "text/plain": [
       "0.5941693326605133"
      ]
     },
     "execution_count": 51,
     "metadata": {},
     "output_type": "execute_result"
    }
   ],
   "source": [
    "data_full['nonrefundable_support'].corr(data_full['budget'])"
   ]
  },
  {
   "cell_type": "code",
   "execution_count": 52,
   "metadata": {},
   "outputs": [
    {
     "data": {
      "text/html": [
       "<div>\n",
       "<style scoped>\n",
       "    .dataframe tbody tr th:only-of-type {\n",
       "        vertical-align: middle;\n",
       "    }\n",
       "\n",
       "    .dataframe tbody tr th {\n",
       "        vertical-align: top;\n",
       "    }\n",
       "\n",
       "    .dataframe thead th {\n",
       "        text-align: right;\n",
       "    }\n",
       "</style>\n",
       "<table border=\"1\" class=\"dataframe\">\n",
       "  <thead>\n",
       "    <tr style=\"text-align: right;\">\n",
       "      <th></th>\n",
       "      <th>title</th>\n",
       "      <th>puNumber</th>\n",
       "      <th>show_start_date</th>\n",
       "      <th>type</th>\n",
       "      <th>film_studio</th>\n",
       "      <th>production_country</th>\n",
       "      <th>director</th>\n",
       "      <th>producer</th>\n",
       "      <th>age_restriction</th>\n",
       "      <th>refundable_support</th>\n",
       "      <th>nonrefundable_support</th>\n",
       "      <th>budget</th>\n",
       "      <th>financing_source</th>\n",
       "      <th>ratings</th>\n",
       "      <th>genres</th>\n",
       "      <th>box_office</th>\n",
       "    </tr>\n",
       "  </thead>\n",
       "  <tbody>\n",
       "    <tr>\n",
       "      <th>2052</th>\n",
       "      <td>14+</td>\n",
       "      <td>111023614</td>\n",
       "      <td>2014-12-19 12:00:00+00:00</td>\n",
       "      <td>Художественный</td>\n",
       "      <td>ООО Киностудия  \"Сентябрь\"</td>\n",
       "      <td>Россия</td>\n",
       "      <td>А.Зайцев</td>\n",
       "      <td>О.Гранина, А.Зайцев</td>\n",
       "      <td>«16+» - для детей старше 16 лет</td>\n",
       "      <td>0.0</td>\n",
       "      <td>23000000.0</td>\n",
       "      <td>0.0</td>\n",
       "      <td>Министерство культуры, Фонд кино</td>\n",
       "      <td>6.6</td>\n",
       "      <td>мелодрама</td>\n",
       "      <td>1.023402e+07</td>\n",
       "    </tr>\n",
       "    <tr>\n",
       "      <th>2057</th>\n",
       "      <td>Дуxless 2</td>\n",
       "      <td>111000415</td>\n",
       "      <td>2015-01-26 12:00:00+00:00</td>\n",
       "      <td>Художественный</td>\n",
       "      <td>ООО \"Киностудия \"Слово\", ООО \"Арт Пикчерс Студия\"</td>\n",
       "      <td>Россия</td>\n",
       "      <td>Р.Прыгунов</td>\n",
       "      <td>П.Ануров, Ф.Бондарчук, Д.Рудовский</td>\n",
       "      <td>«16+» - для детей старше 16 лет</td>\n",
       "      <td>0.0</td>\n",
       "      <td>75000000.0</td>\n",
       "      <td>0.0</td>\n",
       "      <td>Фонд кино</td>\n",
       "      <td>6.6</td>\n",
       "      <td>драма</td>\n",
       "      <td>4.461635e+08</td>\n",
       "    </tr>\n",
       "    <tr>\n",
       "      <th>2471</th>\n",
       "      <td>Воин (2015)</td>\n",
       "      <td>111017315</td>\n",
       "      <td>2015-09-28 12:00:00+00:00</td>\n",
       "      <td>Художественный</td>\n",
       "      <td>ООО \"Форпост Продакшн\", ООО \"Арт Пикчерс Студия\"</td>\n",
       "      <td>Россия</td>\n",
       "      <td>А.Андрианов</td>\n",
       "      <td>ООО \"Арт Пикчерс Студия\"</td>\n",
       "      <td>«12+» - для детей старше 12 лет</td>\n",
       "      <td>10000000.0</td>\n",
       "      <td>70000000.0</td>\n",
       "      <td>0.0</td>\n",
       "      <td>Фонд кино</td>\n",
       "      <td>7.8</td>\n",
       "      <td>боевик,драма,криминал</td>\n",
       "      <td>1.965724e+08</td>\n",
       "    </tr>\n",
       "    <tr>\n",
       "      <th>2531</th>\n",
       "      <td>Бармен.</td>\n",
       "      <td>111009615</td>\n",
       "      <td>2015-05-26 12:00:00+00:00</td>\n",
       "      <td>Художественный</td>\n",
       "      <td>АО \"ВайТ Медиа\", ООО \"Арт Пикчерс Студия\"</td>\n",
       "      <td>Россия</td>\n",
       "      <td>Д.Штурманова</td>\n",
       "      <td>Т.Вайнштейн</td>\n",
       "      <td>«16+» - для детей старше 16 лет</td>\n",
       "      <td>20000000.0</td>\n",
       "      <td>0.0</td>\n",
       "      <td>0.0</td>\n",
       "      <td>Фонд кино</td>\n",
       "      <td>6.2</td>\n",
       "      <td>комедия,фэнтези</td>\n",
       "      <td>6.741897e+07</td>\n",
       "    </tr>\n",
       "    <tr>\n",
       "      <th>2614</th>\n",
       "      <td>Савва. Сердце воина</td>\n",
       "      <td>114001715</td>\n",
       "      <td>2015-07-21 12:00:00+00:00</td>\n",
       "      <td>Анимационный</td>\n",
       "      <td>ООО \"Глюкоза Продакшн\", ООО \"Арт Пикчерс Студия\"</td>\n",
       "      <td>Россия</td>\n",
       "      <td>М.Фадеев</td>\n",
       "      <td>А.Чистяков</td>\n",
       "      <td>«6+» - для детей старше 6 лет</td>\n",
       "      <td>60000000.0</td>\n",
       "      <td>100000000.0</td>\n",
       "      <td>0.0</td>\n",
       "      <td>Фонд кино</td>\n",
       "      <td>4.6</td>\n",
       "      <td>мультфильм,приключения,фэнтези</td>\n",
       "      <td>1.844876e+08</td>\n",
       "    </tr>\n",
       "    <tr>\n",
       "      <th>2683</th>\n",
       "      <td>Тряпичный союз</td>\n",
       "      <td>111010215</td>\n",
       "      <td>2015-06-08 12:00:00+00:00</td>\n",
       "      <td>Художественный</td>\n",
       "      <td>ООО \"Кинокомпания \"КОКТЕБЕЛЬ\"</td>\n",
       "      <td>Россия</td>\n",
       "      <td>М.Местецкий</td>\n",
       "      <td>Р.Борисевич, А.Кушаев</td>\n",
       "      <td>«18+» - запрещено для детей</td>\n",
       "      <td>0.0</td>\n",
       "      <td>59000000.0</td>\n",
       "      <td>0.0</td>\n",
       "      <td>Фонд кино</td>\n",
       "      <td>6.3</td>\n",
       "      <td>комедия,драма</td>\n",
       "      <td>1.957739e+06</td>\n",
       "    </tr>\n",
       "    <tr>\n",
       "      <th>2787</th>\n",
       "      <td>Срочно выйду замуж</td>\n",
       "      <td>111017115</td>\n",
       "      <td>2015-09-30 12:00:00+00:00</td>\n",
       "      <td>Художественный</td>\n",
       "      <td>АО \"ВайТ Медиа\", ООО \"Арт Пикчерс Студия\"</td>\n",
       "      <td>Россия</td>\n",
       "      <td>С Чекалов</td>\n",
       "      <td>Ф.Бондарчук, Т.Вайнштейн, Д.Рудовский</td>\n",
       "      <td>«16+» - для детей старше 16 лет</td>\n",
       "      <td>0.0</td>\n",
       "      <td>35000000.0</td>\n",
       "      <td>0.0</td>\n",
       "      <td>Фонд кино</td>\n",
       "      <td>5.1</td>\n",
       "      <td>комедия,мелодрама</td>\n",
       "      <td>7.293778e+07</td>\n",
       "    </tr>\n",
       "    <tr>\n",
       "      <th>2873</th>\n",
       "      <td>Помню - не помню!</td>\n",
       "      <td>111004916</td>\n",
       "      <td>2016-03-01 12:00:00+00:00</td>\n",
       "      <td>Художественный</td>\n",
       "      <td>ООО \"КиноФирма\"</td>\n",
       "      <td>Россия</td>\n",
       "      <td>В.Ровенский</td>\n",
       "      <td>ООО \"КиноФирма\"</td>\n",
       "      <td>«12+» - для детей старше 12 лет</td>\n",
       "      <td>0.0</td>\n",
       "      <td>6000000.0</td>\n",
       "      <td>0.0</td>\n",
       "      <td>Министерство культуры</td>\n",
       "      <td>4.3</td>\n",
       "      <td>комедия</td>\n",
       "      <td>1.536293e+07</td>\n",
       "    </tr>\n",
       "    <tr>\n",
       "      <th>3046</th>\n",
       "      <td>Любовь с ограничениями</td>\n",
       "      <td>111008216</td>\n",
       "      <td>2016-04-29 12:00:00+00:00</td>\n",
       "      <td>Художественный</td>\n",
       "      <td>АО \"ВайТ Медиа\", ООО \"Арт Пикчерс Студия\"</td>\n",
       "      <td>Россия</td>\n",
       "      <td>Д.Тюрин</td>\n",
       "      <td>Ф.Бондарчук, Т.Вайнштейн, Д.Рудовский</td>\n",
       "      <td>«16+» - для детей старше 16 лет</td>\n",
       "      <td>19000000.0</td>\n",
       "      <td>51000000.0</td>\n",
       "      <td>0.0</td>\n",
       "      <td>Фонд кино</td>\n",
       "      <td>6.3</td>\n",
       "      <td>комедия,мелодрама</td>\n",
       "      <td>7.029905e+07</td>\n",
       "    </tr>\n",
       "    <tr>\n",
       "      <th>3564</th>\n",
       "      <td>Притяжение (2016)</td>\n",
       "      <td>111018116</td>\n",
       "      <td>2016-12-16 12:00:00+00:00</td>\n",
       "      <td>Художественный</td>\n",
       "      <td>ООО \"Водород 2011\",  ООО \"Арт Пикчерс Студия\"</td>\n",
       "      <td>Россия</td>\n",
       "      <td>Ф.Бондарчук</td>\n",
       "      <td>ООО \"Арт Пикчерс Студия\"</td>\n",
       "      <td>«12+» - для детей старше 12 лет</td>\n",
       "      <td>0.0</td>\n",
       "      <td>250000000.0</td>\n",
       "      <td>0.0</td>\n",
       "      <td>Фонд кино</td>\n",
       "      <td>5.6</td>\n",
       "      <td>фантастика</td>\n",
       "      <td>1.038321e+09</td>\n",
       "    </tr>\n",
       "    <tr>\n",
       "      <th>3674</th>\n",
       "      <td>Чудо-юдо</td>\n",
       "      <td>114001817</td>\n",
       "      <td>2017-06-27 12:00:00+00:00</td>\n",
       "      <td>Анимационный</td>\n",
       "      <td>ООО \"КиноФирма\"</td>\n",
       "      <td>Россия</td>\n",
       "      <td>А.Лукичев</td>\n",
       "      <td>ООО \"КиноФирма\"</td>\n",
       "      <td>«6+» - для детей старше 6 лет</td>\n",
       "      <td>20000000.0</td>\n",
       "      <td>20000000.0</td>\n",
       "      <td>0.0</td>\n",
       "      <td>Фонд кино</td>\n",
       "      <td>5.2</td>\n",
       "      <td>мультфильм,фэнтези,семейный</td>\n",
       "      <td>5.510801e+07</td>\n",
       "    </tr>\n",
       "    <tr>\n",
       "      <th>3738</th>\n",
       "      <td>Мифы</td>\n",
       "      <td>111004317</td>\n",
       "      <td>2017-06-07 12:00:00+00:00</td>\n",
       "      <td>Художественный</td>\n",
       "      <td>ООО \"ХАЙПФИЛМ\", ООО \"Арт Пикчерс Студия\"</td>\n",
       "      <td>Россия</td>\n",
       "      <td>А.Молочников</td>\n",
       "      <td>Ф.Бондарчук, Д.Рудовский, И.Стюарт, М.Османн, ...</td>\n",
       "      <td>«16+» - для детей старше 16 лет</td>\n",
       "      <td>25000000.0</td>\n",
       "      <td>20000000.0</td>\n",
       "      <td>0.0</td>\n",
       "      <td>Фонд кино</td>\n",
       "      <td>4.8</td>\n",
       "      <td>комедия</td>\n",
       "      <td>5.045195e+07</td>\n",
       "    </tr>\n",
       "    <tr>\n",
       "      <th>5672</th>\n",
       "      <td>Селфи</td>\n",
       "      <td>111012117</td>\n",
       "      <td>2018-02-01 12:00:00+00:00</td>\n",
       "      <td>Художественный</td>\n",
       "      <td>ООО \"Киностудия \"Слово\", ООО \"Арт Пикчерс Студия\"</td>\n",
       "      <td>Россия</td>\n",
       "      <td>Н.Хомерики</td>\n",
       "      <td>П.Ануров, Ф.Бондарчук, Д.Рудовский</td>\n",
       "      <td>«16+» - для детей старше 16 лет</td>\n",
       "      <td>20000000.0</td>\n",
       "      <td>40000000.0</td>\n",
       "      <td>0.0</td>\n",
       "      <td>Фонд кино</td>\n",
       "      <td>5.8</td>\n",
       "      <td>триллер,драма</td>\n",
       "      <td>2.251964e+08</td>\n",
       "    </tr>\n",
       "    <tr>\n",
       "      <th>5805</th>\n",
       "      <td>Два хвоста</td>\n",
       "      <td>114001018</td>\n",
       "      <td>2018-05-31 12:00:00+00:00</td>\n",
       "      <td>Анимационный</td>\n",
       "      <td>ООО \"ЛИЦЕНЗИОННЫЕ БРЕНДЫ\"</td>\n",
       "      <td>Россия</td>\n",
       "      <td>В.Ровенский, Н.Лопато, В.Азеев</td>\n",
       "      <td>ООО \"ЛИЦЕНЗИОННЫЕ БРЕНДЫ\"</td>\n",
       "      <td>«6+» - для детей старше 6 лет</td>\n",
       "      <td>10000000.0</td>\n",
       "      <td>60000000.0</td>\n",
       "      <td>0.0</td>\n",
       "      <td>Фонд кино</td>\n",
       "      <td>5.0</td>\n",
       "      <td>мультфильм,детский</td>\n",
       "      <td>1.065143e+08</td>\n",
       "    </tr>\n",
       "    <tr>\n",
       "      <th>6007</th>\n",
       "      <td>Принцесса и дракон</td>\n",
       "      <td>114003018</td>\n",
       "      <td>2018-08-23 12:00:00+00:00</td>\n",
       "      <td>Анимационный</td>\n",
       "      <td>ООО \"ЛИЦЕНЗИОННЫЕ БРЕНДЫ\"</td>\n",
       "      <td>Россия</td>\n",
       "      <td>М.Нефедова</td>\n",
       "      <td>ООО \"ЛИЦЕНЗИОННЫЕ БРЕНДЫ\"</td>\n",
       "      <td>«6+» - для детей старше 6 лет</td>\n",
       "      <td>40000000.0</td>\n",
       "      <td>40000000.0</td>\n",
       "      <td>0.0</td>\n",
       "      <td>Фонд кино</td>\n",
       "      <td>5.2</td>\n",
       "      <td>мультфильм,фэнтези,детский</td>\n",
       "      <td>8.336633e+07</td>\n",
       "    </tr>\n",
       "    <tr>\n",
       "      <th>6322</th>\n",
       "      <td>Баба Яга</td>\n",
       "      <td>114006518</td>\n",
       "      <td>2018-11-08 12:00:00+00:00</td>\n",
       "      <td>Анимационный</td>\n",
       "      <td>ООО \"Арт Пикчерс Студия\"</td>\n",
       "      <td>Россия</td>\n",
       "      <td>В.Саков</td>\n",
       "      <td>ООО \"Арт Пикчерс Студия\", ООО \"КРИЭЙТИВ АНИМЭЙ...</td>\n",
       "      <td>«6+» - для детей старше 6 лет</td>\n",
       "      <td>0.0</td>\n",
       "      <td>138969465.0</td>\n",
       "      <td>0.0</td>\n",
       "      <td>Фонд кино</td>\n",
       "      <td>6.6</td>\n",
       "      <td>NaN</td>\n",
       "      <td>1.334699e+06</td>\n",
       "    </tr>\n",
       "    <tr>\n",
       "      <th>6822</th>\n",
       "      <td>Большое путешествие</td>\n",
       "      <td>114002419</td>\n",
       "      <td>2019-04-20 12:00:00+00:00</td>\n",
       "      <td>Анимационный</td>\n",
       "      <td>ООО \"ЛИЦЕНЗИОННЫЕ БРЕНДЫ\"</td>\n",
       "      <td>Россия</td>\n",
       "      <td>Н.Лопато, В.Ровенский</td>\n",
       "      <td>ООО \"ЛИЦЕНЗИОННЫЕ БРЕНДЫ\"</td>\n",
       "      <td>«6+» - для детей старше 6 лет</td>\n",
       "      <td>60000000.0</td>\n",
       "      <td>120000000.0</td>\n",
       "      <td>0.0</td>\n",
       "      <td>Фонд кино</td>\n",
       "      <td>6.2</td>\n",
       "      <td>мультфильм,комедия,приключения</td>\n",
       "      <td>1.476068e+08</td>\n",
       "    </tr>\n",
       "  </tbody>\n",
       "</table>\n",
       "</div>"
      ],
      "text/plain": [
       "                       title   puNumber           show_start_date  \\\n",
       "2052                     14+  111023614 2014-12-19 12:00:00+00:00   \n",
       "2057               Дуxless 2  111000415 2015-01-26 12:00:00+00:00   \n",
       "2471             Воин (2015)  111017315 2015-09-28 12:00:00+00:00   \n",
       "2531                 Бармен.  111009615 2015-05-26 12:00:00+00:00   \n",
       "2614     Савва. Сердце воина  114001715 2015-07-21 12:00:00+00:00   \n",
       "2683          Тряпичный союз  111010215 2015-06-08 12:00:00+00:00   \n",
       "2787      Срочно выйду замуж  111017115 2015-09-30 12:00:00+00:00   \n",
       "2873       Помню - не помню!  111004916 2016-03-01 12:00:00+00:00   \n",
       "3046  Любовь с ограничениями  111008216 2016-04-29 12:00:00+00:00   \n",
       "3564       Притяжение (2016)  111018116 2016-12-16 12:00:00+00:00   \n",
       "3674                Чудо-юдо  114001817 2017-06-27 12:00:00+00:00   \n",
       "3738                    Мифы  111004317 2017-06-07 12:00:00+00:00   \n",
       "5672                   Селфи  111012117 2018-02-01 12:00:00+00:00   \n",
       "5805              Два хвоста  114001018 2018-05-31 12:00:00+00:00   \n",
       "6007      Принцесса и дракон  114003018 2018-08-23 12:00:00+00:00   \n",
       "6322                Баба Яга  114006518 2018-11-08 12:00:00+00:00   \n",
       "6822     Большое путешествие  114002419 2019-04-20 12:00:00+00:00   \n",
       "\n",
       "                type                                        film_studio  \\\n",
       "2052  Художественный                         ООО Киностудия  \"Сентябрь\"   \n",
       "2057  Художественный  ООО \"Киностудия \"Слово\", ООО \"Арт Пикчерс Студия\"   \n",
       "2471  Художественный   ООО \"Форпост Продакшн\", ООО \"Арт Пикчерс Студия\"   \n",
       "2531  Художественный          АО \"ВайТ Медиа\", ООО \"Арт Пикчерс Студия\"   \n",
       "2614    Анимационный   ООО \"Глюкоза Продакшн\", ООО \"Арт Пикчерс Студия\"   \n",
       "2683  Художественный                      ООО \"Кинокомпания \"КОКТЕБЕЛЬ\"   \n",
       "2787  Художественный          АО \"ВайТ Медиа\", ООО \"Арт Пикчерс Студия\"   \n",
       "2873  Художественный                                    ООО \"КиноФирма\"   \n",
       "3046  Художественный          АО \"ВайТ Медиа\", ООО \"Арт Пикчерс Студия\"   \n",
       "3564  Художественный      ООО \"Водород 2011\",  ООО \"Арт Пикчерс Студия\"   \n",
       "3674    Анимационный                                    ООО \"КиноФирма\"   \n",
       "3738  Художественный           ООО \"ХАЙПФИЛМ\", ООО \"Арт Пикчерс Студия\"   \n",
       "5672  Художественный  ООО \"Киностудия \"Слово\", ООО \"Арт Пикчерс Студия\"   \n",
       "5805    Анимационный                          ООО \"ЛИЦЕНЗИОННЫЕ БРЕНДЫ\"   \n",
       "6007    Анимационный                          ООО \"ЛИЦЕНЗИОННЫЕ БРЕНДЫ\"   \n",
       "6322    Анимационный                           ООО \"Арт Пикчерс Студия\"   \n",
       "6822    Анимационный                          ООО \"ЛИЦЕНЗИОННЫЕ БРЕНДЫ\"   \n",
       "\n",
       "     production_country                        director  \\\n",
       "2052             Россия                        А.Зайцев   \n",
       "2057             Россия                      Р.Прыгунов   \n",
       "2471             Россия                     А.Андрианов   \n",
       "2531             Россия                    Д.Штурманова   \n",
       "2614             Россия                        М.Фадеев   \n",
       "2683             Россия                     М.Местецкий   \n",
       "2787             Россия                       С Чекалов   \n",
       "2873             Россия                     В.Ровенский   \n",
       "3046             Россия                         Д.Тюрин   \n",
       "3564             Россия                     Ф.Бондарчук   \n",
       "3674             Россия                       А.Лукичев   \n",
       "3738             Россия                    А.Молочников   \n",
       "5672             Россия                      Н.Хомерики   \n",
       "5805             Россия  В.Ровенский, Н.Лопато, В.Азеев   \n",
       "6007             Россия                      М.Нефедова   \n",
       "6322             Россия                         В.Саков   \n",
       "6822             Россия           Н.Лопато, В.Ровенский   \n",
       "\n",
       "                                               producer  \\\n",
       "2052                                О.Гранина, А.Зайцев   \n",
       "2057                 П.Ануров, Ф.Бондарчук, Д.Рудовский   \n",
       "2471                           ООО \"Арт Пикчерс Студия\"   \n",
       "2531                                        Т.Вайнштейн   \n",
       "2614                                         А.Чистяков   \n",
       "2683                              Р.Борисевич, А.Кушаев   \n",
       "2787              Ф.Бондарчук, Т.Вайнштейн, Д.Рудовский   \n",
       "2873                                    ООО \"КиноФирма\"   \n",
       "3046              Ф.Бондарчук, Т.Вайнштейн, Д.Рудовский   \n",
       "3564                           ООО \"Арт Пикчерс Студия\"   \n",
       "3674                                    ООО \"КиноФирма\"   \n",
       "3738  Ф.Бондарчук, Д.Рудовский, И.Стюарт, М.Османн, ...   \n",
       "5672                 П.Ануров, Ф.Бондарчук, Д.Рудовский   \n",
       "5805                          ООО \"ЛИЦЕНЗИОННЫЕ БРЕНДЫ\"   \n",
       "6007                          ООО \"ЛИЦЕНЗИОННЫЕ БРЕНДЫ\"   \n",
       "6322  ООО \"Арт Пикчерс Студия\", ООО \"КРИЭЙТИВ АНИМЭЙ...   \n",
       "6822                          ООО \"ЛИЦЕНЗИОННЫЕ БРЕНДЫ\"   \n",
       "\n",
       "                      age_restriction  refundable_support  \\\n",
       "2052  «16+» - для детей старше 16 лет                 0.0   \n",
       "2057  «16+» - для детей старше 16 лет                 0.0   \n",
       "2471  «12+» - для детей старше 12 лет          10000000.0   \n",
       "2531  «16+» - для детей старше 16 лет          20000000.0   \n",
       "2614    «6+» - для детей старше 6 лет          60000000.0   \n",
       "2683      «18+» - запрещено для детей                 0.0   \n",
       "2787  «16+» - для детей старше 16 лет                 0.0   \n",
       "2873  «12+» - для детей старше 12 лет                 0.0   \n",
       "3046  «16+» - для детей старше 16 лет          19000000.0   \n",
       "3564  «12+» - для детей старше 12 лет                 0.0   \n",
       "3674    «6+» - для детей старше 6 лет          20000000.0   \n",
       "3738  «16+» - для детей старше 16 лет          25000000.0   \n",
       "5672  «16+» - для детей старше 16 лет          20000000.0   \n",
       "5805    «6+» - для детей старше 6 лет          10000000.0   \n",
       "6007    «6+» - для детей старше 6 лет          40000000.0   \n",
       "6322    «6+» - для детей старше 6 лет                 0.0   \n",
       "6822    «6+» - для детей старше 6 лет          60000000.0   \n",
       "\n",
       "      nonrefundable_support  budget                  financing_source  \\\n",
       "2052             23000000.0     0.0  Министерство культуры, Фонд кино   \n",
       "2057             75000000.0     0.0                         Фонд кино   \n",
       "2471             70000000.0     0.0                         Фонд кино   \n",
       "2531                    0.0     0.0                         Фонд кино   \n",
       "2614            100000000.0     0.0                         Фонд кино   \n",
       "2683             59000000.0     0.0                         Фонд кино   \n",
       "2787             35000000.0     0.0                         Фонд кино   \n",
       "2873              6000000.0     0.0             Министерство культуры   \n",
       "3046             51000000.0     0.0                         Фонд кино   \n",
       "3564            250000000.0     0.0                         Фонд кино   \n",
       "3674             20000000.0     0.0                         Фонд кино   \n",
       "3738             20000000.0     0.0                         Фонд кино   \n",
       "5672             40000000.0     0.0                         Фонд кино   \n",
       "5805             60000000.0     0.0                         Фонд кино   \n",
       "6007             40000000.0     0.0                         Фонд кино   \n",
       "6322            138969465.0     0.0                         Фонд кино   \n",
       "6822            120000000.0     0.0                         Фонд кино   \n",
       "\n",
       "      ratings                          genres    box_office  \n",
       "2052      6.6                       мелодрама  1.023402e+07  \n",
       "2057      6.6                           драма  4.461635e+08  \n",
       "2471      7.8           боевик,драма,криминал  1.965724e+08  \n",
       "2531      6.2                 комедия,фэнтези  6.741897e+07  \n",
       "2614      4.6  мультфильм,приключения,фэнтези  1.844876e+08  \n",
       "2683      6.3                   комедия,драма  1.957739e+06  \n",
       "2787      5.1               комедия,мелодрама  7.293778e+07  \n",
       "2873      4.3                         комедия  1.536293e+07  \n",
       "3046      6.3               комедия,мелодрама  7.029905e+07  \n",
       "3564      5.6                      фантастика  1.038321e+09  \n",
       "3674      5.2     мультфильм,фэнтези,семейный  5.510801e+07  \n",
       "3738      4.8                         комедия  5.045195e+07  \n",
       "5672      5.8                   триллер,драма  2.251964e+08  \n",
       "5805      5.0              мультфильм,детский  1.065143e+08  \n",
       "6007      5.2      мультфильм,фэнтези,детский  8.336633e+07  \n",
       "6322      6.6                             NaN  1.334699e+06  \n",
       "6822      6.2  мультфильм,комедия,приключения  1.476068e+08  "
      ]
     },
     "execution_count": 52,
     "metadata": {},
     "output_type": "execute_result"
    }
   ],
   "source": [
    "data_full[data_full['budget'] == 0] "
   ]
  },
  {
   "cell_type": "markdown",
   "metadata": {},
   "source": [
    "Фильмов с нулевым бюджетом - 17. Если бюджет равен 0, а возвратные и не возвратные средства не равны 0, то так не должно быть."
   ]
  },
  {
   "cell_type": "code",
   "execution_count": 54,
   "metadata": {},
   "outputs": [],
   "source": [
    "#выделим данные с бюджетом больше 0 и зададим ограничения для включения данных межквартильного размаха, \n",
    "#что бы исключить редкие случаи\n",
    "data_budget = data_full.loc[(data_full['budget'] >= 42000000) & (data_full['budget'] <= 141000000)] "
   ]
  },
  {
   "cell_type": "code",
   "execution_count": 55,
   "metadata": {},
   "outputs": [],
   "source": [
    "#в полученный датафрейм добавим столбец, который показывает отношение бюджета к сумме возвратных и невозвратных средств\n",
    "data_budget['ratio'] = data_budget['budget'] / (data_budget['nonrefundable_support'] + data_budget['refundable_support'])\n",
    "data_budget['ratio'].describe()\n",
    "#возьмем медианное значение столбца 'ratio' \n",
    "#это будет некий коэффициент, умножив на который сумму возвратных и невозвратных средств получим предполагаемый бюджет \n",
    "ratio = data_budget['ratio'].median()"
   ]
  },
  {
   "cell_type": "code",
   "execution_count": 56,
   "metadata": {},
   "outputs": [
    {
     "data": {
      "text/plain": [
       "count    3.320000e+02\n",
       "mean     1.349937e+08\n",
       "std      1.881435e+08\n",
       "min      1.111079e+07\n",
       "25%      4.615397e+07\n",
       "50%      7.495500e+07\n",
       "75%      1.500021e+08\n",
       "max      2.305074e+09\n",
       "Name: budget, dtype: float64"
      ]
     },
     "execution_count": 56,
     "metadata": {},
     "output_type": "execute_result"
    }
   ],
   "source": [
    "#возьмем 'ratio' и умножим на сумму (data_full['nonrefundable_support'] + data_full['refundable_support']), \n",
    "#там где бюджет равен 0\n",
    "data_full.loc[data_full['budget'] == 0, 'budget'] = (data_full['nonrefundable_support'] + data_full['refundable_support'])*ratio\n",
    "data_full['budget'].describe()"
   ]
  },
  {
   "cell_type": "code",
   "execution_count": 56,
   "metadata": {},
   "outputs": [
    {
     "data": {
      "text/plain": [
       "count    3.158000e+03\n",
       "mean     7.647870e+07\n",
       "std      2.403531e+08\n",
       "min      0.000000e+00\n",
       "25%      8.623900e+04\n",
       "50%      2.327988e+06\n",
       "75%      2.397967e+07\n",
       "max      3.073569e+09\n",
       "Name: box_office, dtype: float64"
      ]
     },
     "execution_count": 56,
     "metadata": {},
     "output_type": "execute_result"
    }
   ],
   "source": [
    "data_full['box_office'].describe()"
   ]
  },
  {
   "cell_type": "code",
   "execution_count": 58,
   "metadata": {},
   "outputs": [
    {
     "data": {
      "text/plain": [
       "title                    24\n",
       "puNumber                 24\n",
       "show_start_date          24\n",
       "type                     24\n",
       "film_studio              24\n",
       "production_country       24\n",
       "director                 24\n",
       "producer                 20\n",
       "age_restriction          24\n",
       "refundable_support        0\n",
       "nonrefundable_support     0\n",
       "budget                    0\n",
       "financing_source          0\n",
       "ratings                  24\n",
       "genres                   20\n",
       "box_office               24\n",
       "dtype: int64"
      ]
     },
     "metadata": {},
     "output_type": "display_data"
    },
    {
     "data": {
      "text/html": [
       "<div>\n",
       "<style scoped>\n",
       "    .dataframe tbody tr th:only-of-type {\n",
       "        vertical-align: middle;\n",
       "    }\n",
       "\n",
       "    .dataframe tbody tr th {\n",
       "        vertical-align: top;\n",
       "    }\n",
       "\n",
       "    .dataframe thead th {\n",
       "        text-align: right;\n",
       "    }\n",
       "</style>\n",
       "<table border=\"1\" class=\"dataframe\">\n",
       "  <thead>\n",
       "    <tr style=\"text-align: right;\">\n",
       "      <th></th>\n",
       "      <th>title</th>\n",
       "      <th>puNumber</th>\n",
       "      <th>show_start_date</th>\n",
       "      <th>type</th>\n",
       "      <th>film_studio</th>\n",
       "      <th>production_country</th>\n",
       "      <th>director</th>\n",
       "      <th>producer</th>\n",
       "      <th>age_restriction</th>\n",
       "      <th>refundable_support</th>\n",
       "      <th>nonrefundable_support</th>\n",
       "      <th>budget</th>\n",
       "      <th>financing_source</th>\n",
       "      <th>ratings</th>\n",
       "      <th>genres</th>\n",
       "      <th>box_office</th>\n",
       "    </tr>\n",
       "  </thead>\n",
       "  <tbody>\n",
       "    <tr>\n",
       "      <th>66</th>\n",
       "      <td>Анна Павлова</td>\n",
       "      <td>111011013</td>\n",
       "      <td>2013-12-19 12:00:00+00:00</td>\n",
       "      <td>Художественный</td>\n",
       "      <td>совместное производство Киностудия \"Мосфильм\",...</td>\n",
       "      <td>СССР, Франция, Англия, Куба, ГДР</td>\n",
       "      <td>Эмиль Лотяну</td>\n",
       "      <td>NaN</td>\n",
       "      <td>«6+» - для детей старше 6 лет</td>\n",
       "      <td>NaN</td>\n",
       "      <td>NaN</td>\n",
       "      <td>NaN</td>\n",
       "      <td>NaN</td>\n",
       "      <td>7.7</td>\n",
       "      <td>драма,биография,музыка</td>\n",
       "      <td>0.0</td>\n",
       "    </tr>\n",
       "    <tr>\n",
       "      <th>237</th>\n",
       "      <td>Подранки</td>\n",
       "      <td>111007613</td>\n",
       "      <td>2013-10-18 12:00:00+00:00</td>\n",
       "      <td>Художественный</td>\n",
       "      <td>Киностудия \"Мосфильм\"</td>\n",
       "      <td>СССР</td>\n",
       "      <td>Н.Губенко</td>\n",
       "      <td>NaN</td>\n",
       "      <td>«12+» - для детей старше 12 лет</td>\n",
       "      <td>NaN</td>\n",
       "      <td>NaN</td>\n",
       "      <td>NaN</td>\n",
       "      <td>NaN</td>\n",
       "      <td>8.2</td>\n",
       "      <td>драма</td>\n",
       "      <td>0.0</td>\n",
       "    </tr>\n",
       "    <tr>\n",
       "      <th>596</th>\n",
       "      <td>Запах вереска</td>\n",
       "      <td>111003012</td>\n",
       "      <td>2012-05-23 12:00:00+00:00</td>\n",
       "      <td>Художественный</td>\n",
       "      <td>ООО \"Студия РИМ\"</td>\n",
       "      <td>Россия</td>\n",
       "      <td>А.Магомедов</td>\n",
       "      <td>М.Балашова, Е.Миронов</td>\n",
       "      <td>«16+» - для детей старше 16 лет</td>\n",
       "      <td>NaN</td>\n",
       "      <td>NaN</td>\n",
       "      <td>NaN</td>\n",
       "      <td>NaN</td>\n",
       "      <td>6.3</td>\n",
       "      <td>комедия</td>\n",
       "      <td>0.0</td>\n",
       "    </tr>\n",
       "    <tr>\n",
       "      <th>914</th>\n",
       "      <td>В тумане /По одноименной повести Василя Быкова/</td>\n",
       "      <td>121027712</td>\n",
       "      <td>2012-11-07 12:00:00+00:00</td>\n",
       "      <td>Художественный</td>\n",
       "      <td>Ма Йа Де Фикшн, Лемминг Филм, Беларусьфильм, Д...</td>\n",
       "      <td>Германия - Нидерланды - Беларусь - Россия - Ла...</td>\n",
       "      <td>Сергей Лозница</td>\n",
       "      <td>Хайно Декерт</td>\n",
       "      <td>«12+» - для детей старше 12 лет</td>\n",
       "      <td>NaN</td>\n",
       "      <td>NaN</td>\n",
       "      <td>NaN</td>\n",
       "      <td>NaN</td>\n",
       "      <td>6.5</td>\n",
       "      <td>драма,военный,история</td>\n",
       "      <td>0.0</td>\n",
       "    </tr>\n",
       "    <tr>\n",
       "      <th>932</th>\n",
       "      <td>Письмо для Момо</td>\n",
       "      <td>124002912</td>\n",
       "      <td>2012-10-25 12:00:00+00:00</td>\n",
       "      <td>Анимационный</td>\n",
       "      <td>Кадокава Пикчерз, Продакшнз И Джи, Токио Броад...</td>\n",
       "      <td>Япония</td>\n",
       "      <td>Окиура Хироюки</td>\n",
       "      <td>Хироюки Икеда, Митсухиса Ишикава, Кацзуя Хамана</td>\n",
       "      <td>«12+» - для детей старше 12 лет</td>\n",
       "      <td>NaN</td>\n",
       "      <td>NaN</td>\n",
       "      <td>NaN</td>\n",
       "      <td>NaN</td>\n",
       "      <td>7.4</td>\n",
       "      <td>аниме,мультфильм,драма</td>\n",
       "      <td>0.0</td>\n",
       "    </tr>\n",
       "    <tr>\n",
       "      <th>933</th>\n",
       "      <td>Летние войны</td>\n",
       "      <td>124002812</td>\n",
       "      <td>2012-10-25 12:00:00+00:00</td>\n",
       "      <td>Анимационный</td>\n",
       "      <td>Медхауз, Ниппон Телевижн Нетуорк Корпорейшн, К...</td>\n",
       "      <td>Япония</td>\n",
       "      <td>Мамору Хосода</td>\n",
       "      <td>Такафуми Ватанабэ, Такуя Ито, Сэйдзи Окуда, Юи...</td>\n",
       "      <td>«12+» - для детей старше 12 лет</td>\n",
       "      <td>NaN</td>\n",
       "      <td>NaN</td>\n",
       "      <td>NaN</td>\n",
       "      <td>NaN</td>\n",
       "      <td>7.7</td>\n",
       "      <td>аниме,мультфильм,фантастика</td>\n",
       "      <td>0.0</td>\n",
       "    </tr>\n",
       "    <tr>\n",
       "      <th>976</th>\n",
       "      <td>Гарегин Нжде</td>\n",
       "      <td>131000213</td>\n",
       "      <td>2013-04-23 12:00:00+00:00</td>\n",
       "      <td>Художественный</td>\n",
       "      <td>Эй Джи Кей Продакшнз, Пан Армениан Медиа Групп</td>\n",
       "      <td>Армения</td>\n",
       "      <td>Грач Кешишян</td>\n",
       "      <td>Грач Кешишян</td>\n",
       "      <td>«12+» - для детей старше 12 лет</td>\n",
       "      <td>NaN</td>\n",
       "      <td>NaN</td>\n",
       "      <td>NaN</td>\n",
       "      <td>NaN</td>\n",
       "      <td>7.9</td>\n",
       "      <td>биография</td>\n",
       "      <td>0.0</td>\n",
       "    </tr>\n",
       "    <tr>\n",
       "      <th>1126</th>\n",
       "      <td>Марафон</td>\n",
       "      <td>111006712</td>\n",
       "      <td>2012-12-18 12:00:00+00:00</td>\n",
       "      <td>Художественный</td>\n",
       "      <td>ООО \"Синема Арт Студио\"</td>\n",
       "      <td>Россия</td>\n",
       "      <td>К.Оганесян</td>\n",
       "      <td>К.Оганесян</td>\n",
       "      <td>«16+» - для детей старше 16 лет</td>\n",
       "      <td>NaN</td>\n",
       "      <td>NaN</td>\n",
       "      <td>NaN</td>\n",
       "      <td>NaN</td>\n",
       "      <td>5.5</td>\n",
       "      <td>комедия,мелодрама</td>\n",
       "      <td>0.0</td>\n",
       "    </tr>\n",
       "    <tr>\n",
       "      <th>1387</th>\n",
       "      <td>Экзамен для двоих /По роману Джин Ханфф Корелитц/</td>\n",
       "      <td>121014613</td>\n",
       "      <td>2013-06-11 12:00:00+00:00</td>\n",
       "      <td>Художественный</td>\n",
       "      <td>Депф оф Филд</td>\n",
       "      <td>США</td>\n",
       "      <td>Пол Вайц</td>\n",
       "      <td>Пол Вайц, Керри Кохански, Эндрю Миано</td>\n",
       "      <td>«12+» - для детей старше 12 лет</td>\n",
       "      <td>NaN</td>\n",
       "      <td>NaN</td>\n",
       "      <td>NaN</td>\n",
       "      <td>NaN</td>\n",
       "      <td>5.8</td>\n",
       "      <td>мелодрама,комедия,драма</td>\n",
       "      <td>0.0</td>\n",
       "    </tr>\n",
       "    <tr>\n",
       "      <th>1559</th>\n",
       "      <td>Последняя любовь мистера Моргана /По роману Фр...</td>\n",
       "      <td>121002614</td>\n",
       "      <td>2014-02-11 12:00:00+00:00</td>\n",
       "      <td>Художественный</td>\n",
       "      <td>Камински Штим Фильм, Бавариа Пикчерз, Сенатор ...</td>\n",
       "      <td>Германия - Бельгия - США -Франция</td>\n",
       "      <td>Сандра Неттельбек</td>\n",
       "      <td>Франк Камински, Астрид Камке, Филипп Кройцер, ...</td>\n",
       "      <td>«16+» - для детей старше 16 лет</td>\n",
       "      <td>NaN</td>\n",
       "      <td>NaN</td>\n",
       "      <td>NaN</td>\n",
       "      <td>NaN</td>\n",
       "      <td>6.9</td>\n",
       "      <td>драма</td>\n",
       "      <td>0.0</td>\n",
       "    </tr>\n",
       "    <tr>\n",
       "      <th>1772</th>\n",
       "      <td>Весёлые ребята ;)</td>\n",
       "      <td>111002414</td>\n",
       "      <td>2014-02-27 12:00:00+00:00</td>\n",
       "      <td>Художественный</td>\n",
       "      <td>ЗАО \"ПРОДЮСЕРСКАЯ КОМПАНИЯ ВАЛЕРИЯ ТОДОРОВСКОГО\"</td>\n",
       "      <td>Россия</td>\n",
       "      <td>А.Бобров</td>\n",
       "      <td>В.Тодоровский</td>\n",
       "      <td>«6+» - для детей старше 6 лет</td>\n",
       "      <td>NaN</td>\n",
       "      <td>NaN</td>\n",
       "      <td>NaN</td>\n",
       "      <td>NaN</td>\n",
       "      <td>6.6</td>\n",
       "      <td>NaN</td>\n",
       "      <td>0.0</td>\n",
       "    </tr>\n",
       "    <tr>\n",
       "      <th>1782</th>\n",
       "      <td>Анжелика, маркиза ангелов</td>\n",
       "      <td>121031913</td>\n",
       "      <td>2013-12-12 12:00:00+00:00</td>\n",
       "      <td>Художественный</td>\n",
       "      <td>Европа Корп., МонаФилм, ВилмаФилм</td>\n",
       "      <td>Франция</td>\n",
       "      <td>Ариэль Зейтун</td>\n",
       "      <td>Эммануэль Жаклин, Павел Солк, Филипп Херинг</td>\n",
       "      <td>«16+» - для детей старше 16 лет</td>\n",
       "      <td>NaN</td>\n",
       "      <td>NaN</td>\n",
       "      <td>NaN</td>\n",
       "      <td>NaN</td>\n",
       "      <td>8.0</td>\n",
       "      <td>драма,мелодрама,приключения</td>\n",
       "      <td>0.0</td>\n",
       "    </tr>\n",
       "    <tr>\n",
       "      <th>1977</th>\n",
       "      <td>Люблю твою жену</td>\n",
       "      <td>121013014</td>\n",
       "      <td>2014-06-23 12:00:00+00:00</td>\n",
       "      <td>Художественный</td>\n",
       "      <td>Серендипити Пойнт Фильм, Номадик Пикчерз</td>\n",
       "      <td>Канада</td>\n",
       "      <td>Джеримайя С.Чечик</td>\n",
       "      <td>Стефен Аликс, Эри Лантос, Роберт Лантош</td>\n",
       "      <td>«16+» - для детей старше 16 лет</td>\n",
       "      <td>NaN</td>\n",
       "      <td>NaN</td>\n",
       "      <td>NaN</td>\n",
       "      <td>NaN</td>\n",
       "      <td>6.0</td>\n",
       "      <td>мелодрама,комедия</td>\n",
       "      <td>0.0</td>\n",
       "    </tr>\n",
       "    <tr>\n",
       "      <th>2036</th>\n",
       "      <td>Кино про Алексеева</td>\n",
       "      <td>111007114</td>\n",
       "      <td>2014-07-18 12:00:00+00:00</td>\n",
       "      <td>Художественный</td>\n",
       "      <td>ООО \"Кинокомпания \"Новые люди\"</td>\n",
       "      <td>Россия</td>\n",
       "      <td>М.Сегал</td>\n",
       "      <td>Н.Мокрицкая</td>\n",
       "      <td>«12+» - для детей старше 12 лет</td>\n",
       "      <td>NaN</td>\n",
       "      <td>NaN</td>\n",
       "      <td>NaN</td>\n",
       "      <td>NaN</td>\n",
       "      <td>6.9</td>\n",
       "      <td>драма</td>\n",
       "      <td>0.0</td>\n",
       "    </tr>\n",
       "    <tr>\n",
       "      <th>2077</th>\n",
       "      <td>Курбан-роман. (История с жертвой).</td>\n",
       "      <td>111009614</td>\n",
       "      <td>2014-09-02 12:00:00+00:00</td>\n",
       "      <td>Художественный</td>\n",
       "      <td>ФОНД \"ИННОВАЦИЯ\"</td>\n",
       "      <td>Россия</td>\n",
       "      <td>С.Юзеев</td>\n",
       "      <td>М.Галицкая</td>\n",
       "      <td>«12+» - для детей старше 12 лет</td>\n",
       "      <td>NaN</td>\n",
       "      <td>NaN</td>\n",
       "      <td>NaN</td>\n",
       "      <td>NaN</td>\n",
       "      <td>6.6</td>\n",
       "      <td>NaN</td>\n",
       "      <td>0.0</td>\n",
       "    </tr>\n",
       "    <tr>\n",
       "      <th>2125</th>\n",
       "      <td>Поездка к матери</td>\n",
       "      <td>111002015</td>\n",
       "      <td>2015-03-02 12:00:00+00:00</td>\n",
       "      <td>Художественный</td>\n",
       "      <td>ЗАО \"Киностудия \"М\"-Фильм\"</td>\n",
       "      <td>Россия</td>\n",
       "      <td>М.Косырев-Нестеров</td>\n",
       "      <td>М.Косырев-Нестеров</td>\n",
       "      <td>«16+» - для детей старше 16 лет</td>\n",
       "      <td>NaN</td>\n",
       "      <td>NaN</td>\n",
       "      <td>NaN</td>\n",
       "      <td>NaN</td>\n",
       "      <td>6.6</td>\n",
       "      <td>драма,семейный</td>\n",
       "      <td>0.0</td>\n",
       "    </tr>\n",
       "    <tr>\n",
       "      <th>2218</th>\n",
       "      <td>Прогулка по солнечному свету</td>\n",
       "      <td>121011614</td>\n",
       "      <td>2014-06-11 12:00:00+00:00</td>\n",
       "      <td>Художественный</td>\n",
       "      <td>Вертиго Филмз, АйЭм Глобал</td>\n",
       "      <td>Великобритания</td>\n",
       "      <td>Макс Джива, Дания Пасквини</td>\n",
       "      <td>Кэролайн Леви, Эллан Нибло, Джеймс Ричардсон</td>\n",
       "      <td>«12+» - для детей старше 12 лет</td>\n",
       "      <td>NaN</td>\n",
       "      <td>NaN</td>\n",
       "      <td>NaN</td>\n",
       "      <td>NaN</td>\n",
       "      <td>6.1</td>\n",
       "      <td>мюзикл,драма,мелодрама</td>\n",
       "      <td>0.0</td>\n",
       "    </tr>\n",
       "    <tr>\n",
       "      <th>2441</th>\n",
       "      <td>Звездный мальчик</td>\n",
       "      <td>111013915</td>\n",
       "      <td>2015-08-25 12:00:00+00:00</td>\n",
       "      <td>Художественный</td>\n",
       "      <td>Киностудия \"Мосфильм\"</td>\n",
       "      <td>СССР</td>\n",
       "      <td>Е.Зильберштейн, А.Дудоров</td>\n",
       "      <td>NaN</td>\n",
       "      <td>«0+» - для любой зрительской аудитории</td>\n",
       "      <td>NaN</td>\n",
       "      <td>NaN</td>\n",
       "      <td>NaN</td>\n",
       "      <td>NaN</td>\n",
       "      <td>7.5</td>\n",
       "      <td>драма</td>\n",
       "      <td>0.0</td>\n",
       "    </tr>\n",
       "    <tr>\n",
       "      <th>2684</th>\n",
       "      <td>ПУСТЬ ТАК БУДЕТ</td>\n",
       "      <td>111009815</td>\n",
       "      <td>2015-06-01 12:00:00+00:00</td>\n",
       "      <td>Художественный</td>\n",
       "      <td>ООО ПРОДЮСЕРСКАЯ КОМПАНИЯ \"ДЕРЖАВА\"</td>\n",
       "      <td>Россия</td>\n",
       "      <td>О.Смольников</td>\n",
       "      <td>К.Лавров, Ю.Потапова, В.Бутер, С.Прудников, С....</td>\n",
       "      <td>«12+» - для детей старше 12 лет</td>\n",
       "      <td>NaN</td>\n",
       "      <td>NaN</td>\n",
       "      <td>NaN</td>\n",
       "      <td>NaN</td>\n",
       "      <td>6.6</td>\n",
       "      <td>NaN</td>\n",
       "      <td>0.0</td>\n",
       "    </tr>\n",
       "    <tr>\n",
       "      <th>3594</th>\n",
       "      <td>Ананас</td>\n",
       "      <td>111017116</td>\n",
       "      <td>2016-11-10 12:00:00+00:00</td>\n",
       "      <td>Художественный</td>\n",
       "      <td>Рудак Владимир Иванович</td>\n",
       "      <td>Россия</td>\n",
       "      <td>В.Рудак</td>\n",
       "      <td>В.Рудак, А.Бабенко</td>\n",
       "      <td>«16+» - для детей старше 16 лет</td>\n",
       "      <td>NaN</td>\n",
       "      <td>NaN</td>\n",
       "      <td>NaN</td>\n",
       "      <td>NaN</td>\n",
       "      <td>6.7</td>\n",
       "      <td>боевик,комедия,криминал</td>\n",
       "      <td>0.0</td>\n",
       "    </tr>\n",
       "    <tr>\n",
       "      <th>3826</th>\n",
       "      <td>Москва, я люблю тебя</td>\n",
       "      <td>111001610</td>\n",
       "      <td>2010-02-09 12:00:00+00:00</td>\n",
       "      <td>Художественный</td>\n",
       "      <td>ООО \"БФГ-МЕДИА-ПРОДАКШН\", ООО \"Продюсерская ко...</td>\n",
       "      <td>Россия</td>\n",
       "      <td>Г.Михалков, Г.Натансон, В.Сторожева, А.Касатки...</td>\n",
       "      <td>Ю.Глоцер, Ю.Гинзбург</td>\n",
       "      <td>«16+» - для детей старше 16 лет</td>\n",
       "      <td>NaN</td>\n",
       "      <td>NaN</td>\n",
       "      <td>NaN</td>\n",
       "      <td>NaN</td>\n",
       "      <td>4.5</td>\n",
       "      <td>мелодрама,комедия</td>\n",
       "      <td>0.0</td>\n",
       "    </tr>\n",
       "    <tr>\n",
       "      <th>3993</th>\n",
       "      <td>Стать Джоном Ленноном</td>\n",
       "      <td>121008610</td>\n",
       "      <td>2010-05-05 12:00:00+00:00</td>\n",
       "      <td>Художественный</td>\n",
       "      <td>Авер Медиа, Экосси Филмз, Филм 4, Норс Вест Ви...</td>\n",
       "      <td>Канада-Великобритания</td>\n",
       "      <td>Сэм Тейлор Вуд</td>\n",
       "      <td>Роберт Бернштейн, Кевин Лоудер, Дуглас Рэй</td>\n",
       "      <td>«16+» - для детей старше 16 лет</td>\n",
       "      <td>NaN</td>\n",
       "      <td>NaN</td>\n",
       "      <td>NaN</td>\n",
       "      <td>NaN</td>\n",
       "      <td>7.5</td>\n",
       "      <td>драма,мелодрама,биография</td>\n",
       "      <td>0.0</td>\n",
       "    </tr>\n",
       "    <tr>\n",
       "      <th>4065</th>\n",
       "      <td>Дерево.</td>\n",
       "      <td>121020210</td>\n",
       "      <td>2010-11-03 12:00:00+00:00</td>\n",
       "      <td>Художественный</td>\n",
       "      <td>Ле Фильм Дю Позьон, Тэйлор Медиа, Скрин Ауастр...</td>\n",
       "      <td>Франция-Австралия</td>\n",
       "      <td>Жюли Бертучелли</td>\n",
       "      <td>NaN</td>\n",
       "      <td>«16+» - для детей старше 16 лет</td>\n",
       "      <td>NaN</td>\n",
       "      <td>NaN</td>\n",
       "      <td>NaN</td>\n",
       "      <td>NaN</td>\n",
       "      <td>6.6</td>\n",
       "      <td>NaN</td>\n",
       "      <td>0.0</td>\n",
       "    </tr>\n",
       "    <tr>\n",
       "      <th>4789</th>\n",
       "      <td>КРАСНЫЙ ЛЕД. Сага о хантах Югры</td>\n",
       "      <td>111005910</td>\n",
       "      <td>2010-06-04 12:00:00+00:00</td>\n",
       "      <td>Художественный</td>\n",
       "      <td>Департамент культуры и искусства ХМАО-Югры, ОО...</td>\n",
       "      <td>Россия</td>\n",
       "      <td>О.Фесенко</td>\n",
       "      <td>О.Урушев</td>\n",
       "      <td>«16+» - для детей старше 16 лет</td>\n",
       "      <td>NaN</td>\n",
       "      <td>NaN</td>\n",
       "      <td>NaN</td>\n",
       "      <td>NaN</td>\n",
       "      <td>4.5</td>\n",
       "      <td>драма,история</td>\n",
       "      <td>0.0</td>\n",
       "    </tr>\n",
       "  </tbody>\n",
       "</table>\n",
       "</div>"
      ],
      "text/plain": [
       "                                                  title   puNumber  \\\n",
       "66                                         Анна Павлова  111011013   \n",
       "237                                            Подранки  111007613   \n",
       "596                                       Запах вереска  111003012   \n",
       "914     В тумане /По одноименной повести Василя Быкова/  121027712   \n",
       "932                                     Письмо для Момо  124002912   \n",
       "933                                        Летние войны  124002812   \n",
       "976                                        Гарегин Нжде  131000213   \n",
       "1126                                            Марафон  111006712   \n",
       "1387  Экзамен для двоих /По роману Джин Ханфф Корелитц/  121014613   \n",
       "1559  Последняя любовь мистера Моргана /По роману Фр...  121002614   \n",
       "1772                                  Весёлые ребята ;)  111002414   \n",
       "1782                          Анжелика, маркиза ангелов  121031913   \n",
       "1977                                    Люблю твою жену  121013014   \n",
       "2036                                 Кино про Алексеева  111007114   \n",
       "2077                 Курбан-роман. (История с жертвой).  111009614   \n",
       "2125                                   Поездка к матери  111002015   \n",
       "2218                       Прогулка по солнечному свету  121011614   \n",
       "2441                                   Звездный мальчик  111013915   \n",
       "2684                                    ПУСТЬ ТАК БУДЕТ  111009815   \n",
       "3594                                             Ананас  111017116   \n",
       "3826                               Москва, я люблю тебя  111001610   \n",
       "3993                              Стать Джоном Ленноном  121008610   \n",
       "4065                                            Дерево.  121020210   \n",
       "4789                    КРАСНЫЙ ЛЕД. Сага о хантах Югры  111005910   \n",
       "\n",
       "               show_start_date            type  \\\n",
       "66   2013-12-19 12:00:00+00:00  Художественный   \n",
       "237  2013-10-18 12:00:00+00:00  Художественный   \n",
       "596  2012-05-23 12:00:00+00:00  Художественный   \n",
       "914  2012-11-07 12:00:00+00:00  Художественный   \n",
       "932  2012-10-25 12:00:00+00:00    Анимационный   \n",
       "933  2012-10-25 12:00:00+00:00    Анимационный   \n",
       "976  2013-04-23 12:00:00+00:00  Художественный   \n",
       "1126 2012-12-18 12:00:00+00:00  Художественный   \n",
       "1387 2013-06-11 12:00:00+00:00  Художественный   \n",
       "1559 2014-02-11 12:00:00+00:00  Художественный   \n",
       "1772 2014-02-27 12:00:00+00:00  Художественный   \n",
       "1782 2013-12-12 12:00:00+00:00  Художественный   \n",
       "1977 2014-06-23 12:00:00+00:00  Художественный   \n",
       "2036 2014-07-18 12:00:00+00:00  Художественный   \n",
       "2077 2014-09-02 12:00:00+00:00  Художественный   \n",
       "2125 2015-03-02 12:00:00+00:00  Художественный   \n",
       "2218 2014-06-11 12:00:00+00:00  Художественный   \n",
       "2441 2015-08-25 12:00:00+00:00  Художественный   \n",
       "2684 2015-06-01 12:00:00+00:00  Художественный   \n",
       "3594 2016-11-10 12:00:00+00:00  Художественный   \n",
       "3826 2010-02-09 12:00:00+00:00  Художественный   \n",
       "3993 2010-05-05 12:00:00+00:00  Художественный   \n",
       "4065 2010-11-03 12:00:00+00:00  Художественный   \n",
       "4789 2010-06-04 12:00:00+00:00  Художественный   \n",
       "\n",
       "                                            film_studio  \\\n",
       "66    совместное производство Киностудия \"Мосфильм\",...   \n",
       "237                               Киностудия \"Мосфильм\"   \n",
       "596                                    ООО \"Студия РИМ\"   \n",
       "914   Ма Йа Де Фикшн, Лемминг Филм, Беларусьфильм, Д...   \n",
       "932   Кадокава Пикчерз, Продакшнз И Джи, Токио Броад...   \n",
       "933   Медхауз, Ниппон Телевижн Нетуорк Корпорейшн, К...   \n",
       "976      Эй Джи Кей Продакшнз, Пан Армениан Медиа Групп   \n",
       "1126                            ООО \"Синема Арт Студио\"   \n",
       "1387                                       Депф оф Филд   \n",
       "1559  Камински Штим Фильм, Бавариа Пикчерз, Сенатор ...   \n",
       "1772   ЗАО \"ПРОДЮСЕРСКАЯ КОМПАНИЯ ВАЛЕРИЯ ТОДОРОВСКОГО\"   \n",
       "1782                  Европа Корп., МонаФилм, ВилмаФилм   \n",
       "1977           Серендипити Пойнт Фильм, Номадик Пикчерз   \n",
       "2036                     ООО \"Кинокомпания \"Новые люди\"   \n",
       "2077                                   ФОНД \"ИННОВАЦИЯ\"   \n",
       "2125                         ЗАО \"Киностудия \"М\"-Фильм\"   \n",
       "2218                         Вертиго Филмз, АйЭм Глобал   \n",
       "2441                              Киностудия \"Мосфильм\"   \n",
       "2684                ООО ПРОДЮСЕРСКАЯ КОМПАНИЯ \"ДЕРЖАВА\"   \n",
       "3594                            Рудак Владимир Иванович   \n",
       "3826  ООО \"БФГ-МЕДИА-ПРОДАКШН\", ООО \"Продюсерская ко...   \n",
       "3993  Авер Медиа, Экосси Филмз, Филм 4, Норс Вест Ви...   \n",
       "4065  Ле Фильм Дю Позьон, Тэйлор Медиа, Скрин Ауастр...   \n",
       "4789  Департамент культуры и искусства ХМАО-Югры, ОО...   \n",
       "\n",
       "                                     production_country  \\\n",
       "66                     СССР, Франция, Англия, Куба, ГДР   \n",
       "237                                                СССР   \n",
       "596                                              Россия   \n",
       "914   Германия - Нидерланды - Беларусь - Россия - Ла...   \n",
       "932                                              Япония   \n",
       "933                                              Япония   \n",
       "976                                             Армения   \n",
       "1126                                             Россия   \n",
       "1387                                                США   \n",
       "1559                  Германия - Бельгия - США -Франция   \n",
       "1772                                             Россия   \n",
       "1782                                            Франция   \n",
       "1977                                             Канада   \n",
       "2036                                             Россия   \n",
       "2077                                             Россия   \n",
       "2125                                             Россия   \n",
       "2218                                     Великобритания   \n",
       "2441                                               СССР   \n",
       "2684                                             Россия   \n",
       "3594                                             Россия   \n",
       "3826                                             Россия   \n",
       "3993                              Канада-Великобритания   \n",
       "4065                                  Франция-Австралия   \n",
       "4789                                             Россия   \n",
       "\n",
       "                                               director  \\\n",
       "66                                         Эмиль Лотяну   \n",
       "237                                           Н.Губенко   \n",
       "596                                         А.Магомедов   \n",
       "914                                      Сергей Лозница   \n",
       "932                                      Окиура Хироюки   \n",
       "933                                       Мамору Хосода   \n",
       "976                                        Грач Кешишян   \n",
       "1126                                         К.Оганесян   \n",
       "1387                                           Пол Вайц   \n",
       "1559                                  Сандра Неттельбек   \n",
       "1772                                           А.Бобров   \n",
       "1782                                      Ариэль Зейтун   \n",
       "1977                                  Джеримайя С.Чечик   \n",
       "2036                                            М.Сегал   \n",
       "2077                                            С.Юзеев   \n",
       "2125                                 М.Косырев-Нестеров   \n",
       "2218                         Макс Джива, Дания Пасквини   \n",
       "2441                          Е.Зильберштейн, А.Дудоров   \n",
       "2684                                       О.Смольников   \n",
       "3594                                            В.Рудак   \n",
       "3826  Г.Михалков, Г.Натансон, В.Сторожева, А.Касатки...   \n",
       "3993                                     Сэм Тейлор Вуд   \n",
       "4065                                    Жюли Бертучелли   \n",
       "4789                                          О.Фесенко   \n",
       "\n",
       "                                               producer  \\\n",
       "66                                                  NaN   \n",
       "237                                                 NaN   \n",
       "596                               М.Балашова, Е.Миронов   \n",
       "914                                        Хайно Декерт   \n",
       "932     Хироюки Икеда, Митсухиса Ишикава, Кацзуя Хамана   \n",
       "933   Такафуми Ватанабэ, Такуя Ито, Сэйдзи Окуда, Юи...   \n",
       "976                                        Грач Кешишян   \n",
       "1126                                         К.Оганесян   \n",
       "1387              Пол Вайц, Керри Кохански, Эндрю Миано   \n",
       "1559  Франк Камински, Астрид Камке, Филипп Кройцер, ...   \n",
       "1772                                      В.Тодоровский   \n",
       "1782        Эммануэль Жаклин, Павел Солк, Филипп Херинг   \n",
       "1977            Стефен Аликс, Эри Лантос, Роберт Лантош   \n",
       "2036                                        Н.Мокрицкая   \n",
       "2077                                         М.Галицкая   \n",
       "2125                                 М.Косырев-Нестеров   \n",
       "2218       Кэролайн Леви, Эллан Нибло, Джеймс Ричардсон   \n",
       "2441                                                NaN   \n",
       "2684  К.Лавров, Ю.Потапова, В.Бутер, С.Прудников, С....   \n",
       "3594                                 В.Рудак, А.Бабенко   \n",
       "3826                               Ю.Глоцер, Ю.Гинзбург   \n",
       "3993         Роберт Бернштейн, Кевин Лоудер, Дуглас Рэй   \n",
       "4065                                                NaN   \n",
       "4789                                           О.Урушев   \n",
       "\n",
       "                             age_restriction  refundable_support  \\\n",
       "66             «6+» - для детей старше 6 лет                 NaN   \n",
       "237          «12+» - для детей старше 12 лет                 NaN   \n",
       "596          «16+» - для детей старше 16 лет                 NaN   \n",
       "914          «12+» - для детей старше 12 лет                 NaN   \n",
       "932          «12+» - для детей старше 12 лет                 NaN   \n",
       "933          «12+» - для детей старше 12 лет                 NaN   \n",
       "976          «12+» - для детей старше 12 лет                 NaN   \n",
       "1126         «16+» - для детей старше 16 лет                 NaN   \n",
       "1387         «12+» - для детей старше 12 лет                 NaN   \n",
       "1559         «16+» - для детей старше 16 лет                 NaN   \n",
       "1772           «6+» - для детей старше 6 лет                 NaN   \n",
       "1782         «16+» - для детей старше 16 лет                 NaN   \n",
       "1977         «16+» - для детей старше 16 лет                 NaN   \n",
       "2036         «12+» - для детей старше 12 лет                 NaN   \n",
       "2077         «12+» - для детей старше 12 лет                 NaN   \n",
       "2125         «16+» - для детей старше 16 лет                 NaN   \n",
       "2218         «12+» - для детей старше 12 лет                 NaN   \n",
       "2441  «0+» - для любой зрительской аудитории                 NaN   \n",
       "2684         «12+» - для детей старше 12 лет                 NaN   \n",
       "3594         «16+» - для детей старше 16 лет                 NaN   \n",
       "3826         «16+» - для детей старше 16 лет                 NaN   \n",
       "3993         «16+» - для детей старше 16 лет                 NaN   \n",
       "4065         «16+» - для детей старше 16 лет                 NaN   \n",
       "4789         «16+» - для детей старше 16 лет                 NaN   \n",
       "\n",
       "      nonrefundable_support  budget financing_source  ratings  \\\n",
       "66                      NaN     NaN              NaN      7.7   \n",
       "237                     NaN     NaN              NaN      8.2   \n",
       "596                     NaN     NaN              NaN      6.3   \n",
       "914                     NaN     NaN              NaN      6.5   \n",
       "932                     NaN     NaN              NaN      7.4   \n",
       "933                     NaN     NaN              NaN      7.7   \n",
       "976                     NaN     NaN              NaN      7.9   \n",
       "1126                    NaN     NaN              NaN      5.5   \n",
       "1387                    NaN     NaN              NaN      5.8   \n",
       "1559                    NaN     NaN              NaN      6.9   \n",
       "1772                    NaN     NaN              NaN      6.6   \n",
       "1782                    NaN     NaN              NaN      8.0   \n",
       "1977                    NaN     NaN              NaN      6.0   \n",
       "2036                    NaN     NaN              NaN      6.9   \n",
       "2077                    NaN     NaN              NaN      6.6   \n",
       "2125                    NaN     NaN              NaN      6.6   \n",
       "2218                    NaN     NaN              NaN      6.1   \n",
       "2441                    NaN     NaN              NaN      7.5   \n",
       "2684                    NaN     NaN              NaN      6.6   \n",
       "3594                    NaN     NaN              NaN      6.7   \n",
       "3826                    NaN     NaN              NaN      4.5   \n",
       "3993                    NaN     NaN              NaN      7.5   \n",
       "4065                    NaN     NaN              NaN      6.6   \n",
       "4789                    NaN     NaN              NaN      4.5   \n",
       "\n",
       "                           genres  box_office  \n",
       "66         драма,биография,музыка         0.0  \n",
       "237                         драма         0.0  \n",
       "596                       комедия         0.0  \n",
       "914         драма,военный,история         0.0  \n",
       "932        аниме,мультфильм,драма         0.0  \n",
       "933   аниме,мультфильм,фантастика         0.0  \n",
       "976                     биография         0.0  \n",
       "1126            комедия,мелодрама         0.0  \n",
       "1387      мелодрама,комедия,драма         0.0  \n",
       "1559                        драма         0.0  \n",
       "1772                          NaN         0.0  \n",
       "1782  драма,мелодрама,приключения         0.0  \n",
       "1977            мелодрама,комедия         0.0  \n",
       "2036                        драма         0.0  \n",
       "2077                          NaN         0.0  \n",
       "2125               драма,семейный         0.0  \n",
       "2218       мюзикл,драма,мелодрама         0.0  \n",
       "2441                        драма         0.0  \n",
       "2684                          NaN         0.0  \n",
       "3594      боевик,комедия,криминал         0.0  \n",
       "3826            мелодрама,комедия         0.0  \n",
       "3993    драма,мелодрама,биография         0.0  \n",
       "4065                          NaN         0.0  \n",
       "4789                драма,история         0.0  "
      ]
     },
     "execution_count": 58,
     "metadata": {},
     "output_type": "execute_result"
    }
   ],
   "source": [
    "display(data_full[data_full['box_office'] == 0].count())\n",
    "data_full[data_full['box_office'] == 0]"
   ]
  },
  {
   "cell_type": "markdown",
   "metadata": {},
   "source": [
    "24 фильма с нулевыми сборами и все эти фильмы без господдержки."
   ]
  },
  {
   "cell_type": "markdown",
   "metadata": {},
   "source": [
    "ВЫВОДЫ:\n",
    "1. Есть фильмы с нулевым бюджетом их 17 штук. При этом заполнены столбцы возвратные и не возвратные средства. Вероятнее всего, то что в бюджете 0 это ошибка. В результате анализа данных в столбцах - 'refundable_support', 'nonrefundable_support' и 'budget' обнаружена некая взаимосвязь. Бюджет в среднем, примерно в 2 раза больше суммы возвратных и невозвратных средств государственной поддержки. Решено заменить нулевые значения на сумму возвратных и невозвратных средств помноженую на коэффициент (определенный в результате исследования).\n",
    "2. Имеются фильмы с нулевыми сборами, но рейтинги некоторых фильмов выше среднего. Вероятно это бесплатные показы, старых и каких-то экзотических фильмов."
   ]
  },
  {
   "cell_type": "markdown",
   "metadata": {
    "id": "Eu6oWp2CgFyS"
   },
   "source": [
    "###  Добавим новые столбцы с информацией о годе проката\n",
    "\n",
    "\n",
    "\n"
   ]
  },
  {
   "cell_type": "code",
   "execution_count": 59,
   "metadata": {
    "id": "I-yd1DkWgFyT"
   },
   "outputs": [
    {
     "data": {
      "text/html": [
       "<div>\n",
       "<style scoped>\n",
       "    .dataframe tbody tr th:only-of-type {\n",
       "        vertical-align: middle;\n",
       "    }\n",
       "\n",
       "    .dataframe tbody tr th {\n",
       "        vertical-align: top;\n",
       "    }\n",
       "\n",
       "    .dataframe thead th {\n",
       "        text-align: right;\n",
       "    }\n",
       "</style>\n",
       "<table border=\"1\" class=\"dataframe\">\n",
       "  <thead>\n",
       "    <tr style=\"text-align: right;\">\n",
       "      <th></th>\n",
       "      <th>title</th>\n",
       "      <th>puNumber</th>\n",
       "      <th>show_start_date</th>\n",
       "      <th>type</th>\n",
       "      <th>film_studio</th>\n",
       "      <th>production_country</th>\n",
       "      <th>director</th>\n",
       "      <th>producer</th>\n",
       "      <th>age_restriction</th>\n",
       "      <th>refundable_support</th>\n",
       "      <th>nonrefundable_support</th>\n",
       "      <th>budget</th>\n",
       "      <th>financing_source</th>\n",
       "      <th>ratings</th>\n",
       "      <th>genres</th>\n",
       "      <th>box_office</th>\n",
       "      <th>year_show</th>\n",
       "    </tr>\n",
       "  </thead>\n",
       "  <tbody>\n",
       "    <tr>\n",
       "      <th>0</th>\n",
       "      <td>Открытый простор</td>\n",
       "      <td>221048915</td>\n",
       "      <td>2015-11-27 12:00:00+00:00</td>\n",
       "      <td>Художественный</td>\n",
       "      <td>Тачстоун Пикчерз, Кобальт Пикчерз, Бикон Пикче...</td>\n",
       "      <td>США</td>\n",
       "      <td>Кевин Костнер</td>\n",
       "      <td>Дэвид Валдес, Кевин Костнер, Джейк Эбертс</td>\n",
       "      <td>«18+» - запрещено для детей</td>\n",
       "      <td>NaN</td>\n",
       "      <td>NaN</td>\n",
       "      <td>NaN</td>\n",
       "      <td>NaN</td>\n",
       "      <td>7.2</td>\n",
       "      <td>боевик,драма,мелодрама</td>\n",
       "      <td>NaN</td>\n",
       "      <td>2015</td>\n",
       "    </tr>\n",
       "    <tr>\n",
       "      <th>1</th>\n",
       "      <td>Особо важное задание</td>\n",
       "      <td>111013716</td>\n",
       "      <td>2016-09-13 12:00:00+00:00</td>\n",
       "      <td>Художественный</td>\n",
       "      <td>Киностудия \"Мосфильм\"</td>\n",
       "      <td>СССР</td>\n",
       "      <td>Е.Матвеев</td>\n",
       "      <td>NaN</td>\n",
       "      <td>«6+» - для детей старше 6 лет</td>\n",
       "      <td>NaN</td>\n",
       "      <td>NaN</td>\n",
       "      <td>NaN</td>\n",
       "      <td>NaN</td>\n",
       "      <td>6.6</td>\n",
       "      <td>драма,военный</td>\n",
       "      <td>NaN</td>\n",
       "      <td>2016</td>\n",
       "    </tr>\n",
       "    <tr>\n",
       "      <th>2</th>\n",
       "      <td>Особо опасен</td>\n",
       "      <td>221038416</td>\n",
       "      <td>2016-10-10 12:00:00+00:00</td>\n",
       "      <td>Художественный</td>\n",
       "      <td>Юниверсал Пикчерз, Кикстарт Продакшнз, Марк Пл...</td>\n",
       "      <td>США</td>\n",
       "      <td>Тимур Бекмамбетов</td>\n",
       "      <td>Джим Лемли, Джейсон Нетер, Марк Е.Платт, Яйн Смит</td>\n",
       "      <td>«18+» - запрещено для детей</td>\n",
       "      <td>NaN</td>\n",
       "      <td>NaN</td>\n",
       "      <td>NaN</td>\n",
       "      <td>NaN</td>\n",
       "      <td>6.8</td>\n",
       "      <td>фантастика,боевик,триллер</td>\n",
       "      <td>NaN</td>\n",
       "      <td>2016</td>\n",
       "    </tr>\n",
       "    <tr>\n",
       "      <th>3</th>\n",
       "      <td>Особо опасен</td>\n",
       "      <td>221026916</td>\n",
       "      <td>2016-06-10 12:00:00+00:00</td>\n",
       "      <td>Художественный</td>\n",
       "      <td>Юниверсал Пикчерз, Кикстарт Продакшнз, Марк Пл...</td>\n",
       "      <td>США</td>\n",
       "      <td>Тимур Бекмамбетов</td>\n",
       "      <td>Джим Лемли, Джейсон Нетер, Марк Е.Платт, Яйн Смит</td>\n",
       "      <td>«18+» - запрещено для детей</td>\n",
       "      <td>NaN</td>\n",
       "      <td>NaN</td>\n",
       "      <td>NaN</td>\n",
       "      <td>NaN</td>\n",
       "      <td>6.8</td>\n",
       "      <td>фантастика,боевик,триллер</td>\n",
       "      <td>NaN</td>\n",
       "      <td>2016</td>\n",
       "    </tr>\n",
       "    <tr>\n",
       "      <th>4</th>\n",
       "      <td>Особо опасен</td>\n",
       "      <td>221030815</td>\n",
       "      <td>2015-07-29 12:00:00+00:00</td>\n",
       "      <td>Художественный</td>\n",
       "      <td>Юниверсал Пикчерз, Кикстарт Продакшнз, Марк Пл...</td>\n",
       "      <td>США</td>\n",
       "      <td>Тимур Бекмамбетов</td>\n",
       "      <td>Джим Лемли, Джейсон Нетер, Марк Е.Платт, Яйн Смит</td>\n",
       "      <td>«18+» - запрещено для детей</td>\n",
       "      <td>NaN</td>\n",
       "      <td>NaN</td>\n",
       "      <td>NaN</td>\n",
       "      <td>NaN</td>\n",
       "      <td>6.8</td>\n",
       "      <td>фантастика,боевик,триллер</td>\n",
       "      <td>NaN</td>\n",
       "      <td>2015</td>\n",
       "    </tr>\n",
       "  </tbody>\n",
       "</table>\n",
       "</div>"
      ],
      "text/plain": [
       "                  title   puNumber           show_start_date            type  \\\n",
       "0      Открытый простор  221048915 2015-11-27 12:00:00+00:00  Художественный   \n",
       "1  Особо важное задание  111013716 2016-09-13 12:00:00+00:00  Художественный   \n",
       "2          Особо опасен  221038416 2016-10-10 12:00:00+00:00  Художественный   \n",
       "3          Особо опасен  221026916 2016-06-10 12:00:00+00:00  Художественный   \n",
       "4          Особо опасен  221030815 2015-07-29 12:00:00+00:00  Художественный   \n",
       "\n",
       "                                         film_studio production_country  \\\n",
       "0  Тачстоун Пикчерз, Кобальт Пикчерз, Бикон Пикче...                США   \n",
       "1                              Киностудия \"Мосфильм\"               СССР   \n",
       "2  Юниверсал Пикчерз, Кикстарт Продакшнз, Марк Пл...                США   \n",
       "3  Юниверсал Пикчерз, Кикстарт Продакшнз, Марк Пл...                США   \n",
       "4  Юниверсал Пикчерз, Кикстарт Продакшнз, Марк Пл...                США   \n",
       "\n",
       "            director                                           producer  \\\n",
       "0      Кевин Костнер          Дэвид Валдес, Кевин Костнер, Джейк Эбертс   \n",
       "1          Е.Матвеев                                                NaN   \n",
       "2  Тимур Бекмамбетов  Джим Лемли, Джейсон Нетер, Марк Е.Платт, Яйн Смит   \n",
       "3  Тимур Бекмамбетов  Джим Лемли, Джейсон Нетер, Марк Е.Платт, Яйн Смит   \n",
       "4  Тимур Бекмамбетов  Джим Лемли, Джейсон Нетер, Марк Е.Платт, Яйн Смит   \n",
       "\n",
       "                 age_restriction  refundable_support  nonrefundable_support  \\\n",
       "0    «18+» - запрещено для детей                 NaN                    NaN   \n",
       "1  «6+» - для детей старше 6 лет                 NaN                    NaN   \n",
       "2    «18+» - запрещено для детей                 NaN                    NaN   \n",
       "3    «18+» - запрещено для детей                 NaN                    NaN   \n",
       "4    «18+» - запрещено для детей                 NaN                    NaN   \n",
       "\n",
       "   budget financing_source  ratings                     genres  box_office  \\\n",
       "0     NaN              NaN      7.2     боевик,драма,мелодрама         NaN   \n",
       "1     NaN              NaN      6.6              драма,военный         NaN   \n",
       "2     NaN              NaN      6.8  фантастика,боевик,триллер         NaN   \n",
       "3     NaN              NaN      6.8  фантастика,боевик,триллер         NaN   \n",
       "4     NaN              NaN      6.8  фантастика,боевик,триллер         NaN   \n",
       "\n",
       "   year_show  \n",
       "0       2015  \n",
       "1       2016  \n",
       "2       2016  \n",
       "3       2016  \n",
       "4       2015  "
      ]
     },
     "execution_count": 59,
     "metadata": {},
     "output_type": "execute_result"
    }
   ],
   "source": [
    "data_full['year_show'] = data_full['show_start_date'].dt.year\n",
    "data_full.head()"
   ]
  },
  {
   "cell_type": "markdown",
   "metadata": {
    "id": "nFTDLDYOgFyT"
   },
   "source": [
    "### Создадим два столбца: с именем и фамилией главного режиссёра и основным жанром фильма. В столбцы войдут первые значения из списка режиссёров и жанров соответственно."
   ]
  },
  {
   "cell_type": "code",
   "execution_count": 60,
   "metadata": {
    "id": "LSbRZKbMgFyU"
   },
   "outputs": [
    {
     "data": {
      "text/html": [
       "<div>\n",
       "<style scoped>\n",
       "    .dataframe tbody tr th:only-of-type {\n",
       "        vertical-align: middle;\n",
       "    }\n",
       "\n",
       "    .dataframe tbody tr th {\n",
       "        vertical-align: top;\n",
       "    }\n",
       "\n",
       "    .dataframe thead th {\n",
       "        text-align: right;\n",
       "    }\n",
       "</style>\n",
       "<table border=\"1\" class=\"dataframe\">\n",
       "  <thead>\n",
       "    <tr style=\"text-align: right;\">\n",
       "      <th></th>\n",
       "      <th>title</th>\n",
       "      <th>puNumber</th>\n",
       "      <th>show_start_date</th>\n",
       "      <th>type</th>\n",
       "      <th>film_studio</th>\n",
       "      <th>production_country</th>\n",
       "      <th>director</th>\n",
       "      <th>producer</th>\n",
       "      <th>age_restriction</th>\n",
       "      <th>refundable_support</th>\n",
       "      <th>nonrefundable_support</th>\n",
       "      <th>budget</th>\n",
       "      <th>financing_source</th>\n",
       "      <th>ratings</th>\n",
       "      <th>genres</th>\n",
       "      <th>box_office</th>\n",
       "      <th>year_show</th>\n",
       "      <th>general_director</th>\n",
       "      <th>genre</th>\n",
       "    </tr>\n",
       "  </thead>\n",
       "  <tbody>\n",
       "    <tr>\n",
       "      <th>0</th>\n",
       "      <td>Открытый простор</td>\n",
       "      <td>221048915</td>\n",
       "      <td>2015-11-27 12:00:00+00:00</td>\n",
       "      <td>Художественный</td>\n",
       "      <td>Тачстоун Пикчерз, Кобальт Пикчерз, Бикон Пикче...</td>\n",
       "      <td>США</td>\n",
       "      <td>Кевин Костнер</td>\n",
       "      <td>Дэвид Валдес, Кевин Костнер, Джейк Эбертс</td>\n",
       "      <td>«18+» - запрещено для детей</td>\n",
       "      <td>NaN</td>\n",
       "      <td>NaN</td>\n",
       "      <td>NaN</td>\n",
       "      <td>NaN</td>\n",
       "      <td>7.2</td>\n",
       "      <td>боевик,драма,мелодрама</td>\n",
       "      <td>NaN</td>\n",
       "      <td>2015</td>\n",
       "      <td>Кевин Костнер</td>\n",
       "      <td>боевик</td>\n",
       "    </tr>\n",
       "    <tr>\n",
       "      <th>1</th>\n",
       "      <td>Особо важное задание</td>\n",
       "      <td>111013716</td>\n",
       "      <td>2016-09-13 12:00:00+00:00</td>\n",
       "      <td>Художественный</td>\n",
       "      <td>Киностудия \"Мосфильм\"</td>\n",
       "      <td>СССР</td>\n",
       "      <td>Е.Матвеев</td>\n",
       "      <td>NaN</td>\n",
       "      <td>«6+» - для детей старше 6 лет</td>\n",
       "      <td>NaN</td>\n",
       "      <td>NaN</td>\n",
       "      <td>NaN</td>\n",
       "      <td>NaN</td>\n",
       "      <td>6.6</td>\n",
       "      <td>драма,военный</td>\n",
       "      <td>NaN</td>\n",
       "      <td>2016</td>\n",
       "      <td>Е.Матвеев</td>\n",
       "      <td>драма</td>\n",
       "    </tr>\n",
       "    <tr>\n",
       "      <th>2</th>\n",
       "      <td>Особо опасен</td>\n",
       "      <td>221038416</td>\n",
       "      <td>2016-10-10 12:00:00+00:00</td>\n",
       "      <td>Художественный</td>\n",
       "      <td>Юниверсал Пикчерз, Кикстарт Продакшнз, Марк Пл...</td>\n",
       "      <td>США</td>\n",
       "      <td>Тимур Бекмамбетов</td>\n",
       "      <td>Джим Лемли, Джейсон Нетер, Марк Е.Платт, Яйн Смит</td>\n",
       "      <td>«18+» - запрещено для детей</td>\n",
       "      <td>NaN</td>\n",
       "      <td>NaN</td>\n",
       "      <td>NaN</td>\n",
       "      <td>NaN</td>\n",
       "      <td>6.8</td>\n",
       "      <td>фантастика,боевик,триллер</td>\n",
       "      <td>NaN</td>\n",
       "      <td>2016</td>\n",
       "      <td>Тимур Бекмамбетов</td>\n",
       "      <td>фантастика</td>\n",
       "    </tr>\n",
       "    <tr>\n",
       "      <th>3</th>\n",
       "      <td>Особо опасен</td>\n",
       "      <td>221026916</td>\n",
       "      <td>2016-06-10 12:00:00+00:00</td>\n",
       "      <td>Художественный</td>\n",
       "      <td>Юниверсал Пикчерз, Кикстарт Продакшнз, Марк Пл...</td>\n",
       "      <td>США</td>\n",
       "      <td>Тимур Бекмамбетов</td>\n",
       "      <td>Джим Лемли, Джейсон Нетер, Марк Е.Платт, Яйн Смит</td>\n",
       "      <td>«18+» - запрещено для детей</td>\n",
       "      <td>NaN</td>\n",
       "      <td>NaN</td>\n",
       "      <td>NaN</td>\n",
       "      <td>NaN</td>\n",
       "      <td>6.8</td>\n",
       "      <td>фантастика,боевик,триллер</td>\n",
       "      <td>NaN</td>\n",
       "      <td>2016</td>\n",
       "      <td>Тимур Бекмамбетов</td>\n",
       "      <td>фантастика</td>\n",
       "    </tr>\n",
       "    <tr>\n",
       "      <th>4</th>\n",
       "      <td>Особо опасен</td>\n",
       "      <td>221030815</td>\n",
       "      <td>2015-07-29 12:00:00+00:00</td>\n",
       "      <td>Художественный</td>\n",
       "      <td>Юниверсал Пикчерз, Кикстарт Продакшнз, Марк Пл...</td>\n",
       "      <td>США</td>\n",
       "      <td>Тимур Бекмамбетов</td>\n",
       "      <td>Джим Лемли, Джейсон Нетер, Марк Е.Платт, Яйн Смит</td>\n",
       "      <td>«18+» - запрещено для детей</td>\n",
       "      <td>NaN</td>\n",
       "      <td>NaN</td>\n",
       "      <td>NaN</td>\n",
       "      <td>NaN</td>\n",
       "      <td>6.8</td>\n",
       "      <td>фантастика,боевик,триллер</td>\n",
       "      <td>NaN</td>\n",
       "      <td>2015</td>\n",
       "      <td>Тимур Бекмамбетов</td>\n",
       "      <td>фантастика</td>\n",
       "    </tr>\n",
       "  </tbody>\n",
       "</table>\n",
       "</div>"
      ],
      "text/plain": [
       "                  title   puNumber           show_start_date            type  \\\n",
       "0      Открытый простор  221048915 2015-11-27 12:00:00+00:00  Художественный   \n",
       "1  Особо важное задание  111013716 2016-09-13 12:00:00+00:00  Художественный   \n",
       "2          Особо опасен  221038416 2016-10-10 12:00:00+00:00  Художественный   \n",
       "3          Особо опасен  221026916 2016-06-10 12:00:00+00:00  Художественный   \n",
       "4          Особо опасен  221030815 2015-07-29 12:00:00+00:00  Художественный   \n",
       "\n",
       "                                         film_studio production_country  \\\n",
       "0  Тачстоун Пикчерз, Кобальт Пикчерз, Бикон Пикче...                США   \n",
       "1                              Киностудия \"Мосфильм\"               СССР   \n",
       "2  Юниверсал Пикчерз, Кикстарт Продакшнз, Марк Пл...                США   \n",
       "3  Юниверсал Пикчерз, Кикстарт Продакшнз, Марк Пл...                США   \n",
       "4  Юниверсал Пикчерз, Кикстарт Продакшнз, Марк Пл...                США   \n",
       "\n",
       "            director                                           producer  \\\n",
       "0      Кевин Костнер          Дэвид Валдес, Кевин Костнер, Джейк Эбертс   \n",
       "1          Е.Матвеев                                                NaN   \n",
       "2  Тимур Бекмамбетов  Джим Лемли, Джейсон Нетер, Марк Е.Платт, Яйн Смит   \n",
       "3  Тимур Бекмамбетов  Джим Лемли, Джейсон Нетер, Марк Е.Платт, Яйн Смит   \n",
       "4  Тимур Бекмамбетов  Джим Лемли, Джейсон Нетер, Марк Е.Платт, Яйн Смит   \n",
       "\n",
       "                 age_restriction  refundable_support  nonrefundable_support  \\\n",
       "0    «18+» - запрещено для детей                 NaN                    NaN   \n",
       "1  «6+» - для детей старше 6 лет                 NaN                    NaN   \n",
       "2    «18+» - запрещено для детей                 NaN                    NaN   \n",
       "3    «18+» - запрещено для детей                 NaN                    NaN   \n",
       "4    «18+» - запрещено для детей                 NaN                    NaN   \n",
       "\n",
       "   budget financing_source  ratings                     genres  box_office  \\\n",
       "0     NaN              NaN      7.2     боевик,драма,мелодрама         NaN   \n",
       "1     NaN              NaN      6.6              драма,военный         NaN   \n",
       "2     NaN              NaN      6.8  фантастика,боевик,триллер         NaN   \n",
       "3     NaN              NaN      6.8  фантастика,боевик,триллер         NaN   \n",
       "4     NaN              NaN      6.8  фантастика,боевик,триллер         NaN   \n",
       "\n",
       "   year_show   general_director       genre  \n",
       "0       2015      Кевин Костнер      боевик  \n",
       "1       2016          Е.Матвеев       драма  \n",
       "2       2016  Тимур Бекмамбетов  фантастика  \n",
       "3       2016  Тимур Бекмамбетов  фантастика  \n",
       "4       2015  Тимур Бекмамбетов  фантастика  "
      ]
     },
     "execution_count": 60,
     "metadata": {},
     "output_type": "execute_result"
    }
   ],
   "source": [
    "def new_column(data):\n",
    "    return str(data).split(\",\")[0]\n",
    "data_full['general_director'] = data_full['director'].apply(new_column)\n",
    "data_full['genre'] = data_full['genres'].apply(new_column)\n",
    "data_full.head()"
   ]
  },
  {
   "cell_type": "markdown",
   "metadata": {
    "id": "1FsCXHwdgFyU"
   },
   "source": [
    "- Посчитаем, какую долю от общего бюджета фильма составляет государственная поддержка."
   ]
  },
  {
   "cell_type": "code",
   "execution_count": 61,
   "metadata": {
    "id": "LV6qFuZLgFyV"
   },
   "outputs": [
    {
     "data": {
      "text/plain": [
       "count    332.000000\n",
       "mean       0.518545\n",
       "std        0.165694\n",
       "min        0.044043\n",
       "25%        0.384615\n",
       "50%        0.562522\n",
       "75%        0.654613\n",
       "max        0.784745\n",
       "Name: support_ratio, dtype: float64"
      ]
     },
     "execution_count": 61,
     "metadata": {},
     "output_type": "execute_result"
    }
   ],
   "source": [
    "#выделяем данные с бюджетом больше 0\n",
    "data_ratio = data_full.loc[data_full['budget'] >0]\n",
    "#создаем столбец, показывающий долю участия государства в финансировании фильма\n",
    "data_ratio['support_ratio'] = (data_ratio['refundable_support'] + data_ratio['nonrefundable_support']) / data_ratio['budget']\n",
    "data_ratio['support_ratio'].describe()"
   ]
  },
  {
   "cell_type": "code",
   "execution_count": 62,
   "metadata": {},
   "outputs": [
    {
     "data": {
      "text/plain": [
       "array([[<AxesSubplot:title={'center':'support_ratio'}>]], dtype=object)"
      ]
     },
     "execution_count": 62,
     "metadata": {},
     "output_type": "execute_result"
    },
    {
     "data": {
      "image/png": "[encoded data removed]",
      "text/plain": [
       "<Figure size 432x288 with 1 Axes>"
      ]
     },
     "metadata": {
      "needs_background": "light"
     },
     "output_type": "display_data"
    }
   ],
   "source": [
    "data_ratio.hist('support_ratio', bins = 50)"
   ]
  },
  {
   "cell_type": "code",
   "execution_count": 63,
   "metadata": {},
   "outputs": [
    {
     "data": {
      "text/plain": [
       "<AxesSubplot:xlabel='budget', ylabel='support_ratio'>"
      ]
     },
     "execution_count": 63,
     "metadata": {},
     "output_type": "execute_result"
    },
    {
     "data": {
      "image/png": "[encoded data removed]",
      "text/plain": [
       "<Figure size 432x288 with 1 Axes>"
      ]
     },
     "metadata": {
      "needs_background": "light"
     },
     "output_type": "display_data"
    }
   ],
   "source": [
    "data_ratio.plot(x = 'budget', y = 'support_ratio', kind = 'scatter', xlim = (0, 500000000), alpha = 0.3)"
   ]
  },
  {
   "cell_type": "markdown",
   "metadata": {},
   "source": [
    "ВЫВОД: \n",
    "В большинстве случаев государственная поддержка составляет от 50 до 70%. Основная часть фильмов с бюджетом до 100 млн. рублей.  "
   ]
  },
  {
   "cell_type": "markdown",
   "metadata": {
    "id": "6t4EukPLgFyV"
   },
   "source": [
    "### Проведем исследовательский анализ данных\n"
   ]
  },
  {
   "cell_type": "markdown",
   "metadata": {
    "id": "vAH8WCzugFyV"
   },
   "source": [
    "**Посмотрим, сколько фильмов выходило в прокат каждый год. Данные о прокате в кинотеатрах известны не для всех фильмов. Посчитаем, какую долю составляют фильмы с указанной информацией о прокате в кинотеатрах.**"
   ]
  },
  {
   "cell_type": "code",
   "execution_count": 70,
   "metadata": {
    "id": "ABeV47y7gFyW"
   },
   "outputs": [
    {
     "data": {
      "text/html": [
       "<div>\n",
       "<style scoped>\n",
       "    .dataframe tbody tr th:only-of-type {\n",
       "        vertical-align: middle;\n",
       "    }\n",
       "\n",
       "    .dataframe tbody tr th {\n",
       "        vertical-align: top;\n",
       "    }\n",
       "\n",
       "    .dataframe thead th {\n",
       "        text-align: right;\n",
       "    }\n",
       "</style>\n",
       "<table border=\"1\" class=\"dataframe\">\n",
       "  <thead>\n",
       "    <tr style=\"text-align: right;\">\n",
       "      <th></th>\n",
       "      <th>title</th>\n",
       "    </tr>\n",
       "    <tr>\n",
       "      <th>year_show</th>\n",
       "      <th></th>\n",
       "    </tr>\n",
       "  </thead>\n",
       "  <tbody>\n",
       "    <tr>\n",
       "      <th>2010</th>\n",
       "      <td>984</td>\n",
       "    </tr>\n",
       "    <tr>\n",
       "      <th>2011</th>\n",
       "      <td>622</td>\n",
       "    </tr>\n",
       "    <tr>\n",
       "      <th>2012</th>\n",
       "      <td>593</td>\n",
       "    </tr>\n",
       "    <tr>\n",
       "      <th>2013</th>\n",
       "      <td>630</td>\n",
       "    </tr>\n",
       "    <tr>\n",
       "      <th>2014</th>\n",
       "      <td>806</td>\n",
       "    </tr>\n",
       "    <tr>\n",
       "      <th>2015</th>\n",
       "      <td>705</td>\n",
       "    </tr>\n",
       "    <tr>\n",
       "      <th>2016</th>\n",
       "      <td>818</td>\n",
       "    </tr>\n",
       "    <tr>\n",
       "      <th>2017</th>\n",
       "      <td>505</td>\n",
       "    </tr>\n",
       "    <tr>\n",
       "      <th>2018</th>\n",
       "      <td>891</td>\n",
       "    </tr>\n",
       "    <tr>\n",
       "      <th>2019</th>\n",
       "      <td>930</td>\n",
       "    </tr>\n",
       "  </tbody>\n",
       "</table>\n",
       "</div>"
      ],
      "text/plain": [
       "           title\n",
       "year_show       \n",
       "2010         984\n",
       "2011         622\n",
       "2012         593\n",
       "2013         630\n",
       "2014         806\n",
       "2015         705\n",
       "2016         818\n",
       "2017         505\n",
       "2018         891\n",
       "2019         930"
      ]
     },
     "execution_count": 70,
     "metadata": {},
     "output_type": "execute_result"
    }
   ],
   "source": [
    "#смотрим сколько было проката, по количеству фильмов вообще\n",
    "data_full.pivot_table(index = 'year_show', values = 'title', aggfunc = 'count')"
   ]
  },
  {
   "cell_type": "code",
   "execution_count": 71,
   "metadata": {},
   "outputs": [
    {
     "data": {
      "text/plain": [
       "array([[<AxesSubplot:title={'center':'year_show'}>]], dtype=object)"
      ]
     },
     "execution_count": 71,
     "metadata": {},
     "output_type": "execute_result"
    },
    {
     "data": {
      "image/png": "[encoded data removed]",
      "text/plain": [
       "<Figure size 432x288 with 1 Axes>"
      ]
     },
     "metadata": {
      "needs_background": "light"
     },
     "output_type": "display_data"
    }
   ],
   "source": [
    "data_full.hist('year_show', bins = 10)"
   ]
  },
  {
   "cell_type": "code",
   "execution_count": 72,
   "metadata": {},
   "outputs": [
    {
     "data": {
      "text/plain": [
       "0.42196686264029926"
      ]
     },
     "execution_count": 72,
     "metadata": {},
     "output_type": "execute_result"
    }
   ],
   "source": [
    "1 - (data_full['box_office'].isna().sum() / data_full['box_office'].shape[0])"
   ]
  },
  {
   "cell_type": "markdown",
   "metadata": {},
   "source": [
    "42% фильмов имеют данные по сборам"
   ]
  },
  {
   "cell_type": "code",
   "execution_count": 73,
   "metadata": {},
   "outputs": [
    {
     "data": {
      "text/html": [
       "<div>\n",
       "<style scoped>\n",
       "    .dataframe tbody tr th:only-of-type {\n",
       "        vertical-align: middle;\n",
       "    }\n",
       "\n",
       "    .dataframe tbody tr th {\n",
       "        vertical-align: top;\n",
       "    }\n",
       "\n",
       "    .dataframe thead th {\n",
       "        text-align: right;\n",
       "    }\n",
       "</style>\n",
       "<table border=\"1\" class=\"dataframe\">\n",
       "  <thead>\n",
       "    <tr style=\"text-align: right;\">\n",
       "      <th></th>\n",
       "      <th>box_office</th>\n",
       "      <th>title</th>\n",
       "    </tr>\n",
       "    <tr>\n",
       "      <th>year_show</th>\n",
       "      <th></th>\n",
       "      <th></th>\n",
       "    </tr>\n",
       "  </thead>\n",
       "  <tbody>\n",
       "    <tr>\n",
       "      <th>2010</th>\n",
       "      <td>105</td>\n",
       "      <td>984</td>\n",
       "    </tr>\n",
       "    <tr>\n",
       "      <th>2011</th>\n",
       "      <td>109</td>\n",
       "      <td>622</td>\n",
       "    </tr>\n",
       "    <tr>\n",
       "      <th>2012</th>\n",
       "      <td>128</td>\n",
       "      <td>593</td>\n",
       "    </tr>\n",
       "    <tr>\n",
       "      <th>2013</th>\n",
       "      <td>184</td>\n",
       "      <td>630</td>\n",
       "    </tr>\n",
       "    <tr>\n",
       "      <th>2014</th>\n",
       "      <td>279</td>\n",
       "      <td>806</td>\n",
       "    </tr>\n",
       "    <tr>\n",
       "      <th>2015</th>\n",
       "      <td>465</td>\n",
       "      <td>705</td>\n",
       "    </tr>\n",
       "    <tr>\n",
       "      <th>2016</th>\n",
       "      <td>526</td>\n",
       "      <td>818</td>\n",
       "    </tr>\n",
       "    <tr>\n",
       "      <th>2017</th>\n",
       "      <td>357</td>\n",
       "      <td>505</td>\n",
       "    </tr>\n",
       "    <tr>\n",
       "      <th>2018</th>\n",
       "      <td>475</td>\n",
       "      <td>891</td>\n",
       "    </tr>\n",
       "    <tr>\n",
       "      <th>2019</th>\n",
       "      <td>530</td>\n",
       "      <td>930</td>\n",
       "    </tr>\n",
       "  </tbody>\n",
       "</table>\n",
       "</div>"
      ],
      "text/plain": [
       "           box_office  title\n",
       "year_show                   \n",
       "2010              105    984\n",
       "2011              109    622\n",
       "2012              128    593\n",
       "2013              184    630\n",
       "2014              279    806\n",
       "2015              465    705\n",
       "2016              526    818\n",
       "2017              357    505\n",
       "2018              475    891\n",
       "2019              530    930"
      ]
     },
     "execution_count": 73,
     "metadata": {},
     "output_type": "execute_result"
    }
   ],
   "source": [
    "#доля прокатных фильмов\n",
    "part_box_office = data_full.pivot_table(index = 'year_show', values = ['box_office', 'title'], aggfunc = 'count')\n",
    "part_box_office"
   ]
  },
  {
   "cell_type": "code",
   "execution_count": 74,
   "metadata": {},
   "outputs": [
    {
     "data": {
      "text/plain": [
       "<AxesSubplot:xlabel='year_show'>"
      ]
     },
     "execution_count": 74,
     "metadata": {},
     "output_type": "execute_result"
    },
    {
     "data": {
      "image/png": "[encoded data removed]",
      "text/plain": [
       "<Figure size 432x288 with 1 Axes>"
      ]
     },
     "metadata": {
      "needs_background": "light"
     },
     "output_type": "display_data"
    }
   ],
   "source": [
    "data_full.pivot_table(index = 'year_show', values = ['box_office', 'title'], aggfunc = 'count').plot(kind = 'bar', grid = True)"
   ]
  },
  {
   "cell_type": "code",
   "execution_count": 75,
   "metadata": {},
   "outputs": [
    {
     "data": {
      "text/plain": [
       "<AxesSubplot:xlabel='year_show'>"
      ]
     },
     "execution_count": 75,
     "metadata": {},
     "output_type": "execute_result"
    },
    {
     "data": {
      "image/png": "[encoded data removed]",
      "text/plain": [
       "<Figure size 432x288 with 1 Axes>"
      ]
     },
     "metadata": {
      "needs_background": "light"
     },
     "output_type": "display_data"
    }
   ],
   "source": [
    "#доля прокатных фильмов\n",
    "part_box_office['part'] = part_box_office['box_office'] / part_box_office['title']\n",
    "part_box_office['part'].plot(kind = 'bar', grid = True)"
   ]
  },
  {
   "cell_type": "markdown",
   "metadata": {},
   "source": [
    "ВЫВОДЫ:\n",
    "1. Максимальное количество проката, судя по количеству выданных прокатных удостоверений, было в 2010 году, затем до 2012 года был спад. Минимальное количество проката было в 2017 году, и затем резкое увеличение в 2018 и 2019 годах.\n",
    "2. Доля фильмов с указанной информацией о прокате в кинотеатрах составляет 42 %.\n",
    "3. Доля прокатных фильмов постепенно растет в 2010 по 2014 годах, затем с 2015 по 2017 годах рост практически в 2 раза по сравнению с 2014 годом. В 2018 - 2019 годах небольшой спад.\n",
    "4. Судя по всему наиболее полно представлен период с 2015 по 2019 годы."
   ]
  },
  {
   "cell_type": "markdown",
   "metadata": {
    "id": "BEOdcIrIgFyW"
   },
   "source": [
    "**Изучим, как менялась динамика проката по годам. Выясним в каком году сумма сборов была минимальной и максимальной.**"
   ]
  },
  {
   "cell_type": "code",
   "execution_count": 82,
   "metadata": {},
   "outputs": [
    {
     "data": {
      "text/html": [
       "<div>\n",
       "<style scoped>\n",
       "    .dataframe tbody tr th:only-of-type {\n",
       "        vertical-align: middle;\n",
       "    }\n",
       "\n",
       "    .dataframe tbody tr th {\n",
       "        vertical-align: top;\n",
       "    }\n",
       "\n",
       "    .dataframe thead th {\n",
       "        text-align: right;\n",
       "    }\n",
       "</style>\n",
       "<table border=\"1\" class=\"dataframe\">\n",
       "  <thead>\n",
       "    <tr style=\"text-align: right;\">\n",
       "      <th></th>\n",
       "      <th>box_office</th>\n",
       "    </tr>\n",
       "    <tr>\n",
       "      <th>year_show</th>\n",
       "      <th></th>\n",
       "    </tr>\n",
       "  </thead>\n",
       "  <tbody>\n",
       "    <tr>\n",
       "      <th>2010</th>\n",
       "      <td>2.428654e+06</td>\n",
       "    </tr>\n",
       "    <tr>\n",
       "      <th>2011</th>\n",
       "      <td>1.410276e+07</td>\n",
       "    </tr>\n",
       "    <tr>\n",
       "      <th>2012</th>\n",
       "      <td>6.955423e+06</td>\n",
       "    </tr>\n",
       "    <tr>\n",
       "      <th>2013</th>\n",
       "      <td>2.979971e+07</td>\n",
       "    </tr>\n",
       "    <tr>\n",
       "      <th>2014</th>\n",
       "      <td>7.444952e+09</td>\n",
       "    </tr>\n",
       "    <tr>\n",
       "      <th>2015</th>\n",
       "      <td>3.949737e+10</td>\n",
       "    </tr>\n",
       "    <tr>\n",
       "      <th>2016</th>\n",
       "      <td>4.786630e+10</td>\n",
       "    </tr>\n",
       "    <tr>\n",
       "      <th>2017</th>\n",
       "      <td>4.856371e+10</td>\n",
       "    </tr>\n",
       "    <tr>\n",
       "      <th>2018</th>\n",
       "      <td>4.966840e+10</td>\n",
       "    </tr>\n",
       "    <tr>\n",
       "      <th>2019</th>\n",
       "      <td>4.842571e+10</td>\n",
       "    </tr>\n",
       "  </tbody>\n",
       "</table>\n",
       "</div>"
      ],
      "text/plain": [
       "             box_office\n",
       "year_show              \n",
       "2010       2.428654e+06\n",
       "2011       1.410276e+07\n",
       "2012       6.955423e+06\n",
       "2013       2.979971e+07\n",
       "2014       7.444952e+09\n",
       "2015       3.949737e+10\n",
       "2016       4.786630e+10\n",
       "2017       4.856371e+10\n",
       "2018       4.966840e+10\n",
       "2019       4.842571e+10"
      ]
     },
     "execution_count": 82,
     "metadata": {},
     "output_type": "execute_result"
    }
   ],
   "source": [
    "#смотрим на прокат с точки зрения сборов\n",
    "data_full.pivot_table(index = 'year_show', values = 'box_office', aggfunc = 'sum')"
   ]
  },
  {
   "cell_type": "code",
   "execution_count": 83,
   "metadata": {},
   "outputs": [
    {
     "data": {
      "text/plain": [
       "<AxesSubplot:xlabel='year_show'>"
      ]
     },
     "execution_count": 83,
     "metadata": {},
     "output_type": "execute_result"
    },
    {
     "data": {
      "image/png": "[encoded data removed]",
      "text/plain": [
       "<Figure size 432x288 with 1 Axes>"
      ]
     },
     "metadata": {
      "needs_background": "light"
     },
     "output_type": "display_data"
    }
   ],
   "source": [
    "#сумма сборов в прокате по годам\n",
    "data_full.pivot_table(index = 'year_show', values = 'box_office', aggfunc = 'sum').plot(kind = 'bar', grid = True)"
   ]
  },
  {
   "cell_type": "markdown",
   "metadata": {},
   "source": [
    "ВЫВОДЫ:\n",
    "1. С каждым годом был рост сборов, а с 2014 года пошел взрывной рост.\n",
    "2. Минимальные сборы были в 2010 году, а максимальные в 2018."
   ]
  },
  {
   "cell_type": "markdown",
   "metadata": {
    "id": "G-7qS-N-gFyY"
   },
   "source": [
    "**С помощью сводной таблицы посчитаем среднюю и медианную сумму сборов для каждого года.**"
   ]
  },
  {
   "cell_type": "code",
   "execution_count": 84,
   "metadata": {
    "id": "jmp-rgg9gFyY"
   },
   "outputs": [
    {
     "data": {
      "text/html": [
       "<div>\n",
       "<style scoped>\n",
       "    .dataframe tbody tr th:only-of-type {\n",
       "        vertical-align: middle;\n",
       "    }\n",
       "\n",
       "    .dataframe tbody tr th {\n",
       "        vertical-align: top;\n",
       "    }\n",
       "\n",
       "    .dataframe thead tr th {\n",
       "        text-align: left;\n",
       "    }\n",
       "\n",
       "    .dataframe thead tr:last-of-type th {\n",
       "        text-align: right;\n",
       "    }\n",
       "</style>\n",
       "<table border=\"1\" class=\"dataframe\">\n",
       "  <thead>\n",
       "    <tr>\n",
       "      <th></th>\n",
       "      <th>mean</th>\n",
       "      <th>median</th>\n",
       "    </tr>\n",
       "    <tr>\n",
       "      <th></th>\n",
       "      <th>box_office</th>\n",
       "      <th>box_office</th>\n",
       "    </tr>\n",
       "    <tr>\n",
       "      <th>year_show</th>\n",
       "      <th></th>\n",
       "      <th></th>\n",
       "    </tr>\n",
       "  </thead>\n",
       "  <tbody>\n",
       "    <tr>\n",
       "      <th>2010</th>\n",
       "      <td>2.313004e+04</td>\n",
       "      <td>1700.000</td>\n",
       "    </tr>\n",
       "    <tr>\n",
       "      <th>2011</th>\n",
       "      <td>1.293832e+05</td>\n",
       "      <td>3000.000</td>\n",
       "    </tr>\n",
       "    <tr>\n",
       "      <th>2012</th>\n",
       "      <td>5.433924e+04</td>\n",
       "      <td>5660.000</td>\n",
       "    </tr>\n",
       "    <tr>\n",
       "      <th>2013</th>\n",
       "      <td>1.619549e+05</td>\n",
       "      <td>3522.500</td>\n",
       "    </tr>\n",
       "    <tr>\n",
       "      <th>2014</th>\n",
       "      <td>2.668442e+07</td>\n",
       "      <td>18160.000</td>\n",
       "    </tr>\n",
       "    <tr>\n",
       "      <th>2015</th>\n",
       "      <td>8.494057e+07</td>\n",
       "      <td>4920933.000</td>\n",
       "    </tr>\n",
       "    <tr>\n",
       "      <th>2016</th>\n",
       "      <td>9.100057e+07</td>\n",
       "      <td>3846679.410</td>\n",
       "    </tr>\n",
       "    <tr>\n",
       "      <th>2017</th>\n",
       "      <td>1.360328e+08</td>\n",
       "      <td>9968340.000</td>\n",
       "    </tr>\n",
       "    <tr>\n",
       "      <th>2018</th>\n",
       "      <td>1.045651e+08</td>\n",
       "      <td>8891102.210</td>\n",
       "    </tr>\n",
       "    <tr>\n",
       "      <th>2019</th>\n",
       "      <td>9.136926e+07</td>\n",
       "      <td>4627798.345</td>\n",
       "    </tr>\n",
       "  </tbody>\n",
       "</table>\n",
       "</div>"
      ],
      "text/plain": [
       "                   mean       median\n",
       "             box_office   box_office\n",
       "year_show                           \n",
       "2010       2.313004e+04     1700.000\n",
       "2011       1.293832e+05     3000.000\n",
       "2012       5.433924e+04     5660.000\n",
       "2013       1.619549e+05     3522.500\n",
       "2014       2.668442e+07    18160.000\n",
       "2015       8.494057e+07  4920933.000\n",
       "2016       9.100057e+07  3846679.410\n",
       "2017       1.360328e+08  9968340.000\n",
       "2018       1.045651e+08  8891102.210\n",
       "2019       9.136926e+07  4627798.345"
      ]
     },
     "execution_count": 84,
     "metadata": {},
     "output_type": "execute_result"
    }
   ],
   "source": [
    "data_full.pivot_table(index = 'year_show', values = 'box_office', aggfunc = ['mean', 'median'])"
   ]
  },
  {
   "cell_type": "code",
   "execution_count": 85,
   "metadata": {},
   "outputs": [
    {
     "data": {
      "text/plain": [
       "<AxesSubplot:xlabel='year_show'>"
      ]
     },
     "execution_count": 85,
     "metadata": {},
     "output_type": "execute_result"
    },
    {
     "data": {
      "image/png": "[encoded data removed]",
      "text/plain": [
       "<Figure size 1008x864 with 1 Axes>"
      ]
     },
     "metadata": {
      "needs_background": "light"
     },
     "output_type": "display_data"
    }
   ],
   "source": [
    "data_full.pivot_table(index = 'year_show', values = 'box_office', aggfunc = ['mean', 'median']).plot(kind = 'bar', figsize = (14, 12), grid = True)"
   ]
  },
  {
   "cell_type": "markdown",
   "metadata": {},
   "source": [
    "В основной своей массе сборы были маленькие, но есть фильмы, которые имеют сборы в разы превышающие все остальные. За счет них в среднем получается неплохая картина."
   ]
  },
  {
   "cell_type": "markdown",
   "metadata": {
    "id": "Ok89WFwJgFyZ"
   },
   "source": [
    "**Определим, влияет ли возрастное ограничение аудитории («6+», «12+», «16+», «18+» и т. д.) на сборы фильма в прокате в период с 2015 по 2019 год? Фильмы с каким возрастным ограничением собрали больше всего денег в прокате? Меняется ли картина в зависимости от года? Если да, предположите, с чем это может быть связано.**"
   ]
  },
  {
   "cell_type": "code",
   "execution_count": 86,
   "metadata": {},
   "outputs": [],
   "source": [
    "#данные с 2015 года\n",
    "data_year = data_full.loc[data_full['year_show'] >= 2015]"
   ]
  },
  {
   "cell_type": "code",
   "execution_count": 87,
   "metadata": {
    "id": "jsSbEqfjgFya"
   },
   "outputs": [
    {
     "data": {
      "text/plain": [
       "<AxesSubplot:xlabel='year_show'>"
      ]
     },
     "execution_count": 87,
     "metadata": {},
     "output_type": "execute_result"
    },
    {
     "data": {
      "image/png": "[encoded data removed]",
      "text/plain": [
       "<Figure size 1008x864 with 1 Axes>"
      ]
     },
     "metadata": {
      "needs_background": "light"
     },
     "output_type": "display_data"
    }
   ],
   "source": [
    "data_year.pivot_table(index = 'year_show', columns = 'age_restriction', values = 'box_office', aggfunc = 'sum').plot(kind = 'bar', figsize = (14, 12), grid = True)"
   ]
  },
  {
   "cell_type": "code",
   "execution_count": 88,
   "metadata": {},
   "outputs": [
    {
     "data": {
      "text/html": [
       "<div>\n",
       "<style scoped>\n",
       "    .dataframe tbody tr th:only-of-type {\n",
       "        vertical-align: middle;\n",
       "    }\n",
       "\n",
       "    .dataframe tbody tr th {\n",
       "        vertical-align: top;\n",
       "    }\n",
       "\n",
       "    .dataframe thead th {\n",
       "        text-align: right;\n",
       "    }\n",
       "</style>\n",
       "<table border=\"1\" class=\"dataframe\">\n",
       "  <thead>\n",
       "    <tr style=\"text-align: right;\">\n",
       "      <th></th>\n",
       "      <th>box_office</th>\n",
       "    </tr>\n",
       "    <tr>\n",
       "      <th>age_restriction</th>\n",
       "      <th></th>\n",
       "    </tr>\n",
       "  </thead>\n",
       "  <tbody>\n",
       "    <tr>\n",
       "      <th>«0+» - для любой зрительской аудитории</th>\n",
       "      <td>8.090774e+08</td>\n",
       "    </tr>\n",
       "    <tr>\n",
       "      <th>«18+» - запрещено для детей</th>\n",
       "      <td>4.075962e+10</td>\n",
       "    </tr>\n",
       "    <tr>\n",
       "      <th>«6+» - для детей старше 6 лет</th>\n",
       "      <td>5.579861e+10</td>\n",
       "    </tr>\n",
       "    <tr>\n",
       "      <th>«12+» - для детей старше 12 лет</th>\n",
       "      <td>6.061945e+10</td>\n",
       "    </tr>\n",
       "    <tr>\n",
       "      <th>«16+» - для детей старше 16 лет</th>\n",
       "      <td>7.603473e+10</td>\n",
       "    </tr>\n",
       "  </tbody>\n",
       "</table>\n",
       "</div>"
      ],
      "text/plain": [
       "                                          box_office\n",
       "age_restriction                                     \n",
       "«0+» - для любой зрительской аудитории  8.090774e+08\n",
       "«18+» - запрещено для детей             4.075962e+10\n",
       "«6+» - для детей старше 6 лет           5.579861e+10\n",
       "«12+» - для детей старше 12 лет         6.061945e+10\n",
       "«16+» - для детей старше 16 лет         7.603473e+10"
      ]
     },
     "execution_count": 88,
     "metadata": {},
     "output_type": "execute_result"
    }
   ],
   "source": [
    "data_year.pivot_table(index = 'age_restriction', values = 'box_office', aggfunc = 'sum').sort_values(by = 'box_office')"
   ]
  },
  {
   "cell_type": "code",
   "execution_count": 90,
   "metadata": {},
   "outputs": [
    {
     "data": {
      "image/png": "[encoded data removed]",
      "text/plain": [
       "<Figure size 1080x360 with 1 Axes>"
      ]
     },
     "metadata": {
      "needs_background": "light"
     },
     "output_type": "display_data"
    }
   ],
   "source": [
    "data_full.query('2015 <= year_show <= 2019').groupby('age_restriction')['box_office'].sum()\\\n",
    "  .sort_values()\\\n",
    "  .plot(kind = 'barh', title = 'Сборы фильмов в зависимости от возрастной категории'\\\n",
    "        , figsize = (15,5))\n",
    "\n",
    "plt.ylabel('Возрастная категория')\n",
    "plt.xlabel('Сборы')\n",
    "plt.show()"
   ]
  },
  {
   "cell_type": "code",
   "execution_count": 91,
   "metadata": {},
   "outputs": [
    {
     "data": {
      "text/plain": [
       "<AxesSubplot:xlabel='genre'>"
      ]
     },
     "execution_count": 91,
     "metadata": {},
     "output_type": "execute_result"
    },
    {
     "data": {
      "image/png": "[encoded data removed]",
      "text/plain": [
       "<Figure size 720x504 with 1 Axes>"
      ]
     },
     "metadata": {
      "needs_background": "light"
     },
     "output_type": "display_data"
    }
   ],
   "source": [
    "data_year.pivot_table(index = 'genre', values = 'box_office', aggfunc = 'sum').sort_values(by = 'box_office').plot(kind = 'bar', figsize = (10, 7), grid = True)"
   ]
  },
  {
   "cell_type": "markdown",
   "metadata": {},
   "source": [
    "\n",
    "ВЫВОДЫ:\n",
    "1. Ограничение по возрасту определенно влияет на сборы;\n",
    "2. Самые большие сборы были у группы \"16+\", а меньше всего собрали \"0+\";\n",
    "3. По годам картина меняется, но в больштнстве случаев все равно лидирует \"16+\". Видимо это связано с тем, что самые кассовые фильмы выходят в этой категории. \n",
    "4. Тройка лидеров жанров по кассовым сборам - фантастика, мультфильмы и боевики."
   ]
  },
  {
   "cell_type": "markdown",
   "metadata": {
    "id": "l_Kg6Ku4gFya"
   },
   "source": [
    "### Исследуем фильмы, которые получили государственную поддержку"
   ]
  },
  {
   "cell_type": "code",
   "execution_count": 92,
   "metadata": {
    "id": "W9QKpjUdgFyb"
   },
   "outputs": [],
   "source": [
    "budget_data = data_full.loc[data_full['budget'] > 0]"
   ]
  },
  {
   "cell_type": "code",
   "execution_count": 93,
   "metadata": {},
   "outputs": [
    {
     "data": {
      "text/html": [
       "<div>\n",
       "<style scoped>\n",
       "    .dataframe tbody tr th:only-of-type {\n",
       "        vertical-align: middle;\n",
       "    }\n",
       "\n",
       "    .dataframe tbody tr th {\n",
       "        vertical-align: top;\n",
       "    }\n",
       "\n",
       "    .dataframe thead th {\n",
       "        text-align: right;\n",
       "    }\n",
       "</style>\n",
       "<table border=\"1\" class=\"dataframe\">\n",
       "  <thead>\n",
       "    <tr style=\"text-align: right;\">\n",
       "      <th></th>\n",
       "      <th>title</th>\n",
       "      <th>puNumber</th>\n",
       "      <th>show_start_date</th>\n",
       "      <th>type</th>\n",
       "      <th>film_studio</th>\n",
       "      <th>production_country</th>\n",
       "      <th>director</th>\n",
       "      <th>producer</th>\n",
       "      <th>age_restriction</th>\n",
       "      <th>refundable_support</th>\n",
       "      <th>nonrefundable_support</th>\n",
       "      <th>budget</th>\n",
       "      <th>financing_source</th>\n",
       "      <th>ratings</th>\n",
       "      <th>genres</th>\n",
       "      <th>box_office</th>\n",
       "      <th>year_show</th>\n",
       "      <th>general_director</th>\n",
       "      <th>genre</th>\n",
       "      <th>gos_support</th>\n",
       "    </tr>\n",
       "  </thead>\n",
       "  <tbody>\n",
       "    <tr>\n",
       "      <th>1281</th>\n",
       "      <td>Пока еще жива</td>\n",
       "      <td>111005313</td>\n",
       "      <td>2013-10-11 12:00:00+00:00</td>\n",
       "      <td>Художественный</td>\n",
       "      <td>АНО содействия развитию кинематографии \"Ангел-...</td>\n",
       "      <td>Россия</td>\n",
       "      <td>А.Атанесян</td>\n",
       "      <td>А.Атанесян, М.Бабаханов, Р.Бутко</td>\n",
       "      <td>«16+» - для детей старше 16 лет</td>\n",
       "      <td>0.0</td>\n",
       "      <td>26500000.0</td>\n",
       "      <td>79411900.0</td>\n",
       "      <td>Министерство культуры</td>\n",
       "      <td>8.1</td>\n",
       "      <td>драма,мелодрама</td>\n",
       "      <td>365353.6</td>\n",
       "      <td>2013</td>\n",
       "      <td>А.Атанесян</td>\n",
       "      <td>драма</td>\n",
       "      <td>26500000.0</td>\n",
       "    </tr>\n",
       "    <tr>\n",
       "      <th>1448</th>\n",
       "      <td>Бесславные придурки</td>\n",
       "      <td>111003314</td>\n",
       "      <td>2014-03-28 12:00:00+00:00</td>\n",
       "      <td>Художественный</td>\n",
       "      <td>ООО \"Компания \"АТК-Студио\"</td>\n",
       "      <td>Россия</td>\n",
       "      <td>А.Якимчук</td>\n",
       "      <td>А.Тютрюмов</td>\n",
       "      <td>«12+» - для детей старше 12 лет</td>\n",
       "      <td>0.0</td>\n",
       "      <td>26000000.0</td>\n",
       "      <td>37142857.0</td>\n",
       "      <td>Министерство культуры</td>\n",
       "      <td>6.6</td>\n",
       "      <td>NaN</td>\n",
       "      <td>28140.0</td>\n",
       "      <td>2014</td>\n",
       "      <td>А.Якимчук</td>\n",
       "      <td>nan</td>\n",
       "      <td>26000000.0</td>\n",
       "    </tr>\n",
       "    <tr>\n",
       "      <th>1498</th>\n",
       "      <td>Невидимки</td>\n",
       "      <td>111004213</td>\n",
       "      <td>2013-09-10 12:00:00+00:00</td>\n",
       "      <td>Художественный</td>\n",
       "      <td>ООО \"Компания \"РЕАЛ-ДАКОТА\"</td>\n",
       "      <td>Россия</td>\n",
       "      <td>Р.Давлетьяров, С.Комаров</td>\n",
       "      <td>Р.Давлетьяров, А.Котелевский, А.Олейников</td>\n",
       "      <td>«12+» - для детей старше 12 лет</td>\n",
       "      <td>0.0</td>\n",
       "      <td>107847945.0</td>\n",
       "      <td>176023490.0</td>\n",
       "      <td>Фонд кино</td>\n",
       "      <td>5.3</td>\n",
       "      <td>комедия,фантастика</td>\n",
       "      <td>19957031.5</td>\n",
       "      <td>2013</td>\n",
       "      <td>Р.Давлетьяров</td>\n",
       "      <td>комедия</td>\n",
       "      <td>107847945.0</td>\n",
       "    </tr>\n",
       "    <tr>\n",
       "      <th>1524</th>\n",
       "      <td>БЕРЦЫ</td>\n",
       "      <td>111004314</td>\n",
       "      <td>2014-05-05 12:00:00+00:00</td>\n",
       "      <td>Художественный</td>\n",
       "      <td>ООО \"Студия \"Пассажир\"</td>\n",
       "      <td>Россия</td>\n",
       "      <td>Е.Миндадзе (псевдоним Катя Шагалова)</td>\n",
       "      <td>Л.Антонова</td>\n",
       "      <td>«16+» - для детей старше 16 лет</td>\n",
       "      <td>0.0</td>\n",
       "      <td>28000000.0</td>\n",
       "      <td>40574140.0</td>\n",
       "      <td>Министерство культуры</td>\n",
       "      <td>4.2</td>\n",
       "      <td>драма</td>\n",
       "      <td>55917.5</td>\n",
       "      <td>2014</td>\n",
       "      <td>Е.Миндадзе (псевдоним Катя Шагалова)</td>\n",
       "      <td>драма</td>\n",
       "      <td>28000000.0</td>\n",
       "    </tr>\n",
       "    <tr>\n",
       "      <th>1792</th>\n",
       "      <td>Братья Ч</td>\n",
       "      <td>111004414</td>\n",
       "      <td>2014-04-23 12:00:00+00:00</td>\n",
       "      <td>Художественный</td>\n",
       "      <td>ООО \"Студия \"Пассажир\"</td>\n",
       "      <td>Россия</td>\n",
       "      <td>М.Угаров</td>\n",
       "      <td>А.Миндадзе, Л.Антонова</td>\n",
       "      <td>«16+» - для детей старше 16 лет</td>\n",
       "      <td>0.0</td>\n",
       "      <td>25000000.0</td>\n",
       "      <td>40015122.0</td>\n",
       "      <td>Министерство культуры</td>\n",
       "      <td>6.4</td>\n",
       "      <td>драма</td>\n",
       "      <td>232100.0</td>\n",
       "      <td>2014</td>\n",
       "      <td>М.Угаров</td>\n",
       "      <td>драма</td>\n",
       "      <td>25000000.0</td>\n",
       "    </tr>\n",
       "  </tbody>\n",
       "</table>\n",
       "</div>"
      ],
      "text/plain": [
       "                    title   puNumber           show_start_date  \\\n",
       "1281        Пока еще жива  111005313 2013-10-11 12:00:00+00:00   \n",
       "1448  Бесславные придурки  111003314 2014-03-28 12:00:00+00:00   \n",
       "1498            Невидимки  111004213 2013-09-10 12:00:00+00:00   \n",
       "1524                БЕРЦЫ  111004314 2014-05-05 12:00:00+00:00   \n",
       "1792             Братья Ч  111004414 2014-04-23 12:00:00+00:00   \n",
       "\n",
       "                type                                        film_studio  \\\n",
       "1281  Художественный  АНО содействия развитию кинематографии \"Ангел-...   \n",
       "1448  Художественный                         ООО \"Компания \"АТК-Студио\"   \n",
       "1498  Художественный                        ООО \"Компания \"РЕАЛ-ДАКОТА\"   \n",
       "1524  Художественный                             ООО \"Студия \"Пассажир\"   \n",
       "1792  Художественный                             ООО \"Студия \"Пассажир\"   \n",
       "\n",
       "     production_country                              director  \\\n",
       "1281             Россия                            А.Атанесян   \n",
       "1448             Россия                             А.Якимчук   \n",
       "1498             Россия              Р.Давлетьяров, С.Комаров   \n",
       "1524             Россия  Е.Миндадзе (псевдоним Катя Шагалова)   \n",
       "1792             Россия                              М.Угаров   \n",
       "\n",
       "                                       producer  \\\n",
       "1281           А.Атанесян, М.Бабаханов, Р.Бутко   \n",
       "1448                                 А.Тютрюмов   \n",
       "1498  Р.Давлетьяров, А.Котелевский, А.Олейников   \n",
       "1524                                 Л.Антонова   \n",
       "1792                     А.Миндадзе, Л.Антонова   \n",
       "\n",
       "                      age_restriction  refundable_support  \\\n",
       "1281  «16+» - для детей старше 16 лет                 0.0   \n",
       "1448  «12+» - для детей старше 12 лет                 0.0   \n",
       "1498  «12+» - для детей старше 12 лет                 0.0   \n",
       "1524  «16+» - для детей старше 16 лет                 0.0   \n",
       "1792  «16+» - для детей старше 16 лет                 0.0   \n",
       "\n",
       "      nonrefundable_support       budget       financing_source  ratings  \\\n",
       "1281             26500000.0   79411900.0  Министерство культуры      8.1   \n",
       "1448             26000000.0   37142857.0  Министерство культуры      6.6   \n",
       "1498            107847945.0  176023490.0              Фонд кино      5.3   \n",
       "1524             28000000.0   40574140.0  Министерство культуры      4.2   \n",
       "1792             25000000.0   40015122.0  Министерство культуры      6.4   \n",
       "\n",
       "                  genres  box_office  year_show  \\\n",
       "1281     драма,мелодрама    365353.6       2013   \n",
       "1448                 NaN     28140.0       2014   \n",
       "1498  комедия,фантастика  19957031.5       2013   \n",
       "1524               драма     55917.5       2014   \n",
       "1792               драма    232100.0       2014   \n",
       "\n",
       "                          general_director    genre  gos_support  \n",
       "1281                            А.Атанесян    драма   26500000.0  \n",
       "1448                             А.Якимчук      nan   26000000.0  \n",
       "1498                         Р.Давлетьяров  комедия  107847945.0  \n",
       "1524  Е.Миндадзе (псевдоним Катя Шагалова)    драма   28000000.0  \n",
       "1792                              М.Угаров    драма   25000000.0  "
      ]
     },
     "execution_count": 93,
     "metadata": {},
     "output_type": "execute_result"
    }
   ],
   "source": [
    "#создадим дополнительный столбец с общей суммой государственной поддержки\n",
    "budget_data['gos_support'] = budget_data['refundable_support'] + budget_data['nonrefundable_support']\n",
    "budget_data.head()"
   ]
  },
  {
   "cell_type": "code",
   "execution_count": 94,
   "metadata": {},
   "outputs": [
    {
     "data": {
      "text/plain": [
       "0.7504478089620624"
      ]
     },
     "execution_count": 94,
     "metadata": {},
     "output_type": "execute_result"
    }
   ],
   "source": [
    "budget_data['budget'].corr(budget_data['gos_support'])"
   ]
  },
  {
   "cell_type": "code",
   "execution_count": 95,
   "metadata": {},
   "outputs": [
    {
     "data": {
      "text/plain": [
       "0.4889759317766004"
      ]
     },
     "execution_count": 95,
     "metadata": {},
     "output_type": "execute_result"
    }
   ],
   "source": [
    "budget_data['gos_support'].corr(budget_data['box_office'])"
   ]
  },
  {
   "cell_type": "code",
   "execution_count": 96,
   "metadata": {},
   "outputs": [
    {
     "data": {
      "text/plain": [
       "count    3.320000e+02\n",
       "mean     6.084545e+07\n",
       "std      7.275546e+07\n",
       "min      3.000000e+06\n",
       "25%      2.533375e+07\n",
       "50%      3.500000e+07\n",
       "75%      6.000000e+07\n",
       "max      5.000000e+08\n",
       "Name: gos_support, dtype: float64"
      ]
     },
     "execution_count": 96,
     "metadata": {},
     "output_type": "execute_result"
    }
   ],
   "source": [
    "budget_data['gos_support'].describe()"
   ]
  },
  {
   "cell_type": "code",
   "execution_count": 97,
   "metadata": {},
   "outputs": [
    {
     "data": {
      "text/plain": [
       "<AxesSubplot:xlabel='year_show'>"
      ]
     },
     "execution_count": 97,
     "metadata": {},
     "output_type": "execute_result"
    },
    {
     "data": {
      "image/png": "[encoded data removed]",
      "text/plain": [
       "<Figure size 720x504 with 1 Axes>"
      ]
     },
     "metadata": {
      "needs_background": "light"
     },
     "output_type": "display_data"
    }
   ],
   "source": [
    "#распределение господдержки по годам\n",
    "budget_data.pivot_table(index = 'year_show', values = 'gos_support', aggfunc = 'sum').plot(kind = 'bar', figsize = (10, 7), grid = True)"
   ]
  },
  {
   "cell_type": "code",
   "execution_count": 98,
   "metadata": {},
   "outputs": [
    {
     "data": {
      "text/plain": [
       "<AxesSubplot:xlabel='year_show'>"
      ]
     },
     "execution_count": 98,
     "metadata": {},
     "output_type": "execute_result"
    },
    {
     "data": {
      "image/png": "[encoded data removed]",
      "text/plain": [
       "<Figure size 720x504 with 1 Axes>"
      ]
     },
     "metadata": {
      "needs_background": "light"
     },
     "output_type": "display_data"
    }
   ],
   "source": [
    "# распределение средств гос. поддержки в общем бюджете\n",
    "budget_data.pivot_table(index = 'year_show', values = ['gos_support', 'refundable_support', 'nonrefundable_support', 'budget'], aggfunc = 'sum').plot(kind = 'bar', figsize = (10, 7), grid = True)"
   ]
  },
  {
   "cell_type": "code",
   "execution_count": 99,
   "metadata": {},
   "outputs": [
    {
     "data": {
      "text/plain": [
       "<AxesSubplot:xlabel='year_show'>"
      ]
     },
     "execution_count": 99,
     "metadata": {},
     "output_type": "execute_result"
    },
    {
     "data": {
      "image/png": "[encoded data removed]",
      "text/plain": [
       "<Figure size 1008x864 with 1 Axes>"
      ]
     },
     "metadata": {
      "needs_background": "light"
     },
     "output_type": "display_data"
    }
   ],
   "source": [
    "# окупаемость\n",
    "budget_data.pivot_table(index = 'year_show', values = ['box_office', 'budget'], aggfunc = 'sum').plot(kind = 'bar', figsize = (14, 12), grid = True)"
   ]
  },
  {
   "cell_type": "code",
   "execution_count": 100,
   "metadata": {},
   "outputs": [
    {
     "data": {
      "text/plain": [
       "count    332.000000\n",
       "mean       6.033133\n",
       "std        1.101380\n",
       "min        1.000000\n",
       "25%        5.400000\n",
       "50%        6.200000\n",
       "75%        6.700000\n",
       "max        8.500000\n",
       "Name: ratings, dtype: float64"
      ]
     },
     "execution_count": 100,
     "metadata": {},
     "output_type": "execute_result"
    }
   ],
   "source": [
    "# рейтинги\n",
    "budget_data['ratings'].describe()"
   ]
  },
  {
   "cell_type": "code",
   "execution_count": 101,
   "metadata": {},
   "outputs": [
    {
     "data": {
      "text/plain": [
       "<AxesSubplot:xlabel='year_show'>"
      ]
     },
     "execution_count": 101,
     "metadata": {},
     "output_type": "execute_result"
    },
    {
     "data": {
      "image/png": "[encoded data removed]",
      "text/plain": [
       "<Figure size 1008x864 with 1 Axes>"
      ]
     },
     "metadata": {
      "needs_background": "light"
     },
     "output_type": "display_data"
    }
   ],
   "source": [
    "budget_data.pivot_table(index = 'year_show', values = 'ratings', aggfunc = 'median').plot(kind = 'bar', figsize = (14, 12), grid = True)"
   ]
  },
  {
   "cell_type": "code",
   "execution_count": 102,
   "metadata": {},
   "outputs": [
    {
     "data": {
      "text/plain": [
       "<AxesSubplot:xlabel='genre'>"
      ]
     },
     "execution_count": 102,
     "metadata": {},
     "output_type": "execute_result"
    },
    {
     "data": {
      "image/png": "[encoded data removed]",
      "text/plain": [
       "<Figure size 1008x864 with 1 Axes>"
      ]
     },
     "metadata": {
      "needs_background": "light"
     },
     "output_type": "display_data"
    }
   ],
   "source": [
    "# жанры с самыми высокими рейтингами\n",
    "budget_data.pivot_table(index = 'genre', values = 'ratings', aggfunc = 'median').plot(kind = 'bar', figsize = (14, 12), grid = True)"
   ]
  },
  {
   "cell_type": "code",
   "execution_count": 103,
   "metadata": {},
   "outputs": [
    {
     "data": {
      "text/plain": [
       "<AxesSubplot:xlabel='genre'>"
      ]
     },
     "execution_count": 103,
     "metadata": {},
     "output_type": "execute_result"
    },
    {
     "data": {
      "image/png": "[encoded data removed]",
      "text/plain": [
       "<Figure size 1008x864 with 1 Axes>"
      ]
     },
     "metadata": {
      "needs_background": "light"
     },
     "output_type": "display_data"
    }
   ],
   "source": [
    "# наиболее кассовые жанры\n",
    "budget_data.pivot_table(index = 'genre', values = 'box_office', aggfunc = 'median').plot(kind = 'bar', figsize = (14, 12), grid = True)"
   ]
  },
  {
   "cell_type": "code",
   "execution_count": 104,
   "metadata": {},
   "outputs": [
    {
     "data": {
      "text/plain": [
       "<AxesSubplot:xlabel='genre'>"
      ]
     },
     "execution_count": 104,
     "metadata": {},
     "output_type": "execute_result"
    },
    {
     "data": {
      "image/png": "[encoded data removed]",
      "text/plain": [
       "<Figure size 1008x864 with 1 Axes>"
      ]
     },
     "metadata": {
      "needs_background": "light"
     },
     "output_type": "display_data"
    }
   ],
   "source": [
    "# самые высокобюджетные жанры\n",
    "budget_data.pivot_table(index = 'genre', values = 'budget', aggfunc = 'median').plot(kind = 'bar', figsize = (14, 12), grid = True)"
   ]
  },
  {
   "cell_type": "code",
   "execution_count": 105,
   "metadata": {},
   "outputs": [
    {
     "data": {
      "text/plain": [
       "<AxesSubplot:xlabel='age_restriction'>"
      ]
     },
     "execution_count": 105,
     "metadata": {},
     "output_type": "execute_result"
    },
    {
     "data": {
      "image/png": "[encoded data removed]",
      "text/plain": [
       "<Figure size 720x504 with 1 Axes>"
      ]
     },
     "metadata": {
      "needs_background": "light"
     },
     "output_type": "display_data"
    }
   ],
   "source": [
    "#количество фильмов по возрастным ограничениям\n",
    "budget_data.pivot_table(index = 'age_restriction', values = 'title', aggfunc = 'count').plot(kind = 'bar', figsize = (10, 7), grid = True)"
   ]
  },
  {
   "cell_type": "code",
   "execution_count": 106,
   "metadata": {},
   "outputs": [
    {
     "data": {
      "text/plain": [
       "<AxesSubplot:xlabel='age_restriction'>"
      ]
     },
     "execution_count": 106,
     "metadata": {},
     "output_type": "execute_result"
    },
    {
     "data": {
      "image/png": "[encoded data removed]",
      "text/plain": [
       "<Figure size 720x504 with 1 Axes>"
      ]
     },
     "metadata": {
      "needs_background": "light"
     },
     "output_type": "display_data"
    }
   ],
   "source": [
    "budget_data.pivot_table(index = 'age_restriction', values = 'box_office', aggfunc = 'sum').plot(kind = 'bar', figsize = (10, 7), grid = True)"
   ]
  },
  {
   "cell_type": "markdown",
   "metadata": {},
   "source": [
    "ВЫВОДЫ:\n",
    "1. Есть значительная корреляция между бюджетом и объемом гос. поддержки, коэффициент Пирсона равен 0,75;\n",
    "2. Так же прослеживается зависимость кассовых сборов от величины гос. поддержки. Коэффициент Пирсона равен 0,45;\n",
    "3. На окупаемость выходили дважды - в 2017 и 2018 годах;\n",
    "4. Судя по средним показателям рейтингов по годам - стабильно чуть больше 6-ти;\n",
    "5. Тройка лидеров жанров по рейтингам - криминал, детский, спорт;\n",
    "6. Наиболее касовыми жанрами являются исторические и спортивные фильмы;\n",
    "7. Самые большие бюджеты у исторических жанров."
   ]
  },
  {
   "cell_type": "markdown",
   "metadata": {
    "id": "V2gYwMcPgFyd"
   },
   "source": [
    "## Общий вывод"
   ]
  },
  {
   "cell_type": "markdown",
   "metadata": {},
   "source": [
    "Заказчик этого исследования — Министерство культуры Российской Федерации.\n",
    "Нужно изучить рынок российского кинопроката и выявить текущие тренды. На насколько фильмы, которые снимаются с государственной поддержкой интересны зрителю."
   ]
  },
  {
   "cell_type": "markdown",
   "metadata": {},
   "source": [
    "ОБЩИЙ ВЫВОД:\n",
    "1. Исходя из общих данных основной популярностью, в виде кассовых сборов, пользуются фильмы о фантастике, мультфильмы и боевики с возрастным ограничением \"16+\". Далее немного уступают лидеру картины с ограничениями \"12+\" и \"6+\". \n",
    "2. Фильмы для взрослых \"18+\" по сборам уступают почти в 2 раза лидеру.\n",
    "3. Фильмы без ограничений по возрасту практически не приносят прибыли.\n",
    "\n"
   ]
  },
  {
   "cell_type": "markdown",
   "metadata": {},
   "source": [
    "ВЫВОДЫ ПО ФИЛЬМАМ С ГОСПОДДЕРЖКОЙ:\n",
    "1.Нельзя сказать, что эти фильмы очень интересны по таким показателям, как рейтинги (в среднем немного больше 6-ти) и окупаемости. Окупаемость была только на протяжении 2-х лет - 2017 и 2018;\n",
    "2. Наибольшей популярностью пользуются исторические и спортивные ленты;\n",
    "3. Если посмотреть на количество снятых фильмов, по возрастным ограничениям все в тренде, а вот по сборам лидируют картины \"12+\", а самые популярные в общей массе \"16+\" тут на 3-м месте."
   ]
  }
 ],
 "metadata": {
  "ExecuteTimeLog": [
   {
    "duration": 537,
    "start_time": "2021-07-07T10:12:08.634Z"
   },
   {
    "duration": 206,
    "start_time": "2021-07-07T10:12:30.191Z"
   },
   {
    "duration": 227,
    "start_time": "2021-07-07T10:12:33.078Z"
   },
   {
    "duration": 153,
    "start_time": "2021-07-07T10:13:42.146Z"
   },
   {
    "duration": 233,
    "start_time": "2021-07-07T10:30:09.252Z"
   },
   {
    "duration": 19,
    "start_time": "2021-07-07T10:30:15.577Z"
   },
   {
    "duration": 18,
    "start_time": "2021-07-07T10:30:57.348Z"
   },
   {
    "duration": 19,
    "start_time": "2021-07-07T10:31:17.452Z"
   },
   {
    "duration": 21,
    "start_time": "2021-07-07T10:31:32.227Z"
   },
   {
    "duration": 27,
    "start_time": "2021-07-07T10:32:06.588Z"
   },
   {
    "duration": 23,
    "start_time": "2021-07-07T10:32:43.645Z"
   },
   {
    "duration": 24,
    "start_time": "2021-07-07T10:33:06.948Z"
   },
   {
    "duration": 7,
    "start_time": "2021-07-07T10:33:28.558Z"
   },
   {
    "duration": 23,
    "start_time": "2021-07-07T10:33:43.761Z"
   },
   {
    "duration": 28,
    "start_time": "2021-07-07T10:34:13.466Z"
   },
   {
    "duration": 23,
    "start_time": "2021-07-07T10:35:56.187Z"
   },
   {
    "duration": 6,
    "start_time": "2021-07-07T10:36:48.182Z"
   },
   {
    "duration": 14,
    "start_time": "2021-07-07T10:37:49.641Z"
   },
   {
    "duration": 6,
    "start_time": "2021-07-07T10:38:06.694Z"
   },
   {
    "duration": 6,
    "start_time": "2021-07-07T10:38:13.493Z"
   },
   {
    "duration": 19,
    "start_time": "2021-07-07T10:38:44.056Z"
   },
   {
    "duration": 186,
    "start_time": "2021-07-07T10:48:35.618Z"
   },
   {
    "duration": 24,
    "start_time": "2021-07-07T10:48:51.498Z"
   },
   {
    "duration": 20,
    "start_time": "2021-07-07T10:48:59.415Z"
   },
   {
    "duration": 20,
    "start_time": "2021-07-07T10:53:02.195Z"
   },
   {
    "duration": 188,
    "start_time": "2021-07-07T10:54:40.486Z"
   },
   {
    "duration": 115,
    "start_time": "2021-07-07T10:54:52.552Z"
   },
   {
    "duration": 214,
    "start_time": "2021-07-07T10:54:56.354Z"
   },
   {
    "duration": 47,
    "start_time": "2021-07-07T10:54:58.282Z"
   },
   {
    "duration": 217,
    "start_time": "2021-07-07T10:59:16.075Z"
   },
   {
    "duration": 51,
    "start_time": "2021-07-07T10:59:16.243Z"
   },
   {
    "duration": 578,
    "start_time": "2021-07-07T10:59:18.774Z"
   },
   {
    "duration": 161,
    "start_time": "2021-07-07T10:59:21.238Z"
   },
   {
    "duration": 59,
    "start_time": "2021-07-07T10:59:21.453Z"
   },
   {
    "duration": 3,
    "start_time": "2021-07-07T11:02:10.786Z"
   },
   {
    "duration": 13,
    "start_time": "2021-07-07T11:07:07.722Z"
   },
   {
    "duration": 26,
    "start_time": "2021-07-07T11:07:17.958Z"
   },
   {
    "duration": 22,
    "start_time": "2021-07-07T11:08:17.939Z"
   },
   {
    "duration": 212,
    "start_time": "2021-07-07T11:08:19.665Z"
   },
   {
    "duration": 21,
    "start_time": "2021-07-07T11:08:29.945Z"
   },
   {
    "duration": 31,
    "start_time": "2021-07-07T11:08:38.899Z"
   },
   {
    "duration": 23,
    "start_time": "2021-07-07T11:08:54.527Z"
   },
   {
    "duration": 8,
    "start_time": "2021-07-07T11:18:55.974Z"
   },
   {
    "duration": 7,
    "start_time": "2021-07-07T11:19:03.639Z"
   },
   {
    "duration": 7,
    "start_time": "2021-07-07T11:19:06.444Z"
   },
   {
    "duration": 578,
    "start_time": "2021-07-07T12:09:59.576Z"
   },
   {
    "duration": 195,
    "start_time": "2021-07-07T12:10:00.156Z"
   },
   {
    "duration": 115,
    "start_time": "2021-07-07T12:10:00.353Z"
   },
   {
    "duration": 3,
    "start_time": "2021-07-07T12:10:00.470Z"
   },
   {
    "duration": 32,
    "start_time": "2021-07-07T12:10:00.474Z"
   },
   {
    "duration": 23,
    "start_time": "2021-07-07T12:10:00.508Z"
   },
   {
    "duration": 19,
    "start_time": "2021-07-07T12:10:00.533Z"
   },
   {
    "duration": 44,
    "start_time": "2021-07-07T12:10:00.553Z"
   },
   {
    "duration": 7,
    "start_time": "2021-07-07T12:10:00.600Z"
   },
   {
    "duration": 7,
    "start_time": "2021-07-07T12:19:45.761Z"
   },
   {
    "duration": 21,
    "start_time": "2021-07-07T12:21:35.482Z"
   },
   {
    "duration": 21,
    "start_time": "2021-07-07T12:29:23.569Z"
   },
   {
    "duration": 525,
    "start_time": "2021-07-07T12:29:44.542Z"
   },
   {
    "duration": 214,
    "start_time": "2021-07-07T12:29:45.069Z"
   },
   {
    "duration": 92,
    "start_time": "2021-07-07T12:29:45.285Z"
   },
   {
    "duration": 3,
    "start_time": "2021-07-07T12:29:45.379Z"
   },
   {
    "duration": 28,
    "start_time": "2021-07-07T12:29:45.384Z"
   },
   {
    "duration": 23,
    "start_time": "2021-07-07T12:29:45.413Z"
   },
   {
    "duration": 21,
    "start_time": "2021-07-07T12:29:45.437Z"
   },
   {
    "duration": 41,
    "start_time": "2021-07-07T12:29:45.460Z"
   },
   {
    "duration": 7,
    "start_time": "2021-07-07T12:29:45.502Z"
   },
   {
    "duration": 20,
    "start_time": "2021-07-07T12:29:45.511Z"
   },
   {
    "duration": 12,
    "start_time": "2021-07-07T12:34:02.800Z"
   },
   {
    "duration": 7,
    "start_time": "2021-07-07T12:35:10.479Z"
   },
   {
    "duration": 8,
    "start_time": "2021-07-07T12:35:22.440Z"
   },
   {
    "duration": 6,
    "start_time": "2021-07-07T12:35:35.649Z"
   },
   {
    "duration": 6,
    "start_time": "2021-07-07T12:35:43.107Z"
   },
   {
    "duration": 22,
    "start_time": "2021-07-07T12:38:03.029Z"
   },
   {
    "duration": 10,
    "start_time": "2021-07-07T12:38:06.592Z"
   },
   {
    "duration": 563,
    "start_time": "2021-07-07T12:38:46.493Z"
   },
   {
    "duration": 265,
    "start_time": "2021-07-07T12:38:47.058Z"
   },
   {
    "duration": 94,
    "start_time": "2021-07-07T12:38:47.325Z"
   },
   {
    "duration": 3,
    "start_time": "2021-07-07T12:38:47.422Z"
   },
   {
    "duration": 30,
    "start_time": "2021-07-07T12:38:47.427Z"
   },
   {
    "duration": 16,
    "start_time": "2021-07-07T12:38:53.305Z"
   },
   {
    "duration": 10,
    "start_time": "2021-07-07T12:38:53.499Z"
   },
   {
    "duration": 8,
    "start_time": "2021-07-07T12:39:48.161Z"
   },
   {
    "duration": 27,
    "start_time": "2021-07-07T12:41:17.629Z"
   },
   {
    "duration": 17,
    "start_time": "2021-07-07T12:41:17.867Z"
   },
   {
    "duration": 21,
    "start_time": "2021-07-07T12:41:19.310Z"
   },
   {
    "duration": 7,
    "start_time": "2021-07-07T12:41:19.544Z"
   },
   {
    "duration": 20,
    "start_time": "2021-07-07T12:41:20.504Z"
   },
   {
    "duration": 554,
    "start_time": "2021-07-07T12:56:23.696Z"
   },
   {
    "duration": 200,
    "start_time": "2021-07-07T12:56:25.234Z"
   },
   {
    "duration": 119,
    "start_time": "2021-07-07T12:56:25.480Z"
   },
   {
    "duration": 4,
    "start_time": "2021-07-07T12:56:25.762Z"
   },
   {
    "duration": 26,
    "start_time": "2021-07-07T12:56:27.172Z"
   },
   {
    "duration": 12,
    "start_time": "2021-07-07T12:56:29.051Z"
   },
   {
    "duration": 10,
    "start_time": "2021-07-07T12:56:29.291Z"
   },
   {
    "duration": 8,
    "start_time": "2021-07-07T12:56:29.623Z"
   },
   {
    "duration": 28,
    "start_time": "2021-07-07T12:56:32.137Z"
   },
   {
    "duration": 19,
    "start_time": "2021-07-07T12:56:39.785Z"
   },
   {
    "duration": 20,
    "start_time": "2021-07-07T12:56:44.297Z"
   },
   {
    "duration": 7,
    "start_time": "2021-07-07T12:56:45.392Z"
   },
   {
    "duration": 23,
    "start_time": "2021-07-07T12:56:46.615Z"
   },
   {
    "duration": 4,
    "start_time": "2021-07-07T12:57:06.625Z"
   },
   {
    "duration": 32,
    "start_time": "2021-07-07T12:57:36.690Z"
   },
   {
    "duration": 18,
    "start_time": "2021-07-07T12:58:00.149Z"
   },
   {
    "duration": 15,
    "start_time": "2021-07-07T12:59:16.793Z"
   },
   {
    "duration": 7,
    "start_time": "2021-07-07T13:19:22.624Z"
   },
   {
    "duration": 6,
    "start_time": "2021-07-07T14:17:33.527Z"
   },
   {
    "duration": 9,
    "start_time": "2021-07-07T14:17:48.409Z"
   },
   {
    "duration": 8,
    "start_time": "2021-07-07T14:20:13.060Z"
   },
   {
    "duration": 8,
    "start_time": "2021-07-07T14:20:37.957Z"
   },
   {
    "duration": 8,
    "start_time": "2021-07-07T14:20:47.470Z"
   },
   {
    "duration": 9,
    "start_time": "2021-07-07T14:20:54.503Z"
   },
   {
    "duration": 10,
    "start_time": "2021-07-07T14:28:57.763Z"
   },
   {
    "duration": 3,
    "start_time": "2021-07-07T14:30:23.377Z"
   },
   {
    "duration": 3,
    "start_time": "2021-07-07T14:30:36.489Z"
   },
   {
    "duration": 103,
    "start_time": "2021-07-07T14:30:52.351Z"
   },
   {
    "duration": 8,
    "start_time": "2021-07-07T14:30:54.763Z"
   },
   {
    "duration": 8,
    "start_time": "2021-07-07T14:31:29.301Z"
   },
   {
    "duration": 13,
    "start_time": "2021-07-07T14:31:44.516Z"
   },
   {
    "duration": 7,
    "start_time": "2021-07-07T14:33:10.972Z"
   },
   {
    "duration": 11,
    "start_time": "2021-07-07T14:33:27.780Z"
   },
   {
    "duration": 8,
    "start_time": "2021-07-07T14:34:44.588Z"
   },
   {
    "duration": 57,
    "start_time": "2021-07-07T14:35:59.042Z"
   },
   {
    "duration": 3,
    "start_time": "2021-07-07T14:36:28.168Z"
   },
   {
    "duration": 5,
    "start_time": "2021-07-07T14:36:46.254Z"
   },
   {
    "duration": 4,
    "start_time": "2021-07-07T14:36:52.714Z"
   },
   {
    "duration": 3,
    "start_time": "2021-07-07T14:36:56.612Z"
   },
   {
    "duration": 4,
    "start_time": "2021-07-07T14:36:57.049Z"
   },
   {
    "duration": 3,
    "start_time": "2021-07-07T14:39:21.214Z"
   },
   {
    "duration": 7,
    "start_time": "2021-07-07T14:39:52.406Z"
   },
   {
    "duration": 11,
    "start_time": "2021-07-07T14:39:58.576Z"
   },
   {
    "duration": 9,
    "start_time": "2021-07-07T14:40:26.301Z"
   },
   {
    "duration": 10,
    "start_time": "2021-07-07T14:40:31.704Z"
   },
   {
    "duration": 11,
    "start_time": "2021-07-07T14:40:36.249Z"
   },
   {
    "duration": 10,
    "start_time": "2021-07-07T14:40:39.783Z"
   },
   {
    "duration": 9,
    "start_time": "2021-07-07T14:40:48.558Z"
   },
   {
    "duration": 10,
    "start_time": "2021-07-07T14:40:57.143Z"
   },
   {
    "duration": 9,
    "start_time": "2021-07-07T14:41:06.074Z"
   },
   {
    "duration": 4324,
    "start_time": "2021-07-07T14:41:22.004Z"
   },
   {
    "duration": 11,
    "start_time": "2021-07-07T14:41:33.392Z"
   },
   {
    "duration": 9,
    "start_time": "2021-07-07T14:41:39.288Z"
   },
   {
    "duration": 569,
    "start_time": "2021-07-07T14:42:14.387Z"
   },
   {
    "duration": 197,
    "start_time": "2021-07-07T14:42:14.959Z"
   },
   {
    "duration": 84,
    "start_time": "2021-07-07T14:42:16.052Z"
   },
   {
    "duration": 4,
    "start_time": "2021-07-07T14:42:16.900Z"
   },
   {
    "duration": 27,
    "start_time": "2021-07-07T14:42:19.898Z"
   },
   {
    "duration": 12,
    "start_time": "2021-07-07T14:42:21.577Z"
   },
   {
    "duration": 9,
    "start_time": "2021-07-07T14:42:21.813Z"
   },
   {
    "duration": 9,
    "start_time": "2021-07-07T14:42:22.569Z"
   },
   {
    "duration": 29,
    "start_time": "2021-07-07T14:42:25.837Z"
   },
   {
    "duration": 20,
    "start_time": "2021-07-07T14:42:27.003Z"
   },
   {
    "duration": 21,
    "start_time": "2021-07-07T14:42:28.767Z"
   },
   {
    "duration": 7,
    "start_time": "2021-07-07T14:42:29.838Z"
   },
   {
    "duration": 4,
    "start_time": "2021-07-07T14:43:25.493Z"
   },
   {
    "duration": 7,
    "start_time": "2021-07-07T14:43:26.573Z"
   },
   {
    "duration": 10,
    "start_time": "2021-07-07T14:43:31.639Z"
   },
   {
    "duration": 9,
    "start_time": "2021-07-07T14:43:32.046Z"
   },
   {
    "duration": 10,
    "start_time": "2021-07-07T14:43:33.301Z"
   },
   {
    "duration": 12,
    "start_time": "2021-07-07T14:43:33.658Z"
   },
   {
    "duration": 8,
    "start_time": "2021-07-07T14:43:34.552Z"
   },
   {
    "duration": 9,
    "start_time": "2021-07-07T14:43:35.058Z"
   },
   {
    "duration": 12,
    "start_time": "2021-07-07T14:43:35.914Z"
   },
   {
    "duration": 17,
    "start_time": "2021-07-07T14:45:34.368Z"
   },
   {
    "duration": 512,
    "start_time": "2021-07-07T14:51:58.236Z"
   },
   {
    "duration": 223,
    "start_time": "2021-07-07T14:51:58.750Z"
   },
   {
    "duration": 93,
    "start_time": "2021-07-07T14:51:58.977Z"
   },
   {
    "duration": 4,
    "start_time": "2021-07-07T14:51:59.071Z"
   },
   {
    "duration": 37,
    "start_time": "2021-07-07T14:51:59.077Z"
   },
   {
    "duration": 18,
    "start_time": "2021-07-07T14:51:59.116Z"
   },
   {
    "duration": 10,
    "start_time": "2021-07-07T14:51:59.137Z"
   },
   {
    "duration": 8,
    "start_time": "2021-07-07T14:51:59.149Z"
   },
   {
    "duration": 54,
    "start_time": "2021-07-07T14:51:59.158Z"
   },
   {
    "duration": 18,
    "start_time": "2021-07-07T14:51:59.213Z"
   },
   {
    "duration": 22,
    "start_time": "2021-07-07T14:51:59.232Z"
   },
   {
    "duration": 36,
    "start_time": "2021-07-07T14:51:59.255Z"
   },
   {
    "duration": 7,
    "start_time": "2021-07-07T14:51:59.293Z"
   },
   {
    "duration": 10,
    "start_time": "2021-07-07T14:51:59.302Z"
   },
   {
    "duration": 9,
    "start_time": "2021-07-07T14:51:59.313Z"
   },
   {
    "duration": 11,
    "start_time": "2021-07-07T14:51:59.324Z"
   },
   {
    "duration": 8,
    "start_time": "2021-07-07T14:51:59.337Z"
   },
   {
    "duration": 46,
    "start_time": "2021-07-07T14:51:59.347Z"
   },
   {
    "duration": 22,
    "start_time": "2021-07-07T14:51:59.395Z"
   },
   {
    "duration": 24,
    "start_time": "2021-07-07T14:57:32.911Z"
   },
   {
    "duration": 7,
    "start_time": "2021-07-07T14:58:22.070Z"
   },
   {
    "duration": 4,
    "start_time": "2021-07-07T14:59:11.239Z"
   },
   {
    "duration": 25,
    "start_time": "2021-07-07T15:07:22.208Z"
   },
   {
    "duration": 16,
    "start_time": "2021-07-07T15:08:25.560Z"
   },
   {
    "duration": 15,
    "start_time": "2021-07-07T15:08:40.647Z"
   },
   {
    "duration": 14,
    "start_time": "2021-07-07T15:08:46.669Z"
   },
   {
    "duration": 533,
    "start_time": "2021-07-07T15:18:07.440Z"
   },
   {
    "duration": 173,
    "start_time": "2021-07-07T15:18:07.974Z"
   },
   {
    "duration": 84,
    "start_time": "2021-07-07T15:18:08.149Z"
   },
   {
    "duration": 3,
    "start_time": "2021-07-07T15:18:08.235Z"
   },
   {
    "duration": 30,
    "start_time": "2021-07-07T15:18:08.240Z"
   },
   {
    "duration": 22,
    "start_time": "2021-07-07T15:18:08.272Z"
   },
   {
    "duration": 11,
    "start_time": "2021-07-07T15:18:08.295Z"
   },
   {
    "duration": 11,
    "start_time": "2021-07-07T15:18:08.309Z"
   },
   {
    "duration": 40,
    "start_time": "2021-07-07T15:18:08.322Z"
   },
   {
    "duration": 42,
    "start_time": "2021-07-07T15:18:08.364Z"
   },
   {
    "duration": 22,
    "start_time": "2021-07-07T15:18:08.408Z"
   },
   {
    "duration": 5,
    "start_time": "2021-07-07T15:18:08.432Z"
   },
   {
    "duration": 13,
    "start_time": "2021-07-07T15:18:08.439Z"
   },
   {
    "duration": 9,
    "start_time": "2021-07-07T15:18:08.454Z"
   },
   {
    "duration": 32,
    "start_time": "2021-07-07T15:18:08.465Z"
   },
   {
    "duration": 10,
    "start_time": "2021-07-07T15:18:08.501Z"
   },
   {
    "duration": 7,
    "start_time": "2021-07-07T15:18:08.513Z"
   },
   {
    "duration": 11,
    "start_time": "2021-07-07T15:18:08.521Z"
   },
   {
    "duration": 17,
    "start_time": "2021-07-07T15:18:08.534Z"
   },
   {
    "duration": 44,
    "start_time": "2021-07-07T15:18:08.553Z"
   },
   {
    "duration": 22,
    "start_time": "2021-07-07T15:18:08.599Z"
   },
   {
    "duration": 61,
    "start_time": "2021-07-07T15:18:08.622Z"
   },
   {
    "duration": 7,
    "start_time": "2021-07-07T15:18:39.457Z"
   },
   {
    "duration": 5,
    "start_time": "2021-07-07T16:05:17.020Z"
   },
   {
    "duration": 5,
    "start_time": "2021-07-07T16:51:28.794Z"
   },
   {
    "duration": 546,
    "start_time": "2021-07-07T16:52:26.306Z"
   },
   {
    "duration": 203,
    "start_time": "2021-07-07T16:52:27.523Z"
   },
   {
    "duration": 85,
    "start_time": "2021-07-07T16:52:27.736Z"
   },
   {
    "duration": 4,
    "start_time": "2021-07-07T16:52:27.899Z"
   },
   {
    "duration": 25,
    "start_time": "2021-07-07T16:52:28.674Z"
   },
   {
    "duration": 8,
    "start_time": "2021-07-07T16:52:32.956Z"
   },
   {
    "duration": 18,
    "start_time": "2021-07-07T16:52:35.616Z"
   },
   {
    "duration": 6,
    "start_time": "2021-07-07T16:52:36.913Z"
   },
   {
    "duration": 11,
    "start_time": "2021-07-07T16:52:40.258Z"
   },
   {
    "duration": 10,
    "start_time": "2021-07-07T16:52:46.251Z"
   },
   {
    "duration": 8,
    "start_time": "2021-07-07T16:52:47.182Z"
   },
   {
    "duration": 27,
    "start_time": "2021-07-07T16:53:20.391Z"
   },
   {
    "duration": 20,
    "start_time": "2021-07-07T16:53:22.022Z"
   },
   {
    "duration": 23,
    "start_time": "2021-07-07T16:53:23.690Z"
   },
   {
    "duration": 8,
    "start_time": "2021-07-07T16:53:24.261Z"
   },
   {
    "duration": 4,
    "start_time": "2021-07-07T16:53:38.733Z"
   },
   {
    "duration": 7,
    "start_time": "2021-07-07T16:53:40.445Z"
   },
   {
    "duration": 11,
    "start_time": "2021-07-07T16:53:41.348Z"
   },
   {
    "duration": 13,
    "start_time": "2021-07-07T16:53:45.250Z"
   },
   {
    "duration": 12,
    "start_time": "2021-07-07T16:53:45.467Z"
   },
   {
    "duration": 4,
    "start_time": "2021-07-07T16:55:32.704Z"
   },
   {
    "duration": 12,
    "start_time": "2021-07-07T16:55:49.012Z"
   },
   {
    "duration": 18,
    "start_time": "2021-07-07T16:55:49.547Z"
   },
   {
    "duration": 611,
    "start_time": "2021-07-07T16:58:35.156Z"
   },
   {
    "duration": 200,
    "start_time": "2021-07-07T16:58:35.770Z"
   },
   {
    "duration": 86,
    "start_time": "2021-07-07T16:58:35.972Z"
   },
   {
    "duration": 3,
    "start_time": "2021-07-07T16:58:36.060Z"
   },
   {
    "duration": 27,
    "start_time": "2021-07-07T16:58:36.065Z"
   },
   {
    "duration": 8,
    "start_time": "2021-07-07T16:58:36.094Z"
   },
   {
    "duration": 17,
    "start_time": "2021-07-07T16:58:36.103Z"
   },
   {
    "duration": 5,
    "start_time": "2021-07-07T16:58:36.123Z"
   },
   {
    "duration": 11,
    "start_time": "2021-07-07T16:58:36.130Z"
   },
   {
    "duration": 7,
    "start_time": "2021-07-07T16:58:36.143Z"
   },
   {
    "duration": 37,
    "start_time": "2021-07-07T16:58:36.152Z"
   },
   {
    "duration": 27,
    "start_time": "2021-07-07T16:58:36.191Z"
   },
   {
    "duration": 19,
    "start_time": "2021-07-07T16:58:36.219Z"
   },
   {
    "duration": 49,
    "start_time": "2021-07-07T16:58:36.240Z"
   },
   {
    "duration": 6,
    "start_time": "2021-07-07T16:58:36.291Z"
   },
   {
    "duration": 3,
    "start_time": "2021-07-07T16:58:36.299Z"
   },
   {
    "duration": 13,
    "start_time": "2021-07-07T16:58:36.304Z"
   },
   {
    "duration": 10,
    "start_time": "2021-07-07T16:58:36.319Z"
   },
   {
    "duration": 10,
    "start_time": "2021-07-07T16:58:36.331Z"
   },
   {
    "duration": 44,
    "start_time": "2021-07-07T16:58:36.343Z"
   },
   {
    "duration": 4,
    "start_time": "2021-07-07T16:58:36.388Z"
   },
   {
    "duration": 13,
    "start_time": "2021-07-07T16:58:36.394Z"
   },
   {
    "duration": 16,
    "start_time": "2021-07-07T16:58:36.410Z"
   },
   {
    "duration": 8,
    "start_time": "2021-07-07T17:02:31.629Z"
   },
   {
    "duration": 8,
    "start_time": "2021-07-07T17:02:34.308Z"
   },
   {
    "duration": 6,
    "start_time": "2021-07-07T17:05:13.483Z"
   },
   {
    "duration": 17,
    "start_time": "2021-07-07T17:05:20.606Z"
   },
   {
    "duration": 7,
    "start_time": "2021-07-07T17:05:34.638Z"
   },
   {
    "duration": 3,
    "start_time": "2021-07-07T17:06:31.883Z"
   },
   {
    "duration": 570,
    "start_time": "2021-07-07T17:06:37.165Z"
   },
   {
    "duration": 174,
    "start_time": "2021-07-07T17:06:37.737Z"
   },
   {
    "duration": 47,
    "start_time": "2021-07-07T17:06:37.913Z"
   },
   {
    "duration": 3,
    "start_time": "2021-07-07T17:06:37.962Z"
   },
   {
    "duration": 27,
    "start_time": "2021-07-07T17:06:37.967Z"
   },
   {
    "duration": 7,
    "start_time": "2021-07-07T17:06:37.996Z"
   },
   {
    "duration": 16,
    "start_time": "2021-07-07T17:06:38.005Z"
   },
   {
    "duration": 6,
    "start_time": "2021-07-07T17:06:38.024Z"
   },
   {
    "duration": 12,
    "start_time": "2021-07-07T17:06:38.031Z"
   },
   {
    "duration": 41,
    "start_time": "2021-07-07T17:06:38.045Z"
   },
   {
    "duration": 8,
    "start_time": "2021-07-07T17:06:38.088Z"
   },
   {
    "duration": 26,
    "start_time": "2021-07-07T17:06:38.098Z"
   },
   {
    "duration": 17,
    "start_time": "2021-07-07T17:06:38.126Z"
   },
   {
    "duration": 43,
    "start_time": "2021-07-07T17:06:38.144Z"
   },
   {
    "duration": 6,
    "start_time": "2021-07-07T17:06:38.188Z"
   },
   {
    "duration": 5,
    "start_time": "2021-07-07T17:06:38.195Z"
   },
   {
    "duration": 9,
    "start_time": "2021-07-07T17:06:38.201Z"
   },
   {
    "duration": 12,
    "start_time": "2021-07-07T17:06:38.212Z"
   },
   {
    "duration": 11,
    "start_time": "2021-07-07T17:06:38.226Z"
   },
   {
    "duration": 47,
    "start_time": "2021-07-07T17:06:38.239Z"
   },
   {
    "duration": 4,
    "start_time": "2021-07-07T17:06:38.288Z"
   },
   {
    "duration": 13,
    "start_time": "2021-07-07T17:06:38.293Z"
   },
   {
    "duration": 5,
    "start_time": "2021-07-07T17:06:38.309Z"
   },
   {
    "duration": 18,
    "start_time": "2021-07-07T17:06:38.325Z"
   },
   {
    "duration": 20,
    "start_time": "2021-07-07T17:07:02.805Z"
   },
   {
    "duration": 19,
    "start_time": "2021-07-07T17:07:08.527Z"
   },
   {
    "duration": 19,
    "start_time": "2021-07-07T17:07:12.758Z"
   },
   {
    "duration": 22,
    "start_time": "2021-07-07T17:07:17.497Z"
   },
   {
    "duration": 19,
    "start_time": "2021-07-07T17:07:19.645Z"
   },
   {
    "duration": 10,
    "start_time": "2021-07-07T17:07:34.239Z"
   },
   {
    "duration": 17,
    "start_time": "2021-07-07T17:07:54.144Z"
   },
   {
    "duration": 14,
    "start_time": "2021-07-07T17:08:14.357Z"
   },
   {
    "duration": 616,
    "start_time": "2021-07-07T17:08:45.254Z"
   },
   {
    "duration": 178,
    "start_time": "2021-07-07T17:08:45.872Z"
   },
   {
    "duration": 60,
    "start_time": "2021-07-07T17:08:46.054Z"
   },
   {
    "duration": 3,
    "start_time": "2021-07-07T17:08:46.116Z"
   },
   {
    "duration": 26,
    "start_time": "2021-07-07T17:08:46.121Z"
   },
   {
    "duration": 7,
    "start_time": "2021-07-07T17:08:46.149Z"
   },
   {
    "duration": 17,
    "start_time": "2021-07-07T17:08:46.158Z"
   },
   {
    "duration": 14,
    "start_time": "2021-07-07T17:08:46.176Z"
   },
   {
    "duration": 17,
    "start_time": "2021-07-07T17:08:46.193Z"
   },
   {
    "duration": 9,
    "start_time": "2021-07-07T17:08:46.211Z"
   },
   {
    "duration": 21,
    "start_time": "2021-07-07T17:08:46.221Z"
   },
   {
    "duration": 49,
    "start_time": "2021-07-07T17:08:46.244Z"
   },
   {
    "duration": 24,
    "start_time": "2021-07-07T17:08:46.295Z"
   },
   {
    "duration": 22,
    "start_time": "2021-07-07T17:08:46.321Z"
   },
   {
    "duration": 6,
    "start_time": "2021-07-07T17:08:46.345Z"
   },
   {
    "duration": 5,
    "start_time": "2021-07-07T17:08:46.353Z"
   },
   {
    "duration": 13,
    "start_time": "2021-07-07T17:08:46.386Z"
   },
   {
    "duration": 12,
    "start_time": "2021-07-07T17:08:46.402Z"
   },
   {
    "duration": 10,
    "start_time": "2021-07-07T17:08:46.415Z"
   },
   {
    "duration": 7,
    "start_time": "2021-07-07T17:08:46.427Z"
   },
   {
    "duration": 8,
    "start_time": "2021-07-07T17:08:46.435Z"
   },
   {
    "duration": 68,
    "start_time": "2021-07-07T17:08:46.446Z"
   },
   {
    "duration": 13,
    "start_time": "2021-07-07T17:08:46.516Z"
   },
   {
    "duration": 78,
    "start_time": "2021-07-07T17:08:46.530Z"
   },
   {
    "duration": 40,
    "start_time": "2021-07-07T17:09:08.185Z"
   },
   {
    "duration": 16,
    "start_time": "2021-07-07T17:09:19.324Z"
   },
   {
    "duration": 21,
    "start_time": "2021-07-07T17:09:23.290Z"
   },
   {
    "duration": 13,
    "start_time": "2021-07-07T17:09:54.812Z"
   },
   {
    "duration": 13,
    "start_time": "2021-07-07T17:10:02.039Z"
   },
   {
    "duration": 10,
    "start_time": "2021-07-07T17:10:29.632Z"
   },
   {
    "duration": 13,
    "start_time": "2021-07-07T17:10:52.372Z"
   },
   {
    "duration": 13,
    "start_time": "2021-07-07T17:11:17.270Z"
   },
   {
    "duration": 13,
    "start_time": "2021-07-07T17:14:59.284Z"
   },
   {
    "duration": 547,
    "start_time": "2021-07-07T17:18:52.403Z"
   },
   {
    "duration": 163,
    "start_time": "2021-07-07T17:18:52.952Z"
   },
   {
    "duration": 44,
    "start_time": "2021-07-07T17:18:53.117Z"
   },
   {
    "duration": 3,
    "start_time": "2021-07-07T17:18:53.162Z"
   },
   {
    "duration": 26,
    "start_time": "2021-07-07T17:18:53.167Z"
   },
   {
    "duration": 6,
    "start_time": "2021-07-07T17:18:53.195Z"
   },
   {
    "duration": 15,
    "start_time": "2021-07-07T17:18:53.203Z"
   },
   {
    "duration": 5,
    "start_time": "2021-07-07T17:18:53.220Z"
   },
   {
    "duration": 11,
    "start_time": "2021-07-07T17:18:53.228Z"
   },
   {
    "duration": 9,
    "start_time": "2021-07-07T17:18:53.241Z"
   },
   {
    "duration": 41,
    "start_time": "2021-07-07T17:18:53.252Z"
   },
   {
    "duration": 33,
    "start_time": "2021-07-07T17:18:53.295Z"
   },
   {
    "duration": 19,
    "start_time": "2021-07-07T17:18:53.330Z"
   },
   {
    "duration": 49,
    "start_time": "2021-07-07T17:18:53.350Z"
   },
   {
    "duration": 5,
    "start_time": "2021-07-07T17:18:53.401Z"
   },
   {
    "duration": 5,
    "start_time": "2021-07-07T17:18:53.408Z"
   },
   {
    "duration": 11,
    "start_time": "2021-07-07T17:18:53.414Z"
   },
   {
    "duration": 9,
    "start_time": "2021-07-07T17:18:53.427Z"
   },
   {
    "duration": 10,
    "start_time": "2021-07-07T17:18:53.437Z"
   },
   {
    "duration": 39,
    "start_time": "2021-07-07T17:18:53.448Z"
   },
   {
    "duration": 26,
    "start_time": "2021-07-07T17:18:55.799Z"
   },
   {
    "duration": 598,
    "start_time": "2021-07-07T17:20:17.862Z"
   },
   {
    "duration": 161,
    "start_time": "2021-07-07T17:20:18.462Z"
   },
   {
    "duration": 45,
    "start_time": "2021-07-07T17:20:18.626Z"
   },
   {
    "duration": 4,
    "start_time": "2021-07-07T17:20:18.673Z"
   },
   {
    "duration": 38,
    "start_time": "2021-07-07T17:20:26.877Z"
   },
   {
    "duration": 7,
    "start_time": "2021-07-07T17:20:37.405Z"
   },
   {
    "duration": 19,
    "start_time": "2021-07-07T17:20:51.534Z"
   },
   {
    "duration": 5,
    "start_time": "2021-07-07T17:20:57.228Z"
   },
   {
    "duration": 7,
    "start_time": "2021-07-07T17:21:08.235Z"
   },
   {
    "duration": 19,
    "start_time": "2021-07-07T17:21:42.158Z"
   },
   {
    "duration": 14,
    "start_time": "2021-07-07T17:21:50.225Z"
   },
   {
    "duration": 22,
    "start_time": "2021-07-07T17:22:54.104Z"
   },
   {
    "duration": 5,
    "start_time": "2021-07-07T17:22:56.371Z"
   },
   {
    "duration": 14,
    "start_time": "2021-07-07T17:22:58.316Z"
   },
   {
    "duration": 5,
    "start_time": "2021-07-07T17:22:58.493Z"
   },
   {
    "duration": 35,
    "start_time": "2021-07-07T17:22:59.666Z"
   },
   {
    "duration": 6,
    "start_time": "2021-07-07T17:23:02.410Z"
   },
   {
    "duration": 611,
    "start_time": "2021-07-07T17:24:59.664Z"
   },
   {
    "duration": 178,
    "start_time": "2021-07-07T17:25:01.945Z"
   },
   {
    "duration": 47,
    "start_time": "2021-07-07T17:25:02.125Z"
   },
   {
    "duration": 2,
    "start_time": "2021-07-07T17:25:07.903Z"
   },
   {
    "duration": 254,
    "start_time": "2021-07-07T17:25:08.232Z"
   },
   {
    "duration": 182,
    "start_time": "2021-07-07T17:25:08.671Z"
   },
   {
    "duration": 6,
    "start_time": "2021-07-07T17:25:13.104Z"
   },
   {
    "duration": 36,
    "start_time": "2021-07-07T17:25:13.662Z"
   },
   {
    "duration": 7,
    "start_time": "2021-07-07T17:25:14.528Z"
   },
   {
    "duration": 24,
    "start_time": "2021-07-07T17:25:27.982Z"
   },
   {
    "duration": 3,
    "start_time": "2021-07-07T17:25:48.982Z"
   },
   {
    "duration": 165,
    "start_time": "2021-07-07T17:25:48.987Z"
   },
   {
    "duration": 50,
    "start_time": "2021-07-07T17:25:49.154Z"
   },
   {
    "duration": 4,
    "start_time": "2021-07-07T17:25:49.206Z"
   },
   {
    "duration": 26,
    "start_time": "2021-07-07T17:25:49.212Z"
   },
   {
    "duration": 7,
    "start_time": "2021-07-07T17:25:49.240Z"
   },
   {
    "duration": 16,
    "start_time": "2021-07-07T17:25:49.249Z"
   },
   {
    "duration": 22,
    "start_time": "2021-07-07T17:25:49.266Z"
   },
   {
    "duration": 16,
    "start_time": "2021-07-07T17:25:49.291Z"
   },
   {
    "duration": 9,
    "start_time": "2021-07-07T17:25:49.309Z"
   },
   {
    "duration": 7,
    "start_time": "2021-07-07T17:25:49.319Z"
   },
   {
    "duration": 28,
    "start_time": "2021-07-07T17:25:49.328Z"
   },
   {
    "duration": 44,
    "start_time": "2021-07-07T17:25:49.357Z"
   },
   {
    "duration": 22,
    "start_time": "2021-07-07T17:25:49.403Z"
   },
   {
    "duration": 7,
    "start_time": "2021-07-07T17:25:49.427Z"
   },
   {
    "duration": 3,
    "start_time": "2021-07-07T17:25:49.436Z"
   },
   {
    "duration": 44,
    "start_time": "2021-07-07T17:25:49.441Z"
   },
   {
    "duration": 12,
    "start_time": "2021-07-07T17:25:49.488Z"
   },
   {
    "duration": 13,
    "start_time": "2021-07-07T17:25:49.502Z"
   },
   {
    "duration": 10,
    "start_time": "2021-07-07T17:25:49.516Z"
   },
   {
    "duration": 62,
    "start_time": "2021-07-07T17:25:49.527Z"
   },
   {
    "duration": 26,
    "start_time": "2021-07-07T17:26:51.809Z"
   },
   {
    "duration": 26,
    "start_time": "2021-07-07T17:26:55.759Z"
   },
   {
    "duration": 26,
    "start_time": "2021-07-07T17:27:04.501Z"
   },
   {
    "duration": 25,
    "start_time": "2021-07-07T17:28:24.859Z"
   },
   {
    "duration": 21,
    "start_time": "2021-07-07T17:28:55.250Z"
   },
   {
    "duration": 21,
    "start_time": "2021-07-07T17:28:58.885Z"
   },
   {
    "duration": 7,
    "start_time": "2021-07-07T17:45:40.972Z"
   },
   {
    "duration": 13,
    "start_time": "2021-07-07T17:45:42.529Z"
   },
   {
    "duration": 27,
    "start_time": "2021-07-07T17:45:51.026Z"
   },
   {
    "duration": 518,
    "start_time": "2021-07-07T17:46:15.532Z"
   },
   {
    "duration": 235,
    "start_time": "2021-07-07T17:46:16.053Z"
   },
   {
    "duration": 80,
    "start_time": "2021-07-07T17:46:16.292Z"
   },
   {
    "duration": 5,
    "start_time": "2021-07-07T17:46:16.373Z"
   },
   {
    "duration": 26,
    "start_time": "2021-07-07T17:46:16.380Z"
   },
   {
    "duration": 7,
    "start_time": "2021-07-07T17:46:16.408Z"
   },
   {
    "duration": 16,
    "start_time": "2021-07-07T17:46:16.418Z"
   },
   {
    "duration": 5,
    "start_time": "2021-07-07T17:46:16.436Z"
   },
   {
    "duration": 13,
    "start_time": "2021-07-07T17:46:16.442Z"
   },
   {
    "duration": 35,
    "start_time": "2021-07-07T17:46:16.456Z"
   },
   {
    "duration": 8,
    "start_time": "2021-07-07T17:46:16.493Z"
   },
   {
    "duration": 28,
    "start_time": "2021-07-07T17:46:16.502Z"
   },
   {
    "duration": 17,
    "start_time": "2021-07-07T17:46:16.532Z"
   },
   {
    "duration": 44,
    "start_time": "2021-07-07T17:46:16.551Z"
   },
   {
    "duration": 6,
    "start_time": "2021-07-07T17:46:16.597Z"
   },
   {
    "duration": 4,
    "start_time": "2021-07-07T17:46:16.605Z"
   },
   {
    "duration": 9,
    "start_time": "2021-07-07T17:46:16.610Z"
   },
   {
    "duration": 9,
    "start_time": "2021-07-07T17:46:16.621Z"
   },
   {
    "duration": 10,
    "start_time": "2021-07-07T17:46:16.632Z"
   },
   {
    "duration": 43,
    "start_time": "2021-07-07T17:46:16.644Z"
   },
   {
    "duration": 26,
    "start_time": "2021-07-07T17:46:16.689Z"
   },
   {
    "duration": 19,
    "start_time": "2021-07-07T17:46:16.718Z"
   },
   {
    "duration": 8,
    "start_time": "2021-07-07T17:46:16.738Z"
   },
   {
    "duration": 43,
    "start_time": "2021-07-07T17:46:16.747Z"
   },
   {
    "duration": 19,
    "start_time": "2021-07-07T17:46:16.791Z"
   },
   {
    "duration": 9,
    "start_time": "2021-07-07T17:46:16.812Z"
   },
   {
    "duration": 60,
    "start_time": "2021-07-07T17:46:16.822Z"
   },
   {
    "duration": -8,
    "start_time": "2021-07-07T17:46:16.892Z"
   },
   {
    "duration": 12,
    "start_time": "2021-07-07T17:48:47.707Z"
   },
   {
    "duration": 553,
    "start_time": "2021-07-07T18:10:09.350Z"
   },
   {
    "duration": 230,
    "start_time": "2021-07-07T18:10:09.905Z"
   },
   {
    "duration": 97,
    "start_time": "2021-07-07T18:10:10.137Z"
   },
   {
    "duration": 5,
    "start_time": "2021-07-07T18:10:10.236Z"
   },
   {
    "duration": 29,
    "start_time": "2021-07-07T18:10:10.242Z"
   },
   {
    "duration": 7,
    "start_time": "2021-07-07T18:10:10.272Z"
   },
   {
    "duration": 15,
    "start_time": "2021-07-07T18:10:10.281Z"
   },
   {
    "duration": 4,
    "start_time": "2021-07-07T18:10:10.299Z"
   },
   {
    "duration": 14,
    "start_time": "2021-07-07T18:10:10.305Z"
   },
   {
    "duration": 8,
    "start_time": "2021-07-07T18:10:10.321Z"
   },
   {
    "duration": 8,
    "start_time": "2021-07-07T18:10:10.331Z"
   },
   {
    "duration": 56,
    "start_time": "2021-07-07T18:10:10.341Z"
   },
   {
    "duration": 19,
    "start_time": "2021-07-07T18:10:10.399Z"
   },
   {
    "duration": 23,
    "start_time": "2021-07-07T18:10:10.419Z"
   },
   {
    "duration": 6,
    "start_time": "2021-07-07T18:10:10.444Z"
   },
   {
    "duration": 9,
    "start_time": "2021-07-07T18:10:10.451Z"
   },
   {
    "duration": 30,
    "start_time": "2021-07-07T18:10:10.462Z"
   },
   {
    "duration": 9,
    "start_time": "2021-07-07T18:10:10.494Z"
   },
   {
    "duration": 14,
    "start_time": "2021-07-07T18:10:10.505Z"
   },
   {
    "duration": 7,
    "start_time": "2021-07-07T18:10:10.521Z"
   },
   {
    "duration": 26,
    "start_time": "2021-07-07T18:10:10.530Z"
   },
   {
    "duration": 44,
    "start_time": "2021-07-07T18:10:10.558Z"
   },
   {
    "duration": 7,
    "start_time": "2021-07-07T18:10:10.605Z"
   },
   {
    "duration": 11,
    "start_time": "2021-07-07T18:10:10.614Z"
   },
   {
    "duration": 19,
    "start_time": "2021-07-07T18:10:10.626Z"
   },
   {
    "duration": 44,
    "start_time": "2021-07-07T18:10:10.646Z"
   },
   {
    "duration": 516,
    "start_time": "2021-07-07T18:14:00.826Z"
   },
   {
    "duration": 230,
    "start_time": "2021-07-07T18:14:01.344Z"
   },
   {
    "duration": 105,
    "start_time": "2021-07-07T18:14:01.576Z"
   },
   {
    "duration": 5,
    "start_time": "2021-07-07T18:14:01.683Z"
   },
   {
    "duration": 46,
    "start_time": "2021-07-07T18:14:01.690Z"
   },
   {
    "duration": 7,
    "start_time": "2021-07-07T18:14:01.738Z"
   },
   {
    "duration": 20,
    "start_time": "2021-07-07T18:14:01.747Z"
   },
   {
    "duration": 16,
    "start_time": "2021-07-07T18:14:01.769Z"
   },
   {
    "duration": 14,
    "start_time": "2021-07-07T18:14:01.787Z"
   },
   {
    "duration": 15,
    "start_time": "2021-07-07T18:14:01.803Z"
   },
   {
    "duration": 12,
    "start_time": "2021-07-07T18:14:01.820Z"
   },
   {
    "duration": 35,
    "start_time": "2021-07-07T18:14:01.833Z"
   },
   {
    "duration": 31,
    "start_time": "2021-07-07T18:14:01.869Z"
   },
   {
    "duration": 37,
    "start_time": "2021-07-07T18:14:01.902Z"
   },
   {
    "duration": 8,
    "start_time": "2021-07-07T18:14:01.942Z"
   },
   {
    "duration": 16,
    "start_time": "2021-07-07T18:14:01.952Z"
   },
   {
    "duration": 13,
    "start_time": "2021-07-07T18:14:01.970Z"
   },
   {
    "duration": 32,
    "start_time": "2021-07-07T18:14:01.985Z"
   },
   {
    "duration": 11,
    "start_time": "2021-07-07T18:14:02.019Z"
   },
   {
    "duration": 22,
    "start_time": "2021-07-07T18:14:02.031Z"
   },
   {
    "duration": 27,
    "start_time": "2021-07-07T18:14:02.055Z"
   },
   {
    "duration": 18,
    "start_time": "2021-07-07T18:14:02.084Z"
   },
   {
    "duration": 18,
    "start_time": "2021-07-07T18:14:02.106Z"
   },
   {
    "duration": 11,
    "start_time": "2021-07-07T18:14:02.126Z"
   },
   {
    "duration": 21,
    "start_time": "2021-07-07T18:14:02.138Z"
   },
   {
    "duration": 32,
    "start_time": "2021-07-07T18:14:02.161Z"
   },
   {
    "duration": 28,
    "start_time": "2021-07-07T18:14:44.295Z"
   },
   {
    "duration": 6,
    "start_time": "2021-07-07T18:15:05.834Z"
   },
   {
    "duration": 511,
    "start_time": "2021-07-07T18:15:41.541Z"
   },
   {
    "duration": 183,
    "start_time": "2021-07-07T18:15:42.054Z"
   },
   {
    "duration": 50,
    "start_time": "2021-07-07T18:15:42.239Z"
   },
   {
    "duration": 5,
    "start_time": "2021-07-07T18:15:42.291Z"
   },
   {
    "duration": 48,
    "start_time": "2021-07-07T18:15:42.297Z"
   },
   {
    "duration": 8,
    "start_time": "2021-07-07T18:15:42.346Z"
   },
   {
    "duration": 17,
    "start_time": "2021-07-07T18:15:42.356Z"
   },
   {
    "duration": 15,
    "start_time": "2021-07-07T18:15:42.375Z"
   },
   {
    "duration": 12,
    "start_time": "2021-07-07T18:15:42.392Z"
   },
   {
    "duration": 7,
    "start_time": "2021-07-07T18:15:42.406Z"
   },
   {
    "duration": 7,
    "start_time": "2021-07-07T18:15:42.415Z"
   },
   {
    "duration": 29,
    "start_time": "2021-07-07T18:15:42.423Z"
   },
   {
    "duration": 43,
    "start_time": "2021-07-07T18:15:42.453Z"
   },
   {
    "duration": 18,
    "start_time": "2021-07-07T18:15:42.497Z"
   },
   {
    "duration": 6,
    "start_time": "2021-07-07T18:15:42.516Z"
   },
   {
    "duration": 3,
    "start_time": "2021-07-07T18:15:42.523Z"
   },
   {
    "duration": 18,
    "start_time": "2021-07-07T18:15:42.528Z"
   },
   {
    "duration": 10,
    "start_time": "2021-07-07T18:15:42.547Z"
   },
   {
    "duration": 36,
    "start_time": "2021-07-07T18:15:42.559Z"
   },
   {
    "duration": 8,
    "start_time": "2021-07-07T18:15:42.597Z"
   },
   {
    "duration": 28,
    "start_time": "2021-07-07T18:15:42.606Z"
   },
   {
    "duration": 52,
    "start_time": "2021-07-07T18:15:42.635Z"
   },
   {
    "duration": 7,
    "start_time": "2021-07-07T18:15:42.690Z"
   },
   {
    "duration": 10,
    "start_time": "2021-07-07T18:15:42.699Z"
   },
   {
    "duration": 19,
    "start_time": "2021-07-07T18:15:42.711Z"
   },
   {
    "duration": 9,
    "start_time": "2021-07-07T18:15:42.732Z"
   },
   {
    "duration": 5,
    "start_time": "2021-07-07T18:15:42.743Z"
   },
   {
    "duration": 1450,
    "start_time": "2021-07-07T18:15:51.984Z"
   },
   {
    "duration": 161,
    "start_time": "2021-07-07T18:15:53.435Z"
   },
   {
    "duration": 124,
    "start_time": "2021-07-07T18:15:53.598Z"
   },
   {
    "duration": 5,
    "start_time": "2021-07-07T18:15:53.724Z"
   },
   {
    "duration": 34,
    "start_time": "2021-07-07T18:15:53.730Z"
   },
   {
    "duration": 7,
    "start_time": "2021-07-07T18:15:53.765Z"
   },
   {
    "duration": 15,
    "start_time": "2021-07-07T18:15:53.773Z"
   },
   {
    "duration": 5,
    "start_time": "2021-07-07T18:15:53.791Z"
   },
   {
    "duration": 19,
    "start_time": "2021-07-07T18:15:53.798Z"
   },
   {
    "duration": 9,
    "start_time": "2021-07-07T18:15:53.818Z"
   },
   {
    "duration": 19,
    "start_time": "2021-07-07T18:15:53.828Z"
   },
   {
    "duration": 27,
    "start_time": "2021-07-07T18:15:53.848Z"
   },
   {
    "duration": 16,
    "start_time": "2021-07-07T18:15:53.884Z"
   },
   {
    "duration": 29,
    "start_time": "2021-07-07T18:15:53.901Z"
   },
   {
    "duration": 5,
    "start_time": "2021-07-07T18:15:53.932Z"
   },
   {
    "duration": 15,
    "start_time": "2021-07-07T18:15:53.939Z"
   },
   {
    "duration": 13,
    "start_time": "2021-07-07T18:15:53.956Z"
   },
   {
    "duration": 20,
    "start_time": "2021-07-07T18:15:53.971Z"
   },
   {
    "duration": 14,
    "start_time": "2021-07-07T18:15:53.992Z"
   },
   {
    "duration": 9,
    "start_time": "2021-07-07T18:15:54.009Z"
   },
   {
    "duration": 28,
    "start_time": "2021-07-07T18:15:54.020Z"
   },
   {
    "duration": 50,
    "start_time": "2021-07-07T18:15:54.051Z"
   },
   {
    "duration": 8,
    "start_time": "2021-07-07T18:15:54.105Z"
   },
   {
    "duration": 11,
    "start_time": "2021-07-07T18:15:54.115Z"
   },
   {
    "duration": 20,
    "start_time": "2021-07-07T18:15:54.128Z"
   },
   {
    "duration": 13,
    "start_time": "2021-07-07T18:15:54.184Z"
   },
   {
    "duration": 7,
    "start_time": "2021-07-07T18:15:54.199Z"
   },
   {
    "duration": 7,
    "start_time": "2021-07-07T18:17:08.042Z"
   },
   {
    "duration": 8,
    "start_time": "2021-07-07T18:17:21.008Z"
   },
   {
    "duration": 7,
    "start_time": "2021-07-07T18:17:29.003Z"
   },
   {
    "duration": 8,
    "start_time": "2021-07-07T18:17:32.492Z"
   },
   {
    "duration": 9,
    "start_time": "2021-07-07T18:17:41.758Z"
   },
   {
    "duration": 255,
    "start_time": "2021-07-07T18:20:20.897Z"
   },
   {
    "duration": 173,
    "start_time": "2021-07-07T18:20:26.636Z"
   },
   {
    "duration": 7,
    "start_time": "2021-07-07T18:21:47.164Z"
   },
   {
    "duration": 254,
    "start_time": "2021-07-07T18:23:08.703Z"
   },
   {
    "duration": 21,
    "start_time": "2021-07-07T18:23:22.506Z"
   },
   {
    "duration": 315,
    "start_time": "2021-07-07T18:25:54.801Z"
   },
   {
    "duration": 34,
    "start_time": "2021-07-07T18:26:51.817Z"
   },
   {
    "duration": 327,
    "start_time": "2021-07-07T18:26:56.147Z"
   },
   {
    "duration": 342,
    "start_time": "2021-07-07T18:27:15.887Z"
   },
   {
    "duration": 302,
    "start_time": "2021-07-07T18:28:18.569Z"
   },
   {
    "duration": 226,
    "start_time": "2021-07-07T18:29:20.879Z"
   },
   {
    "duration": 207,
    "start_time": "2021-07-07T18:29:58.114Z"
   },
   {
    "duration": 140,
    "start_time": "2021-07-07T18:32:04.372Z"
   },
   {
    "duration": 158,
    "start_time": "2021-07-07T18:32:32.508Z"
   },
   {
    "duration": 145,
    "start_time": "2021-07-07T18:32:41.365Z"
   },
   {
    "duration": 132,
    "start_time": "2021-07-07T18:32:45.199Z"
   },
   {
    "duration": 11,
    "start_time": "2021-07-07T18:35:24.679Z"
   },
   {
    "duration": 268,
    "start_time": "2021-07-07T18:36:16.145Z"
   },
   {
    "duration": 227,
    "start_time": "2021-07-07T18:37:04.918Z"
   },
   {
    "duration": 3,
    "start_time": "2021-07-07T18:37:33.012Z"
   },
   {
    "duration": 671,
    "start_time": "2021-07-07T18:37:38.295Z"
   },
   {
    "duration": 54,
    "start_time": "2021-07-07T18:37:53.406Z"
   },
   {
    "duration": 631,
    "start_time": "2021-07-07T18:37:56.463Z"
   },
   {
    "duration": 19,
    "start_time": "2021-07-07T18:39:40.535Z"
   },
   {
    "duration": 20,
    "start_time": "2021-07-07T18:40:12.236Z"
   },
   {
    "duration": 633,
    "start_time": "2021-07-07T18:42:00.398Z"
   },
   {
    "duration": 218,
    "start_time": "2021-07-07T18:42:01.033Z"
   },
   {
    "duration": 49,
    "start_time": "2021-07-07T18:42:01.253Z"
   },
   {
    "duration": 5,
    "start_time": "2021-07-07T18:42:01.303Z"
   },
   {
    "duration": 27,
    "start_time": "2021-07-07T18:42:01.310Z"
   },
   {
    "duration": 8,
    "start_time": "2021-07-07T18:42:01.339Z"
   },
   {
    "duration": 20,
    "start_time": "2021-07-07T18:42:01.348Z"
   },
   {
    "duration": 6,
    "start_time": "2021-07-07T18:42:01.386Z"
   },
   {
    "duration": 16,
    "start_time": "2021-07-07T18:42:01.394Z"
   },
   {
    "duration": 9,
    "start_time": "2021-07-07T18:42:01.411Z"
   },
   {
    "duration": 11,
    "start_time": "2021-07-07T18:42:01.421Z"
   },
   {
    "duration": 31,
    "start_time": "2021-07-07T18:42:01.434Z"
   },
   {
    "duration": 18,
    "start_time": "2021-07-07T18:42:01.485Z"
   },
   {
    "duration": 23,
    "start_time": "2021-07-07T18:42:01.505Z"
   },
   {
    "duration": 6,
    "start_time": "2021-07-07T18:42:01.530Z"
   },
   {
    "duration": 10,
    "start_time": "2021-07-07T18:42:01.538Z"
   },
   {
    "duration": 13,
    "start_time": "2021-07-07T18:42:01.550Z"
   },
   {
    "duration": 24,
    "start_time": "2021-07-07T18:42:01.564Z"
   },
   {
    "duration": 20,
    "start_time": "2021-07-07T18:42:01.590Z"
   },
   {
    "duration": 8,
    "start_time": "2021-07-07T18:42:01.611Z"
   },
   {
    "duration": 31,
    "start_time": "2021-07-07T18:42:01.620Z"
   },
   {
    "duration": 39,
    "start_time": "2021-07-07T18:42:01.653Z"
   },
   {
    "duration": 8,
    "start_time": "2021-07-07T18:42:01.696Z"
   },
   {
    "duration": 13,
    "start_time": "2021-07-07T18:42:01.705Z"
   },
   {
    "duration": 20,
    "start_time": "2021-07-07T18:42:01.720Z"
   },
   {
    "duration": 12,
    "start_time": "2021-07-07T18:42:01.741Z"
   },
   {
    "duration": 35,
    "start_time": "2021-07-07T18:42:01.755Z"
   },
   {
    "duration": 14,
    "start_time": "2021-07-07T18:42:01.792Z"
   },
   {
    "duration": 188,
    "start_time": "2021-07-07T18:42:01.808Z"
   },
   {
    "duration": 19,
    "start_time": "2021-07-07T18:42:01.998Z"
   },
   {
    "duration": 175,
    "start_time": "2021-07-07T18:42:02.019Z"
   },
   {
    "duration": 134,
    "start_time": "2021-07-07T18:42:02.196Z"
   },
   {
    "duration": 10,
    "start_time": "2021-07-07T18:42:02.331Z"
   },
   {
    "duration": 19,
    "start_time": "2021-07-07T18:42:02.343Z"
   },
   {
    "duration": 628,
    "start_time": "2021-07-07T18:46:30.701Z"
   },
   {
    "duration": 183,
    "start_time": "2021-07-07T18:46:31.331Z"
   },
   {
    "duration": 48,
    "start_time": "2021-07-07T18:46:31.516Z"
   },
   {
    "duration": 5,
    "start_time": "2021-07-07T18:46:31.566Z"
   },
   {
    "duration": 28,
    "start_time": "2021-07-07T18:46:31.572Z"
   },
   {
    "duration": 8,
    "start_time": "2021-07-07T18:46:31.602Z"
   },
   {
    "duration": 19,
    "start_time": "2021-07-07T18:46:31.611Z"
   },
   {
    "duration": 6,
    "start_time": "2021-07-07T18:46:31.633Z"
   },
   {
    "duration": 17,
    "start_time": "2021-07-07T18:46:31.642Z"
   },
   {
    "duration": 10,
    "start_time": "2021-07-07T18:46:31.684Z"
   },
   {
    "duration": 9,
    "start_time": "2021-07-07T18:46:31.695Z"
   },
   {
    "duration": 28,
    "start_time": "2021-07-07T18:46:31.705Z"
   },
   {
    "duration": 18,
    "start_time": "2021-07-07T18:46:31.735Z"
   },
   {
    "duration": 48,
    "start_time": "2021-07-07T18:46:31.755Z"
   },
   {
    "duration": 6,
    "start_time": "2021-07-07T18:46:31.804Z"
   },
   {
    "duration": 4,
    "start_time": "2021-07-07T18:46:31.812Z"
   },
   {
    "duration": 9,
    "start_time": "2021-07-07T18:46:31.817Z"
   },
   {
    "duration": 10,
    "start_time": "2021-07-07T18:46:31.827Z"
   },
   {
    "duration": 12,
    "start_time": "2021-07-07T18:46:31.838Z"
   },
   {
    "duration": 39,
    "start_time": "2021-07-07T18:46:31.851Z"
   },
   {
    "duration": 24,
    "start_time": "2021-07-07T18:46:31.892Z"
   },
   {
    "duration": 15,
    "start_time": "2021-07-07T18:46:31.918Z"
   },
   {
    "duration": 7,
    "start_time": "2021-07-07T18:46:31.936Z"
   },
   {
    "duration": 8,
    "start_time": "2021-07-07T18:46:31.944Z"
   },
   {
    "duration": 19,
    "start_time": "2021-07-07T18:46:31.984Z"
   },
   {
    "duration": 10,
    "start_time": "2021-07-07T18:46:32.004Z"
   },
   {
    "duration": 5,
    "start_time": "2021-07-07T18:46:32.016Z"
   },
   {
    "duration": 9,
    "start_time": "2021-07-07T18:46:32.023Z"
   },
   {
    "duration": 199,
    "start_time": "2021-07-07T18:46:32.033Z"
   },
   {
    "duration": 19,
    "start_time": "2021-07-07T18:46:32.234Z"
   },
   {
    "duration": 159,
    "start_time": "2021-07-07T18:46:32.255Z"
   },
   {
    "duration": 134,
    "start_time": "2021-07-07T18:46:32.416Z"
   },
   {
    "duration": 10,
    "start_time": "2021-07-07T18:46:32.552Z"
   },
   {
    "duration": 34,
    "start_time": "2021-07-07T18:46:32.563Z"
   },
   {
    "duration": 1039,
    "start_time": "2021-07-08T08:41:09.419Z"
   },
   {
    "duration": 333,
    "start_time": "2021-07-08T08:41:10.459Z"
   },
   {
    "duration": 173,
    "start_time": "2021-07-08T08:41:10.794Z"
   },
   {
    "duration": 5,
    "start_time": "2021-07-08T08:41:10.968Z"
   },
   {
    "duration": 25,
    "start_time": "2021-07-08T08:41:10.975Z"
   },
   {
    "duration": 9,
    "start_time": "2021-07-08T08:41:11.002Z"
   },
   {
    "duration": 18,
    "start_time": "2021-07-08T08:41:11.013Z"
   },
   {
    "duration": 6,
    "start_time": "2021-07-08T08:41:11.033Z"
   },
   {
    "duration": 44,
    "start_time": "2021-07-08T08:41:11.042Z"
   },
   {
    "duration": 10,
    "start_time": "2021-07-08T08:41:11.088Z"
   },
   {
    "duration": 9,
    "start_time": "2021-07-08T08:41:11.100Z"
   },
   {
    "duration": 27,
    "start_time": "2021-07-08T08:41:11.111Z"
   },
   {
    "duration": 46,
    "start_time": "2021-07-08T08:41:11.140Z"
   },
   {
    "duration": 17,
    "start_time": "2021-07-08T08:41:11.187Z"
   },
   {
    "duration": 6,
    "start_time": "2021-07-08T08:41:11.206Z"
   },
   {
    "duration": 5,
    "start_time": "2021-07-08T08:41:11.213Z"
   },
   {
    "duration": 10,
    "start_time": "2021-07-08T08:41:11.219Z"
   },
   {
    "duration": 9,
    "start_time": "2021-07-08T08:41:11.230Z"
   },
   {
    "duration": 45,
    "start_time": "2021-07-08T08:41:11.241Z"
   },
   {
    "duration": 7,
    "start_time": "2021-07-08T08:41:11.287Z"
   },
   {
    "duration": 24,
    "start_time": "2021-07-08T08:41:11.296Z"
   },
   {
    "duration": 16,
    "start_time": "2021-07-08T08:41:11.322Z"
   },
   {
    "duration": 7,
    "start_time": "2021-07-08T08:41:11.341Z"
   },
   {
    "duration": 41,
    "start_time": "2021-07-08T08:41:11.349Z"
   },
   {
    "duration": 17,
    "start_time": "2021-07-08T08:41:11.391Z"
   },
   {
    "duration": 9,
    "start_time": "2021-07-08T08:41:11.410Z"
   },
   {
    "duration": 5,
    "start_time": "2021-07-08T08:41:11.421Z"
   },
   {
    "duration": 6,
    "start_time": "2021-07-08T08:41:11.428Z"
   },
   {
    "duration": 198,
    "start_time": "2021-07-08T08:41:11.435Z"
   },
   {
    "duration": 18,
    "start_time": "2021-07-08T08:41:11.635Z"
   },
   {
    "duration": 155,
    "start_time": "2021-07-08T08:41:11.655Z"
   },
   {
    "duration": 138,
    "start_time": "2021-07-08T08:41:11.811Z"
   },
   {
    "duration": 10,
    "start_time": "2021-07-08T08:41:11.950Z"
   },
   {
    "duration": 29,
    "start_time": "2021-07-08T08:41:11.961Z"
   },
   {
    "duration": 171,
    "start_time": "2021-07-08T08:47:44.522Z"
   },
   {
    "duration": 124,
    "start_time": "2021-07-08T08:47:46.872Z"
   },
   {
    "duration": 191,
    "start_time": "2021-07-08T08:47:58.148Z"
   },
   {
    "duration": 191,
    "start_time": "2021-07-08T08:48:07.412Z"
   },
   {
    "duration": 261,
    "start_time": "2021-07-08T08:48:10.385Z"
   },
   {
    "duration": 255,
    "start_time": "2021-07-08T08:48:14.494Z"
   },
   {
    "duration": 219,
    "start_time": "2021-07-08T08:48:22.752Z"
   },
   {
    "duration": 173,
    "start_time": "2021-07-08T08:49:06.395Z"
   },
   {
    "duration": 180,
    "start_time": "2021-07-08T08:49:21.011Z"
   },
   {
    "duration": 6,
    "start_time": "2021-07-08T08:50:31.697Z"
   },
   {
    "duration": 10,
    "start_time": "2021-07-08T08:50:47.394Z"
   },
   {
    "duration": 11,
    "start_time": "2021-07-08T08:53:49.332Z"
   },
   {
    "duration": 171,
    "start_time": "2021-07-08T08:54:28.408Z"
   },
   {
    "duration": 636,
    "start_time": "2021-07-08T09:02:48.385Z"
   },
   {
    "duration": 227,
    "start_time": "2021-07-08T09:02:49.023Z"
   },
   {
    "duration": 104,
    "start_time": "2021-07-08T09:02:49.252Z"
   },
   {
    "duration": 5,
    "start_time": "2021-07-08T09:02:49.358Z"
   },
   {
    "duration": 27,
    "start_time": "2021-07-08T09:02:49.365Z"
   },
   {
    "duration": 8,
    "start_time": "2021-07-08T09:02:49.394Z"
   },
   {
    "duration": 18,
    "start_time": "2021-07-08T09:02:49.404Z"
   },
   {
    "duration": 6,
    "start_time": "2021-07-08T09:02:49.424Z"
   },
   {
    "duration": 11,
    "start_time": "2021-07-08T09:02:49.433Z"
   },
   {
    "duration": 13,
    "start_time": "2021-07-08T09:02:49.485Z"
   },
   {
    "duration": 9,
    "start_time": "2021-07-08T09:02:49.500Z"
   },
   {
    "duration": 38,
    "start_time": "2021-07-08T09:02:49.511Z"
   },
   {
    "duration": 42,
    "start_time": "2021-07-08T09:02:49.551Z"
   },
   {
    "duration": 21,
    "start_time": "2021-07-08T09:02:49.594Z"
   },
   {
    "duration": 6,
    "start_time": "2021-07-08T09:02:49.616Z"
   },
   {
    "duration": 3,
    "start_time": "2021-07-08T09:02:49.623Z"
   },
   {
    "duration": 9,
    "start_time": "2021-07-08T09:02:49.628Z"
   },
   {
    "duration": 52,
    "start_time": "2021-07-08T09:02:49.638Z"
   },
   {
    "duration": 11,
    "start_time": "2021-07-08T09:02:49.692Z"
   },
   {
    "duration": 8,
    "start_time": "2021-07-08T09:02:49.704Z"
   },
   {
    "duration": 27,
    "start_time": "2021-07-08T09:02:49.713Z"
   },
   {
    "duration": 59,
    "start_time": "2021-07-08T09:02:49.741Z"
   },
   {
    "duration": 8,
    "start_time": "2021-07-08T09:02:49.803Z"
   },
   {
    "duration": 14,
    "start_time": "2021-07-08T09:02:49.813Z"
   },
   {
    "duration": 20,
    "start_time": "2021-07-08T09:02:49.829Z"
   },
   {
    "duration": 44,
    "start_time": "2021-07-08T09:02:49.851Z"
   },
   {
    "duration": 14,
    "start_time": "2021-07-08T09:02:49.896Z"
   },
   {
    "duration": 221,
    "start_time": "2021-07-08T09:02:49.912Z"
   },
   {
    "duration": 6,
    "start_time": "2021-07-08T09:02:50.134Z"
   },
   {
    "duration": 206,
    "start_time": "2021-07-08T09:02:50.142Z"
   },
   {
    "duration": 19,
    "start_time": "2021-07-08T09:02:50.350Z"
   },
   {
    "duration": 21,
    "start_time": "2021-07-08T09:02:50.370Z"
   },
   {
    "duration": 20,
    "start_time": "2021-07-08T09:02:50.393Z"
   },
   {
    "duration": 5,
    "start_time": "2021-07-08T09:02:50.414Z"
   },
   {
    "duration": 5,
    "start_time": "2021-07-08T09:03:34.173Z"
   },
   {
    "duration": 6,
    "start_time": "2021-07-08T09:04:49.062Z"
   },
   {
    "duration": 9,
    "start_time": "2021-07-08T09:04:50.118Z"
   },
   {
    "duration": 14,
    "start_time": "2021-07-08T09:04:58.512Z"
   },
   {
    "duration": 9,
    "start_time": "2021-07-08T09:05:10.988Z"
   },
   {
    "duration": 11,
    "start_time": "2021-07-08T09:05:11.743Z"
   },
   {
    "duration": 7,
    "start_time": "2021-07-08T09:05:25.677Z"
   },
   {
    "duration": 13,
    "start_time": "2021-07-08T09:05:47.189Z"
   },
   {
    "duration": 13,
    "start_time": "2021-07-08T09:05:54.755Z"
   },
   {
    "duration": 4,
    "start_time": "2021-07-08T09:06:29.189Z"
   },
   {
    "duration": 244,
    "start_time": "2021-07-08T09:06:29.195Z"
   },
   {
    "duration": 91,
    "start_time": "2021-07-08T09:06:29.441Z"
   },
   {
    "duration": 4,
    "start_time": "2021-07-08T09:06:29.534Z"
   },
   {
    "duration": 28,
    "start_time": "2021-07-08T09:06:29.540Z"
   },
   {
    "duration": 6,
    "start_time": "2021-07-08T09:06:29.570Z"
   },
   {
    "duration": 18,
    "start_time": "2021-07-08T09:06:29.578Z"
   },
   {
    "duration": 5,
    "start_time": "2021-07-08T09:06:29.597Z"
   },
   {
    "duration": 13,
    "start_time": "2021-07-08T09:06:29.605Z"
   },
   {
    "duration": 8,
    "start_time": "2021-07-08T09:06:29.620Z"
   },
   {
    "duration": 7,
    "start_time": "2021-07-08T09:06:29.630Z"
   },
   {
    "duration": 63,
    "start_time": "2021-07-08T09:06:29.639Z"
   },
   {
    "duration": 17,
    "start_time": "2021-07-08T09:06:29.704Z"
   },
   {
    "duration": 20,
    "start_time": "2021-07-08T09:06:29.723Z"
   },
   {
    "duration": 6,
    "start_time": "2021-07-08T09:06:29.745Z"
   },
   {
    "duration": 3,
    "start_time": "2021-07-08T09:06:29.752Z"
   },
   {
    "duration": 7,
    "start_time": "2021-07-08T09:06:29.785Z"
   },
   {
    "duration": 11,
    "start_time": "2021-07-08T09:06:29.794Z"
   },
   {
    "duration": 15,
    "start_time": "2021-07-08T09:06:29.807Z"
   },
   {
    "duration": 8,
    "start_time": "2021-07-08T09:06:29.823Z"
   },
   {
    "duration": 70,
    "start_time": "2021-07-08T09:06:29.832Z"
   },
   {
    "duration": 17,
    "start_time": "2021-07-08T09:06:29.903Z"
   },
   {
    "duration": 9,
    "start_time": "2021-07-08T09:06:29.921Z"
   },
   {
    "duration": 9,
    "start_time": "2021-07-08T09:06:29.932Z"
   },
   {
    "duration": 57,
    "start_time": "2021-07-08T09:06:29.942Z"
   },
   {
    "duration": 11,
    "start_time": "2021-07-08T09:06:30.001Z"
   },
   {
    "duration": 19,
    "start_time": "2021-07-08T09:06:30.016Z"
   },
   {
    "duration": 217,
    "start_time": "2021-07-08T09:06:30.037Z"
   },
   {
    "duration": 6,
    "start_time": "2021-07-08T09:06:30.255Z"
   },
   {
    "duration": 205,
    "start_time": "2021-07-08T09:06:30.263Z"
   },
   {
    "duration": 27,
    "start_time": "2021-07-08T09:06:30.470Z"
   },
   {
    "duration": 11,
    "start_time": "2021-07-08T09:06:30.500Z"
   },
   {
    "duration": 31,
    "start_time": "2021-07-08T09:06:30.513Z"
   },
   {
    "duration": 18,
    "start_time": "2021-07-08T09:06:30.546Z"
   },
   {
    "duration": 11,
    "start_time": "2021-07-08T09:06:30.566Z"
   },
   {
    "duration": 19,
    "start_time": "2021-07-08T09:06:30.579Z"
   },
   {
    "duration": 20,
    "start_time": "2021-07-08T09:06:49.466Z"
   },
   {
    "duration": 9,
    "start_time": "2021-07-08T09:06:51.994Z"
   },
   {
    "duration": 20,
    "start_time": "2021-07-08T09:06:52.273Z"
   },
   {
    "duration": 246,
    "start_time": "2021-07-08T09:10:21.272Z"
   },
   {
    "duration": 84,
    "start_time": "2021-07-08T09:10:21.436Z"
   },
   {
    "duration": 7,
    "start_time": "2021-07-08T09:10:37.608Z"
   },
   {
    "duration": 189,
    "start_time": "2021-07-08T09:10:38.573Z"
   },
   {
    "duration": 185,
    "start_time": "2021-07-08T09:10:53.181Z"
   },
   {
    "duration": 11,
    "start_time": "2021-07-08T09:10:59.549Z"
   },
   {
    "duration": 42,
    "start_time": "2021-07-08T09:10:59.709Z"
   },
   {
    "duration": 12,
    "start_time": "2021-07-08T09:11:02.857Z"
   },
   {
    "duration": 28,
    "start_time": "2021-07-08T09:11:10.062Z"
   },
   {
    "duration": 249,
    "start_time": "2021-07-08T09:11:37.388Z"
   },
   {
    "duration": 232,
    "start_time": "2021-07-08T09:11:49.485Z"
   },
   {
    "duration": 453,
    "start_time": "2021-07-08T09:12:01.546Z"
   },
   {
    "duration": 440,
    "start_time": "2021-07-08T09:12:12.347Z"
   },
   {
    "duration": 213,
    "start_time": "2021-07-08T09:13:32.196Z"
   },
   {
    "duration": 172,
    "start_time": "2021-07-08T09:14:07.400Z"
   },
   {
    "duration": 185,
    "start_time": "2021-07-08T09:14:14.905Z"
   },
   {
    "duration": 209,
    "start_time": "2021-07-08T09:14:40.109Z"
   },
   {
    "duration": 201,
    "start_time": "2021-07-08T09:14:54.506Z"
   },
   {
    "duration": 622,
    "start_time": "2021-07-08T09:18:14.497Z"
   },
   {
    "duration": 220,
    "start_time": "2021-07-08T09:18:15.121Z"
   },
   {
    "duration": 79,
    "start_time": "2021-07-08T09:18:15.343Z"
   },
   {
    "duration": 4,
    "start_time": "2021-07-08T09:18:15.425Z"
   },
   {
    "duration": 24,
    "start_time": "2021-07-08T09:18:15.431Z"
   },
   {
    "duration": 8,
    "start_time": "2021-07-08T09:18:15.457Z"
   },
   {
    "duration": 16,
    "start_time": "2021-07-08T09:18:15.466Z"
   },
   {
    "duration": 5,
    "start_time": "2021-07-08T09:18:15.484Z"
   },
   {
    "duration": 10,
    "start_time": "2021-07-08T09:18:15.493Z"
   },
   {
    "duration": 8,
    "start_time": "2021-07-08T09:18:15.504Z"
   },
   {
    "duration": 7,
    "start_time": "2021-07-08T09:18:15.513Z"
   },
   {
    "duration": 26,
    "start_time": "2021-07-08T09:18:15.522Z"
   },
   {
    "duration": 49,
    "start_time": "2021-07-08T09:18:15.550Z"
   },
   {
    "duration": 21,
    "start_time": "2021-07-08T09:18:15.601Z"
   },
   {
    "duration": 8,
    "start_time": "2021-07-08T09:18:15.624Z"
   },
   {
    "duration": 3,
    "start_time": "2021-07-08T09:18:15.634Z"
   },
   {
    "duration": 8,
    "start_time": "2021-07-08T09:18:15.639Z"
   },
   {
    "duration": 45,
    "start_time": "2021-07-08T09:18:15.649Z"
   },
   {
    "duration": 13,
    "start_time": "2021-07-08T09:18:15.696Z"
   },
   {
    "duration": 10,
    "start_time": "2021-07-08T09:18:15.711Z"
   },
   {
    "duration": 64,
    "start_time": "2021-07-08T09:18:15.722Z"
   },
   {
    "duration": 19,
    "start_time": "2021-07-08T09:18:15.788Z"
   },
   {
    "duration": 9,
    "start_time": "2021-07-08T09:18:15.809Z"
   },
   {
    "duration": 9,
    "start_time": "2021-07-08T09:18:15.820Z"
   },
   {
    "duration": 18,
    "start_time": "2021-07-08T09:18:15.831Z"
   },
   {
    "duration": 43,
    "start_time": "2021-07-08T09:18:15.851Z"
   },
   {
    "duration": 12,
    "start_time": "2021-07-08T09:18:15.897Z"
   },
   {
    "duration": 219,
    "start_time": "2021-07-08T09:18:15.911Z"
   },
   {
    "duration": 8,
    "start_time": "2021-07-08T09:18:16.132Z"
   },
   {
    "duration": 199,
    "start_time": "2021-07-08T09:18:16.141Z"
   },
   {
    "duration": 18,
    "start_time": "2021-07-08T09:18:16.341Z"
   },
   {
    "duration": 24,
    "start_time": "2021-07-08T09:18:16.361Z"
   },
   {
    "duration": 24,
    "start_time": "2021-07-08T09:18:16.387Z"
   },
   {
    "duration": 211,
    "start_time": "2021-07-08T09:18:16.413Z"
   },
   {
    "duration": 18,
    "start_time": "2021-07-08T09:18:16.626Z"
   },
   {
    "duration": 596,
    "start_time": "2021-07-08T10:06:33.623Z"
   },
   {
    "duration": 181,
    "start_time": "2021-07-08T10:06:34.221Z"
   },
   {
    "duration": 176,
    "start_time": "2021-07-08T10:06:34.635Z"
   },
   {
    "duration": 239,
    "start_time": "2021-07-08T10:06:55.572Z"
   },
   {
    "duration": 6,
    "start_time": "2021-07-08T10:06:57.687Z"
   },
   {
    "duration": 4,
    "start_time": "2021-07-08T10:07:03.956Z"
   },
   {
    "duration": 4,
    "start_time": "2021-07-08T10:07:10.376Z"
   },
   {
    "duration": 4,
    "start_time": "2021-07-08T10:17:19.889Z"
   },
   {
    "duration": 3,
    "start_time": "2021-07-08T10:19:19.407Z"
   },
   {
    "duration": 197,
    "start_time": "2021-07-08T10:19:19.412Z"
   },
   {
    "duration": 127,
    "start_time": "2021-07-08T10:19:19.611Z"
   },
   {
    "duration": 4,
    "start_time": "2021-07-08T10:19:19.740Z"
   },
   {
    "duration": 27,
    "start_time": "2021-07-08T10:19:19.746Z"
   },
   {
    "duration": 7,
    "start_time": "2021-07-08T10:19:19.775Z"
   },
   {
    "duration": 30,
    "start_time": "2021-07-08T10:19:19.784Z"
   },
   {
    "duration": 7,
    "start_time": "2021-07-08T10:19:19.817Z"
   },
   {
    "duration": 26,
    "start_time": "2021-07-08T10:19:19.826Z"
   },
   {
    "duration": 18,
    "start_time": "2021-07-08T10:19:19.854Z"
   },
   {
    "duration": 14,
    "start_time": "2021-07-08T10:19:19.874Z"
   },
   {
    "duration": 48,
    "start_time": "2021-07-08T10:19:19.890Z"
   },
   {
    "duration": 17,
    "start_time": "2021-07-08T10:19:19.940Z"
   },
   {
    "duration": 38,
    "start_time": "2021-07-08T10:19:19.959Z"
   },
   {
    "duration": 8,
    "start_time": "2021-07-08T10:19:19.999Z"
   },
   {
    "duration": 15,
    "start_time": "2021-07-08T10:19:20.009Z"
   },
   {
    "duration": 22,
    "start_time": "2021-07-08T10:19:20.026Z"
   },
   {
    "duration": 10,
    "start_time": "2021-07-08T10:19:20.050Z"
   },
   {
    "duration": 10,
    "start_time": "2021-07-08T10:19:20.062Z"
   },
   {
    "duration": 20,
    "start_time": "2021-07-08T10:19:20.073Z"
   },
   {
    "duration": 29,
    "start_time": "2021-07-08T10:19:20.095Z"
   },
   {
    "duration": 17,
    "start_time": "2021-07-08T10:19:20.126Z"
   },
   {
    "duration": 40,
    "start_time": "2021-07-08T10:19:20.146Z"
   },
   {
    "duration": 15,
    "start_time": "2021-07-08T10:19:20.189Z"
   },
   {
    "duration": 19,
    "start_time": "2021-07-08T10:19:20.206Z"
   },
   {
    "duration": 10,
    "start_time": "2021-07-08T10:19:20.226Z"
   },
   {
    "duration": 11,
    "start_time": "2021-07-08T10:19:20.238Z"
   },
   {
    "duration": 297,
    "start_time": "2021-07-08T10:19:20.250Z"
   },
   {
    "duration": 6,
    "start_time": "2021-07-08T10:19:20.549Z"
   },
   {
    "duration": 191,
    "start_time": "2021-07-08T10:19:20.557Z"
   },
   {
    "duration": 19,
    "start_time": "2021-07-08T10:19:20.750Z"
   },
   {
    "duration": 20,
    "start_time": "2021-07-08T10:19:20.771Z"
   },
   {
    "duration": 15,
    "start_time": "2021-07-08T10:19:20.793Z"
   },
   {
    "duration": 222,
    "start_time": "2021-07-08T10:19:20.809Z"
   },
   {
    "duration": 20,
    "start_time": "2021-07-08T10:19:21.033Z"
   },
   {
    "duration": 27,
    "start_time": "2021-07-08T10:45:04.055Z"
   },
   {
    "duration": 8,
    "start_time": "2021-07-08T10:45:08.478Z"
   },
   {
    "duration": 8,
    "start_time": "2021-07-08T10:45:31.982Z"
   },
   {
    "duration": 10,
    "start_time": "2021-07-08T10:46:01.221Z"
   },
   {
    "duration": 17,
    "start_time": "2021-07-08T10:46:40.011Z"
   },
   {
    "duration": 193,
    "start_time": "2021-07-08T10:48:19.471Z"
   },
   {
    "duration": 225,
    "start_time": "2021-07-08T10:49:26.480Z"
   },
   {
    "duration": 204,
    "start_time": "2021-07-08T10:49:59.992Z"
   },
   {
    "duration": 435,
    "start_time": "2021-07-08T10:50:06.779Z"
   },
   {
    "duration": 199,
    "start_time": "2021-07-08T10:50:14.891Z"
   },
   {
    "duration": 204,
    "start_time": "2021-07-08T10:50:18.501Z"
   },
   {
    "duration": 244,
    "start_time": "2021-07-08T10:50:23.359Z"
   },
   {
    "duration": 192,
    "start_time": "2021-07-08T10:50:29.135Z"
   },
   {
    "duration": 218,
    "start_time": "2021-07-08T10:50:33.092Z"
   },
   {
    "duration": 207,
    "start_time": "2021-07-08T10:52:45.381Z"
   },
   {
    "duration": 5,
    "start_time": "2021-07-08T10:53:34.641Z"
   },
   {
    "duration": 196,
    "start_time": "2021-07-08T10:53:41.478Z"
   },
   {
    "duration": 43,
    "start_time": "2021-07-08T10:53:50.335Z"
   },
   {
    "duration": 32,
    "start_time": "2021-07-08T10:53:55.294Z"
   },
   {
    "duration": 55,
    "start_time": "2021-07-08T10:54:09.675Z"
   },
   {
    "duration": 16,
    "start_time": "2021-07-08T10:54:12.260Z"
   },
   {
    "duration": 15,
    "start_time": "2021-07-08T10:54:49.150Z"
   },
   {
    "duration": 20,
    "start_time": "2021-07-08T10:56:07.596Z"
   },
   {
    "duration": 16,
    "start_time": "2021-07-08T10:58:26.276Z"
   },
   {
    "duration": 22,
    "start_time": "2021-07-08T10:59:00.486Z"
   },
   {
    "duration": 18,
    "start_time": "2021-07-08T11:02:09.653Z"
   },
   {
    "duration": 10,
    "start_time": "2021-07-08T11:03:44.331Z"
   },
   {
    "duration": 10,
    "start_time": "2021-07-08T11:03:54.055Z"
   },
   {
    "duration": 12,
    "start_time": "2021-07-08T11:04:41.967Z"
   },
   {
    "duration": 24,
    "start_time": "2021-07-08T11:07:30.732Z"
   },
   {
    "duration": 6,
    "start_time": "2021-07-08T11:07:37.364Z"
   },
   {
    "duration": 16,
    "start_time": "2021-07-08T11:08:01.819Z"
   },
   {
    "duration": 17,
    "start_time": "2021-07-08T11:09:47.488Z"
   },
   {
    "duration": 246,
    "start_time": "2021-07-08T11:10:00.830Z"
   },
   {
    "duration": 18,
    "start_time": "2021-07-08T11:13:55.195Z"
   },
   {
    "duration": 204,
    "start_time": "2021-07-08T11:14:04.951Z"
   },
   {
    "duration": 19,
    "start_time": "2021-07-08T11:15:10.613Z"
   },
   {
    "duration": 680,
    "start_time": "2021-07-08T11:16:25.793Z"
   },
   {
    "duration": 451,
    "start_time": "2021-07-08T11:16:40.313Z"
   },
   {
    "duration": 469,
    "start_time": "2021-07-08T11:17:21.286Z"
   },
   {
    "duration": 20,
    "start_time": "2021-07-08T11:19:12.554Z"
   },
   {
    "duration": 35,
    "start_time": "2021-07-08T11:20:05.484Z"
   },
   {
    "duration": 53,
    "start_time": "2021-07-08T11:21:40.050Z"
   },
   {
    "duration": 13,
    "start_time": "2021-07-08T11:22:26.059Z"
   },
   {
    "duration": 19,
    "start_time": "2021-07-08T11:22:47.419Z"
   },
   {
    "duration": 25,
    "start_time": "2021-07-08T11:23:19.958Z"
   },
   {
    "duration": 29,
    "start_time": "2021-07-08T11:23:25.415Z"
   },
   {
    "duration": 10,
    "start_time": "2021-07-08T11:24:45.138Z"
   },
   {
    "duration": 19,
    "start_time": "2021-07-08T11:24:54.498Z"
   },
   {
    "duration": 12,
    "start_time": "2021-07-08T11:25:32.225Z"
   },
   {
    "duration": 19,
    "start_time": "2021-07-08T11:25:37.092Z"
   },
   {
    "duration": 17,
    "start_time": "2021-07-08T11:25:58.116Z"
   },
   {
    "duration": 15,
    "start_time": "2021-07-08T11:26:02.258Z"
   },
   {
    "duration": 8,
    "start_time": "2021-07-08T11:26:59.682Z"
   },
   {
    "duration": 184,
    "start_time": "2021-07-08T11:27:21.894Z"
   },
   {
    "duration": 8,
    "start_time": "2021-07-08T11:27:23.824Z"
   },
   {
    "duration": 202,
    "start_time": "2021-07-08T11:27:23.962Z"
   },
   {
    "duration": 360,
    "start_time": "2021-07-08T11:28:33.215Z"
   },
   {
    "duration": 231,
    "start_time": "2021-07-08T11:32:05.542Z"
   },
   {
    "duration": 607,
    "start_time": "2021-07-08T11:36:27.854Z"
   },
   {
    "duration": 241,
    "start_time": "2021-07-08T11:36:28.463Z"
   },
   {
    "duration": 67,
    "start_time": "2021-07-08T11:36:28.709Z"
   },
   {
    "duration": 5,
    "start_time": "2021-07-08T11:36:28.778Z"
   },
   {
    "duration": 32,
    "start_time": "2021-07-08T11:36:28.784Z"
   },
   {
    "duration": 11,
    "start_time": "2021-07-08T11:36:28.819Z"
   },
   {
    "duration": 20,
    "start_time": "2021-07-08T11:36:28.834Z"
   },
   {
    "duration": 36,
    "start_time": "2021-07-08T11:36:28.857Z"
   },
   {
    "duration": 16,
    "start_time": "2021-07-08T11:36:28.895Z"
   },
   {
    "duration": 14,
    "start_time": "2021-07-08T11:36:28.913Z"
   },
   {
    "duration": 9,
    "start_time": "2021-07-08T11:36:28.930Z"
   },
   {
    "duration": 55,
    "start_time": "2021-07-08T11:36:28.941Z"
   },
   {
    "duration": 27,
    "start_time": "2021-07-08T11:36:28.999Z"
   },
   {
    "duration": 30,
    "start_time": "2021-07-08T11:36:29.028Z"
   },
   {
    "duration": 31,
    "start_time": "2021-07-08T11:36:29.060Z"
   },
   {
    "duration": 3,
    "start_time": "2021-07-08T11:36:29.093Z"
   },
   {
    "duration": 12,
    "start_time": "2021-07-08T11:36:29.099Z"
   },
   {
    "duration": 11,
    "start_time": "2021-07-08T11:36:29.112Z"
   },
   {
    "duration": 12,
    "start_time": "2021-07-08T11:36:29.125Z"
   },
   {
    "duration": 9,
    "start_time": "2021-07-08T11:36:29.139Z"
   },
   {
    "duration": 31,
    "start_time": "2021-07-08T11:36:29.191Z"
   },
   {
    "duration": 17,
    "start_time": "2021-07-08T11:36:29.226Z"
   },
   {
    "duration": 7,
    "start_time": "2021-07-08T11:36:29.245Z"
   },
   {
    "duration": 10,
    "start_time": "2021-07-08T11:36:29.254Z"
   },
   {
    "duration": 30,
    "start_time": "2021-07-08T11:36:29.292Z"
   },
   {
    "duration": 11,
    "start_time": "2021-07-08T11:36:29.324Z"
   },
   {
    "duration": 11,
    "start_time": "2021-07-08T11:36:29.337Z"
   },
   {
    "duration": 230,
    "start_time": "2021-07-08T11:36:29.349Z"
   },
   {
    "duration": 13,
    "start_time": "2021-07-08T11:36:29.588Z"
   },
   {
    "duration": 205,
    "start_time": "2021-07-08T11:36:29.603Z"
   },
   {
    "duration": 20,
    "start_time": "2021-07-08T11:36:29.810Z"
   },
   {
    "duration": 9,
    "start_time": "2021-07-08T11:36:29.832Z"
   },
   {
    "duration": 16,
    "start_time": "2021-07-08T11:36:29.843Z"
   },
   {
    "duration": 283,
    "start_time": "2021-07-08T11:36:29.861Z"
   },
   {
    "duration": 50,
    "start_time": "2021-07-08T11:36:30.146Z"
   },
   {
    "duration": 14,
    "start_time": "2021-07-08T11:36:30.198Z"
   },
   {
    "duration": 11,
    "start_time": "2021-07-08T11:36:30.214Z"
   },
   {
    "duration": 245,
    "start_time": "2021-07-08T11:36:30.227Z"
   },
   {
    "duration": 439,
    "start_time": "2021-07-08T11:36:30.474Z"
   },
   {
    "duration": 210,
    "start_time": "2021-07-08T11:36:30.915Z"
   },
   {
    "duration": 15,
    "start_time": "2021-07-08T11:36:31.127Z"
   },
   {
    "duration": 17,
    "start_time": "2021-07-08T11:38:20.451Z"
   },
   {
    "duration": 642,
    "start_time": "2021-07-08T11:46:17.881Z"
   },
   {
    "duration": 210,
    "start_time": "2021-07-08T11:46:18.525Z"
   },
   {
    "duration": 104,
    "start_time": "2021-07-08T11:46:18.741Z"
   },
   {
    "duration": 8,
    "start_time": "2021-07-08T11:46:18.847Z"
   },
   {
    "duration": 25,
    "start_time": "2021-07-08T11:46:18.857Z"
   },
   {
    "duration": 14,
    "start_time": "2021-07-08T11:46:18.884Z"
   },
   {
    "duration": 22,
    "start_time": "2021-07-08T11:46:18.900Z"
   },
   {
    "duration": 5,
    "start_time": "2021-07-08T11:46:18.924Z"
   },
   {
    "duration": 13,
    "start_time": "2021-07-08T11:46:18.931Z"
   },
   {
    "duration": 45,
    "start_time": "2021-07-08T11:46:18.946Z"
   },
   {
    "duration": 12,
    "start_time": "2021-07-08T11:46:18.993Z"
   },
   {
    "duration": 38,
    "start_time": "2021-07-08T11:46:19.006Z"
   },
   {
    "duration": 50,
    "start_time": "2021-07-08T11:46:19.046Z"
   },
   {
    "duration": 29,
    "start_time": "2021-07-08T11:46:19.099Z"
   },
   {
    "duration": 7,
    "start_time": "2021-07-08T11:46:19.130Z"
   },
   {
    "duration": 3,
    "start_time": "2021-07-08T11:46:19.139Z"
   },
   {
    "duration": 11,
    "start_time": "2021-07-08T11:46:19.144Z"
   },
   {
    "duration": 40,
    "start_time": "2021-07-08T11:46:19.157Z"
   },
   {
    "duration": 15,
    "start_time": "2021-07-08T11:46:19.199Z"
   },
   {
    "duration": 10,
    "start_time": "2021-07-08T11:46:19.217Z"
   },
   {
    "duration": 68,
    "start_time": "2021-07-08T11:46:19.230Z"
   },
   {
    "duration": 17,
    "start_time": "2021-07-08T11:46:19.301Z"
   },
   {
    "duration": 7,
    "start_time": "2021-07-08T11:46:19.321Z"
   },
   {
    "duration": 11,
    "start_time": "2021-07-08T11:46:19.330Z"
   },
   {
    "duration": 59,
    "start_time": "2021-07-08T11:46:19.343Z"
   },
   {
    "duration": 17,
    "start_time": "2021-07-08T11:46:19.405Z"
   },
   {
    "duration": 16,
    "start_time": "2021-07-08T11:46:19.424Z"
   },
   {
    "duration": 252,
    "start_time": "2021-07-08T11:46:19.443Z"
   },
   {
    "duration": 9,
    "start_time": "2021-07-08T11:46:19.697Z"
   },
   {
    "duration": 224,
    "start_time": "2021-07-08T11:46:19.708Z"
   },
   {
    "duration": 21,
    "start_time": "2021-07-08T11:46:19.934Z"
   },
   {
    "duration": 9,
    "start_time": "2021-07-08T11:46:19.956Z"
   },
   {
    "duration": 32,
    "start_time": "2021-07-08T11:46:19.967Z"
   },
   {
    "duration": 288,
    "start_time": "2021-07-08T11:46:20.004Z"
   },
   {
    "duration": 23,
    "start_time": "2021-07-08T11:46:20.300Z"
   },
   {
    "duration": 11,
    "start_time": "2021-07-08T11:46:20.325Z"
   },
   {
    "duration": 11,
    "start_time": "2021-07-08T11:46:20.339Z"
   },
   {
    "duration": 259,
    "start_time": "2021-07-08T11:46:20.352Z"
   },
   {
    "duration": 438,
    "start_time": "2021-07-08T11:46:20.613Z"
   },
   {
    "duration": 207,
    "start_time": "2021-07-08T11:46:21.054Z"
   },
   {
    "duration": 27,
    "start_time": "2021-07-08T11:46:21.262Z"
   },
   {
    "duration": 19,
    "start_time": "2021-07-08T11:46:21.291Z"
   },
   {
    "duration": 820,
    "start_time": "2021-07-08T11:49:01.655Z"
   },
   {
    "duration": 372,
    "start_time": "2021-07-08T11:49:02.478Z"
   },
   {
    "duration": 98,
    "start_time": "2021-07-08T11:49:02.853Z"
   },
   {
    "duration": 6,
    "start_time": "2021-07-08T11:49:02.953Z"
   },
   {
    "duration": 39,
    "start_time": "2021-07-08T11:49:02.960Z"
   },
   {
    "duration": 9,
    "start_time": "2021-07-08T11:49:03.003Z"
   },
   {
    "duration": 23,
    "start_time": "2021-07-08T11:49:03.014Z"
   },
   {
    "duration": 6,
    "start_time": "2021-07-08T11:49:03.041Z"
   },
   {
    "duration": 20,
    "start_time": "2021-07-08T11:49:03.049Z"
   },
   {
    "duration": 18,
    "start_time": "2021-07-08T11:49:03.084Z"
   },
   {
    "duration": 14,
    "start_time": "2021-07-08T11:49:03.104Z"
   },
   {
    "duration": 39,
    "start_time": "2021-07-08T11:49:03.119Z"
   },
   {
    "duration": 38,
    "start_time": "2021-07-08T11:49:03.160Z"
   },
   {
    "duration": 26,
    "start_time": "2021-07-08T11:49:03.200Z"
   },
   {
    "duration": 7,
    "start_time": "2021-07-08T11:49:03.227Z"
   },
   {
    "duration": 4,
    "start_time": "2021-07-08T11:49:03.236Z"
   },
   {
    "duration": 15,
    "start_time": "2021-07-08T11:49:03.243Z"
   },
   {
    "duration": 21,
    "start_time": "2021-07-08T11:49:03.285Z"
   },
   {
    "duration": 17,
    "start_time": "2021-07-08T11:49:03.309Z"
   },
   {
    "duration": 10,
    "start_time": "2021-07-08T11:49:03.328Z"
   },
   {
    "duration": 65,
    "start_time": "2021-07-08T11:49:03.340Z"
   },
   {
    "duration": 18,
    "start_time": "2021-07-08T11:49:03.407Z"
   },
   {
    "duration": 8,
    "start_time": "2021-07-08T11:49:03.428Z"
   },
   {
    "duration": 15,
    "start_time": "2021-07-08T11:49:03.438Z"
   },
   {
    "duration": 40,
    "start_time": "2021-07-08T11:49:03.455Z"
   },
   {
    "duration": 12,
    "start_time": "2021-07-08T11:49:03.497Z"
   },
   {
    "duration": 29,
    "start_time": "2021-07-08T11:49:03.511Z"
   },
   {
    "duration": 285,
    "start_time": "2021-07-08T11:49:03.542Z"
   },
   {
    "duration": 8,
    "start_time": "2021-07-08T11:49:03.829Z"
   },
   {
    "duration": 227,
    "start_time": "2021-07-08T11:49:03.838Z"
   },
   {
    "duration": 40,
    "start_time": "2021-07-08T11:49:04.066Z"
   },
   {
    "duration": 10,
    "start_time": "2021-07-08T11:49:04.108Z"
   },
   {
    "duration": 26,
    "start_time": "2021-07-08T11:49:04.121Z"
   },
   {
    "duration": 290,
    "start_time": "2021-07-08T11:49:04.149Z"
   },
   {
    "duration": 26,
    "start_time": "2021-07-08T11:49:04.441Z"
   },
   {
    "duration": 31,
    "start_time": "2021-07-08T11:49:04.470Z"
   },
   {
    "duration": 14,
    "start_time": "2021-07-08T11:49:04.503Z"
   },
   {
    "duration": 259,
    "start_time": "2021-07-08T11:49:04.521Z"
   },
   {
    "duration": 480,
    "start_time": "2021-07-08T11:49:04.782Z"
   },
   {
    "duration": 225,
    "start_time": "2021-07-08T11:49:05.264Z"
   },
   {
    "duration": 22,
    "start_time": "2021-07-08T11:49:05.491Z"
   },
   {
    "duration": 24,
    "start_time": "2021-07-08T11:49:05.515Z"
   },
   {
    "duration": 634,
    "start_time": "2021-07-08T11:52:24.960Z"
   },
   {
    "duration": 199,
    "start_time": "2021-07-08T11:52:25.599Z"
   },
   {
    "duration": 106,
    "start_time": "2021-07-08T11:52:25.803Z"
   },
   {
    "duration": 7,
    "start_time": "2021-07-08T11:52:25.911Z"
   },
   {
    "duration": 29,
    "start_time": "2021-07-08T11:52:25.920Z"
   },
   {
    "duration": 7,
    "start_time": "2021-07-08T11:52:25.951Z"
   },
   {
    "duration": 26,
    "start_time": "2021-07-08T11:52:25.961Z"
   },
   {
    "duration": 11,
    "start_time": "2021-07-08T11:52:25.990Z"
   },
   {
    "duration": 29,
    "start_time": "2021-07-08T11:52:26.005Z"
   },
   {
    "duration": 9,
    "start_time": "2021-07-08T11:52:26.036Z"
   },
   {
    "duration": 8,
    "start_time": "2021-07-08T11:52:26.047Z"
   },
   {
    "duration": 63,
    "start_time": "2021-07-08T11:52:26.057Z"
   },
   {
    "duration": 17,
    "start_time": "2021-07-08T11:52:26.122Z"
   },
   {
    "duration": 43,
    "start_time": "2021-07-08T11:52:26.142Z"
   },
   {
    "duration": 17,
    "start_time": "2021-07-08T11:52:26.187Z"
   },
   {
    "duration": 5,
    "start_time": "2021-07-08T11:52:26.206Z"
   },
   {
    "duration": 12,
    "start_time": "2021-07-08T11:52:26.212Z"
   },
   {
    "duration": 11,
    "start_time": "2021-07-08T11:52:26.226Z"
   },
   {
    "duration": 12,
    "start_time": "2021-07-08T11:52:26.238Z"
   },
   {
    "duration": 38,
    "start_time": "2021-07-08T11:52:26.252Z"
   },
   {
    "duration": 40,
    "start_time": "2021-07-08T11:52:26.292Z"
   },
   {
    "duration": 17,
    "start_time": "2021-07-08T11:52:26.336Z"
   },
   {
    "duration": 39,
    "start_time": "2021-07-08T11:52:26.355Z"
   },
   {
    "duration": 11,
    "start_time": "2021-07-08T11:52:26.395Z"
   },
   {
    "duration": 23,
    "start_time": "2021-07-08T11:52:26.408Z"
   },
   {
    "duration": 12,
    "start_time": "2021-07-08T11:52:26.432Z"
   },
   {
    "duration": 41,
    "start_time": "2021-07-08T11:52:26.446Z"
   },
   {
    "duration": 215,
    "start_time": "2021-07-08T11:52:26.493Z"
   },
   {
    "duration": 8,
    "start_time": "2021-07-08T11:52:26.710Z"
   },
   {
    "duration": 228,
    "start_time": "2021-07-08T11:52:26.720Z"
   },
   {
    "duration": 18,
    "start_time": "2021-07-08T11:52:26.950Z"
   },
   {
    "duration": 35,
    "start_time": "2021-07-08T11:52:26.969Z"
   },
   {
    "duration": 23,
    "start_time": "2021-07-08T11:52:27.006Z"
   },
   {
    "duration": 258,
    "start_time": "2021-07-08T11:52:27.030Z"
   },
   {
    "duration": 24,
    "start_time": "2021-07-08T11:52:27.290Z"
   },
   {
    "duration": 12,
    "start_time": "2021-07-08T11:52:27.316Z"
   },
   {
    "duration": 10,
    "start_time": "2021-07-08T11:52:27.329Z"
   },
   {
    "duration": 298,
    "start_time": "2021-07-08T11:52:27.341Z"
   },
   {
    "duration": 436,
    "start_time": "2021-07-08T11:52:27.641Z"
   },
   {
    "duration": 216,
    "start_time": "2021-07-08T11:52:28.079Z"
   },
   {
    "duration": 20,
    "start_time": "2021-07-08T11:52:28.297Z"
   },
   {
    "duration": 17,
    "start_time": "2021-07-08T11:52:28.319Z"
   },
   {
    "duration": 675,
    "start_time": "2022-06-27T12:29:51.418Z"
   },
   {
    "duration": 101,
    "start_time": "2022-06-27T12:30:08.237Z"
   },
   {
    "duration": 147,
    "start_time": "2022-06-27T12:32:26.129Z"
   },
   {
    "duration": 57,
    "start_time": "2022-06-27T12:33:15.249Z"
   },
   {
    "duration": 139,
    "start_time": "2022-06-27T12:33:46.300Z"
   },
   {
    "duration": 107,
    "start_time": "2022-06-27T12:33:56.070Z"
   },
   {
    "duration": 64,
    "start_time": "2022-06-27T12:38:41.894Z"
   },
   {
    "duration": 56,
    "start_time": "2022-06-27T12:39:05.794Z"
   },
   {
    "duration": 520,
    "start_time": "2022-06-27T12:43:18.283Z"
   },
   {
    "duration": 94,
    "start_time": "2022-06-27T12:43:57.254Z"
   },
   {
    "duration": 924,
    "start_time": "2022-06-27T12:47:48.082Z"
   },
   {
    "duration": 476,
    "start_time": "2022-06-27T12:49:42.612Z"
   },
   {
    "duration": 571,
    "start_time": "2022-06-27T12:55:22.720Z"
   },
   {
    "duration": 89,
    "start_time": "2022-06-27T12:56:31.755Z"
   },
   {
    "duration": 88,
    "start_time": "2022-06-27T12:57:05.121Z"
   },
   {
    "duration": 80,
    "start_time": "2022-06-27T12:57:26.304Z"
   },
   {
    "duration": 85,
    "start_time": "2022-06-27T12:58:08.263Z"
   },
   {
    "duration": 83,
    "start_time": "2022-06-27T12:58:16.261Z"
   },
   {
    "duration": 84,
    "start_time": "2022-06-27T12:59:18.592Z"
   },
   {
    "duration": 97,
    "start_time": "2022-06-27T12:59:32.450Z"
   },
   {
    "duration": 83,
    "start_time": "2022-06-27T12:59:54.969Z"
   },
   {
    "duration": 92,
    "start_time": "2022-06-27T13:00:08.157Z"
   },
   {
    "duration": 93,
    "start_time": "2022-06-27T13:07:33.594Z"
   },
   {
    "duration": 86,
    "start_time": "2022-06-27T13:09:21.637Z"
   },
   {
    "duration": 80,
    "start_time": "2022-06-27T13:10:54.281Z"
   },
   {
    "duration": 90,
    "start_time": "2022-06-27T13:11:42.398Z"
   },
   {
    "duration": 92,
    "start_time": "2022-06-27T13:12:54.796Z"
   },
   {
    "duration": 89,
    "start_time": "2022-06-27T13:15:25.451Z"
   },
   {
    "duration": 102,
    "start_time": "2022-06-27T13:17:32.188Z"
   },
   {
    "duration": 19,
    "start_time": "2022-06-27T13:19:58.192Z"
   },
   {
    "duration": 22,
    "start_time": "2022-06-27T13:20:14.438Z"
   },
   {
    "duration": 24,
    "start_time": "2022-06-27T13:20:48.851Z"
   },
   {
    "duration": 20,
    "start_time": "2022-06-27T13:21:08.984Z"
   },
   {
    "duration": 21,
    "start_time": "2022-06-27T13:21:22.132Z"
   },
   {
    "duration": 22,
    "start_time": "2022-06-27T13:22:20.050Z"
   },
   {
    "duration": 53,
    "start_time": "2022-06-27T16:21:59.954Z"
   },
   {
    "duration": 734,
    "start_time": "2022-06-27T16:22:07.074Z"
   },
   {
    "duration": 100,
    "start_time": "2022-06-27T16:22:08.257Z"
   },
   {
    "duration": 23,
    "start_time": "2022-06-27T16:22:09.324Z"
   },
   {
    "duration": 26,
    "start_time": "2022-06-27T16:22:12.161Z"
   },
   {
    "duration": 23,
    "start_time": "2022-06-27T16:29:44.817Z"
   },
   {
    "duration": 28,
    "start_time": "2022-06-27T16:30:18.088Z"
   },
   {
    "duration": 73,
    "start_time": "2022-06-27T16:30:47.450Z"
   },
   {
    "duration": 664,
    "start_time": "2022-06-27T16:31:03.210Z"
   },
   {
    "duration": 36,
    "start_time": "2022-06-27T16:31:14.014Z"
   },
   {
    "duration": 24,
    "start_time": "2022-06-27T16:31:42.769Z"
   },
   {
    "duration": 32,
    "start_time": "2022-06-27T16:33:18.051Z"
   },
   {
    "duration": 11,
    "start_time": "2022-06-27T16:34:37.178Z"
   },
   {
    "duration": 27,
    "start_time": "2022-06-27T16:36:16.092Z"
   },
   {
    "duration": 13,
    "start_time": "2022-06-27T16:36:25.944Z"
   },
   {
    "duration": 22,
    "start_time": "2022-06-27T16:36:43.305Z"
   },
   {
    "duration": 647,
    "start_time": "2022-06-28T09:22:10.898Z"
   },
   {
    "duration": 42,
    "start_time": "2022-06-28T09:22:11.549Z"
   },
   {
    "duration": 23,
    "start_time": "2022-06-28T09:22:11.834Z"
   },
   {
    "duration": 20,
    "start_time": "2022-06-28T09:22:13.590Z"
   },
   {
    "duration": 7,
    "start_time": "2022-06-28T09:22:14.445Z"
   },
   {
    "duration": 26,
    "start_time": "2022-06-28T09:22:18.059Z"
   },
   {
    "duration": 33,
    "start_time": "2022-06-28T09:23:44.125Z"
   },
   {
    "duration": 15,
    "start_time": "2022-06-28T09:24:01.157Z"
   },
   {
    "duration": 6,
    "start_time": "2022-06-28T09:24:58.978Z"
   },
   {
    "duration": 5,
    "start_time": "2022-06-28T09:25:28.404Z"
   },
   {
    "duration": 5,
    "start_time": "2022-06-28T09:25:39.559Z"
   },
   {
    "duration": 5,
    "start_time": "2022-06-28T09:25:57.500Z"
   },
   {
    "duration": 7,
    "start_time": "2022-06-28T09:26:20.570Z"
   },
   {
    "duration": 8,
    "start_time": "2022-06-28T09:27:04.987Z"
   },
   {
    "duration": 8,
    "start_time": "2022-06-28T09:28:16.609Z"
   },
   {
    "duration": 20,
    "start_time": "2022-06-28T09:28:58.192Z"
   },
   {
    "duration": 17,
    "start_time": "2022-06-28T09:32:01.264Z"
   },
   {
    "duration": 22,
    "start_time": "2022-06-28T09:32:50.329Z"
   },
   {
    "duration": 15,
    "start_time": "2022-06-28T09:33:22.344Z"
   },
   {
    "duration": 21,
    "start_time": "2022-06-28T09:33:47.705Z"
   },
   {
    "duration": 6,
    "start_time": "2022-06-28T09:35:24.968Z"
   },
   {
    "duration": 7,
    "start_time": "2022-06-28T09:36:47.164Z"
   },
   {
    "duration": 999,
    "start_time": "2022-06-28T09:39:39.811Z"
   },
   {
    "duration": 22,
    "start_time": "2022-06-28T09:39:55.523Z"
   },
   {
    "duration": 473,
    "start_time": "2022-06-28T09:40:24.384Z"
   },
   {
    "duration": 444,
    "start_time": "2022-06-28T09:40:36.832Z"
   },
   {
    "duration": 114,
    "start_time": "2022-06-28T09:42:21.297Z"
   },
   {
    "duration": 30,
    "start_time": "2022-06-28T09:42:21.413Z"
   },
   {
    "duration": 32,
    "start_time": "2022-06-28T09:42:21.445Z"
   },
   {
    "duration": 20,
    "start_time": "2022-06-28T09:42:21.481Z"
   },
   {
    "duration": 34,
    "start_time": "2022-06-28T09:42:21.503Z"
   },
   {
    "duration": 50,
    "start_time": "2022-06-28T09:42:21.539Z"
   },
   {
    "duration": 475,
    "start_time": "2022-06-28T09:42:21.591Z"
   },
   {
    "duration": 6,
    "start_time": "2022-06-28T09:42:22.067Z"
   },
   {
    "duration": 16,
    "start_time": "2022-06-28T09:42:22.075Z"
   },
   {
    "duration": 34,
    "start_time": "2022-06-28T09:42:22.093Z"
   },
   {
    "duration": 7,
    "start_time": "2022-06-28T09:44:24.336Z"
   },
   {
    "duration": 6,
    "start_time": "2022-06-28T09:46:32.365Z"
   },
   {
    "duration": 108,
    "start_time": "2022-06-28T09:46:49.314Z"
   },
   {
    "duration": 12,
    "start_time": "2022-06-28T09:47:01.701Z"
   },
   {
    "duration": 24,
    "start_time": "2022-06-28T09:48:01.384Z"
   },
   {
    "duration": 20,
    "start_time": "2022-06-28T09:49:21.854Z"
   },
   {
    "duration": 22,
    "start_time": "2022-06-28T09:59:01.267Z"
   },
   {
    "duration": 10,
    "start_time": "2022-06-28T09:59:24.711Z"
   },
   {
    "duration": 11,
    "start_time": "2022-06-28T10:00:01.791Z"
   },
   {
    "duration": 8,
    "start_time": "2022-06-28T10:00:35.769Z"
   },
   {
    "duration": 9,
    "start_time": "2022-06-28T10:01:17.624Z"
   },
   {
    "duration": 8,
    "start_time": "2022-06-28T10:01:27.337Z"
   },
   {
    "duration": 570,
    "start_time": "2022-06-28T10:02:32.250Z"
   },
   {
    "duration": 4,
    "start_time": "2022-06-28T10:02:40.694Z"
   },
   {
    "duration": 8,
    "start_time": "2022-06-28T10:02:49.547Z"
   },
   {
    "duration": 8,
    "start_time": "2022-06-28T10:03:02.134Z"
   },
   {
    "duration": 683,
    "start_time": "2022-06-28T10:03:10.884Z"
   },
   {
    "duration": 24,
    "start_time": "2022-06-28T10:06:19.086Z"
   },
   {
    "duration": 32,
    "start_time": "2022-06-28T10:06:40.741Z"
   },
   {
    "duration": 43,
    "start_time": "2022-06-28T10:07:11.417Z"
   },
   {
    "duration": 12,
    "start_time": "2022-06-28T10:59:00.223Z"
   },
   {
    "duration": 6,
    "start_time": "2022-06-28T10:59:34.569Z"
   },
   {
    "duration": 8,
    "start_time": "2022-06-28T10:59:57.981Z"
   },
   {
    "duration": 14,
    "start_time": "2022-06-28T11:00:07.250Z"
   },
   {
    "duration": 11,
    "start_time": "2022-06-28T11:00:38.485Z"
   },
   {
    "duration": 26,
    "start_time": "2022-06-28T11:01:10.851Z"
   },
   {
    "duration": 11,
    "start_time": "2022-06-28T11:08:07.508Z"
   },
   {
    "duration": 9,
    "start_time": "2022-06-28T11:09:52.977Z"
   },
   {
    "duration": 26,
    "start_time": "2022-06-28T11:10:03.362Z"
   },
   {
    "duration": 100,
    "start_time": "2022-06-28T12:14:39.122Z"
   },
   {
    "duration": 31,
    "start_time": "2022-06-28T12:14:41.386Z"
   },
   {
    "duration": 23,
    "start_time": "2022-06-28T12:14:45.611Z"
   },
   {
    "duration": 16,
    "start_time": "2022-06-28T12:14:54.053Z"
   },
   {
    "duration": 7,
    "start_time": "2022-06-28T12:14:54.757Z"
   },
   {
    "duration": 15,
    "start_time": "2022-06-28T12:14:56.357Z"
   },
   {
    "duration": 471,
    "start_time": "2022-06-28T12:14:57.310Z"
   },
   {
    "duration": 5,
    "start_time": "2022-06-28T12:14:58.681Z"
   },
   {
    "duration": 10,
    "start_time": "2022-06-28T12:14:59.708Z"
   },
   {
    "duration": 9,
    "start_time": "2022-06-28T12:15:00.784Z"
   },
   {
    "duration": 5,
    "start_time": "2022-06-28T12:15:04.517Z"
   },
   {
    "duration": 7,
    "start_time": "2022-06-28T12:24:59.066Z"
   },
   {
    "duration": 18,
    "start_time": "2022-06-28T12:25:14.735Z"
   },
   {
    "duration": 1300,
    "start_time": "2022-06-28T12:26:36.773Z"
   },
   {
    "duration": 5,
    "start_time": "2022-06-28T12:26:53.957Z"
   },
   {
    "duration": 7,
    "start_time": "2022-06-28T12:28:25.339Z"
   },
   {
    "duration": 689,
    "start_time": "2022-06-28T14:36:57.416Z"
   },
   {
    "duration": 90,
    "start_time": "2022-06-28T14:36:58.107Z"
   },
   {
    "duration": 22,
    "start_time": "2022-06-28T14:36:58.199Z"
   },
   {
    "duration": 29,
    "start_time": "2022-06-28T14:36:59.983Z"
   },
   {
    "duration": 8,
    "start_time": "2022-06-28T14:37:00.766Z"
   },
   {
    "duration": 14,
    "start_time": "2022-06-28T14:37:03.339Z"
   },
   {
    "duration": 1414,
    "start_time": "2022-06-28T14:37:06.931Z"
   },
   {
    "duration": 5,
    "start_time": "2022-06-28T14:37:08.347Z"
   },
   {
    "duration": 9,
    "start_time": "2022-06-28T14:37:09.591Z"
   },
   {
    "duration": 11,
    "start_time": "2022-06-28T14:37:16.834Z"
   },
   {
    "duration": 6,
    "start_time": "2022-06-28T14:37:18.340Z"
   },
   {
    "duration": 6,
    "start_time": "2022-06-28T14:38:50.293Z"
   },
   {
    "duration": 16,
    "start_time": "2022-06-28T14:38:51.484Z"
   },
   {
    "duration": 7,
    "start_time": "2022-06-28T14:41:46.662Z"
   },
   {
    "duration": 16,
    "start_time": "2022-06-28T14:42:15.084Z"
   },
   {
    "duration": 5,
    "start_time": "2022-06-28T14:43:44.161Z"
   },
   {
    "duration": 5,
    "start_time": "2022-06-28T14:44:41.602Z"
   },
   {
    "duration": 16,
    "start_time": "2022-06-28T14:45:31.005Z"
   },
   {
    "duration": 101,
    "start_time": "2022-06-28T14:48:52.234Z"
   },
   {
    "duration": 92,
    "start_time": "2022-06-28T14:49:19.487Z"
   },
   {
    "duration": 83,
    "start_time": "2022-06-28T14:49:36.618Z"
   },
   {
    "duration": 154,
    "start_time": "2022-06-28T14:53:44.314Z"
   },
   {
    "duration": 82,
    "start_time": "2022-06-28T14:55:54.554Z"
   },
   {
    "duration": 82,
    "start_time": "2022-06-28T14:58:00.612Z"
   },
   {
    "duration": 129,
    "start_time": "2022-06-28T14:58:10.224Z"
   },
   {
    "duration": 4,
    "start_time": "2022-06-28T14:59:12.815Z"
   },
   {
    "duration": 8,
    "start_time": "2022-06-28T14:59:24.967Z"
   },
   {
    "duration": 89,
    "start_time": "2022-06-28T15:01:48.576Z"
   },
   {
    "duration": 8,
    "start_time": "2022-06-28T15:01:57.325Z"
   },
   {
    "duration": 7,
    "start_time": "2022-06-28T15:02:22.776Z"
   },
   {
    "duration": 1462,
    "start_time": "2022-06-28T15:03:57.783Z"
   },
   {
    "duration": 24,
    "start_time": "2022-06-28T15:04:19.776Z"
   },
   {
    "duration": 107,
    "start_time": "2022-06-28T15:05:46.300Z"
   },
   {
    "duration": 41,
    "start_time": "2022-06-28T15:05:47.171Z"
   },
   {
    "duration": 23,
    "start_time": "2022-06-28T15:05:47.805Z"
   },
   {
    "duration": 23,
    "start_time": "2022-06-28T15:05:50.567Z"
   },
   {
    "duration": 11,
    "start_time": "2022-06-28T15:05:51.523Z"
   },
   {
    "duration": 15,
    "start_time": "2022-06-28T15:05:56.256Z"
   },
   {
    "duration": 562,
    "start_time": "2022-06-28T15:05:57.509Z"
   },
   {
    "duration": 7,
    "start_time": "2022-06-28T15:06:00.025Z"
   },
   {
    "duration": 725,
    "start_time": "2022-06-29T07:44:20.740Z"
   },
   {
    "duration": 38,
    "start_time": "2022-06-29T07:44:21.468Z"
   },
   {
    "duration": 24,
    "start_time": "2022-06-29T07:44:21.508Z"
   },
   {
    "duration": 21,
    "start_time": "2022-06-29T07:44:21.623Z"
   },
   {
    "duration": 9,
    "start_time": "2022-06-29T07:44:21.647Z"
   },
   {
    "duration": 17,
    "start_time": "2022-06-29T07:44:21.839Z"
   },
   {
    "duration": 1438,
    "start_time": "2022-06-29T07:44:22.076Z"
   },
   {
    "duration": 12,
    "start_time": "2022-06-29T07:44:23.516Z"
   },
   {
    "duration": 15,
    "start_time": "2022-06-29T07:44:23.530Z"
   },
   {
    "duration": 12,
    "start_time": "2022-06-29T07:44:23.547Z"
   },
   {
    "duration": 5,
    "start_time": "2022-06-29T07:44:23.561Z"
   },
   {
    "duration": 9,
    "start_time": "2022-06-29T07:44:23.567Z"
   },
   {
    "duration": 15,
    "start_time": "2022-06-29T07:44:23.604Z"
   },
   {
    "duration": 24,
    "start_time": "2022-06-29T07:44:24.393Z"
   },
   {
    "duration": 7,
    "start_time": "2022-06-29T07:45:34.185Z"
   },
   {
    "duration": 6,
    "start_time": "2022-06-29T07:45:51.857Z"
   },
   {
    "duration": 6,
    "start_time": "2022-06-29T07:46:00.865Z"
   },
   {
    "duration": 30,
    "start_time": "2022-06-29T07:46:38.215Z"
   },
   {
    "duration": 10,
    "start_time": "2022-06-29T07:48:13.444Z"
   },
   {
    "duration": 11,
    "start_time": "2022-06-29T07:53:42.093Z"
   },
   {
    "duration": 16,
    "start_time": "2022-06-29T07:56:52.046Z"
   },
   {
    "duration": 112,
    "start_time": "2022-06-29T08:02:55.027Z"
   },
   {
    "duration": 94,
    "start_time": "2022-06-29T08:03:16.659Z"
   },
   {
    "duration": 27,
    "start_time": "2022-06-29T08:03:17.283Z"
   },
   {
    "duration": 26,
    "start_time": "2022-06-29T08:03:17.387Z"
   },
   {
    "duration": 16,
    "start_time": "2022-06-29T08:03:17.835Z"
   },
   {
    "duration": 8,
    "start_time": "2022-06-29T08:03:17.919Z"
   },
   {
    "duration": 16,
    "start_time": "2022-06-29T08:03:18.289Z"
   },
   {
    "duration": 443,
    "start_time": "2022-06-29T08:03:18.353Z"
   },
   {
    "duration": 5,
    "start_time": "2022-06-29T08:03:18.798Z"
   },
   {
    "duration": 24,
    "start_time": "2022-06-29T08:03:18.804Z"
   },
   {
    "duration": 12,
    "start_time": "2022-06-29T08:03:18.830Z"
   },
   {
    "duration": 9,
    "start_time": "2022-06-29T08:03:18.844Z"
   },
   {
    "duration": 5,
    "start_time": "2022-06-29T08:03:19.059Z"
   },
   {
    "duration": 16,
    "start_time": "2022-06-29T08:03:19.280Z"
   },
   {
    "duration": 19,
    "start_time": "2022-06-29T08:03:19.934Z"
   },
   {
    "duration": 11,
    "start_time": "2022-06-29T08:03:43.506Z"
   },
   {
    "duration": 14,
    "start_time": "2022-06-29T08:04:00.906Z"
   },
   {
    "duration": 9,
    "start_time": "2022-06-29T08:04:41.813Z"
   },
   {
    "duration": 15,
    "start_time": "2022-06-29T08:04:54.877Z"
   },
   {
    "duration": 25,
    "start_time": "2022-06-29T08:05:47.172Z"
   },
   {
    "duration": 22,
    "start_time": "2022-06-29T08:06:25.022Z"
   },
   {
    "duration": 6,
    "start_time": "2022-06-29T08:07:29.813Z"
   },
   {
    "duration": 11,
    "start_time": "2022-06-29T08:08:47.143Z"
   },
   {
    "duration": 23,
    "start_time": "2022-06-29T08:09:10.345Z"
   },
   {
    "duration": 90,
    "start_time": "2022-06-29T08:09:26.542Z"
   },
   {
    "duration": 25,
    "start_time": "2022-06-29T08:09:26.635Z"
   },
   {
    "duration": 23,
    "start_time": "2022-06-29T08:09:26.754Z"
   },
   {
    "duration": 16,
    "start_time": "2022-06-29T08:09:27.036Z"
   },
   {
    "duration": 10,
    "start_time": "2022-06-29T08:09:27.197Z"
   },
   {
    "duration": 15,
    "start_time": "2022-06-29T08:09:27.476Z"
   },
   {
    "duration": 451,
    "start_time": "2022-06-29T08:09:27.650Z"
   },
   {
    "duration": 6,
    "start_time": "2022-06-29T08:09:28.103Z"
   },
   {
    "duration": 23,
    "start_time": "2022-06-29T08:09:28.110Z"
   },
   {
    "duration": 17,
    "start_time": "2022-06-29T08:09:28.135Z"
   },
   {
    "duration": 14,
    "start_time": "2022-06-29T08:09:28.154Z"
   },
   {
    "duration": 6,
    "start_time": "2022-06-29T08:09:28.398Z"
   },
   {
    "duration": 20,
    "start_time": "2022-06-29T08:09:28.551Z"
   },
   {
    "duration": 19,
    "start_time": "2022-06-29T08:09:28.738Z"
   },
   {
    "duration": 21,
    "start_time": "2022-06-29T08:09:29.170Z"
   },
   {
    "duration": 36,
    "start_time": "2022-06-29T08:10:35.085Z"
   },
   {
    "duration": 28,
    "start_time": "2022-06-29T08:14:13.474Z"
   },
   {
    "duration": 103,
    "start_time": "2022-06-29T08:14:24.197Z"
   },
   {
    "duration": 29,
    "start_time": "2022-06-29T08:14:24.302Z"
   },
   {
    "duration": 35,
    "start_time": "2022-06-29T08:14:24.448Z"
   },
   {
    "duration": 17,
    "start_time": "2022-06-29T08:14:25.024Z"
   },
   {
    "duration": 7,
    "start_time": "2022-06-29T08:14:25.095Z"
   },
   {
    "duration": 18,
    "start_time": "2022-06-29T08:14:25.323Z"
   },
   {
    "duration": 475,
    "start_time": "2022-06-29T08:14:25.515Z"
   },
   {
    "duration": 5,
    "start_time": "2022-06-29T08:14:25.993Z"
   },
   {
    "duration": 10,
    "start_time": "2022-06-29T08:14:26.281Z"
   },
   {
    "duration": 11,
    "start_time": "2022-06-29T08:14:26.494Z"
   },
   {
    "duration": 6,
    "start_time": "2022-06-29T08:14:26.583Z"
   },
   {
    "duration": 6,
    "start_time": "2022-06-29T08:14:26.980Z"
   },
   {
    "duration": 16,
    "start_time": "2022-06-29T08:14:27.664Z"
   },
   {
    "duration": 14,
    "start_time": "2022-06-29T08:14:27.849Z"
   },
   {
    "duration": 29,
    "start_time": "2022-06-29T08:14:28.636Z"
   },
   {
    "duration": 8,
    "start_time": "2022-06-29T08:16:12.306Z"
   },
   {
    "duration": 6,
    "start_time": "2022-06-29T08:16:27.143Z"
   },
   {
    "duration": 5,
    "start_time": "2022-06-29T08:16:40.939Z"
   },
   {
    "duration": 14,
    "start_time": "2022-06-29T08:16:41.710Z"
   },
   {
    "duration": 9,
    "start_time": "2022-06-29T08:16:42.122Z"
   },
   {
    "duration": 25,
    "start_time": "2022-06-29T08:16:43.100Z"
   },
   {
    "duration": 19,
    "start_time": "2022-06-29T08:18:07.015Z"
   },
   {
    "duration": 26,
    "start_time": "2022-06-29T08:19:27.951Z"
   },
   {
    "duration": 11,
    "start_time": "2022-06-29T08:20:26.181Z"
   },
   {
    "duration": 26,
    "start_time": "2022-06-29T08:22:00.187Z"
   },
   {
    "duration": 18,
    "start_time": "2022-06-29T08:23:03.824Z"
   },
   {
    "duration": 37,
    "start_time": "2022-06-29T08:26:44.212Z"
   },
   {
    "duration": 38,
    "start_time": "2022-06-29T08:31:43.790Z"
   },
   {
    "duration": 13,
    "start_time": "2022-06-29T08:33:11.651Z"
   },
   {
    "duration": 14,
    "start_time": "2022-06-29T08:34:46.674Z"
   },
   {
    "duration": 7,
    "start_time": "2022-06-29T08:34:46.726Z"
   },
   {
    "duration": 5,
    "start_time": "2022-06-29T08:34:46.968Z"
   },
   {
    "duration": 14,
    "start_time": "2022-06-29T08:34:47.169Z"
   },
   {
    "duration": 9,
    "start_time": "2022-06-29T08:34:47.255Z"
   },
   {
    "duration": 28,
    "start_time": "2022-06-29T08:34:47.328Z"
   },
   {
    "duration": 19,
    "start_time": "2022-06-29T08:34:47.498Z"
   },
   {
    "duration": 14,
    "start_time": "2022-06-29T08:37:11.366Z"
   },
   {
    "duration": 26,
    "start_time": "2022-06-29T08:37:24.861Z"
   },
   {
    "duration": 5,
    "start_time": "2022-06-29T08:38:14.909Z"
   },
   {
    "duration": 5,
    "start_time": "2022-06-29T08:38:42.674Z"
   },
   {
    "duration": 8,
    "start_time": "2022-06-29T08:38:42.946Z"
   },
   {
    "duration": 5,
    "start_time": "2022-06-29T08:38:43.195Z"
   },
   {
    "duration": 14,
    "start_time": "2022-06-29T08:38:43.263Z"
   },
   {
    "duration": 11,
    "start_time": "2022-06-29T08:38:43.421Z"
   },
   {
    "duration": 30,
    "start_time": "2022-06-29T08:38:43.492Z"
   },
   {
    "duration": 19,
    "start_time": "2022-06-29T08:38:43.650Z"
   },
   {
    "duration": 25,
    "start_time": "2022-06-29T08:40:45.586Z"
   },
   {
    "duration": 19,
    "start_time": "2022-06-29T08:40:59.997Z"
   },
   {
    "duration": 27,
    "start_time": "2022-06-29T08:42:06.233Z"
   },
   {
    "duration": 13,
    "start_time": "2022-06-29T08:43:24.733Z"
   },
   {
    "duration": 7,
    "start_time": "2022-06-29T08:44:36.412Z"
   },
   {
    "duration": 12,
    "start_time": "2022-06-29T08:44:36.535Z"
   },
   {
    "duration": 5,
    "start_time": "2022-06-29T08:44:36.756Z"
   },
   {
    "duration": 15,
    "start_time": "2022-06-29T08:44:36.874Z"
   },
   {
    "duration": 9,
    "start_time": "2022-06-29T08:44:36.971Z"
   },
   {
    "duration": 29,
    "start_time": "2022-06-29T08:44:37.046Z"
   },
   {
    "duration": 22,
    "start_time": "2022-06-29T08:44:37.213Z"
   },
   {
    "duration": 10,
    "start_time": "2022-06-29T08:52:39.518Z"
   },
   {
    "duration": 8,
    "start_time": "2022-06-29T08:53:06.513Z"
   },
   {
    "duration": 94,
    "start_time": "2022-06-29T08:53:17.219Z"
   },
   {
    "duration": 26,
    "start_time": "2022-06-29T08:53:17.764Z"
   },
   {
    "duration": 22,
    "start_time": "2022-06-29T08:53:17.850Z"
   },
   {
    "duration": 18,
    "start_time": "2022-06-29T08:53:18.381Z"
   },
   {
    "duration": 7,
    "start_time": "2022-06-29T08:53:19.226Z"
   },
   {
    "duration": 16,
    "start_time": "2022-06-29T08:53:23.114Z"
   },
   {
    "duration": 451,
    "start_time": "2022-06-29T08:53:23.489Z"
   },
   {
    "duration": 5,
    "start_time": "2022-06-29T08:53:23.941Z"
   },
   {
    "duration": 10,
    "start_time": "2022-06-29T08:53:24.982Z"
   },
   {
    "duration": 15,
    "start_time": "2022-06-29T08:53:26.493Z"
   },
   {
    "duration": 5,
    "start_time": "2022-06-29T08:53:29.265Z"
   },
   {
    "duration": 8,
    "start_time": "2022-06-29T08:53:30.085Z"
   },
   {
    "duration": 8,
    "start_time": "2022-06-29T08:53:31.315Z"
   },
   {
    "duration": 8,
    "start_time": "2022-06-29T08:53:34.120Z"
   },
   {
    "duration": 11,
    "start_time": "2022-06-29T08:54:32.146Z"
   },
   {
    "duration": 14,
    "start_time": "2022-06-29T08:55:56.187Z"
   },
   {
    "duration": 14,
    "start_time": "2022-06-29T08:55:57.126Z"
   },
   {
    "duration": 28,
    "start_time": "2022-06-29T08:55:59.001Z"
   },
   {
    "duration": 18,
    "start_time": "2022-06-29T08:55:59.177Z"
   },
   {
    "duration": 10,
    "start_time": "2022-06-29T08:57:25.768Z"
   },
   {
    "duration": 21,
    "start_time": "2022-06-29T09:03:53.224Z"
   },
   {
    "duration": 24,
    "start_time": "2022-06-29T09:04:04.500Z"
   },
   {
    "duration": 92,
    "start_time": "2022-06-29T09:04:16.657Z"
   },
   {
    "duration": 26,
    "start_time": "2022-06-29T09:04:17.537Z"
   },
   {
    "duration": 25,
    "start_time": "2022-06-29T09:04:18.302Z"
   },
   {
    "duration": 23,
    "start_time": "2022-06-29T09:04:20.092Z"
   },
   {
    "duration": 7,
    "start_time": "2022-06-29T09:04:20.665Z"
   },
   {
    "duration": 16,
    "start_time": "2022-06-29T09:04:21.791Z"
   },
   {
    "duration": 448,
    "start_time": "2022-06-29T09:04:22.438Z"
   },
   {
    "duration": 5,
    "start_time": "2022-06-29T09:04:23.315Z"
   },
   {
    "duration": 12,
    "start_time": "2022-06-29T09:04:24.007Z"
   },
   {
    "duration": 15,
    "start_time": "2022-06-29T09:04:24.713Z"
   },
   {
    "duration": 6,
    "start_time": "2022-06-29T09:04:25.383Z"
   },
   {
    "duration": 7,
    "start_time": "2022-06-29T09:04:26.074Z"
   },
   {
    "duration": 7,
    "start_time": "2022-06-29T09:04:26.715Z"
   },
   {
    "duration": 11,
    "start_time": "2022-06-29T09:04:28.107Z"
   },
   {
    "duration": 13,
    "start_time": "2022-06-29T09:04:28.467Z"
   },
   {
    "duration": 28,
    "start_time": "2022-06-29T09:04:28.866Z"
   },
   {
    "duration": 19,
    "start_time": "2022-06-29T09:04:29.799Z"
   },
   {
    "duration": 19,
    "start_time": "2022-06-29T09:04:32.463Z"
   },
   {
    "duration": 17,
    "start_time": "2022-06-29T09:28:32.350Z"
   },
   {
    "duration": 6,
    "start_time": "2022-06-29T09:29:08.535Z"
   },
   {
    "duration": 5,
    "start_time": "2022-06-29T09:29:16.698Z"
   },
   {
    "duration": 17,
    "start_time": "2022-06-29T09:29:51.126Z"
   },
   {
    "duration": 18,
    "start_time": "2022-06-29T09:31:14.847Z"
   },
   {
    "duration": 17,
    "start_time": "2022-06-29T09:31:38.903Z"
   },
   {
    "duration": 18,
    "start_time": "2022-06-29T09:32:10.100Z"
   },
   {
    "duration": 24,
    "start_time": "2022-06-29T09:34:10.268Z"
   },
   {
    "duration": 6,
    "start_time": "2022-06-29T09:35:45.847Z"
   },
   {
    "duration": 29,
    "start_time": "2022-06-29T09:36:47.102Z"
   },
   {
    "duration": 19,
    "start_time": "2022-06-29T09:57:29.997Z"
   },
   {
    "duration": 5,
    "start_time": "2022-06-29T10:04:05.405Z"
   },
   {
    "duration": 10,
    "start_time": "2022-06-29T10:07:06.989Z"
   },
   {
    "duration": 13,
    "start_time": "2022-06-29T10:07:39.910Z"
   },
   {
    "duration": 10,
    "start_time": "2022-06-29T10:08:06.476Z"
   },
   {
    "duration": 6,
    "start_time": "2022-06-29T10:28:00.982Z"
   },
   {
    "duration": 14,
    "start_time": "2022-06-29T10:28:18.791Z"
   },
   {
    "duration": 11,
    "start_time": "2022-06-29T10:28:29.783Z"
   },
   {
    "duration": 14,
    "start_time": "2022-06-29T10:28:43.083Z"
   },
   {
    "duration": 6,
    "start_time": "2022-06-29T10:28:50.371Z"
   },
   {
    "duration": 10,
    "start_time": "2022-06-29T10:30:59.421Z"
   },
   {
    "duration": 12,
    "start_time": "2022-06-29T10:35:19.714Z"
   },
   {
    "duration": 6,
    "start_time": "2022-06-29T10:56:13.935Z"
   },
   {
    "duration": 5,
    "start_time": "2022-06-29T10:57:06.478Z"
   },
   {
    "duration": 8,
    "start_time": "2022-06-29T10:57:32.440Z"
   },
   {
    "duration": 10,
    "start_time": "2022-06-29T10:58:14.182Z"
   },
   {
    "duration": 11,
    "start_time": "2022-06-29T11:00:38.164Z"
   },
   {
    "duration": 6,
    "start_time": "2022-06-29T11:03:42.827Z"
   },
   {
    "duration": 10,
    "start_time": "2022-06-29T11:05:17.498Z"
   },
   {
    "duration": 11,
    "start_time": "2022-06-29T11:08:11.142Z"
   },
   {
    "duration": 6,
    "start_time": "2022-06-29T11:09:02.895Z"
   },
   {
    "duration": 13,
    "start_time": "2022-06-29T11:09:32.293Z"
   },
   {
    "duration": 7,
    "start_time": "2022-06-29T11:10:48.106Z"
   },
   {
    "duration": 13,
    "start_time": "2022-06-29T11:11:32.394Z"
   },
   {
    "duration": 18,
    "start_time": "2022-06-29T11:12:04.450Z"
   },
   {
    "duration": 16,
    "start_time": "2022-06-29T11:12:24.518Z"
   },
   {
    "duration": 39,
    "start_time": "2022-06-29T11:14:00.944Z"
   },
   {
    "duration": 14,
    "start_time": "2022-06-29T11:14:23.716Z"
   },
   {
    "duration": 17,
    "start_time": "2022-06-29T11:14:36.716Z"
   },
   {
    "duration": 6,
    "start_time": "2022-06-29T11:15:02.207Z"
   },
   {
    "duration": 13,
    "start_time": "2022-06-29T11:15:18.735Z"
   },
   {
    "duration": 20,
    "start_time": "2022-06-29T11:15:45.106Z"
   },
   {
    "duration": 13,
    "start_time": "2022-06-29T11:15:55.233Z"
   },
   {
    "duration": 14,
    "start_time": "2022-06-29T11:16:42.245Z"
   },
   {
    "duration": 14,
    "start_time": "2022-06-29T11:16:51.695Z"
   },
   {
    "duration": 15,
    "start_time": "2022-06-29T11:16:58.775Z"
   },
   {
    "duration": 13,
    "start_time": "2022-06-29T11:17:06.850Z"
   },
   {
    "duration": 13,
    "start_time": "2022-06-29T11:17:12.815Z"
   },
   {
    "duration": 13,
    "start_time": "2022-06-29T11:17:18.382Z"
   },
   {
    "duration": 16,
    "start_time": "2022-06-29T11:17:34.620Z"
   },
   {
    "duration": 525,
    "start_time": "2022-06-29T13:19:40.914Z"
   },
   {
    "duration": 34,
    "start_time": "2022-06-29T13:19:41.441Z"
   },
   {
    "duration": 19,
    "start_time": "2022-06-29T13:19:41.477Z"
   },
   {
    "duration": 18,
    "start_time": "2022-06-29T13:19:41.881Z"
   },
   {
    "duration": 7,
    "start_time": "2022-06-29T13:19:41.963Z"
   },
   {
    "duration": 13,
    "start_time": "2022-06-29T13:19:42.249Z"
   },
   {
    "duration": 1358,
    "start_time": "2022-06-29T13:19:42.317Z"
   },
   {
    "duration": 5,
    "start_time": "2022-06-29T13:19:43.677Z"
   },
   {
    "duration": 10,
    "start_time": "2022-06-29T13:19:43.683Z"
   },
   {
    "duration": 14,
    "start_time": "2022-06-29T13:19:43.695Z"
   },
   {
    "duration": 4,
    "start_time": "2022-06-29T13:19:43.710Z"
   },
   {
    "duration": 9,
    "start_time": "2022-06-29T13:19:43.715Z"
   },
   {
    "duration": 27,
    "start_time": "2022-06-29T13:19:43.725Z"
   },
   {
    "duration": 10,
    "start_time": "2022-06-29T13:19:43.753Z"
   },
   {
    "duration": 12,
    "start_time": "2022-06-29T13:19:43.764Z"
   },
   {
    "duration": 21,
    "start_time": "2022-06-29T13:19:43.778Z"
   },
   {
    "duration": 15,
    "start_time": "2022-06-29T13:19:43.801Z"
   },
   {
    "duration": 16,
    "start_time": "2022-06-29T13:19:44.032Z"
   },
   {
    "duration": 24,
    "start_time": "2022-06-29T13:19:44.258Z"
   },
   {
    "duration": 18,
    "start_time": "2022-06-29T13:19:44.388Z"
   },
   {
    "duration": 16,
    "start_time": "2022-06-29T13:19:44.808Z"
   },
   {
    "duration": 8,
    "start_time": "2022-06-29T13:19:45.315Z"
   },
   {
    "duration": 11,
    "start_time": "2022-06-29T13:19:45.521Z"
   },
   {
    "duration": 8,
    "start_time": "2022-06-29T13:19:45.794Z"
   },
   {
    "duration": 8,
    "start_time": "2022-06-29T13:19:45.889Z"
   },
   {
    "duration": 10,
    "start_time": "2022-06-29T13:19:46.119Z"
   },
   {
    "duration": 15,
    "start_time": "2022-06-29T13:24:19.713Z"
   },
   {
    "duration": 10,
    "start_time": "2022-06-29T13:24:39.429Z"
   },
   {
    "duration": 4,
    "start_time": "2022-06-29T13:26:07.183Z"
   },
   {
    "duration": 7,
    "start_time": "2022-06-29T13:26:59.618Z"
   },
   {
    "duration": 8,
    "start_time": "2022-06-29T13:28:21.368Z"
   },
   {
    "duration": 15,
    "start_time": "2022-06-29T13:39:51.085Z"
   },
   {
    "duration": 15,
    "start_time": "2022-06-29T13:40:14.601Z"
   },
   {
    "duration": 9,
    "start_time": "2022-06-29T13:41:00.829Z"
   },
   {
    "duration": 27,
    "start_time": "2022-06-29T13:54:40.529Z"
   },
   {
    "duration": 24,
    "start_time": "2022-06-29T13:54:55.698Z"
   },
   {
    "duration": 13,
    "start_time": "2022-06-29T13:57:14.932Z"
   },
   {
    "duration": 12,
    "start_time": "2022-06-29T13:57:44.411Z"
   },
   {
    "duration": 17,
    "start_time": "2022-06-29T14:06:06.068Z"
   },
   {
    "duration": 16,
    "start_time": "2022-06-29T14:20:42.090Z"
   },
   {
    "duration": 16,
    "start_time": "2022-06-29T14:21:02.317Z"
   },
   {
    "duration": 96,
    "start_time": "2022-06-29T14:23:48.001Z"
   },
   {
    "duration": 18,
    "start_time": "2022-06-29T14:24:12.283Z"
   },
   {
    "duration": 18,
    "start_time": "2022-06-29T14:24:35.144Z"
   },
   {
    "duration": 18,
    "start_time": "2022-06-29T14:24:47.298Z"
   },
   {
    "duration": 14,
    "start_time": "2022-06-29T14:25:18.994Z"
   },
   {
    "duration": 9,
    "start_time": "2022-06-29T14:28:12.068Z"
   },
   {
    "duration": 15,
    "start_time": "2022-06-29T14:28:32.948Z"
   },
   {
    "duration": 14,
    "start_time": "2022-06-29T14:28:59.680Z"
   },
   {
    "duration": 23,
    "start_time": "2022-06-29T14:29:04.451Z"
   },
   {
    "duration": 12,
    "start_time": "2022-06-29T14:29:08.092Z"
   },
   {
    "duration": 82,
    "start_time": "2022-06-29T14:29:29.108Z"
   },
   {
    "duration": 27,
    "start_time": "2022-06-29T14:29:29.300Z"
   },
   {
    "duration": 22,
    "start_time": "2022-06-29T14:29:29.376Z"
   },
   {
    "duration": 16,
    "start_time": "2022-06-29T14:29:29.764Z"
   },
   {
    "duration": 10,
    "start_time": "2022-06-29T14:29:29.827Z"
   },
   {
    "duration": 18,
    "start_time": "2022-06-29T14:29:30.175Z"
   },
   {
    "duration": 383,
    "start_time": "2022-06-29T14:29:30.373Z"
   },
   {
    "duration": 5,
    "start_time": "2022-06-29T14:29:30.758Z"
   },
   {
    "duration": 46,
    "start_time": "2022-06-29T14:29:30.765Z"
   },
   {
    "duration": 19,
    "start_time": "2022-06-29T14:29:30.815Z"
   },
   {
    "duration": 5,
    "start_time": "2022-06-29T14:29:31.006Z"
   },
   {
    "duration": 7,
    "start_time": "2022-06-29T14:29:31.115Z"
   },
   {
    "duration": 6,
    "start_time": "2022-06-29T14:29:31.285Z"
   },
   {
    "duration": 9,
    "start_time": "2022-06-29T14:29:31.645Z"
   },
   {
    "duration": 12,
    "start_time": "2022-06-29T14:29:31.733Z"
   },
   {
    "duration": 25,
    "start_time": "2022-06-29T14:29:31.890Z"
   },
   {
    "duration": 16,
    "start_time": "2022-06-29T14:29:31.976Z"
   },
   {
    "duration": 17,
    "start_time": "2022-06-29T14:29:32.704Z"
   },
   {
    "duration": 28,
    "start_time": "2022-06-29T14:29:32.723Z"
   },
   {
    "duration": 16,
    "start_time": "2022-06-29T14:29:32.830Z"
   },
   {
    "duration": 18,
    "start_time": "2022-06-29T14:29:32.914Z"
   },
   {
    "duration": 11,
    "start_time": "2022-06-29T14:29:33.365Z"
   },
   {
    "duration": 14,
    "start_time": "2022-06-29T14:29:33.449Z"
   },
   {
    "duration": 14,
    "start_time": "2022-06-29T14:29:33.664Z"
   },
   {
    "duration": 17,
    "start_time": "2022-06-29T14:29:33.751Z"
   },
   {
    "duration": 16,
    "start_time": "2022-06-29T14:29:33.919Z"
   },
   {
    "duration": 10,
    "start_time": "2022-06-29T14:29:33.987Z"
   },
   {
    "duration": 21,
    "start_time": "2022-06-29T14:29:34.464Z"
   },
   {
    "duration": 20,
    "start_time": "2022-06-29T14:29:34.537Z"
   },
   {
    "duration": 26,
    "start_time": "2022-06-29T14:31:04.378Z"
   },
   {
    "duration": 81,
    "start_time": "2022-06-29T14:41:07.950Z"
   },
   {
    "duration": 24,
    "start_time": "2022-06-29T14:41:08.033Z"
   },
   {
    "duration": 21,
    "start_time": "2022-06-29T14:41:08.230Z"
   },
   {
    "duration": 14,
    "start_time": "2022-06-29T14:41:08.558Z"
   },
   {
    "duration": 7,
    "start_time": "2022-06-29T14:41:08.624Z"
   },
   {
    "duration": 15,
    "start_time": "2022-06-29T14:41:08.857Z"
   },
   {
    "duration": 414,
    "start_time": "2022-06-29T14:41:09.020Z"
   },
   {
    "duration": 5,
    "start_time": "2022-06-29T14:41:09.436Z"
   },
   {
    "duration": 11,
    "start_time": "2022-06-29T14:41:09.442Z"
   },
   {
    "duration": 14,
    "start_time": "2022-06-29T14:41:09.455Z"
   },
   {
    "duration": 5,
    "start_time": "2022-06-29T14:41:09.592Z"
   },
   {
    "duration": 6,
    "start_time": "2022-06-29T14:41:09.653Z"
   },
   {
    "duration": 7,
    "start_time": "2022-06-29T14:41:09.837Z"
   },
   {
    "duration": 10,
    "start_time": "2022-06-29T14:41:10.064Z"
   },
   {
    "duration": 14,
    "start_time": "2022-06-29T14:41:10.132Z"
   },
   {
    "duration": 26,
    "start_time": "2022-06-29T14:41:10.309Z"
   },
   {
    "duration": 17,
    "start_time": "2022-06-29T14:41:10.391Z"
   },
   {
    "duration": 18,
    "start_time": "2022-06-29T14:41:10.831Z"
   },
   {
    "duration": 25,
    "start_time": "2022-06-29T14:41:12.370Z"
   },
   {
    "duration": 16,
    "start_time": "2022-06-29T14:41:15.593Z"
   },
   {
    "duration": 16,
    "start_time": "2022-06-29T14:41:20.386Z"
   },
   {
    "duration": 13,
    "start_time": "2022-06-29T14:41:22.953Z"
   },
   {
    "duration": 13,
    "start_time": "2022-06-29T14:41:23.248Z"
   },
   {
    "duration": 12,
    "start_time": "2022-06-29T14:41:23.337Z"
   },
   {
    "duration": 8,
    "start_time": "2022-06-29T14:41:23.592Z"
   },
   {
    "duration": 10,
    "start_time": "2022-06-29T14:41:26.383Z"
   },
   {
    "duration": 12,
    "start_time": "2022-06-29T14:41:27.383Z"
   },
   {
    "duration": 6,
    "start_time": "2022-06-29T14:41:29.293Z"
   },
   {
    "duration": 16,
    "start_time": "2022-06-29T14:43:08.167Z"
   },
   {
    "duration": 19,
    "start_time": "2022-06-29T14:43:10.401Z"
   },
   {
    "duration": 8,
    "start_time": "2022-06-29T14:44:45.814Z"
   },
   {
    "duration": 9,
    "start_time": "2022-06-29T14:46:27.526Z"
   },
   {
    "duration": 15,
    "start_time": "2022-06-29T14:47:50.217Z"
   },
   {
    "duration": 9,
    "start_time": "2022-06-29T14:51:31.080Z"
   },
   {
    "duration": 28,
    "start_time": "2022-06-29T14:52:48.785Z"
   },
   {
    "duration": 11,
    "start_time": "2022-06-29T15:13:17.421Z"
   },
   {
    "duration": 7,
    "start_time": "2022-06-29T15:14:17.712Z"
   },
   {
    "duration": 5,
    "start_time": "2022-06-29T15:15:05.495Z"
   },
   {
    "duration": 5,
    "start_time": "2022-06-29T15:15:36.318Z"
   },
   {
    "duration": 24,
    "start_time": "2022-06-29T15:16:50.918Z"
   },
   {
    "duration": 26,
    "start_time": "2022-06-29T15:17:04.919Z"
   },
   {
    "duration": 25,
    "start_time": "2022-06-29T15:17:26.889Z"
   },
   {
    "duration": 25,
    "start_time": "2022-06-29T15:20:19.260Z"
   },
   {
    "duration": 9,
    "start_time": "2022-06-29T15:20:28.400Z"
   },
   {
    "duration": 25,
    "start_time": "2022-06-29T15:20:35.362Z"
   },
   {
    "duration": 712,
    "start_time": "2022-06-30T19:20:37.109Z"
   },
   {
    "duration": 106,
    "start_time": "2022-06-30T19:20:37.822Z"
   },
   {
    "duration": 21,
    "start_time": "2022-06-30T19:20:37.929Z"
   },
   {
    "duration": 22,
    "start_time": "2022-06-30T19:20:37.952Z"
   },
   {
    "duration": 7,
    "start_time": "2022-06-30T19:20:38.094Z"
   },
   {
    "duration": 15,
    "start_time": "2022-06-30T19:20:38.432Z"
   },
   {
    "duration": 1410,
    "start_time": "2022-06-30T19:20:38.588Z"
   },
   {
    "duration": 5,
    "start_time": "2022-06-30T19:20:40.000Z"
   },
   {
    "duration": 26,
    "start_time": "2022-06-30T19:20:40.006Z"
   },
   {
    "duration": 21,
    "start_time": "2022-06-30T19:20:40.035Z"
   },
   {
    "duration": 9,
    "start_time": "2022-06-30T19:20:40.057Z"
   },
   {
    "duration": 14,
    "start_time": "2022-06-30T19:20:40.067Z"
   },
   {
    "duration": 13,
    "start_time": "2022-06-30T19:20:40.082Z"
   },
   {
    "duration": 11,
    "start_time": "2022-06-30T19:20:40.097Z"
   },
   {
    "duration": 13,
    "start_time": "2022-06-30T19:20:40.183Z"
   },
   {
    "duration": 26,
    "start_time": "2022-06-30T19:20:40.346Z"
   },
   {
    "duration": 19,
    "start_time": "2022-06-30T19:20:40.499Z"
   },
   {
    "duration": 18,
    "start_time": "2022-06-30T19:20:40.994Z"
   },
   {
    "duration": 26,
    "start_time": "2022-06-30T19:20:41.745Z"
   },
   {
    "duration": 16,
    "start_time": "2022-06-30T19:20:41.899Z"
   },
   {
    "duration": 18,
    "start_time": "2022-06-30T19:20:42.045Z"
   },
   {
    "duration": 9,
    "start_time": "2022-06-30T19:20:42.907Z"
   },
   {
    "duration": 9,
    "start_time": "2022-06-30T19:20:43.046Z"
   },
   {
    "duration": 11,
    "start_time": "2022-06-30T19:20:43.275Z"
   },
   {
    "duration": 10,
    "start_time": "2022-06-30T19:20:43.451Z"
   },
   {
    "duration": 12,
    "start_time": "2022-06-30T19:20:43.599Z"
   },
   {
    "duration": 11,
    "start_time": "2022-06-30T19:20:43.746Z"
   },
   {
    "duration": 8,
    "start_time": "2022-06-30T19:20:43.923Z"
   },
   {
    "duration": 7,
    "start_time": "2022-06-30T19:20:44.195Z"
   },
   {
    "duration": 23,
    "start_time": "2022-06-30T19:20:44.734Z"
   },
   {
    "duration": 8,
    "start_time": "2022-06-30T19:20:44.916Z"
   },
   {
    "duration": 7,
    "start_time": "2022-06-30T19:20:45.394Z"
   },
   {
    "duration": 6,
    "start_time": "2022-06-30T19:20:45.534Z"
   },
   {
    "duration": 35,
    "start_time": "2022-06-30T19:20:45.719Z"
   },
   {
    "duration": 9,
    "start_time": "2022-06-30T19:22:29.138Z"
   },
   {
    "duration": 31,
    "start_time": "2022-06-30T19:24:04.348Z"
   },
   {
    "duration": 8,
    "start_time": "2022-06-30T19:29:22.603Z"
   },
   {
    "duration": 8,
    "start_time": "2022-06-30T19:30:12.669Z"
   },
   {
    "duration": 8,
    "start_time": "2022-06-30T19:34:15.240Z"
   },
   {
    "duration": 189,
    "start_time": "2022-06-30T19:45:50.355Z"
   },
   {
    "duration": 76,
    "start_time": "2022-06-30T19:46:16.860Z"
   },
   {
    "duration": 188,
    "start_time": "2022-06-30T19:46:30.913Z"
   },
   {
    "duration": 175,
    "start_time": "2022-06-30T19:47:48.597Z"
   },
   {
    "duration": 178,
    "start_time": "2022-06-30T19:50:33.808Z"
   },
   {
    "duration": 154,
    "start_time": "2022-06-30T19:57:37.298Z"
   },
   {
    "duration": 337,
    "start_time": "2022-06-30T19:58:23.464Z"
   },
   {
    "duration": 238,
    "start_time": "2022-06-30T19:59:04.255Z"
   },
   {
    "duration": 209,
    "start_time": "2022-06-30T20:00:28.559Z"
   },
   {
    "duration": 204,
    "start_time": "2022-06-30T20:01:54.543Z"
   },
   {
    "duration": 236,
    "start_time": "2022-06-30T20:02:20.027Z"
   },
   {
    "duration": 219,
    "start_time": "2022-06-30T20:04:15.846Z"
   },
   {
    "duration": 1794,
    "start_time": "2022-06-30T20:04:27.320Z"
   },
   {
    "duration": 425,
    "start_time": "2022-06-30T20:04:40.194Z"
   },
   {
    "duration": 155,
    "start_time": "2022-06-30T20:04:50.127Z"
   },
   {
    "duration": 213,
    "start_time": "2022-06-30T20:05:19.505Z"
   },
   {
    "duration": 20,
    "start_time": "2022-06-30T20:06:54.188Z"
   },
   {
    "duration": 33,
    "start_time": "2022-06-30T20:17:20.835Z"
   },
   {
    "duration": 8,
    "start_time": "2022-06-30T20:17:44.680Z"
   },
   {
    "duration": 28,
    "start_time": "2022-06-30T20:17:58.115Z"
   },
   {
    "duration": 14,
    "start_time": "2022-06-30T20:23:22.701Z"
   },
   {
    "duration": 34,
    "start_time": "2022-06-30T20:23:45.721Z"
   },
   {
    "duration": 4,
    "start_time": "2022-06-30T20:29:56.585Z"
   },
   {
    "duration": 29,
    "start_time": "2022-06-30T20:30:08.541Z"
   },
   {
    "duration": 5,
    "start_time": "2022-06-30T20:33:21.284Z"
   },
   {
    "duration": 42,
    "start_time": "2022-06-30T20:33:44.913Z"
   },
   {
    "duration": 12,
    "start_time": "2022-06-30T20:34:44.811Z"
   },
   {
    "duration": 13,
    "start_time": "2022-06-30T20:39:31.110Z"
   },
   {
    "duration": 30,
    "start_time": "2022-06-30T20:47:31.126Z"
   },
   {
    "duration": 117,
    "start_time": "2022-06-30T20:51:06.181Z"
   },
   {
    "duration": 8,
    "start_time": "2022-06-30T20:53:48.449Z"
   },
   {
    "duration": 17,
    "start_time": "2022-06-30T21:20:25.616Z"
   },
   {
    "duration": 81,
    "start_time": "2022-06-30T21:21:03.870Z"
   },
   {
    "duration": 14,
    "start_time": "2022-06-30T21:21:18.444Z"
   },
   {
    "duration": 106,
    "start_time": "2022-06-30T21:22:56.694Z"
   },
   {
    "duration": 15,
    "start_time": "2022-06-30T21:23:39.414Z"
   },
   {
    "duration": 16,
    "start_time": "2022-06-30T21:25:38.730Z"
   },
   {
    "duration": 14,
    "start_time": "2022-06-30T21:28:25.507Z"
   },
   {
    "duration": 13,
    "start_time": "2022-06-30T21:30:52.992Z"
   },
   {
    "duration": 13,
    "start_time": "2022-06-30T21:33:46.842Z"
   },
   {
    "duration": 9,
    "start_time": "2022-06-30T21:34:19.919Z"
   },
   {
    "duration": 7,
    "start_time": "2022-06-30T21:38:08.377Z"
   },
   {
    "duration": 7,
    "start_time": "2022-06-30T21:38:53.044Z"
   },
   {
    "duration": 12,
    "start_time": "2022-06-30T21:39:17.551Z"
   },
   {
    "duration": 25,
    "start_time": "2022-06-30T21:39:26.654Z"
   },
   {
    "duration": 1526,
    "start_time": "2022-06-30T21:41:53.640Z"
   },
   {
    "duration": 20,
    "start_time": "2022-06-30T21:42:06.247Z"
   },
   {
    "duration": 16,
    "start_time": "2022-06-30T21:43:10.993Z"
   },
   {
    "duration": 10,
    "start_time": "2022-06-30T21:43:56.641Z"
   },
   {
    "duration": 224,
    "start_time": "2022-06-30T21:46:16.782Z"
   },
   {
    "duration": 197,
    "start_time": "2022-06-30T21:46:24.680Z"
   },
   {
    "duration": 611,
    "start_time": "2022-07-01T12:41:17.180Z"
   },
   {
    "duration": 53,
    "start_time": "2022-07-01T12:41:20.697Z"
   },
   {
    "duration": 22,
    "start_time": "2022-07-01T12:41:21.677Z"
   },
   {
    "duration": 36,
    "start_time": "2022-07-01T12:41:22.736Z"
   },
   {
    "duration": 6,
    "start_time": "2022-07-01T12:41:22.835Z"
   },
   {
    "duration": 14,
    "start_time": "2022-07-01T12:41:23.141Z"
   },
   {
    "duration": 1355,
    "start_time": "2022-07-01T12:41:23.373Z"
   },
   {
    "duration": 5,
    "start_time": "2022-07-01T12:41:24.730Z"
   },
   {
    "duration": 17,
    "start_time": "2022-07-01T12:41:24.737Z"
   },
   {
    "duration": 38,
    "start_time": "2022-07-01T12:41:24.755Z"
   },
   {
    "duration": 5,
    "start_time": "2022-07-01T12:41:24.794Z"
   },
   {
    "duration": 12,
    "start_time": "2022-07-01T12:41:24.801Z"
   },
   {
    "duration": 10,
    "start_time": "2022-07-01T12:41:24.814Z"
   },
   {
    "duration": 14,
    "start_time": "2022-07-01T12:41:25.019Z"
   },
   {
    "duration": 12,
    "start_time": "2022-07-01T12:41:25.219Z"
   },
   {
    "duration": 26,
    "start_time": "2022-07-01T12:41:25.284Z"
   },
   {
    "duration": 18,
    "start_time": "2022-07-01T12:41:25.522Z"
   },
   {
    "duration": 17,
    "start_time": "2022-07-01T12:41:25.918Z"
   },
   {
    "duration": 30,
    "start_time": "2022-07-01T12:41:26.044Z"
   },
   {
    "duration": 15,
    "start_time": "2022-07-01T12:41:26.280Z"
   },
   {
    "duration": 17,
    "start_time": "2022-07-01T12:41:26.435Z"
   },
   {
    "duration": 8,
    "start_time": "2022-07-01T12:41:26.979Z"
   },
   {
    "duration": 9,
    "start_time": "2022-07-01T12:41:27.082Z"
   },
   {
    "duration": 15,
    "start_time": "2022-07-01T12:41:27.318Z"
   },
   {
    "duration": 12,
    "start_time": "2022-07-01T12:41:27.384Z"
   },
   {
    "duration": 9,
    "start_time": "2022-07-01T12:41:27.652Z"
   },
   {
    "duration": 10,
    "start_time": "2022-07-01T12:41:27.768Z"
   },
   {
    "duration": 7,
    "start_time": "2022-07-01T12:41:28.010Z"
   },
   {
    "duration": 7,
    "start_time": "2022-07-01T12:41:28.799Z"
   },
   {
    "duration": 15,
    "start_time": "2022-07-01T12:41:29.978Z"
   },
   {
    "duration": 8,
    "start_time": "2022-07-01T12:41:30.969Z"
   },
   {
    "duration": 8,
    "start_time": "2022-07-01T12:41:31.154Z"
   },
   {
    "duration": 6,
    "start_time": "2022-07-01T12:41:32.372Z"
   },
   {
    "duration": 18,
    "start_time": "2022-07-01T12:41:33.258Z"
   },
   {
    "duration": 7,
    "start_time": "2022-07-01T12:41:33.369Z"
   },
   {
    "duration": 8,
    "start_time": "2022-07-01T12:41:33.600Z"
   },
   {
    "duration": 9,
    "start_time": "2022-07-01T12:41:35.770Z"
   },
   {
    "duration": 12,
    "start_time": "2022-07-01T12:41:37.187Z"
   },
   {
    "duration": 207,
    "start_time": "2022-07-01T12:41:38.028Z"
   },
   {
    "duration": 208,
    "start_time": "2022-07-01T12:41:38.237Z"
   },
   {
    "duration": 13,
    "start_time": "2022-07-01T12:42:56.087Z"
   },
   {
    "duration": 110,
    "start_time": "2022-07-01T12:43:10.774Z"
   },
   {
    "duration": 39,
    "start_time": "2022-07-01T12:43:10.985Z"
   },
   {
    "duration": 23,
    "start_time": "2022-07-01T12:43:11.075Z"
   },
   {
    "duration": 14,
    "start_time": "2022-07-01T12:43:11.695Z"
   },
   {
    "duration": 8,
    "start_time": "2022-07-01T12:43:11.931Z"
   },
   {
    "duration": 16,
    "start_time": "2022-07-01T12:43:12.297Z"
   },
   {
    "duration": 481,
    "start_time": "2022-07-01T12:43:12.400Z"
   },
   {
    "duration": 6,
    "start_time": "2022-07-01T12:43:12.883Z"
   },
   {
    "duration": 11,
    "start_time": "2022-07-01T12:43:12.891Z"
   },
   {
    "duration": 15,
    "start_time": "2022-07-01T12:43:13.300Z"
   },
   {
    "duration": 5,
    "start_time": "2022-07-01T12:43:13.375Z"
   },
   {
    "duration": 7,
    "start_time": "2022-07-01T12:43:13.844Z"
   },
   {
    "duration": 8,
    "start_time": "2022-07-01T12:43:14.228Z"
   },
   {
    "duration": 14,
    "start_time": "2022-07-01T12:43:14.577Z"
   },
   {
    "duration": 14,
    "start_time": "2022-07-01T12:43:14.672Z"
   },
   {
    "duration": 28,
    "start_time": "2022-07-01T12:43:15.332Z"
   },
   {
    "duration": 29,
    "start_time": "2022-07-01T12:43:15.445Z"
   },
   {
    "duration": 28,
    "start_time": "2022-07-01T12:43:17.279Z"
   },
   {
    "duration": 26,
    "start_time": "2022-07-01T12:43:17.575Z"
   },
   {
    "duration": 16,
    "start_time": "2022-07-01T12:43:17.692Z"
   },
   {
    "duration": 17,
    "start_time": "2022-07-01T12:43:17.932Z"
   },
   {
    "duration": 9,
    "start_time": "2022-07-01T12:43:18.495Z"
   },
   {
    "duration": 13,
    "start_time": "2022-07-01T12:43:20.150Z"
   },
   {
    "duration": 20,
    "start_time": "2022-07-01T12:43:20.747Z"
   },
   {
    "duration": 14,
    "start_time": "2022-07-01T12:43:20.864Z"
   },
   {
    "duration": 9,
    "start_time": "2022-07-01T12:43:21.099Z"
   },
   {
    "duration": 10,
    "start_time": "2022-07-01T12:43:22.206Z"
   },
   {
    "duration": 7,
    "start_time": "2022-07-01T12:43:22.388Z"
   },
   {
    "duration": 11,
    "start_time": "2022-07-01T12:43:23.472Z"
   },
   {
    "duration": 15,
    "start_time": "2022-07-01T12:43:25.592Z"
   },
   {
    "duration": 10,
    "start_time": "2022-07-01T12:43:25.835Z"
   },
   {
    "duration": 5,
    "start_time": "2022-07-01T12:43:26.020Z"
   },
   {
    "duration": 6,
    "start_time": "2022-07-01T12:43:26.505Z"
   },
   {
    "duration": 8,
    "start_time": "2022-07-01T12:43:26.689Z"
   },
   {
    "duration": 8,
    "start_time": "2022-07-01T12:43:28.221Z"
   },
   {
    "duration": 8,
    "start_time": "2022-07-01T12:43:29.335Z"
   },
   {
    "duration": 29,
    "start_time": "2022-07-01T12:43:31.896Z"
   },
   {
    "duration": 28,
    "start_time": "2022-07-01T12:49:28.847Z"
   },
   {
    "duration": 10,
    "start_time": "2022-07-01T12:51:30.041Z"
   },
   {
    "duration": 14,
    "start_time": "2022-07-01T13:26:53.087Z"
   },
   {
    "duration": 11,
    "start_time": "2022-07-01T13:31:04.087Z"
   },
   {
    "duration": 13,
    "start_time": "2022-07-01T13:32:58.336Z"
   },
   {
    "duration": 14,
    "start_time": "2022-07-01T13:33:56.694Z"
   },
   {
    "duration": 10,
    "start_time": "2022-07-01T13:35:00.892Z"
   },
   {
    "duration": 10,
    "start_time": "2022-07-01T13:37:16.432Z"
   },
   {
    "duration": 29,
    "start_time": "2022-07-01T14:38:29.188Z"
   },
   {
    "duration": 12,
    "start_time": "2022-07-01T14:39:21.284Z"
   },
   {
    "duration": 17,
    "start_time": "2022-07-01T14:39:30.158Z"
   },
   {
    "duration": 574,
    "start_time": "2022-07-01T20:31:10.012Z"
   },
   {
    "duration": 37,
    "start_time": "2022-07-01T20:31:10.588Z"
   },
   {
    "duration": 19,
    "start_time": "2022-07-01T20:31:10.627Z"
   },
   {
    "duration": 19,
    "start_time": "2022-07-01T20:31:10.706Z"
   },
   {
    "duration": 7,
    "start_time": "2022-07-01T20:31:10.793Z"
   },
   {
    "duration": 14,
    "start_time": "2022-07-01T20:31:11.118Z"
   },
   {
    "duration": 1362,
    "start_time": "2022-07-01T20:31:11.362Z"
   },
   {
    "duration": 5,
    "start_time": "2022-07-01T20:31:12.726Z"
   },
   {
    "duration": 32,
    "start_time": "2022-07-01T20:31:12.732Z"
   },
   {
    "duration": 22,
    "start_time": "2022-07-01T20:31:12.766Z"
   },
   {
    "duration": 5,
    "start_time": "2022-07-01T20:31:12.789Z"
   },
   {
    "duration": 12,
    "start_time": "2022-07-01T20:31:12.796Z"
   },
   {
    "duration": 11,
    "start_time": "2022-07-01T20:31:12.809Z"
   },
   {
    "duration": 14,
    "start_time": "2022-07-01T20:31:12.822Z"
   },
   {
    "duration": 28,
    "start_time": "2022-07-01T20:31:12.853Z"
   },
   {
    "duration": 26,
    "start_time": "2022-07-01T20:31:12.883Z"
   },
   {
    "duration": 17,
    "start_time": "2022-07-01T20:31:13.088Z"
   },
   {
    "duration": 32,
    "start_time": "2022-07-01T20:31:13.435Z"
   },
   {
    "duration": 30,
    "start_time": "2022-07-01T20:31:13.643Z"
   },
   {
    "duration": 19,
    "start_time": "2022-07-01T20:31:13.746Z"
   },
   {
    "duration": 28,
    "start_time": "2022-07-01T20:31:13.986Z"
   },
   {
    "duration": 9,
    "start_time": "2022-07-01T20:31:16.980Z"
   },
   {
    "duration": 8,
    "start_time": "2022-07-01T20:31:17.082Z"
   },
   {
    "duration": 15,
    "start_time": "2022-07-01T20:31:17.252Z"
   },
   {
    "duration": 9,
    "start_time": "2022-07-01T20:31:17.435Z"
   },
   {
    "duration": 9,
    "start_time": "2022-07-01T20:31:18.238Z"
   },
   {
    "duration": 10,
    "start_time": "2022-07-01T20:31:18.338Z"
   },
   {
    "duration": 6,
    "start_time": "2022-07-01T20:31:18.584Z"
   },
   {
    "duration": 12,
    "start_time": "2022-07-01T20:31:19.249Z"
   },
   {
    "duration": 16,
    "start_time": "2022-07-01T20:31:20.632Z"
   },
   {
    "duration": 12,
    "start_time": "2022-07-01T20:31:20.743Z"
   },
   {
    "duration": 6,
    "start_time": "2022-07-01T20:31:20.966Z"
   },
   {
    "duration": 5,
    "start_time": "2022-07-01T20:31:22.674Z"
   },
   {
    "duration": 9,
    "start_time": "2022-07-01T20:31:27.534Z"
   },
   {
    "duration": 8,
    "start_time": "2022-07-01T20:31:27.983Z"
   },
   {
    "duration": 10,
    "start_time": "2022-07-01T20:31:29.021Z"
   },
   {
    "duration": 35,
    "start_time": "2022-07-01T20:32:58.751Z"
   },
   {
    "duration": 25,
    "start_time": "2022-07-01T20:51:40.035Z"
   },
   {
    "duration": 20,
    "start_time": "2022-07-01T20:52:29.436Z"
   },
   {
    "duration": 19,
    "start_time": "2022-07-01T20:53:14.600Z"
   },
   {
    "duration": 17,
    "start_time": "2022-07-01T20:54:06.669Z"
   },
   {
    "duration": 11,
    "start_time": "2022-07-01T20:54:34.618Z"
   },
   {
    "duration": 6,
    "start_time": "2022-07-01T21:15:15.414Z"
   },
   {
    "duration": 12,
    "start_time": "2022-07-01T21:15:17.073Z"
   },
   {
    "duration": 4350,
    "start_time": "2022-07-01T21:16:56.781Z"
   },
   {
    "duration": 1275,
    "start_time": "2022-07-01T21:17:24.022Z"
   },
   {
    "duration": 14,
    "start_time": "2022-07-01T21:17:42.507Z"
   },
   {
    "duration": 134,
    "start_time": "2022-07-01T21:17:54.501Z"
   },
   {
    "duration": 26,
    "start_time": "2022-07-01T21:17:55.200Z"
   },
   {
    "duration": 27,
    "start_time": "2022-07-01T21:17:55.445Z"
   },
   {
    "duration": 15,
    "start_time": "2022-07-01T21:17:55.981Z"
   },
   {
    "duration": 8,
    "start_time": "2022-07-01T21:17:56.182Z"
   },
   {
    "duration": 19,
    "start_time": "2022-07-01T21:17:56.469Z"
   },
   {
    "duration": 463,
    "start_time": "2022-07-01T21:17:56.634Z"
   },
   {
    "duration": 5,
    "start_time": "2022-07-01T21:17:57.099Z"
   },
   {
    "duration": 10,
    "start_time": "2022-07-01T21:17:57.106Z"
   },
   {
    "duration": 20,
    "start_time": "2022-07-01T21:17:57.174Z"
   },
   {
    "duration": 6,
    "start_time": "2022-07-01T21:17:57.323Z"
   },
   {
    "duration": 6,
    "start_time": "2022-07-01T21:17:57.418Z"
   },
   {
    "duration": 7,
    "start_time": "2022-07-01T21:17:57.579Z"
   },
   {
    "duration": 12,
    "start_time": "2022-07-01T21:17:57.928Z"
   },
   {
    "duration": 13,
    "start_time": "2022-07-01T21:17:58.106Z"
   },
   {
    "duration": 25,
    "start_time": "2022-07-01T21:17:58.290Z"
   },
   {
    "duration": 20,
    "start_time": "2022-07-01T21:17:58.481Z"
   },
   {
    "duration": 16,
    "start_time": "2022-07-01T21:17:58.886Z"
   },
   {
    "duration": 26,
    "start_time": "2022-07-01T21:17:58.977Z"
   },
   {
    "duration": 17,
    "start_time": "2022-07-01T21:17:59.105Z"
   },
   {
    "duration": 18,
    "start_time": "2022-07-01T21:17:59.190Z"
   },
   {
    "duration": 13,
    "start_time": "2022-07-01T21:17:59.978Z"
   },
   {
    "duration": 19,
    "start_time": "2022-07-01T21:18:00.144Z"
   },
   {
    "duration": 11,
    "start_time": "2022-07-01T21:18:00.328Z"
   },
   {
    "duration": 9,
    "start_time": "2022-07-01T21:18:01.614Z"
   },
   {
    "duration": 10,
    "start_time": "2022-07-01T21:18:02.042Z"
   },
   {
    "duration": 9,
    "start_time": "2022-07-01T21:18:02.219Z"
   },
   {
    "duration": 6,
    "start_time": "2022-07-01T21:18:03.102Z"
   },
   {
    "duration": 10,
    "start_time": "2022-07-01T21:18:03.383Z"
   },
   {
    "duration": 29,
    "start_time": "2022-07-01T21:18:04.397Z"
   },
   {
    "duration": 10,
    "start_time": "2022-07-01T21:18:04.584Z"
   },
   {
    "duration": 5,
    "start_time": "2022-07-01T21:18:05.340Z"
   },
   {
    "duration": 5,
    "start_time": "2022-07-01T21:18:05.528Z"
   },
   {
    "duration": 8,
    "start_time": "2022-07-01T21:18:06.788Z"
   },
   {
    "duration": 13,
    "start_time": "2022-07-01T21:18:06.974Z"
   },
   {
    "duration": 8,
    "start_time": "2022-07-01T21:18:07.803Z"
   },
   {
    "duration": 7,
    "start_time": "2022-07-01T21:18:07.979Z"
   },
   {
    "duration": 10,
    "start_time": "2022-07-01T21:18:16.477Z"
   },
   {
    "duration": 11,
    "start_time": "2022-07-01T21:18:17.877Z"
   },
   {
    "duration": 17,
    "start_time": "2022-07-01T21:18:20.180Z"
   },
   {
    "duration": 9,
    "start_time": "2022-07-01T21:18:23.481Z"
   },
   {
    "duration": 5,
    "start_time": "2022-07-01T21:31:48.917Z"
   },
   {
    "duration": 12,
    "start_time": "2022-07-01T21:32:04.394Z"
   },
   {
    "duration": 9,
    "start_time": "2022-07-01T21:34:01.078Z"
   },
   {
    "duration": 6,
    "start_time": "2022-07-01T21:37:36.798Z"
   },
   {
    "duration": 6,
    "start_time": "2022-07-01T21:38:17.098Z"
   },
   {
    "duration": 8,
    "start_time": "2022-07-01T21:38:18.025Z"
   },
   {
    "duration": 13,
    "start_time": "2022-07-01T21:38:54.309Z"
   },
   {
    "duration": 10,
    "start_time": "2022-07-01T21:44:47.796Z"
   },
   {
    "duration": 23,
    "start_time": "2022-07-01T21:44:50.896Z"
   },
   {
    "duration": 240,
    "start_time": "2022-07-01T21:45:00.696Z"
   },
   {
    "duration": 7,
    "start_time": "2022-07-01T21:46:15.128Z"
   },
   {
    "duration": 10,
    "start_time": "2022-07-01T21:46:17.018Z"
   },
   {
    "duration": 245,
    "start_time": "2022-07-01T21:47:24.122Z"
   },
   {
    "duration": 205,
    "start_time": "2022-07-01T21:48:38.219Z"
   },
   {
    "duration": 107,
    "start_time": "2022-07-01T21:51:01.500Z"
   },
   {
    "duration": 48,
    "start_time": "2022-07-01T21:51:02.374Z"
   },
   {
    "duration": 44,
    "start_time": "2022-07-01T21:51:02.425Z"
   },
   {
    "duration": 17,
    "start_time": "2022-07-01T21:51:02.898Z"
   },
   {
    "duration": 8,
    "start_time": "2022-07-01T21:51:02.997Z"
   },
   {
    "duration": 14,
    "start_time": "2022-07-01T21:51:03.217Z"
   },
   {
    "duration": 545,
    "start_time": "2022-07-01T21:51:03.294Z"
   },
   {
    "duration": 17,
    "start_time": "2022-07-01T21:51:03.841Z"
   },
   {
    "duration": 47,
    "start_time": "2022-07-01T21:51:03.862Z"
   },
   {
    "duration": 25,
    "start_time": "2022-07-01T21:51:03.912Z"
   },
   {
    "duration": 6,
    "start_time": "2022-07-01T21:51:03.939Z"
   },
   {
    "duration": 64,
    "start_time": "2022-07-01T21:51:03.948Z"
   },
   {
    "duration": 9,
    "start_time": "2022-07-01T21:51:04.014Z"
   },
   {
    "duration": 16,
    "start_time": "2022-07-01T21:51:04.196Z"
   },
   {
    "duration": 13,
    "start_time": "2022-07-01T21:51:04.908Z"
   },
   {
    "duration": 28,
    "start_time": "2022-07-01T21:51:04.922Z"
   },
   {
    "duration": 32,
    "start_time": "2022-07-01T21:51:04.951Z"
   },
   {
    "duration": 38,
    "start_time": "2022-07-01T21:51:04.985Z"
   },
   {
    "duration": 38,
    "start_time": "2022-07-01T21:51:05.071Z"
   },
   {
    "duration": 15,
    "start_time": "2022-07-01T21:51:05.119Z"
   },
   {
    "duration": 29,
    "start_time": "2022-07-01T21:51:05.298Z"
   },
   {
    "duration": 13,
    "start_time": "2022-07-01T21:51:05.616Z"
   },
   {
    "duration": 21,
    "start_time": "2022-07-01T21:51:05.774Z"
   },
   {
    "duration": 21,
    "start_time": "2022-07-01T21:51:05.878Z"
   },
   {
    "duration": 18,
    "start_time": "2022-07-01T21:51:06.079Z"
   },
   {
    "duration": 15,
    "start_time": "2022-07-01T21:51:06.380Z"
   },
   {
    "duration": 18,
    "start_time": "2022-07-01T21:51:06.477Z"
   },
   {
    "duration": 7,
    "start_time": "2022-07-01T21:51:06.695Z"
   },
   {
    "duration": 14,
    "start_time": "2022-07-01T21:51:06.773Z"
   },
   {
    "duration": 17,
    "start_time": "2022-07-01T21:51:07.214Z"
   },
   {
    "duration": 10,
    "start_time": "2022-07-01T21:51:07.591Z"
   },
   {
    "duration": 13,
    "start_time": "2022-07-01T21:51:07.767Z"
   },
   {
    "duration": 8,
    "start_time": "2022-07-01T21:51:08.473Z"
   },
   {
    "duration": 15,
    "start_time": "2022-07-01T21:51:08.667Z"
   },
   {
    "duration": 18,
    "start_time": "2022-07-01T21:51:08.779Z"
   },
   {
    "duration": 8,
    "start_time": "2022-07-01T21:51:08.817Z"
   },
   {
    "duration": 6,
    "start_time": "2022-07-01T21:51:08.985Z"
   },
   {
    "duration": 10,
    "start_time": "2022-07-01T21:51:09.081Z"
   },
   {
    "duration": 13,
    "start_time": "2022-07-01T21:51:09.213Z"
   },
   {
    "duration": 197,
    "start_time": "2022-07-01T21:51:09.302Z"
   },
   {
    "duration": 315,
    "start_time": "2022-07-01T21:51:09.506Z"
   },
   {
    "duration": 929,
    "start_time": "2022-07-02T15:56:42.202Z"
   },
   {
    "duration": 38,
    "start_time": "2022-07-02T15:56:43.134Z"
   },
   {
    "duration": 22,
    "start_time": "2022-07-02T15:56:43.174Z"
   },
   {
    "duration": 20,
    "start_time": "2022-07-02T15:56:43.198Z"
   },
   {
    "duration": 7,
    "start_time": "2022-07-02T15:56:43.287Z"
   },
   {
    "duration": 15,
    "start_time": "2022-07-02T15:56:43.530Z"
   },
   {
    "duration": 1011,
    "start_time": "2022-07-02T15:56:43.716Z"
   },
   {
    "duration": 6,
    "start_time": "2022-07-02T15:56:44.730Z"
   },
   {
    "duration": 24,
    "start_time": "2022-07-02T15:56:44.738Z"
   },
   {
    "duration": 21,
    "start_time": "2022-07-02T15:56:44.765Z"
   },
   {
    "duration": 5,
    "start_time": "2022-07-02T15:56:44.788Z"
   },
   {
    "duration": 9,
    "start_time": "2022-07-02T15:56:44.795Z"
   },
   {
    "duration": 8,
    "start_time": "2022-07-02T15:56:44.806Z"
   },
   {
    "duration": 11,
    "start_time": "2022-07-02T15:56:45.003Z"
   },
   {
    "duration": 16,
    "start_time": "2022-07-02T15:56:45.184Z"
   },
   {
    "duration": 36,
    "start_time": "2022-07-02T15:56:45.253Z"
   },
   {
    "duration": 18,
    "start_time": "2022-07-02T15:56:45.496Z"
   },
   {
    "duration": 17,
    "start_time": "2022-07-02T15:56:45.849Z"
   },
   {
    "duration": 34,
    "start_time": "2022-07-02T15:56:46.092Z"
   },
   {
    "duration": 15,
    "start_time": "2022-07-02T15:56:46.185Z"
   },
   {
    "duration": 17,
    "start_time": "2022-07-02T15:56:46.393Z"
   },
   {
    "duration": 9,
    "start_time": "2022-07-02T15:56:46.724Z"
   },
   {
    "duration": 9,
    "start_time": "2022-07-02T15:56:46.954Z"
   },
   {
    "duration": 9,
    "start_time": "2022-07-02T15:56:47.049Z"
   },
   {
    "duration": 8,
    "start_time": "2022-07-02T15:56:47.264Z"
   },
   {
    "duration": 10,
    "start_time": "2022-07-02T15:56:47.351Z"
   },
   {
    "duration": 10,
    "start_time": "2022-07-02T15:56:47.584Z"
   },
   {
    "duration": 7,
    "start_time": "2022-07-02T15:56:47.815Z"
   },
   {
    "duration": 7,
    "start_time": "2022-07-02T15:56:47.940Z"
   },
   {
    "duration": 15,
    "start_time": "2022-07-02T15:56:48.499Z"
   },
   {
    "duration": 8,
    "start_time": "2022-07-02T15:56:49.110Z"
   },
   {
    "duration": 5,
    "start_time": "2022-07-02T15:56:49.289Z"
   },
   {
    "duration": 5,
    "start_time": "2022-07-02T15:56:49.648Z"
   },
   {
    "duration": 8,
    "start_time": "2022-07-02T15:56:49.914Z"
   },
   {
    "duration": 10,
    "start_time": "2022-07-02T15:56:50.097Z"
   },
   {
    "duration": 8,
    "start_time": "2022-07-02T15:56:50.511Z"
   },
   {
    "duration": 6,
    "start_time": "2022-07-02T15:56:50.693Z"
   },
   {
    "duration": 7,
    "start_time": "2022-07-02T15:56:51.430Z"
   },
   {
    "duration": 10,
    "start_time": "2022-07-02T15:56:51.540Z"
   },
   {
    "duration": 176,
    "start_time": "2022-07-02T15:56:51.738Z"
   },
   {
    "duration": 201,
    "start_time": "2022-07-02T15:56:51.922Z"
   },
   {
    "duration": 7,
    "start_time": "2022-07-02T15:59:47.786Z"
   },
   {
    "duration": 8,
    "start_time": "2022-07-02T16:03:16.036Z"
   },
   {
    "duration": 8,
    "start_time": "2022-07-02T16:03:33.834Z"
   },
   {
    "duration": 8,
    "start_time": "2022-07-02T16:03:47.382Z"
   },
   {
    "duration": 8,
    "start_time": "2022-07-02T16:04:07.834Z"
   },
   {
    "duration": 8,
    "start_time": "2022-07-02T16:04:28.207Z"
   },
   {
    "duration": 10,
    "start_time": "2022-07-02T16:04:40.312Z"
   },
   {
    "duration": 7,
    "start_time": "2022-07-02T16:04:59.483Z"
   },
   {
    "duration": 10,
    "start_time": "2022-07-02T16:05:05.275Z"
   },
   {
    "duration": 213,
    "start_time": "2022-07-02T16:05:31.755Z"
   },
   {
    "duration": 172,
    "start_time": "2022-07-02T16:06:30.887Z"
   },
   {
    "duration": 176,
    "start_time": "2022-07-02T16:06:52.753Z"
   },
   {
    "duration": 176,
    "start_time": "2022-07-02T16:07:22.082Z"
   },
   {
    "duration": 96,
    "start_time": "2022-07-02T16:09:27.814Z"
   },
   {
    "duration": 9,
    "start_time": "2022-07-02T16:10:09.149Z"
   },
   {
    "duration": 9,
    "start_time": "2022-07-02T16:10:19.135Z"
   },
   {
    "duration": 9,
    "start_time": "2022-07-02T16:10:32.857Z"
   },
   {
    "duration": 7,
    "start_time": "2022-07-02T16:11:12.638Z"
   },
   {
    "duration": 9,
    "start_time": "2022-07-02T16:12:55.521Z"
   },
   {
    "duration": 912,
    "start_time": "2022-07-02T16:14:21.605Z"
   },
   {
    "duration": 24,
    "start_time": "2022-07-02T16:14:34.629Z"
   },
   {
    "duration": 9,
    "start_time": "2022-07-02T16:15:12.663Z"
   },
   {
    "duration": 28,
    "start_time": "2022-07-02T16:20:34.850Z"
   },
   {
    "duration": 36,
    "start_time": "2022-07-02T16:37:10.768Z"
   },
   {
    "duration": 15,
    "start_time": "2022-07-02T16:38:45.767Z"
   },
   {
    "duration": 8,
    "start_time": "2022-07-02T16:38:46.309Z"
   },
   {
    "duration": 5,
    "start_time": "2022-07-02T16:38:46.405Z"
   },
   {
    "duration": 6,
    "start_time": "2022-07-02T16:38:46.611Z"
   },
   {
    "duration": 9,
    "start_time": "2022-07-02T16:38:46.707Z"
   },
   {
    "duration": 10,
    "start_time": "2022-07-02T16:38:46.912Z"
   },
   {
    "duration": 79,
    "start_time": "2022-07-02T16:38:47.008Z"
   },
   {
    "duration": 6,
    "start_time": "2022-07-02T16:38:47.213Z"
   },
   {
    "duration": 7,
    "start_time": "2022-07-02T16:38:47.303Z"
   },
   {
    "duration": 10,
    "start_time": "2022-07-02T16:38:47.507Z"
   },
   {
    "duration": 8,
    "start_time": "2022-07-02T16:38:47.596Z"
   },
   {
    "duration": 25,
    "start_time": "2022-07-02T16:38:47.804Z"
   },
   {
    "duration": 6,
    "start_time": "2022-07-02T16:39:39.928Z"
   },
   {
    "duration": 1010,
    "start_time": "2022-07-02T16:51:59.686Z"
   },
   {
    "duration": 1062,
    "start_time": "2022-07-02T16:52:22.503Z"
   },
   {
    "duration": 10,
    "start_time": "2022-07-02T16:52:47.399Z"
   },
   {
    "duration": 9,
    "start_time": "2022-07-02T17:01:09.820Z"
   },
   {
    "duration": 8,
    "start_time": "2022-07-02T17:01:58.987Z"
   },
   {
    "duration": 90,
    "start_time": "2022-07-02T17:02:19.102Z"
   },
   {
    "duration": 28,
    "start_time": "2022-07-02T17:02:19.296Z"
   },
   {
    "duration": 21,
    "start_time": "2022-07-02T17:02:19.589Z"
   },
   {
    "duration": 14,
    "start_time": "2022-07-02T17:02:19.744Z"
   },
   {
    "duration": 7,
    "start_time": "2022-07-02T17:02:19.831Z"
   },
   {
    "duration": 14,
    "start_time": "2022-07-02T17:02:20.047Z"
   },
   {
    "duration": 468,
    "start_time": "2022-07-02T17:02:20.207Z"
   },
   {
    "duration": 6,
    "start_time": "2022-07-02T17:02:20.677Z"
   },
   {
    "duration": 12,
    "start_time": "2022-07-02T17:02:20.684Z"
   },
   {
    "duration": 18,
    "start_time": "2022-07-02T17:02:20.698Z"
   },
   {
    "duration": 6,
    "start_time": "2022-07-02T17:02:20.717Z"
   },
   {
    "duration": 7,
    "start_time": "2022-07-02T17:02:20.765Z"
   },
   {
    "duration": 7,
    "start_time": "2022-07-02T17:02:20.915Z"
   },
   {
    "duration": 10,
    "start_time": "2022-07-02T17:02:21.083Z"
   },
   {
    "duration": 15,
    "start_time": "2022-07-02T17:02:21.251Z"
   },
   {
    "duration": 27,
    "start_time": "2022-07-02T17:02:21.320Z"
   },
   {
    "duration": 18,
    "start_time": "2022-07-02T17:02:21.481Z"
   },
   {
    "duration": 17,
    "start_time": "2022-07-02T17:02:21.791Z"
   },
   {
    "duration": 28,
    "start_time": "2022-07-02T17:02:21.965Z"
   },
   {
    "duration": 17,
    "start_time": "2022-07-02T17:02:22.054Z"
   },
   {
    "duration": 18,
    "start_time": "2022-07-02T17:02:22.216Z"
   },
   {
    "duration": 9,
    "start_time": "2022-07-02T17:02:22.525Z"
   },
   {
    "duration": 10,
    "start_time": "2022-07-02T17:02:22.693Z"
   },
   {
    "duration": 11,
    "start_time": "2022-07-02T17:02:22.759Z"
   },
   {
    "duration": 9,
    "start_time": "2022-07-02T17:02:22.928Z"
   },
   {
    "duration": 10,
    "start_time": "2022-07-02T17:02:23.051Z"
   },
   {
    "duration": 14,
    "start_time": "2022-07-02T17:02:23.203Z"
   },
   {
    "duration": 7,
    "start_time": "2022-07-02T17:02:23.342Z"
   },
   {
    "duration": 7,
    "start_time": "2022-07-02T17:02:23.407Z"
   },
   {
    "duration": 15,
    "start_time": "2022-07-02T17:02:23.799Z"
   },
   {
    "duration": 9,
    "start_time": "2022-07-02T17:02:23.930Z"
   },
   {
    "duration": 5,
    "start_time": "2022-07-02T17:02:24.009Z"
   },
   {
    "duration": 6,
    "start_time": "2022-07-02T17:02:24.217Z"
   },
   {
    "duration": 8,
    "start_time": "2022-07-02T17:02:24.557Z"
   },
   {
    "duration": 8,
    "start_time": "2022-07-02T17:02:24.644Z"
   },
   {
    "duration": 8,
    "start_time": "2022-07-02T17:02:24.827Z"
   },
   {
    "duration": 5,
    "start_time": "2022-07-02T17:02:24.908Z"
   },
   {
    "duration": 8,
    "start_time": "2022-07-02T17:02:25.085Z"
   },
   {
    "duration": 12,
    "start_time": "2022-07-02T17:02:25.183Z"
   },
   {
    "duration": 9,
    "start_time": "2022-07-02T17:02:25.408Z"
   },
   {
    "duration": 25,
    "start_time": "2022-07-02T17:02:25.911Z"
   },
   {
    "duration": 8,
    "start_time": "2022-07-02T17:02:27.428Z"
   },
   {
    "duration": 1031,
    "start_time": "2022-07-02T17:02:39.910Z"
   },
   {
    "duration": 387,
    "start_time": "2022-07-02T17:02:58.096Z"
   },
   {
    "duration": 460,
    "start_time": "2022-07-02T17:03:12.214Z"
   },
   {
    "duration": 11,
    "start_time": "2022-07-02T17:06:20.828Z"
   },
   {
    "duration": 5,
    "start_time": "2022-07-02T17:08:29.467Z"
   },
   {
    "duration": 17,
    "start_time": "2022-07-02T17:08:46.639Z"
   },
   {
    "duration": 1065,
    "start_time": "2022-07-02T19:50:58.003Z"
   },
   {
    "duration": 94,
    "start_time": "2022-07-02T19:50:59.070Z"
   },
   {
    "duration": 21,
    "start_time": "2022-07-02T19:50:59.171Z"
   },
   {
    "duration": 18,
    "start_time": "2022-07-02T19:50:59.195Z"
   },
   {
    "duration": 6,
    "start_time": "2022-07-02T19:50:59.215Z"
   },
   {
    "duration": 12,
    "start_time": "2022-07-02T19:50:59.238Z"
   },
   {
    "duration": 958,
    "start_time": "2022-07-02T19:50:59.307Z"
   },
   {
    "duration": 5,
    "start_time": "2022-07-02T19:51:00.266Z"
   },
   {
    "duration": 19,
    "start_time": "2022-07-02T19:51:00.272Z"
   },
   {
    "duration": 25,
    "start_time": "2022-07-02T19:51:00.293Z"
   },
   {
    "duration": 12,
    "start_time": "2022-07-02T19:51:00.320Z"
   },
   {
    "duration": 21,
    "start_time": "2022-07-02T19:51:00.333Z"
   },
   {
    "duration": 14,
    "start_time": "2022-07-02T19:51:00.355Z"
   },
   {
    "duration": 20,
    "start_time": "2022-07-02T19:51:00.371Z"
   },
   {
    "duration": 11,
    "start_time": "2022-07-02T19:51:00.396Z"
   },
   {
    "duration": 24,
    "start_time": "2022-07-02T19:51:00.454Z"
   },
   {
    "duration": 16,
    "start_time": "2022-07-02T19:51:00.619Z"
   },
   {
    "duration": 16,
    "start_time": "2022-07-02T19:51:01.091Z"
   },
   {
    "duration": 29,
    "start_time": "2022-07-02T19:51:01.178Z"
   },
   {
    "duration": 15,
    "start_time": "2022-07-02T19:51:01.349Z"
   },
   {
    "duration": 16,
    "start_time": "2022-07-02T19:51:01.437Z"
   },
   {
    "duration": 8,
    "start_time": "2022-07-02T19:51:01.887Z"
   },
   {
    "duration": 8,
    "start_time": "2022-07-02T19:51:01.983Z"
   },
   {
    "duration": 10,
    "start_time": "2022-07-02T19:51:02.196Z"
   },
   {
    "duration": 9,
    "start_time": "2022-07-02T19:51:02.268Z"
   },
   {
    "duration": 9,
    "start_time": "2022-07-02T19:51:02.473Z"
   },
   {
    "duration": 9,
    "start_time": "2022-07-02T19:51:02.547Z"
   },
   {
    "duration": 7,
    "start_time": "2022-07-02T19:51:02.758Z"
   },
   {
    "duration": 7,
    "start_time": "2022-07-02T19:51:02.829Z"
   },
   {
    "duration": 14,
    "start_time": "2022-07-02T19:51:03.388Z"
   },
   {
    "duration": 10,
    "start_time": "2022-07-02T19:51:03.586Z"
   },
   {
    "duration": 5,
    "start_time": "2022-07-02T19:51:03.681Z"
   },
   {
    "duration": 4,
    "start_time": "2022-07-02T19:51:03.852Z"
   },
   {
    "duration": 8,
    "start_time": "2022-07-02T19:51:03.940Z"
   },
   {
    "duration": 8,
    "start_time": "2022-07-02T19:51:04.116Z"
   },
   {
    "duration": 7,
    "start_time": "2022-07-02T19:51:04.215Z"
   },
   {
    "duration": 5,
    "start_time": "2022-07-02T19:51:04.419Z"
   },
   {
    "duration": 8,
    "start_time": "2022-07-02T19:51:04.890Z"
   },
   {
    "duration": 10,
    "start_time": "2022-07-02T19:51:05.118Z"
   },
   {
    "duration": 8,
    "start_time": "2022-07-02T19:51:05.228Z"
   },
   {
    "duration": 26,
    "start_time": "2022-07-02T19:51:05.435Z"
   },
   {
    "duration": 17,
    "start_time": "2022-07-02T19:51:06.730Z"
   },
   {
    "duration": 376,
    "start_time": "2022-07-02T19:52:26.269Z"
   },
   {
    "duration": 440,
    "start_time": "2022-07-02T19:53:38.916Z"
   },
   {
    "duration": 368,
    "start_time": "2022-07-02T19:54:54.965Z"
   },
   {
    "duration": 382,
    "start_time": "2022-07-02T19:55:37.253Z"
   },
   {
    "duration": 360,
    "start_time": "2022-07-02T19:58:47.667Z"
   },
   {
    "duration": 327,
    "start_time": "2022-07-02T19:59:27.666Z"
   },
   {
    "duration": 1466,
    "start_time": "2022-07-03T18:20:00.358Z"
   },
   {
    "duration": 113,
    "start_time": "2022-07-03T18:20:01.827Z"
   },
   {
    "duration": 22,
    "start_time": "2022-07-03T18:20:01.942Z"
   },
   {
    "duration": 19,
    "start_time": "2022-07-03T18:20:01.967Z"
   },
   {
    "duration": 8,
    "start_time": "2022-07-03T18:20:01.988Z"
   },
   {
    "duration": 29,
    "start_time": "2022-07-03T18:20:01.998Z"
   },
   {
    "duration": 989,
    "start_time": "2022-07-03T18:20:02.062Z"
   },
   {
    "duration": 6,
    "start_time": "2022-07-03T18:20:03.054Z"
   },
   {
    "duration": 17,
    "start_time": "2022-07-03T18:20:03.062Z"
   },
   {
    "duration": 19,
    "start_time": "2022-07-03T18:20:03.080Z"
   },
   {
    "duration": 5,
    "start_time": "2022-07-03T18:20:03.100Z"
   },
   {
    "duration": 21,
    "start_time": "2022-07-03T18:20:03.125Z"
   },
   {
    "duration": 11,
    "start_time": "2022-07-03T18:20:03.149Z"
   },
   {
    "duration": 12,
    "start_time": "2022-07-03T18:20:03.162Z"
   },
   {
    "duration": 13,
    "start_time": "2022-07-03T18:20:03.272Z"
   },
   {
    "duration": 26,
    "start_time": "2022-07-03T18:20:03.739Z"
   },
   {
    "duration": 26,
    "start_time": "2022-07-03T18:20:03.823Z"
   },
   {
    "duration": 19,
    "start_time": "2022-07-03T18:20:04.290Z"
   },
   {
    "duration": 36,
    "start_time": "2022-07-03T18:20:04.403Z"
   },
   {
    "duration": 16,
    "start_time": "2022-07-03T18:20:04.640Z"
   },
   {
    "duration": 19,
    "start_time": "2022-07-03T18:20:04.771Z"
   },
   {
    "duration": 9,
    "start_time": "2022-07-03T18:20:05.308Z"
   },
   {
    "duration": 9,
    "start_time": "2022-07-03T18:20:05.376Z"
   },
   {
    "duration": 10,
    "start_time": "2022-07-03T18:20:05.712Z"
   },
   {
    "duration": 10,
    "start_time": "2022-07-03T18:20:05.838Z"
   },
   {
    "duration": 11,
    "start_time": "2022-07-03T18:20:06.059Z"
   },
   {
    "duration": 13,
    "start_time": "2022-07-03T18:20:06.156Z"
   },
   {
    "duration": 6,
    "start_time": "2022-07-03T18:20:06.405Z"
   },
   {
    "duration": 7,
    "start_time": "2022-07-03T18:20:06.458Z"
   },
   {
    "duration": 18,
    "start_time": "2022-07-03T18:20:06.958Z"
   },
   {
    "duration": 11,
    "start_time": "2022-07-03T18:20:07.056Z"
   },
   {
    "duration": 6,
    "start_time": "2022-07-03T18:20:07.261Z"
   },
   {
    "duration": 6,
    "start_time": "2022-07-03T18:20:07.340Z"
   },
   {
    "duration": 20,
    "start_time": "2022-07-03T18:20:07.618Z"
   },
   {
    "duration": 11,
    "start_time": "2022-07-03T18:20:07.689Z"
   },
   {
    "duration": 7,
    "start_time": "2022-07-03T18:20:08.099Z"
   },
   {
    "duration": 5,
    "start_time": "2022-07-03T18:20:08.214Z"
   },
   {
    "duration": 13,
    "start_time": "2022-07-03T18:20:08.767Z"
   },
   {
    "duration": 29,
    "start_time": "2022-07-03T18:20:08.783Z"
   },
   {
    "duration": 10,
    "start_time": "2022-07-03T18:20:08.814Z"
   },
   {
    "duration": 26,
    "start_time": "2022-07-03T18:20:08.943Z"
   },
   {
    "duration": 20,
    "start_time": "2022-07-03T18:20:09.621Z"
   },
   {
    "duration": 99,
    "start_time": "2022-07-03T18:21:55.971Z"
   },
   {
    "duration": 9,
    "start_time": "2022-07-03T18:22:17.108Z"
   },
   {
    "duration": 11,
    "start_time": "2022-07-03T18:22:38.783Z"
   },
   {
    "duration": 436,
    "start_time": "2022-07-03T18:22:56.467Z"
   },
   {
    "duration": 8,
    "start_time": "2022-07-03T18:27:23.439Z"
   },
   {
    "duration": 11,
    "start_time": "2022-07-03T18:27:32.242Z"
   },
   {
    "duration": 617,
    "start_time": "2022-07-03T18:27:57.893Z"
   },
   {
    "duration": 442,
    "start_time": "2022-07-03T18:28:32.214Z"
   },
   {
    "duration": 5866,
    "start_time": "2022-07-03T18:35:21.541Z"
   },
   {
    "duration": 1450,
    "start_time": "2022-07-03T18:35:44.022Z"
   },
   {
    "duration": 788,
    "start_time": "2022-07-03T18:35:57.522Z"
   },
   {
    "duration": 559,
    "start_time": "2022-07-03T18:36:26.862Z"
   },
   {
    "duration": 344,
    "start_time": "2022-07-03T18:37:23.216Z"
   },
   {
    "duration": 359,
    "start_time": "2022-07-03T18:37:33.467Z"
   },
   {
    "duration": 319,
    "start_time": "2022-07-03T18:38:57.531Z"
   },
   {
    "duration": 324,
    "start_time": "2022-07-03T18:39:36.393Z"
   },
   {
    "duration": 299,
    "start_time": "2022-07-03T18:39:49.509Z"
   },
   {
    "duration": 649,
    "start_time": "2022-07-03T18:40:45.614Z"
   },
   {
    "duration": 290,
    "start_time": "2022-07-03T18:41:21.892Z"
   },
   {
    "duration": 357,
    "start_time": "2022-07-03T18:41:36.155Z"
   },
   {
    "duration": 340,
    "start_time": "2022-07-03T18:52:42.968Z"
   },
   {
    "duration": 469,
    "start_time": "2022-07-03T18:53:01.317Z"
   },
   {
    "duration": 3,
    "start_time": "2022-07-03T18:59:39.114Z"
   },
   {
    "duration": 39,
    "start_time": "2022-07-03T19:00:44.118Z"
   },
   {
    "duration": 16,
    "start_time": "2022-07-03T19:00:59.522Z"
   },
   {
    "duration": 15,
    "start_time": "2022-07-03T19:01:23.019Z"
   },
   {
    "duration": 5,
    "start_time": "2022-07-03T19:02:17.289Z"
   },
   {
    "duration": 19,
    "start_time": "2022-07-03T19:02:33.870Z"
   },
   {
    "duration": 24,
    "start_time": "2022-07-03T19:03:06.322Z"
   },
   {
    "duration": 18,
    "start_time": "2022-07-03T19:03:47.296Z"
   },
   {
    "duration": 15,
    "start_time": "2022-07-03T19:05:09.404Z"
   },
   {
    "duration": 22,
    "start_time": "2022-07-03T19:06:02.211Z"
   },
   {
    "duration": 15,
    "start_time": "2022-07-03T19:07:52.395Z"
   },
   {
    "duration": 15,
    "start_time": "2022-07-03T19:08:27.320Z"
   },
   {
    "duration": 33,
    "start_time": "2022-07-03T19:09:16.774Z"
   },
   {
    "duration": 15,
    "start_time": "2022-07-03T19:09:24.111Z"
   },
   {
    "duration": 14,
    "start_time": "2022-07-03T19:09:38.230Z"
   },
   {
    "duration": 29,
    "start_time": "2022-07-03T19:09:47.662Z"
   },
   {
    "duration": 1810,
    "start_time": "2022-07-03T19:10:01.030Z"
   },
   {
    "duration": 102,
    "start_time": "2022-07-03T19:10:46.570Z"
   },
   {
    "duration": 1543,
    "start_time": "2022-07-03T19:10:52.404Z"
   },
   {
    "duration": 1531,
    "start_time": "2022-07-03T19:11:44.902Z"
   },
   {
    "duration": 1750,
    "start_time": "2022-07-03T19:12:45.717Z"
   },
   {
    "duration": 298,
    "start_time": "2022-07-03T19:14:19.295Z"
   },
   {
    "duration": 1694,
    "start_time": "2022-07-03T19:21:09.607Z"
   },
   {
    "duration": 1007,
    "start_time": "2022-07-03T19:24:25.110Z"
   },
   {
    "duration": 313,
    "start_time": "2022-07-03T19:24:35.957Z"
   },
   {
    "duration": 313,
    "start_time": "2022-07-03T19:24:51.292Z"
   },
   {
    "duration": 301,
    "start_time": "2022-07-03T19:25:06.926Z"
   },
   {
    "duration": 97,
    "start_time": "2022-07-03T19:25:17.455Z"
   },
   {
    "duration": 45,
    "start_time": "2022-07-03T19:25:17.612Z"
   },
   {
    "duration": 23,
    "start_time": "2022-07-03T19:25:17.706Z"
   },
   {
    "duration": 14,
    "start_time": "2022-07-03T19:25:18.155Z"
   },
   {
    "duration": 7,
    "start_time": "2022-07-03T19:25:18.206Z"
   },
   {
    "duration": 14,
    "start_time": "2022-07-03T19:25:18.452Z"
   },
   {
    "duration": 459,
    "start_time": "2022-07-03T19:25:18.603Z"
   },
   {
    "duration": 4,
    "start_time": "2022-07-03T19:25:19.064Z"
   },
   {
    "duration": 11,
    "start_time": "2022-07-03T19:25:19.070Z"
   },
   {
    "duration": 18,
    "start_time": "2022-07-03T19:25:19.083Z"
   },
   {
    "duration": 4,
    "start_time": "2022-07-03T19:25:19.102Z"
   },
   {
    "duration": 6,
    "start_time": "2022-07-03T19:25:19.127Z"
   },
   {
    "duration": 6,
    "start_time": "2022-07-03T19:25:19.303Z"
   },
   {
    "duration": 10,
    "start_time": "2022-07-03T19:25:19.525Z"
   },
   {
    "duration": 12,
    "start_time": "2022-07-03T19:25:19.595Z"
   },
   {
    "duration": 24,
    "start_time": "2022-07-03T19:25:19.755Z"
   },
   {
    "duration": 16,
    "start_time": "2022-07-03T19:25:19.990Z"
   },
   {
    "duration": 17,
    "start_time": "2022-07-03T19:25:20.296Z"
   },
   {
    "duration": 28,
    "start_time": "2022-07-03T19:25:20.460Z"
   },
   {
    "duration": 16,
    "start_time": "2022-07-03T19:25:20.517Z"
   },
   {
    "duration": 15,
    "start_time": "2022-07-03T19:25:20.695Z"
   },
   {
    "duration": 9,
    "start_time": "2022-07-03T19:25:21.075Z"
   },
   {
    "duration": 10,
    "start_time": "2022-07-03T19:25:21.161Z"
   },
   {
    "duration": 11,
    "start_time": "2022-07-03T19:25:21.220Z"
   },
   {
    "duration": 10,
    "start_time": "2022-07-03T19:25:21.395Z"
   },
   {
    "duration": 10,
    "start_time": "2022-07-03T19:25:21.497Z"
   },
   {
    "duration": 10,
    "start_time": "2022-07-03T19:25:21.652Z"
   },
   {
    "duration": 7,
    "start_time": "2022-07-03T19:25:21.715Z"
   },
   {
    "duration": 7,
    "start_time": "2022-07-03T19:25:21.863Z"
   },
   {
    "duration": 15,
    "start_time": "2022-07-03T19:25:22.182Z"
   },
   {
    "duration": 8,
    "start_time": "2022-07-03T19:25:22.351Z"
   },
   {
    "duration": 4,
    "start_time": "2022-07-03T19:25:22.453Z"
   },
   {
    "duration": 5,
    "start_time": "2022-07-03T19:25:22.652Z"
   },
   {
    "duration": 9,
    "start_time": "2022-07-03T19:25:22.758Z"
   },
   {
    "duration": 8,
    "start_time": "2022-07-03T19:25:22.990Z"
   },
   {
    "duration": 9,
    "start_time": "2022-07-03T19:25:23.652Z"
   },
   {
    "duration": 7,
    "start_time": "2022-07-03T19:25:23.722Z"
   },
   {
    "duration": 9,
    "start_time": "2022-07-03T19:25:23.897Z"
   },
   {
    "duration": 10,
    "start_time": "2022-07-03T19:25:23.975Z"
   },
   {
    "duration": 8,
    "start_time": "2022-07-03T19:25:24.152Z"
   },
   {
    "duration": 25,
    "start_time": "2022-07-03T19:25:24.213Z"
   },
   {
    "duration": 16,
    "start_time": "2022-07-03T19:25:24.704Z"
   },
   {
    "duration": 323,
    "start_time": "2022-07-03T19:25:24.993Z"
   },
   {
    "duration": 333,
    "start_time": "2022-07-03T19:25:49.558Z"
   },
   {
    "duration": 303,
    "start_time": "2022-07-03T19:25:59.275Z"
   },
   {
    "duration": 323,
    "start_time": "2022-07-03T19:26:13.052Z"
   },
   {
    "duration": 23,
    "start_time": "2022-07-03T19:26:43.068Z"
   },
   {
    "duration": 24,
    "start_time": "2022-07-03T19:26:53.411Z"
   },
   {
    "duration": 86,
    "start_time": "2022-07-03T19:27:06.315Z"
   },
   {
    "duration": 19,
    "start_time": "2022-07-03T19:27:13.752Z"
   },
   {
    "duration": 65,
    "start_time": "2022-07-03T19:27:38.753Z"
   },
   {
    "duration": 323,
    "start_time": "2022-07-03T19:29:12.902Z"
   },
   {
    "duration": 305,
    "start_time": "2022-07-03T19:29:38.123Z"
   },
   {
    "duration": 305,
    "start_time": "2022-07-03T19:29:48.307Z"
   },
   {
    "duration": 19,
    "start_time": "2022-07-03T19:29:56.998Z"
   },
   {
    "duration": 425,
    "start_time": "2022-07-03T19:30:20.323Z"
   },
   {
    "duration": 18,
    "start_time": "2022-07-03T19:30:31.705Z"
   },
   {
    "duration": 346,
    "start_time": "2022-07-03T19:30:42.762Z"
   },
   {
    "duration": 400,
    "start_time": "2022-07-03T19:30:56.425Z"
   },
   {
    "duration": 22,
    "start_time": "2022-07-03T19:35:19.971Z"
   },
   {
    "duration": 31,
    "start_time": "2022-07-03T19:35:35.805Z"
   },
   {
    "duration": 14,
    "start_time": "2022-07-03T19:37:00.118Z"
   },
   {
    "duration": 34,
    "start_time": "2022-07-03T19:37:13.843Z"
   },
   {
    "duration": 115,
    "start_time": "2022-07-03T20:50:16.204Z"
   },
   {
    "duration": 50,
    "start_time": "2022-07-03T20:50:16.321Z"
   },
   {
    "duration": 30,
    "start_time": "2022-07-03T20:50:16.483Z"
   },
   {
    "duration": 17,
    "start_time": "2022-07-03T20:50:16.867Z"
   },
   {
    "duration": 7,
    "start_time": "2022-07-03T20:50:17.080Z"
   },
   {
    "duration": 15,
    "start_time": "2022-07-03T20:50:17.311Z"
   },
   {
    "duration": 459,
    "start_time": "2022-07-03T20:50:17.399Z"
   },
   {
    "duration": 6,
    "start_time": "2022-07-03T20:50:17.860Z"
   },
   {
    "duration": 13,
    "start_time": "2022-07-03T20:50:17.867Z"
   },
   {
    "duration": 17,
    "start_time": "2022-07-03T20:50:17.899Z"
   },
   {
    "duration": 5,
    "start_time": "2022-07-03T20:50:17.984Z"
   },
   {
    "duration": 8,
    "start_time": "2022-07-03T20:50:18.207Z"
   },
   {
    "duration": 8,
    "start_time": "2022-07-03T20:50:18.239Z"
   },
   {
    "duration": 15,
    "start_time": "2022-07-03T20:50:18.523Z"
   },
   {
    "duration": 16,
    "start_time": "2022-07-03T20:50:18.583Z"
   },
   {
    "duration": 39,
    "start_time": "2022-07-03T20:50:18.760Z"
   },
   {
    "duration": 23,
    "start_time": "2022-07-03T20:50:18.804Z"
   },
   {
    "duration": 18,
    "start_time": "2022-07-03T20:50:19.196Z"
   },
   {
    "duration": 30,
    "start_time": "2022-07-03T20:50:19.267Z"
   },
   {
    "duration": 18,
    "start_time": "2022-07-03T20:50:19.416Z"
   },
   {
    "duration": 21,
    "start_time": "2022-07-03T20:50:19.499Z"
   },
   {
    "duration": 10,
    "start_time": "2022-07-03T20:50:19.881Z"
   },
   {
    "duration": 9,
    "start_time": "2022-07-03T20:50:19.987Z"
   },
   {
    "duration": 12,
    "start_time": "2022-07-03T20:50:20.175Z"
   },
   {
    "duration": 10,
    "start_time": "2022-07-03T20:50:20.323Z"
   },
   {
    "duration": 9,
    "start_time": "2022-07-03T20:50:20.375Z"
   },
   {
    "duration": 10,
    "start_time": "2022-07-03T20:50:20.467Z"
   },
   {
    "duration": 6,
    "start_time": "2022-07-03T20:50:20.627Z"
   },
   {
    "duration": 7,
    "start_time": "2022-07-03T20:50:21.172Z"
   },
   {
    "duration": 17,
    "start_time": "2022-07-03T20:50:21.181Z"
   },
   {
    "duration": 9,
    "start_time": "2022-07-03T20:50:21.199Z"
   },
   {
    "duration": 5,
    "start_time": "2022-07-03T20:50:21.367Z"
   },
   {
    "duration": 4,
    "start_time": "2022-07-03T20:50:21.399Z"
   },
   {
    "duration": 7,
    "start_time": "2022-07-03T20:50:21.537Z"
   },
   {
    "duration": 8,
    "start_time": "2022-07-03T20:50:21.667Z"
   },
   {
    "duration": 8,
    "start_time": "2022-07-03T20:50:21.827Z"
   },
   {
    "duration": 6,
    "start_time": "2022-07-03T20:50:21.919Z"
   },
   {
    "duration": 7,
    "start_time": "2022-07-03T20:50:22.103Z"
   },
   {
    "duration": 10,
    "start_time": "2022-07-03T20:50:22.205Z"
   },
   {
    "duration": 9,
    "start_time": "2022-07-03T20:50:22.371Z"
   },
   {
    "duration": 26,
    "start_time": "2022-07-03T20:50:22.468Z"
   },
   {
    "duration": 18,
    "start_time": "2022-07-03T20:50:23.031Z"
   },
   {
    "duration": 26,
    "start_time": "2022-07-03T20:50:23.318Z"
   },
   {
    "duration": 76,
    "start_time": "2022-07-03T20:55:35.008Z"
   },
   {
    "duration": 112,
    "start_time": "2022-07-03T20:56:00.132Z"
   },
   {
    "duration": 8,
    "start_time": "2022-07-03T20:56:12.092Z"
   },
   {
    "duration": 15,
    "start_time": "2022-07-03T20:57:03.100Z"
   },
   {
    "duration": 9,
    "start_time": "2022-07-03T20:57:30.432Z"
   },
   {
    "duration": 25,
    "start_time": "2022-07-03T20:58:26.971Z"
   },
   {
    "duration": 12,
    "start_time": "2022-07-03T21:00:30.636Z"
   },
   {
    "duration": 43798,
    "start_time": "2022-07-03T21:02:23.901Z"
   },
   {
    "duration": 1556,
    "start_time": "2022-07-03T21:03:11.173Z"
   },
   {
    "duration": 191,
    "start_time": "2022-07-03T21:04:36.204Z"
   },
   {
    "duration": 192,
    "start_time": "2022-07-03T21:06:07.602Z"
   },
   {
    "duration": 175,
    "start_time": "2022-07-03T21:06:16.041Z"
   },
   {
    "duration": 180,
    "start_time": "2022-07-03T21:06:22.533Z"
   },
   {
    "duration": 159,
    "start_time": "2022-07-03T21:06:29.033Z"
   },
   {
    "duration": 169,
    "start_time": "2022-07-03T21:06:36.669Z"
   },
   {
    "duration": 167,
    "start_time": "2022-07-03T21:06:42.967Z"
   },
   {
    "duration": 182,
    "start_time": "2022-07-03T21:07:00.778Z"
   },
   {
    "duration": 149,
    "start_time": "2022-07-03T21:07:55.008Z"
   },
   {
    "duration": 166,
    "start_time": "2022-07-03T21:08:51.507Z"
   },
   {
    "duration": 7,
    "start_time": "2022-07-03T21:09:48.567Z"
   },
   {
    "duration": 237,
    "start_time": "2022-07-03T21:11:17.010Z"
   },
   {
    "duration": 201,
    "start_time": "2022-07-03T21:11:38.762Z"
   },
   {
    "duration": 77,
    "start_time": "2022-07-03T21:13:34.208Z"
   },
   {
    "duration": 90,
    "start_time": "2022-07-03T21:14:27.921Z"
   },
   {
    "duration": 143,
    "start_time": "2022-07-03T21:15:49.938Z"
   },
   {
    "duration": 155,
    "start_time": "2022-07-03T21:16:18.122Z"
   },
   {
    "duration": 10,
    "start_time": "2022-07-03T21:17:51.870Z"
   },
   {
    "duration": 16,
    "start_time": "2022-07-03T21:18:41.661Z"
   },
   {
    "duration": 32,
    "start_time": "2022-07-03T21:20:12.798Z"
   },
   {
    "duration": 8,
    "start_time": "2022-07-03T21:25:53.002Z"
   },
   {
    "duration": 30,
    "start_time": "2022-07-03T21:26:14.166Z"
   },
   {
    "duration": 34,
    "start_time": "2022-07-03T21:29:34.147Z"
   },
   {
    "duration": 131,
    "start_time": "2022-07-03T21:31:36.149Z"
   },
   {
    "duration": 136,
    "start_time": "2022-07-03T21:33:04.937Z"
   },
   {
    "duration": 135,
    "start_time": "2022-07-03T21:33:35.739Z"
   },
   {
    "duration": 140,
    "start_time": "2022-07-03T21:33:47.726Z"
   },
   {
    "duration": 136,
    "start_time": "2022-07-03T21:34:45.000Z"
   },
   {
    "duration": 11,
    "start_time": "2022-07-03T21:38:35.212Z"
   },
   {
    "duration": 176,
    "start_time": "2022-07-03T21:38:36.136Z"
   },
   {
    "duration": 134,
    "start_time": "2022-07-03T21:38:37.120Z"
   },
   {
    "duration": 130,
    "start_time": "2022-07-03T21:39:33.104Z"
   },
   {
    "duration": 1309,
    "start_time": "2022-07-04T10:07:05.739Z"
   },
   {
    "duration": 87,
    "start_time": "2022-07-04T10:07:07.050Z"
   },
   {
    "duration": 23,
    "start_time": "2022-07-04T10:07:07.139Z"
   },
   {
    "duration": 42,
    "start_time": "2022-07-04T10:07:07.164Z"
   },
   {
    "duration": 26,
    "start_time": "2022-07-04T10:07:07.208Z"
   },
   {
    "duration": 51,
    "start_time": "2022-07-04T10:07:07.236Z"
   },
   {
    "duration": 1313,
    "start_time": "2022-07-04T10:07:07.289Z"
   },
   {
    "duration": 8,
    "start_time": "2022-07-04T10:07:08.607Z"
   },
   {
    "duration": 20,
    "start_time": "2022-07-04T10:07:08.618Z"
   },
   {
    "duration": 16,
    "start_time": "2022-07-04T10:07:08.641Z"
   },
   {
    "duration": 13,
    "start_time": "2022-07-04T10:07:08.659Z"
   },
   {
    "duration": 61,
    "start_time": "2022-07-04T10:07:08.674Z"
   },
   {
    "duration": 8,
    "start_time": "2022-07-04T10:07:08.737Z"
   },
   {
    "duration": 16,
    "start_time": "2022-07-04T10:07:08.747Z"
   },
   {
    "duration": 61,
    "start_time": "2022-07-04T10:07:08.765Z"
   },
   {
    "duration": 29,
    "start_time": "2022-07-04T10:07:08.827Z"
   },
   {
    "duration": 26,
    "start_time": "2022-07-04T10:07:08.857Z"
   },
   {
    "duration": 99,
    "start_time": "2022-07-04T10:07:08.886Z"
   },
   {
    "duration": 61,
    "start_time": "2022-07-04T10:07:08.987Z"
   },
   {
    "duration": 29,
    "start_time": "2022-07-04T10:07:09.051Z"
   },
   {
    "duration": 79,
    "start_time": "2022-07-04T10:07:09.082Z"
   },
   {
    "duration": 12,
    "start_time": "2022-07-04T10:07:09.418Z"
   },
   {
    "duration": 16,
    "start_time": "2022-07-04T10:07:09.504Z"
   },
   {
    "duration": 12,
    "start_time": "2022-07-04T10:07:09.716Z"
   },
   {
    "duration": 13,
    "start_time": "2022-07-04T10:07:09.814Z"
   },
   {
    "duration": 10,
    "start_time": "2022-07-04T10:07:10.042Z"
   },
   {
    "duration": 11,
    "start_time": "2022-07-04T10:07:10.146Z"
   },
   {
    "duration": 8,
    "start_time": "2022-07-04T10:07:10.424Z"
   },
   {
    "duration": 8,
    "start_time": "2022-07-04T10:07:10.617Z"
   },
   {
    "duration": 17,
    "start_time": "2022-07-04T10:07:11.341Z"
   },
   {
    "duration": 9,
    "start_time": "2022-07-04T10:07:11.427Z"
   },
   {
    "duration": 7,
    "start_time": "2022-07-04T10:07:11.621Z"
   },
   {
    "duration": 6,
    "start_time": "2022-07-04T10:07:11.712Z"
   },
   {
    "duration": 9,
    "start_time": "2022-07-04T10:07:11.917Z"
   },
   {
    "duration": 9,
    "start_time": "2022-07-04T10:07:12.013Z"
   },
   {
    "duration": 13,
    "start_time": "2022-07-04T10:07:12.165Z"
   },
   {
    "duration": 6,
    "start_time": "2022-07-04T10:07:12.252Z"
   },
   {
    "duration": 9,
    "start_time": "2022-07-04T10:07:12.417Z"
   },
   {
    "duration": 56,
    "start_time": "2022-07-04T10:07:12.467Z"
   },
   {
    "duration": 8,
    "start_time": "2022-07-04T10:07:12.630Z"
   },
   {
    "duration": 30,
    "start_time": "2022-07-04T10:07:12.718Z"
   },
   {
    "duration": 17,
    "start_time": "2022-07-04T10:07:13.236Z"
   },
   {
    "duration": 30,
    "start_time": "2022-07-04T10:07:13.517Z"
   },
   {
    "duration": 16,
    "start_time": "2022-07-04T10:07:13.753Z"
   },
   {
    "duration": 308,
    "start_time": "2022-07-04T10:07:13.950Z"
   },
   {
    "duration": 222,
    "start_time": "2022-07-04T10:07:14.260Z"
   },
   {
    "duration": 19,
    "start_time": "2022-07-04T10:09:03.946Z"
   },
   {
    "duration": 14,
    "start_time": "2022-07-04T10:11:33.506Z"
   },
   {
    "duration": 45,
    "start_time": "2022-07-04T10:14:19.265Z"
   },
   {
    "duration": 32,
    "start_time": "2022-07-04T10:14:44.152Z"
   },
   {
    "duration": 14,
    "start_time": "2022-07-04T10:15:59.807Z"
   },
   {
    "duration": 17,
    "start_time": "2022-07-04T10:16:12.897Z"
   },
   {
    "duration": 26,
    "start_time": "2022-07-04T10:16:37.051Z"
   },
   {
    "duration": 19,
    "start_time": "2022-07-04T10:28:05.517Z"
   },
   {
    "duration": 12,
    "start_time": "2022-07-04T10:28:53.623Z"
   },
   {
    "duration": 185,
    "start_time": "2022-07-04T10:29:44.663Z"
   },
   {
    "duration": 22,
    "start_time": "2022-07-04T10:30:07.899Z"
   },
   {
    "duration": 25,
    "start_time": "2022-07-04T10:30:15.214Z"
   },
   {
    "duration": 11,
    "start_time": "2022-07-04T10:31:14.336Z"
   },
   {
    "duration": 13,
    "start_time": "2022-07-04T10:31:31.232Z"
   },
   {
    "duration": 306,
    "start_time": "2022-07-04T11:22:35.842Z"
   },
   {
    "duration": 226,
    "start_time": "2022-07-04T11:22:52.009Z"
   },
   {
    "duration": 157,
    "start_time": "2022-07-04T11:27:05.224Z"
   },
   {
    "duration": 16,
    "start_time": "2022-07-04T11:30:04.540Z"
   },
   {
    "duration": 244,
    "start_time": "2022-07-04T11:30:37.705Z"
   },
   {
    "duration": 21,
    "start_time": "2022-07-04T11:34:11.062Z"
   },
   {
    "duration": 22,
    "start_time": "2022-07-04T11:34:39.314Z"
   },
   {
    "duration": 603,
    "start_time": "2022-07-04T11:36:21.562Z"
   },
   {
    "duration": 207,
    "start_time": "2022-07-04T11:37:00.046Z"
   },
   {
    "duration": 86,
    "start_time": "2022-07-04T11:40:59.122Z"
   },
   {
    "duration": 200,
    "start_time": "2022-07-04T11:41:32.216Z"
   },
   {
    "duration": 190,
    "start_time": "2022-07-04T11:42:56.001Z"
   },
   {
    "duration": 223,
    "start_time": "2022-07-04T11:43:28.907Z"
   },
   {
    "duration": 81,
    "start_time": "2022-07-04T11:43:51.235Z"
   },
   {
    "duration": 194,
    "start_time": "2022-07-04T11:44:06.154Z"
   },
   {
    "duration": 275,
    "start_time": "2022-07-04T11:46:50.911Z"
   },
   {
    "duration": 6,
    "start_time": "2022-07-04T11:52:35.245Z"
   },
   {
    "duration": 4,
    "start_time": "2022-07-04T11:52:50.898Z"
   },
   {
    "duration": 6,
    "start_time": "2022-07-04T11:53:59.221Z"
   },
   {
    "duration": 69,
    "start_time": "2022-07-04T11:55:05.462Z"
   },
   {
    "duration": 5,
    "start_time": "2022-07-04T11:55:20.952Z"
   },
   {
    "duration": 15,
    "start_time": "2022-07-04T12:00:10.999Z"
   },
   {
    "duration": 157,
    "start_time": "2022-07-04T12:05:40.316Z"
   },
   {
    "duration": 46,
    "start_time": "2022-07-04T12:05:41.962Z"
   },
   {
    "duration": 8,
    "start_time": "2022-07-04T12:05:42.816Z"
   },
   {
    "duration": 397,
    "start_time": "2022-07-04T12:06:37.552Z"
   },
   {
    "duration": 54,
    "start_time": "2022-07-04T12:07:46.607Z"
   },
   {
    "duration": 81,
    "start_time": "2022-07-04T12:08:14.912Z"
   },
   {
    "duration": 111,
    "start_time": "2022-07-04T12:09:13.620Z"
   },
   {
    "duration": 1804,
    "start_time": "2022-07-04T12:12:03.319Z"
   },
   {
    "duration": 13,
    "start_time": "2022-07-04T12:12:50.257Z"
   },
   {
    "duration": 237,
    "start_time": "2022-07-04T12:14:57.305Z"
   },
   {
    "duration": 199,
    "start_time": "2022-07-04T12:16:36.943Z"
   },
   {
    "duration": 801,
    "start_time": "2022-07-04T12:16:51.500Z"
   },
   {
    "duration": 219,
    "start_time": "2022-07-04T12:28:43.133Z"
   },
   {
    "duration": 248,
    "start_time": "2022-07-04T12:29:02.407Z"
   },
   {
    "duration": 206,
    "start_time": "2022-07-04T12:29:54.021Z"
   },
   {
    "duration": 192,
    "start_time": "2022-07-04T12:30:12.823Z"
   },
   {
    "duration": 235,
    "start_time": "2022-07-04T12:30:21.002Z"
   },
   {
    "duration": 27,
    "start_time": "2022-07-04T12:51:54.850Z"
   },
   {
    "duration": 255,
    "start_time": "2022-07-04T12:53:59.916Z"
   },
   {
    "duration": 234,
    "start_time": "2022-07-04T12:54:34.167Z"
   },
   {
    "duration": 202,
    "start_time": "2022-07-04T12:54:54.698Z"
   },
   {
    "duration": 168,
    "start_time": "2022-07-04T12:55:02.997Z"
   },
   {
    "duration": 192,
    "start_time": "2022-07-04T12:55:48.472Z"
   },
   {
    "duration": 113818,
    "start_time": "2022-07-04T12:56:17.967Z"
   },
   {
    "duration": 212,
    "start_time": "2022-07-04T12:58:11.989Z"
   },
   {
    "duration": 218,
    "start_time": "2022-07-04T12:59:27.197Z"
   },
   {
    "duration": 188,
    "start_time": "2022-07-04T13:00:06.854Z"
   },
   {
    "duration": 23,
    "start_time": "2022-07-04T13:05:30.975Z"
   },
   {
    "duration": 201,
    "start_time": "2022-07-04T13:06:03.011Z"
   },
   {
    "duration": 16,
    "start_time": "2022-07-04T13:09:29.350Z"
   },
   {
    "duration": 16,
    "start_time": "2022-07-04T13:09:58.490Z"
   },
   {
    "duration": 20,
    "start_time": "2022-07-04T13:10:27.819Z"
   },
   {
    "duration": 21,
    "start_time": "2022-07-04T13:10:44.522Z"
   },
   {
    "duration": 211,
    "start_time": "2022-07-04T13:11:18.168Z"
   },
   {
    "duration": 232,
    "start_time": "2022-07-04T13:11:38.751Z"
   },
   {
    "duration": 10,
    "start_time": "2022-07-04T13:19:55.399Z"
   },
   {
    "duration": 11,
    "start_time": "2022-07-04T13:20:06.271Z"
   },
   {
    "duration": 220,
    "start_time": "2022-07-04T13:20:07.342Z"
   },
   {
    "duration": 10,
    "start_time": "2022-07-04T13:20:08.925Z"
   },
   {
    "duration": 9,
    "start_time": "2022-07-04T13:21:15.465Z"
   },
   {
    "duration": 179,
    "start_time": "2022-07-04T13:21:46.601Z"
   },
   {
    "duration": 181,
    "start_time": "2022-07-04T13:23:07.439Z"
   },
   {
    "duration": 162,
    "start_time": "2022-07-04T13:23:24.038Z"
   },
   {
    "duration": 48,
    "start_time": "2022-07-04T13:23:54.461Z"
   },
   {
    "duration": 184,
    "start_time": "2022-07-04T13:24:00.860Z"
   },
   {
    "duration": 11,
    "start_time": "2022-07-04T13:24:31.212Z"
   },
   {
    "duration": 15,
    "start_time": "2022-07-04T13:24:46.361Z"
   },
   {
    "duration": 117,
    "start_time": "2022-07-04T13:26:44.429Z"
   },
   {
    "duration": 31,
    "start_time": "2022-07-04T13:26:44.557Z"
   },
   {
    "duration": 25,
    "start_time": "2022-07-04T13:26:44.668Z"
   },
   {
    "duration": 18,
    "start_time": "2022-07-04T13:26:45.023Z"
   },
   {
    "duration": 8,
    "start_time": "2022-07-04T13:26:45.132Z"
   },
   {
    "duration": 16,
    "start_time": "2022-07-04T13:26:45.337Z"
   },
   {
    "duration": 517,
    "start_time": "2022-07-04T13:26:45.448Z"
   },
   {
    "duration": 6,
    "start_time": "2022-07-04T13:26:45.967Z"
   },
   {
    "duration": 14,
    "start_time": "2022-07-04T13:26:45.975Z"
   },
   {
    "duration": 43,
    "start_time": "2022-07-04T13:26:45.992Z"
   },
   {
    "duration": 7,
    "start_time": "2022-07-04T13:26:46.036Z"
   },
   {
    "duration": 13,
    "start_time": "2022-07-04T13:26:46.046Z"
   },
   {
    "duration": 7,
    "start_time": "2022-07-04T13:26:46.128Z"
   },
   {
    "duration": 12,
    "start_time": "2022-07-04T13:26:46.353Z"
   },
   {
    "duration": 14,
    "start_time": "2022-07-04T13:26:46.464Z"
   },
   {
    "duration": 30,
    "start_time": "2022-07-04T13:26:46.597Z"
   },
   {
    "duration": 18,
    "start_time": "2022-07-04T13:26:46.709Z"
   },
   {
    "duration": 23,
    "start_time": "2022-07-04T13:26:47.022Z"
   },
   {
    "duration": 34,
    "start_time": "2022-07-04T13:26:47.143Z"
   },
   {
    "duration": 18,
    "start_time": "2022-07-04T13:26:47.243Z"
   },
   {
    "duration": 28,
    "start_time": "2022-07-04T13:26:47.365Z"
   },
   {
    "duration": 10,
    "start_time": "2022-07-04T13:26:47.727Z"
   },
   {
    "duration": 10,
    "start_time": "2022-07-04T13:26:47.842Z"
   },
   {
    "duration": 11,
    "start_time": "2022-07-04T13:26:47.957Z"
   },
   {
    "duration": 10,
    "start_time": "2022-07-04T13:26:48.075Z"
   },
   {
    "duration": 11,
    "start_time": "2022-07-04T13:26:48.184Z"
   },
   {
    "duration": 11,
    "start_time": "2022-07-04T13:26:48.329Z"
   },
   {
    "duration": 7,
    "start_time": "2022-07-04T13:26:48.435Z"
   },
   {
    "duration": 8,
    "start_time": "2022-07-04T13:26:48.561Z"
   },
   {
    "duration": 19,
    "start_time": "2022-07-04T13:26:48.930Z"
   },
   {
    "duration": 9,
    "start_time": "2022-07-04T13:26:49.067Z"
   },
   {
    "duration": 6,
    "start_time": "2022-07-04T13:26:49.202Z"
   },
   {
    "duration": 5,
    "start_time": "2022-07-04T13:26:49.334Z"
   },
   {
    "duration": 11,
    "start_time": "2022-07-04T13:26:49.459Z"
   },
   {
    "duration": 11,
    "start_time": "2022-07-04T13:26:49.581Z"
   },
   {
    "duration": 14,
    "start_time": "2022-07-04T13:26:49.739Z"
   },
   {
    "duration": 7,
    "start_time": "2022-07-04T13:26:49.876Z"
   },
   {
    "duration": 8,
    "start_time": "2022-07-04T13:26:50.009Z"
   },
   {
    "duration": 16,
    "start_time": "2022-07-04T13:26:50.135Z"
   },
   {
    "duration": 10,
    "start_time": "2022-07-04T13:26:50.252Z"
   },
   {
    "duration": 43,
    "start_time": "2022-07-04T13:26:50.400Z"
   },
   {
    "duration": 20,
    "start_time": "2022-07-04T13:26:50.878Z"
   },
   {
    "duration": 30,
    "start_time": "2022-07-04T13:26:51.131Z"
   },
   {
    "duration": 15,
    "start_time": "2022-07-04T13:26:51.349Z"
   },
   {
    "duration": 260,
    "start_time": "2022-07-04T13:26:51.466Z"
   },
   {
    "duration": 191,
    "start_time": "2022-07-04T13:26:51.728Z"
   },
   {
    "duration": 14,
    "start_time": "2022-07-04T13:26:52.996Z"
   },
   {
    "duration": 148,
    "start_time": "2022-07-04T13:26:53.135Z"
   },
   {
    "duration": 5,
    "start_time": "2022-07-04T13:26:53.411Z"
   },
   {
    "duration": 15,
    "start_time": "2022-07-04T13:26:54.048Z"
   },
   {
    "duration": 216,
    "start_time": "2022-07-04T13:26:54.196Z"
   },
   {
    "duration": 189,
    "start_time": "2022-07-04T13:26:54.415Z"
   },
   {
    "duration": 27,
    "start_time": "2022-07-04T13:26:54.607Z"
   },
   {
    "duration": 24,
    "start_time": "2022-07-04T13:26:55.763Z"
   },
   {
    "duration": 195,
    "start_time": "2022-07-04T13:26:58.530Z"
   },
   {
    "duration": 15,
    "start_time": "2022-07-04T13:51:09.327Z"
   },
   {
    "duration": 14,
    "start_time": "2022-07-04T13:52:13.151Z"
   },
   {
    "duration": 20,
    "start_time": "2022-07-04T13:54:26.215Z"
   },
   {
    "duration": 21,
    "start_time": "2022-07-04T13:55:07.218Z"
   },
   {
    "duration": 20,
    "start_time": "2022-07-04T14:36:53.141Z"
   },
   {
    "duration": 908,
    "start_time": "2022-07-04T18:11:07.679Z"
   },
   {
    "duration": 36,
    "start_time": "2022-07-04T18:11:08.589Z"
   },
   {
    "duration": 19,
    "start_time": "2022-07-04T18:11:08.627Z"
   },
   {
    "duration": 16,
    "start_time": "2022-07-04T18:11:08.648Z"
   },
   {
    "duration": 6,
    "start_time": "2022-07-04T18:11:08.880Z"
   },
   {
    "duration": 13,
    "start_time": "2022-07-04T18:11:09.100Z"
   },
   {
    "duration": 957,
    "start_time": "2022-07-04T18:11:09.340Z"
   },
   {
    "duration": 5,
    "start_time": "2022-07-04T18:11:10.298Z"
   },
   {
    "duration": 10,
    "start_time": "2022-07-04T18:11:10.304Z"
   },
   {
    "duration": 29,
    "start_time": "2022-07-04T18:11:10.316Z"
   },
   {
    "duration": 4,
    "start_time": "2022-07-04T18:11:10.347Z"
   },
   {
    "duration": 11,
    "start_time": "2022-07-04T18:11:10.353Z"
   },
   {
    "duration": 10,
    "start_time": "2022-07-04T18:11:10.365Z"
   },
   {
    "duration": 10,
    "start_time": "2022-07-04T18:11:10.387Z"
   },
   {
    "duration": 12,
    "start_time": "2022-07-04T18:11:10.449Z"
   },
   {
    "duration": 25,
    "start_time": "2022-07-04T18:11:10.636Z"
   },
   {
    "duration": 16,
    "start_time": "2022-07-04T18:11:10.860Z"
   },
   {
    "duration": 16,
    "start_time": "2022-07-04T18:11:11.361Z"
   },
   {
    "duration": 33,
    "start_time": "2022-07-04T18:11:11.485Z"
   },
   {
    "duration": 15,
    "start_time": "2022-07-04T18:11:11.695Z"
   },
   {
    "duration": 16,
    "start_time": "2022-07-04T18:11:11.963Z"
   },
   {
    "duration": 8,
    "start_time": "2022-07-04T18:11:12.350Z"
   },
   {
    "duration": 8,
    "start_time": "2022-07-04T18:11:12.550Z"
   },
   {
    "duration": 12,
    "start_time": "2022-07-04T18:11:12.648Z"
   },
   {
    "duration": 9,
    "start_time": "2022-07-04T18:11:12.843Z"
   },
   {
    "duration": 9,
    "start_time": "2022-07-04T18:11:12.938Z"
   },
   {
    "duration": 10,
    "start_time": "2022-07-04T18:11:13.160Z"
   },
   {
    "duration": 6,
    "start_time": "2022-07-04T18:11:13.222Z"
   },
   {
    "duration": 7,
    "start_time": "2022-07-04T18:11:13.440Z"
   },
   {
    "duration": 15,
    "start_time": "2022-07-04T18:11:13.851Z"
   },
   {
    "duration": 7,
    "start_time": "2022-07-04T18:11:14.073Z"
   },
   {
    "duration": 5,
    "start_time": "2022-07-04T18:11:14.176Z"
   },
   {
    "duration": 6,
    "start_time": "2022-07-04T18:11:14.360Z"
   },
   {
    "duration": 13,
    "start_time": "2022-07-04T18:11:14.472Z"
   },
   {
    "duration": 8,
    "start_time": "2022-07-04T18:11:14.678Z"
   },
   {
    "duration": 9,
    "start_time": "2022-07-04T18:11:14.780Z"
   },
   {
    "duration": 6,
    "start_time": "2022-07-04T18:11:14.956Z"
   },
   {
    "duration": 7,
    "start_time": "2022-07-04T18:11:15.047Z"
   },
   {
    "duration": 9,
    "start_time": "2022-07-04T18:11:15.259Z"
   },
   {
    "duration": 8,
    "start_time": "2022-07-04T18:11:15.416Z"
   },
   {
    "duration": 35,
    "start_time": "2022-07-04T18:11:15.510Z"
   },
   {
    "duration": 15,
    "start_time": "2022-07-04T18:11:16.090Z"
   },
   {
    "duration": 25,
    "start_time": "2022-07-04T18:11:16.436Z"
   },
   {
    "duration": 13,
    "start_time": "2022-07-04T18:11:16.842Z"
   },
   {
    "duration": 175,
    "start_time": "2022-07-04T18:11:17.032Z"
   },
   {
    "duration": 124,
    "start_time": "2022-07-04T18:11:17.491Z"
   },
   {
    "duration": 12,
    "start_time": "2022-07-04T18:11:18.132Z"
   },
   {
    "duration": 126,
    "start_time": "2022-07-04T18:11:18.280Z"
   },
   {
    "duration": 5,
    "start_time": "2022-07-04T18:11:18.407Z"
   },
   {
    "duration": 14,
    "start_time": "2022-07-04T18:11:18.573Z"
   },
   {
    "duration": 179,
    "start_time": "2022-07-04T18:11:18.759Z"
   },
   {
    "duration": 138,
    "start_time": "2022-07-04T18:11:18.948Z"
   },
   {
    "duration": 12,
    "start_time": "2022-07-04T18:11:19.397Z"
   },
   {
    "duration": 150,
    "start_time": "2022-07-04T18:11:19.640Z"
   },
   {
    "duration": 18,
    "start_time": "2022-07-04T18:11:20.167Z"
   },
   {
    "duration": 19,
    "start_time": "2022-07-04T18:25:31.162Z"
   },
   {
    "duration": 390,
    "start_time": "2022-07-04T18:26:18.785Z"
   },
   {
    "duration": 301,
    "start_time": "2022-07-04T18:27:21.767Z"
   },
   {
    "duration": 300,
    "start_time": "2022-07-04T18:27:35.441Z"
   },
   {
    "duration": 288,
    "start_time": "2022-07-04T18:27:48.785Z"
   },
   {
    "duration": 6,
    "start_time": "2022-07-04T18:33:11.942Z"
   },
   {
    "duration": 245,
    "start_time": "2022-07-04T18:33:22.104Z"
   },
   {
    "duration": 228,
    "start_time": "2022-07-04T18:33:36.251Z"
   },
   {
    "duration": 255,
    "start_time": "2022-07-04T18:33:48.668Z"
   },
   {
    "duration": 342,
    "start_time": "2022-07-04T18:34:18.444Z"
   },
   {
    "duration": 253,
    "start_time": "2022-07-04T18:34:29.576Z"
   },
   {
    "duration": 6,
    "start_time": "2022-07-04T18:35:28.392Z"
   },
   {
    "duration": 12,
    "start_time": "2022-07-04T18:41:04.007Z"
   },
   {
    "duration": 17,
    "start_time": "2022-07-04T18:41:50.723Z"
   },
   {
    "duration": 176,
    "start_time": "2022-07-04T18:43:40.760Z"
   },
   {
    "duration": 938,
    "start_time": "2022-07-04T18:48:55.503Z"
   },
   {
    "duration": 29,
    "start_time": "2022-07-04T18:49:26.965Z"
   },
   {
    "duration": 237,
    "start_time": "2022-07-04T18:53:36.453Z"
   },
   {
    "duration": 268,
    "start_time": "2022-07-04T18:54:07.741Z"
   },
   {
    "duration": 25,
    "start_time": "2022-07-04T19:07:25.864Z"
   },
   {
    "duration": 129,
    "start_time": "2022-07-04T19:07:47.800Z"
   },
   {
    "duration": 16,
    "start_time": "2022-07-04T19:08:52.923Z"
   },
   {
    "duration": 222,
    "start_time": "2022-07-04T19:09:11.656Z"
   },
   {
    "duration": 4,
    "start_time": "2022-07-04T19:10:05.719Z"
   },
   {
    "duration": 238,
    "start_time": "2022-07-04T19:10:05.798Z"
   },
   {
    "duration": 12,
    "start_time": "2022-07-04T19:10:06.042Z"
   },
   {
    "duration": 169,
    "start_time": "2022-07-04T19:10:06.067Z"
   },
   {
    "duration": 9,
    "start_time": "2022-07-04T19:19:06.292Z"
   },
   {
    "duration": 4,
    "start_time": "2022-07-04T19:19:14.203Z"
   },
   {
    "duration": 4,
    "start_time": "2022-07-04T19:22:00.283Z"
   },
   {
    "duration": 20,
    "start_time": "2022-07-04T19:22:14.274Z"
   },
   {
    "duration": 7,
    "start_time": "2022-07-04T19:25:27.055Z"
   },
   {
    "duration": 9,
    "start_time": "2022-07-04T19:26:50.691Z"
   },
   {
    "duration": 5,
    "start_time": "2022-07-04T19:30:10.865Z"
   },
   {
    "duration": 172,
    "start_time": "2022-07-04T19:32:41.633Z"
   },
   {
    "duration": 8,
    "start_time": "2022-07-04T19:33:24.014Z"
   },
   {
    "duration": 167,
    "start_time": "2022-07-04T19:34:26.859Z"
   },
   {
    "duration": 162,
    "start_time": "2022-07-04T19:35:20.786Z"
   },
   {
    "duration": 297,
    "start_time": "2022-07-04T19:36:02.836Z"
   },
   {
    "duration": 244,
    "start_time": "2022-07-04T19:39:25.912Z"
   },
   {
    "duration": 234,
    "start_time": "2022-07-04T19:42:26.876Z"
   },
   {
    "duration": 9,
    "start_time": "2022-07-04T19:47:50.864Z"
   },
   {
    "duration": 198,
    "start_time": "2022-07-04T19:49:33.190Z"
   },
   {
    "duration": 198,
    "start_time": "2022-07-04T19:50:06.200Z"
   },
   {
    "duration": 298,
    "start_time": "2022-07-04T19:51:23.021Z"
   },
   {
    "duration": 25,
    "start_time": "2022-07-04T19:52:45.459Z"
   },
   {
    "duration": 359,
    "start_time": "2022-07-04T19:55:11.874Z"
   },
   {
    "duration": 12,
    "start_time": "2022-07-04T19:58:49.632Z"
   },
   {
    "duration": 146,
    "start_time": "2022-07-04T19:58:49.829Z"
   },
   {
    "duration": 18,
    "start_time": "2022-07-04T19:58:50.175Z"
   },
   {
    "duration": 5,
    "start_time": "2022-07-04T19:58:50.557Z"
   },
   {
    "duration": 243,
    "start_time": "2022-07-04T19:58:50.626Z"
   },
   {
    "duration": 13,
    "start_time": "2022-07-04T19:58:50.870Z"
   },
   {
    "duration": 185,
    "start_time": "2022-07-04T19:58:50.885Z"
   },
   {
    "duration": 4,
    "start_time": "2022-07-04T19:58:51.249Z"
   },
   {
    "duration": 4,
    "start_time": "2022-07-04T19:58:51.311Z"
   },
   {
    "duration": 6,
    "start_time": "2022-07-04T19:58:51.488Z"
   },
   {
    "duration": 5,
    "start_time": "2022-07-04T19:58:51.721Z"
   },
   {
    "duration": 7,
    "start_time": "2022-07-04T19:58:51.796Z"
   },
   {
    "duration": 155,
    "start_time": "2022-07-04T19:58:51.957Z"
   },
   {
    "duration": 146,
    "start_time": "2022-07-04T19:58:52.114Z"
   },
   {
    "duration": 177,
    "start_time": "2022-07-04T19:58:52.262Z"
   },
   {
    "duration": 213,
    "start_time": "2022-07-04T19:58:52.441Z"
   },
   {
    "duration": 10,
    "start_time": "2022-07-04T19:58:52.657Z"
   },
   {
    "duration": 197,
    "start_time": "2022-07-04T19:58:52.668Z"
   },
   {
    "duration": 395,
    "start_time": "2022-07-04T19:58:52.867Z"
   },
   {
    "duration": 13,
    "start_time": "2022-07-04T19:58:53.263Z"
   },
   {
    "duration": 281,
    "start_time": "2022-07-04T20:00:20.340Z"
   },
   {
    "duration": 280,
    "start_time": "2022-07-04T20:01:35.062Z"
   },
   {
    "duration": 68,
    "start_time": "2022-07-04T20:17:15.698Z"
   },
   {
    "duration": 217,
    "start_time": "2022-07-04T20:17:35.358Z"
   },
   {
    "duration": 3,
    "start_time": "2022-07-04T20:19:18.464Z"
   },
   {
    "duration": 4,
    "start_time": "2022-07-04T20:19:23.460Z"
   },
   {
    "duration": 5,
    "start_time": "2022-07-04T20:19:25.002Z"
   },
   {
    "duration": 7,
    "start_time": "2022-07-04T20:19:26.642Z"
   },
   {
    "duration": 158,
    "start_time": "2022-07-04T20:19:41.757Z"
   },
   {
    "duration": 142,
    "start_time": "2022-07-04T20:19:43.012Z"
   },
   {
    "duration": 204,
    "start_time": "2022-07-04T20:19:46.552Z"
   },
   {
    "duration": 12,
    "start_time": "2022-07-04T20:21:35.309Z"
   },
   {
    "duration": 11,
    "start_time": "2022-07-04T20:21:49.604Z"
   },
   {
    "duration": 3,
    "start_time": "2022-07-04T20:23:07.017Z"
   },
   {
    "duration": 21,
    "start_time": "2022-07-04T20:23:29.937Z"
   },
   {
    "duration": 20,
    "start_time": "2022-07-04T20:26:20.537Z"
   },
   {
    "duration": 19,
    "start_time": "2022-07-04T20:27:01.465Z"
   },
   {
    "duration": 4,
    "start_time": "2022-07-04T20:27:14.078Z"
   },
   {
    "duration": 4,
    "start_time": "2022-07-04T20:27:23.161Z"
   },
   {
    "duration": 8,
    "start_time": "2022-07-04T20:27:29.882Z"
   },
   {
    "duration": 142,
    "start_time": "2022-07-04T20:27:38.266Z"
   },
   {
    "duration": 144,
    "start_time": "2022-07-04T20:27:41.774Z"
   },
   {
    "duration": 182,
    "start_time": "2022-07-04T20:27:51.799Z"
   },
   {
    "duration": 211,
    "start_time": "2022-07-04T20:29:26.061Z"
   },
   {
    "duration": 211,
    "start_time": "2022-07-04T20:30:59.019Z"
   },
   {
    "duration": 198,
    "start_time": "2022-07-04T20:31:36.093Z"
   },
   {
    "duration": 8,
    "start_time": "2022-07-04T20:31:48.903Z"
   },
   {
    "duration": 177,
    "start_time": "2022-07-04T20:31:53.712Z"
   },
   {
    "duration": 269,
    "start_time": "2022-07-04T20:31:55.493Z"
   },
   {
    "duration": 283,
    "start_time": "2022-07-04T20:31:56.757Z"
   },
   {
    "duration": 254,
    "start_time": "2022-07-04T20:31:58.477Z"
   },
   {
    "duration": 704,
    "start_time": "2022-07-04T20:36:57.277Z"
   },
   {
    "duration": 1086,
    "start_time": "2022-07-04T20:38:10.896Z"
   },
   {
    "duration": 84,
    "start_time": "2022-07-04T20:49:56.263Z"
   },
   {
    "duration": 35,
    "start_time": "2022-07-04T20:49:56.430Z"
   },
   {
    "duration": 21,
    "start_time": "2022-07-04T20:49:56.609Z"
   },
   {
    "duration": 16,
    "start_time": "2022-07-04T20:49:57.755Z"
   },
   {
    "duration": 7,
    "start_time": "2022-07-04T20:49:57.866Z"
   },
   {
    "duration": 13,
    "start_time": "2022-07-04T20:49:58.078Z"
   },
   {
    "duration": 598,
    "start_time": "2022-07-04T20:49:58.225Z"
   },
   {
    "duration": 5,
    "start_time": "2022-07-04T20:49:58.825Z"
   },
   {
    "duration": 23,
    "start_time": "2022-07-04T20:49:58.831Z"
   },
   {
    "duration": 16,
    "start_time": "2022-07-04T20:49:58.856Z"
   },
   {
    "duration": 5,
    "start_time": "2022-07-04T20:49:58.873Z"
   },
   {
    "duration": 11,
    "start_time": "2022-07-04T20:49:58.880Z"
   },
   {
    "duration": 5,
    "start_time": "2022-07-04T20:49:58.904Z"
   },
   {
    "duration": 11,
    "start_time": "2022-07-04T20:49:59.119Z"
   },
   {
    "duration": 19,
    "start_time": "2022-07-04T20:49:59.336Z"
   },
   {
    "duration": 25,
    "start_time": "2022-07-04T20:49:59.558Z"
   },
   {
    "duration": 17,
    "start_time": "2022-07-04T20:49:59.698Z"
   },
   {
    "duration": 17,
    "start_time": "2022-07-04T20:50:00.052Z"
   },
   {
    "duration": 30,
    "start_time": "2022-07-04T20:50:00.154Z"
   },
   {
    "duration": 16,
    "start_time": "2022-07-04T20:50:00.284Z"
   },
   {
    "duration": 17,
    "start_time": "2022-07-04T20:50:00.404Z"
   },
   {
    "duration": 10,
    "start_time": "2022-07-04T20:50:00.798Z"
   },
   {
    "duration": 10,
    "start_time": "2022-07-04T20:50:00.908Z"
   },
   {
    "duration": 16,
    "start_time": "2022-07-04T20:50:01.035Z"
   },
   {
    "duration": 9,
    "start_time": "2022-07-04T20:50:01.154Z"
   },
   {
    "duration": 9,
    "start_time": "2022-07-04T20:50:01.301Z"
   },
   {
    "duration": 9,
    "start_time": "2022-07-04T20:50:07.701Z"
   },
   {
    "duration": 9,
    "start_time": "2022-07-04T20:50:07.842Z"
   },
   {
    "duration": 7,
    "start_time": "2022-07-04T20:50:07.957Z"
   },
   {
    "duration": 16,
    "start_time": "2022-07-04T20:50:08.302Z"
   },
   {
    "duration": 8,
    "start_time": "2022-07-04T20:50:08.427Z"
   },
   {
    "duration": 6,
    "start_time": "2022-07-04T20:50:08.554Z"
   },
   {
    "duration": 5,
    "start_time": "2022-07-04T20:50:08.656Z"
   },
   {
    "duration": 9,
    "start_time": "2022-07-04T20:50:08.772Z"
   },
   {
    "duration": 7,
    "start_time": "2022-07-04T20:50:08.883Z"
   },
   {
    "duration": 8,
    "start_time": "2022-07-04T20:50:09.002Z"
   },
   {
    "duration": 6,
    "start_time": "2022-07-04T20:50:09.120Z"
   },
   {
    "duration": 10,
    "start_time": "2022-07-04T20:50:09.237Z"
   },
   {
    "duration": 11,
    "start_time": "2022-07-04T20:50:09.362Z"
   },
   {
    "duration": 7,
    "start_time": "2022-07-04T20:50:09.476Z"
   },
   {
    "duration": 25,
    "start_time": "2022-07-04T20:50:09.598Z"
   },
   {
    "duration": 16,
    "start_time": "2022-07-04T20:50:10.097Z"
   },
   {
    "duration": 24,
    "start_time": "2022-07-04T20:50:10.296Z"
   },
   {
    "duration": 14,
    "start_time": "2022-07-04T20:50:10.524Z"
   },
   {
    "duration": 197,
    "start_time": "2022-07-04T20:50:10.645Z"
   },
   {
    "duration": 137,
    "start_time": "2022-07-04T20:50:10.845Z"
   },
   {
    "duration": 11,
    "start_time": "2022-07-04T20:50:11.230Z"
   },
   {
    "duration": 123,
    "start_time": "2022-07-04T20:50:11.354Z"
   },
   {
    "duration": 4,
    "start_time": "2022-07-04T20:50:11.479Z"
   },
   {
    "duration": 13,
    "start_time": "2022-07-04T20:50:11.588Z"
   },
   {
    "duration": 175,
    "start_time": "2022-07-04T20:50:11.694Z"
   },
   {
    "duration": 148,
    "start_time": "2022-07-04T20:50:11.871Z"
   },
   {
    "duration": 12,
    "start_time": "2022-07-04T20:50:12.172Z"
   },
   {
    "duration": 147,
    "start_time": "2022-07-04T20:50:12.291Z"
   },
   {
    "duration": 22,
    "start_time": "2022-07-04T20:50:12.655Z"
   },
   {
    "duration": 6,
    "start_time": "2022-07-04T20:50:12.884Z"
   },
   {
    "duration": 251,
    "start_time": "2022-07-04T20:50:13.025Z"
   },
   {
    "duration": 12,
    "start_time": "2022-07-04T20:50:13.278Z"
   },
   {
    "duration": 187,
    "start_time": "2022-07-04T20:50:13.292Z"
   },
   {
    "duration": 11,
    "start_time": "2022-07-04T20:50:13.642Z"
   },
   {
    "duration": 30,
    "start_time": "2022-07-04T20:50:13.839Z"
   },
   {
    "duration": 5,
    "start_time": "2022-07-04T20:50:14.018Z"
   },
   {
    "duration": 5,
    "start_time": "2022-07-04T20:50:14.128Z"
   },
   {
    "duration": 8,
    "start_time": "2022-07-04T20:50:14.264Z"
   },
   {
    "duration": 182,
    "start_time": "2022-07-04T20:50:14.399Z"
   },
   {
    "duration": 244,
    "start_time": "2022-07-04T20:50:14.583Z"
   },
   {
    "duration": 223,
    "start_time": "2022-07-04T20:50:14.829Z"
   },
   {
    "duration": 10,
    "start_time": "2022-07-04T20:50:15.056Z"
   },
   {
    "duration": 192,
    "start_time": "2022-07-04T20:50:15.068Z"
   },
   {
    "duration": 297,
    "start_time": "2022-07-04T20:50:15.262Z"
   },
   {
    "duration": 276,
    "start_time": "2022-07-04T20:50:15.561Z"
   },
   {
    "duration": 269,
    "start_time": "2022-07-04T20:50:15.839Z"
   },
   {
    "duration": 347,
    "start_time": "2022-07-04T20:53:24.513Z"
   },
   {
    "duration": 166,
    "start_time": "2022-07-04T21:03:18.070Z"
   },
   {
    "duration": 190,
    "start_time": "2022-07-04T21:04:30.608Z"
   },
   {
    "duration": 22,
    "start_time": "2022-07-04T21:05:23.954Z"
   },
   {
    "duration": 174,
    "start_time": "2022-07-04T21:05:33.841Z"
   },
   {
    "duration": 185,
    "start_time": "2022-07-04T21:06:45.634Z"
   },
   {
    "duration": 223,
    "start_time": "2022-07-04T21:07:25.637Z"
   },
   {
    "duration": 738,
    "start_time": "2022-07-04T21:14:29.625Z"
   },
   {
    "duration": 25,
    "start_time": "2022-07-04T21:14:30.365Z"
   },
   {
    "duration": 21,
    "start_time": "2022-07-04T21:14:30.391Z"
   },
   {
    "duration": 16,
    "start_time": "2022-07-04T21:14:30.414Z"
   },
   {
    "duration": 28,
    "start_time": "2022-07-04T21:14:30.431Z"
   },
   {
    "duration": 27,
    "start_time": "2022-07-04T21:14:30.461Z"
   },
   {
    "duration": 987,
    "start_time": "2022-07-04T21:14:30.490Z"
   },
   {
    "duration": 4,
    "start_time": "2022-07-04T21:14:31.479Z"
   },
   {
    "duration": 20,
    "start_time": "2022-07-04T21:14:31.485Z"
   },
   {
    "duration": 29,
    "start_time": "2022-07-04T21:14:31.508Z"
   },
   {
    "duration": 25,
    "start_time": "2022-07-04T21:14:31.539Z"
   },
   {
    "duration": 27,
    "start_time": "2022-07-04T21:14:31.566Z"
   },
   {
    "duration": 17,
    "start_time": "2022-07-04T21:14:31.596Z"
   },
   {
    "duration": 11,
    "start_time": "2022-07-04T21:14:31.615Z"
   },
   {
    "duration": 13,
    "start_time": "2022-07-04T21:14:31.627Z"
   },
   {
    "duration": 34,
    "start_time": "2022-07-04T21:14:31.642Z"
   },
   {
    "duration": 16,
    "start_time": "2022-07-04T21:14:31.678Z"
   },
   {
    "duration": 17,
    "start_time": "2022-07-04T21:14:31.695Z"
   },
   {
    "duration": 46,
    "start_time": "2022-07-04T21:14:31.714Z"
   },
   {
    "duration": 16,
    "start_time": "2022-07-04T21:14:31.761Z"
   },
   {
    "duration": 23,
    "start_time": "2022-07-04T21:14:31.778Z"
   },
   {
    "duration": 8,
    "start_time": "2022-07-04T21:14:31.803Z"
   },
   {
    "duration": 31,
    "start_time": "2022-07-04T21:14:31.813Z"
   },
   {
    "duration": 15,
    "start_time": "2022-07-04T21:14:31.847Z"
   },
   {
    "duration": 8,
    "start_time": "2022-07-04T21:14:31.864Z"
   },
   {
    "duration": 13,
    "start_time": "2022-07-04T21:14:31.874Z"
   },
   {
    "duration": 11,
    "start_time": "2022-07-04T21:14:31.888Z"
   },
   {
    "duration": 12,
    "start_time": "2022-07-04T21:14:31.903Z"
   },
   {
    "duration": 6,
    "start_time": "2022-07-04T21:14:31.917Z"
   },
   {
    "duration": 34,
    "start_time": "2022-07-04T21:14:31.925Z"
   },
   {
    "duration": 12,
    "start_time": "2022-07-04T21:14:31.961Z"
   },
   {
    "duration": 4,
    "start_time": "2022-07-04T21:14:31.974Z"
   },
   {
    "duration": 14,
    "start_time": "2022-07-04T21:14:31.979Z"
   },
   {
    "duration": 10,
    "start_time": "2022-07-04T21:14:31.995Z"
   },
   {
    "duration": 13,
    "start_time": "2022-07-04T21:14:32.007Z"
   },
   {
    "duration": 7,
    "start_time": "2022-07-04T21:14:32.021Z"
   },
   {
    "duration": 6,
    "start_time": "2022-07-04T21:14:32.029Z"
   },
   {
    "duration": 20,
    "start_time": "2022-07-04T21:14:32.041Z"
   },
   {
    "duration": 14,
    "start_time": "2022-07-04T21:14:32.063Z"
   },
   {
    "duration": 7,
    "start_time": "2022-07-04T21:14:32.079Z"
   },
   {
    "duration": 24,
    "start_time": "2022-07-04T21:14:32.087Z"
   },
   {
    "duration": 15,
    "start_time": "2022-07-04T21:14:32.112Z"
   },
   {
    "duration": 46,
    "start_time": "2022-07-04T21:14:32.128Z"
   },
   {
    "duration": 12,
    "start_time": "2022-07-04T21:14:32.175Z"
   },
   {
    "duration": 206,
    "start_time": "2022-07-04T21:14:32.188Z"
   },
   {
    "duration": 134,
    "start_time": "2022-07-04T21:14:32.395Z"
   },
   {
    "duration": 29,
    "start_time": "2022-07-04T21:14:32.531Z"
   },
   {
    "duration": 126,
    "start_time": "2022-07-04T21:14:32.562Z"
   },
   {
    "duration": 5,
    "start_time": "2022-07-04T21:14:32.689Z"
   },
   {
    "duration": 18,
    "start_time": "2022-07-04T21:14:32.695Z"
   },
   {
    "duration": 210,
    "start_time": "2022-07-04T21:14:32.714Z"
   },
   {
    "duration": 158,
    "start_time": "2022-07-04T21:14:32.925Z"
   },
   {
    "duration": 13,
    "start_time": "2022-07-04T21:14:33.085Z"
   },
   {
    "duration": 179,
    "start_time": "2022-07-04T21:14:33.099Z"
   },
   {
    "duration": 21,
    "start_time": "2022-07-04T21:14:33.279Z"
   },
   {
    "duration": 4,
    "start_time": "2022-07-04T21:14:33.301Z"
   },
   {
    "duration": 355,
    "start_time": "2022-07-04T21:14:33.307Z"
   },
   {
    "duration": 13,
    "start_time": "2022-07-04T21:14:33.663Z"
   },
   {
    "duration": 209,
    "start_time": "2022-07-04T21:14:33.677Z"
   },
   {
    "duration": 298,
    "start_time": "2022-07-04T21:14:33.888Z"
   },
   {
    "duration": 4,
    "start_time": "2022-07-04T21:14:34.187Z"
   },
   {
    "duration": 22,
    "start_time": "2022-07-04T21:14:34.193Z"
   },
   {
    "duration": 9,
    "start_time": "2022-07-04T21:14:34.216Z"
   },
   {
    "duration": 19,
    "start_time": "2022-07-04T21:14:34.226Z"
   },
   {
    "duration": 11,
    "start_time": "2022-07-04T21:14:34.246Z"
   },
   {
    "duration": 192,
    "start_time": "2022-07-04T21:14:34.259Z"
   },
   {
    "duration": 267,
    "start_time": "2022-07-04T21:14:34.454Z"
   },
   {
    "duration": 239,
    "start_time": "2022-07-04T21:14:34.723Z"
   },
   {
    "duration": 7,
    "start_time": "2022-07-04T21:14:34.964Z"
   },
   {
    "duration": 195,
    "start_time": "2022-07-04T21:14:34.972Z"
   },
   {
    "duration": 300,
    "start_time": "2022-07-04T21:14:35.168Z"
   },
   {
    "duration": 297,
    "start_time": "2022-07-04T21:14:35.470Z"
   },
   {
    "duration": 288,
    "start_time": "2022-07-04T21:14:35.768Z"
   },
   {
    "duration": 252,
    "start_time": "2022-07-04T21:14:36.059Z"
   },
   {
    "duration": 211,
    "start_time": "2022-07-04T21:14:36.313Z"
   },
   {
    "duration": 189,
    "start_time": "2022-07-04T21:14:51.106Z"
   },
   {
    "duration": 1262,
    "start_time": "2022-07-05T03:49:46.583Z"
   },
   {
    "duration": 41,
    "start_time": "2022-07-05T03:49:47.848Z"
   },
   {
    "duration": 21,
    "start_time": "2022-07-05T03:49:47.890Z"
   },
   {
    "duration": 26,
    "start_time": "2022-07-05T03:49:47.912Z"
   },
   {
    "duration": 7,
    "start_time": "2022-07-05T03:49:47.940Z"
   },
   {
    "duration": 15,
    "start_time": "2022-07-05T03:49:47.949Z"
   },
   {
    "duration": 918,
    "start_time": "2022-07-05T03:49:47.966Z"
   },
   {
    "duration": 5,
    "start_time": "2022-07-05T03:49:48.885Z"
   },
   {
    "duration": 14,
    "start_time": "2022-07-05T03:49:48.893Z"
   },
   {
    "duration": 26,
    "start_time": "2022-07-05T03:49:48.909Z"
   },
   {
    "duration": 17,
    "start_time": "2022-07-05T03:49:48.936Z"
   },
   {
    "duration": 13,
    "start_time": "2022-07-05T03:49:48.955Z"
   },
   {
    "duration": 8,
    "start_time": "2022-07-05T03:49:48.970Z"
   },
   {
    "duration": 11,
    "start_time": "2022-07-05T03:49:48.981Z"
   },
   {
    "duration": 40,
    "start_time": "2022-07-05T03:49:48.994Z"
   },
   {
    "duration": 39,
    "start_time": "2022-07-05T03:49:49.035Z"
   },
   {
    "duration": 35,
    "start_time": "2022-07-05T03:49:49.076Z"
   },
   {
    "duration": 34,
    "start_time": "2022-07-05T03:49:49.113Z"
   },
   {
    "duration": 32,
    "start_time": "2022-07-05T03:49:49.149Z"
   },
   {
    "duration": 18,
    "start_time": "2022-07-05T03:49:49.183Z"
   },
   {
    "duration": 46,
    "start_time": "2022-07-05T03:49:49.202Z"
   },
   {
    "duration": 19,
    "start_time": "2022-07-05T03:49:49.250Z"
   },
   {
    "duration": 13,
    "start_time": "2022-07-05T03:49:49.271Z"
   },
   {
    "duration": 14,
    "start_time": "2022-07-05T03:49:49.285Z"
   },
   {
    "duration": 32,
    "start_time": "2022-07-05T03:49:49.301Z"
   },
   {
    "duration": 11,
    "start_time": "2022-07-05T03:49:49.337Z"
   },
   {
    "duration": 23,
    "start_time": "2022-07-05T03:49:49.349Z"
   },
   {
    "duration": 14,
    "start_time": "2022-07-05T03:49:49.373Z"
   },
   {
    "duration": 8,
    "start_time": "2022-07-05T03:49:49.389Z"
   },
   {
    "duration": 37,
    "start_time": "2022-07-05T03:49:49.398Z"
   },
   {
    "duration": 11,
    "start_time": "2022-07-05T03:49:49.436Z"
   },
   {
    "duration": 4,
    "start_time": "2022-07-05T03:49:49.448Z"
   },
   {
    "duration": 12,
    "start_time": "2022-07-05T03:49:49.454Z"
   },
   {
    "duration": 13,
    "start_time": "2022-07-05T03:49:49.468Z"
   },
   {
    "duration": 8,
    "start_time": "2022-07-05T03:49:49.483Z"
   },
   {
    "duration": 8,
    "start_time": "2022-07-05T03:49:49.492Z"
   },
   {
    "duration": 6,
    "start_time": "2022-07-05T03:49:49.502Z"
   },
   {
    "duration": 22,
    "start_time": "2022-07-05T03:49:49.509Z"
   },
   {
    "duration": 26,
    "start_time": "2022-07-05T03:49:49.533Z"
   },
   {
    "duration": 11,
    "start_time": "2022-07-05T03:49:49.561Z"
   },
   {
    "duration": 26,
    "start_time": "2022-07-05T03:49:49.576Z"
   },
   {
    "duration": 36,
    "start_time": "2022-07-05T03:49:49.603Z"
   },
   {
    "duration": 24,
    "start_time": "2022-07-05T03:49:49.641Z"
   },
   {
    "duration": 17,
    "start_time": "2022-07-05T03:49:49.667Z"
   },
   {
    "duration": 198,
    "start_time": "2022-07-05T03:49:49.686Z"
   },
   {
    "duration": 155,
    "start_time": "2022-07-05T03:49:49.885Z"
   },
   {
    "duration": 14,
    "start_time": "2022-07-05T03:49:50.041Z"
   },
   {
    "duration": 134,
    "start_time": "2022-07-05T03:49:50.057Z"
   },
   {
    "duration": 5,
    "start_time": "2022-07-05T03:49:50.193Z"
   },
   {
    "duration": 34,
    "start_time": "2022-07-05T03:49:50.199Z"
   },
   {
    "duration": 219,
    "start_time": "2022-07-05T03:49:50.234Z"
   },
   {
    "duration": 161,
    "start_time": "2022-07-05T03:49:50.454Z"
   },
   {
    "duration": 23,
    "start_time": "2022-07-05T03:49:50.617Z"
   },
   {
    "duration": 176,
    "start_time": "2022-07-05T03:49:50.642Z"
   },
   {
    "duration": 27,
    "start_time": "2022-07-05T03:49:50.823Z"
   },
   {
    "duration": 6,
    "start_time": "2022-07-05T03:49:50.851Z"
   },
   {
    "duration": 348,
    "start_time": "2022-07-05T03:49:50.858Z"
   },
   {
    "duration": 22,
    "start_time": "2022-07-05T03:49:51.208Z"
   },
   {
    "duration": 196,
    "start_time": "2022-07-05T03:49:51.233Z"
   },
   {
    "duration": 300,
    "start_time": "2022-07-05T03:49:51.432Z"
   },
   {
    "duration": 6,
    "start_time": "2022-07-05T03:49:51.735Z"
   },
   {
    "duration": 26,
    "start_time": "2022-07-05T03:49:51.742Z"
   },
   {
    "duration": 9,
    "start_time": "2022-07-05T03:49:51.770Z"
   },
   {
    "duration": 8,
    "start_time": "2022-07-05T03:49:51.780Z"
   },
   {
    "duration": 9,
    "start_time": "2022-07-05T03:49:51.790Z"
   },
   {
    "duration": 192,
    "start_time": "2022-07-05T03:49:51.801Z"
   },
   {
    "duration": 260,
    "start_time": "2022-07-05T03:49:51.996Z"
   },
   {
    "duration": 231,
    "start_time": "2022-07-05T03:49:52.258Z"
   },
   {
    "duration": 9,
    "start_time": "2022-07-05T03:49:52.491Z"
   },
   {
    "duration": 206,
    "start_time": "2022-07-05T03:49:52.501Z"
   },
   {
    "duration": 308,
    "start_time": "2022-07-05T03:49:52.709Z"
   },
   {
    "duration": 309,
    "start_time": "2022-07-05T03:49:53.018Z"
   },
   {
    "duration": 280,
    "start_time": "2022-07-05T03:49:53.339Z"
   },
   {
    "duration": 273,
    "start_time": "2022-07-05T03:49:53.621Z"
   },
   {
    "duration": 199,
    "start_time": "2022-07-05T03:49:53.896Z"
   },
   {
    "duration": 7,
    "start_time": "2022-07-05T04:04:25.378Z"
   },
   {
    "duration": 7,
    "start_time": "2022-07-05T04:12:03.407Z"
   },
   {
    "duration": 54,
    "start_time": "2022-07-05T04:15:18.561Z"
   },
   {
    "duration": 27,
    "start_time": "2022-07-05T04:36:29.606Z"
   },
   {
    "duration": 29,
    "start_time": "2022-07-05T04:39:37.587Z"
   },
   {
    "duration": 1330,
    "start_time": "2022-07-05T04:46:06.245Z"
   },
   {
    "duration": 4,
    "start_time": "2022-07-05T04:46:30.364Z"
   },
   {
    "duration": 175,
    "start_time": "2022-07-05T05:01:59.678Z"
   },
   {
    "duration": 158,
    "start_time": "2022-07-05T05:03:23.111Z"
   },
   {
    "duration": 21,
    "start_time": "2022-07-05T05:17:54.464Z"
   },
   {
    "duration": 1181,
    "start_time": "2022-07-06T07:26:11.766Z"
   },
   {
    "duration": 67,
    "start_time": "2022-07-06T07:26:12.949Z"
   },
   {
    "duration": 39,
    "start_time": "2022-07-06T07:26:13.018Z"
   },
   {
    "duration": 35,
    "start_time": "2022-07-06T07:26:13.059Z"
   },
   {
    "duration": 11,
    "start_time": "2022-07-06T07:26:13.097Z"
   },
   {
    "duration": 23,
    "start_time": "2022-07-06T07:26:13.391Z"
   },
   {
    "duration": 1253,
    "start_time": "2022-07-06T07:26:13.574Z"
   },
   {
    "duration": 75,
    "start_time": "2022-07-06T07:26:14.829Z"
   },
   {
    "duration": 5,
    "start_time": "2022-07-06T07:26:14.906Z"
   },
   {
    "duration": 22,
    "start_time": "2022-07-06T07:26:14.925Z"
   },
   {
    "duration": 37,
    "start_time": "2022-07-06T07:26:14.949Z"
   },
   {
    "duration": 8,
    "start_time": "2022-07-06T07:26:14.989Z"
   },
   {
    "duration": 62,
    "start_time": "2022-07-06T07:26:15.000Z"
   },
   {
    "duration": 35,
    "start_time": "2022-07-06T07:26:15.065Z"
   },
   {
    "duration": 15,
    "start_time": "2022-07-06T07:26:15.212Z"
   },
   {
    "duration": 19,
    "start_time": "2022-07-06T07:26:15.302Z"
   },
   {
    "duration": 31,
    "start_time": "2022-07-06T07:26:15.582Z"
   },
   {
    "duration": 18,
    "start_time": "2022-07-06T07:26:15.762Z"
   },
   {
    "duration": 20,
    "start_time": "2022-07-06T07:26:16.281Z"
   },
   {
    "duration": 40,
    "start_time": "2022-07-06T07:26:16.381Z"
   },
   {
    "duration": 22,
    "start_time": "2022-07-06T07:26:16.581Z"
   },
   {
    "duration": 21,
    "start_time": "2022-07-06T07:26:16.654Z"
   },
   {
    "duration": 11,
    "start_time": "2022-07-06T07:26:17.205Z"
   },
   {
    "duration": 26,
    "start_time": "2022-07-06T07:26:17.483Z"
   },
   {
    "duration": 13,
    "start_time": "2022-07-06T07:26:17.675Z"
   },
   {
    "duration": 15,
    "start_time": "2022-07-06T07:26:17.768Z"
   },
   {
    "duration": 11,
    "start_time": "2022-07-06T07:26:17.962Z"
   },
   {
    "duration": 12,
    "start_time": "2022-07-06T07:26:18.070Z"
   },
   {
    "duration": 26,
    "start_time": "2022-07-06T07:26:18.222Z"
   },
   {
    "duration": 18,
    "start_time": "2022-07-06T07:26:18.313Z"
   },
   {
    "duration": 10,
    "start_time": "2022-07-06T07:26:18.502Z"
   },
   {
    "duration": 29,
    "start_time": "2022-07-06T07:26:19.145Z"
   },
   {
    "duration": 10,
    "start_time": "2022-07-06T07:26:19.312Z"
   },
   {
    "duration": 10,
    "start_time": "2022-07-06T07:26:19.394Z"
   },
   {
    "duration": 8,
    "start_time": "2022-07-06T07:26:19.584Z"
   },
   {
    "duration": 9,
    "start_time": "2022-07-06T07:26:19.662Z"
   },
   {
    "duration": 10,
    "start_time": "2022-07-06T07:26:19.867Z"
   },
   {
    "duration": 10,
    "start_time": "2022-07-06T07:26:19.966Z"
   },
   {
    "duration": 47,
    "start_time": "2022-07-06T07:26:20.210Z"
   },
   {
    "duration": 6,
    "start_time": "2022-07-06T07:26:20.389Z"
   },
   {
    "duration": 9,
    "start_time": "2022-07-06T07:26:20.670Z"
   },
   {
    "duration": 13,
    "start_time": "2022-07-06T07:26:20.767Z"
   },
   {
    "duration": 9,
    "start_time": "2022-07-06T07:26:21.058Z"
   },
   {
    "duration": 41,
    "start_time": "2022-07-06T07:26:21.221Z"
   },
   {
    "duration": 23,
    "start_time": "2022-07-06T07:26:21.755Z"
   },
   {
    "duration": 39,
    "start_time": "2022-07-06T07:26:22.066Z"
   },
   {
    "duration": 26,
    "start_time": "2022-07-06T07:26:22.313Z"
   },
   {
    "duration": 308,
    "start_time": "2022-07-06T07:26:22.488Z"
   },
   {
    "duration": 222,
    "start_time": "2022-07-06T07:26:22.800Z"
   },
   {
    "duration": 18,
    "start_time": "2022-07-06T07:26:23.306Z"
   },
   {
    "duration": 162,
    "start_time": "2022-07-06T07:26:23.518Z"
   },
   {
    "duration": 9,
    "start_time": "2022-07-06T07:26:23.805Z"
   },
   {
    "duration": 19,
    "start_time": "2022-07-06T07:26:23.886Z"
   },
   {
    "duration": 299,
    "start_time": "2022-07-06T07:26:24.181Z"
   },
   {
    "duration": 238,
    "start_time": "2022-07-06T07:26:24.483Z"
   },
   {
    "duration": 18,
    "start_time": "2022-07-06T07:26:25.003Z"
   },
   {
    "duration": 290,
    "start_time": "2022-07-06T07:26:25.274Z"
   },
   {
    "duration": 28,
    "start_time": "2022-07-06T07:26:25.870Z"
   },
   {
    "duration": 8,
    "start_time": "2022-07-06T07:26:26.258Z"
   },
   {
    "duration": 427,
    "start_time": "2022-07-06T07:26:26.474Z"
   },
   {
    "duration": 40,
    "start_time": "2022-07-06T07:26:26.903Z"
   },
   {
    "duration": 327,
    "start_time": "2022-07-06T07:26:26.946Z"
   },
   {
    "duration": 269,
    "start_time": "2022-07-06T07:26:27.276Z"
   },
   {
    "duration": 459,
    "start_time": "2022-07-06T07:26:27.547Z"
   },
   {
    "duration": 5,
    "start_time": "2022-07-06T07:26:28.009Z"
   },
   {
    "duration": 30,
    "start_time": "2022-07-06T07:26:28.133Z"
   },
   {
    "duration": 5,
    "start_time": "2022-07-06T07:26:28.209Z"
   },
   {
    "duration": 6,
    "start_time": "2022-07-06T07:26:28.366Z"
   },
   {
    "duration": 10,
    "start_time": "2022-07-06T07:26:28.458Z"
   },
   {
    "duration": 200,
    "start_time": "2022-07-06T07:26:28.682Z"
   },
   {
    "duration": 265,
    "start_time": "2022-07-06T07:26:28.922Z"
   },
   {
    "duration": 278,
    "start_time": "2022-07-06T07:26:29.190Z"
   },
   {
    "duration": 10,
    "start_time": "2022-07-06T07:26:29.471Z"
   },
   {
    "duration": 296,
    "start_time": "2022-07-06T07:26:29.483Z"
   },
   {
    "duration": 430,
    "start_time": "2022-07-06T07:26:29.781Z"
   },
   {
    "duration": 598,
    "start_time": "2022-07-06T07:26:30.214Z"
   },
   {
    "duration": 458,
    "start_time": "2022-07-06T07:26:30.816Z"
   },
   {
    "duration": 228,
    "start_time": "2022-07-06T07:26:31.276Z"
   },
   {
    "duration": 275,
    "start_time": "2022-07-06T07:26:31.506Z"
   },
   {
    "duration": 417,
    "start_time": "2022-07-06T07:27:33.685Z"
   },
   {
    "duration": 893,
    "start_time": "2022-07-06T08:33:53.129Z"
   },
   {
    "duration": 29,
    "start_time": "2022-07-06T08:33:54.024Z"
   },
   {
    "duration": 40,
    "start_time": "2022-07-06T08:33:54.055Z"
   },
   {
    "duration": 31,
    "start_time": "2022-07-06T08:33:54.098Z"
   },
   {
    "duration": 8,
    "start_time": "2022-07-06T08:33:54.131Z"
   },
   {
    "duration": 70,
    "start_time": "2022-07-06T08:33:54.141Z"
   },
   {
    "duration": 1307,
    "start_time": "2022-07-06T08:33:54.213Z"
   },
   {
    "duration": 84,
    "start_time": "2022-07-06T08:33:55.522Z"
   },
   {
    "duration": 6,
    "start_time": "2022-07-06T08:33:55.607Z"
   },
   {
    "duration": 12,
    "start_time": "2022-07-06T08:33:55.615Z"
   },
   {
    "duration": 48,
    "start_time": "2022-07-06T08:33:55.629Z"
   },
   {
    "duration": 13,
    "start_time": "2022-07-06T08:33:55.682Z"
   },
   {
    "duration": 24,
    "start_time": "2022-07-06T08:33:55.697Z"
   },
   {
    "duration": 11,
    "start_time": "2022-07-06T08:33:55.725Z"
   },
   {
    "duration": 34,
    "start_time": "2022-07-06T08:33:55.738Z"
   },
   {
    "duration": 40,
    "start_time": "2022-07-06T08:33:55.780Z"
   },
   {
    "duration": 48,
    "start_time": "2022-07-06T08:33:55.822Z"
   },
   {
    "duration": 34,
    "start_time": "2022-07-06T08:33:55.871Z"
   },
   {
    "duration": 23,
    "start_time": "2022-07-06T08:33:55.907Z"
   },
   {
    "duration": 44,
    "start_time": "2022-07-06T08:33:55.931Z"
   },
   {
    "duration": 51,
    "start_time": "2022-07-06T08:33:55.977Z"
   },
   {
    "duration": 24,
    "start_time": "2022-07-06T08:33:56.030Z"
   },
   {
    "duration": 59,
    "start_time": "2022-07-06T08:33:56.056Z"
   },
   {
    "duration": 18,
    "start_time": "2022-07-06T08:33:56.117Z"
   },
   {
    "duration": 11,
    "start_time": "2022-07-06T08:33:56.137Z"
   },
   {
    "duration": 69,
    "start_time": "2022-07-06T08:33:56.150Z"
   },
   {
    "duration": 10,
    "start_time": "2022-07-06T08:33:56.221Z"
   },
   {
    "duration": 25,
    "start_time": "2022-07-06T08:33:56.233Z"
   },
   {
    "duration": 57,
    "start_time": "2022-07-06T08:33:56.260Z"
   },
   {
    "duration": 15,
    "start_time": "2022-07-06T08:33:56.318Z"
   },
   {
    "duration": 19,
    "start_time": "2022-07-06T08:33:56.335Z"
   },
   {
    "duration": 70,
    "start_time": "2022-07-06T08:33:56.355Z"
   },
   {
    "duration": 49,
    "start_time": "2022-07-06T08:33:56.427Z"
   },
   {
    "duration": 23,
    "start_time": "2022-07-06T08:33:56.489Z"
   },
   {
    "duration": 10,
    "start_time": "2022-07-06T08:33:56.514Z"
   },
   {
    "duration": 13,
    "start_time": "2022-07-06T08:33:56.526Z"
   },
   {
    "duration": 40,
    "start_time": "2022-07-06T08:33:56.541Z"
   },
   {
    "duration": 22,
    "start_time": "2022-07-06T08:33:56.592Z"
   },
   {
    "duration": 64,
    "start_time": "2022-07-06T08:33:56.616Z"
   },
   {
    "duration": 12,
    "start_time": "2022-07-06T08:33:56.691Z"
   },
   {
    "duration": 14,
    "start_time": "2022-07-06T08:33:56.710Z"
   },
   {
    "duration": 13,
    "start_time": "2022-07-06T08:33:56.726Z"
   },
   {
    "duration": 27,
    "start_time": "2022-07-06T08:33:56.742Z"
   },
   {
    "duration": 66,
    "start_time": "2022-07-06T08:33:56.771Z"
   },
   {
    "duration": 48,
    "start_time": "2022-07-06T08:33:56.839Z"
   },
   {
    "duration": 49,
    "start_time": "2022-07-06T08:33:56.893Z"
   },
   {
    "duration": 26,
    "start_time": "2022-07-06T08:33:56.949Z"
   },
   {
    "duration": 299,
    "start_time": "2022-07-06T08:33:56.977Z"
   },
   {
    "duration": 198,
    "start_time": "2022-07-06T08:33:57.280Z"
   },
   {
    "duration": 19,
    "start_time": "2022-07-06T08:33:57.480Z"
   },
   {
    "duration": 181,
    "start_time": "2022-07-06T08:33:57.501Z"
   },
   {
    "duration": 7,
    "start_time": "2022-07-06T08:33:57.684Z"
   },
   {
    "duration": 19,
    "start_time": "2022-07-06T08:33:57.693Z"
   },
   {
    "duration": 284,
    "start_time": "2022-07-06T08:33:57.716Z"
   },
   {
    "duration": 207,
    "start_time": "2022-07-06T08:33:58.002Z"
   },
   {
    "duration": 15,
    "start_time": "2022-07-06T08:33:58.211Z"
   },
   {
    "duration": 306,
    "start_time": "2022-07-06T08:33:58.229Z"
   },
   {
    "duration": 37,
    "start_time": "2022-07-06T08:33:58.537Z"
   },
   {
    "duration": 365,
    "start_time": "2022-07-06T08:33:58.576Z"
   },
   {
    "duration": 10,
    "start_time": "2022-07-06T08:33:58.948Z"
   },
   {
    "duration": 412,
    "start_time": "2022-07-06T08:33:58.959Z"
   },
   {
    "duration": 26,
    "start_time": "2022-07-06T08:33:59.373Z"
   },
   {
    "duration": 249,
    "start_time": "2022-07-06T08:33:59.402Z"
   },
   {
    "duration": 224,
    "start_time": "2022-07-06T08:33:59.653Z"
   },
   {
    "duration": 387,
    "start_time": "2022-07-06T08:33:59.880Z"
   },
   {
    "duration": 5,
    "start_time": "2022-07-06T08:34:00.272Z"
   },
   {
    "duration": 91,
    "start_time": "2022-07-06T08:34:00.279Z"
   },
   {
    "duration": 37,
    "start_time": "2022-07-06T08:34:00.377Z"
   },
   {
    "duration": 11,
    "start_time": "2022-07-06T08:34:00.416Z"
   },
   {
    "duration": 17,
    "start_time": "2022-07-06T08:34:00.430Z"
   },
   {
    "duration": 260,
    "start_time": "2022-07-06T08:34:00.450Z"
   },
   {
    "duration": 315,
    "start_time": "2022-07-06T08:34:00.714Z"
   },
   {
    "duration": 317,
    "start_time": "2022-07-06T08:34:01.031Z"
   },
   {
    "duration": 27,
    "start_time": "2022-07-06T08:34:01.351Z"
   },
   {
    "duration": 355,
    "start_time": "2022-07-06T08:34:01.381Z"
   },
   {
    "duration": 528,
    "start_time": "2022-07-06T08:34:01.738Z"
   },
   {
    "duration": 419,
    "start_time": "2022-07-06T08:34:02.272Z"
   },
   {
    "duration": 369,
    "start_time": "2022-07-06T08:34:02.699Z"
   },
   {
    "duration": 238,
    "start_time": "2022-07-06T08:34:03.073Z"
   },
   {
    "duration": 257,
    "start_time": "2022-07-06T08:34:03.312Z"
   },
   {
    "duration": 926,
    "start_time": "2022-07-06T10:34:49.156Z"
   },
   {
    "duration": 57,
    "start_time": "2022-07-06T10:34:51.622Z"
   },
   {
    "duration": 24,
    "start_time": "2022-07-06T10:34:52.162Z"
   },
   {
    "duration": 20,
    "start_time": "2022-07-06T10:34:56.106Z"
   },
   {
    "duration": 7,
    "start_time": "2022-07-06T10:34:57.709Z"
   },
   {
    "duration": 57,
    "start_time": "2022-07-06T10:35:14.010Z"
   },
   {
    "duration": 56,
    "start_time": "2022-07-06T10:36:08.336Z"
   },
   {
    "duration": 49,
    "start_time": "2022-07-06T10:36:35.743Z"
   },
   {
    "duration": 10,
    "start_time": "2022-07-06T10:37:14.825Z"
   },
   {
    "duration": 22,
    "start_time": "2022-07-06T10:37:39.683Z"
   },
   {
    "duration": 52,
    "start_time": "2022-07-06T10:39:50.745Z"
   },
   {
    "duration": 29,
    "start_time": "2022-07-06T10:44:26.538Z"
   },
   {
    "duration": 71,
    "start_time": "2022-07-06T10:53:40.957Z"
   },
   {
    "duration": 98,
    "start_time": "2022-07-06T10:54:01.745Z"
   },
   {
    "duration": 29,
    "start_time": "2022-07-06T10:54:02.128Z"
   },
   {
    "duration": 31,
    "start_time": "2022-07-06T10:54:02.310Z"
   },
   {
    "duration": 21,
    "start_time": "2022-07-06T10:54:02.876Z"
   },
   {
    "duration": 30,
    "start_time": "2022-07-06T10:54:02.990Z"
   },
   {
    "duration": 18,
    "start_time": "2022-07-06T10:54:03.552Z"
   },
   {
    "duration": 1082,
    "start_time": "2022-07-06T10:54:03.645Z"
   },
   {
    "duration": 22,
    "start_time": "2022-07-06T10:54:04.729Z"
   },
   {
    "duration": 11,
    "start_time": "2022-07-06T10:54:04.753Z"
   },
   {
    "duration": 13,
    "start_time": "2022-07-06T10:54:04.766Z"
   },
   {
    "duration": 19,
    "start_time": "2022-07-06T10:54:04.781Z"
   },
   {
    "duration": 7,
    "start_time": "2022-07-06T10:54:04.826Z"
   },
   {
    "duration": 14,
    "start_time": "2022-07-06T10:54:04.835Z"
   },
   {
    "duration": 18,
    "start_time": "2022-07-06T10:54:04.852Z"
   },
   {
    "duration": 14,
    "start_time": "2022-07-06T10:54:05.150Z"
   },
   {
    "duration": 16,
    "start_time": "2022-07-06T10:54:05.385Z"
   },
   {
    "duration": 31,
    "start_time": "2022-07-06T10:54:05.639Z"
   },
   {
    "duration": 30,
    "start_time": "2022-07-06T10:54:05.715Z"
   },
   {
    "duration": 23,
    "start_time": "2022-07-06T10:54:06.415Z"
   },
   {
    "duration": 33,
    "start_time": "2022-07-06T10:54:06.613Z"
   },
   {
    "duration": 17,
    "start_time": "2022-07-06T10:54:06.697Z"
   },
   {
    "duration": 21,
    "start_time": "2022-07-06T10:54:06.848Z"
   },
   {
    "duration": 11,
    "start_time": "2022-07-06T10:54:07.510Z"
   },
   {
    "duration": 17,
    "start_time": "2022-07-06T10:54:07.885Z"
   },
   {
    "duration": 9,
    "start_time": "2022-07-06T10:54:08.210Z"
   },
   {
    "duration": 13,
    "start_time": "2022-07-06T10:54:08.299Z"
   },
   {
    "duration": 13,
    "start_time": "2022-07-06T10:54:08.446Z"
   },
   {
    "duration": 13,
    "start_time": "2022-07-06T10:54:08.550Z"
   },
   {
    "duration": 15,
    "start_time": "2022-07-06T10:54:08.696Z"
   },
   {
    "duration": 9,
    "start_time": "2022-07-06T10:54:08.770Z"
   },
   {
    "duration": 11,
    "start_time": "2022-07-06T10:54:08.908Z"
   },
   {
    "duration": 18,
    "start_time": "2022-07-06T10:54:09.436Z"
   },
   {
    "duration": 11,
    "start_time": "2022-07-06T10:54:09.576Z"
   },
   {
    "duration": 8,
    "start_time": "2022-07-06T10:54:09.657Z"
   },
   {
    "duration": 5,
    "start_time": "2022-07-06T10:54:09.792Z"
   },
   {
    "duration": 9,
    "start_time": "2022-07-06T10:54:09.870Z"
   },
   {
    "duration": 9,
    "start_time": "2022-07-06T10:54:10.012Z"
   },
   {
    "duration": 9,
    "start_time": "2022-07-06T10:54:10.098Z"
   },
   {
    "duration": 30,
    "start_time": "2022-07-06T10:54:10.348Z"
   },
   {
    "duration": 6,
    "start_time": "2022-07-06T10:54:10.483Z"
   },
   {
    "duration": 8,
    "start_time": "2022-07-06T10:54:10.703Z"
   },
   {
    "duration": 10,
    "start_time": "2022-07-06T10:54:10.801Z"
   },
   {
    "duration": 11,
    "start_time": "2022-07-06T10:54:11.041Z"
   },
   {
    "duration": 27,
    "start_time": "2022-07-06T10:54:11.183Z"
   },
   {
    "duration": 22,
    "start_time": "2022-07-06T10:54:11.645Z"
   },
   {
    "duration": 26,
    "start_time": "2022-07-06T10:54:11.874Z"
   },
   {
    "duration": 13,
    "start_time": "2022-07-06T10:54:12.174Z"
   },
   {
    "duration": 218,
    "start_time": "2022-07-06T10:54:12.441Z"
   },
   {
    "duration": 162,
    "start_time": "2022-07-06T10:54:12.802Z"
   },
   {
    "duration": 12,
    "start_time": "2022-07-06T10:54:13.596Z"
   },
   {
    "duration": 164,
    "start_time": "2022-07-06T10:54:13.779Z"
   },
   {
    "duration": 5,
    "start_time": "2022-07-06T10:54:14.096Z"
   },
   {
    "duration": 17,
    "start_time": "2022-07-06T10:54:14.294Z"
   },
   {
    "duration": 286,
    "start_time": "2022-07-06T10:54:14.557Z"
   },
   {
    "duration": 193,
    "start_time": "2022-07-06T10:54:14.846Z"
   },
   {
    "duration": 13,
    "start_time": "2022-07-06T10:54:15.406Z"
   },
   {
    "duration": 159,
    "start_time": "2022-07-06T10:54:15.745Z"
   },
   {
    "duration": 19,
    "start_time": "2022-07-06T10:54:16.384Z"
   },
   {
    "duration": 259,
    "start_time": "2022-07-06T10:54:16.599Z"
   },
   {
    "duration": 7,
    "start_time": "2022-07-06T10:54:17.988Z"
   },
   {
    "duration": 276,
    "start_time": "2022-07-06T10:54:18.090Z"
   },
   {
    "duration": 14,
    "start_time": "2022-07-06T10:54:18.368Z"
   },
   {
    "duration": 185,
    "start_time": "2022-07-06T10:54:19.423Z"
   },
   {
    "duration": 174,
    "start_time": "2022-07-06T10:54:19.610Z"
   },
   {
    "duration": 297,
    "start_time": "2022-07-06T10:54:22.845Z"
   },
   {
    "duration": 932,
    "start_time": "2023-04-02T12:07:34.709Z"
   },
   {
    "duration": 91,
    "start_time": "2023-04-02T12:07:37.364Z"
   },
   {
    "duration": 19,
    "start_time": "2023-04-02T12:07:38.081Z"
   },
   {
    "duration": 17,
    "start_time": "2023-04-02T12:07:41.343Z"
   },
   {
    "duration": 18,
    "start_time": "2023-04-02T12:07:41.977Z"
   },
   {
    "duration": 13,
    "start_time": "2023-04-02T12:07:43.979Z"
   },
   {
    "duration": 957,
    "start_time": "2023-04-02T12:07:44.842Z"
   },
   {
    "duration": 47,
    "start_time": "2023-04-02T12:07:46.963Z"
   },
   {
    "duration": 16,
    "start_time": "2023-04-02T12:09:38.536Z"
   },
   {
    "duration": 6,
    "start_time": "2023-04-02T12:09:39.433Z"
   },
   {
    "duration": 9,
    "start_time": "2023-04-02T12:09:40.883Z"
   },
   {
    "duration": 15,
    "start_time": "2023-04-02T12:09:42.438Z"
   },
   {
    "duration": 1083,
    "start_time": "2023-05-30T07:24:02.382Z"
   },
   {
    "duration": 267,
    "start_time": "2023-05-30T07:24:19.999Z"
   },
   {
    "duration": 120,
    "start_time": "2023-05-30T07:24:55.508Z"
   },
   {
    "duration": 50,
    "start_time": "2023-05-30T07:24:58.737Z"
   },
   {
    "duration": 40,
    "start_time": "2023-05-30T07:25:40.418Z"
   },
   {
    "duration": 34,
    "start_time": "2023-05-30T07:25:56.750Z"
   },
   {
    "duration": 11,
    "start_time": "2023-05-30T07:27:48.233Z"
   },
   {
    "duration": 16,
    "start_time": "2023-05-30T07:28:47.733Z"
   },
   {
    "duration": 35,
    "start_time": "2023-05-30T07:29:03.865Z"
   },
   {
    "duration": 10,
    "start_time": "2023-05-30T07:29:21.089Z"
   },
   {
    "duration": 10,
    "start_time": "2023-05-30T07:29:27.797Z"
   },
   {
    "duration": 21,
    "start_time": "2023-05-30T07:30:17.751Z"
   },
   {
    "duration": 590,
    "start_time": "2023-05-30T07:30:42.133Z"
   },
   {
    "duration": 133,
    "start_time": "2023-05-30T07:30:42.725Z"
   },
   {
    "duration": 43,
    "start_time": "2023-05-30T07:30:42.860Z"
   },
   {
    "duration": 36,
    "start_time": "2023-05-30T07:30:42.995Z"
   },
   {
    "duration": 17,
    "start_time": "2023-05-30T07:30:43.081Z"
   },
   {
    "duration": 8,
    "start_time": "2023-05-30T07:30:43.408Z"
   },
   {
    "duration": 16,
    "start_time": "2023-05-30T07:30:45.267Z"
   },
   {
    "duration": 613,
    "start_time": "2023-05-30T07:30:57.792Z"
   },
   {
    "duration": 66,
    "start_time": "2023-05-30T07:32:31.251Z"
   },
   {
    "duration": 6,
    "start_time": "2023-05-30T07:33:11.897Z"
   },
   {
    "duration": 11,
    "start_time": "2023-05-30T07:33:15.060Z"
   },
   {
    "duration": 27,
    "start_time": "2023-05-30T07:33:54.977Z"
   },
   {
    "duration": 14,
    "start_time": "2023-05-30T07:35:16.500Z"
   },
   {
    "duration": 6,
    "start_time": "2023-05-30T07:36:31.610Z"
   },
   {
    "duration": 9,
    "start_time": "2023-05-30T07:36:43.118Z"
   },
   {
    "duration": 14,
    "start_time": "2023-05-30T07:37:30.873Z"
   },
   {
    "duration": 10,
    "start_time": "2023-05-30T07:38:21.640Z"
   },
   {
    "duration": 11,
    "start_time": "2023-05-30T07:41:56.392Z"
   },
   {
    "duration": 17,
    "start_time": "2023-05-30T08:00:24.487Z"
   },
   {
    "duration": 7,
    "start_time": "2023-05-30T08:01:06.809Z"
   },
   {
    "duration": 11,
    "start_time": "2023-05-30T08:01:28.890Z"
   },
   {
    "duration": 6,
    "start_time": "2023-05-30T08:02:02.986Z"
   },
   {
    "duration": 5,
    "start_time": "2023-05-30T08:02:17.587Z"
   },
   {
    "duration": 130,
    "start_time": "2023-05-30T08:02:17.802Z"
   },
   {
    "duration": 61,
    "start_time": "2023-05-30T08:02:17.935Z"
   },
   {
    "duration": 45,
    "start_time": "2023-05-30T08:02:18.105Z"
   },
   {
    "duration": 23,
    "start_time": "2023-05-30T08:02:18.206Z"
   },
   {
    "duration": 23,
    "start_time": "2023-05-30T08:02:18.652Z"
   },
   {
    "duration": 17,
    "start_time": "2023-05-30T08:02:18.884Z"
   },
   {
    "duration": 622,
    "start_time": "2023-05-30T08:02:18.980Z"
   },
   {
    "duration": 18,
    "start_time": "2023-05-30T08:02:19.604Z"
   },
   {
    "duration": 26,
    "start_time": "2023-05-30T08:02:19.624Z"
   },
   {
    "duration": 50,
    "start_time": "2023-05-30T08:02:19.660Z"
   },
   {
    "duration": 23,
    "start_time": "2023-05-30T08:02:20.123Z"
   },
   {
    "duration": 12,
    "start_time": "2023-05-30T08:02:20.458Z"
   },
   {
    "duration": 15,
    "start_time": "2023-05-30T08:02:21.168Z"
   },
   {
    "duration": 9,
    "start_time": "2023-05-30T08:02:21.440Z"
   },
   {
    "duration": 32,
    "start_time": "2023-05-30T08:02:22.161Z"
   },
   {
    "duration": 15,
    "start_time": "2023-05-30T08:02:22.279Z"
   },
   {
    "duration": 13,
    "start_time": "2023-05-30T08:02:22.501Z"
   },
   {
    "duration": 9,
    "start_time": "2023-05-30T08:02:24.784Z"
   },
   {
    "duration": 12,
    "start_time": "2023-05-30T08:03:32.177Z"
   },
   {
    "duration": 41,
    "start_time": "2023-05-30T08:03:34.679Z"
   },
   {
    "duration": 17,
    "start_time": "2023-05-30T08:04:58.964Z"
   },
   {
    "duration": 49,
    "start_time": "2023-05-30T08:05:06.666Z"
   },
   {
    "duration": 70,
    "start_time": "2023-05-30T08:05:38.228Z"
   },
   {
    "duration": 23,
    "start_time": "2023-05-30T08:06:46.902Z"
   },
   {
    "duration": 23,
    "start_time": "2023-05-30T08:07:18.417Z"
   },
   {
    "duration": 62,
    "start_time": "2023-05-30T08:07:30.630Z"
   },
   {
    "duration": 7,
    "start_time": "2023-05-30T08:08:24.244Z"
   },
   {
    "duration": 58,
    "start_time": "2023-05-30T08:08:32.430Z"
   },
   {
    "duration": 9,
    "start_time": "2023-05-30T08:10:33.942Z"
   },
   {
    "duration": 28,
    "start_time": "2023-05-30T08:10:35.766Z"
   },
   {
    "duration": 5,
    "start_time": "2023-05-30T08:11:50.301Z"
   },
   {
    "duration": 22,
    "start_time": "2023-05-30T08:12:16.260Z"
   },
   {
    "duration": 19,
    "start_time": "2023-05-30T08:12:39.117Z"
   },
   {
    "duration": 20,
    "start_time": "2023-05-30T08:13:10.076Z"
   },
   {
    "duration": 18,
    "start_time": "2023-05-30T08:13:40.795Z"
   },
   {
    "duration": 23,
    "start_time": "2023-05-30T08:13:41.570Z"
   },
   {
    "duration": 33,
    "start_time": "2023-05-30T08:13:42.651Z"
   },
   {
    "duration": 26,
    "start_time": "2023-05-30T08:15:41.489Z"
   },
   {
    "duration": 35,
    "start_time": "2023-05-30T08:17:57.172Z"
   },
   {
    "duration": 21,
    "start_time": "2023-05-30T08:19:04.087Z"
   },
   {
    "duration": 1255,
    "start_time": "2023-05-30T18:01:17.618Z"
   },
   {
    "duration": 308,
    "start_time": "2023-05-30T18:01:18.875Z"
   },
   {
    "duration": 86,
    "start_time": "2023-05-30T18:01:19.210Z"
   },
   {
    "duration": 23,
    "start_time": "2023-05-30T18:01:20.115Z"
   },
   {
    "duration": 17,
    "start_time": "2023-05-30T18:01:21.082Z"
   },
   {
    "duration": 8,
    "start_time": "2023-05-30T18:01:23.227Z"
   },
   {
    "duration": 17,
    "start_time": "2023-05-30T18:01:24.754Z"
   },
   {
    "duration": 498,
    "start_time": "2023-05-30T18:01:25.759Z"
   },
   {
    "duration": 50,
    "start_time": "2023-05-30T18:01:27.212Z"
   },
   {
    "duration": 5,
    "start_time": "2023-05-30T18:01:28.280Z"
   },
   {
    "duration": 9,
    "start_time": "2023-05-30T18:01:29.307Z"
   },
   {
    "duration": 17,
    "start_time": "2023-05-30T18:01:30.134Z"
   },
   {
    "duration": 5,
    "start_time": "2023-05-30T18:01:31.941Z"
   },
   {
    "duration": 7,
    "start_time": "2023-05-30T18:01:33.396Z"
   },
   {
    "duration": 6,
    "start_time": "2023-05-30T18:01:34.329Z"
   },
   {
    "duration": 11,
    "start_time": "2023-05-30T18:01:36.514Z"
   },
   {
    "duration": 11,
    "start_time": "2023-05-30T18:01:37.369Z"
   },
   {
    "duration": 8,
    "start_time": "2023-05-30T18:01:38.249Z"
   },
   {
    "duration": 5,
    "start_time": "2023-05-30T18:01:39.280Z"
   },
   {
    "duration": 6,
    "start_time": "2023-05-30T18:01:40.761Z"
   },
   {
    "duration": 26,
    "start_time": "2023-05-30T18:01:42.700Z"
   },
   {
    "duration": 18,
    "start_time": "2023-05-30T18:01:44.752Z"
   },
   {
    "duration": 17,
    "start_time": "2023-05-30T18:01:47.030Z"
   },
   {
    "duration": 6,
    "start_time": "2023-05-30T18:01:48.524Z"
   },
   {
    "duration": 26,
    "start_time": "2023-05-30T18:01:51.417Z"
   },
   {
    "duration": 15,
    "start_time": "2023-05-30T18:01:52.464Z"
   },
   {
    "duration": 5,
    "start_time": "2023-05-30T18:01:54.018Z"
   },
   {
    "duration": 20,
    "start_time": "2023-05-30T18:01:57.823Z"
   },
   {
    "duration": 17,
    "start_time": "2023-05-30T18:01:59.468Z"
   },
   {
    "duration": 16,
    "start_time": "2023-05-30T18:02:00.627Z"
   },
   {
    "duration": 29,
    "start_time": "2023-05-30T18:02:14.022Z"
   },
   {
    "duration": 10,
    "start_time": "2023-05-30T18:02:16.449Z"
   },
   {
    "duration": 15,
    "start_time": "2023-05-30T18:03:25.672Z"
   },
   {
    "duration": 15,
    "start_time": "2023-05-30T18:06:47.452Z"
   },
   {
    "duration": 9,
    "start_time": "2023-05-30T18:07:20.698Z"
   },
   {
    "duration": 8,
    "start_time": "2023-05-30T18:08:09.006Z"
   },
   {
    "duration": 9,
    "start_time": "2023-05-30T18:08:13.307Z"
   },
   {
    "duration": 8,
    "start_time": "2023-05-30T18:09:52.242Z"
   },
   {
    "duration": 15,
    "start_time": "2023-05-30T18:10:42.354Z"
   },
   {
    "duration": 6,
    "start_time": "2023-05-30T18:10:59.090Z"
   },
   {
    "duration": 9,
    "start_time": "2023-05-30T18:11:05.026Z"
   },
   {
    "duration": 15,
    "start_time": "2023-05-30T18:11:49.681Z"
   },
   {
    "duration": 12,
    "start_time": "2023-05-30T18:12:18.181Z"
   },
   {
    "duration": 6,
    "start_time": "2023-05-30T18:12:24.439Z"
   },
   {
    "duration": 5,
    "start_time": "2023-05-30T18:12:26.095Z"
   },
   {
    "duration": 8,
    "start_time": "2023-05-30T18:12:46.917Z"
   },
   {
    "duration": 10,
    "start_time": "2023-05-30T18:12:47.843Z"
   },
   {
    "duration": 26,
    "start_time": "2023-05-30T18:13:54.586Z"
   },
   {
    "duration": 6,
    "start_time": "2023-05-30T18:14:07.235Z"
   },
   {
    "duration": 5,
    "start_time": "2023-05-30T18:14:13.152Z"
   },
   {
    "duration": 6,
    "start_time": "2023-05-30T18:14:16.871Z"
   },
   {
    "duration": 25,
    "start_time": "2023-05-30T18:16:41.519Z"
   },
   {
    "duration": 6,
    "start_time": "2023-05-30T18:16:55.299Z"
   },
   {
    "duration": 4,
    "start_time": "2023-05-30T18:18:00.888Z"
   },
   {
    "duration": 14,
    "start_time": "2023-05-30T18:18:01.630Z"
   },
   {
    "duration": 12,
    "start_time": "2023-05-30T18:18:02.470Z"
   },
   {
    "duration": 26,
    "start_time": "2023-05-30T18:19:03.287Z"
   },
   {
    "duration": 29,
    "start_time": "2023-05-30T18:19:24.824Z"
   },
   {
    "duration": 20,
    "start_time": "2023-05-30T18:20:48.150Z"
   },
   {
    "duration": 28,
    "start_time": "2023-05-30T18:22:55.281Z"
   },
   {
    "duration": 14,
    "start_time": "2023-05-30T18:23:06.251Z"
   },
   {
    "duration": 225,
    "start_time": "2023-05-30T18:23:07.246Z"
   },
   {
    "duration": 145,
    "start_time": "2023-05-30T18:23:08.675Z"
   },
   {
    "duration": 14,
    "start_time": "2023-05-30T18:24:33.044Z"
   },
   {
    "duration": 144,
    "start_time": "2023-05-30T18:24:35.028Z"
   },
   {
    "duration": 4,
    "start_time": "2023-05-30T18:25:26.695Z"
   },
   {
    "duration": 14,
    "start_time": "2023-05-30T18:25:37.490Z"
   },
   {
    "duration": 178,
    "start_time": "2023-05-30T18:25:51.865Z"
   },
   {
    "duration": 167,
    "start_time": "2023-05-30T18:25:53.051Z"
   },
   {
    "duration": 13,
    "start_time": "2023-05-30T18:27:32.939Z"
   },
   {
    "duration": 194,
    "start_time": "2023-05-30T18:27:33.029Z"
   },
   {
    "duration": 5,
    "start_time": "2023-05-30T18:27:33.242Z"
   },
   {
    "duration": 14,
    "start_time": "2023-05-30T18:27:33.765Z"
   },
   {
    "duration": 261,
    "start_time": "2023-05-30T18:27:33.920Z"
   },
   {
    "duration": 169,
    "start_time": "2023-05-30T18:27:34.183Z"
   },
   {
    "duration": 13,
    "start_time": "2023-05-30T18:27:35.725Z"
   },
   {
    "duration": 103,
    "start_time": "2023-05-30T18:30:45.515Z"
   },
   {
    "duration": 22,
    "start_time": "2023-05-30T18:31:03.849Z"
   },
   {
    "duration": 21,
    "start_time": "2023-05-30T18:32:15.765Z"
   },
   {
    "duration": 15,
    "start_time": "2023-05-30T18:32:24.459Z"
   },
   {
    "duration": 15,
    "start_time": "2023-05-30T18:32:37.890Z"
   },
   {
    "duration": 21,
    "start_time": "2023-05-30T18:33:03.912Z"
   },
   {
    "duration": 156,
    "start_time": "2023-05-30T18:34:42.343Z"
   },
   {
    "duration": 20,
    "start_time": "2023-05-30T18:35:26.217Z"
   },
   {
    "duration": 249,
    "start_time": "2023-05-30T18:35:29.947Z"
   },
   {
    "duration": 6,
    "start_time": "2023-05-30T18:37:22.681Z"
   },
   {
    "duration": 275,
    "start_time": "2023-05-30T18:37:25.029Z"
   },
   {
    "duration": 15,
    "start_time": "2023-05-30T18:37:26.525Z"
   },
   {
    "duration": 207,
    "start_time": "2023-05-30T18:37:30.772Z"
   },
   {
    "duration": 176,
    "start_time": "2023-05-30T18:38:11.705Z"
   },
   {
    "duration": 371,
    "start_time": "2023-05-30T18:38:13.750Z"
   },
   {
    "duration": 5,
    "start_time": "2023-05-30T18:39:21.832Z"
   },
   {
    "duration": 22,
    "start_time": "2023-05-30T18:39:25.065Z"
   },
   {
    "duration": 6,
    "start_time": "2023-05-30T18:39:26.035Z"
   },
   {
    "duration": 5,
    "start_time": "2023-05-30T18:39:31.675Z"
   },
   {
    "duration": 8,
    "start_time": "2023-05-30T18:39:32.537Z"
   },
   {
    "duration": 152,
    "start_time": "2023-05-30T18:39:35.465Z"
   },
   {
    "duration": 311,
    "start_time": "2023-05-30T18:39:52.480Z"
   },
   {
    "duration": 199,
    "start_time": "2023-05-30T18:39:54.575Z"
   },
   {
    "duration": 8,
    "start_time": "2023-05-30T18:39:55.688Z"
   },
   {
    "duration": 197,
    "start_time": "2023-05-30T18:39:57.786Z"
   },
   {
    "duration": 301,
    "start_time": "2023-05-30T18:39:59.056Z"
   },
   {
    "duration": 339,
    "start_time": "2023-05-30T18:40:01.710Z"
   },
   {
    "duration": 304,
    "start_time": "2023-05-30T18:40:03.661Z"
   },
   {
    "duration": 214,
    "start_time": "2023-05-30T18:40:04.838Z"
   },
   {
    "duration": 206,
    "start_time": "2023-05-30T18:40:05.933Z"
   }
  ],
  "colab": {
   "name": "DA+. Сборный проект 1. Шаблон (1).ipynb",
   "provenance": []
  },
  "kernelspec": {
   "display_name": "Python 3 (ipykernel)",
   "language": "python",
   "name": "python3"
  },
  "language_info": {
   "codemirror_mode": {
    "name": "ipython",
    "version": 3
   },
   "file_extension": ".py",
   "mimetype": "text/x-python",
   "name": "python",
   "nbconvert_exporter": "python",
   "pygments_lexer": "ipython3",
   "version": "3.9.5"
  },
  "toc": {
   "base_numbering": 1,
   "nav_menu": {},
   "number_sections": true,
   "sideBar": true,
   "skip_h1_title": true,
   "title_cell": "Содержание",
   "title_sidebar": "Contents",
   "toc_cell": true,
   "toc_position": {
    "height": "calc(100% - 180px)",
    "left": "10px",
    "top": "150px",
    "width": "375.391px"
   },
   "toc_section_display": true,
   "toc_window_display": false
  }
 },
 "nbformat": 4,
 "nbformat_minor": 1
}
