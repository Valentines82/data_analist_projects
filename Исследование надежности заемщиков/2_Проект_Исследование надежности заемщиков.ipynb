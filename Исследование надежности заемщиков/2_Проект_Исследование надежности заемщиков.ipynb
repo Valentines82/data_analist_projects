{
 "cells": [
  {
   "cell_type": "markdown",
   "id": "5cb6babb",
   "metadata": {
    "toc": true
   },
   "source": [
    "<h1>Содержание<span class=\"tocSkip\"></span></h1>\n",
    "<div class=\"toc\"><ul class=\"toc-item\"><li><span><a href=\"#Обзор-данных\" data-toc-modified-id=\"Обзор-данных-1\"><span class=\"toc-item-num\">1&nbsp;&nbsp;</span>Обзор данных</a></span><ul class=\"toc-item\"><li><span><a href=\"#Заполнение-пропусков\" data-toc-modified-id=\"Заполнение-пропусков-1.1\"><span class=\"toc-item-num\">1.1&nbsp;&nbsp;</span>Заполнение пропусков</a></span></li><li><span><a href=\"#Проверка-данных-на-аномалии-и-исправления.\" data-toc-modified-id=\"Проверка-данных-на-аномалии-и-исправления.-1.2\"><span class=\"toc-item-num\">1.2&nbsp;&nbsp;</span>Проверка данных на аномалии и исправления.</a></span></li><li><span><a href=\"#Изменение-типов-данных.\" data-toc-modified-id=\"Изменение-типов-данных.-1.3\"><span class=\"toc-item-num\">1.3&nbsp;&nbsp;</span>Изменение типов данных.</a></span></li><li><span><a href=\"#Удаление-дубликатов.\" data-toc-modified-id=\"Удаление-дубликатов.-1.4\"><span class=\"toc-item-num\">1.4&nbsp;&nbsp;</span>Удаление дубликатов.</a></span></li><li><span><a href=\"#Формирование-дополнительных-датафреймов-словарей,-декомпозиция-исходного-датафрейма.\" data-toc-modified-id=\"Формирование-дополнительных-датафреймов-словарей,-декомпозиция-исходного-датафрейма.-1.5\"><span class=\"toc-item-num\">1.5&nbsp;&nbsp;</span>Формирование дополнительных датафреймов словарей, декомпозиция исходного датафрейма.</a></span></li><li><span><a href=\"#Категоризация-дохода.\" data-toc-modified-id=\"Категоризация-дохода.-1.6\"><span class=\"toc-item-num\">1.6&nbsp;&nbsp;</span>Категоризация дохода.</a></span></li><li><span><a href=\"#Категоризация-целей-кредита.\" data-toc-modified-id=\"Категоризация-целей-кредита.-1.7\"><span class=\"toc-item-num\">1.7&nbsp;&nbsp;</span>Категоризация целей кредита.</a></span></li></ul></li><li><span><a href=\"#Ответы-на-вопросы.\" data-toc-modified-id=\"Ответы-на-вопросы.-2\"><span class=\"toc-item-num\">2&nbsp;&nbsp;</span>Ответы на вопросы.</a></span><ul class=\"toc-item\"><li><span><a href=\"#Вопрос-1:\" data-toc-modified-id=\"Вопрос-1:-2.1\"><span class=\"toc-item-num\">2.1&nbsp;&nbsp;</span>Вопрос 1:</a></span><ul class=\"toc-item\"><li><span><a href=\"#Вывод:\" data-toc-modified-id=\"Вывод:-2.1.1\"><span class=\"toc-item-num\">2.1.1&nbsp;&nbsp;</span>Вывод:</a></span></li></ul></li><li><span><a href=\"#Вопрос-2:\" data-toc-modified-id=\"Вопрос-2:-2.2\"><span class=\"toc-item-num\">2.2&nbsp;&nbsp;</span>Вопрос 2:</a></span><ul class=\"toc-item\"><li><span><a href=\"#Вывод:\" data-toc-modified-id=\"Вывод:-2.2.1\"><span class=\"toc-item-num\">2.2.1&nbsp;&nbsp;</span>Вывод:</a></span></li></ul></li><li><span><a href=\"#Вопрос-3:\" data-toc-modified-id=\"Вопрос-3:-2.3\"><span class=\"toc-item-num\">2.3&nbsp;&nbsp;</span>Вопрос 3:</a></span><ul class=\"toc-item\"><li><span><a href=\"#Вывод:\" data-toc-modified-id=\"Вывод:-2.3.1\"><span class=\"toc-item-num\">2.3.1&nbsp;&nbsp;</span>Вывод:</a></span></li></ul></li><li><span><a href=\"#Вопрос-4:\" data-toc-modified-id=\"Вопрос-4:-2.4\"><span class=\"toc-item-num\">2.4&nbsp;&nbsp;</span>Вопрос 4:</a></span></li></ul></li><li><span><a href=\"#Общий-вывод:\" data-toc-modified-id=\"Общий-вывод:-3\"><span class=\"toc-item-num\">3&nbsp;&nbsp;</span>Общий вывод:</a></span></li></ul></div>"
   ]
  },
  {
   "cell_type": "markdown",
   "id": "24df044b",
   "metadata": {},
   "source": [
    "# Исследование надежности заемщиков."
   ]
  },
  {
   "cell_type": "markdown",
   "id": "74343a41",
   "metadata": {},
   "source": [
    "# Описание проекта\n",
    "Заказчик — кредитный отдел банка. Нужно разобраться, влияет ли семейное положение и количество детей клиента на факт погашения кредита в срок. Входные данные от банка — статистика о платёжеспособности клиентов.\n",
    "\n",
    "Результаты исследования будут учтены при построении модели кредитного скоринга — специальной системы, которая оценивает способность потенциального заёмщика вернуть кредит банку.\n",
    "\n"
   ]
  },
  {
   "cell_type": "markdown",
   "id": "67dbbfab",
   "metadata": {},
   "source": [
    "# Описание данных\n",
    " - children — количество детей в семье\n",
    " - days_employed — общий трудовой стаж в днях\n",
    " - dob_years — возраст клиента в годах\n",
    " - education — уровень образования клиента\n",
    " - education_id — идентификатор уровня образования\n",
    " - family_status — семейное положение\n",
    " - family_status_id — идентификатор семейного положения\n",
    " - gender — пол клиента\n",
    " - income_type — тип занятости\n",
    " - debt — имел ли задолженность по возврату кредитов\n",
    " - total_income — ежемесячный доход\n",
    " - purpose — цель получения кредита"
   ]
  },
  {
   "cell_type": "markdown",
   "id": "07d55b33",
   "metadata": {},
   "source": [
    "## Обзор данных"
   ]
  },
  {
   "cell_type": "code",
   "execution_count": 73,
   "id": "87eaa347",
   "metadata": {},
   "outputs": [],
   "source": [
    "#импортируем библиотеку Pandas\n",
    "import pandas as pd"
   ]
  },
  {
   "cell_type": "code",
   "execution_count": 74,
   "id": "8033779e",
   "metadata": {},
   "outputs": [
    {
     "name": "stdout",
     "output_type": "stream",
     "text": [
      "<class 'pandas.core.frame.DataFrame'>\n",
      "RangeIndex: 21525 entries, 0 to 21524\n",
      "Data columns (total 12 columns):\n",
      " #   Column            Non-Null Count  Dtype  \n",
      "---  ------            --------------  -----  \n",
      " 0   children          21525 non-null  int64  \n",
      " 1   days_employed     19351 non-null  float64\n",
      " 2   dob_years         21525 non-null  int64  \n",
      " 3   education         21525 non-null  object \n",
      " 4   education_id      21525 non-null  int64  \n",
      " 5   family_status     21525 non-null  object \n",
      " 6   family_status_id  21525 non-null  int64  \n",
      " 7   gender            21525 non-null  object \n",
      " 8   income_type       21525 non-null  object \n",
      " 9   debt              21525 non-null  int64  \n",
      " 10  total_income      19351 non-null  float64\n",
      " 11  purpose           21525 non-null  object \n",
      "dtypes: float64(2), int64(5), object(5)\n",
      "memory usage: 2.0+ MB\n"
     ]
    }
   ],
   "source": [
    "# загружаем данные\n",
    "data = pd.read_csv('/datasets/data.csv')\n",
    "data.info() #выводим общую информацию\n"
   ]
  },
  {
   "cell_type": "code",
   "execution_count": 75,
   "id": "2536b394",
   "metadata": {},
   "outputs": [
    {
     "data": {
      "text/html": [
       "<div>\n",
       "<style scoped>\n",
       "    .dataframe tbody tr th:only-of-type {\n",
       "        vertical-align: middle;\n",
       "    }\n",
       "\n",
       "    .dataframe tbody tr th {\n",
       "        vertical-align: top;\n",
       "    }\n",
       "\n",
       "    .dataframe thead th {\n",
       "        text-align: right;\n",
       "    }\n",
       "</style>\n",
       "<table border=\"1\" class=\"dataframe\">\n",
       "  <thead>\n",
       "    <tr style=\"text-align: right;\">\n",
       "      <th></th>\n",
       "      <th>children</th>\n",
       "      <th>days_employed</th>\n",
       "      <th>dob_years</th>\n",
       "      <th>education</th>\n",
       "      <th>education_id</th>\n",
       "      <th>family_status</th>\n",
       "      <th>family_status_id</th>\n",
       "      <th>gender</th>\n",
       "      <th>income_type</th>\n",
       "      <th>debt</th>\n",
       "      <th>total_income</th>\n",
       "      <th>purpose</th>\n",
       "    </tr>\n",
       "  </thead>\n",
       "  <tbody>\n",
       "    <tr>\n",
       "      <th>0</th>\n",
       "      <td>1</td>\n",
       "      <td>-8437.673028</td>\n",
       "      <td>42</td>\n",
       "      <td>высшее</td>\n",
       "      <td>0</td>\n",
       "      <td>женат / замужем</td>\n",
       "      <td>0</td>\n",
       "      <td>F</td>\n",
       "      <td>сотрудник</td>\n",
       "      <td>0</td>\n",
       "      <td>253875.639453</td>\n",
       "      <td>покупка жилья</td>\n",
       "    </tr>\n",
       "    <tr>\n",
       "      <th>1</th>\n",
       "      <td>1</td>\n",
       "      <td>-4024.803754</td>\n",
       "      <td>36</td>\n",
       "      <td>среднее</td>\n",
       "      <td>1</td>\n",
       "      <td>женат / замужем</td>\n",
       "      <td>0</td>\n",
       "      <td>F</td>\n",
       "      <td>сотрудник</td>\n",
       "      <td>0</td>\n",
       "      <td>112080.014102</td>\n",
       "      <td>приобретение автомобиля</td>\n",
       "    </tr>\n",
       "    <tr>\n",
       "      <th>2</th>\n",
       "      <td>0</td>\n",
       "      <td>-5623.422610</td>\n",
       "      <td>33</td>\n",
       "      <td>Среднее</td>\n",
       "      <td>1</td>\n",
       "      <td>женат / замужем</td>\n",
       "      <td>0</td>\n",
       "      <td>M</td>\n",
       "      <td>сотрудник</td>\n",
       "      <td>0</td>\n",
       "      <td>145885.952297</td>\n",
       "      <td>покупка жилья</td>\n",
       "    </tr>\n",
       "    <tr>\n",
       "      <th>3</th>\n",
       "      <td>3</td>\n",
       "      <td>-4124.747207</td>\n",
       "      <td>32</td>\n",
       "      <td>среднее</td>\n",
       "      <td>1</td>\n",
       "      <td>женат / замужем</td>\n",
       "      <td>0</td>\n",
       "      <td>M</td>\n",
       "      <td>сотрудник</td>\n",
       "      <td>0</td>\n",
       "      <td>267628.550329</td>\n",
       "      <td>дополнительное образование</td>\n",
       "    </tr>\n",
       "    <tr>\n",
       "      <th>4</th>\n",
       "      <td>0</td>\n",
       "      <td>340266.072047</td>\n",
       "      <td>53</td>\n",
       "      <td>среднее</td>\n",
       "      <td>1</td>\n",
       "      <td>гражданский брак</td>\n",
       "      <td>1</td>\n",
       "      <td>F</td>\n",
       "      <td>пенсионер</td>\n",
       "      <td>0</td>\n",
       "      <td>158616.077870</td>\n",
       "      <td>сыграть свадьбу</td>\n",
       "    </tr>\n",
       "    <tr>\n",
       "      <th>5</th>\n",
       "      <td>0</td>\n",
       "      <td>-926.185831</td>\n",
       "      <td>27</td>\n",
       "      <td>высшее</td>\n",
       "      <td>0</td>\n",
       "      <td>гражданский брак</td>\n",
       "      <td>1</td>\n",
       "      <td>M</td>\n",
       "      <td>компаньон</td>\n",
       "      <td>0</td>\n",
       "      <td>255763.565419</td>\n",
       "      <td>покупка жилья</td>\n",
       "    </tr>\n",
       "    <tr>\n",
       "      <th>6</th>\n",
       "      <td>0</td>\n",
       "      <td>-2879.202052</td>\n",
       "      <td>43</td>\n",
       "      <td>высшее</td>\n",
       "      <td>0</td>\n",
       "      <td>женат / замужем</td>\n",
       "      <td>0</td>\n",
       "      <td>F</td>\n",
       "      <td>компаньон</td>\n",
       "      <td>0</td>\n",
       "      <td>240525.971920</td>\n",
       "      <td>операции с жильем</td>\n",
       "    </tr>\n",
       "    <tr>\n",
       "      <th>7</th>\n",
       "      <td>0</td>\n",
       "      <td>-152.779569</td>\n",
       "      <td>50</td>\n",
       "      <td>СРЕДНЕЕ</td>\n",
       "      <td>1</td>\n",
       "      <td>женат / замужем</td>\n",
       "      <td>0</td>\n",
       "      <td>M</td>\n",
       "      <td>сотрудник</td>\n",
       "      <td>0</td>\n",
       "      <td>135823.934197</td>\n",
       "      <td>образование</td>\n",
       "    </tr>\n",
       "    <tr>\n",
       "      <th>8</th>\n",
       "      <td>2</td>\n",
       "      <td>-6929.865299</td>\n",
       "      <td>35</td>\n",
       "      <td>ВЫСШЕЕ</td>\n",
       "      <td>0</td>\n",
       "      <td>гражданский брак</td>\n",
       "      <td>1</td>\n",
       "      <td>F</td>\n",
       "      <td>сотрудник</td>\n",
       "      <td>0</td>\n",
       "      <td>95856.832424</td>\n",
       "      <td>на проведение свадьбы</td>\n",
       "    </tr>\n",
       "    <tr>\n",
       "      <th>9</th>\n",
       "      <td>0</td>\n",
       "      <td>-2188.756445</td>\n",
       "      <td>41</td>\n",
       "      <td>среднее</td>\n",
       "      <td>1</td>\n",
       "      <td>женат / замужем</td>\n",
       "      <td>0</td>\n",
       "      <td>M</td>\n",
       "      <td>сотрудник</td>\n",
       "      <td>0</td>\n",
       "      <td>144425.938277</td>\n",
       "      <td>покупка жилья для семьи</td>\n",
       "    </tr>\n",
       "  </tbody>\n",
       "</table>\n",
       "</div>"
      ],
      "text/plain": [
       "   children  days_employed  dob_years education  education_id  \\\n",
       "0         1   -8437.673028         42    высшее             0   \n",
       "1         1   -4024.803754         36   среднее             1   \n",
       "2         0   -5623.422610         33   Среднее             1   \n",
       "3         3   -4124.747207         32   среднее             1   \n",
       "4         0  340266.072047         53   среднее             1   \n",
       "5         0    -926.185831         27    высшее             0   \n",
       "6         0   -2879.202052         43    высшее             0   \n",
       "7         0    -152.779569         50   СРЕДНЕЕ             1   \n",
       "8         2   -6929.865299         35    ВЫСШЕЕ             0   \n",
       "9         0   -2188.756445         41   среднее             1   \n",
       "\n",
       "      family_status  family_status_id gender income_type  debt   total_income  \\\n",
       "0   женат / замужем                 0      F   сотрудник     0  253875.639453   \n",
       "1   женат / замужем                 0      F   сотрудник     0  112080.014102   \n",
       "2   женат / замужем                 0      M   сотрудник     0  145885.952297   \n",
       "3   женат / замужем                 0      M   сотрудник     0  267628.550329   \n",
       "4  гражданский брак                 1      F   пенсионер     0  158616.077870   \n",
       "5  гражданский брак                 1      M   компаньон     0  255763.565419   \n",
       "6   женат / замужем                 0      F   компаньон     0  240525.971920   \n",
       "7   женат / замужем                 0      M   сотрудник     0  135823.934197   \n",
       "8  гражданский брак                 1      F   сотрудник     0   95856.832424   \n",
       "9   женат / замужем                 0      M   сотрудник     0  144425.938277   \n",
       "\n",
       "                      purpose  \n",
       "0               покупка жилья  \n",
       "1     приобретение автомобиля  \n",
       "2               покупка жилья  \n",
       "3  дополнительное образование  \n",
       "4             сыграть свадьбу  \n",
       "5               покупка жилья  \n",
       "6           операции с жильем  \n",
       "7                 образование  \n",
       "8       на проведение свадьбы  \n",
       "9     покупка жилья для семьи  "
      ]
     },
     "execution_count": 75,
     "metadata": {},
     "output_type": "execute_result"
    }
   ],
   "source": [
    "data.head(10)"
   ]
  },
  {
   "cell_type": "code",
   "execution_count": 76,
   "id": "f47fc806",
   "metadata": {},
   "outputs": [
    {
     "data": {
      "text/html": [
       "<div>\n",
       "<style scoped>\n",
       "    .dataframe tbody tr th:only-of-type {\n",
       "        vertical-align: middle;\n",
       "    }\n",
       "\n",
       "    .dataframe tbody tr th {\n",
       "        vertical-align: top;\n",
       "    }\n",
       "\n",
       "    .dataframe thead th {\n",
       "        text-align: right;\n",
       "    }\n",
       "</style>\n",
       "<table border=\"1\" class=\"dataframe\">\n",
       "  <thead>\n",
       "    <tr style=\"text-align: right;\">\n",
       "      <th></th>\n",
       "      <th>children</th>\n",
       "      <th>days_employed</th>\n",
       "      <th>dob_years</th>\n",
       "      <th>education_id</th>\n",
       "      <th>family_status_id</th>\n",
       "      <th>debt</th>\n",
       "      <th>total_income</th>\n",
       "    </tr>\n",
       "  </thead>\n",
       "  <tbody>\n",
       "    <tr>\n",
       "      <th>count</th>\n",
       "      <td>21525.000000</td>\n",
       "      <td>19351.000000</td>\n",
       "      <td>21525.000000</td>\n",
       "      <td>21525.000000</td>\n",
       "      <td>21525.000000</td>\n",
       "      <td>21525.000000</td>\n",
       "      <td>1.935100e+04</td>\n",
       "    </tr>\n",
       "    <tr>\n",
       "      <th>mean</th>\n",
       "      <td>0.538908</td>\n",
       "      <td>63046.497661</td>\n",
       "      <td>43.293380</td>\n",
       "      <td>0.817236</td>\n",
       "      <td>0.972544</td>\n",
       "      <td>0.080883</td>\n",
       "      <td>1.674223e+05</td>\n",
       "    </tr>\n",
       "    <tr>\n",
       "      <th>std</th>\n",
       "      <td>1.381587</td>\n",
       "      <td>140827.311974</td>\n",
       "      <td>12.574584</td>\n",
       "      <td>0.548138</td>\n",
       "      <td>1.420324</td>\n",
       "      <td>0.272661</td>\n",
       "      <td>1.029716e+05</td>\n",
       "    </tr>\n",
       "    <tr>\n",
       "      <th>min</th>\n",
       "      <td>-1.000000</td>\n",
       "      <td>-18388.949901</td>\n",
       "      <td>0.000000</td>\n",
       "      <td>0.000000</td>\n",
       "      <td>0.000000</td>\n",
       "      <td>0.000000</td>\n",
       "      <td>2.066726e+04</td>\n",
       "    </tr>\n",
       "    <tr>\n",
       "      <th>25%</th>\n",
       "      <td>0.000000</td>\n",
       "      <td>-2747.423625</td>\n",
       "      <td>33.000000</td>\n",
       "      <td>1.000000</td>\n",
       "      <td>0.000000</td>\n",
       "      <td>0.000000</td>\n",
       "      <td>1.030532e+05</td>\n",
       "    </tr>\n",
       "    <tr>\n",
       "      <th>50%</th>\n",
       "      <td>0.000000</td>\n",
       "      <td>-1203.369529</td>\n",
       "      <td>42.000000</td>\n",
       "      <td>1.000000</td>\n",
       "      <td>0.000000</td>\n",
       "      <td>0.000000</td>\n",
       "      <td>1.450179e+05</td>\n",
       "    </tr>\n",
       "    <tr>\n",
       "      <th>75%</th>\n",
       "      <td>1.000000</td>\n",
       "      <td>-291.095954</td>\n",
       "      <td>53.000000</td>\n",
       "      <td>1.000000</td>\n",
       "      <td>1.000000</td>\n",
       "      <td>0.000000</td>\n",
       "      <td>2.034351e+05</td>\n",
       "    </tr>\n",
       "    <tr>\n",
       "      <th>max</th>\n",
       "      <td>20.000000</td>\n",
       "      <td>401755.400475</td>\n",
       "      <td>75.000000</td>\n",
       "      <td>4.000000</td>\n",
       "      <td>4.000000</td>\n",
       "      <td>1.000000</td>\n",
       "      <td>2.265604e+06</td>\n",
       "    </tr>\n",
       "  </tbody>\n",
       "</table>\n",
       "</div>"
      ],
      "text/plain": [
       "           children  days_employed     dob_years  education_id  \\\n",
       "count  21525.000000   19351.000000  21525.000000  21525.000000   \n",
       "mean       0.538908   63046.497661     43.293380      0.817236   \n",
       "std        1.381587  140827.311974     12.574584      0.548138   \n",
       "min       -1.000000  -18388.949901      0.000000      0.000000   \n",
       "25%        0.000000   -2747.423625     33.000000      1.000000   \n",
       "50%        0.000000   -1203.369529     42.000000      1.000000   \n",
       "75%        1.000000    -291.095954     53.000000      1.000000   \n",
       "max       20.000000  401755.400475     75.000000      4.000000   \n",
       "\n",
       "       family_status_id          debt  total_income  \n",
       "count      21525.000000  21525.000000  1.935100e+04  \n",
       "mean           0.972544      0.080883  1.674223e+05  \n",
       "std            1.420324      0.272661  1.029716e+05  \n",
       "min            0.000000      0.000000  2.066726e+04  \n",
       "25%            0.000000      0.000000  1.030532e+05  \n",
       "50%            0.000000      0.000000  1.450179e+05  \n",
       "75%            1.000000      0.000000  2.034351e+05  \n",
       "max            4.000000      1.000000  2.265604e+06  "
      ]
     },
     "execution_count": 76,
     "metadata": {},
     "output_type": "execute_result"
    }
   ],
   "source": [
    "data.describe()"
   ]
  },
  {
   "cell_type": "markdown",
   "id": "5e8b5133",
   "metadata": {},
   "source": [
    "<h2> Вывод <a class=\"tocSkip\"> </h2> Датафрейм содержит 12 колонок и 21525 строк. В двух столбцах - 'days employed' и 'total_income' имеются пропуски."
   ]
  },
  {
   "cell_type": "markdown",
   "id": "e3c7a6e6",
   "metadata": {},
   "source": [
    "### Заполнение пропусков"
   ]
  },
  {
   "cell_type": "code",
   "execution_count": 77,
   "id": "84441f59",
   "metadata": {},
   "outputs": [
    {
     "data": {
      "text/plain": [
       "children               0\n",
       "days_employed       2174\n",
       "dob_years              0\n",
       "education              0\n",
       "education_id           0\n",
       "family_status          0\n",
       "family_status_id       0\n",
       "gender                 0\n",
       "income_type            0\n",
       "debt                   0\n",
       "total_income        2174\n",
       "purpose                0\n",
       "dtype: int64"
      ]
     },
     "execution_count": 77,
     "metadata": {},
     "output_type": "execute_result"
    }
   ],
   "source": [
    "data.isna().sum() #смотрим общую картину пропусков в данных\n"
   ]
  },
  {
   "cell_type": "code",
   "execution_count": 78,
   "id": "e1481d1d",
   "metadata": {},
   "outputs": [
    {
     "data": {
      "text/plain": [
       "income_type\n",
       "безработный            2\n",
       "в декрете              1\n",
       "госслужащий         1312\n",
       "компаньон           4577\n",
       "пенсионер           3443\n",
       "предприниматель        1\n",
       "сотрудник          10014\n",
       "студент                1\n",
       "Name: total_income, dtype: int64"
      ]
     },
     "execution_count": 78,
     "metadata": {},
     "output_type": "execute_result"
    }
   ],
   "source": [
    "data.groupby('income_type')['total_income'].count() #основные категории клиентов"
   ]
  },
  {
   "cell_type": "code",
   "execution_count": 79,
   "id": "ac61f324",
   "metadata": {},
   "outputs": [
    {
     "data": {
      "text/plain": [
       "'10%'"
      ]
     },
     "execution_count": 79,
     "metadata": {},
     "output_type": "execute_result"
    }
   ],
   "source": [
    "percent_days_employed = ((len(data[data['days_employed'].isna()])) / len(data['days_employed'])) # считаем процент пропусков\n",
    "f'{percent_days_employed :.0%}' "
   ]
  },
  {
   "cell_type": "code",
   "execution_count": 80,
   "id": "7aaa189a",
   "metadata": {},
   "outputs": [
    {
     "data": {
      "text/plain": [
       "'10%'"
      ]
     },
     "execution_count": 80,
     "metadata": {},
     "output_type": "execute_result"
    }
   ],
   "source": [
    "percent_total_income = ((len(data[data['total_income'].isna()])) / len(data['total_income'])) # считаем процент пропусков\n",
    "f'{percent_total_income :.0%}'"
   ]
  },
  {
   "cell_type": "code",
   "execution_count": 81,
   "id": "68e5f5b1",
   "metadata": {},
   "outputs": [],
   "source": [
    "def income_type_isna(type): #функция для подсчета пропущенных значений по категориям клиентов 'income_type'\n",
    "    return data.loc[data['income_type'] == type].isna().sum()\n",
    "def income_type_median(type): #функция для подсчета медианы количественных показателей по категориям клиентов 'income_type'\n",
    "    return data[data['income_type'] == type].sort_values(by = 'income_type').median()"
   ]
  },
  {
   "cell_type": "code",
   "execution_count": 82,
   "id": "ed0f79b3",
   "metadata": {},
   "outputs": [
    {
     "data": {
      "text/plain": [
       "children              0\n",
       "days_employed       147\n",
       "dob_years             0\n",
       "education             0\n",
       "education_id          0\n",
       "family_status         0\n",
       "family_status_id      0\n",
       "gender                0\n",
       "income_type           0\n",
       "debt                  0\n",
       "total_income        147\n",
       "purpose               0\n",
       "dtype: int64"
      ]
     },
     "execution_count": 82,
     "metadata": {},
     "output_type": "execute_result"
    }
   ],
   "source": [
    "income_type_isna('госслужащий') "
   ]
  },
  {
   "cell_type": "code",
   "execution_count": 83,
   "id": "4040cd38",
   "metadata": {},
   "outputs": [
    {
     "data": {
      "text/plain": [
       "children                 0.000000\n",
       "days_employed        -2689.368353\n",
       "dob_years               40.000000\n",
       "education_id             1.000000\n",
       "family_status_id         0.000000\n",
       "debt                     0.000000\n",
       "total_income        150447.935283\n",
       "dtype: float64"
      ]
     },
     "execution_count": 83,
     "metadata": {},
     "output_type": "execute_result"
    }
   ],
   "source": [
    "income_type_median('госслужащий')"
   ]
  },
  {
   "cell_type": "code",
   "execution_count": 84,
   "id": "a44a2660",
   "metadata": {},
   "outputs": [
    {
     "data": {
      "text/plain": [
       "children              0\n",
       "days_employed       508\n",
       "dob_years             0\n",
       "education             0\n",
       "education_id          0\n",
       "family_status         0\n",
       "family_status_id      0\n",
       "gender                0\n",
       "income_type           0\n",
       "debt                  0\n",
       "total_income        508\n",
       "purpose               0\n",
       "dtype: int64"
      ]
     },
     "execution_count": 84,
     "metadata": {},
     "output_type": "execute_result"
    }
   ],
   "source": [
    "income_type_isna('компаньон')"
   ]
  },
  {
   "cell_type": "code",
   "execution_count": 85,
   "id": "bf80a86f",
   "metadata": {},
   "outputs": [
    {
     "data": {
      "text/plain": [
       "children                 0.000000\n",
       "days_employed        -1547.382223\n",
       "dob_years               39.000000\n",
       "education_id             1.000000\n",
       "family_status_id         0.000000\n",
       "debt                     0.000000\n",
       "total_income        172357.950966\n",
       "dtype: float64"
      ]
     },
     "execution_count": 85,
     "metadata": {},
     "output_type": "execute_result"
    }
   ],
   "source": [
    "income_type_median('компаньон')"
   ]
  },
  {
   "cell_type": "code",
   "execution_count": 86,
   "id": "9315c618",
   "metadata": {},
   "outputs": [
    {
     "data": {
      "text/plain": [
       "children              0\n",
       "days_employed       413\n",
       "dob_years             0\n",
       "education             0\n",
       "education_id          0\n",
       "family_status         0\n",
       "family_status_id      0\n",
       "gender                0\n",
       "income_type           0\n",
       "debt                  0\n",
       "total_income        413\n",
       "purpose               0\n",
       "dtype: int64"
      ]
     },
     "execution_count": 86,
     "metadata": {},
     "output_type": "execute_result"
    }
   ],
   "source": [
    "income_type_isna('пенсионер')"
   ]
  },
  {
   "cell_type": "code",
   "execution_count": 87,
   "id": "40670b3a",
   "metadata": {},
   "outputs": [
    {
     "data": {
      "text/plain": [
       "children                 0.000000\n",
       "days_employed       365213.306266\n",
       "dob_years               60.000000\n",
       "education_id             1.000000\n",
       "family_status_id         0.000000\n",
       "debt                     0.000000\n",
       "total_income        118514.486412\n",
       "dtype: float64"
      ]
     },
     "execution_count": 87,
     "metadata": {},
     "output_type": "execute_result"
    }
   ],
   "source": [
    "income_type_median('пенсионер')"
   ]
  },
  {
   "cell_type": "code",
   "execution_count": 88,
   "id": "0339cedb",
   "metadata": {},
   "outputs": [
    {
     "data": {
      "text/plain": [
       "children               0\n",
       "days_employed       1105\n",
       "dob_years              0\n",
       "education              0\n",
       "education_id           0\n",
       "family_status          0\n",
       "family_status_id       0\n",
       "gender                 0\n",
       "income_type            0\n",
       "debt                   0\n",
       "total_income        1105\n",
       "purpose                0\n",
       "dtype: int64"
      ]
     },
     "execution_count": 88,
     "metadata": {},
     "output_type": "execute_result"
    }
   ],
   "source": [
    "income_type_isna('сотрудник')"
   ]
  },
  {
   "cell_type": "code",
   "execution_count": 89,
   "id": "c16a0901",
   "metadata": {},
   "outputs": [
    {
     "data": {
      "text/plain": [
       "children                 0.000000\n",
       "days_employed        -1574.202821\n",
       "dob_years               39.000000\n",
       "education_id             1.000000\n",
       "family_status_id         0.000000\n",
       "debt                     0.000000\n",
       "total_income        142594.396847\n",
       "dtype: float64"
      ]
     },
     "execution_count": 89,
     "metadata": {},
     "output_type": "execute_result"
    }
   ],
   "source": [
    "income_type_median('сотрудник')"
   ]
  },
  {
   "cell_type": "code",
   "execution_count": 90,
   "id": "f3b78936",
   "metadata": {},
   "outputs": [
    {
     "data": {
      "text/plain": [
       "-1203.369528770489"
      ]
     },
     "execution_count": 90,
     "metadata": {},
     "output_type": "execute_result"
    }
   ],
   "source": [
    "days_employed_median = data['days_employed'].sort_values().median() #медианное значение столбца 'days_employed'\n",
    "days_employed_median"
   ]
  },
  {
   "cell_type": "code",
   "execution_count": 91,
   "id": "ef1f2407",
   "metadata": {},
   "outputs": [
    {
     "data": {
      "text/plain": [
       "145017.93753253992"
      ]
     },
     "execution_count": 91,
     "metadata": {},
     "output_type": "execute_result"
    }
   ],
   "source": [
    "total_income_mediane = data['total_income'].sort_values().median() #медианное значение столбца total_income\n",
    "total_income_mediane"
   ]
  },
  {
   "cell_type": "markdown",
   "id": "cc323e0a",
   "metadata": {},
   "source": [
    "Изучив показатели медиан по всем категориям принято решение заполнить пропуски в столбце 'total_income' общим показателем - total_income_mediane."
   ]
  },
  {
   "cell_type": "code",
   "execution_count": 92,
   "id": "24cd4cf7",
   "metadata": {},
   "outputs": [],
   "source": [
    "data['total_income'] = data['total_income'].fillna(total_income_mediane) #заменяем пропуски на медианные значения"
   ]
  },
  {
   "cell_type": "code",
   "execution_count": 93,
   "id": "0c0a9ac3",
   "metadata": {},
   "outputs": [
    {
     "data": {
      "text/plain": [
       "children               0\n",
       "days_employed       2174\n",
       "dob_years              0\n",
       "education              0\n",
       "education_id           0\n",
       "family_status          0\n",
       "family_status_id       0\n",
       "gender                 0\n",
       "income_type            0\n",
       "debt                   0\n",
       "total_income           0\n",
       "purpose                0\n",
       "dtype: int64"
      ]
     },
     "execution_count": 93,
     "metadata": {},
     "output_type": "execute_result"
    }
   ],
   "source": [
    "data.isna().sum() #проверяем наличие пропущенных значений для контроля"
   ]
  },
  {
   "cell_type": "markdown",
   "id": "97a22c1c",
   "metadata": {},
   "source": [
    "ВЫВОДЫ:\n",
    "1. Найдены пропущенные значения в двух столбцах - 'days_employed' и 'total_income', тип данных float64.\n",
    "2. Доля пропусков в столбцах - 'days_employed' и 'total_income' составляет приблизительно 10%.\n",
    "3. Вероятнее всего причина пропусков в технической ошибке при выгрузке данных, так как количество пропусков в обоих столбцах совпадает и пропуски совпадают.\n",
    "4. Больше всего пропущенных значений в категориях: 'госслужащий', 'компаньон', 'пенсионер' и 'сотрудник'. Данные из этих категорий быля взяты для более чщательного исследования. После рассмотрения данных по категорям 'income_type' было принято решение замены пропущенных значений в столбце 'days_employed' на значение медианы по категории 'сотрудник', так как это самая многочисленная категория и ее медиана сопоставима с подобным показателем следующей по численности категории - 'компаньон'. Изучив показатели медиан по всем категориям принято решение заполнить пропуски в столбце 'total_income' общим показателем - total_income_mediane, так как данное значение незначительно отличается от медианы осноных категорий."
   ]
  },
  {
   "cell_type": "markdown",
   "id": "5c3e25e0",
   "metadata": {},
   "source": [
    "### Проверка данных на аномалии и исправления."
   ]
  },
  {
   "cell_type": "code",
   "execution_count": 94,
   "id": "ff150484",
   "metadata": {},
   "outputs": [
    {
     "data": {
      "text/plain": [
       "children\n",
       "-1        47\n",
       " 0     14149\n",
       " 1      4818\n",
       " 2      2055\n",
       " 3       330\n",
       " 4        41\n",
       " 5         9\n",
       " 20       76\n",
       "Name: purpose, dtype: int64"
      ]
     },
     "execution_count": 94,
     "metadata": {},
     "output_type": "execute_result"
    }
   ],
   "source": [
    "data.groupby('children')['purpose'].count() #изучаем на аномалии столбец 'children'"
   ]
  },
  {
   "cell_type": "code",
   "execution_count": 95,
   "id": "0b59e779",
   "metadata": {},
   "outputs": [
    {
     "data": {
      "text/html": [
       "<div>\n",
       "<style scoped>\n",
       "    .dataframe tbody tr th:only-of-type {\n",
       "        vertical-align: middle;\n",
       "    }\n",
       "\n",
       "    .dataframe tbody tr th {\n",
       "        vertical-align: top;\n",
       "    }\n",
       "\n",
       "    .dataframe thead th {\n",
       "        text-align: right;\n",
       "    }\n",
       "</style>\n",
       "<table border=\"1\" class=\"dataframe\">\n",
       "  <thead>\n",
       "    <tr style=\"text-align: right;\">\n",
       "      <th></th>\n",
       "      <th>children</th>\n",
       "      <th>days_employed</th>\n",
       "      <th>dob_years</th>\n",
       "      <th>education</th>\n",
       "      <th>education_id</th>\n",
       "      <th>family_status</th>\n",
       "      <th>family_status_id</th>\n",
       "      <th>gender</th>\n",
       "      <th>income_type</th>\n",
       "      <th>debt</th>\n",
       "      <th>total_income</th>\n",
       "      <th>purpose</th>\n",
       "    </tr>\n",
       "  </thead>\n",
       "  <tbody>\n",
       "    <tr>\n",
       "      <th>291</th>\n",
       "      <td>-1</td>\n",
       "      <td>-4417.703588</td>\n",
       "      <td>46</td>\n",
       "      <td>среднее</td>\n",
       "      <td>1</td>\n",
       "      <td>гражданский брак</td>\n",
       "      <td>1</td>\n",
       "      <td>F</td>\n",
       "      <td>сотрудник</td>\n",
       "      <td>0</td>\n",
       "      <td>102816.346412</td>\n",
       "      <td>профильное образование</td>\n",
       "    </tr>\n",
       "    <tr>\n",
       "      <th>705</th>\n",
       "      <td>-1</td>\n",
       "      <td>-902.084528</td>\n",
       "      <td>50</td>\n",
       "      <td>среднее</td>\n",
       "      <td>1</td>\n",
       "      <td>женат / замужем</td>\n",
       "      <td>0</td>\n",
       "      <td>F</td>\n",
       "      <td>госслужащий</td>\n",
       "      <td>0</td>\n",
       "      <td>137882.899271</td>\n",
       "      <td>приобретение автомобиля</td>\n",
       "    </tr>\n",
       "    <tr>\n",
       "      <th>742</th>\n",
       "      <td>-1</td>\n",
       "      <td>-3174.456205</td>\n",
       "      <td>57</td>\n",
       "      <td>среднее</td>\n",
       "      <td>1</td>\n",
       "      <td>женат / замужем</td>\n",
       "      <td>0</td>\n",
       "      <td>F</td>\n",
       "      <td>сотрудник</td>\n",
       "      <td>0</td>\n",
       "      <td>64268.044444</td>\n",
       "      <td>дополнительное образование</td>\n",
       "    </tr>\n",
       "    <tr>\n",
       "      <th>800</th>\n",
       "      <td>-1</td>\n",
       "      <td>349987.852217</td>\n",
       "      <td>54</td>\n",
       "      <td>среднее</td>\n",
       "      <td>1</td>\n",
       "      <td>Не женат / не замужем</td>\n",
       "      <td>4</td>\n",
       "      <td>F</td>\n",
       "      <td>пенсионер</td>\n",
       "      <td>0</td>\n",
       "      <td>86293.724153</td>\n",
       "      <td>дополнительное образование</td>\n",
       "    </tr>\n",
       "    <tr>\n",
       "      <th>941</th>\n",
       "      <td>-1</td>\n",
       "      <td>NaN</td>\n",
       "      <td>57</td>\n",
       "      <td>Среднее</td>\n",
       "      <td>1</td>\n",
       "      <td>женат / замужем</td>\n",
       "      <td>0</td>\n",
       "      <td>F</td>\n",
       "      <td>пенсионер</td>\n",
       "      <td>0</td>\n",
       "      <td>145017.937533</td>\n",
       "      <td>на покупку своего автомобиля</td>\n",
       "    </tr>\n",
       "    <tr>\n",
       "      <th>1363</th>\n",
       "      <td>-1</td>\n",
       "      <td>-1195.264956</td>\n",
       "      <td>55</td>\n",
       "      <td>СРЕДНЕЕ</td>\n",
       "      <td>1</td>\n",
       "      <td>женат / замужем</td>\n",
       "      <td>0</td>\n",
       "      <td>F</td>\n",
       "      <td>компаньон</td>\n",
       "      <td>0</td>\n",
       "      <td>69550.699692</td>\n",
       "      <td>профильное образование</td>\n",
       "    </tr>\n",
       "    <tr>\n",
       "      <th>1929</th>\n",
       "      <td>-1</td>\n",
       "      <td>-1461.303336</td>\n",
       "      <td>38</td>\n",
       "      <td>среднее</td>\n",
       "      <td>1</td>\n",
       "      <td>Не женат / не замужем</td>\n",
       "      <td>4</td>\n",
       "      <td>M</td>\n",
       "      <td>сотрудник</td>\n",
       "      <td>0</td>\n",
       "      <td>109121.569013</td>\n",
       "      <td>покупка жилья</td>\n",
       "    </tr>\n",
       "    <tr>\n",
       "      <th>2073</th>\n",
       "      <td>-1</td>\n",
       "      <td>-2539.761232</td>\n",
       "      <td>42</td>\n",
       "      <td>среднее</td>\n",
       "      <td>1</td>\n",
       "      <td>в разводе</td>\n",
       "      <td>3</td>\n",
       "      <td>F</td>\n",
       "      <td>компаньон</td>\n",
       "      <td>0</td>\n",
       "      <td>162638.609373</td>\n",
       "      <td>покупка жилья</td>\n",
       "    </tr>\n",
       "    <tr>\n",
       "      <th>3814</th>\n",
       "      <td>-1</td>\n",
       "      <td>-3045.290443</td>\n",
       "      <td>26</td>\n",
       "      <td>Среднее</td>\n",
       "      <td>1</td>\n",
       "      <td>гражданский брак</td>\n",
       "      <td>1</td>\n",
       "      <td>F</td>\n",
       "      <td>госслужащий</td>\n",
       "      <td>0</td>\n",
       "      <td>131892.785435</td>\n",
       "      <td>на проведение свадьбы</td>\n",
       "    </tr>\n",
       "    <tr>\n",
       "      <th>4201</th>\n",
       "      <td>-1</td>\n",
       "      <td>-901.101738</td>\n",
       "      <td>41</td>\n",
       "      <td>среднее</td>\n",
       "      <td>1</td>\n",
       "      <td>женат / замужем</td>\n",
       "      <td>0</td>\n",
       "      <td>F</td>\n",
       "      <td>госслужащий</td>\n",
       "      <td>0</td>\n",
       "      <td>226375.766751</td>\n",
       "      <td>операции со своей недвижимостью</td>\n",
       "    </tr>\n",
       "    <tr>\n",
       "      <th>4402</th>\n",
       "      <td>-1</td>\n",
       "      <td>398001.302888</td>\n",
       "      <td>64</td>\n",
       "      <td>СРЕДНЕЕ</td>\n",
       "      <td>1</td>\n",
       "      <td>женат / замужем</td>\n",
       "      <td>0</td>\n",
       "      <td>F</td>\n",
       "      <td>пенсионер</td>\n",
       "      <td>0</td>\n",
       "      <td>163264.062064</td>\n",
       "      <td>покупка недвижимости</td>\n",
       "    </tr>\n",
       "    <tr>\n",
       "      <th>4542</th>\n",
       "      <td>-1</td>\n",
       "      <td>-1811.899756</td>\n",
       "      <td>32</td>\n",
       "      <td>среднее</td>\n",
       "      <td>1</td>\n",
       "      <td>женат / замужем</td>\n",
       "      <td>0</td>\n",
       "      <td>F</td>\n",
       "      <td>сотрудник</td>\n",
       "      <td>0</td>\n",
       "      <td>160544.718446</td>\n",
       "      <td>образование</td>\n",
       "    </tr>\n",
       "    <tr>\n",
       "      <th>5272</th>\n",
       "      <td>-1</td>\n",
       "      <td>-1143.485347</td>\n",
       "      <td>46</td>\n",
       "      <td>среднее</td>\n",
       "      <td>1</td>\n",
       "      <td>вдовец / вдова</td>\n",
       "      <td>2</td>\n",
       "      <td>F</td>\n",
       "      <td>сотрудник</td>\n",
       "      <td>0</td>\n",
       "      <td>278708.018820</td>\n",
       "      <td>покупка недвижимости</td>\n",
       "    </tr>\n",
       "    <tr>\n",
       "      <th>6013</th>\n",
       "      <td>-1</td>\n",
       "      <td>-1361.258696</td>\n",
       "      <td>46</td>\n",
       "      <td>высшее</td>\n",
       "      <td>0</td>\n",
       "      <td>женат / замужем</td>\n",
       "      <td>0</td>\n",
       "      <td>F</td>\n",
       "      <td>сотрудник</td>\n",
       "      <td>0</td>\n",
       "      <td>143008.454914</td>\n",
       "      <td>строительство собственной недвижимости</td>\n",
       "    </tr>\n",
       "    <tr>\n",
       "      <th>6385</th>\n",
       "      <td>-1</td>\n",
       "      <td>370215.476226</td>\n",
       "      <td>48</td>\n",
       "      <td>среднее</td>\n",
       "      <td>1</td>\n",
       "      <td>вдовец / вдова</td>\n",
       "      <td>2</td>\n",
       "      <td>F</td>\n",
       "      <td>пенсионер</td>\n",
       "      <td>0</td>\n",
       "      <td>36052.447435</td>\n",
       "      <td>образование</td>\n",
       "    </tr>\n",
       "    <tr>\n",
       "      <th>7190</th>\n",
       "      <td>-1</td>\n",
       "      <td>-5928.202068</td>\n",
       "      <td>34</td>\n",
       "      <td>СРЕДНЕЕ</td>\n",
       "      <td>1</td>\n",
       "      <td>женат / замужем</td>\n",
       "      <td>0</td>\n",
       "      <td>M</td>\n",
       "      <td>сотрудник</td>\n",
       "      <td>0</td>\n",
       "      <td>184315.121979</td>\n",
       "      <td>приобретение автомобиля</td>\n",
       "    </tr>\n",
       "    <tr>\n",
       "      <th>7278</th>\n",
       "      <td>-1</td>\n",
       "      <td>-526.318451</td>\n",
       "      <td>51</td>\n",
       "      <td>среднее</td>\n",
       "      <td>1</td>\n",
       "      <td>женат / замужем</td>\n",
       "      <td>0</td>\n",
       "      <td>F</td>\n",
       "      <td>сотрудник</td>\n",
       "      <td>0</td>\n",
       "      <td>146928.769439</td>\n",
       "      <td>операции с коммерческой недвижимостью</td>\n",
       "    </tr>\n",
       "    <tr>\n",
       "      <th>7615</th>\n",
       "      <td>-1</td>\n",
       "      <td>NaN</td>\n",
       "      <td>35</td>\n",
       "      <td>среднее</td>\n",
       "      <td>1</td>\n",
       "      <td>женат / замужем</td>\n",
       "      <td>0</td>\n",
       "      <td>M</td>\n",
       "      <td>сотрудник</td>\n",
       "      <td>0</td>\n",
       "      <td>145017.937533</td>\n",
       "      <td>образование</td>\n",
       "    </tr>\n",
       "    <tr>\n",
       "      <th>7685</th>\n",
       "      <td>-1</td>\n",
       "      <td>-3237.360455</td>\n",
       "      <td>53</td>\n",
       "      <td>среднее</td>\n",
       "      <td>1</td>\n",
       "      <td>вдовец / вдова</td>\n",
       "      <td>2</td>\n",
       "      <td>F</td>\n",
       "      <td>сотрудник</td>\n",
       "      <td>0</td>\n",
       "      <td>159676.174958</td>\n",
       "      <td>строительство жилой недвижимости</td>\n",
       "    </tr>\n",
       "    <tr>\n",
       "      <th>8229</th>\n",
       "      <td>-1</td>\n",
       "      <td>-1803.441074</td>\n",
       "      <td>54</td>\n",
       "      <td>высшее</td>\n",
       "      <td>0</td>\n",
       "      <td>женат / замужем</td>\n",
       "      <td>0</td>\n",
       "      <td>F</td>\n",
       "      <td>компаньон</td>\n",
       "      <td>0</td>\n",
       "      <td>138809.082930</td>\n",
       "      <td>покупка недвижимости</td>\n",
       "    </tr>\n",
       "    <tr>\n",
       "      <th>8251</th>\n",
       "      <td>-1</td>\n",
       "      <td>-3113.998449</td>\n",
       "      <td>31</td>\n",
       "      <td>среднее</td>\n",
       "      <td>1</td>\n",
       "      <td>гражданский брак</td>\n",
       "      <td>1</td>\n",
       "      <td>F</td>\n",
       "      <td>сотрудник</td>\n",
       "      <td>0</td>\n",
       "      <td>54412.056005</td>\n",
       "      <td>свой автомобиль</td>\n",
       "    </tr>\n",
       "    <tr>\n",
       "      <th>8561</th>\n",
       "      <td>-1</td>\n",
       "      <td>-195.479496</td>\n",
       "      <td>31</td>\n",
       "      <td>среднее</td>\n",
       "      <td>1</td>\n",
       "      <td>женат / замужем</td>\n",
       "      <td>0</td>\n",
       "      <td>F</td>\n",
       "      <td>сотрудник</td>\n",
       "      <td>0</td>\n",
       "      <td>145577.881522</td>\n",
       "      <td>ремонт жилью</td>\n",
       "    </tr>\n",
       "    <tr>\n",
       "      <th>9565</th>\n",
       "      <td>-1</td>\n",
       "      <td>-2896.629686</td>\n",
       "      <td>34</td>\n",
       "      <td>высшее</td>\n",
       "      <td>0</td>\n",
       "      <td>женат / замужем</td>\n",
       "      <td>0</td>\n",
       "      <td>M</td>\n",
       "      <td>сотрудник</td>\n",
       "      <td>0</td>\n",
       "      <td>126754.656529</td>\n",
       "      <td>операции с недвижимостью</td>\n",
       "    </tr>\n",
       "    <tr>\n",
       "      <th>9574</th>\n",
       "      <td>-1</td>\n",
       "      <td>-2710.419901</td>\n",
       "      <td>28</td>\n",
       "      <td>высшее</td>\n",
       "      <td>0</td>\n",
       "      <td>женат / замужем</td>\n",
       "      <td>0</td>\n",
       "      <td>M</td>\n",
       "      <td>госслужащий</td>\n",
       "      <td>0</td>\n",
       "      <td>303137.161001</td>\n",
       "      <td>получение дополнительного образования</td>\n",
       "    </tr>\n",
       "    <tr>\n",
       "      <th>10177</th>\n",
       "      <td>-1</td>\n",
       "      <td>-1743.604011</td>\n",
       "      <td>37</td>\n",
       "      <td>среднее</td>\n",
       "      <td>1</td>\n",
       "      <td>женат / замужем</td>\n",
       "      <td>0</td>\n",
       "      <td>M</td>\n",
       "      <td>сотрудник</td>\n",
       "      <td>0</td>\n",
       "      <td>310367.509001</td>\n",
       "      <td>получение образования</td>\n",
       "    </tr>\n",
       "    <tr>\n",
       "      <th>10365</th>\n",
       "      <td>-1</td>\n",
       "      <td>345774.125957</td>\n",
       "      <td>63</td>\n",
       "      <td>ВЫСШЕЕ</td>\n",
       "      <td>0</td>\n",
       "      <td>вдовец / вдова</td>\n",
       "      <td>2</td>\n",
       "      <td>F</td>\n",
       "      <td>пенсионер</td>\n",
       "      <td>0</td>\n",
       "      <td>170762.751325</td>\n",
       "      <td>строительство жилой недвижимости</td>\n",
       "    </tr>\n",
       "    <tr>\n",
       "      <th>10918</th>\n",
       "      <td>-1</td>\n",
       "      <td>340499.039342</td>\n",
       "      <td>50</td>\n",
       "      <td>среднее</td>\n",
       "      <td>1</td>\n",
       "      <td>женат / замужем</td>\n",
       "      <td>0</td>\n",
       "      <td>M</td>\n",
       "      <td>пенсионер</td>\n",
       "      <td>0</td>\n",
       "      <td>170762.773162</td>\n",
       "      <td>покупка своего жилья</td>\n",
       "    </tr>\n",
       "    <tr>\n",
       "      <th>11109</th>\n",
       "      <td>-1</td>\n",
       "      <td>-3438.463024</td>\n",
       "      <td>59</td>\n",
       "      <td>среднее</td>\n",
       "      <td>1</td>\n",
       "      <td>женат / замужем</td>\n",
       "      <td>0</td>\n",
       "      <td>F</td>\n",
       "      <td>сотрудник</td>\n",
       "      <td>0</td>\n",
       "      <td>219874.012345</td>\n",
       "      <td>операции с жильем</td>\n",
       "    </tr>\n",
       "    <tr>\n",
       "      <th>11268</th>\n",
       "      <td>-1</td>\n",
       "      <td>-1048.782203</td>\n",
       "      <td>30</td>\n",
       "      <td>высшее</td>\n",
       "      <td>0</td>\n",
       "      <td>гражданский брак</td>\n",
       "      <td>1</td>\n",
       "      <td>F</td>\n",
       "      <td>компаньон</td>\n",
       "      <td>0</td>\n",
       "      <td>321603.700207</td>\n",
       "      <td>на покупку автомобиля</td>\n",
       "    </tr>\n",
       "    <tr>\n",
       "      <th>11617</th>\n",
       "      <td>-1</td>\n",
       "      <td>-370.827130</td>\n",
       "      <td>27</td>\n",
       "      <td>среднее</td>\n",
       "      <td>1</td>\n",
       "      <td>женат / замужем</td>\n",
       "      <td>0</td>\n",
       "      <td>F</td>\n",
       "      <td>компаньон</td>\n",
       "      <td>0</td>\n",
       "      <td>164591.260338</td>\n",
       "      <td>покупка жилья для сдачи</td>\n",
       "    </tr>\n",
       "    <tr>\n",
       "      <th>12304</th>\n",
       "      <td>-1</td>\n",
       "      <td>-8493.101252</td>\n",
       "      <td>61</td>\n",
       "      <td>неоконченное высшее</td>\n",
       "      <td>2</td>\n",
       "      <td>женат / замужем</td>\n",
       "      <td>0</td>\n",
       "      <td>M</td>\n",
       "      <td>сотрудник</td>\n",
       "      <td>0</td>\n",
       "      <td>315006.182056</td>\n",
       "      <td>недвижимость</td>\n",
       "    </tr>\n",
       "    <tr>\n",
       "      <th>13786</th>\n",
       "      <td>-1</td>\n",
       "      <td>NaN</td>\n",
       "      <td>42</td>\n",
       "      <td>среднее</td>\n",
       "      <td>1</td>\n",
       "      <td>Не женат / не замужем</td>\n",
       "      <td>4</td>\n",
       "      <td>M</td>\n",
       "      <td>компаньон</td>\n",
       "      <td>0</td>\n",
       "      <td>145017.937533</td>\n",
       "      <td>автомобиль</td>\n",
       "    </tr>\n",
       "    <tr>\n",
       "      <th>14357</th>\n",
       "      <td>-1</td>\n",
       "      <td>-268.337037</td>\n",
       "      <td>23</td>\n",
       "      <td>среднее</td>\n",
       "      <td>1</td>\n",
       "      <td>в разводе</td>\n",
       "      <td>3</td>\n",
       "      <td>F</td>\n",
       "      <td>компаньон</td>\n",
       "      <td>0</td>\n",
       "      <td>92257.579312</td>\n",
       "      <td>покупка жилой недвижимости</td>\n",
       "    </tr>\n",
       "    <tr>\n",
       "      <th>15147</th>\n",
       "      <td>-1</td>\n",
       "      <td>-9851.184337</td>\n",
       "      <td>44</td>\n",
       "      <td>среднее</td>\n",
       "      <td>1</td>\n",
       "      <td>в разводе</td>\n",
       "      <td>3</td>\n",
       "      <td>F</td>\n",
       "      <td>сотрудник</td>\n",
       "      <td>0</td>\n",
       "      <td>110990.810581</td>\n",
       "      <td>свой автомобиль</td>\n",
       "    </tr>\n",
       "    <tr>\n",
       "      <th>15435</th>\n",
       "      <td>-1</td>\n",
       "      <td>-3614.220232</td>\n",
       "      <td>40</td>\n",
       "      <td>высшее</td>\n",
       "      <td>0</td>\n",
       "      <td>гражданский брак</td>\n",
       "      <td>1</td>\n",
       "      <td>F</td>\n",
       "      <td>сотрудник</td>\n",
       "      <td>0</td>\n",
       "      <td>98127.537462</td>\n",
       "      <td>сыграть свадьбу</td>\n",
       "    </tr>\n",
       "    <tr>\n",
       "      <th>16129</th>\n",
       "      <td>-1</td>\n",
       "      <td>-457.861760</td>\n",
       "      <td>33</td>\n",
       "      <td>среднее</td>\n",
       "      <td>1</td>\n",
       "      <td>женат / замужем</td>\n",
       "      <td>0</td>\n",
       "      <td>F</td>\n",
       "      <td>сотрудник</td>\n",
       "      <td>1</td>\n",
       "      <td>149641.079451</td>\n",
       "      <td>автомобиль</td>\n",
       "    </tr>\n",
       "    <tr>\n",
       "      <th>16265</th>\n",
       "      <td>-1</td>\n",
       "      <td>-2802.218127</td>\n",
       "      <td>40</td>\n",
       "      <td>высшее</td>\n",
       "      <td>0</td>\n",
       "      <td>женат / замужем</td>\n",
       "      <td>0</td>\n",
       "      <td>M</td>\n",
       "      <td>сотрудник</td>\n",
       "      <td>0</td>\n",
       "      <td>111984.472021</td>\n",
       "      <td>покупка жилья</td>\n",
       "    </tr>\n",
       "    <tr>\n",
       "      <th>17095</th>\n",
       "      <td>-1</td>\n",
       "      <td>-2809.693200</td>\n",
       "      <td>34</td>\n",
       "      <td>среднее</td>\n",
       "      <td>1</td>\n",
       "      <td>женат / замужем</td>\n",
       "      <td>0</td>\n",
       "      <td>F</td>\n",
       "      <td>сотрудник</td>\n",
       "      <td>0</td>\n",
       "      <td>182543.890127</td>\n",
       "      <td>на покупку подержанного автомобиля</td>\n",
       "    </tr>\n",
       "    <tr>\n",
       "      <th>17429</th>\n",
       "      <td>-1</td>\n",
       "      <td>-895.379738</td>\n",
       "      <td>37</td>\n",
       "      <td>среднее</td>\n",
       "      <td>1</td>\n",
       "      <td>женат / замужем</td>\n",
       "      <td>0</td>\n",
       "      <td>F</td>\n",
       "      <td>компаньон</td>\n",
       "      <td>0</td>\n",
       "      <td>214814.018780</td>\n",
       "      <td>жилье</td>\n",
       "    </tr>\n",
       "    <tr>\n",
       "      <th>17657</th>\n",
       "      <td>-1</td>\n",
       "      <td>-4571.957475</td>\n",
       "      <td>41</td>\n",
       "      <td>среднее</td>\n",
       "      <td>1</td>\n",
       "      <td>женат / замужем</td>\n",
       "      <td>0</td>\n",
       "      <td>F</td>\n",
       "      <td>сотрудник</td>\n",
       "      <td>0</td>\n",
       "      <td>122105.415823</td>\n",
       "      <td>операции со своей недвижимостью</td>\n",
       "    </tr>\n",
       "    <tr>\n",
       "      <th>18219</th>\n",
       "      <td>-1</td>\n",
       "      <td>-3575.215641</td>\n",
       "      <td>33</td>\n",
       "      <td>среднее</td>\n",
       "      <td>1</td>\n",
       "      <td>женат / замужем</td>\n",
       "      <td>0</td>\n",
       "      <td>F</td>\n",
       "      <td>сотрудник</td>\n",
       "      <td>0</td>\n",
       "      <td>128362.023879</td>\n",
       "      <td>высшее образование</td>\n",
       "    </tr>\n",
       "    <tr>\n",
       "      <th>19100</th>\n",
       "      <td>-1</td>\n",
       "      <td>-617.246968</td>\n",
       "      <td>38</td>\n",
       "      <td>среднее</td>\n",
       "      <td>1</td>\n",
       "      <td>Не женат / не замужем</td>\n",
       "      <td>4</td>\n",
       "      <td>M</td>\n",
       "      <td>сотрудник</td>\n",
       "      <td>0</td>\n",
       "      <td>122205.497527</td>\n",
       "      <td>строительство жилой недвижимости</td>\n",
       "    </tr>\n",
       "    <tr>\n",
       "      <th>19366</th>\n",
       "      <td>-1</td>\n",
       "      <td>-372.034749</td>\n",
       "      <td>43</td>\n",
       "      <td>СРЕДНЕЕ</td>\n",
       "      <td>1</td>\n",
       "      <td>женат / замужем</td>\n",
       "      <td>0</td>\n",
       "      <td>M</td>\n",
       "      <td>сотрудник</td>\n",
       "      <td>0</td>\n",
       "      <td>155588.766795</td>\n",
       "      <td>сделка с подержанным автомобилем</td>\n",
       "    </tr>\n",
       "    <tr>\n",
       "      <th>19417</th>\n",
       "      <td>-1</td>\n",
       "      <td>350340.760224</td>\n",
       "      <td>28</td>\n",
       "      <td>среднее</td>\n",
       "      <td>1</td>\n",
       "      <td>в разводе</td>\n",
       "      <td>3</td>\n",
       "      <td>F</td>\n",
       "      <td>пенсионер</td>\n",
       "      <td>0</td>\n",
       "      <td>52872.993654</td>\n",
       "      <td>автомобили</td>\n",
       "    </tr>\n",
       "    <tr>\n",
       "      <th>20393</th>\n",
       "      <td>-1</td>\n",
       "      <td>355157.107212</td>\n",
       "      <td>69</td>\n",
       "      <td>среднее</td>\n",
       "      <td>1</td>\n",
       "      <td>Не женат / не замужем</td>\n",
       "      <td>4</td>\n",
       "      <td>F</td>\n",
       "      <td>пенсионер</td>\n",
       "      <td>0</td>\n",
       "      <td>116521.045858</td>\n",
       "      <td>операции с недвижимостью</td>\n",
       "    </tr>\n",
       "    <tr>\n",
       "      <th>20717</th>\n",
       "      <td>-1</td>\n",
       "      <td>-661.822321</td>\n",
       "      <td>32</td>\n",
       "      <td>высшее</td>\n",
       "      <td>0</td>\n",
       "      <td>женат / замужем</td>\n",
       "      <td>0</td>\n",
       "      <td>F</td>\n",
       "      <td>сотрудник</td>\n",
       "      <td>0</td>\n",
       "      <td>137405.384917</td>\n",
       "      <td>покупка жилой недвижимости</td>\n",
       "    </tr>\n",
       "    <tr>\n",
       "      <th>21140</th>\n",
       "      <td>-1</td>\n",
       "      <td>-1422.668059</td>\n",
       "      <td>44</td>\n",
       "      <td>среднее</td>\n",
       "      <td>1</td>\n",
       "      <td>женат / замужем</td>\n",
       "      <td>0</td>\n",
       "      <td>F</td>\n",
       "      <td>компаньон</td>\n",
       "      <td>0</td>\n",
       "      <td>169562.091999</td>\n",
       "      <td>операции со своей недвижимостью</td>\n",
       "    </tr>\n",
       "  </tbody>\n",
       "</table>\n",
       "</div>"
      ],
      "text/plain": [
       "       children  days_employed  dob_years            education  education_id  \\\n",
       "291          -1   -4417.703588         46              среднее             1   \n",
       "705          -1    -902.084528         50              среднее             1   \n",
       "742          -1   -3174.456205         57              среднее             1   \n",
       "800          -1  349987.852217         54              среднее             1   \n",
       "941          -1            NaN         57              Среднее             1   \n",
       "1363         -1   -1195.264956         55              СРЕДНЕЕ             1   \n",
       "1929         -1   -1461.303336         38              среднее             1   \n",
       "2073         -1   -2539.761232         42              среднее             1   \n",
       "3814         -1   -3045.290443         26              Среднее             1   \n",
       "4201         -1    -901.101738         41              среднее             1   \n",
       "4402         -1  398001.302888         64              СРЕДНЕЕ             1   \n",
       "4542         -1   -1811.899756         32              среднее             1   \n",
       "5272         -1   -1143.485347         46              среднее             1   \n",
       "6013         -1   -1361.258696         46               высшее             0   \n",
       "6385         -1  370215.476226         48              среднее             1   \n",
       "7190         -1   -5928.202068         34              СРЕДНЕЕ             1   \n",
       "7278         -1    -526.318451         51              среднее             1   \n",
       "7615         -1            NaN         35              среднее             1   \n",
       "7685         -1   -3237.360455         53              среднее             1   \n",
       "8229         -1   -1803.441074         54               высшее             0   \n",
       "8251         -1   -3113.998449         31              среднее             1   \n",
       "8561         -1    -195.479496         31              среднее             1   \n",
       "9565         -1   -2896.629686         34               высшее             0   \n",
       "9574         -1   -2710.419901         28               высшее             0   \n",
       "10177        -1   -1743.604011         37              среднее             1   \n",
       "10365        -1  345774.125957         63               ВЫСШЕЕ             0   \n",
       "10918        -1  340499.039342         50              среднее             1   \n",
       "11109        -1   -3438.463024         59              среднее             1   \n",
       "11268        -1   -1048.782203         30               высшее             0   \n",
       "11617        -1    -370.827130         27              среднее             1   \n",
       "12304        -1   -8493.101252         61  неоконченное высшее             2   \n",
       "13786        -1            NaN         42              среднее             1   \n",
       "14357        -1    -268.337037         23              среднее             1   \n",
       "15147        -1   -9851.184337         44              среднее             1   \n",
       "15435        -1   -3614.220232         40               высшее             0   \n",
       "16129        -1    -457.861760         33              среднее             1   \n",
       "16265        -1   -2802.218127         40               высшее             0   \n",
       "17095        -1   -2809.693200         34              среднее             1   \n",
       "17429        -1    -895.379738         37              среднее             1   \n",
       "17657        -1   -4571.957475         41              среднее             1   \n",
       "18219        -1   -3575.215641         33              среднее             1   \n",
       "19100        -1    -617.246968         38              среднее             1   \n",
       "19366        -1    -372.034749         43              СРЕДНЕЕ             1   \n",
       "19417        -1  350340.760224         28              среднее             1   \n",
       "20393        -1  355157.107212         69              среднее             1   \n",
       "20717        -1    -661.822321         32               высшее             0   \n",
       "21140        -1   -1422.668059         44              среднее             1   \n",
       "\n",
       "               family_status  family_status_id gender  income_type  debt  \\\n",
       "291         гражданский брак                 1      F    сотрудник     0   \n",
       "705          женат / замужем                 0      F  госслужащий     0   \n",
       "742          женат / замужем                 0      F    сотрудник     0   \n",
       "800    Не женат / не замужем                 4      F    пенсионер     0   \n",
       "941          женат / замужем                 0      F    пенсионер     0   \n",
       "1363         женат / замужем                 0      F    компаньон     0   \n",
       "1929   Не женат / не замужем                 4      M    сотрудник     0   \n",
       "2073               в разводе                 3      F    компаньон     0   \n",
       "3814        гражданский брак                 1      F  госслужащий     0   \n",
       "4201         женат / замужем                 0      F  госслужащий     0   \n",
       "4402         женат / замужем                 0      F    пенсионер     0   \n",
       "4542         женат / замужем                 0      F    сотрудник     0   \n",
       "5272          вдовец / вдова                 2      F    сотрудник     0   \n",
       "6013         женат / замужем                 0      F    сотрудник     0   \n",
       "6385          вдовец / вдова                 2      F    пенсионер     0   \n",
       "7190         женат / замужем                 0      M    сотрудник     0   \n",
       "7278         женат / замужем                 0      F    сотрудник     0   \n",
       "7615         женат / замужем                 0      M    сотрудник     0   \n",
       "7685          вдовец / вдова                 2      F    сотрудник     0   \n",
       "8229         женат / замужем                 0      F    компаньон     0   \n",
       "8251        гражданский брак                 1      F    сотрудник     0   \n",
       "8561         женат / замужем                 0      F    сотрудник     0   \n",
       "9565         женат / замужем                 0      M    сотрудник     0   \n",
       "9574         женат / замужем                 0      M  госслужащий     0   \n",
       "10177        женат / замужем                 0      M    сотрудник     0   \n",
       "10365         вдовец / вдова                 2      F    пенсионер     0   \n",
       "10918        женат / замужем                 0      M    пенсионер     0   \n",
       "11109        женат / замужем                 0      F    сотрудник     0   \n",
       "11268       гражданский брак                 1      F    компаньон     0   \n",
       "11617        женат / замужем                 0      F    компаньон     0   \n",
       "12304        женат / замужем                 0      M    сотрудник     0   \n",
       "13786  Не женат / не замужем                 4      M    компаньон     0   \n",
       "14357              в разводе                 3      F    компаньон     0   \n",
       "15147              в разводе                 3      F    сотрудник     0   \n",
       "15435       гражданский брак                 1      F    сотрудник     0   \n",
       "16129        женат / замужем                 0      F    сотрудник     1   \n",
       "16265        женат / замужем                 0      M    сотрудник     0   \n",
       "17095        женат / замужем                 0      F    сотрудник     0   \n",
       "17429        женат / замужем                 0      F    компаньон     0   \n",
       "17657        женат / замужем                 0      F    сотрудник     0   \n",
       "18219        женат / замужем                 0      F    сотрудник     0   \n",
       "19100  Не женат / не замужем                 4      M    сотрудник     0   \n",
       "19366        женат / замужем                 0      M    сотрудник     0   \n",
       "19417              в разводе                 3      F    пенсионер     0   \n",
       "20393  Не женат / не замужем                 4      F    пенсионер     0   \n",
       "20717        женат / замужем                 0      F    сотрудник     0   \n",
       "21140        женат / замужем                 0      F    компаньон     0   \n",
       "\n",
       "        total_income                                 purpose  \n",
       "291    102816.346412                  профильное образование  \n",
       "705    137882.899271                 приобретение автомобиля  \n",
       "742     64268.044444              дополнительное образование  \n",
       "800     86293.724153              дополнительное образование  \n",
       "941    145017.937533            на покупку своего автомобиля  \n",
       "1363    69550.699692                  профильное образование  \n",
       "1929   109121.569013                           покупка жилья  \n",
       "2073   162638.609373                           покупка жилья  \n",
       "3814   131892.785435                   на проведение свадьбы  \n",
       "4201   226375.766751         операции со своей недвижимостью  \n",
       "4402   163264.062064                    покупка недвижимости  \n",
       "4542   160544.718446                             образование  \n",
       "5272   278708.018820                    покупка недвижимости  \n",
       "6013   143008.454914  строительство собственной недвижимости  \n",
       "6385    36052.447435                             образование  \n",
       "7190   184315.121979                 приобретение автомобиля  \n",
       "7278   146928.769439   операции с коммерческой недвижимостью  \n",
       "7615   145017.937533                             образование  \n",
       "7685   159676.174958        строительство жилой недвижимости  \n",
       "8229   138809.082930                    покупка недвижимости  \n",
       "8251    54412.056005                         свой автомобиль  \n",
       "8561   145577.881522                            ремонт жилью  \n",
       "9565   126754.656529                операции с недвижимостью  \n",
       "9574   303137.161001   получение дополнительного образования  \n",
       "10177  310367.509001                   получение образования  \n",
       "10365  170762.751325        строительство жилой недвижимости  \n",
       "10918  170762.773162                    покупка своего жилья  \n",
       "11109  219874.012345                       операции с жильем  \n",
       "11268  321603.700207                   на покупку автомобиля  \n",
       "11617  164591.260338                 покупка жилья для сдачи  \n",
       "12304  315006.182056                            недвижимость  \n",
       "13786  145017.937533                              автомобиль  \n",
       "14357   92257.579312              покупка жилой недвижимости  \n",
       "15147  110990.810581                         свой автомобиль  \n",
       "15435   98127.537462                         сыграть свадьбу  \n",
       "16129  149641.079451                              автомобиль  \n",
       "16265  111984.472021                           покупка жилья  \n",
       "17095  182543.890127      на покупку подержанного автомобиля  \n",
       "17429  214814.018780                                   жилье  \n",
       "17657  122105.415823         операции со своей недвижимостью  \n",
       "18219  128362.023879                      высшее образование  \n",
       "19100  122205.497527        строительство жилой недвижимости  \n",
       "19366  155588.766795        сделка с подержанным автомобилем  \n",
       "19417   52872.993654                              автомобили  \n",
       "20393  116521.045858                операции с недвижимостью  \n",
       "20717  137405.384917              покупка жилой недвижимости  \n",
       "21140  169562.091999         операции со своей недвижимостью  "
      ]
     },
     "execution_count": 95,
     "metadata": {},
     "output_type": "execute_result"
    }
   ],
   "source": [
    "data.loc[data['children'] == -1] #так не бывает"
   ]
  },
  {
   "cell_type": "code",
   "execution_count": 96,
   "id": "ee10478b",
   "metadata": {
    "scrolled": false
   },
   "outputs": [
    {
     "data": {
      "text/html": [
       "<div>\n",
       "<style scoped>\n",
       "    .dataframe tbody tr th:only-of-type {\n",
       "        vertical-align: middle;\n",
       "    }\n",
       "\n",
       "    .dataframe tbody tr th {\n",
       "        vertical-align: top;\n",
       "    }\n",
       "\n",
       "    .dataframe thead th {\n",
       "        text-align: right;\n",
       "    }\n",
       "</style>\n",
       "<table border=\"1\" class=\"dataframe\">\n",
       "  <thead>\n",
       "    <tr style=\"text-align: right;\">\n",
       "      <th></th>\n",
       "      <th>children</th>\n",
       "      <th>days_employed</th>\n",
       "      <th>dob_years</th>\n",
       "      <th>education</th>\n",
       "      <th>education_id</th>\n",
       "      <th>family_status</th>\n",
       "      <th>family_status_id</th>\n",
       "      <th>gender</th>\n",
       "      <th>income_type</th>\n",
       "      <th>debt</th>\n",
       "      <th>total_income</th>\n",
       "      <th>purpose</th>\n",
       "    </tr>\n",
       "  </thead>\n",
       "  <tbody>\n",
       "    <tr>\n",
       "      <th>606</th>\n",
       "      <td>20</td>\n",
       "      <td>-880.221113</td>\n",
       "      <td>21</td>\n",
       "      <td>среднее</td>\n",
       "      <td>1</td>\n",
       "      <td>женат / замужем</td>\n",
       "      <td>0</td>\n",
       "      <td>M</td>\n",
       "      <td>компаньон</td>\n",
       "      <td>0</td>\n",
       "      <td>145334.865002</td>\n",
       "      <td>покупка жилья</td>\n",
       "    </tr>\n",
       "    <tr>\n",
       "      <th>720</th>\n",
       "      <td>20</td>\n",
       "      <td>-855.595512</td>\n",
       "      <td>44</td>\n",
       "      <td>среднее</td>\n",
       "      <td>1</td>\n",
       "      <td>женат / замужем</td>\n",
       "      <td>0</td>\n",
       "      <td>F</td>\n",
       "      <td>компаньон</td>\n",
       "      <td>0</td>\n",
       "      <td>112998.738649</td>\n",
       "      <td>покупка недвижимости</td>\n",
       "    </tr>\n",
       "    <tr>\n",
       "      <th>1074</th>\n",
       "      <td>20</td>\n",
       "      <td>-3310.411598</td>\n",
       "      <td>56</td>\n",
       "      <td>среднее</td>\n",
       "      <td>1</td>\n",
       "      <td>женат / замужем</td>\n",
       "      <td>0</td>\n",
       "      <td>F</td>\n",
       "      <td>сотрудник</td>\n",
       "      <td>1</td>\n",
       "      <td>229518.537004</td>\n",
       "      <td>получение образования</td>\n",
       "    </tr>\n",
       "    <tr>\n",
       "      <th>2510</th>\n",
       "      <td>20</td>\n",
       "      <td>-2714.161249</td>\n",
       "      <td>59</td>\n",
       "      <td>высшее</td>\n",
       "      <td>0</td>\n",
       "      <td>вдовец / вдова</td>\n",
       "      <td>2</td>\n",
       "      <td>F</td>\n",
       "      <td>сотрудник</td>\n",
       "      <td>0</td>\n",
       "      <td>264474.835577</td>\n",
       "      <td>операции с коммерческой недвижимостью</td>\n",
       "    </tr>\n",
       "    <tr>\n",
       "      <th>2941</th>\n",
       "      <td>20</td>\n",
       "      <td>-2161.591519</td>\n",
       "      <td>0</td>\n",
       "      <td>среднее</td>\n",
       "      <td>1</td>\n",
       "      <td>женат / замужем</td>\n",
       "      <td>0</td>\n",
       "      <td>F</td>\n",
       "      <td>сотрудник</td>\n",
       "      <td>0</td>\n",
       "      <td>199739.941398</td>\n",
       "      <td>на покупку автомобиля</td>\n",
       "    </tr>\n",
       "    <tr>\n",
       "      <th>...</th>\n",
       "      <td>...</td>\n",
       "      <td>...</td>\n",
       "      <td>...</td>\n",
       "      <td>...</td>\n",
       "      <td>...</td>\n",
       "      <td>...</td>\n",
       "      <td>...</td>\n",
       "      <td>...</td>\n",
       "      <td>...</td>\n",
       "      <td>...</td>\n",
       "      <td>...</td>\n",
       "      <td>...</td>\n",
       "    </tr>\n",
       "    <tr>\n",
       "      <th>21008</th>\n",
       "      <td>20</td>\n",
       "      <td>-1240.257910</td>\n",
       "      <td>40</td>\n",
       "      <td>среднее</td>\n",
       "      <td>1</td>\n",
       "      <td>женат / замужем</td>\n",
       "      <td>0</td>\n",
       "      <td>F</td>\n",
       "      <td>сотрудник</td>\n",
       "      <td>1</td>\n",
       "      <td>133524.010303</td>\n",
       "      <td>свой автомобиль</td>\n",
       "    </tr>\n",
       "    <tr>\n",
       "      <th>21325</th>\n",
       "      <td>20</td>\n",
       "      <td>-601.174883</td>\n",
       "      <td>37</td>\n",
       "      <td>среднее</td>\n",
       "      <td>1</td>\n",
       "      <td>женат / замужем</td>\n",
       "      <td>0</td>\n",
       "      <td>F</td>\n",
       "      <td>компаньон</td>\n",
       "      <td>0</td>\n",
       "      <td>102986.065978</td>\n",
       "      <td>профильное образование</td>\n",
       "    </tr>\n",
       "    <tr>\n",
       "      <th>21390</th>\n",
       "      <td>20</td>\n",
       "      <td>NaN</td>\n",
       "      <td>53</td>\n",
       "      <td>среднее</td>\n",
       "      <td>1</td>\n",
       "      <td>женат / замужем</td>\n",
       "      <td>0</td>\n",
       "      <td>M</td>\n",
       "      <td>компаньон</td>\n",
       "      <td>0</td>\n",
       "      <td>145017.937533</td>\n",
       "      <td>покупка жилой недвижимости</td>\n",
       "    </tr>\n",
       "    <tr>\n",
       "      <th>21404</th>\n",
       "      <td>20</td>\n",
       "      <td>-494.788448</td>\n",
       "      <td>52</td>\n",
       "      <td>среднее</td>\n",
       "      <td>1</td>\n",
       "      <td>женат / замужем</td>\n",
       "      <td>0</td>\n",
       "      <td>M</td>\n",
       "      <td>компаньон</td>\n",
       "      <td>0</td>\n",
       "      <td>156629.683642</td>\n",
       "      <td>операции со своей недвижимостью</td>\n",
       "    </tr>\n",
       "    <tr>\n",
       "      <th>21491</th>\n",
       "      <td>20</td>\n",
       "      <td>-173.954460</td>\n",
       "      <td>27</td>\n",
       "      <td>среднее</td>\n",
       "      <td>1</td>\n",
       "      <td>женат / замужем</td>\n",
       "      <td>0</td>\n",
       "      <td>F</td>\n",
       "      <td>сотрудник</td>\n",
       "      <td>0</td>\n",
       "      <td>155520.899688</td>\n",
       "      <td>на покупку подержанного автомобиля</td>\n",
       "    </tr>\n",
       "  </tbody>\n",
       "</table>\n",
       "<p>76 rows × 12 columns</p>\n",
       "</div>"
      ],
      "text/plain": [
       "       children  days_employed  dob_years education  education_id  \\\n",
       "606          20    -880.221113         21   среднее             1   \n",
       "720          20    -855.595512         44   среднее             1   \n",
       "1074         20   -3310.411598         56   среднее             1   \n",
       "2510         20   -2714.161249         59    высшее             0   \n",
       "2941         20   -2161.591519          0   среднее             1   \n",
       "...         ...            ...        ...       ...           ...   \n",
       "21008        20   -1240.257910         40   среднее             1   \n",
       "21325        20    -601.174883         37   среднее             1   \n",
       "21390        20            NaN         53   среднее             1   \n",
       "21404        20    -494.788448         52   среднее             1   \n",
       "21491        20    -173.954460         27   среднее             1   \n",
       "\n",
       "         family_status  family_status_id gender income_type  debt  \\\n",
       "606    женат / замужем                 0      M   компаньон     0   \n",
       "720    женат / замужем                 0      F   компаньон     0   \n",
       "1074   женат / замужем                 0      F   сотрудник     1   \n",
       "2510    вдовец / вдова                 2      F   сотрудник     0   \n",
       "2941   женат / замужем                 0      F   сотрудник     0   \n",
       "...                ...               ...    ...         ...   ...   \n",
       "21008  женат / замужем                 0      F   сотрудник     1   \n",
       "21325  женат / замужем                 0      F   компаньон     0   \n",
       "21390  женат / замужем                 0      M   компаньон     0   \n",
       "21404  женат / замужем                 0      M   компаньон     0   \n",
       "21491  женат / замужем                 0      F   сотрудник     0   \n",
       "\n",
       "        total_income                                purpose  \n",
       "606    145334.865002                          покупка жилья  \n",
       "720    112998.738649                   покупка недвижимости  \n",
       "1074   229518.537004                  получение образования  \n",
       "2510   264474.835577  операции с коммерческой недвижимостью  \n",
       "2941   199739.941398                  на покупку автомобиля  \n",
       "...              ...                                    ...  \n",
       "21008  133524.010303                        свой автомобиль  \n",
       "21325  102986.065978                 профильное образование  \n",
       "21390  145017.937533             покупка жилой недвижимости  \n",
       "21404  156629.683642        операции со своей недвижимостью  \n",
       "21491  155520.899688     на покупку подержанного автомобиля  \n",
       "\n",
       "[76 rows x 12 columns]"
      ]
     },
     "execution_count": 96,
     "metadata": {},
     "output_type": "execute_result"
    }
   ],
   "source": [
    "data.loc[data['children'] == 20] #так тоже врядли"
   ]
  },
  {
   "cell_type": "code",
   "execution_count": 97,
   "id": "dc668234",
   "metadata": {},
   "outputs": [],
   "source": [
    "data['children'] = data['children'].abs() #приводим все значения к положительным"
   ]
  },
  {
   "cell_type": "code",
   "execution_count": 98,
   "id": "9e6d99b9",
   "metadata": {},
   "outputs": [],
   "source": [
    "data.loc[data['children'] == 20, 'children'] = 2 #заменили 20 на 2"
   ]
  },
  {
   "cell_type": "markdown",
   "id": "c49a9abe",
   "metadata": {},
   "source": [
    "В столбце 'children' аномальными являются значения -1 и 20 и их достаточно много. Изучив выборку по этим значениям ничего необчного не выявлено. Вероятнее всего при внесении данных сработал человеческий фактор, так как значения с одним и двумя ребенком самые многочисленные после значения с 0. Значение -1 меняем на 1, а вместо 20 ставим 2. "
   ]
  },
  {
   "cell_type": "code",
   "execution_count": 99,
   "id": "2478bed1",
   "metadata": {},
   "outputs": [
    {
     "data": {
      "text/plain": [
       "count     19351.000000\n",
       "mean      63046.497661\n",
       "std      140827.311974\n",
       "min      -18388.949901\n",
       "25%       -2747.423625\n",
       "50%       -1203.369529\n",
       "75%        -291.095954\n",
       "max      401755.400475\n",
       "Name: days_employed, dtype: float64"
      ]
     },
     "execution_count": 99,
     "metadata": {},
     "output_type": "execute_result"
    }
   ],
   "source": [
    "data['days_employed'].describe() #проверка на аномалии столбца 'days_employed'"
   ]
  },
  {
   "cell_type": "code",
   "execution_count": 100,
   "id": "84d397d3",
   "metadata": {},
   "outputs": [
    {
     "data": {
      "text/html": [
       "<div>\n",
       "<style scoped>\n",
       "    .dataframe tbody tr th:only-of-type {\n",
       "        vertical-align: middle;\n",
       "    }\n",
       "\n",
       "    .dataframe tbody tr th {\n",
       "        vertical-align: top;\n",
       "    }\n",
       "\n",
       "    .dataframe thead tr th {\n",
       "        text-align: left;\n",
       "    }\n",
       "\n",
       "    .dataframe thead tr:last-of-type th {\n",
       "        text-align: right;\n",
       "    }\n",
       "</style>\n",
       "<table border=\"1\" class=\"dataframe\">\n",
       "  <thead>\n",
       "    <tr>\n",
       "      <th></th>\n",
       "      <th>min</th>\n",
       "      <th>mean</th>\n",
       "      <th>max</th>\n",
       "      <th>median</th>\n",
       "    </tr>\n",
       "    <tr>\n",
       "      <th></th>\n",
       "      <th>days_employed</th>\n",
       "      <th>days_employed</th>\n",
       "      <th>days_employed</th>\n",
       "      <th>days_employed</th>\n",
       "    </tr>\n",
       "    <tr>\n",
       "      <th>income_type</th>\n",
       "      <th></th>\n",
       "      <th></th>\n",
       "      <th></th>\n",
       "      <th></th>\n",
       "    </tr>\n",
       "  </thead>\n",
       "  <tbody>\n",
       "    <tr>\n",
       "      <th>безработный</th>\n",
       "      <td>337524.466835</td>\n",
       "      <td>366413.652744</td>\n",
       "      <td>395302.838654</td>\n",
       "      <td>366413.652744</td>\n",
       "    </tr>\n",
       "    <tr>\n",
       "      <th>в декрете</th>\n",
       "      <td>-3296.759962</td>\n",
       "      <td>-3296.759962</td>\n",
       "      <td>-3296.759962</td>\n",
       "      <td>-3296.759962</td>\n",
       "    </tr>\n",
       "    <tr>\n",
       "      <th>госслужащий</th>\n",
       "      <td>-15193.032201</td>\n",
       "      <td>-3399.896902</td>\n",
       "      <td>-39.954170</td>\n",
       "      <td>-2689.368353</td>\n",
       "    </tr>\n",
       "    <tr>\n",
       "      <th>компаньон</th>\n",
       "      <td>-17615.563266</td>\n",
       "      <td>-2111.524398</td>\n",
       "      <td>-30.195337</td>\n",
       "      <td>-1547.382223</td>\n",
       "    </tr>\n",
       "    <tr>\n",
       "      <th>пенсионер</th>\n",
       "      <td>328728.720605</td>\n",
       "      <td>365003.491245</td>\n",
       "      <td>401755.400475</td>\n",
       "      <td>365213.306266</td>\n",
       "    </tr>\n",
       "    <tr>\n",
       "      <th>предприниматель</th>\n",
       "      <td>-520.848083</td>\n",
       "      <td>-520.848083</td>\n",
       "      <td>-520.848083</td>\n",
       "      <td>-520.848083</td>\n",
       "    </tr>\n",
       "    <tr>\n",
       "      <th>сотрудник</th>\n",
       "      <td>-18388.949901</td>\n",
       "      <td>-2326.499216</td>\n",
       "      <td>-24.141633</td>\n",
       "      <td>-1574.202821</td>\n",
       "    </tr>\n",
       "    <tr>\n",
       "      <th>студент</th>\n",
       "      <td>-578.751554</td>\n",
       "      <td>-578.751554</td>\n",
       "      <td>-578.751554</td>\n",
       "      <td>-578.751554</td>\n",
       "    </tr>\n",
       "  </tbody>\n",
       "</table>\n",
       "</div>"
      ],
      "text/plain": [
       "                           min           mean            max         median\n",
       "                 days_employed  days_employed  days_employed  days_employed\n",
       "income_type                                                                \n",
       "безработный      337524.466835  366413.652744  395302.838654  366413.652744\n",
       "в декрете         -3296.759962   -3296.759962   -3296.759962   -3296.759962\n",
       "госслужащий      -15193.032201   -3399.896902     -39.954170   -2689.368353\n",
       "компаньон        -17615.563266   -2111.524398     -30.195337   -1547.382223\n",
       "пенсионер        328728.720605  365003.491245  401755.400475  365213.306266\n",
       "предприниматель    -520.848083    -520.848083    -520.848083    -520.848083\n",
       "сотрудник        -18388.949901   -2326.499216     -24.141633   -1574.202821\n",
       "студент            -578.751554    -578.751554    -578.751554    -578.751554"
      ]
     },
     "execution_count": 100,
     "metadata": {},
     "output_type": "execute_result"
    }
   ],
   "source": [
    "data.pivot_table(index=['income_type'], values = ['days_employed'], aggfunc = ['min', 'mean', 'max', 'median'])"
   ]
  },
  {
   "cell_type": "code",
   "execution_count": 101,
   "id": "faf4ef14",
   "metadata": {},
   "outputs": [],
   "source": [
    "data['days_employed'] = data['days_employed'].abs() #приводим значения к положительным величинам"
   ]
  },
  {
   "cell_type": "code",
   "execution_count": 102,
   "id": "46522e6d",
   "metadata": {},
   "outputs": [
    {
     "data": {
      "text/plain": [
       "2194.220566878695"
      ]
     },
     "execution_count": 102,
     "metadata": {},
     "output_type": "execute_result"
    }
   ],
   "source": [
    "days_employed_median = data['days_employed'].sort_values().median() #медианное значение столбца 'days_employed'\n",
    "days_employed_median"
   ]
  },
  {
   "cell_type": "code",
   "execution_count": 103,
   "id": "61a44306",
   "metadata": {},
   "outputs": [],
   "source": [
    "data['days_employed'] = data['days_employed'].fillna(days_employed_median) #заменяем пропуски на медианные значения"
   ]
  },
  {
   "cell_type": "markdown",
   "id": "2e4bdc98",
   "metadata": {},
   "source": [
    "После проверки аномалий в солбце 'days_employed' по категориям 'income_type' очивидны следующие аномалии:\n",
    "1. Имеются отрицательные значения. В целом это похоже на техническую ошибку, так как в категориях 'в декрете', 'госслужащий', 'компаньон', 'предприниматель', 'сотрудник' и 'студент' нет положительных значений. Все значения в этом стобце приведем в положительные, в этом случае значения буду логичными.\n",
    "2. Значения'безработные' нереальны. Так как их ничтожно мало по сравнением с общим количеством, можно их либо оставить, как есть, либо удалить. Они не влияют на общую картину. \n",
    "3. Значения 'пенсионеров' нужно уточнить у разработчиков, так как средний показатель так же не реален."
   ]
  },
  {
   "cell_type": "code",
   "execution_count": 104,
   "id": "fe4e9106",
   "metadata": {},
   "outputs": [
    {
     "data": {
      "text/html": [
       "<div>\n",
       "<style scoped>\n",
       "    .dataframe tbody tr th:only-of-type {\n",
       "        vertical-align: middle;\n",
       "    }\n",
       "\n",
       "    .dataframe tbody tr th {\n",
       "        vertical-align: top;\n",
       "    }\n",
       "\n",
       "    .dataframe thead tr th {\n",
       "        text-align: left;\n",
       "    }\n",
       "\n",
       "    .dataframe thead tr:last-of-type th {\n",
       "        text-align: right;\n",
       "    }\n",
       "</style>\n",
       "<table border=\"1\" class=\"dataframe\">\n",
       "  <thead>\n",
       "    <tr>\n",
       "      <th></th>\n",
       "      <th>min</th>\n",
       "      <th>mean</th>\n",
       "      <th>max</th>\n",
       "      <th>median</th>\n",
       "    </tr>\n",
       "    <tr>\n",
       "      <th></th>\n",
       "      <th>dob_years</th>\n",
       "      <th>dob_years</th>\n",
       "      <th>dob_years</th>\n",
       "      <th>dob_years</th>\n",
       "    </tr>\n",
       "    <tr>\n",
       "      <th>income_type</th>\n",
       "      <th></th>\n",
       "      <th></th>\n",
       "      <th></th>\n",
       "      <th></th>\n",
       "    </tr>\n",
       "  </thead>\n",
       "  <tbody>\n",
       "    <tr>\n",
       "      <th>безработный</th>\n",
       "      <td>31</td>\n",
       "      <td>38.000000</td>\n",
       "      <td>45</td>\n",
       "      <td>38.0</td>\n",
       "    </tr>\n",
       "    <tr>\n",
       "      <th>в декрете</th>\n",
       "      <td>39</td>\n",
       "      <td>39.000000</td>\n",
       "      <td>39</td>\n",
       "      <td>39.0</td>\n",
       "    </tr>\n",
       "    <tr>\n",
       "      <th>госслужащий</th>\n",
       "      <td>0</td>\n",
       "      <td>40.636737</td>\n",
       "      <td>75</td>\n",
       "      <td>40.0</td>\n",
       "    </tr>\n",
       "    <tr>\n",
       "      <th>компаньон</th>\n",
       "      <td>0</td>\n",
       "      <td>39.697542</td>\n",
       "      <td>74</td>\n",
       "      <td>39.0</td>\n",
       "    </tr>\n",
       "    <tr>\n",
       "      <th>пенсионер</th>\n",
       "      <td>0</td>\n",
       "      <td>59.063019</td>\n",
       "      <td>74</td>\n",
       "      <td>60.0</td>\n",
       "    </tr>\n",
       "    <tr>\n",
       "      <th>предприниматель</th>\n",
       "      <td>27</td>\n",
       "      <td>42.500000</td>\n",
       "      <td>58</td>\n",
       "      <td>42.5</td>\n",
       "    </tr>\n",
       "    <tr>\n",
       "      <th>сотрудник</th>\n",
       "      <td>0</td>\n",
       "      <td>39.821027</td>\n",
       "      <td>74</td>\n",
       "      <td>39.0</td>\n",
       "    </tr>\n",
       "    <tr>\n",
       "      <th>студент</th>\n",
       "      <td>22</td>\n",
       "      <td>22.000000</td>\n",
       "      <td>22</td>\n",
       "      <td>22.0</td>\n",
       "    </tr>\n",
       "  </tbody>\n",
       "</table>\n",
       "</div>"
      ],
      "text/plain": [
       "                      min       mean       max    median\n",
       "                dob_years  dob_years dob_years dob_years\n",
       "income_type                                             \n",
       "безработный            31  38.000000        45      38.0\n",
       "в декрете              39  39.000000        39      39.0\n",
       "госслужащий             0  40.636737        75      40.0\n",
       "компаньон               0  39.697542        74      39.0\n",
       "пенсионер               0  59.063019        74      60.0\n",
       "предприниматель        27  42.500000        58      42.5\n",
       "сотрудник               0  39.821027        74      39.0\n",
       "студент                22  22.000000        22      22.0"
      ]
     },
     "execution_count": 104,
     "metadata": {},
     "output_type": "execute_result"
    }
   ],
   "source": [
    "#проверка столбца 'dob_years'\n",
    "data.pivot_table(index=['income_type'], values = ['dob_years'], aggfunc = ['min', 'mean', 'max', 'median'])"
   ]
  },
  {
   "cell_type": "code",
   "execution_count": 105,
   "id": "8453d3a5",
   "metadata": {},
   "outputs": [],
   "source": [
    "def dob_years_zero(types): #функция для подсчета нулевых значений в столбце 'dob_years'\n",
    "    dob = data[data['dob_years'] == 0]\n",
    "    dob = dob[dob['income_type'] == types]\n",
    "    return dob['dob_years'].count()\n",
    "\n"
   ]
  },
  {
   "cell_type": "code",
   "execution_count": 106,
   "id": "0e7bdb69",
   "metadata": {},
   "outputs": [
    {
     "data": {
      "text/plain": [
       "6"
      ]
     },
     "execution_count": 106,
     "metadata": {},
     "output_type": "execute_result"
    }
   ],
   "source": [
    "dob_years_zero('госслужащий')"
   ]
  },
  {
   "cell_type": "code",
   "execution_count": 107,
   "id": "d46fd641",
   "metadata": {},
   "outputs": [
    {
     "data": {
      "text/plain": [
       "20"
      ]
     },
     "execution_count": 107,
     "metadata": {},
     "output_type": "execute_result"
    }
   ],
   "source": [
    "dob_years_zero('компаньон')"
   ]
  },
  {
   "cell_type": "code",
   "execution_count": 108,
   "id": "362d3d73",
   "metadata": {},
   "outputs": [
    {
     "data": {
      "text/plain": [
       "20"
      ]
     },
     "execution_count": 108,
     "metadata": {},
     "output_type": "execute_result"
    }
   ],
   "source": [
    "dob_years_zero('пенсионер')"
   ]
  },
  {
   "cell_type": "code",
   "execution_count": 109,
   "id": "966ef98c",
   "metadata": {},
   "outputs": [
    {
     "data": {
      "text/plain": [
       "55"
      ]
     },
     "execution_count": 109,
     "metadata": {},
     "output_type": "execute_result"
    }
   ],
   "source": [
    "dob_years_zero('сотрудник')"
   ]
  },
  {
   "cell_type": "markdown",
   "id": "d84d0cfd",
   "metadata": {},
   "source": [
    "Меняем нулевые значения на медианные, согласно типа ('income_type')"
   ]
  },
  {
   "cell_type": "code",
   "execution_count": 110,
   "id": "1966c28c",
   "metadata": {},
   "outputs": [],
   "source": [
    "clerc = (data['dob_years'] == 0) & (data['income_type'] == 'госслужащий')\n",
    "data.loc[clerc, 'dob_years'] = 40\n",
    "partner = (data['dob_years'] == 0) & (data['income_type'] == 'компаньон')\n",
    "data.loc[partner, 'dob_years'] = 39\n",
    "retire = (data['dob_years'] == 0) & (data['income_type'] == 'пенсионер')\n",
    "data.loc[retire, 'dob_years'] = 60\n",
    "employee = (data['dob_years'] == 0) & (data['income_type'] == 'сотрудник')\n",
    "data.loc[employee, 'dob_years'] = 39\n"
   ]
  },
  {
   "cell_type": "code",
   "execution_count": 111,
   "id": "648d3f22",
   "metadata": {},
   "outputs": [
    {
     "data": {
      "text/html": [
       "<div>\n",
       "<style scoped>\n",
       "    .dataframe tbody tr th:only-of-type {\n",
       "        vertical-align: middle;\n",
       "    }\n",
       "\n",
       "    .dataframe tbody tr th {\n",
       "        vertical-align: top;\n",
       "    }\n",
       "\n",
       "    .dataframe thead tr th {\n",
       "        text-align: left;\n",
       "    }\n",
       "\n",
       "    .dataframe thead tr:last-of-type th {\n",
       "        text-align: right;\n",
       "    }\n",
       "</style>\n",
       "<table border=\"1\" class=\"dataframe\">\n",
       "  <thead>\n",
       "    <tr>\n",
       "      <th></th>\n",
       "      <th>min</th>\n",
       "      <th>mean</th>\n",
       "      <th>max</th>\n",
       "      <th>median</th>\n",
       "    </tr>\n",
       "    <tr>\n",
       "      <th></th>\n",
       "      <th>dob_years</th>\n",
       "      <th>dob_years</th>\n",
       "      <th>dob_years</th>\n",
       "      <th>dob_years</th>\n",
       "    </tr>\n",
       "    <tr>\n",
       "      <th>income_type</th>\n",
       "      <th></th>\n",
       "      <th></th>\n",
       "      <th></th>\n",
       "      <th></th>\n",
       "    </tr>\n",
       "  </thead>\n",
       "  <tbody>\n",
       "    <tr>\n",
       "      <th>безработный</th>\n",
       "      <td>31</td>\n",
       "      <td>38.000000</td>\n",
       "      <td>45</td>\n",
       "      <td>38.0</td>\n",
       "    </tr>\n",
       "    <tr>\n",
       "      <th>в декрете</th>\n",
       "      <td>39</td>\n",
       "      <td>39.000000</td>\n",
       "      <td>39</td>\n",
       "      <td>39.0</td>\n",
       "    </tr>\n",
       "    <tr>\n",
       "      <th>госслужащий</th>\n",
       "      <td>19</td>\n",
       "      <td>40.801234</td>\n",
       "      <td>75</td>\n",
       "      <td>40.0</td>\n",
       "    </tr>\n",
       "    <tr>\n",
       "      <th>компаньон</th>\n",
       "      <td>19</td>\n",
       "      <td>39.850934</td>\n",
       "      <td>74</td>\n",
       "      <td>39.0</td>\n",
       "    </tr>\n",
       "    <tr>\n",
       "      <th>пенсионер</th>\n",
       "      <td>22</td>\n",
       "      <td>59.374222</td>\n",
       "      <td>74</td>\n",
       "      <td>60.0</td>\n",
       "    </tr>\n",
       "    <tr>\n",
       "      <th>предприниматель</th>\n",
       "      <td>27</td>\n",
       "      <td>42.500000</td>\n",
       "      <td>58</td>\n",
       "      <td>42.5</td>\n",
       "    </tr>\n",
       "    <tr>\n",
       "      <th>сотрудник</th>\n",
       "      <td>19</td>\n",
       "      <td>40.013940</td>\n",
       "      <td>74</td>\n",
       "      <td>39.0</td>\n",
       "    </tr>\n",
       "    <tr>\n",
       "      <th>студент</th>\n",
       "      <td>22</td>\n",
       "      <td>22.000000</td>\n",
       "      <td>22</td>\n",
       "      <td>22.0</td>\n",
       "    </tr>\n",
       "  </tbody>\n",
       "</table>\n",
       "</div>"
      ],
      "text/plain": [
       "                      min       mean       max    median\n",
       "                dob_years  dob_years dob_years dob_years\n",
       "income_type                                             \n",
       "безработный            31  38.000000        45      38.0\n",
       "в декрете              39  39.000000        39      39.0\n",
       "госслужащий            19  40.801234        75      40.0\n",
       "компаньон              19  39.850934        74      39.0\n",
       "пенсионер              22  59.374222        74      60.0\n",
       "предприниматель        27  42.500000        58      42.5\n",
       "сотрудник              19  40.013940        74      39.0\n",
       "студент                22  22.000000        22      22.0"
      ]
     },
     "execution_count": 111,
     "metadata": {},
     "output_type": "execute_result"
    }
   ],
   "source": [
    "#проверка столбца 'dob_years'\n",
    "data.pivot_table(index=['income_type'], values = ['dob_years'], aggfunc = ['min', 'mean', 'max', 'median'])"
   ]
  },
  {
   "cell_type": "code",
   "execution_count": 112,
   "id": "d325dc21",
   "metadata": {},
   "outputs": [
    {
     "data": {
      "text/plain": [
       "array(['F', 'M', 'XNA'], dtype=object)"
      ]
     },
     "execution_count": 112,
     "metadata": {},
     "output_type": "execute_result"
    }
   ],
   "source": [
    "data['gender'].unique() #проверка столбца 'gender'"
   ]
  },
  {
   "cell_type": "code",
   "execution_count": 113,
   "id": "ae5364aa",
   "metadata": {},
   "outputs": [
    {
     "data": {
      "text/plain": [
       "gender\n",
       "F      14236\n",
       "M       7288\n",
       "XNA        1\n",
       "Name: gender, dtype: int64"
      ]
     },
     "execution_count": 113,
     "metadata": {},
     "output_type": "execute_result"
    }
   ],
   "source": [
    "data.groupby('gender')['gender'].count()"
   ]
  },
  {
   "cell_type": "code",
   "execution_count": 114,
   "id": "011da2dd",
   "metadata": {},
   "outputs": [
    {
     "data": {
      "text/html": [
       "<div>\n",
       "<style scoped>\n",
       "    .dataframe tbody tr th:only-of-type {\n",
       "        vertical-align: middle;\n",
       "    }\n",
       "\n",
       "    .dataframe tbody tr th {\n",
       "        vertical-align: top;\n",
       "    }\n",
       "\n",
       "    .dataframe thead th {\n",
       "        text-align: right;\n",
       "    }\n",
       "</style>\n",
       "<table border=\"1\" class=\"dataframe\">\n",
       "  <thead>\n",
       "    <tr style=\"text-align: right;\">\n",
       "      <th></th>\n",
       "      <th>children</th>\n",
       "      <th>days_employed</th>\n",
       "      <th>dob_years</th>\n",
       "      <th>education</th>\n",
       "      <th>education_id</th>\n",
       "      <th>family_status</th>\n",
       "      <th>family_status_id</th>\n",
       "      <th>gender</th>\n",
       "      <th>income_type</th>\n",
       "      <th>debt</th>\n",
       "      <th>total_income</th>\n",
       "      <th>purpose</th>\n",
       "    </tr>\n",
       "  </thead>\n",
       "  <tbody>\n",
       "    <tr>\n",
       "      <th>10701</th>\n",
       "      <td>0</td>\n",
       "      <td>2358.600502</td>\n",
       "      <td>24</td>\n",
       "      <td>неоконченное высшее</td>\n",
       "      <td>2</td>\n",
       "      <td>гражданский брак</td>\n",
       "      <td>1</td>\n",
       "      <td>XNA</td>\n",
       "      <td>компаньон</td>\n",
       "      <td>0</td>\n",
       "      <td>203905.157261</td>\n",
       "      <td>покупка недвижимости</td>\n",
       "    </tr>\n",
       "  </tbody>\n",
       "</table>\n",
       "</div>"
      ],
      "text/plain": [
       "       children  days_employed  dob_years            education  education_id  \\\n",
       "10701         0    2358.600502         24  неоконченное высшее             2   \n",
       "\n",
       "          family_status  family_status_id gender income_type  debt  \\\n",
       "10701  гражданский брак                 1    XNA   компаньон     0   \n",
       "\n",
       "        total_income               purpose  \n",
       "10701  203905.157261  покупка недвижимости  "
      ]
     },
     "execution_count": 114,
     "metadata": {},
     "output_type": "execute_result"
    }
   ],
   "source": [
    "data[data['gender'] == 'XNA']"
   ]
  },
  {
   "cell_type": "code",
   "execution_count": 115,
   "id": "0c1a204a",
   "metadata": {},
   "outputs": [],
   "source": [
    "# удаляем пользователя с полом XNA\n",
    "data = data.drop(data[data['gender'] == 'XNA'].index)\n"
   ]
  },
  {
   "cell_type": "markdown",
   "id": "cc7c8aec",
   "metadata": {},
   "source": [
    "ВЫВОДЫ:\n",
    "Аномалии встретились в нескольких столбах:\n",
    "- 'children' аномальными являются значения -1 и 20 и их достаточно много. Изучив выборку по этим значениям ничего необчного не выявлено. Вероятнее всего при внесении данных сработал человеческий фактор, так как значения с одним и двумя ребенком самые многочисленные после значения с 0. Значение -1 нужно меняем на 1, а вместо 20 ставим 2.\n",
    "- 'days_employed' имеются отрицательные значения. В целом это похоже на техническую ошибку, так как в категориях 'в декрете', 'госслужащий', 'компаньон', 'предприниматель', 'сотрудник' и 'студент' нет положительных значений. Все значения в этом стобце привели в положительные, в этом случае значения буду логичными.\n",
    "   Значения'безработные' нереальны. Так как их ничтожно мало по сравнением с общим количеством, можно их либо оставить, как есть, либо удалить. Они не влияют на общую картину. \n",
    "   Значения 'пенсионеров' нужно уточнить у разработчиков, так как средний показатель так же не реален.\n",
    "- 'dob_years' в некоторых значениях поставлены нули. Данная аномалия исправлена медианными значениями в соответствии с типом.\n",
    "- 'gender' есть одно значение 'XNA', непонятно, что означает, удалим его."
   ]
  },
  {
   "cell_type": "markdown",
   "id": "295df7b4",
   "metadata": {},
   "source": [
    "### Изменение типов данных."
   ]
  },
  {
   "cell_type": "code",
   "execution_count": 116,
   "id": "4a60d57a",
   "metadata": {},
   "outputs": [],
   "source": [
    "data['total_income'] = data['total_income'].astype('int') #изменяем значения в 'total_income' с вещественных на целочисленные"
   ]
  },
  {
   "cell_type": "code",
   "execution_count": 117,
   "id": "ca573881",
   "metadata": {},
   "outputs": [
    {
     "data": {
      "text/html": [
       "<div>\n",
       "<style scoped>\n",
       "    .dataframe tbody tr th:only-of-type {\n",
       "        vertical-align: middle;\n",
       "    }\n",
       "\n",
       "    .dataframe tbody tr th {\n",
       "        vertical-align: top;\n",
       "    }\n",
       "\n",
       "    .dataframe thead th {\n",
       "        text-align: right;\n",
       "    }\n",
       "</style>\n",
       "<table border=\"1\" class=\"dataframe\">\n",
       "  <thead>\n",
       "    <tr style=\"text-align: right;\">\n",
       "      <th></th>\n",
       "      <th>children</th>\n",
       "      <th>days_employed</th>\n",
       "      <th>dob_years</th>\n",
       "      <th>education</th>\n",
       "      <th>education_id</th>\n",
       "      <th>family_status</th>\n",
       "      <th>family_status_id</th>\n",
       "      <th>gender</th>\n",
       "      <th>income_type</th>\n",
       "      <th>debt</th>\n",
       "      <th>total_income</th>\n",
       "      <th>purpose</th>\n",
       "    </tr>\n",
       "  </thead>\n",
       "  <tbody>\n",
       "    <tr>\n",
       "      <th>0</th>\n",
       "      <td>1</td>\n",
       "      <td>8437.673028</td>\n",
       "      <td>42</td>\n",
       "      <td>высшее</td>\n",
       "      <td>0</td>\n",
       "      <td>женат / замужем</td>\n",
       "      <td>0</td>\n",
       "      <td>F</td>\n",
       "      <td>сотрудник</td>\n",
       "      <td>0</td>\n",
       "      <td>253875</td>\n",
       "      <td>покупка жилья</td>\n",
       "    </tr>\n",
       "    <tr>\n",
       "      <th>1</th>\n",
       "      <td>1</td>\n",
       "      <td>4024.803754</td>\n",
       "      <td>36</td>\n",
       "      <td>среднее</td>\n",
       "      <td>1</td>\n",
       "      <td>женат / замужем</td>\n",
       "      <td>0</td>\n",
       "      <td>F</td>\n",
       "      <td>сотрудник</td>\n",
       "      <td>0</td>\n",
       "      <td>112080</td>\n",
       "      <td>приобретение автомобиля</td>\n",
       "    </tr>\n",
       "    <tr>\n",
       "      <th>2</th>\n",
       "      <td>0</td>\n",
       "      <td>5623.422610</td>\n",
       "      <td>33</td>\n",
       "      <td>Среднее</td>\n",
       "      <td>1</td>\n",
       "      <td>женат / замужем</td>\n",
       "      <td>0</td>\n",
       "      <td>M</td>\n",
       "      <td>сотрудник</td>\n",
       "      <td>0</td>\n",
       "      <td>145885</td>\n",
       "      <td>покупка жилья</td>\n",
       "    </tr>\n",
       "    <tr>\n",
       "      <th>3</th>\n",
       "      <td>3</td>\n",
       "      <td>4124.747207</td>\n",
       "      <td>32</td>\n",
       "      <td>среднее</td>\n",
       "      <td>1</td>\n",
       "      <td>женат / замужем</td>\n",
       "      <td>0</td>\n",
       "      <td>M</td>\n",
       "      <td>сотрудник</td>\n",
       "      <td>0</td>\n",
       "      <td>267628</td>\n",
       "      <td>дополнительное образование</td>\n",
       "    </tr>\n",
       "    <tr>\n",
       "      <th>4</th>\n",
       "      <td>0</td>\n",
       "      <td>340266.072047</td>\n",
       "      <td>53</td>\n",
       "      <td>среднее</td>\n",
       "      <td>1</td>\n",
       "      <td>гражданский брак</td>\n",
       "      <td>1</td>\n",
       "      <td>F</td>\n",
       "      <td>пенсионер</td>\n",
       "      <td>0</td>\n",
       "      <td>158616</td>\n",
       "      <td>сыграть свадьбу</td>\n",
       "    </tr>\n",
       "  </tbody>\n",
       "</table>\n",
       "</div>"
      ],
      "text/plain": [
       "   children  days_employed  dob_years education  education_id  \\\n",
       "0         1    8437.673028         42    высшее             0   \n",
       "1         1    4024.803754         36   среднее             1   \n",
       "2         0    5623.422610         33   Среднее             1   \n",
       "3         3    4124.747207         32   среднее             1   \n",
       "4         0  340266.072047         53   среднее             1   \n",
       "\n",
       "      family_status  family_status_id gender income_type  debt  total_income  \\\n",
       "0   женат / замужем                 0      F   сотрудник     0        253875   \n",
       "1   женат / замужем                 0      F   сотрудник     0        112080   \n",
       "2   женат / замужем                 0      M   сотрудник     0        145885   \n",
       "3   женат / замужем                 0      M   сотрудник     0        267628   \n",
       "4  гражданский брак                 1      F   пенсионер     0        158616   \n",
       "\n",
       "                      purpose  \n",
       "0               покупка жилья  \n",
       "1     приобретение автомобиля  \n",
       "2               покупка жилья  \n",
       "3  дополнительное образование  \n",
       "4             сыграть свадьбу  "
      ]
     },
     "execution_count": 117,
     "metadata": {},
     "output_type": "execute_result"
    }
   ],
   "source": [
    "data.head()"
   ]
  },
  {
   "cell_type": "markdown",
   "id": "cf1e19a9",
   "metadata": {},
   "source": [
    "### Удаление дубликатов."
   ]
  },
  {
   "cell_type": "code",
   "execution_count": 118,
   "id": "4b75dde4",
   "metadata": {},
   "outputs": [
    {
     "data": {
      "text/plain": [
       "54"
      ]
     },
     "execution_count": 118,
     "metadata": {},
     "output_type": "execute_result"
    }
   ],
   "source": [
    "data.duplicated().sum()"
   ]
  },
  {
   "cell_type": "code",
   "execution_count": 119,
   "id": "58114d41",
   "metadata": {},
   "outputs": [
    {
     "data": {
      "text/html": [
       "<div>\n",
       "<style scoped>\n",
       "    .dataframe tbody tr th:only-of-type {\n",
       "        vertical-align: middle;\n",
       "    }\n",
       "\n",
       "    .dataframe tbody tr th {\n",
       "        vertical-align: top;\n",
       "    }\n",
       "\n",
       "    .dataframe thead th {\n",
       "        text-align: right;\n",
       "    }\n",
       "</style>\n",
       "<table border=\"1\" class=\"dataframe\">\n",
       "  <thead>\n",
       "    <tr style=\"text-align: right;\">\n",
       "      <th></th>\n",
       "      <th>children</th>\n",
       "      <th>days_employed</th>\n",
       "      <th>dob_years</th>\n",
       "      <th>education</th>\n",
       "      <th>education_id</th>\n",
       "      <th>family_status</th>\n",
       "      <th>family_status_id</th>\n",
       "      <th>gender</th>\n",
       "      <th>income_type</th>\n",
       "      <th>debt</th>\n",
       "      <th>total_income</th>\n",
       "      <th>purpose</th>\n",
       "    </tr>\n",
       "  </thead>\n",
       "  <tbody>\n",
       "    <tr>\n",
       "      <th>2849</th>\n",
       "      <td>0</td>\n",
       "      <td>2194.220567</td>\n",
       "      <td>41</td>\n",
       "      <td>среднее</td>\n",
       "      <td>1</td>\n",
       "      <td>женат / замужем</td>\n",
       "      <td>0</td>\n",
       "      <td>F</td>\n",
       "      <td>сотрудник</td>\n",
       "      <td>0</td>\n",
       "      <td>145017</td>\n",
       "      <td>покупка жилья для семьи</td>\n",
       "    </tr>\n",
       "    <tr>\n",
       "      <th>4182</th>\n",
       "      <td>1</td>\n",
       "      <td>2194.220567</td>\n",
       "      <td>34</td>\n",
       "      <td>ВЫСШЕЕ</td>\n",
       "      <td>0</td>\n",
       "      <td>гражданский брак</td>\n",
       "      <td>1</td>\n",
       "      <td>F</td>\n",
       "      <td>сотрудник</td>\n",
       "      <td>0</td>\n",
       "      <td>145017</td>\n",
       "      <td>свадьба</td>\n",
       "    </tr>\n",
       "    <tr>\n",
       "      <th>4851</th>\n",
       "      <td>0</td>\n",
       "      <td>2194.220567</td>\n",
       "      <td>60</td>\n",
       "      <td>среднее</td>\n",
       "      <td>1</td>\n",
       "      <td>гражданский брак</td>\n",
       "      <td>1</td>\n",
       "      <td>F</td>\n",
       "      <td>пенсионер</td>\n",
       "      <td>0</td>\n",
       "      <td>145017</td>\n",
       "      <td>свадьба</td>\n",
       "    </tr>\n",
       "    <tr>\n",
       "      <th>5557</th>\n",
       "      <td>0</td>\n",
       "      <td>2194.220567</td>\n",
       "      <td>58</td>\n",
       "      <td>среднее</td>\n",
       "      <td>1</td>\n",
       "      <td>гражданский брак</td>\n",
       "      <td>1</td>\n",
       "      <td>F</td>\n",
       "      <td>пенсионер</td>\n",
       "      <td>0</td>\n",
       "      <td>145017</td>\n",
       "      <td>сыграть свадьбу</td>\n",
       "    </tr>\n",
       "    <tr>\n",
       "      <th>7808</th>\n",
       "      <td>0</td>\n",
       "      <td>2194.220567</td>\n",
       "      <td>57</td>\n",
       "      <td>среднее</td>\n",
       "      <td>1</td>\n",
       "      <td>гражданский брак</td>\n",
       "      <td>1</td>\n",
       "      <td>F</td>\n",
       "      <td>пенсионер</td>\n",
       "      <td>0</td>\n",
       "      <td>145017</td>\n",
       "      <td>на проведение свадьбы</td>\n",
       "    </tr>\n",
       "    <tr>\n",
       "      <th>8583</th>\n",
       "      <td>0</td>\n",
       "      <td>2194.220567</td>\n",
       "      <td>58</td>\n",
       "      <td>высшее</td>\n",
       "      <td>0</td>\n",
       "      <td>Не женат / не замужем</td>\n",
       "      <td>4</td>\n",
       "      <td>F</td>\n",
       "      <td>пенсионер</td>\n",
       "      <td>0</td>\n",
       "      <td>145017</td>\n",
       "      <td>дополнительное образование</td>\n",
       "    </tr>\n",
       "    <tr>\n",
       "      <th>9238</th>\n",
       "      <td>2</td>\n",
       "      <td>2194.220567</td>\n",
       "      <td>34</td>\n",
       "      <td>среднее</td>\n",
       "      <td>1</td>\n",
       "      <td>женат / замужем</td>\n",
       "      <td>0</td>\n",
       "      <td>F</td>\n",
       "      <td>сотрудник</td>\n",
       "      <td>0</td>\n",
       "      <td>145017</td>\n",
       "      <td>покупка жилья для сдачи</td>\n",
       "    </tr>\n",
       "    <tr>\n",
       "      <th>9528</th>\n",
       "      <td>0</td>\n",
       "      <td>2194.220567</td>\n",
       "      <td>66</td>\n",
       "      <td>среднее</td>\n",
       "      <td>1</td>\n",
       "      <td>вдовец / вдова</td>\n",
       "      <td>2</td>\n",
       "      <td>F</td>\n",
       "      <td>пенсионер</td>\n",
       "      <td>0</td>\n",
       "      <td>145017</td>\n",
       "      <td>операции со своей недвижимостью</td>\n",
       "    </tr>\n",
       "    <tr>\n",
       "      <th>9627</th>\n",
       "      <td>0</td>\n",
       "      <td>2194.220567</td>\n",
       "      <td>56</td>\n",
       "      <td>среднее</td>\n",
       "      <td>1</td>\n",
       "      <td>женат / замужем</td>\n",
       "      <td>0</td>\n",
       "      <td>F</td>\n",
       "      <td>пенсионер</td>\n",
       "      <td>0</td>\n",
       "      <td>145017</td>\n",
       "      <td>операции со своей недвижимостью</td>\n",
       "    </tr>\n",
       "    <tr>\n",
       "      <th>10462</th>\n",
       "      <td>0</td>\n",
       "      <td>2194.220567</td>\n",
       "      <td>62</td>\n",
       "      <td>среднее</td>\n",
       "      <td>1</td>\n",
       "      <td>женат / замужем</td>\n",
       "      <td>0</td>\n",
       "      <td>F</td>\n",
       "      <td>пенсионер</td>\n",
       "      <td>0</td>\n",
       "      <td>145017</td>\n",
       "      <td>покупка коммерческой недвижимости</td>\n",
       "    </tr>\n",
       "    <tr>\n",
       "      <th>10697</th>\n",
       "      <td>0</td>\n",
       "      <td>2194.220567</td>\n",
       "      <td>40</td>\n",
       "      <td>среднее</td>\n",
       "      <td>1</td>\n",
       "      <td>гражданский брак</td>\n",
       "      <td>1</td>\n",
       "      <td>F</td>\n",
       "      <td>компаньон</td>\n",
       "      <td>0</td>\n",
       "      <td>145017</td>\n",
       "      <td>сыграть свадьбу</td>\n",
       "    </tr>\n",
       "    <tr>\n",
       "      <th>10864</th>\n",
       "      <td>0</td>\n",
       "      <td>2194.220567</td>\n",
       "      <td>62</td>\n",
       "      <td>среднее</td>\n",
       "      <td>1</td>\n",
       "      <td>женат / замужем</td>\n",
       "      <td>0</td>\n",
       "      <td>F</td>\n",
       "      <td>пенсионер</td>\n",
       "      <td>0</td>\n",
       "      <td>145017</td>\n",
       "      <td>ремонт жилью</td>\n",
       "    </tr>\n",
       "    <tr>\n",
       "      <th>10994</th>\n",
       "      <td>0</td>\n",
       "      <td>2194.220567</td>\n",
       "      <td>62</td>\n",
       "      <td>среднее</td>\n",
       "      <td>1</td>\n",
       "      <td>женат / замужем</td>\n",
       "      <td>0</td>\n",
       "      <td>F</td>\n",
       "      <td>пенсионер</td>\n",
       "      <td>0</td>\n",
       "      <td>145017</td>\n",
       "      <td>ремонт жилью</td>\n",
       "    </tr>\n",
       "    <tr>\n",
       "      <th>11791</th>\n",
       "      <td>0</td>\n",
       "      <td>2194.220567</td>\n",
       "      <td>47</td>\n",
       "      <td>среднее</td>\n",
       "      <td>1</td>\n",
       "      <td>женат / замужем</td>\n",
       "      <td>0</td>\n",
       "      <td>F</td>\n",
       "      <td>сотрудник</td>\n",
       "      <td>0</td>\n",
       "      <td>145017</td>\n",
       "      <td>строительство недвижимости</td>\n",
       "    </tr>\n",
       "    <tr>\n",
       "      <th>12373</th>\n",
       "      <td>0</td>\n",
       "      <td>2194.220567</td>\n",
       "      <td>58</td>\n",
       "      <td>среднее</td>\n",
       "      <td>1</td>\n",
       "      <td>женат / замужем</td>\n",
       "      <td>0</td>\n",
       "      <td>M</td>\n",
       "      <td>сотрудник</td>\n",
       "      <td>0</td>\n",
       "      <td>145017</td>\n",
       "      <td>покупка недвижимости</td>\n",
       "    </tr>\n",
       "    <tr>\n",
       "      <th>12375</th>\n",
       "      <td>1</td>\n",
       "      <td>2194.220567</td>\n",
       "      <td>37</td>\n",
       "      <td>среднее</td>\n",
       "      <td>1</td>\n",
       "      <td>женат / замужем</td>\n",
       "      <td>0</td>\n",
       "      <td>F</td>\n",
       "      <td>сотрудник</td>\n",
       "      <td>0</td>\n",
       "      <td>145017</td>\n",
       "      <td>покупка недвижимости</td>\n",
       "    </tr>\n",
       "    <tr>\n",
       "      <th>12736</th>\n",
       "      <td>0</td>\n",
       "      <td>2194.220567</td>\n",
       "      <td>59</td>\n",
       "      <td>среднее</td>\n",
       "      <td>1</td>\n",
       "      <td>женат / замужем</td>\n",
       "      <td>0</td>\n",
       "      <td>F</td>\n",
       "      <td>пенсионер</td>\n",
       "      <td>0</td>\n",
       "      <td>145017</td>\n",
       "      <td>заняться образованием</td>\n",
       "    </tr>\n",
       "    <tr>\n",
       "      <th>13025</th>\n",
       "      <td>1</td>\n",
       "      <td>2194.220567</td>\n",
       "      <td>44</td>\n",
       "      <td>среднее</td>\n",
       "      <td>1</td>\n",
       "      <td>женат / замужем</td>\n",
       "      <td>0</td>\n",
       "      <td>F</td>\n",
       "      <td>сотрудник</td>\n",
       "      <td>0</td>\n",
       "      <td>145017</td>\n",
       "      <td>сделка с подержанным автомобилем</td>\n",
       "    </tr>\n",
       "    <tr>\n",
       "      <th>13639</th>\n",
       "      <td>0</td>\n",
       "      <td>2194.220567</td>\n",
       "      <td>64</td>\n",
       "      <td>среднее</td>\n",
       "      <td>1</td>\n",
       "      <td>женат / замужем</td>\n",
       "      <td>0</td>\n",
       "      <td>F</td>\n",
       "      <td>пенсионер</td>\n",
       "      <td>0</td>\n",
       "      <td>145017</td>\n",
       "      <td>автомобиль</td>\n",
       "    </tr>\n",
       "    <tr>\n",
       "      <th>13773</th>\n",
       "      <td>0</td>\n",
       "      <td>2194.220567</td>\n",
       "      <td>35</td>\n",
       "      <td>среднее</td>\n",
       "      <td>1</td>\n",
       "      <td>гражданский брак</td>\n",
       "      <td>1</td>\n",
       "      <td>F</td>\n",
       "      <td>сотрудник</td>\n",
       "      <td>0</td>\n",
       "      <td>145017</td>\n",
       "      <td>сыграть свадьбу</td>\n",
       "    </tr>\n",
       "    <tr>\n",
       "      <th>13878</th>\n",
       "      <td>1</td>\n",
       "      <td>2194.220567</td>\n",
       "      <td>31</td>\n",
       "      <td>среднее</td>\n",
       "      <td>1</td>\n",
       "      <td>женат / замужем</td>\n",
       "      <td>0</td>\n",
       "      <td>F</td>\n",
       "      <td>компаньон</td>\n",
       "      <td>0</td>\n",
       "      <td>145017</td>\n",
       "      <td>покупка жилья</td>\n",
       "    </tr>\n",
       "    <tr>\n",
       "      <th>13942</th>\n",
       "      <td>0</td>\n",
       "      <td>2194.220567</td>\n",
       "      <td>44</td>\n",
       "      <td>среднее</td>\n",
       "      <td>1</td>\n",
       "      <td>женат / замужем</td>\n",
       "      <td>0</td>\n",
       "      <td>F</td>\n",
       "      <td>сотрудник</td>\n",
       "      <td>0</td>\n",
       "      <td>145017</td>\n",
       "      <td>приобретение автомобиля</td>\n",
       "    </tr>\n",
       "    <tr>\n",
       "      <th>14432</th>\n",
       "      <td>2</td>\n",
       "      <td>2194.220567</td>\n",
       "      <td>36</td>\n",
       "      <td>высшее</td>\n",
       "      <td>0</td>\n",
       "      <td>женат / замужем</td>\n",
       "      <td>0</td>\n",
       "      <td>F</td>\n",
       "      <td>госслужащий</td>\n",
       "      <td>0</td>\n",
       "      <td>145017</td>\n",
       "      <td>получение образования</td>\n",
       "    </tr>\n",
       "    <tr>\n",
       "      <th>14832</th>\n",
       "      <td>0</td>\n",
       "      <td>2194.220567</td>\n",
       "      <td>50</td>\n",
       "      <td>среднее</td>\n",
       "      <td>1</td>\n",
       "      <td>Не женат / не замужем</td>\n",
       "      <td>4</td>\n",
       "      <td>F</td>\n",
       "      <td>сотрудник</td>\n",
       "      <td>0</td>\n",
       "      <td>145017</td>\n",
       "      <td>недвижимость</td>\n",
       "    </tr>\n",
       "    <tr>\n",
       "      <th>15091</th>\n",
       "      <td>0</td>\n",
       "      <td>2194.220567</td>\n",
       "      <td>58</td>\n",
       "      <td>среднее</td>\n",
       "      <td>1</td>\n",
       "      <td>гражданский брак</td>\n",
       "      <td>1</td>\n",
       "      <td>M</td>\n",
       "      <td>сотрудник</td>\n",
       "      <td>0</td>\n",
       "      <td>145017</td>\n",
       "      <td>на проведение свадьбы</td>\n",
       "    </tr>\n",
       "    <tr>\n",
       "      <th>15188</th>\n",
       "      <td>0</td>\n",
       "      <td>2194.220567</td>\n",
       "      <td>60</td>\n",
       "      <td>среднее</td>\n",
       "      <td>1</td>\n",
       "      <td>женат / замужем</td>\n",
       "      <td>0</td>\n",
       "      <td>M</td>\n",
       "      <td>сотрудник</td>\n",
       "      <td>0</td>\n",
       "      <td>145017</td>\n",
       "      <td>покупка недвижимости</td>\n",
       "    </tr>\n",
       "    <tr>\n",
       "      <th>15273</th>\n",
       "      <td>0</td>\n",
       "      <td>2194.220567</td>\n",
       "      <td>57</td>\n",
       "      <td>среднее</td>\n",
       "      <td>1</td>\n",
       "      <td>гражданский брак</td>\n",
       "      <td>1</td>\n",
       "      <td>F</td>\n",
       "      <td>пенсионер</td>\n",
       "      <td>0</td>\n",
       "      <td>145017</td>\n",
       "      <td>свадьба</td>\n",
       "    </tr>\n",
       "    <tr>\n",
       "      <th>16176</th>\n",
       "      <td>0</td>\n",
       "      <td>2194.220567</td>\n",
       "      <td>47</td>\n",
       "      <td>среднее</td>\n",
       "      <td>1</td>\n",
       "      <td>женат / замужем</td>\n",
       "      <td>0</td>\n",
       "      <td>F</td>\n",
       "      <td>сотрудник</td>\n",
       "      <td>0</td>\n",
       "      <td>145017</td>\n",
       "      <td>ремонт жилью</td>\n",
       "    </tr>\n",
       "    <tr>\n",
       "      <th>16378</th>\n",
       "      <td>0</td>\n",
       "      <td>2194.220567</td>\n",
       "      <td>46</td>\n",
       "      <td>среднее</td>\n",
       "      <td>1</td>\n",
       "      <td>женат / замужем</td>\n",
       "      <td>0</td>\n",
       "      <td>F</td>\n",
       "      <td>сотрудник</td>\n",
       "      <td>0</td>\n",
       "      <td>145017</td>\n",
       "      <td>высшее образование</td>\n",
       "    </tr>\n",
       "    <tr>\n",
       "      <th>16902</th>\n",
       "      <td>2</td>\n",
       "      <td>2194.220567</td>\n",
       "      <td>39</td>\n",
       "      <td>среднее</td>\n",
       "      <td>1</td>\n",
       "      <td>гражданский брак</td>\n",
       "      <td>1</td>\n",
       "      <td>F</td>\n",
       "      <td>сотрудник</td>\n",
       "      <td>0</td>\n",
       "      <td>145017</td>\n",
       "      <td>сыграть свадьбу</td>\n",
       "    </tr>\n",
       "    <tr>\n",
       "      <th>16904</th>\n",
       "      <td>1</td>\n",
       "      <td>2194.220567</td>\n",
       "      <td>32</td>\n",
       "      <td>высшее</td>\n",
       "      <td>0</td>\n",
       "      <td>женат / замужем</td>\n",
       "      <td>0</td>\n",
       "      <td>F</td>\n",
       "      <td>сотрудник</td>\n",
       "      <td>0</td>\n",
       "      <td>145017</td>\n",
       "      <td>на покупку подержанного автомобиля</td>\n",
       "    </tr>\n",
       "    <tr>\n",
       "      <th>17379</th>\n",
       "      <td>0</td>\n",
       "      <td>2194.220567</td>\n",
       "      <td>54</td>\n",
       "      <td>высшее</td>\n",
       "      <td>0</td>\n",
       "      <td>женат / замужем</td>\n",
       "      <td>0</td>\n",
       "      <td>M</td>\n",
       "      <td>компаньон</td>\n",
       "      <td>0</td>\n",
       "      <td>145017</td>\n",
       "      <td>операции с коммерческой недвижимостью</td>\n",
       "    </tr>\n",
       "    <tr>\n",
       "      <th>17755</th>\n",
       "      <td>1</td>\n",
       "      <td>2194.220567</td>\n",
       "      <td>43</td>\n",
       "      <td>среднее</td>\n",
       "      <td>1</td>\n",
       "      <td>женат / замужем</td>\n",
       "      <td>0</td>\n",
       "      <td>M</td>\n",
       "      <td>сотрудник</td>\n",
       "      <td>0</td>\n",
       "      <td>145017</td>\n",
       "      <td>заняться образованием</td>\n",
       "    </tr>\n",
       "    <tr>\n",
       "      <th>17774</th>\n",
       "      <td>1</td>\n",
       "      <td>2194.220567</td>\n",
       "      <td>40</td>\n",
       "      <td>среднее</td>\n",
       "      <td>1</td>\n",
       "      <td>гражданский брак</td>\n",
       "      <td>1</td>\n",
       "      <td>F</td>\n",
       "      <td>компаньон</td>\n",
       "      <td>0</td>\n",
       "      <td>145017</td>\n",
       "      <td>строительство жилой недвижимости</td>\n",
       "    </tr>\n",
       "    <tr>\n",
       "      <th>18328</th>\n",
       "      <td>0</td>\n",
       "      <td>2194.220567</td>\n",
       "      <td>29</td>\n",
       "      <td>высшее</td>\n",
       "      <td>0</td>\n",
       "      <td>женат / замужем</td>\n",
       "      <td>0</td>\n",
       "      <td>M</td>\n",
       "      <td>сотрудник</td>\n",
       "      <td>0</td>\n",
       "      <td>145017</td>\n",
       "      <td>покупка жилой недвижимости</td>\n",
       "    </tr>\n",
       "    <tr>\n",
       "      <th>18349</th>\n",
       "      <td>1</td>\n",
       "      <td>2194.220567</td>\n",
       "      <td>30</td>\n",
       "      <td>высшее</td>\n",
       "      <td>0</td>\n",
       "      <td>женат / замужем</td>\n",
       "      <td>0</td>\n",
       "      <td>F</td>\n",
       "      <td>госслужащий</td>\n",
       "      <td>0</td>\n",
       "      <td>145017</td>\n",
       "      <td>покупка жилья для семьи</td>\n",
       "    </tr>\n",
       "    <tr>\n",
       "      <th>18428</th>\n",
       "      <td>0</td>\n",
       "      <td>2194.220567</td>\n",
       "      <td>64</td>\n",
       "      <td>среднее</td>\n",
       "      <td>1</td>\n",
       "      <td>женат / замужем</td>\n",
       "      <td>0</td>\n",
       "      <td>F</td>\n",
       "      <td>пенсионер</td>\n",
       "      <td>0</td>\n",
       "      <td>145017</td>\n",
       "      <td>жилье</td>\n",
       "    </tr>\n",
       "    <tr>\n",
       "      <th>18521</th>\n",
       "      <td>0</td>\n",
       "      <td>2194.220567</td>\n",
       "      <td>56</td>\n",
       "      <td>среднее</td>\n",
       "      <td>1</td>\n",
       "      <td>гражданский брак</td>\n",
       "      <td>1</td>\n",
       "      <td>F</td>\n",
       "      <td>сотрудник</td>\n",
       "      <td>0</td>\n",
       "      <td>145017</td>\n",
       "      <td>сыграть свадьбу</td>\n",
       "    </tr>\n",
       "    <tr>\n",
       "      <th>18563</th>\n",
       "      <td>0</td>\n",
       "      <td>2194.220567</td>\n",
       "      <td>54</td>\n",
       "      <td>среднее</td>\n",
       "      <td>1</td>\n",
       "      <td>женат / замужем</td>\n",
       "      <td>0</td>\n",
       "      <td>F</td>\n",
       "      <td>сотрудник</td>\n",
       "      <td>0</td>\n",
       "      <td>145017</td>\n",
       "      <td>операции со своей недвижимостью</td>\n",
       "    </tr>\n",
       "    <tr>\n",
       "      <th>18755</th>\n",
       "      <td>0</td>\n",
       "      <td>2194.220567</td>\n",
       "      <td>58</td>\n",
       "      <td>среднее</td>\n",
       "      <td>1</td>\n",
       "      <td>женат / замужем</td>\n",
       "      <td>0</td>\n",
       "      <td>F</td>\n",
       "      <td>пенсионер</td>\n",
       "      <td>0</td>\n",
       "      <td>145017</td>\n",
       "      <td>заняться образованием</td>\n",
       "    </tr>\n",
       "    <tr>\n",
       "      <th>19041</th>\n",
       "      <td>0</td>\n",
       "      <td>2194.220567</td>\n",
       "      <td>56</td>\n",
       "      <td>среднее</td>\n",
       "      <td>1</td>\n",
       "      <td>гражданский брак</td>\n",
       "      <td>1</td>\n",
       "      <td>F</td>\n",
       "      <td>сотрудник</td>\n",
       "      <td>0</td>\n",
       "      <td>145017</td>\n",
       "      <td>на проведение свадьбы</td>\n",
       "    </tr>\n",
       "    <tr>\n",
       "      <th>19184</th>\n",
       "      <td>0</td>\n",
       "      <td>2194.220567</td>\n",
       "      <td>46</td>\n",
       "      <td>среднее</td>\n",
       "      <td>1</td>\n",
       "      <td>женат / замужем</td>\n",
       "      <td>0</td>\n",
       "      <td>F</td>\n",
       "      <td>сотрудник</td>\n",
       "      <td>0</td>\n",
       "      <td>145017</td>\n",
       "      <td>свой автомобиль</td>\n",
       "    </tr>\n",
       "    <tr>\n",
       "      <th>19321</th>\n",
       "      <td>0</td>\n",
       "      <td>2194.220567</td>\n",
       "      <td>23</td>\n",
       "      <td>среднее</td>\n",
       "      <td>1</td>\n",
       "      <td>Не женат / не замужем</td>\n",
       "      <td>4</td>\n",
       "      <td>F</td>\n",
       "      <td>сотрудник</td>\n",
       "      <td>0</td>\n",
       "      <td>145017</td>\n",
       "      <td>сделка с подержанным автомобилем</td>\n",
       "    </tr>\n",
       "    <tr>\n",
       "      <th>19387</th>\n",
       "      <td>0</td>\n",
       "      <td>2194.220567</td>\n",
       "      <td>38</td>\n",
       "      <td>высшее</td>\n",
       "      <td>0</td>\n",
       "      <td>гражданский брак</td>\n",
       "      <td>1</td>\n",
       "      <td>F</td>\n",
       "      <td>компаньон</td>\n",
       "      <td>0</td>\n",
       "      <td>145017</td>\n",
       "      <td>на проведение свадьбы</td>\n",
       "    </tr>\n",
       "    <tr>\n",
       "      <th>19688</th>\n",
       "      <td>0</td>\n",
       "      <td>2194.220567</td>\n",
       "      <td>61</td>\n",
       "      <td>среднее</td>\n",
       "      <td>1</td>\n",
       "      <td>женат / замужем</td>\n",
       "      <td>0</td>\n",
       "      <td>F</td>\n",
       "      <td>пенсионер</td>\n",
       "      <td>0</td>\n",
       "      <td>145017</td>\n",
       "      <td>операции с недвижимостью</td>\n",
       "    </tr>\n",
       "    <tr>\n",
       "      <th>19832</th>\n",
       "      <td>0</td>\n",
       "      <td>2194.220567</td>\n",
       "      <td>48</td>\n",
       "      <td>среднее</td>\n",
       "      <td>1</td>\n",
       "      <td>женат / замужем</td>\n",
       "      <td>0</td>\n",
       "      <td>F</td>\n",
       "      <td>сотрудник</td>\n",
       "      <td>0</td>\n",
       "      <td>145017</td>\n",
       "      <td>ремонт жилью</td>\n",
       "    </tr>\n",
       "    <tr>\n",
       "      <th>19946</th>\n",
       "      <td>0</td>\n",
       "      <td>2194.220567</td>\n",
       "      <td>57</td>\n",
       "      <td>среднее</td>\n",
       "      <td>1</td>\n",
       "      <td>женат / замужем</td>\n",
       "      <td>0</td>\n",
       "      <td>F</td>\n",
       "      <td>сотрудник</td>\n",
       "      <td>0</td>\n",
       "      <td>145017</td>\n",
       "      <td>сделка с подержанным автомобилем</td>\n",
       "    </tr>\n",
       "    <tr>\n",
       "      <th>20116</th>\n",
       "      <td>0</td>\n",
       "      <td>2194.220567</td>\n",
       "      <td>57</td>\n",
       "      <td>среднее</td>\n",
       "      <td>1</td>\n",
       "      <td>гражданский брак</td>\n",
       "      <td>1</td>\n",
       "      <td>M</td>\n",
       "      <td>пенсионер</td>\n",
       "      <td>0</td>\n",
       "      <td>145017</td>\n",
       "      <td>свадьба</td>\n",
       "    </tr>\n",
       "    <tr>\n",
       "      <th>20165</th>\n",
       "      <td>0</td>\n",
       "      <td>2194.220567</td>\n",
       "      <td>42</td>\n",
       "      <td>среднее</td>\n",
       "      <td>1</td>\n",
       "      <td>женат / замужем</td>\n",
       "      <td>0</td>\n",
       "      <td>F</td>\n",
       "      <td>сотрудник</td>\n",
       "      <td>0</td>\n",
       "      <td>145017</td>\n",
       "      <td>покупка жилья для семьи</td>\n",
       "    </tr>\n",
       "    <tr>\n",
       "      <th>20702</th>\n",
       "      <td>0</td>\n",
       "      <td>2194.220567</td>\n",
       "      <td>64</td>\n",
       "      <td>среднее</td>\n",
       "      <td>1</td>\n",
       "      <td>женат / замужем</td>\n",
       "      <td>0</td>\n",
       "      <td>F</td>\n",
       "      <td>пенсионер</td>\n",
       "      <td>0</td>\n",
       "      <td>145017</td>\n",
       "      <td>дополнительное образование</td>\n",
       "    </tr>\n",
       "    <tr>\n",
       "      <th>21032</th>\n",
       "      <td>0</td>\n",
       "      <td>2194.220567</td>\n",
       "      <td>60</td>\n",
       "      <td>среднее</td>\n",
       "      <td>1</td>\n",
       "      <td>женат / замужем</td>\n",
       "      <td>0</td>\n",
       "      <td>F</td>\n",
       "      <td>пенсионер</td>\n",
       "      <td>0</td>\n",
       "      <td>145017</td>\n",
       "      <td>заняться образованием</td>\n",
       "    </tr>\n",
       "    <tr>\n",
       "      <th>21132</th>\n",
       "      <td>0</td>\n",
       "      <td>2194.220567</td>\n",
       "      <td>47</td>\n",
       "      <td>среднее</td>\n",
       "      <td>1</td>\n",
       "      <td>женат / замужем</td>\n",
       "      <td>0</td>\n",
       "      <td>F</td>\n",
       "      <td>сотрудник</td>\n",
       "      <td>0</td>\n",
       "      <td>145017</td>\n",
       "      <td>ремонт жилью</td>\n",
       "    </tr>\n",
       "    <tr>\n",
       "      <th>21281</th>\n",
       "      <td>1</td>\n",
       "      <td>2194.220567</td>\n",
       "      <td>30</td>\n",
       "      <td>высшее</td>\n",
       "      <td>0</td>\n",
       "      <td>женат / замужем</td>\n",
       "      <td>0</td>\n",
       "      <td>F</td>\n",
       "      <td>сотрудник</td>\n",
       "      <td>0</td>\n",
       "      <td>145017</td>\n",
       "      <td>покупка коммерческой недвижимости</td>\n",
       "    </tr>\n",
       "    <tr>\n",
       "      <th>21415</th>\n",
       "      <td>0</td>\n",
       "      <td>2194.220567</td>\n",
       "      <td>54</td>\n",
       "      <td>среднее</td>\n",
       "      <td>1</td>\n",
       "      <td>женат / замужем</td>\n",
       "      <td>0</td>\n",
       "      <td>F</td>\n",
       "      <td>пенсионер</td>\n",
       "      <td>0</td>\n",
       "      <td>145017</td>\n",
       "      <td>операции с жильем</td>\n",
       "    </tr>\n",
       "  </tbody>\n",
       "</table>\n",
       "</div>"
      ],
      "text/plain": [
       "       children  days_employed  dob_years education  education_id  \\\n",
       "2849          0    2194.220567         41   среднее             1   \n",
       "4182          1    2194.220567         34    ВЫСШЕЕ             0   \n",
       "4851          0    2194.220567         60   среднее             1   \n",
       "5557          0    2194.220567         58   среднее             1   \n",
       "7808          0    2194.220567         57   среднее             1   \n",
       "8583          0    2194.220567         58    высшее             0   \n",
       "9238          2    2194.220567         34   среднее             1   \n",
       "9528          0    2194.220567         66   среднее             1   \n",
       "9627          0    2194.220567         56   среднее             1   \n",
       "10462         0    2194.220567         62   среднее             1   \n",
       "10697         0    2194.220567         40   среднее             1   \n",
       "10864         0    2194.220567         62   среднее             1   \n",
       "10994         0    2194.220567         62   среднее             1   \n",
       "11791         0    2194.220567         47   среднее             1   \n",
       "12373         0    2194.220567         58   среднее             1   \n",
       "12375         1    2194.220567         37   среднее             1   \n",
       "12736         0    2194.220567         59   среднее             1   \n",
       "13025         1    2194.220567         44   среднее             1   \n",
       "13639         0    2194.220567         64   среднее             1   \n",
       "13773         0    2194.220567         35   среднее             1   \n",
       "13878         1    2194.220567         31   среднее             1   \n",
       "13942         0    2194.220567         44   среднее             1   \n",
       "14432         2    2194.220567         36    высшее             0   \n",
       "14832         0    2194.220567         50   среднее             1   \n",
       "15091         0    2194.220567         58   среднее             1   \n",
       "15188         0    2194.220567         60   среднее             1   \n",
       "15273         0    2194.220567         57   среднее             1   \n",
       "16176         0    2194.220567         47   среднее             1   \n",
       "16378         0    2194.220567         46   среднее             1   \n",
       "16902         2    2194.220567         39   среднее             1   \n",
       "16904         1    2194.220567         32    высшее             0   \n",
       "17379         0    2194.220567         54    высшее             0   \n",
       "17755         1    2194.220567         43   среднее             1   \n",
       "17774         1    2194.220567         40   среднее             1   \n",
       "18328         0    2194.220567         29    высшее             0   \n",
       "18349         1    2194.220567         30    высшее             0   \n",
       "18428         0    2194.220567         64   среднее             1   \n",
       "18521         0    2194.220567         56   среднее             1   \n",
       "18563         0    2194.220567         54   среднее             1   \n",
       "18755         0    2194.220567         58   среднее             1   \n",
       "19041         0    2194.220567         56   среднее             1   \n",
       "19184         0    2194.220567         46   среднее             1   \n",
       "19321         0    2194.220567         23   среднее             1   \n",
       "19387         0    2194.220567         38    высшее             0   \n",
       "19688         0    2194.220567         61   среднее             1   \n",
       "19832         0    2194.220567         48   среднее             1   \n",
       "19946         0    2194.220567         57   среднее             1   \n",
       "20116         0    2194.220567         57   среднее             1   \n",
       "20165         0    2194.220567         42   среднее             1   \n",
       "20702         0    2194.220567         64   среднее             1   \n",
       "21032         0    2194.220567         60   среднее             1   \n",
       "21132         0    2194.220567         47   среднее             1   \n",
       "21281         1    2194.220567         30    высшее             0   \n",
       "21415         0    2194.220567         54   среднее             1   \n",
       "\n",
       "               family_status  family_status_id gender  income_type  debt  \\\n",
       "2849         женат / замужем                 0      F    сотрудник     0   \n",
       "4182        гражданский брак                 1      F    сотрудник     0   \n",
       "4851        гражданский брак                 1      F    пенсионер     0   \n",
       "5557        гражданский брак                 1      F    пенсионер     0   \n",
       "7808        гражданский брак                 1      F    пенсионер     0   \n",
       "8583   Не женат / не замужем                 4      F    пенсионер     0   \n",
       "9238         женат / замужем                 0      F    сотрудник     0   \n",
       "9528          вдовец / вдова                 2      F    пенсионер     0   \n",
       "9627         женат / замужем                 0      F    пенсионер     0   \n",
       "10462        женат / замужем                 0      F    пенсионер     0   \n",
       "10697       гражданский брак                 1      F    компаньон     0   \n",
       "10864        женат / замужем                 0      F    пенсионер     0   \n",
       "10994        женат / замужем                 0      F    пенсионер     0   \n",
       "11791        женат / замужем                 0      F    сотрудник     0   \n",
       "12373        женат / замужем                 0      M    сотрудник     0   \n",
       "12375        женат / замужем                 0      F    сотрудник     0   \n",
       "12736        женат / замужем                 0      F    пенсионер     0   \n",
       "13025        женат / замужем                 0      F    сотрудник     0   \n",
       "13639        женат / замужем                 0      F    пенсионер     0   \n",
       "13773       гражданский брак                 1      F    сотрудник     0   \n",
       "13878        женат / замужем                 0      F    компаньон     0   \n",
       "13942        женат / замужем                 0      F    сотрудник     0   \n",
       "14432        женат / замужем                 0      F  госслужащий     0   \n",
       "14832  Не женат / не замужем                 4      F    сотрудник     0   \n",
       "15091       гражданский брак                 1      M    сотрудник     0   \n",
       "15188        женат / замужем                 0      M    сотрудник     0   \n",
       "15273       гражданский брак                 1      F    пенсионер     0   \n",
       "16176        женат / замужем                 0      F    сотрудник     0   \n",
       "16378        женат / замужем                 0      F    сотрудник     0   \n",
       "16902       гражданский брак                 1      F    сотрудник     0   \n",
       "16904        женат / замужем                 0      F    сотрудник     0   \n",
       "17379        женат / замужем                 0      M    компаньон     0   \n",
       "17755        женат / замужем                 0      M    сотрудник     0   \n",
       "17774       гражданский брак                 1      F    компаньон     0   \n",
       "18328        женат / замужем                 0      M    сотрудник     0   \n",
       "18349        женат / замужем                 0      F  госслужащий     0   \n",
       "18428        женат / замужем                 0      F    пенсионер     0   \n",
       "18521       гражданский брак                 1      F    сотрудник     0   \n",
       "18563        женат / замужем                 0      F    сотрудник     0   \n",
       "18755        женат / замужем                 0      F    пенсионер     0   \n",
       "19041       гражданский брак                 1      F    сотрудник     0   \n",
       "19184        женат / замужем                 0      F    сотрудник     0   \n",
       "19321  Не женат / не замужем                 4      F    сотрудник     0   \n",
       "19387       гражданский брак                 1      F    компаньон     0   \n",
       "19688        женат / замужем                 0      F    пенсионер     0   \n",
       "19832        женат / замужем                 0      F    сотрудник     0   \n",
       "19946        женат / замужем                 0      F    сотрудник     0   \n",
       "20116       гражданский брак                 1      M    пенсионер     0   \n",
       "20165        женат / замужем                 0      F    сотрудник     0   \n",
       "20702        женат / замужем                 0      F    пенсионер     0   \n",
       "21032        женат / замужем                 0      F    пенсионер     0   \n",
       "21132        женат / замужем                 0      F    сотрудник     0   \n",
       "21281        женат / замужем                 0      F    сотрудник     0   \n",
       "21415        женат / замужем                 0      F    пенсионер     0   \n",
       "\n",
       "       total_income                                purpose  \n",
       "2849         145017                покупка жилья для семьи  \n",
       "4182         145017                                свадьба  \n",
       "4851         145017                                свадьба  \n",
       "5557         145017                        сыграть свадьбу  \n",
       "7808         145017                  на проведение свадьбы  \n",
       "8583         145017             дополнительное образование  \n",
       "9238         145017                покупка жилья для сдачи  \n",
       "9528         145017        операции со своей недвижимостью  \n",
       "9627         145017        операции со своей недвижимостью  \n",
       "10462        145017      покупка коммерческой недвижимости  \n",
       "10697        145017                        сыграть свадьбу  \n",
       "10864        145017                           ремонт жилью  \n",
       "10994        145017                           ремонт жилью  \n",
       "11791        145017             строительство недвижимости  \n",
       "12373        145017                   покупка недвижимости  \n",
       "12375        145017                   покупка недвижимости  \n",
       "12736        145017                  заняться образованием  \n",
       "13025        145017       сделка с подержанным автомобилем  \n",
       "13639        145017                             автомобиль  \n",
       "13773        145017                        сыграть свадьбу  \n",
       "13878        145017                          покупка жилья  \n",
       "13942        145017                приобретение автомобиля  \n",
       "14432        145017                  получение образования  \n",
       "14832        145017                           недвижимость  \n",
       "15091        145017                  на проведение свадьбы  \n",
       "15188        145017                   покупка недвижимости  \n",
       "15273        145017                                свадьба  \n",
       "16176        145017                           ремонт жилью  \n",
       "16378        145017                     высшее образование  \n",
       "16902        145017                        сыграть свадьбу  \n",
       "16904        145017     на покупку подержанного автомобиля  \n",
       "17379        145017  операции с коммерческой недвижимостью  \n",
       "17755        145017                  заняться образованием  \n",
       "17774        145017       строительство жилой недвижимости  \n",
       "18328        145017             покупка жилой недвижимости  \n",
       "18349        145017                покупка жилья для семьи  \n",
       "18428        145017                                  жилье  \n",
       "18521        145017                        сыграть свадьбу  \n",
       "18563        145017        операции со своей недвижимостью  \n",
       "18755        145017                  заняться образованием  \n",
       "19041        145017                  на проведение свадьбы  \n",
       "19184        145017                        свой автомобиль  \n",
       "19321        145017       сделка с подержанным автомобилем  \n",
       "19387        145017                  на проведение свадьбы  \n",
       "19688        145017               операции с недвижимостью  \n",
       "19832        145017                           ремонт жилью  \n",
       "19946        145017       сделка с подержанным автомобилем  \n",
       "20116        145017                                свадьба  \n",
       "20165        145017                покупка жилья для семьи  \n",
       "20702        145017             дополнительное образование  \n",
       "21032        145017                  заняться образованием  \n",
       "21132        145017                           ремонт жилью  \n",
       "21281        145017      покупка коммерческой недвижимости  \n",
       "21415        145017                      операции с жильем  "
      ]
     },
     "execution_count": 119,
     "metadata": {},
     "output_type": "execute_result"
    }
   ],
   "source": [
    "data[data.duplicated()]"
   ]
  },
  {
   "cell_type": "code",
   "execution_count": 120,
   "id": "3fc0a1ab",
   "metadata": {},
   "outputs": [],
   "source": [
    "data = data.drop_duplicates().reset_index(drop = True) #удаляем явные дубликаты"
   ]
  },
  {
   "cell_type": "markdown",
   "id": "66120d56",
   "metadata": {},
   "source": [
    "<div class=\"alert alert-success\">\n",
    "<h2> Комментарий ревьюера ✔️ <a class=\"tocSkip\"> </h2>\n",
    "\n",
    "Все круто. Сбросить индексы - отличное решение, на мой взгляд, так лучше."
   ]
  },
  {
   "cell_type": "code",
   "execution_count": 121,
   "id": "b2338685",
   "metadata": {},
   "outputs": [
    {
     "data": {
      "text/plain": [
       "0"
      ]
     },
     "execution_count": 121,
     "metadata": {},
     "output_type": "execute_result"
    }
   ],
   "source": [
    "data.duplicated().sum()"
   ]
  },
  {
   "cell_type": "code",
   "execution_count": 122,
   "id": "00b557ad",
   "metadata": {},
   "outputs": [
    {
     "data": {
      "text/plain": [
       "education            education_id\n",
       "ВЫСШЕЕ               0                 273\n",
       "Высшее               0                 268\n",
       "НАЧАЛЬНОЕ            3                  17\n",
       "НЕОКОНЧЕННОЕ ВЫСШЕЕ  2                  29\n",
       "Начальное            3                  15\n",
       "Неоконченное высшее  2                  47\n",
       "СРЕДНЕЕ              1                 772\n",
       "Среднее              1                 711\n",
       "УЧЕНАЯ СТЕПЕНЬ       4                   1\n",
       "Ученая степень       4                   1\n",
       "высшее               0                4710\n",
       "начальное            3                 250\n",
       "неоконченное высшее  2                 667\n",
       "среднее              1               13705\n",
       "ученая степень       4                   4\n",
       "Name: education_id, dtype: int64"
      ]
     },
     "execution_count": 122,
     "metadata": {},
     "output_type": "execute_result"
    }
   ],
   "source": [
    "data.groupby('education')['education_id'].value_counts() #проверка неявных дубликатов"
   ]
  },
  {
   "cell_type": "code",
   "execution_count": 123,
   "id": "67749793",
   "metadata": {},
   "outputs": [],
   "source": [
    "data['education'] = data['education'].str.lower() #приводим значения в столбце 'education' к нижнему регистру"
   ]
  },
  {
   "cell_type": "code",
   "execution_count": 124,
   "id": "ce948342",
   "metadata": {},
   "outputs": [
    {
     "data": {
      "text/plain": [
       "education            education_id\n",
       "высшее               0                5251\n",
       "начальное            3                 282\n",
       "неоконченное высшее  2                 743\n",
       "среднее              1               15188\n",
       "ученая степень       4                   6\n",
       "Name: education_id, dtype: int64"
      ]
     },
     "execution_count": 124,
     "metadata": {},
     "output_type": "execute_result"
    }
   ],
   "source": [
    "data.groupby('education')['education_id'].value_counts() #дубликатов нет"
   ]
  },
  {
   "cell_type": "code",
   "execution_count": 125,
   "id": "eb69ee1e",
   "metadata": {},
   "outputs": [
    {
     "data": {
      "text/plain": [
       "family_status          family_status_id\n",
       "Не женат / не замужем  4                    2810\n",
       "в разводе              3                    1195\n",
       "вдовец / вдова         2                     959\n",
       "гражданский брак       1                    4162\n",
       "женат / замужем        0                   12344\n",
       "Name: family_status_id, dtype: int64"
      ]
     },
     "execution_count": 125,
     "metadata": {},
     "output_type": "execute_result"
    }
   ],
   "source": [
    "data.groupby('family_status')['family_status_id'].value_counts() #проверка неявных дубликатов "
   ]
  },
  {
   "cell_type": "code",
   "execution_count": 126,
   "id": "9272853c",
   "metadata": {},
   "outputs": [],
   "source": [
    "data['family_status'] = data['family_status'].str.lower() #приводим значения в столбце 'family_status' к нижнему регистру"
   ]
  },
  {
   "cell_type": "code",
   "execution_count": 127,
   "id": "fa0542b3",
   "metadata": {},
   "outputs": [
    {
     "data": {
      "text/plain": [
       "family_status          family_status_id\n",
       "в разводе              3                    1195\n",
       "вдовец / вдова         2                     959\n",
       "гражданский брак       1                    4162\n",
       "женат / замужем        0                   12344\n",
       "не женат / не замужем  4                    2810\n",
       "Name: family_status_id, dtype: int64"
      ]
     },
     "execution_count": 127,
     "metadata": {},
     "output_type": "execute_result"
    }
   ],
   "source": [
    "data.groupby('family_status')['family_status_id'].value_counts() #дубликатов нет"
   ]
  },
  {
   "cell_type": "code",
   "execution_count": 128,
   "id": "33369b5d",
   "metadata": {},
   "outputs": [
    {
     "data": {
      "text/plain": [
       "income_type\n",
       "безработный        [1, 0]\n",
       "в декрете             [1]\n",
       "госслужащий        [0, 1]\n",
       "компаньон          [0, 1]\n",
       "пенсионер          [0, 1]\n",
       "предприниматель       [0]\n",
       "сотрудник          [0, 1]\n",
       "студент               [0]\n",
       "Name: debt, dtype: object"
      ]
     },
     "execution_count": 128,
     "metadata": {},
     "output_type": "execute_result"
    }
   ],
   "source": [
    "data.groupby('income_type')['debt'].unique() #в столбце 'income_type' дубликатов нет."
   ]
  },
  {
   "cell_type": "code",
   "execution_count": 129,
   "id": "1b622ffa",
   "metadata": {},
   "outputs": [
    {
     "data": {
      "text/plain": [
       "purpose\n",
       "автомобили                                                            [автомобили]\n",
       "автомобиль                                                            [автомобиль]\n",
       "высшее образование                                            [высшее образование]\n",
       "дополнительное образование                            [дополнительное образование]\n",
       "жилье                                                                      [жилье]\n",
       "заняться высшим образованием                        [заняться высшим образованием]\n",
       "заняться образованием                                      [заняться образованием]\n",
       "на покупку автомобиля                                      [на покупку автомобиля]\n",
       "на покупку подержанного автомобиля            [на покупку подержанного автомобиля]\n",
       "на покупку своего автомобиля                        [на покупку своего автомобиля]\n",
       "на проведение свадьбы                                      [на проведение свадьбы]\n",
       "недвижимость                                                        [недвижимость]\n",
       "образование                                                          [образование]\n",
       "операции с жильем                                              [операции с жильем]\n",
       "операции с коммерческой недвижимостью      [операции с коммерческой недвижимостью]\n",
       "операции с недвижимостью                                [операции с недвижимостью]\n",
       "операции со своей недвижимостью                  [операции со своей недвижимостью]\n",
       "покупка жилой недвижимости                            [покупка жилой недвижимости]\n",
       "покупка жилья                                                      [покупка жилья]\n",
       "покупка жилья для сдачи                                  [покупка жилья для сдачи]\n",
       "покупка жилья для семьи                                  [покупка жилья для семьи]\n",
       "покупка коммерческой недвижимости              [покупка коммерческой недвижимости]\n",
       "покупка недвижимости                                        [покупка недвижимости]\n",
       "покупка своего жилья                                        [покупка своего жилья]\n",
       "получение высшего образования                      [получение высшего образования]\n",
       "получение дополнительного образования      [получение дополнительного образования]\n",
       "получение образования                                      [получение образования]\n",
       "приобретение автомобиля                                  [приобретение автомобиля]\n",
       "профильное образование                                    [профильное образование]\n",
       "ремонт жилью                                                        [ремонт жилью]\n",
       "свадьба                                                                  [свадьба]\n",
       "свой автомобиль                                                  [свой автомобиль]\n",
       "сделка с автомобилем                                        [сделка с автомобилем]\n",
       "сделка с подержанным автомобилем                [сделка с подержанным автомобилем]\n",
       "строительство жилой недвижимости                [строительство жилой недвижимости]\n",
       "строительство недвижимости                            [строительство недвижимости]\n",
       "строительство собственной недвижимости    [строительство собственной недвижимости]\n",
       "сыграть свадьбу                                                  [сыграть свадьбу]\n",
       "Name: purpose, dtype: object"
      ]
     },
     "execution_count": 129,
     "metadata": {},
     "output_type": "execute_result"
    }
   ],
   "source": [
    "data.groupby('purpose')['purpose'].unique()"
   ]
  },
  {
   "cell_type": "code",
   "execution_count": 130,
   "id": "41155c03",
   "metadata": {},
   "outputs": [],
   "source": [
    "data['purpose'] = data['purpose'].str.lower() #приводим значения в столбце 'purpose' к нижнему регистру"
   ]
  },
  {
   "cell_type": "markdown",
   "id": "0f4058d8",
   "metadata": {},
   "source": [
    "Разбиваем по категориям: 'недвижимость', 'автомобиль', 'образование', 'свадьба'"
   ]
  },
  {
   "cell_type": "code",
   "execution_count": 131,
   "id": "7c127b3b",
   "metadata": {},
   "outputs": [
    {
     "data": {
      "text/plain": [
       "array(['недвижимость', 'автомобиль', 'образование', 'свадьба'],\n",
       "      dtype=object)"
      ]
     },
     "execution_count": 131,
     "metadata": {},
     "output_type": "execute_result"
    }
   ],
   "source": [
    "\n",
    "def new_purpose(lemmas):     \n",
    "        if 'авто' in lemmas:\n",
    "            return 'автомобиль'\n",
    "        if 'образов' in lemmas:\n",
    "            return 'образование'\n",
    "        if 'свад' in lemmas:\n",
    "            return 'свадьба'\n",
    "        if 'недвиж' in lemmas:\n",
    "            return 'недвижимость'\n",
    "        if 'жиль' in lemmas:\n",
    "            return 'недвижимость'\n",
    "\n",
    "new_purpose(data['purpose'])\n",
    "data.head()\n",
    "data['new_purpose'] = data['purpose'].apply(new_purpose)\n",
    "data['new_purpose'].unique()"
   ]
  },
  {
   "cell_type": "markdown",
   "id": "10ed17e2",
   "metadata": {},
   "source": [
    "ВЫВОД:\n",
    "Дубликаты в основном связаны с человеческим фактором.\n"
   ]
  },
  {
   "cell_type": "markdown",
   "id": "f496072d",
   "metadata": {},
   "source": [
    "### Формирование дополнительных датафреймов словарей, декомпозиция исходного датафрейма."
   ]
  },
  {
   "cell_type": "code",
   "execution_count": 134,
   "id": "43ca0d0d",
   "metadata": {},
   "outputs": [
    {
     "data": {
      "text/html": [
       "<div>\n",
       "<style scoped>\n",
       "    .dataframe tbody tr th:only-of-type {\n",
       "        vertical-align: middle;\n",
       "    }\n",
       "\n",
       "    .dataframe tbody tr th {\n",
       "        vertical-align: top;\n",
       "    }\n",
       "\n",
       "    .dataframe thead th {\n",
       "        text-align: right;\n",
       "    }\n",
       "</style>\n",
       "<table border=\"1\" class=\"dataframe\">\n",
       "  <thead>\n",
       "    <tr style=\"text-align: right;\">\n",
       "      <th></th>\n",
       "      <th>children</th>\n",
       "      <th>days_employed</th>\n",
       "      <th>dob_years</th>\n",
       "      <th>education</th>\n",
       "      <th>education_id</th>\n",
       "      <th>family_status</th>\n",
       "      <th>family_status_id</th>\n",
       "      <th>gender</th>\n",
       "      <th>income_type</th>\n",
       "      <th>debt</th>\n",
       "      <th>total_income</th>\n",
       "      <th>purpose</th>\n",
       "      <th>new_purpose</th>\n",
       "    </tr>\n",
       "  </thead>\n",
       "  <tbody>\n",
       "    <tr>\n",
       "      <th>0</th>\n",
       "      <td>1</td>\n",
       "      <td>8437.673028</td>\n",
       "      <td>42</td>\n",
       "      <td>высшее</td>\n",
       "      <td>0</td>\n",
       "      <td>женат / замужем</td>\n",
       "      <td>0</td>\n",
       "      <td>F</td>\n",
       "      <td>сотрудник</td>\n",
       "      <td>0</td>\n",
       "      <td>253875</td>\n",
       "      <td>покупка жилья</td>\n",
       "      <td>недвижимость</td>\n",
       "    </tr>\n",
       "    <tr>\n",
       "      <th>1</th>\n",
       "      <td>1</td>\n",
       "      <td>4024.803754</td>\n",
       "      <td>36</td>\n",
       "      <td>среднее</td>\n",
       "      <td>1</td>\n",
       "      <td>женат / замужем</td>\n",
       "      <td>0</td>\n",
       "      <td>F</td>\n",
       "      <td>сотрудник</td>\n",
       "      <td>0</td>\n",
       "      <td>112080</td>\n",
       "      <td>приобретение автомобиля</td>\n",
       "      <td>автомобиль</td>\n",
       "    </tr>\n",
       "    <tr>\n",
       "      <th>2</th>\n",
       "      <td>0</td>\n",
       "      <td>5623.422610</td>\n",
       "      <td>33</td>\n",
       "      <td>среднее</td>\n",
       "      <td>1</td>\n",
       "      <td>женат / замужем</td>\n",
       "      <td>0</td>\n",
       "      <td>M</td>\n",
       "      <td>сотрудник</td>\n",
       "      <td>0</td>\n",
       "      <td>145885</td>\n",
       "      <td>покупка жилья</td>\n",
       "      <td>недвижимость</td>\n",
       "    </tr>\n",
       "    <tr>\n",
       "      <th>3</th>\n",
       "      <td>3</td>\n",
       "      <td>4124.747207</td>\n",
       "      <td>32</td>\n",
       "      <td>среднее</td>\n",
       "      <td>1</td>\n",
       "      <td>женат / замужем</td>\n",
       "      <td>0</td>\n",
       "      <td>M</td>\n",
       "      <td>сотрудник</td>\n",
       "      <td>0</td>\n",
       "      <td>267628</td>\n",
       "      <td>дополнительное образование</td>\n",
       "      <td>образование</td>\n",
       "    </tr>\n",
       "    <tr>\n",
       "      <th>4</th>\n",
       "      <td>0</td>\n",
       "      <td>340266.072047</td>\n",
       "      <td>53</td>\n",
       "      <td>среднее</td>\n",
       "      <td>1</td>\n",
       "      <td>гражданский брак</td>\n",
       "      <td>1</td>\n",
       "      <td>F</td>\n",
       "      <td>пенсионер</td>\n",
       "      <td>0</td>\n",
       "      <td>158616</td>\n",
       "      <td>сыграть свадьбу</td>\n",
       "      <td>свадьба</td>\n",
       "    </tr>\n",
       "  </tbody>\n",
       "</table>\n",
       "</div>"
      ],
      "text/plain": [
       "   children  days_employed  dob_years education  education_id  \\\n",
       "0         1    8437.673028         42    высшее             0   \n",
       "1         1    4024.803754         36   среднее             1   \n",
       "2         0    5623.422610         33   среднее             1   \n",
       "3         3    4124.747207         32   среднее             1   \n",
       "4         0  340266.072047         53   среднее             1   \n",
       "\n",
       "      family_status  family_status_id gender income_type  debt  total_income  \\\n",
       "0   женат / замужем                 0      F   сотрудник     0        253875   \n",
       "1   женат / замужем                 0      F   сотрудник     0        112080   \n",
       "2   женат / замужем                 0      M   сотрудник     0        145885   \n",
       "3   женат / замужем                 0      M   сотрудник     0        267628   \n",
       "4  гражданский брак                 1      F   пенсионер     0        158616   \n",
       "\n",
       "                      purpose   new_purpose  \n",
       "0               покупка жилья  недвижимость  \n",
       "1     приобретение автомобиля    автомобиль  \n",
       "2               покупка жилья  недвижимость  \n",
       "3  дополнительное образование   образование  \n",
       "4             сыграть свадьбу       свадьба  "
      ]
     },
     "execution_count": 134,
     "metadata": {},
     "output_type": "execute_result"
    }
   ],
   "source": [
    "data.head()"
   ]
  },
  {
   "cell_type": "code",
   "execution_count": 135,
   "id": "8a0fd1db",
   "metadata": {},
   "outputs": [
    {
     "data": {
      "text/html": [
       "<div>\n",
       "<style scoped>\n",
       "    .dataframe tbody tr th:only-of-type {\n",
       "        vertical-align: middle;\n",
       "    }\n",
       "\n",
       "    .dataframe tbody tr th {\n",
       "        vertical-align: top;\n",
       "    }\n",
       "\n",
       "    .dataframe thead th {\n",
       "        text-align: right;\n",
       "    }\n",
       "</style>\n",
       "<table border=\"1\" class=\"dataframe\">\n",
       "  <thead>\n",
       "    <tr style=\"text-align: right;\">\n",
       "      <th></th>\n",
       "      <th>education</th>\n",
       "      <th>education_id</th>\n",
       "    </tr>\n",
       "  </thead>\n",
       "  <tbody>\n",
       "    <tr>\n",
       "      <th>0</th>\n",
       "      <td>высшее</td>\n",
       "      <td>0</td>\n",
       "    </tr>\n",
       "    <tr>\n",
       "      <th>1</th>\n",
       "      <td>среднее</td>\n",
       "      <td>1</td>\n",
       "    </tr>\n",
       "    <tr>\n",
       "      <th>2</th>\n",
       "      <td>неоконченное высшее</td>\n",
       "      <td>2</td>\n",
       "    </tr>\n",
       "    <tr>\n",
       "      <th>3</th>\n",
       "      <td>начальное</td>\n",
       "      <td>3</td>\n",
       "    </tr>\n",
       "    <tr>\n",
       "      <th>4</th>\n",
       "      <td>ученая степень</td>\n",
       "      <td>4</td>\n",
       "    </tr>\n",
       "  </tbody>\n",
       "</table>\n",
       "</div>"
      ],
      "text/plain": [
       "             education  education_id\n",
       "0               высшее             0\n",
       "1              среднее             1\n",
       "2  неоконченное высшее             2\n",
       "3            начальное             3\n",
       "4       ученая степень             4"
      ]
     },
     "execution_count": 135,
     "metadata": {},
     "output_type": "execute_result"
    }
   ],
   "source": [
    "data_education = data[['education', 'education_id']] #создание нового DataFrame\n",
    "data_education = data_education.drop_duplicates().sort_values(by = 'education_id').reset_index(drop = True)\n",
    "data_education"
   ]
  },
  {
   "cell_type": "code",
   "execution_count": 136,
   "id": "66899866",
   "metadata": {},
   "outputs": [
    {
     "data": {
      "text/html": [
       "<div>\n",
       "<style scoped>\n",
       "    .dataframe tbody tr th:only-of-type {\n",
       "        vertical-align: middle;\n",
       "    }\n",
       "\n",
       "    .dataframe tbody tr th {\n",
       "        vertical-align: top;\n",
       "    }\n",
       "\n",
       "    .dataframe thead th {\n",
       "        text-align: right;\n",
       "    }\n",
       "</style>\n",
       "<table border=\"1\" class=\"dataframe\">\n",
       "  <thead>\n",
       "    <tr style=\"text-align: right;\">\n",
       "      <th></th>\n",
       "      <th>family_status</th>\n",
       "      <th>family_status_id</th>\n",
       "    </tr>\n",
       "  </thead>\n",
       "  <tbody>\n",
       "    <tr>\n",
       "      <th>0</th>\n",
       "      <td>женат / замужем</td>\n",
       "      <td>0</td>\n",
       "    </tr>\n",
       "    <tr>\n",
       "      <th>1</th>\n",
       "      <td>гражданский брак</td>\n",
       "      <td>1</td>\n",
       "    </tr>\n",
       "    <tr>\n",
       "      <th>2</th>\n",
       "      <td>вдовец / вдова</td>\n",
       "      <td>2</td>\n",
       "    </tr>\n",
       "    <tr>\n",
       "      <th>3</th>\n",
       "      <td>в разводе</td>\n",
       "      <td>3</td>\n",
       "    </tr>\n",
       "    <tr>\n",
       "      <th>4</th>\n",
       "      <td>не женат / не замужем</td>\n",
       "      <td>4</td>\n",
       "    </tr>\n",
       "  </tbody>\n",
       "</table>\n",
       "</div>"
      ],
      "text/plain": [
       "           family_status  family_status_id\n",
       "0        женат / замужем                 0\n",
       "1       гражданский брак                 1\n",
       "2         вдовец / вдова                 2\n",
       "3              в разводе                 3\n",
       "4  не женат / не замужем                 4"
      ]
     },
     "execution_count": 136,
     "metadata": {},
     "output_type": "execute_result"
    }
   ],
   "source": [
    "data_family_status = data[['family_status', 'family_status_id']] #создание нового DataFrame\n",
    "data_family_status = data_family_status.drop_duplicates().sort_values(by = 'family_status_id').reset_index(drop = True)\n",
    "data_family_status\n"
   ]
  },
  {
   "cell_type": "code",
   "execution_count": 137,
   "id": "4cb84bb4",
   "metadata": {},
   "outputs": [
    {
     "data": {
      "text/html": [
       "<div>\n",
       "<style scoped>\n",
       "    .dataframe tbody tr th:only-of-type {\n",
       "        vertical-align: middle;\n",
       "    }\n",
       "\n",
       "    .dataframe tbody tr th {\n",
       "        vertical-align: top;\n",
       "    }\n",
       "\n",
       "    .dataframe thead th {\n",
       "        text-align: right;\n",
       "    }\n",
       "</style>\n",
       "<table border=\"1\" class=\"dataframe\">\n",
       "  <thead>\n",
       "    <tr style=\"text-align: right;\">\n",
       "      <th></th>\n",
       "      <th>children</th>\n",
       "      <th>days_employed</th>\n",
       "      <th>dob_years</th>\n",
       "      <th>education_id</th>\n",
       "      <th>family_status_id</th>\n",
       "      <th>gender</th>\n",
       "      <th>income_type</th>\n",
       "      <th>debt</th>\n",
       "      <th>total_income</th>\n",
       "      <th>purpose</th>\n",
       "    </tr>\n",
       "  </thead>\n",
       "  <tbody>\n",
       "    <tr>\n",
       "      <th>0</th>\n",
       "      <td>1</td>\n",
       "      <td>8437.673028</td>\n",
       "      <td>42</td>\n",
       "      <td>0</td>\n",
       "      <td>0</td>\n",
       "      <td>F</td>\n",
       "      <td>сотрудник</td>\n",
       "      <td>0</td>\n",
       "      <td>253875</td>\n",
       "      <td>покупка жилья</td>\n",
       "    </tr>\n",
       "    <tr>\n",
       "      <th>1</th>\n",
       "      <td>1</td>\n",
       "      <td>4024.803754</td>\n",
       "      <td>36</td>\n",
       "      <td>1</td>\n",
       "      <td>0</td>\n",
       "      <td>F</td>\n",
       "      <td>сотрудник</td>\n",
       "      <td>0</td>\n",
       "      <td>112080</td>\n",
       "      <td>приобретение автомобиля</td>\n",
       "    </tr>\n",
       "    <tr>\n",
       "      <th>2</th>\n",
       "      <td>0</td>\n",
       "      <td>5623.422610</td>\n",
       "      <td>33</td>\n",
       "      <td>1</td>\n",
       "      <td>0</td>\n",
       "      <td>M</td>\n",
       "      <td>сотрудник</td>\n",
       "      <td>0</td>\n",
       "      <td>145885</td>\n",
       "      <td>покупка жилья</td>\n",
       "    </tr>\n",
       "    <tr>\n",
       "      <th>3</th>\n",
       "      <td>3</td>\n",
       "      <td>4124.747207</td>\n",
       "      <td>32</td>\n",
       "      <td>1</td>\n",
       "      <td>0</td>\n",
       "      <td>M</td>\n",
       "      <td>сотрудник</td>\n",
       "      <td>0</td>\n",
       "      <td>267628</td>\n",
       "      <td>дополнительное образование</td>\n",
       "    </tr>\n",
       "    <tr>\n",
       "      <th>4</th>\n",
       "      <td>0</td>\n",
       "      <td>340266.072047</td>\n",
       "      <td>53</td>\n",
       "      <td>1</td>\n",
       "      <td>1</td>\n",
       "      <td>F</td>\n",
       "      <td>пенсионер</td>\n",
       "      <td>0</td>\n",
       "      <td>158616</td>\n",
       "      <td>сыграть свадьбу</td>\n",
       "    </tr>\n",
       "  </tbody>\n",
       "</table>\n",
       "</div>"
      ],
      "text/plain": [
       "   children  days_employed  dob_years  education_id  family_status_id gender  \\\n",
       "0         1    8437.673028         42             0                 0      F   \n",
       "1         1    4024.803754         36             1                 0      F   \n",
       "2         0    5623.422610         33             1                 0      M   \n",
       "3         3    4124.747207         32             1                 0      M   \n",
       "4         0  340266.072047         53             1                 1      F   \n",
       "\n",
       "  income_type  debt  total_income                     purpose  \n",
       "0   сотрудник     0        253875               покупка жилья  \n",
       "1   сотрудник     0        112080     приобретение автомобиля  \n",
       "2   сотрудник     0        145885               покупка жилья  \n",
       "3   сотрудник     0        267628  дополнительное образование  \n",
       "4   пенсионер     0        158616             сыграть свадьбу  "
      ]
     },
     "execution_count": 137,
     "metadata": {},
     "output_type": "execute_result"
    }
   ],
   "source": [
    "data = data[['children', 'days_employed', 'dob_years', 'education_id',\n",
    "       'family_status_id', 'gender', 'income_type', 'debt',\n",
    "       'total_income', 'purpose']]\n",
    "data.head()"
   ]
  },
  {
   "cell_type": "markdown",
   "id": "a24c7eea",
   "metadata": {},
   "source": [
    "### Категоризация дохода."
   ]
  },
  {
   "cell_type": "code",
   "execution_count": 139,
   "id": "0f634424",
   "metadata": {},
   "outputs": [
    {
     "data": {
      "text/html": [
       "<div>\n",
       "<style scoped>\n",
       "    .dataframe tbody tr th:only-of-type {\n",
       "        vertical-align: middle;\n",
       "    }\n",
       "\n",
       "    .dataframe tbody tr th {\n",
       "        vertical-align: top;\n",
       "    }\n",
       "\n",
       "    .dataframe thead th {\n",
       "        text-align: right;\n",
       "    }\n",
       "</style>\n",
       "<table border=\"1\" class=\"dataframe\">\n",
       "  <thead>\n",
       "    <tr style=\"text-align: right;\">\n",
       "      <th></th>\n",
       "      <th>children</th>\n",
       "      <th>days_employed</th>\n",
       "      <th>dob_years</th>\n",
       "      <th>education_id</th>\n",
       "      <th>family_status_id</th>\n",
       "      <th>gender</th>\n",
       "      <th>income_type</th>\n",
       "      <th>debt</th>\n",
       "      <th>total_income</th>\n",
       "      <th>purpose</th>\n",
       "      <th>total_income_category</th>\n",
       "    </tr>\n",
       "  </thead>\n",
       "  <tbody>\n",
       "    <tr>\n",
       "      <th>0</th>\n",
       "      <td>1</td>\n",
       "      <td>8437.673028</td>\n",
       "      <td>42</td>\n",
       "      <td>0</td>\n",
       "      <td>0</td>\n",
       "      <td>F</td>\n",
       "      <td>сотрудник</td>\n",
       "      <td>0</td>\n",
       "      <td>253875</td>\n",
       "      <td>покупка жилья</td>\n",
       "      <td>B</td>\n",
       "    </tr>\n",
       "    <tr>\n",
       "      <th>1</th>\n",
       "      <td>1</td>\n",
       "      <td>4024.803754</td>\n",
       "      <td>36</td>\n",
       "      <td>1</td>\n",
       "      <td>0</td>\n",
       "      <td>F</td>\n",
       "      <td>сотрудник</td>\n",
       "      <td>0</td>\n",
       "      <td>112080</td>\n",
       "      <td>приобретение автомобиля</td>\n",
       "      <td>C</td>\n",
       "    </tr>\n",
       "    <tr>\n",
       "      <th>2</th>\n",
       "      <td>0</td>\n",
       "      <td>5623.422610</td>\n",
       "      <td>33</td>\n",
       "      <td>1</td>\n",
       "      <td>0</td>\n",
       "      <td>M</td>\n",
       "      <td>сотрудник</td>\n",
       "      <td>0</td>\n",
       "      <td>145885</td>\n",
       "      <td>покупка жилья</td>\n",
       "      <td>C</td>\n",
       "    </tr>\n",
       "    <tr>\n",
       "      <th>3</th>\n",
       "      <td>3</td>\n",
       "      <td>4124.747207</td>\n",
       "      <td>32</td>\n",
       "      <td>1</td>\n",
       "      <td>0</td>\n",
       "      <td>M</td>\n",
       "      <td>сотрудник</td>\n",
       "      <td>0</td>\n",
       "      <td>267628</td>\n",
       "      <td>дополнительное образование</td>\n",
       "      <td>B</td>\n",
       "    </tr>\n",
       "    <tr>\n",
       "      <th>4</th>\n",
       "      <td>0</td>\n",
       "      <td>340266.072047</td>\n",
       "      <td>53</td>\n",
       "      <td>1</td>\n",
       "      <td>1</td>\n",
       "      <td>F</td>\n",
       "      <td>пенсионер</td>\n",
       "      <td>0</td>\n",
       "      <td>158616</td>\n",
       "      <td>сыграть свадьбу</td>\n",
       "      <td>C</td>\n",
       "    </tr>\n",
       "  </tbody>\n",
       "</table>\n",
       "</div>"
      ],
      "text/plain": [
       "   children  days_employed  dob_years  education_id  family_status_id gender  \\\n",
       "0         1    8437.673028         42             0                 0      F   \n",
       "1         1    4024.803754         36             1                 0      F   \n",
       "2         0    5623.422610         33             1                 0      M   \n",
       "3         3    4124.747207         32             1                 0      M   \n",
       "4         0  340266.072047         53             1                 1      F   \n",
       "\n",
       "  income_type  debt  total_income                     purpose  \\\n",
       "0   сотрудник     0        253875               покупка жилья   \n",
       "1   сотрудник     0        112080     приобретение автомобиля   \n",
       "2   сотрудник     0        145885               покупка жилья   \n",
       "3   сотрудник     0        267628  дополнительное образование   \n",
       "4   пенсионер     0        158616             сыграть свадьбу   \n",
       "\n",
       "  total_income_category  \n",
       "0                     B  \n",
       "1                     C  \n",
       "2                     C  \n",
       "3                     B  \n",
       "4                     C  "
      ]
     },
     "execution_count": 139,
     "metadata": {},
     "output_type": "execute_result"
    }
   ],
   "source": [
    "def total_income_category(data):\n",
    "    income = data['total_income']\n",
    "    if income <= 30000:\n",
    "        return 'E'\n",
    "    if 30001 <= income <= 50000:\n",
    "        return 'D'\n",
    "    if 50001 <= income <= 200000:\n",
    "        return 'C'\n",
    "    if 200001 <= income <= 1000000:\n",
    "        return 'B'\n",
    "    if income >= 1000001:\n",
    "        return 'A'\n",
    "    \n",
    "data['total_income_category'] = data.apply(total_income_category, axis = 1)\n",
    "data.head()\n",
    "    \n",
    "    \n",
    "    "
   ]
  },
  {
   "cell_type": "markdown",
   "id": "d4baee44",
   "metadata": {},
   "source": [
    "### Категоризация целей кредита."
   ]
  },
  {
   "cell_type": "code",
   "execution_count": 140,
   "id": "08613c02",
   "metadata": {},
   "outputs": [
    {
     "data": {
      "text/html": [
       "<div>\n",
       "<style scoped>\n",
       "    .dataframe tbody tr th:only-of-type {\n",
       "        vertical-align: middle;\n",
       "    }\n",
       "\n",
       "    .dataframe tbody tr th {\n",
       "        vertical-align: top;\n",
       "    }\n",
       "\n",
       "    .dataframe thead th {\n",
       "        text-align: right;\n",
       "    }\n",
       "</style>\n",
       "<table border=\"1\" class=\"dataframe\">\n",
       "  <thead>\n",
       "    <tr style=\"text-align: right;\">\n",
       "      <th></th>\n",
       "      <th>children</th>\n",
       "      <th>days_employed</th>\n",
       "      <th>dob_years</th>\n",
       "      <th>education_id</th>\n",
       "      <th>family_status_id</th>\n",
       "      <th>gender</th>\n",
       "      <th>income_type</th>\n",
       "      <th>debt</th>\n",
       "      <th>total_income</th>\n",
       "      <th>purpose</th>\n",
       "      <th>total_income_category</th>\n",
       "      <th>purpose_category</th>\n",
       "    </tr>\n",
       "  </thead>\n",
       "  <tbody>\n",
       "    <tr>\n",
       "      <th>0</th>\n",
       "      <td>1</td>\n",
       "      <td>8437.673028</td>\n",
       "      <td>42</td>\n",
       "      <td>0</td>\n",
       "      <td>0</td>\n",
       "      <td>F</td>\n",
       "      <td>сотрудник</td>\n",
       "      <td>0</td>\n",
       "      <td>253875</td>\n",
       "      <td>покупка жилья</td>\n",
       "      <td>B</td>\n",
       "      <td>None</td>\n",
       "    </tr>\n",
       "    <tr>\n",
       "      <th>1</th>\n",
       "      <td>1</td>\n",
       "      <td>4024.803754</td>\n",
       "      <td>36</td>\n",
       "      <td>1</td>\n",
       "      <td>0</td>\n",
       "      <td>F</td>\n",
       "      <td>сотрудник</td>\n",
       "      <td>0</td>\n",
       "      <td>112080</td>\n",
       "      <td>приобретение автомобиля</td>\n",
       "      <td>C</td>\n",
       "      <td>None</td>\n",
       "    </tr>\n",
       "    <tr>\n",
       "      <th>2</th>\n",
       "      <td>0</td>\n",
       "      <td>5623.422610</td>\n",
       "      <td>33</td>\n",
       "      <td>1</td>\n",
       "      <td>0</td>\n",
       "      <td>M</td>\n",
       "      <td>сотрудник</td>\n",
       "      <td>0</td>\n",
       "      <td>145885</td>\n",
       "      <td>покупка жилья</td>\n",
       "      <td>C</td>\n",
       "      <td>None</td>\n",
       "    </tr>\n",
       "    <tr>\n",
       "      <th>3</th>\n",
       "      <td>3</td>\n",
       "      <td>4124.747207</td>\n",
       "      <td>32</td>\n",
       "      <td>1</td>\n",
       "      <td>0</td>\n",
       "      <td>M</td>\n",
       "      <td>сотрудник</td>\n",
       "      <td>0</td>\n",
       "      <td>267628</td>\n",
       "      <td>дополнительное образование</td>\n",
       "      <td>B</td>\n",
       "      <td>None</td>\n",
       "    </tr>\n",
       "    <tr>\n",
       "      <th>4</th>\n",
       "      <td>0</td>\n",
       "      <td>340266.072047</td>\n",
       "      <td>53</td>\n",
       "      <td>1</td>\n",
       "      <td>1</td>\n",
       "      <td>F</td>\n",
       "      <td>пенсионер</td>\n",
       "      <td>0</td>\n",
       "      <td>158616</td>\n",
       "      <td>сыграть свадьбу</td>\n",
       "      <td>C</td>\n",
       "      <td>None</td>\n",
       "    </tr>\n",
       "  </tbody>\n",
       "</table>\n",
       "</div>"
      ],
      "text/plain": [
       "   children  days_employed  dob_years  education_id  family_status_id gender  \\\n",
       "0         1    8437.673028         42             0                 0      F   \n",
       "1         1    4024.803754         36             1                 0      F   \n",
       "2         0    5623.422610         33             1                 0      M   \n",
       "3         3    4124.747207         32             1                 0      M   \n",
       "4         0  340266.072047         53             1                 1      F   \n",
       "\n",
       "  income_type  debt  total_income                     purpose  \\\n",
       "0   сотрудник     0        253875               покупка жилья   \n",
       "1   сотрудник     0        112080     приобретение автомобиля   \n",
       "2   сотрудник     0        145885               покупка жилья   \n",
       "3   сотрудник     0        267628  дополнительное образование   \n",
       "4   пенсионер     0        158616             сыграть свадьбу   \n",
       "\n",
       "  total_income_category purpose_category  \n",
       "0                     B             None  \n",
       "1                     C             None  \n",
       "2                     C             None  \n",
       "3                     B             None  \n",
       "4                     C             None  "
      ]
     },
     "execution_count": 140,
     "metadata": {},
     "output_type": "execute_result"
    }
   ],
   "source": [
    "def purpose_category(data):\n",
    "    purpose = data['purpose']\n",
    "    if purpose == 'автомобиль':\n",
    "        return 'оперции с автомобилем'\n",
    "    if purpose == 'недвижимость':\n",
    "        return 'операции с недвижимостью'\n",
    "    if purpose == 'свадьба':\n",
    "        return 'проведение свадьбы'\n",
    "    if purpose == 'образование':\n",
    "        return 'получение образования'\n",
    "    \n",
    "    \n",
    "data['purpose_category'] = data.apply(purpose_category, axis = 1)\n",
    "data.head()"
   ]
  },
  {
   "cell_type": "markdown",
   "id": "d349c55c",
   "metadata": {},
   "source": [
    "## Ответы на вопросы."
   ]
  },
  {
   "cell_type": "markdown",
   "id": "3b42836e",
   "metadata": {},
   "source": [
    "### Вопрос 1:"
   ]
  },
  {
   "cell_type": "markdown",
   "id": "ca79911b",
   "metadata": {},
   "source": [
    "Зависимость между количеством детей и возвратом кредита в срок."
   ]
  },
  {
   "cell_type": "code",
   "execution_count": 141,
   "id": "f70fd082",
   "metadata": {},
   "outputs": [
    {
     "data": {
      "text/html": [
       "<div>\n",
       "<style scoped>\n",
       "    .dataframe tbody tr th:only-of-type {\n",
       "        vertical-align: middle;\n",
       "    }\n",
       "\n",
       "    .dataframe tbody tr th {\n",
       "        vertical-align: top;\n",
       "    }\n",
       "\n",
       "    .dataframe thead th {\n",
       "        text-align: right;\n",
       "    }\n",
       "</style>\n",
       "<table border=\"1\" class=\"dataframe\">\n",
       "  <thead>\n",
       "    <tr style=\"text-align: right;\">\n",
       "      <th></th>\n",
       "      <th>count_dept</th>\n",
       "      <th>sum_dept</th>\n",
       "      <th>result_dept</th>\n",
       "    </tr>\n",
       "    <tr>\n",
       "      <th>children</th>\n",
       "      <th></th>\n",
       "      <th></th>\n",
       "      <th></th>\n",
       "    </tr>\n",
       "  </thead>\n",
       "  <tbody>\n",
       "    <tr>\n",
       "      <th>4</th>\n",
       "      <td>41</td>\n",
       "      <td>4</td>\n",
       "      <td>0.097561</td>\n",
       "    </tr>\n",
       "    <tr>\n",
       "      <th>2</th>\n",
       "      <td>2128</td>\n",
       "      <td>202</td>\n",
       "      <td>0.094925</td>\n",
       "    </tr>\n",
       "    <tr>\n",
       "      <th>1</th>\n",
       "      <td>4856</td>\n",
       "      <td>445</td>\n",
       "      <td>0.091639</td>\n",
       "    </tr>\n",
       "    <tr>\n",
       "      <th>3</th>\n",
       "      <td>330</td>\n",
       "      <td>27</td>\n",
       "      <td>0.081818</td>\n",
       "    </tr>\n",
       "    <tr>\n",
       "      <th>0</th>\n",
       "      <td>14106</td>\n",
       "      <td>1063</td>\n",
       "      <td>0.075358</td>\n",
       "    </tr>\n",
       "    <tr>\n",
       "      <th>5</th>\n",
       "      <td>9</td>\n",
       "      <td>0</td>\n",
       "      <td>0.000000</td>\n",
       "    </tr>\n",
       "  </tbody>\n",
       "</table>\n",
       "</div>"
      ],
      "text/plain": [
       "          count_dept  sum_dept  result_dept\n",
       "children                                   \n",
       "4                 41         4     0.097561\n",
       "2               2128       202     0.094925\n",
       "1               4856       445     0.091639\n",
       "3                330        27     0.081818\n",
       "0              14106      1063     0.075358\n",
       "5                  9         0     0.000000"
      ]
     },
     "execution_count": 141,
     "metadata": {},
     "output_type": "execute_result"
    }
   ],
   "source": [
    "debt_children = pd.DataFrame()\n",
    "debt_children['count_dept'] = data.groupby('children')['debt'].count()\n",
    "debt_children['sum_dept'] = data.groupby('children')['debt'].sum()\n",
    "debt_children['result_dept'] = debt_children['sum_dept'] / debt_children['count_dept'] \n",
    "debt_children.sort_values('result_dept', ascending = False)"
   ]
  },
  {
   "cell_type": "code",
   "execution_count": 143,
   "id": "cc0f0c9a",
   "metadata": {},
   "outputs": [
    {
     "data": {
      "text/html": [
       "<div>\n",
       "<style scoped>\n",
       "    .dataframe tbody tr th:only-of-type {\n",
       "        vertical-align: middle;\n",
       "    }\n",
       "\n",
       "    .dataframe tbody tr th {\n",
       "        vertical-align: top;\n",
       "    }\n",
       "\n",
       "    .dataframe thead th {\n",
       "        text-align: right;\n",
       "    }\n",
       "</style>\n",
       "<table border=\"1\" class=\"dataframe\">\n",
       "  <thead>\n",
       "    <tr style=\"text-align: right;\">\n",
       "      <th></th>\n",
       "      <th>debt</th>\n",
       "    </tr>\n",
       "    <tr>\n",
       "      <th>children</th>\n",
       "      <th></th>\n",
       "    </tr>\n",
       "  </thead>\n",
       "  <tbody>\n",
       "    <tr>\n",
       "      <th>4</th>\n",
       "      <td>0.097561</td>\n",
       "    </tr>\n",
       "    <tr>\n",
       "      <th>2</th>\n",
       "      <td>0.094925</td>\n",
       "    </tr>\n",
       "    <tr>\n",
       "      <th>1</th>\n",
       "      <td>0.091639</td>\n",
       "    </tr>\n",
       "    <tr>\n",
       "      <th>3</th>\n",
       "      <td>0.081818</td>\n",
       "    </tr>\n",
       "    <tr>\n",
       "      <th>0</th>\n",
       "      <td>0.075358</td>\n",
       "    </tr>\n",
       "    <tr>\n",
       "      <th>5</th>\n",
       "      <td>0.000000</td>\n",
       "    </tr>\n",
       "  </tbody>\n",
       "</table>\n",
       "</div>"
      ],
      "text/plain": [
       "              debt\n",
       "children          \n",
       "4         0.097561\n",
       "2         0.094925\n",
       "1         0.091639\n",
       "3         0.081818\n",
       "0         0.075358\n",
       "5         0.000000"
      ]
     },
     "execution_count": 143,
     "metadata": {},
     "output_type": "execute_result"
    }
   ],
   "source": [
    "data.pivot_table(index = 'children', values = 'debt').sort_values(by='debt', ascending = False)"
   ]
  },
  {
   "cell_type": "code",
   "execution_count": 144,
   "id": "30e0e9e2",
   "metadata": {},
   "outputs": [
    {
     "data": {
      "text/html": [
       "<style  type=\"text/css\" >\n",
       "</style><table id=\"T_25307_\" ><thead>    <tr>        <th class=\"blank level0\" ></th>        <th class=\"col_heading level0 col0\" >Кол-во пользователей</th>        <th class=\"col_heading level0 col1\" >Кол-во должников</th>        <th class=\"col_heading level0 col2\" >% должников</th>        <th class=\"col_heading level0 col3\" >% НЕдолжников</th>    </tr>    <tr>        <th class=\"index_name level0\" >children_group</th>        <th class=\"blank\" ></th>        <th class=\"blank\" ></th>        <th class=\"blank\" ></th>        <th class=\"blank\" ></th>    </tr></thead><tbody>\n",
       "                <tr>\n",
       "                        <th id=\"T_25307_level0_row0\" class=\"row_heading level0 row0\" >Дети есть</th>\n",
       "                        <td id=\"T_25307_row0_col0\" class=\"data row0 col0\" >7364</td>\n",
       "                        <td id=\"T_25307_row0_col1\" class=\"data row0 col1\" >678</td>\n",
       "                        <td id=\"T_25307_row0_col2\" class=\"data row0 col2\" >9.21%</td>\n",
       "                        <td id=\"T_25307_row0_col3\" class=\"data row0 col3\" >90.79%</td>\n",
       "            </tr>\n",
       "            <tr>\n",
       "                        <th id=\"T_25307_level0_row1\" class=\"row_heading level0 row1\" >Нет детей</th>\n",
       "                        <td id=\"T_25307_row1_col0\" class=\"data row1 col0\" >14106</td>\n",
       "                        <td id=\"T_25307_row1_col1\" class=\"data row1 col1\" >1063</td>\n",
       "                        <td id=\"T_25307_row1_col2\" class=\"data row1 col2\" >7.54%</td>\n",
       "                        <td id=\"T_25307_row1_col3\" class=\"data row1 col3\" >92.46%</td>\n",
       "            </tr>\n",
       "    </tbody></table>"
      ],
      "text/plain": [
       "<pandas.io.formats.style.Styler at 0x7f7e293bdb20>"
      ]
     },
     "execution_count": 144,
     "metadata": {},
     "output_type": "execute_result"
    }
   ],
   "source": [
    "data['children_group'] = data['children'].apply(lambda x: 'Нет детей' if x == 0 else 'Дети есть')\n",
    "\n",
    "df_example = data.pivot_table(index = 'children_group', values = 'debt', \n",
    "                            aggfunc = ['count', 'sum', 'mean', lambda x: 1 - x.mean()])\n",
    "df_example.columns = ['Кол-во пользователей', 'Кол-во должников', '% должников', '% НЕдолжников']\n",
    "df_example.style.format({'% должников': '{:.2%}', '% НЕдолжников': '{:.2%}'})"
   ]
  },
  {
   "cell_type": "markdown",
   "id": "36ec0b5e",
   "metadata": {},
   "source": [
    "#### Вывод:"
   ]
  },
  {
   "cell_type": "markdown",
   "id": "8ba86e49",
   "metadata": {},
   "source": [
    "Исходя из данных самыми ответственными являются многодетные заемщики и заемщики без детей. Затем в порядке возрастания детей, за исключением случая с 3-мя детьми, растет безответственность в плане погашения кредита. "
   ]
  },
  {
   "cell_type": "markdown",
   "id": "d2d02fbb",
   "metadata": {},
   "source": [
    "### Вопрос 2:"
   ]
  },
  {
   "cell_type": "markdown",
   "id": "3a729e05",
   "metadata": {},
   "source": [
    "Зависимость между семейным положением и возвратом кредита в срок."
   ]
  },
  {
   "cell_type": "code",
   "execution_count": 145,
   "id": "af794735",
   "metadata": {},
   "outputs": [
    {
     "data": {
      "text/html": [
       "<div>\n",
       "<style scoped>\n",
       "    .dataframe tbody tr th:only-of-type {\n",
       "        vertical-align: middle;\n",
       "    }\n",
       "\n",
       "    .dataframe tbody tr th {\n",
       "        vertical-align: top;\n",
       "    }\n",
       "\n",
       "    .dataframe thead th {\n",
       "        text-align: right;\n",
       "    }\n",
       "</style>\n",
       "<table border=\"1\" class=\"dataframe\">\n",
       "  <thead>\n",
       "    <tr style=\"text-align: right;\">\n",
       "      <th></th>\n",
       "      <th>count_dept</th>\n",
       "      <th>sum_dept</th>\n",
       "      <th>result_dept</th>\n",
       "    </tr>\n",
       "    <tr>\n",
       "      <th>family_status_id</th>\n",
       "      <th></th>\n",
       "      <th></th>\n",
       "      <th></th>\n",
       "    </tr>\n",
       "  </thead>\n",
       "  <tbody>\n",
       "    <tr>\n",
       "      <th>4</th>\n",
       "      <td>2810</td>\n",
       "      <td>274</td>\n",
       "      <td>0.097509</td>\n",
       "    </tr>\n",
       "    <tr>\n",
       "      <th>1</th>\n",
       "      <td>4162</td>\n",
       "      <td>388</td>\n",
       "      <td>0.093224</td>\n",
       "    </tr>\n",
       "    <tr>\n",
       "      <th>0</th>\n",
       "      <td>12344</td>\n",
       "      <td>931</td>\n",
       "      <td>0.075421</td>\n",
       "    </tr>\n",
       "    <tr>\n",
       "      <th>3</th>\n",
       "      <td>1195</td>\n",
       "      <td>85</td>\n",
       "      <td>0.071130</td>\n",
       "    </tr>\n",
       "    <tr>\n",
       "      <th>2</th>\n",
       "      <td>959</td>\n",
       "      <td>63</td>\n",
       "      <td>0.065693</td>\n",
       "    </tr>\n",
       "  </tbody>\n",
       "</table>\n",
       "</div>"
      ],
      "text/plain": [
       "                  count_dept  sum_dept  result_dept\n",
       "family_status_id                                   \n",
       "4                       2810       274     0.097509\n",
       "1                       4162       388     0.093224\n",
       "0                      12344       931     0.075421\n",
       "3                       1195        85     0.071130\n",
       "2                        959        63     0.065693"
      ]
     },
     "execution_count": 145,
     "metadata": {},
     "output_type": "execute_result"
    }
   ],
   "source": [
    "debt_family_status = pd.DataFrame()\n",
    "debt_family_status['count_dept'] = data.groupby('family_status_id')['debt'].count()\n",
    "debt_family_status['sum_dept'] = data.groupby('family_status_id')['debt'].sum()\n",
    "debt_family_status['result_dept'] = debt_family_status['sum_dept'] / debt_family_status['count_dept'] \n",
    "debt_family_status.sort_values('result_dept', ascending = False)"
   ]
  },
  {
   "cell_type": "markdown",
   "id": "aba08ea3",
   "metadata": {},
   "source": [
    "#### Вывод:"
   ]
  },
  {
   "cell_type": "markdown",
   "id": "cf40c192",
   "metadata": {},
   "source": [
    "Самыми надежными заемщиками являются вдовцы и люди в разводе. Не женатые и неузаконившие свои отношения напротив меньше вызывют доверие. Женатые стабильно."
   ]
  },
  {
   "cell_type": "markdown",
   "id": "76f48cb9",
   "metadata": {},
   "source": [
    "### Вопрос 3:"
   ]
  },
  {
   "cell_type": "markdown",
   "id": "dda01897",
   "metadata": {},
   "source": [
    "Зависимость между уровнем дохода и возвратом кредита в срок."
   ]
  },
  {
   "cell_type": "code",
   "execution_count": 146,
   "id": "365a8270",
   "metadata": {},
   "outputs": [
    {
     "data": {
      "text/html": [
       "<div>\n",
       "<style scoped>\n",
       "    .dataframe tbody tr th:only-of-type {\n",
       "        vertical-align: middle;\n",
       "    }\n",
       "\n",
       "    .dataframe tbody tr th {\n",
       "        vertical-align: top;\n",
       "    }\n",
       "\n",
       "    .dataframe thead th {\n",
       "        text-align: right;\n",
       "    }\n",
       "</style>\n",
       "<table border=\"1\" class=\"dataframe\">\n",
       "  <thead>\n",
       "    <tr style=\"text-align: right;\">\n",
       "      <th></th>\n",
       "      <th>count_dept</th>\n",
       "      <th>sum_dept</th>\n",
       "      <th>result_dept</th>\n",
       "    </tr>\n",
       "    <tr>\n",
       "      <th>total_income_category</th>\n",
       "      <th></th>\n",
       "      <th></th>\n",
       "      <th></th>\n",
       "    </tr>\n",
       "  </thead>\n",
       "  <tbody>\n",
       "    <tr>\n",
       "      <th>E</th>\n",
       "      <td>22</td>\n",
       "      <td>2</td>\n",
       "      <td>0.090909</td>\n",
       "    </tr>\n",
       "    <tr>\n",
       "      <th>C</th>\n",
       "      <td>16033</td>\n",
       "      <td>1360</td>\n",
       "      <td>0.084825</td>\n",
       "    </tr>\n",
       "    <tr>\n",
       "      <th>A</th>\n",
       "      <td>25</td>\n",
       "      <td>2</td>\n",
       "      <td>0.080000</td>\n",
       "    </tr>\n",
       "    <tr>\n",
       "      <th>B</th>\n",
       "      <td>5040</td>\n",
       "      <td>356</td>\n",
       "      <td>0.070635</td>\n",
       "    </tr>\n",
       "    <tr>\n",
       "      <th>D</th>\n",
       "      <td>350</td>\n",
       "      <td>21</td>\n",
       "      <td>0.060000</td>\n",
       "    </tr>\n",
       "  </tbody>\n",
       "</table>\n",
       "</div>"
      ],
      "text/plain": [
       "                       count_dept  sum_dept  result_dept\n",
       "total_income_category                                   \n",
       "E                              22         2     0.090909\n",
       "C                           16033      1360     0.084825\n",
       "A                              25         2     0.080000\n",
       "B                            5040       356     0.070635\n",
       "D                             350        21     0.060000"
      ]
     },
     "execution_count": 146,
     "metadata": {},
     "output_type": "execute_result"
    }
   ],
   "source": [
    "debt_income = pd.DataFrame()\n",
    "debt_income['count_dept'] = data.groupby('total_income_category')['debt'].count()\n",
    "debt_income['sum_dept'] = data.groupby('total_income_category')['debt'].sum()\n",
    "debt_income['result_dept'] = debt_income['sum_dept'] / debt_income['count_dept'] \n",
    "debt_income.sort_values('result_dept', ascending = False)"
   ]
  },
  {
   "cell_type": "markdown",
   "id": "c4f9287e",
   "metadata": {},
   "source": [
    "#### Вывод:"
   ]
  },
  {
   "cell_type": "markdown",
   "id": "6b553a0f",
   "metadata": {},
   "source": [
    "Самыми ответственными заемщиками является средний класс. Затем с уровнем дохода падает и надежность заемщика."
   ]
  },
  {
   "cell_type": "markdown",
   "id": "ea50d7da",
   "metadata": {},
   "source": [
    "### Вопрос 4:"
   ]
  },
  {
   "cell_type": "markdown",
   "id": "dec8e948",
   "metadata": {},
   "source": [
    "Как разные цели кредита влияют на его возврат в срок."
   ]
  },
  {
   "cell_type": "code",
   "execution_count": 147,
   "id": "8dd9fb59",
   "metadata": {},
   "outputs": [
    {
     "data": {
      "text/html": [
       "<div>\n",
       "<style scoped>\n",
       "    .dataframe tbody tr th:only-of-type {\n",
       "        vertical-align: middle;\n",
       "    }\n",
       "\n",
       "    .dataframe tbody tr th {\n",
       "        vertical-align: top;\n",
       "    }\n",
       "\n",
       "    .dataframe thead th {\n",
       "        text-align: right;\n",
       "    }\n",
       "</style>\n",
       "<table border=\"1\" class=\"dataframe\">\n",
       "  <thead>\n",
       "    <tr style=\"text-align: right;\">\n",
       "      <th></th>\n",
       "      <th>count_dept</th>\n",
       "      <th>sum_dept</th>\n",
       "      <th>result_dept</th>\n",
       "    </tr>\n",
       "    <tr>\n",
       "      <th>purpose_category</th>\n",
       "      <th></th>\n",
       "      <th></th>\n",
       "      <th></th>\n",
       "    </tr>\n",
       "  </thead>\n",
       "  <tbody>\n",
       "    <tr>\n",
       "      <th>оперции с автомобилем</th>\n",
       "      <td>494</td>\n",
       "      <td>42</td>\n",
       "      <td>0.085020</td>\n",
       "    </tr>\n",
       "    <tr>\n",
       "      <th>проведение свадьбы</th>\n",
       "      <td>793</td>\n",
       "      <td>64</td>\n",
       "      <td>0.080706</td>\n",
       "    </tr>\n",
       "    <tr>\n",
       "      <th>получение образования</th>\n",
       "      <td>447</td>\n",
       "      <td>32</td>\n",
       "      <td>0.071588</td>\n",
       "    </tr>\n",
       "    <tr>\n",
       "      <th>операции с недвижимостью</th>\n",
       "      <td>633</td>\n",
       "      <td>42</td>\n",
       "      <td>0.066351</td>\n",
       "    </tr>\n",
       "  </tbody>\n",
       "</table>\n",
       "</div>"
      ],
      "text/plain": [
       "                          count_dept  sum_dept  result_dept\n",
       "purpose_category                                           \n",
       "оперции с автомобилем            494        42     0.085020\n",
       "проведение свадьбы               793        64     0.080706\n",
       "получение образования            447        32     0.071588\n",
       "операции с недвижимостью         633        42     0.066351"
      ]
     },
     "execution_count": 147,
     "metadata": {},
     "output_type": "execute_result"
    }
   ],
   "source": [
    "debt_purpose = pd.DataFrame()\n",
    "debt_purpose['count_dept'] = data.groupby('purpose_category')['debt'].count()\n",
    "debt_purpose['sum_dept'] = data.groupby('purpose_category')['debt'].sum()\n",
    "debt_purpose['result_dept'] = debt_purpose['sum_dept'] / debt_purpose['count_dept'] \n",
    "debt_purpose.sort_values('result_dept', ascending = False)"
   ]
  },
  {
   "cell_type": "markdown",
   "id": "b84c5d22",
   "metadata": {},
   "source": [
    "Заемщики на недвижимость и свадьбу самые надежные, а вот автомобилисты и студенты практически с одинаковой периодичностью вызывают вопросы."
   ]
  },
  {
   "cell_type": "markdown",
   "id": "b6e7792c",
   "metadata": {},
   "source": [
    "## Общий вывод:"
   ]
  },
  {
   "cell_type": "markdown",
   "id": "77c96c0f",
   "metadata": {},
   "source": [
    "Самые подозрительные это граждане с 2-мя и 4-мя детьми, холостые, люди с достатком ниже среднего по Москве, автомобилисты и студенты. Остальным можно смело давать кредиты. Но судя по всему лиц вызывающих подозрение - подавляющее большинство."
   ]
  }
 ],
 "metadata": {
  "ExecuteTimeLog": [
   {
    "duration": 629,
    "start_time": "2022-05-24T10:47:09.991Z"
   },
   {
    "duration": 91,
    "start_time": "2022-05-24T10:47:30.147Z"
   },
   {
    "duration": 81,
    "start_time": "2022-05-24T10:48:03.936Z"
   },
   {
    "duration": 75,
    "start_time": "2022-05-24T10:48:38.086Z"
   },
   {
    "duration": 77,
    "start_time": "2022-05-24T10:48:48.090Z"
   },
   {
    "duration": 15,
    "start_time": "2022-05-24T11:02:10.744Z"
   },
   {
    "duration": 30,
    "start_time": "2022-05-24T11:02:27.260Z"
   },
   {
    "duration": 12,
    "start_time": "2022-05-24T11:02:56.672Z"
   },
   {
    "duration": 13,
    "start_time": "2022-05-24T11:03:50.593Z"
   },
   {
    "duration": 10,
    "start_time": "2022-05-24T11:04:07.085Z"
   },
   {
    "duration": 14,
    "start_time": "2022-05-24T11:05:02.284Z"
   },
   {
    "duration": 12,
    "start_time": "2022-05-24T11:05:19.586Z"
   },
   {
    "duration": 17,
    "start_time": "2022-05-24T11:06:08.350Z"
   },
   {
    "duration": 23,
    "start_time": "2022-05-24T11:06:30.151Z"
   },
   {
    "duration": 23,
    "start_time": "2022-05-24T11:09:34.435Z"
   },
   {
    "duration": 66,
    "start_time": "2022-05-24T14:33:18.610Z"
   },
   {
    "duration": 1004,
    "start_time": "2022-05-24T14:33:44.018Z"
   },
   {
    "duration": 30,
    "start_time": "2022-05-24T14:33:49.605Z"
   },
   {
    "duration": 46,
    "start_time": "2022-05-24T14:48:09.046Z"
   },
   {
    "duration": 22,
    "start_time": "2022-05-24T14:48:42.194Z"
   },
   {
    "duration": 32,
    "start_time": "2022-05-24T14:49:30.605Z"
   },
   {
    "duration": 25,
    "start_time": "2022-05-24T14:56:01.410Z"
   },
   {
    "duration": 19,
    "start_time": "2022-05-24T14:56:21.635Z"
   },
   {
    "duration": 21,
    "start_time": "2022-05-24T15:04:11.388Z"
   },
   {
    "duration": 22,
    "start_time": "2022-05-24T15:07:33.801Z"
   },
   {
    "duration": 138,
    "start_time": "2022-05-24T15:10:02.615Z"
   },
   {
    "duration": 30,
    "start_time": "2022-05-24T15:10:31.514Z"
   },
   {
    "duration": 45,
    "start_time": "2022-05-24T15:11:06.557Z"
   },
   {
    "duration": 35,
    "start_time": "2022-05-24T15:11:14.052Z"
   },
   {
    "duration": 46,
    "start_time": "2022-05-24T15:14:55.859Z"
   },
   {
    "duration": 30,
    "start_time": "2022-05-24T15:15:29.694Z"
   },
   {
    "duration": 22,
    "start_time": "2022-05-24T15:16:28.918Z"
   },
   {
    "duration": 25,
    "start_time": "2022-05-24T15:16:57.062Z"
   },
   {
    "duration": 21,
    "start_time": "2022-05-24T15:17:35.498Z"
   },
   {
    "duration": 22,
    "start_time": "2022-05-24T15:19:34.304Z"
   },
   {
    "duration": 208,
    "start_time": "2022-05-24T15:22:25.229Z"
   },
   {
    "duration": 81,
    "start_time": "2022-05-24T15:22:43.873Z"
   },
   {
    "duration": 85,
    "start_time": "2022-05-24T15:23:57.709Z"
   },
   {
    "duration": 23,
    "start_time": "2022-05-24T15:24:01.095Z"
   },
   {
    "duration": 54,
    "start_time": "2022-05-24T15:29:01.921Z"
   },
   {
    "duration": 36,
    "start_time": "2022-05-24T15:29:30.873Z"
   },
   {
    "duration": 42,
    "start_time": "2022-05-24T15:42:04.342Z"
   },
   {
    "duration": 22,
    "start_time": "2022-05-24T15:43:44.622Z"
   },
   {
    "duration": 28,
    "start_time": "2022-05-24T15:44:37.701Z"
   },
   {
    "duration": 37,
    "start_time": "2022-05-24T15:51:12.256Z"
   },
   {
    "duration": 23,
    "start_time": "2022-05-24T15:51:29.403Z"
   },
   {
    "duration": 31,
    "start_time": "2022-05-24T15:53:20.396Z"
   },
   {
    "duration": 49,
    "start_time": "2022-05-24T15:54:56.928Z"
   },
   {
    "duration": 36,
    "start_time": "2022-05-24T15:55:35.541Z"
   },
   {
    "duration": 35,
    "start_time": "2022-05-24T16:06:07.425Z"
   },
   {
    "duration": 29,
    "start_time": "2022-05-24T16:06:47.824Z"
   },
   {
    "duration": 32,
    "start_time": "2022-05-24T16:07:17.033Z"
   },
   {
    "duration": 83,
    "start_time": "2022-05-25T09:13:04.318Z"
   },
   {
    "duration": 34,
    "start_time": "2022-05-25T09:13:06.700Z"
   },
   {
    "duration": 51,
    "start_time": "2022-05-25T12:30:25.726Z"
   },
   {
    "duration": 76,
    "start_time": "2022-05-25T12:30:57.920Z"
   },
   {
    "duration": 13,
    "start_time": "2022-05-25T12:31:56.942Z"
   },
   {
    "duration": 15,
    "start_time": "2022-05-25T12:32:07.884Z"
   },
   {
    "duration": 13,
    "start_time": "2022-05-25T12:32:22.596Z"
   },
   {
    "duration": 14,
    "start_time": "2022-05-25T12:32:38.014Z"
   },
   {
    "duration": 17,
    "start_time": "2022-05-25T12:34:32.921Z"
   },
   {
    "duration": 83,
    "start_time": "2022-05-25T12:34:40.131Z"
   },
   {
    "duration": 55,
    "start_time": "2022-05-25T12:34:42.033Z"
   },
   {
    "duration": 16,
    "start_time": "2022-05-25T12:34:51.632Z"
   },
   {
    "duration": 5,
    "start_time": "2022-05-25T12:35:54.331Z"
   },
   {
    "duration": 5,
    "start_time": "2022-05-25T12:36:22.519Z"
   },
   {
    "duration": 7,
    "start_time": "2022-05-25T12:54:02.281Z"
   },
   {
    "duration": 30,
    "start_time": "2022-05-25T20:07:35.757Z"
   },
   {
    "duration": 30,
    "start_time": "2022-05-25T20:09:00.103Z"
   },
   {
    "duration": 16,
    "start_time": "2022-05-25T20:09:34.134Z"
   },
   {
    "duration": 32,
    "start_time": "2022-05-25T20:10:27.836Z"
   },
   {
    "duration": 7,
    "start_time": "2022-05-25T20:14:05.682Z"
   },
   {
    "duration": 12,
    "start_time": "2022-05-25T20:15:59.952Z"
   },
   {
    "duration": 13,
    "start_time": "2022-05-25T20:16:15.601Z"
   },
   {
    "duration": 7,
    "start_time": "2022-05-25T20:16:47.052Z"
   },
   {
    "duration": 74,
    "start_time": "2022-05-25T20:19:10.705Z"
   },
   {
    "duration": 10,
    "start_time": "2022-05-25T20:20:36.646Z"
   },
   {
    "duration": 12,
    "start_time": "2022-05-25T20:23:29.779Z"
   },
   {
    "duration": 74,
    "start_time": "2022-05-25T20:24:10.754Z"
   },
   {
    "duration": 27,
    "start_time": "2022-05-25T20:24:20.455Z"
   },
   {
    "duration": 13,
    "start_time": "2022-05-25T20:24:27.460Z"
   },
   {
    "duration": 18,
    "start_time": "2022-05-25T20:24:51.582Z"
   },
   {
    "duration": 12,
    "start_time": "2022-05-25T20:26:14.185Z"
   },
   {
    "duration": 15,
    "start_time": "2022-05-25T20:27:16.434Z"
   },
   {
    "duration": 12,
    "start_time": "2022-05-25T20:27:31.376Z"
   },
   {
    "duration": 9,
    "start_time": "2022-05-25T20:28:08.097Z"
   },
   {
    "duration": 428,
    "start_time": "2022-05-25T20:40:04.194Z"
   },
   {
    "duration": 4,
    "start_time": "2022-05-25T20:47:53.883Z"
   },
   {
    "duration": 8,
    "start_time": "2022-05-25T20:49:38.651Z"
   },
   {
    "duration": 21,
    "start_time": "2022-05-25T20:50:19.055Z"
   },
   {
    "duration": 9,
    "start_time": "2022-05-25T20:50:42.493Z"
   },
   {
    "duration": 8,
    "start_time": "2022-05-25T20:50:58.332Z"
   },
   {
    "duration": 7,
    "start_time": "2022-05-25T20:51:19.494Z"
   },
   {
    "duration": 8,
    "start_time": "2022-05-25T20:52:47.970Z"
   },
   {
    "duration": 6,
    "start_time": "2022-05-25T20:54:08.606Z"
   },
   {
    "duration": 7,
    "start_time": "2022-05-25T20:54:15.094Z"
   },
   {
    "duration": 6,
    "start_time": "2022-05-25T20:54:30.409Z"
   },
   {
    "duration": 6,
    "start_time": "2022-05-25T20:54:35.391Z"
   },
   {
    "duration": 21,
    "start_time": "2022-05-25T20:54:44.598Z"
   },
   {
    "duration": 14,
    "start_time": "2022-05-25T20:57:45.093Z"
   },
   {
    "duration": 24,
    "start_time": "2022-05-25T20:57:52.636Z"
   },
   {
    "duration": 10,
    "start_time": "2022-05-25T21:02:00.681Z"
   },
   {
    "duration": 10,
    "start_time": "2022-05-25T21:02:16.694Z"
   },
   {
    "duration": 10,
    "start_time": "2022-05-25T21:03:05.995Z"
   },
   {
    "duration": 12,
    "start_time": "2022-05-25T21:03:25.798Z"
   },
   {
    "duration": 28,
    "start_time": "2022-05-25T21:03:34.001Z"
   },
   {
    "duration": 10,
    "start_time": "2022-05-25T21:04:27.059Z"
   },
   {
    "duration": 11,
    "start_time": "2022-05-25T21:05:44.261Z"
   },
   {
    "duration": 9,
    "start_time": "2022-05-25T21:06:01.665Z"
   },
   {
    "duration": 76,
    "start_time": "2022-05-25T21:08:16.833Z"
   },
   {
    "duration": 9,
    "start_time": "2022-05-25T21:10:21.457Z"
   },
   {
    "duration": 88,
    "start_time": "2022-05-25T21:27:03.102Z"
   },
   {
    "duration": 101,
    "start_time": "2022-05-25T21:27:56.513Z"
   },
   {
    "duration": 21,
    "start_time": "2022-05-25T21:58:52.637Z"
   },
   {
    "duration": 522,
    "start_time": "2022-05-25T22:00:14.537Z"
   },
   {
    "duration": 406,
    "start_time": "2022-05-25T22:00:47.724Z"
   },
   {
    "duration": 522,
    "start_time": "2022-05-25T22:02:10.443Z"
   },
   {
    "duration": 12,
    "start_time": "2022-05-25T22:02:47.937Z"
   },
   {
    "duration": 423,
    "start_time": "2022-05-25T22:03:38.792Z"
   },
   {
    "duration": 398,
    "start_time": "2022-05-25T22:05:50.323Z"
   },
   {
    "duration": 218,
    "start_time": "2022-05-25T22:06:52.107Z"
   },
   {
    "duration": 201,
    "start_time": "2022-05-25T22:07:29.437Z"
   },
   {
    "duration": 176,
    "start_time": "2022-05-25T22:09:38.792Z"
   },
   {
    "duration": 3,
    "start_time": "2022-05-25T22:12:03.549Z"
   },
   {
    "duration": 12,
    "start_time": "2022-05-25T22:12:43.193Z"
   },
   {
    "duration": 8,
    "start_time": "2022-05-25T22:14:25.858Z"
   },
   {
    "duration": 22,
    "start_time": "2022-05-25T22:17:13.154Z"
   },
   {
    "duration": 22,
    "start_time": "2022-05-25T22:17:38.751Z"
   },
   {
    "duration": 24,
    "start_time": "2022-05-25T22:18:38.243Z"
   },
   {
    "duration": 12,
    "start_time": "2022-05-25T22:19:44.341Z"
   },
   {
    "duration": 7,
    "start_time": "2022-05-25T22:19:46.255Z"
   },
   {
    "duration": 11,
    "start_time": "2022-05-25T22:19:53.843Z"
   },
   {
    "duration": 24,
    "start_time": "2022-05-25T22:20:24.578Z"
   },
   {
    "duration": 11,
    "start_time": "2022-05-25T22:20:32.775Z"
   },
   {
    "duration": 21,
    "start_time": "2022-05-25T22:20:39.058Z"
   },
   {
    "duration": 192,
    "start_time": "2022-05-25T22:21:53.243Z"
   },
   {
    "duration": 197,
    "start_time": "2022-05-25T22:22:11.509Z"
   },
   {
    "duration": 171,
    "start_time": "2022-05-25T22:22:29.093Z"
   },
   {
    "duration": 22,
    "start_time": "2022-05-25T22:22:51.249Z"
   },
   {
    "duration": 9,
    "start_time": "2022-05-25T22:23:49.538Z"
   },
   {
    "duration": 8,
    "start_time": "2022-05-25T22:24:14.637Z"
   },
   {
    "duration": 10,
    "start_time": "2022-05-25T22:24:38.759Z"
   },
   {
    "duration": 24,
    "start_time": "2022-05-25T22:25:06.673Z"
   },
   {
    "duration": 8,
    "start_time": "2022-05-25T22:28:00.350Z"
   },
   {
    "duration": 9,
    "start_time": "2022-05-25T22:28:18.713Z"
   },
   {
    "duration": 10,
    "start_time": "2022-05-25T22:29:18.146Z"
   },
   {
    "duration": 10,
    "start_time": "2022-05-25T22:30:04.909Z"
   },
   {
    "duration": 10,
    "start_time": "2022-05-25T22:30:19.857Z"
   },
   {
    "duration": 9,
    "start_time": "2022-05-25T22:31:17.805Z"
   },
   {
    "duration": 9,
    "start_time": "2022-05-25T22:31:23.949Z"
   },
   {
    "duration": 10,
    "start_time": "2022-05-25T22:31:58.214Z"
   },
   {
    "duration": 12,
    "start_time": "2022-05-25T22:33:10.667Z"
   },
   {
    "duration": 10,
    "start_time": "2022-05-25T22:34:21.862Z"
   },
   {
    "duration": 10,
    "start_time": "2022-05-25T22:35:28.887Z"
   },
   {
    "duration": 12,
    "start_time": "2022-05-25T22:36:43.571Z"
   },
   {
    "duration": 12,
    "start_time": "2022-05-25T22:37:47.013Z"
   },
   {
    "duration": 16,
    "start_time": "2022-05-25T22:38:36.468Z"
   },
   {
    "duration": 607,
    "start_time": "2022-05-26T17:05:44.517Z"
   },
   {
    "duration": 14,
    "start_time": "2022-05-26T17:06:07.128Z"
   },
   {
    "duration": 10,
    "start_time": "2022-05-26T17:07:07.895Z"
   },
   {
    "duration": 11,
    "start_time": "2022-05-26T17:07:52.654Z"
   },
   {
    "duration": 29,
    "start_time": "2022-05-26T17:08:14.722Z"
   },
   {
    "duration": 10,
    "start_time": "2022-05-26T17:08:28.931Z"
   },
   {
    "duration": 14,
    "start_time": "2022-05-26T17:08:33.418Z"
   },
   {
    "duration": 9,
    "start_time": "2022-05-26T17:08:50.556Z"
   },
   {
    "duration": 9,
    "start_time": "2022-05-26T17:09:22.682Z"
   },
   {
    "duration": 11,
    "start_time": "2022-05-26T17:09:49.547Z"
   },
   {
    "duration": 92,
    "start_time": "2022-05-26T17:23:27.973Z"
   },
   {
    "duration": 16,
    "start_time": "2022-05-26T17:23:57.264Z"
   },
   {
    "duration": 13,
    "start_time": "2022-05-26T17:26:07.982Z"
   },
   {
    "duration": 16,
    "start_time": "2022-05-26T17:26:19.066Z"
   },
   {
    "duration": 16,
    "start_time": "2022-05-26T17:26:38.354Z"
   },
   {
    "duration": 15,
    "start_time": "2022-05-26T17:27:18.695Z"
   },
   {
    "duration": 11,
    "start_time": "2022-05-26T17:27:28.076Z"
   },
   {
    "duration": 12,
    "start_time": "2022-05-26T17:30:02.766Z"
   },
   {
    "duration": 18,
    "start_time": "2022-05-26T17:34:45.722Z"
   },
   {
    "duration": 13,
    "start_time": "2022-05-26T17:35:21.771Z"
   },
   {
    "duration": 9,
    "start_time": "2022-05-26T17:35:38.377Z"
   },
   {
    "duration": 9,
    "start_time": "2022-05-26T17:37:09.357Z"
   },
   {
    "duration": 10,
    "start_time": "2022-05-26T17:38:34.106Z"
   },
   {
    "duration": 15,
    "start_time": "2022-05-26T17:39:03.460Z"
   },
   {
    "duration": 10,
    "start_time": "2022-05-26T17:39:42.053Z"
   },
   {
    "duration": 8,
    "start_time": "2022-05-26T17:40:20.759Z"
   },
   {
    "duration": 11,
    "start_time": "2022-05-26T17:40:42.979Z"
   },
   {
    "duration": 8,
    "start_time": "2022-05-26T17:41:02.793Z"
   },
   {
    "duration": 15,
    "start_time": "2022-05-26T17:41:13.274Z"
   },
   {
    "duration": 10,
    "start_time": "2022-05-26T17:51:19.128Z"
   },
   {
    "duration": 15,
    "start_time": "2022-05-26T17:55:22.184Z"
   },
   {
    "duration": 15,
    "start_time": "2022-05-26T17:55:43.113Z"
   },
   {
    "duration": 15,
    "start_time": "2022-05-26T17:59:28.452Z"
   },
   {
    "duration": 16,
    "start_time": "2022-05-26T18:00:07.092Z"
   },
   {
    "duration": 16,
    "start_time": "2022-05-26T18:02:06.550Z"
   },
   {
    "duration": 20,
    "start_time": "2022-05-26T18:02:50.707Z"
   },
   {
    "duration": 19,
    "start_time": "2022-05-26T18:05:04.458Z"
   },
   {
    "duration": 25,
    "start_time": "2022-05-26T18:05:48.117Z"
   },
   {
    "duration": 32,
    "start_time": "2022-05-26T18:30:35.188Z"
   },
   {
    "duration": 20,
    "start_time": "2022-05-26T18:30:52.817Z"
   },
   {
    "duration": 15,
    "start_time": "2022-05-26T18:31:02.662Z"
   },
   {
    "duration": 18,
    "start_time": "2022-05-26T18:33:47.091Z"
   },
   {
    "duration": 38,
    "start_time": "2022-05-26T18:34:18.356Z"
   },
   {
    "duration": 28,
    "start_time": "2022-05-26T18:34:59.417Z"
   },
   {
    "duration": 33,
    "start_time": "2022-05-26T18:35:10.802Z"
   },
   {
    "duration": 22,
    "start_time": "2022-05-26T18:35:24.991Z"
   },
   {
    "duration": 18,
    "start_time": "2022-05-26T18:36:34.498Z"
   },
   {
    "duration": 12,
    "start_time": "2022-05-26T18:42:49.549Z"
   },
   {
    "duration": 13,
    "start_time": "2022-05-26T19:26:40.140Z"
   },
   {
    "duration": 316,
    "start_time": "2022-05-26T20:09:54.870Z"
   },
   {
    "duration": 33,
    "start_time": "2022-05-26T20:10:30.262Z"
   },
   {
    "duration": 29,
    "start_time": "2022-05-26T20:10:58.012Z"
   },
   {
    "duration": 43,
    "start_time": "2022-05-26T20:12:00.955Z"
   },
   {
    "duration": 52,
    "start_time": "2022-05-26T20:12:25.945Z"
   },
   {
    "duration": 25,
    "start_time": "2022-05-26T20:13:01.193Z"
   },
   {
    "duration": 14,
    "start_time": "2022-05-26T20:13:17.245Z"
   },
   {
    "duration": 41,
    "start_time": "2022-05-26T20:19:39.639Z"
   },
   {
    "duration": 21,
    "start_time": "2022-05-26T20:20:36.394Z"
   },
   {
    "duration": 373,
    "start_time": "2022-05-26T20:21:23.944Z"
   },
   {
    "duration": 24,
    "start_time": "2022-05-26T20:22:12.977Z"
   },
   {
    "duration": 19,
    "start_time": "2022-05-26T20:22:48.896Z"
   },
   {
    "duration": 296,
    "start_time": "2022-05-26T20:23:07.895Z"
   },
   {
    "duration": 35,
    "start_time": "2022-05-26T20:26:45.222Z"
   },
   {
    "duration": 27,
    "start_time": "2022-05-26T20:26:58.200Z"
   },
   {
    "duration": 31,
    "start_time": "2022-05-26T20:28:19.311Z"
   },
   {
    "duration": 40,
    "start_time": "2022-05-26T20:29:28.579Z"
   },
   {
    "duration": 31,
    "start_time": "2022-05-26T20:30:16.770Z"
   },
   {
    "duration": 34,
    "start_time": "2022-05-26T20:30:46.777Z"
   },
   {
    "duration": 25,
    "start_time": "2022-05-26T20:31:12.689Z"
   },
   {
    "duration": 35,
    "start_time": "2022-05-26T20:31:24.102Z"
   },
   {
    "duration": 20,
    "start_time": "2022-05-26T20:31:42.673Z"
   },
   {
    "duration": 30,
    "start_time": "2022-05-26T20:31:59.416Z"
   },
   {
    "duration": 19,
    "start_time": "2022-05-26T21:17:08.689Z"
   },
   {
    "duration": 5,
    "start_time": "2022-05-26T21:18:02.016Z"
   },
   {
    "duration": 14,
    "start_time": "2022-05-26T21:18:16.980Z"
   },
   {
    "duration": 39,
    "start_time": "2022-05-26T21:21:43.605Z"
   },
   {
    "duration": 34,
    "start_time": "2022-05-26T21:22:39.485Z"
   },
   {
    "duration": 31,
    "start_time": "2022-05-26T21:23:25.040Z"
   },
   {
    "duration": 19,
    "start_time": "2022-05-26T21:24:07.670Z"
   },
   {
    "duration": 20,
    "start_time": "2022-05-26T21:24:09.467Z"
   },
   {
    "duration": 14,
    "start_time": "2022-05-26T21:24:13.467Z"
   },
   {
    "duration": 14,
    "start_time": "2022-05-26T21:27:03.213Z"
   },
   {
    "duration": 33,
    "start_time": "2022-05-26T21:28:17.164Z"
   },
   {
    "duration": 21,
    "start_time": "2022-05-26T21:28:53.797Z"
   },
   {
    "duration": 32,
    "start_time": "2022-05-26T21:29:18.965Z"
   },
   {
    "duration": 36,
    "start_time": "2022-05-26T21:29:39.213Z"
   },
   {
    "duration": 26,
    "start_time": "2022-05-26T21:30:40.912Z"
   },
   {
    "duration": 21,
    "start_time": "2022-05-26T21:31:24.211Z"
   },
   {
    "duration": 19,
    "start_time": "2022-05-26T21:33:32.733Z"
   },
   {
    "duration": 35,
    "start_time": "2022-05-26T21:34:29.349Z"
   },
   {
    "duration": 31,
    "start_time": "2022-05-26T21:35:23.221Z"
   },
   {
    "duration": 1247,
    "start_time": "2022-05-26T21:35:47.833Z"
   },
   {
    "duration": 31,
    "start_time": "2022-05-26T21:36:04.966Z"
   },
   {
    "duration": 489,
    "start_time": "2022-05-26T21:52:47.900Z"
   },
   {
    "duration": 16,
    "start_time": "2022-05-26T21:53:28.212Z"
   },
   {
    "duration": 35,
    "start_time": "2022-05-26T21:53:43.916Z"
   },
   {
    "duration": 36,
    "start_time": "2022-05-26T21:54:32.384Z"
   },
   {
    "duration": 32,
    "start_time": "2022-05-26T21:55:21.013Z"
   },
   {
    "duration": 26,
    "start_time": "2022-05-26T21:55:38.959Z"
   },
   {
    "duration": 32,
    "start_time": "2022-05-26T21:56:46.126Z"
   },
   {
    "duration": 32,
    "start_time": "2022-05-26T21:56:55.657Z"
   },
   {
    "duration": 17,
    "start_time": "2022-05-26T21:57:11.752Z"
   },
   {
    "duration": 76,
    "start_time": "2022-05-27T11:13:37.713Z"
   },
   {
    "duration": 18,
    "start_time": "2022-05-27T11:13:39.794Z"
   },
   {
    "duration": 10,
    "start_time": "2022-05-27T11:13:47.520Z"
   },
   {
    "duration": 7,
    "start_time": "2022-05-27T11:13:48.777Z"
   },
   {
    "duration": 16,
    "start_time": "2022-05-27T11:13:52.918Z"
   },
   {
    "duration": 15,
    "start_time": "2022-05-27T11:14:54.544Z"
   },
   {
    "duration": 9,
    "start_time": "2022-05-27T11:15:22.906Z"
   },
   {
    "duration": 12,
    "start_time": "2022-05-27T11:15:49.903Z"
   },
   {
    "duration": 11,
    "start_time": "2022-05-27T11:16:16.291Z"
   },
   {
    "duration": 10,
    "start_time": "2022-05-27T11:16:55.744Z"
   },
   {
    "duration": 13,
    "start_time": "2022-05-27T11:17:00.791Z"
   },
   {
    "duration": 9,
    "start_time": "2022-05-27T11:17:42.356Z"
   },
   {
    "duration": 15,
    "start_time": "2022-05-27T11:17:45.276Z"
   },
   {
    "duration": 11,
    "start_time": "2022-05-27T11:18:37.379Z"
   },
   {
    "duration": 18,
    "start_time": "2022-05-27T11:18:38.655Z"
   },
   {
    "duration": 6,
    "start_time": "2022-05-27T11:19:56.366Z"
   },
   {
    "duration": 6,
    "start_time": "2022-05-27T11:20:09.030Z"
   },
   {
    "duration": 7,
    "start_time": "2022-05-27T11:21:36.253Z"
   },
   {
    "duration": 30,
    "start_time": "2022-05-27T11:38:28.730Z"
   },
   {
    "duration": 8,
    "start_time": "2022-05-27T11:38:57.223Z"
   },
   {
    "duration": 8,
    "start_time": "2022-05-27T11:39:15.078Z"
   },
   {
    "duration": 15,
    "start_time": "2022-05-27T11:40:28.929Z"
   },
   {
    "duration": 16,
    "start_time": "2022-05-27T11:41:07.295Z"
   },
   {
    "duration": 9,
    "start_time": "2022-05-27T11:41:16.577Z"
   },
   {
    "duration": 8,
    "start_time": "2022-05-27T11:41:23.115Z"
   },
   {
    "duration": 5,
    "start_time": "2022-05-27T11:42:51.298Z"
   },
   {
    "duration": 19,
    "start_time": "2022-05-27T11:43:33.677Z"
   },
   {
    "duration": 10,
    "start_time": "2022-05-27T11:43:49.834Z"
   },
   {
    "duration": 12,
    "start_time": "2022-05-27T11:44:35.430Z"
   },
   {
    "duration": 11,
    "start_time": "2022-05-27T11:44:46.425Z"
   },
   {
    "duration": 4,
    "start_time": "2022-05-27T11:44:57.127Z"
   },
   {
    "duration": 11,
    "start_time": "2022-05-27T11:45:00.677Z"
   },
   {
    "duration": 3,
    "start_time": "2022-05-27T11:45:52.799Z"
   },
   {
    "duration": 10,
    "start_time": "2022-05-27T11:45:53.798Z"
   },
   {
    "duration": 6,
    "start_time": "2022-05-27T11:46:28.318Z"
   },
   {
    "duration": 15,
    "start_time": "2022-05-27T11:46:29.572Z"
   },
   {
    "duration": 4,
    "start_time": "2022-05-27T11:47:16.311Z"
   },
   {
    "duration": 12,
    "start_time": "2022-05-27T11:47:18.913Z"
   },
   {
    "duration": 82,
    "start_time": "2022-05-27T11:47:46.601Z"
   },
   {
    "duration": 14,
    "start_time": "2022-05-27T11:47:51.281Z"
   },
   {
    "duration": 10,
    "start_time": "2022-05-27T11:48:02.638Z"
   },
   {
    "duration": 8,
    "start_time": "2022-05-27T11:48:04.591Z"
   },
   {
    "duration": 4,
    "start_time": "2022-05-27T11:48:24.886Z"
   },
   {
    "duration": 10,
    "start_time": "2022-05-27T11:48:26.290Z"
   },
   {
    "duration": 11,
    "start_time": "2022-05-27T11:48:28.360Z"
   },
   {
    "duration": 11,
    "start_time": "2022-05-27T11:48:30.276Z"
   },
   {
    "duration": 13,
    "start_time": "2022-05-27T11:48:32.886Z"
   },
   {
    "duration": 9,
    "start_time": "2022-05-27T11:48:34.925Z"
   },
   {
    "duration": 14,
    "start_time": "2022-05-27T11:48:36.023Z"
   },
   {
    "duration": 12,
    "start_time": "2022-05-27T11:48:37.282Z"
   },
   {
    "duration": 19,
    "start_time": "2022-05-27T11:48:46.250Z"
   },
   {
    "duration": 7,
    "start_time": "2022-05-27T11:48:48.276Z"
   },
   {
    "duration": 5,
    "start_time": "2022-05-27T11:49:11.418Z"
   },
   {
    "duration": 15,
    "start_time": "2022-05-27T11:49:14.514Z"
   },
   {
    "duration": 7,
    "start_time": "2022-05-27T11:50:03.389Z"
   },
   {
    "duration": 11,
    "start_time": "2022-05-27T11:56:40.182Z"
   },
   {
    "duration": 4,
    "start_time": "2022-05-27T11:56:50.793Z"
   },
   {
    "duration": 11,
    "start_time": "2022-05-27T11:56:51.979Z"
   },
   {
    "duration": 82,
    "start_time": "2022-05-27T11:58:44.502Z"
   },
   {
    "duration": 13,
    "start_time": "2022-05-27T11:58:47.627Z"
   },
   {
    "duration": 10,
    "start_time": "2022-05-27T11:58:58.149Z"
   },
   {
    "duration": 7,
    "start_time": "2022-05-27T11:59:07.240Z"
   },
   {
    "duration": 6,
    "start_time": "2022-05-27T11:59:09.059Z"
   },
   {
    "duration": 5,
    "start_time": "2022-05-27T11:59:10.489Z"
   },
   {
    "duration": 3,
    "start_time": "2022-05-27T11:59:13.016Z"
   },
   {
    "duration": 8,
    "start_time": "2022-05-27T11:59:13.915Z"
   },
   {
    "duration": 11,
    "start_time": "2022-05-27T11:59:20.112Z"
   },
   {
    "duration": 10,
    "start_time": "2022-05-27T11:59:20.973Z"
   },
   {
    "duration": 13,
    "start_time": "2022-05-27T11:59:21.777Z"
   },
   {
    "duration": 10,
    "start_time": "2022-05-27T11:59:22.609Z"
   },
   {
    "duration": 15,
    "start_time": "2022-05-27T11:59:23.294Z"
   },
   {
    "duration": 13,
    "start_time": "2022-05-27T11:59:28.201Z"
   },
   {
    "duration": 19,
    "start_time": "2022-05-27T11:59:29.416Z"
   },
   {
    "duration": 7,
    "start_time": "2022-05-27T11:59:30.338Z"
   },
   {
    "duration": 4,
    "start_time": "2022-05-27T11:59:32.792Z"
   },
   {
    "duration": 9,
    "start_time": "2022-05-27T11:59:33.788Z"
   },
   {
    "duration": 4,
    "start_time": "2022-05-27T11:59:40.034Z"
   },
   {
    "duration": 9,
    "start_time": "2022-05-27T11:59:41.280Z"
   },
   {
    "duration": 3,
    "start_time": "2022-05-27T12:06:21.300Z"
   },
   {
    "duration": 7,
    "start_time": "2022-05-27T12:06:22.065Z"
   },
   {
    "duration": 4,
    "start_time": "2022-05-27T12:06:24.341Z"
   },
   {
    "duration": 13,
    "start_time": "2022-05-27T12:06:25.270Z"
   },
   {
    "duration": 17,
    "start_time": "2022-05-27T12:22:42.952Z"
   },
   {
    "duration": 7,
    "start_time": "2022-05-27T12:23:41.319Z"
   },
   {
    "duration": 8,
    "start_time": "2022-05-27T12:24:24.459Z"
   },
   {
    "duration": 7,
    "start_time": "2022-05-27T12:24:47.125Z"
   },
   {
    "duration": 7,
    "start_time": "2022-05-27T12:25:15.809Z"
   },
   {
    "duration": 20,
    "start_time": "2022-05-27T12:30:05.332Z"
   },
   {
    "duration": 21,
    "start_time": "2022-05-27T12:32:23.560Z"
   },
   {
    "duration": 19,
    "start_time": "2022-05-27T12:33:42.835Z"
   },
   {
    "duration": 245,
    "start_time": "2022-05-27T12:42:17.503Z"
   },
   {
    "duration": 8,
    "start_time": "2022-05-27T12:42:52.473Z"
   },
   {
    "duration": 11,
    "start_time": "2022-05-27T12:43:34.083Z"
   },
   {
    "duration": 6578,
    "start_time": "2022-05-27T12:44:12.147Z"
   },
   {
    "duration": 1503,
    "start_time": "2022-05-27T12:44:47.204Z"
   },
   {
    "duration": 6563,
    "start_time": "2022-05-27T12:45:09.890Z"
   },
   {
    "duration": 23,
    "start_time": "2022-05-27T12:46:15.310Z"
   },
   {
    "duration": 10,
    "start_time": "2022-05-27T12:46:30.692Z"
   },
   {
    "duration": 5,
    "start_time": "2022-05-27T12:46:47.707Z"
   },
   {
    "duration": 5,
    "start_time": "2022-05-27T12:47:06.200Z"
   },
   {
    "duration": 8,
    "start_time": "2022-05-27T14:36:55.250Z"
   },
   {
    "duration": 9,
    "start_time": "2022-05-27T15:28:09.108Z"
   },
   {
    "duration": 9,
    "start_time": "2022-05-27T15:28:26.337Z"
   },
   {
    "duration": 10,
    "start_time": "2022-05-27T15:29:23.048Z"
   },
   {
    "duration": 43,
    "start_time": "2022-05-27T15:29:37.968Z"
   },
   {
    "duration": 8,
    "start_time": "2022-05-27T15:45:32.606Z"
   },
   {
    "duration": 107,
    "start_time": "2022-05-27T15:56:32.257Z"
   },
   {
    "duration": 10,
    "start_time": "2022-05-27T15:57:04.264Z"
   },
   {
    "duration": 17,
    "start_time": "2022-05-27T15:57:43.206Z"
   },
   {
    "duration": 44,
    "start_time": "2022-05-27T16:20:06.449Z"
   },
   {
    "duration": 52,
    "start_time": "2022-05-27T16:20:57.814Z"
   },
   {
    "duration": 44,
    "start_time": "2022-05-27T16:28:14.968Z"
   },
   {
    "duration": 45,
    "start_time": "2022-05-27T16:30:16.592Z"
   },
   {
    "duration": 37,
    "start_time": "2022-05-27T16:30:50.916Z"
   },
   {
    "duration": 39,
    "start_time": "2022-05-27T16:31:09.570Z"
   },
   {
    "duration": 25,
    "start_time": "2022-05-27T16:31:51.274Z"
   },
   {
    "duration": 37,
    "start_time": "2022-05-27T16:32:05.123Z"
   },
   {
    "duration": 49,
    "start_time": "2022-05-27T16:34:28.913Z"
   },
   {
    "duration": 48,
    "start_time": "2022-05-27T16:34:37.779Z"
   },
   {
    "duration": 14,
    "start_time": "2022-05-27T16:34:46.162Z"
   },
   {
    "duration": 12,
    "start_time": "2022-05-27T16:35:03.329Z"
   },
   {
    "duration": 17,
    "start_time": "2022-05-27T16:35:27.531Z"
   },
   {
    "duration": 14,
    "start_time": "2022-05-27T16:35:36.345Z"
   },
   {
    "duration": 13,
    "start_time": "2022-05-27T16:36:23.882Z"
   },
   {
    "duration": 14,
    "start_time": "2022-05-27T16:37:33.219Z"
   },
   {
    "duration": 16,
    "start_time": "2022-05-27T16:38:06.722Z"
   },
   {
    "duration": 13,
    "start_time": "2022-05-27T16:38:20.579Z"
   },
   {
    "duration": 14,
    "start_time": "2022-05-27T16:38:51.405Z"
   },
   {
    "duration": 7,
    "start_time": "2022-05-27T16:40:14.987Z"
   },
   {
    "duration": 32,
    "start_time": "2022-05-27T16:40:40.858Z"
   },
   {
    "duration": 65,
    "start_time": "2022-05-27T16:45:18.113Z"
   },
   {
    "duration": 45,
    "start_time": "2022-05-27T16:46:12.714Z"
   },
   {
    "duration": 29,
    "start_time": "2022-05-27T16:47:43.075Z"
   },
   {
    "duration": 66,
    "start_time": "2022-05-27T16:47:56.078Z"
   },
   {
    "duration": 37,
    "start_time": "2022-05-27T16:49:04.023Z"
   },
   {
    "duration": 35,
    "start_time": "2022-05-27T17:04:08.877Z"
   },
   {
    "duration": 262,
    "start_time": "2022-05-27T17:09:56.172Z"
   },
   {
    "duration": 239,
    "start_time": "2022-05-27T17:10:13.349Z"
   },
   {
    "duration": 230,
    "start_time": "2022-05-27T17:10:39.367Z"
   },
   {
    "duration": 23,
    "start_time": "2022-05-27T17:11:29.064Z"
   },
   {
    "duration": 7,
    "start_time": "2022-05-27T17:11:47.846Z"
   },
   {
    "duration": 9,
    "start_time": "2022-05-27T17:17:08.728Z"
   },
   {
    "duration": 9,
    "start_time": "2022-05-27T17:17:18.962Z"
   },
   {
    "duration": 18,
    "start_time": "2022-05-27T17:17:34.160Z"
   },
   {
    "duration": 11,
    "start_time": "2022-05-27T17:17:43.070Z"
   },
   {
    "duration": 13,
    "start_time": "2022-05-27T17:17:51.361Z"
   },
   {
    "duration": 11,
    "start_time": "2022-05-27T17:20:34.884Z"
   },
   {
    "duration": 10,
    "start_time": "2022-05-27T17:21:28.976Z"
   },
   {
    "duration": 10,
    "start_time": "2022-05-27T17:22:12.552Z"
   },
   {
    "duration": 11,
    "start_time": "2022-05-27T17:22:36.065Z"
   },
   {
    "duration": 12,
    "start_time": "2022-05-27T17:23:18.721Z"
   },
   {
    "duration": 8,
    "start_time": "2022-05-27T17:25:50.854Z"
   },
   {
    "duration": 6,
    "start_time": "2022-05-27T17:26:04.148Z"
   },
   {
    "duration": 7,
    "start_time": "2022-05-27T17:26:28.921Z"
   },
   {
    "duration": 8,
    "start_time": "2022-05-27T17:26:52.648Z"
   },
   {
    "duration": 517,
    "start_time": "2022-05-27T17:27:20.054Z"
   },
   {
    "duration": 6,
    "start_time": "2022-05-27T17:27:34.954Z"
   },
   {
    "duration": 13,
    "start_time": "2022-05-27T17:32:37.157Z"
   },
   {
    "duration": 222,
    "start_time": "2022-05-27T17:33:32.015Z"
   },
   {
    "duration": 6,
    "start_time": "2022-05-27T17:34:22.570Z"
   },
   {
    "duration": 7,
    "start_time": "2022-05-27T17:35:50.784Z"
   },
   {
    "duration": 7,
    "start_time": "2022-05-27T18:01:45.527Z"
   },
   {
    "duration": 3,
    "start_time": "2022-05-27T18:02:53.526Z"
   },
   {
    "duration": 6,
    "start_time": "2022-05-27T18:03:00.375Z"
   },
   {
    "duration": 5,
    "start_time": "2022-05-27T18:03:25.528Z"
   },
   {
    "duration": 2,
    "start_time": "2022-05-27T18:04:10.504Z"
   },
   {
    "duration": 5,
    "start_time": "2022-05-27T18:04:22.175Z"
   },
   {
    "duration": 6,
    "start_time": "2022-05-27T18:04:31.924Z"
   },
   {
    "duration": 6,
    "start_time": "2022-05-27T18:04:57.578Z"
   },
   {
    "duration": 5,
    "start_time": "2022-05-27T18:05:22.411Z"
   },
   {
    "duration": 13,
    "start_time": "2022-05-27T18:12:06.517Z"
   },
   {
    "duration": 16,
    "start_time": "2022-05-27T18:12:19.210Z"
   },
   {
    "duration": 37,
    "start_time": "2022-05-27T18:12:54.066Z"
   },
   {
    "duration": 37,
    "start_time": "2022-05-27T18:16:56.905Z"
   },
   {
    "duration": 10,
    "start_time": "2022-05-27T18:17:03.623Z"
   },
   {
    "duration": 7,
    "start_time": "2022-05-27T18:17:14.225Z"
   },
   {
    "duration": 9,
    "start_time": "2022-05-27T18:17:32.016Z"
   },
   {
    "duration": 11,
    "start_time": "2022-05-27T18:17:51.072Z"
   },
   {
    "duration": 12,
    "start_time": "2022-05-27T18:18:22.630Z"
   },
   {
    "duration": 9,
    "start_time": "2022-05-27T18:19:20.118Z"
   },
   {
    "duration": 9,
    "start_time": "2022-05-27T18:19:42.619Z"
   },
   {
    "duration": 10,
    "start_time": "2022-05-27T18:21:07.910Z"
   },
   {
    "duration": 11,
    "start_time": "2022-05-27T18:21:16.306Z"
   },
   {
    "duration": 9,
    "start_time": "2022-05-27T18:23:02.520Z"
   },
   {
    "duration": 9,
    "start_time": "2022-05-27T18:23:40.612Z"
   },
   {
    "duration": 10,
    "start_time": "2022-05-27T18:23:47.803Z"
   },
   {
    "duration": 9,
    "start_time": "2022-05-27T19:13:13.190Z"
   },
   {
    "duration": 9,
    "start_time": "2022-05-27T19:13:23.878Z"
   },
   {
    "duration": 14,
    "start_time": "2022-05-27T19:14:21.873Z"
   },
   {
    "duration": 10,
    "start_time": "2022-05-27T19:18:54.095Z"
   },
   {
    "duration": 8,
    "start_time": "2022-05-27T19:20:32.204Z"
   },
   {
    "duration": 38,
    "start_time": "2022-05-27T19:25:04.685Z"
   },
   {
    "duration": 24,
    "start_time": "2022-05-27T19:27:06.230Z"
   },
   {
    "duration": 6,
    "start_time": "2022-05-27T19:32:51.260Z"
   },
   {
    "duration": 7,
    "start_time": "2022-05-27T19:33:40.285Z"
   },
   {
    "duration": 5,
    "start_time": "2022-05-27T19:33:49.971Z"
   },
   {
    "duration": 7,
    "start_time": "2022-05-27T19:33:51.806Z"
   },
   {
    "duration": 9,
    "start_time": "2022-05-27T19:35:04.660Z"
   },
   {
    "duration": 7,
    "start_time": "2022-05-27T19:35:19.207Z"
   },
   {
    "duration": 8,
    "start_time": "2022-05-27T19:39:20.888Z"
   },
   {
    "duration": 4,
    "start_time": "2022-05-27T19:39:28.520Z"
   },
   {
    "duration": 8,
    "start_time": "2022-05-27T19:39:30.362Z"
   },
   {
    "duration": 8,
    "start_time": "2022-05-27T19:44:13.291Z"
   },
   {
    "duration": 8,
    "start_time": "2022-05-27T19:44:49.420Z"
   },
   {
    "duration": 8,
    "start_time": "2022-05-27T19:46:03.653Z"
   },
   {
    "duration": 9,
    "start_time": "2022-05-27T19:47:12.140Z"
   },
   {
    "duration": 2,
    "start_time": "2022-05-27T19:50:31.513Z"
   },
   {
    "duration": 7,
    "start_time": "2022-05-27T19:50:32.961Z"
   },
   {
    "duration": 3,
    "start_time": "2022-05-27T19:50:35.474Z"
   },
   {
    "duration": 9,
    "start_time": "2022-05-27T19:50:36.519Z"
   },
   {
    "duration": 79,
    "start_time": "2022-05-27T19:50:55.210Z"
   },
   {
    "duration": 13,
    "start_time": "2022-05-27T19:50:57.841Z"
   },
   {
    "duration": 10,
    "start_time": "2022-05-27T19:51:02.651Z"
   },
   {
    "duration": 8,
    "start_time": "2022-05-27T19:51:03.794Z"
   },
   {
    "duration": 6,
    "start_time": "2022-05-27T19:51:04.854Z"
   },
   {
    "duration": 6,
    "start_time": "2022-05-27T19:51:06.846Z"
   },
   {
    "duration": 3,
    "start_time": "2022-05-27T19:51:07.821Z"
   },
   {
    "duration": 9,
    "start_time": "2022-05-27T19:51:09.644Z"
   },
   {
    "duration": 12,
    "start_time": "2022-05-27T19:51:10.537Z"
   },
   {
    "duration": 9,
    "start_time": "2022-05-27T19:51:14.927Z"
   },
   {
    "duration": 13,
    "start_time": "2022-05-27T19:51:16.570Z"
   },
   {
    "duration": 9,
    "start_time": "2022-05-27T19:51:19.506Z"
   },
   {
    "duration": 12,
    "start_time": "2022-05-27T19:51:20.626Z"
   },
   {
    "duration": 11,
    "start_time": "2022-05-27T19:51:21.899Z"
   },
   {
    "duration": 19,
    "start_time": "2022-05-27T19:51:23.983Z"
   },
   {
    "duration": 8,
    "start_time": "2022-05-27T19:51:24.786Z"
   },
   {
    "duration": 2,
    "start_time": "2022-05-27T19:51:55.363Z"
   },
   {
    "duration": 8,
    "start_time": "2022-05-27T19:51:57.265Z"
   },
   {
    "duration": 3,
    "start_time": "2022-05-27T19:51:59.251Z"
   },
   {
    "duration": 11,
    "start_time": "2022-05-27T19:52:00.469Z"
   },
   {
    "duration": 8,
    "start_time": "2022-05-27T19:52:08.964Z"
   },
   {
    "duration": 22,
    "start_time": "2022-05-27T19:52:10.144Z"
   },
   {
    "duration": 21,
    "start_time": "2022-05-27T19:52:11.992Z"
   },
   {
    "duration": 3,
    "start_time": "2022-05-27T19:52:14.377Z"
   },
   {
    "duration": 7,
    "start_time": "2022-05-27T19:52:20.054Z"
   },
   {
    "duration": 9,
    "start_time": "2022-05-27T19:52:22.580Z"
   },
   {
    "duration": 31,
    "start_time": "2022-05-27T19:52:34.738Z"
   },
   {
    "duration": 4,
    "start_time": "2022-05-27T19:56:28.519Z"
   },
   {
    "duration": 33,
    "start_time": "2022-05-27T19:57:04.880Z"
   },
   {
    "duration": 6,
    "start_time": "2022-05-27T20:08:24.002Z"
   },
   {
    "duration": 9,
    "start_time": "2022-05-27T20:37:40.373Z"
   },
   {
    "duration": 4,
    "start_time": "2022-05-27T20:39:36.952Z"
   },
   {
    "duration": 7,
    "start_time": "2022-05-27T20:39:44.700Z"
   },
   {
    "duration": 4,
    "start_time": "2022-05-27T20:39:45.862Z"
   },
   {
    "duration": 9,
    "start_time": "2022-05-27T20:42:26.837Z"
   },
   {
    "duration": 13,
    "start_time": "2022-05-27T20:48:48.623Z"
   },
   {
    "duration": 30,
    "start_time": "2022-05-27T20:49:07.919Z"
   },
   {
    "duration": 64,
    "start_time": "2022-05-29T07:57:30.661Z"
   },
   {
    "duration": 794,
    "start_time": "2022-05-29T07:57:39.613Z"
   },
   {
    "duration": 21,
    "start_time": "2022-05-29T07:57:41.243Z"
   },
   {
    "duration": 14,
    "start_time": "2022-05-29T07:57:43.005Z"
   },
   {
    "duration": 8,
    "start_time": "2022-05-29T07:57:43.764Z"
   },
   {
    "duration": 7,
    "start_time": "2022-05-29T07:57:44.444Z"
   },
   {
    "duration": 5,
    "start_time": "2022-05-29T07:57:45.173Z"
   },
   {
    "duration": 3,
    "start_time": "2022-05-29T07:57:47.592Z"
   },
   {
    "duration": 9,
    "start_time": "2022-05-29T07:57:48.433Z"
   },
   {
    "duration": 11,
    "start_time": "2022-05-29T07:57:49.155Z"
   },
   {
    "duration": 9,
    "start_time": "2022-05-29T07:57:49.848Z"
   },
   {
    "duration": 13,
    "start_time": "2022-05-29T07:57:50.340Z"
   },
   {
    "duration": 9,
    "start_time": "2022-05-29T07:57:50.939Z"
   },
   {
    "duration": 12,
    "start_time": "2022-05-29T07:57:51.537Z"
   },
   {
    "duration": 10,
    "start_time": "2022-05-29T07:57:52.123Z"
   },
   {
    "duration": 17,
    "start_time": "2022-05-29T07:57:52.834Z"
   },
   {
    "duration": 7,
    "start_time": "2022-05-29T07:57:53.462Z"
   },
   {
    "duration": 7,
    "start_time": "2022-05-29T07:57:54.131Z"
   },
   {
    "duration": 4,
    "start_time": "2022-05-29T07:57:55.841Z"
   },
   {
    "duration": 10,
    "start_time": "2022-05-29T07:57:56.440Z"
   },
   {
    "duration": 7,
    "start_time": "2022-05-29T07:57:59.568Z"
   },
   {
    "duration": 22,
    "start_time": "2022-05-29T07:58:03.956Z"
   },
   {
    "duration": 22,
    "start_time": "2022-05-29T07:58:05.966Z"
   },
   {
    "duration": 4,
    "start_time": "2022-05-29T07:58:09.332Z"
   },
   {
    "duration": 7,
    "start_time": "2022-05-29T07:58:37.160Z"
   },
   {
    "duration": 9,
    "start_time": "2022-05-29T07:58:49.906Z"
   },
   {
    "duration": 10,
    "start_time": "2022-05-29T07:59:40.435Z"
   },
   {
    "duration": 38,
    "start_time": "2022-05-29T07:59:52.797Z"
   },
   {
    "duration": 3,
    "start_time": "2022-05-29T08:00:04.451Z"
   },
   {
    "duration": 7,
    "start_time": "2022-05-29T08:00:05.460Z"
   },
   {
    "duration": 4,
    "start_time": "2022-05-29T08:00:06.264Z"
   },
   {
    "duration": 4,
    "start_time": "2022-05-29T08:01:22.115Z"
   },
   {
    "duration": 7,
    "start_time": "2022-05-29T08:01:23.891Z"
   },
   {
    "duration": 3,
    "start_time": "2022-05-29T08:01:26.088Z"
   },
   {
    "duration": 35,
    "start_time": "2022-05-29T08:01:56.101Z"
   },
   {
    "duration": 3,
    "start_time": "2022-05-29T08:01:57.032Z"
   },
   {
    "duration": 6,
    "start_time": "2022-05-29T08:01:57.777Z"
   },
   {
    "duration": 5,
    "start_time": "2022-05-29T08:01:58.846Z"
   },
   {
    "duration": 5,
    "start_time": "2022-05-29T08:01:59.510Z"
   },
   {
    "duration": 7,
    "start_time": "2022-05-29T08:02:00.261Z"
   },
   {
    "duration": 12,
    "start_time": "2022-05-29T08:02:06.622Z"
   },
   {
    "duration": 10,
    "start_time": "2022-05-29T08:02:23.214Z"
   },
   {
    "duration": 12,
    "start_time": "2022-05-29T08:02:25.080Z"
   },
   {
    "duration": 4,
    "start_time": "2022-05-29T08:08:11.131Z"
   },
   {
    "duration": 12,
    "start_time": "2022-05-29T08:08:26.871Z"
   },
   {
    "duration": 15,
    "start_time": "2022-05-29T08:15:23.983Z"
   },
   {
    "duration": 14,
    "start_time": "2022-05-29T08:17:04.181Z"
   },
   {
    "duration": 5,
    "start_time": "2022-05-29T08:17:43.461Z"
   },
   {
    "duration": 22,
    "start_time": "2022-05-29T08:19:16.026Z"
   },
   {
    "duration": 16,
    "start_time": "2022-05-29T08:20:56.751Z"
   },
   {
    "duration": 19,
    "start_time": "2022-05-29T08:21:18.476Z"
   },
   {
    "duration": 22,
    "start_time": "2022-05-29T08:22:51.266Z"
   },
   {
    "duration": 17,
    "start_time": "2022-05-29T08:23:00.602Z"
   },
   {
    "duration": 17,
    "start_time": "2022-05-29T08:23:16.872Z"
   },
   {
    "duration": 17,
    "start_time": "2022-05-29T08:24:40.931Z"
   },
   {
    "duration": 22,
    "start_time": "2022-05-29T08:26:22.845Z"
   },
   {
    "duration": 18,
    "start_time": "2022-05-29T08:26:39.612Z"
   },
   {
    "duration": 18,
    "start_time": "2022-05-29T08:29:56.467Z"
   },
   {
    "duration": 17,
    "start_time": "2022-05-29T08:30:08.191Z"
   },
   {
    "duration": 86,
    "start_time": "2022-05-29T11:00:10.180Z"
   },
   {
    "duration": 26,
    "start_time": "2022-05-29T11:00:12.848Z"
   },
   {
    "duration": 10,
    "start_time": "2022-05-29T11:00:19.776Z"
   },
   {
    "duration": 9,
    "start_time": "2022-05-29T11:01:44.546Z"
   },
   {
    "duration": 23,
    "start_time": "2022-05-29T11:01:45.447Z"
   },
   {
    "duration": 8,
    "start_time": "2022-05-29T11:01:45.622Z"
   },
   {
    "duration": 4,
    "start_time": "2022-05-29T11:01:46.033Z"
   },
   {
    "duration": 12,
    "start_time": "2022-05-29T11:01:46.110Z"
   },
   {
    "duration": 11,
    "start_time": "2022-05-29T11:01:46.287Z"
   },
   {
    "duration": 12,
    "start_time": "2022-05-29T11:01:46.380Z"
   },
   {
    "duration": 14,
    "start_time": "2022-05-29T11:01:46.522Z"
   },
   {
    "duration": 11,
    "start_time": "2022-05-29T11:01:46.585Z"
   },
   {
    "duration": 13,
    "start_time": "2022-05-29T11:01:46.729Z"
   },
   {
    "duration": 12,
    "start_time": "2022-05-29T11:01:46.811Z"
   },
   {
    "duration": 22,
    "start_time": "2022-05-29T11:01:46.983Z"
   },
   {
    "duration": 9,
    "start_time": "2022-05-29T11:01:47.042Z"
   },
   {
    "duration": 8,
    "start_time": "2022-05-29T11:01:47.203Z"
   },
   {
    "duration": 6,
    "start_time": "2022-05-29T11:01:47.443Z"
   },
   {
    "duration": 9,
    "start_time": "2022-05-29T11:01:47.539Z"
   },
   {
    "duration": 9,
    "start_time": "2022-05-29T11:01:47.829Z"
   },
   {
    "duration": 32,
    "start_time": "2022-05-29T11:01:48.008Z"
   },
   {
    "duration": 24,
    "start_time": "2022-05-29T11:01:48.086Z"
   },
   {
    "duration": 5,
    "start_time": "2022-05-29T11:01:48.310Z"
   },
   {
    "duration": 10,
    "start_time": "2022-05-29T11:01:48.592Z"
   },
   {
    "duration": 12,
    "start_time": "2022-05-29T11:01:48.914Z"
   },
   {
    "duration": 48,
    "start_time": "2022-05-29T11:01:49.080Z"
   },
   {
    "duration": 4,
    "start_time": "2022-05-29T11:01:49.546Z"
   },
   {
    "duration": 8,
    "start_time": "2022-05-29T11:01:49.720Z"
   },
   {
    "duration": 21,
    "start_time": "2022-05-29T11:01:50.566Z"
   },
   {
    "duration": 47,
    "start_time": "2022-05-29T11:01:51.226Z"
   },
   {
    "duration": 3,
    "start_time": "2022-05-29T11:01:51.411Z"
   },
   {
    "duration": 8,
    "start_time": "2022-05-29T11:01:51.501Z"
   },
   {
    "duration": 13,
    "start_time": "2022-05-29T11:01:51.645Z"
   },
   {
    "duration": 7,
    "start_time": "2022-05-29T11:01:51.744Z"
   },
   {
    "duration": 6,
    "start_time": "2022-05-29T11:01:51.910Z"
   },
   {
    "duration": 18,
    "start_time": "2022-05-29T11:01:52.200Z"
   },
   {
    "duration": 30,
    "start_time": "2022-05-29T11:01:52.649Z"
   },
   {
    "duration": 23,
    "start_time": "2022-05-29T11:01:54.042Z"
   },
   {
    "duration": 5,
    "start_time": "2022-05-29T11:01:54.586Z"
   },
   {
    "duration": 23,
    "start_time": "2022-05-29T11:01:54.771Z"
   },
   {
    "duration": 19,
    "start_time": "2022-05-29T11:01:55.446Z"
   },
   {
    "duration": 36,
    "start_time": "2022-05-29T11:01:55.642Z"
   },
   {
    "duration": 13,
    "start_time": "2022-05-29T11:01:55.907Z"
   },
   {
    "duration": 33,
    "start_time": "2022-05-29T11:01:56.473Z"
   },
   {
    "duration": 88,
    "start_time": "2022-05-29T11:01:56.549Z"
   },
   {
    "duration": 25,
    "start_time": "2022-05-29T11:01:56.787Z"
   },
   {
    "duration": 43,
    "start_time": "2022-05-29T11:02:10.283Z"
   },
   {
    "duration": 23,
    "start_time": "2022-05-29T11:02:12.174Z"
   },
   {
    "duration": 49,
    "start_time": "2022-05-29T11:04:26.164Z"
   },
   {
    "duration": 13,
    "start_time": "2022-05-29T11:04:32.968Z"
   },
   {
    "duration": 11,
    "start_time": "2022-05-29T11:04:50.878Z"
   },
   {
    "duration": 13,
    "start_time": "2022-05-29T11:05:12.080Z"
   },
   {
    "duration": 10,
    "start_time": "2022-05-29T11:06:45.090Z"
   },
   {
    "duration": 14,
    "start_time": "2022-05-29T11:08:38.647Z"
   },
   {
    "duration": 9,
    "start_time": "2022-05-29T11:11:53.931Z"
   },
   {
    "duration": 11,
    "start_time": "2022-05-29T11:12:14.696Z"
   },
   {
    "duration": 107,
    "start_time": "2022-05-29T11:12:23.783Z"
   },
   {
    "duration": 19,
    "start_time": "2022-05-29T11:12:24.407Z"
   },
   {
    "duration": 15,
    "start_time": "2022-05-29T11:12:26.095Z"
   },
   {
    "duration": 14,
    "start_time": "2022-05-29T11:12:26.983Z"
   },
   {
    "duration": 7,
    "start_time": "2022-05-29T11:12:28.505Z"
   },
   {
    "duration": 6,
    "start_time": "2022-05-29T11:12:29.405Z"
   },
   {
    "duration": 7,
    "start_time": "2022-05-29T11:12:30.091Z"
   },
   {
    "duration": 22,
    "start_time": "2022-05-29T11:12:30.848Z"
   },
   {
    "duration": 11,
    "start_time": "2022-05-29T11:12:31.596Z"
   },
   {
    "duration": 9,
    "start_time": "2022-05-29T11:12:32.406Z"
   },
   {
    "duration": 13,
    "start_time": "2022-05-29T11:12:34.111Z"
   },
   {
    "duration": 14,
    "start_time": "2022-05-29T11:12:35.481Z"
   },
   {
    "duration": 15,
    "start_time": "2022-05-29T11:12:36.777Z"
   },
   {
    "duration": 14,
    "start_time": "2022-05-29T11:12:38.288Z"
   },
   {
    "duration": 24,
    "start_time": "2022-05-29T11:12:39.241Z"
   },
   {
    "duration": 12,
    "start_time": "2022-05-29T11:12:40.175Z"
   },
   {
    "duration": 8,
    "start_time": "2022-05-29T11:12:41.284Z"
   },
   {
    "duration": 9,
    "start_time": "2022-05-29T11:12:43.048Z"
   },
   {
    "duration": 20,
    "start_time": "2022-05-29T11:12:44.371Z"
   },
   {
    "duration": 8,
    "start_time": "2022-05-29T11:12:48.510Z"
   },
   {
    "duration": 24,
    "start_time": "2022-05-29T11:12:49.177Z"
   },
   {
    "duration": 44,
    "start_time": "2022-05-29T11:12:49.745Z"
   },
   {
    "duration": 5,
    "start_time": "2022-05-29T11:12:50.375Z"
   },
   {
    "duration": 8,
    "start_time": "2022-05-29T11:12:51.680Z"
   },
   {
    "duration": 9,
    "start_time": "2022-05-29T11:12:52.890Z"
   },
   {
    "duration": 40,
    "start_time": "2022-05-29T11:12:54.497Z"
   },
   {
    "duration": 4,
    "start_time": "2022-05-29T11:13:00.236Z"
   },
   {
    "duration": 13,
    "start_time": "2022-05-29T11:13:02.057Z"
   },
   {
    "duration": 4,
    "start_time": "2022-05-29T11:13:03.781Z"
   },
   {
    "duration": 33,
    "start_time": "2022-05-29T11:13:06.200Z"
   },
   {
    "duration": 3,
    "start_time": "2022-05-29T11:13:07.648Z"
   },
   {
    "duration": 8,
    "start_time": "2022-05-29T11:13:08.824Z"
   },
   {
    "duration": 8,
    "start_time": "2022-05-29T11:13:09.249Z"
   },
   {
    "duration": 14,
    "start_time": "2022-05-29T11:13:09.347Z"
   },
   {
    "duration": 5,
    "start_time": "2022-05-29T11:13:09.601Z"
   },
   {
    "duration": 12,
    "start_time": "2022-05-29T11:13:12.605Z"
   },
   {
    "duration": 9,
    "start_time": "2022-05-29T11:13:44.706Z"
   },
   {
    "duration": 435,
    "start_time": "2022-05-29T11:15:11.580Z"
   },
   {
    "duration": 26,
    "start_time": "2022-05-29T11:15:33.289Z"
   },
   {
    "duration": 42,
    "start_time": "2022-05-29T11:16:09.647Z"
   },
   {
    "duration": 23,
    "start_time": "2022-05-29T11:16:21.821Z"
   },
   {
    "duration": 24,
    "start_time": "2022-05-29T11:18:14.124Z"
   },
   {
    "duration": 23,
    "start_time": "2022-05-29T11:18:34.095Z"
   },
   {
    "duration": 15,
    "start_time": "2022-05-29T11:19:57.505Z"
   },
   {
    "duration": 5,
    "start_time": "2022-05-29T11:20:09.028Z"
   },
   {
    "duration": 12,
    "start_time": "2022-05-29T11:20:12.522Z"
   },
   {
    "duration": 8,
    "start_time": "2022-05-29T11:21:38.183Z"
   },
   {
    "duration": 7,
    "start_time": "2022-05-29T11:21:52.491Z"
   },
   {
    "duration": 10,
    "start_time": "2022-05-29T11:22:16.510Z"
   },
   {
    "duration": 13,
    "start_time": "2022-05-29T11:25:05.398Z"
   },
   {
    "duration": 6,
    "start_time": "2022-05-29T11:28:59.554Z"
   },
   {
    "duration": 10,
    "start_time": "2022-05-29T11:29:18.033Z"
   },
   {
    "duration": 10,
    "start_time": "2022-05-29T11:30:35.086Z"
   },
   {
    "duration": 6,
    "start_time": "2022-05-29T11:32:08.467Z"
   },
   {
    "duration": 4,
    "start_time": "2022-05-29T11:33:27.032Z"
   },
   {
    "duration": 9,
    "start_time": "2022-05-29T11:33:51.485Z"
   },
   {
    "duration": 5,
    "start_time": "2022-05-29T12:06:14.839Z"
   },
   {
    "duration": 9,
    "start_time": "2022-05-29T12:06:16.410Z"
   },
   {
    "duration": 9,
    "start_time": "2022-05-29T12:06:42.791Z"
   },
   {
    "duration": 80,
    "start_time": "2022-05-29T12:07:01.034Z"
   },
   {
    "duration": 14,
    "start_time": "2022-05-29T12:07:02.411Z"
   },
   {
    "duration": 12,
    "start_time": "2022-05-29T12:07:02.860Z"
   },
   {
    "duration": 7,
    "start_time": "2022-05-29T12:07:03.098Z"
   },
   {
    "duration": 7,
    "start_time": "2022-05-29T12:07:03.187Z"
   },
   {
    "duration": 6,
    "start_time": "2022-05-29T12:07:03.421Z"
   },
   {
    "duration": 4,
    "start_time": "2022-05-29T12:07:03.507Z"
   },
   {
    "duration": 10,
    "start_time": "2022-05-29T12:07:03.731Z"
   },
   {
    "duration": 10,
    "start_time": "2022-05-29T12:07:03.822Z"
   },
   {
    "duration": 10,
    "start_time": "2022-05-29T12:07:04.040Z"
   },
   {
    "duration": 14,
    "start_time": "2022-05-29T12:07:04.137Z"
   },
   {
    "duration": 9,
    "start_time": "2022-05-29T12:07:04.374Z"
   },
   {
    "duration": 11,
    "start_time": "2022-05-29T12:07:04.470Z"
   },
   {
    "duration": 10,
    "start_time": "2022-05-29T12:07:04.697Z"
   },
   {
    "duration": 17,
    "start_time": "2022-05-29T12:07:04.804Z"
   },
   {
    "duration": 7,
    "start_time": "2022-05-29T12:07:05.028Z"
   },
   {
    "duration": 8,
    "start_time": "2022-05-29T12:07:05.124Z"
   },
   {
    "duration": 4,
    "start_time": "2022-05-29T12:07:05.464Z"
   },
   {
    "duration": 9,
    "start_time": "2022-05-29T12:07:05.708Z"
   },
   {
    "duration": 7,
    "start_time": "2022-05-29T12:07:06.187Z"
   },
   {
    "duration": 26,
    "start_time": "2022-05-29T12:07:06.408Z"
   },
   {
    "duration": 19,
    "start_time": "2022-05-29T12:07:06.504Z"
   },
   {
    "duration": 3,
    "start_time": "2022-05-29T12:07:06.732Z"
   },
   {
    "duration": 7,
    "start_time": "2022-05-29T12:07:07.232Z"
   },
   {
    "duration": 25,
    "start_time": "2022-05-29T12:07:07.241Z"
   },
   {
    "duration": 33,
    "start_time": "2022-05-29T12:07:07.409Z"
   },
   {
    "duration": 4,
    "start_time": "2022-05-29T12:07:07.594Z"
   },
   {
    "duration": 8,
    "start_time": "2022-05-29T12:07:09.698Z"
   },
   {
    "duration": 4,
    "start_time": "2022-05-29T12:07:11.038Z"
   },
   {
    "duration": 49,
    "start_time": "2022-05-29T12:07:11.989Z"
   },
   {
    "duration": 4,
    "start_time": "2022-05-29T12:07:12.219Z"
   },
   {
    "duration": 7,
    "start_time": "2022-05-29T12:07:12.314Z"
   },
   {
    "duration": 7,
    "start_time": "2022-05-29T12:07:12.552Z"
   },
   {
    "duration": 6,
    "start_time": "2022-05-29T12:07:12.719Z"
   },
   {
    "duration": 6,
    "start_time": "2022-05-29T12:07:13.483Z"
   },
   {
    "duration": 11,
    "start_time": "2022-05-29T12:07:13.827Z"
   },
   {
    "duration": 12,
    "start_time": "2022-05-29T12:07:14.952Z"
   },
   {
    "duration": 13,
    "start_time": "2022-05-29T12:07:16.401Z"
   },
   {
    "duration": 4,
    "start_time": "2022-05-29T12:07:18.900Z"
   },
   {
    "duration": 11,
    "start_time": "2022-05-29T12:07:19.435Z"
   },
   {
    "duration": 10,
    "start_time": "2022-05-29T12:07:19.825Z"
   },
   {
    "duration": 4,
    "start_time": "2022-05-29T12:07:21.781Z"
   },
   {
    "duration": 9,
    "start_time": "2022-05-29T12:07:26.925Z"
   },
   {
    "duration": 5,
    "start_time": "2022-05-29T12:07:28.591Z"
   },
   {
    "duration": 9,
    "start_time": "2022-05-29T12:07:30.730Z"
   },
   {
    "duration": 14,
    "start_time": "2022-05-29T12:08:53.153Z"
   },
   {
    "duration": 6,
    "start_time": "2022-05-29T12:09:03.371Z"
   },
   {
    "duration": 10,
    "start_time": "2022-05-29T12:09:19.138Z"
   },
   {
    "duration": 10,
    "start_time": "2022-05-29T12:10:03.130Z"
   },
   {
    "duration": 9,
    "start_time": "2022-05-29T12:10:34.939Z"
   },
   {
    "duration": 5,
    "start_time": "2022-05-29T12:10:58.235Z"
   },
   {
    "duration": 9,
    "start_time": "2022-05-29T12:11:00.536Z"
   },
   {
    "duration": 9,
    "start_time": "2022-05-29T12:21:10.871Z"
   },
   {
    "duration": 18,
    "start_time": "2022-05-29T12:21:27.619Z"
   },
   {
    "duration": 77,
    "start_time": "2022-05-29T12:22:36.218Z"
   },
   {
    "duration": 17,
    "start_time": "2022-05-29T12:22:36.947Z"
   },
   {
    "duration": 8,
    "start_time": "2022-05-29T12:22:37.657Z"
   },
   {
    "duration": 7,
    "start_time": "2022-05-29T12:22:37.752Z"
   },
   {
    "duration": 5,
    "start_time": "2022-05-29T12:22:37.947Z"
   },
   {
    "duration": 6,
    "start_time": "2022-05-29T12:22:38.548Z"
   },
   {
    "duration": 8,
    "start_time": "2022-05-29T12:22:38.556Z"
   },
   {
    "duration": 14,
    "start_time": "2022-05-29T12:22:38.565Z"
   },
   {
    "duration": 9,
    "start_time": "2022-05-29T12:22:38.581Z"
   },
   {
    "duration": 8,
    "start_time": "2022-05-29T12:22:38.592Z"
   },
   {
    "duration": 14,
    "start_time": "2022-05-29T12:22:38.761Z"
   },
   {
    "duration": 9,
    "start_time": "2022-05-29T12:22:38.850Z"
   },
   {
    "duration": 14,
    "start_time": "2022-05-29T12:22:39.023Z"
   },
   {
    "duration": 11,
    "start_time": "2022-05-29T12:22:39.100Z"
   },
   {
    "duration": 16,
    "start_time": "2022-05-29T12:22:39.263Z"
   },
   {
    "duration": 7,
    "start_time": "2022-05-29T12:22:39.328Z"
   },
   {
    "duration": 8,
    "start_time": "2022-05-29T12:22:39.489Z"
   },
   {
    "duration": 4,
    "start_time": "2022-05-29T12:22:39.725Z"
   },
   {
    "duration": 9,
    "start_time": "2022-05-29T12:22:39.811Z"
   },
   {
    "duration": 8,
    "start_time": "2022-05-29T12:22:40.218Z"
   },
   {
    "duration": 23,
    "start_time": "2022-05-29T12:22:40.304Z"
   },
   {
    "duration": 23,
    "start_time": "2022-05-29T12:22:40.558Z"
   },
   {
    "duration": 3,
    "start_time": "2022-05-29T12:22:40.678Z"
   },
   {
    "duration": 7,
    "start_time": "2022-05-29T12:22:40.829Z"
   },
   {
    "duration": 9,
    "start_time": "2022-05-29T12:22:41.175Z"
   },
   {
    "duration": 36,
    "start_time": "2022-05-29T12:22:42.173Z"
   },
   {
    "duration": 4,
    "start_time": "2022-05-29T12:22:42.357Z"
   },
   {
    "duration": 7,
    "start_time": "2022-05-29T12:22:42.681Z"
   },
   {
    "duration": 4,
    "start_time": "2022-05-29T12:22:42.747Z"
   },
   {
    "duration": 36,
    "start_time": "2022-05-29T12:22:43.124Z"
   },
   {
    "duration": 3,
    "start_time": "2022-05-29T12:22:44.066Z"
   },
   {
    "duration": 6,
    "start_time": "2022-05-29T12:22:44.149Z"
   },
   {
    "duration": 6,
    "start_time": "2022-05-29T12:22:45.199Z"
   },
   {
    "duration": 15,
    "start_time": "2022-05-29T12:22:45.207Z"
   },
   {
    "duration": 8,
    "start_time": "2022-05-29T12:22:45.261Z"
   },
   {
    "duration": 10,
    "start_time": "2022-05-29T12:22:46.582Z"
   },
   {
    "duration": 9,
    "start_time": "2022-05-29T12:23:19.744Z"
   },
   {
    "duration": 12,
    "start_time": "2022-05-29T12:23:20.279Z"
   },
   {
    "duration": 4,
    "start_time": "2022-05-29T12:23:32.790Z"
   },
   {
    "duration": 12,
    "start_time": "2022-05-29T12:23:33.824Z"
   },
   {
    "duration": 10,
    "start_time": "2022-05-29T12:23:48.247Z"
   },
   {
    "duration": 4,
    "start_time": "2022-05-29T12:23:54.524Z"
   },
   {
    "duration": 14,
    "start_time": "2022-05-29T12:23:59.061Z"
   },
   {
    "duration": 9,
    "start_time": "2022-05-29T12:24:21.368Z"
   },
   {
    "duration": 5,
    "start_time": "2022-05-29T12:26:52.464Z"
   },
   {
    "duration": 9,
    "start_time": "2022-05-29T12:26:55.713Z"
   },
   {
    "duration": 9,
    "start_time": "2022-05-29T12:29:49.475Z"
   },
   {
    "duration": 9,
    "start_time": "2022-05-29T12:30:04.456Z"
   },
   {
    "duration": 8,
    "start_time": "2022-05-29T12:30:16.804Z"
   },
   {
    "duration": 10,
    "start_time": "2022-05-29T12:30:31.945Z"
   },
   {
    "duration": 4,
    "start_time": "2022-05-29T12:31:49.187Z"
   },
   {
    "duration": 4,
    "start_time": "2022-05-29T12:32:18.899Z"
   },
   {
    "duration": 4,
    "start_time": "2022-05-29T12:33:00.526Z"
   },
   {
    "duration": 10,
    "start_time": "2022-05-29T12:33:19.146Z"
   },
   {
    "duration": 22,
    "start_time": "2022-05-29T12:34:39.450Z"
   },
   {
    "duration": 18,
    "start_time": "2022-05-29T12:42:41.019Z"
   },
   {
    "duration": 15,
    "start_time": "2022-05-29T12:43:12.043Z"
   },
   {
    "duration": 11,
    "start_time": "2022-05-29T12:43:16.476Z"
   },
   {
    "duration": 4,
    "start_time": "2022-05-29T12:43:19.369Z"
   },
   {
    "duration": 16,
    "start_time": "2022-05-29T13:42:51.863Z"
   },
   {
    "duration": 11,
    "start_time": "2022-05-29T13:42:54.767Z"
   },
   {
    "duration": 11,
    "start_time": "2022-05-29T13:43:23.142Z"
   },
   {
    "duration": 8,
    "start_time": "2022-05-29T13:44:23.713Z"
   },
   {
    "duration": 9,
    "start_time": "2022-05-29T13:44:29.290Z"
   },
   {
    "duration": 315,
    "start_time": "2022-05-29T13:44:57.468Z"
   },
   {
    "duration": 13,
    "start_time": "2022-05-29T13:44:57.785Z"
   },
   {
    "duration": 9,
    "start_time": "2022-05-29T13:44:57.843Z"
   },
   {
    "duration": 7,
    "start_time": "2022-05-29T13:44:58.046Z"
   },
   {
    "duration": 8,
    "start_time": "2022-05-29T13:44:58.119Z"
   },
   {
    "duration": 7,
    "start_time": "2022-05-29T13:44:58.320Z"
   },
   {
    "duration": 4,
    "start_time": "2022-05-29T13:44:58.416Z"
   },
   {
    "duration": 11,
    "start_time": "2022-05-29T13:44:58.606Z"
   },
   {
    "duration": 14,
    "start_time": "2022-05-29T13:44:58.698Z"
   },
   {
    "duration": 9,
    "start_time": "2022-05-29T13:44:58.893Z"
   },
   {
    "duration": 15,
    "start_time": "2022-05-29T13:44:58.996Z"
   },
   {
    "duration": 14,
    "start_time": "2022-05-29T13:44:59.193Z"
   },
   {
    "duration": 12,
    "start_time": "2022-05-29T13:44:59.371Z"
   },
   {
    "duration": 10,
    "start_time": "2022-05-29T13:44:59.601Z"
   },
   {
    "duration": 18,
    "start_time": "2022-05-29T13:44:59.662Z"
   },
   {
    "duration": 8,
    "start_time": "2022-05-29T13:45:00.097Z"
   },
   {
    "duration": 7,
    "start_time": "2022-05-29T13:45:00.107Z"
   },
   {
    "duration": 4,
    "start_time": "2022-05-29T13:45:00.369Z"
   },
   {
    "duration": 11,
    "start_time": "2022-05-29T13:45:00.565Z"
   },
   {
    "duration": 7,
    "start_time": "2022-05-29T13:45:00.912Z"
   },
   {
    "duration": 22,
    "start_time": "2022-05-29T13:45:01.167Z"
   },
   {
    "duration": 23,
    "start_time": "2022-05-29T13:45:01.228Z"
   },
   {
    "duration": 4,
    "start_time": "2022-05-29T13:45:01.416Z"
   },
   {
    "duration": 8,
    "start_time": "2022-05-29T13:45:01.476Z"
   },
   {
    "duration": 10,
    "start_time": "2022-05-29T13:45:01.753Z"
   },
   {
    "duration": 49,
    "start_time": "2022-05-29T13:45:01.947Z"
   },
   {
    "duration": 4,
    "start_time": "2022-05-29T13:45:02.027Z"
   },
   {
    "duration": 8,
    "start_time": "2022-05-29T13:45:02.209Z"
   },
   {
    "duration": 3,
    "start_time": "2022-05-29T13:45:02.323Z"
   },
   {
    "duration": 40,
    "start_time": "2022-05-29T13:45:02.578Z"
   },
   {
    "duration": 3,
    "start_time": "2022-05-29T13:45:02.795Z"
   },
   {
    "duration": 5,
    "start_time": "2022-05-29T13:45:02.888Z"
   },
   {
    "duration": 6,
    "start_time": "2022-05-29T13:45:03.103Z"
   },
   {
    "duration": 6,
    "start_time": "2022-05-29T13:45:03.204Z"
   },
   {
    "duration": 7,
    "start_time": "2022-05-29T13:45:03.410Z"
   },
   {
    "duration": 12,
    "start_time": "2022-05-29T13:45:03.699Z"
   },
   {
    "duration": 11,
    "start_time": "2022-05-29T13:45:04.015Z"
   },
   {
    "duration": 14,
    "start_time": "2022-05-29T13:45:04.404Z"
   },
   {
    "duration": 4,
    "start_time": "2022-05-29T13:45:08.688Z"
   },
   {
    "duration": 11,
    "start_time": "2022-05-29T13:45:08.947Z"
   },
   {
    "duration": 16,
    "start_time": "2022-05-29T13:45:11.198Z"
   },
   {
    "duration": 13,
    "start_time": "2022-05-29T13:45:14.555Z"
   },
   {
    "duration": 11,
    "start_time": "2022-05-29T13:45:16.703Z"
   },
   {
    "duration": 9,
    "start_time": "2022-05-29T13:45:18.712Z"
   },
   {
    "duration": 8,
    "start_time": "2022-05-29T13:45:18.891Z"
   },
   {
    "duration": 15,
    "start_time": "2022-05-29T13:45:34.718Z"
   },
   {
    "duration": 13,
    "start_time": "2022-05-29T13:45:36.731Z"
   },
   {
    "duration": 11,
    "start_time": "2022-05-29T13:45:38.554Z"
   },
   {
    "duration": 16,
    "start_time": "2022-05-29T13:45:55.371Z"
   },
   {
    "duration": 14,
    "start_time": "2022-05-29T13:45:56.893Z"
   },
   {
    "duration": 101,
    "start_time": "2022-05-29T13:47:20.676Z"
   },
   {
    "duration": 13,
    "start_time": "2022-05-29T13:47:21.529Z"
   },
   {
    "duration": 13,
    "start_time": "2022-05-29T13:47:23.522Z"
   },
   {
    "duration": 8,
    "start_time": "2022-05-29T13:47:24.603Z"
   },
   {
    "duration": 5,
    "start_time": "2022-05-29T13:47:25.600Z"
   },
   {
    "duration": 7,
    "start_time": "2022-05-29T13:47:26.565Z"
   },
   {
    "duration": 4,
    "start_time": "2022-05-29T13:47:27.714Z"
   },
   {
    "duration": 8,
    "start_time": "2022-05-29T13:47:28.685Z"
   },
   {
    "duration": 11,
    "start_time": "2022-05-29T13:47:29.548Z"
   },
   {
    "duration": 10,
    "start_time": "2022-05-29T13:47:30.468Z"
   },
   {
    "duration": 13,
    "start_time": "2022-05-29T13:47:31.280Z"
   },
   {
    "duration": 11,
    "start_time": "2022-05-29T13:47:32.229Z"
   },
   {
    "duration": 12,
    "start_time": "2022-05-29T13:47:33.143Z"
   },
   {
    "duration": 11,
    "start_time": "2022-05-29T13:47:34.094Z"
   },
   {
    "duration": 17,
    "start_time": "2022-05-29T13:47:34.891Z"
   },
   {
    "duration": 9,
    "start_time": "2022-05-29T13:47:35.951Z"
   },
   {
    "duration": 7,
    "start_time": "2022-05-29T13:47:36.967Z"
   },
   {
    "duration": 4,
    "start_time": "2022-05-29T13:47:38.442Z"
   },
   {
    "duration": 11,
    "start_time": "2022-05-29T13:47:38.854Z"
   },
   {
    "duration": 7,
    "start_time": "2022-05-29T13:47:40.343Z"
   },
   {
    "duration": 23,
    "start_time": "2022-05-29T13:47:40.869Z"
   },
   {
    "duration": 22,
    "start_time": "2022-05-29T13:47:41.121Z"
   },
   {
    "duration": 4,
    "start_time": "2022-05-29T13:47:41.433Z"
   },
   {
    "duration": 9,
    "start_time": "2022-05-29T13:47:41.715Z"
   },
   {
    "duration": 13,
    "start_time": "2022-05-29T13:47:42.747Z"
   },
   {
    "duration": 44,
    "start_time": "2022-05-29T13:47:43.052Z"
   },
   {
    "duration": 5,
    "start_time": "2022-05-29T13:47:43.146Z"
   },
   {
    "duration": 8,
    "start_time": "2022-05-29T13:47:43.466Z"
   },
   {
    "duration": 6,
    "start_time": "2022-05-29T13:47:50.652Z"
   },
   {
    "duration": 53,
    "start_time": "2022-05-29T13:47:52.272Z"
   },
   {
    "duration": 3,
    "start_time": "2022-05-29T13:47:52.692Z"
   },
   {
    "duration": 6,
    "start_time": "2022-05-29T13:47:53.046Z"
   },
   {
    "duration": 6,
    "start_time": "2022-05-29T13:47:53.343Z"
   },
   {
    "duration": 7,
    "start_time": "2022-05-29T13:47:53.966Z"
   },
   {
    "duration": 9,
    "start_time": "2022-05-29T13:47:54.549Z"
   },
   {
    "duration": 11,
    "start_time": "2022-05-29T13:47:56.207Z"
   },
   {
    "duration": 10,
    "start_time": "2022-05-29T13:47:58.392Z"
   },
   {
    "duration": 19,
    "start_time": "2022-05-29T13:47:59.847Z"
   },
   {
    "duration": 13,
    "start_time": "2022-05-29T13:49:13.824Z"
   },
   {
    "duration": 5,
    "start_time": "2022-05-29T13:49:17.812Z"
   },
   {
    "duration": 18,
    "start_time": "2022-05-29T13:49:18.705Z"
   },
   {
    "duration": 20,
    "start_time": "2022-05-29T13:49:26.245Z"
   },
   {
    "duration": 19,
    "start_time": "2022-05-29T13:49:28.164Z"
   },
   {
    "duration": 9,
    "start_time": "2022-05-29T13:49:37.414Z"
   },
   {
    "duration": 8,
    "start_time": "2022-05-29T13:49:54.103Z"
   },
   {
    "duration": 89,
    "start_time": "2022-05-29T13:54:40.906Z"
   },
   {
    "duration": 13,
    "start_time": "2022-05-29T13:54:40.998Z"
   },
   {
    "duration": 10,
    "start_time": "2022-05-29T13:54:41.366Z"
   },
   {
    "duration": 8,
    "start_time": "2022-05-29T13:54:41.581Z"
   },
   {
    "duration": 7,
    "start_time": "2022-05-29T13:54:41.645Z"
   },
   {
    "duration": 6,
    "start_time": "2022-05-29T13:54:41.794Z"
   },
   {
    "duration": 3,
    "start_time": "2022-05-29T13:54:41.877Z"
   },
   {
    "duration": 8,
    "start_time": "2022-05-29T13:54:42.042Z"
   },
   {
    "duration": 12,
    "start_time": "2022-05-29T13:54:42.254Z"
   },
   {
    "duration": 9,
    "start_time": "2022-05-29T13:54:42.326Z"
   },
   {
    "duration": 18,
    "start_time": "2022-05-29T13:54:42.487Z"
   },
   {
    "duration": 12,
    "start_time": "2022-05-29T13:54:42.573Z"
   },
   {
    "duration": 18,
    "start_time": "2022-05-29T13:54:42.752Z"
   },
   {
    "duration": 18,
    "start_time": "2022-05-29T13:54:42.850Z"
   },
   {
    "duration": 18,
    "start_time": "2022-05-29T13:54:43.010Z"
   },
   {
    "duration": 7,
    "start_time": "2022-05-29T13:54:43.110Z"
   },
   {
    "duration": 8,
    "start_time": "2022-05-29T13:54:43.283Z"
   },
   {
    "duration": 3,
    "start_time": "2022-05-29T13:54:43.585Z"
   },
   {
    "duration": 10,
    "start_time": "2022-05-29T13:54:43.688Z"
   },
   {
    "duration": 15,
    "start_time": "2022-05-29T13:54:44.190Z"
   },
   {
    "duration": 23,
    "start_time": "2022-05-29T13:54:44.300Z"
   },
   {
    "duration": 22,
    "start_time": "2022-05-29T13:54:44.492Z"
   },
   {
    "duration": 4,
    "start_time": "2022-05-29T13:54:45.790Z"
   },
   {
    "duration": 9,
    "start_time": "2022-05-29T13:54:46.548Z"
   },
   {
    "duration": 10,
    "start_time": "2022-05-29T13:54:47.845Z"
   },
   {
    "duration": 33,
    "start_time": "2022-05-29T13:54:47.972Z"
   },
   {
    "duration": 4,
    "start_time": "2022-05-29T13:54:48.191Z"
   },
   {
    "duration": 8,
    "start_time": "2022-05-29T13:54:48.729Z"
   },
   {
    "duration": 3,
    "start_time": "2022-05-29T13:54:49.090Z"
   },
   {
    "duration": 33,
    "start_time": "2022-05-29T13:54:49.421Z"
   },
   {
    "duration": 3,
    "start_time": "2022-05-29T13:54:49.605Z"
   },
   {
    "duration": 6,
    "start_time": "2022-05-29T13:54:49.852Z"
   },
   {
    "duration": 6,
    "start_time": "2022-05-29T13:54:49.960Z"
   },
   {
    "duration": 7,
    "start_time": "2022-05-29T13:54:50.177Z"
   },
   {
    "duration": 6,
    "start_time": "2022-05-29T13:54:50.266Z"
   },
   {
    "duration": 18,
    "start_time": "2022-05-29T13:54:50.550Z"
   },
   {
    "duration": 4,
    "start_time": "2022-05-29T13:54:51.039Z"
   },
   {
    "duration": 11,
    "start_time": "2022-05-29T13:54:51.117Z"
   },
   {
    "duration": 9,
    "start_time": "2022-05-29T13:54:51.712Z"
   },
   {
    "duration": 8,
    "start_time": "2022-05-29T13:54:51.965Z"
   },
   {
    "duration": 18,
    "start_time": "2022-05-29T13:54:52.051Z"
   },
   {
    "duration": 13,
    "start_time": "2022-05-29T13:54:52.270Z"
   },
   {
    "duration": 14,
    "start_time": "2022-05-29T13:54:52.459Z"
   },
   {
    "duration": 16,
    "start_time": "2022-05-29T13:54:52.510Z"
   },
   {
    "duration": 21,
    "start_time": "2022-05-29T13:54:52.690Z"
   },
   {
    "duration": 26,
    "start_time": "2022-05-29T13:54:52.787Z"
   },
   {
    "duration": 22,
    "start_time": "2022-05-29T13:54:52.945Z"
   },
   {
    "duration": 10,
    "start_time": "2022-05-29T13:54:53.011Z"
   },
   {
    "duration": 9,
    "start_time": "2022-05-29T13:54:53.167Z"
   },
   {
    "duration": 17,
    "start_time": "2022-05-29T13:55:58.092Z"
   },
   {
    "duration": 20,
    "start_time": "2022-05-29T13:56:26.887Z"
   },
   {
    "duration": 30,
    "start_time": "2022-05-29T13:56:45.865Z"
   },
   {
    "duration": 17,
    "start_time": "2022-05-29T13:57:08.185Z"
   },
   {
    "duration": 24,
    "start_time": "2022-05-29T13:57:26.842Z"
   },
   {
    "duration": 17,
    "start_time": "2022-05-29T13:58:31.320Z"
   },
   {
    "duration": 87,
    "start_time": "2022-05-29T13:58:52.438Z"
   },
   {
    "duration": 13,
    "start_time": "2022-05-29T13:58:53.799Z"
   },
   {
    "duration": 15,
    "start_time": "2022-05-29T13:58:56.650Z"
   },
   {
    "duration": 7,
    "start_time": "2022-05-29T13:58:59.260Z"
   },
   {
    "duration": 6,
    "start_time": "2022-05-29T13:59:01.066Z"
   },
   {
    "duration": 6,
    "start_time": "2022-05-29T13:59:02.744Z"
   },
   {
    "duration": 5,
    "start_time": "2022-05-29T13:59:03.988Z"
   },
   {
    "duration": 10,
    "start_time": "2022-05-29T13:59:05.587Z"
   },
   {
    "duration": 11,
    "start_time": "2022-05-29T13:59:08.074Z"
   },
   {
    "duration": 10,
    "start_time": "2022-05-29T13:59:09.064Z"
   },
   {
    "duration": 18,
    "start_time": "2022-05-29T13:59:11.952Z"
   },
   {
    "duration": 9,
    "start_time": "2022-05-29T13:59:13.729Z"
   },
   {
    "duration": 16,
    "start_time": "2022-05-29T13:59:15.350Z"
   },
   {
    "duration": 11,
    "start_time": "2022-05-29T13:59:17.109Z"
   },
   {
    "duration": 24,
    "start_time": "2022-05-29T13:59:19.254Z"
   },
   {
    "duration": 7,
    "start_time": "2022-05-29T13:59:22.280Z"
   },
   {
    "duration": 10,
    "start_time": "2022-05-29T13:59:25.805Z"
   },
   {
    "duration": 4,
    "start_time": "2022-05-29T13:59:29.150Z"
   },
   {
    "duration": 14,
    "start_time": "2022-05-29T13:59:30.382Z"
   },
   {
    "duration": 7,
    "start_time": "2022-05-29T13:59:34.843Z"
   },
   {
    "duration": 20,
    "start_time": "2022-05-29T13:59:36.525Z"
   },
   {
    "duration": 26,
    "start_time": "2022-05-29T13:59:40.989Z"
   },
   {
    "duration": 3,
    "start_time": "2022-05-29T13:59:42.181Z"
   },
   {
    "duration": 7,
    "start_time": "2022-05-29T13:59:46.461Z"
   },
   {
    "duration": 11,
    "start_time": "2022-05-29T13:59:49.991Z"
   },
   {
    "duration": 33,
    "start_time": "2022-05-29T13:59:52.272Z"
   },
   {
    "duration": 4,
    "start_time": "2022-05-29T13:59:54.498Z"
   },
   {
    "duration": 8,
    "start_time": "2022-05-29T13:59:56.571Z"
   },
   {
    "duration": 4,
    "start_time": "2022-05-29T14:00:08.882Z"
   },
   {
    "duration": 48,
    "start_time": "2022-05-29T14:00:17.076Z"
   },
   {
    "duration": 4,
    "start_time": "2022-05-29T14:00:20.643Z"
   },
   {
    "duration": 7,
    "start_time": "2022-05-29T14:00:22.263Z"
   },
   {
    "duration": 7,
    "start_time": "2022-05-29T14:00:23.647Z"
   },
   {
    "duration": 7,
    "start_time": "2022-05-29T14:00:25.489Z"
   },
   {
    "duration": 6,
    "start_time": "2022-05-29T14:00:27.187Z"
   },
   {
    "duration": 17,
    "start_time": "2022-05-29T14:00:29.844Z"
   },
   {
    "duration": 4,
    "start_time": "2022-05-29T14:00:45.205Z"
   },
   {
    "duration": 12,
    "start_time": "2022-05-29T14:00:48.707Z"
   },
   {
    "duration": 22,
    "start_time": "2022-05-29T14:00:55.464Z"
   },
   {
    "duration": 30,
    "start_time": "2022-05-29T14:04:15.569Z"
   },
   {
    "duration": 14,
    "start_time": "2022-05-29T14:05:05.083Z"
   },
   {
    "duration": 29,
    "start_time": "2022-05-29T14:06:15.626Z"
   },
   {
    "duration": 12,
    "start_time": "2022-05-29T14:06:31.080Z"
   },
   {
    "duration": 15,
    "start_time": "2022-05-29T14:08:37.127Z"
   },
   {
    "duration": 13,
    "start_time": "2022-05-29T14:08:39.915Z"
   },
   {
    "duration": 10,
    "start_time": "2022-05-29T14:08:48.083Z"
   },
   {
    "duration": 9,
    "start_time": "2022-05-29T14:09:09.092Z"
   },
   {
    "duration": 12,
    "start_time": "2022-05-29T14:09:27.346Z"
   },
   {
    "duration": 9,
    "start_time": "2022-05-29T14:09:29.159Z"
   },
   {
    "duration": 77,
    "start_time": "2022-05-29T14:10:02.388Z"
   },
   {
    "duration": 12,
    "start_time": "2022-05-29T14:10:03.757Z"
   },
   {
    "duration": 10,
    "start_time": "2022-05-29T14:10:05.061Z"
   },
   {
    "duration": 9,
    "start_time": "2022-05-29T14:10:05.188Z"
   },
   {
    "duration": 5,
    "start_time": "2022-05-29T14:10:05.430Z"
   },
   {
    "duration": 5,
    "start_time": "2022-05-29T14:10:05.551Z"
   },
   {
    "duration": 4,
    "start_time": "2022-05-29T14:10:05.762Z"
   },
   {
    "duration": 8,
    "start_time": "2022-05-29T14:10:05.865Z"
   },
   {
    "duration": 10,
    "start_time": "2022-05-29T14:10:06.072Z"
   },
   {
    "duration": 8,
    "start_time": "2022-05-29T14:10:06.160Z"
   },
   {
    "duration": 11,
    "start_time": "2022-05-29T14:10:06.374Z"
   },
   {
    "duration": 8,
    "start_time": "2022-05-29T14:10:06.477Z"
   },
   {
    "duration": 13,
    "start_time": "2022-05-29T14:10:06.709Z"
   },
   {
    "duration": 10,
    "start_time": "2022-05-29T14:10:06.828Z"
   },
   {
    "duration": 17,
    "start_time": "2022-05-29T14:10:07.041Z"
   },
   {
    "duration": 7,
    "start_time": "2022-05-29T14:10:07.132Z"
   },
   {
    "duration": 7,
    "start_time": "2022-05-29T14:10:07.912Z"
   },
   {
    "duration": 6,
    "start_time": "2022-05-29T14:10:07.921Z"
   },
   {
    "duration": 11,
    "start_time": "2022-05-29T14:10:07.928Z"
   },
   {
    "duration": 6,
    "start_time": "2022-05-29T14:10:08.319Z"
   },
   {
    "duration": 22,
    "start_time": "2022-05-29T14:10:08.431Z"
   },
   {
    "duration": 20,
    "start_time": "2022-05-29T14:10:08.657Z"
   },
   {
    "duration": 3,
    "start_time": "2022-05-29T14:10:08.750Z"
   },
   {
    "duration": 7,
    "start_time": "2022-05-29T14:10:08.973Z"
   },
   {
    "duration": 8,
    "start_time": "2022-05-29T14:10:13.660Z"
   },
   {
    "duration": 32,
    "start_time": "2022-05-29T14:10:13.880Z"
   },
   {
    "duration": 4,
    "start_time": "2022-05-29T14:10:13.962Z"
   },
   {
    "duration": 7,
    "start_time": "2022-05-29T14:10:14.176Z"
   },
   {
    "duration": 4,
    "start_time": "2022-05-29T14:10:14.264Z"
   },
   {
    "duration": 32,
    "start_time": "2022-05-29T14:10:14.550Z"
   },
   {
    "duration": 3,
    "start_time": "2022-05-29T14:10:14.691Z"
   },
   {
    "duration": 6,
    "start_time": "2022-05-29T14:10:14.787Z"
   },
   {
    "duration": 6,
    "start_time": "2022-05-29T14:10:14.994Z"
   },
   {
    "duration": 6,
    "start_time": "2022-05-29T14:10:15.097Z"
   },
   {
    "duration": 8,
    "start_time": "2022-05-29T14:10:15.315Z"
   },
   {
    "duration": 12,
    "start_time": "2022-05-29T14:10:15.649Z"
   },
   {
    "duration": 5,
    "start_time": "2022-05-29T14:10:16.055Z"
   },
   {
    "duration": 18,
    "start_time": "2022-05-29T14:10:16.291Z"
   },
   {
    "duration": 20,
    "start_time": "2022-05-29T14:10:16.623Z"
   },
   {
    "duration": 16,
    "start_time": "2022-05-29T14:10:17.181Z"
   },
   {
    "duration": 14,
    "start_time": "2022-05-29T14:10:17.270Z"
   },
   {
    "duration": 11,
    "start_time": "2022-05-29T14:10:17.513Z"
   },
   {
    "duration": 9,
    "start_time": "2022-05-29T14:10:18.192Z"
   },
   {
    "duration": 10,
    "start_time": "2022-05-29T14:10:18.308Z"
   },
   {
    "duration": 13,
    "start_time": "2022-05-29T14:10:18.551Z"
   },
   {
    "duration": 15,
    "start_time": "2022-05-29T14:10:30.326Z"
   },
   {
    "duration": 15,
    "start_time": "2022-05-29T14:10:46.011Z"
   },
   {
    "duration": 15,
    "start_time": "2022-05-29T14:10:47.567Z"
   },
   {
    "duration": 15,
    "start_time": "2022-05-29T14:10:49.799Z"
   },
   {
    "duration": 10,
    "start_time": "2022-05-29T14:10:53.318Z"
   },
   {
    "duration": 80,
    "start_time": "2022-05-29T14:11:24.178Z"
   },
   {
    "duration": 14,
    "start_time": "2022-05-29T14:11:26.565Z"
   },
   {
    "duration": 9,
    "start_time": "2022-05-29T14:11:27.249Z"
   },
   {
    "duration": 8,
    "start_time": "2022-05-29T14:11:27.581Z"
   },
   {
    "duration": 5,
    "start_time": "2022-05-29T14:11:27.707Z"
   },
   {
    "duration": 6,
    "start_time": "2022-05-29T14:11:27.946Z"
   },
   {
    "duration": 3,
    "start_time": "2022-05-29T14:11:28.047Z"
   },
   {
    "duration": 9,
    "start_time": "2022-05-29T14:11:28.260Z"
   },
   {
    "duration": 12,
    "start_time": "2022-05-29T14:11:28.369Z"
   },
   {
    "duration": 9,
    "start_time": "2022-05-29T14:11:28.584Z"
   },
   {
    "duration": 15,
    "start_time": "2022-05-29T14:11:28.693Z"
   },
   {
    "duration": 9,
    "start_time": "2022-05-29T14:11:28.900Z"
   },
   {
    "duration": 12,
    "start_time": "2022-05-29T14:11:28.995Z"
   },
   {
    "duration": 11,
    "start_time": "2022-05-29T14:11:29.196Z"
   },
   {
    "duration": 17,
    "start_time": "2022-05-29T14:11:29.299Z"
   },
   {
    "duration": 8,
    "start_time": "2022-05-29T14:11:29.496Z"
   },
   {
    "duration": 8,
    "start_time": "2022-05-29T14:11:29.563Z"
   },
   {
    "duration": 4,
    "start_time": "2022-05-29T14:11:29.909Z"
   },
   {
    "duration": 10,
    "start_time": "2022-05-29T14:11:30.148Z"
   },
   {
    "duration": 6,
    "start_time": "2022-05-29T14:11:30.546Z"
   },
   {
    "duration": 21,
    "start_time": "2022-05-29T14:11:30.772Z"
   },
   {
    "duration": 21,
    "start_time": "2022-05-29T14:11:30.867Z"
   },
   {
    "duration": 4,
    "start_time": "2022-05-29T14:11:31.072Z"
   },
   {
    "duration": 8,
    "start_time": "2022-05-29T14:11:31.253Z"
   },
   {
    "duration": 9,
    "start_time": "2022-05-29T14:11:32.506Z"
   },
   {
    "duration": 32,
    "start_time": "2022-05-29T14:11:32.815Z"
   },
   {
    "duration": 4,
    "start_time": "2022-05-29T14:11:32.916Z"
   },
   {
    "duration": 7,
    "start_time": "2022-05-29T14:11:33.179Z"
   },
   {
    "duration": 3,
    "start_time": "2022-05-29T14:11:33.314Z"
   },
   {
    "duration": 33,
    "start_time": "2022-05-29T14:11:33.649Z"
   },
   {
    "duration": 3,
    "start_time": "2022-05-29T14:11:33.873Z"
   },
   {
    "duration": 6,
    "start_time": "2022-05-29T14:11:33.976Z"
   },
   {
    "duration": 6,
    "start_time": "2022-05-29T14:11:34.207Z"
   },
   {
    "duration": 6,
    "start_time": "2022-05-29T14:11:34.346Z"
   },
   {
    "duration": 6,
    "start_time": "2022-05-29T14:11:34.566Z"
   },
   {
    "duration": 16,
    "start_time": "2022-05-29T14:11:35.170Z"
   },
   {
    "duration": 4,
    "start_time": "2022-05-29T14:11:35.654Z"
   },
   {
    "duration": 12,
    "start_time": "2022-05-29T14:11:35.750Z"
   },
   {
    "duration": 13,
    "start_time": "2022-05-29T14:11:36.120Z"
   },
   {
    "duration": 13,
    "start_time": "2022-05-29T14:11:44.097Z"
   },
   {
    "duration": 17,
    "start_time": "2022-05-29T14:11:45.511Z"
   },
   {
    "duration": 12,
    "start_time": "2022-05-29T14:11:48.473Z"
   },
   {
    "duration": 11,
    "start_time": "2022-05-29T14:11:50.682Z"
   },
   {
    "duration": 9,
    "start_time": "2022-05-29T14:14:16.821Z"
   },
   {
    "duration": 8,
    "start_time": "2022-05-29T14:14:20.323Z"
   },
   {
    "duration": 15,
    "start_time": "2022-05-29T14:18:19.869Z"
   },
   {
    "duration": 74,
    "start_time": "2022-05-29T14:18:32.379Z"
   },
   {
    "duration": 13,
    "start_time": "2022-05-29T14:18:33.109Z"
   },
   {
    "duration": 9,
    "start_time": "2022-05-29T14:18:33.705Z"
   },
   {
    "duration": 6,
    "start_time": "2022-05-29T14:18:33.876Z"
   },
   {
    "duration": 5,
    "start_time": "2022-05-29T14:18:33.952Z"
   },
   {
    "duration": 6,
    "start_time": "2022-05-29T14:18:34.154Z"
   },
   {
    "duration": 3,
    "start_time": "2022-05-29T14:18:34.385Z"
   },
   {
    "duration": 9,
    "start_time": "2022-05-29T14:18:34.461Z"
   },
   {
    "duration": 10,
    "start_time": "2022-05-29T14:18:34.619Z"
   },
   {
    "duration": 9,
    "start_time": "2022-05-29T14:18:34.680Z"
   },
   {
    "duration": 14,
    "start_time": "2022-05-29T14:18:34.847Z"
   },
   {
    "duration": 10,
    "start_time": "2022-05-29T14:18:34.916Z"
   },
   {
    "duration": 13,
    "start_time": "2022-05-29T14:18:35.082Z"
   },
   {
    "duration": 13,
    "start_time": "2022-05-29T14:18:35.159Z"
   },
   {
    "duration": 21,
    "start_time": "2022-05-29T14:18:35.326Z"
   },
   {
    "duration": 7,
    "start_time": "2022-05-29T14:18:35.424Z"
   },
   {
    "duration": 8,
    "start_time": "2022-05-29T14:18:35.505Z"
   },
   {
    "duration": 5,
    "start_time": "2022-05-29T14:18:35.826Z"
   },
   {
    "duration": 13,
    "start_time": "2022-05-29T14:18:36.019Z"
   },
   {
    "duration": 6,
    "start_time": "2022-05-29T14:18:36.320Z"
   },
   {
    "duration": 21,
    "start_time": "2022-05-29T14:18:36.484Z"
   },
   {
    "duration": 21,
    "start_time": "2022-05-29T14:18:36.563Z"
   },
   {
    "duration": 3,
    "start_time": "2022-05-29T14:18:36.711Z"
   },
   {
    "duration": 8,
    "start_time": "2022-05-29T14:18:36.792Z"
   },
   {
    "duration": 9,
    "start_time": "2022-05-29T14:18:37.046Z"
   },
   {
    "duration": 31,
    "start_time": "2022-05-29T14:18:37.266Z"
   },
   {
    "duration": 4,
    "start_time": "2022-05-29T14:18:37.324Z"
   },
   {
    "duration": 8,
    "start_time": "2022-05-29T14:18:37.505Z"
   },
   {
    "duration": 4,
    "start_time": "2022-05-29T14:18:37.573Z"
   },
   {
    "duration": 34,
    "start_time": "2022-05-29T14:18:37.802Z"
   },
   {
    "duration": 3,
    "start_time": "2022-05-29T14:18:37.984Z"
   },
   {
    "duration": 6,
    "start_time": "2022-05-29T14:18:38.178Z"
   },
   {
    "duration": 6,
    "start_time": "2022-05-29T14:18:39.202Z"
   },
   {
    "duration": 6,
    "start_time": "2022-05-29T14:18:39.274Z"
   },
   {
    "duration": 6,
    "start_time": "2022-05-29T14:18:39.410Z"
   },
   {
    "duration": 13,
    "start_time": "2022-05-29T14:18:40.829Z"
   },
   {
    "duration": 4,
    "start_time": "2022-05-29T14:18:43.107Z"
   },
   {
    "duration": 12,
    "start_time": "2022-05-29T14:18:43.772Z"
   },
   {
    "duration": 13,
    "start_time": "2022-05-29T14:18:46.908Z"
   },
   {
    "duration": 25,
    "start_time": "2022-05-29T14:18:49.458Z"
   },
   {
    "duration": 15,
    "start_time": "2022-05-29T14:21:01.476Z"
   },
   {
    "duration": 13,
    "start_time": "2022-05-29T14:21:02.934Z"
   },
   {
    "duration": 13,
    "start_time": "2022-05-29T14:21:38.168Z"
   },
   {
    "duration": 9,
    "start_time": "2022-05-29T14:23:08.408Z"
   },
   {
    "duration": 10,
    "start_time": "2022-05-29T14:23:24.813Z"
   },
   {
    "duration": 14,
    "start_time": "2022-05-29T14:23:39.948Z"
   },
   {
    "duration": 9,
    "start_time": "2022-05-29T14:25:37.975Z"
   },
   {
    "duration": 8,
    "start_time": "2022-05-29T14:29:38.072Z"
   },
   {
    "duration": 8,
    "start_time": "2022-05-29T14:29:47.394Z"
   },
   {
    "duration": 13,
    "start_time": "2022-05-29T14:30:50.200Z"
   },
   {
    "duration": 14,
    "start_time": "2022-05-29T14:30:51.161Z"
   },
   {
    "duration": 12,
    "start_time": "2022-05-29T14:30:52.164Z"
   },
   {
    "duration": 14,
    "start_time": "2022-05-29T14:30:52.855Z"
   },
   {
    "duration": 20,
    "start_time": "2022-05-29T14:32:33.685Z"
   },
   {
    "duration": 24,
    "start_time": "2022-05-29T14:33:17.623Z"
   },
   {
    "duration": 20,
    "start_time": "2022-05-29T14:35:00.449Z"
   },
   {
    "duration": 85,
    "start_time": "2022-05-29T21:07:01.793Z"
   },
   {
    "duration": 12,
    "start_time": "2022-05-29T21:07:03.340Z"
   },
   {
    "duration": 11,
    "start_time": "2022-05-29T21:07:05.567Z"
   },
   {
    "duration": 7,
    "start_time": "2022-05-29T21:07:05.807Z"
   },
   {
    "duration": 7,
    "start_time": "2022-05-29T21:07:05.912Z"
   },
   {
    "duration": 6,
    "start_time": "2022-05-29T21:07:06.148Z"
   },
   {
    "duration": 3,
    "start_time": "2022-05-29T21:07:06.228Z"
   },
   {
    "duration": 8,
    "start_time": "2022-05-29T21:07:06.551Z"
   },
   {
    "duration": 10,
    "start_time": "2022-05-29T21:07:06.633Z"
   },
   {
    "duration": 9,
    "start_time": "2022-05-29T21:07:06.869Z"
   },
   {
    "duration": 14,
    "start_time": "2022-05-29T21:07:06.979Z"
   },
   {
    "duration": 9,
    "start_time": "2022-05-29T21:07:07.230Z"
   },
   {
    "duration": 12,
    "start_time": "2022-05-29T21:07:07.306Z"
   },
   {
    "duration": 15,
    "start_time": "2022-05-29T21:07:07.592Z"
   },
   {
    "duration": 19,
    "start_time": "2022-05-29T21:07:07.651Z"
   },
   {
    "duration": 7,
    "start_time": "2022-05-29T21:07:07.896Z"
   },
   {
    "duration": 7,
    "start_time": "2022-05-29T21:07:08.083Z"
   },
   {
    "duration": 4,
    "start_time": "2022-05-29T21:07:09.205Z"
   },
   {
    "duration": 10,
    "start_time": "2022-05-29T21:07:09.361Z"
   },
   {
    "duration": 77,
    "start_time": "2022-05-29T21:11:40.893Z"
   },
   {
    "duration": 12,
    "start_time": "2022-05-29T21:11:41.119Z"
   },
   {
    "duration": 15,
    "start_time": "2022-05-29T21:11:41.429Z"
   },
   {
    "duration": 8,
    "start_time": "2022-05-29T21:11:41.519Z"
   },
   {
    "duration": 6,
    "start_time": "2022-05-29T21:11:41.723Z"
   },
   {
    "duration": 6,
    "start_time": "2022-05-29T21:11:41.857Z"
   },
   {
    "duration": 6,
    "start_time": "2022-05-29T21:11:41.959Z"
   },
   {
    "duration": 8,
    "start_time": "2022-05-29T21:11:42.046Z"
   },
   {
    "duration": 10,
    "start_time": "2022-05-29T21:11:42.269Z"
   },
   {
    "duration": 9,
    "start_time": "2022-05-29T21:11:42.454Z"
   },
   {
    "duration": 12,
    "start_time": "2022-05-29T21:11:42.561Z"
   },
   {
    "duration": 9,
    "start_time": "2022-05-29T21:11:42.636Z"
   },
   {
    "duration": 12,
    "start_time": "2022-05-29T21:11:42.866Z"
   },
   {
    "duration": 10,
    "start_time": "2022-05-29T21:11:44.414Z"
   },
   {
    "duration": 17,
    "start_time": "2022-05-29T21:11:44.502Z"
   },
   {
    "duration": 7,
    "start_time": "2022-05-29T21:11:44.733Z"
   },
   {
    "duration": 7,
    "start_time": "2022-05-29T21:11:44.948Z"
   },
   {
    "duration": 3,
    "start_time": "2022-05-29T21:11:45.269Z"
   },
   {
    "duration": 9,
    "start_time": "2022-05-29T21:11:46.080Z"
   },
   {
    "duration": 7,
    "start_time": "2022-05-29T21:11:55.161Z"
   },
   {
    "duration": 21,
    "start_time": "2022-05-29T21:11:56.582Z"
   },
   {
    "duration": 20,
    "start_time": "2022-05-29T21:11:59.591Z"
   },
   {
    "duration": 3,
    "start_time": "2022-05-29T21:12:02.481Z"
   },
   {
    "duration": 7,
    "start_time": "2022-05-29T21:12:04.773Z"
   },
   {
    "duration": 8,
    "start_time": "2022-05-29T21:12:08.828Z"
   },
   {
    "duration": 32,
    "start_time": "2022-05-29T21:12:14.955Z"
   },
   {
    "duration": 3,
    "start_time": "2022-05-29T21:12:16.178Z"
   },
   {
    "duration": 6,
    "start_time": "2022-05-29T21:12:20.330Z"
   },
   {
    "duration": 4,
    "start_time": "2022-05-29T21:12:21.450Z"
   },
   {
    "duration": 32,
    "start_time": "2022-05-29T21:13:13.073Z"
   },
   {
    "duration": 3,
    "start_time": "2022-05-29T21:14:00.751Z"
   },
   {
    "duration": 6,
    "start_time": "2022-05-29T21:14:13.332Z"
   },
   {
    "duration": 5,
    "start_time": "2022-05-29T21:14:14.157Z"
   },
   {
    "duration": 5,
    "start_time": "2022-05-29T21:14:14.959Z"
   },
   {
    "duration": 6,
    "start_time": "2022-05-29T21:14:16.966Z"
   },
   {
    "duration": 22,
    "start_time": "2022-05-29T21:31:26.770Z"
   },
   {
    "duration": 25,
    "start_time": "2022-05-29T21:32:51.128Z"
   },
   {
    "duration": 3,
    "start_time": "2022-05-29T21:34:53.563Z"
   },
   {
    "duration": 76,
    "start_time": "2022-05-29T21:36:15.426Z"
   },
   {
    "duration": 17,
    "start_time": "2022-05-29T21:38:32.371Z"
   },
   {
    "duration": 21,
    "start_time": "2022-05-29T21:40:47.370Z"
   },
   {
    "duration": 5,
    "start_time": "2022-05-29T21:42:32.055Z"
   },
   {
    "duration": 8,
    "start_time": "2022-05-29T21:44:44.097Z"
   },
   {
    "duration": 29,
    "start_time": "2022-05-29T21:50:50.795Z"
   },
   {
    "duration": 26,
    "start_time": "2022-05-29T21:58:52.273Z"
   },
   {
    "duration": 19,
    "start_time": "2022-05-29T22:03:57.706Z"
   },
   {
    "duration": 14,
    "start_time": "2022-05-29T22:04:11.016Z"
   },
   {
    "duration": 35,
    "start_time": "2022-05-29T22:05:13.053Z"
   },
   {
    "duration": 12,
    "start_time": "2022-05-29T22:08:33.161Z"
   },
   {
    "duration": 4,
    "start_time": "2022-05-29T22:09:29.877Z"
   },
   {
    "duration": 9,
    "start_time": "2022-05-29T22:11:04.951Z"
   },
   {
    "duration": 8,
    "start_time": "2022-05-29T22:11:16.314Z"
   },
   {
    "duration": 13,
    "start_time": "2022-05-29T22:12:21.357Z"
   },
   {
    "duration": 13,
    "start_time": "2022-05-29T22:12:55.077Z"
   },
   {
    "duration": 7,
    "start_time": "2022-05-29T22:13:13.256Z"
   },
   {
    "duration": 12,
    "start_time": "2022-05-29T22:20:12.212Z"
   },
   {
    "duration": 17,
    "start_time": "2022-05-29T22:22:57.394Z"
   },
   {
    "duration": 21,
    "start_time": "2022-05-29T22:30:18.126Z"
   },
   {
    "duration": 14,
    "start_time": "2022-05-29T22:30:51.285Z"
   },
   {
    "duration": 14,
    "start_time": "2022-05-29T22:34:51.005Z"
   },
   {
    "duration": 6,
    "start_time": "2022-05-29T22:35:10.511Z"
   },
   {
    "duration": 15,
    "start_time": "2022-05-29T22:35:35.448Z"
   },
   {
    "duration": 7,
    "start_time": "2022-05-29T22:35:48.953Z"
   },
   {
    "duration": 9,
    "start_time": "2022-05-29T22:36:59.454Z"
   },
   {
    "duration": 8,
    "start_time": "2022-05-29T22:37:08.689Z"
   },
   {
    "duration": 24,
    "start_time": "2022-05-29T22:37:20.174Z"
   },
   {
    "duration": 22,
    "start_time": "2022-05-29T22:38:25.210Z"
   },
   {
    "duration": 4,
    "start_time": "2022-05-29T22:39:04.740Z"
   },
   {
    "duration": 10,
    "start_time": "2022-05-29T22:39:05.798Z"
   },
   {
    "duration": 15,
    "start_time": "2022-05-29T22:39:16.843Z"
   },
   {
    "duration": 23,
    "start_time": "2022-05-29T22:39:28.933Z"
   },
   {
    "duration": 21,
    "start_time": "2022-05-29T22:39:42.075Z"
   },
   {
    "duration": 13,
    "start_time": "2022-05-29T22:39:44.733Z"
   },
   {
    "duration": 10,
    "start_time": "2022-05-29T22:39:47.876Z"
   },
   {
    "duration": 12,
    "start_time": "2022-05-29T22:40:42.216Z"
   },
   {
    "duration": 87,
    "start_time": "2022-05-29T22:41:29.435Z"
   },
   {
    "duration": 15,
    "start_time": "2022-05-29T22:41:30.079Z"
   },
   {
    "duration": 13,
    "start_time": "2022-05-29T22:41:31.522Z"
   },
   {
    "duration": 6,
    "start_time": "2022-05-29T22:41:32.199Z"
   },
   {
    "duration": 5,
    "start_time": "2022-05-29T22:41:32.878Z"
   },
   {
    "duration": 6,
    "start_time": "2022-05-29T22:41:33.539Z"
   },
   {
    "duration": 3,
    "start_time": "2022-05-29T22:41:34.172Z"
   },
   {
    "duration": 9,
    "start_time": "2022-05-29T22:41:34.775Z"
   },
   {
    "duration": 11,
    "start_time": "2022-05-29T22:41:35.188Z"
   },
   {
    "duration": 10,
    "start_time": "2022-05-29T22:41:35.528Z"
   },
   {
    "duration": 13,
    "start_time": "2022-05-29T22:41:35.792Z"
   },
   {
    "duration": 9,
    "start_time": "2022-05-29T22:41:36.094Z"
   },
   {
    "duration": 12,
    "start_time": "2022-05-29T22:41:36.668Z"
   },
   {
    "duration": 13,
    "start_time": "2022-05-29T22:41:37.220Z"
   },
   {
    "duration": 17,
    "start_time": "2022-05-29T22:41:37.744Z"
   },
   {
    "duration": 6,
    "start_time": "2022-05-29T22:41:37.869Z"
   },
   {
    "duration": 7,
    "start_time": "2022-05-29T22:41:38.126Z"
   },
   {
    "duration": 4,
    "start_time": "2022-05-29T22:41:39.450Z"
   },
   {
    "duration": 9,
    "start_time": "2022-05-29T22:41:39.923Z"
   },
   {
    "duration": 7,
    "start_time": "2022-05-29T22:41:43.212Z"
   },
   {
    "duration": 20,
    "start_time": "2022-05-29T22:41:44.453Z"
   },
   {
    "duration": 19,
    "start_time": "2022-05-29T22:41:44.981Z"
   },
   {
    "duration": 4,
    "start_time": "2022-05-29T22:41:45.362Z"
   },
   {
    "duration": 7,
    "start_time": "2022-05-29T22:41:47.152Z"
   },
   {
    "duration": 8,
    "start_time": "2022-05-29T22:41:49.221Z"
   },
   {
    "duration": 34,
    "start_time": "2022-05-29T22:41:50.004Z"
   },
   {
    "duration": 4,
    "start_time": "2022-05-29T22:41:50.519Z"
   },
   {
    "duration": 7,
    "start_time": "2022-05-29T22:41:50.800Z"
   },
   {
    "duration": 3,
    "start_time": "2022-05-29T22:41:51.600Z"
   },
   {
    "duration": 32,
    "start_time": "2022-05-29T22:41:54.973Z"
   },
   {
    "duration": 2,
    "start_time": "2022-05-29T22:41:56.253Z"
   },
   {
    "duration": 5,
    "start_time": "2022-05-29T22:41:56.657Z"
   },
   {
    "duration": 8,
    "start_time": "2022-05-29T22:41:57.592Z"
   },
   {
    "duration": 8,
    "start_time": "2022-05-29T22:41:57.996Z"
   },
   {
    "duration": 9,
    "start_time": "2022-05-29T22:41:59.528Z"
   },
   {
    "duration": 14,
    "start_time": "2022-05-29T22:42:02.313Z"
   },
   {
    "duration": 34,
    "start_time": "2022-05-29T22:42:05.242Z"
   },
   {
    "duration": 5,
    "start_time": "2022-05-29T22:42:08.341Z"
   },
   {
    "duration": 7,
    "start_time": "2022-05-29T22:42:12.412Z"
   },
   {
    "duration": 13,
    "start_time": "2022-05-29T22:42:16.624Z"
   },
   {
    "duration": 6,
    "start_time": "2022-05-29T22:42:18.670Z"
   },
   {
    "duration": 23,
    "start_time": "2022-05-29T22:42:22.008Z"
   },
   {
    "duration": 33,
    "start_time": "2022-05-29T22:42:56.626Z"
   },
   {
    "duration": 7,
    "start_time": "2022-05-29T22:43:31.304Z"
   },
   {
    "duration": 4,
    "start_time": "2022-05-29T22:44:31.238Z"
   },
   {
    "duration": 11,
    "start_time": "2022-05-29T22:44:36.949Z"
   },
   {
    "duration": 17,
    "start_time": "2022-05-29T22:44:39.654Z"
   },
   {
    "duration": 32,
    "start_time": "2022-05-29T22:44:42.923Z"
   },
   {
    "duration": 20,
    "start_time": "2022-05-29T22:44:49.928Z"
   },
   {
    "duration": 18,
    "start_time": "2022-05-29T22:44:58.169Z"
   },
   {
    "duration": 12,
    "start_time": "2022-05-29T22:45:01.357Z"
   },
   {
    "duration": 18,
    "start_time": "2022-05-29T22:45:16.627Z"
   },
   {
    "duration": 9,
    "start_time": "2022-05-29T22:45:22.031Z"
   },
   {
    "duration": 16,
    "start_time": "2022-05-29T22:45:27.601Z"
   },
   {
    "duration": 687,
    "start_time": "2022-05-30T16:41:21.986Z"
   },
   {
    "duration": 20,
    "start_time": "2022-05-30T16:41:23.616Z"
   },
   {
    "duration": 9,
    "start_time": "2022-05-30T16:41:25.288Z"
   },
   {
    "duration": 8,
    "start_time": "2022-05-30T16:41:25.400Z"
   },
   {
    "duration": 7,
    "start_time": "2022-05-30T16:41:25.621Z"
   },
   {
    "duration": 6,
    "start_time": "2022-05-30T16:41:25.709Z"
   },
   {
    "duration": 3,
    "start_time": "2022-05-30T16:41:25.938Z"
   },
   {
    "duration": 9,
    "start_time": "2022-05-30T16:41:26.026Z"
   },
   {
    "duration": 11,
    "start_time": "2022-05-30T16:41:26.240Z"
   },
   {
    "duration": 10,
    "start_time": "2022-05-30T16:41:26.353Z"
   },
   {
    "duration": 14,
    "start_time": "2022-05-30T16:41:26.586Z"
   },
   {
    "duration": 8,
    "start_time": "2022-05-30T16:41:26.765Z"
   },
   {
    "duration": 12,
    "start_time": "2022-05-30T16:41:27.783Z"
   },
   {
    "duration": 10,
    "start_time": "2022-05-30T16:41:28.490Z"
   },
   {
    "duration": 18,
    "start_time": "2022-05-30T16:41:29.007Z"
   },
   {
    "duration": 6,
    "start_time": "2022-05-30T16:41:29.104Z"
   },
   {
    "duration": 7,
    "start_time": "2022-05-30T16:41:29.301Z"
   },
   {
    "duration": 4,
    "start_time": "2022-05-30T16:41:29.649Z"
   },
   {
    "duration": 8,
    "start_time": "2022-05-30T16:41:29.834Z"
   },
   {
    "duration": 6,
    "start_time": "2022-05-30T16:41:31.265Z"
   },
   {
    "duration": 21,
    "start_time": "2022-05-30T16:41:31.363Z"
   },
   {
    "duration": 20,
    "start_time": "2022-05-30T16:41:31.625Z"
   },
   {
    "duration": 3,
    "start_time": "2022-05-30T16:41:31.688Z"
   },
   {
    "duration": 7,
    "start_time": "2022-05-30T16:41:31.905Z"
   },
   {
    "duration": 9,
    "start_time": "2022-05-30T16:41:32.753Z"
   },
   {
    "duration": 31,
    "start_time": "2022-05-30T16:41:32.845Z"
   },
   {
    "duration": 4,
    "start_time": "2022-05-30T16:41:33.056Z"
   },
   {
    "duration": 6,
    "start_time": "2022-05-30T16:41:33.123Z"
   },
   {
    "duration": 3,
    "start_time": "2022-05-30T16:41:33.433Z"
   },
   {
    "duration": 33,
    "start_time": "2022-05-30T16:41:33.749Z"
   },
   {
    "duration": 2,
    "start_time": "2022-05-30T16:41:33.845Z"
   },
   {
    "duration": 6,
    "start_time": "2022-05-30T16:41:34.051Z"
   },
   {
    "duration": 5,
    "start_time": "2022-05-30T16:41:34.143Z"
   },
   {
    "duration": 5,
    "start_time": "2022-05-30T16:41:34.311Z"
   },
   {
    "duration": 7,
    "start_time": "2022-05-30T16:41:34.412Z"
   },
   {
    "duration": 13,
    "start_time": "2022-05-30T16:41:34.711Z"
   },
   {
    "duration": 32,
    "start_time": "2022-05-30T16:41:34.937Z"
   },
   {
    "duration": 5,
    "start_time": "2022-05-30T16:41:35.032Z"
   },
   {
    "duration": 7,
    "start_time": "2022-05-30T16:41:35.233Z"
   },
   {
    "duration": 12,
    "start_time": "2022-05-30T16:41:35.323Z"
   },
   {
    "duration": 7,
    "start_time": "2022-05-30T16:41:35.616Z"
   },
   {
    "duration": 24,
    "start_time": "2022-05-30T16:41:35.727Z"
   },
   {
    "duration": 7,
    "start_time": "2022-05-30T16:41:35.940Z"
   },
   {
    "duration": 4,
    "start_time": "2022-05-30T16:41:36.412Z"
   },
   {
    "duration": 12,
    "start_time": "2022-05-30T16:41:38.412Z"
   },
   {
    "duration": 17,
    "start_time": "2022-05-30T16:41:40.137Z"
   },
   {
    "duration": 38,
    "start_time": "2022-05-30T16:41:40.887Z"
   },
   {
    "duration": 17,
    "start_time": "2022-05-30T16:41:43.215Z"
   },
   {
    "duration": 16,
    "start_time": "2022-05-30T16:41:46.009Z"
   },
   {
    "duration": 11,
    "start_time": "2022-05-30T16:42:32.808Z"
   },
   {
    "duration": 12,
    "start_time": "2022-05-30T16:42:34.283Z"
   },
   {
    "duration": 12,
    "start_time": "2022-05-30T16:42:35.626Z"
   },
   {
    "duration": 15,
    "start_time": "2022-05-30T16:42:46.445Z"
   },
   {
    "duration": 14,
    "start_time": "2022-05-30T16:43:06.363Z"
   },
   {
    "duration": 14,
    "start_time": "2022-05-30T16:43:07.992Z"
   },
   {
    "duration": 11,
    "start_time": "2022-05-30T16:43:10.345Z"
   },
   {
    "duration": 14,
    "start_time": "2022-05-30T16:43:11.997Z"
   },
   {
    "duration": 29,
    "start_time": "2022-05-30T16:45:25.117Z"
   },
   {
    "duration": 19,
    "start_time": "2022-05-30T16:45:26.333Z"
   },
   {
    "duration": 11,
    "start_time": "2022-05-30T16:46:23.978Z"
   },
   {
    "duration": 15,
    "start_time": "2022-05-30T16:51:43.301Z"
   },
   {
    "duration": 20,
    "start_time": "2022-05-30T16:53:02.544Z"
   },
   {
    "duration": 15,
    "start_time": "2022-05-30T16:53:34.738Z"
   },
   {
    "duration": 9,
    "start_time": "2022-05-30T16:54:54.212Z"
   },
   {
    "duration": 15,
    "start_time": "2022-05-30T16:56:03.663Z"
   },
   {
    "duration": 7,
    "start_time": "2022-05-30T17:03:17.764Z"
   },
   {
    "duration": 102,
    "start_time": "2022-05-30T20:17:33.449Z"
   },
   {
    "duration": 16,
    "start_time": "2022-05-30T20:17:34.759Z"
   },
   {
    "duration": 24,
    "start_time": "2022-05-30T20:17:35.947Z"
   },
   {
    "duration": 7,
    "start_time": "2022-05-30T20:17:36.114Z"
   },
   {
    "duration": 6,
    "start_time": "2022-05-30T20:17:36.179Z"
   },
   {
    "duration": 6,
    "start_time": "2022-05-30T20:17:36.351Z"
   },
   {
    "duration": 5,
    "start_time": "2022-05-30T20:17:36.423Z"
   },
   {
    "duration": 8,
    "start_time": "2022-05-30T20:17:36.588Z"
   },
   {
    "duration": 11,
    "start_time": "2022-05-30T20:17:36.810Z"
   },
   {
    "duration": 11,
    "start_time": "2022-05-30T20:17:37.051Z"
   },
   {
    "duration": 21,
    "start_time": "2022-05-30T20:17:37.137Z"
   },
   {
    "duration": 11,
    "start_time": "2022-05-30T20:17:37.279Z"
   },
   {
    "duration": 13,
    "start_time": "2022-05-30T20:17:37.389Z"
   },
   {
    "duration": 10,
    "start_time": "2022-05-30T20:17:37.452Z"
   },
   {
    "duration": 21,
    "start_time": "2022-05-30T20:17:37.610Z"
   },
   {
    "duration": 7,
    "start_time": "2022-05-30T20:17:37.875Z"
   },
   {
    "duration": 7,
    "start_time": "2022-05-30T20:17:37.978Z"
   },
   {
    "duration": 6,
    "start_time": "2022-05-30T20:17:38.239Z"
   },
   {
    "duration": 19,
    "start_time": "2022-05-30T20:17:38.324Z"
   },
   {
    "duration": 7,
    "start_time": "2022-05-30T20:17:38.788Z"
   },
   {
    "duration": 22,
    "start_time": "2022-05-30T20:17:38.889Z"
   },
   {
    "duration": 24,
    "start_time": "2022-05-30T20:17:39.045Z"
   },
   {
    "duration": 4,
    "start_time": "2022-05-30T20:17:39.216Z"
   },
   {
    "duration": 7,
    "start_time": "2022-05-30T20:17:39.452Z"
   },
   {
    "duration": 10,
    "start_time": "2022-05-30T20:17:39.761Z"
   },
   {
    "duration": 55,
    "start_time": "2022-05-30T20:17:39.924Z"
   },
   {
    "duration": 4,
    "start_time": "2022-05-30T20:17:40.150Z"
   },
   {
    "duration": 8,
    "start_time": "2022-05-30T20:17:40.217Z"
   },
   {
    "duration": 3,
    "start_time": "2022-05-30T20:17:40.358Z"
   },
   {
    "duration": 36,
    "start_time": "2022-05-30T20:17:40.674Z"
   },
   {
    "duration": 3,
    "start_time": "2022-05-30T20:17:40.772Z"
   },
   {
    "duration": 7,
    "start_time": "2022-05-30T20:17:40.948Z"
   },
   {
    "duration": 6,
    "start_time": "2022-05-30T20:17:41.198Z"
   },
   {
    "duration": 8,
    "start_time": "2022-05-30T20:17:41.274Z"
   },
   {
    "duration": 8,
    "start_time": "2022-05-30T20:17:41.449Z"
   },
   {
    "duration": 24,
    "start_time": "2022-05-30T20:17:41.618Z"
   },
   {
    "duration": 53,
    "start_time": "2022-05-30T20:17:42.315Z"
   },
   {
    "duration": 4,
    "start_time": "2022-05-30T20:17:42.370Z"
   },
   {
    "duration": 17,
    "start_time": "2022-05-30T20:17:42.375Z"
   },
   {
    "duration": 11,
    "start_time": "2022-05-30T20:17:42.393Z"
   },
   {
    "duration": 9,
    "start_time": "2022-05-30T20:17:42.406Z"
   },
   {
    "duration": 22,
    "start_time": "2022-05-30T20:17:42.467Z"
   },
   {
    "duration": 8,
    "start_time": "2022-05-30T20:17:42.675Z"
   },
   {
    "duration": 4,
    "start_time": "2022-05-30T20:17:43.198Z"
   },
   {
    "duration": 19,
    "start_time": "2022-05-30T20:17:43.337Z"
   },
   {
    "duration": 18,
    "start_time": "2022-05-30T20:17:43.646Z"
   },
   {
    "duration": 32,
    "start_time": "2022-05-30T20:17:43.859Z"
   },
   {
    "duration": 38,
    "start_time": "2022-05-30T20:17:44.116Z"
   },
   {
    "duration": 15,
    "start_time": "2022-05-30T20:17:44.193Z"
   },
   {
    "duration": 10,
    "start_time": "2022-05-30T20:17:44.353Z"
   },
   {
    "duration": 13,
    "start_time": "2022-05-30T20:17:44.448Z"
   },
   {
    "duration": 10,
    "start_time": "2022-05-30T20:17:44.671Z"
   },
   {
    "duration": 14,
    "start_time": "2022-05-30T20:17:44.849Z"
   },
   {
    "duration": 20,
    "start_time": "2022-05-30T20:17:45.338Z"
   },
   {
    "duration": 15,
    "start_time": "2022-05-30T20:17:45.443Z"
   },
   {
    "duration": 13,
    "start_time": "2022-05-30T20:17:45.641Z"
   },
   {
    "duration": 28,
    "start_time": "2022-05-30T20:17:45.811Z"
   },
   {
    "duration": 15,
    "start_time": "2022-05-30T20:17:46.098Z"
   },
   {
    "duration": 29725,
    "start_time": "2022-05-30T20:17:54.447Z"
   },
   {
    "duration": 29040,
    "start_time": "2022-05-30T20:19:01.778Z"
   },
   {
    "duration": 7,
    "start_time": "2022-05-30T20:38:45.241Z"
   },
   {
    "duration": 62,
    "start_time": "2022-05-31T10:05:53.038Z"
   },
   {
    "duration": 731,
    "start_time": "2022-05-31T10:05:59.895Z"
   },
   {
    "duration": 21,
    "start_time": "2022-05-31T10:06:02.728Z"
   },
   {
    "duration": 11,
    "start_time": "2022-05-31T10:06:06.804Z"
   },
   {
    "duration": 7,
    "start_time": "2022-05-31T10:06:08.431Z"
   },
   {
    "duration": 5,
    "start_time": "2022-05-31T10:06:09.254Z"
   },
   {
    "duration": 5,
    "start_time": "2022-05-31T10:06:09.743Z"
   },
   {
    "duration": 3,
    "start_time": "2022-05-31T10:06:10.180Z"
   },
   {
    "duration": 8,
    "start_time": "2022-05-31T10:06:10.617Z"
   },
   {
    "duration": 11,
    "start_time": "2022-05-31T10:06:10.792Z"
   },
   {
    "duration": 11,
    "start_time": "2022-05-31T10:06:11.069Z"
   },
   {
    "duration": 13,
    "start_time": "2022-05-31T10:06:11.337Z"
   },
   {
    "duration": 10,
    "start_time": "2022-05-31T10:06:11.445Z"
   },
   {
    "duration": 11,
    "start_time": "2022-05-31T10:06:11.674Z"
   },
   {
    "duration": 10,
    "start_time": "2022-05-31T10:06:11.784Z"
   },
   {
    "duration": 19,
    "start_time": "2022-05-31T10:06:12.016Z"
   },
   {
    "duration": 7,
    "start_time": "2022-05-31T10:06:12.200Z"
   },
   {
    "duration": 7,
    "start_time": "2022-05-31T10:06:14.128Z"
   },
   {
    "duration": 4,
    "start_time": "2022-05-31T10:06:15.337Z"
   },
   {
    "duration": 20,
    "start_time": "2022-05-31T10:06:15.343Z"
   },
   {
    "duration": 7,
    "start_time": "2022-05-31T10:06:15.364Z"
   },
   {
    "duration": 21,
    "start_time": "2022-05-31T10:06:15.372Z"
   },
   {
    "duration": 21,
    "start_time": "2022-05-31T10:06:23.173Z"
   },
   {
    "duration": 3,
    "start_time": "2022-05-31T10:06:23.415Z"
   },
   {
    "duration": 7,
    "start_time": "2022-05-31T10:06:23.670Z"
   },
   {
    "duration": 10,
    "start_time": "2022-05-31T10:06:24.037Z"
   },
   {
    "duration": 32,
    "start_time": "2022-05-31T10:06:24.120Z"
   },
   {
    "duration": 3,
    "start_time": "2022-05-31T10:06:24.365Z"
   },
   {
    "duration": 7,
    "start_time": "2022-05-31T10:06:24.439Z"
   },
   {
    "duration": 4,
    "start_time": "2022-05-31T10:06:24.696Z"
   },
   {
    "duration": 37,
    "start_time": "2022-05-31T10:06:25.016Z"
   },
   {
    "duration": 3,
    "start_time": "2022-05-31T10:06:26.586Z"
   },
   {
    "duration": 5,
    "start_time": "2022-05-31T10:06:26.691Z"
   },
   {
    "duration": 5,
    "start_time": "2022-05-31T10:06:26.918Z"
   },
   {
    "duration": 5,
    "start_time": "2022-05-31T10:06:27.007Z"
   },
   {
    "duration": 6,
    "start_time": "2022-05-31T10:06:27.239Z"
   },
   {
    "duration": 13,
    "start_time": "2022-05-31T10:06:27.566Z"
   },
   {
    "duration": 34,
    "start_time": "2022-05-31T10:06:27.645Z"
   },
   {
    "duration": 4,
    "start_time": "2022-05-31T10:06:27.864Z"
   },
   {
    "duration": 7,
    "start_time": "2022-05-31T10:06:27.963Z"
   },
   {
    "duration": 12,
    "start_time": "2022-05-31T10:06:28.180Z"
   },
   {
    "duration": 8,
    "start_time": "2022-05-31T10:06:28.296Z"
   },
   {
    "duration": 22,
    "start_time": "2022-05-31T10:06:28.546Z"
   },
   {
    "duration": 9,
    "start_time": "2022-05-31T10:06:28.634Z"
   },
   {
    "duration": 3,
    "start_time": "2022-05-31T10:06:30.903Z"
   },
   {
    "duration": 12,
    "start_time": "2022-05-31T10:06:31.079Z"
   },
   {
    "duration": 18,
    "start_time": "2022-05-31T10:06:32.175Z"
   },
   {
    "duration": 34,
    "start_time": "2022-05-31T10:06:33.152Z"
   },
   {
    "duration": 23,
    "start_time": "2022-05-31T10:06:33.267Z"
   },
   {
    "duration": 16,
    "start_time": "2022-05-31T10:06:33.500Z"
   },
   {
    "duration": 10,
    "start_time": "2022-05-31T10:06:33.576Z"
   },
   {
    "duration": 14,
    "start_time": "2022-05-31T10:06:33.782Z"
   },
   {
    "duration": 10,
    "start_time": "2022-05-31T10:06:33.904Z"
   },
   {
    "duration": 11,
    "start_time": "2022-05-31T10:06:34.108Z"
   },
   {
    "duration": 16,
    "start_time": "2022-05-31T10:06:34.213Z"
   },
   {
    "duration": 13,
    "start_time": "2022-05-31T10:06:34.436Z"
   },
   {
    "duration": 9,
    "start_time": "2022-05-31T10:06:34.525Z"
   },
   {
    "duration": 26,
    "start_time": "2022-05-31T10:06:34.783Z"
   },
   {
    "duration": 14,
    "start_time": "2022-05-31T10:06:37.498Z"
   },
   {
    "duration": 26216,
    "start_time": "2022-05-31T10:06:38.134Z"
   },
   {
    "duration": 759,
    "start_time": "2022-05-31T12:17:18.741Z"
   },
   {
    "duration": 20,
    "start_time": "2022-05-31T12:17:19.502Z"
   },
   {
    "duration": 10,
    "start_time": "2022-05-31T12:17:19.523Z"
   },
   {
    "duration": 10,
    "start_time": "2022-05-31T12:17:19.535Z"
   },
   {
    "duration": 5,
    "start_time": "2022-05-31T12:17:19.547Z"
   },
   {
    "duration": 29,
    "start_time": "2022-05-31T12:17:19.554Z"
   },
   {
    "duration": 4,
    "start_time": "2022-05-31T12:17:19.585Z"
   },
   {
    "duration": 16,
    "start_time": "2022-05-31T12:17:19.590Z"
   },
   {
    "duration": 11,
    "start_time": "2022-05-31T12:17:19.607Z"
   },
   {
    "duration": 9,
    "start_time": "2022-05-31T12:17:19.620Z"
   },
   {
    "duration": 18,
    "start_time": "2022-05-31T12:17:19.630Z"
   },
   {
    "duration": 31,
    "start_time": "2022-05-31T12:17:19.649Z"
   },
   {
    "duration": 11,
    "start_time": "2022-05-31T12:17:19.682Z"
   },
   {
    "duration": 10,
    "start_time": "2022-05-31T12:17:19.695Z"
   },
   {
    "duration": 17,
    "start_time": "2022-05-31T12:17:19.706Z"
   },
   {
    "duration": 16,
    "start_time": "2022-05-31T12:17:19.724Z"
   },
   {
    "duration": 7,
    "start_time": "2022-05-31T12:17:19.742Z"
   },
   {
    "duration": 3,
    "start_time": "2022-05-31T12:17:19.751Z"
   },
   {
    "duration": 9,
    "start_time": "2022-05-31T12:17:19.780Z"
   },
   {
    "duration": 11,
    "start_time": "2022-05-31T12:17:19.791Z"
   },
   {
    "duration": 23,
    "start_time": "2022-05-31T12:17:19.804Z"
   },
   {
    "duration": 22,
    "start_time": "2022-05-31T12:17:19.829Z"
   },
   {
    "duration": 28,
    "start_time": "2022-05-31T12:17:19.853Z"
   },
   {
    "duration": 8,
    "start_time": "2022-05-31T12:17:19.883Z"
   },
   {
    "duration": 8,
    "start_time": "2022-05-31T12:17:19.893Z"
   },
   {
    "duration": 34,
    "start_time": "2022-05-31T12:17:19.903Z"
   },
   {
    "duration": 4,
    "start_time": "2022-05-31T12:17:19.939Z"
   },
   {
    "duration": 38,
    "start_time": "2022-05-31T12:17:19.946Z"
   },
   {
    "duration": 3,
    "start_time": "2022-05-31T12:17:19.986Z"
   },
   {
    "duration": 39,
    "start_time": "2022-05-31T12:17:19.991Z"
   },
   {
    "duration": 4,
    "start_time": "2022-05-31T12:17:20.031Z"
   },
   {
    "duration": 13,
    "start_time": "2022-05-31T12:17:20.037Z"
   },
   {
    "duration": 7,
    "start_time": "2022-05-31T12:17:20.051Z"
   },
   {
    "duration": 6,
    "start_time": "2022-05-31T12:17:20.080Z"
   },
   {
    "duration": 10,
    "start_time": "2022-05-31T12:17:20.087Z"
   },
   {
    "duration": 12,
    "start_time": "2022-05-31T12:17:20.099Z"
   },
   {
    "duration": 34,
    "start_time": "2022-05-31T12:17:20.113Z"
   },
   {
    "duration": 4,
    "start_time": "2022-05-31T12:17:20.148Z"
   },
   {
    "duration": 31,
    "start_time": "2022-05-31T12:17:20.154Z"
   },
   {
    "duration": 14,
    "start_time": "2022-05-31T12:17:20.186Z"
   },
   {
    "duration": 10,
    "start_time": "2022-05-31T12:17:20.201Z"
   },
   {
    "duration": 24,
    "start_time": "2022-05-31T12:17:20.212Z"
   },
   {
    "duration": 9,
    "start_time": "2022-05-31T12:17:20.238Z"
   },
   {
    "duration": 5,
    "start_time": "2022-05-31T12:17:20.249Z"
   },
   {
    "duration": 33,
    "start_time": "2022-05-31T12:17:20.255Z"
   },
   {
    "duration": 18,
    "start_time": "2022-05-31T12:17:20.289Z"
   },
   {
    "duration": 33,
    "start_time": "2022-05-31T12:17:20.308Z"
   },
   {
    "duration": 48,
    "start_time": "2022-05-31T12:17:20.343Z"
   },
   {
    "duration": 17,
    "start_time": "2022-05-31T12:17:20.393Z"
   },
   {
    "duration": 11,
    "start_time": "2022-05-31T12:17:20.411Z"
   },
   {
    "duration": 15,
    "start_time": "2022-05-31T12:17:20.424Z"
   },
   {
    "duration": 16,
    "start_time": "2022-05-31T12:17:20.440Z"
   },
   {
    "duration": 28,
    "start_time": "2022-05-31T12:17:20.457Z"
   },
   {
    "duration": 13,
    "start_time": "2022-05-31T12:17:20.487Z"
   },
   {
    "duration": 11,
    "start_time": "2022-05-31T12:17:20.501Z"
   },
   {
    "duration": 8,
    "start_time": "2022-05-31T12:17:20.514Z"
   },
   {
    "duration": 16,
    "start_time": "2022-05-31T12:17:20.523Z"
   },
   {
    "duration": 44,
    "start_time": "2022-05-31T12:17:20.540Z"
   },
   {
    "duration": 26252,
    "start_time": "2022-05-31T12:17:20.586Z"
   },
   {
    "duration": 87,
    "start_time": "2022-05-31T12:17:46.843Z"
   },
   {
    "duration": 14,
    "start_time": "2022-05-31T12:17:46.931Z"
   },
   {
    "duration": 14,
    "start_time": "2022-05-31T12:17:46.947Z"
   },
   {
    "duration": 17,
    "start_time": "2022-05-31T12:17:46.963Z"
   },
   {
    "duration": 9,
    "start_time": "2022-05-31T12:17:46.982Z"
   },
   {
    "duration": 9,
    "start_time": "2022-05-31T12:17:46.993Z"
   },
   {
    "duration": 8,
    "start_time": "2022-05-31T12:17:47.003Z"
   },
   {
    "duration": 16,
    "start_time": "2022-05-31T12:17:47.012Z"
   },
   {
    "duration": 82,
    "start_time": "2022-05-31T12:17:53.866Z"
   },
   {
    "duration": 14,
    "start_time": "2022-05-31T12:17:54.906Z"
   },
   {
    "duration": 11,
    "start_time": "2022-05-31T12:17:56.033Z"
   },
   {
    "duration": 7,
    "start_time": "2022-05-31T12:17:56.136Z"
   },
   {
    "duration": 5,
    "start_time": "2022-05-31T12:17:56.344Z"
   },
   {
    "duration": 5,
    "start_time": "2022-05-31T12:17:56.462Z"
   },
   {
    "duration": 3,
    "start_time": "2022-05-31T12:17:56.677Z"
   },
   {
    "duration": 9,
    "start_time": "2022-05-31T12:17:56.750Z"
   },
   {
    "duration": 11,
    "start_time": "2022-05-31T12:17:56.954Z"
   },
   {
    "duration": 11,
    "start_time": "2022-05-31T12:17:57.035Z"
   },
   {
    "duration": 14,
    "start_time": "2022-05-31T12:17:57.234Z"
   },
   {
    "duration": 11,
    "start_time": "2022-05-31T12:17:57.331Z"
   },
   {
    "duration": 14,
    "start_time": "2022-05-31T12:17:57.536Z"
   },
   {
    "duration": 11,
    "start_time": "2022-05-31T12:17:57.611Z"
   },
   {
    "duration": 18,
    "start_time": "2022-05-31T12:17:57.802Z"
   },
   {
    "duration": 8,
    "start_time": "2022-05-31T12:17:57.906Z"
   },
   {
    "duration": 7,
    "start_time": "2022-05-31T12:17:58.001Z"
   },
   {
    "duration": 4,
    "start_time": "2022-05-31T12:17:58.294Z"
   },
   {
    "duration": 10,
    "start_time": "2022-05-31T12:17:58.377Z"
   },
   {
    "duration": 6,
    "start_time": "2022-05-31T12:17:58.819Z"
   },
   {
    "duration": 23,
    "start_time": "2022-05-31T12:17:58.907Z"
   },
   {
    "duration": 21,
    "start_time": "2022-05-31T12:17:59.115Z"
   },
   {
    "duration": 4,
    "start_time": "2022-05-31T12:17:59.205Z"
   },
   {
    "duration": 8,
    "start_time": "2022-05-31T12:17:59.401Z"
   },
   {
    "duration": 9,
    "start_time": "2022-05-31T12:17:59.690Z"
   },
   {
    "duration": 39,
    "start_time": "2022-05-31T12:17:59.769Z"
   },
   {
    "duration": 4,
    "start_time": "2022-05-31T12:18:00.029Z"
   },
   {
    "duration": 7,
    "start_time": "2022-05-31T12:18:00.123Z"
   },
   {
    "duration": 3,
    "start_time": "2022-05-31T12:18:00.337Z"
   },
   {
    "duration": 37,
    "start_time": "2022-05-31T12:18:00.617Z"
   },
   {
    "duration": 3,
    "start_time": "2022-05-31T12:18:00.705Z"
   },
   {
    "duration": 6,
    "start_time": "2022-05-31T12:18:00.899Z"
   },
   {
    "duration": 6,
    "start_time": "2022-05-31T12:18:00.993Z"
   },
   {
    "duration": 5,
    "start_time": "2022-05-31T12:18:01.158Z"
   },
   {
    "duration": 6,
    "start_time": "2022-05-31T12:18:01.250Z"
   },
   {
    "duration": 14,
    "start_time": "2022-05-31T12:18:01.545Z"
   },
   {
    "duration": 34,
    "start_time": "2022-05-31T12:18:01.746Z"
   },
   {
    "duration": 5,
    "start_time": "2022-05-31T12:18:01.848Z"
   },
   {
    "duration": 8,
    "start_time": "2022-05-31T12:18:02.131Z"
   },
   {
    "duration": 13,
    "start_time": "2022-05-31T12:18:02.226Z"
   },
   {
    "duration": 9,
    "start_time": "2022-05-31T12:18:02.472Z"
   },
   {
    "duration": 28,
    "start_time": "2022-05-31T12:18:02.534Z"
   },
   {
    "duration": 8,
    "start_time": "2022-05-31T12:18:02.747Z"
   },
   {
    "duration": 4,
    "start_time": "2022-05-31T12:18:03.115Z"
   },
   {
    "duration": 12,
    "start_time": "2022-05-31T12:18:03.329Z"
   },
   {
    "duration": 17,
    "start_time": "2022-05-31T12:18:04.207Z"
   },
   {
    "duration": 35,
    "start_time": "2022-05-31T12:18:04.385Z"
   },
   {
    "duration": 18,
    "start_time": "2022-05-31T12:18:04.480Z"
   },
   {
    "duration": 17,
    "start_time": "2022-05-31T12:18:04.633Z"
   },
   {
    "duration": 10,
    "start_time": "2022-05-31T12:18:04.696Z"
   },
   {
    "duration": 10,
    "start_time": "2022-05-31T12:18:04.869Z"
   },
   {
    "duration": 10,
    "start_time": "2022-05-31T12:18:04.950Z"
   },
   {
    "duration": 9,
    "start_time": "2022-05-31T12:18:05.186Z"
   },
   {
    "duration": 13,
    "start_time": "2022-05-31T12:18:05.488Z"
   },
   {
    "duration": 11,
    "start_time": "2022-05-31T12:18:05.672Z"
   },
   {
    "duration": 9,
    "start_time": "2022-05-31T12:18:06.498Z"
   },
   {
    "duration": 18,
    "start_time": "2022-05-31T12:18:06.681Z"
   },
   {
    "duration": 15,
    "start_time": "2022-05-31T12:18:08.022Z"
   },
   {
    "duration": 26682,
    "start_time": "2022-05-31T12:18:10.153Z"
   },
   {
    "duration": 549,
    "start_time": "2022-05-31T12:27:28.278Z"
   },
   {
    "duration": 21,
    "start_time": "2022-05-31T12:27:28.829Z"
   },
   {
    "duration": 10,
    "start_time": "2022-05-31T12:27:28.851Z"
   },
   {
    "duration": 22,
    "start_time": "2022-05-31T12:27:28.863Z"
   },
   {
    "duration": 6,
    "start_time": "2022-05-31T12:27:28.886Z"
   },
   {
    "duration": 6,
    "start_time": "2022-05-31T12:27:28.893Z"
   },
   {
    "duration": 9,
    "start_time": "2022-05-31T12:27:28.901Z"
   },
   {
    "duration": 15,
    "start_time": "2022-05-31T12:27:28.911Z"
   },
   {
    "duration": 11,
    "start_time": "2022-05-31T12:27:28.927Z"
   },
   {
    "duration": 39,
    "start_time": "2022-05-31T12:27:28.941Z"
   },
   {
    "duration": 15,
    "start_time": "2022-05-31T12:27:28.982Z"
   },
   {
    "duration": 10,
    "start_time": "2022-05-31T12:27:28.998Z"
   },
   {
    "duration": 12,
    "start_time": "2022-05-31T12:27:29.009Z"
   },
   {
    "duration": 11,
    "start_time": "2022-05-31T12:27:29.023Z"
   },
   {
    "duration": 52,
    "start_time": "2022-05-31T12:27:29.035Z"
   },
   {
    "duration": 7,
    "start_time": "2022-05-31T12:27:29.089Z"
   },
   {
    "duration": 14,
    "start_time": "2022-05-31T12:27:29.098Z"
   },
   {
    "duration": 4,
    "start_time": "2022-05-31T12:27:29.113Z"
   },
   {
    "duration": 15,
    "start_time": "2022-05-31T12:27:29.120Z"
   },
   {
    "duration": 9,
    "start_time": "2022-05-31T12:27:29.137Z"
   },
   {
    "duration": 63,
    "start_time": "2022-05-31T12:27:29.148Z"
   },
   {
    "duration": 22,
    "start_time": "2022-05-31T12:27:29.212Z"
   },
   {
    "duration": 4,
    "start_time": "2022-05-31T12:27:29.235Z"
   },
   {
    "duration": 10,
    "start_time": "2022-05-31T12:27:29.240Z"
   },
   {
    "duration": 32,
    "start_time": "2022-05-31T12:27:29.251Z"
   },
   {
    "duration": 44,
    "start_time": "2022-05-31T12:27:29.285Z"
   },
   {
    "duration": 4,
    "start_time": "2022-05-31T12:27:29.331Z"
   },
   {
    "duration": 7,
    "start_time": "2022-05-31T12:27:29.340Z"
   },
   {
    "duration": 4,
    "start_time": "2022-05-31T12:27:29.349Z"
   },
   {
    "duration": 63,
    "start_time": "2022-05-31T12:27:29.354Z"
   },
   {
    "duration": 4,
    "start_time": "2022-05-31T12:27:29.419Z"
   },
   {
    "duration": 12,
    "start_time": "2022-05-31T12:27:29.425Z"
   },
   {
    "duration": 6,
    "start_time": "2022-05-31T12:27:29.439Z"
   },
   {
    "duration": 34,
    "start_time": "2022-05-31T12:27:29.447Z"
   },
   {
    "duration": 7,
    "start_time": "2022-05-31T12:27:29.483Z"
   },
   {
    "duration": 15,
    "start_time": "2022-05-31T12:27:29.492Z"
   },
   {
    "duration": 36,
    "start_time": "2022-05-31T12:27:29.509Z"
   },
   {
    "duration": 4,
    "start_time": "2022-05-31T12:27:29.547Z"
   },
   {
    "duration": 33,
    "start_time": "2022-05-31T12:27:29.553Z"
   },
   {
    "duration": 13,
    "start_time": "2022-05-31T12:27:29.587Z"
   },
   {
    "duration": 10,
    "start_time": "2022-05-31T12:27:29.601Z"
   },
   {
    "duration": 23,
    "start_time": "2022-05-31T12:27:29.613Z"
   },
   {
    "duration": 46,
    "start_time": "2022-05-31T12:27:29.637Z"
   },
   {
    "duration": 4,
    "start_time": "2022-05-31T12:27:29.685Z"
   },
   {
    "duration": 14,
    "start_time": "2022-05-31T12:27:29.691Z"
   },
   {
    "duration": 35,
    "start_time": "2022-05-31T12:27:29.707Z"
   },
   {
    "duration": 74,
    "start_time": "2022-05-31T12:27:29.744Z"
   },
   {
    "duration": 23,
    "start_time": "2022-05-31T12:27:29.820Z"
   },
   {
    "duration": 37,
    "start_time": "2022-05-31T12:27:29.844Z"
   },
   {
    "duration": 11,
    "start_time": "2022-05-31T12:27:29.882Z"
   },
   {
    "duration": 17,
    "start_time": "2022-05-31T12:27:29.895Z"
   },
   {
    "duration": 22,
    "start_time": "2022-05-31T12:27:29.914Z"
   },
   {
    "duration": 14,
    "start_time": "2022-05-31T12:27:29.938Z"
   },
   {
    "duration": 42,
    "start_time": "2022-05-31T12:27:29.953Z"
   },
   {
    "duration": 22,
    "start_time": "2022-05-31T12:27:29.997Z"
   },
   {
    "duration": 30,
    "start_time": "2022-05-31T12:27:30.021Z"
   },
   {
    "duration": 28,
    "start_time": "2022-05-31T12:27:30.053Z"
   },
   {
    "duration": 17,
    "start_time": "2022-05-31T12:27:30.082Z"
   },
   {
    "duration": 26132,
    "start_time": "2022-05-31T12:27:30.101Z"
   },
   {
    "duration": 507,
    "start_time": "2022-05-31T13:27:34.091Z"
   },
   {
    "duration": 21,
    "start_time": "2022-05-31T13:27:34.600Z"
   },
   {
    "duration": 10,
    "start_time": "2022-05-31T13:27:34.622Z"
   },
   {
    "duration": 7,
    "start_time": "2022-05-31T13:27:34.634Z"
   },
   {
    "duration": 5,
    "start_time": "2022-05-31T13:27:34.642Z"
   },
   {
    "duration": 41,
    "start_time": "2022-05-31T13:27:34.649Z"
   },
   {
    "duration": 6,
    "start_time": "2022-05-31T13:27:34.691Z"
   },
   {
    "duration": 10,
    "start_time": "2022-05-31T13:27:34.699Z"
   },
   {
    "duration": 10,
    "start_time": "2022-05-31T13:27:34.711Z"
   },
   {
    "duration": 13,
    "start_time": "2022-05-31T13:27:34.724Z"
   },
   {
    "duration": 19,
    "start_time": "2022-05-31T13:27:34.748Z"
   },
   {
    "duration": 19,
    "start_time": "2022-05-31T13:27:34.769Z"
   },
   {
    "duration": 12,
    "start_time": "2022-05-31T13:27:34.790Z"
   },
   {
    "duration": 11,
    "start_time": "2022-05-31T13:27:34.803Z"
   },
   {
    "duration": 18,
    "start_time": "2022-05-31T13:27:34.815Z"
   },
   {
    "duration": 7,
    "start_time": "2022-05-31T13:27:34.834Z"
   },
   {
    "duration": 39,
    "start_time": "2022-05-31T13:27:34.842Z"
   },
   {
    "duration": 5,
    "start_time": "2022-05-31T13:27:34.882Z"
   },
   {
    "duration": 14,
    "start_time": "2022-05-31T13:27:34.888Z"
   },
   {
    "duration": 6,
    "start_time": "2022-05-31T13:27:34.904Z"
   },
   {
    "duration": 23,
    "start_time": "2022-05-31T13:27:34.911Z"
   },
   {
    "duration": 53,
    "start_time": "2022-05-31T13:27:34.936Z"
   },
   {
    "duration": 3,
    "start_time": "2022-05-31T13:27:34.991Z"
   },
   {
    "duration": 10,
    "start_time": "2022-05-31T13:27:34.995Z"
   },
   {
    "duration": 8,
    "start_time": "2022-05-31T13:27:35.007Z"
   },
   {
    "duration": 33,
    "start_time": "2022-05-31T13:27:35.017Z"
   },
   {
    "duration": 29,
    "start_time": "2022-05-31T13:27:35.051Z"
   },
   {
    "duration": 7,
    "start_time": "2022-05-31T13:27:35.084Z"
   },
   {
    "duration": 4,
    "start_time": "2022-05-31T13:27:35.092Z"
   },
   {
    "duration": 39,
    "start_time": "2022-05-31T13:27:35.098Z"
   },
   {
    "duration": 3,
    "start_time": "2022-05-31T13:27:35.139Z"
   },
   {
    "duration": 37,
    "start_time": "2022-05-31T13:27:35.143Z"
   },
   {
    "duration": 10,
    "start_time": "2022-05-31T13:27:35.181Z"
   },
   {
    "duration": 5,
    "start_time": "2022-05-31T13:27:35.193Z"
   },
   {
    "duration": 6,
    "start_time": "2022-05-31T13:27:35.199Z"
   },
   {
    "duration": 14,
    "start_time": "2022-05-31T13:27:35.207Z"
   },
   {
    "duration": 60,
    "start_time": "2022-05-31T13:27:35.222Z"
   },
   {
    "duration": 4,
    "start_time": "2022-05-31T13:27:35.284Z"
   },
   {
    "duration": 9,
    "start_time": "2022-05-31T13:27:35.289Z"
   },
   {
    "duration": 12,
    "start_time": "2022-05-31T13:27:35.299Z"
   },
   {
    "duration": 7,
    "start_time": "2022-05-31T13:27:35.313Z"
   },
   {
    "duration": 22,
    "start_time": "2022-05-31T13:27:35.321Z"
   },
   {
    "duration": 42,
    "start_time": "2022-05-31T13:27:35.344Z"
   },
   {
    "duration": 4,
    "start_time": "2022-05-31T13:27:35.387Z"
   },
   {
    "duration": 13,
    "start_time": "2022-05-31T13:27:35.392Z"
   },
   {
    "duration": 20,
    "start_time": "2022-05-31T13:27:35.407Z"
   },
   {
    "duration": 59,
    "start_time": "2022-05-31T13:27:35.428Z"
   },
   {
    "duration": 20,
    "start_time": "2022-05-31T13:27:35.488Z"
   },
   {
    "duration": 16,
    "start_time": "2022-05-31T13:27:35.510Z"
   },
   {
    "duration": 10,
    "start_time": "2022-05-31T13:27:35.528Z"
   },
   {
    "duration": 42,
    "start_time": "2022-05-31T13:27:35.539Z"
   },
   {
    "duration": 10,
    "start_time": "2022-05-31T13:27:35.583Z"
   },
   {
    "duration": 10,
    "start_time": "2022-05-31T13:27:35.595Z"
   },
   {
    "duration": 21,
    "start_time": "2022-05-31T13:27:35.606Z"
   },
   {
    "duration": 13,
    "start_time": "2022-05-31T13:27:35.631Z"
   },
   {
    "duration": 41,
    "start_time": "2022-05-31T13:27:35.645Z"
   },
   {
    "duration": 22,
    "start_time": "2022-05-31T13:27:35.688Z"
   },
   {
    "duration": 18,
    "start_time": "2022-05-31T13:27:35.712Z"
   },
   {
    "duration": 27893,
    "start_time": "2022-05-31T13:27:35.731Z"
   },
   {
    "duration": 14248299,
    "start_time": "2022-05-31T13:28:03.626Z"
   },
   {
    "duration": 5,
    "start_time": "2022-05-31T19:18:42.306Z"
   },
   {
    "duration": 22,
    "start_time": "2022-05-31T19:19:22.200Z"
   },
   {
    "duration": 593,
    "start_time": "2022-05-31T19:25:15.739Z"
   },
   {
    "duration": 25,
    "start_time": "2022-05-31T19:25:16.334Z"
   },
   {
    "duration": 10,
    "start_time": "2022-05-31T19:25:16.361Z"
   },
   {
    "duration": 37,
    "start_time": "2022-05-31T19:25:16.372Z"
   },
   {
    "duration": 7,
    "start_time": "2022-05-31T19:25:16.411Z"
   },
   {
    "duration": 8,
    "start_time": "2022-05-31T19:25:16.419Z"
   },
   {
    "duration": 7,
    "start_time": "2022-05-31T19:25:16.428Z"
   },
   {
    "duration": 13,
    "start_time": "2022-05-31T19:25:16.437Z"
   },
   {
    "duration": 18,
    "start_time": "2022-05-31T19:25:16.451Z"
   },
   {
    "duration": 19,
    "start_time": "2022-05-31T19:25:16.472Z"
   },
   {
    "duration": 26,
    "start_time": "2022-05-31T19:25:16.494Z"
   },
   {
    "duration": 12,
    "start_time": "2022-05-31T19:25:16.522Z"
   },
   {
    "duration": 15,
    "start_time": "2022-05-31T19:25:16.536Z"
   },
   {
    "duration": 12,
    "start_time": "2022-05-31T19:25:16.553Z"
   },
   {
    "duration": 39,
    "start_time": "2022-05-31T19:25:16.566Z"
   },
   {
    "duration": 9,
    "start_time": "2022-05-31T19:25:16.608Z"
   },
   {
    "duration": 7,
    "start_time": "2022-05-31T19:25:16.618Z"
   },
   {
    "duration": 8,
    "start_time": "2022-05-31T19:25:16.627Z"
   },
   {
    "duration": 12,
    "start_time": "2022-05-31T19:25:16.636Z"
   },
   {
    "duration": 37,
    "start_time": "2022-05-31T19:25:16.649Z"
   },
   {
    "duration": 35,
    "start_time": "2022-05-31T19:25:16.687Z"
   },
   {
    "duration": 21,
    "start_time": "2022-05-31T19:25:16.724Z"
   },
   {
    "duration": 4,
    "start_time": "2022-05-31T19:25:16.747Z"
   },
   {
    "duration": 11,
    "start_time": "2022-05-31T19:25:16.752Z"
   },
   {
    "duration": 13,
    "start_time": "2022-05-31T19:25:16.780Z"
   },
   {
    "duration": 51,
    "start_time": "2022-05-31T19:25:16.799Z"
   },
   {
    "duration": 3,
    "start_time": "2022-05-31T19:25:16.853Z"
   },
   {
    "duration": 9,
    "start_time": "2022-05-31T19:25:16.861Z"
   },
   {
    "duration": 16,
    "start_time": "2022-05-31T19:25:16.871Z"
   },
   {
    "duration": 57,
    "start_time": "2022-05-31T19:25:16.892Z"
   },
   {
    "duration": 3,
    "start_time": "2022-05-31T19:25:16.951Z"
   },
   {
    "duration": 10,
    "start_time": "2022-05-31T19:25:16.956Z"
   },
   {
    "duration": 6,
    "start_time": "2022-05-31T19:25:16.967Z"
   },
   {
    "duration": 13,
    "start_time": "2022-05-31T19:25:16.981Z"
   },
   {
    "duration": 22,
    "start_time": "2022-05-31T19:25:16.998Z"
   },
   {
    "duration": 18,
    "start_time": "2022-05-31T19:25:17.022Z"
   },
   {
    "duration": 43,
    "start_time": "2022-05-31T19:25:17.042Z"
   },
   {
    "duration": 15,
    "start_time": "2022-05-31T19:25:17.090Z"
   },
   {
    "duration": 9,
    "start_time": "2022-05-31T19:25:17.106Z"
   },
   {
    "duration": 21,
    "start_time": "2022-05-31T19:25:17.117Z"
   },
   {
    "duration": 9,
    "start_time": "2022-05-31T19:25:17.139Z"
   },
   {
    "duration": 44,
    "start_time": "2022-05-31T19:25:17.150Z"
   },
   {
    "duration": 19,
    "start_time": "2022-05-31T19:25:17.197Z"
   },
   {
    "duration": 4,
    "start_time": "2022-05-31T19:25:17.218Z"
   },
   {
    "duration": 15,
    "start_time": "2022-05-31T19:25:17.224Z"
   },
   {
    "duration": 20,
    "start_time": "2022-05-31T19:25:17.242Z"
   },
   {
    "duration": 42,
    "start_time": "2022-05-31T19:25:17.264Z"
   },
   {
    "duration": 25,
    "start_time": "2022-05-31T19:25:17.308Z"
   },
   {
    "duration": 17,
    "start_time": "2022-05-31T19:25:17.335Z"
   },
   {
    "duration": 28,
    "start_time": "2022-05-31T19:25:17.353Z"
   },
   {
    "duration": 21,
    "start_time": "2022-05-31T19:25:17.382Z"
   },
   {
    "duration": 14,
    "start_time": "2022-05-31T19:25:17.405Z"
   },
   {
    "duration": 11,
    "start_time": "2022-05-31T19:25:17.420Z"
   },
   {
    "duration": 18,
    "start_time": "2022-05-31T19:25:17.433Z"
   },
   {
    "duration": 45,
    "start_time": "2022-05-31T19:25:17.453Z"
   },
   {
    "duration": 12,
    "start_time": "2022-05-31T19:25:17.499Z"
   },
   {
    "duration": 22,
    "start_time": "2022-05-31T19:25:17.512Z"
   },
   {
    "duration": 14,
    "start_time": "2022-05-31T19:25:17.536Z"
   },
   {
    "duration": 26700,
    "start_time": "2022-05-31T19:25:17.551Z"
   },
   {
    "duration": 497,
    "start_time": "2022-05-31T19:46:31.160Z"
   },
   {
    "duration": 18,
    "start_time": "2022-05-31T19:46:31.659Z"
   },
   {
    "duration": 21,
    "start_time": "2022-05-31T19:46:31.678Z"
   },
   {
    "duration": 12,
    "start_time": "2022-05-31T19:46:31.701Z"
   },
   {
    "duration": 6,
    "start_time": "2022-05-31T19:46:31.715Z"
   },
   {
    "duration": 8,
    "start_time": "2022-05-31T19:46:31.728Z"
   },
   {
    "duration": 7,
    "start_time": "2022-05-31T19:46:31.739Z"
   },
   {
    "duration": 20,
    "start_time": "2022-05-31T19:46:31.747Z"
   },
   {
    "duration": 14,
    "start_time": "2022-05-31T19:46:31.768Z"
   },
   {
    "duration": 14,
    "start_time": "2022-05-31T19:46:31.785Z"
   },
   {
    "duration": 13,
    "start_time": "2022-05-31T19:46:31.801Z"
   },
   {
    "duration": 9,
    "start_time": "2022-05-31T19:46:31.815Z"
   },
   {
    "duration": 12,
    "start_time": "2022-05-31T19:46:31.826Z"
   },
   {
    "duration": 9,
    "start_time": "2022-05-31T19:46:31.840Z"
   },
   {
    "duration": 54,
    "start_time": "2022-05-31T19:46:31.851Z"
   },
   {
    "duration": 7,
    "start_time": "2022-05-31T19:46:31.908Z"
   },
   {
    "duration": 11,
    "start_time": "2022-05-31T19:46:31.917Z"
   },
   {
    "duration": 5,
    "start_time": "2022-05-31T19:46:31.930Z"
   },
   {
    "duration": 18,
    "start_time": "2022-05-31T19:46:31.937Z"
   },
   {
    "duration": 9,
    "start_time": "2022-05-31T19:46:31.956Z"
   },
   {
    "duration": 40,
    "start_time": "2022-05-31T19:46:31.967Z"
   },
   {
    "duration": 29,
    "start_time": "2022-05-31T19:46:32.008Z"
   },
   {
    "duration": 10,
    "start_time": "2022-05-31T19:46:32.039Z"
   },
   {
    "duration": 12,
    "start_time": "2022-05-31T19:46:32.051Z"
   },
   {
    "duration": 20,
    "start_time": "2022-05-31T19:46:32.065Z"
   },
   {
    "duration": 42,
    "start_time": "2022-05-31T19:46:32.088Z"
   },
   {
    "duration": 3,
    "start_time": "2022-05-31T19:46:32.132Z"
   },
   {
    "duration": 9,
    "start_time": "2022-05-31T19:46:32.140Z"
   },
   {
    "duration": 3,
    "start_time": "2022-05-31T19:46:32.150Z"
   },
   {
    "duration": 53,
    "start_time": "2022-05-31T19:46:32.155Z"
   },
   {
    "duration": 3,
    "start_time": "2022-05-31T19:46:32.209Z"
   },
   {
    "duration": 6,
    "start_time": "2022-05-31T19:46:32.214Z"
   },
   {
    "duration": 5,
    "start_time": "2022-05-31T19:46:32.222Z"
   },
   {
    "duration": 8,
    "start_time": "2022-05-31T19:46:32.229Z"
   },
   {
    "duration": 6,
    "start_time": "2022-05-31T19:46:32.238Z"
   },
   {
    "duration": 52,
    "start_time": "2022-05-31T19:46:32.245Z"
   },
   {
    "duration": 51,
    "start_time": "2022-05-31T19:46:32.299Z"
   },
   {
    "duration": 5,
    "start_time": "2022-05-31T19:46:32.351Z"
   },
   {
    "duration": 15,
    "start_time": "2022-05-31T19:46:32.358Z"
   },
   {
    "duration": 51,
    "start_time": "2022-05-31T19:46:32.375Z"
   },
   {
    "duration": 33,
    "start_time": "2022-05-31T19:46:32.428Z"
   },
   {
    "duration": 27,
    "start_time": "2022-05-31T19:46:32.463Z"
   },
   {
    "duration": 25,
    "start_time": "2022-05-31T19:46:32.491Z"
   },
   {
    "duration": 7,
    "start_time": "2022-05-31T19:46:32.518Z"
   },
   {
    "duration": 17,
    "start_time": "2022-05-31T19:46:32.528Z"
   },
   {
    "duration": 29,
    "start_time": "2022-05-31T19:46:32.547Z"
   },
   {
    "duration": 41,
    "start_time": "2022-05-31T19:46:32.578Z"
   },
   {
    "duration": 24,
    "start_time": "2022-05-31T19:46:32.620Z"
   },
   {
    "duration": 18,
    "start_time": "2022-05-31T19:46:32.646Z"
   },
   {
    "duration": 71,
    "start_time": "2022-05-31T19:46:32.680Z"
   },
   {
    "duration": 0,
    "start_time": "2022-05-31T19:46:32.753Z"
   },
   {
    "duration": 0,
    "start_time": "2022-05-31T19:46:32.754Z"
   },
   {
    "duration": 0,
    "start_time": "2022-05-31T19:46:32.755Z"
   },
   {
    "duration": 0,
    "start_time": "2022-05-31T19:46:32.756Z"
   },
   {
    "duration": 0,
    "start_time": "2022-05-31T19:46:32.758Z"
   },
   {
    "duration": 0,
    "start_time": "2022-05-31T19:46:32.759Z"
   },
   {
    "duration": 0,
    "start_time": "2022-05-31T19:46:32.760Z"
   },
   {
    "duration": 0,
    "start_time": "2022-05-31T19:46:32.781Z"
   },
   {
    "duration": 0,
    "start_time": "2022-05-31T19:46:32.784Z"
   },
   {
    "duration": 0,
    "start_time": "2022-05-31T19:46:32.784Z"
   },
   {
    "duration": 0,
    "start_time": "2022-05-31T19:46:32.785Z"
   },
   {
    "duration": 483,
    "start_time": "2022-05-31T19:48:44.048Z"
   },
   {
    "duration": 19,
    "start_time": "2022-05-31T19:48:44.533Z"
   },
   {
    "duration": 8,
    "start_time": "2022-05-31T19:48:44.553Z"
   },
   {
    "duration": 27,
    "start_time": "2022-05-31T19:48:44.563Z"
   },
   {
    "duration": 14,
    "start_time": "2022-05-31T19:48:44.592Z"
   },
   {
    "duration": 10,
    "start_time": "2022-05-31T19:48:44.607Z"
   },
   {
    "duration": 9,
    "start_time": "2022-05-31T19:48:44.619Z"
   },
   {
    "duration": 14,
    "start_time": "2022-05-31T19:48:44.630Z"
   },
   {
    "duration": 10,
    "start_time": "2022-05-31T19:48:44.646Z"
   },
   {
    "duration": 9,
    "start_time": "2022-05-31T19:48:44.658Z"
   },
   {
    "duration": 24,
    "start_time": "2022-05-31T19:48:44.668Z"
   },
   {
    "duration": 10,
    "start_time": "2022-05-31T19:48:44.693Z"
   },
   {
    "duration": 13,
    "start_time": "2022-05-31T19:48:44.704Z"
   },
   {
    "duration": 14,
    "start_time": "2022-05-31T19:48:44.719Z"
   },
   {
    "duration": 46,
    "start_time": "2022-05-31T19:48:44.734Z"
   },
   {
    "duration": 13,
    "start_time": "2022-05-31T19:48:44.781Z"
   },
   {
    "duration": 7,
    "start_time": "2022-05-31T19:48:44.801Z"
   },
   {
    "duration": 3,
    "start_time": "2022-05-31T19:48:44.810Z"
   },
   {
    "duration": 12,
    "start_time": "2022-05-31T19:48:44.815Z"
   },
   {
    "duration": 7,
    "start_time": "2022-05-31T19:48:44.828Z"
   },
   {
    "duration": 26,
    "start_time": "2022-05-31T19:48:44.837Z"
   },
   {
    "duration": 39,
    "start_time": "2022-05-31T19:48:44.865Z"
   },
   {
    "duration": 8,
    "start_time": "2022-05-31T19:48:44.906Z"
   },
   {
    "duration": 12,
    "start_time": "2022-05-31T19:48:44.915Z"
   },
   {
    "duration": 10,
    "start_time": "2022-05-31T19:48:44.929Z"
   },
   {
    "duration": 60,
    "start_time": "2022-05-31T19:48:44.940Z"
   },
   {
    "duration": 4,
    "start_time": "2022-05-31T19:48:45.003Z"
   },
   {
    "duration": 16,
    "start_time": "2022-05-31T19:48:45.011Z"
   },
   {
    "duration": 5,
    "start_time": "2022-05-31T19:48:45.029Z"
   },
   {
    "duration": 39,
    "start_time": "2022-05-31T19:48:45.036Z"
   },
   {
    "duration": 7,
    "start_time": "2022-05-31T19:48:45.079Z"
   },
   {
    "duration": 25,
    "start_time": "2022-05-31T19:48:45.090Z"
   },
   {
    "duration": 7,
    "start_time": "2022-05-31T19:48:45.116Z"
   },
   {
    "duration": 7,
    "start_time": "2022-05-31T19:48:45.124Z"
   },
   {
    "duration": 10,
    "start_time": "2022-05-31T19:48:45.132Z"
   },
   {
    "duration": 14,
    "start_time": "2022-05-31T19:48:45.144Z"
   },
   {
    "duration": 40,
    "start_time": "2022-05-31T19:48:45.160Z"
   },
   {
    "duration": 6,
    "start_time": "2022-05-31T19:48:45.202Z"
   },
   {
    "duration": 12,
    "start_time": "2022-05-31T19:48:45.210Z"
   },
   {
    "duration": 13,
    "start_time": "2022-05-31T19:48:45.223Z"
   },
   {
    "duration": 7,
    "start_time": "2022-05-31T19:48:45.237Z"
   },
   {
    "duration": 40,
    "start_time": "2022-05-31T19:48:45.246Z"
   },
   {
    "duration": 22,
    "start_time": "2022-05-31T19:48:45.289Z"
   },
   {
    "duration": 3,
    "start_time": "2022-05-31T19:48:45.313Z"
   },
   {
    "duration": 12,
    "start_time": "2022-05-31T19:48:45.317Z"
   },
   {
    "duration": 17,
    "start_time": "2022-05-31T19:48:45.330Z"
   },
   {
    "duration": 47,
    "start_time": "2022-05-31T19:48:45.348Z"
   },
   {
    "duration": 18,
    "start_time": "2022-05-31T19:48:45.396Z"
   },
   {
    "duration": 16,
    "start_time": "2022-05-31T19:48:45.415Z"
   },
   {
    "duration": 110,
    "start_time": "2022-05-31T19:48:45.433Z"
   },
   {
    "duration": 0,
    "start_time": "2022-05-31T19:48:45.545Z"
   },
   {
    "duration": 0,
    "start_time": "2022-05-31T19:48:45.546Z"
   },
   {
    "duration": 0,
    "start_time": "2022-05-31T19:48:45.553Z"
   },
   {
    "duration": 0,
    "start_time": "2022-05-31T19:48:45.554Z"
   },
   {
    "duration": 0,
    "start_time": "2022-05-31T19:48:45.556Z"
   },
   {
    "duration": 0,
    "start_time": "2022-05-31T19:48:45.557Z"
   },
   {
    "duration": 0,
    "start_time": "2022-05-31T19:48:45.558Z"
   },
   {
    "duration": 0,
    "start_time": "2022-05-31T19:48:45.558Z"
   },
   {
    "duration": 0,
    "start_time": "2022-05-31T19:48:45.559Z"
   },
   {
    "duration": 0,
    "start_time": "2022-05-31T19:48:45.560Z"
   },
   {
    "duration": 0,
    "start_time": "2022-05-31T19:48:45.560Z"
   },
   {
    "duration": 11,
    "start_time": "2022-05-31T19:50:12.524Z"
   },
   {
    "duration": 9,
    "start_time": "2022-05-31T19:50:45.952Z"
   },
   {
    "duration": 6,
    "start_time": "2022-05-31T19:50:55.200Z"
   },
   {
    "duration": 8,
    "start_time": "2022-05-31T19:53:29.470Z"
   },
   {
    "duration": 6,
    "start_time": "2022-05-31T19:53:56.026Z"
   },
   {
    "duration": 7,
    "start_time": "2022-05-31T19:56:19.316Z"
   },
   {
    "duration": 12,
    "start_time": "2022-05-31T19:56:37.713Z"
   },
   {
    "duration": 17,
    "start_time": "2022-05-31T19:56:45.251Z"
   },
   {
    "duration": 10,
    "start_time": "2022-05-31T19:56:47.401Z"
   },
   {
    "duration": 11,
    "start_time": "2022-05-31T19:56:59.933Z"
   },
   {
    "duration": 18,
    "start_time": "2022-05-31T19:57:02.160Z"
   },
   {
    "duration": 11,
    "start_time": "2022-05-31T19:57:02.900Z"
   },
   {
    "duration": 10,
    "start_time": "2022-05-31T19:57:11.172Z"
   },
   {
    "duration": 17,
    "start_time": "2022-05-31T19:57:17.924Z"
   },
   {
    "duration": 17,
    "start_time": "2022-05-31T19:57:42.802Z"
   },
   {
    "duration": 12,
    "start_time": "2022-05-31T19:57:58.856Z"
   },
   {
    "duration": 29,
    "start_time": "2022-05-31T19:58:05.695Z"
   },
   {
    "duration": 24,
    "start_time": "2022-05-31T19:58:14.115Z"
   },
   {
    "duration": 461,
    "start_time": "2022-05-31T20:14:53.030Z"
   },
   {
    "duration": 22,
    "start_time": "2022-05-31T20:14:53.494Z"
   },
   {
    "duration": 8,
    "start_time": "2022-05-31T20:14:53.517Z"
   },
   {
    "duration": 6,
    "start_time": "2022-05-31T20:14:53.527Z"
   },
   {
    "duration": 5,
    "start_time": "2022-05-31T20:14:53.535Z"
   },
   {
    "duration": 5,
    "start_time": "2022-05-31T20:14:53.541Z"
   },
   {
    "duration": 4,
    "start_time": "2022-05-31T20:14:53.547Z"
   },
   {
    "duration": 12,
    "start_time": "2022-05-31T20:14:53.593Z"
   },
   {
    "duration": 9,
    "start_time": "2022-05-31T20:14:53.606Z"
   },
   {
    "duration": 8,
    "start_time": "2022-05-31T20:14:53.617Z"
   },
   {
    "duration": 11,
    "start_time": "2022-05-31T20:14:53.626Z"
   },
   {
    "duration": 8,
    "start_time": "2022-05-31T20:14:53.638Z"
   },
   {
    "duration": 38,
    "start_time": "2022-05-31T20:14:53.648Z"
   },
   {
    "duration": 15,
    "start_time": "2022-05-31T20:14:53.688Z"
   },
   {
    "duration": 21,
    "start_time": "2022-05-31T20:14:53.706Z"
   },
   {
    "duration": 7,
    "start_time": "2022-05-31T20:14:53.729Z"
   },
   {
    "duration": 8,
    "start_time": "2022-05-31T20:14:53.738Z"
   },
   {
    "duration": 4,
    "start_time": "2022-05-31T20:14:53.747Z"
   },
   {
    "duration": 38,
    "start_time": "2022-05-31T20:14:53.752Z"
   },
   {
    "duration": 12,
    "start_time": "2022-05-31T20:14:53.794Z"
   },
   {
    "duration": 21,
    "start_time": "2022-05-31T20:14:53.807Z"
   },
   {
    "duration": 19,
    "start_time": "2022-05-31T20:14:53.829Z"
   },
   {
    "duration": 3,
    "start_time": "2022-05-31T20:14:53.850Z"
   },
   {
    "duration": 16,
    "start_time": "2022-05-31T20:14:53.882Z"
   },
   {
    "duration": 13,
    "start_time": "2022-05-31T20:14:53.899Z"
   },
   {
    "duration": 37,
    "start_time": "2022-05-31T20:14:53.914Z"
   },
   {
    "duration": 3,
    "start_time": "2022-05-31T20:14:53.953Z"
   },
   {
    "duration": 8,
    "start_time": "2022-05-31T20:14:53.957Z"
   },
   {
    "duration": 4,
    "start_time": "2022-05-31T20:14:53.981Z"
   },
   {
    "duration": 46,
    "start_time": "2022-05-31T20:14:53.986Z"
   },
   {
    "duration": 4,
    "start_time": "2022-05-31T20:14:54.034Z"
   },
   {
    "duration": 23,
    "start_time": "2022-05-31T20:14:54.039Z"
   },
   {
    "duration": 6,
    "start_time": "2022-05-31T20:14:54.064Z"
   },
   {
    "duration": 13,
    "start_time": "2022-05-31T20:14:54.071Z"
   },
   {
    "duration": 17,
    "start_time": "2022-05-31T20:14:54.086Z"
   },
   {
    "duration": 12,
    "start_time": "2022-05-31T20:14:54.105Z"
   },
   {
    "duration": 30,
    "start_time": "2022-05-31T20:14:54.119Z"
   },
   {
    "duration": 4,
    "start_time": "2022-05-31T20:14:54.151Z"
   },
   {
    "duration": 9,
    "start_time": "2022-05-31T20:14:54.156Z"
   },
   {
    "duration": 26,
    "start_time": "2022-05-31T20:14:54.167Z"
   },
   {
    "duration": 10,
    "start_time": "2022-05-31T20:14:54.197Z"
   },
   {
    "duration": 20,
    "start_time": "2022-05-31T20:14:54.209Z"
   },
   {
    "duration": 7,
    "start_time": "2022-05-31T20:14:54.230Z"
   },
   {
    "duration": 6,
    "start_time": "2022-05-31T20:14:54.238Z"
   },
   {
    "duration": 12,
    "start_time": "2022-05-31T20:14:54.245Z"
   },
   {
    "duration": 43,
    "start_time": "2022-05-31T20:14:54.258Z"
   },
   {
    "duration": 38,
    "start_time": "2022-05-31T20:14:54.303Z"
   },
   {
    "duration": 16,
    "start_time": "2022-05-31T20:14:54.342Z"
   },
   {
    "duration": 39,
    "start_time": "2022-05-31T20:14:54.360Z"
   },
   {
    "duration": 15,
    "start_time": "2022-05-31T20:14:54.401Z"
   },
   {
    "duration": 16,
    "start_time": "2022-05-31T20:14:54.417Z"
   },
   {
    "duration": 15,
    "start_time": "2022-05-31T20:14:54.434Z"
   },
   {
    "duration": 11,
    "start_time": "2022-05-31T20:14:54.450Z"
   },
   {
    "duration": 14,
    "start_time": "2022-05-31T20:14:54.494Z"
   },
   {
    "duration": 12,
    "start_time": "2022-05-31T20:14:54.510Z"
   },
   {
    "duration": 11,
    "start_time": "2022-05-31T20:14:54.524Z"
   },
   {
    "duration": 21,
    "start_time": "2022-05-31T20:14:54.536Z"
   },
   {
    "duration": 37,
    "start_time": "2022-05-31T20:14:54.559Z"
   },
   {
    "duration": 207,
    "start_time": "2022-05-31T20:16:13.045Z"
   },
   {
    "duration": 3437,
    "start_time": "2022-05-31T20:16:28.709Z"
   },
   {
    "duration": 27,
    "start_time": "2022-05-31T20:19:18.114Z"
   },
   {
    "duration": 23,
    "start_time": "2022-05-31T20:19:56.498Z"
   },
   {
    "duration": 17,
    "start_time": "2022-05-31T20:20:59.610Z"
   },
   {
    "duration": 3294,
    "start_time": "2022-05-31T20:22:26.537Z"
   },
   {
    "duration": 24,
    "start_time": "2022-05-31T20:24:26.253Z"
   },
   {
    "duration": 499,
    "start_time": "2022-05-31T21:00:30.487Z"
   },
   {
    "duration": 26,
    "start_time": "2022-05-31T21:00:30.989Z"
   },
   {
    "duration": 11,
    "start_time": "2022-05-31T21:00:31.016Z"
   },
   {
    "duration": 8,
    "start_time": "2022-05-31T21:00:31.029Z"
   },
   {
    "duration": 10,
    "start_time": "2022-05-31T21:00:31.039Z"
   },
   {
    "duration": 11,
    "start_time": "2022-05-31T21:00:31.051Z"
   },
   {
    "duration": 25,
    "start_time": "2022-05-31T21:00:31.063Z"
   },
   {
    "duration": 19,
    "start_time": "2022-05-31T21:00:31.093Z"
   },
   {
    "duration": 17,
    "start_time": "2022-05-31T21:00:31.113Z"
   },
   {
    "duration": 9,
    "start_time": "2022-05-31T21:00:31.132Z"
   },
   {
    "duration": 17,
    "start_time": "2022-05-31T21:00:31.142Z"
   },
   {
    "duration": 10,
    "start_time": "2022-05-31T21:00:31.160Z"
   },
   {
    "duration": 26,
    "start_time": "2022-05-31T21:00:31.172Z"
   },
   {
    "duration": 16,
    "start_time": "2022-05-31T21:00:31.200Z"
   },
   {
    "duration": 18,
    "start_time": "2022-05-31T21:00:31.218Z"
   },
   {
    "duration": 9,
    "start_time": "2022-05-31T21:00:31.237Z"
   },
   {
    "duration": 11,
    "start_time": "2022-05-31T21:00:31.247Z"
   },
   {
    "duration": 5,
    "start_time": "2022-05-31T21:00:31.259Z"
   },
   {
    "duration": 13,
    "start_time": "2022-05-31T21:00:31.265Z"
   },
   {
    "duration": 14,
    "start_time": "2022-05-31T21:00:31.285Z"
   },
   {
    "duration": 21,
    "start_time": "2022-05-31T21:00:31.300Z"
   },
   {
    "duration": 18,
    "start_time": "2022-05-31T21:00:31.322Z"
   },
   {
    "duration": 7,
    "start_time": "2022-05-31T21:00:31.342Z"
   },
   {
    "duration": 12,
    "start_time": "2022-05-31T21:00:31.350Z"
   },
   {
    "duration": 13,
    "start_time": "2022-05-31T21:00:31.363Z"
   },
   {
    "duration": 36,
    "start_time": "2022-05-31T21:00:31.378Z"
   },
   {
    "duration": 3,
    "start_time": "2022-05-31T21:00:31.415Z"
   },
   {
    "duration": 8,
    "start_time": "2022-05-31T21:00:31.420Z"
   },
   {
    "duration": 3,
    "start_time": "2022-05-31T21:00:31.429Z"
   },
   {
    "duration": 50,
    "start_time": "2022-05-31T21:00:31.433Z"
   },
   {
    "duration": 9,
    "start_time": "2022-05-31T21:00:31.484Z"
   },
   {
    "duration": 12,
    "start_time": "2022-05-31T21:00:31.494Z"
   },
   {
    "duration": 11,
    "start_time": "2022-05-31T21:00:31.507Z"
   },
   {
    "duration": 6,
    "start_time": "2022-05-31T21:00:31.520Z"
   },
   {
    "duration": 7,
    "start_time": "2022-05-31T21:00:31.527Z"
   },
   {
    "duration": 14,
    "start_time": "2022-05-31T21:00:31.535Z"
   },
   {
    "duration": 42,
    "start_time": "2022-05-31T21:00:31.550Z"
   },
   {
    "duration": 6,
    "start_time": "2022-05-31T21:00:31.593Z"
   },
   {
    "duration": 8,
    "start_time": "2022-05-31T21:00:31.600Z"
   },
   {
    "duration": 15,
    "start_time": "2022-05-31T21:00:31.610Z"
   },
   {
    "duration": 6,
    "start_time": "2022-05-31T21:00:31.630Z"
   },
   {
    "duration": 19,
    "start_time": "2022-05-31T21:00:31.638Z"
   },
   {
    "duration": 12,
    "start_time": "2022-05-31T21:00:31.682Z"
   },
   {
    "duration": 6,
    "start_time": "2022-05-31T21:00:31.695Z"
   },
   {
    "duration": 12,
    "start_time": "2022-05-31T21:00:31.702Z"
   },
   {
    "duration": 16,
    "start_time": "2022-05-31T21:00:31.716Z"
   },
   {
    "duration": 28,
    "start_time": "2022-05-31T21:00:31.734Z"
   },
   {
    "duration": 44,
    "start_time": "2022-05-31T21:00:31.763Z"
   },
   {
    "duration": 16,
    "start_time": "2022-05-31T21:00:31.809Z"
   },
   {
    "duration": 10,
    "start_time": "2022-05-31T21:00:31.826Z"
   },
   {
    "duration": 12,
    "start_time": "2022-05-31T21:00:31.837Z"
   },
   {
    "duration": 33,
    "start_time": "2022-05-31T21:00:31.850Z"
   },
   {
    "duration": 11,
    "start_time": "2022-05-31T21:00:31.885Z"
   },
   {
    "duration": 19,
    "start_time": "2022-05-31T21:00:31.898Z"
   },
   {
    "duration": 14,
    "start_time": "2022-05-31T21:00:31.919Z"
   },
   {
    "duration": 8,
    "start_time": "2022-05-31T21:00:31.935Z"
   },
   {
    "duration": 15,
    "start_time": "2022-05-31T21:00:31.945Z"
   },
   {
    "duration": 26,
    "start_time": "2022-05-31T21:00:31.983Z"
   },
   {
    "duration": 12,
    "start_time": "2022-05-31T21:00:32.011Z"
   },
   {
    "duration": 32,
    "start_time": "2022-05-31T21:17:03.715Z"
   },
   {
    "duration": 3,
    "start_time": "2022-05-31T21:18:47.729Z"
   },
   {
    "duration": 5,
    "start_time": "2022-05-31T21:23:21.359Z"
   },
   {
    "duration": 8,
    "start_time": "2022-05-31T21:23:48.112Z"
   },
   {
    "duration": 8,
    "start_time": "2022-05-31T21:24:20.080Z"
   },
   {
    "duration": 12,
    "start_time": "2022-05-31T21:24:21.174Z"
   },
   {
    "duration": 6,
    "start_time": "2022-05-31T21:25:57.153Z"
   },
   {
    "duration": 10,
    "start_time": "2022-05-31T21:25:58.122Z"
   },
   {
    "duration": 438,
    "start_time": "2022-05-31T22:07:20.429Z"
   },
   {
    "duration": 18,
    "start_time": "2022-05-31T22:07:20.868Z"
   },
   {
    "duration": 8,
    "start_time": "2022-05-31T22:07:20.887Z"
   },
   {
    "duration": 6,
    "start_time": "2022-05-31T22:07:20.897Z"
   },
   {
    "duration": 6,
    "start_time": "2022-05-31T22:07:20.904Z"
   },
   {
    "duration": 4,
    "start_time": "2022-05-31T22:07:20.911Z"
   },
   {
    "duration": 3,
    "start_time": "2022-05-31T22:07:20.917Z"
   },
   {
    "duration": 10,
    "start_time": "2022-05-31T22:07:20.921Z"
   },
   {
    "duration": 10,
    "start_time": "2022-05-31T22:07:20.933Z"
   },
   {
    "duration": 38,
    "start_time": "2022-05-31T22:07:20.945Z"
   },
   {
    "duration": 11,
    "start_time": "2022-05-31T22:07:20.985Z"
   },
   {
    "duration": 7,
    "start_time": "2022-05-31T22:07:20.997Z"
   },
   {
    "duration": 12,
    "start_time": "2022-05-31T22:07:21.005Z"
   },
   {
    "duration": 9,
    "start_time": "2022-05-31T22:07:21.019Z"
   },
   {
    "duration": 15,
    "start_time": "2022-05-31T22:07:21.029Z"
   },
   {
    "duration": 35,
    "start_time": "2022-05-31T22:07:21.046Z"
   },
   {
    "duration": 6,
    "start_time": "2022-05-31T22:07:21.082Z"
   },
   {
    "duration": 4,
    "start_time": "2022-05-31T22:07:21.090Z"
   },
   {
    "duration": 11,
    "start_time": "2022-05-31T22:07:21.095Z"
   },
   {
    "duration": 6,
    "start_time": "2022-05-31T22:07:21.107Z"
   },
   {
    "duration": 19,
    "start_time": "2022-05-31T22:07:21.114Z"
   },
   {
    "duration": 19,
    "start_time": "2022-05-31T22:07:21.134Z"
   },
   {
    "duration": 4,
    "start_time": "2022-05-31T22:07:21.180Z"
   },
   {
    "duration": 8,
    "start_time": "2022-05-31T22:07:21.186Z"
   },
   {
    "duration": 11,
    "start_time": "2022-05-31T22:07:21.195Z"
   },
   {
    "duration": 32,
    "start_time": "2022-05-31T22:07:21.207Z"
   },
   {
    "duration": 3,
    "start_time": "2022-05-31T22:07:21.241Z"
   },
   {
    "duration": 7,
    "start_time": "2022-05-31T22:07:21.248Z"
   },
   {
    "duration": 4,
    "start_time": "2022-05-31T22:07:21.257Z"
   },
   {
    "duration": 30,
    "start_time": "2022-05-31T22:07:21.280Z"
   },
   {
    "duration": 3,
    "start_time": "2022-05-31T22:07:21.311Z"
   },
   {
    "duration": 8,
    "start_time": "2022-05-31T22:07:21.315Z"
   },
   {
    "duration": 6,
    "start_time": "2022-05-31T22:07:21.324Z"
   },
   {
    "duration": 6,
    "start_time": "2022-05-31T22:07:21.331Z"
   },
   {
    "duration": 6,
    "start_time": "2022-05-31T22:07:21.338Z"
   },
   {
    "duration": 36,
    "start_time": "2022-05-31T22:07:21.345Z"
   },
   {
    "duration": 28,
    "start_time": "2022-05-31T22:07:21.383Z"
   },
   {
    "duration": 4,
    "start_time": "2022-05-31T22:07:21.412Z"
   },
   {
    "duration": 8,
    "start_time": "2022-05-31T22:07:21.418Z"
   },
   {
    "duration": 16,
    "start_time": "2022-05-31T22:07:21.427Z"
   },
   {
    "duration": 10,
    "start_time": "2022-05-31T22:07:21.444Z"
   },
   {
    "duration": 19,
    "start_time": "2022-05-31T22:07:21.479Z"
   },
   {
    "duration": 8,
    "start_time": "2022-05-31T22:07:21.499Z"
   },
   {
    "duration": 5,
    "start_time": "2022-05-31T22:07:21.508Z"
   },
   {
    "duration": 13,
    "start_time": "2022-05-31T22:07:21.515Z"
   },
   {
    "duration": 24,
    "start_time": "2022-05-31T22:07:21.529Z"
   },
   {
    "duration": 64,
    "start_time": "2022-05-31T22:07:21.555Z"
   },
   {
    "duration": 17,
    "start_time": "2022-05-31T22:07:21.620Z"
   },
   {
    "duration": 15,
    "start_time": "2022-05-31T22:07:21.638Z"
   },
   {
    "duration": 26,
    "start_time": "2022-05-31T22:07:21.655Z"
   },
   {
    "duration": 10,
    "start_time": "2022-05-31T22:07:21.683Z"
   },
   {
    "duration": 9,
    "start_time": "2022-05-31T22:07:21.694Z"
   },
   {
    "duration": 9,
    "start_time": "2022-05-31T22:07:21.704Z"
   },
   {
    "duration": 11,
    "start_time": "2022-05-31T22:07:21.714Z"
   },
   {
    "duration": 21,
    "start_time": "2022-05-31T22:07:21.727Z"
   },
   {
    "duration": 8,
    "start_time": "2022-05-31T22:07:21.750Z"
   },
   {
    "duration": 33,
    "start_time": "2022-05-31T22:07:21.760Z"
   },
   {
    "duration": 13,
    "start_time": "2022-05-31T22:07:21.794Z"
   },
   {
    "duration": 9,
    "start_time": "2022-05-31T22:07:21.809Z"
   },
   {
    "duration": 6,
    "start_time": "2022-05-31T22:07:21.819Z"
   },
   {
    "duration": 7,
    "start_time": "2022-05-31T22:07:21.827Z"
   },
   {
    "duration": 5,
    "start_time": "2022-05-31T22:07:57.400Z"
   },
   {
    "duration": 8,
    "start_time": "2022-05-31T22:08:02.682Z"
   },
   {
    "duration": 6,
    "start_time": "2022-05-31T22:08:39.045Z"
   },
   {
    "duration": 9,
    "start_time": "2022-05-31T22:08:41.454Z"
   },
   {
    "duration": 7,
    "start_time": "2022-05-31T22:11:28.807Z"
   },
   {
    "duration": 5,
    "start_time": "2022-05-31T22:11:37.151Z"
   },
   {
    "duration": 6,
    "start_time": "2022-05-31T22:11:44.943Z"
   },
   {
    "duration": 6,
    "start_time": "2022-05-31T22:11:56.404Z"
   },
   {
    "duration": 5,
    "start_time": "2022-05-31T22:11:57.677Z"
   },
   {
    "duration": 5,
    "start_time": "2022-05-31T22:21:48.083Z"
   },
   {
    "duration": 7,
    "start_time": "2022-05-31T22:22:15.202Z"
   },
   {
    "duration": 725,
    "start_time": "2022-06-01T08:13:28.091Z"
   },
   {
    "duration": 20,
    "start_time": "2022-06-01T08:13:28.818Z"
   },
   {
    "duration": 8,
    "start_time": "2022-06-01T08:13:28.840Z"
   },
   {
    "duration": 8,
    "start_time": "2022-06-01T08:13:28.850Z"
   },
   {
    "duration": 20,
    "start_time": "2022-06-01T08:13:28.860Z"
   },
   {
    "duration": 11,
    "start_time": "2022-06-01T08:13:28.882Z"
   },
   {
    "duration": 8,
    "start_time": "2022-06-01T08:13:28.895Z"
   },
   {
    "duration": 16,
    "start_time": "2022-06-01T08:13:28.904Z"
   },
   {
    "duration": 13,
    "start_time": "2022-06-01T08:13:28.922Z"
   },
   {
    "duration": 9,
    "start_time": "2022-06-01T08:13:28.937Z"
   },
   {
    "duration": 14,
    "start_time": "2022-06-01T08:13:28.947Z"
   },
   {
    "duration": 18,
    "start_time": "2022-06-01T08:13:28.963Z"
   },
   {
    "duration": 13,
    "start_time": "2022-06-01T08:13:28.983Z"
   },
   {
    "duration": 15,
    "start_time": "2022-06-01T08:13:28.997Z"
   },
   {
    "duration": 31,
    "start_time": "2022-06-01T08:13:29.014Z"
   },
   {
    "duration": 11,
    "start_time": "2022-06-01T08:13:29.046Z"
   },
   {
    "duration": 9,
    "start_time": "2022-06-01T08:13:29.058Z"
   },
   {
    "duration": 3,
    "start_time": "2022-06-01T08:13:29.069Z"
   },
   {
    "duration": 11,
    "start_time": "2022-06-01T08:13:29.074Z"
   },
   {
    "duration": 9,
    "start_time": "2022-06-01T08:13:29.088Z"
   },
   {
    "duration": 59,
    "start_time": "2022-06-01T08:13:29.099Z"
   },
   {
    "duration": 29,
    "start_time": "2022-06-01T08:13:29.160Z"
   },
   {
    "duration": 3,
    "start_time": "2022-06-01T08:13:29.190Z"
   },
   {
    "duration": 12,
    "start_time": "2022-06-01T08:13:29.195Z"
   },
   {
    "duration": 11,
    "start_time": "2022-06-01T08:13:29.209Z"
   },
   {
    "duration": 59,
    "start_time": "2022-06-01T08:13:29.221Z"
   },
   {
    "duration": 3,
    "start_time": "2022-06-01T08:13:29.282Z"
   },
   {
    "duration": 10,
    "start_time": "2022-06-01T08:13:29.288Z"
   },
   {
    "duration": 4,
    "start_time": "2022-06-01T08:13:29.299Z"
   },
   {
    "duration": 60,
    "start_time": "2022-06-01T08:13:29.304Z"
   },
   {
    "duration": 4,
    "start_time": "2022-06-01T08:13:29.366Z"
   },
   {
    "duration": 11,
    "start_time": "2022-06-01T08:13:29.372Z"
   },
   {
    "duration": 8,
    "start_time": "2022-06-01T08:13:29.385Z"
   },
   {
    "duration": 7,
    "start_time": "2022-06-01T08:13:29.394Z"
   },
   {
    "duration": 8,
    "start_time": "2022-06-01T08:13:29.402Z"
   },
   {
    "duration": 14,
    "start_time": "2022-06-01T08:13:29.411Z"
   },
   {
    "duration": 32,
    "start_time": "2022-06-01T08:13:29.452Z"
   },
   {
    "duration": 5,
    "start_time": "2022-06-01T08:13:29.486Z"
   },
   {
    "duration": 13,
    "start_time": "2022-06-01T08:13:29.493Z"
   },
   {
    "duration": 20,
    "start_time": "2022-06-01T08:13:29.507Z"
   },
   {
    "duration": 27,
    "start_time": "2022-06-01T08:13:29.528Z"
   },
   {
    "duration": 31,
    "start_time": "2022-06-01T08:13:29.557Z"
   },
   {
    "duration": 9,
    "start_time": "2022-06-01T08:13:29.591Z"
   },
   {
    "duration": 5,
    "start_time": "2022-06-01T08:13:29.602Z"
   },
   {
    "duration": 14,
    "start_time": "2022-06-01T08:13:29.608Z"
   },
   {
    "duration": 40,
    "start_time": "2022-06-01T08:13:29.624Z"
   },
   {
    "duration": 32,
    "start_time": "2022-06-01T08:13:29.666Z"
   },
   {
    "duration": 20,
    "start_time": "2022-06-01T08:13:29.700Z"
   },
   {
    "duration": 43,
    "start_time": "2022-06-01T08:13:29.722Z"
   },
   {
    "duration": 12,
    "start_time": "2022-06-01T08:13:29.767Z"
   },
   {
    "duration": 17,
    "start_time": "2022-06-01T08:13:29.780Z"
   },
   {
    "duration": 9,
    "start_time": "2022-06-01T08:13:29.799Z"
   },
   {
    "duration": 8,
    "start_time": "2022-06-01T08:13:29.810Z"
   },
   {
    "duration": 41,
    "start_time": "2022-06-01T08:13:29.820Z"
   },
   {
    "duration": 14,
    "start_time": "2022-06-01T08:13:29.863Z"
   },
   {
    "duration": 9,
    "start_time": "2022-06-01T08:13:29.879Z"
   },
   {
    "duration": 17,
    "start_time": "2022-06-01T08:13:29.889Z"
   },
   {
    "duration": 14,
    "start_time": "2022-06-01T08:13:29.908Z"
   },
   {
    "duration": 9,
    "start_time": "2022-06-01T08:13:29.952Z"
   },
   {
    "duration": 7,
    "start_time": "2022-06-01T08:13:29.963Z"
   },
   {
    "duration": 6,
    "start_time": "2022-06-01T08:13:29.972Z"
   },
   {
    "duration": 9,
    "start_time": "2022-06-01T08:13:29.979Z"
   },
   {
    "duration": 9,
    "start_time": "2022-06-01T08:15:28.230Z"
   },
   {
    "duration": 11,
    "start_time": "2022-06-01T08:15:41.129Z"
   },
   {
    "duration": 12,
    "start_time": "2022-06-01T08:15:45.083Z"
   },
   {
    "duration": 29,
    "start_time": "2022-06-01T08:16:04.160Z"
   },
   {
    "duration": 8,
    "start_time": "2022-06-01T08:16:24.759Z"
   },
   {
    "duration": 9,
    "start_time": "2022-06-01T08:16:39.428Z"
   },
   {
    "duration": 22,
    "start_time": "2022-06-01T08:17:23.168Z"
   },
   {
    "duration": 7,
    "start_time": "2022-06-01T08:18:50.675Z"
   },
   {
    "duration": 16,
    "start_time": "2022-06-01T08:22:13.459Z"
   },
   {
    "duration": 18,
    "start_time": "2022-06-01T08:25:03.869Z"
   },
   {
    "duration": 6,
    "start_time": "2022-06-01T08:27:17.326Z"
   },
   {
    "duration": 24,
    "start_time": "2022-06-01T08:27:46.022Z"
   },
   {
    "duration": 13,
    "start_time": "2022-06-01T09:06:23.037Z"
   },
   {
    "duration": 8,
    "start_time": "2022-06-01T09:13:36.756Z"
   },
   {
    "duration": 7,
    "start_time": "2022-06-01T09:14:01.607Z"
   },
   {
    "duration": 8,
    "start_time": "2022-06-01T10:21:50.274Z"
   },
   {
    "duration": 7,
    "start_time": "2022-06-01T10:22:12.774Z"
   },
   {
    "duration": 8,
    "start_time": "2022-06-01T10:31:51.077Z"
   },
   {
    "duration": 6,
    "start_time": "2022-06-01T10:39:24.874Z"
   },
   {
    "duration": 8,
    "start_time": "2022-06-01T10:40:00.093Z"
   },
   {
    "duration": 11,
    "start_time": "2022-06-01T10:43:29.570Z"
   },
   {
    "duration": 8,
    "start_time": "2022-06-01T10:43:37.271Z"
   },
   {
    "duration": 17,
    "start_time": "2022-06-01T10:45:21.832Z"
   },
   {
    "duration": 8,
    "start_time": "2022-06-01T10:45:22.910Z"
   },
   {
    "duration": 15,
    "start_time": "2022-06-01T10:51:40.863Z"
   },
   {
    "duration": 11,
    "start_time": "2022-06-01T10:51:44.180Z"
   },
   {
    "duration": 6,
    "start_time": "2022-06-01T10:52:57.299Z"
   },
   {
    "duration": 7,
    "start_time": "2022-06-01T10:53:10.219Z"
   },
   {
    "duration": 15,
    "start_time": "2022-06-01T10:56:30.070Z"
   },
   {
    "duration": 8,
    "start_time": "2022-06-01T10:56:31.458Z"
   },
   {
    "duration": 7,
    "start_time": "2022-06-01T10:57:10.165Z"
   },
   {
    "duration": 14,
    "start_time": "2022-06-01T10:58:15.829Z"
   },
   {
    "duration": 11,
    "start_time": "2022-06-01T11:58:48.499Z"
   },
   {
    "duration": 71,
    "start_time": "2022-06-01T12:26:23.367Z"
   },
   {
    "duration": 23,
    "start_time": "2022-06-01T12:27:42.172Z"
   },
   {
    "duration": 26,
    "start_time": "2022-06-01T12:28:32.225Z"
   },
   {
    "duration": 10,
    "start_time": "2022-06-01T13:03:07.249Z"
   },
   {
    "duration": 18,
    "start_time": "2022-06-01T13:20:49.695Z"
   },
   {
    "duration": 12,
    "start_time": "2022-06-01T13:21:04.338Z"
   },
   {
    "duration": 13,
    "start_time": "2022-06-01T13:24:10.353Z"
   },
   {
    "duration": 16,
    "start_time": "2022-06-01T13:25:25.279Z"
   },
   {
    "duration": 488,
    "start_time": "2022-06-01T13:46:03.481Z"
   },
   {
    "duration": 498,
    "start_time": "2022-06-01T13:46:14.957Z"
   },
   {
    "duration": 36,
    "start_time": "2022-06-01T13:46:36.052Z"
   },
   {
    "duration": 20,
    "start_time": "2022-06-01T13:47:03.404Z"
   },
   {
    "duration": 12,
    "start_time": "2022-06-01T13:48:23.096Z"
   },
   {
    "duration": 20,
    "start_time": "2022-06-01T15:09:32.240Z"
   },
   {
    "duration": 147,
    "start_time": "2022-06-01T15:10:30.162Z"
   },
   {
    "duration": 143,
    "start_time": "2022-06-01T15:11:27.837Z"
   },
   {
    "duration": 144,
    "start_time": "2022-06-01T15:11:48.249Z"
   },
   {
    "duration": 10,
    "start_time": "2022-06-01T15:13:03.207Z"
   },
   {
    "duration": 13,
    "start_time": "2022-06-01T15:16:25.770Z"
   },
   {
    "duration": 688,
    "start_time": "2022-06-01T15:16:34.864Z"
   },
   {
    "duration": 22,
    "start_time": "2022-06-01T15:16:35.554Z"
   },
   {
    "duration": 10,
    "start_time": "2022-06-01T15:16:35.577Z"
   },
   {
    "duration": 11,
    "start_time": "2022-06-01T15:16:35.589Z"
   },
   {
    "duration": 9,
    "start_time": "2022-06-01T15:16:35.601Z"
   },
   {
    "duration": 6,
    "start_time": "2022-06-01T15:16:35.612Z"
   },
   {
    "duration": 3,
    "start_time": "2022-06-01T15:16:35.620Z"
   },
   {
    "duration": 10,
    "start_time": "2022-06-01T15:16:35.653Z"
   },
   {
    "duration": 16,
    "start_time": "2022-06-01T15:16:35.665Z"
   },
   {
    "duration": 9,
    "start_time": "2022-06-01T15:16:35.684Z"
   },
   {
    "duration": 13,
    "start_time": "2022-06-01T15:16:35.695Z"
   },
   {
    "duration": 8,
    "start_time": "2022-06-01T15:16:35.710Z"
   },
   {
    "duration": 13,
    "start_time": "2022-06-01T15:16:35.752Z"
   },
   {
    "duration": 9,
    "start_time": "2022-06-01T15:16:35.767Z"
   },
   {
    "duration": 17,
    "start_time": "2022-06-01T15:16:35.777Z"
   },
   {
    "duration": 6,
    "start_time": "2022-06-01T15:16:35.796Z"
   },
   {
    "duration": 6,
    "start_time": "2022-06-01T15:16:35.804Z"
   },
   {
    "duration": 40,
    "start_time": "2022-06-01T15:16:35.812Z"
   },
   {
    "duration": 14,
    "start_time": "2022-06-01T15:16:35.854Z"
   },
   {
    "duration": 7,
    "start_time": "2022-06-01T15:16:35.869Z"
   },
   {
    "duration": 22,
    "start_time": "2022-06-01T15:16:35.878Z"
   },
   {
    "duration": 21,
    "start_time": "2022-06-01T15:16:35.902Z"
   },
   {
    "duration": 28,
    "start_time": "2022-06-01T15:16:35.924Z"
   },
   {
    "duration": 7,
    "start_time": "2022-06-01T15:16:35.954Z"
   },
   {
    "duration": 9,
    "start_time": "2022-06-01T15:16:35.962Z"
   },
   {
    "duration": 34,
    "start_time": "2022-06-01T15:16:35.973Z"
   },
   {
    "duration": 4,
    "start_time": "2022-06-01T15:16:36.008Z"
   },
   {
    "duration": 38,
    "start_time": "2022-06-01T15:16:36.016Z"
   },
   {
    "duration": 4,
    "start_time": "2022-06-01T15:16:36.055Z"
   },
   {
    "duration": 38,
    "start_time": "2022-06-01T15:16:36.060Z"
   },
   {
    "duration": 3,
    "start_time": "2022-06-01T15:16:36.099Z"
   },
   {
    "duration": 11,
    "start_time": "2022-06-01T15:16:36.104Z"
   },
   {
    "duration": 17,
    "start_time": "2022-06-01T15:16:36.117Z"
   },
   {
    "duration": 21,
    "start_time": "2022-06-01T15:16:36.135Z"
   },
   {
    "duration": 10,
    "start_time": "2022-06-01T15:16:36.158Z"
   },
   {
    "duration": 14,
    "start_time": "2022-06-01T15:16:36.170Z"
   },
   {
    "duration": 34,
    "start_time": "2022-06-01T15:16:36.186Z"
   },
   {
    "duration": 4,
    "start_time": "2022-06-01T15:16:36.222Z"
   },
   {
    "duration": 30,
    "start_time": "2022-06-01T15:16:36.227Z"
   },
   {
    "duration": 15,
    "start_time": "2022-06-01T15:16:36.259Z"
   },
   {
    "duration": 11,
    "start_time": "2022-06-01T15:16:36.278Z"
   },
   {
    "duration": 25,
    "start_time": "2022-06-01T15:16:36.290Z"
   },
   {
    "duration": 9,
    "start_time": "2022-06-01T15:16:36.316Z"
   },
   {
    "duration": 26,
    "start_time": "2022-06-01T15:16:36.326Z"
   },
   {
    "duration": 12,
    "start_time": "2022-06-01T15:16:36.353Z"
   },
   {
    "duration": 23,
    "start_time": "2022-06-01T15:16:36.366Z"
   },
   {
    "duration": 33,
    "start_time": "2022-06-01T15:16:36.390Z"
   },
   {
    "duration": 37,
    "start_time": "2022-06-01T15:16:36.425Z"
   },
   {
    "duration": 16,
    "start_time": "2022-06-01T15:16:36.463Z"
   },
   {
    "duration": 10,
    "start_time": "2022-06-01T15:16:36.481Z"
   },
   {
    "duration": 11,
    "start_time": "2022-06-01T15:16:36.493Z"
   },
   {
    "duration": 11,
    "start_time": "2022-06-01T15:16:36.506Z"
   },
   {
    "duration": 38,
    "start_time": "2022-06-01T15:16:36.518Z"
   },
   {
    "duration": 12,
    "start_time": "2022-06-01T15:16:36.557Z"
   },
   {
    "duration": 20,
    "start_time": "2022-06-01T15:16:36.571Z"
   },
   {
    "duration": 8,
    "start_time": "2022-06-01T15:16:36.592Z"
   },
   {
    "duration": 17,
    "start_time": "2022-06-01T15:16:36.602Z"
   },
   {
    "duration": 36,
    "start_time": "2022-06-01T15:16:36.620Z"
   },
   {
    "duration": 8,
    "start_time": "2022-06-01T15:16:36.657Z"
   },
   {
    "duration": 18,
    "start_time": "2022-06-01T15:16:36.666Z"
   },
   {
    "duration": 11,
    "start_time": "2022-06-01T15:16:36.685Z"
   },
   {
    "duration": 13,
    "start_time": "2022-06-01T15:16:36.697Z"
   },
   {
    "duration": 6,
    "start_time": "2022-06-01T15:16:36.712Z"
   },
   {
    "duration": 43,
    "start_time": "2022-06-01T15:16:36.720Z"
   },
   {
    "duration": 14,
    "start_time": "2022-06-01T15:16:36.765Z"
   },
   {
    "duration": 11,
    "start_time": "2022-06-01T15:16:36.780Z"
   },
   {
    "duration": 12,
    "start_time": "2022-06-01T15:16:36.793Z"
   },
   {
    "duration": 175,
    "start_time": "2022-06-01T15:16:36.806Z"
   },
   {
    "duration": 12,
    "start_time": "2022-06-01T15:16:36.983Z"
   },
   {
    "duration": 137,
    "start_time": "2022-06-01T15:26:56.871Z"
   },
   {
    "duration": 713,
    "start_time": "2022-06-01T20:40:15.299Z"
   },
   {
    "duration": 21,
    "start_time": "2022-06-01T20:40:16.014Z"
   },
   {
    "duration": 20,
    "start_time": "2022-06-01T20:40:16.037Z"
   },
   {
    "duration": 38,
    "start_time": "2022-06-01T20:40:16.058Z"
   },
   {
    "duration": 14,
    "start_time": "2022-06-01T20:40:16.097Z"
   },
   {
    "duration": 26,
    "start_time": "2022-06-01T20:40:16.113Z"
   },
   {
    "duration": 8,
    "start_time": "2022-06-01T20:40:16.141Z"
   },
   {
    "duration": 28,
    "start_time": "2022-06-01T20:40:16.150Z"
   },
   {
    "duration": 28,
    "start_time": "2022-06-01T20:40:16.180Z"
   },
   {
    "duration": 17,
    "start_time": "2022-06-01T20:40:16.210Z"
   },
   {
    "duration": 26,
    "start_time": "2022-06-01T20:40:16.228Z"
   },
   {
    "duration": 18,
    "start_time": "2022-06-01T20:40:16.255Z"
   },
   {
    "duration": 36,
    "start_time": "2022-06-01T20:40:16.276Z"
   },
   {
    "duration": 30,
    "start_time": "2022-06-01T20:40:16.314Z"
   },
   {
    "duration": 24,
    "start_time": "2022-06-01T20:40:16.345Z"
   },
   {
    "duration": 25,
    "start_time": "2022-06-01T20:40:16.370Z"
   },
   {
    "duration": 24,
    "start_time": "2022-06-01T20:40:16.397Z"
   },
   {
    "duration": 9,
    "start_time": "2022-06-01T20:40:16.423Z"
   },
   {
    "duration": 14,
    "start_time": "2022-06-01T20:40:16.434Z"
   },
   {
    "duration": 11,
    "start_time": "2022-06-01T20:40:16.449Z"
   },
   {
    "duration": 36,
    "start_time": "2022-06-01T20:40:16.461Z"
   },
   {
    "duration": 18,
    "start_time": "2022-06-01T20:40:16.499Z"
   },
   {
    "duration": 3,
    "start_time": "2022-06-01T20:40:16.519Z"
   },
   {
    "duration": 10,
    "start_time": "2022-06-01T20:40:16.523Z"
   },
   {
    "duration": 13,
    "start_time": "2022-06-01T20:40:16.535Z"
   },
   {
    "duration": 57,
    "start_time": "2022-06-01T20:40:16.550Z"
   },
   {
    "duration": 3,
    "start_time": "2022-06-01T20:40:16.609Z"
   },
   {
    "duration": 11,
    "start_time": "2022-06-01T20:40:16.616Z"
   },
   {
    "duration": 8,
    "start_time": "2022-06-01T20:40:16.629Z"
   },
   {
    "duration": 57,
    "start_time": "2022-06-01T20:40:16.638Z"
   },
   {
    "duration": 3,
    "start_time": "2022-06-01T20:40:16.696Z"
   },
   {
    "duration": 12,
    "start_time": "2022-06-01T20:40:16.700Z"
   },
   {
    "duration": 12,
    "start_time": "2022-06-01T20:40:16.713Z"
   },
   {
    "duration": 20,
    "start_time": "2022-06-01T20:40:16.726Z"
   },
   {
    "duration": 7,
    "start_time": "2022-06-01T20:40:16.748Z"
   },
   {
    "duration": 29,
    "start_time": "2022-06-01T20:40:16.757Z"
   },
   {
    "duration": 36,
    "start_time": "2022-06-01T20:40:16.792Z"
   },
   {
    "duration": 5,
    "start_time": "2022-06-01T20:40:16.829Z"
   },
   {
    "duration": 28,
    "start_time": "2022-06-01T20:40:16.836Z"
   },
   {
    "duration": 18,
    "start_time": "2022-06-01T20:40:16.865Z"
   },
   {
    "duration": 33,
    "start_time": "2022-06-01T20:40:16.886Z"
   },
   {
    "duration": 32,
    "start_time": "2022-06-01T20:40:16.920Z"
   },
   {
    "duration": 15,
    "start_time": "2022-06-01T20:40:16.954Z"
   },
   {
    "duration": 26,
    "start_time": "2022-06-01T20:40:16.971Z"
   },
   {
    "duration": 24,
    "start_time": "2022-06-01T20:40:16.998Z"
   },
   {
    "duration": 28,
    "start_time": "2022-06-01T20:40:17.023Z"
   },
   {
    "duration": 42,
    "start_time": "2022-06-01T20:40:17.053Z"
   },
   {
    "duration": 18,
    "start_time": "2022-06-01T20:40:17.096Z"
   },
   {
    "duration": 15,
    "start_time": "2022-06-01T20:40:17.115Z"
   },
   {
    "duration": 13,
    "start_time": "2022-06-01T20:40:17.132Z"
   },
   {
    "duration": 40,
    "start_time": "2022-06-01T20:40:17.149Z"
   },
   {
    "duration": 9,
    "start_time": "2022-06-01T20:40:17.194Z"
   },
   {
    "duration": 20,
    "start_time": "2022-06-01T20:40:17.204Z"
   },
   {
    "duration": 29,
    "start_time": "2022-06-01T20:40:17.225Z"
   },
   {
    "duration": 11,
    "start_time": "2022-06-01T20:40:17.256Z"
   },
   {
    "duration": 29,
    "start_time": "2022-06-01T20:40:17.269Z"
   },
   {
    "duration": 24,
    "start_time": "2022-06-01T20:40:17.300Z"
   },
   {
    "duration": 12,
    "start_time": "2022-06-01T20:40:17.325Z"
   },
   {
    "duration": 21,
    "start_time": "2022-06-01T20:40:17.339Z"
   },
   {
    "duration": 29,
    "start_time": "2022-06-01T20:40:17.362Z"
   },
   {
    "duration": 10,
    "start_time": "2022-06-01T20:40:17.395Z"
   },
   {
    "duration": 19,
    "start_time": "2022-06-01T20:40:17.407Z"
   },
   {
    "duration": 6,
    "start_time": "2022-06-01T20:40:17.428Z"
   },
   {
    "duration": 21,
    "start_time": "2022-06-01T20:40:17.435Z"
   },
   {
    "duration": 21,
    "start_time": "2022-06-01T20:40:17.458Z"
   },
   {
    "duration": 34,
    "start_time": "2022-06-01T20:40:17.484Z"
   },
   {
    "duration": 13,
    "start_time": "2022-06-01T20:40:17.520Z"
   },
   {
    "duration": 150,
    "start_time": "2022-06-01T20:40:17.535Z"
   },
   {
    "duration": 137,
    "start_time": "2022-06-01T20:40:17.687Z"
   },
   {
    "duration": 17,
    "start_time": "2022-06-01T20:44:39.978Z"
   },
   {
    "duration": 14,
    "start_time": "2022-06-01T20:46:20.272Z"
   },
   {
    "duration": 11,
    "start_time": "2022-06-01T20:46:42.594Z"
   },
   {
    "duration": 19,
    "start_time": "2022-06-01T20:47:27.791Z"
   },
   {
    "duration": 71,
    "start_time": "2022-06-01T20:48:02.326Z"
   },
   {
    "duration": 71,
    "start_time": "2022-06-01T20:48:12.071Z"
   },
   {
    "duration": 8,
    "start_time": "2022-06-01T20:49:15.596Z"
   },
   {
    "duration": 21,
    "start_time": "2022-06-01T20:49:28.983Z"
   },
   {
    "duration": 26,
    "start_time": "2022-06-01T20:49:42.238Z"
   },
   {
    "duration": 17,
    "start_time": "2022-06-01T20:50:17.172Z"
   },
   {
    "duration": 13,
    "start_time": "2022-06-01T20:50:40.252Z"
   },
   {
    "duration": 3,
    "start_time": "2022-06-01T21:11:15.321Z"
   },
   {
    "duration": 9,
    "start_time": "2022-06-01T21:11:50.958Z"
   },
   {
    "duration": 3,
    "start_time": "2022-06-01T21:14:19.820Z"
   },
   {
    "duration": 11,
    "start_time": "2022-06-01T21:14:25.075Z"
   },
   {
    "duration": 5,
    "start_time": "2022-06-01T21:14:46.431Z"
   },
   {
    "duration": 9,
    "start_time": "2022-06-01T21:14:49.508Z"
   },
   {
    "duration": 3,
    "start_time": "2022-06-01T21:15:00.401Z"
   },
   {
    "duration": 14,
    "start_time": "2022-06-01T21:15:01.887Z"
   },
   {
    "duration": 6,
    "start_time": "2022-06-01T21:15:19.954Z"
   },
   {
    "duration": 8,
    "start_time": "2022-06-01T21:15:21.219Z"
   },
   {
    "duration": 16,
    "start_time": "2022-06-01T21:22:35.546Z"
   },
   {
    "duration": 7,
    "start_time": "2022-06-01T21:23:47.572Z"
   },
   {
    "duration": 15,
    "start_time": "2022-06-01T21:23:56.691Z"
   },
   {
    "duration": 17,
    "start_time": "2022-06-01T21:25:20.898Z"
   },
   {
    "duration": 8,
    "start_time": "2022-06-01T21:31:34.931Z"
   },
   {
    "duration": 12,
    "start_time": "2022-06-01T21:32:00.830Z"
   },
   {
    "duration": 10,
    "start_time": "2022-06-01T21:43:01.272Z"
   },
   {
    "duration": 13,
    "start_time": "2022-06-01T21:43:20.731Z"
   },
   {
    "duration": 13,
    "start_time": "2022-06-01T21:51:37.505Z"
   },
   {
    "duration": 15,
    "start_time": "2022-06-01T22:01:35.598Z"
   },
   {
    "duration": 526,
    "start_time": "2022-06-01T22:09:42.006Z"
   },
   {
    "duration": 17,
    "start_time": "2022-06-01T22:09:42.534Z"
   },
   {
    "duration": 7,
    "start_time": "2022-06-01T22:09:42.553Z"
   },
   {
    "duration": 25,
    "start_time": "2022-06-01T22:09:42.562Z"
   },
   {
    "duration": 8,
    "start_time": "2022-06-01T22:09:42.589Z"
   },
   {
    "duration": 9,
    "start_time": "2022-06-01T22:09:42.598Z"
   },
   {
    "duration": 7,
    "start_time": "2022-06-01T22:09:42.608Z"
   },
   {
    "duration": 11,
    "start_time": "2022-06-01T22:09:42.616Z"
   },
   {
    "duration": 10,
    "start_time": "2022-06-01T22:09:42.628Z"
   },
   {
    "duration": 8,
    "start_time": "2022-06-01T22:09:42.639Z"
   },
   {
    "duration": 10,
    "start_time": "2022-06-01T22:09:42.649Z"
   },
   {
    "duration": 21,
    "start_time": "2022-06-01T22:09:42.660Z"
   },
   {
    "duration": 17,
    "start_time": "2022-06-01T22:09:42.683Z"
   },
   {
    "duration": 8,
    "start_time": "2022-06-01T22:09:42.703Z"
   },
   {
    "duration": 14,
    "start_time": "2022-06-01T22:09:42.712Z"
   },
   {
    "duration": 6,
    "start_time": "2022-06-01T22:09:42.727Z"
   },
   {
    "duration": 6,
    "start_time": "2022-06-01T22:09:42.734Z"
   },
   {
    "duration": 44,
    "start_time": "2022-06-01T22:09:42.741Z"
   },
   {
    "duration": 11,
    "start_time": "2022-06-01T22:09:42.787Z"
   },
   {
    "duration": 6,
    "start_time": "2022-06-01T22:09:42.799Z"
   },
   {
    "duration": 19,
    "start_time": "2022-06-01T22:09:42.806Z"
   },
   {
    "duration": 19,
    "start_time": "2022-06-01T22:09:42.826Z"
   },
   {
    "duration": 4,
    "start_time": "2022-06-01T22:09:42.846Z"
   },
   {
    "duration": 26,
    "start_time": "2022-06-01T22:09:42.851Z"
   },
   {
    "duration": 14,
    "start_time": "2022-06-01T22:09:42.879Z"
   },
   {
    "duration": 28,
    "start_time": "2022-06-01T22:09:42.895Z"
   },
   {
    "duration": 3,
    "start_time": "2022-06-01T22:09:42.924Z"
   },
   {
    "duration": 9,
    "start_time": "2022-06-01T22:09:42.928Z"
   },
   {
    "duration": 4,
    "start_time": "2022-06-01T22:09:42.938Z"
   },
   {
    "duration": 54,
    "start_time": "2022-06-01T22:09:42.944Z"
   },
   {
    "duration": 3,
    "start_time": "2022-06-01T22:09:42.999Z"
   },
   {
    "duration": 7,
    "start_time": "2022-06-01T22:09:43.003Z"
   },
   {
    "duration": 6,
    "start_time": "2022-06-01T22:09:43.012Z"
   },
   {
    "duration": 4,
    "start_time": "2022-06-01T22:09:43.019Z"
   },
   {
    "duration": 4,
    "start_time": "2022-06-01T22:09:43.025Z"
   },
   {
    "duration": 12,
    "start_time": "2022-06-01T22:09:43.030Z"
   },
   {
    "duration": 62,
    "start_time": "2022-06-01T22:09:43.043Z"
   },
   {
    "duration": 3,
    "start_time": "2022-06-01T22:09:43.107Z"
   },
   {
    "duration": 8,
    "start_time": "2022-06-01T22:09:43.111Z"
   },
   {
    "duration": 9,
    "start_time": "2022-06-01T22:09:43.121Z"
   },
   {
    "duration": 6,
    "start_time": "2022-06-01T22:09:43.134Z"
   },
   {
    "duration": 43,
    "start_time": "2022-06-01T22:09:43.141Z"
   },
   {
    "duration": 17,
    "start_time": "2022-06-01T22:09:43.186Z"
   },
   {
    "duration": 4,
    "start_time": "2022-06-01T22:09:43.204Z"
   },
   {
    "duration": 11,
    "start_time": "2022-06-01T22:09:43.209Z"
   },
   {
    "duration": 15,
    "start_time": "2022-06-01T22:09:43.222Z"
   },
   {
    "duration": 46,
    "start_time": "2022-06-01T22:09:43.238Z"
   },
   {
    "duration": 18,
    "start_time": "2022-06-01T22:09:43.286Z"
   },
   {
    "duration": 15,
    "start_time": "2022-06-01T22:09:43.306Z"
   },
   {
    "duration": 9,
    "start_time": "2022-06-01T22:09:43.322Z"
   },
   {
    "duration": 9,
    "start_time": "2022-06-01T22:09:43.333Z"
   },
   {
    "duration": 41,
    "start_time": "2022-06-01T22:09:43.343Z"
   },
   {
    "duration": 14,
    "start_time": "2022-06-01T22:09:43.385Z"
   },
   {
    "duration": 13,
    "start_time": "2022-06-01T22:09:43.401Z"
   },
   {
    "duration": 11,
    "start_time": "2022-06-01T22:09:43.415Z"
   },
   {
    "duration": 9,
    "start_time": "2022-06-01T22:09:43.427Z"
   },
   {
    "duration": 40,
    "start_time": "2022-06-01T22:09:43.437Z"
   },
   {
    "duration": 18,
    "start_time": "2022-06-01T22:09:43.478Z"
   },
   {
    "duration": 8,
    "start_time": "2022-06-01T22:09:43.497Z"
   },
   {
    "duration": 17,
    "start_time": "2022-06-01T22:09:43.507Z"
   },
   {
    "duration": 10,
    "start_time": "2022-06-01T22:09:43.525Z"
   },
   {
    "duration": 10,
    "start_time": "2022-06-01T22:09:43.537Z"
   },
   {
    "duration": 30,
    "start_time": "2022-06-01T22:09:43.549Z"
   },
   {
    "duration": 27,
    "start_time": "2022-06-01T22:09:43.581Z"
   },
   {
    "duration": 12,
    "start_time": "2022-06-01T22:09:43.610Z"
   },
   {
    "duration": 11,
    "start_time": "2022-06-01T22:09:43.623Z"
   },
   {
    "duration": 11,
    "start_time": "2022-06-01T22:09:43.635Z"
   },
   {
    "duration": 159,
    "start_time": "2022-06-01T22:09:43.647Z"
   },
   {
    "duration": 139,
    "start_time": "2022-06-01T22:09:43.808Z"
   },
   {
    "duration": 12,
    "start_time": "2022-06-01T22:09:43.949Z"
   },
   {
    "duration": 17,
    "start_time": "2022-06-01T22:09:43.974Z"
   },
   {
    "duration": 17,
    "start_time": "2022-06-01T22:09:43.992Z"
   },
   {
    "duration": 14,
    "start_time": "2022-06-01T22:09:44.010Z"
   },
   {
    "duration": 8,
    "start_time": "2022-06-01T22:12:56.650Z"
   },
   {
    "duration": 473,
    "start_time": "2022-06-01T22:13:09.374Z"
   },
   {
    "duration": 18,
    "start_time": "2022-06-01T22:13:09.848Z"
   },
   {
    "duration": 9,
    "start_time": "2022-06-01T22:13:09.868Z"
   },
   {
    "duration": 7,
    "start_time": "2022-06-01T22:13:09.879Z"
   },
   {
    "duration": 5,
    "start_time": "2022-06-01T22:13:09.887Z"
   },
   {
    "duration": 6,
    "start_time": "2022-06-01T22:13:09.894Z"
   },
   {
    "duration": 8,
    "start_time": "2022-06-01T22:13:09.901Z"
   },
   {
    "duration": 11,
    "start_time": "2022-06-01T22:13:09.910Z"
   },
   {
    "duration": 9,
    "start_time": "2022-06-01T22:13:09.922Z"
   },
   {
    "duration": 7,
    "start_time": "2022-06-01T22:13:09.933Z"
   },
   {
    "duration": 41,
    "start_time": "2022-06-01T22:13:09.941Z"
   },
   {
    "duration": 7,
    "start_time": "2022-06-01T22:13:09.983Z"
   },
   {
    "duration": 9,
    "start_time": "2022-06-01T22:13:09.992Z"
   },
   {
    "duration": 7,
    "start_time": "2022-06-01T22:13:10.003Z"
   },
   {
    "duration": 18,
    "start_time": "2022-06-01T22:13:10.012Z"
   },
   {
    "duration": 5,
    "start_time": "2022-06-01T22:13:10.032Z"
   },
   {
    "duration": 37,
    "start_time": "2022-06-01T22:13:10.038Z"
   },
   {
    "duration": 4,
    "start_time": "2022-06-01T22:13:10.077Z"
   },
   {
    "duration": 17,
    "start_time": "2022-06-01T22:13:10.083Z"
   },
   {
    "duration": 6,
    "start_time": "2022-06-01T22:13:10.101Z"
   },
   {
    "duration": 19,
    "start_time": "2022-06-01T22:13:10.108Z"
   },
   {
    "duration": 18,
    "start_time": "2022-06-01T22:13:10.128Z"
   },
   {
    "duration": 6,
    "start_time": "2022-06-01T22:13:10.147Z"
   },
   {
    "duration": 9,
    "start_time": "2022-06-01T22:13:10.174Z"
   },
   {
    "duration": 10,
    "start_time": "2022-06-01T22:13:10.184Z"
   },
   {
    "duration": 43,
    "start_time": "2022-06-01T22:13:10.195Z"
   },
   {
    "duration": 3,
    "start_time": "2022-06-01T22:13:10.239Z"
   },
   {
    "duration": 33,
    "start_time": "2022-06-01T22:13:10.246Z"
   },
   {
    "duration": 3,
    "start_time": "2022-06-01T22:13:10.280Z"
   },
   {
    "duration": 33,
    "start_time": "2022-06-01T22:13:10.285Z"
   },
   {
    "duration": 3,
    "start_time": "2022-06-01T22:13:10.319Z"
   },
   {
    "duration": 8,
    "start_time": "2022-06-01T22:13:10.323Z"
   },
   {
    "duration": 7,
    "start_time": "2022-06-01T22:13:10.333Z"
   },
   {
    "duration": 5,
    "start_time": "2022-06-01T22:13:10.342Z"
   },
   {
    "duration": 30,
    "start_time": "2022-06-01T22:13:10.348Z"
   },
   {
    "duration": 14,
    "start_time": "2022-06-01T22:13:10.380Z"
   },
   {
    "duration": 31,
    "start_time": "2022-06-01T22:13:10.395Z"
   },
   {
    "duration": 4,
    "start_time": "2022-06-01T22:13:10.427Z"
   },
   {
    "duration": 7,
    "start_time": "2022-06-01T22:13:10.432Z"
   },
   {
    "duration": 35,
    "start_time": "2022-06-01T22:13:10.440Z"
   },
   {
    "duration": 5,
    "start_time": "2022-06-01T22:13:10.477Z"
   },
   {
    "duration": 19,
    "start_time": "2022-06-01T22:13:10.484Z"
   },
   {
    "duration": 9,
    "start_time": "2022-06-01T22:13:10.504Z"
   },
   {
    "duration": 3,
    "start_time": "2022-06-01T22:13:10.515Z"
   },
   {
    "duration": 11,
    "start_time": "2022-06-01T22:13:10.519Z"
   },
   {
    "duration": 17,
    "start_time": "2022-06-01T22:13:10.531Z"
   },
   {
    "duration": 52,
    "start_time": "2022-06-01T22:13:10.549Z"
   },
   {
    "duration": 16,
    "start_time": "2022-06-01T22:13:10.602Z"
   },
   {
    "duration": 14,
    "start_time": "2022-06-01T22:13:10.619Z"
   },
   {
    "duration": 8,
    "start_time": "2022-06-01T22:13:10.634Z"
   },
   {
    "duration": 33,
    "start_time": "2022-06-01T22:13:10.644Z"
   },
   {
    "duration": 8,
    "start_time": "2022-06-01T22:13:10.679Z"
   },
   {
    "duration": 8,
    "start_time": "2022-06-01T22:13:10.688Z"
   },
   {
    "duration": 12,
    "start_time": "2022-06-01T22:13:10.697Z"
   },
   {
    "duration": 10,
    "start_time": "2022-06-01T22:13:10.710Z"
   },
   {
    "duration": 8,
    "start_time": "2022-06-01T22:13:10.721Z"
   },
   {
    "duration": 13,
    "start_time": "2022-06-01T22:13:10.730Z"
   },
   {
    "duration": 13,
    "start_time": "2022-06-01T22:13:10.774Z"
   },
   {
    "duration": 7,
    "start_time": "2022-06-01T22:13:10.788Z"
   },
   {
    "duration": 15,
    "start_time": "2022-06-01T22:13:10.797Z"
   },
   {
    "duration": 9,
    "start_time": "2022-06-01T22:13:10.813Z"
   },
   {
    "duration": 9,
    "start_time": "2022-06-01T22:13:10.823Z"
   },
   {
    "duration": 13,
    "start_time": "2022-06-01T22:13:10.833Z"
   },
   {
    "duration": 38,
    "start_time": "2022-06-01T22:13:10.847Z"
   },
   {
    "duration": 11,
    "start_time": "2022-06-01T22:13:10.886Z"
   },
   {
    "duration": 10,
    "start_time": "2022-06-01T22:13:10.898Z"
   },
   {
    "duration": 10,
    "start_time": "2022-06-01T22:13:10.909Z"
   },
   {
    "duration": 142,
    "start_time": "2022-06-01T22:13:10.921Z"
   },
   {
    "duration": 133,
    "start_time": "2022-06-01T22:13:11.065Z"
   },
   {
    "duration": 12,
    "start_time": "2022-06-01T22:13:11.200Z"
   },
   {
    "duration": 11,
    "start_time": "2022-06-01T22:13:11.213Z"
   },
   {
    "duration": 12,
    "start_time": "2022-06-01T22:13:11.225Z"
   },
   {
    "duration": 39,
    "start_time": "2022-06-01T22:13:11.238Z"
   },
   {
    "duration": 729,
    "start_time": "2022-06-02T14:21:53.561Z"
   },
   {
    "duration": 20,
    "start_time": "2022-06-02T14:21:54.292Z"
   },
   {
    "duration": 13,
    "start_time": "2022-06-02T14:21:54.314Z"
   },
   {
    "duration": 16,
    "start_time": "2022-06-02T14:21:54.335Z"
   },
   {
    "duration": 6,
    "start_time": "2022-06-02T14:21:54.353Z"
   },
   {
    "duration": 7,
    "start_time": "2022-06-02T14:21:54.360Z"
   },
   {
    "duration": 4,
    "start_time": "2022-06-02T14:21:54.368Z"
   },
   {
    "duration": 10,
    "start_time": "2022-06-02T14:21:54.373Z"
   },
   {
    "duration": 12,
    "start_time": "2022-06-02T14:21:54.385Z"
   },
   {
    "duration": 9,
    "start_time": "2022-06-02T14:21:54.398Z"
   },
   {
    "duration": 38,
    "start_time": "2022-06-02T14:21:54.408Z"
   },
   {
    "duration": 8,
    "start_time": "2022-06-02T14:21:54.447Z"
   },
   {
    "duration": 13,
    "start_time": "2022-06-02T14:21:54.457Z"
   },
   {
    "duration": 10,
    "start_time": "2022-06-02T14:21:54.472Z"
   },
   {
    "duration": 16,
    "start_time": "2022-06-02T14:21:54.483Z"
   },
   {
    "duration": 38,
    "start_time": "2022-06-02T14:21:54.500Z"
   },
   {
    "duration": 7,
    "start_time": "2022-06-02T14:21:54.540Z"
   },
   {
    "duration": 4,
    "start_time": "2022-06-02T14:21:54.548Z"
   },
   {
    "duration": 14,
    "start_time": "2022-06-02T14:21:54.553Z"
   },
   {
    "duration": 5,
    "start_time": "2022-06-02T14:21:54.569Z"
   },
   {
    "duration": 21,
    "start_time": "2022-06-02T14:21:54.576Z"
   },
   {
    "duration": 43,
    "start_time": "2022-06-02T14:21:54.599Z"
   },
   {
    "duration": 5,
    "start_time": "2022-06-02T14:21:54.644Z"
   },
   {
    "duration": 9,
    "start_time": "2022-06-02T14:21:54.651Z"
   },
   {
    "duration": 8,
    "start_time": "2022-06-02T14:21:54.661Z"
   },
   {
    "duration": 55,
    "start_time": "2022-06-02T14:21:54.670Z"
   },
   {
    "duration": 4,
    "start_time": "2022-06-02T14:21:54.726Z"
   },
   {
    "duration": 10,
    "start_time": "2022-06-02T14:21:54.731Z"
   },
   {
    "duration": 3,
    "start_time": "2022-06-02T14:21:54.742Z"
   },
   {
    "duration": 34,
    "start_time": "2022-06-02T14:21:54.747Z"
   },
   {
    "duration": 3,
    "start_time": "2022-06-02T14:21:54.782Z"
   },
   {
    "duration": 15,
    "start_time": "2022-06-02T14:21:54.786Z"
   },
   {
    "duration": 8,
    "start_time": "2022-06-02T14:21:54.803Z"
   },
   {
    "duration": 16,
    "start_time": "2022-06-02T14:21:54.823Z"
   },
   {
    "duration": 5,
    "start_time": "2022-06-02T14:21:54.841Z"
   },
   {
    "duration": 17,
    "start_time": "2022-06-02T14:21:54.848Z"
   },
   {
    "duration": 30,
    "start_time": "2022-06-02T14:21:54.866Z"
   },
   {
    "duration": 4,
    "start_time": "2022-06-02T14:21:54.898Z"
   },
   {
    "duration": 43,
    "start_time": "2022-06-02T14:21:54.903Z"
   },
   {
    "duration": 23,
    "start_time": "2022-06-02T14:21:54.947Z"
   },
   {
    "duration": 6,
    "start_time": "2022-06-02T14:21:54.973Z"
   },
   {
    "duration": 21,
    "start_time": "2022-06-02T14:21:54.980Z"
   },
   {
    "duration": 7,
    "start_time": "2022-06-02T14:21:55.003Z"
   },
   {
    "duration": 3,
    "start_time": "2022-06-02T14:21:55.011Z"
   },
   {
    "duration": 24,
    "start_time": "2022-06-02T14:21:55.016Z"
   },
   {
    "duration": 18,
    "start_time": "2022-06-02T14:21:55.042Z"
   },
   {
    "duration": 30,
    "start_time": "2022-06-02T14:21:55.061Z"
   },
   {
    "duration": 18,
    "start_time": "2022-06-02T14:21:55.092Z"
   },
   {
    "duration": 22,
    "start_time": "2022-06-02T14:21:55.125Z"
   },
   {
    "duration": 10,
    "start_time": "2022-06-02T14:21:55.148Z"
   },
   {
    "duration": 10,
    "start_time": "2022-06-02T14:21:55.159Z"
   },
   {
    "duration": 11,
    "start_time": "2022-06-02T14:21:55.171Z"
   },
   {
    "duration": 7,
    "start_time": "2022-06-02T14:21:55.184Z"
   },
   {
    "duration": 42,
    "start_time": "2022-06-02T14:21:55.193Z"
   },
   {
    "duration": 13,
    "start_time": "2022-06-02T14:21:55.236Z"
   },
   {
    "duration": 9,
    "start_time": "2022-06-02T14:21:55.251Z"
   },
   {
    "duration": 14,
    "start_time": "2022-06-02T14:21:55.261Z"
   },
   {
    "duration": 12,
    "start_time": "2022-06-02T14:21:55.276Z"
   },
   {
    "duration": 8,
    "start_time": "2022-06-02T14:21:55.290Z"
   },
   {
    "duration": 40,
    "start_time": "2022-06-02T14:21:55.300Z"
   },
   {
    "duration": 11,
    "start_time": "2022-06-02T14:21:55.341Z"
   },
   {
    "duration": 14,
    "start_time": "2022-06-02T14:21:55.354Z"
   },
   {
    "duration": 10,
    "start_time": "2022-06-02T14:21:55.370Z"
   },
   {
    "duration": 16,
    "start_time": "2022-06-02T14:21:55.381Z"
   },
   {
    "duration": 38,
    "start_time": "2022-06-02T14:21:55.398Z"
   },
   {
    "duration": 13,
    "start_time": "2022-06-02T14:21:55.437Z"
   },
   {
    "duration": 11,
    "start_time": "2022-06-02T14:21:55.452Z"
   },
   {
    "duration": 152,
    "start_time": "2022-06-02T14:21:55.465Z"
   },
   {
    "duration": 144,
    "start_time": "2022-06-02T14:21:55.628Z"
   },
   {
    "duration": 14,
    "start_time": "2022-06-02T14:21:55.774Z"
   },
   {
    "duration": 14,
    "start_time": "2022-06-02T14:21:55.790Z"
   },
   {
    "duration": 24,
    "start_time": "2022-06-02T14:21:55.826Z"
   },
   {
    "duration": 16,
    "start_time": "2022-06-02T14:21:55.851Z"
   },
   {
    "duration": 84,
    "start_time": "2022-06-02T16:58:10.506Z"
   },
   {
    "duration": 14,
    "start_time": "2022-06-02T16:58:12.079Z"
   },
   {
    "duration": 33,
    "start_time": "2022-06-02T16:58:33.028Z"
   },
   {
    "duration": 24,
    "start_time": "2022-06-02T17:00:40.298Z"
   },
   {
    "duration": 4,
    "start_time": "2022-06-02T17:17:36.022Z"
   },
   {
    "duration": 10,
    "start_time": "2022-06-02T17:17:39.376Z"
   },
   {
    "duration": 49,
    "start_time": "2022-06-02T17:17:42.361Z"
   },
   {
    "duration": 4,
    "start_time": "2022-06-02T17:24:58.274Z"
   },
   {
    "duration": 10,
    "start_time": "2022-06-02T17:25:16.873Z"
   },
   {
    "duration": 37,
    "start_time": "2022-06-02T17:25:21.041Z"
   },
   {
    "duration": 3,
    "start_time": "2022-06-02T17:25:33.742Z"
   },
   {
    "duration": 7,
    "start_time": "2022-06-02T17:25:35.414Z"
   },
   {
    "duration": 3,
    "start_time": "2022-06-02T17:25:36.897Z"
   },
   {
    "duration": 39,
    "start_time": "2022-06-02T17:25:44.542Z"
   },
   {
    "duration": 4,
    "start_time": "2022-06-02T17:26:03.649Z"
   },
   {
    "duration": 7,
    "start_time": "2022-06-02T17:26:06.818Z"
   },
   {
    "duration": 7,
    "start_time": "2022-06-02T17:26:08.841Z"
   },
   {
    "duration": 6,
    "start_time": "2022-06-02T17:26:12.594Z"
   },
   {
    "duration": 6,
    "start_time": "2022-06-02T17:26:14.296Z"
   },
   {
    "duration": 14,
    "start_time": "2022-06-02T17:27:16.061Z"
   },
   {
    "duration": 38,
    "start_time": "2022-06-02T17:27:23.898Z"
   },
   {
    "duration": 6,
    "start_time": "2022-06-02T17:27:47.432Z"
   },
   {
    "duration": 8,
    "start_time": "2022-06-02T17:27:59.445Z"
   },
   {
    "duration": 545,
    "start_time": "2022-06-02T17:28:20.594Z"
   },
   {
    "duration": 22,
    "start_time": "2022-06-02T17:28:21.141Z"
   },
   {
    "duration": 44,
    "start_time": "2022-06-02T17:28:21.164Z"
   },
   {
    "duration": 10,
    "start_time": "2022-06-02T17:28:21.211Z"
   },
   {
    "duration": 11,
    "start_time": "2022-06-02T17:28:21.223Z"
   },
   {
    "duration": 5,
    "start_time": "2022-06-02T17:28:21.236Z"
   },
   {
    "duration": 5,
    "start_time": "2022-06-02T17:28:21.243Z"
   },
   {
    "duration": 30,
    "start_time": "2022-06-02T17:28:21.250Z"
   },
   {
    "duration": 11,
    "start_time": "2022-06-02T17:28:21.282Z"
   },
   {
    "duration": 13,
    "start_time": "2022-06-02T17:28:21.295Z"
   },
   {
    "duration": 10,
    "start_time": "2022-06-02T17:28:21.309Z"
   },
   {
    "duration": 14,
    "start_time": "2022-06-02T17:28:21.320Z"
   },
   {
    "duration": 45,
    "start_time": "2022-06-02T17:28:21.336Z"
   },
   {
    "duration": 15,
    "start_time": "2022-06-02T17:28:21.383Z"
   },
   {
    "duration": 12,
    "start_time": "2022-06-02T17:28:21.400Z"
   },
   {
    "duration": 19,
    "start_time": "2022-06-02T17:28:21.414Z"
   },
   {
    "duration": 8,
    "start_time": "2022-06-02T17:28:21.434Z"
   },
   {
    "duration": 42,
    "start_time": "2022-06-02T17:28:21.443Z"
   },
   {
    "duration": 3,
    "start_time": "2022-06-02T17:28:21.486Z"
   },
   {
    "duration": 12,
    "start_time": "2022-06-02T17:28:21.491Z"
   },
   {
    "duration": 7,
    "start_time": "2022-06-02T17:28:21.505Z"
   },
   {
    "duration": 24,
    "start_time": "2022-06-02T17:28:21.513Z"
   },
   {
    "duration": 56,
    "start_time": "2022-06-02T17:28:21.538Z"
   },
   {
    "duration": 3,
    "start_time": "2022-06-02T17:28:21.595Z"
   },
   {
    "duration": 6,
    "start_time": "2022-06-02T17:28:21.600Z"
   },
   {
    "duration": 13,
    "start_time": "2022-06-02T17:28:21.608Z"
   },
   {
    "duration": 60,
    "start_time": "2022-06-02T17:28:21.623Z"
   },
   {
    "duration": 4,
    "start_time": "2022-06-02T17:28:21.688Z"
   },
   {
    "duration": 10,
    "start_time": "2022-06-02T17:28:21.693Z"
   },
   {
    "duration": 4,
    "start_time": "2022-06-02T17:28:21.704Z"
   },
   {
    "duration": 40,
    "start_time": "2022-06-02T17:28:21.710Z"
   },
   {
    "duration": 29,
    "start_time": "2022-06-02T17:28:21.752Z"
   },
   {
    "duration": 7,
    "start_time": "2022-06-02T17:28:21.783Z"
   },
   {
    "duration": 7,
    "start_time": "2022-06-02T17:28:21.792Z"
   },
   {
    "duration": 7,
    "start_time": "2022-06-02T17:28:21.801Z"
   },
   {
    "duration": 7,
    "start_time": "2022-06-02T17:28:21.809Z"
   },
   {
    "duration": 15,
    "start_time": "2022-06-02T17:28:21.818Z"
   },
   {
    "duration": 76,
    "start_time": "2022-06-02T17:28:21.835Z"
   },
   {
    "duration": 6,
    "start_time": "2022-06-02T17:28:21.913Z"
   },
   {
    "duration": 9,
    "start_time": "2022-06-02T17:28:21.921Z"
   },
   {
    "duration": 14,
    "start_time": "2022-06-02T17:28:21.932Z"
   },
   {
    "duration": 8,
    "start_time": "2022-06-02T17:28:21.980Z"
   },
   {
    "duration": 11,
    "start_time": "2022-06-02T17:28:21.991Z"
   },
   {
    "duration": 15,
    "start_time": "2022-06-02T17:28:22.003Z"
   },
   {
    "duration": 4,
    "start_time": "2022-06-02T17:28:22.019Z"
   },
   {
    "duration": 15,
    "start_time": "2022-06-02T17:28:22.025Z"
   },
   {
    "duration": 47,
    "start_time": "2022-06-02T17:28:22.041Z"
   },
   {
    "duration": 37,
    "start_time": "2022-06-02T17:28:22.089Z"
   },
   {
    "duration": 20,
    "start_time": "2022-06-02T17:28:22.128Z"
   },
   {
    "duration": 43,
    "start_time": "2022-06-02T17:28:22.150Z"
   },
   {
    "duration": 16,
    "start_time": "2022-06-02T17:28:22.196Z"
   },
   {
    "duration": 18,
    "start_time": "2022-06-02T17:28:22.213Z"
   },
   {
    "duration": 20,
    "start_time": "2022-06-02T17:28:22.233Z"
   },
   {
    "duration": 33,
    "start_time": "2022-06-02T17:28:22.255Z"
   },
   {
    "duration": 21,
    "start_time": "2022-06-02T17:28:22.290Z"
   },
   {
    "duration": 19,
    "start_time": "2022-06-02T17:28:22.313Z"
   },
   {
    "duration": 12,
    "start_time": "2022-06-02T17:28:22.334Z"
   },
   {
    "duration": 49,
    "start_time": "2022-06-02T17:28:22.348Z"
   },
   {
    "duration": 18,
    "start_time": "2022-06-02T17:28:22.399Z"
   },
   {
    "duration": 17,
    "start_time": "2022-06-02T17:28:22.420Z"
   },
   {
    "duration": 45,
    "start_time": "2022-06-02T17:28:22.439Z"
   },
   {
    "duration": 17,
    "start_time": "2022-06-02T17:28:22.486Z"
   },
   {
    "duration": 15,
    "start_time": "2022-06-02T17:28:22.505Z"
   },
   {
    "duration": 8,
    "start_time": "2022-06-02T17:28:22.522Z"
   },
   {
    "duration": 14,
    "start_time": "2022-06-02T17:28:22.532Z"
   },
   {
    "duration": 43,
    "start_time": "2022-06-02T17:28:22.548Z"
   },
   {
    "duration": 14,
    "start_time": "2022-06-02T17:28:22.593Z"
   },
   {
    "duration": 12,
    "start_time": "2022-06-02T17:28:22.608Z"
   },
   {
    "duration": 169,
    "start_time": "2022-06-02T17:28:22.621Z"
   },
   {
    "duration": 153,
    "start_time": "2022-06-02T17:28:22.791Z"
   },
   {
    "duration": 14,
    "start_time": "2022-06-02T17:28:22.945Z"
   },
   {
    "duration": 31,
    "start_time": "2022-06-02T17:28:22.961Z"
   },
   {
    "duration": 17,
    "start_time": "2022-06-02T17:28:22.994Z"
   },
   {
    "duration": 19,
    "start_time": "2022-06-02T17:28:23.012Z"
   },
   {
    "duration": 4,
    "start_time": "2022-06-02T17:29:56.631Z"
   },
   {
    "duration": 7,
    "start_time": "2022-06-02T17:29:57.353Z"
   },
   {
    "duration": 91,
    "start_time": "2022-06-02T17:30:27.987Z"
   },
   {
    "duration": 15,
    "start_time": "2022-06-02T17:30:30.489Z"
   },
   {
    "duration": 40,
    "start_time": "2022-06-02T17:30:32.006Z"
   },
   {
    "duration": 11,
    "start_time": "2022-06-02T17:30:41.608Z"
   },
   {
    "duration": 8,
    "start_time": "2022-06-02T17:30:42.815Z"
   },
   {
    "duration": 6,
    "start_time": "2022-06-02T17:30:45.313Z"
   },
   {
    "duration": 7,
    "start_time": "2022-06-02T17:30:46.220Z"
   },
   {
    "duration": 3,
    "start_time": "2022-06-02T17:30:48.671Z"
   },
   {
    "duration": 9,
    "start_time": "2022-06-02T17:30:49.583Z"
   },
   {
    "duration": 12,
    "start_time": "2022-06-02T17:30:52.098Z"
   },
   {
    "duration": 10,
    "start_time": "2022-06-02T17:30:52.981Z"
   },
   {
    "duration": 13,
    "start_time": "2022-06-02T17:30:54.279Z"
   },
   {
    "duration": 10,
    "start_time": "2022-06-02T17:30:55.280Z"
   },
   {
    "duration": 13,
    "start_time": "2022-06-02T17:30:56.776Z"
   },
   {
    "duration": 11,
    "start_time": "2022-06-02T17:30:57.668Z"
   },
   {
    "duration": 19,
    "start_time": "2022-06-02T17:30:58.576Z"
   },
   {
    "duration": 7,
    "start_time": "2022-06-02T17:31:00.738Z"
   },
   {
    "duration": 8,
    "start_time": "2022-06-02T17:31:02.155Z"
   },
   {
    "duration": 4,
    "start_time": "2022-06-02T17:31:04.267Z"
   },
   {
    "duration": 12,
    "start_time": "2022-06-02T17:31:06.330Z"
   },
   {
    "duration": 9,
    "start_time": "2022-06-02T17:31:09.772Z"
   },
   {
    "duration": 25,
    "start_time": "2022-06-02T17:31:11.866Z"
   },
   {
    "duration": 23,
    "start_time": "2022-06-02T17:31:14.374Z"
   },
   {
    "duration": 4,
    "start_time": "2022-06-02T17:31:15.767Z"
   },
   {
    "duration": 6,
    "start_time": "2022-06-02T17:31:18.300Z"
   },
   {
    "duration": 10,
    "start_time": "2022-06-02T17:31:33.950Z"
   },
   {
    "duration": 38,
    "start_time": "2022-06-02T17:31:41.784Z"
   },
   {
    "duration": 4,
    "start_time": "2022-06-02T17:31:51.518Z"
   },
   {
    "duration": 7,
    "start_time": "2022-06-02T17:31:52.874Z"
   },
   {
    "duration": 4,
    "start_time": "2022-06-02T17:32:02.776Z"
   },
   {
    "duration": 41,
    "start_time": "2022-06-02T17:32:04.399Z"
   },
   {
    "duration": 3,
    "start_time": "2022-06-02T17:32:11.017Z"
   },
   {
    "duration": 7,
    "start_time": "2022-06-02T17:32:11.863Z"
   },
   {
    "duration": 6,
    "start_time": "2022-06-02T17:32:13.243Z"
   },
   {
    "duration": 7,
    "start_time": "2022-06-02T17:32:14.138Z"
   },
   {
    "duration": 6,
    "start_time": "2022-06-02T17:32:15.099Z"
   },
   {
    "duration": 14,
    "start_time": "2022-06-02T17:32:19.234Z"
   },
   {
    "duration": 48,
    "start_time": "2022-06-02T17:33:35.707Z"
   },
   {
    "duration": 5,
    "start_time": "2022-06-02T17:33:43.613Z"
   },
   {
    "duration": 8,
    "start_time": "2022-06-02T17:33:51.736Z"
   },
   {
    "duration": 14,
    "start_time": "2022-06-02T17:34:00.198Z"
   },
   {
    "duration": 8,
    "start_time": "2022-06-02T17:34:08.608Z"
   },
   {
    "duration": 11,
    "start_time": "2022-06-02T17:36:42.522Z"
   },
   {
    "duration": 9,
    "start_time": "2022-06-02T17:36:45.256Z"
   },
   {
    "duration": 4,
    "start_time": "2022-06-02T17:37:41.892Z"
   },
   {
    "duration": 12,
    "start_time": "2022-06-02T17:37:42.977Z"
   },
   {
    "duration": 22,
    "start_time": "2022-06-02T17:37:45.610Z"
   },
   {
    "duration": 38,
    "start_time": "2022-06-02T17:38:01.588Z"
   },
   {
    "duration": 21,
    "start_time": "2022-06-02T17:38:10.236Z"
   },
   {
    "duration": 18,
    "start_time": "2022-06-02T17:38:28.320Z"
   },
   {
    "duration": 12,
    "start_time": "2022-06-02T17:38:45.845Z"
   },
   {
    "duration": 11,
    "start_time": "2022-06-02T17:38:51.660Z"
   },
   {
    "duration": 11,
    "start_time": "2022-06-02T17:38:52.810Z"
   },
   {
    "duration": 10,
    "start_time": "2022-06-02T17:38:54.076Z"
   },
   {
    "duration": 14,
    "start_time": "2022-06-02T17:39:18.609Z"
   },
   {
    "duration": 13,
    "start_time": "2022-06-02T17:39:19.970Z"
   },
   {
    "duration": 11,
    "start_time": "2022-06-02T17:39:30.771Z"
   },
   {
    "duration": 20,
    "start_time": "2022-06-02T17:39:40.423Z"
   },
   {
    "duration": 15,
    "start_time": "2022-06-02T17:39:49.096Z"
   },
   {
    "duration": 10,
    "start_time": "2022-06-02T17:40:00.241Z"
   },
   {
    "duration": 23,
    "start_time": "2022-06-02T17:40:01.215Z"
   },
   {
    "duration": 11,
    "start_time": "2022-06-02T17:40:01.700Z"
   },
   {
    "duration": 11,
    "start_time": "2022-06-02T17:40:03.055Z"
   },
   {
    "duration": 83,
    "start_time": "2022-06-02T17:49:48.198Z"
   },
   {
    "duration": 99,
    "start_time": "2022-06-02T17:50:26.684Z"
   },
   {
    "duration": 677,
    "start_time": "2022-06-02T17:51:17.865Z"
   },
   {
    "duration": 97,
    "start_time": "2022-06-02T17:51:50.124Z"
   },
   {
    "duration": 92,
    "start_time": "2022-06-02T17:52:28.082Z"
   },
   {
    "duration": 134,
    "start_time": "2022-06-02T17:57:33.309Z"
   },
   {
    "duration": 49,
    "start_time": "2022-06-02T18:00:05.611Z"
   },
   {
    "duration": 58,
    "start_time": "2022-06-02T18:15:32.247Z"
   },
   {
    "duration": 41,
    "start_time": "2022-06-02T18:15:36.393Z"
   },
   {
    "duration": 2501,
    "start_time": "2022-06-02T18:16:06.223Z"
   },
   {
    "duration": 2663,
    "start_time": "2022-06-02T18:17:45.180Z"
   },
   {
    "duration": 90,
    "start_time": "2022-06-02T18:19:52.055Z"
   },
   {
    "duration": 90,
    "start_time": "2022-06-02T18:21:26.115Z"
   },
   {
    "duration": 49,
    "start_time": "2022-06-02T18:25:09.438Z"
   },
   {
    "duration": 147,
    "start_time": "2022-06-02T18:26:10.002Z"
   },
   {
    "duration": 25,
    "start_time": "2022-06-02T18:28:23.651Z"
   },
   {
    "duration": 260,
    "start_time": "2022-06-02T18:29:21.331Z"
   },
   {
    "duration": 85,
    "start_time": "2022-06-02T18:29:49.062Z"
   },
   {
    "duration": 87,
    "start_time": "2022-06-02T18:30:03.106Z"
   },
   {
    "duration": 47,
    "start_time": "2022-06-02T18:31:49.552Z"
   },
   {
    "duration": 116,
    "start_time": "2022-06-02T18:34:05.455Z"
   },
   {
    "duration": 131,
    "start_time": "2022-06-02T18:34:26.266Z"
   },
   {
    "duration": 103,
    "start_time": "2022-06-02T18:35:32.185Z"
   },
   {
    "duration": 106,
    "start_time": "2022-06-02T18:35:49.887Z"
   },
   {
    "duration": 4,
    "start_time": "2022-06-02T18:53:28.439Z"
   },
   {
    "duration": 90,
    "start_time": "2022-06-02T18:53:48.818Z"
   },
   {
    "duration": 563,
    "start_time": "2022-06-02T18:53:59.315Z"
   },
   {
    "duration": 23,
    "start_time": "2022-06-02T18:53:59.881Z"
   },
   {
    "duration": 36,
    "start_time": "2022-06-02T18:53:59.906Z"
   },
   {
    "duration": 36,
    "start_time": "2022-06-02T18:53:59.945Z"
   },
   {
    "duration": 8,
    "start_time": "2022-06-02T18:53:59.983Z"
   },
   {
    "duration": 7,
    "start_time": "2022-06-02T18:53:59.993Z"
   },
   {
    "duration": 15,
    "start_time": "2022-06-02T18:54:00.002Z"
   },
   {
    "duration": 24,
    "start_time": "2022-06-02T18:54:00.019Z"
   },
   {
    "duration": 17,
    "start_time": "2022-06-02T18:54:00.045Z"
   },
   {
    "duration": 14,
    "start_time": "2022-06-02T18:54:00.080Z"
   },
   {
    "duration": 11,
    "start_time": "2022-06-02T18:54:00.096Z"
   },
   {
    "duration": 23,
    "start_time": "2022-06-02T18:54:00.108Z"
   },
   {
    "duration": 10,
    "start_time": "2022-06-02T18:54:00.133Z"
   },
   {
    "duration": 40,
    "start_time": "2022-06-02T18:54:00.145Z"
   },
   {
    "duration": 12,
    "start_time": "2022-06-02T18:54:00.187Z"
   },
   {
    "duration": 24,
    "start_time": "2022-06-02T18:54:00.201Z"
   },
   {
    "duration": 22,
    "start_time": "2022-06-02T18:54:00.227Z"
   },
   {
    "duration": 26,
    "start_time": "2022-06-02T18:54:00.251Z"
   },
   {
    "duration": 7,
    "start_time": "2022-06-02T18:54:00.279Z"
   },
   {
    "duration": 16,
    "start_time": "2022-06-02T18:54:00.288Z"
   },
   {
    "duration": 22,
    "start_time": "2022-06-02T18:54:00.306Z"
   },
   {
    "duration": 38,
    "start_time": "2022-06-02T18:54:00.330Z"
   },
   {
    "duration": 24,
    "start_time": "2022-06-02T18:54:00.370Z"
   },
   {
    "duration": 13,
    "start_time": "2022-06-02T18:54:00.396Z"
   },
   {
    "duration": 11,
    "start_time": "2022-06-02T18:54:00.411Z"
   },
   {
    "duration": 31,
    "start_time": "2022-06-02T18:54:00.424Z"
   },
   {
    "duration": 67,
    "start_time": "2022-06-02T18:54:00.457Z"
   },
   {
    "duration": 4,
    "start_time": "2022-06-02T18:54:00.528Z"
   },
   {
    "duration": 16,
    "start_time": "2022-06-02T18:54:00.533Z"
   },
   {
    "duration": 9,
    "start_time": "2022-06-02T18:54:00.551Z"
   },
   {
    "duration": 47,
    "start_time": "2022-06-02T18:54:00.561Z"
   },
   {
    "duration": 4,
    "start_time": "2022-06-02T18:54:00.609Z"
   },
   {
    "duration": 13,
    "start_time": "2022-06-02T18:54:00.614Z"
   },
   {
    "duration": 38,
    "start_time": "2022-06-02T18:54:00.629Z"
   },
   {
    "duration": 21,
    "start_time": "2022-06-02T18:54:00.669Z"
   },
   {
    "duration": 17,
    "start_time": "2022-06-02T18:54:00.691Z"
   },
   {
    "duration": 34,
    "start_time": "2022-06-02T18:54:00.710Z"
   },
   {
    "duration": 45,
    "start_time": "2022-06-02T18:54:00.746Z"
   },
   {
    "duration": 5,
    "start_time": "2022-06-02T18:54:00.793Z"
   },
   {
    "duration": 26,
    "start_time": "2022-06-02T18:54:00.799Z"
   },
   {
    "duration": 20,
    "start_time": "2022-06-02T18:54:00.827Z"
   },
   {
    "duration": 32,
    "start_time": "2022-06-02T18:54:00.848Z"
   },
   {
    "duration": 46,
    "start_time": "2022-06-02T18:54:00.882Z"
   },
   {
    "duration": 15,
    "start_time": "2022-06-02T18:54:00.930Z"
   },
   {
    "duration": 4,
    "start_time": "2022-06-02T18:54:00.947Z"
   },
   {
    "duration": 19,
    "start_time": "2022-06-02T18:54:00.952Z"
   },
   {
    "duration": 33,
    "start_time": "2022-06-02T18:54:00.973Z"
   },
   {
    "duration": 37,
    "start_time": "2022-06-02T18:54:01.008Z"
   },
   {
    "duration": 21,
    "start_time": "2022-06-02T18:54:01.047Z"
   },
   {
    "duration": 17,
    "start_time": "2022-06-02T18:54:01.080Z"
   },
   {
    "duration": 11,
    "start_time": "2022-06-02T18:54:01.099Z"
   },
   {
    "duration": 12,
    "start_time": "2022-06-02T18:54:01.112Z"
   },
   {
    "duration": 17,
    "start_time": "2022-06-02T18:54:01.126Z"
   },
   {
    "duration": 36,
    "start_time": "2022-06-02T18:54:01.145Z"
   },
   {
    "duration": 14,
    "start_time": "2022-06-02T18:54:01.183Z"
   },
   {
    "duration": 20,
    "start_time": "2022-06-02T18:54:01.199Z"
   },
   {
    "duration": 11,
    "start_time": "2022-06-02T18:54:01.221Z"
   },
   {
    "duration": 46,
    "start_time": "2022-06-02T18:54:01.234Z"
   },
   {
    "duration": 16,
    "start_time": "2022-06-02T18:54:01.282Z"
   },
   {
    "duration": 17,
    "start_time": "2022-06-02T18:54:01.299Z"
   },
   {
    "duration": 19,
    "start_time": "2022-06-02T18:54:01.318Z"
   },
   {
    "duration": 12,
    "start_time": "2022-06-02T18:54:01.341Z"
   },
   {
    "duration": 34,
    "start_time": "2022-06-02T18:54:01.354Z"
   },
   {
    "duration": 9,
    "start_time": "2022-06-02T18:54:01.390Z"
   },
   {
    "duration": 9,
    "start_time": "2022-06-02T18:54:01.401Z"
   },
   {
    "duration": 13,
    "start_time": "2022-06-02T18:54:01.529Z"
   },
   {
    "duration": 14,
    "start_time": "2022-06-02T18:54:01.544Z"
   },
   {
    "duration": 13,
    "start_time": "2022-06-02T18:54:01.560Z"
   },
   {
    "duration": 14,
    "start_time": "2022-06-02T18:54:01.575Z"
   },
   {
    "duration": 159,
    "start_time": "2022-06-02T18:54:01.591Z"
   },
   {
    "duration": 176,
    "start_time": "2022-06-02T18:54:01.752Z"
   },
   {
    "duration": 17,
    "start_time": "2022-06-02T18:54:01.930Z"
   },
   {
    "duration": 36,
    "start_time": "2022-06-02T18:54:01.949Z"
   },
   {
    "duration": 19,
    "start_time": "2022-06-02T18:54:01.987Z"
   },
   {
    "duration": 31,
    "start_time": "2022-06-02T18:54:02.008Z"
   },
   {
    "duration": 87,
    "start_time": "2022-06-02T18:54:28.546Z"
   },
   {
    "duration": 15,
    "start_time": "2022-06-02T18:54:30.643Z"
   },
   {
    "duration": 38,
    "start_time": "2022-06-02T18:54:31.986Z"
   },
   {
    "duration": 11,
    "start_time": "2022-06-02T18:54:33.650Z"
   },
   {
    "duration": 8,
    "start_time": "2022-06-02T18:54:33.842Z"
   },
   {
    "duration": 7,
    "start_time": "2022-06-02T18:54:33.917Z"
   },
   {
    "duration": 6,
    "start_time": "2022-06-02T18:54:34.114Z"
   },
   {
    "duration": 4,
    "start_time": "2022-06-02T18:54:34.577Z"
   },
   {
    "duration": 9,
    "start_time": "2022-06-02T18:54:34.703Z"
   },
   {
    "duration": 12,
    "start_time": "2022-06-02T18:54:35.181Z"
   },
   {
    "duration": 10,
    "start_time": "2022-06-02T18:54:35.253Z"
   },
   {
    "duration": 15,
    "start_time": "2022-06-02T18:54:35.449Z"
   },
   {
    "duration": 10,
    "start_time": "2022-06-02T18:54:35.540Z"
   },
   {
    "duration": 14,
    "start_time": "2022-06-02T18:54:35.738Z"
   },
   {
    "duration": 13,
    "start_time": "2022-06-02T18:54:35.795Z"
   },
   {
    "duration": 19,
    "start_time": "2022-06-02T18:54:35.952Z"
   },
   {
    "duration": 8,
    "start_time": "2022-06-02T18:54:36.037Z"
   },
   {
    "duration": 8,
    "start_time": "2022-06-02T18:54:36.189Z"
   },
   {
    "duration": 3,
    "start_time": "2022-06-02T18:54:36.496Z"
   },
   {
    "duration": 10,
    "start_time": "2022-06-02T18:54:36.844Z"
   },
   {
    "duration": 7,
    "start_time": "2022-06-02T18:54:38.017Z"
   },
   {
    "duration": 22,
    "start_time": "2022-06-02T18:54:38.078Z"
   },
   {
    "duration": 23,
    "start_time": "2022-06-02T18:54:38.280Z"
   },
   {
    "duration": 4,
    "start_time": "2022-06-02T18:54:38.377Z"
   },
   {
    "duration": 5,
    "start_time": "2022-06-02T18:54:38.422Z"
   },
   {
    "duration": 10,
    "start_time": "2022-06-02T18:54:38.998Z"
   },
   {
    "duration": 53,
    "start_time": "2022-06-02T18:54:39.998Z"
   },
   {
    "duration": 4,
    "start_time": "2022-06-02T18:54:40.081Z"
   },
   {
    "duration": 8,
    "start_time": "2022-06-02T18:54:40.229Z"
   },
   {
    "duration": 4,
    "start_time": "2022-06-02T18:54:40.303Z"
   },
   {
    "duration": 40,
    "start_time": "2022-06-02T18:54:40.529Z"
   },
   {
    "duration": 3,
    "start_time": "2022-06-02T18:54:40.690Z"
   },
   {
    "duration": 6,
    "start_time": "2022-06-02T18:54:40.780Z"
   },
   {
    "duration": 7,
    "start_time": "2022-06-02T18:54:41.000Z"
   },
   {
    "duration": 8,
    "start_time": "2022-06-02T18:54:41.289Z"
   },
   {
    "duration": 6,
    "start_time": "2022-06-02T18:54:41.373Z"
   },
   {
    "duration": 15,
    "start_time": "2022-06-02T18:54:42.084Z"
   },
   {
    "duration": 54,
    "start_time": "2022-06-02T18:54:42.332Z"
   },
   {
    "duration": 7,
    "start_time": "2022-06-02T18:54:42.435Z"
   },
   {
    "duration": 8,
    "start_time": "2022-06-02T18:54:43.181Z"
   },
   {
    "duration": 15,
    "start_time": "2022-06-02T18:54:43.247Z"
   },
   {
    "duration": 8,
    "start_time": "2022-06-02T18:54:43.424Z"
   },
   {
    "duration": 10,
    "start_time": "2022-06-02T18:54:43.685Z"
   },
   {
    "duration": 9,
    "start_time": "2022-06-02T18:54:43.912Z"
   },
   {
    "duration": 4,
    "start_time": "2022-06-02T18:54:44.477Z"
   },
   {
    "duration": 13,
    "start_time": "2022-06-02T18:54:44.529Z"
   },
   {
    "duration": 18,
    "start_time": "2022-06-02T18:54:44.802Z"
   },
   {
    "duration": 35,
    "start_time": "2022-06-02T18:54:44.995Z"
   },
   {
    "duration": 22,
    "start_time": "2022-06-02T18:54:45.081Z"
   },
   {
    "duration": 18,
    "start_time": "2022-06-02T18:54:46.076Z"
   },
   {
    "duration": 12,
    "start_time": "2022-06-02T18:54:46.183Z"
   },
   {
    "duration": 11,
    "start_time": "2022-06-02T18:54:46.597Z"
   },
   {
    "duration": 12,
    "start_time": "2022-06-02T18:54:46.980Z"
   },
   {
    "duration": 10,
    "start_time": "2022-06-02T18:54:47.180Z"
   },
   {
    "duration": 14,
    "start_time": "2022-06-02T18:54:47.431Z"
   },
   {
    "duration": 12,
    "start_time": "2022-06-02T18:54:47.613Z"
   },
   {
    "duration": 13,
    "start_time": "2022-06-02T18:54:48.019Z"
   },
   {
    "duration": 19,
    "start_time": "2022-06-02T18:54:48.209Z"
   },
   {
    "duration": 15,
    "start_time": "2022-06-02T18:54:48.386Z"
   },
   {
    "duration": 8,
    "start_time": "2022-06-02T18:54:49.115Z"
   },
   {
    "duration": 19,
    "start_time": "2022-06-02T18:54:49.388Z"
   },
   {
    "duration": 12,
    "start_time": "2022-06-02T18:54:49.408Z"
   },
   {
    "duration": 12,
    "start_time": "2022-06-02T18:54:49.566Z"
   },
   {
    "duration": 7,
    "start_time": "2022-06-02T18:54:49.645Z"
   },
   {
    "duration": 4,
    "start_time": "2022-06-02T18:54:50.136Z"
   },
   {
    "duration": 3,
    "start_time": "2022-06-02T18:55:23.071Z"
   },
   {
    "duration": 13,
    "start_time": "2022-06-02T18:55:31.255Z"
   },
   {
    "duration": 13,
    "start_time": "2022-06-02T18:55:33.381Z"
   },
   {
    "duration": 15,
    "start_time": "2022-06-02T18:55:34.240Z"
   },
   {
    "duration": 13,
    "start_time": "2022-06-02T18:55:38.105Z"
   },
   {
    "duration": 146,
    "start_time": "2022-06-02T18:55:45.787Z"
   },
   {
    "duration": 142,
    "start_time": "2022-06-02T18:55:48.887Z"
   },
   {
    "duration": 84,
    "start_time": "2022-06-02T19:04:07.853Z"
   },
   {
    "duration": 18,
    "start_time": "2022-06-02T19:04:32.419Z"
   },
   {
    "duration": 23,
    "start_time": "2022-06-02T19:05:42.058Z"
   },
   {
    "duration": 16,
    "start_time": "2022-06-02T19:06:02.164Z"
   },
   {
    "duration": 28,
    "start_time": "2022-06-02T19:06:31.197Z"
   },
   {
    "duration": 16,
    "start_time": "2022-06-02T19:06:53.882Z"
   },
   {
    "duration": 23,
    "start_time": "2022-06-02T19:08:17.427Z"
   },
   {
    "duration": 61,
    "start_time": "2022-06-02T19:08:34.836Z"
   },
   {
    "duration": 22,
    "start_time": "2022-06-02T19:08:42.767Z"
   },
   {
    "duration": 15,
    "start_time": "2022-06-02T19:08:59.467Z"
   },
   {
    "duration": 24,
    "start_time": "2022-06-02T19:12:49.208Z"
   },
   {
    "duration": 25,
    "start_time": "2022-06-02T19:13:06.522Z"
   },
   {
    "duration": 20,
    "start_time": "2022-06-02T19:13:43.535Z"
   },
   {
    "duration": 15,
    "start_time": "2022-06-02T19:17:45.163Z"
   },
   {
    "duration": 15,
    "start_time": "2022-06-02T19:17:47.114Z"
   },
   {
    "duration": 18,
    "start_time": "2022-06-02T19:17:49.299Z"
   },
   {
    "duration": 56,
    "start_time": "2022-06-03T08:05:00.642Z"
   },
   {
    "duration": 620,
    "start_time": "2022-06-03T08:05:11.890Z"
   },
   {
    "duration": 20,
    "start_time": "2022-06-03T08:05:12.511Z"
   },
   {
    "duration": 33,
    "start_time": "2022-06-03T08:05:12.532Z"
   },
   {
    "duration": 9,
    "start_time": "2022-06-03T08:05:12.567Z"
   },
   {
    "duration": 11,
    "start_time": "2022-06-03T08:05:12.578Z"
   },
   {
    "duration": 9,
    "start_time": "2022-06-03T08:05:12.590Z"
   },
   {
    "duration": 27,
    "start_time": "2022-06-03T08:05:12.600Z"
   },
   {
    "duration": 4,
    "start_time": "2022-06-03T08:05:12.628Z"
   },
   {
    "duration": 18,
    "start_time": "2022-06-03T08:05:12.633Z"
   },
   {
    "duration": 15,
    "start_time": "2022-06-03T08:05:12.654Z"
   },
   {
    "duration": 9,
    "start_time": "2022-06-03T08:05:12.670Z"
   },
   {
    "duration": 13,
    "start_time": "2022-06-03T08:05:12.680Z"
   },
   {
    "duration": 31,
    "start_time": "2022-06-03T08:05:12.695Z"
   },
   {
    "duration": 12,
    "start_time": "2022-06-03T08:05:12.727Z"
   },
   {
    "duration": 10,
    "start_time": "2022-06-03T08:05:12.740Z"
   },
   {
    "duration": 18,
    "start_time": "2022-06-03T08:05:12.751Z"
   },
   {
    "duration": 6,
    "start_time": "2022-06-03T08:05:12.771Z"
   },
   {
    "duration": 8,
    "start_time": "2022-06-03T08:05:12.778Z"
   },
   {
    "duration": 3,
    "start_time": "2022-06-03T08:05:12.787Z"
   },
   {
    "duration": 41,
    "start_time": "2022-06-03T08:05:12.792Z"
   },
   {
    "duration": 6,
    "start_time": "2022-06-03T08:05:12.835Z"
   },
   {
    "duration": 23,
    "start_time": "2022-06-03T08:05:12.843Z"
   },
   {
    "duration": 21,
    "start_time": "2022-06-03T08:05:12.867Z"
   },
   {
    "duration": 5,
    "start_time": "2022-06-03T08:05:12.889Z"
   },
   {
    "duration": 4,
    "start_time": "2022-06-03T08:05:12.925Z"
   },
   {
    "duration": 11,
    "start_time": "2022-06-03T08:05:12.930Z"
   },
   {
    "duration": 37,
    "start_time": "2022-06-03T08:05:12.943Z"
   },
   {
    "duration": 3,
    "start_time": "2022-06-03T08:05:12.984Z"
   },
   {
    "duration": 10,
    "start_time": "2022-06-03T08:05:12.988Z"
   },
   {
    "duration": 26,
    "start_time": "2022-06-03T08:05:13.000Z"
   },
   {
    "duration": 39,
    "start_time": "2022-06-03T08:05:13.027Z"
   },
   {
    "duration": 3,
    "start_time": "2022-06-03T08:05:13.068Z"
   },
   {
    "duration": 13,
    "start_time": "2022-06-03T08:05:13.073Z"
   },
   {
    "duration": 4,
    "start_time": "2022-06-03T08:05:13.088Z"
   },
   {
    "duration": 5,
    "start_time": "2022-06-03T08:05:13.094Z"
   },
   {
    "duration": 30,
    "start_time": "2022-06-03T08:05:13.100Z"
   },
   {
    "duration": 16,
    "start_time": "2022-06-03T08:05:13.132Z"
   },
   {
    "duration": 43,
    "start_time": "2022-06-03T08:05:13.150Z"
   },
   {
    "duration": 4,
    "start_time": "2022-06-03T08:05:13.195Z"
   },
   {
    "duration": 28,
    "start_time": "2022-06-03T08:05:13.201Z"
   },
   {
    "duration": 13,
    "start_time": "2022-06-03T08:05:13.231Z"
   },
   {
    "duration": 8,
    "start_time": "2022-06-03T08:05:13.246Z"
   },
   {
    "duration": 10,
    "start_time": "2022-06-03T08:05:13.255Z"
   },
   {
    "duration": 11,
    "start_time": "2022-06-03T08:05:13.267Z"
   },
   {
    "duration": 4,
    "start_time": "2022-06-03T08:05:13.279Z"
   },
   {
    "duration": 18,
    "start_time": "2022-06-03T08:05:13.285Z"
   },
   {
    "duration": 36,
    "start_time": "2022-06-03T08:05:13.304Z"
   },
   {
    "duration": 36,
    "start_time": "2022-06-03T08:05:13.342Z"
   },
   {
    "duration": 48,
    "start_time": "2022-06-03T08:05:13.380Z"
   },
   {
    "duration": 20,
    "start_time": "2022-06-03T08:05:13.430Z"
   },
   {
    "duration": 10,
    "start_time": "2022-06-03T08:05:13.451Z"
   },
   {
    "duration": 11,
    "start_time": "2022-06-03T08:05:13.463Z"
   },
   {
    "duration": 13,
    "start_time": "2022-06-03T08:05:13.476Z"
   },
   {
    "duration": 9,
    "start_time": "2022-06-03T08:05:13.491Z"
   },
   {
    "duration": 13,
    "start_time": "2022-06-03T08:05:13.524Z"
   },
   {
    "duration": 14,
    "start_time": "2022-06-03T08:05:13.539Z"
   },
   {
    "duration": 8,
    "start_time": "2022-06-03T08:05:13.554Z"
   },
   {
    "duration": 15,
    "start_time": "2022-06-03T08:05:13.563Z"
   },
   {
    "duration": 14,
    "start_time": "2022-06-03T08:05:13.580Z"
   },
   {
    "duration": 36,
    "start_time": "2022-06-03T08:05:13.595Z"
   },
   {
    "duration": 21,
    "start_time": "2022-06-03T08:05:13.633Z"
   },
   {
    "duration": 12,
    "start_time": "2022-06-03T08:05:13.655Z"
   },
   {
    "duration": 11,
    "start_time": "2022-06-03T08:05:13.669Z"
   },
   {
    "duration": 7,
    "start_time": "2022-06-03T08:05:13.681Z"
   },
   {
    "duration": 6,
    "start_time": "2022-06-03T08:05:13.689Z"
   },
   {
    "duration": 30,
    "start_time": "2022-06-03T08:05:13.696Z"
   },
   {
    "duration": 11,
    "start_time": "2022-06-03T08:05:13.727Z"
   },
   {
    "duration": 14,
    "start_time": "2022-06-03T08:05:13.740Z"
   },
   {
    "duration": 11,
    "start_time": "2022-06-03T08:05:13.755Z"
   },
   {
    "duration": 12,
    "start_time": "2022-06-03T08:05:13.767Z"
   },
   {
    "duration": 164,
    "start_time": "2022-06-03T08:05:13.780Z"
   },
   {
    "duration": 152,
    "start_time": "2022-06-03T08:05:13.945Z"
   },
   {
    "duration": 14,
    "start_time": "2022-06-03T08:05:14.099Z"
   },
   {
    "duration": 21,
    "start_time": "2022-06-03T08:05:14.115Z"
   },
   {
    "duration": 12,
    "start_time": "2022-06-03T08:05:14.138Z"
   },
   {
    "duration": 14,
    "start_time": "2022-06-03T08:05:14.151Z"
   },
   {
    "duration": 15,
    "start_time": "2022-06-03T08:05:14.166Z"
   },
   {
    "duration": 89,
    "start_time": "2022-06-03T08:08:03.420Z"
   },
   {
    "duration": 808,
    "start_time": "2022-06-03T08:08:09.653Z"
   },
   {
    "duration": 98,
    "start_time": "2022-06-03T08:26:12.874Z"
   },
   {
    "duration": 851,
    "start_time": "2022-06-03T08:26:33.334Z"
   },
   {
    "duration": 20,
    "start_time": "2022-06-03T08:26:34.188Z"
   },
   {
    "duration": 36,
    "start_time": "2022-06-03T08:26:34.210Z"
   },
   {
    "duration": 10,
    "start_time": "2022-06-03T08:26:34.249Z"
   },
   {
    "duration": 7,
    "start_time": "2022-06-03T08:26:34.282Z"
   },
   {
    "duration": 7,
    "start_time": "2022-06-03T08:26:34.444Z"
   },
   {
    "duration": 7,
    "start_time": "2022-06-03T08:26:34.528Z"
   },
   {
    "duration": 3,
    "start_time": "2022-06-03T08:26:34.751Z"
   },
   {
    "duration": 9,
    "start_time": "2022-06-03T08:26:34.912Z"
   },
   {
    "duration": 11,
    "start_time": "2022-06-03T08:26:34.986Z"
   },
   {
    "duration": 11,
    "start_time": "2022-06-03T08:26:35.142Z"
   },
   {
    "duration": 22,
    "start_time": "2022-06-03T08:26:35.244Z"
   },
   {
    "duration": 9,
    "start_time": "2022-06-03T08:26:35.384Z"
   },
   {
    "duration": 12,
    "start_time": "2022-06-03T08:26:35.477Z"
   },
   {
    "duration": 15,
    "start_time": "2022-06-03T08:26:35.647Z"
   },
   {
    "duration": 26,
    "start_time": "2022-06-03T08:26:35.732Z"
   },
   {
    "duration": 9,
    "start_time": "2022-06-03T08:26:35.877Z"
   },
   {
    "duration": 6,
    "start_time": "2022-06-03T08:26:35.990Z"
   },
   {
    "duration": 6,
    "start_time": "2022-06-03T08:26:36.215Z"
   },
   {
    "duration": 13,
    "start_time": "2022-06-03T08:26:36.939Z"
   },
   {
    "duration": 10,
    "start_time": "2022-06-03T08:26:36.955Z"
   },
   {
    "duration": 21,
    "start_time": "2022-06-03T08:26:37.219Z"
   },
   {
    "duration": 33,
    "start_time": "2022-06-03T08:26:37.242Z"
   },
   {
    "duration": 4,
    "start_time": "2022-06-03T08:26:37.341Z"
   },
   {
    "duration": 4,
    "start_time": "2022-06-03T08:26:37.417Z"
   },
   {
    "duration": 12,
    "start_time": "2022-06-03T08:26:38.081Z"
   },
   {
    "duration": 47,
    "start_time": "2022-06-03T08:26:47.935Z"
   },
   {
    "duration": 4,
    "start_time": "2022-06-03T08:26:48.016Z"
   },
   {
    "duration": 7,
    "start_time": "2022-06-03T08:26:48.208Z"
   },
   {
    "duration": 4,
    "start_time": "2022-06-03T08:26:48.401Z"
   },
   {
    "duration": 41,
    "start_time": "2022-06-03T08:26:49.511Z"
   },
   {
    "duration": 3,
    "start_time": "2022-06-03T08:26:49.677Z"
   },
   {
    "duration": 6,
    "start_time": "2022-06-03T08:26:49.751Z"
   },
   {
    "duration": 5,
    "start_time": "2022-06-03T08:26:49.910Z"
   },
   {
    "duration": 6,
    "start_time": "2022-06-03T08:26:49.979Z"
   },
   {
    "duration": 6,
    "start_time": "2022-06-03T08:26:50.118Z"
   },
   {
    "duration": 20,
    "start_time": "2022-06-03T08:26:50.342Z"
   },
   {
    "duration": 36,
    "start_time": "2022-06-03T08:26:50.585Z"
   },
   {
    "duration": 6,
    "start_time": "2022-06-03T08:26:50.668Z"
   },
   {
    "duration": 10,
    "start_time": "2022-06-03T08:26:50.901Z"
   },
   {
    "duration": 19,
    "start_time": "2022-06-03T08:26:51.046Z"
   },
   {
    "duration": 7,
    "start_time": "2022-06-03T08:26:51.133Z"
   },
   {
    "duration": 11,
    "start_time": "2022-06-03T08:26:51.377Z"
   },
   {
    "duration": 11,
    "start_time": "2022-06-03T08:26:51.530Z"
   },
   {
    "duration": 4,
    "start_time": "2022-06-03T08:26:52.031Z"
   },
   {
    "duration": 12,
    "start_time": "2022-06-03T08:26:52.122Z"
   },
   {
    "duration": 19,
    "start_time": "2022-06-03T08:26:52.347Z"
   },
   {
    "duration": 34,
    "start_time": "2022-06-03T08:26:52.530Z"
   },
   {
    "duration": 24,
    "start_time": "2022-06-03T08:26:52.607Z"
   },
   {
    "duration": 23,
    "start_time": "2022-06-03T08:26:52.845Z"
   },
   {
    "duration": 14,
    "start_time": "2022-06-03T08:26:53.013Z"
   },
   {
    "duration": 12,
    "start_time": "2022-06-03T08:26:53.314Z"
   },
   {
    "duration": 10,
    "start_time": "2022-06-03T08:26:53.419Z"
   },
   {
    "duration": 10,
    "start_time": "2022-06-03T08:26:53.576Z"
   },
   {
    "duration": 17,
    "start_time": "2022-06-03T08:26:53.762Z"
   },
   {
    "duration": 16,
    "start_time": "2022-06-03T08:26:54.233Z"
   },
   {
    "duration": 13,
    "start_time": "2022-06-03T08:26:54.507Z"
   },
   {
    "duration": 16,
    "start_time": "2022-06-03T08:26:54.581Z"
   },
   {
    "duration": 18,
    "start_time": "2022-06-03T08:26:54.770Z"
   },
   {
    "duration": 7,
    "start_time": "2022-06-03T08:26:54.979Z"
   },
   {
    "duration": 27,
    "start_time": "2022-06-03T08:26:55.146Z"
   },
   {
    "duration": 15,
    "start_time": "2022-06-03T08:26:55.342Z"
   },
   {
    "duration": 13,
    "start_time": "2022-06-03T08:26:55.428Z"
   },
   {
    "duration": 8,
    "start_time": "2022-06-03T08:26:55.583Z"
   },
   {
    "duration": 22,
    "start_time": "2022-06-03T08:26:55.924Z"
   },
   {
    "duration": 8,
    "start_time": "2022-06-03T08:26:56.254Z"
   },
   {
    "duration": 12,
    "start_time": "2022-06-03T08:27:08.507Z"
   },
   {
    "duration": 5,
    "start_time": "2022-06-03T08:29:09.154Z"
   },
   {
    "duration": 13,
    "start_time": "2022-06-03T08:29:27.507Z"
   },
   {
    "duration": 21,
    "start_time": "2022-06-03T08:30:40.703Z"
   },
   {
    "duration": 19,
    "start_time": "2022-06-03T08:31:05.715Z"
   },
   {
    "duration": 7,
    "start_time": "2022-06-03T08:31:07.875Z"
   },
   {
    "duration": 44,
    "start_time": "2023-05-29T18:37:26.932Z"
   },
   {
    "duration": 383,
    "start_time": "2023-05-29T18:37:30.401Z"
   },
   {
    "duration": 636,
    "start_time": "2023-05-29T18:37:31.120Z"
   },
   {
    "duration": 18,
    "start_time": "2023-05-29T18:37:49.844Z"
   },
   {
    "duration": 12,
    "start_time": "2023-05-29T18:38:25.690Z"
   },
   {
    "duration": 7,
    "start_time": "2023-05-29T18:38:31.099Z"
   },
   {
    "duration": 5,
    "start_time": "2023-05-29T18:38:32.982Z"
   },
   {
    "duration": 5,
    "start_time": "2023-05-29T18:38:42.486Z"
   },
   {
    "duration": 3,
    "start_time": "2023-05-29T18:39:53.702Z"
   },
   {
    "duration": 7,
    "start_time": "2023-05-29T18:39:54.296Z"
   },
   {
    "duration": 9,
    "start_time": "2023-05-29T18:39:55.094Z"
   },
   {
    "duration": 8,
    "start_time": "2023-05-29T18:39:55.983Z"
   },
   {
    "duration": 11,
    "start_time": "2023-05-29T18:39:57.145Z"
   },
   {
    "duration": 8,
    "start_time": "2023-05-29T18:39:58.229Z"
   },
   {
    "duration": 11,
    "start_time": "2023-05-29T18:39:58.926Z"
   },
   {
    "duration": 9,
    "start_time": "2023-05-29T18:39:59.707Z"
   },
   {
    "duration": 15,
    "start_time": "2023-05-29T18:40:00.583Z"
   },
   {
    "duration": 7,
    "start_time": "2023-05-29T18:40:11.698Z"
   },
   {
    "duration": 7,
    "start_time": "2023-05-29T18:40:13.317Z"
   },
   {
    "duration": 3,
    "start_time": "2023-05-29T18:40:20.945Z"
   },
   {
    "duration": 9,
    "start_time": "2023-05-29T18:40:45.222Z"
   },
   {
    "duration": 8,
    "start_time": "2023-05-29T18:41:35.127Z"
   },
   {
    "duration": 28,
    "start_time": "2023-05-29T18:41:35.995Z"
   },
   {
    "duration": 19,
    "start_time": "2023-05-29T18:41:37.989Z"
   },
   {
    "duration": 3,
    "start_time": "2023-05-29T18:41:53.545Z"
   },
   {
    "duration": 4,
    "start_time": "2023-05-29T18:41:59.420Z"
   },
   {
    "duration": 8,
    "start_time": "2023-05-29T18:42:34.890Z"
   },
   {
    "duration": 32,
    "start_time": "2023-05-29T18:42:38.687Z"
   },
   {
    "duration": 4,
    "start_time": "2023-05-29T18:42:52.827Z"
   },
   {
    "duration": 6,
    "start_time": "2023-05-29T18:42:53.691Z"
   },
   {
    "duration": 3,
    "start_time": "2023-05-29T18:43:00.012Z"
   },
   {
    "duration": 34,
    "start_time": "2023-05-29T18:43:44.783Z"
   },
   {
    "duration": 2,
    "start_time": "2023-05-29T18:43:45.734Z"
   },
   {
    "duration": 6,
    "start_time": "2023-05-29T18:43:51.987Z"
   },
   {
    "duration": 5,
    "start_time": "2023-05-29T18:43:52.912Z"
   },
   {
    "duration": 6,
    "start_time": "2023-05-29T18:43:53.789Z"
   },
   {
    "duration": 6,
    "start_time": "2023-05-29T18:43:54.613Z"
   },
   {
    "duration": 13,
    "start_time": "2023-05-29T18:43:58.563Z"
   },
   {
    "duration": 34,
    "start_time": "2023-05-29T18:45:30.420Z"
   },
   {
    "duration": 5,
    "start_time": "2023-05-29T18:45:41.609Z"
   },
   {
    "duration": 9,
    "start_time": "2023-05-29T18:46:44.166Z"
   },
   {
    "duration": 8,
    "start_time": "2023-05-29T18:47:34.026Z"
   },
   {
    "duration": 4,
    "start_time": "2023-05-29T18:48:28.321Z"
   },
   {
    "duration": 10,
    "start_time": "2023-05-29T18:48:32.327Z"
   },
   {
    "duration": 19,
    "start_time": "2023-05-29T18:49:02.244Z"
   },
   {
    "duration": 34,
    "start_time": "2023-05-29T18:49:03.610Z"
   },
   {
    "duration": 18,
    "start_time": "2023-05-29T18:49:31.792Z"
   },
   {
    "duration": 15,
    "start_time": "2023-05-29T18:49:41.605Z"
   },
   {
    "duration": 9,
    "start_time": "2023-05-29T18:49:46.921Z"
   },
   {
    "duration": 9,
    "start_time": "2023-05-29T18:50:25.073Z"
   },
   {
    "duration": 9,
    "start_time": "2023-05-29T18:50:58.201Z"
   },
   {
    "duration": 15,
    "start_time": "2023-05-29T18:51:27.637Z"
   },
   {
    "duration": 10,
    "start_time": "2023-05-29T18:51:28.743Z"
   },
   {
    "duration": 8,
    "start_time": "2023-05-29T18:51:50.100Z"
   },
   {
    "duration": 12,
    "start_time": "2023-05-29T18:52:31.821Z"
   },
   {
    "duration": 22,
    "start_time": "2023-05-29T18:52:43.435Z"
   },
   {
    "duration": 11,
    "start_time": "2023-05-29T18:52:58.346Z"
   },
   {
    "duration": 12,
    "start_time": "2023-05-29T18:53:28.899Z"
   },
   {
    "duration": 23,
    "start_time": "2023-05-29T18:53:34.287Z"
   },
   {
    "duration": 12,
    "start_time": "2023-05-29T18:54:04.535Z"
   },
   {
    "duration": 20,
    "start_time": "2023-05-29T18:54:07.016Z"
   },
   {
    "duration": 9,
    "start_time": "2023-05-29T18:54:08.592Z"
   },
   {
    "duration": 23,
    "start_time": "2023-05-29T18:54:25.308Z"
   },
   {
    "duration": 9,
    "start_time": "2023-05-29T18:54:26.331Z"
   },
   {
    "duration": 10,
    "start_time": "2023-05-29T18:54:27.298Z"
   },
   {
    "duration": 12,
    "start_time": "2023-05-29T18:57:44.050Z"
   },
   {
    "duration": 19,
    "start_time": "2023-05-29T18:58:06.216Z"
   },
   {
    "duration": 22,
    "start_time": "2023-05-29T18:59:11.890Z"
   },
   {
    "duration": 10,
    "start_time": "2023-05-29T19:00:56.194Z"
   },
   {
    "duration": 10,
    "start_time": "2023-05-29T19:00:57.924Z"
   },
   {
    "duration": 14,
    "start_time": "2023-05-29T19:01:00.265Z"
   },
   {
    "duration": 23,
    "start_time": "2023-05-29T19:01:01.909Z"
   },
   {
    "duration": 2,
    "start_time": "2023-05-29T19:01:13.150Z"
   },
   {
    "duration": 75,
    "start_time": "2023-05-29T19:01:13.254Z"
   },
   {
    "duration": 12,
    "start_time": "2023-05-29T19:01:13.406Z"
   },
   {
    "duration": 30,
    "start_time": "2023-05-29T19:01:13.494Z"
   },
   {
    "duration": 10,
    "start_time": "2023-05-29T19:01:13.887Z"
   },
   {
    "duration": 9,
    "start_time": "2023-05-29T19:01:13.919Z"
   },
   {
    "duration": 6,
    "start_time": "2023-05-29T19:01:14.090Z"
   },
   {
    "duration": 6,
    "start_time": "2023-05-29T19:01:14.161Z"
   },
   {
    "duration": 3,
    "start_time": "2023-05-29T19:01:14.305Z"
   },
   {
    "duration": 8,
    "start_time": "2023-05-29T19:01:14.386Z"
   },
   {
    "duration": 10,
    "start_time": "2023-05-29T19:01:14.544Z"
   },
   {
    "duration": 9,
    "start_time": "2023-05-29T19:01:14.627Z"
   },
   {
    "duration": 12,
    "start_time": "2023-05-29T19:01:14.786Z"
   },
   {
    "duration": 8,
    "start_time": "2023-05-29T19:01:14.887Z"
   },
   {
    "duration": 15,
    "start_time": "2023-05-29T19:01:15.023Z"
   },
   {
    "duration": 12,
    "start_time": "2023-05-29T19:01:15.098Z"
   },
   {
    "duration": 16,
    "start_time": "2023-05-29T19:01:15.251Z"
   },
   {
    "duration": 6,
    "start_time": "2023-05-29T19:01:15.317Z"
   },
   {
    "duration": 9,
    "start_time": "2023-05-29T19:01:15.510Z"
   },
   {
    "duration": 3,
    "start_time": "2023-05-29T19:01:15.738Z"
   },
   {
    "duration": 10,
    "start_time": "2023-05-29T19:01:15.808Z"
   },
   {
    "duration": 6,
    "start_time": "2023-05-29T19:01:16.287Z"
   },
   {
    "duration": 20,
    "start_time": "2023-05-29T19:01:16.583Z"
   },
   {
    "duration": 21,
    "start_time": "2023-05-29T19:01:16.628Z"
   },
   {
    "duration": 4,
    "start_time": "2023-05-29T19:01:16.840Z"
   },
   {
    "duration": 4,
    "start_time": "2023-05-29T19:01:16.970Z"
   },
   {
    "duration": 10,
    "start_time": "2023-05-29T19:01:17.286Z"
   },
   {
    "duration": 35,
    "start_time": "2023-05-29T19:01:17.510Z"
   },
   {
    "duration": 3,
    "start_time": "2023-05-29T19:01:17.834Z"
   },
   {
    "duration": 6,
    "start_time": "2023-05-29T19:01:17.926Z"
   },
   {
    "duration": 4,
    "start_time": "2023-05-29T19:01:18.121Z"
   },
   {
    "duration": 35,
    "start_time": "2023-05-29T19:01:18.402Z"
   },
   {
    "duration": 3,
    "start_time": "2023-05-29T19:01:18.506Z"
   },
   {
    "duration": 6,
    "start_time": "2023-05-29T19:01:18.699Z"
   },
   {
    "duration": 6,
    "start_time": "2023-05-29T19:01:18.787Z"
   },
   {
    "duration": 6,
    "start_time": "2023-05-29T19:01:18.938Z"
   },
   {
    "duration": 6,
    "start_time": "2023-05-29T19:01:19.043Z"
   },
   {
    "duration": 14,
    "start_time": "2023-05-29T19:01:19.315Z"
   },
   {
    "duration": 38,
    "start_time": "2023-05-29T19:01:19.487Z"
   },
   {
    "duration": 6,
    "start_time": "2023-05-29T19:01:19.606Z"
   },
   {
    "duration": 7,
    "start_time": "2023-05-29T19:01:19.830Z"
   },
   {
    "duration": 14,
    "start_time": "2023-05-29T19:01:19.920Z"
   },
   {
    "duration": 6,
    "start_time": "2023-05-29T19:01:20.118Z"
   },
   {
    "duration": 4,
    "start_time": "2023-05-29T19:01:20.514Z"
   },
   {
    "duration": 10,
    "start_time": "2023-05-29T19:01:20.738Z"
   },
   {
    "duration": 18,
    "start_time": "2023-05-29T19:01:21.106Z"
   },
   {
    "duration": 32,
    "start_time": "2023-05-29T19:01:21.577Z"
   },
   {
    "duration": 18,
    "start_time": "2023-05-29T19:01:21.691Z"
   },
   {
    "duration": 26,
    "start_time": "2023-05-29T19:01:23.215Z"
   },
   {
    "duration": 8,
    "start_time": "2023-05-29T19:01:24.113Z"
   },
   {
    "duration": 10,
    "start_time": "2023-05-29T19:01:24.786Z"
   },
   {
    "duration": 11,
    "start_time": "2023-05-29T19:01:25.024Z"
   },
   {
    "duration": 9,
    "start_time": "2023-05-29T19:01:25.121Z"
   },
   {
    "duration": 11,
    "start_time": "2023-05-29T19:01:25.447Z"
   },
   {
    "duration": 11,
    "start_time": "2023-05-29T19:01:25.520Z"
   },
   {
    "duration": 12,
    "start_time": "2023-05-29T19:01:25.986Z"
   },
   {
    "duration": 16,
    "start_time": "2023-05-29T19:01:26.086Z"
   },
   {
    "duration": 14,
    "start_time": "2023-05-29T19:01:26.294Z"
   },
   {
    "duration": 14,
    "start_time": "2023-05-29T19:01:26.621Z"
   },
   {
    "duration": 32,
    "start_time": "2023-05-29T19:01:28.149Z"
   },
   {
    "duration": 9,
    "start_time": "2023-05-29T19:02:19.738Z"
   },
   {
    "duration": 11,
    "start_time": "2023-05-29T19:24:47.196Z"
   },
   {
    "duration": 12,
    "start_time": "2023-05-29T19:25:18.790Z"
   },
   {
    "duration": 12,
    "start_time": "2023-05-29T19:25:22.833Z"
   },
   {
    "duration": 23,
    "start_time": "2023-05-29T19:25:59.308Z"
   },
   {
    "duration": 144,
    "start_time": "2023-05-29T19:26:06.493Z"
   },
   {
    "duration": 136,
    "start_time": "2023-05-29T19:26:15.956Z"
   },
   {
    "duration": 147,
    "start_time": "2023-05-29T19:26:36.689Z"
   },
   {
    "duration": 11,
    "start_time": "2023-05-29T19:28:00.450Z"
   },
   {
    "duration": 13,
    "start_time": "2023-05-29T19:28:01.443Z"
   },
   {
    "duration": 18,
    "start_time": "2023-05-29T19:28:40.961Z"
   },
   {
    "duration": 601,
    "start_time": "2023-05-29T19:28:50.137Z"
   },
   {
    "duration": 19,
    "start_time": "2023-05-29T19:29:54.710Z"
   },
   {
    "duration": 15,
    "start_time": "2023-05-29T19:30:28.039Z"
   },
   {
    "duration": 15,
    "start_time": "2023-05-29T19:31:14.427Z"
   }
  ],
  "kernelspec": {
   "display_name": "Python 3 (ipykernel)",
   "language": "python",
   "name": "python3"
  },
  "language_info": {
   "codemirror_mode": {
    "name": "ipython",
    "version": 3
   },
   "file_extension": ".py",
   "mimetype": "text/x-python",
   "name": "python",
   "nbconvert_exporter": "python",
   "pygments_lexer": "ipython3",
   "version": "3.9.5"
  },
  "toc": {
   "base_numbering": 1,
   "nav_menu": {},
   "number_sections": true,
   "sideBar": true,
   "skip_h1_title": true,
   "title_cell": "Содержание",
   "title_sidebar": "Contents",
   "toc_cell": true,
   "toc_position": {},
   "toc_section_display": true,
   "toc_window_display": true
  }
 },
 "nbformat": 4,
 "nbformat_minor": 5
}
