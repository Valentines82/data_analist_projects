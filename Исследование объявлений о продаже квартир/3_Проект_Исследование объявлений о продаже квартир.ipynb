{
 "cells": [
  {
   "cell_type": "markdown",
   "metadata": {
    "id": "9IuwLXVZuqj3",
    "toc": true
   },
   "source": [
    "<h1>Содержание<span class=\"tocSkip\"></span></h1>\n",
    "<div class=\"toc\"><ul class=\"toc-item\"><li><span><a href=\"#Изучение-данных-из-файла\" data-toc-modified-id=\"Изучение-данных-из-файла-1\"><span class=\"toc-item-num\">1&nbsp;&nbsp;</span>Изучение данных из файла</a></span><ul class=\"toc-item\"><li><span><a href=\"#Вывод\" data-toc-modified-id=\"Вывод-1.1\"><span class=\"toc-item-num\">1.1&nbsp;&nbsp;</span>Вывод</a></span></li></ul></li><li><span><a href=\"#Предобработка-данных\" data-toc-modified-id=\"Предобработка-данных-2\"><span class=\"toc-item-num\">2&nbsp;&nbsp;</span>Предобработка данных</a></span><ul class=\"toc-item\"><li><span><a href=\"#Разбираемся-с-пропусками-в-столбце-'ceiling_height'\" data-toc-modified-id=\"Разбираемся-с-пропусками-в-столбце-'ceiling_height'-2.1\"><span class=\"toc-item-num\">2.1&nbsp;&nbsp;</span>Разбираемся с пропусками в столбце 'ceiling_height'</a></span></li><li><span><a href=\"#Изучаем-пропуски-и-меняем-тип-в-столбце-'floors_total'\" data-toc-modified-id=\"Изучаем-пропуски-и-меняем-тип-в-столбце-'floors_total'-2.2\"><span class=\"toc-item-num\">2.2&nbsp;&nbsp;</span>Изучаем пропуски и меняем тип в столбце 'floors_total'</a></span></li><li><span><a href=\"#Изучаем-пропуски-в-столбце-'living_area'\" data-toc-modified-id=\"Изучаем-пропуски-в-столбце-'living_area'-2.3\"><span class=\"toc-item-num\">2.3&nbsp;&nbsp;</span>Изучаем пропуски в столбце 'living_area'</a></span></li><li><span><a href=\"#Изучаем-пропуски-в-столбце-'is_apartment'-и-меняем-тип-на-bool\" data-toc-modified-id=\"Изучаем-пропуски-в-столбце-'is_apartment'-и-меняем-тип-на-bool-2.4\"><span class=\"toc-item-num\">2.4&nbsp;&nbsp;</span>Изучаем пропуски в столбце 'is_apartment' и меняем тип на bool</a></span></li><li><span><a href=\"#Изучаем-пропуски-в-столбце-'kitchen_area'\" data-toc-modified-id=\"Изучаем-пропуски-в-столбце-'kitchen_area'-2.5\"><span class=\"toc-item-num\">2.5&nbsp;&nbsp;</span>Изучаем пропуски в столбце 'kitchen_area'</a></span></li><li><span><a href=\"#Изучаем-пропуски-в-столбце-'balcony'\" data-toc-modified-id=\"Изучаем-пропуски-в-столбце-'balcony'-2.6\"><span class=\"toc-item-num\">2.6&nbsp;&nbsp;</span>Изучаем пропуски в столбце 'balcony'</a></span></li><li><span><a href=\"#Изучаем-пропуски-в-столбце-'locality_name'\" data-toc-modified-id=\"Изучаем-пропуски-в-столбце-'locality_name'-2.7\"><span class=\"toc-item-num\">2.7&nbsp;&nbsp;</span>Изучаем пропуски в столбце 'locality_name'</a></span></li><li><span><a href=\"#Изучаем-пропуски-в-столбце-'airports_nearest'\" data-toc-modified-id=\"Изучаем-пропуски-в-столбце-'airports_nearest'-2.8\"><span class=\"toc-item-num\">2.8&nbsp;&nbsp;</span>Изучаем пропуски в столбце 'airports_nearest'</a></span></li><li><span><a href=\"#Изучаем-пропуски-в-столбце-'cityCenters_nearest'\" data-toc-modified-id=\"Изучаем-пропуски-в-столбце-'cityCenters_nearest'-2.9\"><span class=\"toc-item-num\">2.9&nbsp;&nbsp;</span>Изучаем пропуски в столбце 'cityCenters_nearest'</a></span></li><li><span><a href=\"#Изучаем-пропуски-в-столбце-'parks_around3000'\" data-toc-modified-id=\"Изучаем-пропуски-в-столбце-'parks_around3000'-2.10\"><span class=\"toc-item-num\">2.10&nbsp;&nbsp;</span>Изучаем пропуски в столбце 'parks_around3000'</a></span></li><li><span><a href=\"#Изучаем-пропуски-в-столбце-'parks_nearest'\" data-toc-modified-id=\"Изучаем-пропуски-в-столбце-'parks_nearest'-2.11\"><span class=\"toc-item-num\">2.11&nbsp;&nbsp;</span>Изучаем пропуски в столбце 'parks_nearest'</a></span></li><li><span><a href=\"#Изучаем-пропуски-в-столбце-'ponds_around3000'\" data-toc-modified-id=\"Изучаем-пропуски-в-столбце-'ponds_around3000'-2.12\"><span class=\"toc-item-num\">2.12&nbsp;&nbsp;</span>Изучаем пропуски в столбце 'ponds_around3000'</a></span></li><li><span><a href=\"#Изучаем-пропуски-столбца-'ponds_nearest'\" data-toc-modified-id=\"Изучаем-пропуски-столбца-'ponds_nearest'-2.13\"><span class=\"toc-item-num\">2.13&nbsp;&nbsp;</span>Изучаем пропуски столбца 'ponds_nearest'</a></span></li><li><span><a href=\"#Изучаем-пропуски-столбца-'days_exposition'\" data-toc-modified-id=\"Изучаем-пропуски-столбца-'days_exposition'-2.14\"><span class=\"toc-item-num\">2.14&nbsp;&nbsp;</span>Изучаем пропуски столбца 'days_exposition'</a></span></li></ul></li><li><span><a href=\"#Расчёты-и-добавление-результатов-в-таблицу\" data-toc-modified-id=\"Расчёты-и-добавление-результатов-в-таблицу-3\"><span class=\"toc-item-num\">3&nbsp;&nbsp;</span>Расчёты и добавление результатов в таблицу</a></span></li><li><span><a href=\"#Исследовательский-анализ-данных\" data-toc-modified-id=\"Исследовательский-анализ-данных-4\"><span class=\"toc-item-num\">4&nbsp;&nbsp;</span>Исследовательский анализ данных</a></span><ul class=\"toc-item\"><li><span><a href=\"#Анализ-площади-квартир\" data-toc-modified-id=\"Анализ-площади-квартир-4.1\"><span class=\"toc-item-num\">4.1&nbsp;&nbsp;</span>Анализ площади квартир</a></span><ul class=\"toc-item\"><li><span><a href=\"#Выводы-и-наблюдения:\" data-toc-modified-id=\"Выводы-и-наблюдения:-4.1.1\"><span class=\"toc-item-num\">4.1.1&nbsp;&nbsp;</span>Выводы и наблюдения:</a></span></li></ul></li><li><span><a href=\"#Анализ-стоимости-квартир\" data-toc-modified-id=\"Анализ-стоимости-квартир-4.2\"><span class=\"toc-item-num\">4.2&nbsp;&nbsp;</span>Анализ стоимости квартир</a></span><ul class=\"toc-item\"><li><span><a href=\"#Выводы-и-наблюдения:\" data-toc-modified-id=\"Выводы-и-наблюдения:-4.2.1\"><span class=\"toc-item-num\">4.2.1&nbsp;&nbsp;</span>Выводы и наблюдения:</a></span></li></ul></li><li><span><a href=\"#Анализ-числа-комнат\" data-toc-modified-id=\"Анализ-числа-комнат-4.3\"><span class=\"toc-item-num\">4.3&nbsp;&nbsp;</span>Анализ числа комнат</a></span><ul class=\"toc-item\"><li><span><a href=\"#Выводы-и-наблюдения:\" data-toc-modified-id=\"Выводы-и-наблюдения:-4.3.1\"><span class=\"toc-item-num\">4.3.1&nbsp;&nbsp;</span>Выводы и наблюдения:</a></span></li></ul></li><li><span><a href=\"#Анализ-высоты-потолков-квартир\" data-toc-modified-id=\"Анализ-высоты-потолков-квартир-4.4\"><span class=\"toc-item-num\">4.4&nbsp;&nbsp;</span>Анализ высоты потолков квартир</a></span><ul class=\"toc-item\"><li><span><a href=\"#Выводы-и-наблюдения:\" data-toc-modified-id=\"Выводы-и-наблюдения:-4.4.1\"><span class=\"toc-item-num\">4.4.1&nbsp;&nbsp;</span>Выводы и наблюдения:</a></span></li></ul></li><li><span><a href=\"#Далее-изучим-время-продажи-квартир.-Опишем,-сколько-обычно-занимает-продажа.-Когда-можно-считать,-что-продажи-прошли-очень-быстро,-а-когда-необычно-долго?\" data-toc-modified-id=\"Далее-изучим-время-продажи-квартир.-Опишем,-сколько-обычно-занимает-продажа.-Когда-можно-считать,-что-продажи-прошли-очень-быстро,-а-когда-необычно-долго?-4.5\"><span class=\"toc-item-num\">4.5&nbsp;&nbsp;</span>Далее изучим время продажи квартир. Опишем, сколько обычно занимает продажа. Когда можно считать, что продажи прошли очень быстро, а когда необычно долго?</a></span><ul class=\"toc-item\"><li><span><a href=\"#Выводы-и-наблюдения:\" data-toc-modified-id=\"Выводы-и-наблюдения:-4.5.1\"><span class=\"toc-item-num\">4.5.1&nbsp;&nbsp;</span>Выводы и наблюдения:</a></span></li></ul></li><li><span><a href=\"#Уберем-редкие-и-выбивающиеся-значения.-Опишем,-какие-особенности-обнаружили.\" data-toc-modified-id=\"Уберем-редкие-и-выбивающиеся-значения.-Опишем,-какие-особенности-обнаружили.-4.6\"><span class=\"toc-item-num\">4.6&nbsp;&nbsp;</span>Уберем редкие и выбивающиеся значения. Опишем, какие особенности обнаружили.</a></span><ul class=\"toc-item\"><li><span><a href=\"#Промежуточный-итог:\" data-toc-modified-id=\"Промежуточный-итог:-4.6.1\"><span class=\"toc-item-num\">4.6.1&nbsp;&nbsp;</span>Промежуточный итог:</a></span></li></ul></li></ul></li><li><span><a href=\"#Исследуем-факторы,-которые-больше-всего-влияют-на-стоимость-квартиры?-Изучим,-зависит-ли-цена-от-площади,-числа-комнат,-удалённости-от-центра.-Изучим-зависимость-цены-от-того,-на-каком-этаже-расположена-квартира:-первом,-последнем-или-другом.-Также-изучим-зависимость-от-даты-размещения:-дня-недели,-месяца-и-года.\" data-toc-modified-id=\"Исследуем-факторы,-которые-больше-всего-влияют-на-стоимость-квартиры?-Изучим,-зависит-ли-цена-от-площади,-числа-комнат,-удалённости-от-центра.-Изучим-зависимость-цены-от-того,-на-каком-этаже-расположена-квартира:-первом,-последнем-или-другом.-Также-изучим-зависимость-от-даты-размещения:-дня-недели,-месяца-и-года.-5\"><span class=\"toc-item-num\">5&nbsp;&nbsp;</span>Исследуем факторы, которые больше всего влияют на стоимость квартиры? Изучим, зависит ли цена от площади, числа комнат, удалённости от центра. Изучим зависимость цены от того, на каком этаже расположена квартира: первом, последнем или другом. Также изучим зависимость от даты размещения: дня недели, месяца и года.</a></span><ul class=\"toc-item\"><li><span><a href=\"#Изучим-предложения-квартир:-для-каждой-квартиры-есть-информация-о-расстоянии-до-центра.-Выделим-квартиры-в-Санкт-Петербурге-(locality_name).-Задача-—-выяснить,-какая-область-входит-в-центр.\" data-toc-modified-id=\"Изучим-предложения-квартир:-для-каждой-квартиры-есть-информация-о-расстоянии-до-центра.-Выделим-квартиры-в-Санкт-Петербурге-(locality_name).-Задача-—-выяснить,-какая-область-входит-в-центр.-5.1\"><span class=\"toc-item-num\">5.1&nbsp;&nbsp;</span>Изучим предложения квартир: для каждой квартиры есть информация о расстоянии до центра. Выделим квартиры в Санкт-Петербурге (locality_name). Задача — выяснить, какая область входит в центр.</a></span></li></ul></li><li><span><a href=\"#Общий-вывод\" data-toc-modified-id=\"Общий-вывод-6\"><span class=\"toc-item-num\">6&nbsp;&nbsp;</span>Общий вывод</a></span></li></ul></div>"
   ]
  },
  {
   "cell_type": "markdown",
   "metadata": {
    "id": "DXAjMMWduqj6"
   },
   "source": [
    "# Исследование объявлений о продаже квартир\n",
    "\n",
    "В нашем распоряжении данные сервиса Яндекc Недвижимость — архив объявлений о продаже квартир в Санкт-Петербурге и соседних населённых пунктах за несколько лет. Нужно научиться определять рыночную стоимость объектов недвижимости. Наша задача — установить параметры. Это позволит построить автоматизированную систему: она отследит аномалии и мошенническую деятельность. \n",
    "\n",
    "По каждой квартире на продажу доступны два вида данных. Первые вписаны пользователем, вторые получены автоматически на основе картографических данных. Например, расстояние до центра, аэропорта, ближайшего парка и водоёма. "
   ]
  },
  {
   "cell_type": "markdown",
   "metadata": {},
   "source": [
    "# Описание данных\n",
    " - airports_nearest — расстояние до ближайшего аэропорта в метрах (м)\n",
    " - balcony — число балконов\n",
    " - ceiling_height — высота потолков (м)\n",
    " - cityCenters_nearest — расстояние до центра города (м)\n",
    " - days_exposition — сколько дней было размещено объявление (от публикации до снятия)\n",
    " - first_day_exposition — дата публикации\n",
    " - floor — этаж\n",
    " - floors_total — всего этажей в доме\n",
    " - is_apartment — апартаменты (булев тип)\n",
    " - kitchen_area — площадь кухни в квадратных метрах (м²)\n",
    " - last_price — цена на момент снятия с публикации\n",
    " - living_area — жилая площадь в квадратных метрах (м²)\n",
    " - locality_name — название населённого пункта\n",
    " - open_plan — свободная планировка (булев тип)\n",
    " - parks_around3000 — число парков в радиусе 3 км\n",
    " - parks_nearest — расстояние до ближайшего парка (м)\n",
    " - ponds_around3000 — число водоёмов в радиусе 3 км\n",
    " - ponds_nearest — расстояние до ближайшего водоёма (м)\n",
    " - rooms — число комнат\n",
    " - studio — квартира-студия (булев тип)\n",
    " - total_area — площадь квартиры в квадратных метрах (м²)\n",
    " - total_images — число фотографий квартиры в объявлении"
   ]
  },
  {
   "cell_type": "markdown",
   "metadata": {
    "id": "F5HAJRCruqj6"
   },
   "source": [
    "## Изучение данных из файла"
   ]
  },
  {
   "cell_type": "code",
   "execution_count": 1,
   "metadata": {},
   "outputs": [],
   "source": [
    "# занружаем необходимые библиотеки\n",
    "import pandas as pd\n",
    "import matplotlib.pyplot as plt"
   ]
  },
  {
   "cell_type": "code",
   "execution_count": 2,
   "metadata": {
    "id": "VlvJUJqCuqj7"
   },
   "outputs": [
    {
     "name": "stdout",
     "output_type": "stream",
     "text": [
      "<class 'pandas.core.frame.DataFrame'>\n",
      "RangeIndex: 23699 entries, 0 to 23698\n",
      "Data columns (total 22 columns):\n",
      " #   Column                Non-Null Count  Dtype  \n",
      "---  ------                --------------  -----  \n",
      " 0   total_images          23699 non-null  int64  \n",
      " 1   last_price            23699 non-null  float64\n",
      " 2   total_area            23699 non-null  float64\n",
      " 3   first_day_exposition  23699 non-null  object \n",
      " 4   rooms                 23699 non-null  int64  \n",
      " 5   ceiling_height        14504 non-null  float64\n",
      " 6   floors_total          23613 non-null  float64\n",
      " 7   living_area           21796 non-null  float64\n",
      " 8   floor                 23699 non-null  int64  \n",
      " 9   is_apartment          2775 non-null   object \n",
      " 10  studio                23699 non-null  bool   \n",
      " 11  open_plan             23699 non-null  bool   \n",
      " 12  kitchen_area          21421 non-null  float64\n",
      " 13  balcony               12180 non-null  float64\n",
      " 14  locality_name         23650 non-null  object \n",
      " 15  airports_nearest      18157 non-null  float64\n",
      " 16  cityCenters_nearest   18180 non-null  float64\n",
      " 17  parks_around3000      18181 non-null  float64\n",
      " 18  parks_nearest         8079 non-null   float64\n",
      " 19  ponds_around3000      18181 non-null  float64\n",
      " 20  ponds_nearest         9110 non-null   float64\n",
      " 21  days_exposition       20518 non-null  float64\n",
      "dtypes: bool(2), float64(14), int64(3), object(3)\n",
      "memory usage: 3.7+ MB\n"
     ]
    },
    {
     "data": {
      "text/html": [
       "<div>\n",
       "<style scoped>\n",
       "    .dataframe tbody tr th:only-of-type {\n",
       "        vertical-align: middle;\n",
       "    }\n",
       "\n",
       "    .dataframe tbody tr th {\n",
       "        vertical-align: top;\n",
       "    }\n",
       "\n",
       "    .dataframe thead th {\n",
       "        text-align: right;\n",
       "    }\n",
       "</style>\n",
       "<table border=\"1\" class=\"dataframe\">\n",
       "  <thead>\n",
       "    <tr style=\"text-align: right;\">\n",
       "      <th></th>\n",
       "      <th>total_images</th>\n",
       "      <th>last_price</th>\n",
       "      <th>total_area</th>\n",
       "      <th>first_day_exposition</th>\n",
       "      <th>rooms</th>\n",
       "      <th>ceiling_height</th>\n",
       "      <th>floors_total</th>\n",
       "      <th>living_area</th>\n",
       "      <th>floor</th>\n",
       "      <th>is_apartment</th>\n",
       "      <th>...</th>\n",
       "      <th>kitchen_area</th>\n",
       "      <th>balcony</th>\n",
       "      <th>locality_name</th>\n",
       "      <th>airports_nearest</th>\n",
       "      <th>cityCenters_nearest</th>\n",
       "      <th>parks_around3000</th>\n",
       "      <th>parks_nearest</th>\n",
       "      <th>ponds_around3000</th>\n",
       "      <th>ponds_nearest</th>\n",
       "      <th>days_exposition</th>\n",
       "    </tr>\n",
       "  </thead>\n",
       "  <tbody>\n",
       "    <tr>\n",
       "      <th>0</th>\n",
       "      <td>20</td>\n",
       "      <td>13000000.0</td>\n",
       "      <td>108.0</td>\n",
       "      <td>2019-03-07T00:00:00</td>\n",
       "      <td>3</td>\n",
       "      <td>2.70</td>\n",
       "      <td>16.0</td>\n",
       "      <td>51.0</td>\n",
       "      <td>8</td>\n",
       "      <td>NaN</td>\n",
       "      <td>...</td>\n",
       "      <td>25.0</td>\n",
       "      <td>NaN</td>\n",
       "      <td>Санкт-Петербург</td>\n",
       "      <td>18863.0</td>\n",
       "      <td>16028.0</td>\n",
       "      <td>1.0</td>\n",
       "      <td>482.0</td>\n",
       "      <td>2.0</td>\n",
       "      <td>755.0</td>\n",
       "      <td>NaN</td>\n",
       "    </tr>\n",
       "    <tr>\n",
       "      <th>1</th>\n",
       "      <td>7</td>\n",
       "      <td>3350000.0</td>\n",
       "      <td>40.4</td>\n",
       "      <td>2018-12-04T00:00:00</td>\n",
       "      <td>1</td>\n",
       "      <td>NaN</td>\n",
       "      <td>11.0</td>\n",
       "      <td>18.6</td>\n",
       "      <td>1</td>\n",
       "      <td>NaN</td>\n",
       "      <td>...</td>\n",
       "      <td>11.0</td>\n",
       "      <td>2.0</td>\n",
       "      <td>посёлок Шушары</td>\n",
       "      <td>12817.0</td>\n",
       "      <td>18603.0</td>\n",
       "      <td>0.0</td>\n",
       "      <td>NaN</td>\n",
       "      <td>0.0</td>\n",
       "      <td>NaN</td>\n",
       "      <td>81.0</td>\n",
       "    </tr>\n",
       "    <tr>\n",
       "      <th>2</th>\n",
       "      <td>10</td>\n",
       "      <td>5196000.0</td>\n",
       "      <td>56.0</td>\n",
       "      <td>2015-08-20T00:00:00</td>\n",
       "      <td>2</td>\n",
       "      <td>NaN</td>\n",
       "      <td>5.0</td>\n",
       "      <td>34.3</td>\n",
       "      <td>4</td>\n",
       "      <td>NaN</td>\n",
       "      <td>...</td>\n",
       "      <td>8.3</td>\n",
       "      <td>0.0</td>\n",
       "      <td>Санкт-Петербург</td>\n",
       "      <td>21741.0</td>\n",
       "      <td>13933.0</td>\n",
       "      <td>1.0</td>\n",
       "      <td>90.0</td>\n",
       "      <td>2.0</td>\n",
       "      <td>574.0</td>\n",
       "      <td>558.0</td>\n",
       "    </tr>\n",
       "    <tr>\n",
       "      <th>3</th>\n",
       "      <td>0</td>\n",
       "      <td>64900000.0</td>\n",
       "      <td>159.0</td>\n",
       "      <td>2015-07-24T00:00:00</td>\n",
       "      <td>3</td>\n",
       "      <td>NaN</td>\n",
       "      <td>14.0</td>\n",
       "      <td>NaN</td>\n",
       "      <td>9</td>\n",
       "      <td>NaN</td>\n",
       "      <td>...</td>\n",
       "      <td>NaN</td>\n",
       "      <td>0.0</td>\n",
       "      <td>Санкт-Петербург</td>\n",
       "      <td>28098.0</td>\n",
       "      <td>6800.0</td>\n",
       "      <td>2.0</td>\n",
       "      <td>84.0</td>\n",
       "      <td>3.0</td>\n",
       "      <td>234.0</td>\n",
       "      <td>424.0</td>\n",
       "    </tr>\n",
       "    <tr>\n",
       "      <th>4</th>\n",
       "      <td>2</td>\n",
       "      <td>10000000.0</td>\n",
       "      <td>100.0</td>\n",
       "      <td>2018-06-19T00:00:00</td>\n",
       "      <td>2</td>\n",
       "      <td>3.03</td>\n",
       "      <td>14.0</td>\n",
       "      <td>32.0</td>\n",
       "      <td>13</td>\n",
       "      <td>NaN</td>\n",
       "      <td>...</td>\n",
       "      <td>41.0</td>\n",
       "      <td>NaN</td>\n",
       "      <td>Санкт-Петербург</td>\n",
       "      <td>31856.0</td>\n",
       "      <td>8098.0</td>\n",
       "      <td>2.0</td>\n",
       "      <td>112.0</td>\n",
       "      <td>1.0</td>\n",
       "      <td>48.0</td>\n",
       "      <td>121.0</td>\n",
       "    </tr>\n",
       "  </tbody>\n",
       "</table>\n",
       "<p>5 rows × 22 columns</p>\n",
       "</div>"
      ],
      "text/plain": [
       "   total_images  last_price  total_area first_day_exposition  rooms  \\\n",
       "0            20  13000000.0       108.0  2019-03-07T00:00:00      3   \n",
       "1             7   3350000.0        40.4  2018-12-04T00:00:00      1   \n",
       "2            10   5196000.0        56.0  2015-08-20T00:00:00      2   \n",
       "3             0  64900000.0       159.0  2015-07-24T00:00:00      3   \n",
       "4             2  10000000.0       100.0  2018-06-19T00:00:00      2   \n",
       "\n",
       "   ceiling_height  floors_total  living_area  floor is_apartment  ...  \\\n",
       "0            2.70          16.0         51.0      8          NaN  ...   \n",
       "1             NaN          11.0         18.6      1          NaN  ...   \n",
       "2             NaN           5.0         34.3      4          NaN  ...   \n",
       "3             NaN          14.0          NaN      9          NaN  ...   \n",
       "4            3.03          14.0         32.0     13          NaN  ...   \n",
       "\n",
       "   kitchen_area  balcony    locality_name  airports_nearest  \\\n",
       "0          25.0      NaN  Санкт-Петербург           18863.0   \n",
       "1          11.0      2.0   посёлок Шушары           12817.0   \n",
       "2           8.3      0.0  Санкт-Петербург           21741.0   \n",
       "3           NaN      0.0  Санкт-Петербург           28098.0   \n",
       "4          41.0      NaN  Санкт-Петербург           31856.0   \n",
       "\n",
       "  cityCenters_nearest  parks_around3000  parks_nearest  ponds_around3000  \\\n",
       "0             16028.0               1.0          482.0               2.0   \n",
       "1             18603.0               0.0            NaN               0.0   \n",
       "2             13933.0               1.0           90.0               2.0   \n",
       "3              6800.0               2.0           84.0               3.0   \n",
       "4              8098.0               2.0          112.0               1.0   \n",
       "\n",
       "   ponds_nearest  days_exposition  \n",
       "0          755.0              NaN  \n",
       "1            NaN             81.0  \n",
       "2          574.0            558.0  \n",
       "3          234.0            424.0  \n",
       "4           48.0            121.0  \n",
       "\n",
       "[5 rows x 22 columns]"
      ]
     },
     "execution_count": 2,
     "metadata": {},
     "output_type": "execute_result"
    }
   ],
   "source": [
    "# выгружаем данные\n",
    "data = pd.read_csv('/datasets/real_estate_data.csv', sep = '\\t')\n",
    "data.info()\n",
    "data.head()\n"
   ]
  },
  {
   "cell_type": "markdown",
   "metadata": {
    "id": "9L3e0rs2uqj7"
   },
   "source": [
    "### Вывод"
   ]
  },
  {
   "cell_type": "markdown",
   "metadata": {
    "id": "xL2blF_Euqj8"
   },
   "source": [
    "Изычив данные можно сделать следующие выводы:\n",
    "1. first_day_exposition нужно перевести в формат datetime;\n",
    "2. ceiling_height - изучить пропуски;\n",
    "3. floors_total - изучить пропуски, привести к формату int64;\n",
    "4. living_area - изучить пропуски;\n",
    "5. is_apartment - изучить пропуски, привести к типу bool;\n",
    "6. kitchen_area - изучить пропуски;\n",
    "7. balcony - изучить пропуски;\n",
    "8. locality_name - изучить пропуски;\n",
    "9. airports_nearest - изучить пропуски;\n",
    "10. cityCenters_nearest - изучить пропуски;\n",
    "11. parks_around3000 - изучить пропуски, привести к типу int64;\n",
    "12. parks_nearest - изучить пропуски;\n",
    "13. ponds_around3000 - изучить пропуски, привести к типу int64;\n",
    "14. ponds_nearest - изучить пропуски;\n",
    "15. days_exposition - изучить пропуски, привести к типу int64;"
   ]
  },
  {
   "cell_type": "markdown",
   "metadata": {
    "id": "r6n1CZDuuqj8"
   },
   "source": [
    "## Предобработка данных"
   ]
  },
  {
   "cell_type": "code",
   "execution_count": 4,
   "metadata": {},
   "outputs": [
    {
     "data": {
      "text/html": [
       "<style  type=\"text/css\" >\n",
       "#T_5dccc_row0_col0,#T_5dccc_row1_col0,#T_5dccc_row2_col0,#T_5dccc_row3_col0,#T_5dccc_row4_col0,#T_5dccc_row6_col0,#T_5dccc_row8_col0,#T_5dccc_row10_col0,#T_5dccc_row11_col0,#T_5dccc_row14_col0{\n",
       "            background-color:  #3b4cc0;\n",
       "            color:  #f1f1f1;\n",
       "        }#T_5dccc_row5_col0{\n",
       "            background-color:  #cdd9ec;\n",
       "            color:  #000000;\n",
       "        }#T_5dccc_row7_col0{\n",
       "            background-color:  #5673e0;\n",
       "            color:  #000000;\n",
       "        }#T_5dccc_row9_col0{\n",
       "            background-color:  #b40426;\n",
       "            color:  #f1f1f1;\n",
       "        }#T_5dccc_row12_col0{\n",
       "            background-color:  #5e7de7;\n",
       "            color:  #000000;\n",
       "        }#T_5dccc_row13_col0{\n",
       "            background-color:  #ead4c8;\n",
       "            color:  #000000;\n",
       "        }#T_5dccc_row15_col0,#T_5dccc_row16_col0,#T_5dccc_row17_col0,#T_5dccc_row19_col0{\n",
       "            background-color:  #90b2fe;\n",
       "            color:  #000000;\n",
       "        }#T_5dccc_row18_col0{\n",
       "            background-color:  #f4987a;\n",
       "            color:  #000000;\n",
       "        }#T_5dccc_row20_col0{\n",
       "            background-color:  #f7aa8c;\n",
       "            color:  #000000;\n",
       "        }#T_5dccc_row21_col0{\n",
       "            background-color:  #688aef;\n",
       "            color:  #000000;\n",
       "        }</style><table id=\"T_5dccc_\" ><thead>    <tr>        <th class=\"blank level0\" ></th>        <th class=\"col_heading level0 col0\" >0</th>    </tr></thead><tbody>\n",
       "                <tr>\n",
       "                        <th id=\"T_5dccc_level0_row0\" class=\"row_heading level0 row0\" >total_images</th>\n",
       "                        <td id=\"T_5dccc_row0_col0\" class=\"data row0 col0\" >0.000000</td>\n",
       "            </tr>\n",
       "            <tr>\n",
       "                        <th id=\"T_5dccc_level0_row1\" class=\"row_heading level0 row1\" >last_price</th>\n",
       "                        <td id=\"T_5dccc_row1_col0\" class=\"data row1 col0\" >0.000000</td>\n",
       "            </tr>\n",
       "            <tr>\n",
       "                        <th id=\"T_5dccc_level0_row2\" class=\"row_heading level0 row2\" >total_area</th>\n",
       "                        <td id=\"T_5dccc_row2_col0\" class=\"data row2 col0\" >0.000000</td>\n",
       "            </tr>\n",
       "            <tr>\n",
       "                        <th id=\"T_5dccc_level0_row3\" class=\"row_heading level0 row3\" >first_day_exposition</th>\n",
       "                        <td id=\"T_5dccc_row3_col0\" class=\"data row3 col0\" >0.000000</td>\n",
       "            </tr>\n",
       "            <tr>\n",
       "                        <th id=\"T_5dccc_level0_row4\" class=\"row_heading level0 row4\" >rooms</th>\n",
       "                        <td id=\"T_5dccc_row4_col0\" class=\"data row4 col0\" >0.000000</td>\n",
       "            </tr>\n",
       "            <tr>\n",
       "                        <th id=\"T_5dccc_level0_row5\" class=\"row_heading level0 row5\" >ceiling_height</th>\n",
       "                        <td id=\"T_5dccc_row5_col0\" class=\"data row5 col0\" >39.000000</td>\n",
       "            </tr>\n",
       "            <tr>\n",
       "                        <th id=\"T_5dccc_level0_row6\" class=\"row_heading level0 row6\" >floors_total</th>\n",
       "                        <td id=\"T_5dccc_row6_col0\" class=\"data row6 col0\" >0.000000</td>\n",
       "            </tr>\n",
       "            <tr>\n",
       "                        <th id=\"T_5dccc_level0_row7\" class=\"row_heading level0 row7\" >living_area</th>\n",
       "                        <td id=\"T_5dccc_row7_col0\" class=\"data row7 col0\" >8.000000</td>\n",
       "            </tr>\n",
       "            <tr>\n",
       "                        <th id=\"T_5dccc_level0_row8\" class=\"row_heading level0 row8\" >floor</th>\n",
       "                        <td id=\"T_5dccc_row8_col0\" class=\"data row8 col0\" >0.000000</td>\n",
       "            </tr>\n",
       "            <tr>\n",
       "                        <th id=\"T_5dccc_level0_row9\" class=\"row_heading level0 row9\" >is_apartment</th>\n",
       "                        <td id=\"T_5dccc_row9_col0\" class=\"data row9 col0\" >88.000000</td>\n",
       "            </tr>\n",
       "            <tr>\n",
       "                        <th id=\"T_5dccc_level0_row10\" class=\"row_heading level0 row10\" >studio</th>\n",
       "                        <td id=\"T_5dccc_row10_col0\" class=\"data row10 col0\" >0.000000</td>\n",
       "            </tr>\n",
       "            <tr>\n",
       "                        <th id=\"T_5dccc_level0_row11\" class=\"row_heading level0 row11\" >open_plan</th>\n",
       "                        <td id=\"T_5dccc_row11_col0\" class=\"data row11 col0\" >0.000000</td>\n",
       "            </tr>\n",
       "            <tr>\n",
       "                        <th id=\"T_5dccc_level0_row12\" class=\"row_heading level0 row12\" >kitchen_area</th>\n",
       "                        <td id=\"T_5dccc_row12_col0\" class=\"data row12 col0\" >10.000000</td>\n",
       "            </tr>\n",
       "            <tr>\n",
       "                        <th id=\"T_5dccc_level0_row13\" class=\"row_heading level0 row13\" >balcony</th>\n",
       "                        <td id=\"T_5dccc_row13_col0\" class=\"data row13 col0\" >49.000000</td>\n",
       "            </tr>\n",
       "            <tr>\n",
       "                        <th id=\"T_5dccc_level0_row14\" class=\"row_heading level0 row14\" >locality_name</th>\n",
       "                        <td id=\"T_5dccc_row14_col0\" class=\"data row14 col0\" >0.000000</td>\n",
       "            </tr>\n",
       "            <tr>\n",
       "                        <th id=\"T_5dccc_level0_row15\" class=\"row_heading level0 row15\" >airports_nearest</th>\n",
       "                        <td id=\"T_5dccc_row15_col0\" class=\"data row15 col0\" >23.000000</td>\n",
       "            </tr>\n",
       "            <tr>\n",
       "                        <th id=\"T_5dccc_level0_row16\" class=\"row_heading level0 row16\" >cityCenters_nearest</th>\n",
       "                        <td id=\"T_5dccc_row16_col0\" class=\"data row16 col0\" >23.000000</td>\n",
       "            </tr>\n",
       "            <tr>\n",
       "                        <th id=\"T_5dccc_level0_row17\" class=\"row_heading level0 row17\" >parks_around3000</th>\n",
       "                        <td id=\"T_5dccc_row17_col0\" class=\"data row17 col0\" >23.000000</td>\n",
       "            </tr>\n",
       "            <tr>\n",
       "                        <th id=\"T_5dccc_level0_row18\" class=\"row_heading level0 row18\" >parks_nearest</th>\n",
       "                        <td id=\"T_5dccc_row18_col0\" class=\"data row18 col0\" >66.000000</td>\n",
       "            </tr>\n",
       "            <tr>\n",
       "                        <th id=\"T_5dccc_level0_row19\" class=\"row_heading level0 row19\" >ponds_around3000</th>\n",
       "                        <td id=\"T_5dccc_row19_col0\" class=\"data row19 col0\" >23.000000</td>\n",
       "            </tr>\n",
       "            <tr>\n",
       "                        <th id=\"T_5dccc_level0_row20\" class=\"row_heading level0 row20\" >ponds_nearest</th>\n",
       "                        <td id=\"T_5dccc_row20_col0\" class=\"data row20 col0\" >62.000000</td>\n",
       "            </tr>\n",
       "            <tr>\n",
       "                        <th id=\"T_5dccc_level0_row21\" class=\"row_heading level0 row21\" >days_exposition</th>\n",
       "                        <td id=\"T_5dccc_row21_col0\" class=\"data row21 col0\" >13.000000</td>\n",
       "            </tr>\n",
       "    </tbody></table>"
      ],
      "text/plain": [
       "<pandas.io.formats.style.Styler at 0x7f709f718ac0>"
      ]
     },
     "execution_count": 4,
     "metadata": {},
     "output_type": "execute_result"
    }
   ],
   "source": [
    "# проверяем количество пропусков\n",
    "pd.DataFrame(round(data.isna().mean()*100,)).style.background_gradient('coolwarm')"
   ]
  },
  {
   "cell_type": "markdown",
   "metadata": {},
   "source": [
    "### Разбираемся с пропусками в столбце 'ceiling_height'"
   ]
  },
  {
   "cell_type": "code",
   "execution_count": 6,
   "metadata": {
    "id": "F9Pk0zxGuqj8"
   },
   "outputs": [
    {
     "data": {
      "text/plain": [
       "0"
      ]
     },
     "execution_count": 6,
     "metadata": {},
     "output_type": "execute_result"
    }
   ],
   "source": [
    "data['ceiling_height'].describe()\n",
    "data[data['ceiling_height'] > 6].head()\n",
    "data['ceiling_height'] = data['ceiling_height'].fillna(data['ceiling_height'].median())\n",
    "data['ceiling_height'].isna().sum()"
   ]
  },
  {
   "cell_type": "markdown",
   "metadata": {},
   "source": [
    "Наблюдения и выводы по столбцу 'celing_height':\n",
    "1. Имеется небольшое количество анамальных значений, судя по всему в большинстве случаев вместо десятичной дроби в значении поставили целое число. Так как эти данные не влияют на значение mean, а оно в свою очередь практически совпадает с median оставим эту часть без изменений.\n",
    "2. Все пропуски, были заменены на медианное значение. Отклонение std немного даже уменьшилось."
   ]
  },
  {
   "cell_type": "markdown",
   "metadata": {},
   "source": [
    "### Изучаем пропуски и меняем тип в столбце 'floors_total'"
   ]
  },
  {
   "cell_type": "code",
   "execution_count": 7,
   "metadata": {},
   "outputs": [],
   "source": [
    "data[data['floors_total'].isna()]\n",
    "data['floors_total'].describe()\n",
    "data['floors_total'] = data['floors_total'].fillna(data['floors_total'].median())\n",
    "data['floors_total'] = data['floors_total'].astype('int')"
   ]
  },
  {
   "cell_type": "markdown",
   "metadata": {},
   "source": [
    "Наблюдения и выводы по столбцу 'floors_total':\n",
    "1. По сравнению с общим массивом данных пропусков не очень много. Какой бы то нибыло зависимости в появлении пропусков не выявлено. Решено все пропуски заменить на медиану.\n",
    "2. Еип данных изменен на int, так как дробных этажей не бывает."
   ]
  },
  {
   "cell_type": "markdown",
   "metadata": {},
   "source": [
    "### Изучаем пропуски в столбце 'living_area'"
   ]
  },
  {
   "cell_type": "code",
   "execution_count": 8,
   "metadata": {},
   "outputs": [
    {
     "name": "stdout",
     "output_type": "stream",
     "text": [
      "0.9395373338721493\n"
     ]
    }
   ],
   "source": [
    "data['living_area'].describe()\n",
    "#проверяем есть ли корреляция между жилой и общей площадью. Ленейная взаимосвязь практически прямая.\n",
    "print(data['living_area'].corr(data['total_area'])) \n",
    "#подсчитываем среднеарифметическое соотношение жилой и общей площади\n",
    "living_total_area = (data['living_area'] / data['total_area']).mean() \n",
    "living_total_area\n",
    "data['living_area'] = data['living_area'].fillna(data['total_area'] * living_total_area)"
   ]
  },
  {
   "cell_type": "markdown",
   "metadata": {},
   "source": [
    "Наблюдения и выводы по столбцу 'living_area':\n",
    "1. Есть достаточно много пропусков. Была проверена корреляция между общей площадью 'total_area' и жилой 'living_area'. Коэффициент Пирсона близок к 1, значит взаимосвязь прямая.\n",
    "2. Было решено заменить пропуски на произведение среднеарифиметичского отношения жилой недвижимости к общей, с значением 'total_area' (построчно). "
   ]
  },
  {
   "cell_type": "markdown",
   "metadata": {},
   "source": [
    "### Изучаем пропуски в столбце 'is_apartment' и меняем тип на bool"
   ]
  },
  {
   "cell_type": "code",
   "execution_count": 9,
   "metadata": {},
   "outputs": [
    {
     "data": {
      "text/html": [
       "<div>\n",
       "<style scoped>\n",
       "    .dataframe tbody tr th:only-of-type {\n",
       "        vertical-align: middle;\n",
       "    }\n",
       "\n",
       "    .dataframe tbody tr th {\n",
       "        vertical-align: top;\n",
       "    }\n",
       "\n",
       "    .dataframe thead th {\n",
       "        text-align: right;\n",
       "    }\n",
       "</style>\n",
       "<table border=\"1\" class=\"dataframe\">\n",
       "  <thead>\n",
       "    <tr style=\"text-align: right;\">\n",
       "      <th></th>\n",
       "      <th>total_images</th>\n",
       "      <th>last_price</th>\n",
       "      <th>total_area</th>\n",
       "      <th>first_day_exposition</th>\n",
       "      <th>rooms</th>\n",
       "      <th>ceiling_height</th>\n",
       "      <th>floors_total</th>\n",
       "      <th>living_area</th>\n",
       "      <th>floor</th>\n",
       "      <th>is_apartment</th>\n",
       "      <th>...</th>\n",
       "      <th>kitchen_area</th>\n",
       "      <th>balcony</th>\n",
       "      <th>locality_name</th>\n",
       "      <th>airports_nearest</th>\n",
       "      <th>cityCenters_nearest</th>\n",
       "      <th>parks_around3000</th>\n",
       "      <th>parks_nearest</th>\n",
       "      <th>ponds_around3000</th>\n",
       "      <th>ponds_nearest</th>\n",
       "      <th>days_exposition</th>\n",
       "    </tr>\n",
       "  </thead>\n",
       "  <tbody>\n",
       "    <tr>\n",
       "      <th>0</th>\n",
       "      <td>20</td>\n",
       "      <td>13000000.0</td>\n",
       "      <td>108.00</td>\n",
       "      <td>2019-03-07T00:00:00</td>\n",
       "      <td>3</td>\n",
       "      <td>2.70</td>\n",
       "      <td>16</td>\n",
       "      <td>51.000000</td>\n",
       "      <td>8</td>\n",
       "      <td>NaN</td>\n",
       "      <td>...</td>\n",
       "      <td>25.00</td>\n",
       "      <td>NaN</td>\n",
       "      <td>Санкт-Петербург</td>\n",
       "      <td>18863.0</td>\n",
       "      <td>16028.0</td>\n",
       "      <td>1.0</td>\n",
       "      <td>482.0</td>\n",
       "      <td>2.0</td>\n",
       "      <td>755.0</td>\n",
       "      <td>NaN</td>\n",
       "    </tr>\n",
       "    <tr>\n",
       "      <th>1</th>\n",
       "      <td>7</td>\n",
       "      <td>3350000.0</td>\n",
       "      <td>40.40</td>\n",
       "      <td>2018-12-04T00:00:00</td>\n",
       "      <td>1</td>\n",
       "      <td>2.65</td>\n",
       "      <td>11</td>\n",
       "      <td>18.600000</td>\n",
       "      <td>1</td>\n",
       "      <td>NaN</td>\n",
       "      <td>...</td>\n",
       "      <td>11.00</td>\n",
       "      <td>2.0</td>\n",
       "      <td>посёлок Шушары</td>\n",
       "      <td>12817.0</td>\n",
       "      <td>18603.0</td>\n",
       "      <td>0.0</td>\n",
       "      <td>NaN</td>\n",
       "      <td>0.0</td>\n",
       "      <td>NaN</td>\n",
       "      <td>81.0</td>\n",
       "    </tr>\n",
       "    <tr>\n",
       "      <th>2</th>\n",
       "      <td>10</td>\n",
       "      <td>5196000.0</td>\n",
       "      <td>56.00</td>\n",
       "      <td>2015-08-20T00:00:00</td>\n",
       "      <td>2</td>\n",
       "      <td>2.65</td>\n",
       "      <td>5</td>\n",
       "      <td>34.300000</td>\n",
       "      <td>4</td>\n",
       "      <td>NaN</td>\n",
       "      <td>...</td>\n",
       "      <td>8.30</td>\n",
       "      <td>0.0</td>\n",
       "      <td>Санкт-Петербург</td>\n",
       "      <td>21741.0</td>\n",
       "      <td>13933.0</td>\n",
       "      <td>1.0</td>\n",
       "      <td>90.0</td>\n",
       "      <td>2.0</td>\n",
       "      <td>574.0</td>\n",
       "      <td>558.0</td>\n",
       "    </tr>\n",
       "    <tr>\n",
       "      <th>3</th>\n",
       "      <td>0</td>\n",
       "      <td>64900000.0</td>\n",
       "      <td>159.00</td>\n",
       "      <td>2015-07-24T00:00:00</td>\n",
       "      <td>3</td>\n",
       "      <td>2.65</td>\n",
       "      <td>14</td>\n",
       "      <td>89.797718</td>\n",
       "      <td>9</td>\n",
       "      <td>NaN</td>\n",
       "      <td>...</td>\n",
       "      <td>NaN</td>\n",
       "      <td>0.0</td>\n",
       "      <td>Санкт-Петербург</td>\n",
       "      <td>28098.0</td>\n",
       "      <td>6800.0</td>\n",
       "      <td>2.0</td>\n",
       "      <td>84.0</td>\n",
       "      <td>3.0</td>\n",
       "      <td>234.0</td>\n",
       "      <td>424.0</td>\n",
       "    </tr>\n",
       "    <tr>\n",
       "      <th>4</th>\n",
       "      <td>2</td>\n",
       "      <td>10000000.0</td>\n",
       "      <td>100.00</td>\n",
       "      <td>2018-06-19T00:00:00</td>\n",
       "      <td>2</td>\n",
       "      <td>3.03</td>\n",
       "      <td>14</td>\n",
       "      <td>32.000000</td>\n",
       "      <td>13</td>\n",
       "      <td>NaN</td>\n",
       "      <td>...</td>\n",
       "      <td>41.00</td>\n",
       "      <td>NaN</td>\n",
       "      <td>Санкт-Петербург</td>\n",
       "      <td>31856.0</td>\n",
       "      <td>8098.0</td>\n",
       "      <td>2.0</td>\n",
       "      <td>112.0</td>\n",
       "      <td>1.0</td>\n",
       "      <td>48.0</td>\n",
       "      <td>121.0</td>\n",
       "    </tr>\n",
       "    <tr>\n",
       "      <th>5</th>\n",
       "      <td>10</td>\n",
       "      <td>2890000.0</td>\n",
       "      <td>30.40</td>\n",
       "      <td>2018-09-10T00:00:00</td>\n",
       "      <td>1</td>\n",
       "      <td>2.65</td>\n",
       "      <td>12</td>\n",
       "      <td>14.400000</td>\n",
       "      <td>5</td>\n",
       "      <td>NaN</td>\n",
       "      <td>...</td>\n",
       "      <td>9.10</td>\n",
       "      <td>NaN</td>\n",
       "      <td>городской посёлок Янино-1</td>\n",
       "      <td>NaN</td>\n",
       "      <td>NaN</td>\n",
       "      <td>NaN</td>\n",
       "      <td>NaN</td>\n",
       "      <td>NaN</td>\n",
       "      <td>NaN</td>\n",
       "      <td>55.0</td>\n",
       "    </tr>\n",
       "    <tr>\n",
       "      <th>6</th>\n",
       "      <td>6</td>\n",
       "      <td>3700000.0</td>\n",
       "      <td>37.30</td>\n",
       "      <td>2017-11-02T00:00:00</td>\n",
       "      <td>1</td>\n",
       "      <td>2.65</td>\n",
       "      <td>26</td>\n",
       "      <td>10.600000</td>\n",
       "      <td>6</td>\n",
       "      <td>NaN</td>\n",
       "      <td>...</td>\n",
       "      <td>14.40</td>\n",
       "      <td>1.0</td>\n",
       "      <td>посёлок Парголово</td>\n",
       "      <td>52996.0</td>\n",
       "      <td>19143.0</td>\n",
       "      <td>0.0</td>\n",
       "      <td>NaN</td>\n",
       "      <td>0.0</td>\n",
       "      <td>NaN</td>\n",
       "      <td>155.0</td>\n",
       "    </tr>\n",
       "    <tr>\n",
       "      <th>7</th>\n",
       "      <td>5</td>\n",
       "      <td>7915000.0</td>\n",
       "      <td>71.60</td>\n",
       "      <td>2019-04-18T00:00:00</td>\n",
       "      <td>2</td>\n",
       "      <td>2.65</td>\n",
       "      <td>24</td>\n",
       "      <td>40.437211</td>\n",
       "      <td>22</td>\n",
       "      <td>NaN</td>\n",
       "      <td>...</td>\n",
       "      <td>18.90</td>\n",
       "      <td>2.0</td>\n",
       "      <td>Санкт-Петербург</td>\n",
       "      <td>23982.0</td>\n",
       "      <td>11634.0</td>\n",
       "      <td>0.0</td>\n",
       "      <td>NaN</td>\n",
       "      <td>0.0</td>\n",
       "      <td>NaN</td>\n",
       "      <td>NaN</td>\n",
       "    </tr>\n",
       "    <tr>\n",
       "      <th>8</th>\n",
       "      <td>20</td>\n",
       "      <td>2900000.0</td>\n",
       "      <td>33.16</td>\n",
       "      <td>2018-05-23T00:00:00</td>\n",
       "      <td>1</td>\n",
       "      <td>2.65</td>\n",
       "      <td>27</td>\n",
       "      <td>15.430000</td>\n",
       "      <td>26</td>\n",
       "      <td>NaN</td>\n",
       "      <td>...</td>\n",
       "      <td>8.81</td>\n",
       "      <td>NaN</td>\n",
       "      <td>посёлок Мурино</td>\n",
       "      <td>NaN</td>\n",
       "      <td>NaN</td>\n",
       "      <td>NaN</td>\n",
       "      <td>NaN</td>\n",
       "      <td>NaN</td>\n",
       "      <td>NaN</td>\n",
       "      <td>189.0</td>\n",
       "    </tr>\n",
       "    <tr>\n",
       "      <th>9</th>\n",
       "      <td>18</td>\n",
       "      <td>5400000.0</td>\n",
       "      <td>61.00</td>\n",
       "      <td>2017-02-26T00:00:00</td>\n",
       "      <td>3</td>\n",
       "      <td>2.50</td>\n",
       "      <td>9</td>\n",
       "      <td>43.600000</td>\n",
       "      <td>7</td>\n",
       "      <td>NaN</td>\n",
       "      <td>...</td>\n",
       "      <td>6.50</td>\n",
       "      <td>2.0</td>\n",
       "      <td>Санкт-Петербург</td>\n",
       "      <td>50898.0</td>\n",
       "      <td>15008.0</td>\n",
       "      <td>0.0</td>\n",
       "      <td>NaN</td>\n",
       "      <td>0.0</td>\n",
       "      <td>NaN</td>\n",
       "      <td>289.0</td>\n",
       "    </tr>\n",
       "  </tbody>\n",
       "</table>\n",
       "<p>10 rows × 22 columns</p>\n",
       "</div>"
      ],
      "text/plain": [
       "   total_images  last_price  total_area first_day_exposition  rooms  \\\n",
       "0            20  13000000.0      108.00  2019-03-07T00:00:00      3   \n",
       "1             7   3350000.0       40.40  2018-12-04T00:00:00      1   \n",
       "2            10   5196000.0       56.00  2015-08-20T00:00:00      2   \n",
       "3             0  64900000.0      159.00  2015-07-24T00:00:00      3   \n",
       "4             2  10000000.0      100.00  2018-06-19T00:00:00      2   \n",
       "5            10   2890000.0       30.40  2018-09-10T00:00:00      1   \n",
       "6             6   3700000.0       37.30  2017-11-02T00:00:00      1   \n",
       "7             5   7915000.0       71.60  2019-04-18T00:00:00      2   \n",
       "8            20   2900000.0       33.16  2018-05-23T00:00:00      1   \n",
       "9            18   5400000.0       61.00  2017-02-26T00:00:00      3   \n",
       "\n",
       "   ceiling_height  floors_total  living_area  floor is_apartment  ...  \\\n",
       "0            2.70            16    51.000000      8          NaN  ...   \n",
       "1            2.65            11    18.600000      1          NaN  ...   \n",
       "2            2.65             5    34.300000      4          NaN  ...   \n",
       "3            2.65            14    89.797718      9          NaN  ...   \n",
       "4            3.03            14    32.000000     13          NaN  ...   \n",
       "5            2.65            12    14.400000      5          NaN  ...   \n",
       "6            2.65            26    10.600000      6          NaN  ...   \n",
       "7            2.65            24    40.437211     22          NaN  ...   \n",
       "8            2.65            27    15.430000     26          NaN  ...   \n",
       "9            2.50             9    43.600000      7          NaN  ...   \n",
       "\n",
       "   kitchen_area  balcony              locality_name  airports_nearest  \\\n",
       "0         25.00      NaN            Санкт-Петербург           18863.0   \n",
       "1         11.00      2.0             посёлок Шушары           12817.0   \n",
       "2          8.30      0.0            Санкт-Петербург           21741.0   \n",
       "3           NaN      0.0            Санкт-Петербург           28098.0   \n",
       "4         41.00      NaN            Санкт-Петербург           31856.0   \n",
       "5          9.10      NaN  городской посёлок Янино-1               NaN   \n",
       "6         14.40      1.0          посёлок Парголово           52996.0   \n",
       "7         18.90      2.0            Санкт-Петербург           23982.0   \n",
       "8          8.81      NaN             посёлок Мурино               NaN   \n",
       "9          6.50      2.0            Санкт-Петербург           50898.0   \n",
       "\n",
       "  cityCenters_nearest  parks_around3000  parks_nearest  ponds_around3000  \\\n",
       "0             16028.0               1.0          482.0               2.0   \n",
       "1             18603.0               0.0            NaN               0.0   \n",
       "2             13933.0               1.0           90.0               2.0   \n",
       "3              6800.0               2.0           84.0               3.0   \n",
       "4              8098.0               2.0          112.0               1.0   \n",
       "5                 NaN               NaN            NaN               NaN   \n",
       "6             19143.0               0.0            NaN               0.0   \n",
       "7             11634.0               0.0            NaN               0.0   \n",
       "8                 NaN               NaN            NaN               NaN   \n",
       "9             15008.0               0.0            NaN               0.0   \n",
       "\n",
       "   ponds_nearest  days_exposition  \n",
       "0          755.0              NaN  \n",
       "1            NaN             81.0  \n",
       "2          574.0            558.0  \n",
       "3          234.0            424.0  \n",
       "4           48.0            121.0  \n",
       "5            NaN             55.0  \n",
       "6            NaN            155.0  \n",
       "7            NaN              NaN  \n",
       "8            NaN            189.0  \n",
       "9            NaN            289.0  \n",
       "\n",
       "[10 rows x 22 columns]"
      ]
     },
     "execution_count": 9,
     "metadata": {},
     "output_type": "execute_result"
    }
   ],
   "source": [
    "data[data['is_apartment'].isna()].head(10)\n"
   ]
  },
  {
   "cell_type": "code",
   "execution_count": 10,
   "metadata": {},
   "outputs": [],
   "source": [
    "data['is_apartment'] = data['is_apartment'].fillna(False)\n",
    "data['is_apartment'] = data['is_apartment'].astype('bool')\n"
   ]
  },
  {
   "cell_type": "markdown",
   "metadata": {},
   "source": [
    "Наблюдения и выводы по столбцу 'is_apartment':\n",
    "1. В этом столбце самое большое количество пропусков. Видимо это связано с тем, что данный тип недвижимости недавно появился и малораспространен. Поэтому решено все пропуски заменить на False.\n",
    "2. Тип привиден к значению bool."
   ]
  },
  {
   "cell_type": "markdown",
   "metadata": {},
   "source": [
    "### Изучаем пропуски в столбце 'kitchen_area'"
   ]
  },
  {
   "cell_type": "code",
   "execution_count": 11,
   "metadata": {},
   "outputs": [],
   "source": [
    "data[data['kitchen_area'].isna()]\n",
    "#никакой закономерности в пропусках не обнаружено, вероятно эти данные не укзали.\n",
    "# проверим взаимосвязь между 'kitchen_area' и 'living_area'\n",
    "data['kitchen_area'].corr(data['living_area']) #коэффициент Пирсона равен 0,44\n",
    "# проверим взаимосвязь между 'kitchen_area' и 'total_area'\n",
    "data['kitchen_area'].corr(data['total_area']) #коэффициент Пирсона равен 0,6\n",
    "kitchen_total_area = (data['kitchen_area'] / data['total_area']).mean() #подсчитываем среднеарифметическое соотношение кухни и общей площади\n",
    "data['kitchen_area'] = data['kitchen_area'].fillna(data['total_area'] * kitchen_total_area)"
   ]
  },
  {
   "cell_type": "markdown",
   "metadata": {},
   "source": [
    "Наблюдения и выводы по столбцу 'kitchen_area':\n",
    "\n",
    "1. В этом столбце немного пропусков. Была проверена корреляция между жилой площадью 'living_area' и кухней 'kitchen_area', а также между 'total_area' и 'kitchen_area'. Коэффициент Пирсона во втором случае больше, соответственно взаимосвязь между общей площадью и кухней сильнее.\n",
    "1. Было решено заменить пропуски на произведение среднеарифиметичского отношения кухни к общей жилплощади, с значением 'total_area' (построчно)."
   ]
  },
  {
   "cell_type": "markdown",
   "metadata": {},
   "source": [
    "### Изучаем пропуски в столбце 'balcony'"
   ]
  },
  {
   "cell_type": "code",
   "execution_count": 12,
   "metadata": {},
   "outputs": [],
   "source": [
    "data[data['balcony'].isna()]\n",
    "# приводим все значения, где нет балконов к нулю\n",
    "data['balcony'] = data['balcony'].fillna(0)\n",
    "# меняем тип данных на int64\n",
    "data['balcony'] = data['balcony'].astype('int')\n"
   ]
  },
  {
   "cell_type": "markdown",
   "metadata": {},
   "source": [
    "Наблюдения и выводы по столбцу 'balcony':\n",
    "\n",
    "1. Вероятнее всего, там где пропуски, нет балконов. Было решено заменить все пропуски на 0\n",
    "2. Тип данных приведен к int64, так как не бывает 1,5 балкона."
   ]
  },
  {
   "cell_type": "markdown",
   "metadata": {},
   "source": [
    "### Изучаем пропуски в столбце 'locality_name'"
   ]
  },
  {
   "cell_type": "code",
   "execution_count": 13,
   "metadata": {},
   "outputs": [
    {
     "data": {
      "text/plain": [
       "Санкт-Петербург                          15721\n",
       "посёлок Мурино                             522\n",
       "посёлок Шушары                             440\n",
       "Всеволожск                                 398\n",
       "Пушкин                                     369\n",
       "                                         ...  \n",
       "деревня Пустынка                             1\n",
       "село Шум                                     1\n",
       "деревня Каськово                             1\n",
       "поселок городского типа Большая Ижора        1\n",
       "поселок Цвылёво                              1\n",
       "Name: locality_name, Length: 364, dtype: int64"
      ]
     },
     "execution_count": 13,
     "metadata": {},
     "output_type": "execute_result"
    }
   ],
   "source": [
    "data[data['locality_name'].isna()].head(10)\n",
    "data['locality_name'].value_counts()"
   ]
  },
  {
   "cell_type": "markdown",
   "metadata": {},
   "source": [
    "Наблюдения и выводы по столбцу 'locality_name':\n",
    "1. Какой то взаимосвязи и особенностей в пропусках в этом столбце не обнаружено. Принято решение оставить значения без изменений.\n",
    "2. Основной массив данных по прадаже недвижимости из Санкт-Петербурга."
   ]
  },
  {
   "cell_type": "markdown",
   "metadata": {},
   "source": [
    "### Изучаем пропуски в столбце 'airports_nearest'"
   ]
  },
  {
   "cell_type": "code",
   "execution_count": 14,
   "metadata": {},
   "outputs": [
    {
     "data": {
      "text/plain": [
       "count    18157.000000\n",
       "mean     28793.672193\n",
       "std      12630.880622\n",
       "min          0.000000\n",
       "25%      18585.000000\n",
       "50%      26726.000000\n",
       "75%      37273.000000\n",
       "max      84869.000000\n",
       "Name: airports_nearest, dtype: float64"
      ]
     },
     "execution_count": 14,
     "metadata": {},
     "output_type": "execute_result"
    }
   ],
   "source": [
    "data[data['airports_nearest'].isna()]\n",
    "data['airports_nearest'].describe()"
   ]
  },
  {
   "cell_type": "code",
   "execution_count": 15,
   "metadata": {},
   "outputs": [],
   "source": [
    "# значения меняем на median только в Санкт-Петербурге\n",
    "data.loc[data['locality_name'].isin(['Санкт-Петербург'])].median()\n",
    "data.loc[data['locality_name'].isin(['Санкт-Петербург']) & data['airports_nearest'].isna(), 'airports_nearest'] = 26726.00\n"
   ]
  },
  {
   "cell_type": "markdown",
   "metadata": {},
   "source": [
    "Наблюдения и выводы по столбцу 'airports_nearest':\n",
    "1. Пропуски заменяны на медиану 'airports_nearest' для Санкт-Петербурга. Для остальных населенных пунктов оставили без изменения. \n"
   ]
  },
  {
   "cell_type": "markdown",
   "metadata": {},
   "source": [
    "<div>\n",
    "    \n",
    "__Заменили NaN только для Санкт_Петербурга, так как этот показатель может быть существенен для города__\n",
    "\n",
    "</div>"
   ]
  },
  {
   "cell_type": "markdown",
   "metadata": {},
   "source": [
    "### Изучаем пропуски в столбце 'cityCenters_nearest'"
   ]
  },
  {
   "cell_type": "code",
   "execution_count": 16,
   "metadata": {},
   "outputs": [
    {
     "data": {
      "text/html": [
       "<div>\n",
       "<style scoped>\n",
       "    .dataframe tbody tr th:only-of-type {\n",
       "        vertical-align: middle;\n",
       "    }\n",
       "\n",
       "    .dataframe tbody tr th {\n",
       "        vertical-align: top;\n",
       "    }\n",
       "\n",
       "    .dataframe thead th {\n",
       "        text-align: right;\n",
       "    }\n",
       "</style>\n",
       "<table border=\"1\" class=\"dataframe\">\n",
       "  <thead>\n",
       "    <tr style=\"text-align: right;\">\n",
       "      <th></th>\n",
       "      <th>total_images</th>\n",
       "      <th>last_price</th>\n",
       "      <th>total_area</th>\n",
       "      <th>first_day_exposition</th>\n",
       "      <th>rooms</th>\n",
       "      <th>ceiling_height</th>\n",
       "      <th>floors_total</th>\n",
       "      <th>living_area</th>\n",
       "      <th>floor</th>\n",
       "      <th>is_apartment</th>\n",
       "      <th>...</th>\n",
       "      <th>kitchen_area</th>\n",
       "      <th>balcony</th>\n",
       "      <th>locality_name</th>\n",
       "      <th>airports_nearest</th>\n",
       "      <th>cityCenters_nearest</th>\n",
       "      <th>parks_around3000</th>\n",
       "      <th>parks_nearest</th>\n",
       "      <th>ponds_around3000</th>\n",
       "      <th>ponds_nearest</th>\n",
       "      <th>days_exposition</th>\n",
       "    </tr>\n",
       "  </thead>\n",
       "  <tbody>\n",
       "    <tr>\n",
       "      <th>5</th>\n",
       "      <td>10</td>\n",
       "      <td>2890000.0</td>\n",
       "      <td>30.40</td>\n",
       "      <td>2018-09-10T00:00:00</td>\n",
       "      <td>1</td>\n",
       "      <td>2.65</td>\n",
       "      <td>12</td>\n",
       "      <td>14.400000</td>\n",
       "      <td>5</td>\n",
       "      <td>False</td>\n",
       "      <td>...</td>\n",
       "      <td>9.100000</td>\n",
       "      <td>0</td>\n",
       "      <td>городской посёлок Янино-1</td>\n",
       "      <td>NaN</td>\n",
       "      <td>NaN</td>\n",
       "      <td>NaN</td>\n",
       "      <td>NaN</td>\n",
       "      <td>NaN</td>\n",
       "      <td>NaN</td>\n",
       "      <td>55.0</td>\n",
       "    </tr>\n",
       "    <tr>\n",
       "      <th>8</th>\n",
       "      <td>20</td>\n",
       "      <td>2900000.0</td>\n",
       "      <td>33.16</td>\n",
       "      <td>2018-05-23T00:00:00</td>\n",
       "      <td>1</td>\n",
       "      <td>2.65</td>\n",
       "      <td>27</td>\n",
       "      <td>15.430000</td>\n",
       "      <td>26</td>\n",
       "      <td>False</td>\n",
       "      <td>...</td>\n",
       "      <td>8.810000</td>\n",
       "      <td>0</td>\n",
       "      <td>посёлок Мурино</td>\n",
       "      <td>NaN</td>\n",
       "      <td>NaN</td>\n",
       "      <td>NaN</td>\n",
       "      <td>NaN</td>\n",
       "      <td>NaN</td>\n",
       "      <td>NaN</td>\n",
       "      <td>189.0</td>\n",
       "    </tr>\n",
       "    <tr>\n",
       "      <th>12</th>\n",
       "      <td>10</td>\n",
       "      <td>3890000.0</td>\n",
       "      <td>54.00</td>\n",
       "      <td>2016-06-30T00:00:00</td>\n",
       "      <td>2</td>\n",
       "      <td>2.65</td>\n",
       "      <td>5</td>\n",
       "      <td>30.000000</td>\n",
       "      <td>5</td>\n",
       "      <td>False</td>\n",
       "      <td>...</td>\n",
       "      <td>9.000000</td>\n",
       "      <td>0</td>\n",
       "      <td>Сертолово</td>\n",
       "      <td>NaN</td>\n",
       "      <td>NaN</td>\n",
       "      <td>NaN</td>\n",
       "      <td>NaN</td>\n",
       "      <td>NaN</td>\n",
       "      <td>NaN</td>\n",
       "      <td>90.0</td>\n",
       "    </tr>\n",
       "    <tr>\n",
       "      <th>22</th>\n",
       "      <td>20</td>\n",
       "      <td>5000000.0</td>\n",
       "      <td>58.00</td>\n",
       "      <td>2017-04-24T00:00:00</td>\n",
       "      <td>2</td>\n",
       "      <td>2.75</td>\n",
       "      <td>25</td>\n",
       "      <td>30.000000</td>\n",
       "      <td>15</td>\n",
       "      <td>False</td>\n",
       "      <td>...</td>\n",
       "      <td>11.000000</td>\n",
       "      <td>2</td>\n",
       "      <td>деревня Кудрово</td>\n",
       "      <td>NaN</td>\n",
       "      <td>NaN</td>\n",
       "      <td>NaN</td>\n",
       "      <td>NaN</td>\n",
       "      <td>NaN</td>\n",
       "      <td>NaN</td>\n",
       "      <td>60.0</td>\n",
       "    </tr>\n",
       "    <tr>\n",
       "      <th>30</th>\n",
       "      <td>12</td>\n",
       "      <td>2200000.0</td>\n",
       "      <td>32.80</td>\n",
       "      <td>2018-02-19T00:00:00</td>\n",
       "      <td>1</td>\n",
       "      <td>2.65</td>\n",
       "      <td>9</td>\n",
       "      <td>18.524309</td>\n",
       "      <td>2</td>\n",
       "      <td>False</td>\n",
       "      <td>...</td>\n",
       "      <td>6.145235</td>\n",
       "      <td>0</td>\n",
       "      <td>Коммунар</td>\n",
       "      <td>NaN</td>\n",
       "      <td>NaN</td>\n",
       "      <td>NaN</td>\n",
       "      <td>NaN</td>\n",
       "      <td>NaN</td>\n",
       "      <td>NaN</td>\n",
       "      <td>63.0</td>\n",
       "    </tr>\n",
       "    <tr>\n",
       "      <th>...</th>\n",
       "      <td>...</td>\n",
       "      <td>...</td>\n",
       "      <td>...</td>\n",
       "      <td>...</td>\n",
       "      <td>...</td>\n",
       "      <td>...</td>\n",
       "      <td>...</td>\n",
       "      <td>...</td>\n",
       "      <td>...</td>\n",
       "      <td>...</td>\n",
       "      <td>...</td>\n",
       "      <td>...</td>\n",
       "      <td>...</td>\n",
       "      <td>...</td>\n",
       "      <td>...</td>\n",
       "      <td>...</td>\n",
       "      <td>...</td>\n",
       "      <td>...</td>\n",
       "      <td>...</td>\n",
       "      <td>...</td>\n",
       "      <td>...</td>\n",
       "    </tr>\n",
       "    <tr>\n",
       "      <th>23683</th>\n",
       "      <td>16</td>\n",
       "      <td>2100000.0</td>\n",
       "      <td>62.80</td>\n",
       "      <td>2018-09-18T00:00:00</td>\n",
       "      <td>4</td>\n",
       "      <td>2.50</td>\n",
       "      <td>5</td>\n",
       "      <td>45.500000</td>\n",
       "      <td>3</td>\n",
       "      <td>False</td>\n",
       "      <td>...</td>\n",
       "      <td>5.500000</td>\n",
       "      <td>0</td>\n",
       "      <td>посёлок Дзержинского</td>\n",
       "      <td>NaN</td>\n",
       "      <td>NaN</td>\n",
       "      <td>NaN</td>\n",
       "      <td>NaN</td>\n",
       "      <td>NaN</td>\n",
       "      <td>NaN</td>\n",
       "      <td>NaN</td>\n",
       "    </tr>\n",
       "    <tr>\n",
       "      <th>23692</th>\n",
       "      <td>2</td>\n",
       "      <td>1350000.0</td>\n",
       "      <td>30.00</td>\n",
       "      <td>2017-07-07T00:00:00</td>\n",
       "      <td>1</td>\n",
       "      <td>2.65</td>\n",
       "      <td>5</td>\n",
       "      <td>17.500000</td>\n",
       "      <td>4</td>\n",
       "      <td>False</td>\n",
       "      <td>...</td>\n",
       "      <td>6.000000</td>\n",
       "      <td>0</td>\n",
       "      <td>Тихвин</td>\n",
       "      <td>NaN</td>\n",
       "      <td>NaN</td>\n",
       "      <td>NaN</td>\n",
       "      <td>NaN</td>\n",
       "      <td>NaN</td>\n",
       "      <td>NaN</td>\n",
       "      <td>413.0</td>\n",
       "    </tr>\n",
       "    <tr>\n",
       "      <th>23695</th>\n",
       "      <td>14</td>\n",
       "      <td>3100000.0</td>\n",
       "      <td>59.00</td>\n",
       "      <td>2018-01-15T00:00:00</td>\n",
       "      <td>3</td>\n",
       "      <td>2.65</td>\n",
       "      <td>5</td>\n",
       "      <td>38.000000</td>\n",
       "      <td>4</td>\n",
       "      <td>False</td>\n",
       "      <td>...</td>\n",
       "      <td>8.500000</td>\n",
       "      <td>0</td>\n",
       "      <td>Тосно</td>\n",
       "      <td>NaN</td>\n",
       "      <td>NaN</td>\n",
       "      <td>NaN</td>\n",
       "      <td>NaN</td>\n",
       "      <td>NaN</td>\n",
       "      <td>NaN</td>\n",
       "      <td>45.0</td>\n",
       "    </tr>\n",
       "    <tr>\n",
       "      <th>23696</th>\n",
       "      <td>18</td>\n",
       "      <td>2500000.0</td>\n",
       "      <td>56.70</td>\n",
       "      <td>2018-02-11T00:00:00</td>\n",
       "      <td>2</td>\n",
       "      <td>2.65</td>\n",
       "      <td>3</td>\n",
       "      <td>29.700000</td>\n",
       "      <td>1</td>\n",
       "      <td>False</td>\n",
       "      <td>...</td>\n",
       "      <td>10.623014</td>\n",
       "      <td>0</td>\n",
       "      <td>село Рождествено</td>\n",
       "      <td>NaN</td>\n",
       "      <td>NaN</td>\n",
       "      <td>NaN</td>\n",
       "      <td>NaN</td>\n",
       "      <td>NaN</td>\n",
       "      <td>NaN</td>\n",
       "      <td>NaN</td>\n",
       "    </tr>\n",
       "    <tr>\n",
       "      <th>23698</th>\n",
       "      <td>4</td>\n",
       "      <td>1350000.0</td>\n",
       "      <td>32.30</td>\n",
       "      <td>2017-07-21T00:00:00</td>\n",
       "      <td>1</td>\n",
       "      <td>2.50</td>\n",
       "      <td>5</td>\n",
       "      <td>12.300000</td>\n",
       "      <td>1</td>\n",
       "      <td>False</td>\n",
       "      <td>...</td>\n",
       "      <td>9.000000</td>\n",
       "      <td>0</td>\n",
       "      <td>поселок Новый Учхоз</td>\n",
       "      <td>NaN</td>\n",
       "      <td>NaN</td>\n",
       "      <td>NaN</td>\n",
       "      <td>NaN</td>\n",
       "      <td>NaN</td>\n",
       "      <td>NaN</td>\n",
       "      <td>NaN</td>\n",
       "    </tr>\n",
       "  </tbody>\n",
       "</table>\n",
       "<p>5519 rows × 22 columns</p>\n",
       "</div>"
      ],
      "text/plain": [
       "       total_images  last_price  total_area first_day_exposition  rooms  \\\n",
       "5                10   2890000.0       30.40  2018-09-10T00:00:00      1   \n",
       "8                20   2900000.0       33.16  2018-05-23T00:00:00      1   \n",
       "12               10   3890000.0       54.00  2016-06-30T00:00:00      2   \n",
       "22               20   5000000.0       58.00  2017-04-24T00:00:00      2   \n",
       "30               12   2200000.0       32.80  2018-02-19T00:00:00      1   \n",
       "...             ...         ...         ...                  ...    ...   \n",
       "23683            16   2100000.0       62.80  2018-09-18T00:00:00      4   \n",
       "23692             2   1350000.0       30.00  2017-07-07T00:00:00      1   \n",
       "23695            14   3100000.0       59.00  2018-01-15T00:00:00      3   \n",
       "23696            18   2500000.0       56.70  2018-02-11T00:00:00      2   \n",
       "23698             4   1350000.0       32.30  2017-07-21T00:00:00      1   \n",
       "\n",
       "       ceiling_height  floors_total  living_area  floor  is_apartment  ...  \\\n",
       "5                2.65            12    14.400000      5         False  ...   \n",
       "8                2.65            27    15.430000     26         False  ...   \n",
       "12               2.65             5    30.000000      5         False  ...   \n",
       "22               2.75            25    30.000000     15         False  ...   \n",
       "30               2.65             9    18.524309      2         False  ...   \n",
       "...               ...           ...          ...    ...           ...  ...   \n",
       "23683            2.50             5    45.500000      3         False  ...   \n",
       "23692            2.65             5    17.500000      4         False  ...   \n",
       "23695            2.65             5    38.000000      4         False  ...   \n",
       "23696            2.65             3    29.700000      1         False  ...   \n",
       "23698            2.50             5    12.300000      1         False  ...   \n",
       "\n",
       "       kitchen_area  balcony              locality_name  airports_nearest  \\\n",
       "5          9.100000        0  городской посёлок Янино-1               NaN   \n",
       "8          8.810000        0             посёлок Мурино               NaN   \n",
       "12         9.000000        0                  Сертолово               NaN   \n",
       "22        11.000000        2            деревня Кудрово               NaN   \n",
       "30         6.145235        0                   Коммунар               NaN   \n",
       "...             ...      ...                        ...               ...   \n",
       "23683      5.500000        0       посёлок Дзержинского               NaN   \n",
       "23692      6.000000        0                     Тихвин               NaN   \n",
       "23695      8.500000        0                      Тосно               NaN   \n",
       "23696     10.623014        0           село Рождествено               NaN   \n",
       "23698      9.000000        0        поселок Новый Учхоз               NaN   \n",
       "\n",
       "      cityCenters_nearest  parks_around3000  parks_nearest  ponds_around3000  \\\n",
       "5                     NaN               NaN            NaN               NaN   \n",
       "8                     NaN               NaN            NaN               NaN   \n",
       "12                    NaN               NaN            NaN               NaN   \n",
       "22                    NaN               NaN            NaN               NaN   \n",
       "30                    NaN               NaN            NaN               NaN   \n",
       "...                   ...               ...            ...               ...   \n",
       "23683                 NaN               NaN            NaN               NaN   \n",
       "23692                 NaN               NaN            NaN               NaN   \n",
       "23695                 NaN               NaN            NaN               NaN   \n",
       "23696                 NaN               NaN            NaN               NaN   \n",
       "23698                 NaN               NaN            NaN               NaN   \n",
       "\n",
       "       ponds_nearest  days_exposition  \n",
       "5                NaN             55.0  \n",
       "8                NaN            189.0  \n",
       "12               NaN             90.0  \n",
       "22               NaN             60.0  \n",
       "30               NaN             63.0  \n",
       "...              ...              ...  \n",
       "23683            NaN              NaN  \n",
       "23692            NaN            413.0  \n",
       "23695            NaN             45.0  \n",
       "23696            NaN              NaN  \n",
       "23698            NaN              NaN  \n",
       "\n",
       "[5519 rows x 22 columns]"
      ]
     },
     "execution_count": 16,
     "metadata": {},
     "output_type": "execute_result"
    }
   ],
   "source": [
    "data[data['cityCenters_nearest'].isna()]"
   ]
  },
  {
   "cell_type": "code",
   "execution_count": 17,
   "metadata": {},
   "outputs": [
    {
     "data": {
      "text/html": [
       "<div>\n",
       "<style scoped>\n",
       "    .dataframe tbody tr th:only-of-type {\n",
       "        vertical-align: middle;\n",
       "    }\n",
       "\n",
       "    .dataframe tbody tr th {\n",
       "        vertical-align: top;\n",
       "    }\n",
       "\n",
       "    .dataframe thead th {\n",
       "        text-align: right;\n",
       "    }\n",
       "</style>\n",
       "<table border=\"1\" class=\"dataframe\">\n",
       "  <thead>\n",
       "    <tr style=\"text-align: right;\">\n",
       "      <th></th>\n",
       "      <th>total_images</th>\n",
       "      <th>last_price</th>\n",
       "      <th>total_area</th>\n",
       "      <th>first_day_exposition</th>\n",
       "      <th>rooms</th>\n",
       "      <th>ceiling_height</th>\n",
       "      <th>floors_total</th>\n",
       "      <th>living_area</th>\n",
       "      <th>floor</th>\n",
       "      <th>is_apartment</th>\n",
       "      <th>...</th>\n",
       "      <th>kitchen_area</th>\n",
       "      <th>balcony</th>\n",
       "      <th>locality_name</th>\n",
       "      <th>airports_nearest</th>\n",
       "      <th>cityCenters_nearest</th>\n",
       "      <th>parks_around3000</th>\n",
       "      <th>parks_nearest</th>\n",
       "      <th>ponds_around3000</th>\n",
       "      <th>ponds_nearest</th>\n",
       "      <th>days_exposition</th>\n",
       "    </tr>\n",
       "  </thead>\n",
       "  <tbody>\n",
       "    <tr>\n",
       "      <th>81</th>\n",
       "      <td>9</td>\n",
       "      <td>10949000.0</td>\n",
       "      <td>68.00</td>\n",
       "      <td>2018-12-27T00:00:00</td>\n",
       "      <td>1</td>\n",
       "      <td>2.65</td>\n",
       "      <td>10</td>\n",
       "      <td>38.404055</td>\n",
       "      <td>6</td>\n",
       "      <td>False</td>\n",
       "      <td>...</td>\n",
       "      <td>12.740122</td>\n",
       "      <td>0</td>\n",
       "      <td>Санкт-Петербург</td>\n",
       "      <td>26726.0</td>\n",
       "      <td>NaN</td>\n",
       "      <td>NaN</td>\n",
       "      <td>NaN</td>\n",
       "      <td>NaN</td>\n",
       "      <td>NaN</td>\n",
       "      <td>NaN</td>\n",
       "    </tr>\n",
       "    <tr>\n",
       "      <th>593</th>\n",
       "      <td>20</td>\n",
       "      <td>4200000.0</td>\n",
       "      <td>38.30</td>\n",
       "      <td>2019-04-16T00:00:00</td>\n",
       "      <td>1</td>\n",
       "      <td>2.60</td>\n",
       "      <td>16</td>\n",
       "      <td>19.800000</td>\n",
       "      <td>10</td>\n",
       "      <td>False</td>\n",
       "      <td>...</td>\n",
       "      <td>10.100000</td>\n",
       "      <td>2</td>\n",
       "      <td>Санкт-Петербург</td>\n",
       "      <td>26726.0</td>\n",
       "      <td>NaN</td>\n",
       "      <td>NaN</td>\n",
       "      <td>NaN</td>\n",
       "      <td>NaN</td>\n",
       "      <td>NaN</td>\n",
       "      <td>NaN</td>\n",
       "    </tr>\n",
       "    <tr>\n",
       "      <th>604</th>\n",
       "      <td>11</td>\n",
       "      <td>9899000.0</td>\n",
       "      <td>101.00</td>\n",
       "      <td>2018-12-12T00:00:00</td>\n",
       "      <td>3</td>\n",
       "      <td>3.00</td>\n",
       "      <td>5</td>\n",
       "      <td>62.000000</td>\n",
       "      <td>3</td>\n",
       "      <td>False</td>\n",
       "      <td>...</td>\n",
       "      <td>15.000000</td>\n",
       "      <td>0</td>\n",
       "      <td>Санкт-Петербург</td>\n",
       "      <td>26726.0</td>\n",
       "      <td>NaN</td>\n",
       "      <td>NaN</td>\n",
       "      <td>NaN</td>\n",
       "      <td>NaN</td>\n",
       "      <td>NaN</td>\n",
       "      <td>NaN</td>\n",
       "    </tr>\n",
       "    <tr>\n",
       "      <th>742</th>\n",
       "      <td>7</td>\n",
       "      <td>37000000.0</td>\n",
       "      <td>161.00</td>\n",
       "      <td>2016-05-22T00:00:00</td>\n",
       "      <td>3</td>\n",
       "      <td>2.65</td>\n",
       "      <td>9</td>\n",
       "      <td>84.000000</td>\n",
       "      <td>8</td>\n",
       "      <td>False</td>\n",
       "      <td>...</td>\n",
       "      <td>30.164113</td>\n",
       "      <td>0</td>\n",
       "      <td>Санкт-Петербург</td>\n",
       "      <td>26726.0</td>\n",
       "      <td>NaN</td>\n",
       "      <td>NaN</td>\n",
       "      <td>NaN</td>\n",
       "      <td>NaN</td>\n",
       "      <td>NaN</td>\n",
       "      <td>402.0</td>\n",
       "    </tr>\n",
       "    <tr>\n",
       "      <th>795</th>\n",
       "      <td>19</td>\n",
       "      <td>7100000.0</td>\n",
       "      <td>59.60</td>\n",
       "      <td>2019-02-13T00:00:00</td>\n",
       "      <td>2</td>\n",
       "      <td>3.40</td>\n",
       "      <td>5</td>\n",
       "      <td>36.600000</td>\n",
       "      <td>2</td>\n",
       "      <td>False</td>\n",
       "      <td>...</td>\n",
       "      <td>12.500000</td>\n",
       "      <td>0</td>\n",
       "      <td>Санкт-Петербург</td>\n",
       "      <td>26726.0</td>\n",
       "      <td>NaN</td>\n",
       "      <td>NaN</td>\n",
       "      <td>NaN</td>\n",
       "      <td>NaN</td>\n",
       "      <td>NaN</td>\n",
       "      <td>NaN</td>\n",
       "    </tr>\n",
       "    <tr>\n",
       "      <th>...</th>\n",
       "      <td>...</td>\n",
       "      <td>...</td>\n",
       "      <td>...</td>\n",
       "      <td>...</td>\n",
       "      <td>...</td>\n",
       "      <td>...</td>\n",
       "      <td>...</td>\n",
       "      <td>...</td>\n",
       "      <td>...</td>\n",
       "      <td>...</td>\n",
       "      <td>...</td>\n",
       "      <td>...</td>\n",
       "      <td>...</td>\n",
       "      <td>...</td>\n",
       "      <td>...</td>\n",
       "      <td>...</td>\n",
       "      <td>...</td>\n",
       "      <td>...</td>\n",
       "      <td>...</td>\n",
       "      <td>...</td>\n",
       "      <td>...</td>\n",
       "    </tr>\n",
       "    <tr>\n",
       "      <th>21668</th>\n",
       "      <td>9</td>\n",
       "      <td>4500000.0</td>\n",
       "      <td>34.30</td>\n",
       "      <td>2019-03-04T00:00:00</td>\n",
       "      <td>1</td>\n",
       "      <td>2.65</td>\n",
       "      <td>9</td>\n",
       "      <td>17.500000</td>\n",
       "      <td>3</td>\n",
       "      <td>False</td>\n",
       "      <td>...</td>\n",
       "      <td>8.900000</td>\n",
       "      <td>1</td>\n",
       "      <td>Санкт-Петербург</td>\n",
       "      <td>26726.0</td>\n",
       "      <td>NaN</td>\n",
       "      <td>NaN</td>\n",
       "      <td>NaN</td>\n",
       "      <td>NaN</td>\n",
       "      <td>NaN</td>\n",
       "      <td>NaN</td>\n",
       "    </tr>\n",
       "    <tr>\n",
       "      <th>21881</th>\n",
       "      <td>15</td>\n",
       "      <td>44500000.0</td>\n",
       "      <td>169.00</td>\n",
       "      <td>2019-02-28T00:00:00</td>\n",
       "      <td>3</td>\n",
       "      <td>3.30</td>\n",
       "      <td>9</td>\n",
       "      <td>101.000000</td>\n",
       "      <td>7</td>\n",
       "      <td>False</td>\n",
       "      <td>...</td>\n",
       "      <td>18.000000</td>\n",
       "      <td>4</td>\n",
       "      <td>Санкт-Петербург</td>\n",
       "      <td>26726.0</td>\n",
       "      <td>NaN</td>\n",
       "      <td>NaN</td>\n",
       "      <td>NaN</td>\n",
       "      <td>NaN</td>\n",
       "      <td>NaN</td>\n",
       "      <td>NaN</td>\n",
       "    </tr>\n",
       "    <tr>\n",
       "      <th>21955</th>\n",
       "      <td>19</td>\n",
       "      <td>130000000.0</td>\n",
       "      <td>431.00</td>\n",
       "      <td>2017-10-02T00:00:00</td>\n",
       "      <td>7</td>\n",
       "      <td>3.70</td>\n",
       "      <td>8</td>\n",
       "      <td>220.000000</td>\n",
       "      <td>5</td>\n",
       "      <td>False</td>\n",
       "      <td>...</td>\n",
       "      <td>20.000000</td>\n",
       "      <td>5</td>\n",
       "      <td>Санкт-Петербург</td>\n",
       "      <td>26726.0</td>\n",
       "      <td>NaN</td>\n",
       "      <td>NaN</td>\n",
       "      <td>NaN</td>\n",
       "      <td>NaN</td>\n",
       "      <td>NaN</td>\n",
       "      <td>161.0</td>\n",
       "    </tr>\n",
       "    <tr>\n",
       "      <th>22554</th>\n",
       "      <td>5</td>\n",
       "      <td>3415000.0</td>\n",
       "      <td>31.65</td>\n",
       "      <td>2019-04-16T00:00:00</td>\n",
       "      <td>1</td>\n",
       "      <td>2.65</td>\n",
       "      <td>24</td>\n",
       "      <td>17.874829</td>\n",
       "      <td>14</td>\n",
       "      <td>False</td>\n",
       "      <td>...</td>\n",
       "      <td>8.700000</td>\n",
       "      <td>2</td>\n",
       "      <td>Санкт-Петербург</td>\n",
       "      <td>26726.0</td>\n",
       "      <td>NaN</td>\n",
       "      <td>NaN</td>\n",
       "      <td>NaN</td>\n",
       "      <td>NaN</td>\n",
       "      <td>NaN</td>\n",
       "      <td>NaN</td>\n",
       "    </tr>\n",
       "    <tr>\n",
       "      <th>22628</th>\n",
       "      <td>8</td>\n",
       "      <td>8600000.0</td>\n",
       "      <td>74.90</td>\n",
       "      <td>2019-03-14T00:00:00</td>\n",
       "      <td>3</td>\n",
       "      <td>3.00</td>\n",
       "      <td>5</td>\n",
       "      <td>53.200000</td>\n",
       "      <td>4</td>\n",
       "      <td>False</td>\n",
       "      <td>...</td>\n",
       "      <td>8.000000</td>\n",
       "      <td>1</td>\n",
       "      <td>Санкт-Петербург</td>\n",
       "      <td>26726.0</td>\n",
       "      <td>NaN</td>\n",
       "      <td>NaN</td>\n",
       "      <td>NaN</td>\n",
       "      <td>NaN</td>\n",
       "      <td>NaN</td>\n",
       "      <td>NaN</td>\n",
       "    </tr>\n",
       "  </tbody>\n",
       "</table>\n",
       "<p>61 rows × 22 columns</p>\n",
       "</div>"
      ],
      "text/plain": [
       "       total_images   last_price  total_area first_day_exposition  rooms  \\\n",
       "81                9   10949000.0       68.00  2018-12-27T00:00:00      1   \n",
       "593              20    4200000.0       38.30  2019-04-16T00:00:00      1   \n",
       "604              11    9899000.0      101.00  2018-12-12T00:00:00      3   \n",
       "742               7   37000000.0      161.00  2016-05-22T00:00:00      3   \n",
       "795              19    7100000.0       59.60  2019-02-13T00:00:00      2   \n",
       "...             ...          ...         ...                  ...    ...   \n",
       "21668             9    4500000.0       34.30  2019-03-04T00:00:00      1   \n",
       "21881            15   44500000.0      169.00  2019-02-28T00:00:00      3   \n",
       "21955            19  130000000.0      431.00  2017-10-02T00:00:00      7   \n",
       "22554             5    3415000.0       31.65  2019-04-16T00:00:00      1   \n",
       "22628             8    8600000.0       74.90  2019-03-14T00:00:00      3   \n",
       "\n",
       "       ceiling_height  floors_total  living_area  floor  is_apartment  ...  \\\n",
       "81               2.65            10    38.404055      6         False  ...   \n",
       "593              2.60            16    19.800000     10         False  ...   \n",
       "604              3.00             5    62.000000      3         False  ...   \n",
       "742              2.65             9    84.000000      8         False  ...   \n",
       "795              3.40             5    36.600000      2         False  ...   \n",
       "...               ...           ...          ...    ...           ...  ...   \n",
       "21668            2.65             9    17.500000      3         False  ...   \n",
       "21881            3.30             9   101.000000      7         False  ...   \n",
       "21955            3.70             8   220.000000      5         False  ...   \n",
       "22554            2.65            24    17.874829     14         False  ...   \n",
       "22628            3.00             5    53.200000      4         False  ...   \n",
       "\n",
       "       kitchen_area  balcony    locality_name  airports_nearest  \\\n",
       "81        12.740122        0  Санкт-Петербург           26726.0   \n",
       "593       10.100000        2  Санкт-Петербург           26726.0   \n",
       "604       15.000000        0  Санкт-Петербург           26726.0   \n",
       "742       30.164113        0  Санкт-Петербург           26726.0   \n",
       "795       12.500000        0  Санкт-Петербург           26726.0   \n",
       "...             ...      ...              ...               ...   \n",
       "21668      8.900000        1  Санкт-Петербург           26726.0   \n",
       "21881     18.000000        4  Санкт-Петербург           26726.0   \n",
       "21955     20.000000        5  Санкт-Петербург           26726.0   \n",
       "22554      8.700000        2  Санкт-Петербург           26726.0   \n",
       "22628      8.000000        1  Санкт-Петербург           26726.0   \n",
       "\n",
       "      cityCenters_nearest  parks_around3000  parks_nearest  ponds_around3000  \\\n",
       "81                    NaN               NaN            NaN               NaN   \n",
       "593                   NaN               NaN            NaN               NaN   \n",
       "604                   NaN               NaN            NaN               NaN   \n",
       "742                   NaN               NaN            NaN               NaN   \n",
       "795                   NaN               NaN            NaN               NaN   \n",
       "...                   ...               ...            ...               ...   \n",
       "21668                 NaN               NaN            NaN               NaN   \n",
       "21881                 NaN               NaN            NaN               NaN   \n",
       "21955                 NaN               NaN            NaN               NaN   \n",
       "22554                 NaN               NaN            NaN               NaN   \n",
       "22628                 NaN               NaN            NaN               NaN   \n",
       "\n",
       "       ponds_nearest  days_exposition  \n",
       "81               NaN              NaN  \n",
       "593              NaN              NaN  \n",
       "604              NaN              NaN  \n",
       "742              NaN            402.0  \n",
       "795              NaN              NaN  \n",
       "...              ...              ...  \n",
       "21668            NaN              NaN  \n",
       "21881            NaN              NaN  \n",
       "21955            NaN            161.0  \n",
       "22554            NaN              NaN  \n",
       "22628            NaN              NaN  \n",
       "\n",
       "[61 rows x 22 columns]"
      ]
     },
     "execution_count": 17,
     "metadata": {},
     "output_type": "execute_result"
    }
   ],
   "source": [
    "data['cityCenters_nearest'].describe()\n",
    "data[(data['cityCenters_nearest'].isna())]\n",
    "data[(data['cityCenters_nearest'].isna()) & (data['locality_name'] == 'Санкт-Петербург')]"
   ]
  },
  {
   "cell_type": "markdown",
   "metadata": {},
   "source": [
    "Наблюдения и выводы по столбцу 'cityCentres_nearest':\n",
    "1. Основная часть пропусков в объектах недвижимости расположенных в ближлижайших и отдаленных деревнях и посёлках решено оставить значения без изменения, так как непонятно чем их можно заменить.\n"
   ]
  },
  {
   "cell_type": "markdown",
   "metadata": {},
   "source": [
    "### Изучаем пропуски в столбце 'parks_around3000'"
   ]
  },
  {
   "cell_type": "code",
   "execution_count": 18,
   "metadata": {},
   "outputs": [],
   "source": [
    "data['parks_around3000'].describe()\n",
    "data[(data['parks_around3000'].isna()) & (data['locality_name'] == 'Санкт-Петербург')]\n",
    "data['parks_around3000'] = data['parks_around3000'].fillna(0)\n",
    "data['parks_around3000'] = data['parks_around3000'].astype('int')\n"
   ]
  },
  {
   "cell_type": "markdown",
   "metadata": {},
   "source": [
    "Наблюдения и выводы по столбцу 'parks_around3000':\n",
    "\n",
    "1. Судя по всему пропуски связаны с объектами недвижимости в деревнях и посёлках и парков там нет. Решено заменить пропуски на 0.\n",
    "2. Тип данных изменен на int64"
   ]
  },
  {
   "cell_type": "markdown",
   "metadata": {},
   "source": [
    "### Изучаем пропуски в столбце 'parks_nearest'"
   ]
  },
  {
   "cell_type": "code",
   "execution_count": 19,
   "metadata": {},
   "outputs": [
    {
     "data": {
      "text/plain": [
       "441.0     67\n",
       "392.0     41\n",
       "173.0     41\n",
       "456.0     40\n",
       "471.0     32\n",
       "          ..\n",
       "2489.0     1\n",
       "786.0      1\n",
       "793.0      1\n",
       "92.0       1\n",
       "929.0      1\n",
       "Name: parks_nearest, Length: 995, dtype: int64"
      ]
     },
     "execution_count": 19,
     "metadata": {},
     "output_type": "execute_result"
    }
   ],
   "source": [
    "#смотрим пропуски в 'parks_nearest' в Санкт-Петербурге\n",
    "data[(data['parks_nearest'].isna()) & (data['locality_name'] == 'Санкт-Петербург')]\n",
    "data['parks_nearest'].value_counts()"
   ]
  },
  {
   "cell_type": "markdown",
   "metadata": {},
   "source": [
    "Наблюдения и выводы по столбцу 'parks_nearest':\n",
    "1. Пропусков много. Пропуски оставили, потому что 0 ставить нельзя, это может ввести в заблуждение потенциального покупателя, что парк совсем рядом, а его нет. "
   ]
  },
  {
   "cell_type": "markdown",
   "metadata": {},
   "source": [
    "### Изучаем пропуски в столбце 'ponds_around3000'"
   ]
  },
  {
   "cell_type": "code",
   "execution_count": 20,
   "metadata": {},
   "outputs": [],
   "source": [
    "#Проверяем пропуски в Санкт-Петербурге\n",
    "data[(data['ponds_around3000'].isna()) & (data['locality_name'] == 'Санкт-Петербург')] #пропусков нет\n",
    "data['ponds_around3000'] = data['ponds_around3000'].fillna(0)\n",
    "data['ponds_around3000'] = data['ponds_around3000'].astype('int')"
   ]
  },
  {
   "cell_type": "markdown",
   "metadata": {},
   "source": [
    "Наблюдения и выводы по столбцу 'ponds_around3000':\n",
    "1. Судя по всему пропуски связаны с объектами недвижимости в деревнях и посёлках и водоемов по этим условиям там нет. Решено заменить пропуски на 0.\n",
    "2. Тип данных изменен на int64"
   ]
  },
  {
   "cell_type": "markdown",
   "metadata": {},
   "source": [
    "### Изучаем пропуски столбца 'ponds_nearest'"
   ]
  },
  {
   "cell_type": "code",
   "execution_count": 21,
   "metadata": {},
   "outputs": [
    {
     "data": {
      "text/plain": [
       "count    9110.000000\n",
       "mean      517.980900\n",
       "std       277.720643\n",
       "min        13.000000\n",
       "25%       294.000000\n",
       "50%       502.000000\n",
       "75%       729.000000\n",
       "max      1344.000000\n",
       "Name: ponds_nearest, dtype: float64"
      ]
     },
     "execution_count": 21,
     "metadata": {},
     "output_type": "execute_result"
    }
   ],
   "source": [
    "data['ponds_nearest'].describe()"
   ]
  },
  {
   "cell_type": "code",
   "execution_count": 22,
   "metadata": {},
   "outputs": [
    {
     "data": {
      "text/plain": [
       "427.0     70\n",
       "454.0     41\n",
       "153.0     40\n",
       "433.0     39\n",
       "564.0     37\n",
       "          ..\n",
       "1075.0     1\n",
       "74.0       1\n",
       "1236.0     1\n",
       "395.0      1\n",
       "995.0      1\n",
       "Name: ponds_nearest, Length: 1096, dtype: int64"
      ]
     },
     "execution_count": 22,
     "metadata": {},
     "output_type": "execute_result"
    }
   ],
   "source": [
    "data['ponds_nearest'].value_counts()"
   ]
  },
  {
   "cell_type": "markdown",
   "metadata": {},
   "source": [
    "Наблюдения и выводы по столбцу 'ponds_nearest':\n",
    "\n",
    "1. Пропусков много. Пропуски оставили, потому что 0 ставить нельзя, это может ввести в заблуждение потенциального покупателя, что водоем совсем рядом, а его нет."
   ]
  },
  {
   "cell_type": "markdown",
   "metadata": {},
   "source": [
    "### Изучаем пропуски столбца 'days_exposition'"
   ]
  },
  {
   "cell_type": "code",
   "execution_count": 23,
   "metadata": {},
   "outputs": [],
   "source": [
    "data[data['days_exposition'].isna()]\n",
    "data['days_exposition'].value_counts()\n",
    "#нулевых значений нет, значит заменим пропуски на median, так как разброс значение большой\n",
    "data['days_exposition'] = data['days_exposition'].fillna(data['days_exposition'].median())\n",
    "data['days_exposition'] = data['days_exposition'].astype('int')"
   ]
  },
  {
   "cell_type": "markdown",
   "metadata": {},
   "source": [
    "Наблюдения и выводы по столбцу 'days_exposition':\n",
    "\n",
    "1. Пропусков немного. Решено пропуски заменит на median, так как разброс значений существенный.\n",
    "2. Тип заменен на int64"
   ]
  },
  {
   "cell_type": "code",
   "execution_count": 24,
   "metadata": {},
   "outputs": [],
   "source": [
    "#first_day_exposition переведем в формат datetime\n",
    "data['first_day_exposition'] = pd.to_datetime(data['first_day_exposition'], format = '%Y-%m-%dT%H:%M:%S')\n"
   ]
  },
  {
   "cell_type": "markdown",
   "metadata": {
    "id": "NDkb4wRMuqj9"
   },
   "source": [
    "## Расчёты и добавление результатов в таблицу"
   ]
  },
  {
   "cell_type": "markdown",
   "metadata": {},
   "source": [
    "В этом разделе предстоит добавить в таблицу следующие значения:\n",
    "1. цену квадратного метра;\n",
    "2. день недели, месяц и год публикации объявления;\n",
    "3. этаж квартиры; варианты — первый, последний, другой;\n",
    "4. соотношение жилой и общей площади, а также отношение площади кухни к общей."
   ]
  },
  {
   "cell_type": "code",
   "execution_count": 25,
   "metadata": {
    "id": "qWGaSUbGuqj9"
   },
   "outputs": [],
   "source": [
    "#добавляем в таблицу цену квадратного метра\n",
    "data['price_square_meter'] = (data['last_price'] / data['total_area']).astype('int')\n",
    "\n",
    "#добавляем столбец дня недели\n",
    "data['weekday_exposition'] = data['first_day_exposition'].dt.weekday\n",
    "\n",
    "#добавляем столбец месяца размещения\n",
    "data['month_exposition'] = data['first_day_exposition'].dt.month\n",
    "\n",
    "#добавляем столбец года размещения\n",
    "data['year_exposition'] = data['first_day_exposition'].dt.year\n",
    "\n",
    "#добавляем столбец этажа квартиры 'flat_floor' с вариантами - первый, последний, другой\n",
    "def flat_floor(row):\n",
    "    floors_total = row['floors_total']\n",
    "    floor = row['floor']\n",
    "    if floor == 1:\n",
    "        return 'первый'\n",
    "    elif floor == floors_total:\n",
    "        return 'последний'\n",
    "    else:\n",
    "        return 'другой'\n",
    "    \n",
    "data['flat_floor'] = data.apply(flat_floor, axis = 1)\n",
    "\n",
    "#добавляем столбец соотношения жилой площади к общей\n",
    "data['relation_living_total_area'] = data['living_area'] / data['total_area']\n",
    "\n",
    "#добавляем столбец соотношения площади кухни к общей\n",
    "data['relation_kitchen_total_area'] = data['kitchen_area'] / data['total_area']"
   ]
  },
  {
   "cell_type": "markdown",
   "metadata": {
    "id": "bbkJiMpRuqj9"
   },
   "source": [
    "## Исследовательский анализ данных"
   ]
  },
  {
   "cell_type": "markdown",
   "metadata": {},
   "source": [
    "Изучаем следующие параметры: площадь, цена, число комнат, высота потолков. Построим гистограммы для каждого параметра."
   ]
  },
  {
   "cell_type": "markdown",
   "metadata": {
    "id": "evjMydACuqj9"
   },
   "source": [
    "### Анализ площади квартир"
   ]
  },
  {
   "cell_type": "code",
   "execution_count": 39,
   "metadata": {},
   "outputs": [
    {
     "data": {
      "text/plain": [
       "count    23699.000000\n",
       "mean        60.348651\n",
       "std         35.654083\n",
       "min         12.000000\n",
       "25%         40.000000\n",
       "50%         52.000000\n",
       "75%         69.900000\n",
       "max        900.000000\n",
       "Name: total_area, dtype: float64"
      ]
     },
     "execution_count": 39,
     "metadata": {},
     "output_type": "execute_result"
    }
   ],
   "source": [
    "#смотрим общую картину по площади\n",
    "data['total_area'].describe()"
   ]
  },
  {
   "cell_type": "code",
   "execution_count": 40,
   "metadata": {},
   "outputs": [
    {
     "data": {
      "text/plain": [
       "45.00     419\n",
       "42.00     383\n",
       "60.00     347\n",
       "31.00     346\n",
       "44.00     345\n",
       "         ... \n",
       "44.24       1\n",
       "56.85       1\n",
       "37.92       1\n",
       "115.60      1\n",
       "55.06       1\n",
       "Name: total_area, Length: 2182, dtype: int64"
      ]
     },
     "execution_count": 40,
     "metadata": {},
     "output_type": "execute_result"
    }
   ],
   "source": [
    "data['total_area'].value_counts()"
   ]
  },
  {
   "cell_type": "code",
   "execution_count": 41,
   "metadata": {
    "scrolled": true
   },
   "outputs": [
    {
     "data": {
      "text/plain": [
       "<AxesSubplot:title={'center':'Площадь'}, ylabel='Frequency'>"
      ]
     },
     "execution_count": 41,
     "metadata": {},
     "output_type": "execute_result"
    },
    {
     "data": {
      "image/png": "[encoded data removed]",
      "text/plain": [
       "<Figure size 504x288 with 1 Axes>"
      ]
     },
     "metadata": {
      "needs_background": "light"
     },
     "output_type": "display_data"
    }
   ],
   "source": [
    "#строим гистограмму\n",
    "data.plot(y = 'total_area', kind = 'hist', title = 'Площадь', figsize = (7,4), bins = 100, range = (0,200), grid = True)"
   ]
  },
  {
   "cell_type": "code",
   "execution_count": 42,
   "metadata": {},
   "outputs": [
    {
     "data": {
      "text/plain": [
       "0.6536750579657242"
      ]
     },
     "execution_count": 42,
     "metadata": {},
     "output_type": "execute_result"
    }
   ],
   "source": [
    "#смотрим корреляцию площади и цены\n",
    "data['total_area'].corr(data['last_price'])"
   ]
  },
  {
   "cell_type": "code",
   "execution_count": 43,
   "metadata": {
    "scrolled": true
   },
   "outputs": [
    {
     "data": {
      "text/plain": [
       "<AxesSubplot:xlabel='total_area', ylabel='last_price'>"
      ]
     },
     "execution_count": 43,
     "metadata": {},
     "output_type": "execute_result"
    },
    {
     "data": {
      "image/png": "[encoded data removed]",
      "text/plain": [
       "<Figure size 432x288 with 1 Axes>"
      ]
     },
     "metadata": {
      "needs_background": "light"
     },
     "output_type": "display_data"
    }
   ],
   "source": [
    "data.plot(x='total_area', y = 'last_price', kind = 'scatter', alpha = 1)"
   ]
  },
  {
   "cell_type": "code",
   "execution_count": 44,
   "metadata": {},
   "outputs": [
    {
     "data": {
      "text/plain": [
       "total_images                   23601\n",
       "last_price                     23601\n",
       "total_area                     23601\n",
       "first_day_exposition           23601\n",
       "rooms                          23601\n",
       "ceiling_height                 23601\n",
       "floors_total                   23601\n",
       "living_area                    23601\n",
       "floor                          23601\n",
       "is_apartment                   23601\n",
       "studio                         23601\n",
       "open_plan                      23601\n",
       "kitchen_area                   23601\n",
       "balcony                        23601\n",
       "locality_name                  23552\n",
       "airports_nearest               18153\n",
       "cityCenters_nearest            18093\n",
       "parks_around3000               23601\n",
       "parks_nearest                   8028\n",
       "ponds_around3000               23601\n",
       "ponds_nearest                   9050\n",
       "days_exposition                23601\n",
       "price_square_meter             23601\n",
       "weekday_exposition             23601\n",
       "month_exposition               23601\n",
       "year_exposition                23601\n",
       "flat_floor                     23601\n",
       "relation_living_total_area     23601\n",
       "relation_kitchen_total_area    23601\n",
       "dtype: int64"
      ]
     },
     "execution_count": 44,
     "metadata": {},
     "output_type": "execute_result"
    }
   ],
   "source": [
    "data[(data['total_area'] > 20) & (data['total_area'] < 300)].count()\n"
   ]
  },
  {
   "cell_type": "markdown",
   "metadata": {},
   "source": [
    "#### Выводы и наблюдения:\n",
    "1. Основная масса квартир с жилплощадью от 42 до 60 кв. метров.\n",
    "2. Очень редко встречаются квартиры меньше 20 кв. метров и больше 200 кв. метров.\n",
    "2. Судя по гистограмме - распределение Пуассона, это говорит о том, что каких-то явных аномалий в этих показателях нет.\n",
    "3. Коэффициент Пирсона взаимосвязи площади от цены равен 0,65. Взаимосвязь между этими показателями определенно есть."
   ]
  },
  {
   "cell_type": "markdown",
   "metadata": {},
   "source": [
    "### Анализ стоимости квартир"
   ]
  },
  {
   "cell_type": "code",
   "execution_count": 45,
   "metadata": {},
   "outputs": [
    {
     "data": {
      "text/plain": [
       "count    2.369900e+04\n",
       "mean     6.541549e+06\n",
       "std      1.088701e+07\n",
       "min      1.219000e+04\n",
       "25%      3.400000e+06\n",
       "50%      4.650000e+06\n",
       "75%      6.800000e+06\n",
       "max      7.630000e+08\n",
       "Name: last_price, dtype: float64"
      ]
     },
     "execution_count": 45,
     "metadata": {},
     "output_type": "execute_result"
    }
   ],
   "source": [
    "data['last_price'].describe()"
   ]
  },
  {
   "cell_type": "code",
   "execution_count": 46,
   "metadata": {},
   "outputs": [
    {
     "data": {
      "text/plain": [
       "4500000.0     342\n",
       "3500000.0     291\n",
       "4000000.0     260\n",
       "4300000.0     260\n",
       "4200000.0     259\n",
       "             ... \n",
       "10430000.0      1\n",
       "9917600.0       1\n",
       "3180500.0       1\n",
       "7297000.0       1\n",
       "4386000.0       1\n",
       "Name: last_price, Length: 2978, dtype: int64"
      ]
     },
     "execution_count": 46,
     "metadata": {},
     "output_type": "execute_result"
    }
   ],
   "source": [
    "data['last_price'].value_counts()"
   ]
  },
  {
   "cell_type": "code",
   "execution_count": 47,
   "metadata": {},
   "outputs": [
    {
     "data": {
      "text/plain": [
       "<AxesSubplot:title={'center':'Цена'}, ylabel='Frequency'>"
      ]
     },
     "execution_count": 47,
     "metadata": {},
     "output_type": "execute_result"
    },
    {
     "data": {
      "image/png": "[encoded data removed]",
      "text/plain": [
       "<Figure size 504x288 with 1 Axes>"
      ]
     },
     "metadata": {
      "needs_background": "light"
     },
     "output_type": "display_data"
    }
   ],
   "source": [
    "#строим гистограмму\n",
    "data.plot(y = 'last_price', kind = 'hist', title = 'Цена', figsize = (7,4), bins = 100, range = (0,15000000), grid = True)"
   ]
  },
  {
   "cell_type": "code",
   "execution_count": 48,
   "metadata": {},
   "outputs": [
    {
     "data": {
      "text/plain": [
       "total_images                   22209\n",
       "last_price                     22209\n",
       "total_area                     22209\n",
       "first_day_exposition           22209\n",
       "rooms                          22209\n",
       "ceiling_height                 22209\n",
       "floors_total                   22209\n",
       "living_area                    22209\n",
       "floor                          22209\n",
       "is_apartment                   22209\n",
       "studio                         22209\n",
       "open_plan                      22209\n",
       "kitchen_area                   22209\n",
       "balcony                        22209\n",
       "locality_name                  22164\n",
       "airports_nearest               16999\n",
       "cityCenters_nearest            16952\n",
       "parks_around3000               22209\n",
       "parks_nearest                   7212\n",
       "ponds_around3000               22209\n",
       "ponds_nearest                   8247\n",
       "days_exposition                22209\n",
       "price_square_meter             22209\n",
       "weekday_exposition             22209\n",
       "month_exposition               22209\n",
       "year_exposition                22209\n",
       "flat_floor                     22209\n",
       "relation_living_total_area     22209\n",
       "relation_kitchen_total_area    22209\n",
       "dtype: int64"
      ]
     },
     "execution_count": 48,
     "metadata": {},
     "output_type": "execute_result"
    }
   ],
   "source": [
    "data[(data['last_price'] > 1000000) & (data['last_price'] < 15000000)].count()"
   ]
  },
  {
   "cell_type": "code",
   "execution_count": 49,
   "metadata": {},
   "outputs": [
    {
     "data": {
      "text/plain": [
       "0.3633428499648948"
      ]
     },
     "execution_count": 49,
     "metadata": {},
     "output_type": "execute_result"
    }
   ],
   "source": [
    "#смотрим корреляцию площади и цены\n",
    "data['last_price'].corr(data['rooms'])"
   ]
  },
  {
   "cell_type": "code",
   "execution_count": 50,
   "metadata": {},
   "outputs": [
    {
     "data": {
      "text/plain": [
       "<AxesSubplot:xlabel='last_price', ylabel='rooms'>"
      ]
     },
     "execution_count": 50,
     "metadata": {},
     "output_type": "execute_result"
    },
    {
     "data": {
      "image/png": "[encoded data removed]",
      "text/plain": [
       "<Figure size 432x288 with 1 Axes>"
      ]
     },
     "metadata": {
      "needs_background": "light"
     },
     "output_type": "display_data"
    }
   ],
   "source": [
    "data.plot(x='last_price', y = 'rooms', kind = 'scatter', alpha = 0.5)"
   ]
  },
  {
   "cell_type": "markdown",
   "metadata": {},
   "source": [
    "#### Выводы и наблюдения:\n",
    "1. В основной своей массе в проджу выставлены квартиры от 3,5 до 4,5 млн. рублей. Это видно на гистограмме и практически совпадает с медианой. Квартиры дешевле 1 млн. руб. и дороже 15 млн. руб. очень редки.\n",
    "2. Судя по гистограмме - распределение Пуассона, это говорит о том, что каких-то явных аномалий в этих показателях нет.\n",
    "3. Коэффициент Пирсона взаимосвязи цены от количества комнат равен 0,36. Взаимосвязь между этими показателями определенно есть, не значительная. Цена в основном зависит от чего то другого, осмелюсь предположить от месторасположения."
   ]
  },
  {
   "cell_type": "markdown",
   "metadata": {},
   "source": [
    "### Анализ числа комнат"
   ]
  },
  {
   "cell_type": "code",
   "execution_count": 51,
   "metadata": {},
   "outputs": [
    {
     "data": {
      "text/plain": [
       "count    23699.000000\n",
       "mean         2.070636\n",
       "std          1.078405\n",
       "min          0.000000\n",
       "25%          1.000000\n",
       "50%          2.000000\n",
       "75%          3.000000\n",
       "max         19.000000\n",
       "Name: rooms, dtype: float64"
      ]
     },
     "execution_count": 51,
     "metadata": {},
     "output_type": "execute_result"
    }
   ],
   "source": [
    "data['rooms'].describe()"
   ]
  },
  {
   "cell_type": "code",
   "execution_count": 52,
   "metadata": {},
   "outputs": [
    {
     "data": {
      "text/plain": [
       "1     8047\n",
       "2     7940\n",
       "3     5814\n",
       "4     1180\n",
       "5      326\n",
       "0      197\n",
       "6      105\n",
       "7       59\n",
       "8       12\n",
       "9        8\n",
       "10       3\n",
       "11       2\n",
       "14       2\n",
       "19       1\n",
       "16       1\n",
       "12       1\n",
       "15       1\n",
       "Name: rooms, dtype: int64"
      ]
     },
     "execution_count": 52,
     "metadata": {},
     "output_type": "execute_result"
    }
   ],
   "source": [
    "data['rooms'].value_counts()"
   ]
  },
  {
   "cell_type": "code",
   "execution_count": 53,
   "metadata": {
    "scrolled": true
   },
   "outputs": [
    {
     "data": {
      "text/plain": [
       "total_images                   59\n",
       "last_price                     59\n",
       "total_area                     59\n",
       "first_day_exposition           59\n",
       "rooms                          59\n",
       "ceiling_height                 59\n",
       "floors_total                   59\n",
       "living_area                    59\n",
       "floor                          59\n",
       "is_apartment                   59\n",
       "studio                         59\n",
       "open_plan                      59\n",
       "kitchen_area                   59\n",
       "balcony                        59\n",
       "locality_name                  59\n",
       "airports_nearest               31\n",
       "cityCenters_nearest            31\n",
       "parks_around3000               59\n",
       "parks_nearest                   9\n",
       "ponds_around3000               59\n",
       "ponds_nearest                  21\n",
       "days_exposition                59\n",
       "price_square_meter             59\n",
       "weekday_exposition             59\n",
       "month_exposition               59\n",
       "year_exposition                59\n",
       "flat_floor                     59\n",
       "relation_living_total_area     59\n",
       "relation_kitchen_total_area    59\n",
       "dtype: int64"
      ]
     },
     "execution_count": 53,
     "metadata": {},
     "output_type": "execute_result"
    }
   ],
   "source": [
    "data[data['rooms'] == 0]\n",
    "data[(data['rooms'] == 0) & (data['studio'] == True)].count()\n",
    "data[(data['rooms'] == 0) & (data['open_plan'] == True)].count()"
   ]
  },
  {
   "cell_type": "code",
   "execution_count": 54,
   "metadata": {},
   "outputs": [
    {
     "data": {
      "text/plain": [
       "<AxesSubplot:title={'center':'Кол-во комнат'}, ylabel='Frequency'>"
      ]
     },
     "execution_count": 54,
     "metadata": {},
     "output_type": "execute_result"
    },
    {
     "data": {
      "image/png": "[encoded data removed]",
      "text/plain": [
       "<Figure size 504x288 with 1 Axes>"
      ]
     },
     "metadata": {
      "needs_background": "light"
     },
     "output_type": "display_data"
    }
   ],
   "source": [
    "#строим гистограмму\n",
    "data.plot(y = 'rooms', kind = 'hist', title = 'Кол-во комнат', figsize = (7,4), bins = 100, range = (0,10), grid = True)"
   ]
  },
  {
   "cell_type": "markdown",
   "metadata": {},
   "source": [
    "#### Выводы и наблюдения:\n",
    "1. В основной своей массе в проджу выставлены 1 и 2-х комнатные квартиры. Это видно на гистограмме.\n",
    "2. Судя по гистограмме - распределение Пуассона, это говорит о том, что каких-то явных аномалий в этих показателях нет.\n",
    "3. Есть 197 квартир без комнат. Это студии и квартиры с открытой планировкой. \n",
    "4. Квартиры, где больше 7 комнат - большая редкость."
   ]
  },
  {
   "cell_type": "markdown",
   "metadata": {},
   "source": [
    "### Анализ высоты потолков квартир"
   ]
  },
  {
   "cell_type": "code",
   "execution_count": 55,
   "metadata": {},
   "outputs": [
    {
     "data": {
      "text/plain": [
       "count    23699.000000\n",
       "mean         2.724358\n",
       "std          0.988298\n",
       "min          1.000000\n",
       "25%          2.600000\n",
       "50%          2.650000\n",
       "75%          2.700000\n",
       "max        100.000000\n",
       "Name: ceiling_height, dtype: float64"
      ]
     },
     "execution_count": 55,
     "metadata": {},
     "output_type": "execute_result"
    }
   ],
   "source": [
    "data['ceiling_height'].describe()"
   ]
  },
  {
   "cell_type": "code",
   "execution_count": 56,
   "metadata": {},
   "outputs": [
    {
     "data": {
      "text/plain": [
       "2.65     9871\n",
       "2.50     3515\n",
       "2.60     1646\n",
       "2.70     1574\n",
       "3.00     1112\n",
       "         ... \n",
       "4.25        1\n",
       "3.39        1\n",
       "3.93        1\n",
       "10.30       1\n",
       "4.65        1\n",
       "Name: ceiling_height, Length: 183, dtype: int64"
      ]
     },
     "execution_count": 56,
     "metadata": {},
     "output_type": "execute_result"
    }
   ],
   "source": [
    "data['ceiling_height'].value_counts()"
   ]
  },
  {
   "cell_type": "code",
   "execution_count": 57,
   "metadata": {},
   "outputs": [
    {
     "data": {
      "text/plain": [
       "<AxesSubplot:title={'center':'Высота потолков'}, ylabel='Frequency'>"
      ]
     },
     "execution_count": 57,
     "metadata": {},
     "output_type": "execute_result"
    },
    {
     "data": {
      "image/png": "[encoded data removed]",
      "text/plain": [
       "<Figure size 504x288 with 1 Axes>"
      ]
     },
     "metadata": {
      "needs_background": "light"
     },
     "output_type": "display_data"
    }
   ],
   "source": [
    "#строим гистограмму\n",
    "data.plot(y = 'ceiling_height', kind = 'hist', title = 'Высота потолков', figsize = (7,4), bins = 50, range = (0,6), grid = True)"
   ]
  },
  {
   "cell_type": "markdown",
   "metadata": {},
   "source": [
    "#### Выводы и наблюдения:\n",
    "1. В подавляющем большинстве высота потолков стандартная - не ниже 2,5 метров.\n",
    "2. Судя по гистограмме - распределение Пуассона, это говорит о том, что каких-то явных аномалий в этих показателях нет.\n",
    "3. Потолки меньше 2,5 метров и больше 3,5 метров очень редки."
   ]
  },
  {
   "cell_type": "markdown",
   "metadata": {},
   "source": [
    "### Далее изучим время продажи квартир. Опишем, сколько обычно занимает продажа. Когда можно считать, что продажи прошли очень быстро, а когда необычно долго?"
   ]
  },
  {
   "cell_type": "code",
   "execution_count": 62,
   "metadata": {},
   "outputs": [
    {
     "data": {
      "text/plain": [
       "count    23699.000000\n",
       "mean       169.360226\n",
       "std        206.535633\n",
       "min          1.000000\n",
       "25%         45.000000\n",
       "50%         95.000000\n",
       "75%        199.000000\n",
       "max       1580.000000\n",
       "Name: days_exposition, dtype: float64"
      ]
     },
     "execution_count": 62,
     "metadata": {},
     "output_type": "execute_result"
    }
   ],
   "source": [
    "data['days_exposition'].describe()"
   ]
  },
  {
   "cell_type": "code",
   "execution_count": 63,
   "metadata": {},
   "outputs": [
    {
     "data": {
      "text/plain": [
       "95      3245\n",
       "45       880\n",
       "60       538\n",
       "7        234\n",
       "30       208\n",
       "        ... \n",
       "1112       1\n",
       "1080       1\n",
       "1064       1\n",
       "1032       1\n",
       "1391       1\n",
       "Name: days_exposition, Length: 1141, dtype: int64"
      ]
     },
     "execution_count": 63,
     "metadata": {},
     "output_type": "execute_result"
    }
   ],
   "source": [
    "data['days_exposition'].value_counts()"
   ]
  },
  {
   "cell_type": "code",
   "execution_count": 64,
   "metadata": {},
   "outputs": [
    {
     "data": {
      "text/plain": [
       "array([[<AxesSubplot:title={'center':'days_exposition'}>]], dtype=object)"
      ]
     },
     "execution_count": 64,
     "metadata": {},
     "output_type": "execute_result"
    },
    {
     "data": {
      "image/png": "[encoded data removed]",
      "text/plain": [
       "<Figure size 432x288 with 1 Axes>"
      ]
     },
     "metadata": {
      "needs_background": "light"
     },
     "output_type": "display_data"
    }
   ],
   "source": [
    "#строим гистограмму\n",
    "data.hist('days_exposition', bins = 150, range = (0,700), grid = True)\n"
   ]
  },
  {
   "cell_type": "code",
   "execution_count": 65,
   "metadata": {},
   "outputs": [
    {
     "data": {
      "text/plain": [
       "total_images                   1749\n",
       "last_price                     1749\n",
       "total_area                     1749\n",
       "first_day_exposition           1749\n",
       "rooms                          1749\n",
       "ceiling_height                 1749\n",
       "floors_total                   1749\n",
       "living_area                    1749\n",
       "floor                          1749\n",
       "is_apartment                   1749\n",
       "studio                         1749\n",
       "open_plan                      1749\n",
       "kitchen_area                   1749\n",
       "balcony                        1749\n",
       "locality_name                  1744\n",
       "airports_nearest               1391\n",
       "cityCenters_nearest            1390\n",
       "parks_around3000               1749\n",
       "parks_nearest                   682\n",
       "ponds_around3000               1749\n",
       "ponds_nearest                   782\n",
       "days_exposition                1749\n",
       "price_square_meter             1749\n",
       "weekday_exposition             1749\n",
       "month_exposition               1749\n",
       "year_exposition                1749\n",
       "flat_floor                     1749\n",
       "relation_living_total_area     1749\n",
       "relation_kitchen_total_area    1749\n",
       "dtype: int64"
      ]
     },
     "execution_count": 65,
     "metadata": {},
     "output_type": "execute_result"
    }
   ],
   "source": [
    "data[data['days_exposition'] > 500].count()"
   ]
  },
  {
   "cell_type": "markdown",
   "metadata": {},
   "source": [
    "#### Выводы и наблюдения:\n",
    "1. В большинстве случаев квартиры продаются за 95 дней, что совпадает с медианой. \n",
    "2. Среднеарифметическое значение равно 169 дней, что почти в 2 раза превышает медиану.\n",
    "3. Если квартира продана за 1-1,5 месяца - можно сказать, что сделка прошла быстро.\n",
    "4. Если квартира не продается более 7 месяцев, то это долго.\n",
    "5. Если квартира в продаже дольше 500 дней, то этими данными можно принебречь впоследствии из-за их несущественности."
   ]
  },
  {
   "cell_type": "markdown",
   "metadata": {},
   "source": [
    "### Уберем редкие и выбивающиеся значения. Опишем, какие особенности обнаружили."
   ]
  },
  {
   "cell_type": "code",
   "execution_count": 66,
   "metadata": {},
   "outputs": [],
   "source": [
    "good_data = data.query('total_area > 20 and total_area < 300 and last_price > 1000000 and last_price < 15000000 and rooms <= 7 and ceiling_height > 2.5 and ceiling_height < 3.5 and days_exposition < 500')"
   ]
  },
  {
   "cell_type": "code",
   "execution_count": 67,
   "metadata": {},
   "outputs": [
    {
     "name": "stdout",
     "output_type": "stream",
     "text": [
      "<class 'pandas.core.frame.DataFrame'>\n",
      "Int64Index: 17032 entries, 0 to 23696\n",
      "Data columns (total 29 columns):\n",
      " #   Column                       Non-Null Count  Dtype         \n",
      "---  ------                       --------------  -----         \n",
      " 0   total_images                 17032 non-null  int64         \n",
      " 1   last_price                   17032 non-null  float64       \n",
      " 2   total_area                   17032 non-null  float64       \n",
      " 3   first_day_exposition         17032 non-null  datetime64[ns]\n",
      " 4   rooms                        17032 non-null  int64         \n",
      " 5   ceiling_height               17032 non-null  float64       \n",
      " 6   floors_total                 17032 non-null  int64         \n",
      " 7   living_area                  17032 non-null  float64       \n",
      " 8   floor                        17032 non-null  int64         \n",
      " 9   is_apartment                 17032 non-null  bool          \n",
      " 10  studio                       17032 non-null  bool          \n",
      " 11  open_plan                    17032 non-null  bool          \n",
      " 12  kitchen_area                 17032 non-null  float64       \n",
      " 13  balcony                      17032 non-null  int64         \n",
      " 14  locality_name                16993 non-null  object        \n",
      " 15  airports_nearest             13078 non-null  float64       \n",
      " 16  cityCenters_nearest          13032 non-null  float64       \n",
      " 17  parks_around3000             17032 non-null  int64         \n",
      " 18  parks_nearest                5434 non-null   float64       \n",
      " 19  ponds_around3000             17032 non-null  int64         \n",
      " 20  ponds_nearest                6430 non-null   float64       \n",
      " 21  days_exposition              17032 non-null  int64         \n",
      " 22  price_square_meter           17032 non-null  int64         \n",
      " 23  weekday_exposition           17032 non-null  int64         \n",
      " 24  month_exposition             17032 non-null  int64         \n",
      " 25  year_exposition              17032 non-null  int64         \n",
      " 26  flat_floor                   17032 non-null  object        \n",
      " 27  relation_living_total_area   17032 non-null  float64       \n",
      " 28  relation_kitchen_total_area  17032 non-null  float64       \n",
      "dtypes: bool(3), datetime64[ns](1), float64(11), int64(12), object(2)\n",
      "memory usage: 3.6+ MB\n"
     ]
    }
   ],
   "source": [
    "good_data.info()"
   ]
  },
  {
   "cell_type": "markdown",
   "metadata": {},
   "source": [
    "#### Промежуточный итог:\n",
    "Были удалены такие редкие значения как:\n",
    "1. Квартиры с общей площадью меньше 20 и больше 300 кв. метров;\n",
    "2. Квартиры стоимостью меньше 1 млн. руб. и больше 15 млн. рублей;\n",
    "3. Квартиры, где болльше 7 комнат (аномальное значение 19 комнат);\n",
    "4. Квартиры с высотой потолков ниже 2,5 и выше 3,5 метров (среди удаленных данных были аномальные значения 1 и 100 метров);\n",
    "5. Квартиры, которые продавались дольше 500 дней.\n",
    "Вышеперечисленные данные были удалены, чтобы избавиться от редких и аномальных значений.\n",
    "    "
   ]
  },
  {
   "cell_type": "markdown",
   "metadata": {},
   "source": [
    "## Исследуем факторы, которые больше всего влияют на стоимость квартиры? Изучим, зависит ли цена от площади, числа комнат, удалённости от центра. Изучим зависимость цены от того, на каком этаже расположена квартира: первом, последнем или другом. Также изучим зависимость от даты размещения: дня недели, месяца и года."
   ]
  },
  {
   "cell_type": "code",
   "execution_count": 68,
   "metadata": {},
   "outputs": [
    {
     "data": {
      "text/plain": [
       "<AxesSubplot:xlabel='last_price', ylabel='total_area'>"
      ]
     },
     "execution_count": 68,
     "metadata": {},
     "output_type": "execute_result"
    },
    {
     "data": {
      "image/png": "[encoded data removed]",
      "text/plain": [
       "<Figure size 432x288 with 1 Axes>"
      ]
     },
     "metadata": {
      "needs_background": "light"
     },
     "output_type": "display_data"
    }
   ],
   "source": [
    "#изучаем зависимость цены на квартиру от площади \n",
    "good_data['last_price'].corr(good_data['total_area']) # коэффциент Пирсона - 0,75\n",
    "good_data.plot(x='last_price', y = 'total_area', kind = 'scatter', alpha = 0.5)"
   ]
  },
  {
   "cell_type": "markdown",
   "metadata": {},
   "source": [
    "Вывод: есть довольно сильная взаимосвязь между стоимостью квартиры и общей площадью. С увеличение площади растет и цена квартиры."
   ]
  },
  {
   "cell_type": "code",
   "execution_count": 69,
   "metadata": {},
   "outputs": [
    {
     "data": {
      "text/plain": [
       "-0.02903385449817463"
      ]
     },
     "execution_count": 69,
     "metadata": {},
     "output_type": "execute_result"
    }
   ],
   "source": [
    "#изучаем зависимость стоимости квадратного метра от площади \n",
    "good_data['price_square_meter'].corr(good_data['total_area']) # коэффциент Пирсона - 0"
   ]
  },
  {
   "cell_type": "markdown",
   "metadata": {},
   "source": [
    "Вывод: стоимость квадратного метра не зависит от общей площади."
   ]
  },
  {
   "cell_type": "code",
   "execution_count": 70,
   "metadata": {},
   "outputs": [
    {
     "data": {
      "text/plain": [
       "<AxesSubplot:xlabel='last_price', ylabel='rooms'>"
      ]
     },
     "execution_count": 70,
     "metadata": {},
     "output_type": "execute_result"
    },
    {
     "data": {
      "image/png": "[encoded data removed]",
      "text/plain": [
       "<Figure size 432x288 with 1 Axes>"
      ]
     },
     "metadata": {
      "needs_background": "light"
     },
     "output_type": "display_data"
    }
   ],
   "source": [
    "#изучаем зависимость цены на квартиру от количества комнат \n",
    "good_data['last_price'].corr(good_data['rooms']) # коэффциент Пирсона - 0,5\n",
    "good_data.plot(x='last_price', y = 'rooms', kind = 'scatter', alpha = 0.5)"
   ]
  },
  {
   "cell_type": "code",
   "execution_count": 71,
   "metadata": {},
   "outputs": [
    {
     "data": {
      "text/plain": [
       "<AxesSubplot:xlabel='rooms'>"
      ]
     },
     "execution_count": 71,
     "metadata": {},
     "output_type": "execute_result"
    },
    {
     "data": {
      "image/png": "[encoded data removed]",
      "text/plain": [
       "<Figure size 432x288 with 1 Axes>"
      ]
     },
     "metadata": {
      "needs_background": "light"
     },
     "output_type": "display_data"
    }
   ],
   "source": [
    "total_price_rooms = good_data.pivot_table(index = 'rooms', values = 'last_price', aggfunc = ['median'])\n",
    "total_price_rooms.plot()"
   ]
  },
  {
   "cell_type": "markdown",
   "metadata": {},
   "source": [
    "Вывод: стоимость квартиры напрямую зависит от числа комнат. Чем больше комнат, тем выше цена. От 0 до 4 комнат более пологая зависимость, с 4 до 6 комнат сстоимость квартиры еще сильнее меняется в сторону увеличения, а после 6 комнат зависимость практически несущественна."
   ]
  },
  {
   "cell_type": "code",
   "execution_count": 72,
   "metadata": {},
   "outputs": [
    {
     "data": {
      "text/plain": [
       "<AxesSubplot:xlabel='price_square_meter', ylabel='rooms'>"
      ]
     },
     "execution_count": 72,
     "metadata": {},
     "output_type": "execute_result"
    },
    {
     "data": {
      "image/png": "[encoded data removed]",
      "text/plain": [
       "<Figure size 432x288 with 1 Axes>"
      ]
     },
     "metadata": {
      "needs_background": "light"
     },
     "output_type": "display_data"
    }
   ],
   "source": [
    "#изучаем зависимость стоимости квадратного метра от количества комнат \n",
    "good_data['price_square_meter'].corr(good_data['rooms']) # коэффциент Пирсона - -0,2\n",
    "good_data.plot(x='price_square_meter', y = 'rooms', kind = 'scatter', alpha = 0.5)"
   ]
  },
  {
   "cell_type": "code",
   "execution_count": 73,
   "metadata": {},
   "outputs": [
    {
     "data": {
      "text/plain": [
       "<AxesSubplot:xlabel='rooms'>"
      ]
     },
     "execution_count": 73,
     "metadata": {},
     "output_type": "execute_result"
    },
    {
     "data": {
      "image/png": "[encoded data removed]",
      "text/plain": [
       "<Figure size 432x288 with 1 Axes>"
      ]
     },
     "metadata": {
      "needs_background": "light"
     },
     "output_type": "display_data"
    }
   ],
   "source": [
    "square_price_rooms = good_data.pivot_table(index = 'rooms', values = 'price_square_meter', aggfunc = ['median'])\n",
    "square_price_rooms.plot()"
   ]
  },
  {
   "cell_type": "markdown",
   "metadata": {},
   "source": [
    "Вывод: стоимость квадратного метра обратнопрпорционально количеству комнат в квартире. Чем меньше комнат, тем дороже квадратный метр. "
   ]
  },
  {
   "cell_type": "code",
   "execution_count": 74,
   "metadata": {},
   "outputs": [
    {
     "data": {
      "text/plain": [
       "<AxesSubplot:xlabel='last_price', ylabel='cityCenters_nearest'>"
      ]
     },
     "execution_count": 74,
     "metadata": {},
     "output_type": "execute_result"
    },
    {
     "data": {
      "image/png": "[encoded data removed]",
      "text/plain": [
       "<Figure size 432x288 with 1 Axes>"
      ]
     },
     "metadata": {
      "needs_background": "light"
     },
     "output_type": "display_data"
    }
   ],
   "source": [
    "#изучаем зависимость цены на квартиру от параметра удаленности от центра \n",
    "good_data['last_price'].corr(good_data['cityCenters_nearest']) # коэффциент Пирсона - -0,34\n",
    "good_data.plot(x='last_price', y = 'cityCenters_nearest', kind = 'scatter', alpha = 0.5)"
   ]
  },
  {
   "cell_type": "code",
   "execution_count": 75,
   "metadata": {},
   "outputs": [
    {
     "data": {
      "text/html": [
       "<div>\n",
       "<style scoped>\n",
       "    .dataframe tbody tr th:only-of-type {\n",
       "        vertical-align: middle;\n",
       "    }\n",
       "\n",
       "    .dataframe tbody tr th {\n",
       "        vertical-align: top;\n",
       "    }\n",
       "\n",
       "    .dataframe thead tr th {\n",
       "        text-align: left;\n",
       "    }\n",
       "\n",
       "    .dataframe thead tr:last-of-type th {\n",
       "        text-align: right;\n",
       "    }\n",
       "</style>\n",
       "<table border=\"1\" class=\"dataframe\">\n",
       "  <thead>\n",
       "    <tr>\n",
       "      <th></th>\n",
       "      <th>median</th>\n",
       "    </tr>\n",
       "    <tr>\n",
       "      <th></th>\n",
       "      <th>last_price</th>\n",
       "    </tr>\n",
       "    <tr>\n",
       "      <th>cityCenters_nearest</th>\n",
       "      <th></th>\n",
       "    </tr>\n",
       "  </thead>\n",
       "  <tbody>\n",
       "    <tr>\n",
       "      <th>287.0</th>\n",
       "      <td>9590000.0</td>\n",
       "    </tr>\n",
       "    <tr>\n",
       "      <th>329.0</th>\n",
       "      <td>7200000.0</td>\n",
       "    </tr>\n",
       "    <tr>\n",
       "      <th>387.0</th>\n",
       "      <td>13500000.0</td>\n",
       "    </tr>\n",
       "    <tr>\n",
       "      <th>399.0</th>\n",
       "      <td>7200000.0</td>\n",
       "    </tr>\n",
       "    <tr>\n",
       "      <th>410.0</th>\n",
       "      <td>8000000.0</td>\n",
       "    </tr>\n",
       "    <tr>\n",
       "      <th>...</th>\n",
       "      <td>...</td>\n",
       "    </tr>\n",
       "    <tr>\n",
       "      <th>59052.0</th>\n",
       "      <td>4250000.0</td>\n",
       "    </tr>\n",
       "    <tr>\n",
       "      <th>59626.0</th>\n",
       "      <td>2300000.0</td>\n",
       "    </tr>\n",
       "    <tr>\n",
       "      <th>60223.0</th>\n",
       "      <td>1800000.0</td>\n",
       "    </tr>\n",
       "    <tr>\n",
       "      <th>61495.0</th>\n",
       "      <td>3200000.0</td>\n",
       "    </tr>\n",
       "    <tr>\n",
       "      <th>62706.0</th>\n",
       "      <td>3600000.0</td>\n",
       "    </tr>\n",
       "  </tbody>\n",
       "</table>\n",
       "<p>6084 rows × 1 columns</p>\n",
       "</div>"
      ],
      "text/plain": [
       "                         median\n",
       "                     last_price\n",
       "cityCenters_nearest            \n",
       "287.0                 9590000.0\n",
       "329.0                 7200000.0\n",
       "387.0                13500000.0\n",
       "399.0                 7200000.0\n",
       "410.0                 8000000.0\n",
       "...                         ...\n",
       "59052.0               4250000.0\n",
       "59626.0               2300000.0\n",
       "60223.0               1800000.0\n",
       "61495.0               3200000.0\n",
       "62706.0               3600000.0\n",
       "\n",
       "[6084 rows x 1 columns]"
      ]
     },
     "execution_count": 75,
     "metadata": {},
     "output_type": "execute_result"
    }
   ],
   "source": [
    "total_price_cityCenters = good_data.pivot_table(index = 'cityCenters_nearest', values = 'last_price', aggfunc = ['median'])\n",
    "total_price_cityCenters"
   ]
  },
  {
   "cell_type": "markdown",
   "metadata": {},
   "source": [
    "Вывод: стоимость квартиры обратнопрпорционально удаленности от центра. Чем меньше расстояние от центра, тем дороже квартира."
   ]
  },
  {
   "cell_type": "code",
   "execution_count": 76,
   "metadata": {},
   "outputs": [
    {
     "data": {
      "text/plain": [
       "<AxesSubplot:xlabel='price_square_meter', ylabel='cityCenters_nearest'>"
      ]
     },
     "execution_count": 76,
     "metadata": {},
     "output_type": "execute_result"
    },
    {
     "data": {
      "image/png": "[encoded data removed]",
      "text/plain": [
       "<Figure size 432x288 with 1 Axes>"
      ]
     },
     "metadata": {
      "needs_background": "light"
     },
     "output_type": "display_data"
    }
   ],
   "source": [
    "#изучаем зависимость стоимости квадратного метра от удаленности от центра \n",
    "good_data['price_square_meter'].corr(good_data['cityCenters_nearest']) # коэффциент Пирсона - -0,38\n",
    "good_data.plot(x='price_square_meter', y = 'cityCenters_nearest', kind = 'scatter', alpha = 0.5)"
   ]
  },
  {
   "cell_type": "markdown",
   "metadata": {},
   "source": [
    "Вывод: стоимость кв. метра обратнопрпорционально удаленности от центра. Чем меньше расстояние от центра, тем дороже кв. метр."
   ]
  },
  {
   "cell_type": "code",
   "execution_count": 77,
   "metadata": {},
   "outputs": [
    {
     "data": {
      "text/plain": [
       "<AxesSubplot:xlabel='flat_floor'>"
      ]
     },
     "execution_count": 77,
     "metadata": {},
     "output_type": "execute_result"
    },
    {
     "data": {
      "image/png": "[encoded data removed]",
      "text/plain": [
       "<Figure size 432x288 with 1 Axes>"
      ]
     },
     "metadata": {
      "needs_background": "light"
     },
     "output_type": "display_data"
    }
   ],
   "source": [
    "#изучаем зависимость цены на квартиру от этажа \n",
    "total_price_floor = good_data.pivot_table(index = 'flat_floor', values = 'last_price', aggfunc = ['median'])\n",
    "total_price_floor.plot()"
   ]
  },
  {
   "cell_type": "markdown",
   "metadata": {},
   "source": [
    "Вывод: цена на квартиру зависит от этажа. \n",
    "1. на первых этажах самые низкие цены;\n",
    "2. на последнем этаже квартиры дороже в реднем на 7%, чем на первом;\n",
    "3. на других этажах квартиры дороже на 17% чем на 1-ом и на 10% чем на последнем."
   ]
  },
  {
   "cell_type": "code",
   "execution_count": 79,
   "metadata": {},
   "outputs": [
    {
     "data": {
      "text/plain": [
       "<AxesSubplot:xlabel='weekday_exposition'>"
      ]
     },
     "execution_count": 79,
     "metadata": {},
     "output_type": "execute_result"
    },
    {
     "data": {
      "image/png": "[encoded data removed]",
      "text/plain": [
       "<Figure size 432x288 with 1 Axes>"
      ]
     },
     "metadata": {
      "needs_background": "light"
     },
     "output_type": "display_data"
    }
   ],
   "source": [
    "#изучаем зависимость цены на квартиру от дня недели размещения объявления \n",
    "total_price_weekday = good_data.pivot_table(index = 'weekday_exposition', values = 'last_price', aggfunc = ['median'])\n",
    "total_price_weekday.plot()"
   ]
  },
  {
   "cell_type": "markdown",
   "metadata": {},
   "source": [
    "Вывод: самые дорогие квартиры выставляют в начале недели, во вторник даже немного дороже, чем в понедельник. Затем ближе к концу недели цены незначительно, но падают. Видимо это связано с активностью людей в первые два дня недели, а потом среда пришла неделя прошла."
   ]
  },
  {
   "cell_type": "code",
   "execution_count": 80,
   "metadata": {},
   "outputs": [
    {
     "data": {
      "text/plain": [
       "<AxesSubplot:xlabel='month_exposition'>"
      ]
     },
     "execution_count": 80,
     "metadata": {},
     "output_type": "execute_result"
    },
    {
     "data": {
      "image/png": "[encoded data removed]",
      "text/plain": [
       "<Figure size 432x288 with 1 Axes>"
      ]
     },
     "metadata": {
      "needs_background": "light"
     },
     "output_type": "display_data"
    }
   ],
   "source": [
    "#изучаем зависимость цены на квартиру от месяца размещения объявления \n",
    "total_price_month = good_data.pivot_table(index = 'month_exposition', values = 'last_price', aggfunc = ['median'])\n",
    "total_price_month.plot()"
   ]
  },
  {
   "cell_type": "markdown",
   "metadata": {},
   "source": [
    "Вывод: если смотреть на график, то в принципе рынок более менее стабилен, но проседает примерно на 10% с мая (майские праздники, все отдыхают) по конец июня (все в отпусках)."
   ]
  },
  {
   "cell_type": "code",
   "execution_count": 81,
   "metadata": {},
   "outputs": [
    {
     "data": {
      "text/plain": [
       "<AxesSubplot:xlabel='year_exposition'>"
      ]
     },
     "execution_count": 81,
     "metadata": {},
     "output_type": "execute_result"
    },
    {
     "data": {
      "image/png": "[encoded data removed]",
      "text/plain": [
       "<Figure size 432x288 with 1 Axes>"
      ]
     },
     "metadata": {
      "needs_background": "light"
     },
     "output_type": "display_data"
    }
   ],
   "source": [
    "#изучаем зависимость цены на квартиру от года размещения объявления \n",
    "total_price_year = good_data.pivot_table(index = 'year_exposition', values = 'last_price', aggfunc = ['median'])\n",
    "total_price_year.plot()"
   ]
  },
  {
   "cell_type": "code",
   "execution_count": 82,
   "metadata": {},
   "outputs": [
    {
     "data": {
      "text/plain": [
       "<AxesSubplot:xlabel='year_exposition'>"
      ]
     },
     "execution_count": 82,
     "metadata": {},
     "output_type": "execute_result"
    },
    {
     "data": {
      "image/png": "[encoded data removed]",
      "text/plain": [
       "<Figure size 432x288 with 1 Axes>"
      ]
     },
     "metadata": {
      "needs_background": "light"
     },
     "output_type": "display_data"
    }
   ],
   "source": [
    "#изучаем зависимость цены за кв. метр от года размещения объявления \n",
    "square_price_year = good_data.pivot_table(index = 'year_exposition', values = ['price_square_meter'], aggfunc = ['median'])\n",
    "square_price_year.plot()"
   ]
  },
  {
   "cell_type": "code",
   "execution_count": 83,
   "metadata": {},
   "outputs": [
    {
     "data": {
      "text/plain": [
       "<AxesSubplot:xlabel='year_exposition'>"
      ]
     },
     "execution_count": 83,
     "metadata": {},
     "output_type": "execute_result"
    },
    {
     "data": {
      "image/png": "[encoded data removed]",
      "text/plain": [
       "<Figure size 432x288 with 1 Axes>"
      ]
     },
     "metadata": {
      "needs_background": "light"
     },
     "output_type": "display_data"
    }
   ],
   "source": [
    "#изучаем зависимость площади продаваемых квартир от года размещения объявления \n",
    "area_year = good_data.pivot_table(index = 'year_exposition', values = ['total_area'], aggfunc = ['median'])\n",
    "area_year.plot()"
   ]
  },
  {
   "cell_type": "markdown",
   "metadata": {},
   "source": [
    "Вывод: в целом стоимость квартир упала после 2014 года, к этому привели резкое удешевление квадратного метра."
   ]
  },
  {
   "cell_type": "code",
   "execution_count": 84,
   "metadata": {},
   "outputs": [
    {
     "data": {
      "text/html": [
       "<div>\n",
       "<style scoped>\n",
       "    .dataframe tbody tr th:only-of-type {\n",
       "        vertical-align: middle;\n",
       "    }\n",
       "\n",
       "    .dataframe tbody tr th {\n",
       "        vertical-align: top;\n",
       "    }\n",
       "\n",
       "    .dataframe thead th {\n",
       "        text-align: right;\n",
       "    }\n",
       "</style>\n",
       "<table border=\"1\" class=\"dataframe\">\n",
       "  <thead>\n",
       "    <tr style=\"text-align: right;\">\n",
       "      <th></th>\n",
       "      <th>count</th>\n",
       "      <th>median</th>\n",
       "    </tr>\n",
       "    <tr>\n",
       "      <th>locality_name</th>\n",
       "      <th></th>\n",
       "      <th></th>\n",
       "    </tr>\n",
       "  </thead>\n",
       "  <tbody>\n",
       "    <tr>\n",
       "      <th>Санкт-Петербург</th>\n",
       "      <td>11202</td>\n",
       "      <td>103935.0</td>\n",
       "    </tr>\n",
       "    <tr>\n",
       "      <th>посёлок Мурино</th>\n",
       "      <td>480</td>\n",
       "      <td>86249.5</td>\n",
       "    </tr>\n",
       "    <tr>\n",
       "      <th>посёлок Шушары</th>\n",
       "      <td>389</td>\n",
       "      <td>76584.0</td>\n",
       "    </tr>\n",
       "    <tr>\n",
       "      <th>Всеволожск</th>\n",
       "      <td>332</td>\n",
       "      <td>65789.0</td>\n",
       "    </tr>\n",
       "    <tr>\n",
       "      <th>посёлок Парголово</th>\n",
       "      <td>298</td>\n",
       "      <td>91579.0</td>\n",
       "    </tr>\n",
       "    <tr>\n",
       "      <th>деревня Кудрово</th>\n",
       "      <td>264</td>\n",
       "      <td>92044.5</td>\n",
       "    </tr>\n",
       "    <tr>\n",
       "      <th>Пушкин</th>\n",
       "      <td>243</td>\n",
       "      <td>100000.0</td>\n",
       "    </tr>\n",
       "    <tr>\n",
       "      <th>Колпино</th>\n",
       "      <td>224</td>\n",
       "      <td>74689.5</td>\n",
       "    </tr>\n",
       "    <tr>\n",
       "      <th>Гатчина</th>\n",
       "      <td>215</td>\n",
       "      <td>67924.0</td>\n",
       "    </tr>\n",
       "    <tr>\n",
       "      <th>Выборг</th>\n",
       "      <td>170</td>\n",
       "      <td>57753.5</td>\n",
       "    </tr>\n",
       "  </tbody>\n",
       "</table>\n",
       "</div>"
      ],
      "text/plain": [
       "                   count    median\n",
       "locality_name                     \n",
       "Санкт-Петербург    11202  103935.0\n",
       "посёлок Мурино       480   86249.5\n",
       "посёлок Шушары       389   76584.0\n",
       "Всеволожск           332   65789.0\n",
       "посёлок Парголово    298   91579.0\n",
       "деревня Кудрово      264   92044.5\n",
       "Пушкин               243  100000.0\n",
       "Колпино              224   74689.5\n",
       "Гатчина              215   67924.0\n",
       "Выборг               170   57753.5"
      ]
     },
     "execution_count": 84,
     "metadata": {},
     "output_type": "execute_result"
    }
   ],
   "source": [
    "locality_name_data = good_data.pivot_table(index = 'locality_name', values = 'price_square_meter', aggfunc = ['count', 'median'])\n",
    "locality_name_data.columns = ['count', 'median']\n",
    "locality_name_data.sort_values(by = 'count', ascending = False).head(10)"
   ]
  },
  {
   "cell_type": "markdown",
   "metadata": {},
   "source": [
    "Вывод: самое дорогое жилье находится в Санкт-Петербурге, а на 10 месте - Выборг."
   ]
  },
  {
   "cell_type": "markdown",
   "metadata": {},
   "source": [
    "### Изучим предложения квартир: для каждой квартиры есть информация о расстоянии до центра. Выделим квартиры в Санкт-Петербурге (locality_name). Задача — выяснить, какая область входит в центр. "
   ]
  },
  {
   "cell_type": "code",
   "execution_count": 86,
   "metadata": {
    "scrolled": true
   },
   "outputs": [
    {
     "data": {
      "text/plain": [
       "<AxesSubplot:xlabel='cityCenters_nearest_km'>"
      ]
     },
     "execution_count": 86,
     "metadata": {},
     "output_type": "execute_result"
    },
    {
     "data": {
      "image/png": "[encoded data removed]",
      "text/plain": [
       "<Figure size 432x288 with 1 Axes>"
      ]
     },
     "metadata": {
      "needs_background": "light"
     },
     "output_type": "display_data"
    }
   ],
   "source": [
    "import warnings\n",
    "warnings.filterwarnings('ignore')\n",
    "spb = good_data.loc[good_data['locality_name'] == 'Санкт-Петербург']\n",
    "spb['cityCenters_nearest_km'] = spb['cityCenters_nearest'] / 1000\n",
    "spb['cityCenters_nearest_km'] = spb['cityCenters_nearest_km'].fillna(spb['cityCenters_nearest_km'].median())\n",
    "spb['cityCenters_nearest_km'] = spb['cityCenters_nearest_km'].astype('int')\n",
    "spb_center = spb.pivot_table(index='cityCenters_nearest_km', values='last_price', aggfunc='median')\n",
    "spb_center.plot()"
   ]
  },
  {
   "cell_type": "markdown",
   "metadata": {},
   "source": [
    "Вывод: судя по графику центром можно считать район радиусом 6 км. "
   ]
  },
  {
   "cell_type": "markdown",
   "metadata": {},
   "source": [
    "Выделите сегмент квартир в центре. Проанализируйте эту территорию и изучите следующие параметры: площадь, цена, число комнат, высота потолков. Также выделите факторы, которые влияют на стоимость квартиры (число комнат, этаж, удалённость от центра, дата размещения объявления). Сделайте выводы. Отличаются ли они от общих выводов по всей базе?"
   ]
  },
  {
   "cell_type": "code",
   "execution_count": 87,
   "metadata": {},
   "outputs": [
    {
     "name": "stdout",
     "output_type": "stream",
     "text": [
      "<class 'pandas.core.frame.DataFrame'>\n",
      "Int64Index: 1931 entries, 24 to 23690\n",
      "Data columns (total 30 columns):\n",
      " #   Column                       Non-Null Count  Dtype         \n",
      "---  ------                       --------------  -----         \n",
      " 0   total_images                 1931 non-null   int64         \n",
      " 1   last_price                   1931 non-null   float64       \n",
      " 2   total_area                   1931 non-null   float64       \n",
      " 3   first_day_exposition         1931 non-null   datetime64[ns]\n",
      " 4   rooms                        1931 non-null   int64         \n",
      " 5   ceiling_height               1931 non-null   float64       \n",
      " 6   floors_total                 1931 non-null   int64         \n",
      " 7   living_area                  1931 non-null   float64       \n",
      " 8   floor                        1931 non-null   int64         \n",
      " 9   is_apartment                 1931 non-null   bool          \n",
      " 10  studio                       1931 non-null   bool          \n",
      " 11  open_plan                    1931 non-null   bool          \n",
      " 12  kitchen_area                 1931 non-null   float64       \n",
      " 13  balcony                      1931 non-null   int64         \n",
      " 14  locality_name                1931 non-null   object        \n",
      " 15  airports_nearest             1931 non-null   float64       \n",
      " 16  cityCenters_nearest          1931 non-null   float64       \n",
      " 17  parks_around3000             1931 non-null   int64         \n",
      " 18  parks_nearest                1229 non-null   float64       \n",
      " 19  ponds_around3000             1931 non-null   int64         \n",
      " 20  ponds_nearest                1374 non-null   float64       \n",
      " 21  days_exposition              1931 non-null   int64         \n",
      " 22  price_square_meter           1931 non-null   int64         \n",
      " 23  weekday_exposition           1931 non-null   int64         \n",
      " 24  month_exposition             1931 non-null   int64         \n",
      " 25  year_exposition              1931 non-null   int64         \n",
      " 26  flat_floor                   1931 non-null   object        \n",
      " 27  relation_living_total_area   1931 non-null   float64       \n",
      " 28  relation_kitchen_total_area  1931 non-null   float64       \n",
      " 29  cityCenters_nearest_km       1931 non-null   int64         \n",
      "dtypes: bool(3), datetime64[ns](1), float64(11), int64(13), object(2)\n",
      "memory usage: 428.1+ KB\n"
     ]
    }
   ],
   "source": [
    "spb_3 = spb[spb['cityCenters_nearest_km'] <= 6] #рассматриваем только центр\n",
    "spb_3.info()"
   ]
  },
  {
   "cell_type": "code",
   "execution_count": 88,
   "metadata": {},
   "outputs": [
    {
     "data": {
      "text/plain": [
       "count    1931.000000\n",
       "mean       72.610570\n",
       "std        28.193142\n",
       "min        20.300000\n",
       "25%        51.380000\n",
       "50%        69.100000\n",
       "75%        87.500000\n",
       "max       255.000000\n",
       "Name: total_area, dtype: float64"
      ]
     },
     "execution_count": 88,
     "metadata": {},
     "output_type": "execute_result"
    }
   ],
   "source": [
    "spb_3['total_area'].describe() #изучаем информацию по площади квартир в Центральном районе СПб"
   ]
  },
  {
   "cell_type": "code",
   "execution_count": 89,
   "metadata": {},
   "outputs": [
    {
     "data": {
      "text/plain": [
       "<AxesSubplot:title={'center':'Площадь'}, ylabel='Frequency'>"
      ]
     },
     "execution_count": 89,
     "metadata": {},
     "output_type": "execute_result"
    },
    {
     "data": {
      "image/png": "[encoded data removed]",
      "text/plain": [
       "<Figure size 504x288 with 1 Axes>"
      ]
     },
     "metadata": {
      "needs_background": "light"
     },
     "output_type": "display_data"
    }
   ],
   "source": [
    "#строим гистограмму\n",
    "spb_3.plot(y = 'total_area', kind = 'hist', title = 'Площадь', figsize = (7,4), bins = 100, range = (0,200), grid = True)"
   ]
  },
  {
   "cell_type": "code",
   "execution_count": 90,
   "metadata": {},
   "outputs": [
    {
     "data": {
      "text/plain": [
       "0.6914928638401013"
      ]
     },
     "execution_count": 90,
     "metadata": {},
     "output_type": "execute_result"
    }
   ],
   "source": [
    "#смотрим корреляцию площади и цены\n",
    "spb_3['total_area'].corr(spb_3['last_price']) # по общим данным этот коэффициент был 0,65"
   ]
  },
  {
   "cell_type": "code",
   "execution_count": 91,
   "metadata": {},
   "outputs": [
    {
     "data": {
      "text/plain": [
       "-0.4440618119519937"
      ]
     },
     "execution_count": 91,
     "metadata": {},
     "output_type": "execute_result"
    }
   ],
   "source": [
    "#смотрим корреляцию площади и стоимости квадратного метра\n",
    "spb_3['total_area'].corr(spb_3['price_square_meter']) # по общим данным этот коэффициент был около 0"
   ]
  },
  {
   "cell_type": "markdown",
   "metadata": {},
   "source": [
    "Выводы:\n",
    "\n",
    "1. В центре в основном продаются квартиры площадью от 60 до 80 кв. метров (по общим данным этот показатель был от 42 до 60 кв. метров).\n",
    "2. Есть прямая взаимосвязь между площадью квартир и стоимостью. С ростом площади растет и цена квартиры. Эта взаимосвязь немного больше чем в общей картине. Но есть и обратная корреляция между стоимостью квадратного метра и площадью, чего не было по общим данным. Чем меньше квартира, тем выше стоимость кв. метра.Очень редко встречаются квартиры меньше 20 кв. метров и больше 200 кв. метров."
   ]
  },
  {
   "cell_type": "code",
   "execution_count": 92,
   "metadata": {},
   "outputs": [
    {
     "data": {
      "text/plain": [
       "count    1.931000e+03\n",
       "mean     8.267550e+06\n",
       "std      2.803545e+06\n",
       "min      1.600000e+06\n",
       "25%      6.200000e+06\n",
       "50%      7.900000e+06\n",
       "75%      1.005400e+07\n",
       "max      1.495000e+07\n",
       "Name: last_price, dtype: float64"
      ]
     },
     "execution_count": 92,
     "metadata": {},
     "output_type": "execute_result"
    }
   ],
   "source": [
    "spb_3['last_price'].describe() #изучаем информацию по площади квартир в Центральном районе СПб"
   ]
  },
  {
   "cell_type": "code",
   "execution_count": 93,
   "metadata": {},
   "outputs": [
    {
     "data": {
      "text/plain": [
       "count      1931.000000\n",
       "mean     119589.012947\n",
       "std       33238.135723\n",
       "min       15345.000000\n",
       "25%       95571.500000\n",
       "50%      113333.000000\n",
       "75%      139271.000000\n",
       "max      387096.000000\n",
       "Name: price_square_meter, dtype: float64"
      ]
     },
     "execution_count": 93,
     "metadata": {},
     "output_type": "execute_result"
    }
   ],
   "source": [
    "spb_3['price_square_meter'].describe()"
   ]
  },
  {
   "cell_type": "code",
   "execution_count": 94,
   "metadata": {},
   "outputs": [
    {
     "data": {
      "text/plain": [
       "<AxesSubplot:title={'center':'Цена'}, ylabel='Frequency'>"
      ]
     },
     "execution_count": 94,
     "metadata": {},
     "output_type": "execute_result"
    },
    {
     "data": {
      "image/png": "[encoded data removed]",
      "text/plain": [
       "<Figure size 504x288 with 1 Axes>"
      ]
     },
     "metadata": {
      "needs_background": "light"
     },
     "output_type": "display_data"
    }
   ],
   "source": [
    "#строим гистограмму для цены квартиры\n",
    "spb_3.plot(y = 'last_price', kind = 'hist', title = 'Цена', figsize = (7,4), bins = 100, range = (0,15000000), grid = True)"
   ]
  },
  {
   "cell_type": "code",
   "execution_count": 95,
   "metadata": {},
   "outputs": [
    {
     "data": {
      "text/plain": [
       "<AxesSubplot:title={'center':'Стоимость кв. м.'}, ylabel='Frequency'>"
      ]
     },
     "execution_count": 95,
     "metadata": {},
     "output_type": "execute_result"
    },
    {
     "data": {
      "image/png": "[encoded data removed]",
      "text/plain": [
       "<Figure size 504x288 with 1 Axes>"
      ]
     },
     "metadata": {
      "needs_background": "light"
     },
     "output_type": "display_data"
    }
   ],
   "source": [
    "#строим гистограмму для стоимости кв. метра\n",
    "spb_3.plot(y = 'price_square_meter', kind = 'hist', title = 'Стоимость кв. м.', figsize = (7,4), bins = 100, range = (0,150000), grid = True)"
   ]
  },
  {
   "cell_type": "code",
   "execution_count": 96,
   "metadata": {},
   "outputs": [
    {
     "data": {
      "text/plain": [
       "8500000.0     40\n",
       "6500000.0     34\n",
       "7500000.0     33\n",
       "8000000.0     32\n",
       "9500000.0     27\n",
       "              ..\n",
       "14250000.0     1\n",
       "10243350.0     1\n",
       "6860000.0      1\n",
       "7807800.0      1\n",
       "5880000.0      1\n",
       "Name: last_price, Length: 591, dtype: int64"
      ]
     },
     "execution_count": 96,
     "metadata": {},
     "output_type": "execute_result"
    }
   ],
   "source": [
    "spb_3['last_price'].value_counts()"
   ]
  },
  {
   "cell_type": "markdown",
   "metadata": {},
   "source": [
    "Выводы: В среднем стоимость квартир выше чем по общим данным и составляет 8 - 10 млн. рублей. Стоимость квадратного метра в основном колеблется от 90 до 110 тыс. руб."
   ]
  },
  {
   "cell_type": "code",
   "execution_count": 97,
   "metadata": {},
   "outputs": [
    {
     "data": {
      "text/plain": [
       "count    1931.000000\n",
       "mean        2.506473\n",
       "std         1.118073\n",
       "min         0.000000\n",
       "25%         2.000000\n",
       "50%         2.000000\n",
       "75%         3.000000\n",
       "max         7.000000\n",
       "Name: rooms, dtype: float64"
      ]
     },
     "execution_count": 97,
     "metadata": {},
     "output_type": "execute_result"
    }
   ],
   "source": [
    "spb_3['rooms'].describe() #изучаем информацию по числу комнат в квартирах в Центральном районе СПб"
   ]
  },
  {
   "cell_type": "code",
   "execution_count": 98,
   "metadata": {},
   "outputs": [
    {
     "data": {
      "text/plain": [
       "<AxesSubplot:title={'center':'Кол-во комнат'}, ylabel='Frequency'>"
      ]
     },
     "execution_count": 98,
     "metadata": {},
     "output_type": "execute_result"
    },
    {
     "data": {
      "image/png": "[encoded data removed]",
      "text/plain": [
       "<Figure size 504x288 with 1 Axes>"
      ]
     },
     "metadata": {
      "needs_background": "light"
     },
     "output_type": "display_data"
    }
   ],
   "source": [
    "#строим гистограмму по количеству комнат\n",
    "spb_3.plot(y = 'rooms', kind = 'hist', title = 'Кол-во комнат', figsize = (7,4), bins = 50, range = (0,7), grid = True)"
   ]
  },
  {
   "cell_type": "code",
   "execution_count": 99,
   "metadata": {},
   "outputs": [
    {
     "data": {
      "text/plain": [
       "2    672\n",
       "3    581\n",
       "1    346\n",
       "4    228\n",
       "5     73\n",
       "6     17\n",
       "0     10\n",
       "7      4\n",
       "Name: rooms, dtype: int64"
      ]
     },
     "execution_count": 99,
     "metadata": {},
     "output_type": "execute_result"
    }
   ],
   "source": [
    "spb_3['rooms'].value_counts()"
   ]
  },
  {
   "cell_type": "code",
   "execution_count": 100,
   "metadata": {},
   "outputs": [
    {
     "data": {
      "text/plain": [
       "0.4921445731584969"
      ]
     },
     "execution_count": 100,
     "metadata": {},
     "output_type": "execute_result"
    }
   ],
   "source": [
    "spb_3['rooms'].corr(spb_3['last_price'])"
   ]
  },
  {
   "cell_type": "code",
   "execution_count": 101,
   "metadata": {},
   "outputs": [
    {
     "data": {
      "text/plain": [
       "-0.47602842994448663"
      ]
     },
     "execution_count": 101,
     "metadata": {},
     "output_type": "execute_result"
    }
   ],
   "source": [
    "spb_3['rooms'].corr(spb_3['price_square_meter'])"
   ]
  },
  {
   "cell_type": "markdown",
   "metadata": {},
   "source": [
    "Выводы:\n",
    "1. В центре подавляющее большинство квартир - 2 и 3 комнатные, затем 1 и 4 комнатные, от 5 до 7 - редкость.\n",
    "2. Чем больше комнат тем дороже квартира, и дешевле кв. метр."
   ]
  },
  {
   "cell_type": "code",
   "execution_count": 102,
   "metadata": {},
   "outputs": [
    {
     "data": {
      "text/plain": [
       "count    1931.000000\n",
       "mean        2.856976\n",
       "std         0.240819\n",
       "min         2.510000\n",
       "25%         2.650000\n",
       "50%         2.750000\n",
       "75%         3.000000\n",
       "max         3.490000\n",
       "Name: ceiling_height, dtype: float64"
      ]
     },
     "execution_count": 102,
     "metadata": {},
     "output_type": "execute_result"
    }
   ],
   "source": [
    "spb_3['ceiling_height'].describe() #изучаем информацию по высоте потолков в квартирах в Центральном районе СПб"
   ]
  },
  {
   "cell_type": "code",
   "execution_count": 103,
   "metadata": {},
   "outputs": [
    {
     "data": {
      "text/plain": [
       "2.65    800\n",
       "3.00    257\n",
       "3.20    114\n",
       "2.80     88\n",
       "2.70     80\n",
       "       ... \n",
       "2.99      1\n",
       "2.86      1\n",
       "2.79      1\n",
       "3.24      1\n",
       "3.42      1\n",
       "Name: ceiling_height, Length: 80, dtype: int64"
      ]
     },
     "execution_count": 103,
     "metadata": {},
     "output_type": "execute_result"
    }
   ],
   "source": [
    "spb_3['ceiling_height'].value_counts()"
   ]
  },
  {
   "cell_type": "markdown",
   "metadata": {},
   "source": [
    "Факторы, которые влияют на стоимость квартиры (число комнат, этаж, удалённость от центра, дата размещения объявления)."
   ]
  },
  {
   "cell_type": "code",
   "execution_count": 104,
   "metadata": {},
   "outputs": [
    {
     "data": {
      "text/plain": [
       "<AxesSubplot:xlabel='flat_floor'>"
      ]
     },
     "execution_count": 104,
     "metadata": {},
     "output_type": "execute_result"
    },
    {
     "data": {
      "image/png": "[encoded data removed]",
      "text/plain": [
       "<Figure size 432x288 with 1 Axes>"
      ]
     },
     "metadata": {
      "needs_background": "light"
     },
     "output_type": "display_data"
    }
   ],
   "source": [
    "#изучаем зависимость цены на квартиру от этажа \n",
    "spb_price_floor = spb_3.pivot_table(index = 'flat_floor', values = 'last_price', aggfunc = ['median'])\n",
    "spb_price_floor.plot()"
   ]
  },
  {
   "cell_type": "markdown",
   "metadata": {},
   "source": [
    "Вывод: этаж очень сильно влияет на стоимость квартиры, если это первый этаж. На первых этажах цена может быть ниже до 30%, чем на других этажах. В общих данных помимо первого этажа, был менее ценен и последний.  "
   ]
  },
  {
   "cell_type": "code",
   "execution_count": 105,
   "metadata": {},
   "outputs": [
    {
     "data": {
      "text/plain": [
       "<AxesSubplot:xlabel='last_price', ylabel='cityCenters_nearest_km'>"
      ]
     },
     "execution_count": 105,
     "metadata": {},
     "output_type": "execute_result"
    },
    {
     "data": {
      "image/png": "[encoded data removed]",
      "text/plain": [
       "<Figure size 432x288 with 1 Axes>"
      ]
     },
     "metadata": {
      "needs_background": "light"
     },
     "output_type": "display_data"
    }
   ],
   "source": [
    "#изучаем зависимость цены на квартиру от параметра удаленности от центра \n",
    "spb_3['last_price'].corr(spb_3['cityCenters_nearest_km']) # коэффциент Пирсона - -0,14 (было -0,34)\n",
    "spb_3.plot(x='last_price', y = 'cityCenters_nearest_km', kind = 'scatter', alpha = 0.1)"
   ]
  },
  {
   "cell_type": "markdown",
   "metadata": {},
   "source": [
    "Выводы: небольшая обратная корреляция между стоимостью квартиры и удаленностью от центра есть, и она увеличивается от степени удаленности. В центре квартиры везде одинаково дорогие. "
   ]
  },
  {
   "cell_type": "code",
   "execution_count": 106,
   "metadata": {},
   "outputs": [
    {
     "data": {
      "text/plain": [
       "<AxesSubplot:xlabel='weekday_exposition'>"
      ]
     },
     "execution_count": 106,
     "metadata": {},
     "output_type": "execute_result"
    },
    {
     "data": {
      "image/png": "[encoded data removed]",
      "text/plain": [
       "<Figure size 432x288 with 1 Axes>"
      ]
     },
     "metadata": {
      "needs_background": "light"
     },
     "output_type": "display_data"
    }
   ],
   "source": [
    "#изучаем зависимость цены на квартиру от дня недели размещения объявления \n",
    "spb_price_weekday = spb_3.pivot_table(index = 'weekday_exposition', values = 'last_price', aggfunc = ['median'])\n",
    "spb_price_weekday.plot()"
   ]
  },
  {
   "cell_type": "markdown",
   "metadata": {},
   "source": [
    "Выводы: стоимость квартиры очень сильно зависит от дня недели. Самые непродуктивные дни - четверг и суббота. В общих данных начиная со вторника цены падали. В центре жизнь кипит."
   ]
  },
  {
   "cell_type": "code",
   "execution_count": 107,
   "metadata": {},
   "outputs": [
    {
     "data": {
      "text/plain": [
       "<AxesSubplot:xlabel='month_exposition'>"
      ]
     },
     "execution_count": 107,
     "metadata": {},
     "output_type": "execute_result"
    },
    {
     "data": {
      "image/png": "[encoded data removed]",
      "text/plain": [
       "<Figure size 432x288 with 1 Axes>"
      ]
     },
     "metadata": {
      "needs_background": "light"
     },
     "output_type": "display_data"
    }
   ],
   "source": [
    "#изучаем зависимость цены на квартиру от месяца размещения объявления \n",
    "spb_price_month = spb_3.pivot_table(index = 'month_exposition', values = 'last_price', aggfunc = ['median'])\n",
    "spb_price_month.plot()"
   ]
  },
  {
   "cell_type": "markdown",
   "metadata": {},
   "source": [
    "Выводы: с начала года и до марта (самый пик) цены растут, в мае, августе, с октября и до конца года рынок менее активен. Всплески активности - март, июнь и сентябрь. Это отличается от общих данных, где просадка была, в основном, только в июне."
   ]
  },
  {
   "cell_type": "code",
   "execution_count": 108,
   "metadata": {},
   "outputs": [
    {
     "data": {
      "text/plain": [
       "<AxesSubplot:xlabel='year_exposition'>"
      ]
     },
     "execution_count": 108,
     "metadata": {},
     "output_type": "execute_result"
    },
    {
     "data": {
      "image/png": "[encoded data removed]",
      "text/plain": [
       "<Figure size 432x288 with 1 Axes>"
      ]
     },
     "metadata": {
      "needs_background": "light"
     },
     "output_type": "display_data"
    }
   ],
   "source": [
    "#изучаем зависимость цены на квартиру от года размещения объявления \n",
    "spb_price_year = spb_3.pivot_table(index = 'year_exposition', values = 'last_price', aggfunc = ['median'])\n",
    "spb_price_year.plot()"
   ]
  },
  {
   "cell_type": "markdown",
   "metadata": {},
   "source": [
    "Вывод: видно, что с 2015 года взрывной рост цен, затем в течении двух лет до 2017 года небольшой отскок и в дальнейшем плавный рост. В отличие от общих данных недвижимость в центре быстро восстановилась с 2014 года."
   ]
  },
  {
   "cell_type": "markdown",
   "metadata": {
    "id": "hNQPMhQ5uqj-"
   },
   "source": [
    "## Общий вывод"
   ]
  },
  {
   "cell_type": "markdown",
   "metadata": {
    "id": "TBk94gYfuqj-"
   },
   "source": [
    "Исходя из поставленной задачи - определить параметры оценки рыночной стоимости недвижимости и обработанным данным можем сделать следующие выводы. \n",
    "На стоимсть квартиры влияют, в основном следуюущие факторы:\n",
    "1. Расположение от центра города. Чем ближе к центру тем дороже и эта взаимосвязь усиливается по мере удаления от центра;\n",
    "2. Нигде не любят первые этажи, поэтому они дешевле остальных. Так же по мере удаления от центра нелюбят еще и последние этажи.\n",
    "3. Как правило чем больше площадь и больше комнат, тем дороже квартира, но стоимость квадратного метра увеличивается с уменьшением площади квартиры.\n",
    "4. Если квартира не продается более 7 месяцев, то нужно пересмотреть критерии оценки, возможно, что то не учли."
   ]
  }
 ],
 "metadata": {
  "ExecuteTimeLog": [
   {
    "duration": 91,
    "start_time": "2022-06-17T11:14:33.129Z"
   },
   {
    "duration": 102,
    "start_time": "2022-06-17T11:14:56.860Z"
   },
   {
    "duration": 94,
    "start_time": "2022-06-17T11:15:12.661Z"
   },
   {
    "duration": 100,
    "start_time": "2022-06-17T11:15:57.881Z"
   },
   {
    "duration": 102,
    "start_time": "2022-06-17T11:16:42.358Z"
   },
   {
    "duration": 103,
    "start_time": "2022-06-17T11:16:49.361Z"
   },
   {
    "duration": 90,
    "start_time": "2022-06-17T11:23:04.152Z"
   },
   {
    "duration": 92,
    "start_time": "2022-06-17T11:23:24.821Z"
   },
   {
    "duration": 83,
    "start_time": "2022-06-17T11:23:41.861Z"
   },
   {
    "duration": 106,
    "start_time": "2022-06-17T11:24:33.721Z"
   },
   {
    "duration": 101,
    "start_time": "2022-06-17T11:24:40.590Z"
   },
   {
    "duration": 124,
    "start_time": "2022-06-17T11:28:49.548Z"
   },
   {
    "duration": 118,
    "start_time": "2022-06-17T11:29:06.651Z"
   },
   {
    "duration": 122,
    "start_time": "2022-06-17T11:29:19.330Z"
   },
   {
    "duration": 3,
    "start_time": "2022-06-17T13:44:39.184Z"
   },
   {
    "duration": 8,
    "start_time": "2022-06-17T14:31:31.112Z"
   },
   {
    "duration": 10,
    "start_time": "2022-06-17T14:35:43.062Z"
   },
   {
    "duration": 20,
    "start_time": "2022-06-17T14:36:42.532Z"
   },
   {
    "duration": 17,
    "start_time": "2022-06-17T14:37:12.518Z"
   },
   {
    "duration": 14,
    "start_time": "2022-06-17T14:37:32.206Z"
   },
   {
    "duration": 15,
    "start_time": "2022-06-17T14:39:30.842Z"
   },
   {
    "duration": 45,
    "start_time": "2022-06-17T14:40:43.191Z"
   },
   {
    "duration": 19,
    "start_time": "2022-06-17T14:40:47.703Z"
   },
   {
    "duration": 25,
    "start_time": "2022-06-17T14:40:56.524Z"
   },
   {
    "duration": 14,
    "start_time": "2022-06-17T14:45:37.877Z"
   },
   {
    "duration": 8,
    "start_time": "2022-06-17T15:12:26.681Z"
   },
   {
    "duration": 25,
    "start_time": "2022-06-17T15:13:23.228Z"
   },
   {
    "duration": 45,
    "start_time": "2022-06-17T15:14:12.214Z"
   },
   {
    "duration": 36,
    "start_time": "2022-06-17T15:17:44.719Z"
   },
   {
    "duration": 44,
    "start_time": "2022-06-17T15:18:03.740Z"
   },
   {
    "duration": 8,
    "start_time": "2022-06-17T15:21:07.180Z"
   },
   {
    "duration": 43,
    "start_time": "2022-06-17T15:21:32.172Z"
   },
   {
    "duration": 26,
    "start_time": "2022-06-17T15:24:59.353Z"
   },
   {
    "duration": 10,
    "start_time": "2022-06-17T15:29:29.543Z"
   },
   {
    "duration": 10,
    "start_time": "2022-06-17T15:29:47.133Z"
   },
   {
    "duration": 2275,
    "start_time": "2022-06-17T15:35:47.626Z"
   },
   {
    "duration": 13,
    "start_time": "2022-06-17T15:36:30.654Z"
   },
   {
    "duration": 28,
    "start_time": "2022-06-17T15:37:02.456Z"
   },
   {
    "duration": 21,
    "start_time": "2022-06-17T15:37:09.605Z"
   },
   {
    "duration": 20,
    "start_time": "2022-06-17T15:37:21.445Z"
   },
   {
    "duration": 25,
    "start_time": "2022-06-17T15:37:36.920Z"
   },
   {
    "duration": 13,
    "start_time": "2022-06-17T15:37:57.532Z"
   },
   {
    "duration": 9,
    "start_time": "2022-06-17T15:40:09.616Z"
   },
   {
    "duration": 10,
    "start_time": "2022-06-17T15:42:20.718Z"
   },
   {
    "duration": 10,
    "start_time": "2022-06-17T15:42:56.613Z"
   },
   {
    "duration": 14,
    "start_time": "2022-06-17T15:43:13.313Z"
   },
   {
    "duration": 32,
    "start_time": "2022-06-17T15:45:11.106Z"
   },
   {
    "duration": 19,
    "start_time": "2022-06-17T15:45:19.313Z"
   },
   {
    "duration": 18,
    "start_time": "2022-06-17T15:45:41.173Z"
   },
   {
    "duration": 32,
    "start_time": "2022-06-17T15:47:46.302Z"
   },
   {
    "duration": 13,
    "start_time": "2022-06-17T15:48:08.506Z"
   },
   {
    "duration": 9,
    "start_time": "2022-06-17T15:57:53.011Z"
   },
   {
    "duration": 32,
    "start_time": "2022-06-17T15:58:11.874Z"
   },
   {
    "duration": 8,
    "start_time": "2022-06-17T15:59:46.820Z"
   },
   {
    "duration": 15,
    "start_time": "2022-06-17T16:11:44.660Z"
   },
   {
    "duration": 11,
    "start_time": "2022-06-17T16:12:56.558Z"
   },
   {
    "duration": 105,
    "start_time": "2022-06-17T16:13:06.442Z"
   },
   {
    "duration": 13,
    "start_time": "2022-06-17T16:13:10.968Z"
   },
   {
    "duration": 11,
    "start_time": "2022-06-17T16:13:14.625Z"
   },
   {
    "duration": 11,
    "start_time": "2022-06-17T16:13:23.074Z"
   },
   {
    "duration": 11,
    "start_time": "2022-06-17T16:13:29.955Z"
   },
   {
    "duration": 9,
    "start_time": "2022-06-17T16:16:52.923Z"
   },
   {
    "duration": 18,
    "start_time": "2022-06-17T16:19:07.618Z"
   },
   {
    "duration": 13,
    "start_time": "2022-06-17T16:19:25.158Z"
   },
   {
    "duration": 12,
    "start_time": "2022-06-17T16:19:33.270Z"
   },
   {
    "duration": 12,
    "start_time": "2022-06-17T16:22:32.516Z"
   },
   {
    "duration": 12,
    "start_time": "2022-06-17T16:23:10.087Z"
   },
   {
    "duration": 70,
    "start_time": "2022-06-17T21:01:20.983Z"
   },
   {
    "duration": 644,
    "start_time": "2022-06-17T21:01:29.801Z"
   },
   {
    "duration": 18,
    "start_time": "2022-06-17T21:01:34.643Z"
   },
   {
    "duration": 15,
    "start_time": "2022-06-17T21:01:38.645Z"
   },
   {
    "duration": 14,
    "start_time": "2022-06-17T21:02:41.339Z"
   },
   {
    "duration": 37,
    "start_time": "2022-06-17T21:06:20.753Z"
   },
   {
    "duration": 15,
    "start_time": "2022-06-17T21:06:35.182Z"
   },
   {
    "duration": 15,
    "start_time": "2022-06-17T21:09:24.633Z"
   },
   {
    "duration": 13,
    "start_time": "2022-06-17T21:09:56.144Z"
   },
   {
    "duration": 15,
    "start_time": "2022-06-17T21:10:08.256Z"
   },
   {
    "duration": 18,
    "start_time": "2022-06-17T21:12:24.415Z"
   },
   {
    "duration": 14,
    "start_time": "2022-06-17T21:18:20.341Z"
   },
   {
    "duration": 41,
    "start_time": "2022-06-17T21:20:29.499Z"
   },
   {
    "duration": 30,
    "start_time": "2022-06-17T21:20:50.520Z"
   },
   {
    "duration": 18,
    "start_time": "2022-06-17T21:21:56.938Z"
   },
   {
    "duration": 14,
    "start_time": "2022-06-17T21:22:05.444Z"
   },
   {
    "duration": 13,
    "start_time": "2022-06-17T21:22:17.725Z"
   },
   {
    "duration": 18,
    "start_time": "2022-06-17T21:23:07.268Z"
   },
   {
    "duration": 47,
    "start_time": "2022-06-17T21:32:52.725Z"
   },
   {
    "duration": 7,
    "start_time": "2022-06-17T21:47:36.049Z"
   },
   {
    "duration": 8,
    "start_time": "2022-06-17T21:54:25.370Z"
   },
   {
    "duration": 7,
    "start_time": "2022-06-17T21:54:47.913Z"
   },
   {
    "duration": 5,
    "start_time": "2022-06-17T21:57:42.705Z"
   },
   {
    "duration": 10,
    "start_time": "2022-06-17T21:57:59.720Z"
   },
   {
    "duration": 14,
    "start_time": "2022-06-17T21:58:16.811Z"
   },
   {
    "duration": 10,
    "start_time": "2022-06-17T21:59:43.707Z"
   },
   {
    "duration": 15,
    "start_time": "2022-06-17T22:04:28.734Z"
   },
   {
    "duration": 7,
    "start_time": "2022-06-17T22:06:47.511Z"
   },
   {
    "duration": 11,
    "start_time": "2022-06-17T22:07:08.875Z"
   },
   {
    "duration": 8,
    "start_time": "2022-06-17T22:07:18.478Z"
   },
   {
    "duration": 12,
    "start_time": "2022-06-17T22:07:34.587Z"
   },
   {
    "duration": 16,
    "start_time": "2022-06-17T22:23:02.871Z"
   },
   {
    "duration": 66,
    "start_time": "2022-06-17T22:23:10.713Z"
   },
   {
    "duration": 38,
    "start_time": "2022-06-17T22:23:25.745Z"
   },
   {
    "duration": 12,
    "start_time": "2022-06-17T22:25:01.885Z"
   },
   {
    "duration": 11,
    "start_time": "2022-06-17T22:25:12.959Z"
   },
   {
    "duration": 33,
    "start_time": "2022-06-17T22:25:21.405Z"
   },
   {
    "duration": 6,
    "start_time": "2022-06-17T22:26:21.187Z"
   },
   {
    "duration": 5,
    "start_time": "2022-06-17T22:27:14.756Z"
   },
   {
    "duration": 27,
    "start_time": "2022-06-17T22:27:40.546Z"
   },
   {
    "duration": 13,
    "start_time": "2022-06-17T22:27:51.325Z"
   },
   {
    "duration": 16,
    "start_time": "2022-06-17T22:28:10.977Z"
   },
   {
    "duration": 3,
    "start_time": "2022-06-17T22:28:27.466Z"
   },
   {
    "duration": 771,
    "start_time": "2022-06-18T13:35:41.130Z"
   },
   {
    "duration": 17,
    "start_time": "2022-06-18T13:35:44.527Z"
   },
   {
    "duration": 14,
    "start_time": "2022-06-18T13:35:46.497Z"
   },
   {
    "duration": 13,
    "start_time": "2022-06-18T13:35:47.078Z"
   },
   {
    "duration": 39,
    "start_time": "2022-06-18T13:35:47.952Z"
   },
   {
    "duration": 6,
    "start_time": "2022-06-18T13:35:48.183Z"
   },
   {
    "duration": 38,
    "start_time": "2022-06-18T13:38:13.717Z"
   },
   {
    "duration": 7,
    "start_time": "2022-06-18T13:42:33.724Z"
   },
   {
    "duration": 7,
    "start_time": "2022-06-18T13:42:49.300Z"
   },
   {
    "duration": 7,
    "start_time": "2022-06-18T13:43:07.534Z"
   },
   {
    "duration": 10,
    "start_time": "2022-06-18T13:45:55.657Z"
   },
   {
    "duration": 12,
    "start_time": "2022-06-18T13:47:01.025Z"
   },
   {
    "duration": 19,
    "start_time": "2022-06-18T13:50:51.426Z"
   },
   {
    "duration": 10,
    "start_time": "2022-06-18T13:51:36.025Z"
   },
   {
    "duration": 7,
    "start_time": "2022-06-18T13:52:13.551Z"
   },
   {
    "duration": 31,
    "start_time": "2022-06-18T13:57:41.168Z"
   },
   {
    "duration": 18,
    "start_time": "2022-06-18T13:58:15.085Z"
   },
   {
    "duration": 8,
    "start_time": "2022-06-18T13:58:36.764Z"
   },
   {
    "duration": 42,
    "start_time": "2022-06-18T14:00:48.201Z"
   },
   {
    "duration": 18,
    "start_time": "2022-06-18T14:03:46.094Z"
   },
   {
    "duration": 5,
    "start_time": "2022-06-18T14:04:03.020Z"
   },
   {
    "duration": 50,
    "start_time": "2022-06-18T14:08:25.320Z"
   },
   {
    "duration": 28,
    "start_time": "2022-06-18T14:08:46.367Z"
   },
   {
    "duration": 9,
    "start_time": "2022-06-18T14:10:34.342Z"
   },
   {
    "duration": 25,
    "start_time": "2022-06-18T14:20:46.961Z"
   },
   {
    "duration": 33,
    "start_time": "2022-06-18T14:21:57.233Z"
   },
   {
    "duration": 34,
    "start_time": "2022-06-18T14:24:06.206Z"
   },
   {
    "duration": 34,
    "start_time": "2022-06-18T14:25:00.805Z"
   },
   {
    "duration": 34,
    "start_time": "2022-06-18T14:25:37.872Z"
   },
   {
    "duration": 32,
    "start_time": "2022-06-18T14:26:07.477Z"
   },
   {
    "duration": 6,
    "start_time": "2022-06-18T14:29:15.744Z"
   },
   {
    "duration": 9,
    "start_time": "2022-06-18T14:29:35.989Z"
   },
   {
    "duration": 5,
    "start_time": "2022-06-18T14:30:20.936Z"
   },
   {
    "duration": 10,
    "start_time": "2022-06-18T14:31:00.028Z"
   },
   {
    "duration": 362,
    "start_time": "2022-06-18T14:36:57.713Z"
   },
   {
    "duration": 4,
    "start_time": "2022-06-18T14:37:14.674Z"
   },
   {
    "duration": 14,
    "start_time": "2022-06-18T14:37:34.476Z"
   },
   {
    "duration": 67,
    "start_time": "2022-06-18T14:37:50.185Z"
   },
   {
    "duration": 9,
    "start_time": "2022-06-18T14:38:18.147Z"
   },
   {
    "duration": 16,
    "start_time": "2022-06-18T14:39:27.637Z"
   },
   {
    "duration": 4,
    "start_time": "2022-06-18T14:39:38.472Z"
   },
   {
    "duration": 15,
    "start_time": "2022-06-18T14:43:01.705Z"
   },
   {
    "duration": 17,
    "start_time": "2022-06-18T14:48:06.955Z"
   },
   {
    "duration": 0,
    "start_time": "2022-06-18T14:48:07.036Z"
   },
   {
    "duration": 9,
    "start_time": "2022-06-18T14:48:19.389Z"
   },
   {
    "duration": 14,
    "start_time": "2022-06-18T14:49:04.967Z"
   },
   {
    "duration": 13,
    "start_time": "2022-06-18T14:49:18.281Z"
   },
   {
    "duration": 13,
    "start_time": "2022-06-18T14:49:36.992Z"
   },
   {
    "duration": 296,
    "start_time": "2022-06-18T14:49:52.521Z"
   },
   {
    "duration": 17,
    "start_time": "2022-06-18T14:50:10.811Z"
   },
   {
    "duration": 39,
    "start_time": "2022-06-18T14:50:28.424Z"
   },
   {
    "duration": 17986,
    "start_time": "2022-06-18T14:50:41.450Z"
   },
   {
    "duration": 123,
    "start_time": "2022-06-18T15:11:22.449Z"
   },
   {
    "duration": 18,
    "start_time": "2022-06-18T15:11:23.056Z"
   },
   {
    "duration": 15,
    "start_time": "2022-06-18T15:11:24.817Z"
   },
   {
    "duration": 14,
    "start_time": "2022-06-18T15:11:26.651Z"
   },
   {
    "duration": 31,
    "start_time": "2022-06-18T15:11:28.111Z"
   },
   {
    "duration": 6,
    "start_time": "2022-06-18T15:11:28.837Z"
   },
   {
    "duration": 10,
    "start_time": "2022-06-18T15:11:31.724Z"
   },
   {
    "duration": 10,
    "start_time": "2022-06-18T15:11:33.977Z"
   },
   {
    "duration": 10,
    "start_time": "2022-06-18T15:11:36.805Z"
   },
   {
    "duration": 33,
    "start_time": "2022-06-18T15:11:39.419Z"
   },
   {
    "duration": 7,
    "start_time": "2022-06-18T15:11:40.818Z"
   },
   {
    "duration": 82,
    "start_time": "2022-06-18T15:29:25.644Z"
   },
   {
    "duration": 18,
    "start_time": "2022-06-18T15:30:03.396Z"
   },
   {
    "duration": 10,
    "start_time": "2022-06-18T15:30:30.261Z"
   },
   {
    "duration": 274,
    "start_time": "2022-06-18T15:30:36.407Z"
   },
   {
    "duration": 9,
    "start_time": "2022-06-18T15:31:11.258Z"
   },
   {
    "duration": 7,
    "start_time": "2022-06-18T15:31:33.635Z"
   },
   {
    "duration": 10,
    "start_time": "2022-06-18T15:34:25.325Z"
   },
   {
    "duration": 7,
    "start_time": "2022-06-18T15:35:11.192Z"
   },
   {
    "duration": 18,
    "start_time": "2022-06-18T15:36:22.609Z"
   },
   {
    "duration": 6,
    "start_time": "2022-06-18T15:36:52.037Z"
   },
   {
    "duration": 13,
    "start_time": "2022-06-18T15:37:10.300Z"
   },
   {
    "duration": 34,
    "start_time": "2022-06-18T15:37:40.852Z"
   },
   {
    "duration": 276,
    "start_time": "2022-06-18T15:39:20.476Z"
   },
   {
    "duration": 10,
    "start_time": "2022-06-18T15:39:34.324Z"
   },
   {
    "duration": 3,
    "start_time": "2022-06-18T16:43:07.154Z"
   },
   {
    "duration": 4,
    "start_time": "2022-06-18T16:47:52.095Z"
   },
   {
    "duration": 4,
    "start_time": "2022-06-18T16:47:58.669Z"
   },
   {
    "duration": 13,
    "start_time": "2022-06-18T16:51:37.618Z"
   },
   {
    "duration": 12,
    "start_time": "2022-06-18T16:52:45.186Z"
   },
   {
    "duration": 43,
    "start_time": "2022-06-18T16:56:03.860Z"
   },
   {
    "duration": 7,
    "start_time": "2022-06-18T16:59:30.223Z"
   },
   {
    "duration": 20,
    "start_time": "2022-06-18T17:00:01.883Z"
   },
   {
    "duration": 40,
    "start_time": "2022-06-18T17:03:35.263Z"
   },
   {
    "duration": 13,
    "start_time": "2022-06-18T17:05:59.740Z"
   },
   {
    "duration": 11,
    "start_time": "2022-06-18T17:06:24.992Z"
   },
   {
    "duration": 173,
    "start_time": "2022-06-18T17:09:39.177Z"
   },
   {
    "duration": 216,
    "start_time": "2022-06-18T17:10:07.100Z"
   },
   {
    "duration": 9,
    "start_time": "2022-06-18T17:11:57.685Z"
   },
   {
    "duration": 16,
    "start_time": "2022-06-18T17:17:16.284Z"
   },
   {
    "duration": 9,
    "start_time": "2022-06-18T17:17:45.650Z"
   },
   {
    "duration": 10,
    "start_time": "2022-06-18T17:18:22.098Z"
   },
   {
    "duration": 35,
    "start_time": "2022-06-18T17:18:30.044Z"
   },
   {
    "duration": 37,
    "start_time": "2022-06-18T17:19:22.748Z"
   },
   {
    "duration": 14,
    "start_time": "2022-06-18T17:20:11.506Z"
   },
   {
    "duration": 73,
    "start_time": "2022-06-18T17:20:45.688Z"
   },
   {
    "duration": 38,
    "start_time": "2022-06-18T17:21:02.331Z"
   },
   {
    "duration": 11,
    "start_time": "2022-06-18T17:26:30.921Z"
   },
   {
    "duration": 21,
    "start_time": "2022-06-18T17:26:41.113Z"
   },
   {
    "duration": 15,
    "start_time": "2022-06-18T17:27:36.188Z"
   },
   {
    "duration": 13,
    "start_time": "2022-06-18T17:27:57.767Z"
   },
   {
    "duration": 25,
    "start_time": "2022-06-18T17:28:50.692Z"
   },
   {
    "duration": 16,
    "start_time": "2022-06-18T17:28:58.783Z"
   },
   {
    "duration": 21,
    "start_time": "2022-06-18T17:32:10.588Z"
   },
   {
    "duration": 20,
    "start_time": "2022-06-18T17:32:29.470Z"
   },
   {
    "duration": 16,
    "start_time": "2022-06-18T17:33:50.143Z"
   },
   {
    "duration": 12,
    "start_time": "2022-06-18T17:33:51.332Z"
   },
   {
    "duration": 17,
    "start_time": "2022-06-18T17:34:38.488Z"
   },
   {
    "duration": 13,
    "start_time": "2022-06-18T17:34:39.437Z"
   },
   {
    "duration": 127,
    "start_time": "2022-06-18T17:41:41.754Z"
   },
   {
    "duration": 15,
    "start_time": "2022-06-18T17:41:43.554Z"
   },
   {
    "duration": 15,
    "start_time": "2022-06-18T17:41:43.957Z"
   },
   {
    "duration": 13,
    "start_time": "2022-06-18T17:41:44.455Z"
   },
   {
    "duration": 29,
    "start_time": "2022-06-18T17:41:45.746Z"
   },
   {
    "duration": 6,
    "start_time": "2022-06-18T17:41:45.854Z"
   },
   {
    "duration": 9,
    "start_time": "2022-06-18T17:41:47.212Z"
   },
   {
    "duration": 7,
    "start_time": "2022-06-18T17:41:47.910Z"
   },
   {
    "duration": 10,
    "start_time": "2022-06-18T17:41:48.555Z"
   },
   {
    "duration": 38,
    "start_time": "2022-06-18T17:41:49.516Z"
   },
   {
    "duration": 7,
    "start_time": "2022-06-18T17:41:49.706Z"
   },
   {
    "duration": 41,
    "start_time": "2022-06-18T17:41:51.755Z"
   },
   {
    "duration": 10,
    "start_time": "2022-06-18T17:41:52.006Z"
   },
   {
    "duration": 16,
    "start_time": "2022-06-18T17:42:02.486Z"
   },
   {
    "duration": 34,
    "start_time": "2022-06-18T17:43:03.721Z"
   },
   {
    "duration": 11,
    "start_time": "2022-06-18T17:50:21.844Z"
   },
   {
    "duration": 17,
    "start_time": "2022-06-18T17:57:58.860Z"
   },
   {
    "duration": 22,
    "start_time": "2022-06-18T19:38:19.816Z"
   },
   {
    "duration": 25,
    "start_time": "2022-06-18T19:38:46.694Z"
   },
   {
    "duration": 25,
    "start_time": "2022-06-18T19:40:28.811Z"
   },
   {
    "duration": 18,
    "start_time": "2022-06-18T19:41:05.523Z"
   },
   {
    "duration": 4,
    "start_time": "2022-06-18T19:41:26.061Z"
   },
   {
    "duration": 15,
    "start_time": "2022-06-18T19:41:56.809Z"
   },
   {
    "duration": 121,
    "start_time": "2022-06-18T19:42:23.487Z"
   },
   {
    "duration": 16,
    "start_time": "2022-06-18T19:42:25.947Z"
   },
   {
    "duration": 15,
    "start_time": "2022-06-18T19:42:27.300Z"
   },
   {
    "duration": 13,
    "start_time": "2022-06-18T19:42:28.498Z"
   },
   {
    "duration": 42,
    "start_time": "2022-06-18T19:42:29.940Z"
   },
   {
    "duration": 7,
    "start_time": "2022-06-18T19:42:30.322Z"
   },
   {
    "duration": 9,
    "start_time": "2022-06-18T19:42:32.154Z"
   },
   {
    "duration": 8,
    "start_time": "2022-06-18T19:42:34.242Z"
   },
   {
    "duration": 12,
    "start_time": "2022-06-18T19:42:35.655Z"
   },
   {
    "duration": 33,
    "start_time": "2022-06-18T19:42:41.151Z"
   },
   {
    "duration": 13,
    "start_time": "2022-06-18T19:42:44.648Z"
   },
   {
    "duration": 11,
    "start_time": "2022-06-18T19:44:54.136Z"
   },
   {
    "duration": 8,
    "start_time": "2022-06-18T19:45:29.596Z"
   },
   {
    "duration": 21,
    "start_time": "2022-06-18T19:45:53.704Z"
   },
   {
    "duration": 11,
    "start_time": "2022-06-18T19:46:47.437Z"
   },
   {
    "duration": 26,
    "start_time": "2022-06-18T19:47:45.301Z"
   },
   {
    "duration": 23,
    "start_time": "2022-06-18T19:48:02.696Z"
   },
   {
    "duration": 19,
    "start_time": "2022-06-18T19:48:33.891Z"
   },
   {
    "duration": 10,
    "start_time": "2022-06-18T19:49:38.173Z"
   },
   {
    "duration": 11,
    "start_time": "2022-06-18T19:52:10.036Z"
   },
   {
    "duration": 13,
    "start_time": "2022-06-18T19:53:46.140Z"
   },
   {
    "duration": 12,
    "start_time": "2022-06-18T19:54:52.395Z"
   },
   {
    "duration": 12,
    "start_time": "2022-06-18T19:59:40.571Z"
   },
   {
    "duration": 13,
    "start_time": "2022-06-18T20:00:14.553Z"
   },
   {
    "duration": 10,
    "start_time": "2022-06-18T20:04:48.646Z"
   },
   {
    "duration": 12,
    "start_time": "2022-06-18T20:06:37.086Z"
   },
   {
    "duration": 8,
    "start_time": "2022-06-18T20:11:52.155Z"
   },
   {
    "duration": 308,
    "start_time": "2022-06-18T20:12:11.754Z"
   },
   {
    "duration": 10,
    "start_time": "2022-06-18T20:12:38.872Z"
   },
   {
    "duration": 13,
    "start_time": "2022-06-18T20:13:32.354Z"
   },
   {
    "duration": 10,
    "start_time": "2022-06-18T20:14:17.915Z"
   },
   {
    "duration": 10,
    "start_time": "2022-06-18T20:14:43.527Z"
   },
   {
    "duration": 14,
    "start_time": "2022-06-18T20:15:08.426Z"
   },
   {
    "duration": 20,
    "start_time": "2022-06-18T20:16:56.624Z"
   },
   {
    "duration": 15,
    "start_time": "2022-06-18T20:17:04.306Z"
   },
   {
    "duration": 318,
    "start_time": "2022-06-18T20:19:46.785Z"
   },
   {
    "duration": 393,
    "start_time": "2022-06-18T20:20:30.154Z"
   },
   {
    "duration": 20,
    "start_time": "2022-06-18T20:21:05.981Z"
   },
   {
    "duration": 8,
    "start_time": "2022-06-18T20:24:40.864Z"
   },
   {
    "duration": 8,
    "start_time": "2022-06-18T20:24:49.916Z"
   },
   {
    "duration": 25,
    "start_time": "2022-06-18T20:25:11.426Z"
   },
   {
    "duration": 17,
    "start_time": "2022-06-18T20:34:22.394Z"
   },
   {
    "duration": 27,
    "start_time": "2022-06-18T20:37:54.825Z"
   },
   {
    "duration": 78,
    "start_time": "2022-06-18T20:38:18.113Z"
   },
   {
    "duration": 22,
    "start_time": "2022-06-18T20:38:42.362Z"
   },
   {
    "duration": 17,
    "start_time": "2022-06-18T20:39:12.361Z"
   },
   {
    "duration": 32,
    "start_time": "2022-06-18T20:39:25.579Z"
   },
   {
    "duration": 18,
    "start_time": "2022-06-18T20:41:18.448Z"
   },
   {
    "duration": 37,
    "start_time": "2022-06-18T20:41:21.395Z"
   },
   {
    "duration": 21,
    "start_time": "2022-06-18T20:42:56.700Z"
   },
   {
    "duration": 25,
    "start_time": "2022-06-18T20:43:37.856Z"
   },
   {
    "duration": 31,
    "start_time": "2022-06-18T20:44:10.600Z"
   },
   {
    "duration": 19,
    "start_time": "2022-06-18T20:44:54.457Z"
   },
   {
    "duration": 49,
    "start_time": "2022-06-18T20:47:50.321Z"
   },
   {
    "duration": 74,
    "start_time": "2022-06-18T20:48:25.007Z"
   },
   {
    "duration": 15,
    "start_time": "2022-06-18T20:50:53.045Z"
   },
   {
    "duration": 115,
    "start_time": "2022-06-18T20:51:42.811Z"
   },
   {
    "duration": 15,
    "start_time": "2022-06-18T20:51:45.819Z"
   },
   {
    "duration": 16,
    "start_time": "2022-06-18T20:51:47.548Z"
   },
   {
    "duration": 14,
    "start_time": "2022-06-18T20:51:47.984Z"
   },
   {
    "duration": 37,
    "start_time": "2022-06-18T20:51:48.593Z"
   },
   {
    "duration": 6,
    "start_time": "2022-06-18T20:51:48.677Z"
   },
   {
    "duration": 9,
    "start_time": "2022-06-18T20:51:49.252Z"
   },
   {
    "duration": 9,
    "start_time": "2022-06-18T20:51:49.983Z"
   },
   {
    "duration": 10,
    "start_time": "2022-06-18T20:51:50.655Z"
   },
   {
    "duration": 32,
    "start_time": "2022-06-18T20:51:52.651Z"
   },
   {
    "duration": 19,
    "start_time": "2022-06-18T20:51:52.844Z"
   },
   {
    "duration": 35,
    "start_time": "2022-06-18T20:52:03.157Z"
   },
   {
    "duration": 99,
    "start_time": "2022-06-18T20:52:14.407Z"
   },
   {
    "duration": 15,
    "start_time": "2022-06-18T20:52:29.624Z"
   },
   {
    "duration": 8,
    "start_time": "2022-06-18T20:53:19.019Z"
   },
   {
    "duration": 17,
    "start_time": "2022-06-18T21:04:32.260Z"
   },
   {
    "duration": 34,
    "start_time": "2022-06-18T21:04:52.057Z"
   },
   {
    "duration": 16,
    "start_time": "2022-06-18T21:05:26.678Z"
   },
   {
    "duration": 16,
    "start_time": "2022-06-18T21:06:07.848Z"
   },
   {
    "duration": 17,
    "start_time": "2022-06-18T21:08:17.951Z"
   },
   {
    "duration": 7,
    "start_time": "2022-06-18T21:09:01.158Z"
   },
   {
    "duration": 7,
    "start_time": "2022-06-18T21:11:08.005Z"
   },
   {
    "duration": 19,
    "start_time": "2022-06-18T21:13:03.276Z"
   },
   {
    "duration": 7,
    "start_time": "2022-06-18T21:13:37.098Z"
   },
   {
    "duration": 48,
    "start_time": "2022-06-18T21:14:35.341Z"
   },
   {
    "duration": 27,
    "start_time": "2022-06-18T21:17:41.301Z"
   },
   {
    "duration": 16,
    "start_time": "2022-06-18T21:23:06.376Z"
   },
   {
    "duration": 16,
    "start_time": "2022-06-18T21:25:43.584Z"
   },
   {
    "duration": 70,
    "start_time": "2022-06-18T21:40:50.019Z"
   },
   {
    "duration": 33,
    "start_time": "2022-06-18T21:41:50.586Z"
   },
   {
    "duration": 8,
    "start_time": "2022-06-18T21:42:52.637Z"
   },
   {
    "duration": 18,
    "start_time": "2022-06-18T21:42:55.136Z"
   },
   {
    "duration": 37,
    "start_time": "2022-06-18T21:43:01.402Z"
   },
   {
    "duration": 14,
    "start_time": "2022-06-18T21:44:12.633Z"
   },
   {
    "duration": 118,
    "start_time": "2022-06-18T21:44:32.360Z"
   },
   {
    "duration": 15,
    "start_time": "2022-06-18T21:44:32.941Z"
   },
   {
    "duration": 15,
    "start_time": "2022-06-18T21:44:33.354Z"
   },
   {
    "duration": 13,
    "start_time": "2022-06-18T21:44:33.649Z"
   },
   {
    "duration": 30,
    "start_time": "2022-06-18T21:44:34.046Z"
   },
   {
    "duration": 6,
    "start_time": "2022-06-18T21:44:34.113Z"
   },
   {
    "duration": 10,
    "start_time": "2022-06-18T21:44:34.523Z"
   },
   {
    "duration": 9,
    "start_time": "2022-06-18T21:44:34.864Z"
   },
   {
    "duration": 10,
    "start_time": "2022-06-18T21:44:35.318Z"
   },
   {
    "duration": 32,
    "start_time": "2022-06-18T21:44:35.885Z"
   },
   {
    "duration": 18,
    "start_time": "2022-06-18T21:44:36.069Z"
   },
   {
    "duration": 34,
    "start_time": "2022-06-18T21:44:37.129Z"
   },
   {
    "duration": 69,
    "start_time": "2022-06-18T21:44:37.305Z"
   },
   {
    "duration": 10,
    "start_time": "2022-06-18T21:44:39.602Z"
   },
   {
    "duration": 20,
    "start_time": "2022-06-18T21:44:40.073Z"
   },
   {
    "duration": 11,
    "start_time": "2022-06-18T21:44:40.566Z"
   },
   {
    "duration": 19,
    "start_time": "2022-06-18T21:44:40.883Z"
   },
   {
    "duration": 16,
    "start_time": "2022-06-18T21:44:42.214Z"
   },
   {
    "duration": 11,
    "start_time": "2022-06-18T21:45:55.936Z"
   },
   {
    "duration": 8,
    "start_time": "2022-06-18T21:47:29.226Z"
   },
   {
    "duration": 7,
    "start_time": "2022-06-18T21:50:04.158Z"
   },
   {
    "duration": 18,
    "start_time": "2022-06-18T21:51:01.717Z"
   },
   {
    "duration": 8,
    "start_time": "2022-06-18T21:51:27.525Z"
   },
   {
    "duration": 22,
    "start_time": "2022-06-18T21:56:06.320Z"
   },
   {
    "duration": 8,
    "start_time": "2022-06-18T22:02:14.232Z"
   },
   {
    "duration": 74,
    "start_time": "2022-06-18T22:02:31.039Z"
   },
   {
    "duration": 10,
    "start_time": "2022-06-18T22:02:52.886Z"
   },
   {
    "duration": 121,
    "start_time": "2022-06-18T22:03:39.814Z"
   },
   {
    "duration": 15,
    "start_time": "2022-06-18T22:03:40.470Z"
   },
   {
    "duration": 16,
    "start_time": "2022-06-18T22:03:40.851Z"
   },
   {
    "duration": 13,
    "start_time": "2022-06-18T22:03:41.306Z"
   },
   {
    "duration": 29,
    "start_time": "2022-06-18T22:03:41.638Z"
   },
   {
    "duration": 6,
    "start_time": "2022-06-18T22:03:41.696Z"
   },
   {
    "duration": 9,
    "start_time": "2022-06-18T22:03:42.087Z"
   },
   {
    "duration": 8,
    "start_time": "2022-06-18T22:03:42.397Z"
   },
   {
    "duration": 12,
    "start_time": "2022-06-18T22:03:42.785Z"
   },
   {
    "duration": 30,
    "start_time": "2022-06-18T22:03:43.118Z"
   },
   {
    "duration": 20,
    "start_time": "2022-06-18T22:03:43.316Z"
   },
   {
    "duration": 32,
    "start_time": "2022-06-18T22:03:43.818Z"
   },
   {
    "duration": 80,
    "start_time": "2022-06-18T22:03:44.058Z"
   },
   {
    "duration": 8,
    "start_time": "2022-06-18T22:03:44.434Z"
   },
   {
    "duration": 20,
    "start_time": "2022-06-18T22:03:44.876Z"
   },
   {
    "duration": 9,
    "start_time": "2022-06-18T22:03:45.224Z"
   },
   {
    "duration": 20,
    "start_time": "2022-06-18T22:03:46.334Z"
   },
   {
    "duration": 9,
    "start_time": "2022-06-18T22:03:46.737Z"
   },
   {
    "duration": 7,
    "start_time": "2022-06-18T22:03:47.312Z"
   },
   {
    "duration": 602,
    "start_time": "2022-06-19T16:46:12.680Z"
   },
   {
    "duration": 17,
    "start_time": "2022-06-19T16:46:14.010Z"
   },
   {
    "duration": 16,
    "start_time": "2022-06-19T16:46:14.459Z"
   },
   {
    "duration": 15,
    "start_time": "2022-06-19T16:46:15.000Z"
   },
   {
    "duration": 34,
    "start_time": "2022-06-19T16:46:15.405Z"
   },
   {
    "duration": 6,
    "start_time": "2022-06-19T16:46:15.650Z"
   },
   {
    "duration": 13,
    "start_time": "2022-06-19T16:46:16.048Z"
   },
   {
    "duration": 9,
    "start_time": "2022-06-19T16:46:16.597Z"
   },
   {
    "duration": 11,
    "start_time": "2022-06-19T16:46:17.025Z"
   },
   {
    "duration": 41,
    "start_time": "2022-06-19T16:46:17.866Z"
   },
   {
    "duration": 26,
    "start_time": "2022-06-19T16:46:18.052Z"
   },
   {
    "duration": 49,
    "start_time": "2022-06-19T16:46:19.170Z"
   },
   {
    "duration": 81,
    "start_time": "2022-06-19T16:46:19.353Z"
   },
   {
    "duration": 9,
    "start_time": "2022-06-19T16:46:21.273Z"
   },
   {
    "duration": 24,
    "start_time": "2022-06-19T16:46:21.791Z"
   },
   {
    "duration": 8,
    "start_time": "2022-06-19T16:46:22.912Z"
   },
   {
    "duration": 21,
    "start_time": "2022-06-19T16:46:23.816Z"
   },
   {
    "duration": 9,
    "start_time": "2022-06-19T16:46:24.572Z"
   },
   {
    "duration": 8,
    "start_time": "2022-06-19T16:46:28.083Z"
   },
   {
    "duration": 36,
    "start_time": "2022-06-19T16:52:38.201Z"
   },
   {
    "duration": 5,
    "start_time": "2022-06-19T16:55:31.051Z"
   },
   {
    "duration": 28,
    "start_time": "2022-06-19T16:55:48.858Z"
   },
   {
    "duration": 20,
    "start_time": "2022-06-19T16:56:14.493Z"
   },
   {
    "duration": 32,
    "start_time": "2022-06-19T17:05:43.994Z"
   },
   {
    "duration": 30,
    "start_time": "2022-06-19T17:08:40.333Z"
   },
   {
    "duration": 34,
    "start_time": "2022-06-19T17:09:45.514Z"
   },
   {
    "duration": 328,
    "start_time": "2022-06-19T17:22:20.333Z"
   },
   {
    "duration": 327,
    "start_time": "2022-06-19T17:22:36.871Z"
   },
   {
    "duration": 296,
    "start_time": "2022-06-19T17:28:57.633Z"
   },
   {
    "duration": 286,
    "start_time": "2022-06-19T17:29:53.761Z"
   },
   {
    "duration": 309,
    "start_time": "2022-06-19T17:30:24.253Z"
   },
   {
    "duration": 475,
    "start_time": "2022-06-19T17:37:41.676Z"
   },
   {
    "duration": 17,
    "start_time": "2022-06-19T17:37:44.117Z"
   },
   {
    "duration": 16,
    "start_time": "2022-06-19T17:37:44.597Z"
   },
   {
    "duration": 16,
    "start_time": "2022-06-19T17:37:44.921Z"
   },
   {
    "duration": 33,
    "start_time": "2022-06-19T17:37:45.428Z"
   },
   {
    "duration": 6,
    "start_time": "2022-06-19T17:37:45.597Z"
   },
   {
    "duration": 9,
    "start_time": "2022-06-19T17:37:45.941Z"
   },
   {
    "duration": 7,
    "start_time": "2022-06-19T17:37:46.419Z"
   },
   {
    "duration": 12,
    "start_time": "2022-06-19T17:37:46.744Z"
   },
   {
    "duration": 45,
    "start_time": "2022-06-19T17:37:47.055Z"
   },
   {
    "duration": 21,
    "start_time": "2022-06-19T17:37:47.236Z"
   },
   {
    "duration": 43,
    "start_time": "2022-06-19T17:37:47.768Z"
   },
   {
    "duration": 76,
    "start_time": "2022-06-19T17:37:47.959Z"
   },
   {
    "duration": 9,
    "start_time": "2022-06-19T17:37:48.393Z"
   },
   {
    "duration": 27,
    "start_time": "2022-06-19T17:37:48.835Z"
   },
   {
    "duration": 7,
    "start_time": "2022-06-19T17:37:49.290Z"
   },
   {
    "duration": 23,
    "start_time": "2022-06-19T17:37:49.711Z"
   },
   {
    "duration": 11,
    "start_time": "2022-06-19T17:37:50.014Z"
   },
   {
    "duration": 12,
    "start_time": "2022-06-19T17:37:50.272Z"
   },
   {
    "duration": 358,
    "start_time": "2022-06-19T17:37:50.618Z"
   },
   {
    "duration": 10,
    "start_time": "2022-06-19T17:44:34.084Z"
   },
   {
    "duration": 78,
    "start_time": "2022-06-19T17:49:01.979Z"
   },
   {
    "duration": 415,
    "start_time": "2022-06-19T17:58:18.788Z"
   },
   {
    "duration": 305,
    "start_time": "2022-06-19T17:58:30.691Z"
   },
   {
    "duration": 323,
    "start_time": "2022-06-19T17:58:43.420Z"
   },
   {
    "duration": 288,
    "start_time": "2022-06-19T17:58:56.505Z"
   },
   {
    "duration": 321,
    "start_time": "2022-06-19T17:59:55.045Z"
   },
   {
    "duration": 7,
    "start_time": "2022-06-19T18:00:52.699Z"
   },
   {
    "duration": 5,
    "start_time": "2022-06-19T18:05:20.185Z"
   },
   {
    "duration": 249,
    "start_time": "2022-06-19T18:08:57.838Z"
   },
   {
    "duration": 309,
    "start_time": "2022-06-19T18:09:24.968Z"
   },
   {
    "duration": 144,
    "start_time": "2022-06-19T18:09:36.946Z"
   },
   {
    "duration": 221,
    "start_time": "2022-06-19T18:09:44.122Z"
   },
   {
    "duration": 34,
    "start_time": "2022-06-19T18:11:04.588Z"
   },
   {
    "duration": 193,
    "start_time": "2022-06-19T18:11:23.430Z"
   },
   {
    "duration": 191,
    "start_time": "2022-06-19T18:11:30.223Z"
   },
   {
    "duration": 196,
    "start_time": "2022-06-19T18:11:39.598Z"
   },
   {
    "duration": 189,
    "start_time": "2022-06-19T18:12:28.031Z"
   },
   {
    "duration": 158,
    "start_time": "2022-06-19T18:12:37.678Z"
   },
   {
    "duration": 181,
    "start_time": "2022-06-19T18:12:43.436Z"
   },
   {
    "duration": 10,
    "start_time": "2022-06-19T18:23:20.644Z"
   },
   {
    "duration": 7,
    "start_time": "2022-06-19T18:24:03.262Z"
   },
   {
    "duration": 295,
    "start_time": "2022-06-19T18:25:24.901Z"
   },
   {
    "duration": 356,
    "start_time": "2022-06-19T18:25:47.465Z"
   },
   {
    "duration": 455,
    "start_time": "2022-06-19T18:26:23.215Z"
   },
   {
    "duration": 304,
    "start_time": "2022-06-19T18:27:02.612Z"
   },
   {
    "duration": 353,
    "start_time": "2022-06-19T18:27:14.408Z"
   },
   {
    "duration": 5,
    "start_time": "2022-06-19T18:30:00.848Z"
   },
   {
    "duration": 5,
    "start_time": "2022-06-19T18:31:07.067Z"
   },
   {
    "duration": 6,
    "start_time": "2022-06-19T18:31:32.067Z"
   },
   {
    "duration": 209,
    "start_time": "2022-06-19T18:32:27.252Z"
   },
   {
    "duration": 182,
    "start_time": "2022-06-19T18:32:58.991Z"
   },
   {
    "duration": 209,
    "start_time": "2022-06-19T18:33:23.130Z"
   },
   {
    "duration": 188,
    "start_time": "2022-06-19T18:33:38.097Z"
   },
   {
    "duration": 193,
    "start_time": "2022-06-19T18:33:50.924Z"
   },
   {
    "duration": 188,
    "start_time": "2022-06-19T18:34:08.229Z"
   },
   {
    "duration": 221,
    "start_time": "2022-06-19T18:36:22.382Z"
   },
   {
    "duration": 11,
    "start_time": "2022-06-19T18:47:46.818Z"
   },
   {
    "duration": 7,
    "start_time": "2022-06-19T18:48:24.257Z"
   },
   {
    "duration": 33,
    "start_time": "2022-06-19T18:49:05.476Z"
   },
   {
    "duration": 439,
    "start_time": "2022-06-19T18:51:43.017Z"
   },
   {
    "duration": 300,
    "start_time": "2022-06-19T18:51:55.118Z"
   },
   {
    "duration": 9,
    "start_time": "2022-06-19T18:58:49.155Z"
   },
   {
    "duration": 10,
    "start_time": "2022-06-19T18:58:56.042Z"
   },
   {
    "duration": 7,
    "start_time": "2022-06-19T18:59:30.137Z"
   },
   {
    "duration": 294,
    "start_time": "2022-06-19T19:00:44.753Z"
   },
   {
    "duration": 193,
    "start_time": "2022-06-19T19:01:03.443Z"
   },
   {
    "duration": 196,
    "start_time": "2022-06-19T19:01:19.129Z"
   },
   {
    "duration": 174,
    "start_time": "2022-06-19T19:01:48.643Z"
   },
   {
    "duration": 294,
    "start_time": "2022-06-19T19:02:09.325Z"
   },
   {
    "duration": 5,
    "start_time": "2022-06-19T19:03:23.077Z"
   },
   {
    "duration": 6,
    "start_time": "2022-06-19T19:03:47.830Z"
   },
   {
    "duration": 18,
    "start_time": "2022-06-19T19:04:56.032Z"
   },
   {
    "duration": 10,
    "start_time": "2022-06-19T20:09:38.326Z"
   },
   {
    "duration": 8,
    "start_time": "2022-06-19T20:10:28.079Z"
   },
   {
    "duration": 7,
    "start_time": "2022-06-19T20:10:49.302Z"
   },
   {
    "duration": 314,
    "start_time": "2022-06-19T20:13:18.528Z"
   },
   {
    "duration": 335,
    "start_time": "2022-06-19T20:13:45.744Z"
   },
   {
    "duration": 2170,
    "start_time": "2022-06-19T20:13:54.870Z"
   },
   {
    "duration": 257,
    "start_time": "2022-06-19T20:14:11.452Z"
   },
   {
    "duration": 284,
    "start_time": "2022-06-19T20:16:12.641Z"
   },
   {
    "duration": 253,
    "start_time": "2022-06-19T20:18:23.304Z"
   },
   {
    "duration": 255,
    "start_time": "2022-06-19T20:18:42.107Z"
   },
   {
    "duration": 865,
    "start_time": "2022-06-19T20:20:52.423Z"
   },
   {
    "duration": 140,
    "start_time": "2022-06-19T20:21:42.828Z"
   },
   {
    "duration": 127,
    "start_time": "2022-06-19T20:23:02.161Z"
   },
   {
    "duration": 152,
    "start_time": "2022-06-19T20:23:15.587Z"
   },
   {
    "duration": 135,
    "start_time": "2022-06-19T20:24:10.915Z"
   },
   {
    "duration": 138,
    "start_time": "2022-06-19T20:25:12.105Z"
   },
   {
    "duration": 127,
    "start_time": "2022-06-19T20:26:14.787Z"
   },
   {
    "duration": 146,
    "start_time": "2022-06-19T20:26:32.635Z"
   },
   {
    "duration": 159,
    "start_time": "2022-06-19T20:27:30.599Z"
   },
   {
    "duration": 131,
    "start_time": "2022-06-19T20:27:50.234Z"
   },
   {
    "duration": 355,
    "start_time": "2022-06-19T20:28:19.528Z"
   },
   {
    "duration": 285,
    "start_time": "2022-06-19T20:36:06.817Z"
   },
   {
    "duration": 7,
    "start_time": "2022-06-19T20:36:20.191Z"
   },
   {
    "duration": 322,
    "start_time": "2022-06-19T20:36:39.189Z"
   },
   {
    "duration": 248,
    "start_time": "2022-06-19T20:38:29.425Z"
   },
   {
    "duration": 190,
    "start_time": "2022-06-19T20:39:23.696Z"
   },
   {
    "duration": 138,
    "start_time": "2022-06-19T20:39:54.656Z"
   },
   {
    "duration": 386,
    "start_time": "2022-06-19T20:41:51.695Z"
   },
   {
    "duration": 388,
    "start_time": "2022-06-19T20:42:18.560Z"
   },
   {
    "duration": 252,
    "start_time": "2022-06-19T20:42:27.011Z"
   },
   {
    "duration": 310,
    "start_time": "2022-06-19T20:42:38.742Z"
   },
   {
    "duration": 37,
    "start_time": "2022-06-19T21:05:46.065Z"
   },
   {
    "duration": 11,
    "start_time": "2022-06-19T21:09:31.439Z"
   },
   {
    "duration": 19,
    "start_time": "2022-06-19T21:09:32.820Z"
   },
   {
    "duration": 128,
    "start_time": "2022-06-19T21:09:59.771Z"
   },
   {
    "duration": 21,
    "start_time": "2022-06-19T21:10:00.831Z"
   },
   {
    "duration": 20,
    "start_time": "2022-06-19T21:10:01.117Z"
   },
   {
    "duration": 18,
    "start_time": "2022-06-19T21:10:01.507Z"
   },
   {
    "duration": 39,
    "start_time": "2022-06-19T21:10:01.839Z"
   },
   {
    "duration": 6,
    "start_time": "2022-06-19T21:10:01.913Z"
   },
   {
    "duration": 9,
    "start_time": "2022-06-19T21:10:02.242Z"
   },
   {
    "duration": 9,
    "start_time": "2022-06-19T21:10:02.705Z"
   },
   {
    "duration": 11,
    "start_time": "2022-06-19T21:10:03.735Z"
   },
   {
    "duration": 43,
    "start_time": "2022-06-19T21:10:04.045Z"
   },
   {
    "duration": 27,
    "start_time": "2022-06-19T21:10:04.274Z"
   },
   {
    "duration": 47,
    "start_time": "2022-06-19T21:10:09.072Z"
   },
   {
    "duration": 79,
    "start_time": "2022-06-19T21:10:10.567Z"
   },
   {
    "duration": 8,
    "start_time": "2022-06-19T21:10:15.666Z"
   },
   {
    "duration": 23,
    "start_time": "2022-06-19T21:10:35.718Z"
   },
   {
    "duration": 9,
    "start_time": "2022-06-19T21:10:38.891Z"
   },
   {
    "duration": 10,
    "start_time": "2022-06-19T21:10:42.135Z"
   },
   {
    "duration": 10,
    "start_time": "2022-06-19T21:11:52.792Z"
   },
   {
    "duration": 19,
    "start_time": "2022-06-19T21:12:36.190Z"
   },
   {
    "duration": 8,
    "start_time": "2022-06-19T21:15:30.342Z"
   },
   {
    "duration": 10,
    "start_time": "2022-06-19T21:18:08.024Z"
   },
   {
    "duration": 19,
    "start_time": "2022-06-19T21:18:24.601Z"
   },
   {
    "duration": 39,
    "start_time": "2022-06-19T21:18:31.593Z"
   },
   {
    "duration": 15,
    "start_time": "2022-06-19T21:19:03.571Z"
   },
   {
    "duration": 39,
    "start_time": "2022-06-19T21:19:13.658Z"
   },
   {
    "duration": 83,
    "start_time": "2022-06-19T21:19:21.170Z"
   },
   {
    "duration": 12,
    "start_time": "2022-06-19T21:20:22.515Z"
   },
   {
    "duration": 64,
    "start_time": "2022-06-19T21:23:20.019Z"
   },
   {
    "duration": 19,
    "start_time": "2022-06-19T21:25:25.614Z"
   },
   {
    "duration": 17,
    "start_time": "2022-06-19T21:28:18.090Z"
   },
   {
    "duration": 125,
    "start_time": "2022-06-19T21:32:39.752Z"
   },
   {
    "duration": 16,
    "start_time": "2022-06-19T21:32:40.346Z"
   },
   {
    "duration": 16,
    "start_time": "2022-06-19T21:32:40.728Z"
   },
   {
    "duration": 16,
    "start_time": "2022-06-19T21:32:41.678Z"
   },
   {
    "duration": 31,
    "start_time": "2022-06-19T21:32:44.681Z"
   },
   {
    "duration": 6,
    "start_time": "2022-06-19T21:32:45.357Z"
   },
   {
    "duration": 10,
    "start_time": "2022-06-19T21:32:49.655Z"
   },
   {
    "duration": 127,
    "start_time": "2022-06-19T21:36:33.747Z"
   },
   {
    "duration": 10,
    "start_time": "2022-06-19T21:37:07.120Z"
   },
   {
    "duration": 50,
    "start_time": "2022-06-19T21:38:36.901Z"
   },
   {
    "duration": 53,
    "start_time": "2022-06-19T21:39:28.185Z"
   },
   {
    "duration": 15,
    "start_time": "2022-06-19T21:40:04.886Z"
   },
   {
    "duration": 13,
    "start_time": "2022-06-19T21:40:16.609Z"
   },
   {
    "duration": 42,
    "start_time": "2022-06-19T21:41:44.862Z"
   },
   {
    "duration": 56,
    "start_time": "2022-06-19T21:42:05.222Z"
   },
   {
    "duration": 8,
    "start_time": "2022-06-19T21:42:23.109Z"
   },
   {
    "duration": 43,
    "start_time": "2022-06-19T21:44:10.393Z"
   },
   {
    "duration": 60,
    "start_time": "2022-06-19T21:44:37.301Z"
   },
   {
    "duration": 7,
    "start_time": "2022-06-19T21:45:21.805Z"
   },
   {
    "duration": 58,
    "start_time": "2022-06-19T21:45:50.754Z"
   },
   {
    "duration": 40,
    "start_time": "2022-06-19T21:46:14.258Z"
   },
   {
    "duration": 38,
    "start_time": "2022-06-19T21:47:15.169Z"
   },
   {
    "duration": 12,
    "start_time": "2022-06-19T21:47:38.094Z"
   },
   {
    "duration": 31,
    "start_time": "2022-06-19T21:47:53.392Z"
   },
   {
    "duration": 8,
    "start_time": "2022-06-19T21:47:57.662Z"
   },
   {
    "duration": 39,
    "start_time": "2022-06-19T21:48:47.830Z"
   },
   {
    "duration": 44,
    "start_time": "2022-06-19T21:49:42.993Z"
   },
   {
    "duration": 56,
    "start_time": "2022-06-19T21:50:04.775Z"
   },
   {
    "duration": 62,
    "start_time": "2022-06-19T21:50:57.917Z"
   },
   {
    "duration": 9,
    "start_time": "2022-06-19T21:51:14.506Z"
   },
   {
    "duration": 10,
    "start_time": "2022-06-19T21:51:20.475Z"
   },
   {
    "duration": 11,
    "start_time": "2022-06-19T21:51:30.089Z"
   },
   {
    "duration": 13,
    "start_time": "2022-06-19T21:51:58.078Z"
   },
   {
    "duration": 35,
    "start_time": "2022-06-19T21:55:33.901Z"
   },
   {
    "duration": 41,
    "start_time": "2022-06-19T21:55:54.522Z"
   },
   {
    "duration": 30,
    "start_time": "2022-06-19T21:57:20.324Z"
   },
   {
    "duration": 46,
    "start_time": "2022-06-19T21:59:13.374Z"
   },
   {
    "duration": 6,
    "start_time": "2022-06-19T22:00:11.842Z"
   },
   {
    "duration": 9,
    "start_time": "2022-06-19T22:02:24.253Z"
   },
   {
    "duration": 64,
    "start_time": "2022-06-19T22:02:57.783Z"
   },
   {
    "duration": 3,
    "start_time": "2022-06-19T22:07:30.585Z"
   },
   {
    "duration": 46,
    "start_time": "2022-06-19T22:07:55.198Z"
   },
   {
    "duration": 42,
    "start_time": "2022-06-19T22:11:48.209Z"
   },
   {
    "duration": 40,
    "start_time": "2022-06-19T22:12:30.204Z"
   },
   {
    "duration": 16,
    "start_time": "2022-06-19T22:13:31.520Z"
   },
   {
    "duration": 16,
    "start_time": "2022-06-19T22:13:36.470Z"
   },
   {
    "duration": 41,
    "start_time": "2022-06-19T22:15:11.681Z"
   },
   {
    "duration": 675,
    "start_time": "2022-06-19T22:18:26.981Z"
   },
   {
    "duration": 10,
    "start_time": "2022-06-19T22:18:41.291Z"
   },
   {
    "duration": 10,
    "start_time": "2022-06-19T22:20:17.526Z"
   },
   {
    "duration": 12,
    "start_time": "2022-06-19T22:21:33.891Z"
   },
   {
    "duration": 12,
    "start_time": "2022-06-19T22:22:19.377Z"
   },
   {
    "duration": 13,
    "start_time": "2022-06-19T22:23:00.205Z"
   },
   {
    "duration": 11,
    "start_time": "2022-06-19T22:23:02.549Z"
   },
   {
    "duration": 624,
    "start_time": "2022-06-19T22:23:06.922Z"
   },
   {
    "duration": 11,
    "start_time": "2022-06-19T22:23:23.019Z"
   },
   {
    "duration": 7,
    "start_time": "2022-06-19T22:23:25.275Z"
   },
   {
    "duration": 353,
    "start_time": "2022-06-19T22:23:32.822Z"
   },
   {
    "duration": 7,
    "start_time": "2022-06-19T22:23:54.159Z"
   },
   {
    "duration": 184,
    "start_time": "2022-06-19T22:23:57.080Z"
   },
   {
    "duration": 9,
    "start_time": "2022-06-19T22:24:33.103Z"
   },
   {
    "duration": 6,
    "start_time": "2022-06-19T22:24:34.420Z"
   },
   {
    "duration": 349,
    "start_time": "2022-06-19T22:24:36.134Z"
   },
   {
    "duration": 6,
    "start_time": "2022-06-19T22:24:53.132Z"
   },
   {
    "duration": 223,
    "start_time": "2022-06-19T22:24:56.191Z"
   },
   {
    "duration": 12,
    "start_time": "2022-06-19T22:25:20.956Z"
   },
   {
    "duration": 6,
    "start_time": "2022-06-19T22:25:22.507Z"
   },
   {
    "duration": 45,
    "start_time": "2022-06-19T22:25:24.512Z"
   },
   {
    "duration": 351,
    "start_time": "2022-06-19T22:25:28.660Z"
   },
   {
    "duration": 9,
    "start_time": "2022-06-19T22:25:40.599Z"
   },
   {
    "duration": 9,
    "start_time": "2022-06-19T22:25:41.255Z"
   },
   {
    "duration": 202,
    "start_time": "2022-06-19T22:25:42.285Z"
   },
   {
    "duration": 9,
    "start_time": "2022-06-19T22:26:39.537Z"
   },
   {
    "duration": 6,
    "start_time": "2022-06-19T22:26:53.487Z"
   },
   {
    "duration": 358,
    "start_time": "2022-06-19T22:27:17.318Z"
   },
   {
    "duration": 1239,
    "start_time": "2022-06-20T19:40:19.348Z"
   },
   {
    "duration": 15,
    "start_time": "2022-06-20T19:40:22.678Z"
   },
   {
    "duration": 14,
    "start_time": "2022-06-20T19:40:23.061Z"
   },
   {
    "duration": 14,
    "start_time": "2022-06-20T19:40:23.457Z"
   },
   {
    "duration": 36,
    "start_time": "2022-06-20T19:40:23.864Z"
   },
   {
    "duration": 5,
    "start_time": "2022-06-20T19:40:24.108Z"
   },
   {
    "duration": 10,
    "start_time": "2022-06-20T19:40:24.395Z"
   },
   {
    "duration": 9,
    "start_time": "2022-06-20T19:40:24.811Z"
   },
   {
    "duration": 10,
    "start_time": "2022-06-20T19:40:25.108Z"
   },
   {
    "duration": 12,
    "start_time": "2022-06-20T19:40:25.648Z"
   },
   {
    "duration": 7,
    "start_time": "2022-06-20T19:40:25.708Z"
   },
   {
    "duration": 35,
    "start_time": "2022-06-20T19:40:26.166Z"
   },
   {
    "duration": 39,
    "start_time": "2022-06-20T19:40:26.263Z"
   },
   {
    "duration": 12,
    "start_time": "2022-06-20T19:40:26.764Z"
   },
   {
    "duration": 14,
    "start_time": "2022-06-20T19:40:27.152Z"
   },
   {
    "duration": 9,
    "start_time": "2022-06-20T19:40:27.504Z"
   },
   {
    "duration": 10,
    "start_time": "2022-06-20T19:40:27.969Z"
   },
   {
    "duration": 7,
    "start_time": "2022-06-20T19:40:28.057Z"
   },
   {
    "duration": 12,
    "start_time": "2022-06-20T19:40:28.552Z"
   },
   {
    "duration": 8,
    "start_time": "2022-06-20T19:40:28.900Z"
   },
   {
    "duration": 293,
    "start_time": "2022-06-20T19:40:29.348Z"
   },
   {
    "duration": 10,
    "start_time": "2022-06-20T19:40:29.875Z"
   },
   {
    "duration": 7,
    "start_time": "2022-06-20T19:40:30.067Z"
   },
   {
    "duration": 386,
    "start_time": "2022-06-20T19:40:30.156Z"
   },
   {
    "duration": 6,
    "start_time": "2022-06-20T19:40:30.544Z"
   },
   {
    "duration": 188,
    "start_time": "2022-06-20T19:40:30.705Z"
   },
   {
    "duration": 10,
    "start_time": "2022-06-20T19:40:31.255Z"
   },
   {
    "duration": 7,
    "start_time": "2022-06-20T19:40:32.521Z"
   },
   {
    "duration": 307,
    "start_time": "2022-06-20T19:40:32.616Z"
   },
   {
    "duration": 6,
    "start_time": "2022-06-20T19:40:32.925Z"
   },
   {
    "duration": 186,
    "start_time": "2022-06-20T19:40:33.002Z"
   },
   {
    "duration": 9,
    "start_time": "2022-06-20T19:40:34.847Z"
   },
   {
    "duration": 5,
    "start_time": "2022-06-20T19:40:35.757Z"
   },
   {
    "duration": 38,
    "start_time": "2022-06-20T19:40:36.169Z"
   },
   {
    "duration": 362,
    "start_time": "2022-06-20T19:40:36.251Z"
   },
   {
    "duration": 13,
    "start_time": "2022-06-20T19:40:36.767Z"
   },
   {
    "duration": 10,
    "start_time": "2022-06-20T19:40:37.797Z"
   },
   {
    "duration": 192,
    "start_time": "2022-06-20T19:40:37.870Z"
   },
   {
    "duration": 9,
    "start_time": "2022-06-20T19:40:39.593Z"
   },
   {
    "duration": 7,
    "start_time": "2022-06-20T19:40:40.181Z"
   },
   {
    "duration": 295,
    "start_time": "2022-06-20T19:40:40.362Z"
   },
   {
    "duration": 24,
    "start_time": "2022-06-20T19:55:06.277Z"
   },
   {
    "duration": 36,
    "start_time": "2022-06-20T19:55:49.465Z"
   },
   {
    "duration": 71,
    "start_time": "2022-06-20T20:00:45.777Z"
   },
   {
    "duration": 7,
    "start_time": "2022-06-20T20:00:58.151Z"
   },
   {
    "duration": 10,
    "start_time": "2022-06-20T20:01:24.412Z"
   },
   {
    "duration": 9,
    "start_time": "2022-06-20T20:01:45.208Z"
   },
   {
    "duration": 11,
    "start_time": "2022-06-20T20:02:23.509Z"
   },
   {
    "duration": 384,
    "start_time": "2022-06-20T20:02:29.362Z"
   },
   {
    "duration": 24,
    "start_time": "2022-06-20T20:03:18.706Z"
   },
   {
    "duration": 9,
    "start_time": "2022-06-20T20:03:42.872Z"
   },
   {
    "duration": 37,
    "start_time": "2022-06-20T20:04:15.020Z"
   },
   {
    "duration": 7,
    "start_time": "2022-06-20T20:04:43.465Z"
   },
   {
    "duration": 56,
    "start_time": "2022-06-20T20:07:31.173Z"
   },
   {
    "duration": 10,
    "start_time": "2022-06-20T20:08:35.211Z"
   },
   {
    "duration": 18,
    "start_time": "2022-06-20T20:10:40.385Z"
   },
   {
    "duration": 68,
    "start_time": "2022-06-20T20:10:57.018Z"
   },
   {
    "duration": 52,
    "start_time": "2022-06-20T20:16:12.006Z"
   },
   {
    "duration": 53,
    "start_time": "2022-06-20T20:16:49.476Z"
   },
   {
    "duration": 50,
    "start_time": "2022-06-20T20:17:31.209Z"
   },
   {
    "duration": 49,
    "start_time": "2022-06-20T20:18:09.510Z"
   },
   {
    "duration": 33,
    "start_time": "2022-06-20T20:18:32.761Z"
   },
   {
    "duration": 37,
    "start_time": "2022-06-20T20:21:05.625Z"
   },
   {
    "duration": 33,
    "start_time": "2022-06-20T20:21:28.046Z"
   },
   {
    "duration": 15,
    "start_time": "2022-06-20T20:21:37.490Z"
   },
   {
    "duration": 14,
    "start_time": "2022-06-20T20:21:54.496Z"
   },
   {
    "duration": 12,
    "start_time": "2022-06-20T20:22:50.757Z"
   },
   {
    "duration": 12,
    "start_time": "2022-06-20T20:23:19.360Z"
   },
   {
    "duration": 22,
    "start_time": "2022-06-20T20:23:36.721Z"
   },
   {
    "duration": 66,
    "start_time": "2022-06-20T20:24:15.485Z"
   },
   {
    "duration": 12,
    "start_time": "2022-06-20T20:24:48.318Z"
   },
   {
    "duration": 12,
    "start_time": "2022-06-20T20:25:06.025Z"
   },
   {
    "duration": 12,
    "start_time": "2022-06-20T20:25:12.664Z"
   },
   {
    "duration": 17,
    "start_time": "2022-06-20T20:25:46.257Z"
   },
   {
    "duration": 124,
    "start_time": "2022-06-20T20:37:19.536Z"
   },
   {
    "duration": 12,
    "start_time": "2022-06-20T20:37:22.405Z"
   },
   {
    "duration": 12,
    "start_time": "2022-06-20T20:37:23.529Z"
   },
   {
    "duration": 11,
    "start_time": "2022-06-20T20:37:24.147Z"
   },
   {
    "duration": 35,
    "start_time": "2022-06-20T20:37:24.605Z"
   },
   {
    "duration": 6,
    "start_time": "2022-06-20T20:37:25.516Z"
   },
   {
    "duration": 10,
    "start_time": "2022-06-20T20:37:26.915Z"
   },
   {
    "duration": 8,
    "start_time": "2022-06-20T20:37:27.247Z"
   },
   {
    "duration": 10,
    "start_time": "2022-06-20T20:37:28.555Z"
   },
   {
    "duration": 11,
    "start_time": "2022-06-20T20:37:29.647Z"
   },
   {
    "duration": 6,
    "start_time": "2022-06-20T20:37:29.708Z"
   },
   {
    "duration": 36,
    "start_time": "2022-06-20T20:37:30.509Z"
   },
   {
    "duration": 38,
    "start_time": "2022-06-20T20:37:30.576Z"
   },
   {
    "duration": 11,
    "start_time": "2022-06-20T20:37:33.018Z"
   },
   {
    "duration": 13,
    "start_time": "2022-06-20T20:37:34.792Z"
   },
   {
    "duration": 9,
    "start_time": "2022-06-20T20:38:26.052Z"
   },
   {
    "duration": 10,
    "start_time": "2022-06-20T20:38:26.456Z"
   },
   {
    "duration": 7,
    "start_time": "2022-06-20T20:38:26.664Z"
   },
   {
    "duration": 9,
    "start_time": "2022-06-20T20:38:27.866Z"
   },
   {
    "duration": 7,
    "start_time": "2022-06-20T20:38:28.252Z"
   },
   {
    "duration": 283,
    "start_time": "2022-06-20T20:38:30.556Z"
   },
   {
    "duration": 10,
    "start_time": "2022-06-20T20:38:31.546Z"
   },
   {
    "duration": 6,
    "start_time": "2022-06-20T20:38:33.220Z"
   },
   {
    "duration": 10,
    "start_time": "2022-06-20T20:42:47.601Z"
   },
   {
    "duration": 14,
    "start_time": "2022-06-20T20:43:09.188Z"
   },
   {
    "duration": 20,
    "start_time": "2022-06-20T20:43:53.869Z"
   },
   {
    "duration": 7,
    "start_time": "2022-06-20T20:48:37.668Z"
   },
   {
    "duration": 297,
    "start_time": "2022-06-20T20:48:38.606Z"
   },
   {
    "duration": 5,
    "start_time": "2022-06-20T20:48:39.876Z"
   },
   {
    "duration": 178,
    "start_time": "2022-06-20T20:48:41.806Z"
   },
   {
    "duration": 142,
    "start_time": "2022-06-20T20:50:37.889Z"
   },
   {
    "duration": 172,
    "start_time": "2022-06-20T20:50:47.862Z"
   },
   {
    "duration": 10,
    "start_time": "2022-06-20T20:55:06.782Z"
   },
   {
    "duration": 15,
    "start_time": "2022-06-20T20:55:18.011Z"
   },
   {
    "duration": 140,
    "start_time": "2022-06-20T20:55:44.084Z"
   },
   {
    "duration": 13,
    "start_time": "2022-06-20T20:56:25.489Z"
   },
   {
    "duration": 13,
    "start_time": "2022-06-20T20:56:58.408Z"
   },
   {
    "duration": 15,
    "start_time": "2022-06-20T20:57:10.781Z"
   },
   {
    "duration": 15,
    "start_time": "2022-06-20T20:57:19.974Z"
   },
   {
    "duration": 13,
    "start_time": "2022-06-20T20:57:30.874Z"
   },
   {
    "duration": 13,
    "start_time": "2022-06-20T20:57:53.170Z"
   },
   {
    "duration": 13,
    "start_time": "2022-06-20T20:58:56.562Z"
   },
   {
    "duration": 14,
    "start_time": "2022-06-20T20:59:02.587Z"
   },
   {
    "duration": 16,
    "start_time": "2022-06-20T20:59:14.819Z"
   },
   {
    "duration": 15,
    "start_time": "2022-06-20T20:59:21.776Z"
   },
   {
    "duration": 10,
    "start_time": "2022-06-20T21:00:29.416Z"
   },
   {
    "duration": 8,
    "start_time": "2022-06-20T21:00:30.669Z"
   },
   {
    "duration": 429,
    "start_time": "2022-06-20T21:00:31.713Z"
   },
   {
    "duration": 6,
    "start_time": "2022-06-20T21:00:33.204Z"
   },
   {
    "duration": 70,
    "start_time": "2022-06-20T21:02:14.670Z"
   },
   {
    "duration": 14,
    "start_time": "2022-06-20T21:02:23.101Z"
   },
   {
    "duration": 18,
    "start_time": "2022-06-20T21:03:45.174Z"
   },
   {
    "duration": 11,
    "start_time": "2022-06-20T21:03:47.170Z"
   },
   {
    "duration": 6,
    "start_time": "2022-06-20T21:03:47.329Z"
   },
   {
    "duration": 316,
    "start_time": "2022-06-20T21:03:47.787Z"
   },
   {
    "duration": 6,
    "start_time": "2022-06-20T21:03:49.015Z"
   },
   {
    "duration": 323,
    "start_time": "2022-06-20T21:04:05.281Z"
   },
   {
    "duration": 15,
    "start_time": "2022-06-20T21:05:12.774Z"
   },
   {
    "duration": 15,
    "start_time": "2022-06-20T21:05:41.392Z"
   },
   {
    "duration": 13,
    "start_time": "2022-06-20T21:05:57.877Z"
   },
   {
    "duration": 15,
    "start_time": "2022-06-20T21:06:06.584Z"
   },
   {
    "duration": 14,
    "start_time": "2022-06-20T21:06:13.394Z"
   },
   {
    "duration": 15,
    "start_time": "2022-06-20T21:06:28.168Z"
   },
   {
    "duration": 15,
    "start_time": "2022-06-20T21:06:42.822Z"
   },
   {
    "duration": 14,
    "start_time": "2022-06-20T21:06:52.372Z"
   },
   {
    "duration": 14,
    "start_time": "2022-06-20T21:07:07.135Z"
   },
   {
    "duration": 17,
    "start_time": "2022-06-20T21:07:36.962Z"
   },
   {
    "duration": 14,
    "start_time": "2022-06-20T21:07:44.780Z"
   },
   {
    "duration": 9,
    "start_time": "2022-06-20T21:07:55.763Z"
   },
   {
    "duration": 7,
    "start_time": "2022-06-20T21:07:56.673Z"
   },
   {
    "duration": 320,
    "start_time": "2022-06-20T21:07:59.869Z"
   },
   {
    "duration": 13,
    "start_time": "2022-06-20T21:08:24.270Z"
   },
   {
    "duration": 12,
    "start_time": "2022-06-20T21:08:32.362Z"
   },
   {
    "duration": 15,
    "start_time": "2022-06-20T21:08:46.071Z"
   },
   {
    "duration": 14,
    "start_time": "2022-06-20T21:09:11.400Z"
   },
   {
    "duration": 13,
    "start_time": "2022-06-20T21:09:24.283Z"
   },
   {
    "duration": 13,
    "start_time": "2022-06-20T21:09:35.156Z"
   },
   {
    "duration": 14,
    "start_time": "2022-06-20T21:09:56.377Z"
   },
   {
    "duration": 15,
    "start_time": "2022-06-20T21:10:02.486Z"
   },
   {
    "duration": 13,
    "start_time": "2022-06-20T21:10:08.194Z"
   },
   {
    "duration": 17,
    "start_time": "2022-06-20T21:10:14.071Z"
   },
   {
    "duration": 16,
    "start_time": "2022-06-20T21:10:47.561Z"
   },
   {
    "duration": 13,
    "start_time": "2022-06-20T21:10:56.261Z"
   },
   {
    "duration": 13,
    "start_time": "2022-06-20T21:11:03.168Z"
   },
   {
    "duration": 15,
    "start_time": "2022-06-20T21:11:19.226Z"
   },
   {
    "duration": 17,
    "start_time": "2022-06-20T21:12:07.909Z"
   },
   {
    "duration": 14,
    "start_time": "2022-06-20T21:13:10.261Z"
   },
   {
    "duration": 14,
    "start_time": "2022-06-20T21:13:17.688Z"
   },
   {
    "duration": 13,
    "start_time": "2022-06-20T21:13:24.567Z"
   },
   {
    "duration": 13,
    "start_time": "2022-06-20T21:13:48.213Z"
   },
   {
    "duration": 13,
    "start_time": "2022-06-20T21:14:00.261Z"
   },
   {
    "duration": 16,
    "start_time": "2022-06-20T21:14:06.906Z"
   },
   {
    "duration": 15,
    "start_time": "2022-06-20T21:14:22.684Z"
   },
   {
    "duration": 13,
    "start_time": "2022-06-20T21:15:27.570Z"
   },
   {
    "duration": 6,
    "start_time": "2022-06-20T21:15:46.842Z"
   },
   {
    "duration": 186,
    "start_time": "2022-06-20T21:15:51.731Z"
   },
   {
    "duration": 10,
    "start_time": "2022-06-20T21:17:11.272Z"
   },
   {
    "duration": 5,
    "start_time": "2022-06-20T21:17:17.660Z"
   },
   {
    "duration": 14,
    "start_time": "2022-06-20T21:17:19.037Z"
   },
   {
    "duration": 303,
    "start_time": "2022-06-20T21:17:27.800Z"
   },
   {
    "duration": 10,
    "start_time": "2022-06-20T21:19:01.357Z"
   },
   {
    "duration": 7,
    "start_time": "2022-06-20T21:20:17.779Z"
   },
   {
    "duration": 295,
    "start_time": "2022-06-20T21:20:18.631Z"
   },
   {
    "duration": 293,
    "start_time": "2022-06-20T21:21:29.889Z"
   },
   {
    "duration": 224,
    "start_time": "2022-06-20T21:21:40.431Z"
   },
   {
    "duration": 10,
    "start_time": "2022-06-20T21:22:34.433Z"
   },
   {
    "duration": 6,
    "start_time": "2022-06-20T21:22:35.567Z"
   },
   {
    "duration": 402,
    "start_time": "2022-06-20T21:22:36.698Z"
   },
   {
    "duration": 11,
    "start_time": "2022-06-20T21:24:54.662Z"
   },
   {
    "duration": 11,
    "start_time": "2022-06-20T21:25:12.180Z"
   },
   {
    "duration": 9,
    "start_time": "2022-06-20T21:25:40.332Z"
   },
   {
    "duration": 12,
    "start_time": "2022-06-20T21:25:46.915Z"
   },
   {
    "duration": 10,
    "start_time": "2022-06-20T21:26:25.735Z"
   },
   {
    "duration": 11,
    "start_time": "2022-06-20T21:36:05.610Z"
   },
   {
    "duration": 32,
    "start_time": "2022-06-20T21:39:17.647Z"
   },
   {
    "duration": 13,
    "start_time": "2022-06-20T21:39:35.963Z"
   },
   {
    "duration": 14,
    "start_time": "2022-06-20T21:40:02.554Z"
   },
   {
    "duration": 87,
    "start_time": "2022-06-20T21:40:43.720Z"
   },
   {
    "duration": 12,
    "start_time": "2022-06-20T21:41:11.708Z"
   },
   {
    "duration": 12,
    "start_time": "2022-06-20T21:41:30.906Z"
   },
   {
    "duration": 961,
    "start_time": "2022-06-21T08:52:55.567Z"
   },
   {
    "duration": 15,
    "start_time": "2022-06-21T08:52:56.531Z"
   },
   {
    "duration": 13,
    "start_time": "2022-06-21T08:52:56.688Z"
   },
   {
    "duration": 10,
    "start_time": "2022-06-21T08:52:57.152Z"
   },
   {
    "duration": 39,
    "start_time": "2022-06-21T08:52:57.830Z"
   },
   {
    "duration": 6,
    "start_time": "2022-06-21T08:52:58.012Z"
   },
   {
    "duration": 10,
    "start_time": "2022-06-21T08:53:00.646Z"
   },
   {
    "duration": 10,
    "start_time": "2022-06-21T08:53:01.140Z"
   },
   {
    "duration": 11,
    "start_time": "2022-06-21T08:53:01.495Z"
   },
   {
    "duration": 11,
    "start_time": "2022-06-21T08:53:01.874Z"
   },
   {
    "duration": 7,
    "start_time": "2022-06-21T08:53:01.929Z"
   },
   {
    "duration": 37,
    "start_time": "2022-06-21T08:53:02.313Z"
   },
   {
    "duration": 39,
    "start_time": "2022-06-21T08:53:02.384Z"
   },
   {
    "duration": 12,
    "start_time": "2022-06-21T08:53:02.726Z"
   },
   {
    "duration": 13,
    "start_time": "2022-06-21T08:53:03.072Z"
   },
   {
    "duration": 10,
    "start_time": "2022-06-21T08:53:03.500Z"
   },
   {
    "duration": 10,
    "start_time": "2022-06-21T08:53:03.820Z"
   },
   {
    "duration": 6,
    "start_time": "2022-06-21T08:53:03.987Z"
   },
   {
    "duration": 10,
    "start_time": "2022-06-21T08:53:04.363Z"
   },
   {
    "duration": 8,
    "start_time": "2022-06-21T08:53:04.621Z"
   },
   {
    "duration": 290,
    "start_time": "2022-06-21T08:53:05.048Z"
   },
   {
    "duration": 9,
    "start_time": "2022-06-21T08:53:05.594Z"
   },
   {
    "duration": 6,
    "start_time": "2022-06-21T08:53:05.673Z"
   },
   {
    "duration": 371,
    "start_time": "2022-06-21T08:53:05.845Z"
   },
   {
    "duration": 5,
    "start_time": "2022-06-21T08:53:06.218Z"
   },
   {
    "duration": 200,
    "start_time": "2022-06-21T08:53:06.224Z"
   },
   {
    "duration": 25,
    "start_time": "2022-06-21T08:53:06.426Z"
   },
   {
    "duration": 10,
    "start_time": "2022-06-21T08:53:06.575Z"
   },
   {
    "duration": 8,
    "start_time": "2022-06-21T08:53:06.650Z"
   },
   {
    "duration": 311,
    "start_time": "2022-06-21T08:53:06.825Z"
   },
   {
    "duration": 15,
    "start_time": "2022-06-21T08:53:07.138Z"
   },
   {
    "duration": 5,
    "start_time": "2022-06-21T08:53:07.155Z"
   },
   {
    "duration": 240,
    "start_time": "2022-06-21T08:53:07.162Z"
   },
   {
    "duration": 9,
    "start_time": "2022-06-21T08:53:07.549Z"
   },
   {
    "duration": 6,
    "start_time": "2022-06-21T08:53:07.631Z"
   },
   {
    "duration": 14,
    "start_time": "2022-06-21T08:53:07.783Z"
   },
   {
    "duration": 347,
    "start_time": "2022-06-21T08:53:07.885Z"
   },
   {
    "duration": 10,
    "start_time": "2022-06-21T08:53:08.366Z"
   },
   {
    "duration": 6,
    "start_time": "2022-06-21T08:53:08.451Z"
   },
   {
    "duration": 212,
    "start_time": "2022-06-21T08:53:08.633Z"
   },
   {
    "duration": 9,
    "start_time": "2022-06-21T08:53:09.105Z"
   },
   {
    "duration": 7,
    "start_time": "2022-06-21T08:53:09.307Z"
   },
   {
    "duration": 331,
    "start_time": "2022-06-21T08:53:09.399Z"
   },
   {
    "duration": 14,
    "start_time": "2022-06-21T08:53:09.732Z"
   },
   {
    "duration": 79,
    "start_time": "2022-06-21T08:53:09.960Z"
   },
   {
    "duration": 14,
    "start_time": "2022-06-21T08:53:10.197Z"
   },
   {
    "duration": 116,
    "start_time": "2022-06-21T09:48:45.927Z"
   },
   {
    "duration": 12,
    "start_time": "2022-06-21T09:48:46.558Z"
   },
   {
    "duration": 11,
    "start_time": "2022-06-21T09:48:47.059Z"
   },
   {
    "duration": 10,
    "start_time": "2022-06-21T09:48:47.421Z"
   },
   {
    "duration": 32,
    "start_time": "2022-06-21T09:48:47.761Z"
   },
   {
    "duration": 6,
    "start_time": "2022-06-21T09:48:47.878Z"
   },
   {
    "duration": 10,
    "start_time": "2022-06-21T09:48:48.176Z"
   },
   {
    "duration": 8,
    "start_time": "2022-06-21T09:48:48.528Z"
   },
   {
    "duration": 10,
    "start_time": "2022-06-21T09:48:48.956Z"
   },
   {
    "duration": 12,
    "start_time": "2022-06-21T09:48:49.308Z"
   },
   {
    "duration": 7,
    "start_time": "2022-06-21T09:48:49.877Z"
   },
   {
    "duration": 39,
    "start_time": "2022-06-21T09:48:49.886Z"
   },
   {
    "duration": 45,
    "start_time": "2022-06-21T09:48:49.934Z"
   },
   {
    "duration": 13,
    "start_time": "2022-06-21T09:48:50.379Z"
   },
   {
    "duration": 13,
    "start_time": "2022-06-21T09:48:50.746Z"
   },
   {
    "duration": 9,
    "start_time": "2022-06-21T09:48:51.248Z"
   },
   {
    "duration": 9,
    "start_time": "2022-06-21T09:48:55.010Z"
   },
   {
    "duration": 7,
    "start_time": "2022-06-21T09:48:55.230Z"
   },
   {
    "duration": 9,
    "start_time": "2022-06-21T09:48:55.609Z"
   },
   {
    "duration": 7,
    "start_time": "2022-06-21T09:48:56.300Z"
   },
   {
    "duration": 328,
    "start_time": "2022-06-21T09:48:56.723Z"
   },
   {
    "duration": 8,
    "start_time": "2022-06-21T09:48:59.257Z"
   },
   {
    "duration": 7,
    "start_time": "2022-06-21T09:48:59.340Z"
   },
   {
    "duration": 306,
    "start_time": "2022-06-21T09:48:59.560Z"
   },
   {
    "duration": 5,
    "start_time": "2022-06-21T09:48:59.868Z"
   },
   {
    "duration": 188,
    "start_time": "2022-06-21T09:49:00.733Z"
   },
   {
    "duration": 28,
    "start_time": "2022-06-21T09:49:00.923Z"
   },
   {
    "duration": 9,
    "start_time": "2022-06-21T09:49:01.361Z"
   },
   {
    "duration": 6,
    "start_time": "2022-06-21T09:49:02.164Z"
   },
   {
    "duration": 325,
    "start_time": "2022-06-21T09:49:02.239Z"
   },
   {
    "duration": 15,
    "start_time": "2022-06-21T09:49:02.566Z"
   },
   {
    "duration": 5,
    "start_time": "2022-06-21T09:49:02.628Z"
   },
   {
    "duration": 201,
    "start_time": "2022-06-21T09:49:03.542Z"
   },
   {
    "duration": 9,
    "start_time": "2022-06-21T09:49:04.007Z"
   },
   {
    "duration": 6,
    "start_time": "2022-06-21T09:49:04.384Z"
   },
   {
    "duration": 14,
    "start_time": "2022-06-21T09:49:04.476Z"
   },
   {
    "duration": 306,
    "start_time": "2022-06-21T09:49:04.685Z"
   },
   {
    "duration": 9,
    "start_time": "2022-06-21T09:49:06.279Z"
   },
   {
    "duration": 8,
    "start_time": "2022-06-21T09:49:07.206Z"
   },
   {
    "duration": 369,
    "start_time": "2022-06-21T09:49:07.288Z"
   },
   {
    "duration": 9,
    "start_time": "2022-06-21T09:49:08.543Z"
   },
   {
    "duration": 5,
    "start_time": "2022-06-21T09:49:08.610Z"
   },
   {
    "duration": 306,
    "start_time": "2022-06-21T09:49:08.865Z"
   },
   {
    "duration": 10,
    "start_time": "2022-06-21T09:49:11.776Z"
   },
   {
    "duration": 11,
    "start_time": "2022-06-21T09:49:13.430Z"
   },
   {
    "duration": 16,
    "start_time": "2022-06-21T09:49:13.637Z"
   },
   {
    "duration": 22,
    "start_time": "2022-06-21T09:56:37.877Z"
   },
   {
    "duration": 5,
    "start_time": "2022-06-21T10:00:41.539Z"
   },
   {
    "duration": 187,
    "start_time": "2022-06-21T10:03:23.139Z"
   },
   {
    "duration": 6,
    "start_time": "2022-06-21T10:07:34.617Z"
   },
   {
    "duration": 179,
    "start_time": "2022-06-21T10:08:03.508Z"
   },
   {
    "duration": 5,
    "start_time": "2022-06-21T10:08:28.117Z"
   },
   {
    "duration": 6,
    "start_time": "2022-06-21T10:13:11.478Z"
   },
   {
    "duration": 171,
    "start_time": "2022-06-21T10:13:35.574Z"
   },
   {
    "duration": 232,
    "start_time": "2022-06-21T10:21:33.098Z"
   },
   {
    "duration": 331,
    "start_time": "2022-06-21T10:22:14.185Z"
   },
   {
    "duration": 196,
    "start_time": "2022-06-21T10:24:25.746Z"
   },
   {
    "duration": 224,
    "start_time": "2022-06-21T10:24:34.484Z"
   },
   {
    "duration": 129,
    "start_time": "2022-06-21T10:26:28.189Z"
   },
   {
    "duration": 467,
    "start_time": "2022-06-21T10:26:40.115Z"
   },
   {
    "duration": 439,
    "start_time": "2022-06-21T10:27:19.171Z"
   },
   {
    "duration": 13,
    "start_time": "2022-06-21T10:29:06.310Z"
   },
   {
    "duration": 11,
    "start_time": "2022-06-21T10:30:10.493Z"
   },
   {
    "duration": 11,
    "start_time": "2022-06-21T10:31:03.987Z"
   },
   {
    "duration": 17,
    "start_time": "2022-06-21T10:31:26.108Z"
   },
   {
    "duration": 15,
    "start_time": "2022-06-21T10:32:37.938Z"
   },
   {
    "duration": 1361,
    "start_time": "2022-06-21T10:32:53.982Z"
   },
   {
    "duration": 192,
    "start_time": "2022-06-21T10:33:36.671Z"
   },
   {
    "duration": 172,
    "start_time": "2022-06-21T10:39:15.574Z"
   },
   {
    "duration": 3,
    "start_time": "2022-06-21T10:40:22.205Z"
   },
   {
    "duration": 8,
    "start_time": "2022-06-21T10:40:34.339Z"
   },
   {
    "duration": 188,
    "start_time": "2022-06-21T10:41:11.889Z"
   },
   {
    "duration": 144,
    "start_time": "2022-06-21T10:42:20.805Z"
   },
   {
    "duration": 140,
    "start_time": "2022-06-21T10:45:53.872Z"
   },
   {
    "duration": 144,
    "start_time": "2022-06-21T10:46:09.210Z"
   },
   {
    "duration": 13,
    "start_time": "2022-06-21T10:50:15.090Z"
   },
   {
    "duration": 5,
    "start_time": "2022-06-21T10:50:48.487Z"
   },
   {
    "duration": 208,
    "start_time": "2022-06-21T10:51:29.138Z"
   },
   {
    "duration": 170,
    "start_time": "2022-06-21T10:56:02.021Z"
   },
   {
    "duration": 184,
    "start_time": "2022-06-21T10:57:53.463Z"
   },
   {
    "duration": 12,
    "start_time": "2022-06-21T11:02:00.888Z"
   },
   {
    "duration": 19,
    "start_time": "2022-06-21T11:02:14.588Z"
   },
   {
    "duration": 18,
    "start_time": "2022-06-21T11:02:43.809Z"
   },
   {
    "duration": 1205,
    "start_time": "2022-06-21T11:05:33.461Z"
   },
   {
    "duration": 1315,
    "start_time": "2022-06-21T11:07:20.871Z"
   },
   {
    "duration": 1415,
    "start_time": "2022-06-21T11:07:31.540Z"
   },
   {
    "duration": 1204,
    "start_time": "2022-06-21T11:07:39.440Z"
   },
   {
    "duration": 1362,
    "start_time": "2022-06-21T11:08:23.565Z"
   },
   {
    "duration": 148,
    "start_time": "2022-06-21T11:08:39.113Z"
   },
   {
    "duration": 199,
    "start_time": "2022-06-21T11:08:41.968Z"
   },
   {
    "duration": 1519,
    "start_time": "2022-06-21T11:08:49.045Z"
   },
   {
    "duration": 11,
    "start_time": "2022-06-21T11:09:06.153Z"
   },
   {
    "duration": 21,
    "start_time": "2022-06-21T11:09:18.577Z"
   },
   {
    "duration": 184,
    "start_time": "2022-06-21T11:09:40.986Z"
   },
   {
    "duration": 183,
    "start_time": "2022-06-21T11:10:04.719Z"
   },
   {
    "duration": 190,
    "start_time": "2022-06-21T11:10:14.655Z"
   },
   {
    "duration": 20,
    "start_time": "2022-06-21T11:11:33.194Z"
   },
   {
    "duration": 6,
    "start_time": "2022-06-21T11:15:19.488Z"
   },
   {
    "duration": 179,
    "start_time": "2022-06-21T11:17:33.470Z"
   },
   {
    "duration": 16,
    "start_time": "2022-06-21T11:22:25.951Z"
   },
   {
    "duration": 304,
    "start_time": "2022-06-21T11:22:47.681Z"
   },
   {
    "duration": 21,
    "start_time": "2022-06-21T11:24:30.641Z"
   },
   {
    "duration": 179,
    "start_time": "2022-06-21T11:25:13.082Z"
   },
   {
    "duration": 149,
    "start_time": "2022-06-21T11:25:31.201Z"
   },
   {
    "duration": 274,
    "start_time": "2022-06-21T11:36:10.305Z"
   },
   {
    "duration": 23,
    "start_time": "2022-06-21T11:36:26.485Z"
   },
   {
    "duration": 24,
    "start_time": "2022-06-21T11:36:45.999Z"
   },
   {
    "duration": 184,
    "start_time": "2022-06-21T11:37:47.250Z"
   },
   {
    "duration": 17,
    "start_time": "2022-06-21T11:40:46.102Z"
   },
   {
    "duration": 166,
    "start_time": "2022-06-21T11:41:16.989Z"
   },
   {
    "duration": 141,
    "start_time": "2022-06-21T11:44:59.876Z"
   },
   {
    "duration": 171,
    "start_time": "2022-06-21T11:53:59.276Z"
   },
   {
    "duration": 1454,
    "start_time": "2022-06-21T13:54:24.957Z"
   },
   {
    "duration": 16,
    "start_time": "2022-06-21T13:54:26.413Z"
   },
   {
    "duration": 21,
    "start_time": "2022-06-21T13:54:26.431Z"
   },
   {
    "duration": 12,
    "start_time": "2022-06-21T13:54:26.605Z"
   },
   {
    "duration": 47,
    "start_time": "2022-06-21T13:54:26.919Z"
   },
   {
    "duration": 6,
    "start_time": "2022-06-21T13:54:27.129Z"
   },
   {
    "duration": 21,
    "start_time": "2022-06-21T13:54:27.531Z"
   },
   {
    "duration": 9,
    "start_time": "2022-06-21T13:54:27.856Z"
   },
   {
    "duration": 12,
    "start_time": "2022-06-21T13:54:28.254Z"
   },
   {
    "duration": 11,
    "start_time": "2022-06-21T13:54:28.583Z"
   },
   {
    "duration": 8,
    "start_time": "2022-06-21T13:54:28.758Z"
   },
   {
    "duration": 64,
    "start_time": "2022-06-21T13:54:29.093Z"
   },
   {
    "duration": 43,
    "start_time": "2022-06-21T13:54:29.258Z"
   },
   {
    "duration": 15,
    "start_time": "2022-06-21T13:54:29.551Z"
   },
   {
    "duration": 16,
    "start_time": "2022-06-21T13:54:30.001Z"
   },
   {
    "duration": 10,
    "start_time": "2022-06-21T13:54:30.291Z"
   },
   {
    "duration": 11,
    "start_time": "2022-06-21T13:54:30.707Z"
   },
   {
    "duration": 7,
    "start_time": "2022-06-21T13:54:30.771Z"
   },
   {
    "duration": 9,
    "start_time": "2022-06-21T13:54:31.124Z"
   },
   {
    "duration": 8,
    "start_time": "2022-06-21T13:54:31.405Z"
   },
   {
    "duration": 342,
    "start_time": "2022-06-21T13:54:31.911Z"
   },
   {
    "duration": 11,
    "start_time": "2022-06-21T13:54:32.458Z"
   },
   {
    "duration": 9,
    "start_time": "2022-06-21T13:54:32.616Z"
   },
   {
    "duration": 496,
    "start_time": "2022-06-21T13:54:32.811Z"
   },
   {
    "duration": 5,
    "start_time": "2022-06-21T13:54:33.309Z"
   },
   {
    "duration": 236,
    "start_time": "2022-06-21T13:54:33.316Z"
   },
   {
    "duration": 20,
    "start_time": "2022-06-21T13:54:33.555Z"
   },
   {
    "duration": 11,
    "start_time": "2022-06-21T13:54:34.093Z"
   },
   {
    "duration": 7,
    "start_time": "2022-06-21T13:54:34.287Z"
   },
   {
    "duration": 371,
    "start_time": "2022-06-21T13:54:34.610Z"
   },
   {
    "duration": 14,
    "start_time": "2022-06-21T13:54:34.982Z"
   },
   {
    "duration": 5,
    "start_time": "2022-06-21T13:54:35.191Z"
   },
   {
    "duration": 232,
    "start_time": "2022-06-21T13:54:35.757Z"
   },
   {
    "duration": 9,
    "start_time": "2022-06-21T13:54:36.991Z"
   },
   {
    "duration": 5,
    "start_time": "2022-06-21T13:54:37.230Z"
   },
   {
    "duration": 14,
    "start_time": "2022-06-21T13:54:37.883Z"
   },
   {
    "duration": 331,
    "start_time": "2022-06-21T13:54:37.995Z"
   },
   {
    "duration": 9,
    "start_time": "2022-06-21T13:54:38.983Z"
   },
   {
    "duration": 7,
    "start_time": "2022-06-21T13:54:39.195Z"
   },
   {
    "duration": 290,
    "start_time": "2022-06-21T13:54:39.366Z"
   },
   {
    "duration": 10,
    "start_time": "2022-06-21T13:54:40.305Z"
   },
   {
    "duration": 7,
    "start_time": "2022-06-21T13:54:40.395Z"
   },
   {
    "duration": 396,
    "start_time": "2022-06-21T13:54:40.595Z"
   },
   {
    "duration": 12,
    "start_time": "2022-06-21T13:54:40.993Z"
   },
   {
    "duration": 103,
    "start_time": "2022-06-21T13:54:41.683Z"
   },
   {
    "duration": 16,
    "start_time": "2022-06-21T13:54:41.788Z"
   },
   {
    "duration": 200,
    "start_time": "2022-06-21T13:54:42.920Z"
   },
   {
    "duration": 6,
    "start_time": "2022-06-21T13:54:43.683Z"
   },
   {
    "duration": 205,
    "start_time": "2022-06-21T13:54:44.007Z"
   },
   {
    "duration": 152,
    "start_time": "2022-06-21T13:54:44.266Z"
   },
   {
    "duration": 9,
    "start_time": "2022-06-21T13:55:03.925Z"
   },
   {
    "duration": 7,
    "start_time": "2022-06-21T13:55:04.016Z"
   },
   {
    "duration": 266,
    "start_time": "2022-06-21T13:55:04.199Z"
   },
   {
    "duration": 8,
    "start_time": "2022-06-21T13:55:04.591Z"
   },
   {
    "duration": 8,
    "start_time": "2022-06-21T13:55:04.756Z"
   },
   {
    "duration": 356,
    "start_time": "2022-06-21T13:55:04.864Z"
   },
   {
    "duration": 9,
    "start_time": "2022-06-21T13:55:05.222Z"
   },
   {
    "duration": 12,
    "start_time": "2022-06-21T13:55:05.415Z"
   },
   {
    "duration": 14,
    "start_time": "2022-06-21T13:55:05.606Z"
   },
   {
    "duration": 198,
    "start_time": "2022-06-21T13:55:05.983Z"
   },
   {
    "duration": 5,
    "start_time": "2022-06-21T13:55:06.231Z"
   },
   {
    "duration": 215,
    "start_time": "2022-06-21T13:55:06.506Z"
   },
   {
    "duration": 181,
    "start_time": "2022-06-21T13:55:06.724Z"
   },
   {
    "duration": 206,
    "start_time": "2022-06-21T13:55:07.810Z"
   },
   {
    "duration": 263,
    "start_time": "2022-06-21T13:55:08.018Z"
   },
   {
    "duration": 236,
    "start_time": "2022-06-21T13:55:08.286Z"
   },
   {
    "duration": 20,
    "start_time": "2022-06-21T13:55:09.466Z"
   },
   {
    "duration": 216,
    "start_time": "2022-06-21T13:55:09.734Z"
   },
   {
    "duration": 178,
    "start_time": "2022-06-21T13:55:11.091Z"
   },
   {
    "duration": 167,
    "start_time": "2022-06-21T13:55:12.067Z"
   },
   {
    "duration": 152,
    "start_time": "2022-06-21T13:55:14.204Z"
   },
   {
    "duration": 190,
    "start_time": "2022-06-21T13:55:19.016Z"
   },
   {
    "duration": 25,
    "start_time": "2022-06-21T13:55:21.803Z"
   },
   {
    "duration": 1042,
    "start_time": "2022-06-21T17:10:10.237Z"
   },
   {
    "duration": 14,
    "start_time": "2022-06-21T17:10:11.281Z"
   },
   {
    "duration": 10,
    "start_time": "2022-06-21T17:10:11.297Z"
   },
   {
    "duration": 10,
    "start_time": "2022-06-21T17:10:11.482Z"
   },
   {
    "duration": 37,
    "start_time": "2022-06-21T17:10:12.081Z"
   },
   {
    "duration": 6,
    "start_time": "2022-06-21T17:10:12.200Z"
   },
   {
    "duration": 12,
    "start_time": "2022-06-21T17:10:12.486Z"
   },
   {
    "duration": 11,
    "start_time": "2022-06-21T17:10:12.955Z"
   },
   {
    "duration": 11,
    "start_time": "2022-06-21T17:10:13.327Z"
   },
   {
    "duration": 12,
    "start_time": "2022-06-21T17:10:13.732Z"
   },
   {
    "duration": 8,
    "start_time": "2022-06-21T17:10:14.078Z"
   },
   {
    "duration": 38,
    "start_time": "2022-06-21T17:10:14.506Z"
   },
   {
    "duration": 43,
    "start_time": "2022-06-21T17:10:14.598Z"
   },
   {
    "duration": 12,
    "start_time": "2022-06-21T17:10:14.985Z"
   },
   {
    "duration": 12,
    "start_time": "2022-06-21T17:10:15.435Z"
   },
   {
    "duration": 8,
    "start_time": "2022-06-21T17:10:15.899Z"
   },
   {
    "duration": 10,
    "start_time": "2022-06-21T17:10:16.393Z"
   },
   {
    "duration": 7,
    "start_time": "2022-06-21T17:10:16.471Z"
   },
   {
    "duration": 10,
    "start_time": "2022-06-21T17:10:16.954Z"
   },
   {
    "duration": 8,
    "start_time": "2022-06-21T17:10:17.192Z"
   },
   {
    "duration": 278,
    "start_time": "2022-06-21T17:10:17.529Z"
   },
   {
    "duration": 10,
    "start_time": "2022-06-21T17:10:18.269Z"
   },
   {
    "duration": 7,
    "start_time": "2022-06-21T17:10:18.413Z"
   },
   {
    "duration": 413,
    "start_time": "2022-06-21T17:10:18.638Z"
   },
   {
    "duration": 6,
    "start_time": "2022-06-21T17:10:19.053Z"
   },
   {
    "duration": 201,
    "start_time": "2022-06-21T17:10:19.103Z"
   },
   {
    "duration": 17,
    "start_time": "2022-06-21T17:10:19.306Z"
   },
   {
    "duration": 9,
    "start_time": "2022-06-21T17:10:19.571Z"
   },
   {
    "duration": 7,
    "start_time": "2022-06-21T17:10:19.755Z"
   },
   {
    "duration": 346,
    "start_time": "2022-06-21T17:10:19.924Z"
   },
   {
    "duration": 15,
    "start_time": "2022-06-21T17:10:20.272Z"
   },
   {
    "duration": 5,
    "start_time": "2022-06-21T17:10:20.289Z"
   },
   {
    "duration": 228,
    "start_time": "2022-06-21T17:10:20.467Z"
   },
   {
    "duration": 9,
    "start_time": "2022-06-21T17:10:20.890Z"
   },
   {
    "duration": 6,
    "start_time": "2022-06-21T17:10:20.966Z"
   },
   {
    "duration": 18,
    "start_time": "2022-06-21T17:10:21.232Z"
   },
   {
    "duration": 300,
    "start_time": "2022-06-21T17:10:21.317Z"
   },
   {
    "duration": 12,
    "start_time": "2022-06-21T17:10:22.073Z"
   },
   {
    "duration": 9,
    "start_time": "2022-06-21T17:10:22.175Z"
   },
   {
    "duration": 242,
    "start_time": "2022-06-21T17:10:22.389Z"
   },
   {
    "duration": 9,
    "start_time": "2022-06-21T17:10:22.862Z"
   },
   {
    "duration": 6,
    "start_time": "2022-06-21T17:10:23.040Z"
   },
   {
    "duration": 326,
    "start_time": "2022-06-21T17:10:23.304Z"
   },
   {
    "duration": 15,
    "start_time": "2022-06-21T17:10:23.632Z"
   },
   {
    "duration": 96,
    "start_time": "2022-06-21T17:10:24.048Z"
   },
   {
    "duration": 15,
    "start_time": "2022-06-21T17:10:24.149Z"
   },
   {
    "duration": 178,
    "start_time": "2022-06-21T17:10:25.020Z"
   },
   {
    "duration": 6,
    "start_time": "2022-06-21T17:10:25.360Z"
   },
   {
    "duration": 183,
    "start_time": "2022-06-21T17:10:25.654Z"
   },
   {
    "duration": 162,
    "start_time": "2022-06-21T17:10:25.841Z"
   },
   {
    "duration": 180,
    "start_time": "2022-06-21T17:10:26.091Z"
   },
   {
    "duration": 164,
    "start_time": "2022-06-21T17:10:26.273Z"
   },
   {
    "duration": 204,
    "start_time": "2022-06-21T17:10:26.525Z"
   },
   {
    "duration": 24,
    "start_time": "2022-06-21T17:10:26.914Z"
   },
   {
    "duration": 206,
    "start_time": "2022-06-21T17:10:27.231Z"
   },
   {
    "duration": 148,
    "start_time": "2022-06-21T17:10:27.625Z"
   },
   {
    "duration": 156,
    "start_time": "2022-06-21T17:10:27.966Z"
   },
   {
    "duration": 145,
    "start_time": "2022-06-21T17:10:28.352Z"
   },
   {
    "duration": 156,
    "start_time": "2022-06-21T17:10:28.969Z"
   },
   {
    "duration": 25,
    "start_time": "2022-06-21T17:10:30.291Z"
   },
   {
    "duration": 7,
    "start_time": "2022-06-21T17:12:57.072Z"
   },
   {
    "duration": 19,
    "start_time": "2022-06-21T17:19:51.215Z"
   },
   {
    "duration": 80,
    "start_time": "2022-06-21T17:20:47.811Z"
   },
   {
    "duration": 17,
    "start_time": "2022-06-21T17:21:05.020Z"
   },
   {
    "duration": 19,
    "start_time": "2022-06-21T17:22:30.894Z"
   },
   {
    "duration": 17,
    "start_time": "2022-06-21T17:22:44.275Z"
   },
   {
    "duration": 19,
    "start_time": "2022-06-21T17:28:15.260Z"
   },
   {
    "duration": 17,
    "start_time": "2022-06-21T17:29:03.047Z"
   },
   {
    "duration": 28,
    "start_time": "2022-06-21T17:29:14.069Z"
   },
   {
    "duration": 29,
    "start_time": "2022-06-21T17:31:54.358Z"
   },
   {
    "duration": 15,
    "start_time": "2022-06-21T17:32:24.979Z"
   },
   {
    "duration": 18,
    "start_time": "2022-06-21T17:32:41.075Z"
   },
   {
    "duration": 16,
    "start_time": "2022-06-21T17:33:09.216Z"
   },
   {
    "duration": 9,
    "start_time": "2022-06-21T17:39:18.878Z"
   },
   {
    "duration": 11,
    "start_time": "2022-06-21T17:39:41.181Z"
   },
   {
    "duration": 6,
    "start_time": "2022-06-21T17:40:07.878Z"
   },
   {
    "duration": 74,
    "start_time": "2022-06-21T17:41:10.122Z"
   },
   {
    "duration": 13,
    "start_time": "2022-06-21T17:41:19.994Z"
   },
   {
    "duration": 16,
    "start_time": "2022-06-21T17:42:27.406Z"
   },
   {
    "duration": 13,
    "start_time": "2022-06-21T17:43:12.668Z"
   },
   {
    "duration": 12,
    "start_time": "2022-06-21T17:43:30.526Z"
   },
   {
    "duration": 10,
    "start_time": "2022-06-21T17:43:47.634Z"
   },
   {
    "duration": 33,
    "start_time": "2022-06-21T17:49:14.328Z"
   },
   {
    "duration": 20,
    "start_time": "2022-06-21T19:19:34.606Z"
   },
   {
    "duration": 32,
    "start_time": "2022-06-21T19:20:35.733Z"
   },
   {
    "duration": 29,
    "start_time": "2022-06-21T19:21:29.428Z"
   },
   {
    "duration": 26,
    "start_time": "2022-06-21T19:21:42.742Z"
   },
   {
    "duration": 26,
    "start_time": "2022-06-21T19:22:21.523Z"
   },
   {
    "duration": 27,
    "start_time": "2022-06-21T19:22:34.555Z"
   },
   {
    "duration": 29,
    "start_time": "2022-06-21T19:22:45.259Z"
   },
   {
    "duration": 26,
    "start_time": "2022-06-21T19:24:23.255Z"
   },
   {
    "duration": 20,
    "start_time": "2022-06-21T19:42:36.002Z"
   },
   {
    "duration": 45,
    "start_time": "2022-06-21T19:43:05.106Z"
   },
   {
    "duration": 46,
    "start_time": "2022-06-21T19:43:20.538Z"
   },
   {
    "duration": 62,
    "start_time": "2022-06-21T19:43:26.807Z"
   },
   {
    "duration": 46,
    "start_time": "2022-06-21T19:45:34.210Z"
   },
   {
    "duration": 48,
    "start_time": "2022-06-21T19:46:16.095Z"
   },
   {
    "duration": 174,
    "start_time": "2022-06-21T19:49:13.820Z"
   },
   {
    "duration": 175,
    "start_time": "2022-06-21T20:08:45.845Z"
   },
   {
    "duration": 8,
    "start_time": "2022-06-21T20:09:47.919Z"
   },
   {
    "duration": 54,
    "start_time": "2022-06-21T20:09:59.034Z"
   },
   {
    "duration": 257,
    "start_time": "2022-06-21T20:11:28.491Z"
   },
   {
    "duration": 10,
    "start_time": "2022-06-21T20:12:46.518Z"
   },
   {
    "duration": 13,
    "start_time": "2022-06-21T20:13:16.107Z"
   },
   {
    "duration": 148,
    "start_time": "2022-06-21T20:13:58.567Z"
   },
   {
    "duration": 1397,
    "start_time": "2022-06-21T20:16:02.797Z"
   },
   {
    "duration": 1376,
    "start_time": "2022-06-21T20:16:17.955Z"
   },
   {
    "duration": 6,
    "start_time": "2022-06-21T20:21:52.094Z"
   },
   {
    "duration": 18,
    "start_time": "2022-06-21T20:24:11.366Z"
   },
   {
    "duration": 104,
    "start_time": "2022-06-21T20:24:47.022Z"
   },
   {
    "duration": 74,
    "start_time": "2022-06-21T20:25:48.301Z"
   },
   {
    "duration": 14,
    "start_time": "2022-06-21T20:28:12.490Z"
   },
   {
    "duration": 326,
    "start_time": "2022-06-21T20:32:56.321Z"
   },
   {
    "duration": 7,
    "start_time": "2022-06-21T20:35:17.892Z"
   },
   {
    "duration": 9,
    "start_time": "2022-06-21T20:39:30.593Z"
   },
   {
    "duration": 8,
    "start_time": "2022-06-21T20:40:20.247Z"
   },
   {
    "duration": 7,
    "start_time": "2022-06-21T20:40:54.771Z"
   },
   {
    "duration": 7,
    "start_time": "2022-06-21T20:44:38.554Z"
   },
   {
    "duration": 6,
    "start_time": "2022-06-21T20:52:15.387Z"
   },
   {
    "duration": 10,
    "start_time": "2022-06-21T20:54:27.569Z"
   },
   {
    "duration": 329,
    "start_time": "2022-06-21T20:56:20.192Z"
   },
   {
    "duration": 10,
    "start_time": "2022-06-21T20:58:59.690Z"
   },
   {
    "duration": 14,
    "start_time": "2022-06-21T21:03:13.496Z"
   },
   {
    "duration": 405,
    "start_time": "2022-06-21T21:04:06.737Z"
   },
   {
    "duration": 357,
    "start_time": "2022-06-21T21:04:30.373Z"
   },
   {
    "duration": 427,
    "start_time": "2022-06-21T21:06:09.452Z"
   },
   {
    "duration": 10,
    "start_time": "2022-06-21T21:10:55.499Z"
   },
   {
    "duration": 282,
    "start_time": "2022-06-21T21:13:01.003Z"
   },
   {
    "duration": 7,
    "start_time": "2022-06-21T21:14:04.796Z"
   },
   {
    "duration": 5,
    "start_time": "2022-06-21T21:16:07.965Z"
   },
   {
    "duration": 5,
    "start_time": "2022-06-21T21:16:56.132Z"
   },
   {
    "duration": 11,
    "start_time": "2022-06-21T21:21:24.841Z"
   },
   {
    "duration": 7,
    "start_time": "2022-06-21T21:21:57.393Z"
   },
   {
    "duration": 10,
    "start_time": "2022-06-21T21:29:57.681Z"
   },
   {
    "duration": 170,
    "start_time": "2022-06-21T21:30:12.309Z"
   },
   {
    "duration": 6,
    "start_time": "2022-06-21T21:37:09.605Z"
   },
   {
    "duration": 7,
    "start_time": "2022-06-21T21:39:30.051Z"
   },
   {
    "duration": 6,
    "start_time": "2022-06-21T21:39:34.310Z"
   },
   {
    "duration": 154,
    "start_time": "2022-06-21T21:39:48.256Z"
   },
   {
    "duration": 155,
    "start_time": "2022-06-21T21:40:26.565Z"
   },
   {
    "duration": 187,
    "start_time": "2022-06-21T21:46:22.515Z"
   },
   {
    "duration": 170,
    "start_time": "2022-06-21T21:51:53.125Z"
   },
   {
    "duration": 199,
    "start_time": "2022-06-21T21:59:53.639Z"
   },
   {
    "duration": 194,
    "start_time": "2022-06-21T22:02:19.620Z"
   },
   {
    "duration": 210,
    "start_time": "2022-06-21T22:02:31.400Z"
   },
   {
    "duration": 156,
    "start_time": "2022-06-21T22:03:52.598Z"
   },
   {
    "duration": 13,
    "start_time": "2022-06-21T22:03:53.323Z"
   },
   {
    "duration": 12,
    "start_time": "2022-06-21T22:03:53.654Z"
   },
   {
    "duration": 11,
    "start_time": "2022-06-21T22:03:53.998Z"
   },
   {
    "duration": 37,
    "start_time": "2022-06-21T22:03:54.397Z"
   },
   {
    "duration": 7,
    "start_time": "2022-06-21T22:03:54.559Z"
   },
   {
    "duration": 10,
    "start_time": "2022-06-21T22:03:54.856Z"
   },
   {
    "duration": 9,
    "start_time": "2022-06-21T22:03:55.255Z"
   },
   {
    "duration": 11,
    "start_time": "2022-06-21T22:03:55.714Z"
   },
   {
    "duration": 11,
    "start_time": "2022-06-21T22:03:56.023Z"
   },
   {
    "duration": 8,
    "start_time": "2022-06-21T22:03:56.198Z"
   },
   {
    "duration": 49,
    "start_time": "2022-06-21T22:03:56.517Z"
   },
   {
    "duration": 47,
    "start_time": "2022-06-21T22:03:56.731Z"
   },
   {
    "duration": 15,
    "start_time": "2022-06-21T22:03:57.126Z"
   },
   {
    "duration": 13,
    "start_time": "2022-06-21T22:03:57.468Z"
   },
   {
    "duration": 14,
    "start_time": "2022-06-21T22:03:57.841Z"
   },
   {
    "duration": 12,
    "start_time": "2022-06-21T22:03:58.154Z"
   },
   {
    "duration": 7,
    "start_time": "2022-06-21T22:03:58.302Z"
   },
   {
    "duration": 17,
    "start_time": "2022-06-21T22:03:58.636Z"
   },
   {
    "duration": 8,
    "start_time": "2022-06-21T22:03:58.895Z"
   },
   {
    "duration": 335,
    "start_time": "2022-06-21T22:03:59.254Z"
   },
   {
    "duration": 10,
    "start_time": "2022-06-21T22:03:59.722Z"
   },
   {
    "duration": 7,
    "start_time": "2022-06-21T22:03:59.802Z"
   },
   {
    "duration": 525,
    "start_time": "2022-06-21T22:03:59.961Z"
   },
   {
    "duration": 6,
    "start_time": "2022-06-21T22:04:00.489Z"
   },
   {
    "duration": 235,
    "start_time": "2022-06-21T22:04:00.497Z"
   },
   {
    "duration": 28,
    "start_time": "2022-06-21T22:04:00.734Z"
   },
   {
    "duration": 19,
    "start_time": "2022-06-21T22:04:00.764Z"
   },
   {
    "duration": 8,
    "start_time": "2022-06-21T22:04:00.785Z"
   },
   {
    "duration": 378,
    "start_time": "2022-06-21T22:04:00.908Z"
   },
   {
    "duration": 15,
    "start_time": "2022-06-21T22:04:01.288Z"
   },
   {
    "duration": 12,
    "start_time": "2022-06-21T22:04:01.305Z"
   },
   {
    "duration": 251,
    "start_time": "2022-06-21T22:04:01.320Z"
   },
   {
    "duration": 9,
    "start_time": "2022-06-21T22:04:01.969Z"
   },
   {
    "duration": 16,
    "start_time": "2022-06-21T22:04:02.041Z"
   },
   {
    "duration": 15,
    "start_time": "2022-06-21T22:04:02.198Z"
   },
   {
    "duration": 357,
    "start_time": "2022-06-21T22:04:02.254Z"
   },
   {
    "duration": 11,
    "start_time": "2022-06-21T22:04:02.660Z"
   },
   {
    "duration": 7,
    "start_time": "2022-06-21T22:04:02.728Z"
   },
   {
    "duration": 266,
    "start_time": "2022-06-21T22:04:02.903Z"
   },
   {
    "duration": 10,
    "start_time": "2022-06-21T22:04:03.200Z"
   },
   {
    "duration": 8,
    "start_time": "2022-06-21T22:04:03.849Z"
   },
   {
    "duration": 372,
    "start_time": "2022-06-21T22:04:03.859Z"
   },
   {
    "duration": 29,
    "start_time": "2022-06-21T22:04:04.233Z"
   },
   {
    "duration": 16,
    "start_time": "2022-06-21T22:04:04.265Z"
   },
   {
    "duration": 16,
    "start_time": "2022-06-21T22:04:04.283Z"
   },
   {
    "duration": 214,
    "start_time": "2022-06-21T22:04:04.600Z"
   },
   {
    "duration": 6,
    "start_time": "2022-06-21T22:04:04.854Z"
   },
   {
    "duration": 213,
    "start_time": "2022-06-21T22:04:05.068Z"
   },
   {
    "duration": 189,
    "start_time": "2022-06-21T22:04:05.283Z"
   },
   {
    "duration": 223,
    "start_time": "2022-06-21T22:04:05.474Z"
   },
   {
    "duration": 333,
    "start_time": "2022-06-21T22:04:05.699Z"
   },
   {
    "duration": 217,
    "start_time": "2022-06-21T22:04:06.034Z"
   },
   {
    "duration": 22,
    "start_time": "2022-06-21T22:04:06.255Z"
   },
   {
    "duration": 219,
    "start_time": "2022-06-21T22:04:06.400Z"
   },
   {
    "duration": 215,
    "start_time": "2022-06-21T22:04:06.914Z"
   },
   {
    "duration": 200,
    "start_time": "2022-06-21T22:04:07.165Z"
   },
   {
    "duration": 180,
    "start_time": "2022-06-21T22:04:07.414Z"
   },
   {
    "duration": 173,
    "start_time": "2022-06-21T22:04:07.754Z"
   },
   {
    "duration": 24,
    "start_time": "2022-06-21T22:04:07.997Z"
   },
   {
    "duration": 172,
    "start_time": "2022-06-21T22:04:08.458Z"
   },
   {
    "duration": 15,
    "start_time": "2022-06-21T22:04:09.115Z"
   },
   {
    "duration": 8,
    "start_time": "2022-06-21T22:04:09.198Z"
   },
   {
    "duration": 342,
    "start_time": "2022-06-21T22:04:09.364Z"
   },
   {
    "duration": 6,
    "start_time": "2022-06-21T22:04:09.708Z"
   },
   {
    "duration": 5,
    "start_time": "2022-06-21T22:04:10.063Z"
   },
   {
    "duration": 14,
    "start_time": "2022-06-21T22:04:10.334Z"
   },
   {
    "duration": 9,
    "start_time": "2022-06-21T22:04:10.468Z"
   },
   {
    "duration": 339,
    "start_time": "2022-06-21T22:04:10.667Z"
   },
   {
    "duration": 350,
    "start_time": "2022-06-21T22:04:11.008Z"
   },
   {
    "duration": 7,
    "start_time": "2022-06-21T22:04:11.360Z"
   },
   {
    "duration": 13,
    "start_time": "2022-06-21T22:04:11.369Z"
   },
   {
    "duration": 272,
    "start_time": "2022-06-21T22:04:11.384Z"
   },
   {
    "duration": 7,
    "start_time": "2022-06-21T22:04:11.659Z"
   },
   {
    "duration": 7,
    "start_time": "2022-06-21T22:04:11.668Z"
   },
   {
    "duration": 7,
    "start_time": "2022-06-21T22:04:11.702Z"
   },
   {
    "duration": 20,
    "start_time": "2022-06-21T22:04:11.934Z"
   },
   {
    "duration": 7,
    "start_time": "2022-06-21T22:04:12.029Z"
   },
   {
    "duration": 175,
    "start_time": "2022-06-21T22:04:12.388Z"
   },
   {
    "duration": 178,
    "start_time": "2022-06-21T22:04:12.637Z"
   },
   {
    "duration": 196,
    "start_time": "2022-06-21T22:04:12.996Z"
   },
   {
    "duration": 165,
    "start_time": "2022-06-21T22:04:13.455Z"
   },
   {
    "duration": 212,
    "start_time": "2022-06-21T22:04:14.967Z"
   },
   {
    "duration": 1026,
    "start_time": "2022-06-22T09:38:48.202Z"
   },
   {
    "duration": 15,
    "start_time": "2022-06-22T09:38:49.231Z"
   },
   {
    "duration": 10,
    "start_time": "2022-06-22T09:38:49.248Z"
   },
   {
    "duration": 10,
    "start_time": "2022-06-22T09:38:49.260Z"
   },
   {
    "duration": 68,
    "start_time": "2022-06-22T09:38:49.272Z"
   },
   {
    "duration": 7,
    "start_time": "2022-06-22T09:38:49.342Z"
   },
   {
    "duration": 10,
    "start_time": "2022-06-22T09:38:49.351Z"
   },
   {
    "duration": 11,
    "start_time": "2022-06-22T09:38:49.363Z"
   },
   {
    "duration": 18,
    "start_time": "2022-06-22T09:38:49.375Z"
   },
   {
    "duration": 32,
    "start_time": "2022-06-22T09:38:49.396Z"
   },
   {
    "duration": 7,
    "start_time": "2022-06-22T09:38:49.430Z"
   },
   {
    "duration": 33,
    "start_time": "2022-06-22T09:38:49.438Z"
   },
   {
    "duration": 56,
    "start_time": "2022-06-22T09:38:49.472Z"
   },
   {
    "duration": 11,
    "start_time": "2022-06-22T09:38:49.530Z"
   },
   {
    "duration": 12,
    "start_time": "2022-06-22T09:38:49.543Z"
   },
   {
    "duration": 7,
    "start_time": "2022-06-22T09:38:49.556Z"
   },
   {
    "duration": 10,
    "start_time": "2022-06-22T09:38:49.564Z"
   },
   {
    "duration": 5,
    "start_time": "2022-06-22T09:38:49.575Z"
   },
   {
    "duration": 42,
    "start_time": "2022-06-22T09:38:49.581Z"
   },
   {
    "duration": 8,
    "start_time": "2022-06-22T09:38:49.625Z"
   },
   {
    "duration": 290,
    "start_time": "2022-06-22T09:38:49.634Z"
   },
   {
    "duration": 10,
    "start_time": "2022-06-22T09:38:49.925Z"
   },
   {
    "duration": 7,
    "start_time": "2022-06-22T09:38:49.937Z"
   },
   {
    "duration": 395,
    "start_time": "2022-06-22T09:38:49.946Z"
   },
   {
    "duration": 5,
    "start_time": "2022-06-22T09:38:50.343Z"
   },
   {
    "duration": 200,
    "start_time": "2022-06-22T09:38:50.349Z"
   },
   {
    "duration": 15,
    "start_time": "2022-06-22T09:38:50.551Z"
   },
   {
    "duration": 8,
    "start_time": "2022-06-22T09:38:50.570Z"
   },
   {
    "duration": 6,
    "start_time": "2022-06-22T09:38:50.580Z"
   },
   {
    "duration": 340,
    "start_time": "2022-06-22T09:38:50.588Z"
   },
   {
    "duration": 14,
    "start_time": "2022-06-22T09:38:50.930Z"
   },
   {
    "duration": 5,
    "start_time": "2022-06-22T09:38:50.946Z"
   },
   {
    "duration": 213,
    "start_time": "2022-06-22T09:38:50.952Z"
   },
   {
    "duration": 9,
    "start_time": "2022-06-22T09:38:51.167Z"
   },
   {
    "duration": 8,
    "start_time": "2022-06-22T09:38:51.178Z"
   },
   {
    "duration": 18,
    "start_time": "2022-06-22T09:38:51.188Z"
   },
   {
    "duration": 320,
    "start_time": "2022-06-22T09:38:51.208Z"
   },
   {
    "duration": 9,
    "start_time": "2022-06-22T09:38:51.530Z"
   },
   {
    "duration": 10,
    "start_time": "2022-06-22T09:38:51.540Z"
   },
   {
    "duration": 248,
    "start_time": "2022-06-22T09:38:51.552Z"
   },
   {
    "duration": 9,
    "start_time": "2022-06-22T09:38:51.802Z"
   },
   {
    "duration": 6,
    "start_time": "2022-06-22T09:38:51.823Z"
   },
   {
    "duration": 332,
    "start_time": "2022-06-22T09:38:51.830Z"
   },
   {
    "duration": 10,
    "start_time": "2022-06-22T09:38:52.163Z"
   },
   {
    "duration": 129,
    "start_time": "2022-06-22T09:38:52.176Z"
   },
   {
    "duration": 29,
    "start_time": "2022-06-22T09:38:52.307Z"
   },
   {
    "duration": 195,
    "start_time": "2022-06-22T09:38:52.338Z"
   },
   {
    "duration": 7,
    "start_time": "2022-06-22T09:38:52.535Z"
   },
   {
    "duration": 241,
    "start_time": "2022-06-22T09:38:52.544Z"
   },
   {
    "duration": 179,
    "start_time": "2022-06-22T09:38:52.790Z"
   },
   {
    "duration": 200,
    "start_time": "2022-06-22T09:38:52.971Z"
   },
   {
    "duration": 165,
    "start_time": "2022-06-22T09:38:53.173Z"
   },
   {
    "duration": 235,
    "start_time": "2022-06-22T09:38:53.340Z"
   },
   {
    "duration": 19,
    "start_time": "2022-06-22T09:38:53.578Z"
   },
   {
    "duration": 175,
    "start_time": "2022-06-22T09:38:53.599Z"
   },
   {
    "duration": 164,
    "start_time": "2022-06-22T09:38:53.776Z"
   },
   {
    "duration": 188,
    "start_time": "2022-06-22T09:38:53.942Z"
   },
   {
    "duration": 151,
    "start_time": "2022-06-22T09:38:54.132Z"
   },
   {
    "duration": 163,
    "start_time": "2022-06-22T09:38:54.285Z"
   },
   {
    "duration": 31,
    "start_time": "2022-06-22T09:38:54.450Z"
   },
   {
    "duration": 201,
    "start_time": "2022-06-22T09:38:54.483Z"
   },
   {
    "duration": 15,
    "start_time": "2022-06-22T09:38:54.685Z"
   },
   {
    "duration": 8,
    "start_time": "2022-06-22T09:38:54.701Z"
   },
   {
    "duration": 403,
    "start_time": "2022-06-22T09:38:54.724Z"
   },
   {
    "duration": 5,
    "start_time": "2022-06-22T09:38:55.130Z"
   },
   {
    "duration": 11,
    "start_time": "2022-06-22T09:38:55.137Z"
   },
   {
    "duration": 12,
    "start_time": "2022-06-22T09:38:55.150Z"
   },
   {
    "duration": 14,
    "start_time": "2022-06-22T09:38:55.164Z"
   },
   {
    "duration": 308,
    "start_time": "2022-06-22T09:38:55.179Z"
   },
   {
    "duration": 304,
    "start_time": "2022-06-22T09:38:55.489Z"
   },
   {
    "duration": 7,
    "start_time": "2022-06-22T09:38:55.795Z"
   },
   {
    "duration": 19,
    "start_time": "2022-06-22T09:38:55.804Z"
   },
   {
    "duration": 229,
    "start_time": "2022-06-22T09:38:55.825Z"
   },
   {
    "duration": 6,
    "start_time": "2022-06-22T09:38:56.056Z"
   },
   {
    "duration": 8,
    "start_time": "2022-06-22T09:38:56.064Z"
   },
   {
    "duration": 8,
    "start_time": "2022-06-22T09:38:56.074Z"
   },
   {
    "duration": 11,
    "start_time": "2022-06-22T09:38:56.083Z"
   },
   {
    "duration": 29,
    "start_time": "2022-06-22T09:38:56.096Z"
   },
   {
    "duration": 161,
    "start_time": "2022-06-22T09:38:56.127Z"
   },
   {
    "duration": 148,
    "start_time": "2022-06-22T09:38:56.290Z"
   },
   {
    "duration": 169,
    "start_time": "2022-06-22T09:38:56.440Z"
   },
   {
    "duration": 154,
    "start_time": "2022-06-22T09:38:56.625Z"
   },
   {
    "duration": 190,
    "start_time": "2022-06-22T09:38:56.781Z"
   },
   {
    "duration": 11,
    "start_time": "2022-06-22T09:43:18.372Z"
   },
   {
    "duration": 916,
    "start_time": "2022-06-22T09:58:48.405Z"
   },
   {
    "duration": 21,
    "start_time": "2022-06-22T09:58:49.324Z"
   },
   {
    "duration": 14,
    "start_time": "2022-06-22T09:58:49.347Z"
   },
   {
    "duration": 24,
    "start_time": "2022-06-22T09:58:49.364Z"
   },
   {
    "duration": 55,
    "start_time": "2022-06-22T09:58:49.391Z"
   },
   {
    "duration": 9,
    "start_time": "2022-06-22T09:58:49.448Z"
   },
   {
    "duration": 19,
    "start_time": "2022-06-22T09:58:49.458Z"
   },
   {
    "duration": 22,
    "start_time": "2022-06-22T09:58:49.479Z"
   },
   {
    "duration": 29,
    "start_time": "2022-06-22T09:58:49.504Z"
   },
   {
    "duration": 19,
    "start_time": "2022-06-22T09:58:49.537Z"
   },
   {
    "duration": 22,
    "start_time": "2022-06-22T09:58:49.558Z"
   },
   {
    "duration": 67,
    "start_time": "2022-06-22T09:58:49.583Z"
   },
   {
    "duration": 64,
    "start_time": "2022-06-22T09:58:49.656Z"
   },
   {
    "duration": 15,
    "start_time": "2022-06-22T09:58:49.723Z"
   },
   {
    "duration": 42,
    "start_time": "2022-06-22T09:58:49.745Z"
   },
   {
    "duration": 25,
    "start_time": "2022-06-22T09:58:49.790Z"
   },
   {
    "duration": 22,
    "start_time": "2022-06-22T09:58:49.817Z"
   },
   {
    "duration": 14,
    "start_time": "2022-06-22T09:58:49.842Z"
   },
   {
    "duration": 19,
    "start_time": "2022-06-22T09:58:49.859Z"
   },
   {
    "duration": 16,
    "start_time": "2022-06-22T09:58:49.880Z"
   },
   {
    "duration": 495,
    "start_time": "2022-06-22T09:58:49.898Z"
   },
   {
    "duration": 16,
    "start_time": "2022-06-22T09:58:50.399Z"
   },
   {
    "duration": 38,
    "start_time": "2022-06-22T09:58:50.418Z"
   },
   {
    "duration": 438,
    "start_time": "2022-06-22T09:58:50.458Z"
   },
   {
    "duration": 6,
    "start_time": "2022-06-22T09:58:50.897Z"
   },
   {
    "duration": 199,
    "start_time": "2022-06-22T09:58:50.904Z"
   },
   {
    "duration": 25,
    "start_time": "2022-06-22T09:58:51.105Z"
   },
   {
    "duration": 11,
    "start_time": "2022-06-22T09:58:51.136Z"
   },
   {
    "duration": 8,
    "start_time": "2022-06-22T09:58:51.149Z"
   },
   {
    "duration": 373,
    "start_time": "2022-06-22T09:58:51.159Z"
   },
   {
    "duration": 16,
    "start_time": "2022-06-22T09:58:51.535Z"
   },
   {
    "duration": 8,
    "start_time": "2022-06-22T09:58:51.553Z"
   },
   {
    "duration": 245,
    "start_time": "2022-06-22T09:58:51.563Z"
   },
   {
    "duration": 21,
    "start_time": "2022-06-22T09:58:51.810Z"
   },
   {
    "duration": 20,
    "start_time": "2022-06-22T09:58:51.832Z"
   },
   {
    "duration": 31,
    "start_time": "2022-06-22T09:58:51.855Z"
   },
   {
    "duration": 439,
    "start_time": "2022-06-22T09:58:51.888Z"
   },
   {
    "duration": 10,
    "start_time": "2022-06-22T09:58:52.329Z"
   },
   {
    "duration": 9,
    "start_time": "2022-06-22T09:58:52.341Z"
   },
   {
    "duration": 312,
    "start_time": "2022-06-22T09:58:52.353Z"
   },
   {
    "duration": 13,
    "start_time": "2022-06-22T09:58:52.670Z"
   },
   {
    "duration": 31,
    "start_time": "2022-06-22T09:58:52.685Z"
   },
   {
    "duration": 424,
    "start_time": "2022-06-22T09:58:52.718Z"
   },
   {
    "duration": 13,
    "start_time": "2022-06-22T09:58:53.145Z"
   },
   {
    "duration": 113,
    "start_time": "2022-06-22T09:58:53.161Z"
   },
   {
    "duration": 23,
    "start_time": "2022-06-22T09:58:53.276Z"
   },
   {
    "duration": 223,
    "start_time": "2022-06-22T09:58:53.301Z"
   },
   {
    "duration": 8,
    "start_time": "2022-06-22T09:58:53.526Z"
   },
   {
    "duration": 244,
    "start_time": "2022-06-22T09:58:53.536Z"
   },
   {
    "duration": 165,
    "start_time": "2022-06-22T09:58:53.781Z"
   },
   {
    "duration": 212,
    "start_time": "2022-06-22T09:58:53.948Z"
   },
   {
    "duration": 195,
    "start_time": "2022-06-22T09:58:54.162Z"
   },
   {
    "duration": 227,
    "start_time": "2022-06-22T09:58:54.361Z"
   },
   {
    "duration": 21,
    "start_time": "2022-06-22T09:58:54.590Z"
   },
   {
    "duration": 198,
    "start_time": "2022-06-22T09:58:54.612Z"
   },
   {
    "duration": 163,
    "start_time": "2022-06-22T09:58:54.812Z"
   },
   {
    "duration": 171,
    "start_time": "2022-06-22T09:58:54.977Z"
   },
   {
    "duration": 153,
    "start_time": "2022-06-22T09:58:55.150Z"
   },
   {
    "duration": 166,
    "start_time": "2022-06-22T09:58:55.304Z"
   },
   {
    "duration": 24,
    "start_time": "2022-06-22T09:58:55.472Z"
   },
   {
    "duration": 211,
    "start_time": "2022-06-22T09:58:55.498Z"
   },
   {
    "duration": 20,
    "start_time": "2022-06-22T09:58:55.711Z"
   },
   {
    "duration": 9,
    "start_time": "2022-06-22T09:58:55.733Z"
   },
   {
    "duration": 436,
    "start_time": "2022-06-22T09:58:55.744Z"
   },
   {
    "duration": 6,
    "start_time": "2022-06-22T09:58:56.181Z"
   },
   {
    "duration": 12,
    "start_time": "2022-06-22T09:58:56.189Z"
   },
   {
    "duration": 24,
    "start_time": "2022-06-22T09:58:56.203Z"
   },
   {
    "duration": 10,
    "start_time": "2022-06-22T09:58:56.229Z"
   },
   {
    "duration": 374,
    "start_time": "2022-06-22T09:58:56.240Z"
   },
   {
    "duration": 335,
    "start_time": "2022-06-22T09:58:56.616Z"
   },
   {
    "duration": 7,
    "start_time": "2022-06-22T09:58:56.953Z"
   },
   {
    "duration": 10,
    "start_time": "2022-06-22T09:58:56.962Z"
   },
   {
    "duration": 231,
    "start_time": "2022-06-22T09:58:56.974Z"
   },
   {
    "duration": 16,
    "start_time": "2022-06-22T09:58:57.207Z"
   },
   {
    "duration": 6,
    "start_time": "2022-06-22T09:58:57.225Z"
   },
   {
    "duration": 13,
    "start_time": "2022-06-22T09:58:57.233Z"
   },
   {
    "duration": 10,
    "start_time": "2022-06-22T09:58:57.248Z"
   },
   {
    "duration": 8,
    "start_time": "2022-06-22T09:58:57.260Z"
   },
   {
    "duration": 167,
    "start_time": "2022-06-22T09:58:57.270Z"
   },
   {
    "duration": 158,
    "start_time": "2022-06-22T09:58:57.439Z"
   },
   {
    "duration": 174,
    "start_time": "2022-06-22T09:58:57.599Z"
   },
   {
    "duration": 162,
    "start_time": "2022-06-22T09:58:57.780Z"
   },
   {
    "duration": 206,
    "start_time": "2022-06-22T09:58:57.945Z"
   },
   {
    "duration": 1028,
    "start_time": "2022-06-23T17:55:46.381Z"
   },
   {
    "duration": 14,
    "start_time": "2022-06-23T17:55:49.106Z"
   },
   {
    "duration": 9,
    "start_time": "2022-06-23T17:55:49.121Z"
   },
   {
    "duration": 10,
    "start_time": "2022-06-23T17:55:49.132Z"
   },
   {
    "duration": 34,
    "start_time": "2022-06-23T17:55:50.070Z"
   },
   {
    "duration": 5,
    "start_time": "2022-06-23T17:55:50.106Z"
   },
   {
    "duration": 9,
    "start_time": "2022-06-23T17:55:50.882Z"
   },
   {
    "duration": 9,
    "start_time": "2022-06-23T17:55:51.633Z"
   },
   {
    "duration": 10,
    "start_time": "2022-06-23T17:55:52.251Z"
   },
   {
    "duration": 11,
    "start_time": "2022-06-23T17:55:52.631Z"
   },
   {
    "duration": 9,
    "start_time": "2022-06-23T17:55:52.815Z"
   },
   {
    "duration": 34,
    "start_time": "2022-06-23T17:55:53.532Z"
   },
   {
    "duration": 121,
    "start_time": "2022-06-23T17:57:55.152Z"
   },
   {
    "duration": 12,
    "start_time": "2022-06-23T17:57:57.436Z"
   },
   {
    "duration": 11,
    "start_time": "2022-06-23T17:57:58.624Z"
   },
   {
    "duration": 11,
    "start_time": "2022-06-23T17:57:59.843Z"
   },
   {
    "duration": 33,
    "start_time": "2022-06-23T17:58:00.956Z"
   },
   {
    "duration": 6,
    "start_time": "2022-06-23T17:58:01.134Z"
   },
   {
    "duration": 10,
    "start_time": "2022-06-23T17:58:03.195Z"
   },
   {
    "duration": 8,
    "start_time": "2022-06-23T17:58:06.729Z"
   },
   {
    "duration": 10,
    "start_time": "2022-06-23T17:58:07.647Z"
   },
   {
    "duration": 13,
    "start_time": "2022-06-23T17:58:25.711Z"
   },
   {
    "duration": 37,
    "start_time": "2022-06-23T17:59:13.237Z"
   },
   {
    "duration": 917,
    "start_time": "2022-06-23T18:01:07.638Z"
   },
   {
    "duration": 34,
    "start_time": "2022-06-23T18:01:19.786Z"
   },
   {
    "duration": 16,
    "start_time": "2022-06-23T18:02:38.787Z"
   },
   {
    "duration": 15,
    "start_time": "2022-06-23T18:06:36.407Z"
   },
   {
    "duration": 9,
    "start_time": "2022-06-23T18:06:57.607Z"
   },
   {
    "duration": 9,
    "start_time": "2022-06-23T18:07:14.529Z"
   },
   {
    "duration": 37,
    "start_time": "2022-06-23T18:07:37.789Z"
   },
   {
    "duration": 57,
    "start_time": "2022-06-23T18:08:31.824Z"
   },
   {
    "duration": 37,
    "start_time": "2022-06-23T18:08:45.442Z"
   },
   {
    "duration": 15,
    "start_time": "2022-06-23T18:09:41.811Z"
   },
   {
    "duration": 24,
    "start_time": "2022-06-23T18:10:13.527Z"
   },
   {
    "duration": 39,
    "start_time": "2022-06-23T18:10:33.744Z"
   },
   {
    "duration": 37,
    "start_time": "2022-06-23T18:10:52.166Z"
   },
   {
    "duration": 47,
    "start_time": "2022-06-23T18:11:01.364Z"
   },
   {
    "duration": 51,
    "start_time": "2022-06-23T18:11:19.662Z"
   },
   {
    "duration": 24,
    "start_time": "2022-06-23T18:11:43.990Z"
   },
   {
    "duration": 12,
    "start_time": "2022-06-23T18:12:23.245Z"
   },
   {
    "duration": 38,
    "start_time": "2022-06-23T18:13:01.432Z"
   },
   {
    "duration": 11,
    "start_time": "2022-06-23T18:14:10.618Z"
   },
   {
    "duration": 132,
    "start_time": "2022-06-23T18:32:58.920Z"
   },
   {
    "duration": 14,
    "start_time": "2022-06-23T18:33:00.121Z"
   },
   {
    "duration": 15,
    "start_time": "2022-06-23T18:33:00.912Z"
   },
   {
    "duration": 14,
    "start_time": "2022-06-23T18:33:01.990Z"
   },
   {
    "duration": 42,
    "start_time": "2022-06-23T18:33:02.520Z"
   },
   {
    "duration": 9,
    "start_time": "2022-06-23T18:33:02.630Z"
   },
   {
    "duration": 13,
    "start_time": "2022-06-23T18:33:05.053Z"
   },
   {
    "duration": 9,
    "start_time": "2022-06-23T18:33:06.523Z"
   },
   {
    "duration": 12,
    "start_time": "2022-06-23T18:33:08.967Z"
   },
   {
    "duration": 20,
    "start_time": "2022-06-23T18:33:09.971Z"
   },
   {
    "duration": 12,
    "start_time": "2022-06-23T18:34:45.168Z"
   },
   {
    "duration": 16,
    "start_time": "2022-06-23T18:35:19.602Z"
   },
   {
    "duration": 15,
    "start_time": "2022-06-23T18:35:44.009Z"
   },
   {
    "duration": 22,
    "start_time": "2022-06-23T18:36:12.732Z"
   },
   {
    "duration": 50,
    "start_time": "2022-06-23T18:36:18.784Z"
   },
   {
    "duration": 14,
    "start_time": "2022-06-23T18:37:32.415Z"
   },
   {
    "duration": 47,
    "start_time": "2022-06-23T18:38:25.793Z"
   },
   {
    "duration": 42,
    "start_time": "2022-06-23T18:39:36.769Z"
   },
   {
    "duration": 14,
    "start_time": "2022-06-23T18:40:10.223Z"
   },
   {
    "duration": 8,
    "start_time": "2022-06-23T18:40:44.799Z"
   },
   {
    "duration": 369,
    "start_time": "2022-06-23T18:40:58.177Z"
   },
   {
    "duration": 55,
    "start_time": "2022-06-23T18:41:47.402Z"
   },
   {
    "duration": 47,
    "start_time": "2022-06-23T18:42:36.115Z"
   },
   {
    "duration": 37,
    "start_time": "2022-06-23T18:43:58.562Z"
   },
   {
    "duration": 127,
    "start_time": "2022-06-23T18:44:51.243Z"
   },
   {
    "duration": 12,
    "start_time": "2022-06-23T18:44:54.199Z"
   },
   {
    "duration": 14,
    "start_time": "2022-06-23T18:44:54.787Z"
   },
   {
    "duration": 12,
    "start_time": "2022-06-23T18:44:56.421Z"
   },
   {
    "duration": 36,
    "start_time": "2022-06-23T18:44:57.674Z"
   },
   {
    "duration": 6,
    "start_time": "2022-06-23T18:44:59.835Z"
   },
   {
    "duration": 10,
    "start_time": "2022-06-23T18:45:02.194Z"
   },
   {
    "duration": 10,
    "start_time": "2022-06-23T18:45:03.563Z"
   },
   {
    "duration": 10,
    "start_time": "2022-06-23T18:45:04.801Z"
   },
   {
    "duration": 12,
    "start_time": "2022-06-23T18:45:18.208Z"
   },
   {
    "duration": 37,
    "start_time": "2022-06-23T18:45:20.060Z"
   },
   {
    "duration": 71,
    "start_time": "2022-06-23T19:28:14.460Z"
   },
   {
    "duration": 5,
    "start_time": "2022-06-23T19:28:35.306Z"
   },
   {
    "duration": 350,
    "start_time": "2022-06-23T19:29:26.915Z"
   },
   {
    "duration": 23,
    "start_time": "2022-06-23T19:30:01.396Z"
   },
   {
    "duration": 22,
    "start_time": "2022-06-23T19:30:55.467Z"
   },
   {
    "duration": 24,
    "start_time": "2022-06-23T19:31:09.910Z"
   },
   {
    "duration": 15,
    "start_time": "2022-06-23T20:27:54.005Z"
   },
   {
    "duration": 6,
    "start_time": "2022-06-23T20:28:45.770Z"
   },
   {
    "duration": 15,
    "start_time": "2022-06-23T20:29:17.152Z"
   },
   {
    "duration": 216,
    "start_time": "2022-06-23T20:30:04.399Z"
   },
   {
    "duration": 11,
    "start_time": "2022-06-23T20:31:27.377Z"
   },
   {
    "duration": 41,
    "start_time": "2022-06-23T20:31:51.708Z"
   },
   {
    "duration": 10,
    "start_time": "2022-06-23T20:32:30.010Z"
   },
   {
    "duration": 45,
    "start_time": "2022-06-23T20:33:00.110Z"
   },
   {
    "duration": 395,
    "start_time": "2022-06-23T20:34:34.188Z"
   },
   {
    "duration": 417,
    "start_time": "2022-06-23T20:34:51.498Z"
   },
   {
    "duration": 63,
    "start_time": "2022-06-23T20:35:01.978Z"
   },
   {
    "duration": 7,
    "start_time": "2022-06-23T20:35:23.892Z"
   },
   {
    "duration": 11,
    "start_time": "2022-06-23T20:38:13.661Z"
   },
   {
    "duration": 27,
    "start_time": "2022-06-23T20:38:53.068Z"
   },
   {
    "duration": 21,
    "start_time": "2022-06-23T20:39:32.359Z"
   },
   {
    "duration": 18,
    "start_time": "2022-06-23T20:40:48.831Z"
   },
   {
    "duration": 124,
    "start_time": "2022-06-23T20:42:08.348Z"
   },
   {
    "duration": 13,
    "start_time": "2022-06-23T20:42:09.262Z"
   },
   {
    "duration": 11,
    "start_time": "2022-06-23T20:42:09.741Z"
   },
   {
    "duration": 13,
    "start_time": "2022-06-23T20:42:10.201Z"
   },
   {
    "duration": 32,
    "start_time": "2022-06-23T20:42:10.573Z"
   },
   {
    "duration": 6,
    "start_time": "2022-06-23T20:42:10.683Z"
   },
   {
    "duration": 10,
    "start_time": "2022-06-23T20:42:11.287Z"
   },
   {
    "duration": 10,
    "start_time": "2022-06-23T20:42:11.971Z"
   },
   {
    "duration": 12,
    "start_time": "2022-06-23T20:42:12.458Z"
   },
   {
    "duration": 13,
    "start_time": "2022-06-23T20:42:13.134Z"
   },
   {
    "duration": 24,
    "start_time": "2022-06-23T20:42:13.244Z"
   },
   {
    "duration": 32,
    "start_time": "2022-06-23T20:47:36.670Z"
   },
   {
    "duration": 39,
    "start_time": "2022-06-23T20:47:37.679Z"
   },
   {
    "duration": 23,
    "start_time": "2022-06-23T20:47:39.611Z"
   },
   {
    "duration": 11,
    "start_time": "2022-06-23T20:47:40.811Z"
   },
   {
    "duration": 9,
    "start_time": "2022-06-23T20:47:41.951Z"
   },
   {
    "duration": 9,
    "start_time": "2022-06-23T20:47:42.255Z"
   },
   {
    "duration": 7,
    "start_time": "2022-06-23T20:47:42.436Z"
   },
   {
    "duration": 9,
    "start_time": "2022-06-23T20:47:43.754Z"
   },
   {
    "duration": 8,
    "start_time": "2022-06-23T20:47:43.963Z"
   },
   {
    "duration": 289,
    "start_time": "2022-06-23T20:47:45.296Z"
   },
   {
    "duration": 11,
    "start_time": "2022-06-23T20:48:09.048Z"
   },
   {
    "duration": 7,
    "start_time": "2022-06-23T20:48:09.113Z"
   },
   {
    "duration": 390,
    "start_time": "2022-06-23T20:48:09.380Z"
   },
   {
    "duration": 4,
    "start_time": "2022-06-23T20:48:09.772Z"
   },
   {
    "duration": 179,
    "start_time": "2022-06-23T20:48:09.901Z"
   },
   {
    "duration": 15,
    "start_time": "2022-06-23T20:48:10.174Z"
   },
   {
    "duration": 19,
    "start_time": "2022-06-23T20:48:11.317Z"
   },
   {
    "duration": 7,
    "start_time": "2022-06-23T20:48:11.483Z"
   },
   {
    "duration": 309,
    "start_time": "2022-06-23T20:48:11.845Z"
   },
   {
    "duration": 12,
    "start_time": "2022-06-23T20:48:12.156Z"
   },
   {
    "duration": 5,
    "start_time": "2022-06-23T20:48:12.217Z"
   },
   {
    "duration": 189,
    "start_time": "2022-06-23T20:48:12.279Z"
   },
   {
    "duration": 8,
    "start_time": "2022-06-23T20:48:13.286Z"
   },
   {
    "duration": 17,
    "start_time": "2022-06-23T20:48:13.521Z"
   },
   {
    "duration": 12,
    "start_time": "2022-06-23T20:48:13.661Z"
   },
   {
    "duration": 288,
    "start_time": "2022-06-23T20:48:13.882Z"
   },
   {
    "duration": 9,
    "start_time": "2022-06-23T20:48:14.661Z"
   },
   {
    "duration": 7,
    "start_time": "2022-06-23T20:48:14.763Z"
   },
   {
    "duration": 214,
    "start_time": "2022-06-23T20:48:14.892Z"
   },
   {
    "duration": 9,
    "start_time": "2022-06-23T20:48:15.913Z"
   },
   {
    "duration": 6,
    "start_time": "2022-06-23T20:48:15.988Z"
   },
   {
    "duration": 371,
    "start_time": "2022-06-23T20:48:16.272Z"
   },
   {
    "duration": 9,
    "start_time": "2022-06-23T20:48:16.645Z"
   },
   {
    "duration": 16,
    "start_time": "2022-06-23T20:48:26.914Z"
   },
   {
    "duration": 14,
    "start_time": "2022-06-23T20:48:26.995Z"
   },
   {
    "duration": 169,
    "start_time": "2022-06-23T20:48:28.391Z"
   },
   {
    "duration": 5,
    "start_time": "2022-06-23T20:48:28.780Z"
   },
   {
    "duration": 179,
    "start_time": "2022-06-23T20:48:29.138Z"
   },
   {
    "duration": 141,
    "start_time": "2022-06-23T20:48:29.377Z"
   },
   {
    "duration": 194,
    "start_time": "2022-06-23T20:48:30.286Z"
   },
   {
    "duration": 157,
    "start_time": "2022-06-23T20:48:32.797Z"
   },
   {
    "duration": 216,
    "start_time": "2022-06-23T20:48:33.022Z"
   },
   {
    "duration": 21,
    "start_time": "2022-06-23T20:48:33.240Z"
   },
   {
    "duration": 195,
    "start_time": "2022-06-23T20:48:33.497Z"
   },
   {
    "duration": 150,
    "start_time": "2022-06-23T20:48:33.806Z"
   },
   {
    "duration": 155,
    "start_time": "2022-06-23T20:48:35.084Z"
   },
   {
    "duration": 134,
    "start_time": "2022-06-23T20:48:35.343Z"
   },
   {
    "duration": 233,
    "start_time": "2022-06-23T20:48:36.847Z"
   },
   {
    "duration": 155,
    "start_time": "2022-06-23T20:52:33.553Z"
   },
   {
    "duration": 177,
    "start_time": "2022-06-23T20:53:28.064Z"
   },
   {
    "duration": 180,
    "start_time": "2022-06-23T20:54:04.355Z"
   },
   {
    "duration": 196,
    "start_time": "2022-06-23T20:54:45.897Z"
   },
   {
    "duration": 143,
    "start_time": "2022-06-23T20:55:40.605Z"
   },
   {
    "duration": 170,
    "start_time": "2022-06-23T20:59:12.697Z"
   },
   {
    "duration": 164,
    "start_time": "2022-06-23T20:59:19.170Z"
   },
   {
    "duration": 162,
    "start_time": "2022-06-23T20:59:33.973Z"
   },
   {
    "duration": 28,
    "start_time": "2022-06-23T21:04:30.100Z"
   },
   {
    "duration": 23,
    "start_time": "2022-06-23T21:05:25.936Z"
   },
   {
    "duration": 151,
    "start_time": "2022-06-23T21:06:43.928Z"
   },
   {
    "duration": 74,
    "start_time": "2022-06-23T21:09:50.495Z"
   },
   {
    "duration": 66,
    "start_time": "2022-06-23T21:11:07.978Z"
   },
   {
    "duration": 79,
    "start_time": "2022-06-23T21:11:18.938Z"
   },
   {
    "duration": 67,
    "start_time": "2022-06-23T21:11:44.870Z"
   },
   {
    "duration": 90,
    "start_time": "2022-06-23T21:13:02.497Z"
   },
   {
    "duration": 101,
    "start_time": "2022-06-23T21:13:24.247Z"
   },
   {
    "duration": 10,
    "start_time": "2022-06-23T21:13:36.964Z"
   },
   {
    "duration": 14,
    "start_time": "2022-06-23T21:14:11.236Z"
   },
   {
    "duration": 9,
    "start_time": "2022-06-23T21:14:11.436Z"
   },
   {
    "duration": 310,
    "start_time": "2022-06-23T21:14:11.636Z"
   },
   {
    "duration": 6,
    "start_time": "2022-06-23T21:14:12.598Z"
   },
   {
    "duration": 5,
    "start_time": "2022-06-23T21:14:12.781Z"
   },
   {
    "duration": 8,
    "start_time": "2022-06-23T21:14:14.209Z"
   },
   {
    "duration": 9,
    "start_time": "2022-06-23T21:14:14.470Z"
   },
   {
    "duration": 374,
    "start_time": "2022-06-23T21:14:14.580Z"
   },
   {
    "duration": 289,
    "start_time": "2022-06-23T21:14:14.955Z"
   },
   {
    "duration": 7,
    "start_time": "2022-06-23T21:14:15.246Z"
   },
   {
    "duration": 9,
    "start_time": "2022-06-23T21:14:17.100Z"
   },
   {
    "duration": 199,
    "start_time": "2022-06-23T21:14:17.186Z"
   },
   {
    "duration": 5,
    "start_time": "2022-06-23T21:14:17.394Z"
   },
   {
    "duration": 5,
    "start_time": "2022-06-23T21:14:17.491Z"
   },
   {
    "duration": 5,
    "start_time": "2022-06-23T21:14:17.711Z"
   },
   {
    "duration": 8,
    "start_time": "2022-06-23T21:14:18.293Z"
   },
   {
    "duration": 6,
    "start_time": "2022-06-23T21:14:18.411Z"
   },
   {
    "duration": 132,
    "start_time": "2022-06-23T21:14:19.536Z"
   },
   {
    "duration": 143,
    "start_time": "2022-06-23T21:14:21.397Z"
   },
   {
    "duration": 154,
    "start_time": "2022-06-23T21:14:21.755Z"
   },
   {
    "duration": 151,
    "start_time": "2022-06-23T21:14:22.455Z"
   },
   {
    "duration": 172,
    "start_time": "2022-06-23T21:14:28.104Z"
   },
   {
    "duration": 71,
    "start_time": "2022-06-23T21:48:58.294Z"
   },
   {
    "duration": 1695,
    "start_time": "2022-06-23T21:49:06.318Z"
   },
   {
    "duration": 19,
    "start_time": "2022-06-23T21:49:08.015Z"
   },
   {
    "duration": 20,
    "start_time": "2022-06-23T21:49:08.035Z"
   },
   {
    "duration": 17,
    "start_time": "2022-06-23T21:49:08.058Z"
   },
   {
    "duration": 34,
    "start_time": "2022-06-23T21:49:08.077Z"
   },
   {
    "duration": 15,
    "start_time": "2022-06-23T21:49:08.113Z"
   },
   {
    "duration": 15,
    "start_time": "2022-06-23T21:49:08.129Z"
   },
   {
    "duration": 22,
    "start_time": "2022-06-23T21:49:08.146Z"
   },
   {
    "duration": 15,
    "start_time": "2022-06-23T21:49:08.170Z"
   },
   {
    "duration": 12,
    "start_time": "2022-06-23T21:49:08.187Z"
   },
   {
    "duration": 32,
    "start_time": "2022-06-23T21:49:08.200Z"
   },
   {
    "duration": 52,
    "start_time": "2022-06-23T21:49:08.235Z"
   },
   {
    "duration": 59,
    "start_time": "2022-06-23T21:49:08.289Z"
   },
   {
    "duration": 15,
    "start_time": "2022-06-23T21:49:08.350Z"
   },
   {
    "duration": 13,
    "start_time": "2022-06-23T21:49:08.366Z"
   },
   {
    "duration": 8,
    "start_time": "2022-06-23T21:49:08.381Z"
   },
   {
    "duration": 39,
    "start_time": "2022-06-23T21:49:08.391Z"
   },
   {
    "duration": 10,
    "start_time": "2022-06-23T21:49:08.432Z"
   },
   {
    "duration": 31,
    "start_time": "2022-06-23T21:49:08.443Z"
   },
   {
    "duration": 9,
    "start_time": "2022-06-23T21:49:08.476Z"
   },
   {
    "duration": 352,
    "start_time": "2022-06-23T21:49:08.486Z"
   },
   {
    "duration": 11,
    "start_time": "2022-06-23T21:49:08.841Z"
   },
   {
    "duration": 13,
    "start_time": "2022-06-23T21:49:08.854Z"
   },
   {
    "duration": 432,
    "start_time": "2022-06-23T21:49:08.869Z"
   },
   {
    "duration": 6,
    "start_time": "2022-06-23T21:49:09.303Z"
   },
   {
    "duration": 212,
    "start_time": "2022-06-23T21:49:09.311Z"
   },
   {
    "duration": 21,
    "start_time": "2022-06-23T21:49:09.526Z"
   },
   {
    "duration": 22,
    "start_time": "2022-06-23T21:49:09.553Z"
   },
   {
    "duration": 10,
    "start_time": "2022-06-23T21:49:09.576Z"
   },
   {
    "duration": 362,
    "start_time": "2022-06-23T21:49:09.588Z"
   },
   {
    "duration": 14,
    "start_time": "2022-06-23T21:49:09.952Z"
   },
   {
    "duration": 5,
    "start_time": "2022-06-23T21:49:09.968Z"
   },
   {
    "duration": 229,
    "start_time": "2022-06-23T21:49:09.974Z"
   },
   {
    "duration": 24,
    "start_time": "2022-06-23T21:49:10.204Z"
   },
   {
    "duration": 7,
    "start_time": "2022-06-23T21:49:10.230Z"
   },
   {
    "duration": 41,
    "start_time": "2022-06-23T21:49:10.238Z"
   },
   {
    "duration": 320,
    "start_time": "2022-06-23T21:49:10.281Z"
   },
   {
    "duration": 11,
    "start_time": "2022-06-23T21:49:10.603Z"
   },
   {
    "duration": 8,
    "start_time": "2022-06-23T21:49:10.627Z"
   },
   {
    "duration": 246,
    "start_time": "2022-06-23T21:49:10.637Z"
   },
   {
    "duration": 13,
    "start_time": "2022-06-23T21:49:10.885Z"
   },
   {
    "duration": 7,
    "start_time": "2022-06-23T21:49:10.899Z"
   },
   {
    "duration": 385,
    "start_time": "2022-06-23T21:49:10.907Z"
   },
   {
    "duration": 12,
    "start_time": "2022-06-23T21:49:11.294Z"
   },
   {
    "duration": 145,
    "start_time": "2022-06-23T21:49:11.310Z"
   },
   {
    "duration": 22,
    "start_time": "2022-06-23T21:49:11.457Z"
   },
   {
    "duration": 226,
    "start_time": "2022-06-23T21:49:11.481Z"
   },
   {
    "duration": 7,
    "start_time": "2022-06-23T21:49:11.709Z"
   },
   {
    "duration": 238,
    "start_time": "2022-06-23T21:49:11.718Z"
   },
   {
    "duration": 171,
    "start_time": "2022-06-23T21:49:11.958Z"
   },
   {
    "duration": 253,
    "start_time": "2022-06-23T21:49:12.131Z"
   },
   {
    "duration": 178,
    "start_time": "2022-06-23T21:49:12.386Z"
   },
   {
    "duration": 228,
    "start_time": "2022-06-23T21:49:12.566Z"
   },
   {
    "duration": 21,
    "start_time": "2022-06-23T21:49:12.796Z"
   },
   {
    "duration": 207,
    "start_time": "2022-06-23T21:49:12.819Z"
   },
   {
    "duration": 189,
    "start_time": "2022-06-23T21:49:13.028Z"
   },
   {
    "duration": 185,
    "start_time": "2022-06-23T21:49:13.219Z"
   },
   {
    "duration": 163,
    "start_time": "2022-06-23T21:49:13.406Z"
   },
   {
    "duration": 192,
    "start_time": "2022-06-23T21:49:13.571Z"
   },
   {
    "duration": 176,
    "start_time": "2022-06-23T21:49:13.765Z"
   },
   {
    "duration": 172,
    "start_time": "2022-06-23T21:49:13.943Z"
   },
   {
    "duration": 32,
    "start_time": "2022-06-23T21:49:14.132Z"
   },
   {
    "duration": 176,
    "start_time": "2022-06-23T21:49:14.167Z"
   },
   {
    "duration": 18,
    "start_time": "2022-06-23T21:49:14.346Z"
   },
   {
    "duration": 13,
    "start_time": "2022-06-23T21:49:14.366Z"
   },
   {
    "duration": 679,
    "start_time": "2022-06-23T21:49:14.381Z"
   },
   {
    "duration": 7,
    "start_time": "2022-06-23T21:49:15.063Z"
   },
   {
    "duration": 58,
    "start_time": "2022-06-23T21:49:15.072Z"
   },
   {
    "duration": 13,
    "start_time": "2022-06-23T21:49:15.132Z"
   },
   {
    "duration": 12,
    "start_time": "2022-06-23T21:49:15.147Z"
   },
   {
    "duration": 679,
    "start_time": "2022-06-23T21:49:15.160Z"
   },
   {
    "duration": 897,
    "start_time": "2022-06-23T21:49:15.841Z"
   },
   {
    "duration": 9,
    "start_time": "2022-06-23T21:49:16.740Z"
   },
   {
    "duration": 19,
    "start_time": "2022-06-23T21:49:16.751Z"
   },
   {
    "duration": 770,
    "start_time": "2022-06-23T21:49:16.772Z"
   },
   {
    "duration": 8,
    "start_time": "2022-06-23T21:49:17.544Z"
   },
   {
    "duration": 16,
    "start_time": "2022-06-23T21:49:17.554Z"
   },
   {
    "duration": 65,
    "start_time": "2022-06-23T21:49:17.573Z"
   },
   {
    "duration": 21,
    "start_time": "2022-06-23T21:49:17.641Z"
   },
   {
    "duration": 8,
    "start_time": "2022-06-23T21:49:17.664Z"
   },
   {
    "duration": 492,
    "start_time": "2022-06-23T21:49:17.674Z"
   },
   {
    "duration": 421,
    "start_time": "2022-06-23T21:49:18.225Z"
   },
   {
    "duration": 478,
    "start_time": "2022-06-23T21:49:18.648Z"
   },
   {
    "duration": 346,
    "start_time": "2022-06-23T21:49:19.129Z"
   },
   {
    "duration": 197,
    "start_time": "2022-06-23T21:49:19.477Z"
   },
   {
    "duration": 546,
    "start_time": "2023-05-29T19:38:45.053Z"
   },
   {
    "duration": 399,
    "start_time": "2023-05-29T19:39:10.415Z"
   },
   {
    "duration": 52,
    "start_time": "2023-05-29T19:40:51.435Z"
   },
   {
    "duration": 19,
    "start_time": "2023-05-29T19:42:20.552Z"
   },
   {
    "duration": 14,
    "start_time": "2023-05-29T19:43:00.735Z"
   },
   {
    "duration": 10,
    "start_time": "2023-05-29T19:44:40.188Z"
   },
   {
    "duration": 10,
    "start_time": "2023-05-29T19:44:51.358Z"
   },
   {
    "duration": 9,
    "start_time": "2023-05-29T19:46:52.961Z"
   },
   {
    "duration": 37,
    "start_time": "2023-05-29T19:47:45.331Z"
   },
   {
    "duration": 6,
    "start_time": "2023-05-29T19:47:49.434Z"
   },
   {
    "duration": 10,
    "start_time": "2023-05-29T19:48:23.754Z"
   },
   {
    "duration": 7,
    "start_time": "2023-05-29T19:49:01.399Z"
   },
   {
    "duration": 10,
    "start_time": "2023-05-29T19:49:14.297Z"
   },
   {
    "duration": 10,
    "start_time": "2023-05-29T19:49:33.139Z"
   },
   {
    "duration": 16,
    "start_time": "2023-05-29T19:49:34.842Z"
   },
   {
    "duration": 43,
    "start_time": "2023-05-29T19:50:32.732Z"
   },
   {
    "duration": 53,
    "start_time": "2023-05-29T19:50:43.495Z"
   },
   {
    "duration": 12,
    "start_time": "2023-05-29T19:50:58.331Z"
   },
   {
    "duration": 13,
    "start_time": "2023-05-29T19:51:17.134Z"
   },
   {
    "duration": 9,
    "start_time": "2023-05-29T19:51:32.700Z"
   },
   {
    "duration": 10,
    "start_time": "2023-05-29T19:51:47.156Z"
   },
   {
    "duration": 8,
    "start_time": "2023-05-29T19:51:48.087Z"
   },
   {
    "duration": 10,
    "start_time": "2023-05-29T19:52:03.071Z"
   },
   {
    "duration": 9,
    "start_time": "2023-05-29T19:52:15.504Z"
   },
   {
    "duration": 291,
    "start_time": "2023-05-29T19:52:36.538Z"
   },
   {
    "duration": 8,
    "start_time": "2023-05-29T19:52:59.387Z"
   },
   {
    "duration": 7,
    "start_time": "2023-05-29T19:53:00.151Z"
   },
   {
    "duration": 296,
    "start_time": "2023-05-29T19:53:03.996Z"
   },
   {
    "duration": 6,
    "start_time": "2023-05-29T19:53:05.031Z"
   },
   {
    "duration": 179,
    "start_time": "2023-05-29T19:53:09.831Z"
   },
   {
    "duration": 14,
    "start_time": "2023-05-29T19:53:41.231Z"
   },
   {
    "duration": 8,
    "start_time": "2023-05-29T19:53:45.336Z"
   },
   {
    "duration": 7,
    "start_time": "2023-05-29T19:53:45.896Z"
   },
   {
    "duration": 282,
    "start_time": "2023-05-29T19:53:46.339Z"
   },
   {
    "duration": 12,
    "start_time": "2023-05-29T19:53:47.145Z"
   },
   {
    "duration": 6,
    "start_time": "2023-05-29T19:53:47.894Z"
   },
   {
    "duration": 198,
    "start_time": "2023-05-29T19:53:49.015Z"
   },
   {
    "duration": 11,
    "start_time": "2023-05-29T19:54:02.643Z"
   },
   {
    "duration": 8,
    "start_time": "2023-05-29T19:55:37.500Z"
   },
   {
    "duration": 6,
    "start_time": "2023-05-29T19:55:38.652Z"
   },
   {
    "duration": 298,
    "start_time": "2023-05-29T19:55:39.648Z"
   },
   {
    "duration": 4,
    "start_time": "2023-05-29T19:55:40.608Z"
   },
   {
    "duration": 185,
    "start_time": "2023-05-29T19:55:48.606Z"
   },
   {
    "duration": 26,
    "start_time": "2023-05-29T19:55:50.212Z"
   },
   {
    "duration": 10,
    "start_time": "2023-05-29T19:56:33.727Z"
   },
   {
    "duration": 6,
    "start_time": "2023-05-29T19:56:34.744Z"
   },
   {
    "duration": 332,
    "start_time": "2023-05-29T19:56:35.620Z"
   },
   {
    "duration": 14,
    "start_time": "2023-05-29T19:56:36.253Z"
   },
   {
    "duration": 6,
    "start_time": "2023-05-29T19:56:36.987Z"
   },
   {
    "duration": 210,
    "start_time": "2023-05-29T19:56:38.400Z"
   },
   {
    "duration": 8,
    "start_time": "2023-05-29T19:57:24.662Z"
   },
   {
    "duration": 5,
    "start_time": "2023-05-29T19:57:26.110Z"
   },
   {
    "duration": 12,
    "start_time": "2023-05-29T19:57:27.892Z"
   },
   {
    "duration": 257,
    "start_time": "2023-05-29T19:57:29.658Z"
   },
   {
    "duration": 9,
    "start_time": "2023-05-29T19:58:18.831Z"
   },
   {
    "duration": 6,
    "start_time": "2023-05-29T19:58:19.600Z"
   },
   {
    "duration": 195,
    "start_time": "2023-05-29T19:58:20.260Z"
   },
   {
    "duration": 8,
    "start_time": "2023-05-29T20:00:03.679Z"
   },
   {
    "duration": 6,
    "start_time": "2023-05-29T20:00:10.332Z"
   },
   {
    "duration": 274,
    "start_time": "2023-05-29T20:00:18.827Z"
   },
   {
    "duration": 8,
    "start_time": "2023-05-29T20:00:19.752Z"
   },
   {
    "duration": 8,
    "start_time": "2023-05-29T20:00:38.032Z"
   },
   {
    "duration": 7,
    "start_time": "2023-05-29T20:00:38.927Z"
   },
   {
    "duration": 293,
    "start_time": "2023-05-29T20:00:46.737Z"
   },
   {
    "duration": 10,
    "start_time": "2023-05-29T20:00:47.900Z"
   },
   {
    "duration": 87,
    "start_time": "2023-05-29T20:02:29.142Z"
   },
   {
    "duration": 16,
    "start_time": "2023-05-29T20:02:30.632Z"
   },
   {
    "duration": 161,
    "start_time": "2023-05-29T20:04:18.546Z"
   },
   {
    "duration": 4,
    "start_time": "2023-05-29T20:04:24.257Z"
   },
   {
    "duration": 154,
    "start_time": "2023-05-29T20:04:26.137Z"
   },
   {
    "duration": 142,
    "start_time": "2023-05-29T20:04:26.989Z"
   },
   {
    "duration": 172,
    "start_time": "2023-05-29T20:04:29.835Z"
   },
   {
    "duration": 128,
    "start_time": "2023-05-29T20:04:30.863Z"
   },
   {
    "duration": 204,
    "start_time": "2023-05-29T20:04:32.827Z"
   },
   {
    "duration": 18,
    "start_time": "2023-05-29T20:04:33.558Z"
   },
   {
    "duration": 178,
    "start_time": "2023-05-29T20:04:34.994Z"
   },
   {
    "duration": 146,
    "start_time": "2023-05-29T20:04:36.600Z"
   },
   {
    "duration": 160,
    "start_time": "2023-05-29T20:04:39.127Z"
   },
   {
    "duration": 160,
    "start_time": "2023-05-29T20:04:48.135Z"
   },
   {
    "duration": 134,
    "start_time": "2023-05-29T20:04:49.140Z"
   },
   {
    "duration": 161,
    "start_time": "2023-05-29T20:04:50.652Z"
   },
   {
    "duration": 143,
    "start_time": "2023-05-29T20:04:51.235Z"
   },
   {
    "duration": 190,
    "start_time": "2023-05-29T20:04:51.791Z"
   },
   {
    "duration": 26,
    "start_time": "2023-05-29T20:04:59.131Z"
   },
   {
    "duration": 146,
    "start_time": "2023-05-29T20:05:44.744Z"
   },
   {
    "duration": 155,
    "start_time": "2023-05-29T20:08:12.835Z"
   },
   {
    "duration": 16,
    "start_time": "2023-05-29T20:08:16.831Z"
   },
   {
    "duration": 9,
    "start_time": "2023-05-29T20:08:17.892Z"
   },
   {
    "duration": 389,
    "start_time": "2023-05-29T20:08:19.543Z"
   },
   {
    "duration": 5,
    "start_time": "2023-05-29T20:08:20.345Z"
   },
   {
    "duration": 9,
    "start_time": "2023-05-29T20:08:24.821Z"
   },
   {
    "duration": 7,
    "start_time": "2023-05-29T20:08:27.593Z"
   },
   {
    "duration": 7,
    "start_time": "2023-05-29T20:08:28.640Z"
   },
   {
    "duration": 362,
    "start_time": "2023-05-29T20:08:31.696Z"
   },
   {
    "duration": 335,
    "start_time": "2023-05-29T20:08:32.612Z"
   },
   {
    "duration": 8,
    "start_time": "2023-05-29T20:08:34.635Z"
   },
   {
    "duration": 7,
    "start_time": "2023-05-29T20:08:47.308Z"
   },
   {
    "duration": 231,
    "start_time": "2023-05-29T20:08:48.101Z"
   },
   {
    "duration": 10,
    "start_time": "2023-05-29T20:08:48.916Z"
   },
   {
    "duration": 6,
    "start_time": "2023-05-29T20:08:50.034Z"
   },
   {
    "duration": 6,
    "start_time": "2023-05-29T20:08:51.601Z"
   },
   {
    "duration": 8,
    "start_time": "2023-05-29T20:08:54.588Z"
   },
   {
    "duration": 7,
    "start_time": "2023-05-29T20:08:55.397Z"
   },
   {
    "duration": 161,
    "start_time": "2023-05-29T20:08:59.546Z"
   },
   {
    "duration": 180,
    "start_time": "2023-05-29T20:09:12.753Z"
   },
   {
    "duration": 140,
    "start_time": "2023-05-29T20:09:16.131Z"
   },
   {
    "duration": 148,
    "start_time": "2023-05-29T20:09:23.304Z"
   },
   {
    "duration": 200,
    "start_time": "2023-05-29T20:09:27.452Z"
   }
  ],
  "colab": {
   "name": "final_project_4.ipynb",
   "provenance": []
  },
  "kernelspec": {
   "display_name": "Python 3 (ipykernel)",
   "language": "python",
   "name": "python3"
  },
  "language_info": {
   "codemirror_mode": {
    "name": "ipython",
    "version": 3
   },
   "file_extension": ".py",
   "mimetype": "text/x-python",
   "name": "python",
   "nbconvert_exporter": "python",
   "pygments_lexer": "ipython3",
   "version": "3.9.5"
  },
  "toc": {
   "base_numbering": 1,
   "nav_menu": {},
   "number_sections": true,
   "sideBar": true,
   "skip_h1_title": true,
   "title_cell": "Содержание",
   "title_sidebar": "Contents",
   "toc_cell": true,
   "toc_position": {},
   "toc_section_display": true,
   "toc_window_display": false
  }
 },
 "nbformat": 4,
 "nbformat_minor": 1
}
