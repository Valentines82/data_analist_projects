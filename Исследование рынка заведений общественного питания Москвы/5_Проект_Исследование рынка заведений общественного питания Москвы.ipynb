{
 "cells": [
  {
   "cell_type": "markdown",
   "metadata": {
    "toc": true
   },
   "source": [
    "<h1>Содержание<span class=\"tocSkip\"></span></h1>\n",
    "<div class=\"toc\"><ul class=\"toc-item\"><li><span><a href=\"#Загрузка-данных-и-подготовка-их-к-анализу\" data-toc-modified-id=\"Загрузка-данных-и-подготовка-их-к-анализу-1\"><span class=\"toc-item-num\">1&nbsp;&nbsp;</span>Загрузка данных и подготовка их к анализу</a></span></li><li><span><a href=\"#Анализ-данных\" data-toc-modified-id=\"Анализ-данных-2\"><span class=\"toc-item-num\">2&nbsp;&nbsp;</span>Анализ данных</a></span><ul class=\"toc-item\"><li><span><a href=\"#Исследуем-соотношение-видов-объектов-общественного-питания-по-количеству.\" data-toc-modified-id=\"Исследуем-соотношение-видов-объектов-общественного-питания-по-количеству.-2.1\"><span class=\"toc-item-num\">2.1&nbsp;&nbsp;</span>Исследуем соотношение видов объектов общественного питания по количеству.</a></span></li><li><span><a href=\"#Исследуем-соотношение-сетевых-и-несетевых-заведений-по-количеству.\" data-toc-modified-id=\"Исследуем-соотношение-сетевых-и-несетевых-заведений-по-количеству.-2.2\"><span class=\"toc-item-num\">2.2&nbsp;&nbsp;</span>Исследуем соотношение сетевых и несетевых заведений по количеству.</a></span></li><li><span><a href=\"#Выясним-для-какого-вида-объекта-общественного-питания-характерно-сетевое-распространение?\" data-toc-modified-id=\"Выясним-для-какого-вида-объекта-общественного-питания-характерно-сетевое-распространение?-2.3\"><span class=\"toc-item-num\">2.3&nbsp;&nbsp;</span>Выясним для какого вида объекта общественного питания характерно сетевое распространение?</a></span></li><li><span><a href=\"#Выясним,-что-характерно-для-сетевых-заведений:-много-заведений-с-небольшим-числом-посадочных-мест-в-каждом-или-мало-заведений-с-большим-количеством-посадочных-мест?\" data-toc-modified-id=\"Выясним,-что-характерно-для-сетевых-заведений:-много-заведений-с-небольшим-числом-посадочных-мест-в-каждом-или-мало-заведений-с-большим-количеством-посадочных-мест?-2.4\"><span class=\"toc-item-num\">2.4&nbsp;&nbsp;</span>Выясним, что характерно для сетевых заведений: много заведений с небольшим числом посадочных мест в каждом или мало заведений с большим количеством посадочных мест?</a></span></li><li><span><a href=\"#Для-каждого-вида-объекта-общественного-питания-опишем-среднее-количество-посадочных-мест.\" data-toc-modified-id=\"Для-каждого-вида-объекта-общественного-питания-опишем-среднее-количество-посадочных-мест.-2.5\"><span class=\"toc-item-num\">2.5&nbsp;&nbsp;</span>Для каждого вида объекта общественного питания опишем среднее количество посадочных мест.</a></span></li><li><span><a href=\"#Посмотрим-топ-10-улиц-по-количеству-объектов-общественного-питания.-Воспользуемся-внешней-информацией-и-ответим-на-вопрос-—-в-каких-районах-Москвы-находятся-эти-улицы?\" data-toc-modified-id=\"Посмотрим-топ-10-улиц-по-количеству-объектов-общественного-питания.-Воспользуемся-внешней-информацией-и-ответим-на-вопрос-—-в-каких-районах-Москвы-находятся-эти-улицы?-2.6\"><span class=\"toc-item-num\">2.6&nbsp;&nbsp;</span>Посмотрим топ-10 улиц по количеству объектов общественного питания. Воспользуемся внешней информацией и ответим на вопрос — в каких районах Москвы находятся эти улицы?</a></span></li><li><span><a href=\"#Найдем-число-улиц-с-одним-объектом-общественного-питания.\" data-toc-modified-id=\"Найдем-число-улиц-с-одним-объектом-общественного-питания.-2.7\"><span class=\"toc-item-num\">2.7&nbsp;&nbsp;</span>Найдем число улиц с одним объектом общественного питания.</a></span></li></ul></li><li><span><a href=\"#ОБЩИЙ-ВЫВОД:\" data-toc-modified-id=\"ОБЩИЙ-ВЫВОД:-3\"><span class=\"toc-item-num\">3&nbsp;&nbsp;</span>ОБЩИЙ ВЫВОД:</a></span><ul class=\"toc-item\"><li><span><a href=\"#РЕКОМЕНДАЦИИ:\" data-toc-modified-id=\"РЕКОМЕНДАЦИИ:-3.1\"><span class=\"toc-item-num\">3.1&nbsp;&nbsp;</span>РЕКОМЕНДАЦИИ:</a></span></li></ul></li></ul></div>"
   ]
  },
  {
   "cell_type": "markdown",
   "metadata": {},
   "source": [
    "# Исследование рынка заведений общественного питания Москвы"
   ]
  },
  {
   "cell_type": "markdown",
   "metadata": {},
   "source": [
    "**Есть идея открыть небольшое кафе с обслуживанием роботами. Нужно изучить рынок заведений общественного питания в Москве для предложения оптимальной модели бизнеса данного стартапа инвесторам.**"
   ]
  },
  {
   "cell_type": "markdown",
   "metadata": {},
   "source": [
    "# Описание данных\n",
    "Таблица rest_data:\n",
    " - id — идентификатор объекта;\n",
    " - object_name — название объекта общественного питания;\n",
    " - chain — сетевой ресторан;\n",
    " - object_type — тип объекта общественного питания;\n",
    " - address — адрес;\n",
    " - number — количество посадочных мест."
   ]
  },
  {
   "cell_type": "markdown",
   "metadata": {},
   "source": [
    "## Загрузка данных и подготовка их к анализу\n"
   ]
  },
  {
   "cell_type": "code",
   "execution_count": 1,
   "metadata": {
    "scrolled": true
   },
   "outputs": [],
   "source": [
    "import pandas as pd\n",
    "import matplotlib.pyplot as plt\n",
    "import seaborn as sns\n",
    "import plotly.express as px\n",
    "from plotly import graph_objects as go\n",
    "from numpy import median"
   ]
  },
  {
   "cell_type": "code",
   "execution_count": 2,
   "metadata": {},
   "outputs": [
    {
     "name": "stdout",
     "output_type": "stream",
     "text": [
      "<class 'pandas.core.frame.DataFrame'>\n",
      "RangeIndex: 15366 entries, 0 to 15365\n",
      "Data columns (total 6 columns):\n",
      " #   Column       Non-Null Count  Dtype \n",
      "---  ------       --------------  ----- \n",
      " 0   id           15366 non-null  int64 \n",
      " 1   object_name  15366 non-null  object\n",
      " 2   chain        15366 non-null  object\n",
      " 3   object_type  15366 non-null  object\n",
      " 4   address      15366 non-null  object\n",
      " 5   number       15366 non-null  int64 \n",
      "dtypes: int64(2), object(4)\n",
      "memory usage: 720.4+ KB\n"
     ]
    }
   ],
   "source": [
    "data = pd.read_csv('/datasets/rest_data.csv')\n",
    "data.info()"
   ]
  },
  {
   "cell_type": "code",
   "execution_count": 2,
   "metadata": {},
   "outputs": [
    {
     "data": {
      "text/html": [
       "<div>\n",
       "<style scoped>\n",
       "    .dataframe tbody tr th:only-of-type {\n",
       "        vertical-align: middle;\n",
       "    }\n",
       "\n",
       "    .dataframe tbody tr th {\n",
       "        vertical-align: top;\n",
       "    }\n",
       "\n",
       "    .dataframe thead th {\n",
       "        text-align: right;\n",
       "    }\n",
       "</style>\n",
       "<table border=\"1\" class=\"dataframe\">\n",
       "  <thead>\n",
       "    <tr style=\"text-align: right;\">\n",
       "      <th></th>\n",
       "      <th>id</th>\n",
       "      <th>object_name</th>\n",
       "      <th>chain</th>\n",
       "      <th>object_type</th>\n",
       "      <th>address</th>\n",
       "      <th>number</th>\n",
       "    </tr>\n",
       "  </thead>\n",
       "  <tbody>\n",
       "    <tr>\n",
       "      <th>0</th>\n",
       "      <td>151635</td>\n",
       "      <td>СМЕТАНА</td>\n",
       "      <td>нет</td>\n",
       "      <td>кафе</td>\n",
       "      <td>город Москва, улица Егора Абакумова, дом 9</td>\n",
       "      <td>48</td>\n",
       "    </tr>\n",
       "    <tr>\n",
       "      <th>1</th>\n",
       "      <td>77874</td>\n",
       "      <td>Родник</td>\n",
       "      <td>нет</td>\n",
       "      <td>кафе</td>\n",
       "      <td>город Москва, улица Талалихина, дом 2/1, корпус 1</td>\n",
       "      <td>35</td>\n",
       "    </tr>\n",
       "    <tr>\n",
       "      <th>2</th>\n",
       "      <td>24309</td>\n",
       "      <td>Кафе «Академия»</td>\n",
       "      <td>нет</td>\n",
       "      <td>кафе</td>\n",
       "      <td>город Москва, Абельмановская улица, дом 6</td>\n",
       "      <td>95</td>\n",
       "    </tr>\n",
       "    <tr>\n",
       "      <th>3</th>\n",
       "      <td>21894</td>\n",
       "      <td>ПИЦЦЕТОРИЯ</td>\n",
       "      <td>да</td>\n",
       "      <td>кафе</td>\n",
       "      <td>город Москва, Абрамцевская улица, дом 1</td>\n",
       "      <td>40</td>\n",
       "    </tr>\n",
       "    <tr>\n",
       "      <th>4</th>\n",
       "      <td>119365</td>\n",
       "      <td>Кафе «Вишневая метель»</td>\n",
       "      <td>нет</td>\n",
       "      <td>кафе</td>\n",
       "      <td>город Москва, Абрамцевская улица, дом 9, корпус 1</td>\n",
       "      <td>50</td>\n",
       "    </tr>\n",
       "  </tbody>\n",
       "</table>\n",
       "</div>"
      ],
      "text/plain": [
       "       id             object_name chain object_type  \\\n",
       "0  151635                 СМЕТАНА   нет        кафе   \n",
       "1   77874                  Родник   нет        кафе   \n",
       "2   24309         Кафе «Академия»   нет        кафе   \n",
       "3   21894              ПИЦЦЕТОРИЯ    да        кафе   \n",
       "4  119365  Кафе «Вишневая метель»   нет        кафе   \n",
       "\n",
       "                                             address  number  \n",
       "0         город Москва, улица Егора Абакумова, дом 9      48  \n",
       "1  город Москва, улица Талалихина, дом 2/1, корпус 1      35  \n",
       "2          город Москва, Абельмановская улица, дом 6      95  \n",
       "3            город Москва, Абрамцевская улица, дом 1      40  \n",
       "4  город Москва, Абрамцевская улица, дом 9, корпус 1      50  "
      ]
     },
     "execution_count": 2,
     "metadata": {},
     "output_type": "execute_result"
    }
   ],
   "source": [
    "data.head()"
   ]
  },
  {
   "cell_type": "code",
   "execution_count": 3,
   "metadata": {},
   "outputs": [],
   "source": [
    "# приведем все названия и тип заведений к одному регистру, это позволит избавиться от части дубликатов\n",
    "data['object_name'] = data['object_name'].str.lower()\n",
    "data['chain'] = data['chain'].str.lower()\n",
    "data['object_type'] = data['object_type'].str.lower()"
   ]
  },
  {
   "cell_type": "code",
   "execution_count": 4,
   "metadata": {},
   "outputs": [
    {
     "data": {
      "text/plain": [
       "0"
      ]
     },
     "execution_count": 4,
     "metadata": {},
     "output_type": "execute_result"
    }
   ],
   "source": [
    "data.duplicated().sum()"
   ]
  },
  {
   "cell_type": "code",
   "execution_count": 4,
   "metadata": {},
   "outputs": [
    {
     "data": {
      "text/plain": [
       "85"
      ]
     },
     "execution_count": 4,
     "metadata": {},
     "output_type": "execute_result"
    }
   ],
   "source": [
    "data.duplicated(subset = ['object_name', 'chain', 'object_type', 'address', 'number']).sum()"
   ]
  },
  {
   "cell_type": "markdown",
   "metadata": {},
   "source": [
    "Выявлены дубликаты, которые надо удалить"
   ]
  },
  {
   "cell_type": "code",
   "execution_count": 5,
   "metadata": {},
   "outputs": [],
   "source": [
    "data = data.drop_duplicates(subset = ['object_name', 'chain', 'object_type', 'address', 'number'])\n",
    "# альтернативный способ \n",
    "# data = data.drop_duplicates(subset=data.columns.difference(['id']))"
   ]
  },
  {
   "cell_type": "code",
   "execution_count": 6,
   "metadata": {},
   "outputs": [
    {
     "data": {
      "text/html": [
       "<div>\n",
       "<style scoped>\n",
       "    .dataframe tbody tr th:only-of-type {\n",
       "        vertical-align: middle;\n",
       "    }\n",
       "\n",
       "    .dataframe tbody tr th {\n",
       "        vertical-align: top;\n",
       "    }\n",
       "\n",
       "    .dataframe thead th {\n",
       "        text-align: right;\n",
       "    }\n",
       "</style>\n",
       "<table border=\"1\" class=\"dataframe\">\n",
       "  <thead>\n",
       "    <tr style=\"text-align: right;\">\n",
       "      <th></th>\n",
       "      <th>id</th>\n",
       "      <th>number</th>\n",
       "    </tr>\n",
       "  </thead>\n",
       "  <tbody>\n",
       "    <tr>\n",
       "      <th>count</th>\n",
       "      <td>15281.000000</td>\n",
       "      <td>15281.000000</td>\n",
       "    </tr>\n",
       "    <tr>\n",
       "      <th>mean</th>\n",
       "      <td>119500.243440</td>\n",
       "      <td>59.788234</td>\n",
       "    </tr>\n",
       "    <tr>\n",
       "      <th>std</th>\n",
       "      <td>73044.123929</td>\n",
       "      <td>74.843042</td>\n",
       "    </tr>\n",
       "    <tr>\n",
       "      <th>min</th>\n",
       "      <td>838.000000</td>\n",
       "      <td>0.000000</td>\n",
       "    </tr>\n",
       "    <tr>\n",
       "      <th>25%</th>\n",
       "      <td>28493.000000</td>\n",
       "      <td>14.000000</td>\n",
       "    </tr>\n",
       "    <tr>\n",
       "      <th>50%</th>\n",
       "      <td>144799.000000</td>\n",
       "      <td>40.000000</td>\n",
       "    </tr>\n",
       "    <tr>\n",
       "      <th>75%</th>\n",
       "      <td>184090.000000</td>\n",
       "      <td>80.000000</td>\n",
       "    </tr>\n",
       "    <tr>\n",
       "      <th>max</th>\n",
       "      <td>223439.000000</td>\n",
       "      <td>1700.000000</td>\n",
       "    </tr>\n",
       "  </tbody>\n",
       "</table>\n",
       "</div>"
      ],
      "text/plain": [
       "                  id        number\n",
       "count   15281.000000  15281.000000\n",
       "mean   119500.243440     59.788234\n",
       "std     73044.123929     74.843042\n",
       "min       838.000000      0.000000\n",
       "25%     28493.000000     14.000000\n",
       "50%    144799.000000     40.000000\n",
       "75%    184090.000000     80.000000\n",
       "max    223439.000000   1700.000000"
      ]
     },
     "execution_count": 6,
     "metadata": {},
     "output_type": "execute_result"
    }
   ],
   "source": [
    "data.describe()"
   ]
  },
  {
   "cell_type": "code",
   "execution_count": 8,
   "metadata": {},
   "outputs": [
    {
     "data": {
      "text/html": [
       "<div>\n",
       "<style scoped>\n",
       "    .dataframe tbody tr th:only-of-type {\n",
       "        vertical-align: middle;\n",
       "    }\n",
       "\n",
       "    .dataframe tbody tr th {\n",
       "        vertical-align: top;\n",
       "    }\n",
       "\n",
       "    .dataframe thead th {\n",
       "        text-align: right;\n",
       "    }\n",
       "</style>\n",
       "<table border=\"1\" class=\"dataframe\">\n",
       "  <thead>\n",
       "    <tr style=\"text-align: right;\">\n",
       "      <th></th>\n",
       "      <th>id</th>\n",
       "      <th>object_name</th>\n",
       "      <th>chain</th>\n",
       "      <th>object_type</th>\n",
       "      <th>address</th>\n",
       "      <th>number</th>\n",
       "    </tr>\n",
       "  </thead>\n",
       "  <tbody>\n",
       "    <tr>\n",
       "      <th>137</th>\n",
       "      <td>115498</td>\n",
       "      <td>пекарня &amp; донер</td>\n",
       "      <td>нет</td>\n",
       "      <td>закусочная</td>\n",
       "      <td>город Москва, Бутырская улица, дом 9, корпус 2</td>\n",
       "      <td>0</td>\n",
       "    </tr>\n",
       "    <tr>\n",
       "      <th>154</th>\n",
       "      <td>152556</td>\n",
       "      <td>шаурма в пите</td>\n",
       "      <td>нет</td>\n",
       "      <td>предприятие быстрого обслуживания</td>\n",
       "      <td>город Москва, Варшавское шоссе, дом 72, корпус 2</td>\n",
       "      <td>0</td>\n",
       "    </tr>\n",
       "    <tr>\n",
       "      <th>157</th>\n",
       "      <td>149568</td>\n",
       "      <td>суши</td>\n",
       "      <td>нет</td>\n",
       "      <td>предприятие быстрого обслуживания</td>\n",
       "      <td>город Москва, улица Маршала Василевского, дом ...</td>\n",
       "      <td>0</td>\n",
       "    </tr>\n",
       "    <tr>\n",
       "      <th>190</th>\n",
       "      <td>126956</td>\n",
       "      <td>шаурма, куры-гриль</td>\n",
       "      <td>нет</td>\n",
       "      <td>предприятие быстрого обслуживания</td>\n",
       "      <td>город Москва, 1-я Владимирская улица, дом 21</td>\n",
       "      <td>0</td>\n",
       "    </tr>\n",
       "    <tr>\n",
       "      <th>195</th>\n",
       "      <td>149531</td>\n",
       "      <td>шаурма, куры-гриль</td>\n",
       "      <td>нет</td>\n",
       "      <td>предприятие быстрого обслуживания</td>\n",
       "      <td>город Москва, 2-я Владимирская улица, дом 44/10</td>\n",
       "      <td>0</td>\n",
       "    </tr>\n",
       "    <tr>\n",
       "      <th>...</th>\n",
       "      <td>...</td>\n",
       "      <td>...</td>\n",
       "      <td>...</td>\n",
       "      <td>...</td>\n",
       "      <td>...</td>\n",
       "      <td>...</td>\n",
       "    </tr>\n",
       "    <tr>\n",
       "      <th>15334</th>\n",
       "      <td>211228</td>\n",
       "      <td>милти</td>\n",
       "      <td>да</td>\n",
       "      <td>магазин (отдел кулинарии)</td>\n",
       "      <td>город Москва, Дубравная улица, дом 34/29</td>\n",
       "      <td>0</td>\n",
       "    </tr>\n",
       "    <tr>\n",
       "      <th>15335</th>\n",
       "      <td>211221</td>\n",
       "      <td>милти</td>\n",
       "      <td>да</td>\n",
       "      <td>магазин (отдел кулинарии)</td>\n",
       "      <td>город Москва, Пятницкое шоссе, дом 3</td>\n",
       "      <td>0</td>\n",
       "    </tr>\n",
       "    <tr>\n",
       "      <th>15336</th>\n",
       "      <td>211209</td>\n",
       "      <td>готовые блюда милти</td>\n",
       "      <td>да</td>\n",
       "      <td>предприятие быстрого обслуживания</td>\n",
       "      <td>город Москва, Ореховый бульвар, дом 22А</td>\n",
       "      <td>0</td>\n",
       "    </tr>\n",
       "    <tr>\n",
       "      <th>15337</th>\n",
       "      <td>208477</td>\n",
       "      <td>милти</td>\n",
       "      <td>да</td>\n",
       "      <td>предприятие быстрого обслуживания</td>\n",
       "      <td>город Москва, 3-й Крутицкий переулок, дом 18</td>\n",
       "      <td>0</td>\n",
       "    </tr>\n",
       "    <tr>\n",
       "      <th>15338</th>\n",
       "      <td>211201</td>\n",
       "      <td>милти</td>\n",
       "      <td>да</td>\n",
       "      <td>магазин (отдел кулинарии)</td>\n",
       "      <td>город Москва, Новослободская улица, дом 4</td>\n",
       "      <td>0</td>\n",
       "    </tr>\n",
       "  </tbody>\n",
       "</table>\n",
       "<p>1588 rows × 6 columns</p>\n",
       "</div>"
      ],
      "text/plain": [
       "           id          object_name chain                        object_type  \\\n",
       "137    115498      пекарня & донер   нет                         закусочная   \n",
       "154    152556        шаурма в пите   нет  предприятие быстрого обслуживания   \n",
       "157    149568                 суши   нет  предприятие быстрого обслуживания   \n",
       "190    126956   шаурма, куры-гриль   нет  предприятие быстрого обслуживания   \n",
       "195    149531   шаурма, куры-гриль   нет  предприятие быстрого обслуживания   \n",
       "...       ...                  ...   ...                                ...   \n",
       "15334  211228                милти    да          магазин (отдел кулинарии)   \n",
       "15335  211221                милти    да          магазин (отдел кулинарии)   \n",
       "15336  211209  готовые блюда милти    да  предприятие быстрого обслуживания   \n",
       "15337  208477                милти    да  предприятие быстрого обслуживания   \n",
       "15338  211201                милти    да          магазин (отдел кулинарии)   \n",
       "\n",
       "                                                 address  number  \n",
       "137       город Москва, Бутырская улица, дом 9, корпус 2       0  \n",
       "154     город Москва, Варшавское шоссе, дом 72, корпус 2       0  \n",
       "157    город Москва, улица Маршала Василевского, дом ...       0  \n",
       "190         город Москва, 1-я Владимирская улица, дом 21       0  \n",
       "195      город Москва, 2-я Владимирская улица, дом 44/10       0  \n",
       "...                                                  ...     ...  \n",
       "15334           город Москва, Дубравная улица, дом 34/29       0  \n",
       "15335               город Москва, Пятницкое шоссе, дом 3       0  \n",
       "15336            город Москва, Ореховый бульвар, дом 22А       0  \n",
       "15337       город Москва, 3-й Крутицкий переулок, дом 18       0  \n",
       "15338          город Москва, Новослободская улица, дом 4       0  \n",
       "\n",
       "[1588 rows x 6 columns]"
      ]
     },
     "execution_count": 8,
     "metadata": {},
     "output_type": "execute_result"
    }
   ],
   "source": [
    "# посмотрим заведения без посадочных мест\n",
    "data[data['number'] == 0]"
   ]
  },
  {
   "cell_type": "code",
   "execution_count": 9,
   "metadata": {},
   "outputs": [
    {
     "data": {
      "text/html": [
       "<div>\n",
       "<style scoped>\n",
       "    .dataframe tbody tr th:only-of-type {\n",
       "        vertical-align: middle;\n",
       "    }\n",
       "\n",
       "    .dataframe tbody tr th {\n",
       "        vertical-align: top;\n",
       "    }\n",
       "\n",
       "    .dataframe thead th {\n",
       "        text-align: right;\n",
       "    }\n",
       "</style>\n",
       "<table border=\"1\" class=\"dataframe\">\n",
       "  <thead>\n",
       "    <tr style=\"text-align: right;\">\n",
       "      <th></th>\n",
       "      <th>id</th>\n",
       "      <th>object_name</th>\n",
       "      <th>chain</th>\n",
       "      <th>object_type</th>\n",
       "      <th>address</th>\n",
       "      <th>number</th>\n",
       "    </tr>\n",
       "  </thead>\n",
       "  <tbody>\n",
       "    <tr>\n",
       "      <th>12723</th>\n",
       "      <td>199696</td>\n",
       "      <td>arena by soho family</td>\n",
       "      <td>нет</td>\n",
       "      <td>бар</td>\n",
       "      <td>город Москва, Кутузовский проспект, дом 36, ст...</td>\n",
       "      <td>1700</td>\n",
       "    </tr>\n",
       "  </tbody>\n",
       "</table>\n",
       "</div>"
      ],
      "text/plain": [
       "           id           object_name chain object_type  \\\n",
       "12723  199696  arena by soho family   нет         бар   \n",
       "\n",
       "                                                 address  number  \n",
       "12723  город Москва, Кутузовский проспект, дом 36, ст...    1700  "
      ]
     },
     "execution_count": 9,
     "metadata": {},
     "output_type": "execute_result"
    }
   ],
   "source": [
    "# смотрим заведение с аномально большим количеством посадочных мест\n",
    "data[data['number'] == 1700]"
   ]
  },
  {
   "cell_type": "code",
   "execution_count": 10,
   "metadata": {},
   "outputs": [
    {
     "data": {
      "text/plain": [
       "array(['нет', 'да'], dtype=object)"
      ]
     },
     "execution_count": 10,
     "metadata": {},
     "output_type": "execute_result"
    }
   ],
   "source": [
    "data['chain'].unique()"
   ]
  },
  {
   "cell_type": "code",
   "execution_count": 11,
   "metadata": {},
   "outputs": [
    {
     "data": {
      "text/plain": [
       "array(['кафе', 'столовая', 'закусочная',\n",
       "       'предприятие быстрого обслуживания', 'ресторан', 'кафетерий',\n",
       "       'буфет', 'бар', 'магазин (отдел кулинарии)'], dtype=object)"
      ]
     },
     "execution_count": 11,
     "metadata": {},
     "output_type": "execute_result"
    }
   ],
   "source": [
    "data['object_type'].unique()"
   ]
  },
  {
   "cell_type": "markdown",
   "metadata": {},
   "source": [
    "ВЫВОД: \n",
    "1. Тип данных в колонках верный, пропуски отсутствуют;\n",
    "2. Если отбросить 'id', то выявлены дубликаты, которые удалены.\n",
    "2. Есть объекты общественного питания, где нет посадочных мест, это как правило закусочные, предприятия быстрого обслуживания и отдел кулинарии в магазинах;\n",
    "3. Есть одно место, где 1700 посадочных мест. Такое заведение действительно существовало."
   ]
  },
  {
   "cell_type": "markdown",
   "metadata": {},
   "source": [
    "## Анализ данных"
   ]
  },
  {
   "cell_type": "markdown",
   "metadata": {},
   "source": [
    "### Исследуем соотношение видов объектов общественного питания по количеству."
   ]
  },
  {
   "cell_type": "code",
   "execution_count": 21,
   "metadata": {},
   "outputs": [
    {
     "data": {
      "text/html": [
       "<div>\n",
       "<style scoped>\n",
       "    .dataframe tbody tr th:only-of-type {\n",
       "        vertical-align: middle;\n",
       "    }\n",
       "\n",
       "    .dataframe tbody tr th {\n",
       "        vertical-align: top;\n",
       "    }\n",
       "\n",
       "    .dataframe thead th {\n",
       "        text-align: right;\n",
       "    }\n",
       "</style>\n",
       "<table border=\"1\" class=\"dataframe\">\n",
       "  <thead>\n",
       "    <tr style=\"text-align: right;\">\n",
       "      <th></th>\n",
       "      <th>Тип</th>\n",
       "      <th>Количество</th>\n",
       "      <th>Доля</th>\n",
       "    </tr>\n",
       "  </thead>\n",
       "  <tbody>\n",
       "    <tr>\n",
       "      <th>0</th>\n",
       "      <td>магазин (отдел кулинарии)</td>\n",
       "      <td>273</td>\n",
       "      <td>2.0</td>\n",
       "    </tr>\n",
       "    <tr>\n",
       "      <th>1</th>\n",
       "      <td>закусочная</td>\n",
       "      <td>348</td>\n",
       "      <td>2.0</td>\n",
       "    </tr>\n",
       "    <tr>\n",
       "      <th>2</th>\n",
       "      <td>кафетерий</td>\n",
       "      <td>395</td>\n",
       "      <td>3.0</td>\n",
       "    </tr>\n",
       "    <tr>\n",
       "      <th>3</th>\n",
       "      <td>буфет</td>\n",
       "      <td>576</td>\n",
       "      <td>4.0</td>\n",
       "    </tr>\n",
       "    <tr>\n",
       "      <th>4</th>\n",
       "      <td>бар</td>\n",
       "      <td>855</td>\n",
       "      <td>6.0</td>\n",
       "    </tr>\n",
       "    <tr>\n",
       "      <th>5</th>\n",
       "      <td>предприятие быстрого обслуживания</td>\n",
       "      <td>1897</td>\n",
       "      <td>12.0</td>\n",
       "    </tr>\n",
       "    <tr>\n",
       "      <th>6</th>\n",
       "      <td>ресторан</td>\n",
       "      <td>2282</td>\n",
       "      <td>15.0</td>\n",
       "    </tr>\n",
       "    <tr>\n",
       "      <th>7</th>\n",
       "      <td>столовая</td>\n",
       "      <td>2584</td>\n",
       "      <td>17.0</td>\n",
       "    </tr>\n",
       "    <tr>\n",
       "      <th>8</th>\n",
       "      <td>кафе</td>\n",
       "      <td>6071</td>\n",
       "      <td>40.0</td>\n",
       "    </tr>\n",
       "  </tbody>\n",
       "</table>\n",
       "</div>"
      ],
      "text/plain": [
       "                                 Тип  Количество  Доля\n",
       "0          магазин (отдел кулинарии)         273   2.0\n",
       "1                         закусочная         348   2.0\n",
       "2                          кафетерий         395   3.0\n",
       "3                              буфет         576   4.0\n",
       "4                                бар         855   6.0\n",
       "5  предприятие быстрого обслуживания        1897  12.0\n",
       "6                           ресторан        2282  15.0\n",
       "7                           столовая        2584  17.0\n",
       "8                               кафе        6071  40.0"
      ]
     },
     "execution_count": 21,
     "metadata": {},
     "output_type": "execute_result"
    }
   ],
   "source": [
    "# группируем данные по типу объекта для отображения общего числа точек по типу\n",
    "data_ratio_type = data.pivot_table(index = 'object_type', values = 'id', aggfunc = 'count').sort_values(by = 'id').reset_index()\n",
    "data_ratio_type['Доля'] = ((data_ratio_type['id']/ data_ratio_type['id'].sum()) * 100).round()\n",
    "data_ratio_type = data_ratio_type.rename({'object_type':'Тип', 'id':'Количество'}, axis = 1)\n",
    "data_ratio_type"
   ]
  },
  {
   "cell_type": "code",
   "execution_count": 22,
   "metadata": {},
   "outputs": [
    {
     "data": {
      "application/vnd.plotly.v1+json": {
       "config": {
        "plotlyServerURL": "https://plot.ly"
       },
       "data": [
        {
         "alignmentgroup": "True",
         "hovertemplate": "Тип=%{x}<br>Количество=%{y}<extra></extra>",
         "legendgroup": "",
         "marker": {
          "color": "#636efa",
          "pattern": {
           "shape": ""
          }
         },
         "name": "",
         "offsetgroup": "",
         "orientation": "v",
         "showlegend": false,
         "textposition": "auto",
         "type": "bar",
         "x": [
          "магазин (отдел кулинарии)",
          "закусочная",
          "кафетерий",
          "буфет",
          "бар",
          "предприятие быстрого обслуживания",
          "ресторан",
          "столовая",
          "кафе"
         ],
         "xaxis": "x",
         "y": [
          273,
          348,
          395,
          576,
          855,
          1897,
          2282,
          2584,
          6071
         ],
         "yaxis": "y"
        }
       ],
       "layout": {
        "barmode": "relative",
        "legend": {
         "tracegroupgap": 0
        },
        "template": {
         "data": {
          "bar": [
           {
            "error_x": {
             "color": "#2a3f5f"
            },
            "error_y": {
             "color": "#2a3f5f"
            },
            "marker": {
             "line": {
              "color": "#E5ECF6",
              "width": 0.5
             },
             "pattern": {
              "fillmode": "overlay",
              "size": 10,
              "solidity": 0.2
             }
            },
            "type": "bar"
           }
          ],
          "barpolar": [
           {
            "marker": {
             "line": {
              "color": "#E5ECF6",
              "width": 0.5
             },
             "pattern": {
              "fillmode": "overlay",
              "size": 10,
              "solidity": 0.2
             }
            },
            "type": "barpolar"
           }
          ],
          "carpet": [
           {
            "aaxis": {
             "endlinecolor": "#2a3f5f",
             "gridcolor": "white",
             "linecolor": "white",
             "minorgridcolor": "white",
             "startlinecolor": "#2a3f5f"
            },
            "baxis": {
             "endlinecolor": "#2a3f5f",
             "gridcolor": "white",
             "linecolor": "white",
             "minorgridcolor": "white",
             "startlinecolor": "#2a3f5f"
            },
            "type": "carpet"
           }
          ],
          "choropleth": [
           {
            "colorbar": {
             "outlinewidth": 0,
             "ticks": ""
            },
            "type": "choropleth"
           }
          ],
          "contour": [
           {
            "colorbar": {
             "outlinewidth": 0,
             "ticks": ""
            },
            "colorscale": [
             [
              0,
              "#0d0887"
             ],
             [
              0.1111111111111111,
              "#46039f"
             ],
             [
              0.2222222222222222,
              "#7201a8"
             ],
             [
              0.3333333333333333,
              "#9c179e"
             ],
             [
              0.4444444444444444,
              "#bd3786"
             ],
             [
              0.5555555555555556,
              "#d8576b"
             ],
             [
              0.6666666666666666,
              "#ed7953"
             ],
             [
              0.7777777777777778,
              "#fb9f3a"
             ],
             [
              0.8888888888888888,
              "#fdca26"
             ],
             [
              1,
              "#f0f921"
             ]
            ],
            "type": "contour"
           }
          ],
          "contourcarpet": [
           {
            "colorbar": {
             "outlinewidth": 0,
             "ticks": ""
            },
            "type": "contourcarpet"
           }
          ],
          "heatmap": [
           {
            "colorbar": {
             "outlinewidth": 0,
             "ticks": ""
            },
            "colorscale": [
             [
              0,
              "#0d0887"
             ],
             [
              0.1111111111111111,
              "#46039f"
             ],
             [
              0.2222222222222222,
              "#7201a8"
             ],
             [
              0.3333333333333333,
              "#9c179e"
             ],
             [
              0.4444444444444444,
              "#bd3786"
             ],
             [
              0.5555555555555556,
              "#d8576b"
             ],
             [
              0.6666666666666666,
              "#ed7953"
             ],
             [
              0.7777777777777778,
              "#fb9f3a"
             ],
             [
              0.8888888888888888,
              "#fdca26"
             ],
             [
              1,
              "#f0f921"
             ]
            ],
            "type": "heatmap"
           }
          ],
          "heatmapgl": [
           {
            "colorbar": {
             "outlinewidth": 0,
             "ticks": ""
            },
            "colorscale": [
             [
              0,
              "#0d0887"
             ],
             [
              0.1111111111111111,
              "#46039f"
             ],
             [
              0.2222222222222222,
              "#7201a8"
             ],
             [
              0.3333333333333333,
              "#9c179e"
             ],
             [
              0.4444444444444444,
              "#bd3786"
             ],
             [
              0.5555555555555556,
              "#d8576b"
             ],
             [
              0.6666666666666666,
              "#ed7953"
             ],
             [
              0.7777777777777778,
              "#fb9f3a"
             ],
             [
              0.8888888888888888,
              "#fdca26"
             ],
             [
              1,
              "#f0f921"
             ]
            ],
            "type": "heatmapgl"
           }
          ],
          "histogram": [
           {
            "marker": {
             "pattern": {
              "fillmode": "overlay",
              "size": 10,
              "solidity": 0.2
             }
            },
            "type": "histogram"
           }
          ],
          "histogram2d": [
           {
            "colorbar": {
             "outlinewidth": 0,
             "ticks": ""
            },
            "colorscale": [
             [
              0,
              "#0d0887"
             ],
             [
              0.1111111111111111,
              "#46039f"
             ],
             [
              0.2222222222222222,
              "#7201a8"
             ],
             [
              0.3333333333333333,
              "#9c179e"
             ],
             [
              0.4444444444444444,
              "#bd3786"
             ],
             [
              0.5555555555555556,
              "#d8576b"
             ],
             [
              0.6666666666666666,
              "#ed7953"
             ],
             [
              0.7777777777777778,
              "#fb9f3a"
             ],
             [
              0.8888888888888888,
              "#fdca26"
             ],
             [
              1,
              "#f0f921"
             ]
            ],
            "type": "histogram2d"
           }
          ],
          "histogram2dcontour": [
           {
            "colorbar": {
             "outlinewidth": 0,
             "ticks": ""
            },
            "colorscale": [
             [
              0,
              "#0d0887"
             ],
             [
              0.1111111111111111,
              "#46039f"
             ],
             [
              0.2222222222222222,
              "#7201a8"
             ],
             [
              0.3333333333333333,
              "#9c179e"
             ],
             [
              0.4444444444444444,
              "#bd3786"
             ],
             [
              0.5555555555555556,
              "#d8576b"
             ],
             [
              0.6666666666666666,
              "#ed7953"
             ],
             [
              0.7777777777777778,
              "#fb9f3a"
             ],
             [
              0.8888888888888888,
              "#fdca26"
             ],
             [
              1,
              "#f0f921"
             ]
            ],
            "type": "histogram2dcontour"
           }
          ],
          "mesh3d": [
           {
            "colorbar": {
             "outlinewidth": 0,
             "ticks": ""
            },
            "type": "mesh3d"
           }
          ],
          "parcoords": [
           {
            "line": {
             "colorbar": {
              "outlinewidth": 0,
              "ticks": ""
             }
            },
            "type": "parcoords"
           }
          ],
          "pie": [
           {
            "automargin": true,
            "type": "pie"
           }
          ],
          "scatter": [
           {
            "marker": {
             "colorbar": {
              "outlinewidth": 0,
              "ticks": ""
             }
            },
            "type": "scatter"
           }
          ],
          "scatter3d": [
           {
            "line": {
             "colorbar": {
              "outlinewidth": 0,
              "ticks": ""
             }
            },
            "marker": {
             "colorbar": {
              "outlinewidth": 0,
              "ticks": ""
             }
            },
            "type": "scatter3d"
           }
          ],
          "scattercarpet": [
           {
            "marker": {
             "colorbar": {
              "outlinewidth": 0,
              "ticks": ""
             }
            },
            "type": "scattercarpet"
           }
          ],
          "scattergeo": [
           {
            "marker": {
             "colorbar": {
              "outlinewidth": 0,
              "ticks": ""
             }
            },
            "type": "scattergeo"
           }
          ],
          "scattergl": [
           {
            "marker": {
             "colorbar": {
              "outlinewidth": 0,
              "ticks": ""
             }
            },
            "type": "scattergl"
           }
          ],
          "scattermapbox": [
           {
            "marker": {
             "colorbar": {
              "outlinewidth": 0,
              "ticks": ""
             }
            },
            "type": "scattermapbox"
           }
          ],
          "scatterpolar": [
           {
            "marker": {
             "colorbar": {
              "outlinewidth": 0,
              "ticks": ""
             }
            },
            "type": "scatterpolar"
           }
          ],
          "scatterpolargl": [
           {
            "marker": {
             "colorbar": {
              "outlinewidth": 0,
              "ticks": ""
             }
            },
            "type": "scatterpolargl"
           }
          ],
          "scatterternary": [
           {
            "marker": {
             "colorbar": {
              "outlinewidth": 0,
              "ticks": ""
             }
            },
            "type": "scatterternary"
           }
          ],
          "surface": [
           {
            "colorbar": {
             "outlinewidth": 0,
             "ticks": ""
            },
            "colorscale": [
             [
              0,
              "#0d0887"
             ],
             [
              0.1111111111111111,
              "#46039f"
             ],
             [
              0.2222222222222222,
              "#7201a8"
             ],
             [
              0.3333333333333333,
              "#9c179e"
             ],
             [
              0.4444444444444444,
              "#bd3786"
             ],
             [
              0.5555555555555556,
              "#d8576b"
             ],
             [
              0.6666666666666666,
              "#ed7953"
             ],
             [
              0.7777777777777778,
              "#fb9f3a"
             ],
             [
              0.8888888888888888,
              "#fdca26"
             ],
             [
              1,
              "#f0f921"
             ]
            ],
            "type": "surface"
           }
          ],
          "table": [
           {
            "cells": {
             "fill": {
              "color": "#EBF0F8"
             },
             "line": {
              "color": "white"
             }
            },
            "header": {
             "fill": {
              "color": "#C8D4E3"
             },
             "line": {
              "color": "white"
             }
            },
            "type": "table"
           }
          ]
         },
         "layout": {
          "annotationdefaults": {
           "arrowcolor": "#2a3f5f",
           "arrowhead": 0,
           "arrowwidth": 1
          },
          "autotypenumbers": "strict",
          "coloraxis": {
           "colorbar": {
            "outlinewidth": 0,
            "ticks": ""
           }
          },
          "colorscale": {
           "diverging": [
            [
             0,
             "#8e0152"
            ],
            [
             0.1,
             "#c51b7d"
            ],
            [
             0.2,
             "#de77ae"
            ],
            [
             0.3,
             "#f1b6da"
            ],
            [
             0.4,
             "#fde0ef"
            ],
            [
             0.5,
             "#f7f7f7"
            ],
            [
             0.6,
             "#e6f5d0"
            ],
            [
             0.7,
             "#b8e186"
            ],
            [
             0.8,
             "#7fbc41"
            ],
            [
             0.9,
             "#4d9221"
            ],
            [
             1,
             "#276419"
            ]
           ],
           "sequential": [
            [
             0,
             "#0d0887"
            ],
            [
             0.1111111111111111,
             "#46039f"
            ],
            [
             0.2222222222222222,
             "#7201a8"
            ],
            [
             0.3333333333333333,
             "#9c179e"
            ],
            [
             0.4444444444444444,
             "#bd3786"
            ],
            [
             0.5555555555555556,
             "#d8576b"
            ],
            [
             0.6666666666666666,
             "#ed7953"
            ],
            [
             0.7777777777777778,
             "#fb9f3a"
            ],
            [
             0.8888888888888888,
             "#fdca26"
            ],
            [
             1,
             "#f0f921"
            ]
           ],
           "sequentialminus": [
            [
             0,
             "#0d0887"
            ],
            [
             0.1111111111111111,
             "#46039f"
            ],
            [
             0.2222222222222222,
             "#7201a8"
            ],
            [
             0.3333333333333333,
             "#9c179e"
            ],
            [
             0.4444444444444444,
             "#bd3786"
            ],
            [
             0.5555555555555556,
             "#d8576b"
            ],
            [
             0.6666666666666666,
             "#ed7953"
            ],
            [
             0.7777777777777778,
             "#fb9f3a"
            ],
            [
             0.8888888888888888,
             "#fdca26"
            ],
            [
             1,
             "#f0f921"
            ]
           ]
          },
          "colorway": [
           "#636efa",
           "#EF553B",
           "#00cc96",
           "#ab63fa",
           "#FFA15A",
           "#19d3f3",
           "#FF6692",
           "#B6E880",
           "#FF97FF",
           "#FECB52"
          ],
          "font": {
           "color": "#2a3f5f"
          },
          "geo": {
           "bgcolor": "white",
           "lakecolor": "white",
           "landcolor": "#E5ECF6",
           "showlakes": true,
           "showland": true,
           "subunitcolor": "white"
          },
          "hoverlabel": {
           "align": "left"
          },
          "hovermode": "closest",
          "mapbox": {
           "style": "light"
          },
          "paper_bgcolor": "white",
          "plot_bgcolor": "#E5ECF6",
          "polar": {
           "angularaxis": {
            "gridcolor": "white",
            "linecolor": "white",
            "ticks": ""
           },
           "bgcolor": "#E5ECF6",
           "radialaxis": {
            "gridcolor": "white",
            "linecolor": "white",
            "ticks": ""
           }
          },
          "scene": {
           "xaxis": {
            "backgroundcolor": "#E5ECF6",
            "gridcolor": "white",
            "gridwidth": 2,
            "linecolor": "white",
            "showbackground": true,
            "ticks": "",
            "zerolinecolor": "white"
           },
           "yaxis": {
            "backgroundcolor": "#E5ECF6",
            "gridcolor": "white",
            "gridwidth": 2,
            "linecolor": "white",
            "showbackground": true,
            "ticks": "",
            "zerolinecolor": "white"
           },
           "zaxis": {
            "backgroundcolor": "#E5ECF6",
            "gridcolor": "white",
            "gridwidth": 2,
            "linecolor": "white",
            "showbackground": true,
            "ticks": "",
            "zerolinecolor": "white"
           }
          },
          "shapedefaults": {
           "line": {
            "color": "#2a3f5f"
           }
          },
          "ternary": {
           "aaxis": {
            "gridcolor": "white",
            "linecolor": "white",
            "ticks": ""
           },
           "baxis": {
            "gridcolor": "white",
            "linecolor": "white",
            "ticks": ""
           },
           "bgcolor": "#E5ECF6",
           "caxis": {
            "gridcolor": "white",
            "linecolor": "white",
            "ticks": ""
           }
          },
          "title": {
           "x": 0.05
          },
          "xaxis": {
           "automargin": true,
           "gridcolor": "white",
           "linecolor": "white",
           "ticks": "",
           "title": {
            "standoff": 15
           },
           "zerolinecolor": "white",
           "zerolinewidth": 2
          },
          "yaxis": {
           "automargin": true,
           "gridcolor": "white",
           "linecolor": "white",
           "ticks": "",
           "title": {
            "standoff": 15
           },
           "zerolinecolor": "white",
           "zerolinewidth": 2
          }
         }
        },
        "title": {
         "text": "Количество объектов общественного питания"
        },
        "xaxis": {
         "anchor": "y",
         "domain": [
          0,
          1
         ],
         "tickangle": 0,
         "tickmode": "array",
         "ticktext": [
          "магазин<br>(отдел<br>кулинарии)",
          "закусочная",
          "кафетерий",
          "буфет",
          "бар",
          "предприятие<br>быстрого<br>обслуживания",
          "ресторан",
          "столовая",
          "кафе"
         ],
         "tickvals": [
          "магазин (отдел кулинарии)",
          "закусочная",
          "кафетерий",
          "буфет",
          "бар",
          "предприятие быстрого обслуживания",
          "ресторан",
          "столовая",
          "кафе"
         ],
         "title": {
          "text": "Тип"
         }
        },
        "yaxis": {
         "anchor": "x",
         "domain": [
          0,
          1
         ],
         "title": {
          "text": "Количество"
         }
        }
       }
      },
      "text/html": [
       "<div>                            <div id=\"ae5606ed-0c12-4b83-ab3c-6ad7de5b070c\" class=\"plotly-graph-div\" style=\"height:525px; width:100%;\"></div>            <script type=\"text/javascript\">                require([\"plotly\"], function(Plotly) {                    window.PLOTLYENV=window.PLOTLYENV || {};                                    if (document.getElementById(\"ae5606ed-0c12-4b83-ab3c-6ad7de5b070c\")) {                    Plotly.newPlot(                        \"ae5606ed-0c12-4b83-ab3c-6ad7de5b070c\",                        [{\"alignmentgroup\":\"True\",\"hovertemplate\":\"\\u0422\\u0438\\u043f=%{x}<br>\\u041a\\u043e\\u043b\\u0438\\u0447\\u0435\\u0441\\u0442\\u0432\\u043e=%{y}<extra></extra>\",\"legendgroup\":\"\",\"marker\":{\"color\":\"#636efa\",\"pattern\":{\"shape\":\"\"}},\"name\":\"\",\"offsetgroup\":\"\",\"orientation\":\"v\",\"showlegend\":false,\"textposition\":\"auto\",\"x\":[\"\\u043c\\u0430\\u0433\\u0430\\u0437\\u0438\\u043d (\\u043e\\u0442\\u0434\\u0435\\u043b \\u043a\\u0443\\u043b\\u0438\\u043d\\u0430\\u0440\\u0438\\u0438)\",\"\\u0437\\u0430\\u043a\\u0443\\u0441\\u043e\\u0447\\u043d\\u0430\\u044f\",\"\\u043a\\u0430\\u0444\\u0435\\u0442\\u0435\\u0440\\u0438\\u0439\",\"\\u0431\\u0443\\u0444\\u0435\\u0442\",\"\\u0431\\u0430\\u0440\",\"\\u043f\\u0440\\u0435\\u0434\\u043f\\u0440\\u0438\\u044f\\u0442\\u0438\\u0435 \\u0431\\u044b\\u0441\\u0442\\u0440\\u043e\\u0433\\u043e \\u043e\\u0431\\u0441\\u043b\\u0443\\u0436\\u0438\\u0432\\u0430\\u043d\\u0438\\u044f\",\"\\u0440\\u0435\\u0441\\u0442\\u043e\\u0440\\u0430\\u043d\",\"\\u0441\\u0442\\u043e\\u043b\\u043e\\u0432\\u0430\\u044f\",\"\\u043a\\u0430\\u0444\\u0435\"],\"xaxis\":\"x\",\"y\":[273,348,395,576,855,1897,2282,2584,6071],\"yaxis\":\"y\",\"type\":\"bar\"}],                        {\"template\":{\"data\":{\"bar\":[{\"error_x\":{\"color\":\"#2a3f5f\"},\"error_y\":{\"color\":\"#2a3f5f\"},\"marker\":{\"line\":{\"color\":\"#E5ECF6\",\"width\":0.5},\"pattern\":{\"fillmode\":\"overlay\",\"size\":10,\"solidity\":0.2}},\"type\":\"bar\"}],\"barpolar\":[{\"marker\":{\"line\":{\"color\":\"#E5ECF6\",\"width\":0.5},\"pattern\":{\"fillmode\":\"overlay\",\"size\":10,\"solidity\":0.2}},\"type\":\"barpolar\"}],\"carpet\":[{\"aaxis\":{\"endlinecolor\":\"#2a3f5f\",\"gridcolor\":\"white\",\"linecolor\":\"white\",\"minorgridcolor\":\"white\",\"startlinecolor\":\"#2a3f5f\"},\"baxis\":{\"endlinecolor\":\"#2a3f5f\",\"gridcolor\":\"white\",\"linecolor\":\"white\",\"minorgridcolor\":\"white\",\"startlinecolor\":\"#2a3f5f\"},\"type\":\"carpet\"}],\"choropleth\":[{\"colorbar\":{\"outlinewidth\":0,\"ticks\":\"\"},\"type\":\"choropleth\"}],\"contour\":[{\"colorbar\":{\"outlinewidth\":0,\"ticks\":\"\"},\"colorscale\":[[0.0,\"#0d0887\"],[0.1111111111111111,\"#46039f\"],[0.2222222222222222,\"#7201a8\"],[0.3333333333333333,\"#9c179e\"],[0.4444444444444444,\"#bd3786\"],[0.5555555555555556,\"#d8576b\"],[0.6666666666666666,\"#ed7953\"],[0.7777777777777778,\"#fb9f3a\"],[0.8888888888888888,\"#fdca26\"],[1.0,\"#f0f921\"]],\"type\":\"contour\"}],\"contourcarpet\":[{\"colorbar\":{\"outlinewidth\":0,\"ticks\":\"\"},\"type\":\"contourcarpet\"}],\"heatmap\":[{\"colorbar\":{\"outlinewidth\":0,\"ticks\":\"\"},\"colorscale\":[[0.0,\"#0d0887\"],[0.1111111111111111,\"#46039f\"],[0.2222222222222222,\"#7201a8\"],[0.3333333333333333,\"#9c179e\"],[0.4444444444444444,\"#bd3786\"],[0.5555555555555556,\"#d8576b\"],[0.6666666666666666,\"#ed7953\"],[0.7777777777777778,\"#fb9f3a\"],[0.8888888888888888,\"#fdca26\"],[1.0,\"#f0f921\"]],\"type\":\"heatmap\"}],\"heatmapgl\":[{\"colorbar\":{\"outlinewidth\":0,\"ticks\":\"\"},\"colorscale\":[[0.0,\"#0d0887\"],[0.1111111111111111,\"#46039f\"],[0.2222222222222222,\"#7201a8\"],[0.3333333333333333,\"#9c179e\"],[0.4444444444444444,\"#bd3786\"],[0.5555555555555556,\"#d8576b\"],[0.6666666666666666,\"#ed7953\"],[0.7777777777777778,\"#fb9f3a\"],[0.8888888888888888,\"#fdca26\"],[1.0,\"#f0f921\"]],\"type\":\"heatmapgl\"}],\"histogram\":[{\"marker\":{\"pattern\":{\"fillmode\":\"overlay\",\"size\":10,\"solidity\":0.2}},\"type\":\"histogram\"}],\"histogram2d\":[{\"colorbar\":{\"outlinewidth\":0,\"ticks\":\"\"},\"colorscale\":[[0.0,\"#0d0887\"],[0.1111111111111111,\"#46039f\"],[0.2222222222222222,\"#7201a8\"],[0.3333333333333333,\"#9c179e\"],[0.4444444444444444,\"#bd3786\"],[0.5555555555555556,\"#d8576b\"],[0.6666666666666666,\"#ed7953\"],[0.7777777777777778,\"#fb9f3a\"],[0.8888888888888888,\"#fdca26\"],[1.0,\"#f0f921\"]],\"type\":\"histogram2d\"}],\"histogram2dcontour\":[{\"colorbar\":{\"outlinewidth\":0,\"ticks\":\"\"},\"colorscale\":[[0.0,\"#0d0887\"],[0.1111111111111111,\"#46039f\"],[0.2222222222222222,\"#7201a8\"],[0.3333333333333333,\"#9c179e\"],[0.4444444444444444,\"#bd3786\"],[0.5555555555555556,\"#d8576b\"],[0.6666666666666666,\"#ed7953\"],[0.7777777777777778,\"#fb9f3a\"],[0.8888888888888888,\"#fdca26\"],[1.0,\"#f0f921\"]],\"type\":\"histogram2dcontour\"}],\"mesh3d\":[{\"colorbar\":{\"outlinewidth\":0,\"ticks\":\"\"},\"type\":\"mesh3d\"}],\"parcoords\":[{\"line\":{\"colorbar\":{\"outlinewidth\":0,\"ticks\":\"\"}},\"type\":\"parcoords\"}],\"pie\":[{\"automargin\":true,\"type\":\"pie\"}],\"scatter\":[{\"marker\":{\"colorbar\":{\"outlinewidth\":0,\"ticks\":\"\"}},\"type\":\"scatter\"}],\"scatter3d\":[{\"line\":{\"colorbar\":{\"outlinewidth\":0,\"ticks\":\"\"}},\"marker\":{\"colorbar\":{\"outlinewidth\":0,\"ticks\":\"\"}},\"type\":\"scatter3d\"}],\"scattercarpet\":[{\"marker\":{\"colorbar\":{\"outlinewidth\":0,\"ticks\":\"\"}},\"type\":\"scattercarpet\"}],\"scattergeo\":[{\"marker\":{\"colorbar\":{\"outlinewidth\":0,\"ticks\":\"\"}},\"type\":\"scattergeo\"}],\"scattergl\":[{\"marker\":{\"colorbar\":{\"outlinewidth\":0,\"ticks\":\"\"}},\"type\":\"scattergl\"}],\"scattermapbox\":[{\"marker\":{\"colorbar\":{\"outlinewidth\":0,\"ticks\":\"\"}},\"type\":\"scattermapbox\"}],\"scatterpolar\":[{\"marker\":{\"colorbar\":{\"outlinewidth\":0,\"ticks\":\"\"}},\"type\":\"scatterpolar\"}],\"scatterpolargl\":[{\"marker\":{\"colorbar\":{\"outlinewidth\":0,\"ticks\":\"\"}},\"type\":\"scatterpolargl\"}],\"scatterternary\":[{\"marker\":{\"colorbar\":{\"outlinewidth\":0,\"ticks\":\"\"}},\"type\":\"scatterternary\"}],\"surface\":[{\"colorbar\":{\"outlinewidth\":0,\"ticks\":\"\"},\"colorscale\":[[0.0,\"#0d0887\"],[0.1111111111111111,\"#46039f\"],[0.2222222222222222,\"#7201a8\"],[0.3333333333333333,\"#9c179e\"],[0.4444444444444444,\"#bd3786\"],[0.5555555555555556,\"#d8576b\"],[0.6666666666666666,\"#ed7953\"],[0.7777777777777778,\"#fb9f3a\"],[0.8888888888888888,\"#fdca26\"],[1.0,\"#f0f921\"]],\"type\":\"surface\"}],\"table\":[{\"cells\":{\"fill\":{\"color\":\"#EBF0F8\"},\"line\":{\"color\":\"white\"}},\"header\":{\"fill\":{\"color\":\"#C8D4E3\"},\"line\":{\"color\":\"white\"}},\"type\":\"table\"}]},\"layout\":{\"annotationdefaults\":{\"arrowcolor\":\"#2a3f5f\",\"arrowhead\":0,\"arrowwidth\":1},\"autotypenumbers\":\"strict\",\"coloraxis\":{\"colorbar\":{\"outlinewidth\":0,\"ticks\":\"\"}},\"colorscale\":{\"diverging\":[[0,\"#8e0152\"],[0.1,\"#c51b7d\"],[0.2,\"#de77ae\"],[0.3,\"#f1b6da\"],[0.4,\"#fde0ef\"],[0.5,\"#f7f7f7\"],[0.6,\"#e6f5d0\"],[0.7,\"#b8e186\"],[0.8,\"#7fbc41\"],[0.9,\"#4d9221\"],[1,\"#276419\"]],\"sequential\":[[0.0,\"#0d0887\"],[0.1111111111111111,\"#46039f\"],[0.2222222222222222,\"#7201a8\"],[0.3333333333333333,\"#9c179e\"],[0.4444444444444444,\"#bd3786\"],[0.5555555555555556,\"#d8576b\"],[0.6666666666666666,\"#ed7953\"],[0.7777777777777778,\"#fb9f3a\"],[0.8888888888888888,\"#fdca26\"],[1.0,\"#f0f921\"]],\"sequentialminus\":[[0.0,\"#0d0887\"],[0.1111111111111111,\"#46039f\"],[0.2222222222222222,\"#7201a8\"],[0.3333333333333333,\"#9c179e\"],[0.4444444444444444,\"#bd3786\"],[0.5555555555555556,\"#d8576b\"],[0.6666666666666666,\"#ed7953\"],[0.7777777777777778,\"#fb9f3a\"],[0.8888888888888888,\"#fdca26\"],[1.0,\"#f0f921\"]]},\"colorway\":[\"#636efa\",\"#EF553B\",\"#00cc96\",\"#ab63fa\",\"#FFA15A\",\"#19d3f3\",\"#FF6692\",\"#B6E880\",\"#FF97FF\",\"#FECB52\"],\"font\":{\"color\":\"#2a3f5f\"},\"geo\":{\"bgcolor\":\"white\",\"lakecolor\":\"white\",\"landcolor\":\"#E5ECF6\",\"showlakes\":true,\"showland\":true,\"subunitcolor\":\"white\"},\"hoverlabel\":{\"align\":\"left\"},\"hovermode\":\"closest\",\"mapbox\":{\"style\":\"light\"},\"paper_bgcolor\":\"white\",\"plot_bgcolor\":\"#E5ECF6\",\"polar\":{\"angularaxis\":{\"gridcolor\":\"white\",\"linecolor\":\"white\",\"ticks\":\"\"},\"bgcolor\":\"#E5ECF6\",\"radialaxis\":{\"gridcolor\":\"white\",\"linecolor\":\"white\",\"ticks\":\"\"}},\"scene\":{\"xaxis\":{\"backgroundcolor\":\"#E5ECF6\",\"gridcolor\":\"white\",\"gridwidth\":2,\"linecolor\":\"white\",\"showbackground\":true,\"ticks\":\"\",\"zerolinecolor\":\"white\"},\"yaxis\":{\"backgroundcolor\":\"#E5ECF6\",\"gridcolor\":\"white\",\"gridwidth\":2,\"linecolor\":\"white\",\"showbackground\":true,\"ticks\":\"\",\"zerolinecolor\":\"white\"},\"zaxis\":{\"backgroundcolor\":\"#E5ECF6\",\"gridcolor\":\"white\",\"gridwidth\":2,\"linecolor\":\"white\",\"showbackground\":true,\"ticks\":\"\",\"zerolinecolor\":\"white\"}},\"shapedefaults\":{\"line\":{\"color\":\"#2a3f5f\"}},\"ternary\":{\"aaxis\":{\"gridcolor\":\"white\",\"linecolor\":\"white\",\"ticks\":\"\"},\"baxis\":{\"gridcolor\":\"white\",\"linecolor\":\"white\",\"ticks\":\"\"},\"bgcolor\":\"#E5ECF6\",\"caxis\":{\"gridcolor\":\"white\",\"linecolor\":\"white\",\"ticks\":\"\"}},\"title\":{\"x\":0.05},\"xaxis\":{\"automargin\":true,\"gridcolor\":\"white\",\"linecolor\":\"white\",\"ticks\":\"\",\"title\":{\"standoff\":15},\"zerolinecolor\":\"white\",\"zerolinewidth\":2},\"yaxis\":{\"automargin\":true,\"gridcolor\":\"white\",\"linecolor\":\"white\",\"ticks\":\"\",\"title\":{\"standoff\":15},\"zerolinecolor\":\"white\",\"zerolinewidth\":2}}},\"xaxis\":{\"anchor\":\"y\",\"domain\":[0.0,1.0],\"title\":{\"text\":\"\\u0422\\u0438\\u043f\"},\"tickangle\":0,\"tickmode\":\"array\",\"tickvals\":[\"\\u043c\\u0430\\u0433\\u0430\\u0437\\u0438\\u043d (\\u043e\\u0442\\u0434\\u0435\\u043b \\u043a\\u0443\\u043b\\u0438\\u043d\\u0430\\u0440\\u0438\\u0438)\",\"\\u0437\\u0430\\u043a\\u0443\\u0441\\u043e\\u0447\\u043d\\u0430\\u044f\",\"\\u043a\\u0430\\u0444\\u0435\\u0442\\u0435\\u0440\\u0438\\u0439\",\"\\u0431\\u0443\\u0444\\u0435\\u0442\",\"\\u0431\\u0430\\u0440\",\"\\u043f\\u0440\\u0435\\u0434\\u043f\\u0440\\u0438\\u044f\\u0442\\u0438\\u0435 \\u0431\\u044b\\u0441\\u0442\\u0440\\u043e\\u0433\\u043e \\u043e\\u0431\\u0441\\u043b\\u0443\\u0436\\u0438\\u0432\\u0430\\u043d\\u0438\\u044f\",\"\\u0440\\u0435\\u0441\\u0442\\u043e\\u0440\\u0430\\u043d\",\"\\u0441\\u0442\\u043e\\u043b\\u043e\\u0432\\u0430\\u044f\",\"\\u043a\\u0430\\u0444\\u0435\"],\"ticktext\":[\"\\u043c\\u0430\\u0433\\u0430\\u0437\\u0438\\u043d<br>(\\u043e\\u0442\\u0434\\u0435\\u043b<br>\\u043a\\u0443\\u043b\\u0438\\u043d\\u0430\\u0440\\u0438\\u0438)\",\"\\u0437\\u0430\\u043a\\u0443\\u0441\\u043e\\u0447\\u043d\\u0430\\u044f\",\"\\u043a\\u0430\\u0444\\u0435\\u0442\\u0435\\u0440\\u0438\\u0439\",\"\\u0431\\u0443\\u0444\\u0435\\u0442\",\"\\u0431\\u0430\\u0440\",\"\\u043f\\u0440\\u0435\\u0434\\u043f\\u0440\\u0438\\u044f\\u0442\\u0438\\u0435<br>\\u0431\\u044b\\u0441\\u0442\\u0440\\u043e\\u0433\\u043e<br>\\u043e\\u0431\\u0441\\u043b\\u0443\\u0436\\u0438\\u0432\\u0430\\u043d\\u0438\\u044f\",\"\\u0440\\u0435\\u0441\\u0442\\u043e\\u0440\\u0430\\u043d\",\"\\u0441\\u0442\\u043e\\u043b\\u043e\\u0432\\u0430\\u044f\",\"\\u043a\\u0430\\u0444\\u0435\"]},\"yaxis\":{\"anchor\":\"x\",\"domain\":[0.0,1.0],\"title\":{\"text\":\"\\u041a\\u043e\\u043b\\u0438\\u0447\\u0435\\u0441\\u0442\\u0432\\u043e\"}},\"legend\":{\"tracegroupgap\":0},\"title\":{\"text\":\"\\u041a\\u043e\\u043b\\u0438\\u0447\\u0435\\u0441\\u0442\\u0432\\u043e \\u043e\\u0431\\u044a\\u0435\\u043a\\u0442\\u043e\\u0432 \\u043e\\u0431\\u0449\\u0435\\u0441\\u0442\\u0432\\u0435\\u043d\\u043d\\u043e\\u0433\\u043e \\u043f\\u0438\\u0442\\u0430\\u043d\\u0438\\u044f\"},\"barmode\":\"relative\"},                        {\"responsive\": true}                    ).then(function(){\n",
       "                            \n",
       "var gd = document.getElementById('ae5606ed-0c12-4b83-ab3c-6ad7de5b070c');\n",
       "var x = new MutationObserver(function (mutations, observer) {{\n",
       "        var display = window.getComputedStyle(gd).display;\n",
       "        if (!display || display === 'none') {{\n",
       "            console.log([gd, 'removed!']);\n",
       "            Plotly.purge(gd);\n",
       "            observer.disconnect();\n",
       "        }}\n",
       "}});\n",
       "\n",
       "// Listen for the removal of the full notebook cells\n",
       "var notebookContainer = gd.closest('#notebook-container');\n",
       "if (notebookContainer) {{\n",
       "    x.observe(notebookContainer, {childList: true});\n",
       "}}\n",
       "\n",
       "// Listen for the clearing of the current output cell\n",
       "var outputEl = gd.closest('.output');\n",
       "if (outputEl) {{\n",
       "    x.observe(outputEl, {childList: true});\n",
       "}}\n",
       "\n",
       "                        })                };                });            </script>        </div>"
      ]
     },
     "metadata": {},
     "output_type": "display_data"
    }
   ],
   "source": [
    "# строим столбчатую диаграмму \n",
    "fig = px.bar(data_ratio_type, x = 'Тип', y = 'Количество', title = 'Количество объектов общественного питания')\n",
    "fig.update_xaxes(tickangle = 0)\n",
    "fig.update_layout(xaxis=dict(\n",
    "    tickmode='array',\n",
    "    tickvals=data_ratio_type['Тип'],\n",
    "    ticktext=data_ratio_type['Тип'].apply(lambda x : '<br>'.join(x.split()))\n",
    "))\n",
    "fig.show()"
   ]
  },
  {
   "cell_type": "code",
   "execution_count": 23,
   "metadata": {},
   "outputs": [
    {
     "data": {
      "application/vnd.plotly.v1+json": {
       "config": {
        "plotlyServerURL": "https://plot.ly"
       },
       "data": [
        {
         "labels": [
          "магазин (отдел кулинарии)",
          "закусочная",
          "кафетерий",
          "буфет",
          "бар",
          "предприятие быстрого обслуживания",
          "ресторан",
          "столовая",
          "кафе"
         ],
         "textposition": "outside",
         "title": {
          "text": "Соотношение объектов общественного питания"
         },
         "type": "pie",
         "values": [
          2,
          2,
          3,
          4,
          6,
          12,
          15,
          17,
          40
         ]
        }
       ],
       "layout": {
        "template": {
         "data": {
          "bar": [
           {
            "error_x": {
             "color": "#2a3f5f"
            },
            "error_y": {
             "color": "#2a3f5f"
            },
            "marker": {
             "line": {
              "color": "#E5ECF6",
              "width": 0.5
             },
             "pattern": {
              "fillmode": "overlay",
              "size": 10,
              "solidity": 0.2
             }
            },
            "type": "bar"
           }
          ],
          "barpolar": [
           {
            "marker": {
             "line": {
              "color": "#E5ECF6",
              "width": 0.5
             },
             "pattern": {
              "fillmode": "overlay",
              "size": 10,
              "solidity": 0.2
             }
            },
            "type": "barpolar"
           }
          ],
          "carpet": [
           {
            "aaxis": {
             "endlinecolor": "#2a3f5f",
             "gridcolor": "white",
             "linecolor": "white",
             "minorgridcolor": "white",
             "startlinecolor": "#2a3f5f"
            },
            "baxis": {
             "endlinecolor": "#2a3f5f",
             "gridcolor": "white",
             "linecolor": "white",
             "minorgridcolor": "white",
             "startlinecolor": "#2a3f5f"
            },
            "type": "carpet"
           }
          ],
          "choropleth": [
           {
            "colorbar": {
             "outlinewidth": 0,
             "ticks": ""
            },
            "type": "choropleth"
           }
          ],
          "contour": [
           {
            "colorbar": {
             "outlinewidth": 0,
             "ticks": ""
            },
            "colorscale": [
             [
              0,
              "#0d0887"
             ],
             [
              0.1111111111111111,
              "#46039f"
             ],
             [
              0.2222222222222222,
              "#7201a8"
             ],
             [
              0.3333333333333333,
              "#9c179e"
             ],
             [
              0.4444444444444444,
              "#bd3786"
             ],
             [
              0.5555555555555556,
              "#d8576b"
             ],
             [
              0.6666666666666666,
              "#ed7953"
             ],
             [
              0.7777777777777778,
              "#fb9f3a"
             ],
             [
              0.8888888888888888,
              "#fdca26"
             ],
             [
              1,
              "#f0f921"
             ]
            ],
            "type": "contour"
           }
          ],
          "contourcarpet": [
           {
            "colorbar": {
             "outlinewidth": 0,
             "ticks": ""
            },
            "type": "contourcarpet"
           }
          ],
          "heatmap": [
           {
            "colorbar": {
             "outlinewidth": 0,
             "ticks": ""
            },
            "colorscale": [
             [
              0,
              "#0d0887"
             ],
             [
              0.1111111111111111,
              "#46039f"
             ],
             [
              0.2222222222222222,
              "#7201a8"
             ],
             [
              0.3333333333333333,
              "#9c179e"
             ],
             [
              0.4444444444444444,
              "#bd3786"
             ],
             [
              0.5555555555555556,
              "#d8576b"
             ],
             [
              0.6666666666666666,
              "#ed7953"
             ],
             [
              0.7777777777777778,
              "#fb9f3a"
             ],
             [
              0.8888888888888888,
              "#fdca26"
             ],
             [
              1,
              "#f0f921"
             ]
            ],
            "type": "heatmap"
           }
          ],
          "heatmapgl": [
           {
            "colorbar": {
             "outlinewidth": 0,
             "ticks": ""
            },
            "colorscale": [
             [
              0,
              "#0d0887"
             ],
             [
              0.1111111111111111,
              "#46039f"
             ],
             [
              0.2222222222222222,
              "#7201a8"
             ],
             [
              0.3333333333333333,
              "#9c179e"
             ],
             [
              0.4444444444444444,
              "#bd3786"
             ],
             [
              0.5555555555555556,
              "#d8576b"
             ],
             [
              0.6666666666666666,
              "#ed7953"
             ],
             [
              0.7777777777777778,
              "#fb9f3a"
             ],
             [
              0.8888888888888888,
              "#fdca26"
             ],
             [
              1,
              "#f0f921"
             ]
            ],
            "type": "heatmapgl"
           }
          ],
          "histogram": [
           {
            "marker": {
             "pattern": {
              "fillmode": "overlay",
              "size": 10,
              "solidity": 0.2
             }
            },
            "type": "histogram"
           }
          ],
          "histogram2d": [
           {
            "colorbar": {
             "outlinewidth": 0,
             "ticks": ""
            },
            "colorscale": [
             [
              0,
              "#0d0887"
             ],
             [
              0.1111111111111111,
              "#46039f"
             ],
             [
              0.2222222222222222,
              "#7201a8"
             ],
             [
              0.3333333333333333,
              "#9c179e"
             ],
             [
              0.4444444444444444,
              "#bd3786"
             ],
             [
              0.5555555555555556,
              "#d8576b"
             ],
             [
              0.6666666666666666,
              "#ed7953"
             ],
             [
              0.7777777777777778,
              "#fb9f3a"
             ],
             [
              0.8888888888888888,
              "#fdca26"
             ],
             [
              1,
              "#f0f921"
             ]
            ],
            "type": "histogram2d"
           }
          ],
          "histogram2dcontour": [
           {
            "colorbar": {
             "outlinewidth": 0,
             "ticks": ""
            },
            "colorscale": [
             [
              0,
              "#0d0887"
             ],
             [
              0.1111111111111111,
              "#46039f"
             ],
             [
              0.2222222222222222,
              "#7201a8"
             ],
             [
              0.3333333333333333,
              "#9c179e"
             ],
             [
              0.4444444444444444,
              "#bd3786"
             ],
             [
              0.5555555555555556,
              "#d8576b"
             ],
             [
              0.6666666666666666,
              "#ed7953"
             ],
             [
              0.7777777777777778,
              "#fb9f3a"
             ],
             [
              0.8888888888888888,
              "#fdca26"
             ],
             [
              1,
              "#f0f921"
             ]
            ],
            "type": "histogram2dcontour"
           }
          ],
          "mesh3d": [
           {
            "colorbar": {
             "outlinewidth": 0,
             "ticks": ""
            },
            "type": "mesh3d"
           }
          ],
          "parcoords": [
           {
            "line": {
             "colorbar": {
              "outlinewidth": 0,
              "ticks": ""
             }
            },
            "type": "parcoords"
           }
          ],
          "pie": [
           {
            "automargin": true,
            "type": "pie"
           }
          ],
          "scatter": [
           {
            "marker": {
             "colorbar": {
              "outlinewidth": 0,
              "ticks": ""
             }
            },
            "type": "scatter"
           }
          ],
          "scatter3d": [
           {
            "line": {
             "colorbar": {
              "outlinewidth": 0,
              "ticks": ""
             }
            },
            "marker": {
             "colorbar": {
              "outlinewidth": 0,
              "ticks": ""
             }
            },
            "type": "scatter3d"
           }
          ],
          "scattercarpet": [
           {
            "marker": {
             "colorbar": {
              "outlinewidth": 0,
              "ticks": ""
             }
            },
            "type": "scattercarpet"
           }
          ],
          "scattergeo": [
           {
            "marker": {
             "colorbar": {
              "outlinewidth": 0,
              "ticks": ""
             }
            },
            "type": "scattergeo"
           }
          ],
          "scattergl": [
           {
            "marker": {
             "colorbar": {
              "outlinewidth": 0,
              "ticks": ""
             }
            },
            "type": "scattergl"
           }
          ],
          "scattermapbox": [
           {
            "marker": {
             "colorbar": {
              "outlinewidth": 0,
              "ticks": ""
             }
            },
            "type": "scattermapbox"
           }
          ],
          "scatterpolar": [
           {
            "marker": {
             "colorbar": {
              "outlinewidth": 0,
              "ticks": ""
             }
            },
            "type": "scatterpolar"
           }
          ],
          "scatterpolargl": [
           {
            "marker": {
             "colorbar": {
              "outlinewidth": 0,
              "ticks": ""
             }
            },
            "type": "scatterpolargl"
           }
          ],
          "scatterternary": [
           {
            "marker": {
             "colorbar": {
              "outlinewidth": 0,
              "ticks": ""
             }
            },
            "type": "scatterternary"
           }
          ],
          "surface": [
           {
            "colorbar": {
             "outlinewidth": 0,
             "ticks": ""
            },
            "colorscale": [
             [
              0,
              "#0d0887"
             ],
             [
              0.1111111111111111,
              "#46039f"
             ],
             [
              0.2222222222222222,
              "#7201a8"
             ],
             [
              0.3333333333333333,
              "#9c179e"
             ],
             [
              0.4444444444444444,
              "#bd3786"
             ],
             [
              0.5555555555555556,
              "#d8576b"
             ],
             [
              0.6666666666666666,
              "#ed7953"
             ],
             [
              0.7777777777777778,
              "#fb9f3a"
             ],
             [
              0.8888888888888888,
              "#fdca26"
             ],
             [
              1,
              "#f0f921"
             ]
            ],
            "type": "surface"
           }
          ],
          "table": [
           {
            "cells": {
             "fill": {
              "color": "#EBF0F8"
             },
             "line": {
              "color": "white"
             }
            },
            "header": {
             "fill": {
              "color": "#C8D4E3"
             },
             "line": {
              "color": "white"
             }
            },
            "type": "table"
           }
          ]
         },
         "layout": {
          "annotationdefaults": {
           "arrowcolor": "#2a3f5f",
           "arrowhead": 0,
           "arrowwidth": 1
          },
          "autotypenumbers": "strict",
          "coloraxis": {
           "colorbar": {
            "outlinewidth": 0,
            "ticks": ""
           }
          },
          "colorscale": {
           "diverging": [
            [
             0,
             "#8e0152"
            ],
            [
             0.1,
             "#c51b7d"
            ],
            [
             0.2,
             "#de77ae"
            ],
            [
             0.3,
             "#f1b6da"
            ],
            [
             0.4,
             "#fde0ef"
            ],
            [
             0.5,
             "#f7f7f7"
            ],
            [
             0.6,
             "#e6f5d0"
            ],
            [
             0.7,
             "#b8e186"
            ],
            [
             0.8,
             "#7fbc41"
            ],
            [
             0.9,
             "#4d9221"
            ],
            [
             1,
             "#276419"
            ]
           ],
           "sequential": [
            [
             0,
             "#0d0887"
            ],
            [
             0.1111111111111111,
             "#46039f"
            ],
            [
             0.2222222222222222,
             "#7201a8"
            ],
            [
             0.3333333333333333,
             "#9c179e"
            ],
            [
             0.4444444444444444,
             "#bd3786"
            ],
            [
             0.5555555555555556,
             "#d8576b"
            ],
            [
             0.6666666666666666,
             "#ed7953"
            ],
            [
             0.7777777777777778,
             "#fb9f3a"
            ],
            [
             0.8888888888888888,
             "#fdca26"
            ],
            [
             1,
             "#f0f921"
            ]
           ],
           "sequentialminus": [
            [
             0,
             "#0d0887"
            ],
            [
             0.1111111111111111,
             "#46039f"
            ],
            [
             0.2222222222222222,
             "#7201a8"
            ],
            [
             0.3333333333333333,
             "#9c179e"
            ],
            [
             0.4444444444444444,
             "#bd3786"
            ],
            [
             0.5555555555555556,
             "#d8576b"
            ],
            [
             0.6666666666666666,
             "#ed7953"
            ],
            [
             0.7777777777777778,
             "#fb9f3a"
            ],
            [
             0.8888888888888888,
             "#fdca26"
            ],
            [
             1,
             "#f0f921"
            ]
           ]
          },
          "colorway": [
           "#636efa",
           "#EF553B",
           "#00cc96",
           "#ab63fa",
           "#FFA15A",
           "#19d3f3",
           "#FF6692",
           "#B6E880",
           "#FF97FF",
           "#FECB52"
          ],
          "font": {
           "color": "#2a3f5f"
          },
          "geo": {
           "bgcolor": "white",
           "lakecolor": "white",
           "landcolor": "#E5ECF6",
           "showlakes": true,
           "showland": true,
           "subunitcolor": "white"
          },
          "hoverlabel": {
           "align": "left"
          },
          "hovermode": "closest",
          "mapbox": {
           "style": "light"
          },
          "paper_bgcolor": "white",
          "plot_bgcolor": "#E5ECF6",
          "polar": {
           "angularaxis": {
            "gridcolor": "white",
            "linecolor": "white",
            "ticks": ""
           },
           "bgcolor": "#E5ECF6",
           "radialaxis": {
            "gridcolor": "white",
            "linecolor": "white",
            "ticks": ""
           }
          },
          "scene": {
           "xaxis": {
            "backgroundcolor": "#E5ECF6",
            "gridcolor": "white",
            "gridwidth": 2,
            "linecolor": "white",
            "showbackground": true,
            "ticks": "",
            "zerolinecolor": "white"
           },
           "yaxis": {
            "backgroundcolor": "#E5ECF6",
            "gridcolor": "white",
            "gridwidth": 2,
            "linecolor": "white",
            "showbackground": true,
            "ticks": "",
            "zerolinecolor": "white"
           },
           "zaxis": {
            "backgroundcolor": "#E5ECF6",
            "gridcolor": "white",
            "gridwidth": 2,
            "linecolor": "white",
            "showbackground": true,
            "ticks": "",
            "zerolinecolor": "white"
           }
          },
          "shapedefaults": {
           "line": {
            "color": "#2a3f5f"
           }
          },
          "ternary": {
           "aaxis": {
            "gridcolor": "white",
            "linecolor": "white",
            "ticks": ""
           },
           "baxis": {
            "gridcolor": "white",
            "linecolor": "white",
            "ticks": ""
           },
           "bgcolor": "#E5ECF6",
           "caxis": {
            "gridcolor": "white",
            "linecolor": "white",
            "ticks": ""
           }
          },
          "title": {
           "x": 0.05
          },
          "xaxis": {
           "automargin": true,
           "gridcolor": "white",
           "linecolor": "white",
           "ticks": "",
           "title": {
            "standoff": 15
           },
           "zerolinecolor": "white",
           "zerolinewidth": 2
          },
          "yaxis": {
           "automargin": true,
           "gridcolor": "white",
           "linecolor": "white",
           "ticks": "",
           "title": {
            "standoff": 15
           },
           "zerolinecolor": "white",
           "zerolinewidth": 2
          }
         }
        }
       }
      },
      "text/html": [
       "<div>                            <div id=\"9fa3e456-146f-4d30-9c89-58979897c837\" class=\"plotly-graph-div\" style=\"height:525px; width:100%;\"></div>            <script type=\"text/javascript\">                require([\"plotly\"], function(Plotly) {                    window.PLOTLYENV=window.PLOTLYENV || {};                                    if (document.getElementById(\"9fa3e456-146f-4d30-9c89-58979897c837\")) {                    Plotly.newPlot(                        \"9fa3e456-146f-4d30-9c89-58979897c837\",                        [{\"labels\":[\"\\u043c\\u0430\\u0433\\u0430\\u0437\\u0438\\u043d (\\u043e\\u0442\\u0434\\u0435\\u043b \\u043a\\u0443\\u043b\\u0438\\u043d\\u0430\\u0440\\u0438\\u0438)\",\"\\u0437\\u0430\\u043a\\u0443\\u0441\\u043e\\u0447\\u043d\\u0430\\u044f\",\"\\u043a\\u0430\\u0444\\u0435\\u0442\\u0435\\u0440\\u0438\\u0439\",\"\\u0431\\u0443\\u0444\\u0435\\u0442\",\"\\u0431\\u0430\\u0440\",\"\\u043f\\u0440\\u0435\\u0434\\u043f\\u0440\\u0438\\u044f\\u0442\\u0438\\u0435 \\u0431\\u044b\\u0441\\u0442\\u0440\\u043e\\u0433\\u043e \\u043e\\u0431\\u0441\\u043b\\u0443\\u0436\\u0438\\u0432\\u0430\\u043d\\u0438\\u044f\",\"\\u0440\\u0435\\u0441\\u0442\\u043e\\u0440\\u0430\\u043d\",\"\\u0441\\u0442\\u043e\\u043b\\u043e\\u0432\\u0430\\u044f\",\"\\u043a\\u0430\\u0444\\u0435\"],\"textposition\":\"outside\",\"title\":{\"text\":\"\\u0421\\u043e\\u043e\\u0442\\u043d\\u043e\\u0448\\u0435\\u043d\\u0438\\u0435 \\u043e\\u0431\\u044a\\u0435\\u043a\\u0442\\u043e\\u0432 \\u043e\\u0431\\u0449\\u0435\\u0441\\u0442\\u0432\\u0435\\u043d\\u043d\\u043e\\u0433\\u043e \\u043f\\u0438\\u0442\\u0430\\u043d\\u0438\\u044f\"},\"values\":[2.0,2.0,3.0,4.0,6.0,12.0,15.0,17.0,40.0],\"type\":\"pie\"}],                        {\"template\":{\"data\":{\"bar\":[{\"error_x\":{\"color\":\"#2a3f5f\"},\"error_y\":{\"color\":\"#2a3f5f\"},\"marker\":{\"line\":{\"color\":\"#E5ECF6\",\"width\":0.5},\"pattern\":{\"fillmode\":\"overlay\",\"size\":10,\"solidity\":0.2}},\"type\":\"bar\"}],\"barpolar\":[{\"marker\":{\"line\":{\"color\":\"#E5ECF6\",\"width\":0.5},\"pattern\":{\"fillmode\":\"overlay\",\"size\":10,\"solidity\":0.2}},\"type\":\"barpolar\"}],\"carpet\":[{\"aaxis\":{\"endlinecolor\":\"#2a3f5f\",\"gridcolor\":\"white\",\"linecolor\":\"white\",\"minorgridcolor\":\"white\",\"startlinecolor\":\"#2a3f5f\"},\"baxis\":{\"endlinecolor\":\"#2a3f5f\",\"gridcolor\":\"white\",\"linecolor\":\"white\",\"minorgridcolor\":\"white\",\"startlinecolor\":\"#2a3f5f\"},\"type\":\"carpet\"}],\"choropleth\":[{\"colorbar\":{\"outlinewidth\":0,\"ticks\":\"\"},\"type\":\"choropleth\"}],\"contour\":[{\"colorbar\":{\"outlinewidth\":0,\"ticks\":\"\"},\"colorscale\":[[0.0,\"#0d0887\"],[0.1111111111111111,\"#46039f\"],[0.2222222222222222,\"#7201a8\"],[0.3333333333333333,\"#9c179e\"],[0.4444444444444444,\"#bd3786\"],[0.5555555555555556,\"#d8576b\"],[0.6666666666666666,\"#ed7953\"],[0.7777777777777778,\"#fb9f3a\"],[0.8888888888888888,\"#fdca26\"],[1.0,\"#f0f921\"]],\"type\":\"contour\"}],\"contourcarpet\":[{\"colorbar\":{\"outlinewidth\":0,\"ticks\":\"\"},\"type\":\"contourcarpet\"}],\"heatmap\":[{\"colorbar\":{\"outlinewidth\":0,\"ticks\":\"\"},\"colorscale\":[[0.0,\"#0d0887\"],[0.1111111111111111,\"#46039f\"],[0.2222222222222222,\"#7201a8\"],[0.3333333333333333,\"#9c179e\"],[0.4444444444444444,\"#bd3786\"],[0.5555555555555556,\"#d8576b\"],[0.6666666666666666,\"#ed7953\"],[0.7777777777777778,\"#fb9f3a\"],[0.8888888888888888,\"#fdca26\"],[1.0,\"#f0f921\"]],\"type\":\"heatmap\"}],\"heatmapgl\":[{\"colorbar\":{\"outlinewidth\":0,\"ticks\":\"\"},\"colorscale\":[[0.0,\"#0d0887\"],[0.1111111111111111,\"#46039f\"],[0.2222222222222222,\"#7201a8\"],[0.3333333333333333,\"#9c179e\"],[0.4444444444444444,\"#bd3786\"],[0.5555555555555556,\"#d8576b\"],[0.6666666666666666,\"#ed7953\"],[0.7777777777777778,\"#fb9f3a\"],[0.8888888888888888,\"#fdca26\"],[1.0,\"#f0f921\"]],\"type\":\"heatmapgl\"}],\"histogram\":[{\"marker\":{\"pattern\":{\"fillmode\":\"overlay\",\"size\":10,\"solidity\":0.2}},\"type\":\"histogram\"}],\"histogram2d\":[{\"colorbar\":{\"outlinewidth\":0,\"ticks\":\"\"},\"colorscale\":[[0.0,\"#0d0887\"],[0.1111111111111111,\"#46039f\"],[0.2222222222222222,\"#7201a8\"],[0.3333333333333333,\"#9c179e\"],[0.4444444444444444,\"#bd3786\"],[0.5555555555555556,\"#d8576b\"],[0.6666666666666666,\"#ed7953\"],[0.7777777777777778,\"#fb9f3a\"],[0.8888888888888888,\"#fdca26\"],[1.0,\"#f0f921\"]],\"type\":\"histogram2d\"}],\"histogram2dcontour\":[{\"colorbar\":{\"outlinewidth\":0,\"ticks\":\"\"},\"colorscale\":[[0.0,\"#0d0887\"],[0.1111111111111111,\"#46039f\"],[0.2222222222222222,\"#7201a8\"],[0.3333333333333333,\"#9c179e\"],[0.4444444444444444,\"#bd3786\"],[0.5555555555555556,\"#d8576b\"],[0.6666666666666666,\"#ed7953\"],[0.7777777777777778,\"#fb9f3a\"],[0.8888888888888888,\"#fdca26\"],[1.0,\"#f0f921\"]],\"type\":\"histogram2dcontour\"}],\"mesh3d\":[{\"colorbar\":{\"outlinewidth\":0,\"ticks\":\"\"},\"type\":\"mesh3d\"}],\"parcoords\":[{\"line\":{\"colorbar\":{\"outlinewidth\":0,\"ticks\":\"\"}},\"type\":\"parcoords\"}],\"pie\":[{\"automargin\":true,\"type\":\"pie\"}],\"scatter\":[{\"marker\":{\"colorbar\":{\"outlinewidth\":0,\"ticks\":\"\"}},\"type\":\"scatter\"}],\"scatter3d\":[{\"line\":{\"colorbar\":{\"outlinewidth\":0,\"ticks\":\"\"}},\"marker\":{\"colorbar\":{\"outlinewidth\":0,\"ticks\":\"\"}},\"type\":\"scatter3d\"}],\"scattercarpet\":[{\"marker\":{\"colorbar\":{\"outlinewidth\":0,\"ticks\":\"\"}},\"type\":\"scattercarpet\"}],\"scattergeo\":[{\"marker\":{\"colorbar\":{\"outlinewidth\":0,\"ticks\":\"\"}},\"type\":\"scattergeo\"}],\"scattergl\":[{\"marker\":{\"colorbar\":{\"outlinewidth\":0,\"ticks\":\"\"}},\"type\":\"scattergl\"}],\"scattermapbox\":[{\"marker\":{\"colorbar\":{\"outlinewidth\":0,\"ticks\":\"\"}},\"type\":\"scattermapbox\"}],\"scatterpolar\":[{\"marker\":{\"colorbar\":{\"outlinewidth\":0,\"ticks\":\"\"}},\"type\":\"scatterpolar\"}],\"scatterpolargl\":[{\"marker\":{\"colorbar\":{\"outlinewidth\":0,\"ticks\":\"\"}},\"type\":\"scatterpolargl\"}],\"scatterternary\":[{\"marker\":{\"colorbar\":{\"outlinewidth\":0,\"ticks\":\"\"}},\"type\":\"scatterternary\"}],\"surface\":[{\"colorbar\":{\"outlinewidth\":0,\"ticks\":\"\"},\"colorscale\":[[0.0,\"#0d0887\"],[0.1111111111111111,\"#46039f\"],[0.2222222222222222,\"#7201a8\"],[0.3333333333333333,\"#9c179e\"],[0.4444444444444444,\"#bd3786\"],[0.5555555555555556,\"#d8576b\"],[0.6666666666666666,\"#ed7953\"],[0.7777777777777778,\"#fb9f3a\"],[0.8888888888888888,\"#fdca26\"],[1.0,\"#f0f921\"]],\"type\":\"surface\"}],\"table\":[{\"cells\":{\"fill\":{\"color\":\"#EBF0F8\"},\"line\":{\"color\":\"white\"}},\"header\":{\"fill\":{\"color\":\"#C8D4E3\"},\"line\":{\"color\":\"white\"}},\"type\":\"table\"}]},\"layout\":{\"annotationdefaults\":{\"arrowcolor\":\"#2a3f5f\",\"arrowhead\":0,\"arrowwidth\":1},\"autotypenumbers\":\"strict\",\"coloraxis\":{\"colorbar\":{\"outlinewidth\":0,\"ticks\":\"\"}},\"colorscale\":{\"diverging\":[[0,\"#8e0152\"],[0.1,\"#c51b7d\"],[0.2,\"#de77ae\"],[0.3,\"#f1b6da\"],[0.4,\"#fde0ef\"],[0.5,\"#f7f7f7\"],[0.6,\"#e6f5d0\"],[0.7,\"#b8e186\"],[0.8,\"#7fbc41\"],[0.9,\"#4d9221\"],[1,\"#276419\"]],\"sequential\":[[0.0,\"#0d0887\"],[0.1111111111111111,\"#46039f\"],[0.2222222222222222,\"#7201a8\"],[0.3333333333333333,\"#9c179e\"],[0.4444444444444444,\"#bd3786\"],[0.5555555555555556,\"#d8576b\"],[0.6666666666666666,\"#ed7953\"],[0.7777777777777778,\"#fb9f3a\"],[0.8888888888888888,\"#fdca26\"],[1.0,\"#f0f921\"]],\"sequentialminus\":[[0.0,\"#0d0887\"],[0.1111111111111111,\"#46039f\"],[0.2222222222222222,\"#7201a8\"],[0.3333333333333333,\"#9c179e\"],[0.4444444444444444,\"#bd3786\"],[0.5555555555555556,\"#d8576b\"],[0.6666666666666666,\"#ed7953\"],[0.7777777777777778,\"#fb9f3a\"],[0.8888888888888888,\"#fdca26\"],[1.0,\"#f0f921\"]]},\"colorway\":[\"#636efa\",\"#EF553B\",\"#00cc96\",\"#ab63fa\",\"#FFA15A\",\"#19d3f3\",\"#FF6692\",\"#B6E880\",\"#FF97FF\",\"#FECB52\"],\"font\":{\"color\":\"#2a3f5f\"},\"geo\":{\"bgcolor\":\"white\",\"lakecolor\":\"white\",\"landcolor\":\"#E5ECF6\",\"showlakes\":true,\"showland\":true,\"subunitcolor\":\"white\"},\"hoverlabel\":{\"align\":\"left\"},\"hovermode\":\"closest\",\"mapbox\":{\"style\":\"light\"},\"paper_bgcolor\":\"white\",\"plot_bgcolor\":\"#E5ECF6\",\"polar\":{\"angularaxis\":{\"gridcolor\":\"white\",\"linecolor\":\"white\",\"ticks\":\"\"},\"bgcolor\":\"#E5ECF6\",\"radialaxis\":{\"gridcolor\":\"white\",\"linecolor\":\"white\",\"ticks\":\"\"}},\"scene\":{\"xaxis\":{\"backgroundcolor\":\"#E5ECF6\",\"gridcolor\":\"white\",\"gridwidth\":2,\"linecolor\":\"white\",\"showbackground\":true,\"ticks\":\"\",\"zerolinecolor\":\"white\"},\"yaxis\":{\"backgroundcolor\":\"#E5ECF6\",\"gridcolor\":\"white\",\"gridwidth\":2,\"linecolor\":\"white\",\"showbackground\":true,\"ticks\":\"\",\"zerolinecolor\":\"white\"},\"zaxis\":{\"backgroundcolor\":\"#E5ECF6\",\"gridcolor\":\"white\",\"gridwidth\":2,\"linecolor\":\"white\",\"showbackground\":true,\"ticks\":\"\",\"zerolinecolor\":\"white\"}},\"shapedefaults\":{\"line\":{\"color\":\"#2a3f5f\"}},\"ternary\":{\"aaxis\":{\"gridcolor\":\"white\",\"linecolor\":\"white\",\"ticks\":\"\"},\"baxis\":{\"gridcolor\":\"white\",\"linecolor\":\"white\",\"ticks\":\"\"},\"bgcolor\":\"#E5ECF6\",\"caxis\":{\"gridcolor\":\"white\",\"linecolor\":\"white\",\"ticks\":\"\"}},\"title\":{\"x\":0.05},\"xaxis\":{\"automargin\":true,\"gridcolor\":\"white\",\"linecolor\":\"white\",\"ticks\":\"\",\"title\":{\"standoff\":15},\"zerolinecolor\":\"white\",\"zerolinewidth\":2},\"yaxis\":{\"automargin\":true,\"gridcolor\":\"white\",\"linecolor\":\"white\",\"ticks\":\"\",\"title\":{\"standoff\":15},\"zerolinecolor\":\"white\",\"zerolinewidth\":2}}}},                        {\"responsive\": true}                    ).then(function(){\n",
       "                            \n",
       "var gd = document.getElementById('9fa3e456-146f-4d30-9c89-58979897c837');\n",
       "var x = new MutationObserver(function (mutations, observer) {{\n",
       "        var display = window.getComputedStyle(gd).display;\n",
       "        if (!display || display === 'none') {{\n",
       "            console.log([gd, 'removed!']);\n",
       "            Plotly.purge(gd);\n",
       "            observer.disconnect();\n",
       "        }}\n",
       "}});\n",
       "\n",
       "// Listen for the removal of the full notebook cells\n",
       "var notebookContainer = gd.closest('#notebook-container');\n",
       "if (notebookContainer) {{\n",
       "    x.observe(notebookContainer, {childList: true});\n",
       "}}\n",
       "\n",
       "// Listen for the clearing of the current output cell\n",
       "var outputEl = gd.closest('.output');\n",
       "if (outputEl) {{\n",
       "    x.observe(outputEl, {childList: true});\n",
       "}}\n",
       "\n",
       "                        })                };                });            </script>        </div>"
      ]
     },
     "metadata": {},
     "output_type": "display_data"
    }
   ],
   "source": [
    "fig = go.Figure(data = [go.Pie(labels = data_ratio_type['Тип'], values = data_ratio_type['Доля'],\n",
    "title = 'Соотношение объектов общественного питания', textposition='outside')])\n",
    "fig.show()"
   ]
  },
  {
   "cell_type": "markdown",
   "metadata": {},
   "source": [
    "ВЫВОД: большую часть заведений общественного питания составляют Кафе. Всего же ярковыраженных лидера четыре - это Кафе, Столовая, Ресторан и Предприятия быстрого обслуживания."
   ]
  },
  {
   "cell_type": "markdown",
   "metadata": {},
   "source": [
    "### Исследуем соотношение сетевых и несетевых заведений по количеству."
   ]
  },
  {
   "cell_type": "code",
   "execution_count": 24,
   "metadata": {},
   "outputs": [
    {
     "data": {
      "text/html": [
       "<div>\n",
       "<style scoped>\n",
       "    .dataframe tbody tr th:only-of-type {\n",
       "        vertical-align: middle;\n",
       "    }\n",
       "\n",
       "    .dataframe tbody tr th {\n",
       "        vertical-align: top;\n",
       "    }\n",
       "\n",
       "    .dataframe thead th {\n",
       "        text-align: right;\n",
       "    }\n",
       "</style>\n",
       "<table border=\"1\" class=\"dataframe\">\n",
       "  <thead>\n",
       "    <tr style=\"text-align: right;\">\n",
       "      <th></th>\n",
       "      <th>Сетевой ли тип заведения</th>\n",
       "      <th>Количество</th>\n",
       "      <th>Соотношение</th>\n",
       "    </tr>\n",
       "  </thead>\n",
       "  <tbody>\n",
       "    <tr>\n",
       "      <th>0</th>\n",
       "      <td>да</td>\n",
       "      <td>2964</td>\n",
       "      <td>19.0</td>\n",
       "    </tr>\n",
       "    <tr>\n",
       "      <th>1</th>\n",
       "      <td>нет</td>\n",
       "      <td>12317</td>\n",
       "      <td>81.0</td>\n",
       "    </tr>\n",
       "  </tbody>\n",
       "</table>\n",
       "</div>"
      ],
      "text/plain": [
       "  Сетевой ли тип заведения  Количество  Соотношение\n",
       "0                       да        2964         19.0\n",
       "1                      нет       12317         81.0"
      ]
     },
     "execution_count": 24,
     "metadata": {},
     "output_type": "execute_result"
    }
   ],
   "source": [
    "# группируем данные по принадлежности объектов по сетевому признаку\n",
    "cafes = data.pivot_table(index = 'chain', values = 'id', aggfunc = 'count').reset_index()\n",
    "cafes['Соотношение'] = (cafes['id']/cafes['id'].sum() * 100).round()\n",
    "cafes = cafes.rename({'chain':'Сетевой ли тип заведения', 'id':'Количество'}, axis = 1)\n",
    "cafes"
   ]
  },
  {
   "cell_type": "code",
   "execution_count": 25,
   "metadata": {},
   "outputs": [
    {
     "data": {
      "application/vnd.plotly.v1+json": {
       "config": {
        "plotlyServerURL": "https://plot.ly"
       },
       "data": [
        {
         "alignmentgroup": "True",
         "hovertemplate": "Сетевой ли тип заведения=%{x}<br>Количество=%{y}<extra></extra>",
         "legendgroup": "",
         "marker": {
          "color": "#636efa",
          "pattern": {
           "shape": ""
          }
         },
         "name": "",
         "offsetgroup": "",
         "orientation": "v",
         "showlegend": false,
         "textposition": "auto",
         "type": "bar",
         "x": [
          "да",
          "нет"
         ],
         "xaxis": "x",
         "y": [
          2964,
          12317
         ],
         "yaxis": "y"
        }
       ],
       "layout": {
        "barmode": "relative",
        "legend": {
         "tracegroupgap": 0
        },
        "template": {
         "data": {
          "bar": [
           {
            "error_x": {
             "color": "#2a3f5f"
            },
            "error_y": {
             "color": "#2a3f5f"
            },
            "marker": {
             "line": {
              "color": "#E5ECF6",
              "width": 0.5
             },
             "pattern": {
              "fillmode": "overlay",
              "size": 10,
              "solidity": 0.2
             }
            },
            "type": "bar"
           }
          ],
          "barpolar": [
           {
            "marker": {
             "line": {
              "color": "#E5ECF6",
              "width": 0.5
             },
             "pattern": {
              "fillmode": "overlay",
              "size": 10,
              "solidity": 0.2
             }
            },
            "type": "barpolar"
           }
          ],
          "carpet": [
           {
            "aaxis": {
             "endlinecolor": "#2a3f5f",
             "gridcolor": "white",
             "linecolor": "white",
             "minorgridcolor": "white",
             "startlinecolor": "#2a3f5f"
            },
            "baxis": {
             "endlinecolor": "#2a3f5f",
             "gridcolor": "white",
             "linecolor": "white",
             "minorgridcolor": "white",
             "startlinecolor": "#2a3f5f"
            },
            "type": "carpet"
           }
          ],
          "choropleth": [
           {
            "colorbar": {
             "outlinewidth": 0,
             "ticks": ""
            },
            "type": "choropleth"
           }
          ],
          "contour": [
           {
            "colorbar": {
             "outlinewidth": 0,
             "ticks": ""
            },
            "colorscale": [
             [
              0,
              "#0d0887"
             ],
             [
              0.1111111111111111,
              "#46039f"
             ],
             [
              0.2222222222222222,
              "#7201a8"
             ],
             [
              0.3333333333333333,
              "#9c179e"
             ],
             [
              0.4444444444444444,
              "#bd3786"
             ],
             [
              0.5555555555555556,
              "#d8576b"
             ],
             [
              0.6666666666666666,
              "#ed7953"
             ],
             [
              0.7777777777777778,
              "#fb9f3a"
             ],
             [
              0.8888888888888888,
              "#fdca26"
             ],
             [
              1,
              "#f0f921"
             ]
            ],
            "type": "contour"
           }
          ],
          "contourcarpet": [
           {
            "colorbar": {
             "outlinewidth": 0,
             "ticks": ""
            },
            "type": "contourcarpet"
           }
          ],
          "heatmap": [
           {
            "colorbar": {
             "outlinewidth": 0,
             "ticks": ""
            },
            "colorscale": [
             [
              0,
              "#0d0887"
             ],
             [
              0.1111111111111111,
              "#46039f"
             ],
             [
              0.2222222222222222,
              "#7201a8"
             ],
             [
              0.3333333333333333,
              "#9c179e"
             ],
             [
              0.4444444444444444,
              "#bd3786"
             ],
             [
              0.5555555555555556,
              "#d8576b"
             ],
             [
              0.6666666666666666,
              "#ed7953"
             ],
             [
              0.7777777777777778,
              "#fb9f3a"
             ],
             [
              0.8888888888888888,
              "#fdca26"
             ],
             [
              1,
              "#f0f921"
             ]
            ],
            "type": "heatmap"
           }
          ],
          "heatmapgl": [
           {
            "colorbar": {
             "outlinewidth": 0,
             "ticks": ""
            },
            "colorscale": [
             [
              0,
              "#0d0887"
             ],
             [
              0.1111111111111111,
              "#46039f"
             ],
             [
              0.2222222222222222,
              "#7201a8"
             ],
             [
              0.3333333333333333,
              "#9c179e"
             ],
             [
              0.4444444444444444,
              "#bd3786"
             ],
             [
              0.5555555555555556,
              "#d8576b"
             ],
             [
              0.6666666666666666,
              "#ed7953"
             ],
             [
              0.7777777777777778,
              "#fb9f3a"
             ],
             [
              0.8888888888888888,
              "#fdca26"
             ],
             [
              1,
              "#f0f921"
             ]
            ],
            "type": "heatmapgl"
           }
          ],
          "histogram": [
           {
            "marker": {
             "pattern": {
              "fillmode": "overlay",
              "size": 10,
              "solidity": 0.2
             }
            },
            "type": "histogram"
           }
          ],
          "histogram2d": [
           {
            "colorbar": {
             "outlinewidth": 0,
             "ticks": ""
            },
            "colorscale": [
             [
              0,
              "#0d0887"
             ],
             [
              0.1111111111111111,
              "#46039f"
             ],
             [
              0.2222222222222222,
              "#7201a8"
             ],
             [
              0.3333333333333333,
              "#9c179e"
             ],
             [
              0.4444444444444444,
              "#bd3786"
             ],
             [
              0.5555555555555556,
              "#d8576b"
             ],
             [
              0.6666666666666666,
              "#ed7953"
             ],
             [
              0.7777777777777778,
              "#fb9f3a"
             ],
             [
              0.8888888888888888,
              "#fdca26"
             ],
             [
              1,
              "#f0f921"
             ]
            ],
            "type": "histogram2d"
           }
          ],
          "histogram2dcontour": [
           {
            "colorbar": {
             "outlinewidth": 0,
             "ticks": ""
            },
            "colorscale": [
             [
              0,
              "#0d0887"
             ],
             [
              0.1111111111111111,
              "#46039f"
             ],
             [
              0.2222222222222222,
              "#7201a8"
             ],
             [
              0.3333333333333333,
              "#9c179e"
             ],
             [
              0.4444444444444444,
              "#bd3786"
             ],
             [
              0.5555555555555556,
              "#d8576b"
             ],
             [
              0.6666666666666666,
              "#ed7953"
             ],
             [
              0.7777777777777778,
              "#fb9f3a"
             ],
             [
              0.8888888888888888,
              "#fdca26"
             ],
             [
              1,
              "#f0f921"
             ]
            ],
            "type": "histogram2dcontour"
           }
          ],
          "mesh3d": [
           {
            "colorbar": {
             "outlinewidth": 0,
             "ticks": ""
            },
            "type": "mesh3d"
           }
          ],
          "parcoords": [
           {
            "line": {
             "colorbar": {
              "outlinewidth": 0,
              "ticks": ""
             }
            },
            "type": "parcoords"
           }
          ],
          "pie": [
           {
            "automargin": true,
            "type": "pie"
           }
          ],
          "scatter": [
           {
            "marker": {
             "colorbar": {
              "outlinewidth": 0,
              "ticks": ""
             }
            },
            "type": "scatter"
           }
          ],
          "scatter3d": [
           {
            "line": {
             "colorbar": {
              "outlinewidth": 0,
              "ticks": ""
             }
            },
            "marker": {
             "colorbar": {
              "outlinewidth": 0,
              "ticks": ""
             }
            },
            "type": "scatter3d"
           }
          ],
          "scattercarpet": [
           {
            "marker": {
             "colorbar": {
              "outlinewidth": 0,
              "ticks": ""
             }
            },
            "type": "scattercarpet"
           }
          ],
          "scattergeo": [
           {
            "marker": {
             "colorbar": {
              "outlinewidth": 0,
              "ticks": ""
             }
            },
            "type": "scattergeo"
           }
          ],
          "scattergl": [
           {
            "marker": {
             "colorbar": {
              "outlinewidth": 0,
              "ticks": ""
             }
            },
            "type": "scattergl"
           }
          ],
          "scattermapbox": [
           {
            "marker": {
             "colorbar": {
              "outlinewidth": 0,
              "ticks": ""
             }
            },
            "type": "scattermapbox"
           }
          ],
          "scatterpolar": [
           {
            "marker": {
             "colorbar": {
              "outlinewidth": 0,
              "ticks": ""
             }
            },
            "type": "scatterpolar"
           }
          ],
          "scatterpolargl": [
           {
            "marker": {
             "colorbar": {
              "outlinewidth": 0,
              "ticks": ""
             }
            },
            "type": "scatterpolargl"
           }
          ],
          "scatterternary": [
           {
            "marker": {
             "colorbar": {
              "outlinewidth": 0,
              "ticks": ""
             }
            },
            "type": "scatterternary"
           }
          ],
          "surface": [
           {
            "colorbar": {
             "outlinewidth": 0,
             "ticks": ""
            },
            "colorscale": [
             [
              0,
              "#0d0887"
             ],
             [
              0.1111111111111111,
              "#46039f"
             ],
             [
              0.2222222222222222,
              "#7201a8"
             ],
             [
              0.3333333333333333,
              "#9c179e"
             ],
             [
              0.4444444444444444,
              "#bd3786"
             ],
             [
              0.5555555555555556,
              "#d8576b"
             ],
             [
              0.6666666666666666,
              "#ed7953"
             ],
             [
              0.7777777777777778,
              "#fb9f3a"
             ],
             [
              0.8888888888888888,
              "#fdca26"
             ],
             [
              1,
              "#f0f921"
             ]
            ],
            "type": "surface"
           }
          ],
          "table": [
           {
            "cells": {
             "fill": {
              "color": "#EBF0F8"
             },
             "line": {
              "color": "white"
             }
            },
            "header": {
             "fill": {
              "color": "#C8D4E3"
             },
             "line": {
              "color": "white"
             }
            },
            "type": "table"
           }
          ]
         },
         "layout": {
          "annotationdefaults": {
           "arrowcolor": "#2a3f5f",
           "arrowhead": 0,
           "arrowwidth": 1
          },
          "autotypenumbers": "strict",
          "coloraxis": {
           "colorbar": {
            "outlinewidth": 0,
            "ticks": ""
           }
          },
          "colorscale": {
           "diverging": [
            [
             0,
             "#8e0152"
            ],
            [
             0.1,
             "#c51b7d"
            ],
            [
             0.2,
             "#de77ae"
            ],
            [
             0.3,
             "#f1b6da"
            ],
            [
             0.4,
             "#fde0ef"
            ],
            [
             0.5,
             "#f7f7f7"
            ],
            [
             0.6,
             "#e6f5d0"
            ],
            [
             0.7,
             "#b8e186"
            ],
            [
             0.8,
             "#7fbc41"
            ],
            [
             0.9,
             "#4d9221"
            ],
            [
             1,
             "#276419"
            ]
           ],
           "sequential": [
            [
             0,
             "#0d0887"
            ],
            [
             0.1111111111111111,
             "#46039f"
            ],
            [
             0.2222222222222222,
             "#7201a8"
            ],
            [
             0.3333333333333333,
             "#9c179e"
            ],
            [
             0.4444444444444444,
             "#bd3786"
            ],
            [
             0.5555555555555556,
             "#d8576b"
            ],
            [
             0.6666666666666666,
             "#ed7953"
            ],
            [
             0.7777777777777778,
             "#fb9f3a"
            ],
            [
             0.8888888888888888,
             "#fdca26"
            ],
            [
             1,
             "#f0f921"
            ]
           ],
           "sequentialminus": [
            [
             0,
             "#0d0887"
            ],
            [
             0.1111111111111111,
             "#46039f"
            ],
            [
             0.2222222222222222,
             "#7201a8"
            ],
            [
             0.3333333333333333,
             "#9c179e"
            ],
            [
             0.4444444444444444,
             "#bd3786"
            ],
            [
             0.5555555555555556,
             "#d8576b"
            ],
            [
             0.6666666666666666,
             "#ed7953"
            ],
            [
             0.7777777777777778,
             "#fb9f3a"
            ],
            [
             0.8888888888888888,
             "#fdca26"
            ],
            [
             1,
             "#f0f921"
            ]
           ]
          },
          "colorway": [
           "#636efa",
           "#EF553B",
           "#00cc96",
           "#ab63fa",
           "#FFA15A",
           "#19d3f3",
           "#FF6692",
           "#B6E880",
           "#FF97FF",
           "#FECB52"
          ],
          "font": {
           "color": "#2a3f5f"
          },
          "geo": {
           "bgcolor": "white",
           "lakecolor": "white",
           "landcolor": "#E5ECF6",
           "showlakes": true,
           "showland": true,
           "subunitcolor": "white"
          },
          "hoverlabel": {
           "align": "left"
          },
          "hovermode": "closest",
          "mapbox": {
           "style": "light"
          },
          "paper_bgcolor": "white",
          "plot_bgcolor": "#E5ECF6",
          "polar": {
           "angularaxis": {
            "gridcolor": "white",
            "linecolor": "white",
            "ticks": ""
           },
           "bgcolor": "#E5ECF6",
           "radialaxis": {
            "gridcolor": "white",
            "linecolor": "white",
            "ticks": ""
           }
          },
          "scene": {
           "xaxis": {
            "backgroundcolor": "#E5ECF6",
            "gridcolor": "white",
            "gridwidth": 2,
            "linecolor": "white",
            "showbackground": true,
            "ticks": "",
            "zerolinecolor": "white"
           },
           "yaxis": {
            "backgroundcolor": "#E5ECF6",
            "gridcolor": "white",
            "gridwidth": 2,
            "linecolor": "white",
            "showbackground": true,
            "ticks": "",
            "zerolinecolor": "white"
           },
           "zaxis": {
            "backgroundcolor": "#E5ECF6",
            "gridcolor": "white",
            "gridwidth": 2,
            "linecolor": "white",
            "showbackground": true,
            "ticks": "",
            "zerolinecolor": "white"
           }
          },
          "shapedefaults": {
           "line": {
            "color": "#2a3f5f"
           }
          },
          "ternary": {
           "aaxis": {
            "gridcolor": "white",
            "linecolor": "white",
            "ticks": ""
           },
           "baxis": {
            "gridcolor": "white",
            "linecolor": "white",
            "ticks": ""
           },
           "bgcolor": "#E5ECF6",
           "caxis": {
            "gridcolor": "white",
            "linecolor": "white",
            "ticks": ""
           }
          },
          "title": {
           "x": 0.05
          },
          "xaxis": {
           "automargin": true,
           "gridcolor": "white",
           "linecolor": "white",
           "ticks": "",
           "title": {
            "standoff": 15
           },
           "zerolinecolor": "white",
           "zerolinewidth": 2
          },
          "yaxis": {
           "automargin": true,
           "gridcolor": "white",
           "linecolor": "white",
           "ticks": "",
           "title": {
            "standoff": 15
           },
           "zerolinecolor": "white",
           "zerolinewidth": 2
          }
         }
        },
        "title": {
         "text": "Соотношение по количеству"
        },
        "xaxis": {
         "anchor": "y",
         "domain": [
          0,
          1
         ],
         "title": {
          "text": "Сетевой ли тип заведения"
         }
        },
        "yaxis": {
         "anchor": "x",
         "domain": [
          0,
          1
         ],
         "title": {
          "text": "Количество"
         }
        }
       }
      },
      "text/html": [
       "<div>                            <div id=\"f8c9c842-510f-49b9-a2a7-eaa8484b9c87\" class=\"plotly-graph-div\" style=\"height:525px; width:100%;\"></div>            <script type=\"text/javascript\">                require([\"plotly\"], function(Plotly) {                    window.PLOTLYENV=window.PLOTLYENV || {};                                    if (document.getElementById(\"f8c9c842-510f-49b9-a2a7-eaa8484b9c87\")) {                    Plotly.newPlot(                        \"f8c9c842-510f-49b9-a2a7-eaa8484b9c87\",                        [{\"alignmentgroup\":\"True\",\"hovertemplate\":\"\\u0421\\u0435\\u0442\\u0435\\u0432\\u043e\\u0439 \\u043b\\u0438 \\u0442\\u0438\\u043f \\u0437\\u0430\\u0432\\u0435\\u0434\\u0435\\u043d\\u0438\\u044f=%{x}<br>\\u041a\\u043e\\u043b\\u0438\\u0447\\u0435\\u0441\\u0442\\u0432\\u043e=%{y}<extra></extra>\",\"legendgroup\":\"\",\"marker\":{\"color\":\"#636efa\",\"pattern\":{\"shape\":\"\"}},\"name\":\"\",\"offsetgroup\":\"\",\"orientation\":\"v\",\"showlegend\":false,\"textposition\":\"auto\",\"x\":[\"\\u0434\\u0430\",\"\\u043d\\u0435\\u0442\"],\"xaxis\":\"x\",\"y\":[2964,12317],\"yaxis\":\"y\",\"type\":\"bar\"}],                        {\"template\":{\"data\":{\"bar\":[{\"error_x\":{\"color\":\"#2a3f5f\"},\"error_y\":{\"color\":\"#2a3f5f\"},\"marker\":{\"line\":{\"color\":\"#E5ECF6\",\"width\":0.5},\"pattern\":{\"fillmode\":\"overlay\",\"size\":10,\"solidity\":0.2}},\"type\":\"bar\"}],\"barpolar\":[{\"marker\":{\"line\":{\"color\":\"#E5ECF6\",\"width\":0.5},\"pattern\":{\"fillmode\":\"overlay\",\"size\":10,\"solidity\":0.2}},\"type\":\"barpolar\"}],\"carpet\":[{\"aaxis\":{\"endlinecolor\":\"#2a3f5f\",\"gridcolor\":\"white\",\"linecolor\":\"white\",\"minorgridcolor\":\"white\",\"startlinecolor\":\"#2a3f5f\"},\"baxis\":{\"endlinecolor\":\"#2a3f5f\",\"gridcolor\":\"white\",\"linecolor\":\"white\",\"minorgridcolor\":\"white\",\"startlinecolor\":\"#2a3f5f\"},\"type\":\"carpet\"}],\"choropleth\":[{\"colorbar\":{\"outlinewidth\":0,\"ticks\":\"\"},\"type\":\"choropleth\"}],\"contour\":[{\"colorbar\":{\"outlinewidth\":0,\"ticks\":\"\"},\"colorscale\":[[0.0,\"#0d0887\"],[0.1111111111111111,\"#46039f\"],[0.2222222222222222,\"#7201a8\"],[0.3333333333333333,\"#9c179e\"],[0.4444444444444444,\"#bd3786\"],[0.5555555555555556,\"#d8576b\"],[0.6666666666666666,\"#ed7953\"],[0.7777777777777778,\"#fb9f3a\"],[0.8888888888888888,\"#fdca26\"],[1.0,\"#f0f921\"]],\"type\":\"contour\"}],\"contourcarpet\":[{\"colorbar\":{\"outlinewidth\":0,\"ticks\":\"\"},\"type\":\"contourcarpet\"}],\"heatmap\":[{\"colorbar\":{\"outlinewidth\":0,\"ticks\":\"\"},\"colorscale\":[[0.0,\"#0d0887\"],[0.1111111111111111,\"#46039f\"],[0.2222222222222222,\"#7201a8\"],[0.3333333333333333,\"#9c179e\"],[0.4444444444444444,\"#bd3786\"],[0.5555555555555556,\"#d8576b\"],[0.6666666666666666,\"#ed7953\"],[0.7777777777777778,\"#fb9f3a\"],[0.8888888888888888,\"#fdca26\"],[1.0,\"#f0f921\"]],\"type\":\"heatmap\"}],\"heatmapgl\":[{\"colorbar\":{\"outlinewidth\":0,\"ticks\":\"\"},\"colorscale\":[[0.0,\"#0d0887\"],[0.1111111111111111,\"#46039f\"],[0.2222222222222222,\"#7201a8\"],[0.3333333333333333,\"#9c179e\"],[0.4444444444444444,\"#bd3786\"],[0.5555555555555556,\"#d8576b\"],[0.6666666666666666,\"#ed7953\"],[0.7777777777777778,\"#fb9f3a\"],[0.8888888888888888,\"#fdca26\"],[1.0,\"#f0f921\"]],\"type\":\"heatmapgl\"}],\"histogram\":[{\"marker\":{\"pattern\":{\"fillmode\":\"overlay\",\"size\":10,\"solidity\":0.2}},\"type\":\"histogram\"}],\"histogram2d\":[{\"colorbar\":{\"outlinewidth\":0,\"ticks\":\"\"},\"colorscale\":[[0.0,\"#0d0887\"],[0.1111111111111111,\"#46039f\"],[0.2222222222222222,\"#7201a8\"],[0.3333333333333333,\"#9c179e\"],[0.4444444444444444,\"#bd3786\"],[0.5555555555555556,\"#d8576b\"],[0.6666666666666666,\"#ed7953\"],[0.7777777777777778,\"#fb9f3a\"],[0.8888888888888888,\"#fdca26\"],[1.0,\"#f0f921\"]],\"type\":\"histogram2d\"}],\"histogram2dcontour\":[{\"colorbar\":{\"outlinewidth\":0,\"ticks\":\"\"},\"colorscale\":[[0.0,\"#0d0887\"],[0.1111111111111111,\"#46039f\"],[0.2222222222222222,\"#7201a8\"],[0.3333333333333333,\"#9c179e\"],[0.4444444444444444,\"#bd3786\"],[0.5555555555555556,\"#d8576b\"],[0.6666666666666666,\"#ed7953\"],[0.7777777777777778,\"#fb9f3a\"],[0.8888888888888888,\"#fdca26\"],[1.0,\"#f0f921\"]],\"type\":\"histogram2dcontour\"}],\"mesh3d\":[{\"colorbar\":{\"outlinewidth\":0,\"ticks\":\"\"},\"type\":\"mesh3d\"}],\"parcoords\":[{\"line\":{\"colorbar\":{\"outlinewidth\":0,\"ticks\":\"\"}},\"type\":\"parcoords\"}],\"pie\":[{\"automargin\":true,\"type\":\"pie\"}],\"scatter\":[{\"marker\":{\"colorbar\":{\"outlinewidth\":0,\"ticks\":\"\"}},\"type\":\"scatter\"}],\"scatter3d\":[{\"line\":{\"colorbar\":{\"outlinewidth\":0,\"ticks\":\"\"}},\"marker\":{\"colorbar\":{\"outlinewidth\":0,\"ticks\":\"\"}},\"type\":\"scatter3d\"}],\"scattercarpet\":[{\"marker\":{\"colorbar\":{\"outlinewidth\":0,\"ticks\":\"\"}},\"type\":\"scattercarpet\"}],\"scattergeo\":[{\"marker\":{\"colorbar\":{\"outlinewidth\":0,\"ticks\":\"\"}},\"type\":\"scattergeo\"}],\"scattergl\":[{\"marker\":{\"colorbar\":{\"outlinewidth\":0,\"ticks\":\"\"}},\"type\":\"scattergl\"}],\"scattermapbox\":[{\"marker\":{\"colorbar\":{\"outlinewidth\":0,\"ticks\":\"\"}},\"type\":\"scattermapbox\"}],\"scatterpolar\":[{\"marker\":{\"colorbar\":{\"outlinewidth\":0,\"ticks\":\"\"}},\"type\":\"scatterpolar\"}],\"scatterpolargl\":[{\"marker\":{\"colorbar\":{\"outlinewidth\":0,\"ticks\":\"\"}},\"type\":\"scatterpolargl\"}],\"scatterternary\":[{\"marker\":{\"colorbar\":{\"outlinewidth\":0,\"ticks\":\"\"}},\"type\":\"scatterternary\"}],\"surface\":[{\"colorbar\":{\"outlinewidth\":0,\"ticks\":\"\"},\"colorscale\":[[0.0,\"#0d0887\"],[0.1111111111111111,\"#46039f\"],[0.2222222222222222,\"#7201a8\"],[0.3333333333333333,\"#9c179e\"],[0.4444444444444444,\"#bd3786\"],[0.5555555555555556,\"#d8576b\"],[0.6666666666666666,\"#ed7953\"],[0.7777777777777778,\"#fb9f3a\"],[0.8888888888888888,\"#fdca26\"],[1.0,\"#f0f921\"]],\"type\":\"surface\"}],\"table\":[{\"cells\":{\"fill\":{\"color\":\"#EBF0F8\"},\"line\":{\"color\":\"white\"}},\"header\":{\"fill\":{\"color\":\"#C8D4E3\"},\"line\":{\"color\":\"white\"}},\"type\":\"table\"}]},\"layout\":{\"annotationdefaults\":{\"arrowcolor\":\"#2a3f5f\",\"arrowhead\":0,\"arrowwidth\":1},\"autotypenumbers\":\"strict\",\"coloraxis\":{\"colorbar\":{\"outlinewidth\":0,\"ticks\":\"\"}},\"colorscale\":{\"diverging\":[[0,\"#8e0152\"],[0.1,\"#c51b7d\"],[0.2,\"#de77ae\"],[0.3,\"#f1b6da\"],[0.4,\"#fde0ef\"],[0.5,\"#f7f7f7\"],[0.6,\"#e6f5d0\"],[0.7,\"#b8e186\"],[0.8,\"#7fbc41\"],[0.9,\"#4d9221\"],[1,\"#276419\"]],\"sequential\":[[0.0,\"#0d0887\"],[0.1111111111111111,\"#46039f\"],[0.2222222222222222,\"#7201a8\"],[0.3333333333333333,\"#9c179e\"],[0.4444444444444444,\"#bd3786\"],[0.5555555555555556,\"#d8576b\"],[0.6666666666666666,\"#ed7953\"],[0.7777777777777778,\"#fb9f3a\"],[0.8888888888888888,\"#fdca26\"],[1.0,\"#f0f921\"]],\"sequentialminus\":[[0.0,\"#0d0887\"],[0.1111111111111111,\"#46039f\"],[0.2222222222222222,\"#7201a8\"],[0.3333333333333333,\"#9c179e\"],[0.4444444444444444,\"#bd3786\"],[0.5555555555555556,\"#d8576b\"],[0.6666666666666666,\"#ed7953\"],[0.7777777777777778,\"#fb9f3a\"],[0.8888888888888888,\"#fdca26\"],[1.0,\"#f0f921\"]]},\"colorway\":[\"#636efa\",\"#EF553B\",\"#00cc96\",\"#ab63fa\",\"#FFA15A\",\"#19d3f3\",\"#FF6692\",\"#B6E880\",\"#FF97FF\",\"#FECB52\"],\"font\":{\"color\":\"#2a3f5f\"},\"geo\":{\"bgcolor\":\"white\",\"lakecolor\":\"white\",\"landcolor\":\"#E5ECF6\",\"showlakes\":true,\"showland\":true,\"subunitcolor\":\"white\"},\"hoverlabel\":{\"align\":\"left\"},\"hovermode\":\"closest\",\"mapbox\":{\"style\":\"light\"},\"paper_bgcolor\":\"white\",\"plot_bgcolor\":\"#E5ECF6\",\"polar\":{\"angularaxis\":{\"gridcolor\":\"white\",\"linecolor\":\"white\",\"ticks\":\"\"},\"bgcolor\":\"#E5ECF6\",\"radialaxis\":{\"gridcolor\":\"white\",\"linecolor\":\"white\",\"ticks\":\"\"}},\"scene\":{\"xaxis\":{\"backgroundcolor\":\"#E5ECF6\",\"gridcolor\":\"white\",\"gridwidth\":2,\"linecolor\":\"white\",\"showbackground\":true,\"ticks\":\"\",\"zerolinecolor\":\"white\"},\"yaxis\":{\"backgroundcolor\":\"#E5ECF6\",\"gridcolor\":\"white\",\"gridwidth\":2,\"linecolor\":\"white\",\"showbackground\":true,\"ticks\":\"\",\"zerolinecolor\":\"white\"},\"zaxis\":{\"backgroundcolor\":\"#E5ECF6\",\"gridcolor\":\"white\",\"gridwidth\":2,\"linecolor\":\"white\",\"showbackground\":true,\"ticks\":\"\",\"zerolinecolor\":\"white\"}},\"shapedefaults\":{\"line\":{\"color\":\"#2a3f5f\"}},\"ternary\":{\"aaxis\":{\"gridcolor\":\"white\",\"linecolor\":\"white\",\"ticks\":\"\"},\"baxis\":{\"gridcolor\":\"white\",\"linecolor\":\"white\",\"ticks\":\"\"},\"bgcolor\":\"#E5ECF6\",\"caxis\":{\"gridcolor\":\"white\",\"linecolor\":\"white\",\"ticks\":\"\"}},\"title\":{\"x\":0.05},\"xaxis\":{\"automargin\":true,\"gridcolor\":\"white\",\"linecolor\":\"white\",\"ticks\":\"\",\"title\":{\"standoff\":15},\"zerolinecolor\":\"white\",\"zerolinewidth\":2},\"yaxis\":{\"automargin\":true,\"gridcolor\":\"white\",\"linecolor\":\"white\",\"ticks\":\"\",\"title\":{\"standoff\":15},\"zerolinecolor\":\"white\",\"zerolinewidth\":2}}},\"xaxis\":{\"anchor\":\"y\",\"domain\":[0.0,1.0],\"title\":{\"text\":\"\\u0421\\u0435\\u0442\\u0435\\u0432\\u043e\\u0439 \\u043b\\u0438 \\u0442\\u0438\\u043f \\u0437\\u0430\\u0432\\u0435\\u0434\\u0435\\u043d\\u0438\\u044f\"}},\"yaxis\":{\"anchor\":\"x\",\"domain\":[0.0,1.0],\"title\":{\"text\":\"\\u041a\\u043e\\u043b\\u0438\\u0447\\u0435\\u0441\\u0442\\u0432\\u043e\"}},\"legend\":{\"tracegroupgap\":0},\"title\":{\"text\":\"\\u0421\\u043e\\u043e\\u0442\\u043d\\u043e\\u0448\\u0435\\u043d\\u0438\\u0435 \\u043f\\u043e \\u043a\\u043e\\u043b\\u0438\\u0447\\u0435\\u0441\\u0442\\u0432\\u0443\"},\"barmode\":\"relative\"},                        {\"responsive\": true}                    ).then(function(){\n",
       "                            \n",
       "var gd = document.getElementById('f8c9c842-510f-49b9-a2a7-eaa8484b9c87');\n",
       "var x = new MutationObserver(function (mutations, observer) {{\n",
       "        var display = window.getComputedStyle(gd).display;\n",
       "        if (!display || display === 'none') {{\n",
       "            console.log([gd, 'removed!']);\n",
       "            Plotly.purge(gd);\n",
       "            observer.disconnect();\n",
       "        }}\n",
       "}});\n",
       "\n",
       "// Listen for the removal of the full notebook cells\n",
       "var notebookContainer = gd.closest('#notebook-container');\n",
       "if (notebookContainer) {{\n",
       "    x.observe(notebookContainer, {childList: true});\n",
       "}}\n",
       "\n",
       "// Listen for the clearing of the current output cell\n",
       "var outputEl = gd.closest('.output');\n",
       "if (outputEl) {{\n",
       "    x.observe(outputEl, {childList: true});\n",
       "}}\n",
       "\n",
       "                        })                };                });            </script>        </div>"
      ]
     },
     "metadata": {},
     "output_type": "display_data"
    }
   ],
   "source": [
    "fig = px.bar(cafes, x = 'Сетевой ли тип заведения', y = 'Количество', title = 'Соотношение по количеству')\n",
    "fig.show()"
   ]
  },
  {
   "cell_type": "code",
   "execution_count": 28,
   "metadata": {},
   "outputs": [
    {
     "data": {
      "application/vnd.plotly.v1+json": {
       "config": {
        "plotlyServerURL": "https://plot.ly"
       },
       "data": [
        {
         "labels": [
          "да",
          "нет"
         ],
         "title": {
          "text": "Сетевой ли тип заведения"
         },
         "type": "pie",
         "values": [
          19,
          81
         ]
        }
       ],
       "layout": {
        "template": {
         "data": {
          "bar": [
           {
            "error_x": {
             "color": "#2a3f5f"
            },
            "error_y": {
             "color": "#2a3f5f"
            },
            "marker": {
             "line": {
              "color": "#E5ECF6",
              "width": 0.5
             },
             "pattern": {
              "fillmode": "overlay",
              "size": 10,
              "solidity": 0.2
             }
            },
            "type": "bar"
           }
          ],
          "barpolar": [
           {
            "marker": {
             "line": {
              "color": "#E5ECF6",
              "width": 0.5
             },
             "pattern": {
              "fillmode": "overlay",
              "size": 10,
              "solidity": 0.2
             }
            },
            "type": "barpolar"
           }
          ],
          "carpet": [
           {
            "aaxis": {
             "endlinecolor": "#2a3f5f",
             "gridcolor": "white",
             "linecolor": "white",
             "minorgridcolor": "white",
             "startlinecolor": "#2a3f5f"
            },
            "baxis": {
             "endlinecolor": "#2a3f5f",
             "gridcolor": "white",
             "linecolor": "white",
             "minorgridcolor": "white",
             "startlinecolor": "#2a3f5f"
            },
            "type": "carpet"
           }
          ],
          "choropleth": [
           {
            "colorbar": {
             "outlinewidth": 0,
             "ticks": ""
            },
            "type": "choropleth"
           }
          ],
          "contour": [
           {
            "colorbar": {
             "outlinewidth": 0,
             "ticks": ""
            },
            "colorscale": [
             [
              0,
              "#0d0887"
             ],
             [
              0.1111111111111111,
              "#46039f"
             ],
             [
              0.2222222222222222,
              "#7201a8"
             ],
             [
              0.3333333333333333,
              "#9c179e"
             ],
             [
              0.4444444444444444,
              "#bd3786"
             ],
             [
              0.5555555555555556,
              "#d8576b"
             ],
             [
              0.6666666666666666,
              "#ed7953"
             ],
             [
              0.7777777777777778,
              "#fb9f3a"
             ],
             [
              0.8888888888888888,
              "#fdca26"
             ],
             [
              1,
              "#f0f921"
             ]
            ],
            "type": "contour"
           }
          ],
          "contourcarpet": [
           {
            "colorbar": {
             "outlinewidth": 0,
             "ticks": ""
            },
            "type": "contourcarpet"
           }
          ],
          "heatmap": [
           {
            "colorbar": {
             "outlinewidth": 0,
             "ticks": ""
            },
            "colorscale": [
             [
              0,
              "#0d0887"
             ],
             [
              0.1111111111111111,
              "#46039f"
             ],
             [
              0.2222222222222222,
              "#7201a8"
             ],
             [
              0.3333333333333333,
              "#9c179e"
             ],
             [
              0.4444444444444444,
              "#bd3786"
             ],
             [
              0.5555555555555556,
              "#d8576b"
             ],
             [
              0.6666666666666666,
              "#ed7953"
             ],
             [
              0.7777777777777778,
              "#fb9f3a"
             ],
             [
              0.8888888888888888,
              "#fdca26"
             ],
             [
              1,
              "#f0f921"
             ]
            ],
            "type": "heatmap"
           }
          ],
          "heatmapgl": [
           {
            "colorbar": {
             "outlinewidth": 0,
             "ticks": ""
            },
            "colorscale": [
             [
              0,
              "#0d0887"
             ],
             [
              0.1111111111111111,
              "#46039f"
             ],
             [
              0.2222222222222222,
              "#7201a8"
             ],
             [
              0.3333333333333333,
              "#9c179e"
             ],
             [
              0.4444444444444444,
              "#bd3786"
             ],
             [
              0.5555555555555556,
              "#d8576b"
             ],
             [
              0.6666666666666666,
              "#ed7953"
             ],
             [
              0.7777777777777778,
              "#fb9f3a"
             ],
             [
              0.8888888888888888,
              "#fdca26"
             ],
             [
              1,
              "#f0f921"
             ]
            ],
            "type": "heatmapgl"
           }
          ],
          "histogram": [
           {
            "marker": {
             "pattern": {
              "fillmode": "overlay",
              "size": 10,
              "solidity": 0.2
             }
            },
            "type": "histogram"
           }
          ],
          "histogram2d": [
           {
            "colorbar": {
             "outlinewidth": 0,
             "ticks": ""
            },
            "colorscale": [
             [
              0,
              "#0d0887"
             ],
             [
              0.1111111111111111,
              "#46039f"
             ],
             [
              0.2222222222222222,
              "#7201a8"
             ],
             [
              0.3333333333333333,
              "#9c179e"
             ],
             [
              0.4444444444444444,
              "#bd3786"
             ],
             [
              0.5555555555555556,
              "#d8576b"
             ],
             [
              0.6666666666666666,
              "#ed7953"
             ],
             [
              0.7777777777777778,
              "#fb9f3a"
             ],
             [
              0.8888888888888888,
              "#fdca26"
             ],
             [
              1,
              "#f0f921"
             ]
            ],
            "type": "histogram2d"
           }
          ],
          "histogram2dcontour": [
           {
            "colorbar": {
             "outlinewidth": 0,
             "ticks": ""
            },
            "colorscale": [
             [
              0,
              "#0d0887"
             ],
             [
              0.1111111111111111,
              "#46039f"
             ],
             [
              0.2222222222222222,
              "#7201a8"
             ],
             [
              0.3333333333333333,
              "#9c179e"
             ],
             [
              0.4444444444444444,
              "#bd3786"
             ],
             [
              0.5555555555555556,
              "#d8576b"
             ],
             [
              0.6666666666666666,
              "#ed7953"
             ],
             [
              0.7777777777777778,
              "#fb9f3a"
             ],
             [
              0.8888888888888888,
              "#fdca26"
             ],
             [
              1,
              "#f0f921"
             ]
            ],
            "type": "histogram2dcontour"
           }
          ],
          "mesh3d": [
           {
            "colorbar": {
             "outlinewidth": 0,
             "ticks": ""
            },
            "type": "mesh3d"
           }
          ],
          "parcoords": [
           {
            "line": {
             "colorbar": {
              "outlinewidth": 0,
              "ticks": ""
             }
            },
            "type": "parcoords"
           }
          ],
          "pie": [
           {
            "automargin": true,
            "type": "pie"
           }
          ],
          "scatter": [
           {
            "marker": {
             "colorbar": {
              "outlinewidth": 0,
              "ticks": ""
             }
            },
            "type": "scatter"
           }
          ],
          "scatter3d": [
           {
            "line": {
             "colorbar": {
              "outlinewidth": 0,
              "ticks": ""
             }
            },
            "marker": {
             "colorbar": {
              "outlinewidth": 0,
              "ticks": ""
             }
            },
            "type": "scatter3d"
           }
          ],
          "scattercarpet": [
           {
            "marker": {
             "colorbar": {
              "outlinewidth": 0,
              "ticks": ""
             }
            },
            "type": "scattercarpet"
           }
          ],
          "scattergeo": [
           {
            "marker": {
             "colorbar": {
              "outlinewidth": 0,
              "ticks": ""
             }
            },
            "type": "scattergeo"
           }
          ],
          "scattergl": [
           {
            "marker": {
             "colorbar": {
              "outlinewidth": 0,
              "ticks": ""
             }
            },
            "type": "scattergl"
           }
          ],
          "scattermapbox": [
           {
            "marker": {
             "colorbar": {
              "outlinewidth": 0,
              "ticks": ""
             }
            },
            "type": "scattermapbox"
           }
          ],
          "scatterpolar": [
           {
            "marker": {
             "colorbar": {
              "outlinewidth": 0,
              "ticks": ""
             }
            },
            "type": "scatterpolar"
           }
          ],
          "scatterpolargl": [
           {
            "marker": {
             "colorbar": {
              "outlinewidth": 0,
              "ticks": ""
             }
            },
            "type": "scatterpolargl"
           }
          ],
          "scatterternary": [
           {
            "marker": {
             "colorbar": {
              "outlinewidth": 0,
              "ticks": ""
             }
            },
            "type": "scatterternary"
           }
          ],
          "surface": [
           {
            "colorbar": {
             "outlinewidth": 0,
             "ticks": ""
            },
            "colorscale": [
             [
              0,
              "#0d0887"
             ],
             [
              0.1111111111111111,
              "#46039f"
             ],
             [
              0.2222222222222222,
              "#7201a8"
             ],
             [
              0.3333333333333333,
              "#9c179e"
             ],
             [
              0.4444444444444444,
              "#bd3786"
             ],
             [
              0.5555555555555556,
              "#d8576b"
             ],
             [
              0.6666666666666666,
              "#ed7953"
             ],
             [
              0.7777777777777778,
              "#fb9f3a"
             ],
             [
              0.8888888888888888,
              "#fdca26"
             ],
             [
              1,
              "#f0f921"
             ]
            ],
            "type": "surface"
           }
          ],
          "table": [
           {
            "cells": {
             "fill": {
              "color": "#EBF0F8"
             },
             "line": {
              "color": "white"
             }
            },
            "header": {
             "fill": {
              "color": "#C8D4E3"
             },
             "line": {
              "color": "white"
             }
            },
            "type": "table"
           }
          ]
         },
         "layout": {
          "annotationdefaults": {
           "arrowcolor": "#2a3f5f",
           "arrowhead": 0,
           "arrowwidth": 1
          },
          "autotypenumbers": "strict",
          "coloraxis": {
           "colorbar": {
            "outlinewidth": 0,
            "ticks": ""
           }
          },
          "colorscale": {
           "diverging": [
            [
             0,
             "#8e0152"
            ],
            [
             0.1,
             "#c51b7d"
            ],
            [
             0.2,
             "#de77ae"
            ],
            [
             0.3,
             "#f1b6da"
            ],
            [
             0.4,
             "#fde0ef"
            ],
            [
             0.5,
             "#f7f7f7"
            ],
            [
             0.6,
             "#e6f5d0"
            ],
            [
             0.7,
             "#b8e186"
            ],
            [
             0.8,
             "#7fbc41"
            ],
            [
             0.9,
             "#4d9221"
            ],
            [
             1,
             "#276419"
            ]
           ],
           "sequential": [
            [
             0,
             "#0d0887"
            ],
            [
             0.1111111111111111,
             "#46039f"
            ],
            [
             0.2222222222222222,
             "#7201a8"
            ],
            [
             0.3333333333333333,
             "#9c179e"
            ],
            [
             0.4444444444444444,
             "#bd3786"
            ],
            [
             0.5555555555555556,
             "#d8576b"
            ],
            [
             0.6666666666666666,
             "#ed7953"
            ],
            [
             0.7777777777777778,
             "#fb9f3a"
            ],
            [
             0.8888888888888888,
             "#fdca26"
            ],
            [
             1,
             "#f0f921"
            ]
           ],
           "sequentialminus": [
            [
             0,
             "#0d0887"
            ],
            [
             0.1111111111111111,
             "#46039f"
            ],
            [
             0.2222222222222222,
             "#7201a8"
            ],
            [
             0.3333333333333333,
             "#9c179e"
            ],
            [
             0.4444444444444444,
             "#bd3786"
            ],
            [
             0.5555555555555556,
             "#d8576b"
            ],
            [
             0.6666666666666666,
             "#ed7953"
            ],
            [
             0.7777777777777778,
             "#fb9f3a"
            ],
            [
             0.8888888888888888,
             "#fdca26"
            ],
            [
             1,
             "#f0f921"
            ]
           ]
          },
          "colorway": [
           "#636efa",
           "#EF553B",
           "#00cc96",
           "#ab63fa",
           "#FFA15A",
           "#19d3f3",
           "#FF6692",
           "#B6E880",
           "#FF97FF",
           "#FECB52"
          ],
          "font": {
           "color": "#2a3f5f"
          },
          "geo": {
           "bgcolor": "white",
           "lakecolor": "white",
           "landcolor": "#E5ECF6",
           "showlakes": true,
           "showland": true,
           "subunitcolor": "white"
          },
          "hoverlabel": {
           "align": "left"
          },
          "hovermode": "closest",
          "mapbox": {
           "style": "light"
          },
          "paper_bgcolor": "white",
          "plot_bgcolor": "#E5ECF6",
          "polar": {
           "angularaxis": {
            "gridcolor": "white",
            "linecolor": "white",
            "ticks": ""
           },
           "bgcolor": "#E5ECF6",
           "radialaxis": {
            "gridcolor": "white",
            "linecolor": "white",
            "ticks": ""
           }
          },
          "scene": {
           "xaxis": {
            "backgroundcolor": "#E5ECF6",
            "gridcolor": "white",
            "gridwidth": 2,
            "linecolor": "white",
            "showbackground": true,
            "ticks": "",
            "zerolinecolor": "white"
           },
           "yaxis": {
            "backgroundcolor": "#E5ECF6",
            "gridcolor": "white",
            "gridwidth": 2,
            "linecolor": "white",
            "showbackground": true,
            "ticks": "",
            "zerolinecolor": "white"
           },
           "zaxis": {
            "backgroundcolor": "#E5ECF6",
            "gridcolor": "white",
            "gridwidth": 2,
            "linecolor": "white",
            "showbackground": true,
            "ticks": "",
            "zerolinecolor": "white"
           }
          },
          "shapedefaults": {
           "line": {
            "color": "#2a3f5f"
           }
          },
          "ternary": {
           "aaxis": {
            "gridcolor": "white",
            "linecolor": "white",
            "ticks": ""
           },
           "baxis": {
            "gridcolor": "white",
            "linecolor": "white",
            "ticks": ""
           },
           "bgcolor": "#E5ECF6",
           "caxis": {
            "gridcolor": "white",
            "linecolor": "white",
            "ticks": ""
           }
          },
          "title": {
           "x": 0.05
          },
          "xaxis": {
           "automargin": true,
           "gridcolor": "white",
           "linecolor": "white",
           "ticks": "",
           "title": {
            "standoff": 15
           },
           "zerolinecolor": "white",
           "zerolinewidth": 2
          },
          "yaxis": {
           "automargin": true,
           "gridcolor": "white",
           "linecolor": "white",
           "ticks": "",
           "title": {
            "standoff": 15
           },
           "zerolinecolor": "white",
           "zerolinewidth": 2
          }
         }
        }
       }
      },
      "text/html": [
       "<div>                            <div id=\"040ddc65-0aa3-459d-b45e-124fffe42c00\" class=\"plotly-graph-div\" style=\"height:525px; width:100%;\"></div>            <script type=\"text/javascript\">                require([\"plotly\"], function(Plotly) {                    window.PLOTLYENV=window.PLOTLYENV || {};                                    if (document.getElementById(\"040ddc65-0aa3-459d-b45e-124fffe42c00\")) {                    Plotly.newPlot(                        \"040ddc65-0aa3-459d-b45e-124fffe42c00\",                        [{\"labels\":[\"\\u0434\\u0430\",\"\\u043d\\u0435\\u0442\"],\"title\":{\"text\":\"\\u0421\\u0435\\u0442\\u0435\\u0432\\u043e\\u0439 \\u043b\\u0438 \\u0442\\u0438\\u043f \\u0437\\u0430\\u0432\\u0435\\u0434\\u0435\\u043d\\u0438\\u044f\"},\"values\":[19.0,81.0],\"type\":\"pie\"}],                        {\"template\":{\"data\":{\"bar\":[{\"error_x\":{\"color\":\"#2a3f5f\"},\"error_y\":{\"color\":\"#2a3f5f\"},\"marker\":{\"line\":{\"color\":\"#E5ECF6\",\"width\":0.5},\"pattern\":{\"fillmode\":\"overlay\",\"size\":10,\"solidity\":0.2}},\"type\":\"bar\"}],\"barpolar\":[{\"marker\":{\"line\":{\"color\":\"#E5ECF6\",\"width\":0.5},\"pattern\":{\"fillmode\":\"overlay\",\"size\":10,\"solidity\":0.2}},\"type\":\"barpolar\"}],\"carpet\":[{\"aaxis\":{\"endlinecolor\":\"#2a3f5f\",\"gridcolor\":\"white\",\"linecolor\":\"white\",\"minorgridcolor\":\"white\",\"startlinecolor\":\"#2a3f5f\"},\"baxis\":{\"endlinecolor\":\"#2a3f5f\",\"gridcolor\":\"white\",\"linecolor\":\"white\",\"minorgridcolor\":\"white\",\"startlinecolor\":\"#2a3f5f\"},\"type\":\"carpet\"}],\"choropleth\":[{\"colorbar\":{\"outlinewidth\":0,\"ticks\":\"\"},\"type\":\"choropleth\"}],\"contour\":[{\"colorbar\":{\"outlinewidth\":0,\"ticks\":\"\"},\"colorscale\":[[0.0,\"#0d0887\"],[0.1111111111111111,\"#46039f\"],[0.2222222222222222,\"#7201a8\"],[0.3333333333333333,\"#9c179e\"],[0.4444444444444444,\"#bd3786\"],[0.5555555555555556,\"#d8576b\"],[0.6666666666666666,\"#ed7953\"],[0.7777777777777778,\"#fb9f3a\"],[0.8888888888888888,\"#fdca26\"],[1.0,\"#f0f921\"]],\"type\":\"contour\"}],\"contourcarpet\":[{\"colorbar\":{\"outlinewidth\":0,\"ticks\":\"\"},\"type\":\"contourcarpet\"}],\"heatmap\":[{\"colorbar\":{\"outlinewidth\":0,\"ticks\":\"\"},\"colorscale\":[[0.0,\"#0d0887\"],[0.1111111111111111,\"#46039f\"],[0.2222222222222222,\"#7201a8\"],[0.3333333333333333,\"#9c179e\"],[0.4444444444444444,\"#bd3786\"],[0.5555555555555556,\"#d8576b\"],[0.6666666666666666,\"#ed7953\"],[0.7777777777777778,\"#fb9f3a\"],[0.8888888888888888,\"#fdca26\"],[1.0,\"#f0f921\"]],\"type\":\"heatmap\"}],\"heatmapgl\":[{\"colorbar\":{\"outlinewidth\":0,\"ticks\":\"\"},\"colorscale\":[[0.0,\"#0d0887\"],[0.1111111111111111,\"#46039f\"],[0.2222222222222222,\"#7201a8\"],[0.3333333333333333,\"#9c179e\"],[0.4444444444444444,\"#bd3786\"],[0.5555555555555556,\"#d8576b\"],[0.6666666666666666,\"#ed7953\"],[0.7777777777777778,\"#fb9f3a\"],[0.8888888888888888,\"#fdca26\"],[1.0,\"#f0f921\"]],\"type\":\"heatmapgl\"}],\"histogram\":[{\"marker\":{\"pattern\":{\"fillmode\":\"overlay\",\"size\":10,\"solidity\":0.2}},\"type\":\"histogram\"}],\"histogram2d\":[{\"colorbar\":{\"outlinewidth\":0,\"ticks\":\"\"},\"colorscale\":[[0.0,\"#0d0887\"],[0.1111111111111111,\"#46039f\"],[0.2222222222222222,\"#7201a8\"],[0.3333333333333333,\"#9c179e\"],[0.4444444444444444,\"#bd3786\"],[0.5555555555555556,\"#d8576b\"],[0.6666666666666666,\"#ed7953\"],[0.7777777777777778,\"#fb9f3a\"],[0.8888888888888888,\"#fdca26\"],[1.0,\"#f0f921\"]],\"type\":\"histogram2d\"}],\"histogram2dcontour\":[{\"colorbar\":{\"outlinewidth\":0,\"ticks\":\"\"},\"colorscale\":[[0.0,\"#0d0887\"],[0.1111111111111111,\"#46039f\"],[0.2222222222222222,\"#7201a8\"],[0.3333333333333333,\"#9c179e\"],[0.4444444444444444,\"#bd3786\"],[0.5555555555555556,\"#d8576b\"],[0.6666666666666666,\"#ed7953\"],[0.7777777777777778,\"#fb9f3a\"],[0.8888888888888888,\"#fdca26\"],[1.0,\"#f0f921\"]],\"type\":\"histogram2dcontour\"}],\"mesh3d\":[{\"colorbar\":{\"outlinewidth\":0,\"ticks\":\"\"},\"type\":\"mesh3d\"}],\"parcoords\":[{\"line\":{\"colorbar\":{\"outlinewidth\":0,\"ticks\":\"\"}},\"type\":\"parcoords\"}],\"pie\":[{\"automargin\":true,\"type\":\"pie\"}],\"scatter\":[{\"marker\":{\"colorbar\":{\"outlinewidth\":0,\"ticks\":\"\"}},\"type\":\"scatter\"}],\"scatter3d\":[{\"line\":{\"colorbar\":{\"outlinewidth\":0,\"ticks\":\"\"}},\"marker\":{\"colorbar\":{\"outlinewidth\":0,\"ticks\":\"\"}},\"type\":\"scatter3d\"}],\"scattercarpet\":[{\"marker\":{\"colorbar\":{\"outlinewidth\":0,\"ticks\":\"\"}},\"type\":\"scattercarpet\"}],\"scattergeo\":[{\"marker\":{\"colorbar\":{\"outlinewidth\":0,\"ticks\":\"\"}},\"type\":\"scattergeo\"}],\"scattergl\":[{\"marker\":{\"colorbar\":{\"outlinewidth\":0,\"ticks\":\"\"}},\"type\":\"scattergl\"}],\"scattermapbox\":[{\"marker\":{\"colorbar\":{\"outlinewidth\":0,\"ticks\":\"\"}},\"type\":\"scattermapbox\"}],\"scatterpolar\":[{\"marker\":{\"colorbar\":{\"outlinewidth\":0,\"ticks\":\"\"}},\"type\":\"scatterpolar\"}],\"scatterpolargl\":[{\"marker\":{\"colorbar\":{\"outlinewidth\":0,\"ticks\":\"\"}},\"type\":\"scatterpolargl\"}],\"scatterternary\":[{\"marker\":{\"colorbar\":{\"outlinewidth\":0,\"ticks\":\"\"}},\"type\":\"scatterternary\"}],\"surface\":[{\"colorbar\":{\"outlinewidth\":0,\"ticks\":\"\"},\"colorscale\":[[0.0,\"#0d0887\"],[0.1111111111111111,\"#46039f\"],[0.2222222222222222,\"#7201a8\"],[0.3333333333333333,\"#9c179e\"],[0.4444444444444444,\"#bd3786\"],[0.5555555555555556,\"#d8576b\"],[0.6666666666666666,\"#ed7953\"],[0.7777777777777778,\"#fb9f3a\"],[0.8888888888888888,\"#fdca26\"],[1.0,\"#f0f921\"]],\"type\":\"surface\"}],\"table\":[{\"cells\":{\"fill\":{\"color\":\"#EBF0F8\"},\"line\":{\"color\":\"white\"}},\"header\":{\"fill\":{\"color\":\"#C8D4E3\"},\"line\":{\"color\":\"white\"}},\"type\":\"table\"}]},\"layout\":{\"annotationdefaults\":{\"arrowcolor\":\"#2a3f5f\",\"arrowhead\":0,\"arrowwidth\":1},\"autotypenumbers\":\"strict\",\"coloraxis\":{\"colorbar\":{\"outlinewidth\":0,\"ticks\":\"\"}},\"colorscale\":{\"diverging\":[[0,\"#8e0152\"],[0.1,\"#c51b7d\"],[0.2,\"#de77ae\"],[0.3,\"#f1b6da\"],[0.4,\"#fde0ef\"],[0.5,\"#f7f7f7\"],[0.6,\"#e6f5d0\"],[0.7,\"#b8e186\"],[0.8,\"#7fbc41\"],[0.9,\"#4d9221\"],[1,\"#276419\"]],\"sequential\":[[0.0,\"#0d0887\"],[0.1111111111111111,\"#46039f\"],[0.2222222222222222,\"#7201a8\"],[0.3333333333333333,\"#9c179e\"],[0.4444444444444444,\"#bd3786\"],[0.5555555555555556,\"#d8576b\"],[0.6666666666666666,\"#ed7953\"],[0.7777777777777778,\"#fb9f3a\"],[0.8888888888888888,\"#fdca26\"],[1.0,\"#f0f921\"]],\"sequentialminus\":[[0.0,\"#0d0887\"],[0.1111111111111111,\"#46039f\"],[0.2222222222222222,\"#7201a8\"],[0.3333333333333333,\"#9c179e\"],[0.4444444444444444,\"#bd3786\"],[0.5555555555555556,\"#d8576b\"],[0.6666666666666666,\"#ed7953\"],[0.7777777777777778,\"#fb9f3a\"],[0.8888888888888888,\"#fdca26\"],[1.0,\"#f0f921\"]]},\"colorway\":[\"#636efa\",\"#EF553B\",\"#00cc96\",\"#ab63fa\",\"#FFA15A\",\"#19d3f3\",\"#FF6692\",\"#B6E880\",\"#FF97FF\",\"#FECB52\"],\"font\":{\"color\":\"#2a3f5f\"},\"geo\":{\"bgcolor\":\"white\",\"lakecolor\":\"white\",\"landcolor\":\"#E5ECF6\",\"showlakes\":true,\"showland\":true,\"subunitcolor\":\"white\"},\"hoverlabel\":{\"align\":\"left\"},\"hovermode\":\"closest\",\"mapbox\":{\"style\":\"light\"},\"paper_bgcolor\":\"white\",\"plot_bgcolor\":\"#E5ECF6\",\"polar\":{\"angularaxis\":{\"gridcolor\":\"white\",\"linecolor\":\"white\",\"ticks\":\"\"},\"bgcolor\":\"#E5ECF6\",\"radialaxis\":{\"gridcolor\":\"white\",\"linecolor\":\"white\",\"ticks\":\"\"}},\"scene\":{\"xaxis\":{\"backgroundcolor\":\"#E5ECF6\",\"gridcolor\":\"white\",\"gridwidth\":2,\"linecolor\":\"white\",\"showbackground\":true,\"ticks\":\"\",\"zerolinecolor\":\"white\"},\"yaxis\":{\"backgroundcolor\":\"#E5ECF6\",\"gridcolor\":\"white\",\"gridwidth\":2,\"linecolor\":\"white\",\"showbackground\":true,\"ticks\":\"\",\"zerolinecolor\":\"white\"},\"zaxis\":{\"backgroundcolor\":\"#E5ECF6\",\"gridcolor\":\"white\",\"gridwidth\":2,\"linecolor\":\"white\",\"showbackground\":true,\"ticks\":\"\",\"zerolinecolor\":\"white\"}},\"shapedefaults\":{\"line\":{\"color\":\"#2a3f5f\"}},\"ternary\":{\"aaxis\":{\"gridcolor\":\"white\",\"linecolor\":\"white\",\"ticks\":\"\"},\"baxis\":{\"gridcolor\":\"white\",\"linecolor\":\"white\",\"ticks\":\"\"},\"bgcolor\":\"#E5ECF6\",\"caxis\":{\"gridcolor\":\"white\",\"linecolor\":\"white\",\"ticks\":\"\"}},\"title\":{\"x\":0.05},\"xaxis\":{\"automargin\":true,\"gridcolor\":\"white\",\"linecolor\":\"white\",\"ticks\":\"\",\"title\":{\"standoff\":15},\"zerolinecolor\":\"white\",\"zerolinewidth\":2},\"yaxis\":{\"automargin\":true,\"gridcolor\":\"white\",\"linecolor\":\"white\",\"ticks\":\"\",\"title\":{\"standoff\":15},\"zerolinecolor\":\"white\",\"zerolinewidth\":2}}}},                        {\"responsive\": true}                    ).then(function(){\n",
       "                            \n",
       "var gd = document.getElementById('040ddc65-0aa3-459d-b45e-124fffe42c00');\n",
       "var x = new MutationObserver(function (mutations, observer) {{\n",
       "        var display = window.getComputedStyle(gd).display;\n",
       "        if (!display || display === 'none') {{\n",
       "            console.log([gd, 'removed!']);\n",
       "            Plotly.purge(gd);\n",
       "            observer.disconnect();\n",
       "        }}\n",
       "}});\n",
       "\n",
       "// Listen for the removal of the full notebook cells\n",
       "var notebookContainer = gd.closest('#notebook-container');\n",
       "if (notebookContainer) {{\n",
       "    x.observe(notebookContainer, {childList: true});\n",
       "}}\n",
       "\n",
       "// Listen for the clearing of the current output cell\n",
       "var outputEl = gd.closest('.output');\n",
       "if (outputEl) {{\n",
       "    x.observe(outputEl, {childList: true});\n",
       "}}\n",
       "\n",
       "                        })                };                });            </script>        </div>"
      ]
     },
     "metadata": {},
     "output_type": "display_data"
    }
   ],
   "source": [
    "fig = go.Figure(data = [go.Pie(labels = cafes['Сетевой ли тип заведения'], values = cafes['Соотношение'], \n",
    "title = 'Сетевой ли тип заведения')])\n",
    "fig.show()"
   ]
  },
  {
   "cell_type": "markdown",
   "metadata": {},
   "source": [
    "ВЫВОД: Сетевых объектов питания почти в 5 раз меньше, чем несетевых."
   ]
  },
  {
   "cell_type": "markdown",
   "metadata": {},
   "source": [
    "### Выясним для какого вида объекта общественного питания характерно сетевое распространение?"
   ]
  },
  {
   "cell_type": "code",
   "execution_count": 29,
   "metadata": {},
   "outputs": [
    {
     "data": {
      "text/html": [
       "<div>\n",
       "<style scoped>\n",
       "    .dataframe tbody tr th:only-of-type {\n",
       "        vertical-align: middle;\n",
       "    }\n",
       "\n",
       "    .dataframe tbody tr th {\n",
       "        vertical-align: top;\n",
       "    }\n",
       "\n",
       "    .dataframe thead th {\n",
       "        text-align: right;\n",
       "    }\n",
       "</style>\n",
       "<table border=\"1\" class=\"dataframe\">\n",
       "  <thead>\n",
       "    <tr style=\"text-align: right;\">\n",
       "      <th></th>\n",
       "      <th>object_type</th>\n",
       "      <th>id</th>\n",
       "    </tr>\n",
       "  </thead>\n",
       "  <tbody>\n",
       "    <tr>\n",
       "      <th>0</th>\n",
       "      <td>столовая</td>\n",
       "      <td>3</td>\n",
       "    </tr>\n",
       "    <tr>\n",
       "      <th>1</th>\n",
       "      <td>буфет</td>\n",
       "      <td>11</td>\n",
       "    </tr>\n",
       "    <tr>\n",
       "      <th>2</th>\n",
       "      <td>бар</td>\n",
       "      <td>37</td>\n",
       "    </tr>\n",
       "    <tr>\n",
       "      <th>3</th>\n",
       "      <td>кафетерий</td>\n",
       "      <td>52</td>\n",
       "    </tr>\n",
       "    <tr>\n",
       "      <th>4</th>\n",
       "      <td>закусочная</td>\n",
       "      <td>56</td>\n",
       "    </tr>\n",
       "    <tr>\n",
       "      <th>5</th>\n",
       "      <td>магазин (отдел кулинарии)</td>\n",
       "      <td>78</td>\n",
       "    </tr>\n",
       "    <tr>\n",
       "      <th>6</th>\n",
       "      <td>ресторан</td>\n",
       "      <td>543</td>\n",
       "    </tr>\n",
       "    <tr>\n",
       "      <th>7</th>\n",
       "      <td>предприятие быстрого обслуживания</td>\n",
       "      <td>788</td>\n",
       "    </tr>\n",
       "    <tr>\n",
       "      <th>8</th>\n",
       "      <td>кафе</td>\n",
       "      <td>1396</td>\n",
       "    </tr>\n",
       "  </tbody>\n",
       "</table>\n",
       "</div>"
      ],
      "text/plain": [
       "                         object_type    id\n",
       "0                           столовая     3\n",
       "1                              буфет    11\n",
       "2                                бар    37\n",
       "3                          кафетерий    52\n",
       "4                         закусочная    56\n",
       "5          магазин (отдел кулинарии)    78\n",
       "6                           ресторан   543\n",
       "7  предприятие быстрого обслуживания   788\n",
       "8                               кафе  1396"
      ]
     },
     "execution_count": 29,
     "metadata": {},
     "output_type": "execute_result"
    }
   ],
   "source": [
    "chain_cafes = data.loc[data['chain'] == 'да']\n",
    "chain_cafes = chain_cafes.pivot_table(index = 'object_type', values = 'id', aggfunc = 'count').sort_values(by = 'id').reset_index()\n",
    "chain_cafes"
   ]
  },
  {
   "cell_type": "code",
   "execution_count": 31,
   "metadata": {},
   "outputs": [
    {
     "data": {
      "application/vnd.plotly.v1+json": {
       "config": {
        "plotlyServerURL": "https://plot.ly"
       },
       "data": [
        {
         "labels": [
          "столовая",
          "буфет",
          "бар",
          "кафетерий",
          "закусочная",
          "магазин (отдел кулинарии)",
          "ресторан",
          "предприятие быстрого обслуживания",
          "кафе"
         ],
         "textposition": "outside",
         "title": {
          "text": "Типы сетевых заведений"
         },
         "type": "pie",
         "values": [
          3,
          11,
          37,
          52,
          56,
          78,
          543,
          788,
          1396
         ]
        }
       ],
       "layout": {
        "template": {
         "data": {
          "bar": [
           {
            "error_x": {
             "color": "#2a3f5f"
            },
            "error_y": {
             "color": "#2a3f5f"
            },
            "marker": {
             "line": {
              "color": "#E5ECF6",
              "width": 0.5
             },
             "pattern": {
              "fillmode": "overlay",
              "size": 10,
              "solidity": 0.2
             }
            },
            "type": "bar"
           }
          ],
          "barpolar": [
           {
            "marker": {
             "line": {
              "color": "#E5ECF6",
              "width": 0.5
             },
             "pattern": {
              "fillmode": "overlay",
              "size": 10,
              "solidity": 0.2
             }
            },
            "type": "barpolar"
           }
          ],
          "carpet": [
           {
            "aaxis": {
             "endlinecolor": "#2a3f5f",
             "gridcolor": "white",
             "linecolor": "white",
             "minorgridcolor": "white",
             "startlinecolor": "#2a3f5f"
            },
            "baxis": {
             "endlinecolor": "#2a3f5f",
             "gridcolor": "white",
             "linecolor": "white",
             "minorgridcolor": "white",
             "startlinecolor": "#2a3f5f"
            },
            "type": "carpet"
           }
          ],
          "choropleth": [
           {
            "colorbar": {
             "outlinewidth": 0,
             "ticks": ""
            },
            "type": "choropleth"
           }
          ],
          "contour": [
           {
            "colorbar": {
             "outlinewidth": 0,
             "ticks": ""
            },
            "colorscale": [
             [
              0,
              "#0d0887"
             ],
             [
              0.1111111111111111,
              "#46039f"
             ],
             [
              0.2222222222222222,
              "#7201a8"
             ],
             [
              0.3333333333333333,
              "#9c179e"
             ],
             [
              0.4444444444444444,
              "#bd3786"
             ],
             [
              0.5555555555555556,
              "#d8576b"
             ],
             [
              0.6666666666666666,
              "#ed7953"
             ],
             [
              0.7777777777777778,
              "#fb9f3a"
             ],
             [
              0.8888888888888888,
              "#fdca26"
             ],
             [
              1,
              "#f0f921"
             ]
            ],
            "type": "contour"
           }
          ],
          "contourcarpet": [
           {
            "colorbar": {
             "outlinewidth": 0,
             "ticks": ""
            },
            "type": "contourcarpet"
           }
          ],
          "heatmap": [
           {
            "colorbar": {
             "outlinewidth": 0,
             "ticks": ""
            },
            "colorscale": [
             [
              0,
              "#0d0887"
             ],
             [
              0.1111111111111111,
              "#46039f"
             ],
             [
              0.2222222222222222,
              "#7201a8"
             ],
             [
              0.3333333333333333,
              "#9c179e"
             ],
             [
              0.4444444444444444,
              "#bd3786"
             ],
             [
              0.5555555555555556,
              "#d8576b"
             ],
             [
              0.6666666666666666,
              "#ed7953"
             ],
             [
              0.7777777777777778,
              "#fb9f3a"
             ],
             [
              0.8888888888888888,
              "#fdca26"
             ],
             [
              1,
              "#f0f921"
             ]
            ],
            "type": "heatmap"
           }
          ],
          "heatmapgl": [
           {
            "colorbar": {
             "outlinewidth": 0,
             "ticks": ""
            },
            "colorscale": [
             [
              0,
              "#0d0887"
             ],
             [
              0.1111111111111111,
              "#46039f"
             ],
             [
              0.2222222222222222,
              "#7201a8"
             ],
             [
              0.3333333333333333,
              "#9c179e"
             ],
             [
              0.4444444444444444,
              "#bd3786"
             ],
             [
              0.5555555555555556,
              "#d8576b"
             ],
             [
              0.6666666666666666,
              "#ed7953"
             ],
             [
              0.7777777777777778,
              "#fb9f3a"
             ],
             [
              0.8888888888888888,
              "#fdca26"
             ],
             [
              1,
              "#f0f921"
             ]
            ],
            "type": "heatmapgl"
           }
          ],
          "histogram": [
           {
            "marker": {
             "pattern": {
              "fillmode": "overlay",
              "size": 10,
              "solidity": 0.2
             }
            },
            "type": "histogram"
           }
          ],
          "histogram2d": [
           {
            "colorbar": {
             "outlinewidth": 0,
             "ticks": ""
            },
            "colorscale": [
             [
              0,
              "#0d0887"
             ],
             [
              0.1111111111111111,
              "#46039f"
             ],
             [
              0.2222222222222222,
              "#7201a8"
             ],
             [
              0.3333333333333333,
              "#9c179e"
             ],
             [
              0.4444444444444444,
              "#bd3786"
             ],
             [
              0.5555555555555556,
              "#d8576b"
             ],
             [
              0.6666666666666666,
              "#ed7953"
             ],
             [
              0.7777777777777778,
              "#fb9f3a"
             ],
             [
              0.8888888888888888,
              "#fdca26"
             ],
             [
              1,
              "#f0f921"
             ]
            ],
            "type": "histogram2d"
           }
          ],
          "histogram2dcontour": [
           {
            "colorbar": {
             "outlinewidth": 0,
             "ticks": ""
            },
            "colorscale": [
             [
              0,
              "#0d0887"
             ],
             [
              0.1111111111111111,
              "#46039f"
             ],
             [
              0.2222222222222222,
              "#7201a8"
             ],
             [
              0.3333333333333333,
              "#9c179e"
             ],
             [
              0.4444444444444444,
              "#bd3786"
             ],
             [
              0.5555555555555556,
              "#d8576b"
             ],
             [
              0.6666666666666666,
              "#ed7953"
             ],
             [
              0.7777777777777778,
              "#fb9f3a"
             ],
             [
              0.8888888888888888,
              "#fdca26"
             ],
             [
              1,
              "#f0f921"
             ]
            ],
            "type": "histogram2dcontour"
           }
          ],
          "mesh3d": [
           {
            "colorbar": {
             "outlinewidth": 0,
             "ticks": ""
            },
            "type": "mesh3d"
           }
          ],
          "parcoords": [
           {
            "line": {
             "colorbar": {
              "outlinewidth": 0,
              "ticks": ""
             }
            },
            "type": "parcoords"
           }
          ],
          "pie": [
           {
            "automargin": true,
            "type": "pie"
           }
          ],
          "scatter": [
           {
            "marker": {
             "colorbar": {
              "outlinewidth": 0,
              "ticks": ""
             }
            },
            "type": "scatter"
           }
          ],
          "scatter3d": [
           {
            "line": {
             "colorbar": {
              "outlinewidth": 0,
              "ticks": ""
             }
            },
            "marker": {
             "colorbar": {
              "outlinewidth": 0,
              "ticks": ""
             }
            },
            "type": "scatter3d"
           }
          ],
          "scattercarpet": [
           {
            "marker": {
             "colorbar": {
              "outlinewidth": 0,
              "ticks": ""
             }
            },
            "type": "scattercarpet"
           }
          ],
          "scattergeo": [
           {
            "marker": {
             "colorbar": {
              "outlinewidth": 0,
              "ticks": ""
             }
            },
            "type": "scattergeo"
           }
          ],
          "scattergl": [
           {
            "marker": {
             "colorbar": {
              "outlinewidth": 0,
              "ticks": ""
             }
            },
            "type": "scattergl"
           }
          ],
          "scattermapbox": [
           {
            "marker": {
             "colorbar": {
              "outlinewidth": 0,
              "ticks": ""
             }
            },
            "type": "scattermapbox"
           }
          ],
          "scatterpolar": [
           {
            "marker": {
             "colorbar": {
              "outlinewidth": 0,
              "ticks": ""
             }
            },
            "type": "scatterpolar"
           }
          ],
          "scatterpolargl": [
           {
            "marker": {
             "colorbar": {
              "outlinewidth": 0,
              "ticks": ""
             }
            },
            "type": "scatterpolargl"
           }
          ],
          "scatterternary": [
           {
            "marker": {
             "colorbar": {
              "outlinewidth": 0,
              "ticks": ""
             }
            },
            "type": "scatterternary"
           }
          ],
          "surface": [
           {
            "colorbar": {
             "outlinewidth": 0,
             "ticks": ""
            },
            "colorscale": [
             [
              0,
              "#0d0887"
             ],
             [
              0.1111111111111111,
              "#46039f"
             ],
             [
              0.2222222222222222,
              "#7201a8"
             ],
             [
              0.3333333333333333,
              "#9c179e"
             ],
             [
              0.4444444444444444,
              "#bd3786"
             ],
             [
              0.5555555555555556,
              "#d8576b"
             ],
             [
              0.6666666666666666,
              "#ed7953"
             ],
             [
              0.7777777777777778,
              "#fb9f3a"
             ],
             [
              0.8888888888888888,
              "#fdca26"
             ],
             [
              1,
              "#f0f921"
             ]
            ],
            "type": "surface"
           }
          ],
          "table": [
           {
            "cells": {
             "fill": {
              "color": "#EBF0F8"
             },
             "line": {
              "color": "white"
             }
            },
            "header": {
             "fill": {
              "color": "#C8D4E3"
             },
             "line": {
              "color": "white"
             }
            },
            "type": "table"
           }
          ]
         },
         "layout": {
          "annotationdefaults": {
           "arrowcolor": "#2a3f5f",
           "arrowhead": 0,
           "arrowwidth": 1
          },
          "autotypenumbers": "strict",
          "coloraxis": {
           "colorbar": {
            "outlinewidth": 0,
            "ticks": ""
           }
          },
          "colorscale": {
           "diverging": [
            [
             0,
             "#8e0152"
            ],
            [
             0.1,
             "#c51b7d"
            ],
            [
             0.2,
             "#de77ae"
            ],
            [
             0.3,
             "#f1b6da"
            ],
            [
             0.4,
             "#fde0ef"
            ],
            [
             0.5,
             "#f7f7f7"
            ],
            [
             0.6,
             "#e6f5d0"
            ],
            [
             0.7,
             "#b8e186"
            ],
            [
             0.8,
             "#7fbc41"
            ],
            [
             0.9,
             "#4d9221"
            ],
            [
             1,
             "#276419"
            ]
           ],
           "sequential": [
            [
             0,
             "#0d0887"
            ],
            [
             0.1111111111111111,
             "#46039f"
            ],
            [
             0.2222222222222222,
             "#7201a8"
            ],
            [
             0.3333333333333333,
             "#9c179e"
            ],
            [
             0.4444444444444444,
             "#bd3786"
            ],
            [
             0.5555555555555556,
             "#d8576b"
            ],
            [
             0.6666666666666666,
             "#ed7953"
            ],
            [
             0.7777777777777778,
             "#fb9f3a"
            ],
            [
             0.8888888888888888,
             "#fdca26"
            ],
            [
             1,
             "#f0f921"
            ]
           ],
           "sequentialminus": [
            [
             0,
             "#0d0887"
            ],
            [
             0.1111111111111111,
             "#46039f"
            ],
            [
             0.2222222222222222,
             "#7201a8"
            ],
            [
             0.3333333333333333,
             "#9c179e"
            ],
            [
             0.4444444444444444,
             "#bd3786"
            ],
            [
             0.5555555555555556,
             "#d8576b"
            ],
            [
             0.6666666666666666,
             "#ed7953"
            ],
            [
             0.7777777777777778,
             "#fb9f3a"
            ],
            [
             0.8888888888888888,
             "#fdca26"
            ],
            [
             1,
             "#f0f921"
            ]
           ]
          },
          "colorway": [
           "#636efa",
           "#EF553B",
           "#00cc96",
           "#ab63fa",
           "#FFA15A",
           "#19d3f3",
           "#FF6692",
           "#B6E880",
           "#FF97FF",
           "#FECB52"
          ],
          "font": {
           "color": "#2a3f5f"
          },
          "geo": {
           "bgcolor": "white",
           "lakecolor": "white",
           "landcolor": "#E5ECF6",
           "showlakes": true,
           "showland": true,
           "subunitcolor": "white"
          },
          "hoverlabel": {
           "align": "left"
          },
          "hovermode": "closest",
          "mapbox": {
           "style": "light"
          },
          "paper_bgcolor": "white",
          "plot_bgcolor": "#E5ECF6",
          "polar": {
           "angularaxis": {
            "gridcolor": "white",
            "linecolor": "white",
            "ticks": ""
           },
           "bgcolor": "#E5ECF6",
           "radialaxis": {
            "gridcolor": "white",
            "linecolor": "white",
            "ticks": ""
           }
          },
          "scene": {
           "xaxis": {
            "backgroundcolor": "#E5ECF6",
            "gridcolor": "white",
            "gridwidth": 2,
            "linecolor": "white",
            "showbackground": true,
            "ticks": "",
            "zerolinecolor": "white"
           },
           "yaxis": {
            "backgroundcolor": "#E5ECF6",
            "gridcolor": "white",
            "gridwidth": 2,
            "linecolor": "white",
            "showbackground": true,
            "ticks": "",
            "zerolinecolor": "white"
           },
           "zaxis": {
            "backgroundcolor": "#E5ECF6",
            "gridcolor": "white",
            "gridwidth": 2,
            "linecolor": "white",
            "showbackground": true,
            "ticks": "",
            "zerolinecolor": "white"
           }
          },
          "shapedefaults": {
           "line": {
            "color": "#2a3f5f"
           }
          },
          "ternary": {
           "aaxis": {
            "gridcolor": "white",
            "linecolor": "white",
            "ticks": ""
           },
           "baxis": {
            "gridcolor": "white",
            "linecolor": "white",
            "ticks": ""
           },
           "bgcolor": "#E5ECF6",
           "caxis": {
            "gridcolor": "white",
            "linecolor": "white",
            "ticks": ""
           }
          },
          "title": {
           "x": 0.05
          },
          "xaxis": {
           "automargin": true,
           "gridcolor": "white",
           "linecolor": "white",
           "ticks": "",
           "title": {
            "standoff": 15
           },
           "zerolinecolor": "white",
           "zerolinewidth": 2
          },
          "yaxis": {
           "automargin": true,
           "gridcolor": "white",
           "linecolor": "white",
           "ticks": "",
           "title": {
            "standoff": 15
           },
           "zerolinecolor": "white",
           "zerolinewidth": 2
          }
         }
        }
       }
      },
      "text/html": [
       "<div>                            <div id=\"5a4b9e7e-e035-41e3-9697-8cfbfab47160\" class=\"plotly-graph-div\" style=\"height:525px; width:100%;\"></div>            <script type=\"text/javascript\">                require([\"plotly\"], function(Plotly) {                    window.PLOTLYENV=window.PLOTLYENV || {};                                    if (document.getElementById(\"5a4b9e7e-e035-41e3-9697-8cfbfab47160\")) {                    Plotly.newPlot(                        \"5a4b9e7e-e035-41e3-9697-8cfbfab47160\",                        [{\"labels\":[\"\\u0441\\u0442\\u043e\\u043b\\u043e\\u0432\\u0430\\u044f\",\"\\u0431\\u0443\\u0444\\u0435\\u0442\",\"\\u0431\\u0430\\u0440\",\"\\u043a\\u0430\\u0444\\u0435\\u0442\\u0435\\u0440\\u0438\\u0439\",\"\\u0437\\u0430\\u043a\\u0443\\u0441\\u043e\\u0447\\u043d\\u0430\\u044f\",\"\\u043c\\u0430\\u0433\\u0430\\u0437\\u0438\\u043d (\\u043e\\u0442\\u0434\\u0435\\u043b \\u043a\\u0443\\u043b\\u0438\\u043d\\u0430\\u0440\\u0438\\u0438)\",\"\\u0440\\u0435\\u0441\\u0442\\u043e\\u0440\\u0430\\u043d\",\"\\u043f\\u0440\\u0435\\u0434\\u043f\\u0440\\u0438\\u044f\\u0442\\u0438\\u0435 \\u0431\\u044b\\u0441\\u0442\\u0440\\u043e\\u0433\\u043e \\u043e\\u0431\\u0441\\u043b\\u0443\\u0436\\u0438\\u0432\\u0430\\u043d\\u0438\\u044f\",\"\\u043a\\u0430\\u0444\\u0435\"],\"textposition\":\"outside\",\"title\":{\"text\":\"\\u0422\\u0438\\u043f\\u044b \\u0441\\u0435\\u0442\\u0435\\u0432\\u044b\\u0445 \\u0437\\u0430\\u0432\\u0435\\u0434\\u0435\\u043d\\u0438\\u0439\"},\"values\":[3,11,37,52,56,78,543,788,1396],\"type\":\"pie\"}],                        {\"template\":{\"data\":{\"bar\":[{\"error_x\":{\"color\":\"#2a3f5f\"},\"error_y\":{\"color\":\"#2a3f5f\"},\"marker\":{\"line\":{\"color\":\"#E5ECF6\",\"width\":0.5},\"pattern\":{\"fillmode\":\"overlay\",\"size\":10,\"solidity\":0.2}},\"type\":\"bar\"}],\"barpolar\":[{\"marker\":{\"line\":{\"color\":\"#E5ECF6\",\"width\":0.5},\"pattern\":{\"fillmode\":\"overlay\",\"size\":10,\"solidity\":0.2}},\"type\":\"barpolar\"}],\"carpet\":[{\"aaxis\":{\"endlinecolor\":\"#2a3f5f\",\"gridcolor\":\"white\",\"linecolor\":\"white\",\"minorgridcolor\":\"white\",\"startlinecolor\":\"#2a3f5f\"},\"baxis\":{\"endlinecolor\":\"#2a3f5f\",\"gridcolor\":\"white\",\"linecolor\":\"white\",\"minorgridcolor\":\"white\",\"startlinecolor\":\"#2a3f5f\"},\"type\":\"carpet\"}],\"choropleth\":[{\"colorbar\":{\"outlinewidth\":0,\"ticks\":\"\"},\"type\":\"choropleth\"}],\"contour\":[{\"colorbar\":{\"outlinewidth\":0,\"ticks\":\"\"},\"colorscale\":[[0.0,\"#0d0887\"],[0.1111111111111111,\"#46039f\"],[0.2222222222222222,\"#7201a8\"],[0.3333333333333333,\"#9c179e\"],[0.4444444444444444,\"#bd3786\"],[0.5555555555555556,\"#d8576b\"],[0.6666666666666666,\"#ed7953\"],[0.7777777777777778,\"#fb9f3a\"],[0.8888888888888888,\"#fdca26\"],[1.0,\"#f0f921\"]],\"type\":\"contour\"}],\"contourcarpet\":[{\"colorbar\":{\"outlinewidth\":0,\"ticks\":\"\"},\"type\":\"contourcarpet\"}],\"heatmap\":[{\"colorbar\":{\"outlinewidth\":0,\"ticks\":\"\"},\"colorscale\":[[0.0,\"#0d0887\"],[0.1111111111111111,\"#46039f\"],[0.2222222222222222,\"#7201a8\"],[0.3333333333333333,\"#9c179e\"],[0.4444444444444444,\"#bd3786\"],[0.5555555555555556,\"#d8576b\"],[0.6666666666666666,\"#ed7953\"],[0.7777777777777778,\"#fb9f3a\"],[0.8888888888888888,\"#fdca26\"],[1.0,\"#f0f921\"]],\"type\":\"heatmap\"}],\"heatmapgl\":[{\"colorbar\":{\"outlinewidth\":0,\"ticks\":\"\"},\"colorscale\":[[0.0,\"#0d0887\"],[0.1111111111111111,\"#46039f\"],[0.2222222222222222,\"#7201a8\"],[0.3333333333333333,\"#9c179e\"],[0.4444444444444444,\"#bd3786\"],[0.5555555555555556,\"#d8576b\"],[0.6666666666666666,\"#ed7953\"],[0.7777777777777778,\"#fb9f3a\"],[0.8888888888888888,\"#fdca26\"],[1.0,\"#f0f921\"]],\"type\":\"heatmapgl\"}],\"histogram\":[{\"marker\":{\"pattern\":{\"fillmode\":\"overlay\",\"size\":10,\"solidity\":0.2}},\"type\":\"histogram\"}],\"histogram2d\":[{\"colorbar\":{\"outlinewidth\":0,\"ticks\":\"\"},\"colorscale\":[[0.0,\"#0d0887\"],[0.1111111111111111,\"#46039f\"],[0.2222222222222222,\"#7201a8\"],[0.3333333333333333,\"#9c179e\"],[0.4444444444444444,\"#bd3786\"],[0.5555555555555556,\"#d8576b\"],[0.6666666666666666,\"#ed7953\"],[0.7777777777777778,\"#fb9f3a\"],[0.8888888888888888,\"#fdca26\"],[1.0,\"#f0f921\"]],\"type\":\"histogram2d\"}],\"histogram2dcontour\":[{\"colorbar\":{\"outlinewidth\":0,\"ticks\":\"\"},\"colorscale\":[[0.0,\"#0d0887\"],[0.1111111111111111,\"#46039f\"],[0.2222222222222222,\"#7201a8\"],[0.3333333333333333,\"#9c179e\"],[0.4444444444444444,\"#bd3786\"],[0.5555555555555556,\"#d8576b\"],[0.6666666666666666,\"#ed7953\"],[0.7777777777777778,\"#fb9f3a\"],[0.8888888888888888,\"#fdca26\"],[1.0,\"#f0f921\"]],\"type\":\"histogram2dcontour\"}],\"mesh3d\":[{\"colorbar\":{\"outlinewidth\":0,\"ticks\":\"\"},\"type\":\"mesh3d\"}],\"parcoords\":[{\"line\":{\"colorbar\":{\"outlinewidth\":0,\"ticks\":\"\"}},\"type\":\"parcoords\"}],\"pie\":[{\"automargin\":true,\"type\":\"pie\"}],\"scatter\":[{\"marker\":{\"colorbar\":{\"outlinewidth\":0,\"ticks\":\"\"}},\"type\":\"scatter\"}],\"scatter3d\":[{\"line\":{\"colorbar\":{\"outlinewidth\":0,\"ticks\":\"\"}},\"marker\":{\"colorbar\":{\"outlinewidth\":0,\"ticks\":\"\"}},\"type\":\"scatter3d\"}],\"scattercarpet\":[{\"marker\":{\"colorbar\":{\"outlinewidth\":0,\"ticks\":\"\"}},\"type\":\"scattercarpet\"}],\"scattergeo\":[{\"marker\":{\"colorbar\":{\"outlinewidth\":0,\"ticks\":\"\"}},\"type\":\"scattergeo\"}],\"scattergl\":[{\"marker\":{\"colorbar\":{\"outlinewidth\":0,\"ticks\":\"\"}},\"type\":\"scattergl\"}],\"scattermapbox\":[{\"marker\":{\"colorbar\":{\"outlinewidth\":0,\"ticks\":\"\"}},\"type\":\"scattermapbox\"}],\"scatterpolar\":[{\"marker\":{\"colorbar\":{\"outlinewidth\":0,\"ticks\":\"\"}},\"type\":\"scatterpolar\"}],\"scatterpolargl\":[{\"marker\":{\"colorbar\":{\"outlinewidth\":0,\"ticks\":\"\"}},\"type\":\"scatterpolargl\"}],\"scatterternary\":[{\"marker\":{\"colorbar\":{\"outlinewidth\":0,\"ticks\":\"\"}},\"type\":\"scatterternary\"}],\"surface\":[{\"colorbar\":{\"outlinewidth\":0,\"ticks\":\"\"},\"colorscale\":[[0.0,\"#0d0887\"],[0.1111111111111111,\"#46039f\"],[0.2222222222222222,\"#7201a8\"],[0.3333333333333333,\"#9c179e\"],[0.4444444444444444,\"#bd3786\"],[0.5555555555555556,\"#d8576b\"],[0.6666666666666666,\"#ed7953\"],[0.7777777777777778,\"#fb9f3a\"],[0.8888888888888888,\"#fdca26\"],[1.0,\"#f0f921\"]],\"type\":\"surface\"}],\"table\":[{\"cells\":{\"fill\":{\"color\":\"#EBF0F8\"},\"line\":{\"color\":\"white\"}},\"header\":{\"fill\":{\"color\":\"#C8D4E3\"},\"line\":{\"color\":\"white\"}},\"type\":\"table\"}]},\"layout\":{\"annotationdefaults\":{\"arrowcolor\":\"#2a3f5f\",\"arrowhead\":0,\"arrowwidth\":1},\"autotypenumbers\":\"strict\",\"coloraxis\":{\"colorbar\":{\"outlinewidth\":0,\"ticks\":\"\"}},\"colorscale\":{\"diverging\":[[0,\"#8e0152\"],[0.1,\"#c51b7d\"],[0.2,\"#de77ae\"],[0.3,\"#f1b6da\"],[0.4,\"#fde0ef\"],[0.5,\"#f7f7f7\"],[0.6,\"#e6f5d0\"],[0.7,\"#b8e186\"],[0.8,\"#7fbc41\"],[0.9,\"#4d9221\"],[1,\"#276419\"]],\"sequential\":[[0.0,\"#0d0887\"],[0.1111111111111111,\"#46039f\"],[0.2222222222222222,\"#7201a8\"],[0.3333333333333333,\"#9c179e\"],[0.4444444444444444,\"#bd3786\"],[0.5555555555555556,\"#d8576b\"],[0.6666666666666666,\"#ed7953\"],[0.7777777777777778,\"#fb9f3a\"],[0.8888888888888888,\"#fdca26\"],[1.0,\"#f0f921\"]],\"sequentialminus\":[[0.0,\"#0d0887\"],[0.1111111111111111,\"#46039f\"],[0.2222222222222222,\"#7201a8\"],[0.3333333333333333,\"#9c179e\"],[0.4444444444444444,\"#bd3786\"],[0.5555555555555556,\"#d8576b\"],[0.6666666666666666,\"#ed7953\"],[0.7777777777777778,\"#fb9f3a\"],[0.8888888888888888,\"#fdca26\"],[1.0,\"#f0f921\"]]},\"colorway\":[\"#636efa\",\"#EF553B\",\"#00cc96\",\"#ab63fa\",\"#FFA15A\",\"#19d3f3\",\"#FF6692\",\"#B6E880\",\"#FF97FF\",\"#FECB52\"],\"font\":{\"color\":\"#2a3f5f\"},\"geo\":{\"bgcolor\":\"white\",\"lakecolor\":\"white\",\"landcolor\":\"#E5ECF6\",\"showlakes\":true,\"showland\":true,\"subunitcolor\":\"white\"},\"hoverlabel\":{\"align\":\"left\"},\"hovermode\":\"closest\",\"mapbox\":{\"style\":\"light\"},\"paper_bgcolor\":\"white\",\"plot_bgcolor\":\"#E5ECF6\",\"polar\":{\"angularaxis\":{\"gridcolor\":\"white\",\"linecolor\":\"white\",\"ticks\":\"\"},\"bgcolor\":\"#E5ECF6\",\"radialaxis\":{\"gridcolor\":\"white\",\"linecolor\":\"white\",\"ticks\":\"\"}},\"scene\":{\"xaxis\":{\"backgroundcolor\":\"#E5ECF6\",\"gridcolor\":\"white\",\"gridwidth\":2,\"linecolor\":\"white\",\"showbackground\":true,\"ticks\":\"\",\"zerolinecolor\":\"white\"},\"yaxis\":{\"backgroundcolor\":\"#E5ECF6\",\"gridcolor\":\"white\",\"gridwidth\":2,\"linecolor\":\"white\",\"showbackground\":true,\"ticks\":\"\",\"zerolinecolor\":\"white\"},\"zaxis\":{\"backgroundcolor\":\"#E5ECF6\",\"gridcolor\":\"white\",\"gridwidth\":2,\"linecolor\":\"white\",\"showbackground\":true,\"ticks\":\"\",\"zerolinecolor\":\"white\"}},\"shapedefaults\":{\"line\":{\"color\":\"#2a3f5f\"}},\"ternary\":{\"aaxis\":{\"gridcolor\":\"white\",\"linecolor\":\"white\",\"ticks\":\"\"},\"baxis\":{\"gridcolor\":\"white\",\"linecolor\":\"white\",\"ticks\":\"\"},\"bgcolor\":\"#E5ECF6\",\"caxis\":{\"gridcolor\":\"white\",\"linecolor\":\"white\",\"ticks\":\"\"}},\"title\":{\"x\":0.05},\"xaxis\":{\"automargin\":true,\"gridcolor\":\"white\",\"linecolor\":\"white\",\"ticks\":\"\",\"title\":{\"standoff\":15},\"zerolinecolor\":\"white\",\"zerolinewidth\":2},\"yaxis\":{\"automargin\":true,\"gridcolor\":\"white\",\"linecolor\":\"white\",\"ticks\":\"\",\"title\":{\"standoff\":15},\"zerolinecolor\":\"white\",\"zerolinewidth\":2}}}},                        {\"responsive\": true}                    ).then(function(){\n",
       "                            \n",
       "var gd = document.getElementById('5a4b9e7e-e035-41e3-9697-8cfbfab47160');\n",
       "var x = new MutationObserver(function (mutations, observer) {{\n",
       "        var display = window.getComputedStyle(gd).display;\n",
       "        if (!display || display === 'none') {{\n",
       "            console.log([gd, 'removed!']);\n",
       "            Plotly.purge(gd);\n",
       "            observer.disconnect();\n",
       "        }}\n",
       "}});\n",
       "\n",
       "// Listen for the removal of the full notebook cells\n",
       "var notebookContainer = gd.closest('#notebook-container');\n",
       "if (notebookContainer) {{\n",
       "    x.observe(notebookContainer, {childList: true});\n",
       "}}\n",
       "\n",
       "// Listen for the clearing of the current output cell\n",
       "var outputEl = gd.closest('.output');\n",
       "if (outputEl) {{\n",
       "    x.observe(outputEl, {childList: true});\n",
       "}}\n",
       "\n",
       "                        })                };                });            </script>        </div>"
      ]
     },
     "metadata": {},
     "output_type": "display_data"
    }
   ],
   "source": [
    "fig = go.Figure(data = [go.Pie(labels = chain_cafes['object_type'], values = chain_cafes['id'], \n",
    "title = 'Типы сетевых заведений', textposition='outside')])\n",
    "fig.show()"
   ]
  },
  {
   "cell_type": "code",
   "execution_count": 32,
   "metadata": {},
   "outputs": [
    {
     "data": {
      "text/html": [
       "<div>\n",
       "<style scoped>\n",
       "    .dataframe tbody tr th:only-of-type {\n",
       "        vertical-align: middle;\n",
       "    }\n",
       "\n",
       "    .dataframe tbody tr th {\n",
       "        vertical-align: top;\n",
       "    }\n",
       "\n",
       "    .dataframe thead th {\n",
       "        text-align: right;\n",
       "    }\n",
       "</style>\n",
       "<table border=\"1\" class=\"dataframe\">\n",
       "  <thead>\n",
       "    <tr style=\"text-align: right;\">\n",
       "      <th>chain</th>\n",
       "      <th>object_type</th>\n",
       "      <th>да</th>\n",
       "      <th>нет</th>\n",
       "      <th>всего</th>\n",
       "      <th>процент</th>\n",
       "    </tr>\n",
       "  </thead>\n",
       "  <tbody>\n",
       "    <tr>\n",
       "      <th>6</th>\n",
       "      <td>предприятие быстрого обслуживания</td>\n",
       "      <td>788</td>\n",
       "      <td>1109</td>\n",
       "      <td>1897</td>\n",
       "      <td>42.0</td>\n",
       "    </tr>\n",
       "    <tr>\n",
       "      <th>5</th>\n",
       "      <td>магазин (отдел кулинарии)</td>\n",
       "      <td>78</td>\n",
       "      <td>195</td>\n",
       "      <td>273</td>\n",
       "      <td>29.0</td>\n",
       "    </tr>\n",
       "    <tr>\n",
       "      <th>7</th>\n",
       "      <td>ресторан</td>\n",
       "      <td>543</td>\n",
       "      <td>1739</td>\n",
       "      <td>2282</td>\n",
       "      <td>24.0</td>\n",
       "    </tr>\n",
       "    <tr>\n",
       "      <th>3</th>\n",
       "      <td>кафе</td>\n",
       "      <td>1396</td>\n",
       "      <td>4675</td>\n",
       "      <td>6071</td>\n",
       "      <td>23.0</td>\n",
       "    </tr>\n",
       "    <tr>\n",
       "      <th>2</th>\n",
       "      <td>закусочная</td>\n",
       "      <td>56</td>\n",
       "      <td>292</td>\n",
       "      <td>348</td>\n",
       "      <td>16.0</td>\n",
       "    </tr>\n",
       "    <tr>\n",
       "      <th>4</th>\n",
       "      <td>кафетерий</td>\n",
       "      <td>52</td>\n",
       "      <td>343</td>\n",
       "      <td>395</td>\n",
       "      <td>13.0</td>\n",
       "    </tr>\n",
       "    <tr>\n",
       "      <th>0</th>\n",
       "      <td>бар</td>\n",
       "      <td>37</td>\n",
       "      <td>818</td>\n",
       "      <td>855</td>\n",
       "      <td>4.0</td>\n",
       "    </tr>\n",
       "    <tr>\n",
       "      <th>1</th>\n",
       "      <td>буфет</td>\n",
       "      <td>11</td>\n",
       "      <td>565</td>\n",
       "      <td>576</td>\n",
       "      <td>2.0</td>\n",
       "    </tr>\n",
       "    <tr>\n",
       "      <th>8</th>\n",
       "      <td>столовая</td>\n",
       "      <td>3</td>\n",
       "      <td>2581</td>\n",
       "      <td>2584</td>\n",
       "      <td>0.0</td>\n",
       "    </tr>\n",
       "  </tbody>\n",
       "</table>\n",
       "</div>"
      ],
      "text/plain": [
       "chain                        object_type    да   нет  всего  процент\n",
       "6      предприятие быстрого обслуживания   788  1109   1897     42.0\n",
       "5              магазин (отдел кулинарии)    78   195    273     29.0\n",
       "7                               ресторан   543  1739   2282     24.0\n",
       "3                                   кафе  1396  4675   6071     23.0\n",
       "2                             закусочная    56   292    348     16.0\n",
       "4                              кафетерий    52   343    395     13.0\n",
       "0                                    бар    37   818    855      4.0\n",
       "1                                  буфет    11   565    576      2.0\n",
       "8                               столовая     3  2581   2584      0.0"
      ]
     },
     "execution_count": 32,
     "metadata": {},
     "output_type": "execute_result"
    }
   ],
   "source": [
    "data_c = data.pivot_table(index = 'object_type', columns = 'chain', values = 'id', aggfunc = 'count').reset_index()\n",
    "data_c['всего'] = data_c['да'] + data_c['нет']\n",
    "data_c['процент'] = (data_c['да']/data_c['всего'] * 100).round()\n",
    "data_c = data_c.sort_values(by = 'процент', ascending = False)\n",
    "data_c"
   ]
  },
  {
   "cell_type": "code",
   "execution_count": 33,
   "metadata": {},
   "outputs": [
    {
     "data": {
      "application/vnd.plotly.v1+json": {
       "config": {
        "plotlyServerURL": "https://plot.ly"
       },
       "data": [
        {
         "alignmentgroup": "True",
         "hovertemplate": "object_type=%{x}<br>процент=%{y}<extra></extra>",
         "legendgroup": "предприятие быстрого обслуживания",
         "marker": {
          "color": "#636efa",
          "pattern": {
           "shape": ""
          }
         },
         "name": "предприятие быстрого обслуживания",
         "offsetgroup": "предприятие быстрого обслуживания",
         "orientation": "v",
         "showlegend": true,
         "textposition": "auto",
         "type": "bar",
         "x": [
          "предприятие быстрого обслуживания"
         ],
         "xaxis": "x",
         "y": [
          42
         ],
         "yaxis": "y"
        },
        {
         "alignmentgroup": "True",
         "hovertemplate": "object_type=%{x}<br>процент=%{y}<extra></extra>",
         "legendgroup": "магазин (отдел кулинарии)",
         "marker": {
          "color": "#EF553B",
          "pattern": {
           "shape": ""
          }
         },
         "name": "магазин (отдел кулинарии)",
         "offsetgroup": "магазин (отдел кулинарии)",
         "orientation": "v",
         "showlegend": true,
         "textposition": "auto",
         "type": "bar",
         "x": [
          "магазин (отдел кулинарии)"
         ],
         "xaxis": "x",
         "y": [
          29
         ],
         "yaxis": "y"
        },
        {
         "alignmentgroup": "True",
         "hovertemplate": "object_type=%{x}<br>процент=%{y}<extra></extra>",
         "legendgroup": "ресторан",
         "marker": {
          "color": "#00cc96",
          "pattern": {
           "shape": ""
          }
         },
         "name": "ресторан",
         "offsetgroup": "ресторан",
         "orientation": "v",
         "showlegend": true,
         "textposition": "auto",
         "type": "bar",
         "x": [
          "ресторан"
         ],
         "xaxis": "x",
         "y": [
          24
         ],
         "yaxis": "y"
        },
        {
         "alignmentgroup": "True",
         "hovertemplate": "object_type=%{x}<br>процент=%{y}<extra></extra>",
         "legendgroup": "кафе",
         "marker": {
          "color": "#ab63fa",
          "pattern": {
           "shape": ""
          }
         },
         "name": "кафе",
         "offsetgroup": "кафе",
         "orientation": "v",
         "showlegend": true,
         "textposition": "auto",
         "type": "bar",
         "x": [
          "кафе"
         ],
         "xaxis": "x",
         "y": [
          23
         ],
         "yaxis": "y"
        },
        {
         "alignmentgroup": "True",
         "hovertemplate": "object_type=%{x}<br>процент=%{y}<extra></extra>",
         "legendgroup": "закусочная",
         "marker": {
          "color": "#FFA15A",
          "pattern": {
           "shape": ""
          }
         },
         "name": "закусочная",
         "offsetgroup": "закусочная",
         "orientation": "v",
         "showlegend": true,
         "textposition": "auto",
         "type": "bar",
         "x": [
          "закусочная"
         ],
         "xaxis": "x",
         "y": [
          16
         ],
         "yaxis": "y"
        },
        {
         "alignmentgroup": "True",
         "hovertemplate": "object_type=%{x}<br>процент=%{y}<extra></extra>",
         "legendgroup": "кафетерий",
         "marker": {
          "color": "#19d3f3",
          "pattern": {
           "shape": ""
          }
         },
         "name": "кафетерий",
         "offsetgroup": "кафетерий",
         "orientation": "v",
         "showlegend": true,
         "textposition": "auto",
         "type": "bar",
         "x": [
          "кафетерий"
         ],
         "xaxis": "x",
         "y": [
          13
         ],
         "yaxis": "y"
        },
        {
         "alignmentgroup": "True",
         "hovertemplate": "object_type=%{x}<br>процент=%{y}<extra></extra>",
         "legendgroup": "бар",
         "marker": {
          "color": "#FF6692",
          "pattern": {
           "shape": ""
          }
         },
         "name": "бар",
         "offsetgroup": "бар",
         "orientation": "v",
         "showlegend": true,
         "textposition": "auto",
         "type": "bar",
         "x": [
          "бар"
         ],
         "xaxis": "x",
         "y": [
          4
         ],
         "yaxis": "y"
        },
        {
         "alignmentgroup": "True",
         "hovertemplate": "object_type=%{x}<br>процент=%{y}<extra></extra>",
         "legendgroup": "буфет",
         "marker": {
          "color": "#B6E880",
          "pattern": {
           "shape": ""
          }
         },
         "name": "буфет",
         "offsetgroup": "буфет",
         "orientation": "v",
         "showlegend": true,
         "textposition": "auto",
         "type": "bar",
         "x": [
          "буфет"
         ],
         "xaxis": "x",
         "y": [
          2
         ],
         "yaxis": "y"
        },
        {
         "alignmentgroup": "True",
         "hovertemplate": "object_type=%{x}<br>процент=%{y}<extra></extra>",
         "legendgroup": "столовая",
         "marker": {
          "color": "#FF97FF",
          "pattern": {
           "shape": ""
          }
         },
         "name": "столовая",
         "offsetgroup": "столовая",
         "orientation": "v",
         "showlegend": true,
         "textposition": "auto",
         "type": "bar",
         "x": [
          "столовая"
         ],
         "xaxis": "x",
         "y": [
          0
         ],
         "yaxis": "y"
        }
       ],
       "layout": {
        "barmode": "relative",
        "height": 550,
        "legend": {
         "title": {
          "text": "object_type"
         },
         "tracegroupgap": 0
        },
        "margin": {
         "t": 60
        },
        "template": {
         "data": {
          "bar": [
           {
            "error_x": {
             "color": "#2a3f5f"
            },
            "error_y": {
             "color": "#2a3f5f"
            },
            "marker": {
             "line": {
              "color": "#E5ECF6",
              "width": 0.5
             },
             "pattern": {
              "fillmode": "overlay",
              "size": 10,
              "solidity": 0.2
             }
            },
            "type": "bar"
           }
          ],
          "barpolar": [
           {
            "marker": {
             "line": {
              "color": "#E5ECF6",
              "width": 0.5
             },
             "pattern": {
              "fillmode": "overlay",
              "size": 10,
              "solidity": 0.2
             }
            },
            "type": "barpolar"
           }
          ],
          "carpet": [
           {
            "aaxis": {
             "endlinecolor": "#2a3f5f",
             "gridcolor": "white",
             "linecolor": "white",
             "minorgridcolor": "white",
             "startlinecolor": "#2a3f5f"
            },
            "baxis": {
             "endlinecolor": "#2a3f5f",
             "gridcolor": "white",
             "linecolor": "white",
             "minorgridcolor": "white",
             "startlinecolor": "#2a3f5f"
            },
            "type": "carpet"
           }
          ],
          "choropleth": [
           {
            "colorbar": {
             "outlinewidth": 0,
             "ticks": ""
            },
            "type": "choropleth"
           }
          ],
          "contour": [
           {
            "colorbar": {
             "outlinewidth": 0,
             "ticks": ""
            },
            "colorscale": [
             [
              0,
              "#0d0887"
             ],
             [
              0.1111111111111111,
              "#46039f"
             ],
             [
              0.2222222222222222,
              "#7201a8"
             ],
             [
              0.3333333333333333,
              "#9c179e"
             ],
             [
              0.4444444444444444,
              "#bd3786"
             ],
             [
              0.5555555555555556,
              "#d8576b"
             ],
             [
              0.6666666666666666,
              "#ed7953"
             ],
             [
              0.7777777777777778,
              "#fb9f3a"
             ],
             [
              0.8888888888888888,
              "#fdca26"
             ],
             [
              1,
              "#f0f921"
             ]
            ],
            "type": "contour"
           }
          ],
          "contourcarpet": [
           {
            "colorbar": {
             "outlinewidth": 0,
             "ticks": ""
            },
            "type": "contourcarpet"
           }
          ],
          "heatmap": [
           {
            "colorbar": {
             "outlinewidth": 0,
             "ticks": ""
            },
            "colorscale": [
             [
              0,
              "#0d0887"
             ],
             [
              0.1111111111111111,
              "#46039f"
             ],
             [
              0.2222222222222222,
              "#7201a8"
             ],
             [
              0.3333333333333333,
              "#9c179e"
             ],
             [
              0.4444444444444444,
              "#bd3786"
             ],
             [
              0.5555555555555556,
              "#d8576b"
             ],
             [
              0.6666666666666666,
              "#ed7953"
             ],
             [
              0.7777777777777778,
              "#fb9f3a"
             ],
             [
              0.8888888888888888,
              "#fdca26"
             ],
             [
              1,
              "#f0f921"
             ]
            ],
            "type": "heatmap"
           }
          ],
          "heatmapgl": [
           {
            "colorbar": {
             "outlinewidth": 0,
             "ticks": ""
            },
            "colorscale": [
             [
              0,
              "#0d0887"
             ],
             [
              0.1111111111111111,
              "#46039f"
             ],
             [
              0.2222222222222222,
              "#7201a8"
             ],
             [
              0.3333333333333333,
              "#9c179e"
             ],
             [
              0.4444444444444444,
              "#bd3786"
             ],
             [
              0.5555555555555556,
              "#d8576b"
             ],
             [
              0.6666666666666666,
              "#ed7953"
             ],
             [
              0.7777777777777778,
              "#fb9f3a"
             ],
             [
              0.8888888888888888,
              "#fdca26"
             ],
             [
              1,
              "#f0f921"
             ]
            ],
            "type": "heatmapgl"
           }
          ],
          "histogram": [
           {
            "marker": {
             "pattern": {
              "fillmode": "overlay",
              "size": 10,
              "solidity": 0.2
             }
            },
            "type": "histogram"
           }
          ],
          "histogram2d": [
           {
            "colorbar": {
             "outlinewidth": 0,
             "ticks": ""
            },
            "colorscale": [
             [
              0,
              "#0d0887"
             ],
             [
              0.1111111111111111,
              "#46039f"
             ],
             [
              0.2222222222222222,
              "#7201a8"
             ],
             [
              0.3333333333333333,
              "#9c179e"
             ],
             [
              0.4444444444444444,
              "#bd3786"
             ],
             [
              0.5555555555555556,
              "#d8576b"
             ],
             [
              0.6666666666666666,
              "#ed7953"
             ],
             [
              0.7777777777777778,
              "#fb9f3a"
             ],
             [
              0.8888888888888888,
              "#fdca26"
             ],
             [
              1,
              "#f0f921"
             ]
            ],
            "type": "histogram2d"
           }
          ],
          "histogram2dcontour": [
           {
            "colorbar": {
             "outlinewidth": 0,
             "ticks": ""
            },
            "colorscale": [
             [
              0,
              "#0d0887"
             ],
             [
              0.1111111111111111,
              "#46039f"
             ],
             [
              0.2222222222222222,
              "#7201a8"
             ],
             [
              0.3333333333333333,
              "#9c179e"
             ],
             [
              0.4444444444444444,
              "#bd3786"
             ],
             [
              0.5555555555555556,
              "#d8576b"
             ],
             [
              0.6666666666666666,
              "#ed7953"
             ],
             [
              0.7777777777777778,
              "#fb9f3a"
             ],
             [
              0.8888888888888888,
              "#fdca26"
             ],
             [
              1,
              "#f0f921"
             ]
            ],
            "type": "histogram2dcontour"
           }
          ],
          "mesh3d": [
           {
            "colorbar": {
             "outlinewidth": 0,
             "ticks": ""
            },
            "type": "mesh3d"
           }
          ],
          "parcoords": [
           {
            "line": {
             "colorbar": {
              "outlinewidth": 0,
              "ticks": ""
             }
            },
            "type": "parcoords"
           }
          ],
          "pie": [
           {
            "automargin": true,
            "type": "pie"
           }
          ],
          "scatter": [
           {
            "marker": {
             "colorbar": {
              "outlinewidth": 0,
              "ticks": ""
             }
            },
            "type": "scatter"
           }
          ],
          "scatter3d": [
           {
            "line": {
             "colorbar": {
              "outlinewidth": 0,
              "ticks": ""
             }
            },
            "marker": {
             "colorbar": {
              "outlinewidth": 0,
              "ticks": ""
             }
            },
            "type": "scatter3d"
           }
          ],
          "scattercarpet": [
           {
            "marker": {
             "colorbar": {
              "outlinewidth": 0,
              "ticks": ""
             }
            },
            "type": "scattercarpet"
           }
          ],
          "scattergeo": [
           {
            "marker": {
             "colorbar": {
              "outlinewidth": 0,
              "ticks": ""
             }
            },
            "type": "scattergeo"
           }
          ],
          "scattergl": [
           {
            "marker": {
             "colorbar": {
              "outlinewidth": 0,
              "ticks": ""
             }
            },
            "type": "scattergl"
           }
          ],
          "scattermapbox": [
           {
            "marker": {
             "colorbar": {
              "outlinewidth": 0,
              "ticks": ""
             }
            },
            "type": "scattermapbox"
           }
          ],
          "scatterpolar": [
           {
            "marker": {
             "colorbar": {
              "outlinewidth": 0,
              "ticks": ""
             }
            },
            "type": "scatterpolar"
           }
          ],
          "scatterpolargl": [
           {
            "marker": {
             "colorbar": {
              "outlinewidth": 0,
              "ticks": ""
             }
            },
            "type": "scatterpolargl"
           }
          ],
          "scatterternary": [
           {
            "marker": {
             "colorbar": {
              "outlinewidth": 0,
              "ticks": ""
             }
            },
            "type": "scatterternary"
           }
          ],
          "surface": [
           {
            "colorbar": {
             "outlinewidth": 0,
             "ticks": ""
            },
            "colorscale": [
             [
              0,
              "#0d0887"
             ],
             [
              0.1111111111111111,
              "#46039f"
             ],
             [
              0.2222222222222222,
              "#7201a8"
             ],
             [
              0.3333333333333333,
              "#9c179e"
             ],
             [
              0.4444444444444444,
              "#bd3786"
             ],
             [
              0.5555555555555556,
              "#d8576b"
             ],
             [
              0.6666666666666666,
              "#ed7953"
             ],
             [
              0.7777777777777778,
              "#fb9f3a"
             ],
             [
              0.8888888888888888,
              "#fdca26"
             ],
             [
              1,
              "#f0f921"
             ]
            ],
            "type": "surface"
           }
          ],
          "table": [
           {
            "cells": {
             "fill": {
              "color": "#EBF0F8"
             },
             "line": {
              "color": "white"
             }
            },
            "header": {
             "fill": {
              "color": "#C8D4E3"
             },
             "line": {
              "color": "white"
             }
            },
            "type": "table"
           }
          ]
         },
         "layout": {
          "annotationdefaults": {
           "arrowcolor": "#2a3f5f",
           "arrowhead": 0,
           "arrowwidth": 1
          },
          "autotypenumbers": "strict",
          "coloraxis": {
           "colorbar": {
            "outlinewidth": 0,
            "ticks": ""
           }
          },
          "colorscale": {
           "diverging": [
            [
             0,
             "#8e0152"
            ],
            [
             0.1,
             "#c51b7d"
            ],
            [
             0.2,
             "#de77ae"
            ],
            [
             0.3,
             "#f1b6da"
            ],
            [
             0.4,
             "#fde0ef"
            ],
            [
             0.5,
             "#f7f7f7"
            ],
            [
             0.6,
             "#e6f5d0"
            ],
            [
             0.7,
             "#b8e186"
            ],
            [
             0.8,
             "#7fbc41"
            ],
            [
             0.9,
             "#4d9221"
            ],
            [
             1,
             "#276419"
            ]
           ],
           "sequential": [
            [
             0,
             "#0d0887"
            ],
            [
             0.1111111111111111,
             "#46039f"
            ],
            [
             0.2222222222222222,
             "#7201a8"
            ],
            [
             0.3333333333333333,
             "#9c179e"
            ],
            [
             0.4444444444444444,
             "#bd3786"
            ],
            [
             0.5555555555555556,
             "#d8576b"
            ],
            [
             0.6666666666666666,
             "#ed7953"
            ],
            [
             0.7777777777777778,
             "#fb9f3a"
            ],
            [
             0.8888888888888888,
             "#fdca26"
            ],
            [
             1,
             "#f0f921"
            ]
           ],
           "sequentialminus": [
            [
             0,
             "#0d0887"
            ],
            [
             0.1111111111111111,
             "#46039f"
            ],
            [
             0.2222222222222222,
             "#7201a8"
            ],
            [
             0.3333333333333333,
             "#9c179e"
            ],
            [
             0.4444444444444444,
             "#bd3786"
            ],
            [
             0.5555555555555556,
             "#d8576b"
            ],
            [
             0.6666666666666666,
             "#ed7953"
            ],
            [
             0.7777777777777778,
             "#fb9f3a"
            ],
            [
             0.8888888888888888,
             "#fdca26"
            ],
            [
             1,
             "#f0f921"
            ]
           ]
          },
          "colorway": [
           "#636efa",
           "#EF553B",
           "#00cc96",
           "#ab63fa",
           "#FFA15A",
           "#19d3f3",
           "#FF6692",
           "#B6E880",
           "#FF97FF",
           "#FECB52"
          ],
          "font": {
           "color": "#2a3f5f"
          },
          "geo": {
           "bgcolor": "white",
           "lakecolor": "white",
           "landcolor": "#E5ECF6",
           "showlakes": true,
           "showland": true,
           "subunitcolor": "white"
          },
          "hoverlabel": {
           "align": "left"
          },
          "hovermode": "closest",
          "mapbox": {
           "style": "light"
          },
          "paper_bgcolor": "white",
          "plot_bgcolor": "#E5ECF6",
          "polar": {
           "angularaxis": {
            "gridcolor": "white",
            "linecolor": "white",
            "ticks": ""
           },
           "bgcolor": "#E5ECF6",
           "radialaxis": {
            "gridcolor": "white",
            "linecolor": "white",
            "ticks": ""
           }
          },
          "scene": {
           "xaxis": {
            "backgroundcolor": "#E5ECF6",
            "gridcolor": "white",
            "gridwidth": 2,
            "linecolor": "white",
            "showbackground": true,
            "ticks": "",
            "zerolinecolor": "white"
           },
           "yaxis": {
            "backgroundcolor": "#E5ECF6",
            "gridcolor": "white",
            "gridwidth": 2,
            "linecolor": "white",
            "showbackground": true,
            "ticks": "",
            "zerolinecolor": "white"
           },
           "zaxis": {
            "backgroundcolor": "#E5ECF6",
            "gridcolor": "white",
            "gridwidth": 2,
            "linecolor": "white",
            "showbackground": true,
            "ticks": "",
            "zerolinecolor": "white"
           }
          },
          "shapedefaults": {
           "line": {
            "color": "#2a3f5f"
           }
          },
          "ternary": {
           "aaxis": {
            "gridcolor": "white",
            "linecolor": "white",
            "ticks": ""
           },
           "baxis": {
            "gridcolor": "white",
            "linecolor": "white",
            "ticks": ""
           },
           "bgcolor": "#E5ECF6",
           "caxis": {
            "gridcolor": "white",
            "linecolor": "white",
            "ticks": ""
           }
          },
          "title": {
           "x": 0.05
          },
          "xaxis": {
           "automargin": true,
           "gridcolor": "white",
           "linecolor": "white",
           "ticks": "",
           "title": {
            "standoff": 15
           },
           "zerolinecolor": "white",
           "zerolinewidth": 2
          },
          "yaxis": {
           "automargin": true,
           "gridcolor": "white",
           "linecolor": "white",
           "ticks": "",
           "title": {
            "standoff": 15
           },
           "zerolinecolor": "white",
           "zerolinewidth": 2
          }
         }
        },
        "title": {
         "text": "Доля сетевых заведений от всех объектов общественного питания (по типам)"
        },
        "width": 1000,
        "xaxis": {
         "anchor": "y",
         "categoryarray": [
          "предприятие быстрого обслуживания",
          "магазин (отдел кулинарии)",
          "ресторан",
          "кафе",
          "закусочная",
          "кафетерий",
          "бар",
          "буфет",
          "столовая"
         ],
         "categoryorder": "array",
         "domain": [
          0,
          1
         ],
         "tickangle": 45,
         "title": {
          "text": "Тип объекта"
         }
        },
        "yaxis": {
         "anchor": "x",
         "domain": [
          0,
          1
         ],
         "title": {
          "text": "% заведений"
         }
        }
       }
      },
      "text/html": [
       "<div>                            <div id=\"63e5f8a3-e32c-4b96-9693-dfddadc9287b\" class=\"plotly-graph-div\" style=\"height:550px; width:1000px;\"></div>            <script type=\"text/javascript\">                require([\"plotly\"], function(Plotly) {                    window.PLOTLYENV=window.PLOTLYENV || {};                                    if (document.getElementById(\"63e5f8a3-e32c-4b96-9693-dfddadc9287b\")) {                    Plotly.newPlot(                        \"63e5f8a3-e32c-4b96-9693-dfddadc9287b\",                        [{\"alignmentgroup\":\"True\",\"hovertemplate\":\"object_type=%{x}<br>\\u043f\\u0440\\u043e\\u0446\\u0435\\u043d\\u0442=%{y}<extra></extra>\",\"legendgroup\":\"\\u043f\\u0440\\u0435\\u0434\\u043f\\u0440\\u0438\\u044f\\u0442\\u0438\\u0435 \\u0431\\u044b\\u0441\\u0442\\u0440\\u043e\\u0433\\u043e \\u043e\\u0431\\u0441\\u043b\\u0443\\u0436\\u0438\\u0432\\u0430\\u043d\\u0438\\u044f\",\"marker\":{\"color\":\"#636efa\",\"pattern\":{\"shape\":\"\"}},\"name\":\"\\u043f\\u0440\\u0435\\u0434\\u043f\\u0440\\u0438\\u044f\\u0442\\u0438\\u0435 \\u0431\\u044b\\u0441\\u0442\\u0440\\u043e\\u0433\\u043e \\u043e\\u0431\\u0441\\u043b\\u0443\\u0436\\u0438\\u0432\\u0430\\u043d\\u0438\\u044f\",\"offsetgroup\":\"\\u043f\\u0440\\u0435\\u0434\\u043f\\u0440\\u0438\\u044f\\u0442\\u0438\\u0435 \\u0431\\u044b\\u0441\\u0442\\u0440\\u043e\\u0433\\u043e \\u043e\\u0431\\u0441\\u043b\\u0443\\u0436\\u0438\\u0432\\u0430\\u043d\\u0438\\u044f\",\"orientation\":\"v\",\"showlegend\":true,\"textposition\":\"auto\",\"x\":[\"\\u043f\\u0440\\u0435\\u0434\\u043f\\u0440\\u0438\\u044f\\u0442\\u0438\\u0435 \\u0431\\u044b\\u0441\\u0442\\u0440\\u043e\\u0433\\u043e \\u043e\\u0431\\u0441\\u043b\\u0443\\u0436\\u0438\\u0432\\u0430\\u043d\\u0438\\u044f\"],\"xaxis\":\"x\",\"y\":[42.0],\"yaxis\":\"y\",\"type\":\"bar\"},{\"alignmentgroup\":\"True\",\"hovertemplate\":\"object_type=%{x}<br>\\u043f\\u0440\\u043e\\u0446\\u0435\\u043d\\u0442=%{y}<extra></extra>\",\"legendgroup\":\"\\u043c\\u0430\\u0433\\u0430\\u0437\\u0438\\u043d (\\u043e\\u0442\\u0434\\u0435\\u043b \\u043a\\u0443\\u043b\\u0438\\u043d\\u0430\\u0440\\u0438\\u0438)\",\"marker\":{\"color\":\"#EF553B\",\"pattern\":{\"shape\":\"\"}},\"name\":\"\\u043c\\u0430\\u0433\\u0430\\u0437\\u0438\\u043d (\\u043e\\u0442\\u0434\\u0435\\u043b \\u043a\\u0443\\u043b\\u0438\\u043d\\u0430\\u0440\\u0438\\u0438)\",\"offsetgroup\":\"\\u043c\\u0430\\u0433\\u0430\\u0437\\u0438\\u043d (\\u043e\\u0442\\u0434\\u0435\\u043b \\u043a\\u0443\\u043b\\u0438\\u043d\\u0430\\u0440\\u0438\\u0438)\",\"orientation\":\"v\",\"showlegend\":true,\"textposition\":\"auto\",\"x\":[\"\\u043c\\u0430\\u0433\\u0430\\u0437\\u0438\\u043d (\\u043e\\u0442\\u0434\\u0435\\u043b \\u043a\\u0443\\u043b\\u0438\\u043d\\u0430\\u0440\\u0438\\u0438)\"],\"xaxis\":\"x\",\"y\":[29.0],\"yaxis\":\"y\",\"type\":\"bar\"},{\"alignmentgroup\":\"True\",\"hovertemplate\":\"object_type=%{x}<br>\\u043f\\u0440\\u043e\\u0446\\u0435\\u043d\\u0442=%{y}<extra></extra>\",\"legendgroup\":\"\\u0440\\u0435\\u0441\\u0442\\u043e\\u0440\\u0430\\u043d\",\"marker\":{\"color\":\"#00cc96\",\"pattern\":{\"shape\":\"\"}},\"name\":\"\\u0440\\u0435\\u0441\\u0442\\u043e\\u0440\\u0430\\u043d\",\"offsetgroup\":\"\\u0440\\u0435\\u0441\\u0442\\u043e\\u0440\\u0430\\u043d\",\"orientation\":\"v\",\"showlegend\":true,\"textposition\":\"auto\",\"x\":[\"\\u0440\\u0435\\u0441\\u0442\\u043e\\u0440\\u0430\\u043d\"],\"xaxis\":\"x\",\"y\":[24.0],\"yaxis\":\"y\",\"type\":\"bar\"},{\"alignmentgroup\":\"True\",\"hovertemplate\":\"object_type=%{x}<br>\\u043f\\u0440\\u043e\\u0446\\u0435\\u043d\\u0442=%{y}<extra></extra>\",\"legendgroup\":\"\\u043a\\u0430\\u0444\\u0435\",\"marker\":{\"color\":\"#ab63fa\",\"pattern\":{\"shape\":\"\"}},\"name\":\"\\u043a\\u0430\\u0444\\u0435\",\"offsetgroup\":\"\\u043a\\u0430\\u0444\\u0435\",\"orientation\":\"v\",\"showlegend\":true,\"textposition\":\"auto\",\"x\":[\"\\u043a\\u0430\\u0444\\u0435\"],\"xaxis\":\"x\",\"y\":[23.0],\"yaxis\":\"y\",\"type\":\"bar\"},{\"alignmentgroup\":\"True\",\"hovertemplate\":\"object_type=%{x}<br>\\u043f\\u0440\\u043e\\u0446\\u0435\\u043d\\u0442=%{y}<extra></extra>\",\"legendgroup\":\"\\u0437\\u0430\\u043a\\u0443\\u0441\\u043e\\u0447\\u043d\\u0430\\u044f\",\"marker\":{\"color\":\"#FFA15A\",\"pattern\":{\"shape\":\"\"}},\"name\":\"\\u0437\\u0430\\u043a\\u0443\\u0441\\u043e\\u0447\\u043d\\u0430\\u044f\",\"offsetgroup\":\"\\u0437\\u0430\\u043a\\u0443\\u0441\\u043e\\u0447\\u043d\\u0430\\u044f\",\"orientation\":\"v\",\"showlegend\":true,\"textposition\":\"auto\",\"x\":[\"\\u0437\\u0430\\u043a\\u0443\\u0441\\u043e\\u0447\\u043d\\u0430\\u044f\"],\"xaxis\":\"x\",\"y\":[16.0],\"yaxis\":\"y\",\"type\":\"bar\"},{\"alignmentgroup\":\"True\",\"hovertemplate\":\"object_type=%{x}<br>\\u043f\\u0440\\u043e\\u0446\\u0435\\u043d\\u0442=%{y}<extra></extra>\",\"legendgroup\":\"\\u043a\\u0430\\u0444\\u0435\\u0442\\u0435\\u0440\\u0438\\u0439\",\"marker\":{\"color\":\"#19d3f3\",\"pattern\":{\"shape\":\"\"}},\"name\":\"\\u043a\\u0430\\u0444\\u0435\\u0442\\u0435\\u0440\\u0438\\u0439\",\"offsetgroup\":\"\\u043a\\u0430\\u0444\\u0435\\u0442\\u0435\\u0440\\u0438\\u0439\",\"orientation\":\"v\",\"showlegend\":true,\"textposition\":\"auto\",\"x\":[\"\\u043a\\u0430\\u0444\\u0435\\u0442\\u0435\\u0440\\u0438\\u0439\"],\"xaxis\":\"x\",\"y\":[13.0],\"yaxis\":\"y\",\"type\":\"bar\"},{\"alignmentgroup\":\"True\",\"hovertemplate\":\"object_type=%{x}<br>\\u043f\\u0440\\u043e\\u0446\\u0435\\u043d\\u0442=%{y}<extra></extra>\",\"legendgroup\":\"\\u0431\\u0430\\u0440\",\"marker\":{\"color\":\"#FF6692\",\"pattern\":{\"shape\":\"\"}},\"name\":\"\\u0431\\u0430\\u0440\",\"offsetgroup\":\"\\u0431\\u0430\\u0440\",\"orientation\":\"v\",\"showlegend\":true,\"textposition\":\"auto\",\"x\":[\"\\u0431\\u0430\\u0440\"],\"xaxis\":\"x\",\"y\":[4.0],\"yaxis\":\"y\",\"type\":\"bar\"},{\"alignmentgroup\":\"True\",\"hovertemplate\":\"object_type=%{x}<br>\\u043f\\u0440\\u043e\\u0446\\u0435\\u043d\\u0442=%{y}<extra></extra>\",\"legendgroup\":\"\\u0431\\u0443\\u0444\\u0435\\u0442\",\"marker\":{\"color\":\"#B6E880\",\"pattern\":{\"shape\":\"\"}},\"name\":\"\\u0431\\u0443\\u0444\\u0435\\u0442\",\"offsetgroup\":\"\\u0431\\u0443\\u0444\\u0435\\u0442\",\"orientation\":\"v\",\"showlegend\":true,\"textposition\":\"auto\",\"x\":[\"\\u0431\\u0443\\u0444\\u0435\\u0442\"],\"xaxis\":\"x\",\"y\":[2.0],\"yaxis\":\"y\",\"type\":\"bar\"},{\"alignmentgroup\":\"True\",\"hovertemplate\":\"object_type=%{x}<br>\\u043f\\u0440\\u043e\\u0446\\u0435\\u043d\\u0442=%{y}<extra></extra>\",\"legendgroup\":\"\\u0441\\u0442\\u043e\\u043b\\u043e\\u0432\\u0430\\u044f\",\"marker\":{\"color\":\"#FF97FF\",\"pattern\":{\"shape\":\"\"}},\"name\":\"\\u0441\\u0442\\u043e\\u043b\\u043e\\u0432\\u0430\\u044f\",\"offsetgroup\":\"\\u0441\\u0442\\u043e\\u043b\\u043e\\u0432\\u0430\\u044f\",\"orientation\":\"v\",\"showlegend\":true,\"textposition\":\"auto\",\"x\":[\"\\u0441\\u0442\\u043e\\u043b\\u043e\\u0432\\u0430\\u044f\"],\"xaxis\":\"x\",\"y\":[0.0],\"yaxis\":\"y\",\"type\":\"bar\"}],                        {\"template\":{\"data\":{\"bar\":[{\"error_x\":{\"color\":\"#2a3f5f\"},\"error_y\":{\"color\":\"#2a3f5f\"},\"marker\":{\"line\":{\"color\":\"#E5ECF6\",\"width\":0.5},\"pattern\":{\"fillmode\":\"overlay\",\"size\":10,\"solidity\":0.2}},\"type\":\"bar\"}],\"barpolar\":[{\"marker\":{\"line\":{\"color\":\"#E5ECF6\",\"width\":0.5},\"pattern\":{\"fillmode\":\"overlay\",\"size\":10,\"solidity\":0.2}},\"type\":\"barpolar\"}],\"carpet\":[{\"aaxis\":{\"endlinecolor\":\"#2a3f5f\",\"gridcolor\":\"white\",\"linecolor\":\"white\",\"minorgridcolor\":\"white\",\"startlinecolor\":\"#2a3f5f\"},\"baxis\":{\"endlinecolor\":\"#2a3f5f\",\"gridcolor\":\"white\",\"linecolor\":\"white\",\"minorgridcolor\":\"white\",\"startlinecolor\":\"#2a3f5f\"},\"type\":\"carpet\"}],\"choropleth\":[{\"colorbar\":{\"outlinewidth\":0,\"ticks\":\"\"},\"type\":\"choropleth\"}],\"contour\":[{\"colorbar\":{\"outlinewidth\":0,\"ticks\":\"\"},\"colorscale\":[[0.0,\"#0d0887\"],[0.1111111111111111,\"#46039f\"],[0.2222222222222222,\"#7201a8\"],[0.3333333333333333,\"#9c179e\"],[0.4444444444444444,\"#bd3786\"],[0.5555555555555556,\"#d8576b\"],[0.6666666666666666,\"#ed7953\"],[0.7777777777777778,\"#fb9f3a\"],[0.8888888888888888,\"#fdca26\"],[1.0,\"#f0f921\"]],\"type\":\"contour\"}],\"contourcarpet\":[{\"colorbar\":{\"outlinewidth\":0,\"ticks\":\"\"},\"type\":\"contourcarpet\"}],\"heatmap\":[{\"colorbar\":{\"outlinewidth\":0,\"ticks\":\"\"},\"colorscale\":[[0.0,\"#0d0887\"],[0.1111111111111111,\"#46039f\"],[0.2222222222222222,\"#7201a8\"],[0.3333333333333333,\"#9c179e\"],[0.4444444444444444,\"#bd3786\"],[0.5555555555555556,\"#d8576b\"],[0.6666666666666666,\"#ed7953\"],[0.7777777777777778,\"#fb9f3a\"],[0.8888888888888888,\"#fdca26\"],[1.0,\"#f0f921\"]],\"type\":\"heatmap\"}],\"heatmapgl\":[{\"colorbar\":{\"outlinewidth\":0,\"ticks\":\"\"},\"colorscale\":[[0.0,\"#0d0887\"],[0.1111111111111111,\"#46039f\"],[0.2222222222222222,\"#7201a8\"],[0.3333333333333333,\"#9c179e\"],[0.4444444444444444,\"#bd3786\"],[0.5555555555555556,\"#d8576b\"],[0.6666666666666666,\"#ed7953\"],[0.7777777777777778,\"#fb9f3a\"],[0.8888888888888888,\"#fdca26\"],[1.0,\"#f0f921\"]],\"type\":\"heatmapgl\"}],\"histogram\":[{\"marker\":{\"pattern\":{\"fillmode\":\"overlay\",\"size\":10,\"solidity\":0.2}},\"type\":\"histogram\"}],\"histogram2d\":[{\"colorbar\":{\"outlinewidth\":0,\"ticks\":\"\"},\"colorscale\":[[0.0,\"#0d0887\"],[0.1111111111111111,\"#46039f\"],[0.2222222222222222,\"#7201a8\"],[0.3333333333333333,\"#9c179e\"],[0.4444444444444444,\"#bd3786\"],[0.5555555555555556,\"#d8576b\"],[0.6666666666666666,\"#ed7953\"],[0.7777777777777778,\"#fb9f3a\"],[0.8888888888888888,\"#fdca26\"],[1.0,\"#f0f921\"]],\"type\":\"histogram2d\"}],\"histogram2dcontour\":[{\"colorbar\":{\"outlinewidth\":0,\"ticks\":\"\"},\"colorscale\":[[0.0,\"#0d0887\"],[0.1111111111111111,\"#46039f\"],[0.2222222222222222,\"#7201a8\"],[0.3333333333333333,\"#9c179e\"],[0.4444444444444444,\"#bd3786\"],[0.5555555555555556,\"#d8576b\"],[0.6666666666666666,\"#ed7953\"],[0.7777777777777778,\"#fb9f3a\"],[0.8888888888888888,\"#fdca26\"],[1.0,\"#f0f921\"]],\"type\":\"histogram2dcontour\"}],\"mesh3d\":[{\"colorbar\":{\"outlinewidth\":0,\"ticks\":\"\"},\"type\":\"mesh3d\"}],\"parcoords\":[{\"line\":{\"colorbar\":{\"outlinewidth\":0,\"ticks\":\"\"}},\"type\":\"parcoords\"}],\"pie\":[{\"automargin\":true,\"type\":\"pie\"}],\"scatter\":[{\"marker\":{\"colorbar\":{\"outlinewidth\":0,\"ticks\":\"\"}},\"type\":\"scatter\"}],\"scatter3d\":[{\"line\":{\"colorbar\":{\"outlinewidth\":0,\"ticks\":\"\"}},\"marker\":{\"colorbar\":{\"outlinewidth\":0,\"ticks\":\"\"}},\"type\":\"scatter3d\"}],\"scattercarpet\":[{\"marker\":{\"colorbar\":{\"outlinewidth\":0,\"ticks\":\"\"}},\"type\":\"scattercarpet\"}],\"scattergeo\":[{\"marker\":{\"colorbar\":{\"outlinewidth\":0,\"ticks\":\"\"}},\"type\":\"scattergeo\"}],\"scattergl\":[{\"marker\":{\"colorbar\":{\"outlinewidth\":0,\"ticks\":\"\"}},\"type\":\"scattergl\"}],\"scattermapbox\":[{\"marker\":{\"colorbar\":{\"outlinewidth\":0,\"ticks\":\"\"}},\"type\":\"scattermapbox\"}],\"scatterpolar\":[{\"marker\":{\"colorbar\":{\"outlinewidth\":0,\"ticks\":\"\"}},\"type\":\"scatterpolar\"}],\"scatterpolargl\":[{\"marker\":{\"colorbar\":{\"outlinewidth\":0,\"ticks\":\"\"}},\"type\":\"scatterpolargl\"}],\"scatterternary\":[{\"marker\":{\"colorbar\":{\"outlinewidth\":0,\"ticks\":\"\"}},\"type\":\"scatterternary\"}],\"surface\":[{\"colorbar\":{\"outlinewidth\":0,\"ticks\":\"\"},\"colorscale\":[[0.0,\"#0d0887\"],[0.1111111111111111,\"#46039f\"],[0.2222222222222222,\"#7201a8\"],[0.3333333333333333,\"#9c179e\"],[0.4444444444444444,\"#bd3786\"],[0.5555555555555556,\"#d8576b\"],[0.6666666666666666,\"#ed7953\"],[0.7777777777777778,\"#fb9f3a\"],[0.8888888888888888,\"#fdca26\"],[1.0,\"#f0f921\"]],\"type\":\"surface\"}],\"table\":[{\"cells\":{\"fill\":{\"color\":\"#EBF0F8\"},\"line\":{\"color\":\"white\"}},\"header\":{\"fill\":{\"color\":\"#C8D4E3\"},\"line\":{\"color\":\"white\"}},\"type\":\"table\"}]},\"layout\":{\"annotationdefaults\":{\"arrowcolor\":\"#2a3f5f\",\"arrowhead\":0,\"arrowwidth\":1},\"autotypenumbers\":\"strict\",\"coloraxis\":{\"colorbar\":{\"outlinewidth\":0,\"ticks\":\"\"}},\"colorscale\":{\"diverging\":[[0,\"#8e0152\"],[0.1,\"#c51b7d\"],[0.2,\"#de77ae\"],[0.3,\"#f1b6da\"],[0.4,\"#fde0ef\"],[0.5,\"#f7f7f7\"],[0.6,\"#e6f5d0\"],[0.7,\"#b8e186\"],[0.8,\"#7fbc41\"],[0.9,\"#4d9221\"],[1,\"#276419\"]],\"sequential\":[[0.0,\"#0d0887\"],[0.1111111111111111,\"#46039f\"],[0.2222222222222222,\"#7201a8\"],[0.3333333333333333,\"#9c179e\"],[0.4444444444444444,\"#bd3786\"],[0.5555555555555556,\"#d8576b\"],[0.6666666666666666,\"#ed7953\"],[0.7777777777777778,\"#fb9f3a\"],[0.8888888888888888,\"#fdca26\"],[1.0,\"#f0f921\"]],\"sequentialminus\":[[0.0,\"#0d0887\"],[0.1111111111111111,\"#46039f\"],[0.2222222222222222,\"#7201a8\"],[0.3333333333333333,\"#9c179e\"],[0.4444444444444444,\"#bd3786\"],[0.5555555555555556,\"#d8576b\"],[0.6666666666666666,\"#ed7953\"],[0.7777777777777778,\"#fb9f3a\"],[0.8888888888888888,\"#fdca26\"],[1.0,\"#f0f921\"]]},\"colorway\":[\"#636efa\",\"#EF553B\",\"#00cc96\",\"#ab63fa\",\"#FFA15A\",\"#19d3f3\",\"#FF6692\",\"#B6E880\",\"#FF97FF\",\"#FECB52\"],\"font\":{\"color\":\"#2a3f5f\"},\"geo\":{\"bgcolor\":\"white\",\"lakecolor\":\"white\",\"landcolor\":\"#E5ECF6\",\"showlakes\":true,\"showland\":true,\"subunitcolor\":\"white\"},\"hoverlabel\":{\"align\":\"left\"},\"hovermode\":\"closest\",\"mapbox\":{\"style\":\"light\"},\"paper_bgcolor\":\"white\",\"plot_bgcolor\":\"#E5ECF6\",\"polar\":{\"angularaxis\":{\"gridcolor\":\"white\",\"linecolor\":\"white\",\"ticks\":\"\"},\"bgcolor\":\"#E5ECF6\",\"radialaxis\":{\"gridcolor\":\"white\",\"linecolor\":\"white\",\"ticks\":\"\"}},\"scene\":{\"xaxis\":{\"backgroundcolor\":\"#E5ECF6\",\"gridcolor\":\"white\",\"gridwidth\":2,\"linecolor\":\"white\",\"showbackground\":true,\"ticks\":\"\",\"zerolinecolor\":\"white\"},\"yaxis\":{\"backgroundcolor\":\"#E5ECF6\",\"gridcolor\":\"white\",\"gridwidth\":2,\"linecolor\":\"white\",\"showbackground\":true,\"ticks\":\"\",\"zerolinecolor\":\"white\"},\"zaxis\":{\"backgroundcolor\":\"#E5ECF6\",\"gridcolor\":\"white\",\"gridwidth\":2,\"linecolor\":\"white\",\"showbackground\":true,\"ticks\":\"\",\"zerolinecolor\":\"white\"}},\"shapedefaults\":{\"line\":{\"color\":\"#2a3f5f\"}},\"ternary\":{\"aaxis\":{\"gridcolor\":\"white\",\"linecolor\":\"white\",\"ticks\":\"\"},\"baxis\":{\"gridcolor\":\"white\",\"linecolor\":\"white\",\"ticks\":\"\"},\"bgcolor\":\"#E5ECF6\",\"caxis\":{\"gridcolor\":\"white\",\"linecolor\":\"white\",\"ticks\":\"\"}},\"title\":{\"x\":0.05},\"xaxis\":{\"automargin\":true,\"gridcolor\":\"white\",\"linecolor\":\"white\",\"ticks\":\"\",\"title\":{\"standoff\":15},\"zerolinecolor\":\"white\",\"zerolinewidth\":2},\"yaxis\":{\"automargin\":true,\"gridcolor\":\"white\",\"linecolor\":\"white\",\"ticks\":\"\",\"title\":{\"standoff\":15},\"zerolinecolor\":\"white\",\"zerolinewidth\":2}}},\"xaxis\":{\"anchor\":\"y\",\"domain\":[0.0,1.0],\"title\":{\"text\":\"\\u0422\\u0438\\u043f \\u043e\\u0431\\u044a\\u0435\\u043a\\u0442\\u0430\"},\"categoryorder\":\"array\",\"categoryarray\":[\"\\u043f\\u0440\\u0435\\u0434\\u043f\\u0440\\u0438\\u044f\\u0442\\u0438\\u0435 \\u0431\\u044b\\u0441\\u0442\\u0440\\u043e\\u0433\\u043e \\u043e\\u0431\\u0441\\u043b\\u0443\\u0436\\u0438\\u0432\\u0430\\u043d\\u0438\\u044f\",\"\\u043c\\u0430\\u0433\\u0430\\u0437\\u0438\\u043d (\\u043e\\u0442\\u0434\\u0435\\u043b \\u043a\\u0443\\u043b\\u0438\\u043d\\u0430\\u0440\\u0438\\u0438)\",\"\\u0440\\u0435\\u0441\\u0442\\u043e\\u0440\\u0430\\u043d\",\"\\u043a\\u0430\\u0444\\u0435\",\"\\u0437\\u0430\\u043a\\u0443\\u0441\\u043e\\u0447\\u043d\\u0430\\u044f\",\"\\u043a\\u0430\\u0444\\u0435\\u0442\\u0435\\u0440\\u0438\\u0439\",\"\\u0431\\u0430\\u0440\",\"\\u0431\\u0443\\u0444\\u0435\\u0442\",\"\\u0441\\u0442\\u043e\\u043b\\u043e\\u0432\\u0430\\u044f\"],\"tickangle\":45},\"yaxis\":{\"anchor\":\"x\",\"domain\":[0.0,1.0],\"title\":{\"text\":\"% \\u0437\\u0430\\u0432\\u0435\\u0434\\u0435\\u043d\\u0438\\u0439\"}},\"legend\":{\"title\":{\"text\":\"object_type\"},\"tracegroupgap\":0},\"margin\":{\"t\":60},\"barmode\":\"relative\",\"height\":550,\"width\":1000,\"title\":{\"text\":\"\\u0414\\u043e\\u043b\\u044f \\u0441\\u0435\\u0442\\u0435\\u0432\\u044b\\u0445 \\u0437\\u0430\\u0432\\u0435\\u0434\\u0435\\u043d\\u0438\\u0439 \\u043e\\u0442 \\u0432\\u0441\\u0435\\u0445 \\u043e\\u0431\\u044a\\u0435\\u043a\\u0442\\u043e\\u0432 \\u043e\\u0431\\u0449\\u0435\\u0441\\u0442\\u0432\\u0435\\u043d\\u043d\\u043e\\u0433\\u043e \\u043f\\u0438\\u0442\\u0430\\u043d\\u0438\\u044f (\\u043f\\u043e \\u0442\\u0438\\u043f\\u0430\\u043c)\"}},                        {\"responsive\": true}                    ).then(function(){\n",
       "                            \n",
       "var gd = document.getElementById('63e5f8a3-e32c-4b96-9693-dfddadc9287b');\n",
       "var x = new MutationObserver(function (mutations, observer) {{\n",
       "        var display = window.getComputedStyle(gd).display;\n",
       "        if (!display || display === 'none') {{\n",
       "            console.log([gd, 'removed!']);\n",
       "            Plotly.purge(gd);\n",
       "            observer.disconnect();\n",
       "        }}\n",
       "}});\n",
       "\n",
       "// Listen for the removal of the full notebook cells\n",
       "var notebookContainer = gd.closest('#notebook-container');\n",
       "if (notebookContainer) {{\n",
       "    x.observe(notebookContainer, {childList: true});\n",
       "}}\n",
       "\n",
       "// Listen for the clearing of the current output cell\n",
       "var outputEl = gd.closest('.output');\n",
       "if (outputEl) {{\n",
       "    x.observe(outputEl, {childList: true});\n",
       "}}\n",
       "\n",
       "                        })                };                });            </script>        </div>"
      ]
     },
     "metadata": {},
     "output_type": "display_data"
    }
   ],
   "source": [
    "fig = px.bar(data_c, \n",
    "             x='object_type', y='процент', width = 1000, height = 550, color='object_type')\n",
    "fig.update_xaxes(tickangle=45)\n",
    "fig.update_layout(\n",
    "    title='Доля сетевых заведений от всех объектов общественного питания (по типам)',\n",
    "    xaxis_title=\"Тип объекта\",\n",
    "    yaxis_title=\"% заведений\")\n",
    "fig.show()"
   ]
  },
  {
   "cell_type": "markdown",
   "metadata": {},
   "source": [
    "ВЫВОД: Наиболее характерный тип для сетевых заведений это предприятия быстрого обслуживания."
   ]
  },
  {
   "cell_type": "markdown",
   "metadata": {},
   "source": [
    "### Выясним, что характерно для сетевых заведений: много заведений с небольшим числом посадочных мест в каждом или мало заведений с большим количеством посадочных мест?"
   ]
  },
  {
   "cell_type": "code",
   "execution_count": 34,
   "metadata": {},
   "outputs": [
    {
     "data": {
      "text/html": [
       "<div>\n",
       "<style scoped>\n",
       "    .dataframe tbody tr th:only-of-type {\n",
       "        vertical-align: middle;\n",
       "    }\n",
       "\n",
       "    .dataframe tbody tr th {\n",
       "        vertical-align: top;\n",
       "    }\n",
       "\n",
       "    .dataframe thead th {\n",
       "        text-align: right;\n",
       "    }\n",
       "</style>\n",
       "<table border=\"1\" class=\"dataframe\">\n",
       "  <thead>\n",
       "    <tr style=\"text-align: right;\">\n",
       "      <th></th>\n",
       "      <th>id</th>\n",
       "      <th>number</th>\n",
       "    </tr>\n",
       "  </thead>\n",
       "  <tbody>\n",
       "    <tr>\n",
       "      <th>count</th>\n",
       "      <td>1396.000000</td>\n",
       "      <td>1396.000000</td>\n",
       "    </tr>\n",
       "    <tr>\n",
       "      <th>mean</th>\n",
       "      <td>115178.999284</td>\n",
       "      <td>47.426934</td>\n",
       "    </tr>\n",
       "    <tr>\n",
       "      <th>std</th>\n",
       "      <td>68029.541042</td>\n",
       "      <td>44.731453</td>\n",
       "    </tr>\n",
       "    <tr>\n",
       "      <th>min</th>\n",
       "      <td>838.000000</td>\n",
       "      <td>0.000000</td>\n",
       "    </tr>\n",
       "    <tr>\n",
       "      <th>25%</th>\n",
       "      <td>27601.000000</td>\n",
       "      <td>20.000000</td>\n",
       "    </tr>\n",
       "    <tr>\n",
       "      <th>50%</th>\n",
       "      <td>127916.500000</td>\n",
       "      <td>40.000000</td>\n",
       "    </tr>\n",
       "    <tr>\n",
       "      <th>75%</th>\n",
       "      <td>175518.000000</td>\n",
       "      <td>60.000000</td>\n",
       "    </tr>\n",
       "    <tr>\n",
       "      <th>max</th>\n",
       "      <td>223307.000000</td>\n",
       "      <td>456.000000</td>\n",
       "    </tr>\n",
       "  </tbody>\n",
       "</table>\n",
       "</div>"
      ],
      "text/plain": [
       "                  id       number\n",
       "count    1396.000000  1396.000000\n",
       "mean   115178.999284    47.426934\n",
       "std     68029.541042    44.731453\n",
       "min       838.000000     0.000000\n",
       "25%     27601.000000    20.000000\n",
       "50%    127916.500000    40.000000\n",
       "75%    175518.000000    60.000000\n",
       "max    223307.000000   456.000000"
      ]
     },
     "execution_count": 34,
     "metadata": {},
     "output_type": "execute_result"
    }
   ],
   "source": [
    "#создаем переменную, включающую сетевые заведения типа 'Кафе'\n",
    "chain_type_cafe = (data.loc[(data['chain'] == 'да') & (data['object_type'] == 'кафе')]) # выделяем сетевые заведения тип Кафе\n",
    "chain_type_cafe.describe()"
   ]
  },
  {
   "cell_type": "code",
   "execution_count": 35,
   "metadata": {},
   "outputs": [
    {
     "data": {
      "text/plain": [
       "<AxesSubplot:xlabel='object_type', ylabel='number'>"
      ]
     },
     "execution_count": 35,
     "metadata": {},
     "output_type": "execute_result"
    },
    {
     "data": {
      "image/png": "[encoded data removed]",
      "text/plain": [
       "<Figure size 432x288 with 1 Axes>"
      ]
     },
     "metadata": {
      "needs_background": "light"
     },
     "output_type": "display_data"
    }
   ],
   "source": [
    "# строим диаграмму для отображения характерного распеределения посадочных мест \n",
    "sns.boxplot(x = 'object_type', y = 'number', data = chain_type_cafe)"
   ]
  },
  {
   "cell_type": "code",
   "execution_count": 36,
   "metadata": {},
   "outputs": [
    {
     "data": {
      "text/html": [
       "<div>\n",
       "<style scoped>\n",
       "    .dataframe tbody tr th:only-of-type {\n",
       "        vertical-align: middle;\n",
       "    }\n",
       "\n",
       "    .dataframe tbody tr th {\n",
       "        vertical-align: top;\n",
       "    }\n",
       "\n",
       "    .dataframe thead th {\n",
       "        text-align: right;\n",
       "    }\n",
       "</style>\n",
       "<table border=\"1\" class=\"dataframe\">\n",
       "  <thead>\n",
       "    <tr style=\"text-align: right;\">\n",
       "      <th></th>\n",
       "      <th>id</th>\n",
       "      <th>number</th>\n",
       "    </tr>\n",
       "  </thead>\n",
       "  <tbody>\n",
       "    <tr>\n",
       "      <th>count</th>\n",
       "      <td>788.000000</td>\n",
       "      <td>788.000000</td>\n",
       "    </tr>\n",
       "    <tr>\n",
       "      <th>mean</th>\n",
       "      <td>126807.883249</td>\n",
       "      <td>40.319797</td>\n",
       "    </tr>\n",
       "    <tr>\n",
       "      <th>std</th>\n",
       "      <td>63874.736998</td>\n",
       "      <td>50.738879</td>\n",
       "    </tr>\n",
       "    <tr>\n",
       "      <th>min</th>\n",
       "      <td>19675.000000</td>\n",
       "      <td>0.000000</td>\n",
       "    </tr>\n",
       "    <tr>\n",
       "      <th>25%</th>\n",
       "      <td>78981.750000</td>\n",
       "      <td>8.000000</td>\n",
       "    </tr>\n",
       "    <tr>\n",
       "      <th>50%</th>\n",
       "      <td>142842.000000</td>\n",
       "      <td>25.000000</td>\n",
       "    </tr>\n",
       "    <tr>\n",
       "      <th>75%</th>\n",
       "      <td>178200.250000</td>\n",
       "      <td>52.000000</td>\n",
       "    </tr>\n",
       "    <tr>\n",
       "      <th>max</th>\n",
       "      <td>223228.000000</td>\n",
       "      <td>580.000000</td>\n",
       "    </tr>\n",
       "  </tbody>\n",
       "</table>\n",
       "</div>"
      ],
      "text/plain": [
       "                  id      number\n",
       "count     788.000000  788.000000\n",
       "mean   126807.883249   40.319797\n",
       "std     63874.736998   50.738879\n",
       "min     19675.000000    0.000000\n",
       "25%     78981.750000    8.000000\n",
       "50%    142842.000000   25.000000\n",
       "75%    178200.250000   52.000000\n",
       "max    223228.000000  580.000000"
      ]
     },
     "execution_count": 36,
     "metadata": {},
     "output_type": "execute_result"
    }
   ],
   "source": [
    "#создаем переменную, включающую сетевые заведения типа 'Предприятия быстрого обслуживания'\n",
    "chain_type_ors = (data.loc[(data['chain'] == 'да') & (data['object_type'] == 'предприятие быстрого обслуживания')]) \n",
    "chain_type_ors.describe()"
   ]
  },
  {
   "cell_type": "code",
   "execution_count": 37,
   "metadata": {},
   "outputs": [
    {
     "data": {
      "text/plain": [
       "<AxesSubplot:xlabel='object_type', ylabel='number'>"
      ]
     },
     "execution_count": 37,
     "metadata": {},
     "output_type": "execute_result"
    },
    {
     "data": {
      "image/png": "[encoded data removed]",
      "text/plain": [
       "<Figure size 432x288 with 1 Axes>"
      ]
     },
     "metadata": {
      "needs_background": "light"
     },
     "output_type": "display_data"
    }
   ],
   "source": [
    "# строим диаграмму для отображения характерного распеределения посадочных мест \n",
    "sns.boxplot(x = 'object_type', y = 'number', data = chain_type_ors)"
   ]
  },
  {
   "cell_type": "code",
   "execution_count": 38,
   "metadata": {},
   "outputs": [
    {
     "data": {
      "text/html": [
       "<div>\n",
       "<style scoped>\n",
       "    .dataframe tbody tr th:only-of-type {\n",
       "        vertical-align: middle;\n",
       "    }\n",
       "\n",
       "    .dataframe tbody tr th {\n",
       "        vertical-align: top;\n",
       "    }\n",
       "\n",
       "    .dataframe thead th {\n",
       "        text-align: right;\n",
       "    }\n",
       "</style>\n",
       "<table border=\"1\" class=\"dataframe\">\n",
       "  <thead>\n",
       "    <tr style=\"text-align: right;\">\n",
       "      <th></th>\n",
       "      <th>id</th>\n",
       "      <th>number</th>\n",
       "    </tr>\n",
       "  </thead>\n",
       "  <tbody>\n",
       "    <tr>\n",
       "      <th>count</th>\n",
       "      <td>543.000000</td>\n",
       "      <td>543.000000</td>\n",
       "    </tr>\n",
       "    <tr>\n",
       "      <th>mean</th>\n",
       "      <td>95241.839779</td>\n",
       "      <td>100.362799</td>\n",
       "    </tr>\n",
       "    <tr>\n",
       "      <th>std</th>\n",
       "      <td>63467.110094</td>\n",
       "      <td>74.442225</td>\n",
       "    </tr>\n",
       "    <tr>\n",
       "      <th>min</th>\n",
       "      <td>19948.000000</td>\n",
       "      <td>0.000000</td>\n",
       "    </tr>\n",
       "    <tr>\n",
       "      <th>25%</th>\n",
       "      <td>26946.500000</td>\n",
       "      <td>50.000000</td>\n",
       "    </tr>\n",
       "    <tr>\n",
       "      <th>50%</th>\n",
       "      <td>83842.000000</td>\n",
       "      <td>89.000000</td>\n",
       "    </tr>\n",
       "    <tr>\n",
       "      <th>75%</th>\n",
       "      <td>150279.000000</td>\n",
       "      <td>137.000000</td>\n",
       "    </tr>\n",
       "    <tr>\n",
       "      <th>max</th>\n",
       "      <td>223036.000000</td>\n",
       "      <td>500.000000</td>\n",
       "    </tr>\n",
       "  </tbody>\n",
       "</table>\n",
       "</div>"
      ],
      "text/plain": [
       "                  id      number\n",
       "count     543.000000  543.000000\n",
       "mean    95241.839779  100.362799\n",
       "std     63467.110094   74.442225\n",
       "min     19948.000000    0.000000\n",
       "25%     26946.500000   50.000000\n",
       "50%     83842.000000   89.000000\n",
       "75%    150279.000000  137.000000\n",
       "max    223036.000000  500.000000"
      ]
     },
     "execution_count": 38,
     "metadata": {},
     "output_type": "execute_result"
    }
   ],
   "source": [
    " # выделяем сетевые заведения тип Ресторан\n",
    "chain_type_restaurant = (data.loc[(data['chain'] == 'да') & (data['object_type'] == 'ресторан')]) \n",
    "chain_type_restaurant.describe()"
   ]
  },
  {
   "cell_type": "code",
   "execution_count": 39,
   "metadata": {},
   "outputs": [
    {
     "data": {
      "text/plain": [
       "<AxesSubplot:xlabel='object_type', ylabel='number'>"
      ]
     },
     "execution_count": 39,
     "metadata": {},
     "output_type": "execute_result"
    },
    {
     "data": {
      "image/png": "[encoded data removed]",
      "text/plain": [
       "<Figure size 432x288 with 1 Axes>"
      ]
     },
     "metadata": {
      "needs_background": "light"
     },
     "output_type": "display_data"
    }
   ],
   "source": [
    "# строим диаграмму для отображения характерного распеределения посадочных мест \n",
    "sns.boxplot(x = 'object_type', y = 'number', data = chain_type_restaurant)"
   ]
  },
  {
   "cell_type": "code",
   "execution_count": 40,
   "metadata": {},
   "outputs": [
    {
     "data": {
      "text/html": [
       "<div>\n",
       "<style scoped>\n",
       "    .dataframe tbody tr th:only-of-type {\n",
       "        vertical-align: middle;\n",
       "    }\n",
       "\n",
       "    .dataframe tbody tr th {\n",
       "        vertical-align: top;\n",
       "    }\n",
       "\n",
       "    .dataframe thead th {\n",
       "        text-align: right;\n",
       "    }\n",
       "</style>\n",
       "<table border=\"1\" class=\"dataframe\">\n",
       "  <thead>\n",
       "    <tr style=\"text-align: right;\">\n",
       "      <th></th>\n",
       "      <th>id</th>\n",
       "      <th>number</th>\n",
       "    </tr>\n",
       "  </thead>\n",
       "  <tbody>\n",
       "    <tr>\n",
       "      <th>count</th>\n",
       "      <td>169.000000</td>\n",
       "      <td>169.000000</td>\n",
       "    </tr>\n",
       "    <tr>\n",
       "      <th>mean</th>\n",
       "      <td>14.668639</td>\n",
       "      <td>58.307692</td>\n",
       "    </tr>\n",
       "    <tr>\n",
       "      <th>std</th>\n",
       "      <td>26.398440</td>\n",
       "      <td>47.317161</td>\n",
       "    </tr>\n",
       "    <tr>\n",
       "      <th>min</th>\n",
       "      <td>3.000000</td>\n",
       "      <td>0.000000</td>\n",
       "    </tr>\n",
       "    <tr>\n",
       "      <th>25%</th>\n",
       "      <td>3.000000</td>\n",
       "      <td>20.000000</td>\n",
       "    </tr>\n",
       "    <tr>\n",
       "      <th>50%</th>\n",
       "      <td>6.000000</td>\n",
       "      <td>46.000000</td>\n",
       "    </tr>\n",
       "    <tr>\n",
       "      <th>75%</th>\n",
       "      <td>11.000000</td>\n",
       "      <td>85.000000</td>\n",
       "    </tr>\n",
       "    <tr>\n",
       "      <th>max</th>\n",
       "      <td>157.000000</td>\n",
       "      <td>240.000000</td>\n",
       "    </tr>\n",
       "  </tbody>\n",
       "</table>\n",
       "</div>"
      ],
      "text/plain": [
       "               id      number\n",
       "count  169.000000  169.000000\n",
       "mean    14.668639   58.307692\n",
       "std     26.398440   47.317161\n",
       "min      3.000000    0.000000\n",
       "25%      3.000000   20.000000\n",
       "50%      6.000000   46.000000\n",
       "75%     11.000000   85.000000\n",
       "max    157.000000  240.000000"
      ]
     },
     "execution_count": 40,
     "metadata": {},
     "output_type": "execute_result"
    }
   ],
   "source": [
    "#группируем данные по сем сетевым заведениям\n",
    "chain_name = (data.query('chain == \"да\"').groupby('object_name')\n",
    "    .agg({'id' : 'count', 'number' : 'median'}).query('id > 2').reset_index().sort_values(by = 'id', ascending = False)\n",
    ")\n",
    "chain_name.describe()"
   ]
  },
  {
   "cell_type": "code",
   "execution_count": 41,
   "metadata": {},
   "outputs": [
    {
     "data": {
      "image/png": "[encoded data removed]",
      "text/plain": [
       "<Figure size 1080x504 with 1 Axes>"
      ]
     },
     "metadata": {
      "needs_background": "light"
     },
     "output_type": "display_data"
    }
   ],
   "source": [
    "plt.figure(figsize = (15, 7))\n",
    "sns.scatterplot(data = chain_name, x= 'id', y='number')\n",
    "plt.xlabel('Количество точек в сети')\n",
    "plt.grid()\n",
    "plt.ylabel('Среднее количество посадочных мест')\n",
    "plt.title('Распределение количества посадочных мест по сетевым заведениям')\n",
    "plt.show() "
   ]
  },
  {
   "cell_type": "markdown",
   "metadata": {},
   "source": [
    "ВЫВОД: скорее для сетевых заведений характерно немного заведений с количеством посадочных мест 40 - 60, чем наоборот."
   ]
  },
  {
   "cell_type": "markdown",
   "metadata": {},
   "source": [
    "### Для каждого вида объекта общественного питания опишем среднее количество посадочных мест. "
   ]
  },
  {
   "cell_type": "code",
   "execution_count": 42,
   "metadata": {},
   "outputs": [
    {
     "data": {
      "text/html": [
       "<div>\n",
       "<style scoped>\n",
       "    .dataframe tbody tr th:only-of-type {\n",
       "        vertical-align: middle;\n",
       "    }\n",
       "\n",
       "    .dataframe tbody tr th {\n",
       "        vertical-align: top;\n",
       "    }\n",
       "\n",
       "    .dataframe thead th {\n",
       "        text-align: right;\n",
       "    }\n",
       "</style>\n",
       "<table border=\"1\" class=\"dataframe\">\n",
       "  <thead>\n",
       "    <tr style=\"text-align: right;\">\n",
       "      <th></th>\n",
       "      <th>Тип</th>\n",
       "      <th>Количество посадочных мест</th>\n",
       "    </tr>\n",
       "  </thead>\n",
       "  <tbody>\n",
       "    <tr>\n",
       "      <th>0</th>\n",
       "      <td>закусочная</td>\n",
       "      <td>0</td>\n",
       "    </tr>\n",
       "    <tr>\n",
       "      <th>1</th>\n",
       "      <td>магазин (отдел кулинарии)</td>\n",
       "      <td>0</td>\n",
       "    </tr>\n",
       "    <tr>\n",
       "      <th>2</th>\n",
       "      <td>кафетерий</td>\n",
       "      <td>6</td>\n",
       "    </tr>\n",
       "    <tr>\n",
       "      <th>3</th>\n",
       "      <td>предприятие быстрого обслуживания</td>\n",
       "      <td>6</td>\n",
       "    </tr>\n",
       "    <tr>\n",
       "      <th>4</th>\n",
       "      <td>кафе</td>\n",
       "      <td>30</td>\n",
       "    </tr>\n",
       "    <tr>\n",
       "      <th>5</th>\n",
       "      <td>буфет</td>\n",
       "      <td>32</td>\n",
       "    </tr>\n",
       "    <tr>\n",
       "      <th>6</th>\n",
       "      <td>бар</td>\n",
       "      <td>35</td>\n",
       "    </tr>\n",
       "    <tr>\n",
       "      <th>7</th>\n",
       "      <td>ресторан</td>\n",
       "      <td>80</td>\n",
       "    </tr>\n",
       "    <tr>\n",
       "      <th>8</th>\n",
       "      <td>столовая</td>\n",
       "      <td>103</td>\n",
       "    </tr>\n",
       "  </tbody>\n",
       "</table>\n",
       "</div>"
      ],
      "text/plain": [
       "                                 Тип  Количество посадочных мест\n",
       "0                         закусочная                           0\n",
       "1          магазин (отдел кулинарии)                           0\n",
       "2                          кафетерий                           6\n",
       "3  предприятие быстрого обслуживания                           6\n",
       "4                               кафе                          30\n",
       "5                              буфет                          32\n",
       "6                                бар                          35\n",
       "7                           ресторан                          80\n",
       "8                           столовая                         103"
      ]
     },
     "execution_count": 42,
     "metadata": {},
     "output_type": "execute_result"
    }
   ],
   "source": [
    "# группируем данные, отображающие медианное значение посадочных мест по типу заведения\n",
    "data_mean_number = data.pivot_table(index = 'object_type', values = 'number', aggfunc = 'median').sort_values(by = 'number').reset_index()\n",
    "data_mean_number = data_mean_number.rename({'object_type':'Тип', 'number':'Количество посадочных мест'}, axis = 1)\n",
    "data_mean_number"
   ]
  },
  {
   "cell_type": "code",
   "execution_count": 43,
   "metadata": {},
   "outputs": [
    {
     "data": {
      "application/vnd.plotly.v1+json": {
       "config": {
        "plotlyServerURL": "https://plot.ly"
       },
       "data": [
        {
         "alignmentgroup": "True",
         "hovertemplate": "Тип=%{x}<br>Количество посадочных мест=%{y}<extra></extra>",
         "legendgroup": "",
         "marker": {
          "color": "#636efa",
          "pattern": {
           "shape": ""
          }
         },
         "name": "",
         "offsetgroup": "",
         "orientation": "v",
         "showlegend": false,
         "textposition": "auto",
         "type": "bar",
         "x": [
          "закусочная",
          "магазин (отдел кулинарии)",
          "кафетерий",
          "предприятие быстрого обслуживания",
          "кафе",
          "буфет",
          "бар",
          "ресторан",
          "столовая"
         ],
         "xaxis": "x",
         "y": [
          0,
          0,
          6,
          6,
          30,
          32,
          35,
          80,
          103
         ],
         "yaxis": "y"
        }
       ],
       "layout": {
        "barmode": "relative",
        "legend": {
         "tracegroupgap": 0
        },
        "template": {
         "data": {
          "bar": [
           {
            "error_x": {
             "color": "#2a3f5f"
            },
            "error_y": {
             "color": "#2a3f5f"
            },
            "marker": {
             "line": {
              "color": "#E5ECF6",
              "width": 0.5
             },
             "pattern": {
              "fillmode": "overlay",
              "size": 10,
              "solidity": 0.2
             }
            },
            "type": "bar"
           }
          ],
          "barpolar": [
           {
            "marker": {
             "line": {
              "color": "#E5ECF6",
              "width": 0.5
             },
             "pattern": {
              "fillmode": "overlay",
              "size": 10,
              "solidity": 0.2
             }
            },
            "type": "barpolar"
           }
          ],
          "carpet": [
           {
            "aaxis": {
             "endlinecolor": "#2a3f5f",
             "gridcolor": "white",
             "linecolor": "white",
             "minorgridcolor": "white",
             "startlinecolor": "#2a3f5f"
            },
            "baxis": {
             "endlinecolor": "#2a3f5f",
             "gridcolor": "white",
             "linecolor": "white",
             "minorgridcolor": "white",
             "startlinecolor": "#2a3f5f"
            },
            "type": "carpet"
           }
          ],
          "choropleth": [
           {
            "colorbar": {
             "outlinewidth": 0,
             "ticks": ""
            },
            "type": "choropleth"
           }
          ],
          "contour": [
           {
            "colorbar": {
             "outlinewidth": 0,
             "ticks": ""
            },
            "colorscale": [
             [
              0,
              "#0d0887"
             ],
             [
              0.1111111111111111,
              "#46039f"
             ],
             [
              0.2222222222222222,
              "#7201a8"
             ],
             [
              0.3333333333333333,
              "#9c179e"
             ],
             [
              0.4444444444444444,
              "#bd3786"
             ],
             [
              0.5555555555555556,
              "#d8576b"
             ],
             [
              0.6666666666666666,
              "#ed7953"
             ],
             [
              0.7777777777777778,
              "#fb9f3a"
             ],
             [
              0.8888888888888888,
              "#fdca26"
             ],
             [
              1,
              "#f0f921"
             ]
            ],
            "type": "contour"
           }
          ],
          "contourcarpet": [
           {
            "colorbar": {
             "outlinewidth": 0,
             "ticks": ""
            },
            "type": "contourcarpet"
           }
          ],
          "heatmap": [
           {
            "colorbar": {
             "outlinewidth": 0,
             "ticks": ""
            },
            "colorscale": [
             [
              0,
              "#0d0887"
             ],
             [
              0.1111111111111111,
              "#46039f"
             ],
             [
              0.2222222222222222,
              "#7201a8"
             ],
             [
              0.3333333333333333,
              "#9c179e"
             ],
             [
              0.4444444444444444,
              "#bd3786"
             ],
             [
              0.5555555555555556,
              "#d8576b"
             ],
             [
              0.6666666666666666,
              "#ed7953"
             ],
             [
              0.7777777777777778,
              "#fb9f3a"
             ],
             [
              0.8888888888888888,
              "#fdca26"
             ],
             [
              1,
              "#f0f921"
             ]
            ],
            "type": "heatmap"
           }
          ],
          "heatmapgl": [
           {
            "colorbar": {
             "outlinewidth": 0,
             "ticks": ""
            },
            "colorscale": [
             [
              0,
              "#0d0887"
             ],
             [
              0.1111111111111111,
              "#46039f"
             ],
             [
              0.2222222222222222,
              "#7201a8"
             ],
             [
              0.3333333333333333,
              "#9c179e"
             ],
             [
              0.4444444444444444,
              "#bd3786"
             ],
             [
              0.5555555555555556,
              "#d8576b"
             ],
             [
              0.6666666666666666,
              "#ed7953"
             ],
             [
              0.7777777777777778,
              "#fb9f3a"
             ],
             [
              0.8888888888888888,
              "#fdca26"
             ],
             [
              1,
              "#f0f921"
             ]
            ],
            "type": "heatmapgl"
           }
          ],
          "histogram": [
           {
            "marker": {
             "pattern": {
              "fillmode": "overlay",
              "size": 10,
              "solidity": 0.2
             }
            },
            "type": "histogram"
           }
          ],
          "histogram2d": [
           {
            "colorbar": {
             "outlinewidth": 0,
             "ticks": ""
            },
            "colorscale": [
             [
              0,
              "#0d0887"
             ],
             [
              0.1111111111111111,
              "#46039f"
             ],
             [
              0.2222222222222222,
              "#7201a8"
             ],
             [
              0.3333333333333333,
              "#9c179e"
             ],
             [
              0.4444444444444444,
              "#bd3786"
             ],
             [
              0.5555555555555556,
              "#d8576b"
             ],
             [
              0.6666666666666666,
              "#ed7953"
             ],
             [
              0.7777777777777778,
              "#fb9f3a"
             ],
             [
              0.8888888888888888,
              "#fdca26"
             ],
             [
              1,
              "#f0f921"
             ]
            ],
            "type": "histogram2d"
           }
          ],
          "histogram2dcontour": [
           {
            "colorbar": {
             "outlinewidth": 0,
             "ticks": ""
            },
            "colorscale": [
             [
              0,
              "#0d0887"
             ],
             [
              0.1111111111111111,
              "#46039f"
             ],
             [
              0.2222222222222222,
              "#7201a8"
             ],
             [
              0.3333333333333333,
              "#9c179e"
             ],
             [
              0.4444444444444444,
              "#bd3786"
             ],
             [
              0.5555555555555556,
              "#d8576b"
             ],
             [
              0.6666666666666666,
              "#ed7953"
             ],
             [
              0.7777777777777778,
              "#fb9f3a"
             ],
             [
              0.8888888888888888,
              "#fdca26"
             ],
             [
              1,
              "#f0f921"
             ]
            ],
            "type": "histogram2dcontour"
           }
          ],
          "mesh3d": [
           {
            "colorbar": {
             "outlinewidth": 0,
             "ticks": ""
            },
            "type": "mesh3d"
           }
          ],
          "parcoords": [
           {
            "line": {
             "colorbar": {
              "outlinewidth": 0,
              "ticks": ""
             }
            },
            "type": "parcoords"
           }
          ],
          "pie": [
           {
            "automargin": true,
            "type": "pie"
           }
          ],
          "scatter": [
           {
            "marker": {
             "colorbar": {
              "outlinewidth": 0,
              "ticks": ""
             }
            },
            "type": "scatter"
           }
          ],
          "scatter3d": [
           {
            "line": {
             "colorbar": {
              "outlinewidth": 0,
              "ticks": ""
             }
            },
            "marker": {
             "colorbar": {
              "outlinewidth": 0,
              "ticks": ""
             }
            },
            "type": "scatter3d"
           }
          ],
          "scattercarpet": [
           {
            "marker": {
             "colorbar": {
              "outlinewidth": 0,
              "ticks": ""
             }
            },
            "type": "scattercarpet"
           }
          ],
          "scattergeo": [
           {
            "marker": {
             "colorbar": {
              "outlinewidth": 0,
              "ticks": ""
             }
            },
            "type": "scattergeo"
           }
          ],
          "scattergl": [
           {
            "marker": {
             "colorbar": {
              "outlinewidth": 0,
              "ticks": ""
             }
            },
            "type": "scattergl"
           }
          ],
          "scattermapbox": [
           {
            "marker": {
             "colorbar": {
              "outlinewidth": 0,
              "ticks": ""
             }
            },
            "type": "scattermapbox"
           }
          ],
          "scatterpolar": [
           {
            "marker": {
             "colorbar": {
              "outlinewidth": 0,
              "ticks": ""
             }
            },
            "type": "scatterpolar"
           }
          ],
          "scatterpolargl": [
           {
            "marker": {
             "colorbar": {
              "outlinewidth": 0,
              "ticks": ""
             }
            },
            "type": "scatterpolargl"
           }
          ],
          "scatterternary": [
           {
            "marker": {
             "colorbar": {
              "outlinewidth": 0,
              "ticks": ""
             }
            },
            "type": "scatterternary"
           }
          ],
          "surface": [
           {
            "colorbar": {
             "outlinewidth": 0,
             "ticks": ""
            },
            "colorscale": [
             [
              0,
              "#0d0887"
             ],
             [
              0.1111111111111111,
              "#46039f"
             ],
             [
              0.2222222222222222,
              "#7201a8"
             ],
             [
              0.3333333333333333,
              "#9c179e"
             ],
             [
              0.4444444444444444,
              "#bd3786"
             ],
             [
              0.5555555555555556,
              "#d8576b"
             ],
             [
              0.6666666666666666,
              "#ed7953"
             ],
             [
              0.7777777777777778,
              "#fb9f3a"
             ],
             [
              0.8888888888888888,
              "#fdca26"
             ],
             [
              1,
              "#f0f921"
             ]
            ],
            "type": "surface"
           }
          ],
          "table": [
           {
            "cells": {
             "fill": {
              "color": "#EBF0F8"
             },
             "line": {
              "color": "white"
             }
            },
            "header": {
             "fill": {
              "color": "#C8D4E3"
             },
             "line": {
              "color": "white"
             }
            },
            "type": "table"
           }
          ]
         },
         "layout": {
          "annotationdefaults": {
           "arrowcolor": "#2a3f5f",
           "arrowhead": 0,
           "arrowwidth": 1
          },
          "autotypenumbers": "strict",
          "coloraxis": {
           "colorbar": {
            "outlinewidth": 0,
            "ticks": ""
           }
          },
          "colorscale": {
           "diverging": [
            [
             0,
             "#8e0152"
            ],
            [
             0.1,
             "#c51b7d"
            ],
            [
             0.2,
             "#de77ae"
            ],
            [
             0.3,
             "#f1b6da"
            ],
            [
             0.4,
             "#fde0ef"
            ],
            [
             0.5,
             "#f7f7f7"
            ],
            [
             0.6,
             "#e6f5d0"
            ],
            [
             0.7,
             "#b8e186"
            ],
            [
             0.8,
             "#7fbc41"
            ],
            [
             0.9,
             "#4d9221"
            ],
            [
             1,
             "#276419"
            ]
           ],
           "sequential": [
            [
             0,
             "#0d0887"
            ],
            [
             0.1111111111111111,
             "#46039f"
            ],
            [
             0.2222222222222222,
             "#7201a8"
            ],
            [
             0.3333333333333333,
             "#9c179e"
            ],
            [
             0.4444444444444444,
             "#bd3786"
            ],
            [
             0.5555555555555556,
             "#d8576b"
            ],
            [
             0.6666666666666666,
             "#ed7953"
            ],
            [
             0.7777777777777778,
             "#fb9f3a"
            ],
            [
             0.8888888888888888,
             "#fdca26"
            ],
            [
             1,
             "#f0f921"
            ]
           ],
           "sequentialminus": [
            [
             0,
             "#0d0887"
            ],
            [
             0.1111111111111111,
             "#46039f"
            ],
            [
             0.2222222222222222,
             "#7201a8"
            ],
            [
             0.3333333333333333,
             "#9c179e"
            ],
            [
             0.4444444444444444,
             "#bd3786"
            ],
            [
             0.5555555555555556,
             "#d8576b"
            ],
            [
             0.6666666666666666,
             "#ed7953"
            ],
            [
             0.7777777777777778,
             "#fb9f3a"
            ],
            [
             0.8888888888888888,
             "#fdca26"
            ],
            [
             1,
             "#f0f921"
            ]
           ]
          },
          "colorway": [
           "#636efa",
           "#EF553B",
           "#00cc96",
           "#ab63fa",
           "#FFA15A",
           "#19d3f3",
           "#FF6692",
           "#B6E880",
           "#FF97FF",
           "#FECB52"
          ],
          "font": {
           "color": "#2a3f5f"
          },
          "geo": {
           "bgcolor": "white",
           "lakecolor": "white",
           "landcolor": "#E5ECF6",
           "showlakes": true,
           "showland": true,
           "subunitcolor": "white"
          },
          "hoverlabel": {
           "align": "left"
          },
          "hovermode": "closest",
          "mapbox": {
           "style": "light"
          },
          "paper_bgcolor": "white",
          "plot_bgcolor": "#E5ECF6",
          "polar": {
           "angularaxis": {
            "gridcolor": "white",
            "linecolor": "white",
            "ticks": ""
           },
           "bgcolor": "#E5ECF6",
           "radialaxis": {
            "gridcolor": "white",
            "linecolor": "white",
            "ticks": ""
           }
          },
          "scene": {
           "xaxis": {
            "backgroundcolor": "#E5ECF6",
            "gridcolor": "white",
            "gridwidth": 2,
            "linecolor": "white",
            "showbackground": true,
            "ticks": "",
            "zerolinecolor": "white"
           },
           "yaxis": {
            "backgroundcolor": "#E5ECF6",
            "gridcolor": "white",
            "gridwidth": 2,
            "linecolor": "white",
            "showbackground": true,
            "ticks": "",
            "zerolinecolor": "white"
           },
           "zaxis": {
            "backgroundcolor": "#E5ECF6",
            "gridcolor": "white",
            "gridwidth": 2,
            "linecolor": "white",
            "showbackground": true,
            "ticks": "",
            "zerolinecolor": "white"
           }
          },
          "shapedefaults": {
           "line": {
            "color": "#2a3f5f"
           }
          },
          "ternary": {
           "aaxis": {
            "gridcolor": "white",
            "linecolor": "white",
            "ticks": ""
           },
           "baxis": {
            "gridcolor": "white",
            "linecolor": "white",
            "ticks": ""
           },
           "bgcolor": "#E5ECF6",
           "caxis": {
            "gridcolor": "white",
            "linecolor": "white",
            "ticks": ""
           }
          },
          "title": {
           "x": 0.05
          },
          "xaxis": {
           "automargin": true,
           "gridcolor": "white",
           "linecolor": "white",
           "ticks": "",
           "title": {
            "standoff": 15
           },
           "zerolinecolor": "white",
           "zerolinewidth": 2
          },
          "yaxis": {
           "automargin": true,
           "gridcolor": "white",
           "linecolor": "white",
           "ticks": "",
           "title": {
            "standoff": 15
           },
           "zerolinecolor": "white",
           "zerolinewidth": 2
          }
         }
        },
        "title": {
         "text": "Типичное количество посадочных мест"
        },
        "xaxis": {
         "anchor": "y",
         "domain": [
          0,
          1
         ],
         "title": {
          "text": "Тип"
         }
        },
        "yaxis": {
         "anchor": "x",
         "domain": [
          0,
          1
         ],
         "title": {
          "text": "Количество посадочных мест"
         }
        }
       }
      },
      "text/html": [
       "<div>                            <div id=\"1478d801-630c-4f48-a01e-14e31c310ed8\" class=\"plotly-graph-div\" style=\"height:525px; width:100%;\"></div>            <script type=\"text/javascript\">                require([\"plotly\"], function(Plotly) {                    window.PLOTLYENV=window.PLOTLYENV || {};                                    if (document.getElementById(\"1478d801-630c-4f48-a01e-14e31c310ed8\")) {                    Plotly.newPlot(                        \"1478d801-630c-4f48-a01e-14e31c310ed8\",                        [{\"alignmentgroup\":\"True\",\"hovertemplate\":\"\\u0422\\u0438\\u043f=%{x}<br>\\u041a\\u043e\\u043b\\u0438\\u0447\\u0435\\u0441\\u0442\\u0432\\u043e \\u043f\\u043e\\u0441\\u0430\\u0434\\u043e\\u0447\\u043d\\u044b\\u0445 \\u043c\\u0435\\u0441\\u0442=%{y}<extra></extra>\",\"legendgroup\":\"\",\"marker\":{\"color\":\"#636efa\",\"pattern\":{\"shape\":\"\"}},\"name\":\"\",\"offsetgroup\":\"\",\"orientation\":\"v\",\"showlegend\":false,\"textposition\":\"auto\",\"x\":[\"\\u0437\\u0430\\u043a\\u0443\\u0441\\u043e\\u0447\\u043d\\u0430\\u044f\",\"\\u043c\\u0430\\u0433\\u0430\\u0437\\u0438\\u043d (\\u043e\\u0442\\u0434\\u0435\\u043b \\u043a\\u0443\\u043b\\u0438\\u043d\\u0430\\u0440\\u0438\\u0438)\",\"\\u043a\\u0430\\u0444\\u0435\\u0442\\u0435\\u0440\\u0438\\u0439\",\"\\u043f\\u0440\\u0435\\u0434\\u043f\\u0440\\u0438\\u044f\\u0442\\u0438\\u0435 \\u0431\\u044b\\u0441\\u0442\\u0440\\u043e\\u0433\\u043e \\u043e\\u0431\\u0441\\u043b\\u0443\\u0436\\u0438\\u0432\\u0430\\u043d\\u0438\\u044f\",\"\\u043a\\u0430\\u0444\\u0435\",\"\\u0431\\u0443\\u0444\\u0435\\u0442\",\"\\u0431\\u0430\\u0440\",\"\\u0440\\u0435\\u0441\\u0442\\u043e\\u0440\\u0430\\u043d\",\"\\u0441\\u0442\\u043e\\u043b\\u043e\\u0432\\u0430\\u044f\"],\"xaxis\":\"x\",\"y\":[0,0,6,6,30,32,35,80,103],\"yaxis\":\"y\",\"type\":\"bar\"}],                        {\"template\":{\"data\":{\"bar\":[{\"error_x\":{\"color\":\"#2a3f5f\"},\"error_y\":{\"color\":\"#2a3f5f\"},\"marker\":{\"line\":{\"color\":\"#E5ECF6\",\"width\":0.5},\"pattern\":{\"fillmode\":\"overlay\",\"size\":10,\"solidity\":0.2}},\"type\":\"bar\"}],\"barpolar\":[{\"marker\":{\"line\":{\"color\":\"#E5ECF6\",\"width\":0.5},\"pattern\":{\"fillmode\":\"overlay\",\"size\":10,\"solidity\":0.2}},\"type\":\"barpolar\"}],\"carpet\":[{\"aaxis\":{\"endlinecolor\":\"#2a3f5f\",\"gridcolor\":\"white\",\"linecolor\":\"white\",\"minorgridcolor\":\"white\",\"startlinecolor\":\"#2a3f5f\"},\"baxis\":{\"endlinecolor\":\"#2a3f5f\",\"gridcolor\":\"white\",\"linecolor\":\"white\",\"minorgridcolor\":\"white\",\"startlinecolor\":\"#2a3f5f\"},\"type\":\"carpet\"}],\"choropleth\":[{\"colorbar\":{\"outlinewidth\":0,\"ticks\":\"\"},\"type\":\"choropleth\"}],\"contour\":[{\"colorbar\":{\"outlinewidth\":0,\"ticks\":\"\"},\"colorscale\":[[0.0,\"#0d0887\"],[0.1111111111111111,\"#46039f\"],[0.2222222222222222,\"#7201a8\"],[0.3333333333333333,\"#9c179e\"],[0.4444444444444444,\"#bd3786\"],[0.5555555555555556,\"#d8576b\"],[0.6666666666666666,\"#ed7953\"],[0.7777777777777778,\"#fb9f3a\"],[0.8888888888888888,\"#fdca26\"],[1.0,\"#f0f921\"]],\"type\":\"contour\"}],\"contourcarpet\":[{\"colorbar\":{\"outlinewidth\":0,\"ticks\":\"\"},\"type\":\"contourcarpet\"}],\"heatmap\":[{\"colorbar\":{\"outlinewidth\":0,\"ticks\":\"\"},\"colorscale\":[[0.0,\"#0d0887\"],[0.1111111111111111,\"#46039f\"],[0.2222222222222222,\"#7201a8\"],[0.3333333333333333,\"#9c179e\"],[0.4444444444444444,\"#bd3786\"],[0.5555555555555556,\"#d8576b\"],[0.6666666666666666,\"#ed7953\"],[0.7777777777777778,\"#fb9f3a\"],[0.8888888888888888,\"#fdca26\"],[1.0,\"#f0f921\"]],\"type\":\"heatmap\"}],\"heatmapgl\":[{\"colorbar\":{\"outlinewidth\":0,\"ticks\":\"\"},\"colorscale\":[[0.0,\"#0d0887\"],[0.1111111111111111,\"#46039f\"],[0.2222222222222222,\"#7201a8\"],[0.3333333333333333,\"#9c179e\"],[0.4444444444444444,\"#bd3786\"],[0.5555555555555556,\"#d8576b\"],[0.6666666666666666,\"#ed7953\"],[0.7777777777777778,\"#fb9f3a\"],[0.8888888888888888,\"#fdca26\"],[1.0,\"#f0f921\"]],\"type\":\"heatmapgl\"}],\"histogram\":[{\"marker\":{\"pattern\":{\"fillmode\":\"overlay\",\"size\":10,\"solidity\":0.2}},\"type\":\"histogram\"}],\"histogram2d\":[{\"colorbar\":{\"outlinewidth\":0,\"ticks\":\"\"},\"colorscale\":[[0.0,\"#0d0887\"],[0.1111111111111111,\"#46039f\"],[0.2222222222222222,\"#7201a8\"],[0.3333333333333333,\"#9c179e\"],[0.4444444444444444,\"#bd3786\"],[0.5555555555555556,\"#d8576b\"],[0.6666666666666666,\"#ed7953\"],[0.7777777777777778,\"#fb9f3a\"],[0.8888888888888888,\"#fdca26\"],[1.0,\"#f0f921\"]],\"type\":\"histogram2d\"}],\"histogram2dcontour\":[{\"colorbar\":{\"outlinewidth\":0,\"ticks\":\"\"},\"colorscale\":[[0.0,\"#0d0887\"],[0.1111111111111111,\"#46039f\"],[0.2222222222222222,\"#7201a8\"],[0.3333333333333333,\"#9c179e\"],[0.4444444444444444,\"#bd3786\"],[0.5555555555555556,\"#d8576b\"],[0.6666666666666666,\"#ed7953\"],[0.7777777777777778,\"#fb9f3a\"],[0.8888888888888888,\"#fdca26\"],[1.0,\"#f0f921\"]],\"type\":\"histogram2dcontour\"}],\"mesh3d\":[{\"colorbar\":{\"outlinewidth\":0,\"ticks\":\"\"},\"type\":\"mesh3d\"}],\"parcoords\":[{\"line\":{\"colorbar\":{\"outlinewidth\":0,\"ticks\":\"\"}},\"type\":\"parcoords\"}],\"pie\":[{\"automargin\":true,\"type\":\"pie\"}],\"scatter\":[{\"marker\":{\"colorbar\":{\"outlinewidth\":0,\"ticks\":\"\"}},\"type\":\"scatter\"}],\"scatter3d\":[{\"line\":{\"colorbar\":{\"outlinewidth\":0,\"ticks\":\"\"}},\"marker\":{\"colorbar\":{\"outlinewidth\":0,\"ticks\":\"\"}},\"type\":\"scatter3d\"}],\"scattercarpet\":[{\"marker\":{\"colorbar\":{\"outlinewidth\":0,\"ticks\":\"\"}},\"type\":\"scattercarpet\"}],\"scattergeo\":[{\"marker\":{\"colorbar\":{\"outlinewidth\":0,\"ticks\":\"\"}},\"type\":\"scattergeo\"}],\"scattergl\":[{\"marker\":{\"colorbar\":{\"outlinewidth\":0,\"ticks\":\"\"}},\"type\":\"scattergl\"}],\"scattermapbox\":[{\"marker\":{\"colorbar\":{\"outlinewidth\":0,\"ticks\":\"\"}},\"type\":\"scattermapbox\"}],\"scatterpolar\":[{\"marker\":{\"colorbar\":{\"outlinewidth\":0,\"ticks\":\"\"}},\"type\":\"scatterpolar\"}],\"scatterpolargl\":[{\"marker\":{\"colorbar\":{\"outlinewidth\":0,\"ticks\":\"\"}},\"type\":\"scatterpolargl\"}],\"scatterternary\":[{\"marker\":{\"colorbar\":{\"outlinewidth\":0,\"ticks\":\"\"}},\"type\":\"scatterternary\"}],\"surface\":[{\"colorbar\":{\"outlinewidth\":0,\"ticks\":\"\"},\"colorscale\":[[0.0,\"#0d0887\"],[0.1111111111111111,\"#46039f\"],[0.2222222222222222,\"#7201a8\"],[0.3333333333333333,\"#9c179e\"],[0.4444444444444444,\"#bd3786\"],[0.5555555555555556,\"#d8576b\"],[0.6666666666666666,\"#ed7953\"],[0.7777777777777778,\"#fb9f3a\"],[0.8888888888888888,\"#fdca26\"],[1.0,\"#f0f921\"]],\"type\":\"surface\"}],\"table\":[{\"cells\":{\"fill\":{\"color\":\"#EBF0F8\"},\"line\":{\"color\":\"white\"}},\"header\":{\"fill\":{\"color\":\"#C8D4E3\"},\"line\":{\"color\":\"white\"}},\"type\":\"table\"}]},\"layout\":{\"annotationdefaults\":{\"arrowcolor\":\"#2a3f5f\",\"arrowhead\":0,\"arrowwidth\":1},\"autotypenumbers\":\"strict\",\"coloraxis\":{\"colorbar\":{\"outlinewidth\":0,\"ticks\":\"\"}},\"colorscale\":{\"diverging\":[[0,\"#8e0152\"],[0.1,\"#c51b7d\"],[0.2,\"#de77ae\"],[0.3,\"#f1b6da\"],[0.4,\"#fde0ef\"],[0.5,\"#f7f7f7\"],[0.6,\"#e6f5d0\"],[0.7,\"#b8e186\"],[0.8,\"#7fbc41\"],[0.9,\"#4d9221\"],[1,\"#276419\"]],\"sequential\":[[0.0,\"#0d0887\"],[0.1111111111111111,\"#46039f\"],[0.2222222222222222,\"#7201a8\"],[0.3333333333333333,\"#9c179e\"],[0.4444444444444444,\"#bd3786\"],[0.5555555555555556,\"#d8576b\"],[0.6666666666666666,\"#ed7953\"],[0.7777777777777778,\"#fb9f3a\"],[0.8888888888888888,\"#fdca26\"],[1.0,\"#f0f921\"]],\"sequentialminus\":[[0.0,\"#0d0887\"],[0.1111111111111111,\"#46039f\"],[0.2222222222222222,\"#7201a8\"],[0.3333333333333333,\"#9c179e\"],[0.4444444444444444,\"#bd3786\"],[0.5555555555555556,\"#d8576b\"],[0.6666666666666666,\"#ed7953\"],[0.7777777777777778,\"#fb9f3a\"],[0.8888888888888888,\"#fdca26\"],[1.0,\"#f0f921\"]]},\"colorway\":[\"#636efa\",\"#EF553B\",\"#00cc96\",\"#ab63fa\",\"#FFA15A\",\"#19d3f3\",\"#FF6692\",\"#B6E880\",\"#FF97FF\",\"#FECB52\"],\"font\":{\"color\":\"#2a3f5f\"},\"geo\":{\"bgcolor\":\"white\",\"lakecolor\":\"white\",\"landcolor\":\"#E5ECF6\",\"showlakes\":true,\"showland\":true,\"subunitcolor\":\"white\"},\"hoverlabel\":{\"align\":\"left\"},\"hovermode\":\"closest\",\"mapbox\":{\"style\":\"light\"},\"paper_bgcolor\":\"white\",\"plot_bgcolor\":\"#E5ECF6\",\"polar\":{\"angularaxis\":{\"gridcolor\":\"white\",\"linecolor\":\"white\",\"ticks\":\"\"},\"bgcolor\":\"#E5ECF6\",\"radialaxis\":{\"gridcolor\":\"white\",\"linecolor\":\"white\",\"ticks\":\"\"}},\"scene\":{\"xaxis\":{\"backgroundcolor\":\"#E5ECF6\",\"gridcolor\":\"white\",\"gridwidth\":2,\"linecolor\":\"white\",\"showbackground\":true,\"ticks\":\"\",\"zerolinecolor\":\"white\"},\"yaxis\":{\"backgroundcolor\":\"#E5ECF6\",\"gridcolor\":\"white\",\"gridwidth\":2,\"linecolor\":\"white\",\"showbackground\":true,\"ticks\":\"\",\"zerolinecolor\":\"white\"},\"zaxis\":{\"backgroundcolor\":\"#E5ECF6\",\"gridcolor\":\"white\",\"gridwidth\":2,\"linecolor\":\"white\",\"showbackground\":true,\"ticks\":\"\",\"zerolinecolor\":\"white\"}},\"shapedefaults\":{\"line\":{\"color\":\"#2a3f5f\"}},\"ternary\":{\"aaxis\":{\"gridcolor\":\"white\",\"linecolor\":\"white\",\"ticks\":\"\"},\"baxis\":{\"gridcolor\":\"white\",\"linecolor\":\"white\",\"ticks\":\"\"},\"bgcolor\":\"#E5ECF6\",\"caxis\":{\"gridcolor\":\"white\",\"linecolor\":\"white\",\"ticks\":\"\"}},\"title\":{\"x\":0.05},\"xaxis\":{\"automargin\":true,\"gridcolor\":\"white\",\"linecolor\":\"white\",\"ticks\":\"\",\"title\":{\"standoff\":15},\"zerolinecolor\":\"white\",\"zerolinewidth\":2},\"yaxis\":{\"automargin\":true,\"gridcolor\":\"white\",\"linecolor\":\"white\",\"ticks\":\"\",\"title\":{\"standoff\":15},\"zerolinecolor\":\"white\",\"zerolinewidth\":2}}},\"xaxis\":{\"anchor\":\"y\",\"domain\":[0.0,1.0],\"title\":{\"text\":\"\\u0422\\u0438\\u043f\"}},\"yaxis\":{\"anchor\":\"x\",\"domain\":[0.0,1.0],\"title\":{\"text\":\"\\u041a\\u043e\\u043b\\u0438\\u0447\\u0435\\u0441\\u0442\\u0432\\u043e \\u043f\\u043e\\u0441\\u0430\\u0434\\u043e\\u0447\\u043d\\u044b\\u0445 \\u043c\\u0435\\u0441\\u0442\"}},\"legend\":{\"tracegroupgap\":0},\"title\":{\"text\":\"\\u0422\\u0438\\u043f\\u0438\\u0447\\u043d\\u043e\\u0435 \\u043a\\u043e\\u043b\\u0438\\u0447\\u0435\\u0441\\u0442\\u0432\\u043e \\u043f\\u043e\\u0441\\u0430\\u0434\\u043e\\u0447\\u043d\\u044b\\u0445 \\u043c\\u0435\\u0441\\u0442\"},\"barmode\":\"relative\"},                        {\"responsive\": true}                    ).then(function(){\n",
       "                            \n",
       "var gd = document.getElementById('1478d801-630c-4f48-a01e-14e31c310ed8');\n",
       "var x = new MutationObserver(function (mutations, observer) {{\n",
       "        var display = window.getComputedStyle(gd).display;\n",
       "        if (!display || display === 'none') {{\n",
       "            console.log([gd, 'removed!']);\n",
       "            Plotly.purge(gd);\n",
       "            observer.disconnect();\n",
       "        }}\n",
       "}});\n",
       "\n",
       "// Listen for the removal of the full notebook cells\n",
       "var notebookContainer = gd.closest('#notebook-container');\n",
       "if (notebookContainer) {{\n",
       "    x.observe(notebookContainer, {childList: true});\n",
       "}}\n",
       "\n",
       "// Listen for the clearing of the current output cell\n",
       "var outputEl = gd.closest('.output');\n",
       "if (outputEl) {{\n",
       "    x.observe(outputEl, {childList: true});\n",
       "}}\n",
       "\n",
       "                        })                };                });            </script>        </div>"
      ]
     },
     "metadata": {},
     "output_type": "display_data"
    }
   ],
   "source": [
    "fig = px.bar(data_mean_number, x = 'Тип', y = 'Количество посадочных мест', title = 'Типичное количество посадочных мест')\n",
    "fig.show()"
   ]
  },
  {
   "cell_type": "markdown",
   "metadata": {},
   "source": [
    "ВЫВОД: Больше всего посадочных мест, как правило в столовых."
   ]
  },
  {
   "cell_type": "markdown",
   "metadata": {},
   "source": [
    " **Выделим в отдельный столбец информацию об улице из столбца address.**"
   ]
  },
  {
   "cell_type": "code",
   "execution_count": 44,
   "metadata": {},
   "outputs": [
    {
     "data": {
      "text/html": [
       "<div>\n",
       "<style scoped>\n",
       "    .dataframe tbody tr th:only-of-type {\n",
       "        vertical-align: middle;\n",
       "    }\n",
       "\n",
       "    .dataframe tbody tr th {\n",
       "        vertical-align: top;\n",
       "    }\n",
       "\n",
       "    .dataframe thead th {\n",
       "        text-align: right;\n",
       "    }\n",
       "</style>\n",
       "<table border=\"1\" class=\"dataframe\">\n",
       "  <thead>\n",
       "    <tr style=\"text-align: right;\">\n",
       "      <th></th>\n",
       "      <th>id</th>\n",
       "      <th>object_name</th>\n",
       "      <th>chain</th>\n",
       "      <th>object_type</th>\n",
       "      <th>address</th>\n",
       "      <th>number</th>\n",
       "      <th>street</th>\n",
       "    </tr>\n",
       "  </thead>\n",
       "  <tbody>\n",
       "    <tr>\n",
       "      <th>0</th>\n",
       "      <td>151635</td>\n",
       "      <td>сметана</td>\n",
       "      <td>нет</td>\n",
       "      <td>кафе</td>\n",
       "      <td>город Москва, улица Егора Абакумова, дом 9</td>\n",
       "      <td>48</td>\n",
       "      <td>улица Егора Абакумова</td>\n",
       "    </tr>\n",
       "    <tr>\n",
       "      <th>1</th>\n",
       "      <td>77874</td>\n",
       "      <td>родник</td>\n",
       "      <td>нет</td>\n",
       "      <td>кафе</td>\n",
       "      <td>город Москва, улица Талалихина, дом 2/1, корпус 1</td>\n",
       "      <td>35</td>\n",
       "      <td>улица Талалихина</td>\n",
       "    </tr>\n",
       "    <tr>\n",
       "      <th>2</th>\n",
       "      <td>24309</td>\n",
       "      <td>кафе «академия»</td>\n",
       "      <td>нет</td>\n",
       "      <td>кафе</td>\n",
       "      <td>город Москва, Абельмановская улица, дом 6</td>\n",
       "      <td>95</td>\n",
       "      <td>Абельмановская улица</td>\n",
       "    </tr>\n",
       "    <tr>\n",
       "      <th>3</th>\n",
       "      <td>21894</td>\n",
       "      <td>пиццетория</td>\n",
       "      <td>да</td>\n",
       "      <td>кафе</td>\n",
       "      <td>город Москва, Абрамцевская улица, дом 1</td>\n",
       "      <td>40</td>\n",
       "      <td>Абрамцевская улица</td>\n",
       "    </tr>\n",
       "    <tr>\n",
       "      <th>4</th>\n",
       "      <td>119365</td>\n",
       "      <td>кафе «вишневая метель»</td>\n",
       "      <td>нет</td>\n",
       "      <td>кафе</td>\n",
       "      <td>город Москва, Абрамцевская улица, дом 9, корпус 1</td>\n",
       "      <td>50</td>\n",
       "      <td>Абрамцевская улица</td>\n",
       "    </tr>\n",
       "  </tbody>\n",
       "</table>\n",
       "</div>"
      ],
      "text/plain": [
       "       id             object_name chain object_type  \\\n",
       "0  151635                 сметана   нет        кафе   \n",
       "1   77874                  родник   нет        кафе   \n",
       "2   24309         кафе «академия»   нет        кафе   \n",
       "3   21894              пиццетория    да        кафе   \n",
       "4  119365  кафе «вишневая метель»   нет        кафе   \n",
       "\n",
       "                                             address  number  \\\n",
       "0         город Москва, улица Егора Абакумова, дом 9      48   \n",
       "1  город Москва, улица Талалихина, дом 2/1, корпус 1      35   \n",
       "2          город Москва, Абельмановская улица, дом 6      95   \n",
       "3            город Москва, Абрамцевская улица, дом 1      40   \n",
       "4  город Москва, Абрамцевская улица, дом 9, корпус 1      50   \n",
       "\n",
       "                  street  \n",
       "0  улица Егора Абакумова  \n",
       "1       улица Талалихина  \n",
       "2   Абельмановская улица  \n",
       "3     Абрамцевская улица  \n",
       "4     Абрамцевская улица  "
      ]
     },
     "execution_count": 44,
     "metadata": {},
     "output_type": "execute_result"
    }
   ],
   "source": [
    "# выделяем отдельный столбец с улицами\n",
    "def address_street(data):\n",
    "    address = data['address'].split(', ')\n",
    "    street = address[1]\n",
    "    return street\n",
    "\n",
    "data['street'] = data.apply(address_street, axis=1)\n",
    "data.head()"
   ]
  },
  {
   "cell_type": "markdown",
   "metadata": {},
   "source": [
    "### Посмотрим топ-10 улиц по количеству объектов общественного питания. Воспользуемся внешней информацией и ответим на вопрос — в каких районах Москвы находятся эти улицы?"
   ]
  },
  {
   "cell_type": "code",
   "execution_count": 45,
   "metadata": {},
   "outputs": [
    {
     "data": {
      "text/html": [
       "<div>\n",
       "<style scoped>\n",
       "    .dataframe tbody tr th:only-of-type {\n",
       "        vertical-align: middle;\n",
       "    }\n",
       "\n",
       "    .dataframe tbody tr th {\n",
       "        vertical-align: top;\n",
       "    }\n",
       "\n",
       "    .dataframe thead th {\n",
       "        text-align: right;\n",
       "    }\n",
       "</style>\n",
       "<table border=\"1\" class=\"dataframe\">\n",
       "  <thead>\n",
       "    <tr style=\"text-align: right;\">\n",
       "      <th></th>\n",
       "      <th>street</th>\n",
       "      <th>areaid</th>\n",
       "      <th>okrug</th>\n",
       "      <th>area</th>\n",
       "      <th>Unnamed: 4</th>\n",
       "    </tr>\n",
       "  </thead>\n",
       "  <tbody>\n",
       "    <tr>\n",
       "      <th>0</th>\n",
       "      <td>Выставочный переулок</td>\n",
       "      <td>17</td>\n",
       "      <td>ЦАО</td>\n",
       "      <td>Пресненский район</td>\n",
       "      <td>NaN</td>\n",
       "    </tr>\n",
       "    <tr>\n",
       "      <th>1</th>\n",
       "      <td>улица Гашека</td>\n",
       "      <td>17</td>\n",
       "      <td>ЦАО</td>\n",
       "      <td>Пресненский район</td>\n",
       "      <td>NaN</td>\n",
       "    </tr>\n",
       "    <tr>\n",
       "      <th>2</th>\n",
       "      <td>Большая Никитская улица</td>\n",
       "      <td>17</td>\n",
       "      <td>ЦАО</td>\n",
       "      <td>Пресненский район</td>\n",
       "      <td>NaN</td>\n",
       "    </tr>\n",
       "    <tr>\n",
       "      <th>3</th>\n",
       "      <td>Глубокий переулок</td>\n",
       "      <td>17</td>\n",
       "      <td>ЦАО</td>\n",
       "      <td>Пресненский район</td>\n",
       "      <td>NaN</td>\n",
       "    </tr>\n",
       "    <tr>\n",
       "      <th>4</th>\n",
       "      <td>Большой Гнездниковский переулок</td>\n",
       "      <td>17</td>\n",
       "      <td>ЦАО</td>\n",
       "      <td>Пресненский район</td>\n",
       "      <td>NaN</td>\n",
       "    </tr>\n",
       "    <tr>\n",
       "      <th>...</th>\n",
       "      <td>...</td>\n",
       "      <td>...</td>\n",
       "      <td>...</td>\n",
       "      <td>...</td>\n",
       "      <td>...</td>\n",
       "    </tr>\n",
       "    <tr>\n",
       "      <th>4393</th>\n",
       "      <td>Вознесенский проезд</td>\n",
       "      <td>17</td>\n",
       "      <td>ЦАО</td>\n",
       "      <td>Пресненский район</td>\n",
       "      <td>NaN</td>\n",
       "    </tr>\n",
       "    <tr>\n",
       "      <th>4394</th>\n",
       "      <td>Волков переулок</td>\n",
       "      <td>17</td>\n",
       "      <td>ЦАО</td>\n",
       "      <td>Пресненский район</td>\n",
       "      <td>NaN</td>\n",
       "    </tr>\n",
       "    <tr>\n",
       "      <th>4395</th>\n",
       "      <td>Поварская улица</td>\n",
       "      <td>17</td>\n",
       "      <td>ЦАО</td>\n",
       "      <td>Пресненский район</td>\n",
       "      <td>NaN</td>\n",
       "    </tr>\n",
       "    <tr>\n",
       "      <th>4396</th>\n",
       "      <td>Кудринская площадь</td>\n",
       "      <td>17</td>\n",
       "      <td>ЦАО</td>\n",
       "      <td>Пресненский район</td>\n",
       "      <td>NaN</td>\n",
       "    </tr>\n",
       "    <tr>\n",
       "      <th>4397</th>\n",
       "      <td>Вспольный переулок</td>\n",
       "      <td>17</td>\n",
       "      <td>ЦАО</td>\n",
       "      <td>Пресненский район</td>\n",
       "      <td>NaN</td>\n",
       "    </tr>\n",
       "  </tbody>\n",
       "</table>\n",
       "<p>4398 rows × 5 columns</p>\n",
       "</div>"
      ],
      "text/plain": [
       "                               street areaid okrug               area  \\\n",
       "0                Выставочный переулок     17   ЦАО  Пресненский район   \n",
       "1                        улица Гашека     17   ЦАО  Пресненский район   \n",
       "2             Большая Никитская улица     17   ЦАО  Пресненский район   \n",
       "3                   Глубокий переулок     17   ЦАО  Пресненский район   \n",
       "4     Большой Гнездниковский переулок     17   ЦАО  Пресненский район   \n",
       "...                               ...    ...   ...                ...   \n",
       "4393              Вознесенский проезд     17   ЦАО  Пресненский район   \n",
       "4394                  Волков переулок     17   ЦАО  Пресненский район   \n",
       "4395                  Поварская улица     17   ЦАО  Пресненский район   \n",
       "4396               Кудринская площадь     17   ЦАО  Пресненский район   \n",
       "4397               Вспольный переулок     17   ЦАО  Пресненский район   \n",
       "\n",
       "     Unnamed: 4  \n",
       "0           NaN  \n",
       "1           NaN  \n",
       "2           NaN  \n",
       "3           NaN  \n",
       "4           NaN  \n",
       "...         ...  \n",
       "4393        NaN  \n",
       "4394        NaN  \n",
       "4395        NaN  \n",
       "4396        NaN  \n",
       "4397        NaN  \n",
       "\n",
       "[4398 rows x 5 columns]"
      ]
     },
     "execution_count": 45,
     "metadata": {},
     "output_type": "execute_result"
    }
   ],
   "source": [
    "# импортируем данные из внешнего источника\n",
    "from io import BytesIO\n",
    "import requests\n",
    "spreadsheet_id = '15jwfZsG6MF23vok_O4Q5eYLW8c0dLl8_Qsvo-65XmBw'\n",
    "file_name = 'https://docs.google.com/spreadsheets/d/{}/export?format=csv'.format(spreadsheet_id)\n",
    "r = requests.get(file_name)\n",
    "df = pd.read_csv(BytesIO(r.content))\n",
    "df = df.rename({'streetname':'street'}, axis = 1)\n",
    "df "
   ]
  },
  {
   "cell_type": "code",
   "execution_count": 46,
   "metadata": {},
   "outputs": [
    {
     "data": {
      "text/plain": [
       "8"
      ]
     },
     "execution_count": 46,
     "metadata": {},
     "output_type": "execute_result"
    }
   ],
   "source": [
    "df.duplicated().sum() #проверка дубликатов"
   ]
  },
  {
   "cell_type": "code",
   "execution_count": 47,
   "metadata": {},
   "outputs": [],
   "source": [
    "df = df.drop_duplicates() #удаляем дубликаты"
   ]
  },
  {
   "cell_type": "markdown",
   "metadata": {},
   "source": [
    "Если ссылка ведёт на скачивание `csv` файла, то её можно передавать сразу в `read_csv`. https://stackoverflow.com/questions/56611698/pandas-how-to-read-csv-file-from-google-drive-public  "
   ]
  },
  {
   "cell_type": "code",
   "execution_count": 48,
   "metadata": {},
   "outputs": [
    {
     "data": {
      "text/html": [
       "<div>\n",
       "<style scoped>\n",
       "    .dataframe tbody tr th:only-of-type {\n",
       "        vertical-align: middle;\n",
       "    }\n",
       "\n",
       "    .dataframe tbody tr th {\n",
       "        vertical-align: top;\n",
       "    }\n",
       "\n",
       "    .dataframe thead th {\n",
       "        text-align: right;\n",
       "    }\n",
       "</style>\n",
       "<table border=\"1\" class=\"dataframe\">\n",
       "  <thead>\n",
       "    <tr style=\"text-align: right;\">\n",
       "      <th></th>\n",
       "      <th>street</th>\n",
       "      <th>Количество предприятий общественного питания</th>\n",
       "    </tr>\n",
       "  </thead>\n",
       "  <tbody>\n",
       "    <tr>\n",
       "      <th>0</th>\n",
       "      <td>город Зеленоград</td>\n",
       "      <td>232</td>\n",
       "    </tr>\n",
       "    <tr>\n",
       "      <th>1</th>\n",
       "      <td>проспект Мира</td>\n",
       "      <td>203</td>\n",
       "    </tr>\n",
       "    <tr>\n",
       "      <th>2</th>\n",
       "      <td>Профсоюзная улица</td>\n",
       "      <td>181</td>\n",
       "    </tr>\n",
       "    <tr>\n",
       "      <th>3</th>\n",
       "      <td>Ленинградский проспект</td>\n",
       "      <td>170</td>\n",
       "    </tr>\n",
       "    <tr>\n",
       "      <th>4</th>\n",
       "      <td>Пресненская набережная</td>\n",
       "      <td>167</td>\n",
       "    </tr>\n",
       "    <tr>\n",
       "      <th>5</th>\n",
       "      <td>Варшавское шоссе</td>\n",
       "      <td>161</td>\n",
       "    </tr>\n",
       "    <tr>\n",
       "      <th>6</th>\n",
       "      <td>Ленинский проспект</td>\n",
       "      <td>147</td>\n",
       "    </tr>\n",
       "    <tr>\n",
       "      <th>7</th>\n",
       "      <td>поселение Сосенское</td>\n",
       "      <td>137</td>\n",
       "    </tr>\n",
       "    <tr>\n",
       "      <th>8</th>\n",
       "      <td>проспект Вернадского</td>\n",
       "      <td>128</td>\n",
       "    </tr>\n",
       "    <tr>\n",
       "      <th>9</th>\n",
       "      <td>Кутузовский проспект</td>\n",
       "      <td>114</td>\n",
       "    </tr>\n",
       "  </tbody>\n",
       "</table>\n",
       "</div>"
      ],
      "text/plain": [
       "                   street  Количество предприятий общественного питания\n",
       "0        город Зеленоград                                           232\n",
       "1           проспект Мира                                           203\n",
       "2       Профсоюзная улица                                           181\n",
       "3  Ленинградский проспект                                           170\n",
       "4  Пресненская набережная                                           167\n",
       "5        Варшавское шоссе                                           161\n",
       "6      Ленинский проспект                                           147\n",
       "7     поселение Сосенское                                           137\n",
       "8    проспект Вернадского                                           128\n",
       "9    Кутузовский проспект                                           114"
      ]
     },
     "execution_count": 48,
     "metadata": {},
     "output_type": "execute_result"
    }
   ],
   "source": [
    "# топ 10 улиц с наибольшим количеством предприятий общепита\n",
    "data_address = data.pivot_table(index = 'street', values = 'id', aggfunc = 'count').sort_values(by = 'id', ascending = False).reset_index()\n",
    "data_address = data_address.head(10)\n",
    "data_address = data_address.rename({'id':'Количество предприятий общественного питания'}, axis = 1)\n",
    "data_address"
   ]
  },
  {
   "cell_type": "code",
   "execution_count": 49,
   "metadata": {},
   "outputs": [
    {
     "data": {
      "application/vnd.plotly.v1+json": {
       "config": {
        "plotlyServerURL": "https://plot.ly"
       },
       "data": [
        {
         "alignmentgroup": "True",
         "hovertemplate": "street=%{x}<br>Количество предприятий общественного питания=%{y}<extra></extra>",
         "legendgroup": "",
         "marker": {
          "color": "#636efa",
          "pattern": {
           "shape": ""
          }
         },
         "name": "",
         "offsetgroup": "",
         "orientation": "v",
         "showlegend": false,
         "textposition": "auto",
         "type": "bar",
         "x": [
          "город Зеленоград",
          "проспект Мира",
          "Профсоюзная улица",
          "Ленинградский проспект",
          "Пресненская набережная",
          "Варшавское шоссе",
          "Ленинский проспект",
          "поселение Сосенское",
          "проспект Вернадского",
          "Кутузовский проспект"
         ],
         "xaxis": "x",
         "y": [
          232,
          203,
          181,
          170,
          167,
          161,
          147,
          137,
          128,
          114
         ],
         "yaxis": "y"
        }
       ],
       "layout": {
        "barmode": "relative",
        "legend": {
         "tracegroupgap": 0
        },
        "template": {
         "data": {
          "bar": [
           {
            "error_x": {
             "color": "#2a3f5f"
            },
            "error_y": {
             "color": "#2a3f5f"
            },
            "marker": {
             "line": {
              "color": "#E5ECF6",
              "width": 0.5
             },
             "pattern": {
              "fillmode": "overlay",
              "size": 10,
              "solidity": 0.2
             }
            },
            "type": "bar"
           }
          ],
          "barpolar": [
           {
            "marker": {
             "line": {
              "color": "#E5ECF6",
              "width": 0.5
             },
             "pattern": {
              "fillmode": "overlay",
              "size": 10,
              "solidity": 0.2
             }
            },
            "type": "barpolar"
           }
          ],
          "carpet": [
           {
            "aaxis": {
             "endlinecolor": "#2a3f5f",
             "gridcolor": "white",
             "linecolor": "white",
             "minorgridcolor": "white",
             "startlinecolor": "#2a3f5f"
            },
            "baxis": {
             "endlinecolor": "#2a3f5f",
             "gridcolor": "white",
             "linecolor": "white",
             "minorgridcolor": "white",
             "startlinecolor": "#2a3f5f"
            },
            "type": "carpet"
           }
          ],
          "choropleth": [
           {
            "colorbar": {
             "outlinewidth": 0,
             "ticks": ""
            },
            "type": "choropleth"
           }
          ],
          "contour": [
           {
            "colorbar": {
             "outlinewidth": 0,
             "ticks": ""
            },
            "colorscale": [
             [
              0,
              "#0d0887"
             ],
             [
              0.1111111111111111,
              "#46039f"
             ],
             [
              0.2222222222222222,
              "#7201a8"
             ],
             [
              0.3333333333333333,
              "#9c179e"
             ],
             [
              0.4444444444444444,
              "#bd3786"
             ],
             [
              0.5555555555555556,
              "#d8576b"
             ],
             [
              0.6666666666666666,
              "#ed7953"
             ],
             [
              0.7777777777777778,
              "#fb9f3a"
             ],
             [
              0.8888888888888888,
              "#fdca26"
             ],
             [
              1,
              "#f0f921"
             ]
            ],
            "type": "contour"
           }
          ],
          "contourcarpet": [
           {
            "colorbar": {
             "outlinewidth": 0,
             "ticks": ""
            },
            "type": "contourcarpet"
           }
          ],
          "heatmap": [
           {
            "colorbar": {
             "outlinewidth": 0,
             "ticks": ""
            },
            "colorscale": [
             [
              0,
              "#0d0887"
             ],
             [
              0.1111111111111111,
              "#46039f"
             ],
             [
              0.2222222222222222,
              "#7201a8"
             ],
             [
              0.3333333333333333,
              "#9c179e"
             ],
             [
              0.4444444444444444,
              "#bd3786"
             ],
             [
              0.5555555555555556,
              "#d8576b"
             ],
             [
              0.6666666666666666,
              "#ed7953"
             ],
             [
              0.7777777777777778,
              "#fb9f3a"
             ],
             [
              0.8888888888888888,
              "#fdca26"
             ],
             [
              1,
              "#f0f921"
             ]
            ],
            "type": "heatmap"
           }
          ],
          "heatmapgl": [
           {
            "colorbar": {
             "outlinewidth": 0,
             "ticks": ""
            },
            "colorscale": [
             [
              0,
              "#0d0887"
             ],
             [
              0.1111111111111111,
              "#46039f"
             ],
             [
              0.2222222222222222,
              "#7201a8"
             ],
             [
              0.3333333333333333,
              "#9c179e"
             ],
             [
              0.4444444444444444,
              "#bd3786"
             ],
             [
              0.5555555555555556,
              "#d8576b"
             ],
             [
              0.6666666666666666,
              "#ed7953"
             ],
             [
              0.7777777777777778,
              "#fb9f3a"
             ],
             [
              0.8888888888888888,
              "#fdca26"
             ],
             [
              1,
              "#f0f921"
             ]
            ],
            "type": "heatmapgl"
           }
          ],
          "histogram": [
           {
            "marker": {
             "pattern": {
              "fillmode": "overlay",
              "size": 10,
              "solidity": 0.2
             }
            },
            "type": "histogram"
           }
          ],
          "histogram2d": [
           {
            "colorbar": {
             "outlinewidth": 0,
             "ticks": ""
            },
            "colorscale": [
             [
              0,
              "#0d0887"
             ],
             [
              0.1111111111111111,
              "#46039f"
             ],
             [
              0.2222222222222222,
              "#7201a8"
             ],
             [
              0.3333333333333333,
              "#9c179e"
             ],
             [
              0.4444444444444444,
              "#bd3786"
             ],
             [
              0.5555555555555556,
              "#d8576b"
             ],
             [
              0.6666666666666666,
              "#ed7953"
             ],
             [
              0.7777777777777778,
              "#fb9f3a"
             ],
             [
              0.8888888888888888,
              "#fdca26"
             ],
             [
              1,
              "#f0f921"
             ]
            ],
            "type": "histogram2d"
           }
          ],
          "histogram2dcontour": [
           {
            "colorbar": {
             "outlinewidth": 0,
             "ticks": ""
            },
            "colorscale": [
             [
              0,
              "#0d0887"
             ],
             [
              0.1111111111111111,
              "#46039f"
             ],
             [
              0.2222222222222222,
              "#7201a8"
             ],
             [
              0.3333333333333333,
              "#9c179e"
             ],
             [
              0.4444444444444444,
              "#bd3786"
             ],
             [
              0.5555555555555556,
              "#d8576b"
             ],
             [
              0.6666666666666666,
              "#ed7953"
             ],
             [
              0.7777777777777778,
              "#fb9f3a"
             ],
             [
              0.8888888888888888,
              "#fdca26"
             ],
             [
              1,
              "#f0f921"
             ]
            ],
            "type": "histogram2dcontour"
           }
          ],
          "mesh3d": [
           {
            "colorbar": {
             "outlinewidth": 0,
             "ticks": ""
            },
            "type": "mesh3d"
           }
          ],
          "parcoords": [
           {
            "line": {
             "colorbar": {
              "outlinewidth": 0,
              "ticks": ""
             }
            },
            "type": "parcoords"
           }
          ],
          "pie": [
           {
            "automargin": true,
            "type": "pie"
           }
          ],
          "scatter": [
           {
            "marker": {
             "colorbar": {
              "outlinewidth": 0,
              "ticks": ""
             }
            },
            "type": "scatter"
           }
          ],
          "scatter3d": [
           {
            "line": {
             "colorbar": {
              "outlinewidth": 0,
              "ticks": ""
             }
            },
            "marker": {
             "colorbar": {
              "outlinewidth": 0,
              "ticks": ""
             }
            },
            "type": "scatter3d"
           }
          ],
          "scattercarpet": [
           {
            "marker": {
             "colorbar": {
              "outlinewidth": 0,
              "ticks": ""
             }
            },
            "type": "scattercarpet"
           }
          ],
          "scattergeo": [
           {
            "marker": {
             "colorbar": {
              "outlinewidth": 0,
              "ticks": ""
             }
            },
            "type": "scattergeo"
           }
          ],
          "scattergl": [
           {
            "marker": {
             "colorbar": {
              "outlinewidth": 0,
              "ticks": ""
             }
            },
            "type": "scattergl"
           }
          ],
          "scattermapbox": [
           {
            "marker": {
             "colorbar": {
              "outlinewidth": 0,
              "ticks": ""
             }
            },
            "type": "scattermapbox"
           }
          ],
          "scatterpolar": [
           {
            "marker": {
             "colorbar": {
              "outlinewidth": 0,
              "ticks": ""
             }
            },
            "type": "scatterpolar"
           }
          ],
          "scatterpolargl": [
           {
            "marker": {
             "colorbar": {
              "outlinewidth": 0,
              "ticks": ""
             }
            },
            "type": "scatterpolargl"
           }
          ],
          "scatterternary": [
           {
            "marker": {
             "colorbar": {
              "outlinewidth": 0,
              "ticks": ""
             }
            },
            "type": "scatterternary"
           }
          ],
          "surface": [
           {
            "colorbar": {
             "outlinewidth": 0,
             "ticks": ""
            },
            "colorscale": [
             [
              0,
              "#0d0887"
             ],
             [
              0.1111111111111111,
              "#46039f"
             ],
             [
              0.2222222222222222,
              "#7201a8"
             ],
             [
              0.3333333333333333,
              "#9c179e"
             ],
             [
              0.4444444444444444,
              "#bd3786"
             ],
             [
              0.5555555555555556,
              "#d8576b"
             ],
             [
              0.6666666666666666,
              "#ed7953"
             ],
             [
              0.7777777777777778,
              "#fb9f3a"
             ],
             [
              0.8888888888888888,
              "#fdca26"
             ],
             [
              1,
              "#f0f921"
             ]
            ],
            "type": "surface"
           }
          ],
          "table": [
           {
            "cells": {
             "fill": {
              "color": "#EBF0F8"
             },
             "line": {
              "color": "white"
             }
            },
            "header": {
             "fill": {
              "color": "#C8D4E3"
             },
             "line": {
              "color": "white"
             }
            },
            "type": "table"
           }
          ]
         },
         "layout": {
          "annotationdefaults": {
           "arrowcolor": "#2a3f5f",
           "arrowhead": 0,
           "arrowwidth": 1
          },
          "autotypenumbers": "strict",
          "coloraxis": {
           "colorbar": {
            "outlinewidth": 0,
            "ticks": ""
           }
          },
          "colorscale": {
           "diverging": [
            [
             0,
             "#8e0152"
            ],
            [
             0.1,
             "#c51b7d"
            ],
            [
             0.2,
             "#de77ae"
            ],
            [
             0.3,
             "#f1b6da"
            ],
            [
             0.4,
             "#fde0ef"
            ],
            [
             0.5,
             "#f7f7f7"
            ],
            [
             0.6,
             "#e6f5d0"
            ],
            [
             0.7,
             "#b8e186"
            ],
            [
             0.8,
             "#7fbc41"
            ],
            [
             0.9,
             "#4d9221"
            ],
            [
             1,
             "#276419"
            ]
           ],
           "sequential": [
            [
             0,
             "#0d0887"
            ],
            [
             0.1111111111111111,
             "#46039f"
            ],
            [
             0.2222222222222222,
             "#7201a8"
            ],
            [
             0.3333333333333333,
             "#9c179e"
            ],
            [
             0.4444444444444444,
             "#bd3786"
            ],
            [
             0.5555555555555556,
             "#d8576b"
            ],
            [
             0.6666666666666666,
             "#ed7953"
            ],
            [
             0.7777777777777778,
             "#fb9f3a"
            ],
            [
             0.8888888888888888,
             "#fdca26"
            ],
            [
             1,
             "#f0f921"
            ]
           ],
           "sequentialminus": [
            [
             0,
             "#0d0887"
            ],
            [
             0.1111111111111111,
             "#46039f"
            ],
            [
             0.2222222222222222,
             "#7201a8"
            ],
            [
             0.3333333333333333,
             "#9c179e"
            ],
            [
             0.4444444444444444,
             "#bd3786"
            ],
            [
             0.5555555555555556,
             "#d8576b"
            ],
            [
             0.6666666666666666,
             "#ed7953"
            ],
            [
             0.7777777777777778,
             "#fb9f3a"
            ],
            [
             0.8888888888888888,
             "#fdca26"
            ],
            [
             1,
             "#f0f921"
            ]
           ]
          },
          "colorway": [
           "#636efa",
           "#EF553B",
           "#00cc96",
           "#ab63fa",
           "#FFA15A",
           "#19d3f3",
           "#FF6692",
           "#B6E880",
           "#FF97FF",
           "#FECB52"
          ],
          "font": {
           "color": "#2a3f5f"
          },
          "geo": {
           "bgcolor": "white",
           "lakecolor": "white",
           "landcolor": "#E5ECF6",
           "showlakes": true,
           "showland": true,
           "subunitcolor": "white"
          },
          "hoverlabel": {
           "align": "left"
          },
          "hovermode": "closest",
          "mapbox": {
           "style": "light"
          },
          "paper_bgcolor": "white",
          "plot_bgcolor": "#E5ECF6",
          "polar": {
           "angularaxis": {
            "gridcolor": "white",
            "linecolor": "white",
            "ticks": ""
           },
           "bgcolor": "#E5ECF6",
           "radialaxis": {
            "gridcolor": "white",
            "linecolor": "white",
            "ticks": ""
           }
          },
          "scene": {
           "xaxis": {
            "backgroundcolor": "#E5ECF6",
            "gridcolor": "white",
            "gridwidth": 2,
            "linecolor": "white",
            "showbackground": true,
            "ticks": "",
            "zerolinecolor": "white"
           },
           "yaxis": {
            "backgroundcolor": "#E5ECF6",
            "gridcolor": "white",
            "gridwidth": 2,
            "linecolor": "white",
            "showbackground": true,
            "ticks": "",
            "zerolinecolor": "white"
           },
           "zaxis": {
            "backgroundcolor": "#E5ECF6",
            "gridcolor": "white",
            "gridwidth": 2,
            "linecolor": "white",
            "showbackground": true,
            "ticks": "",
            "zerolinecolor": "white"
           }
          },
          "shapedefaults": {
           "line": {
            "color": "#2a3f5f"
           }
          },
          "ternary": {
           "aaxis": {
            "gridcolor": "white",
            "linecolor": "white",
            "ticks": ""
           },
           "baxis": {
            "gridcolor": "white",
            "linecolor": "white",
            "ticks": ""
           },
           "bgcolor": "#E5ECF6",
           "caxis": {
            "gridcolor": "white",
            "linecolor": "white",
            "ticks": ""
           }
          },
          "title": {
           "x": 0.05
          },
          "xaxis": {
           "automargin": true,
           "gridcolor": "white",
           "linecolor": "white",
           "ticks": "",
           "title": {
            "standoff": 15
           },
           "zerolinecolor": "white",
           "zerolinewidth": 2
          },
          "yaxis": {
           "automargin": true,
           "gridcolor": "white",
           "linecolor": "white",
           "ticks": "",
           "title": {
            "standoff": 15
           },
           "zerolinecolor": "white",
           "zerolinewidth": 2
          }
         }
        },
        "title": {
         "text": "ТОП 10 улиц по количеству общепита"
        },
        "xaxis": {
         "anchor": "y",
         "domain": [
          0,
          1
         ],
         "title": {
          "text": "street"
         }
        },
        "yaxis": {
         "anchor": "x",
         "domain": [
          0,
          1
         ],
         "title": {
          "text": "Количество предприятий общественного питания"
         }
        }
       }
      },
      "text/html": [
       "<div>                            <div id=\"6cea8640-d368-4d84-b1b9-4465c85f3d7e\" class=\"plotly-graph-div\" style=\"height:525px; width:100%;\"></div>            <script type=\"text/javascript\">                require([\"plotly\"], function(Plotly) {                    window.PLOTLYENV=window.PLOTLYENV || {};                                    if (document.getElementById(\"6cea8640-d368-4d84-b1b9-4465c85f3d7e\")) {                    Plotly.newPlot(                        \"6cea8640-d368-4d84-b1b9-4465c85f3d7e\",                        [{\"alignmentgroup\":\"True\",\"hovertemplate\":\"street=%{x}<br>\\u041a\\u043e\\u043b\\u0438\\u0447\\u0435\\u0441\\u0442\\u0432\\u043e \\u043f\\u0440\\u0435\\u0434\\u043f\\u0440\\u0438\\u044f\\u0442\\u0438\\u0439 \\u043e\\u0431\\u0449\\u0435\\u0441\\u0442\\u0432\\u0435\\u043d\\u043d\\u043e\\u0433\\u043e \\u043f\\u0438\\u0442\\u0430\\u043d\\u0438\\u044f=%{y}<extra></extra>\",\"legendgroup\":\"\",\"marker\":{\"color\":\"#636efa\",\"pattern\":{\"shape\":\"\"}},\"name\":\"\",\"offsetgroup\":\"\",\"orientation\":\"v\",\"showlegend\":false,\"textposition\":\"auto\",\"x\":[\"\\u0433\\u043e\\u0440\\u043e\\u0434 \\u0417\\u0435\\u043b\\u0435\\u043d\\u043e\\u0433\\u0440\\u0430\\u0434\",\"\\u043f\\u0440\\u043e\\u0441\\u043f\\u0435\\u043a\\u0442 \\u041c\\u0438\\u0440\\u0430\",\"\\u041f\\u0440\\u043e\\u0444\\u0441\\u043e\\u044e\\u0437\\u043d\\u0430\\u044f \\u0443\\u043b\\u0438\\u0446\\u0430\",\"\\u041b\\u0435\\u043d\\u0438\\u043d\\u0433\\u0440\\u0430\\u0434\\u0441\\u043a\\u0438\\u0439 \\u043f\\u0440\\u043e\\u0441\\u043f\\u0435\\u043a\\u0442\",\"\\u041f\\u0440\\u0435\\u0441\\u043d\\u0435\\u043d\\u0441\\u043a\\u0430\\u044f \\u043d\\u0430\\u0431\\u0435\\u0440\\u0435\\u0436\\u043d\\u0430\\u044f\",\"\\u0412\\u0430\\u0440\\u0448\\u0430\\u0432\\u0441\\u043a\\u043e\\u0435 \\u0448\\u043e\\u0441\\u0441\\u0435\",\"\\u041b\\u0435\\u043d\\u0438\\u043d\\u0441\\u043a\\u0438\\u0439 \\u043f\\u0440\\u043e\\u0441\\u043f\\u0435\\u043a\\u0442\",\"\\u043f\\u043e\\u0441\\u0435\\u043b\\u0435\\u043d\\u0438\\u0435 \\u0421\\u043e\\u0441\\u0435\\u043d\\u0441\\u043a\\u043e\\u0435\",\"\\u043f\\u0440\\u043e\\u0441\\u043f\\u0435\\u043a\\u0442 \\u0412\\u0435\\u0440\\u043d\\u0430\\u0434\\u0441\\u043a\\u043e\\u0433\\u043e\",\"\\u041a\\u0443\\u0442\\u0443\\u0437\\u043e\\u0432\\u0441\\u043a\\u0438\\u0439 \\u043f\\u0440\\u043e\\u0441\\u043f\\u0435\\u043a\\u0442\"],\"xaxis\":\"x\",\"y\":[232,203,181,170,167,161,147,137,128,114],\"yaxis\":\"y\",\"type\":\"bar\"}],                        {\"template\":{\"data\":{\"bar\":[{\"error_x\":{\"color\":\"#2a3f5f\"},\"error_y\":{\"color\":\"#2a3f5f\"},\"marker\":{\"line\":{\"color\":\"#E5ECF6\",\"width\":0.5},\"pattern\":{\"fillmode\":\"overlay\",\"size\":10,\"solidity\":0.2}},\"type\":\"bar\"}],\"barpolar\":[{\"marker\":{\"line\":{\"color\":\"#E5ECF6\",\"width\":0.5},\"pattern\":{\"fillmode\":\"overlay\",\"size\":10,\"solidity\":0.2}},\"type\":\"barpolar\"}],\"carpet\":[{\"aaxis\":{\"endlinecolor\":\"#2a3f5f\",\"gridcolor\":\"white\",\"linecolor\":\"white\",\"minorgridcolor\":\"white\",\"startlinecolor\":\"#2a3f5f\"},\"baxis\":{\"endlinecolor\":\"#2a3f5f\",\"gridcolor\":\"white\",\"linecolor\":\"white\",\"minorgridcolor\":\"white\",\"startlinecolor\":\"#2a3f5f\"},\"type\":\"carpet\"}],\"choropleth\":[{\"colorbar\":{\"outlinewidth\":0,\"ticks\":\"\"},\"type\":\"choropleth\"}],\"contour\":[{\"colorbar\":{\"outlinewidth\":0,\"ticks\":\"\"},\"colorscale\":[[0.0,\"#0d0887\"],[0.1111111111111111,\"#46039f\"],[0.2222222222222222,\"#7201a8\"],[0.3333333333333333,\"#9c179e\"],[0.4444444444444444,\"#bd3786\"],[0.5555555555555556,\"#d8576b\"],[0.6666666666666666,\"#ed7953\"],[0.7777777777777778,\"#fb9f3a\"],[0.8888888888888888,\"#fdca26\"],[1.0,\"#f0f921\"]],\"type\":\"contour\"}],\"contourcarpet\":[{\"colorbar\":{\"outlinewidth\":0,\"ticks\":\"\"},\"type\":\"contourcarpet\"}],\"heatmap\":[{\"colorbar\":{\"outlinewidth\":0,\"ticks\":\"\"},\"colorscale\":[[0.0,\"#0d0887\"],[0.1111111111111111,\"#46039f\"],[0.2222222222222222,\"#7201a8\"],[0.3333333333333333,\"#9c179e\"],[0.4444444444444444,\"#bd3786\"],[0.5555555555555556,\"#d8576b\"],[0.6666666666666666,\"#ed7953\"],[0.7777777777777778,\"#fb9f3a\"],[0.8888888888888888,\"#fdca26\"],[1.0,\"#f0f921\"]],\"type\":\"heatmap\"}],\"heatmapgl\":[{\"colorbar\":{\"outlinewidth\":0,\"ticks\":\"\"},\"colorscale\":[[0.0,\"#0d0887\"],[0.1111111111111111,\"#46039f\"],[0.2222222222222222,\"#7201a8\"],[0.3333333333333333,\"#9c179e\"],[0.4444444444444444,\"#bd3786\"],[0.5555555555555556,\"#d8576b\"],[0.6666666666666666,\"#ed7953\"],[0.7777777777777778,\"#fb9f3a\"],[0.8888888888888888,\"#fdca26\"],[1.0,\"#f0f921\"]],\"type\":\"heatmapgl\"}],\"histogram\":[{\"marker\":{\"pattern\":{\"fillmode\":\"overlay\",\"size\":10,\"solidity\":0.2}},\"type\":\"histogram\"}],\"histogram2d\":[{\"colorbar\":{\"outlinewidth\":0,\"ticks\":\"\"},\"colorscale\":[[0.0,\"#0d0887\"],[0.1111111111111111,\"#46039f\"],[0.2222222222222222,\"#7201a8\"],[0.3333333333333333,\"#9c179e\"],[0.4444444444444444,\"#bd3786\"],[0.5555555555555556,\"#d8576b\"],[0.6666666666666666,\"#ed7953\"],[0.7777777777777778,\"#fb9f3a\"],[0.8888888888888888,\"#fdca26\"],[1.0,\"#f0f921\"]],\"type\":\"histogram2d\"}],\"histogram2dcontour\":[{\"colorbar\":{\"outlinewidth\":0,\"ticks\":\"\"},\"colorscale\":[[0.0,\"#0d0887\"],[0.1111111111111111,\"#46039f\"],[0.2222222222222222,\"#7201a8\"],[0.3333333333333333,\"#9c179e\"],[0.4444444444444444,\"#bd3786\"],[0.5555555555555556,\"#d8576b\"],[0.6666666666666666,\"#ed7953\"],[0.7777777777777778,\"#fb9f3a\"],[0.8888888888888888,\"#fdca26\"],[1.0,\"#f0f921\"]],\"type\":\"histogram2dcontour\"}],\"mesh3d\":[{\"colorbar\":{\"outlinewidth\":0,\"ticks\":\"\"},\"type\":\"mesh3d\"}],\"parcoords\":[{\"line\":{\"colorbar\":{\"outlinewidth\":0,\"ticks\":\"\"}},\"type\":\"parcoords\"}],\"pie\":[{\"automargin\":true,\"type\":\"pie\"}],\"scatter\":[{\"marker\":{\"colorbar\":{\"outlinewidth\":0,\"ticks\":\"\"}},\"type\":\"scatter\"}],\"scatter3d\":[{\"line\":{\"colorbar\":{\"outlinewidth\":0,\"ticks\":\"\"}},\"marker\":{\"colorbar\":{\"outlinewidth\":0,\"ticks\":\"\"}},\"type\":\"scatter3d\"}],\"scattercarpet\":[{\"marker\":{\"colorbar\":{\"outlinewidth\":0,\"ticks\":\"\"}},\"type\":\"scattercarpet\"}],\"scattergeo\":[{\"marker\":{\"colorbar\":{\"outlinewidth\":0,\"ticks\":\"\"}},\"type\":\"scattergeo\"}],\"scattergl\":[{\"marker\":{\"colorbar\":{\"outlinewidth\":0,\"ticks\":\"\"}},\"type\":\"scattergl\"}],\"scattermapbox\":[{\"marker\":{\"colorbar\":{\"outlinewidth\":0,\"ticks\":\"\"}},\"type\":\"scattermapbox\"}],\"scatterpolar\":[{\"marker\":{\"colorbar\":{\"outlinewidth\":0,\"ticks\":\"\"}},\"type\":\"scatterpolar\"}],\"scatterpolargl\":[{\"marker\":{\"colorbar\":{\"outlinewidth\":0,\"ticks\":\"\"}},\"type\":\"scatterpolargl\"}],\"scatterternary\":[{\"marker\":{\"colorbar\":{\"outlinewidth\":0,\"ticks\":\"\"}},\"type\":\"scatterternary\"}],\"surface\":[{\"colorbar\":{\"outlinewidth\":0,\"ticks\":\"\"},\"colorscale\":[[0.0,\"#0d0887\"],[0.1111111111111111,\"#46039f\"],[0.2222222222222222,\"#7201a8\"],[0.3333333333333333,\"#9c179e\"],[0.4444444444444444,\"#bd3786\"],[0.5555555555555556,\"#d8576b\"],[0.6666666666666666,\"#ed7953\"],[0.7777777777777778,\"#fb9f3a\"],[0.8888888888888888,\"#fdca26\"],[1.0,\"#f0f921\"]],\"type\":\"surface\"}],\"table\":[{\"cells\":{\"fill\":{\"color\":\"#EBF0F8\"},\"line\":{\"color\":\"white\"}},\"header\":{\"fill\":{\"color\":\"#C8D4E3\"},\"line\":{\"color\":\"white\"}},\"type\":\"table\"}]},\"layout\":{\"annotationdefaults\":{\"arrowcolor\":\"#2a3f5f\",\"arrowhead\":0,\"arrowwidth\":1},\"autotypenumbers\":\"strict\",\"coloraxis\":{\"colorbar\":{\"outlinewidth\":0,\"ticks\":\"\"}},\"colorscale\":{\"diverging\":[[0,\"#8e0152\"],[0.1,\"#c51b7d\"],[0.2,\"#de77ae\"],[0.3,\"#f1b6da\"],[0.4,\"#fde0ef\"],[0.5,\"#f7f7f7\"],[0.6,\"#e6f5d0\"],[0.7,\"#b8e186\"],[0.8,\"#7fbc41\"],[0.9,\"#4d9221\"],[1,\"#276419\"]],\"sequential\":[[0.0,\"#0d0887\"],[0.1111111111111111,\"#46039f\"],[0.2222222222222222,\"#7201a8\"],[0.3333333333333333,\"#9c179e\"],[0.4444444444444444,\"#bd3786\"],[0.5555555555555556,\"#d8576b\"],[0.6666666666666666,\"#ed7953\"],[0.7777777777777778,\"#fb9f3a\"],[0.8888888888888888,\"#fdca26\"],[1.0,\"#f0f921\"]],\"sequentialminus\":[[0.0,\"#0d0887\"],[0.1111111111111111,\"#46039f\"],[0.2222222222222222,\"#7201a8\"],[0.3333333333333333,\"#9c179e\"],[0.4444444444444444,\"#bd3786\"],[0.5555555555555556,\"#d8576b\"],[0.6666666666666666,\"#ed7953\"],[0.7777777777777778,\"#fb9f3a\"],[0.8888888888888888,\"#fdca26\"],[1.0,\"#f0f921\"]]},\"colorway\":[\"#636efa\",\"#EF553B\",\"#00cc96\",\"#ab63fa\",\"#FFA15A\",\"#19d3f3\",\"#FF6692\",\"#B6E880\",\"#FF97FF\",\"#FECB52\"],\"font\":{\"color\":\"#2a3f5f\"},\"geo\":{\"bgcolor\":\"white\",\"lakecolor\":\"white\",\"landcolor\":\"#E5ECF6\",\"showlakes\":true,\"showland\":true,\"subunitcolor\":\"white\"},\"hoverlabel\":{\"align\":\"left\"},\"hovermode\":\"closest\",\"mapbox\":{\"style\":\"light\"},\"paper_bgcolor\":\"white\",\"plot_bgcolor\":\"#E5ECF6\",\"polar\":{\"angularaxis\":{\"gridcolor\":\"white\",\"linecolor\":\"white\",\"ticks\":\"\"},\"bgcolor\":\"#E5ECF6\",\"radialaxis\":{\"gridcolor\":\"white\",\"linecolor\":\"white\",\"ticks\":\"\"}},\"scene\":{\"xaxis\":{\"backgroundcolor\":\"#E5ECF6\",\"gridcolor\":\"white\",\"gridwidth\":2,\"linecolor\":\"white\",\"showbackground\":true,\"ticks\":\"\",\"zerolinecolor\":\"white\"},\"yaxis\":{\"backgroundcolor\":\"#E5ECF6\",\"gridcolor\":\"white\",\"gridwidth\":2,\"linecolor\":\"white\",\"showbackground\":true,\"ticks\":\"\",\"zerolinecolor\":\"white\"},\"zaxis\":{\"backgroundcolor\":\"#E5ECF6\",\"gridcolor\":\"white\",\"gridwidth\":2,\"linecolor\":\"white\",\"showbackground\":true,\"ticks\":\"\",\"zerolinecolor\":\"white\"}},\"shapedefaults\":{\"line\":{\"color\":\"#2a3f5f\"}},\"ternary\":{\"aaxis\":{\"gridcolor\":\"white\",\"linecolor\":\"white\",\"ticks\":\"\"},\"baxis\":{\"gridcolor\":\"white\",\"linecolor\":\"white\",\"ticks\":\"\"},\"bgcolor\":\"#E5ECF6\",\"caxis\":{\"gridcolor\":\"white\",\"linecolor\":\"white\",\"ticks\":\"\"}},\"title\":{\"x\":0.05},\"xaxis\":{\"automargin\":true,\"gridcolor\":\"white\",\"linecolor\":\"white\",\"ticks\":\"\",\"title\":{\"standoff\":15},\"zerolinecolor\":\"white\",\"zerolinewidth\":2},\"yaxis\":{\"automargin\":true,\"gridcolor\":\"white\",\"linecolor\":\"white\",\"ticks\":\"\",\"title\":{\"standoff\":15},\"zerolinecolor\":\"white\",\"zerolinewidth\":2}}},\"xaxis\":{\"anchor\":\"y\",\"domain\":[0.0,1.0],\"title\":{\"text\":\"street\"}},\"yaxis\":{\"anchor\":\"x\",\"domain\":[0.0,1.0],\"title\":{\"text\":\"\\u041a\\u043e\\u043b\\u0438\\u0447\\u0435\\u0441\\u0442\\u0432\\u043e \\u043f\\u0440\\u0435\\u0434\\u043f\\u0440\\u0438\\u044f\\u0442\\u0438\\u0439 \\u043e\\u0431\\u0449\\u0435\\u0441\\u0442\\u0432\\u0435\\u043d\\u043d\\u043e\\u0433\\u043e \\u043f\\u0438\\u0442\\u0430\\u043d\\u0438\\u044f\"}},\"legend\":{\"tracegroupgap\":0},\"title\":{\"text\":\"\\u0422\\u041e\\u041f 10 \\u0443\\u043b\\u0438\\u0446 \\u043f\\u043e \\u043a\\u043e\\u043b\\u0438\\u0447\\u0435\\u0441\\u0442\\u0432\\u0443 \\u043e\\u0431\\u0449\\u0435\\u043f\\u0438\\u0442\\u0430\"},\"barmode\":\"relative\"},                        {\"responsive\": true}                    ).then(function(){\n",
       "                            \n",
       "var gd = document.getElementById('6cea8640-d368-4d84-b1b9-4465c85f3d7e');\n",
       "var x = new MutationObserver(function (mutations, observer) {{\n",
       "        var display = window.getComputedStyle(gd).display;\n",
       "        if (!display || display === 'none') {{\n",
       "            console.log([gd, 'removed!']);\n",
       "            Plotly.purge(gd);\n",
       "            observer.disconnect();\n",
       "        }}\n",
       "}});\n",
       "\n",
       "// Listen for the removal of the full notebook cells\n",
       "var notebookContainer = gd.closest('#notebook-container');\n",
       "if (notebookContainer) {{\n",
       "    x.observe(notebookContainer, {childList: true});\n",
       "}}\n",
       "\n",
       "// Listen for the clearing of the current output cell\n",
       "var outputEl = gd.closest('.output');\n",
       "if (outputEl) {{\n",
       "    x.observe(outputEl, {childList: true});\n",
       "}}\n",
       "\n",
       "                        })                };                });            </script>        </div>"
      ]
     },
     "metadata": {},
     "output_type": "display_data"
    }
   ],
   "source": [
    "fig = px.bar(data_address, x = 'street', y = 'Количество предприятий общественного питания', title = 'ТОП 10 улиц по количеству общепита')\n",
    "fig.show()"
   ]
  },
  {
   "cell_type": "code",
   "execution_count": 50,
   "metadata": {},
   "outputs": [
    {
     "data": {
      "text/html": [
       "<div>\n",
       "<style scoped>\n",
       "    .dataframe tbody tr th:only-of-type {\n",
       "        vertical-align: middle;\n",
       "    }\n",
       "\n",
       "    .dataframe tbody tr th {\n",
       "        vertical-align: top;\n",
       "    }\n",
       "\n",
       "    .dataframe thead th {\n",
       "        text-align: right;\n",
       "    }\n",
       "</style>\n",
       "<table border=\"1\" class=\"dataframe\">\n",
       "  <thead>\n",
       "    <tr style=\"text-align: right;\">\n",
       "      <th></th>\n",
       "      <th>street</th>\n",
       "      <th>Количество предприятий общественного питания</th>\n",
       "      <th>areaid</th>\n",
       "      <th>okrug</th>\n",
       "      <th>area</th>\n",
       "      <th>Unnamed: 4</th>\n",
       "    </tr>\n",
       "  </thead>\n",
       "  <tbody>\n",
       "    <tr>\n",
       "      <th>0</th>\n",
       "      <td>город Зеленоград</td>\n",
       "      <td>232</td>\n",
       "      <td>51</td>\n",
       "      <td>Зеленоград</td>\n",
       "      <td>Район Крюково</td>\n",
       "      <td>NaN</td>\n",
       "    </tr>\n",
       "    <tr>\n",
       "      <th>1</th>\n",
       "      <td>город Зеленоград</td>\n",
       "      <td>232</td>\n",
       "      <td>52</td>\n",
       "      <td>Зеленоград</td>\n",
       "      <td>Район Матушкино-Савелки</td>\n",
       "      <td>NaN</td>\n",
       "    </tr>\n",
       "    <tr>\n",
       "      <th>2</th>\n",
       "      <td>город Зеленоград</td>\n",
       "      <td>232</td>\n",
       "      <td>53</td>\n",
       "      <td>Зеленоград</td>\n",
       "      <td>Панфиловский район</td>\n",
       "      <td>NaN</td>\n",
       "    </tr>\n",
       "    <tr>\n",
       "      <th>3</th>\n",
       "      <td>проспект Мира</td>\n",
       "      <td>203</td>\n",
       "      <td>70</td>\n",
       "      <td>СВАО</td>\n",
       "      <td>Алексеевский район</td>\n",
       "      <td>NaN</td>\n",
       "    </tr>\n",
       "    <tr>\n",
       "      <th>4</th>\n",
       "      <td>проспект Мира</td>\n",
       "      <td>203</td>\n",
       "      <td>86</td>\n",
       "      <td>СВАО</td>\n",
       "      <td>Ярославский Район</td>\n",
       "      <td>NaN</td>\n",
       "    </tr>\n",
       "    <tr>\n",
       "      <th>5</th>\n",
       "      <td>проспект Мира</td>\n",
       "      <td>203</td>\n",
       "      <td>78</td>\n",
       "      <td>СВАО</td>\n",
       "      <td>Район Марьина роща</td>\n",
       "      <td>NaN</td>\n",
       "    </tr>\n",
       "    <tr>\n",
       "      <th>6</th>\n",
       "      <td>проспект Мира</td>\n",
       "      <td>203</td>\n",
       "      <td>79</td>\n",
       "      <td>СВАО</td>\n",
       "      <td>Останкинский район</td>\n",
       "      <td>NaN</td>\n",
       "    </tr>\n",
       "    <tr>\n",
       "      <th>7</th>\n",
       "      <td>проспект Мира</td>\n",
       "      <td>203</td>\n",
       "      <td>81</td>\n",
       "      <td>СВАО</td>\n",
       "      <td>Район Ростокино</td>\n",
       "      <td>NaN</td>\n",
       "    </tr>\n",
       "    <tr>\n",
       "      <th>8</th>\n",
       "      <td>проспект Мира</td>\n",
       "      <td>203</td>\n",
       "      <td>82</td>\n",
       "      <td>СВАО</td>\n",
       "      <td>Район Свиблово</td>\n",
       "      <td>NaN</td>\n",
       "    </tr>\n",
       "    <tr>\n",
       "      <th>9</th>\n",
       "      <td>проспект Мира</td>\n",
       "      <td>203</td>\n",
       "      <td>16</td>\n",
       "      <td>ЦАО</td>\n",
       "      <td>Мещанский район</td>\n",
       "      <td>NaN</td>\n",
       "    </tr>\n",
       "    <tr>\n",
       "      <th>10</th>\n",
       "      <td>Профсоюзная улица</td>\n",
       "      <td>181</td>\n",
       "      <td>123</td>\n",
       "      <td>ЮЗАО</td>\n",
       "      <td>Академический район</td>\n",
       "      <td>NaN</td>\n",
       "    </tr>\n",
       "    <tr>\n",
       "      <th>11</th>\n",
       "      <td>Профсоюзная улица</td>\n",
       "      <td>181</td>\n",
       "      <td>132</td>\n",
       "      <td>ЮЗАО</td>\n",
       "      <td>Район Черемушки</td>\n",
       "      <td>NaN</td>\n",
       "    </tr>\n",
       "    <tr>\n",
       "      <th>12</th>\n",
       "      <td>Профсоюзная улица</td>\n",
       "      <td>181</td>\n",
       "      <td>134</td>\n",
       "      <td>ЮЗАО</td>\n",
       "      <td>Район Ясенево</td>\n",
       "      <td>NaN</td>\n",
       "    </tr>\n",
       "    <tr>\n",
       "      <th>13</th>\n",
       "      <td>Профсоюзная улица</td>\n",
       "      <td>181</td>\n",
       "      <td>126</td>\n",
       "      <td>ЮЗАО</td>\n",
       "      <td>Район Коньково</td>\n",
       "      <td>NaN</td>\n",
       "    </tr>\n",
       "    <tr>\n",
       "      <th>14</th>\n",
       "      <td>Профсоюзная улица</td>\n",
       "      <td>181</td>\n",
       "      <td>129</td>\n",
       "      <td>ЮЗАО</td>\n",
       "      <td>Обручевский район</td>\n",
       "      <td>NaN</td>\n",
       "    </tr>\n",
       "    <tr>\n",
       "      <th>15</th>\n",
       "      <td>Профсоюзная улица</td>\n",
       "      <td>181</td>\n",
       "      <td>131</td>\n",
       "      <td>ЮЗАО</td>\n",
       "      <td>Район Теплый Стан</td>\n",
       "      <td>NaN</td>\n",
       "    </tr>\n",
       "    <tr>\n",
       "      <th>16</th>\n",
       "      <td>Ленинградский проспект</td>\n",
       "      <td>170</td>\n",
       "      <td>54</td>\n",
       "      <td>САО</td>\n",
       "      <td>Район Аэропорт</td>\n",
       "      <td>NaN</td>\n",
       "    </tr>\n",
       "    <tr>\n",
       "      <th>17</th>\n",
       "      <td>Ленинградский проспект</td>\n",
       "      <td>170</td>\n",
       "      <td>55</td>\n",
       "      <td>САО</td>\n",
       "      <td>Район Беговой</td>\n",
       "      <td>NaN</td>\n",
       "    </tr>\n",
       "    <tr>\n",
       "      <th>18</th>\n",
       "      <td>Ленинградский проспект</td>\n",
       "      <td>170</td>\n",
       "      <td>69</td>\n",
       "      <td>САО</td>\n",
       "      <td>Хорошевский район</td>\n",
       "      <td>NaN</td>\n",
       "    </tr>\n",
       "    <tr>\n",
       "      <th>19</th>\n",
       "      <td>Ленинградский проспект</td>\n",
       "      <td>170</td>\n",
       "      <td>66</td>\n",
       "      <td>САО</td>\n",
       "      <td>Район Сокол</td>\n",
       "      <td>NaN</td>\n",
       "    </tr>\n",
       "    <tr>\n",
       "      <th>20</th>\n",
       "      <td>Пресненская набережная</td>\n",
       "      <td>167</td>\n",
       "      <td>17</td>\n",
       "      <td>ЦАО</td>\n",
       "      <td>Пресненский район</td>\n",
       "      <td>NaN</td>\n",
       "    </tr>\n",
       "    <tr>\n",
       "      <th>21</th>\n",
       "      <td>Варшавское шоссе</td>\n",
       "      <td>161</td>\n",
       "      <td>109</td>\n",
       "      <td>ЮАО</td>\n",
       "      <td>Район Чертаново Центральное</td>\n",
       "      <td>NaN</td>\n",
       "    </tr>\n",
       "    <tr>\n",
       "      <th>22</th>\n",
       "      <td>Варшавское шоссе</td>\n",
       "      <td>161</td>\n",
       "      <td>108</td>\n",
       "      <td>ЮАО</td>\n",
       "      <td>Район Чертаново Северное</td>\n",
       "      <td>NaN</td>\n",
       "    </tr>\n",
       "    <tr>\n",
       "      <th>23</th>\n",
       "      <td>Варшавское шоссе</td>\n",
       "      <td>161</td>\n",
       "      <td>110</td>\n",
       "      <td>ЮАО</td>\n",
       "      <td>Район Чертаново Южное</td>\n",
       "      <td>NaN</td>\n",
       "    </tr>\n",
       "    <tr>\n",
       "      <th>24</th>\n",
       "      <td>Варшавское шоссе</td>\n",
       "      <td>161</td>\n",
       "      <td>99</td>\n",
       "      <td>ЮАО</td>\n",
       "      <td>Донской район</td>\n",
       "      <td>NaN</td>\n",
       "    </tr>\n",
       "    <tr>\n",
       "      <th>25</th>\n",
       "      <td>Варшавское шоссе</td>\n",
       "      <td>161</td>\n",
       "      <td>102</td>\n",
       "      <td>ЮАО</td>\n",
       "      <td>Район Нагатино-Садовники</td>\n",
       "      <td>NaN</td>\n",
       "    </tr>\n",
       "    <tr>\n",
       "      <th>26</th>\n",
       "      <td>Варшавское шоссе</td>\n",
       "      <td>161</td>\n",
       "      <td>104</td>\n",
       "      <td>ЮАО</td>\n",
       "      <td>Нагорный район</td>\n",
       "      <td>NaN</td>\n",
       "    </tr>\n",
       "    <tr>\n",
       "      <th>27</th>\n",
       "      <td>Варшавское шоссе</td>\n",
       "      <td>161</td>\n",
       "      <td>130</td>\n",
       "      <td>ЮЗАО</td>\n",
       "      <td>Район Северное Бутово</td>\n",
       "      <td>NaN</td>\n",
       "    </tr>\n",
       "    <tr>\n",
       "      <th>28</th>\n",
       "      <td>Варшавское шоссе</td>\n",
       "      <td>161</td>\n",
       "      <td>133</td>\n",
       "      <td>ЮЗАО</td>\n",
       "      <td>Район Южное Бутово</td>\n",
       "      <td>NaN</td>\n",
       "    </tr>\n",
       "    <tr>\n",
       "      <th>29</th>\n",
       "      <td>Ленинский проспект</td>\n",
       "      <td>147</td>\n",
       "      <td>44</td>\n",
       "      <td>ЗАО</td>\n",
       "      <td>Район Проспект Вернадского</td>\n",
       "      <td>NaN</td>\n",
       "    </tr>\n",
       "    <tr>\n",
       "      <th>30</th>\n",
       "      <td>Ленинский проспект</td>\n",
       "      <td>147</td>\n",
       "      <td>47</td>\n",
       "      <td>ЗАО</td>\n",
       "      <td>Район Тропарево-Никулино</td>\n",
       "      <td>NaN</td>\n",
       "    </tr>\n",
       "    <tr>\n",
       "      <th>31</th>\n",
       "      <td>Ленинский проспект</td>\n",
       "      <td>147</td>\n",
       "      <td>99</td>\n",
       "      <td>ЮАО</td>\n",
       "      <td>Донской район</td>\n",
       "      <td>NaN</td>\n",
       "    </tr>\n",
       "    <tr>\n",
       "      <th>32</th>\n",
       "      <td>Ленинский проспект</td>\n",
       "      <td>147</td>\n",
       "      <td>124</td>\n",
       "      <td>ЮЗАО</td>\n",
       "      <td>Район Гагаринский</td>\n",
       "      <td>NaN</td>\n",
       "    </tr>\n",
       "    <tr>\n",
       "      <th>33</th>\n",
       "      <td>Ленинский проспект</td>\n",
       "      <td>147</td>\n",
       "      <td>128</td>\n",
       "      <td>ЮЗАО</td>\n",
       "      <td>Ломоносовский район</td>\n",
       "      <td>NaN</td>\n",
       "    </tr>\n",
       "    <tr>\n",
       "      <th>34</th>\n",
       "      <td>Ленинский проспект</td>\n",
       "      <td>147</td>\n",
       "      <td>129</td>\n",
       "      <td>ЮЗАО</td>\n",
       "      <td>Обручевский район</td>\n",
       "      <td>NaN</td>\n",
       "    </tr>\n",
       "    <tr>\n",
       "      <th>35</th>\n",
       "      <td>Ленинский проспект</td>\n",
       "      <td>147</td>\n",
       "      <td>131</td>\n",
       "      <td>ЮЗАО</td>\n",
       "      <td>Район Теплый Стан</td>\n",
       "      <td>NaN</td>\n",
       "    </tr>\n",
       "    <tr>\n",
       "      <th>36</th>\n",
       "      <td>Ленинский проспект</td>\n",
       "      <td>147</td>\n",
       "      <td>21</td>\n",
       "      <td>ЦАО</td>\n",
       "      <td>Район Якиманка</td>\n",
       "      <td>NaN</td>\n",
       "    </tr>\n",
       "    <tr>\n",
       "      <th>37</th>\n",
       "      <td>поселение Сосенское</td>\n",
       "      <td>137</td>\n",
       "      <td>NaN</td>\n",
       "      <td>NaN</td>\n",
       "      <td>NaN</td>\n",
       "      <td>NaN</td>\n",
       "    </tr>\n",
       "    <tr>\n",
       "      <th>38</th>\n",
       "      <td>проспект Вернадского</td>\n",
       "      <td>128</td>\n",
       "      <td>44</td>\n",
       "      <td>ЗАО</td>\n",
       "      <td>Район Проспект Вернадского</td>\n",
       "      <td>NaN</td>\n",
       "    </tr>\n",
       "    <tr>\n",
       "      <th>39</th>\n",
       "      <td>проспект Вернадского</td>\n",
       "      <td>128</td>\n",
       "      <td>45</td>\n",
       "      <td>ЗАО</td>\n",
       "      <td>Район Раменки</td>\n",
       "      <td>NaN</td>\n",
       "    </tr>\n",
       "    <tr>\n",
       "      <th>40</th>\n",
       "      <td>проспект Вернадского</td>\n",
       "      <td>128</td>\n",
       "      <td>47</td>\n",
       "      <td>ЗАО</td>\n",
       "      <td>Район Тропарево-Никулино</td>\n",
       "      <td>NaN</td>\n",
       "    </tr>\n",
       "    <tr>\n",
       "      <th>41</th>\n",
       "      <td>проспект Вернадского</td>\n",
       "      <td>128</td>\n",
       "      <td>124</td>\n",
       "      <td>ЮЗАО</td>\n",
       "      <td>Район Гагаринский</td>\n",
       "      <td>NaN</td>\n",
       "    </tr>\n",
       "    <tr>\n",
       "      <th>42</th>\n",
       "      <td>проспект Вернадского</td>\n",
       "      <td>128</td>\n",
       "      <td>128</td>\n",
       "      <td>ЮЗАО</td>\n",
       "      <td>Ломоносовский район</td>\n",
       "      <td>NaN</td>\n",
       "    </tr>\n",
       "    <tr>\n",
       "      <th>43</th>\n",
       "      <td>Кутузовский проспект</td>\n",
       "      <td>114</td>\n",
       "      <td>38</td>\n",
       "      <td>ЗАО</td>\n",
       "      <td>Район Дорогомилово</td>\n",
       "      <td>NaN</td>\n",
       "    </tr>\n",
       "    <tr>\n",
       "      <th>44</th>\n",
       "      <td>Кутузовский проспект</td>\n",
       "      <td>114</td>\n",
       "      <td>49</td>\n",
       "      <td>ЗАО</td>\n",
       "      <td>Район Фили-Давыдково</td>\n",
       "      <td>NaN</td>\n",
       "    </tr>\n",
       "  </tbody>\n",
       "</table>\n",
       "</div>"
      ],
      "text/plain": [
       "                    street  Количество предприятий общественного питания  \\\n",
       "0         город Зеленоград                                           232   \n",
       "1         город Зеленоград                                           232   \n",
       "2         город Зеленоград                                           232   \n",
       "3            проспект Мира                                           203   \n",
       "4            проспект Мира                                           203   \n",
       "5            проспект Мира                                           203   \n",
       "6            проспект Мира                                           203   \n",
       "7            проспект Мира                                           203   \n",
       "8            проспект Мира                                           203   \n",
       "9            проспект Мира                                           203   \n",
       "10       Профсоюзная улица                                           181   \n",
       "11       Профсоюзная улица                                           181   \n",
       "12       Профсоюзная улица                                           181   \n",
       "13       Профсоюзная улица                                           181   \n",
       "14       Профсоюзная улица                                           181   \n",
       "15       Профсоюзная улица                                           181   \n",
       "16  Ленинградский проспект                                           170   \n",
       "17  Ленинградский проспект                                           170   \n",
       "18  Ленинградский проспект                                           170   \n",
       "19  Ленинградский проспект                                           170   \n",
       "20  Пресненская набережная                                           167   \n",
       "21        Варшавское шоссе                                           161   \n",
       "22        Варшавское шоссе                                           161   \n",
       "23        Варшавское шоссе                                           161   \n",
       "24        Варшавское шоссе                                           161   \n",
       "25        Варшавское шоссе                                           161   \n",
       "26        Варшавское шоссе                                           161   \n",
       "27        Варшавское шоссе                                           161   \n",
       "28        Варшавское шоссе                                           161   \n",
       "29      Ленинский проспект                                           147   \n",
       "30      Ленинский проспект                                           147   \n",
       "31      Ленинский проспект                                           147   \n",
       "32      Ленинский проспект                                           147   \n",
       "33      Ленинский проспект                                           147   \n",
       "34      Ленинский проспект                                           147   \n",
       "35      Ленинский проспект                                           147   \n",
       "36      Ленинский проспект                                           147   \n",
       "37     поселение Сосенское                                           137   \n",
       "38    проспект Вернадского                                           128   \n",
       "39    проспект Вернадского                                           128   \n",
       "40    проспект Вернадского                                           128   \n",
       "41    проспект Вернадского                                           128   \n",
       "42    проспект Вернадского                                           128   \n",
       "43    Кутузовский проспект                                           114   \n",
       "44    Кутузовский проспект                                           114   \n",
       "\n",
       "   areaid       okrug                         area Unnamed: 4  \n",
       "0      51  Зеленоград                Район Крюково        NaN  \n",
       "1      52  Зеленоград      Район Матушкино-Савелки        NaN  \n",
       "2      53  Зеленоград           Панфиловский район        NaN  \n",
       "3      70        СВАО           Алексеевский район        NaN  \n",
       "4      86        СВАО            Ярославский Район        NaN  \n",
       "5      78        СВАО           Район Марьина роща        NaN  \n",
       "6      79        СВАО           Останкинский район        NaN  \n",
       "7      81        СВАО              Район Ростокино        NaN  \n",
       "8      82        СВАО               Район Свиблово        NaN  \n",
       "9      16         ЦАО              Мещанский район        NaN  \n",
       "10    123        ЮЗАО          Академический район        NaN  \n",
       "11    132        ЮЗАО              Район Черемушки        NaN  \n",
       "12    134        ЮЗАО                Район Ясенево        NaN  \n",
       "13    126        ЮЗАО               Район Коньково        NaN  \n",
       "14    129        ЮЗАО            Обручевский район        NaN  \n",
       "15    131        ЮЗАО            Район Теплый Стан        NaN  \n",
       "16     54         САО               Район Аэропорт        NaN  \n",
       "17     55         САО                Район Беговой        NaN  \n",
       "18     69         САО            Хорошевский район        NaN  \n",
       "19     66         САО                  Район Сокол        NaN  \n",
       "20     17         ЦАО            Пресненский район        NaN  \n",
       "21    109         ЮАО  Район Чертаново Центральное        NaN  \n",
       "22    108         ЮАО     Район Чертаново Северное        NaN  \n",
       "23    110         ЮАО        Район Чертаново Южное        NaN  \n",
       "24     99         ЮАО                Донской район        NaN  \n",
       "25    102         ЮАО     Район Нагатино-Садовники        NaN  \n",
       "26    104         ЮАО               Нагорный район        NaN  \n",
       "27    130        ЮЗАО        Район Северное Бутово        NaN  \n",
       "28    133        ЮЗАО           Район Южное Бутово        NaN  \n",
       "29     44         ЗАО   Район Проспект Вернадского        NaN  \n",
       "30     47         ЗАО     Район Тропарево-Никулино        NaN  \n",
       "31     99         ЮАО                Донской район        NaN  \n",
       "32    124        ЮЗАО            Район Гагаринский        NaN  \n",
       "33    128        ЮЗАО          Ломоносовский район        NaN  \n",
       "34    129        ЮЗАО            Обручевский район        NaN  \n",
       "35    131        ЮЗАО            Район Теплый Стан        NaN  \n",
       "36     21         ЦАО               Район Якиманка        NaN  \n",
       "37    NaN         NaN                          NaN        NaN  \n",
       "38     44         ЗАО   Район Проспект Вернадского        NaN  \n",
       "39     45         ЗАО                Район Раменки        NaN  \n",
       "40     47         ЗАО     Район Тропарево-Никулино        NaN  \n",
       "41    124        ЮЗАО            Район Гагаринский        NaN  \n",
       "42    128        ЮЗАО          Ломоносовский район        NaN  \n",
       "43     38         ЗАО           Район Дорогомилово        NaN  \n",
       "44     49         ЗАО         Район Фили-Давыдково        NaN  "
      ]
     },
     "execution_count": 50,
     "metadata": {},
     "output_type": "execute_result"
    }
   ],
   "source": [
    "# присоединим данные из внешнего источника\n",
    "data_address = data_address.merge(df, on='street', how='left')\n",
    "data_address"
   ]
  },
  {
   "cell_type": "markdown",
   "metadata": {},
   "source": [
    "ВЫВОД: \n",
    "Данные улицы находятся в следующих районах: \n",
    "Зеленоградский АО,\n",
    "Северо-Восточный АО,\n",
    "Юго-Западный АО,\n",
    "Северный АО,\n",
    "Центральный АО,\n",
    "Южный АО,\n",
    "Западный АО.\n",
    "Больше всего предприятий общепита в Юго-Зпадном АО. Чем длинее улица, тем больше районов она затрагивает."
   ]
  },
  {
   "cell_type": "markdown",
   "metadata": {},
   "source": [
    "### Найдем число улиц с одним объектом общественного питания. "
   ]
  },
  {
   "cell_type": "code",
   "execution_count": 51,
   "metadata": {},
   "outputs": [
    {
     "data": {
      "text/html": [
       "<div>\n",
       "<style scoped>\n",
       "    .dataframe tbody tr th:only-of-type {\n",
       "        vertical-align: middle;\n",
       "    }\n",
       "\n",
       "    .dataframe tbody tr th {\n",
       "        vertical-align: top;\n",
       "    }\n",
       "\n",
       "    .dataframe thead th {\n",
       "        text-align: right;\n",
       "    }\n",
       "</style>\n",
       "<table border=\"1\" class=\"dataframe\">\n",
       "  <thead>\n",
       "    <tr style=\"text-align: right;\">\n",
       "      <th></th>\n",
       "      <th>street</th>\n",
       "      <th>id</th>\n",
       "    </tr>\n",
       "  </thead>\n",
       "  <tbody>\n",
       "    <tr>\n",
       "      <th>2</th>\n",
       "      <td>1-й Балтийский переулок</td>\n",
       "      <td>1</td>\n",
       "    </tr>\n",
       "    <tr>\n",
       "      <th>3</th>\n",
       "      <td>1-й Басманный переулок</td>\n",
       "      <td>1</td>\n",
       "    </tr>\n",
       "    <tr>\n",
       "      <th>4</th>\n",
       "      <td>1-й Ботанический проезд</td>\n",
       "      <td>1</td>\n",
       "    </tr>\n",
       "    <tr>\n",
       "      <th>7</th>\n",
       "      <td>1-й Вешняковский проезд</td>\n",
       "      <td>1</td>\n",
       "    </tr>\n",
       "    <tr>\n",
       "      <th>9</th>\n",
       "      <td>1-й Голутвинский переулок</td>\n",
       "      <td>1</td>\n",
       "    </tr>\n",
       "    <tr>\n",
       "      <th>...</th>\n",
       "      <td>...</td>\n",
       "      <td>...</td>\n",
       "    </tr>\n",
       "    <tr>\n",
       "      <th>1885</th>\n",
       "      <td>улица Шеногина</td>\n",
       "      <td>1</td>\n",
       "    </tr>\n",
       "    <tr>\n",
       "      <th>1888</th>\n",
       "      <td>улица Шумилова</td>\n",
       "      <td>1</td>\n",
       "    </tr>\n",
       "    <tr>\n",
       "      <th>1889</th>\n",
       "      <td>улица Шумкина</td>\n",
       "      <td>1</td>\n",
       "    </tr>\n",
       "    <tr>\n",
       "      <th>1893</th>\n",
       "      <td>улица Щорса</td>\n",
       "      <td>1</td>\n",
       "    </tr>\n",
       "    <tr>\n",
       "      <th>1898</th>\n",
       "      <td>шоссе Фрезер</td>\n",
       "      <td>1</td>\n",
       "    </tr>\n",
       "  </tbody>\n",
       "</table>\n",
       "<p>579 rows × 2 columns</p>\n",
       "</div>"
      ],
      "text/plain": [
       "                         street  id\n",
       "2       1-й Балтийский переулок   1\n",
       "3        1-й Басманный переулок   1\n",
       "4       1-й Ботанический проезд   1\n",
       "7       1-й Вешняковский проезд   1\n",
       "9     1-й Голутвинский переулок   1\n",
       "...                         ...  ..\n",
       "1885             улица Шеногина   1\n",
       "1888             улица Шумилова   1\n",
       "1889              улица Шумкина   1\n",
       "1893                улица Щорса   1\n",
       "1898               шоссе Фрезер   1\n",
       "\n",
       "[579 rows x 2 columns]"
      ]
     },
     "execution_count": 51,
     "metadata": {},
     "output_type": "execute_result"
    }
   ],
   "source": [
    "# улицы с одной точкой общепита\n",
    "street_one = data.pivot_table(index = 'street', values = 'id', aggfunc = 'count').reset_index().query('id == 1')\n",
    "street_one"
   ]
  },
  {
   "cell_type": "code",
   "execution_count": 52,
   "metadata": {},
   "outputs": [
    {
     "data": {
      "text/html": [
       "<div>\n",
       "<style scoped>\n",
       "    .dataframe tbody tr th:only-of-type {\n",
       "        vertical-align: middle;\n",
       "    }\n",
       "\n",
       "    .dataframe tbody tr th {\n",
       "        vertical-align: top;\n",
       "    }\n",
       "\n",
       "    .dataframe thead th {\n",
       "        text-align: right;\n",
       "    }\n",
       "</style>\n",
       "<table border=\"1\" class=\"dataframe\">\n",
       "  <thead>\n",
       "    <tr style=\"text-align: right;\">\n",
       "      <th></th>\n",
       "      <th>street</th>\n",
       "      <th>id</th>\n",
       "      <th>areaid</th>\n",
       "      <th>okrug</th>\n",
       "      <th>area</th>\n",
       "      <th>Unnamed: 4</th>\n",
       "    </tr>\n",
       "  </thead>\n",
       "  <tbody>\n",
       "    <tr>\n",
       "      <th>0</th>\n",
       "      <td>1-й Балтийский переулок</td>\n",
       "      <td>1</td>\n",
       "      <td>54</td>\n",
       "      <td>САО</td>\n",
       "      <td>Район Аэропорт</td>\n",
       "      <td>NaN</td>\n",
       "    </tr>\n",
       "    <tr>\n",
       "      <th>1</th>\n",
       "      <td>1-й Басманный переулок</td>\n",
       "      <td>1</td>\n",
       "      <td>13</td>\n",
       "      <td>ЦАО</td>\n",
       "      <td>Басманный район</td>\n",
       "      <td>NaN</td>\n",
       "    </tr>\n",
       "    <tr>\n",
       "      <th>2</th>\n",
       "      <td>1-й Басманный переулок</td>\n",
       "      <td>1</td>\n",
       "      <td>15</td>\n",
       "      <td>ЦАО</td>\n",
       "      <td>Красносельский район</td>\n",
       "      <td>NaN</td>\n",
       "    </tr>\n",
       "    <tr>\n",
       "      <th>3</th>\n",
       "      <td>1-й Ботанический проезд</td>\n",
       "      <td>1</td>\n",
       "      <td>82</td>\n",
       "      <td>СВАО</td>\n",
       "      <td>Район Свиблово</td>\n",
       "      <td>NaN</td>\n",
       "    </tr>\n",
       "    <tr>\n",
       "      <th>4</th>\n",
       "      <td>1-й Вешняковский проезд</td>\n",
       "      <td>1</td>\n",
       "      <td>120</td>\n",
       "      <td>ЮВАО</td>\n",
       "      <td>Рязанский район</td>\n",
       "      <td>NaN</td>\n",
       "    </tr>\n",
       "    <tr>\n",
       "      <th>...</th>\n",
       "      <td>...</td>\n",
       "      <td>...</td>\n",
       "      <td>...</td>\n",
       "      <td>...</td>\n",
       "      <td>...</td>\n",
       "      <td>...</td>\n",
       "    </tr>\n",
       "    <tr>\n",
       "      <th>617</th>\n",
       "      <td>улица Шеногина</td>\n",
       "      <td>1</td>\n",
       "      <td>92</td>\n",
       "      <td>СЗАО</td>\n",
       "      <td>Район Хорошево-Мневники</td>\n",
       "      <td>NaN</td>\n",
       "    </tr>\n",
       "    <tr>\n",
       "      <th>618</th>\n",
       "      <td>улица Шумилова</td>\n",
       "      <td>1</td>\n",
       "      <td>113</td>\n",
       "      <td>ЮВАО</td>\n",
       "      <td>Район Кузьминки</td>\n",
       "      <td>NaN</td>\n",
       "    </tr>\n",
       "    <tr>\n",
       "      <th>619</th>\n",
       "      <td>улица Шумкина</td>\n",
       "      <td>1</td>\n",
       "      <td>26</td>\n",
       "      <td>ВАО</td>\n",
       "      <td>Район Сокольники</td>\n",
       "      <td>NaN</td>\n",
       "    </tr>\n",
       "    <tr>\n",
       "      <th>620</th>\n",
       "      <td>улица Щорса</td>\n",
       "      <td>1</td>\n",
       "      <td>46</td>\n",
       "      <td>ЗАО</td>\n",
       "      <td>Район Солнцево</td>\n",
       "      <td>NaN</td>\n",
       "    </tr>\n",
       "    <tr>\n",
       "      <th>621</th>\n",
       "      <td>шоссе Фрезер</td>\n",
       "      <td>1</td>\n",
       "      <td>117</td>\n",
       "      <td>ЮВАО</td>\n",
       "      <td>Нижегородский район</td>\n",
       "      <td>NaN</td>\n",
       "    </tr>\n",
       "  </tbody>\n",
       "</table>\n",
       "<p>622 rows × 6 columns</p>\n",
       "</div>"
      ],
      "text/plain": [
       "                      street  id areaid okrug                     area  \\\n",
       "0    1-й Балтийский переулок   1     54   САО           Район Аэропорт   \n",
       "1     1-й Басманный переулок   1     13   ЦАО          Басманный район   \n",
       "2     1-й Басманный переулок   1     15   ЦАО     Красносельский район   \n",
       "3    1-й Ботанический проезд   1     82  СВАО           Район Свиблово   \n",
       "4    1-й Вешняковский проезд   1    120  ЮВАО          Рязанский район   \n",
       "..                       ...  ..    ...   ...                      ...   \n",
       "617           улица Шеногина   1     92  СЗАО  Район Хорошево-Мневники   \n",
       "618           улица Шумилова   1    113  ЮВАО          Район Кузьминки   \n",
       "619            улица Шумкина   1     26   ВАО         Район Сокольники   \n",
       "620              улица Щорса   1     46   ЗАО           Район Солнцево   \n",
       "621             шоссе Фрезер   1    117  ЮВАО      Нижегородский район   \n",
       "\n",
       "    Unnamed: 4  \n",
       "0          NaN  \n",
       "1          NaN  \n",
       "2          NaN  \n",
       "3          NaN  \n",
       "4          NaN  \n",
       "..         ...  \n",
       "617        NaN  \n",
       "618        NaN  \n",
       "619        NaN  \n",
       "620        NaN  \n",
       "621        NaN  \n",
       "\n",
       "[622 rows x 6 columns]"
      ]
     },
     "execution_count": 52,
     "metadata": {},
     "output_type": "execute_result"
    }
   ],
   "source": [
    "street_one = street_one.merge(df, on='street', how='left')\n",
    "street_one"
   ]
  },
  {
   "cell_type": "code",
   "execution_count": 53,
   "metadata": {},
   "outputs": [
    {
     "data": {
      "text/html": [
       "<div>\n",
       "<style scoped>\n",
       "    .dataframe tbody tr th:only-of-type {\n",
       "        vertical-align: middle;\n",
       "    }\n",
       "\n",
       "    .dataframe tbody tr th {\n",
       "        vertical-align: top;\n",
       "    }\n",
       "\n",
       "    .dataframe thead th {\n",
       "        text-align: right;\n",
       "    }\n",
       "</style>\n",
       "<table border=\"1\" class=\"dataframe\">\n",
       "  <thead>\n",
       "    <tr style=\"text-align: right;\">\n",
       "      <th></th>\n",
       "      <th>area</th>\n",
       "      <th>street</th>\n",
       "    </tr>\n",
       "  </thead>\n",
       "  <tbody>\n",
       "    <tr>\n",
       "      <th>0</th>\n",
       "      <td>Таганский район</td>\n",
       "      <td>27</td>\n",
       "    </tr>\n",
       "    <tr>\n",
       "      <th>1</th>\n",
       "      <td>Район Хамовники</td>\n",
       "      <td>26</td>\n",
       "    </tr>\n",
       "    <tr>\n",
       "      <th>2</th>\n",
       "      <td>Басманный район</td>\n",
       "      <td>25</td>\n",
       "    </tr>\n",
       "    <tr>\n",
       "      <th>3</th>\n",
       "      <td>Тверской район</td>\n",
       "      <td>20</td>\n",
       "    </tr>\n",
       "    <tr>\n",
       "      <th>4</th>\n",
       "      <td>Пресненский район</td>\n",
       "      <td>19</td>\n",
       "    </tr>\n",
       "    <tr>\n",
       "      <th>...</th>\n",
       "      <td>...</td>\n",
       "      <td>...</td>\n",
       "    </tr>\n",
       "    <tr>\n",
       "      <th>94</th>\n",
       "      <td>Район Марьино</td>\n",
       "      <td>1</td>\n",
       "    </tr>\n",
       "    <tr>\n",
       "      <th>95</th>\n",
       "      <td>Район Матушкино-Савелки</td>\n",
       "      <td>1</td>\n",
       "    </tr>\n",
       "    <tr>\n",
       "      <th>96</th>\n",
       "      <td>Район Метрогородок</td>\n",
       "      <td>1</td>\n",
       "    </tr>\n",
       "    <tr>\n",
       "      <th>97</th>\n",
       "      <td>Район Москворечье-Сабурово</td>\n",
       "      <td>1</td>\n",
       "    </tr>\n",
       "    <tr>\n",
       "      <th>98</th>\n",
       "      <td>Обручевский район</td>\n",
       "      <td>1</td>\n",
       "    </tr>\n",
       "  </tbody>\n",
       "</table>\n",
       "<p>99 rows × 2 columns</p>\n",
       "</div>"
      ],
      "text/plain": [
       "                          area  street\n",
       "0              Таганский район      27\n",
       "1              Район Хамовники      26\n",
       "2              Басманный район      25\n",
       "3               Тверской район      20\n",
       "4            Пресненский район      19\n",
       "..                         ...     ...\n",
       "94               Район Марьино       1\n",
       "95     Район Матушкино-Савелки       1\n",
       "96          Район Метрогородок       1\n",
       "97  Район Москворечье-Сабурово       1\n",
       "98           Обручевский район       1\n",
       "\n",
       "[99 rows x 2 columns]"
      ]
     },
     "execution_count": 53,
     "metadata": {},
     "output_type": "execute_result"
    }
   ],
   "source": [
    "# Районы \n",
    "street_one = street_one.pivot_table(index = 'area', values = 'street', aggfunc = 'count').sort_values(by = 'street', ascending = False).reset_index()\n",
    "street_one"
   ]
  },
  {
   "cell_type": "code",
   "execution_count": 54,
   "metadata": {},
   "outputs": [
    {
     "data": {
      "application/vnd.plotly.v1+json": {
       "config": {
        "plotlyServerURL": "https://plot.ly"
       },
       "data": [
        {
         "alignmentgroup": "True",
         "hovertemplate": "area=%{x}<br>street=%{y}<extra></extra>",
         "legendgroup": "",
         "marker": {
          "color": "#636efa",
          "pattern": {
           "shape": ""
          }
         },
         "name": "",
         "offsetgroup": "",
         "orientation": "v",
         "showlegend": false,
         "textposition": "auto",
         "type": "bar",
         "x": [
          "Таганский район",
          "Район Хамовники",
          "Басманный район",
          "Тверской район",
          "Пресненский район",
          "Район Марьина роща",
          "Район Арбат",
          "Мещанский район",
          "Район Сокольники",
          "Район Замоскворечье",
          "Район Лефортово",
          "Даниловский район",
          "Район Соколиная Гора",
          "Район Якиманка",
          "Красносельский район",
          "Район Богородское",
          "Нижегородский район",
          "Район Люблино",
          "Можайский Район",
          "Район Южное Бутово",
          "Район Аэропорт",
          "Район Преображенское",
          "Тимирязевский Район",
          "Алексеевский район",
          "Лосиноостровский район",
          "Дмитровский район",
          "Район Измайлово",
          "Район Внуково",
          "Донской район",
          "Район Хорошево-Мневники",
          "Район Кунцево",
          "Савеловский район",
          "Район Солнцево",
          "Район Щукино",
          "Головинский район",
          "Район Южное Тушино",
          "Район Ясенево",
          "Рязанский район",
          "Район Ростокино",
          "Бабушкинский район",
          "Район Выхино-Жулебино",
          "Хорошевский район",
          "Южнопортовый Район",
          "Район Свиблово",
          "Район Митино",
          "Район Сокол",
          "Район Ново-Переделкино",
          "Район Отрадное",
          "Район Печатники",
          "Район Кузьминки",
          "Нагорный район",
          "Район Косино-Ухтомский",
          "Район Коптево",
          "Район Зюзино",
          "Район Дорогомилово",
          "Район Гольяново",
          "Район Покровское-Стрешнево",
          "Район Беговой",
          "Район Северное Медведково",
          "Бутырский район",
          "Район Раменки",
          "Район Бирюлево Восточное",
          "Район Перово",
          "Район Новогиреево",
          "Останкинский район",
          "Ярославский Район",
          "Район Черемушки",
          "Район Текстильщики",
          "Район Северное Бутово",
          "Район Котловка",
          "Войковский Район",
          "Район Коньково",
          "Район Фили-Давыдково",
          "Район Куркино",
          "Бескудниковский Район",
          "Район Восточный",
          "Район Северный",
          "Район Восточное Измайлово",
          "Район Северное Измайлово",
          "Район Очаково-Матвеевское",
          "Район Левобережный",
          "Район Ивановское",
          "Район Гагаринский",
          "Район Южное Медведково",
          "Район Западное Дегунино",
          "Район Нагатино-Садовники",
          "Район Чертаново Южное",
          "Район Чертаново Северное",
          "Район Царицыно",
          "Молжаниновский район",
          "Район Марфино",
          "Район Филевский Парк",
          "Район Строгино",
          "Алтуфьевский район",
          "Район Марьино",
          "Район Матушкино-Савелки",
          "Район Метрогородок",
          "Район Москворечье-Сабурово",
          "Обручевский район"
         ],
         "xaxis": "x",
         "y": [
          27,
          26,
          25,
          20,
          19,
          18,
          17,
          16,
          15,
          14,
          12,
          12,
          12,
          11,
          10,
          10,
          9,
          8,
          8,
          8,
          8,
          7,
          7,
          7,
          7,
          6,
          6,
          6,
          6,
          6,
          6,
          6,
          6,
          5,
          5,
          5,
          5,
          5,
          5,
          5,
          5,
          5,
          5,
          4,
          4,
          4,
          4,
          4,
          4,
          4,
          4,
          4,
          4,
          4,
          4,
          4,
          4,
          3,
          3,
          3,
          3,
          3,
          3,
          3,
          3,
          3,
          2,
          2,
          2,
          2,
          2,
          2,
          2,
          2,
          2,
          2,
          2,
          2,
          2,
          1,
          1,
          1,
          1,
          1,
          1,
          1,
          1,
          1,
          1,
          1,
          1,
          1,
          1,
          1,
          1,
          1,
          1,
          1,
          1
         ],
         "yaxis": "y"
        }
       ],
       "layout": {
        "barmode": "relative",
        "legend": {
         "tracegroupgap": 0
        },
        "template": {
         "data": {
          "bar": [
           {
            "error_x": {
             "color": "#2a3f5f"
            },
            "error_y": {
             "color": "#2a3f5f"
            },
            "marker": {
             "line": {
              "color": "#E5ECF6",
              "width": 0.5
             },
             "pattern": {
              "fillmode": "overlay",
              "size": 10,
              "solidity": 0.2
             }
            },
            "type": "bar"
           }
          ],
          "barpolar": [
           {
            "marker": {
             "line": {
              "color": "#E5ECF6",
              "width": 0.5
             },
             "pattern": {
              "fillmode": "overlay",
              "size": 10,
              "solidity": 0.2
             }
            },
            "type": "barpolar"
           }
          ],
          "carpet": [
           {
            "aaxis": {
             "endlinecolor": "#2a3f5f",
             "gridcolor": "white",
             "linecolor": "white",
             "minorgridcolor": "white",
             "startlinecolor": "#2a3f5f"
            },
            "baxis": {
             "endlinecolor": "#2a3f5f",
             "gridcolor": "white",
             "linecolor": "white",
             "minorgridcolor": "white",
             "startlinecolor": "#2a3f5f"
            },
            "type": "carpet"
           }
          ],
          "choropleth": [
           {
            "colorbar": {
             "outlinewidth": 0,
             "ticks": ""
            },
            "type": "choropleth"
           }
          ],
          "contour": [
           {
            "colorbar": {
             "outlinewidth": 0,
             "ticks": ""
            },
            "colorscale": [
             [
              0,
              "#0d0887"
             ],
             [
              0.1111111111111111,
              "#46039f"
             ],
             [
              0.2222222222222222,
              "#7201a8"
             ],
             [
              0.3333333333333333,
              "#9c179e"
             ],
             [
              0.4444444444444444,
              "#bd3786"
             ],
             [
              0.5555555555555556,
              "#d8576b"
             ],
             [
              0.6666666666666666,
              "#ed7953"
             ],
             [
              0.7777777777777778,
              "#fb9f3a"
             ],
             [
              0.8888888888888888,
              "#fdca26"
             ],
             [
              1,
              "#f0f921"
             ]
            ],
            "type": "contour"
           }
          ],
          "contourcarpet": [
           {
            "colorbar": {
             "outlinewidth": 0,
             "ticks": ""
            },
            "type": "contourcarpet"
           }
          ],
          "heatmap": [
           {
            "colorbar": {
             "outlinewidth": 0,
             "ticks": ""
            },
            "colorscale": [
             [
              0,
              "#0d0887"
             ],
             [
              0.1111111111111111,
              "#46039f"
             ],
             [
              0.2222222222222222,
              "#7201a8"
             ],
             [
              0.3333333333333333,
              "#9c179e"
             ],
             [
              0.4444444444444444,
              "#bd3786"
             ],
             [
              0.5555555555555556,
              "#d8576b"
             ],
             [
              0.6666666666666666,
              "#ed7953"
             ],
             [
              0.7777777777777778,
              "#fb9f3a"
             ],
             [
              0.8888888888888888,
              "#fdca26"
             ],
             [
              1,
              "#f0f921"
             ]
            ],
            "type": "heatmap"
           }
          ],
          "heatmapgl": [
           {
            "colorbar": {
             "outlinewidth": 0,
             "ticks": ""
            },
            "colorscale": [
             [
              0,
              "#0d0887"
             ],
             [
              0.1111111111111111,
              "#46039f"
             ],
             [
              0.2222222222222222,
              "#7201a8"
             ],
             [
              0.3333333333333333,
              "#9c179e"
             ],
             [
              0.4444444444444444,
              "#bd3786"
             ],
             [
              0.5555555555555556,
              "#d8576b"
             ],
             [
              0.6666666666666666,
              "#ed7953"
             ],
             [
              0.7777777777777778,
              "#fb9f3a"
             ],
             [
              0.8888888888888888,
              "#fdca26"
             ],
             [
              1,
              "#f0f921"
             ]
            ],
            "type": "heatmapgl"
           }
          ],
          "histogram": [
           {
            "marker": {
             "pattern": {
              "fillmode": "overlay",
              "size": 10,
              "solidity": 0.2
             }
            },
            "type": "histogram"
           }
          ],
          "histogram2d": [
           {
            "colorbar": {
             "outlinewidth": 0,
             "ticks": ""
            },
            "colorscale": [
             [
              0,
              "#0d0887"
             ],
             [
              0.1111111111111111,
              "#46039f"
             ],
             [
              0.2222222222222222,
              "#7201a8"
             ],
             [
              0.3333333333333333,
              "#9c179e"
             ],
             [
              0.4444444444444444,
              "#bd3786"
             ],
             [
              0.5555555555555556,
              "#d8576b"
             ],
             [
              0.6666666666666666,
              "#ed7953"
             ],
             [
              0.7777777777777778,
              "#fb9f3a"
             ],
             [
              0.8888888888888888,
              "#fdca26"
             ],
             [
              1,
              "#f0f921"
             ]
            ],
            "type": "histogram2d"
           }
          ],
          "histogram2dcontour": [
           {
            "colorbar": {
             "outlinewidth": 0,
             "ticks": ""
            },
            "colorscale": [
             [
              0,
              "#0d0887"
             ],
             [
              0.1111111111111111,
              "#46039f"
             ],
             [
              0.2222222222222222,
              "#7201a8"
             ],
             [
              0.3333333333333333,
              "#9c179e"
             ],
             [
              0.4444444444444444,
              "#bd3786"
             ],
             [
              0.5555555555555556,
              "#d8576b"
             ],
             [
              0.6666666666666666,
              "#ed7953"
             ],
             [
              0.7777777777777778,
              "#fb9f3a"
             ],
             [
              0.8888888888888888,
              "#fdca26"
             ],
             [
              1,
              "#f0f921"
             ]
            ],
            "type": "histogram2dcontour"
           }
          ],
          "mesh3d": [
           {
            "colorbar": {
             "outlinewidth": 0,
             "ticks": ""
            },
            "type": "mesh3d"
           }
          ],
          "parcoords": [
           {
            "line": {
             "colorbar": {
              "outlinewidth": 0,
              "ticks": ""
             }
            },
            "type": "parcoords"
           }
          ],
          "pie": [
           {
            "automargin": true,
            "type": "pie"
           }
          ],
          "scatter": [
           {
            "marker": {
             "colorbar": {
              "outlinewidth": 0,
              "ticks": ""
             }
            },
            "type": "scatter"
           }
          ],
          "scatter3d": [
           {
            "line": {
             "colorbar": {
              "outlinewidth": 0,
              "ticks": ""
             }
            },
            "marker": {
             "colorbar": {
              "outlinewidth": 0,
              "ticks": ""
             }
            },
            "type": "scatter3d"
           }
          ],
          "scattercarpet": [
           {
            "marker": {
             "colorbar": {
              "outlinewidth": 0,
              "ticks": ""
             }
            },
            "type": "scattercarpet"
           }
          ],
          "scattergeo": [
           {
            "marker": {
             "colorbar": {
              "outlinewidth": 0,
              "ticks": ""
             }
            },
            "type": "scattergeo"
           }
          ],
          "scattergl": [
           {
            "marker": {
             "colorbar": {
              "outlinewidth": 0,
              "ticks": ""
             }
            },
            "type": "scattergl"
           }
          ],
          "scattermapbox": [
           {
            "marker": {
             "colorbar": {
              "outlinewidth": 0,
              "ticks": ""
             }
            },
            "type": "scattermapbox"
           }
          ],
          "scatterpolar": [
           {
            "marker": {
             "colorbar": {
              "outlinewidth": 0,
              "ticks": ""
             }
            },
            "type": "scatterpolar"
           }
          ],
          "scatterpolargl": [
           {
            "marker": {
             "colorbar": {
              "outlinewidth": 0,
              "ticks": ""
             }
            },
            "type": "scatterpolargl"
           }
          ],
          "scatterternary": [
           {
            "marker": {
             "colorbar": {
              "outlinewidth": 0,
              "ticks": ""
             }
            },
            "type": "scatterternary"
           }
          ],
          "surface": [
           {
            "colorbar": {
             "outlinewidth": 0,
             "ticks": ""
            },
            "colorscale": [
             [
              0,
              "#0d0887"
             ],
             [
              0.1111111111111111,
              "#46039f"
             ],
             [
              0.2222222222222222,
              "#7201a8"
             ],
             [
              0.3333333333333333,
              "#9c179e"
             ],
             [
              0.4444444444444444,
              "#bd3786"
             ],
             [
              0.5555555555555556,
              "#d8576b"
             ],
             [
              0.6666666666666666,
              "#ed7953"
             ],
             [
              0.7777777777777778,
              "#fb9f3a"
             ],
             [
              0.8888888888888888,
              "#fdca26"
             ],
             [
              1,
              "#f0f921"
             ]
            ],
            "type": "surface"
           }
          ],
          "table": [
           {
            "cells": {
             "fill": {
              "color": "#EBF0F8"
             },
             "line": {
              "color": "white"
             }
            },
            "header": {
             "fill": {
              "color": "#C8D4E3"
             },
             "line": {
              "color": "white"
             }
            },
            "type": "table"
           }
          ]
         },
         "layout": {
          "annotationdefaults": {
           "arrowcolor": "#2a3f5f",
           "arrowhead": 0,
           "arrowwidth": 1
          },
          "autotypenumbers": "strict",
          "coloraxis": {
           "colorbar": {
            "outlinewidth": 0,
            "ticks": ""
           }
          },
          "colorscale": {
           "diverging": [
            [
             0,
             "#8e0152"
            ],
            [
             0.1,
             "#c51b7d"
            ],
            [
             0.2,
             "#de77ae"
            ],
            [
             0.3,
             "#f1b6da"
            ],
            [
             0.4,
             "#fde0ef"
            ],
            [
             0.5,
             "#f7f7f7"
            ],
            [
             0.6,
             "#e6f5d0"
            ],
            [
             0.7,
             "#b8e186"
            ],
            [
             0.8,
             "#7fbc41"
            ],
            [
             0.9,
             "#4d9221"
            ],
            [
             1,
             "#276419"
            ]
           ],
           "sequential": [
            [
             0,
             "#0d0887"
            ],
            [
             0.1111111111111111,
             "#46039f"
            ],
            [
             0.2222222222222222,
             "#7201a8"
            ],
            [
             0.3333333333333333,
             "#9c179e"
            ],
            [
             0.4444444444444444,
             "#bd3786"
            ],
            [
             0.5555555555555556,
             "#d8576b"
            ],
            [
             0.6666666666666666,
             "#ed7953"
            ],
            [
             0.7777777777777778,
             "#fb9f3a"
            ],
            [
             0.8888888888888888,
             "#fdca26"
            ],
            [
             1,
             "#f0f921"
            ]
           ],
           "sequentialminus": [
            [
             0,
             "#0d0887"
            ],
            [
             0.1111111111111111,
             "#46039f"
            ],
            [
             0.2222222222222222,
             "#7201a8"
            ],
            [
             0.3333333333333333,
             "#9c179e"
            ],
            [
             0.4444444444444444,
             "#bd3786"
            ],
            [
             0.5555555555555556,
             "#d8576b"
            ],
            [
             0.6666666666666666,
             "#ed7953"
            ],
            [
             0.7777777777777778,
             "#fb9f3a"
            ],
            [
             0.8888888888888888,
             "#fdca26"
            ],
            [
             1,
             "#f0f921"
            ]
           ]
          },
          "colorway": [
           "#636efa",
           "#EF553B",
           "#00cc96",
           "#ab63fa",
           "#FFA15A",
           "#19d3f3",
           "#FF6692",
           "#B6E880",
           "#FF97FF",
           "#FECB52"
          ],
          "font": {
           "color": "#2a3f5f"
          },
          "geo": {
           "bgcolor": "white",
           "lakecolor": "white",
           "landcolor": "#E5ECF6",
           "showlakes": true,
           "showland": true,
           "subunitcolor": "white"
          },
          "hoverlabel": {
           "align": "left"
          },
          "hovermode": "closest",
          "mapbox": {
           "style": "light"
          },
          "paper_bgcolor": "white",
          "plot_bgcolor": "#E5ECF6",
          "polar": {
           "angularaxis": {
            "gridcolor": "white",
            "linecolor": "white",
            "ticks": ""
           },
           "bgcolor": "#E5ECF6",
           "radialaxis": {
            "gridcolor": "white",
            "linecolor": "white",
            "ticks": ""
           }
          },
          "scene": {
           "xaxis": {
            "backgroundcolor": "#E5ECF6",
            "gridcolor": "white",
            "gridwidth": 2,
            "linecolor": "white",
            "showbackground": true,
            "ticks": "",
            "zerolinecolor": "white"
           },
           "yaxis": {
            "backgroundcolor": "#E5ECF6",
            "gridcolor": "white",
            "gridwidth": 2,
            "linecolor": "white",
            "showbackground": true,
            "ticks": "",
            "zerolinecolor": "white"
           },
           "zaxis": {
            "backgroundcolor": "#E5ECF6",
            "gridcolor": "white",
            "gridwidth": 2,
            "linecolor": "white",
            "showbackground": true,
            "ticks": "",
            "zerolinecolor": "white"
           }
          },
          "shapedefaults": {
           "line": {
            "color": "#2a3f5f"
           }
          },
          "ternary": {
           "aaxis": {
            "gridcolor": "white",
            "linecolor": "white",
            "ticks": ""
           },
           "baxis": {
            "gridcolor": "white",
            "linecolor": "white",
            "ticks": ""
           },
           "bgcolor": "#E5ECF6",
           "caxis": {
            "gridcolor": "white",
            "linecolor": "white",
            "ticks": ""
           }
          },
          "title": {
           "x": 0.05
          },
          "xaxis": {
           "automargin": true,
           "gridcolor": "white",
           "linecolor": "white",
           "ticks": "",
           "title": {
            "standoff": 15
           },
           "zerolinecolor": "white",
           "zerolinewidth": 2
          },
          "yaxis": {
           "automargin": true,
           "gridcolor": "white",
           "linecolor": "white",
           "ticks": "",
           "title": {
            "standoff": 15
           },
           "zerolinecolor": "white",
           "zerolinewidth": 2
          }
         }
        },
        "title": {
         "text": "Районы с наибольшим количеством улиц с одним общепитом"
        },
        "xaxis": {
         "anchor": "y",
         "domain": [
          0,
          1
         ],
         "title": {
          "text": "area"
         }
        },
        "yaxis": {
         "anchor": "x",
         "domain": [
          0,
          1
         ],
         "title": {
          "text": "street"
         }
        }
       }
      },
      "text/html": [
       "<div>                            <div id=\"322d9461-859e-4050-aa1e-daed48e91494\" class=\"plotly-graph-div\" style=\"height:525px; width:100%;\"></div>            <script type=\"text/javascript\">                require([\"plotly\"], function(Plotly) {                    window.PLOTLYENV=window.PLOTLYENV || {};                                    if (document.getElementById(\"322d9461-859e-4050-aa1e-daed48e91494\")) {                    Plotly.newPlot(                        \"322d9461-859e-4050-aa1e-daed48e91494\",                        [{\"alignmentgroup\":\"True\",\"hovertemplate\":\"area=%{x}<br>street=%{y}<extra></extra>\",\"legendgroup\":\"\",\"marker\":{\"color\":\"#636efa\",\"pattern\":{\"shape\":\"\"}},\"name\":\"\",\"offsetgroup\":\"\",\"orientation\":\"v\",\"showlegend\":false,\"textposition\":\"auto\",\"x\":[\"\\u0422\\u0430\\u0433\\u0430\\u043d\\u0441\\u043a\\u0438\\u0439 \\u0440\\u0430\\u0439\\u043e\\u043d\",\"\\u0420\\u0430\\u0439\\u043e\\u043d \\u0425\\u0430\\u043c\\u043e\\u0432\\u043d\\u0438\\u043a\\u0438\",\"\\u0411\\u0430\\u0441\\u043c\\u0430\\u043d\\u043d\\u044b\\u0439 \\u0440\\u0430\\u0439\\u043e\\u043d\",\"\\u0422\\u0432\\u0435\\u0440\\u0441\\u043a\\u043e\\u0439 \\u0440\\u0430\\u0439\\u043e\\u043d\",\"\\u041f\\u0440\\u0435\\u0441\\u043d\\u0435\\u043d\\u0441\\u043a\\u0438\\u0439 \\u0440\\u0430\\u0439\\u043e\\u043d\",\"\\u0420\\u0430\\u0439\\u043e\\u043d \\u041c\\u0430\\u0440\\u044c\\u0438\\u043d\\u0430 \\u0440\\u043e\\u0449\\u0430\",\"\\u0420\\u0430\\u0439\\u043e\\u043d \\u0410\\u0440\\u0431\\u0430\\u0442\",\"\\u041c\\u0435\\u0449\\u0430\\u043d\\u0441\\u043a\\u0438\\u0439 \\u0440\\u0430\\u0439\\u043e\\u043d\",\"\\u0420\\u0430\\u0439\\u043e\\u043d \\u0421\\u043e\\u043a\\u043e\\u043b\\u044c\\u043d\\u0438\\u043a\\u0438\",\"\\u0420\\u0430\\u0439\\u043e\\u043d \\u0417\\u0430\\u043c\\u043e\\u0441\\u043a\\u0432\\u043e\\u0440\\u0435\\u0447\\u044c\\u0435\",\"\\u0420\\u0430\\u0439\\u043e\\u043d \\u041b\\u0435\\u0444\\u043e\\u0440\\u0442\\u043e\\u0432\\u043e\",\"\\u0414\\u0430\\u043d\\u0438\\u043b\\u043e\\u0432\\u0441\\u043a\\u0438\\u0439 \\u0440\\u0430\\u0439\\u043e\\u043d\",\"\\u0420\\u0430\\u0439\\u043e\\u043d \\u0421\\u043e\\u043a\\u043e\\u043b\\u0438\\u043d\\u0430\\u044f \\u0413\\u043e\\u0440\\u0430\",\"\\u0420\\u0430\\u0439\\u043e\\u043d \\u042f\\u043a\\u0438\\u043c\\u0430\\u043d\\u043a\\u0430\",\"\\u041a\\u0440\\u0430\\u0441\\u043d\\u043e\\u0441\\u0435\\u043b\\u044c\\u0441\\u043a\\u0438\\u0439 \\u0440\\u0430\\u0439\\u043e\\u043d\",\"\\u0420\\u0430\\u0439\\u043e\\u043d \\u0411\\u043e\\u0433\\u043e\\u0440\\u043e\\u0434\\u0441\\u043a\\u043e\\u0435\",\"\\u041d\\u0438\\u0436\\u0435\\u0433\\u043e\\u0440\\u043e\\u0434\\u0441\\u043a\\u0438\\u0439 \\u0440\\u0430\\u0439\\u043e\\u043d\",\"\\u0420\\u0430\\u0439\\u043e\\u043d \\u041b\\u044e\\u0431\\u043b\\u0438\\u043d\\u043e\",\"\\u041c\\u043e\\u0436\\u0430\\u0439\\u0441\\u043a\\u0438\\u0439 \\u0420\\u0430\\u0439\\u043e\\u043d\",\"\\u0420\\u0430\\u0439\\u043e\\u043d \\u042e\\u0436\\u043d\\u043e\\u0435 \\u0411\\u0443\\u0442\\u043e\\u0432\\u043e\",\"\\u0420\\u0430\\u0439\\u043e\\u043d \\u0410\\u044d\\u0440\\u043e\\u043f\\u043e\\u0440\\u0442\",\"\\u0420\\u0430\\u0439\\u043e\\u043d \\u041f\\u0440\\u0435\\u043e\\u0431\\u0440\\u0430\\u0436\\u0435\\u043d\\u0441\\u043a\\u043e\\u0435\",\"\\u0422\\u0438\\u043c\\u0438\\u0440\\u044f\\u0437\\u0435\\u0432\\u0441\\u043a\\u0438\\u0439 \\u0420\\u0430\\u0439\\u043e\\u043d\",\"\\u0410\\u043b\\u0435\\u043a\\u0441\\u0435\\u0435\\u0432\\u0441\\u043a\\u0438\\u0439 \\u0440\\u0430\\u0439\\u043e\\u043d\",\"\\u041b\\u043e\\u0441\\u0438\\u043d\\u043e\\u043e\\u0441\\u0442\\u0440\\u043e\\u0432\\u0441\\u043a\\u0438\\u0439 \\u0440\\u0430\\u0439\\u043e\\u043d\",\"\\u0414\\u043c\\u0438\\u0442\\u0440\\u043e\\u0432\\u0441\\u043a\\u0438\\u0439 \\u0440\\u0430\\u0439\\u043e\\u043d\",\"\\u0420\\u0430\\u0439\\u043e\\u043d \\u0418\\u0437\\u043c\\u0430\\u0439\\u043b\\u043e\\u0432\\u043e\",\"\\u0420\\u0430\\u0439\\u043e\\u043d \\u0412\\u043d\\u0443\\u043a\\u043e\\u0432\\u043e\",\"\\u0414\\u043e\\u043d\\u0441\\u043a\\u043e\\u0439 \\u0440\\u0430\\u0439\\u043e\\u043d\",\"\\u0420\\u0430\\u0439\\u043e\\u043d \\u0425\\u043e\\u0440\\u043e\\u0448\\u0435\\u0432\\u043e-\\u041c\\u043d\\u0435\\u0432\\u043d\\u0438\\u043a\\u0438\",\"\\u0420\\u0430\\u0439\\u043e\\u043d \\u041a\\u0443\\u043d\\u0446\\u0435\\u0432\\u043e\",\"\\u0421\\u0430\\u0432\\u0435\\u043b\\u043e\\u0432\\u0441\\u043a\\u0438\\u0439 \\u0440\\u0430\\u0439\\u043e\\u043d\",\"\\u0420\\u0430\\u0439\\u043e\\u043d \\u0421\\u043e\\u043b\\u043d\\u0446\\u0435\\u0432\\u043e\",\"\\u0420\\u0430\\u0439\\u043e\\u043d \\u0429\\u0443\\u043a\\u0438\\u043d\\u043e\",\"\\u0413\\u043e\\u043b\\u043e\\u0432\\u0438\\u043d\\u0441\\u043a\\u0438\\u0439 \\u0440\\u0430\\u0439\\u043e\\u043d\",\"\\u0420\\u0430\\u0439\\u043e\\u043d \\u042e\\u0436\\u043d\\u043e\\u0435 \\u0422\\u0443\\u0448\\u0438\\u043d\\u043e\",\"\\u0420\\u0430\\u0439\\u043e\\u043d \\u042f\\u0441\\u0435\\u043d\\u0435\\u0432\\u043e\",\"\\u0420\\u044f\\u0437\\u0430\\u043d\\u0441\\u043a\\u0438\\u0439 \\u0440\\u0430\\u0439\\u043e\\u043d\",\"\\u0420\\u0430\\u0439\\u043e\\u043d \\u0420\\u043e\\u0441\\u0442\\u043e\\u043a\\u0438\\u043d\\u043e\",\"\\u0411\\u0430\\u0431\\u0443\\u0448\\u043a\\u0438\\u043d\\u0441\\u043a\\u0438\\u0439 \\u0440\\u0430\\u0439\\u043e\\u043d\",\"\\u0420\\u0430\\u0439\\u043e\\u043d \\u0412\\u044b\\u0445\\u0438\\u043d\\u043e-\\u0416\\u0443\\u043b\\u0435\\u0431\\u0438\\u043d\\u043e\",\"\\u0425\\u043e\\u0440\\u043e\\u0448\\u0435\\u0432\\u0441\\u043a\\u0438\\u0439 \\u0440\\u0430\\u0439\\u043e\\u043d\",\"\\u042e\\u0436\\u043d\\u043e\\u043f\\u043e\\u0440\\u0442\\u043e\\u0432\\u044b\\u0439 \\u0420\\u0430\\u0439\\u043e\\u043d\",\"\\u0420\\u0430\\u0439\\u043e\\u043d \\u0421\\u0432\\u0438\\u0431\\u043b\\u043e\\u0432\\u043e\",\"\\u0420\\u0430\\u0439\\u043e\\u043d \\u041c\\u0438\\u0442\\u0438\\u043d\\u043e\",\"\\u0420\\u0430\\u0439\\u043e\\u043d \\u0421\\u043e\\u043a\\u043e\\u043b\",\"\\u0420\\u0430\\u0439\\u043e\\u043d \\u041d\\u043e\\u0432\\u043e-\\u041f\\u0435\\u0440\\u0435\\u0434\\u0435\\u043b\\u043a\\u0438\\u043d\\u043e\",\"\\u0420\\u0430\\u0439\\u043e\\u043d \\u041e\\u0442\\u0440\\u0430\\u0434\\u043d\\u043e\\u0435\",\"\\u0420\\u0430\\u0439\\u043e\\u043d \\u041f\\u0435\\u0447\\u0430\\u0442\\u043d\\u0438\\u043a\\u0438\",\"\\u0420\\u0430\\u0439\\u043e\\u043d \\u041a\\u0443\\u0437\\u044c\\u043c\\u0438\\u043d\\u043a\\u0438\",\"\\u041d\\u0430\\u0433\\u043e\\u0440\\u043d\\u044b\\u0439 \\u0440\\u0430\\u0439\\u043e\\u043d\",\"\\u0420\\u0430\\u0439\\u043e\\u043d \\u041a\\u043e\\u0441\\u0438\\u043d\\u043e-\\u0423\\u0445\\u0442\\u043e\\u043c\\u0441\\u043a\\u0438\\u0439\",\"\\u0420\\u0430\\u0439\\u043e\\u043d \\u041a\\u043e\\u043f\\u0442\\u0435\\u0432\\u043e\",\"\\u0420\\u0430\\u0439\\u043e\\u043d \\u0417\\u044e\\u0437\\u0438\\u043d\\u043e\",\"\\u0420\\u0430\\u0439\\u043e\\u043d \\u0414\\u043e\\u0440\\u043e\\u0433\\u043e\\u043c\\u0438\\u043b\\u043e\\u0432\\u043e\",\"\\u0420\\u0430\\u0439\\u043e\\u043d \\u0413\\u043e\\u043b\\u044c\\u044f\\u043d\\u043e\\u0432\\u043e\",\"\\u0420\\u0430\\u0439\\u043e\\u043d \\u041f\\u043e\\u043a\\u0440\\u043e\\u0432\\u0441\\u043a\\u043e\\u0435-\\u0421\\u0442\\u0440\\u0435\\u0448\\u043d\\u0435\\u0432\\u043e\",\"\\u0420\\u0430\\u0439\\u043e\\u043d \\u0411\\u0435\\u0433\\u043e\\u0432\\u043e\\u0439\",\"\\u0420\\u0430\\u0439\\u043e\\u043d \\u0421\\u0435\\u0432\\u0435\\u0440\\u043d\\u043e\\u0435 \\u041c\\u0435\\u0434\\u0432\\u0435\\u0434\\u043a\\u043e\\u0432\\u043e\",\"\\u0411\\u0443\\u0442\\u044b\\u0440\\u0441\\u043a\\u0438\\u0439 \\u0440\\u0430\\u0439\\u043e\\u043d\",\"\\u0420\\u0430\\u0439\\u043e\\u043d \\u0420\\u0430\\u043c\\u0435\\u043d\\u043a\\u0438\",\"\\u0420\\u0430\\u0439\\u043e\\u043d \\u0411\\u0438\\u0440\\u044e\\u043b\\u0435\\u0432\\u043e \\u0412\\u043e\\u0441\\u0442\\u043e\\u0447\\u043d\\u043e\\u0435\",\"\\u0420\\u0430\\u0439\\u043e\\u043d \\u041f\\u0435\\u0440\\u043e\\u0432\\u043e\",\"\\u0420\\u0430\\u0439\\u043e\\u043d \\u041d\\u043e\\u0432\\u043e\\u0433\\u0438\\u0440\\u0435\\u0435\\u0432\\u043e\",\"\\u041e\\u0441\\u0442\\u0430\\u043d\\u043a\\u0438\\u043d\\u0441\\u043a\\u0438\\u0439 \\u0440\\u0430\\u0439\\u043e\\u043d\",\"\\u042f\\u0440\\u043e\\u0441\\u043b\\u0430\\u0432\\u0441\\u043a\\u0438\\u0439 \\u0420\\u0430\\u0439\\u043e\\u043d\",\"\\u0420\\u0430\\u0439\\u043e\\u043d \\u0427\\u0435\\u0440\\u0435\\u043c\\u0443\\u0448\\u043a\\u0438\",\"\\u0420\\u0430\\u0439\\u043e\\u043d \\u0422\\u0435\\u043a\\u0441\\u0442\\u0438\\u043b\\u044c\\u0449\\u0438\\u043a\\u0438\",\"\\u0420\\u0430\\u0439\\u043e\\u043d \\u0421\\u0435\\u0432\\u0435\\u0440\\u043d\\u043e\\u0435 \\u0411\\u0443\\u0442\\u043e\\u0432\\u043e\",\"\\u0420\\u0430\\u0439\\u043e\\u043d \\u041a\\u043e\\u0442\\u043b\\u043e\\u0432\\u043a\\u0430\",\"\\u0412\\u043e\\u0439\\u043a\\u043e\\u0432\\u0441\\u043a\\u0438\\u0439 \\u0420\\u0430\\u0439\\u043e\\u043d\",\"\\u0420\\u0430\\u0439\\u043e\\u043d \\u041a\\u043e\\u043d\\u044c\\u043a\\u043e\\u0432\\u043e\",\"\\u0420\\u0430\\u0439\\u043e\\u043d \\u0424\\u0438\\u043b\\u0438-\\u0414\\u0430\\u0432\\u044b\\u0434\\u043a\\u043e\\u0432\\u043e\",\"\\u0420\\u0430\\u0439\\u043e\\u043d \\u041a\\u0443\\u0440\\u043a\\u0438\\u043d\\u043e\",\"\\u0411\\u0435\\u0441\\u043a\\u0443\\u0434\\u043d\\u0438\\u043a\\u043e\\u0432\\u0441\\u043a\\u0438\\u0439 \\u0420\\u0430\\u0439\\u043e\\u043d\",\"\\u0420\\u0430\\u0439\\u043e\\u043d \\u0412\\u043e\\u0441\\u0442\\u043e\\u0447\\u043d\\u044b\\u0439\",\"\\u0420\\u0430\\u0439\\u043e\\u043d \\u0421\\u0435\\u0432\\u0435\\u0440\\u043d\\u044b\\u0439\",\"\\u0420\\u0430\\u0439\\u043e\\u043d \\u0412\\u043e\\u0441\\u0442\\u043e\\u0447\\u043d\\u043e\\u0435 \\u0418\\u0437\\u043c\\u0430\\u0439\\u043b\\u043e\\u0432\\u043e\",\"\\u0420\\u0430\\u0439\\u043e\\u043d \\u0421\\u0435\\u0432\\u0435\\u0440\\u043d\\u043e\\u0435 \\u0418\\u0437\\u043c\\u0430\\u0439\\u043b\\u043e\\u0432\\u043e\",\"\\u0420\\u0430\\u0439\\u043e\\u043d \\u041e\\u0447\\u0430\\u043a\\u043e\\u0432\\u043e-\\u041c\\u0430\\u0442\\u0432\\u0435\\u0435\\u0432\\u0441\\u043a\\u043e\\u0435\",\"\\u0420\\u0430\\u0439\\u043e\\u043d \\u041b\\u0435\\u0432\\u043e\\u0431\\u0435\\u0440\\u0435\\u0436\\u043d\\u044b\\u0439\",\"\\u0420\\u0430\\u0439\\u043e\\u043d \\u0418\\u0432\\u0430\\u043d\\u043e\\u0432\\u0441\\u043a\\u043e\\u0435\",\"\\u0420\\u0430\\u0439\\u043e\\u043d \\u0413\\u0430\\u0433\\u0430\\u0440\\u0438\\u043d\\u0441\\u043a\\u0438\\u0439\",\"\\u0420\\u0430\\u0439\\u043e\\u043d \\u042e\\u0436\\u043d\\u043e\\u0435 \\u041c\\u0435\\u0434\\u0432\\u0435\\u0434\\u043a\\u043e\\u0432\\u043e\",\"\\u0420\\u0430\\u0439\\u043e\\u043d \\u0417\\u0430\\u043f\\u0430\\u0434\\u043d\\u043e\\u0435 \\u0414\\u0435\\u0433\\u0443\\u043d\\u0438\\u043d\\u043e\",\"\\u0420\\u0430\\u0439\\u043e\\u043d \\u041d\\u0430\\u0433\\u0430\\u0442\\u0438\\u043d\\u043e-\\u0421\\u0430\\u0434\\u043e\\u0432\\u043d\\u0438\\u043a\\u0438\",\"\\u0420\\u0430\\u0439\\u043e\\u043d \\u0427\\u0435\\u0440\\u0442\\u0430\\u043d\\u043e\\u0432\\u043e \\u042e\\u0436\\u043d\\u043e\\u0435\",\"\\u0420\\u0430\\u0439\\u043e\\u043d \\u0427\\u0435\\u0440\\u0442\\u0430\\u043d\\u043e\\u0432\\u043e \\u0421\\u0435\\u0432\\u0435\\u0440\\u043d\\u043e\\u0435\",\"\\u0420\\u0430\\u0439\\u043e\\u043d \\u0426\\u0430\\u0440\\u0438\\u0446\\u044b\\u043d\\u043e\",\"\\u041c\\u043e\\u043b\\u0436\\u0430\\u043d\\u0438\\u043d\\u043e\\u0432\\u0441\\u043a\\u0438\\u0439 \\u0440\\u0430\\u0439\\u043e\\u043d\",\"\\u0420\\u0430\\u0439\\u043e\\u043d \\u041c\\u0430\\u0440\\u0444\\u0438\\u043d\\u043e\",\"\\u0420\\u0430\\u0439\\u043e\\u043d \\u0424\\u0438\\u043b\\u0435\\u0432\\u0441\\u043a\\u0438\\u0439 \\u041f\\u0430\\u0440\\u043a\",\"\\u0420\\u0430\\u0439\\u043e\\u043d \\u0421\\u0442\\u0440\\u043e\\u0433\\u0438\\u043d\\u043e\",\"\\u0410\\u043b\\u0442\\u0443\\u0444\\u044c\\u0435\\u0432\\u0441\\u043a\\u0438\\u0439 \\u0440\\u0430\\u0439\\u043e\\u043d\",\"\\u0420\\u0430\\u0439\\u043e\\u043d \\u041c\\u0430\\u0440\\u044c\\u0438\\u043d\\u043e\",\"\\u0420\\u0430\\u0439\\u043e\\u043d \\u041c\\u0430\\u0442\\u0443\\u0448\\u043a\\u0438\\u043d\\u043e-\\u0421\\u0430\\u0432\\u0435\\u043b\\u043a\\u0438\",\"\\u0420\\u0430\\u0439\\u043e\\u043d \\u041c\\u0435\\u0442\\u0440\\u043e\\u0433\\u043e\\u0440\\u043e\\u0434\\u043e\\u043a\",\"\\u0420\\u0430\\u0439\\u043e\\u043d \\u041c\\u043e\\u0441\\u043a\\u0432\\u043e\\u0440\\u0435\\u0447\\u044c\\u0435-\\u0421\\u0430\\u0431\\u0443\\u0440\\u043e\\u0432\\u043e\",\"\\u041e\\u0431\\u0440\\u0443\\u0447\\u0435\\u0432\\u0441\\u043a\\u0438\\u0439 \\u0440\\u0430\\u0439\\u043e\\u043d\"],\"xaxis\":\"x\",\"y\":[27,26,25,20,19,18,17,16,15,14,12,12,12,11,10,10,9,8,8,8,8,7,7,7,7,6,6,6,6,6,6,6,6,5,5,5,5,5,5,5,5,5,5,4,4,4,4,4,4,4,4,4,4,4,4,4,4,3,3,3,3,3,3,3,3,3,2,2,2,2,2,2,2,2,2,2,2,2,2,1,1,1,1,1,1,1,1,1,1,1,1,1,1,1,1,1,1,1,1],\"yaxis\":\"y\",\"type\":\"bar\"}],                        {\"template\":{\"data\":{\"bar\":[{\"error_x\":{\"color\":\"#2a3f5f\"},\"error_y\":{\"color\":\"#2a3f5f\"},\"marker\":{\"line\":{\"color\":\"#E5ECF6\",\"width\":0.5},\"pattern\":{\"fillmode\":\"overlay\",\"size\":10,\"solidity\":0.2}},\"type\":\"bar\"}],\"barpolar\":[{\"marker\":{\"line\":{\"color\":\"#E5ECF6\",\"width\":0.5},\"pattern\":{\"fillmode\":\"overlay\",\"size\":10,\"solidity\":0.2}},\"type\":\"barpolar\"}],\"carpet\":[{\"aaxis\":{\"endlinecolor\":\"#2a3f5f\",\"gridcolor\":\"white\",\"linecolor\":\"white\",\"minorgridcolor\":\"white\",\"startlinecolor\":\"#2a3f5f\"},\"baxis\":{\"endlinecolor\":\"#2a3f5f\",\"gridcolor\":\"white\",\"linecolor\":\"white\",\"minorgridcolor\":\"white\",\"startlinecolor\":\"#2a3f5f\"},\"type\":\"carpet\"}],\"choropleth\":[{\"colorbar\":{\"outlinewidth\":0,\"ticks\":\"\"},\"type\":\"choropleth\"}],\"contour\":[{\"colorbar\":{\"outlinewidth\":0,\"ticks\":\"\"},\"colorscale\":[[0.0,\"#0d0887\"],[0.1111111111111111,\"#46039f\"],[0.2222222222222222,\"#7201a8\"],[0.3333333333333333,\"#9c179e\"],[0.4444444444444444,\"#bd3786\"],[0.5555555555555556,\"#d8576b\"],[0.6666666666666666,\"#ed7953\"],[0.7777777777777778,\"#fb9f3a\"],[0.8888888888888888,\"#fdca26\"],[1.0,\"#f0f921\"]],\"type\":\"contour\"}],\"contourcarpet\":[{\"colorbar\":{\"outlinewidth\":0,\"ticks\":\"\"},\"type\":\"contourcarpet\"}],\"heatmap\":[{\"colorbar\":{\"outlinewidth\":0,\"ticks\":\"\"},\"colorscale\":[[0.0,\"#0d0887\"],[0.1111111111111111,\"#46039f\"],[0.2222222222222222,\"#7201a8\"],[0.3333333333333333,\"#9c179e\"],[0.4444444444444444,\"#bd3786\"],[0.5555555555555556,\"#d8576b\"],[0.6666666666666666,\"#ed7953\"],[0.7777777777777778,\"#fb9f3a\"],[0.8888888888888888,\"#fdca26\"],[1.0,\"#f0f921\"]],\"type\":\"heatmap\"}],\"heatmapgl\":[{\"colorbar\":{\"outlinewidth\":0,\"ticks\":\"\"},\"colorscale\":[[0.0,\"#0d0887\"],[0.1111111111111111,\"#46039f\"],[0.2222222222222222,\"#7201a8\"],[0.3333333333333333,\"#9c179e\"],[0.4444444444444444,\"#bd3786\"],[0.5555555555555556,\"#d8576b\"],[0.6666666666666666,\"#ed7953\"],[0.7777777777777778,\"#fb9f3a\"],[0.8888888888888888,\"#fdca26\"],[1.0,\"#f0f921\"]],\"type\":\"heatmapgl\"}],\"histogram\":[{\"marker\":{\"pattern\":{\"fillmode\":\"overlay\",\"size\":10,\"solidity\":0.2}},\"type\":\"histogram\"}],\"histogram2d\":[{\"colorbar\":{\"outlinewidth\":0,\"ticks\":\"\"},\"colorscale\":[[0.0,\"#0d0887\"],[0.1111111111111111,\"#46039f\"],[0.2222222222222222,\"#7201a8\"],[0.3333333333333333,\"#9c179e\"],[0.4444444444444444,\"#bd3786\"],[0.5555555555555556,\"#d8576b\"],[0.6666666666666666,\"#ed7953\"],[0.7777777777777778,\"#fb9f3a\"],[0.8888888888888888,\"#fdca26\"],[1.0,\"#f0f921\"]],\"type\":\"histogram2d\"}],\"histogram2dcontour\":[{\"colorbar\":{\"outlinewidth\":0,\"ticks\":\"\"},\"colorscale\":[[0.0,\"#0d0887\"],[0.1111111111111111,\"#46039f\"],[0.2222222222222222,\"#7201a8\"],[0.3333333333333333,\"#9c179e\"],[0.4444444444444444,\"#bd3786\"],[0.5555555555555556,\"#d8576b\"],[0.6666666666666666,\"#ed7953\"],[0.7777777777777778,\"#fb9f3a\"],[0.8888888888888888,\"#fdca26\"],[1.0,\"#f0f921\"]],\"type\":\"histogram2dcontour\"}],\"mesh3d\":[{\"colorbar\":{\"outlinewidth\":0,\"ticks\":\"\"},\"type\":\"mesh3d\"}],\"parcoords\":[{\"line\":{\"colorbar\":{\"outlinewidth\":0,\"ticks\":\"\"}},\"type\":\"parcoords\"}],\"pie\":[{\"automargin\":true,\"type\":\"pie\"}],\"scatter\":[{\"marker\":{\"colorbar\":{\"outlinewidth\":0,\"ticks\":\"\"}},\"type\":\"scatter\"}],\"scatter3d\":[{\"line\":{\"colorbar\":{\"outlinewidth\":0,\"ticks\":\"\"}},\"marker\":{\"colorbar\":{\"outlinewidth\":0,\"ticks\":\"\"}},\"type\":\"scatter3d\"}],\"scattercarpet\":[{\"marker\":{\"colorbar\":{\"outlinewidth\":0,\"ticks\":\"\"}},\"type\":\"scattercarpet\"}],\"scattergeo\":[{\"marker\":{\"colorbar\":{\"outlinewidth\":0,\"ticks\":\"\"}},\"type\":\"scattergeo\"}],\"scattergl\":[{\"marker\":{\"colorbar\":{\"outlinewidth\":0,\"ticks\":\"\"}},\"type\":\"scattergl\"}],\"scattermapbox\":[{\"marker\":{\"colorbar\":{\"outlinewidth\":0,\"ticks\":\"\"}},\"type\":\"scattermapbox\"}],\"scatterpolar\":[{\"marker\":{\"colorbar\":{\"outlinewidth\":0,\"ticks\":\"\"}},\"type\":\"scatterpolar\"}],\"scatterpolargl\":[{\"marker\":{\"colorbar\":{\"outlinewidth\":0,\"ticks\":\"\"}},\"type\":\"scatterpolargl\"}],\"scatterternary\":[{\"marker\":{\"colorbar\":{\"outlinewidth\":0,\"ticks\":\"\"}},\"type\":\"scatterternary\"}],\"surface\":[{\"colorbar\":{\"outlinewidth\":0,\"ticks\":\"\"},\"colorscale\":[[0.0,\"#0d0887\"],[0.1111111111111111,\"#46039f\"],[0.2222222222222222,\"#7201a8\"],[0.3333333333333333,\"#9c179e\"],[0.4444444444444444,\"#bd3786\"],[0.5555555555555556,\"#d8576b\"],[0.6666666666666666,\"#ed7953\"],[0.7777777777777778,\"#fb9f3a\"],[0.8888888888888888,\"#fdca26\"],[1.0,\"#f0f921\"]],\"type\":\"surface\"}],\"table\":[{\"cells\":{\"fill\":{\"color\":\"#EBF0F8\"},\"line\":{\"color\":\"white\"}},\"header\":{\"fill\":{\"color\":\"#C8D4E3\"},\"line\":{\"color\":\"white\"}},\"type\":\"table\"}]},\"layout\":{\"annotationdefaults\":{\"arrowcolor\":\"#2a3f5f\",\"arrowhead\":0,\"arrowwidth\":1},\"autotypenumbers\":\"strict\",\"coloraxis\":{\"colorbar\":{\"outlinewidth\":0,\"ticks\":\"\"}},\"colorscale\":{\"diverging\":[[0,\"#8e0152\"],[0.1,\"#c51b7d\"],[0.2,\"#de77ae\"],[0.3,\"#f1b6da\"],[0.4,\"#fde0ef\"],[0.5,\"#f7f7f7\"],[0.6,\"#e6f5d0\"],[0.7,\"#b8e186\"],[0.8,\"#7fbc41\"],[0.9,\"#4d9221\"],[1,\"#276419\"]],\"sequential\":[[0.0,\"#0d0887\"],[0.1111111111111111,\"#46039f\"],[0.2222222222222222,\"#7201a8\"],[0.3333333333333333,\"#9c179e\"],[0.4444444444444444,\"#bd3786\"],[0.5555555555555556,\"#d8576b\"],[0.6666666666666666,\"#ed7953\"],[0.7777777777777778,\"#fb9f3a\"],[0.8888888888888888,\"#fdca26\"],[1.0,\"#f0f921\"]],\"sequentialminus\":[[0.0,\"#0d0887\"],[0.1111111111111111,\"#46039f\"],[0.2222222222222222,\"#7201a8\"],[0.3333333333333333,\"#9c179e\"],[0.4444444444444444,\"#bd3786\"],[0.5555555555555556,\"#d8576b\"],[0.6666666666666666,\"#ed7953\"],[0.7777777777777778,\"#fb9f3a\"],[0.8888888888888888,\"#fdca26\"],[1.0,\"#f0f921\"]]},\"colorway\":[\"#636efa\",\"#EF553B\",\"#00cc96\",\"#ab63fa\",\"#FFA15A\",\"#19d3f3\",\"#FF6692\",\"#B6E880\",\"#FF97FF\",\"#FECB52\"],\"font\":{\"color\":\"#2a3f5f\"},\"geo\":{\"bgcolor\":\"white\",\"lakecolor\":\"white\",\"landcolor\":\"#E5ECF6\",\"showlakes\":true,\"showland\":true,\"subunitcolor\":\"white\"},\"hoverlabel\":{\"align\":\"left\"},\"hovermode\":\"closest\",\"mapbox\":{\"style\":\"light\"},\"paper_bgcolor\":\"white\",\"plot_bgcolor\":\"#E5ECF6\",\"polar\":{\"angularaxis\":{\"gridcolor\":\"white\",\"linecolor\":\"white\",\"ticks\":\"\"},\"bgcolor\":\"#E5ECF6\",\"radialaxis\":{\"gridcolor\":\"white\",\"linecolor\":\"white\",\"ticks\":\"\"}},\"scene\":{\"xaxis\":{\"backgroundcolor\":\"#E5ECF6\",\"gridcolor\":\"white\",\"gridwidth\":2,\"linecolor\":\"white\",\"showbackground\":true,\"ticks\":\"\",\"zerolinecolor\":\"white\"},\"yaxis\":{\"backgroundcolor\":\"#E5ECF6\",\"gridcolor\":\"white\",\"gridwidth\":2,\"linecolor\":\"white\",\"showbackground\":true,\"ticks\":\"\",\"zerolinecolor\":\"white\"},\"zaxis\":{\"backgroundcolor\":\"#E5ECF6\",\"gridcolor\":\"white\",\"gridwidth\":2,\"linecolor\":\"white\",\"showbackground\":true,\"ticks\":\"\",\"zerolinecolor\":\"white\"}},\"shapedefaults\":{\"line\":{\"color\":\"#2a3f5f\"}},\"ternary\":{\"aaxis\":{\"gridcolor\":\"white\",\"linecolor\":\"white\",\"ticks\":\"\"},\"baxis\":{\"gridcolor\":\"white\",\"linecolor\":\"white\",\"ticks\":\"\"},\"bgcolor\":\"#E5ECF6\",\"caxis\":{\"gridcolor\":\"white\",\"linecolor\":\"white\",\"ticks\":\"\"}},\"title\":{\"x\":0.05},\"xaxis\":{\"automargin\":true,\"gridcolor\":\"white\",\"linecolor\":\"white\",\"ticks\":\"\",\"title\":{\"standoff\":15},\"zerolinecolor\":\"white\",\"zerolinewidth\":2},\"yaxis\":{\"automargin\":true,\"gridcolor\":\"white\",\"linecolor\":\"white\",\"ticks\":\"\",\"title\":{\"standoff\":15},\"zerolinecolor\":\"white\",\"zerolinewidth\":2}}},\"xaxis\":{\"anchor\":\"y\",\"domain\":[0.0,1.0],\"title\":{\"text\":\"area\"}},\"yaxis\":{\"anchor\":\"x\",\"domain\":[0.0,1.0],\"title\":{\"text\":\"street\"}},\"legend\":{\"tracegroupgap\":0},\"title\":{\"text\":\"\\u0420\\u0430\\u0439\\u043e\\u043d\\u044b \\u0441 \\u043d\\u0430\\u0438\\u0431\\u043e\\u043b\\u044c\\u0448\\u0438\\u043c \\u043a\\u043e\\u043b\\u0438\\u0447\\u0435\\u0441\\u0442\\u0432\\u043e\\u043c \\u0443\\u043b\\u0438\\u0446 \\u0441 \\u043e\\u0434\\u043d\\u0438\\u043c \\u043e\\u0431\\u0449\\u0435\\u043f\\u0438\\u0442\\u043e\\u043c\"},\"barmode\":\"relative\"},                        {\"responsive\": true}                    ).then(function(){\n",
       "                            \n",
       "var gd = document.getElementById('322d9461-859e-4050-aa1e-daed48e91494');\n",
       "var x = new MutationObserver(function (mutations, observer) {{\n",
       "        var display = window.getComputedStyle(gd).display;\n",
       "        if (!display || display === 'none') {{\n",
       "            console.log([gd, 'removed!']);\n",
       "            Plotly.purge(gd);\n",
       "            observer.disconnect();\n",
       "        }}\n",
       "}});\n",
       "\n",
       "// Listen for the removal of the full notebook cells\n",
       "var notebookContainer = gd.closest('#notebook-container');\n",
       "if (notebookContainer) {{\n",
       "    x.observe(notebookContainer, {childList: true});\n",
       "}}\n",
       "\n",
       "// Listen for the clearing of the current output cell\n",
       "var outputEl = gd.closest('.output');\n",
       "if (outputEl) {{\n",
       "    x.observe(outputEl, {childList: true});\n",
       "}}\n",
       "\n",
       "                        })                };                });            </script>        </div>"
      ]
     },
     "metadata": {},
     "output_type": "display_data"
    }
   ],
   "source": [
    "fig = px.bar(street_one, x = 'area', y = 'street', title = 'Районы с наибольшим количеством улиц с одним общепитом')\n",
    "fig.show()"
   ]
  },
  {
   "cell_type": "markdown",
   "metadata": {},
   "source": [
    "ВЫВОД: Всего 579 улица, где по одному заведению общепита. Наибольшее число таких улиц в центре, по мере удаления от центра есть тенденция к уменьшению таких улиц. Видимо это связано с больщим количеством в центре маленьких улиц и переулков."
   ]
  },
  {
   "cell_type": "markdown",
   "metadata": {},
   "source": [
    "## ОБЩИЙ ВЫВОД:\n",
    "В ходе работы мы проанализировали данные о более чем 15 тысячах объектах общественного питания в Москве.\n",
    "1. Наиболее распространены следующие заведения общественного питания: 40% кафе, 17% столовые, 15% рестораны, 12% предприятия быстрого обслуживани;\n",
    "2.  20% от общей массы являются сетевыми;\n",
    "3. Сетевыми, как правило делают кафе, предприятия общественного питания и рестораны.\n",
    "4. Для сетевых заведений в среднем характерно небольшое количнество точек с количеством посадочных мест от 40 до 60.\n",
    "5. Были определены топ-10 улиц с самым большим количеством заведений и районы с наибольшим числом улиц, где только 1 заведение. Распределение числа мест для этих двух групп примерно одинаковое, а распределения по типам заведений немного разнятся. \n",
    "6. Как правило наибольшее количество улиц с одним заведением в центре."
   ]
  },
  {
   "cell_type": "markdown",
   "metadata": {},
   "source": [
    "### РЕКОМЕНДАЦИИ: \n",
    "1. Наиболее подходящее место для открытия не большого кафе в центре на одной из улиц с 1 точкой общепита, либо поискать, где их нет вообще. Так же в центре много туристов и данное кафе веротно будет постоянно привлекать новых посетителей. \n",
    "2. Количество посадочных мест должно быть для начала не более 40. \n",
    "3. В зависимости от популярности можно будет рассмотреть открытие еще дополнительных точек, но скорее всего они будут либо в центре, либо в местах скопления туристов.\n",
    "4. Упор делается в основном на интерес туристов, потому что проект дорогой (исходя из исходных данных), соответственно что бы его окупит нужно либо много времени, либо относительно высокие цены, скорее всего будет второе. Поэтому целевая аудитория это не постоянные клиенты в виде офисных работников, а именно туристы, котрых всегда много в центре."
   ]
  },
  {
   "cell_type": "code",
   "execution_count": 56,
   "metadata": {},
   "outputs": [
    {
     "data": {
      "application/vnd.plotly.v1+json": {
       "config": {
        "plotlyServerURL": "https://plot.ly"
       },
       "data": [
        {
         "alignmentgroup": "True",
         "hovertemplate": "object_type=%{x}<br>процент=%{y}<extra></extra>",
         "legendgroup": "предприятие быстрого обслуживания",
         "marker": {
          "color": "#636efa",
          "pattern": {
           "shape": ""
          }
         },
         "name": "предприятие быстрого обслуживания",
         "offsetgroup": "предприятие быстрого обслуживания",
         "orientation": "v",
         "showlegend": true,
         "text": "процент",
         "textposition": "outside",
         "texttemplate": "%{value:.2}%",
         "type": "bar",
         "x": [
          "предприятие быстрого обслуживания"
         ],
         "xaxis": "x",
         "y": [
          42
         ],
         "yaxis": "y"
        },
        {
         "alignmentgroup": "True",
         "hovertemplate": "object_type=%{x}<br>процент=%{y}<extra></extra>",
         "legendgroup": "магазин (отдел кулинарии)",
         "marker": {
          "color": "#EF553B",
          "pattern": {
           "shape": ""
          }
         },
         "name": "магазин (отдел кулинарии)",
         "offsetgroup": "магазин (отдел кулинарии)",
         "orientation": "v",
         "showlegend": true,
         "text": "процент",
         "textposition": "outside",
         "texttemplate": "%{value:.2}%",
         "type": "bar",
         "x": [
          "магазин (отдел кулинарии)"
         ],
         "xaxis": "x",
         "y": [
          29
         ],
         "yaxis": "y"
        },
        {
         "alignmentgroup": "True",
         "hovertemplate": "object_type=%{x}<br>процент=%{y}<extra></extra>",
         "legendgroup": "ресторан",
         "marker": {
          "color": "#00cc96",
          "pattern": {
           "shape": ""
          }
         },
         "name": "ресторан",
         "offsetgroup": "ресторан",
         "orientation": "v",
         "showlegend": true,
         "text": "процент",
         "textposition": "outside",
         "texttemplate": "%{value:.2}%",
         "type": "bar",
         "x": [
          "ресторан"
         ],
         "xaxis": "x",
         "y": [
          24
         ],
         "yaxis": "y"
        },
        {
         "alignmentgroup": "True",
         "hovertemplate": "object_type=%{x}<br>процент=%{y}<extra></extra>",
         "legendgroup": "кафе",
         "marker": {
          "color": "#ab63fa",
          "pattern": {
           "shape": ""
          }
         },
         "name": "кафе",
         "offsetgroup": "кафе",
         "orientation": "v",
         "showlegend": true,
         "text": "процент",
         "textposition": "outside",
         "texttemplate": "%{value:.2}%",
         "type": "bar",
         "x": [
          "кафе"
         ],
         "xaxis": "x",
         "y": [
          23
         ],
         "yaxis": "y"
        },
        {
         "alignmentgroup": "True",
         "hovertemplate": "object_type=%{x}<br>процент=%{y}<extra></extra>",
         "legendgroup": "закусочная",
         "marker": {
          "color": "#FFA15A",
          "pattern": {
           "shape": ""
          }
         },
         "name": "закусочная",
         "offsetgroup": "закусочная",
         "orientation": "v",
         "showlegend": true,
         "text": "процент",
         "textposition": "outside",
         "texttemplate": "%{value:.2}%",
         "type": "bar",
         "x": [
          "закусочная"
         ],
         "xaxis": "x",
         "y": [
          16
         ],
         "yaxis": "y"
        },
        {
         "alignmentgroup": "True",
         "hovertemplate": "object_type=%{x}<br>процент=%{y}<extra></extra>",
         "legendgroup": "кафетерий",
         "marker": {
          "color": "#19d3f3",
          "pattern": {
           "shape": ""
          }
         },
         "name": "кафетерий",
         "offsetgroup": "кафетерий",
         "orientation": "v",
         "showlegend": true,
         "text": "процент",
         "textposition": "outside",
         "texttemplate": "%{value:.2}%",
         "type": "bar",
         "x": [
          "кафетерий"
         ],
         "xaxis": "x",
         "y": [
          13
         ],
         "yaxis": "y"
        },
        {
         "alignmentgroup": "True",
         "hovertemplate": "object_type=%{x}<br>процент=%{y}<extra></extra>",
         "legendgroup": "бар",
         "marker": {
          "color": "#FF6692",
          "pattern": {
           "shape": ""
          }
         },
         "name": "бар",
         "offsetgroup": "бар",
         "orientation": "v",
         "showlegend": true,
         "text": "процент",
         "textposition": "outside",
         "texttemplate": "%{value:.2}%",
         "type": "bar",
         "x": [
          "бар"
         ],
         "xaxis": "x",
         "y": [
          4
         ],
         "yaxis": "y"
        },
        {
         "alignmentgroup": "True",
         "hovertemplate": "object_type=%{x}<br>процент=%{y}<extra></extra>",
         "legendgroup": "буфет",
         "marker": {
          "color": "#B6E880",
          "pattern": {
           "shape": ""
          }
         },
         "name": "буфет",
         "offsetgroup": "буфет",
         "orientation": "v",
         "showlegend": true,
         "text": "процент",
         "textposition": "outside",
         "texttemplate": "%{value:.2}%",
         "type": "bar",
         "x": [
          "буфет"
         ],
         "xaxis": "x",
         "y": [
          2
         ],
         "yaxis": "y"
        },
        {
         "alignmentgroup": "True",
         "hovertemplate": "object_type=%{x}<br>процент=%{y}<extra></extra>",
         "legendgroup": "столовая",
         "marker": {
          "color": "#FF97FF",
          "pattern": {
           "shape": ""
          }
         },
         "name": "столовая",
         "offsetgroup": "столовая",
         "orientation": "v",
         "showlegend": true,
         "text": "процент",
         "textposition": "outside",
         "texttemplate": "%{value:.2}%",
         "type": "bar",
         "x": [
          "столовая"
         ],
         "xaxis": "x",
         "y": [
          0
         ],
         "yaxis": "y"
        }
       ],
       "layout": {
        "barmode": "relative",
        "height": 550,
        "legend": {
         "title": {
          "text": "object_type"
         },
         "tracegroupgap": 0
        },
        "margin": {
         "t": 60
        },
        "template": {
         "data": {
          "bar": [
           {
            "error_x": {
             "color": "#2a3f5f"
            },
            "error_y": {
             "color": "#2a3f5f"
            },
            "marker": {
             "line": {
              "color": "#E5ECF6",
              "width": 0.5
             },
             "pattern": {
              "fillmode": "overlay",
              "size": 10,
              "solidity": 0.2
             }
            },
            "type": "bar"
           }
          ],
          "barpolar": [
           {
            "marker": {
             "line": {
              "color": "#E5ECF6",
              "width": 0.5
             },
             "pattern": {
              "fillmode": "overlay",
              "size": 10,
              "solidity": 0.2
             }
            },
            "type": "barpolar"
           }
          ],
          "carpet": [
           {
            "aaxis": {
             "endlinecolor": "#2a3f5f",
             "gridcolor": "white",
             "linecolor": "white",
             "minorgridcolor": "white",
             "startlinecolor": "#2a3f5f"
            },
            "baxis": {
             "endlinecolor": "#2a3f5f",
             "gridcolor": "white",
             "linecolor": "white",
             "minorgridcolor": "white",
             "startlinecolor": "#2a3f5f"
            },
            "type": "carpet"
           }
          ],
          "choropleth": [
           {
            "colorbar": {
             "outlinewidth": 0,
             "ticks": ""
            },
            "type": "choropleth"
           }
          ],
          "contour": [
           {
            "colorbar": {
             "outlinewidth": 0,
             "ticks": ""
            },
            "colorscale": [
             [
              0,
              "#0d0887"
             ],
             [
              0.1111111111111111,
              "#46039f"
             ],
             [
              0.2222222222222222,
              "#7201a8"
             ],
             [
              0.3333333333333333,
              "#9c179e"
             ],
             [
              0.4444444444444444,
              "#bd3786"
             ],
             [
              0.5555555555555556,
              "#d8576b"
             ],
             [
              0.6666666666666666,
              "#ed7953"
             ],
             [
              0.7777777777777778,
              "#fb9f3a"
             ],
             [
              0.8888888888888888,
              "#fdca26"
             ],
             [
              1,
              "#f0f921"
             ]
            ],
            "type": "contour"
           }
          ],
          "contourcarpet": [
           {
            "colorbar": {
             "outlinewidth": 0,
             "ticks": ""
            },
            "type": "contourcarpet"
           }
          ],
          "heatmap": [
           {
            "colorbar": {
             "outlinewidth": 0,
             "ticks": ""
            },
            "colorscale": [
             [
              0,
              "#0d0887"
             ],
             [
              0.1111111111111111,
              "#46039f"
             ],
             [
              0.2222222222222222,
              "#7201a8"
             ],
             [
              0.3333333333333333,
              "#9c179e"
             ],
             [
              0.4444444444444444,
              "#bd3786"
             ],
             [
              0.5555555555555556,
              "#d8576b"
             ],
             [
              0.6666666666666666,
              "#ed7953"
             ],
             [
              0.7777777777777778,
              "#fb9f3a"
             ],
             [
              0.8888888888888888,
              "#fdca26"
             ],
             [
              1,
              "#f0f921"
             ]
            ],
            "type": "heatmap"
           }
          ],
          "heatmapgl": [
           {
            "colorbar": {
             "outlinewidth": 0,
             "ticks": ""
            },
            "colorscale": [
             [
              0,
              "#0d0887"
             ],
             [
              0.1111111111111111,
              "#46039f"
             ],
             [
              0.2222222222222222,
              "#7201a8"
             ],
             [
              0.3333333333333333,
              "#9c179e"
             ],
             [
              0.4444444444444444,
              "#bd3786"
             ],
             [
              0.5555555555555556,
              "#d8576b"
             ],
             [
              0.6666666666666666,
              "#ed7953"
             ],
             [
              0.7777777777777778,
              "#fb9f3a"
             ],
             [
              0.8888888888888888,
              "#fdca26"
             ],
             [
              1,
              "#f0f921"
             ]
            ],
            "type": "heatmapgl"
           }
          ],
          "histogram": [
           {
            "marker": {
             "pattern": {
              "fillmode": "overlay",
              "size": 10,
              "solidity": 0.2
             }
            },
            "type": "histogram"
           }
          ],
          "histogram2d": [
           {
            "colorbar": {
             "outlinewidth": 0,
             "ticks": ""
            },
            "colorscale": [
             [
              0,
              "#0d0887"
             ],
             [
              0.1111111111111111,
              "#46039f"
             ],
             [
              0.2222222222222222,
              "#7201a8"
             ],
             [
              0.3333333333333333,
              "#9c179e"
             ],
             [
              0.4444444444444444,
              "#bd3786"
             ],
             [
              0.5555555555555556,
              "#d8576b"
             ],
             [
              0.6666666666666666,
              "#ed7953"
             ],
             [
              0.7777777777777778,
              "#fb9f3a"
             ],
             [
              0.8888888888888888,
              "#fdca26"
             ],
             [
              1,
              "#f0f921"
             ]
            ],
            "type": "histogram2d"
           }
          ],
          "histogram2dcontour": [
           {
            "colorbar": {
             "outlinewidth": 0,
             "ticks": ""
            },
            "colorscale": [
             [
              0,
              "#0d0887"
             ],
             [
              0.1111111111111111,
              "#46039f"
             ],
             [
              0.2222222222222222,
              "#7201a8"
             ],
             [
              0.3333333333333333,
              "#9c179e"
             ],
             [
              0.4444444444444444,
              "#bd3786"
             ],
             [
              0.5555555555555556,
              "#d8576b"
             ],
             [
              0.6666666666666666,
              "#ed7953"
             ],
             [
              0.7777777777777778,
              "#fb9f3a"
             ],
             [
              0.8888888888888888,
              "#fdca26"
             ],
             [
              1,
              "#f0f921"
             ]
            ],
            "type": "histogram2dcontour"
           }
          ],
          "mesh3d": [
           {
            "colorbar": {
             "outlinewidth": 0,
             "ticks": ""
            },
            "type": "mesh3d"
           }
          ],
          "parcoords": [
           {
            "line": {
             "colorbar": {
              "outlinewidth": 0,
              "ticks": ""
             }
            },
            "type": "parcoords"
           }
          ],
          "pie": [
           {
            "automargin": true,
            "type": "pie"
           }
          ],
          "scatter": [
           {
            "marker": {
             "colorbar": {
              "outlinewidth": 0,
              "ticks": ""
             }
            },
            "type": "scatter"
           }
          ],
          "scatter3d": [
           {
            "line": {
             "colorbar": {
              "outlinewidth": 0,
              "ticks": ""
             }
            },
            "marker": {
             "colorbar": {
              "outlinewidth": 0,
              "ticks": ""
             }
            },
            "type": "scatter3d"
           }
          ],
          "scattercarpet": [
           {
            "marker": {
             "colorbar": {
              "outlinewidth": 0,
              "ticks": ""
             }
            },
            "type": "scattercarpet"
           }
          ],
          "scattergeo": [
           {
            "marker": {
             "colorbar": {
              "outlinewidth": 0,
              "ticks": ""
             }
            },
            "type": "scattergeo"
           }
          ],
          "scattergl": [
           {
            "marker": {
             "colorbar": {
              "outlinewidth": 0,
              "ticks": ""
             }
            },
            "type": "scattergl"
           }
          ],
          "scattermapbox": [
           {
            "marker": {
             "colorbar": {
              "outlinewidth": 0,
              "ticks": ""
             }
            },
            "type": "scattermapbox"
           }
          ],
          "scatterpolar": [
           {
            "marker": {
             "colorbar": {
              "outlinewidth": 0,
              "ticks": ""
             }
            },
            "type": "scatterpolar"
           }
          ],
          "scatterpolargl": [
           {
            "marker": {
             "colorbar": {
              "outlinewidth": 0,
              "ticks": ""
             }
            },
            "type": "scatterpolargl"
           }
          ],
          "scatterternary": [
           {
            "marker": {
             "colorbar": {
              "outlinewidth": 0,
              "ticks": ""
             }
            },
            "type": "scatterternary"
           }
          ],
          "surface": [
           {
            "colorbar": {
             "outlinewidth": 0,
             "ticks": ""
            },
            "colorscale": [
             [
              0,
              "#0d0887"
             ],
             [
              0.1111111111111111,
              "#46039f"
             ],
             [
              0.2222222222222222,
              "#7201a8"
             ],
             [
              0.3333333333333333,
              "#9c179e"
             ],
             [
              0.4444444444444444,
              "#bd3786"
             ],
             [
              0.5555555555555556,
              "#d8576b"
             ],
             [
              0.6666666666666666,
              "#ed7953"
             ],
             [
              0.7777777777777778,
              "#fb9f3a"
             ],
             [
              0.8888888888888888,
              "#fdca26"
             ],
             [
              1,
              "#f0f921"
             ]
            ],
            "type": "surface"
           }
          ],
          "table": [
           {
            "cells": {
             "fill": {
              "color": "#EBF0F8"
             },
             "line": {
              "color": "white"
             }
            },
            "header": {
             "fill": {
              "color": "#C8D4E3"
             },
             "line": {
              "color": "white"
             }
            },
            "type": "table"
           }
          ]
         },
         "layout": {
          "annotationdefaults": {
           "arrowcolor": "#2a3f5f",
           "arrowhead": 0,
           "arrowwidth": 1
          },
          "autotypenumbers": "strict",
          "coloraxis": {
           "colorbar": {
            "outlinewidth": 0,
            "ticks": ""
           }
          },
          "colorscale": {
           "diverging": [
            [
             0,
             "#8e0152"
            ],
            [
             0.1,
             "#c51b7d"
            ],
            [
             0.2,
             "#de77ae"
            ],
            [
             0.3,
             "#f1b6da"
            ],
            [
             0.4,
             "#fde0ef"
            ],
            [
             0.5,
             "#f7f7f7"
            ],
            [
             0.6,
             "#e6f5d0"
            ],
            [
             0.7,
             "#b8e186"
            ],
            [
             0.8,
             "#7fbc41"
            ],
            [
             0.9,
             "#4d9221"
            ],
            [
             1,
             "#276419"
            ]
           ],
           "sequential": [
            [
             0,
             "#0d0887"
            ],
            [
             0.1111111111111111,
             "#46039f"
            ],
            [
             0.2222222222222222,
             "#7201a8"
            ],
            [
             0.3333333333333333,
             "#9c179e"
            ],
            [
             0.4444444444444444,
             "#bd3786"
            ],
            [
             0.5555555555555556,
             "#d8576b"
            ],
            [
             0.6666666666666666,
             "#ed7953"
            ],
            [
             0.7777777777777778,
             "#fb9f3a"
            ],
            [
             0.8888888888888888,
             "#fdca26"
            ],
            [
             1,
             "#f0f921"
            ]
           ],
           "sequentialminus": [
            [
             0,
             "#0d0887"
            ],
            [
             0.1111111111111111,
             "#46039f"
            ],
            [
             0.2222222222222222,
             "#7201a8"
            ],
            [
             0.3333333333333333,
             "#9c179e"
            ],
            [
             0.4444444444444444,
             "#bd3786"
            ],
            [
             0.5555555555555556,
             "#d8576b"
            ],
            [
             0.6666666666666666,
             "#ed7953"
            ],
            [
             0.7777777777777778,
             "#fb9f3a"
            ],
            [
             0.8888888888888888,
             "#fdca26"
            ],
            [
             1,
             "#f0f921"
            ]
           ]
          },
          "colorway": [
           "#636efa",
           "#EF553B",
           "#00cc96",
           "#ab63fa",
           "#FFA15A",
           "#19d3f3",
           "#FF6692",
           "#B6E880",
           "#FF97FF",
           "#FECB52"
          ],
          "font": {
           "color": "#2a3f5f"
          },
          "geo": {
           "bgcolor": "white",
           "lakecolor": "white",
           "landcolor": "#E5ECF6",
           "showlakes": true,
           "showland": true,
           "subunitcolor": "white"
          },
          "hoverlabel": {
           "align": "left"
          },
          "hovermode": "closest",
          "mapbox": {
           "style": "light"
          },
          "paper_bgcolor": "white",
          "plot_bgcolor": "#E5ECF6",
          "polar": {
           "angularaxis": {
            "gridcolor": "white",
            "linecolor": "white",
            "ticks": ""
           },
           "bgcolor": "#E5ECF6",
           "radialaxis": {
            "gridcolor": "white",
            "linecolor": "white",
            "ticks": ""
           }
          },
          "scene": {
           "xaxis": {
            "backgroundcolor": "#E5ECF6",
            "gridcolor": "white",
            "gridwidth": 2,
            "linecolor": "white",
            "showbackground": true,
            "ticks": "",
            "zerolinecolor": "white"
           },
           "yaxis": {
            "backgroundcolor": "#E5ECF6",
            "gridcolor": "white",
            "gridwidth": 2,
            "linecolor": "white",
            "showbackground": true,
            "ticks": "",
            "zerolinecolor": "white"
           },
           "zaxis": {
            "backgroundcolor": "#E5ECF6",
            "gridcolor": "white",
            "gridwidth": 2,
            "linecolor": "white",
            "showbackground": true,
            "ticks": "",
            "zerolinecolor": "white"
           }
          },
          "shapedefaults": {
           "line": {
            "color": "#2a3f5f"
           }
          },
          "ternary": {
           "aaxis": {
            "gridcolor": "white",
            "linecolor": "white",
            "ticks": ""
           },
           "baxis": {
            "gridcolor": "white",
            "linecolor": "white",
            "ticks": ""
           },
           "bgcolor": "#E5ECF6",
           "caxis": {
            "gridcolor": "white",
            "linecolor": "white",
            "ticks": ""
           }
          },
          "title": {
           "x": 0.05
          },
          "xaxis": {
           "automargin": true,
           "gridcolor": "white",
           "linecolor": "white",
           "ticks": "",
           "title": {
            "standoff": 15
           },
           "zerolinecolor": "white",
           "zerolinewidth": 2
          },
          "yaxis": {
           "automargin": true,
           "gridcolor": "white",
           "linecolor": "white",
           "ticks": "",
           "title": {
            "standoff": 15
           },
           "zerolinecolor": "white",
           "zerolinewidth": 2
          }
         }
        },
        "title": {
         "text": "Доля сетевых заведений от всех объектов общественного питания (по типам)"
        },
        "width": 1000,
        "xaxis": {
         "anchor": "y",
         "categoryarray": [
          "предприятие быстрого обслуживания",
          "магазин (отдел кулинарии)",
          "ресторан",
          "кафе",
          "закусочная",
          "кафетерий",
          "бар",
          "буфет",
          "столовая"
         ],
         "categoryorder": "array",
         "domain": [
          0,
          1
         ],
         "tickangle": 45,
         "title": {
          "text": "Тип объекта"
         }
        },
        "yaxis": {
         "anchor": "x",
         "domain": [
          0,
          1
         ],
         "title": {
          "text": "% заведений"
         }
        }
       }
      },
      "text/html": [
       "<div>                            <div id=\"0516cf69-d4f3-40c3-b18d-f2b72378eeb0\" class=\"plotly-graph-div\" style=\"height:550px; width:1000px;\"></div>            <script type=\"text/javascript\">                require([\"plotly\"], function(Plotly) {                    window.PLOTLYENV=window.PLOTLYENV || {};                                    if (document.getElementById(\"0516cf69-d4f3-40c3-b18d-f2b72378eeb0\")) {                    Plotly.newPlot(                        \"0516cf69-d4f3-40c3-b18d-f2b72378eeb0\",                        [{\"alignmentgroup\":\"True\",\"hovertemplate\":\"object_type=%{x}<br>\\u043f\\u0440\\u043e\\u0446\\u0435\\u043d\\u0442=%{y}<extra></extra>\",\"legendgroup\":\"\\u043f\\u0440\\u0435\\u0434\\u043f\\u0440\\u0438\\u044f\\u0442\\u0438\\u0435 \\u0431\\u044b\\u0441\\u0442\\u0440\\u043e\\u0433\\u043e \\u043e\\u0431\\u0441\\u043b\\u0443\\u0436\\u0438\\u0432\\u0430\\u043d\\u0438\\u044f\",\"marker\":{\"color\":\"#636efa\",\"pattern\":{\"shape\":\"\"}},\"name\":\"\\u043f\\u0440\\u0435\\u0434\\u043f\\u0440\\u0438\\u044f\\u0442\\u0438\\u0435 \\u0431\\u044b\\u0441\\u0442\\u0440\\u043e\\u0433\\u043e \\u043e\\u0431\\u0441\\u043b\\u0443\\u0436\\u0438\\u0432\\u0430\\u043d\\u0438\\u044f\",\"offsetgroup\":\"\\u043f\\u0440\\u0435\\u0434\\u043f\\u0440\\u0438\\u044f\\u0442\\u0438\\u0435 \\u0431\\u044b\\u0441\\u0442\\u0440\\u043e\\u0433\\u043e \\u043e\\u0431\\u0441\\u043b\\u0443\\u0436\\u0438\\u0432\\u0430\\u043d\\u0438\\u044f\",\"orientation\":\"v\",\"showlegend\":true,\"textposition\":\"outside\",\"x\":[\"\\u043f\\u0440\\u0435\\u0434\\u043f\\u0440\\u0438\\u044f\\u0442\\u0438\\u0435 \\u0431\\u044b\\u0441\\u0442\\u0440\\u043e\\u0433\\u043e \\u043e\\u0431\\u0441\\u043b\\u0443\\u0436\\u0438\\u0432\\u0430\\u043d\\u0438\\u044f\"],\"xaxis\":\"x\",\"y\":[42.0],\"yaxis\":\"y\",\"type\":\"bar\",\"text\":\"\\u043f\\u0440\\u043e\\u0446\\u0435\\u043d\\u0442\",\"texttemplate\":\"%{value:.2}%\"},{\"alignmentgroup\":\"True\",\"hovertemplate\":\"object_type=%{x}<br>\\u043f\\u0440\\u043e\\u0446\\u0435\\u043d\\u0442=%{y}<extra></extra>\",\"legendgroup\":\"\\u043c\\u0430\\u0433\\u0430\\u0437\\u0438\\u043d (\\u043e\\u0442\\u0434\\u0435\\u043b \\u043a\\u0443\\u043b\\u0438\\u043d\\u0430\\u0440\\u0438\\u0438)\",\"marker\":{\"color\":\"#EF553B\",\"pattern\":{\"shape\":\"\"}},\"name\":\"\\u043c\\u0430\\u0433\\u0430\\u0437\\u0438\\u043d (\\u043e\\u0442\\u0434\\u0435\\u043b \\u043a\\u0443\\u043b\\u0438\\u043d\\u0430\\u0440\\u0438\\u0438)\",\"offsetgroup\":\"\\u043c\\u0430\\u0433\\u0430\\u0437\\u0438\\u043d (\\u043e\\u0442\\u0434\\u0435\\u043b \\u043a\\u0443\\u043b\\u0438\\u043d\\u0430\\u0440\\u0438\\u0438)\",\"orientation\":\"v\",\"showlegend\":true,\"textposition\":\"outside\",\"x\":[\"\\u043c\\u0430\\u0433\\u0430\\u0437\\u0438\\u043d (\\u043e\\u0442\\u0434\\u0435\\u043b \\u043a\\u0443\\u043b\\u0438\\u043d\\u0430\\u0440\\u0438\\u0438)\"],\"xaxis\":\"x\",\"y\":[29.0],\"yaxis\":\"y\",\"type\":\"bar\",\"text\":\"\\u043f\\u0440\\u043e\\u0446\\u0435\\u043d\\u0442\",\"texttemplate\":\"%{value:.2}%\"},{\"alignmentgroup\":\"True\",\"hovertemplate\":\"object_type=%{x}<br>\\u043f\\u0440\\u043e\\u0446\\u0435\\u043d\\u0442=%{y}<extra></extra>\",\"legendgroup\":\"\\u0440\\u0435\\u0441\\u0442\\u043e\\u0440\\u0430\\u043d\",\"marker\":{\"color\":\"#00cc96\",\"pattern\":{\"shape\":\"\"}},\"name\":\"\\u0440\\u0435\\u0441\\u0442\\u043e\\u0440\\u0430\\u043d\",\"offsetgroup\":\"\\u0440\\u0435\\u0441\\u0442\\u043e\\u0440\\u0430\\u043d\",\"orientation\":\"v\",\"showlegend\":true,\"textposition\":\"outside\",\"x\":[\"\\u0440\\u0435\\u0441\\u0442\\u043e\\u0440\\u0430\\u043d\"],\"xaxis\":\"x\",\"y\":[24.0],\"yaxis\":\"y\",\"type\":\"bar\",\"text\":\"\\u043f\\u0440\\u043e\\u0446\\u0435\\u043d\\u0442\",\"texttemplate\":\"%{value:.2}%\"},{\"alignmentgroup\":\"True\",\"hovertemplate\":\"object_type=%{x}<br>\\u043f\\u0440\\u043e\\u0446\\u0435\\u043d\\u0442=%{y}<extra></extra>\",\"legendgroup\":\"\\u043a\\u0430\\u0444\\u0435\",\"marker\":{\"color\":\"#ab63fa\",\"pattern\":{\"shape\":\"\"}},\"name\":\"\\u043a\\u0430\\u0444\\u0435\",\"offsetgroup\":\"\\u043a\\u0430\\u0444\\u0435\",\"orientation\":\"v\",\"showlegend\":true,\"textposition\":\"outside\",\"x\":[\"\\u043a\\u0430\\u0444\\u0435\"],\"xaxis\":\"x\",\"y\":[23.0],\"yaxis\":\"y\",\"type\":\"bar\",\"text\":\"\\u043f\\u0440\\u043e\\u0446\\u0435\\u043d\\u0442\",\"texttemplate\":\"%{value:.2}%\"},{\"alignmentgroup\":\"True\",\"hovertemplate\":\"object_type=%{x}<br>\\u043f\\u0440\\u043e\\u0446\\u0435\\u043d\\u0442=%{y}<extra></extra>\",\"legendgroup\":\"\\u0437\\u0430\\u043a\\u0443\\u0441\\u043e\\u0447\\u043d\\u0430\\u044f\",\"marker\":{\"color\":\"#FFA15A\",\"pattern\":{\"shape\":\"\"}},\"name\":\"\\u0437\\u0430\\u043a\\u0443\\u0441\\u043e\\u0447\\u043d\\u0430\\u044f\",\"offsetgroup\":\"\\u0437\\u0430\\u043a\\u0443\\u0441\\u043e\\u0447\\u043d\\u0430\\u044f\",\"orientation\":\"v\",\"showlegend\":true,\"textposition\":\"outside\",\"x\":[\"\\u0437\\u0430\\u043a\\u0443\\u0441\\u043e\\u0447\\u043d\\u0430\\u044f\"],\"xaxis\":\"x\",\"y\":[16.0],\"yaxis\":\"y\",\"type\":\"bar\",\"text\":\"\\u043f\\u0440\\u043e\\u0446\\u0435\\u043d\\u0442\",\"texttemplate\":\"%{value:.2}%\"},{\"alignmentgroup\":\"True\",\"hovertemplate\":\"object_type=%{x}<br>\\u043f\\u0440\\u043e\\u0446\\u0435\\u043d\\u0442=%{y}<extra></extra>\",\"legendgroup\":\"\\u043a\\u0430\\u0444\\u0435\\u0442\\u0435\\u0440\\u0438\\u0439\",\"marker\":{\"color\":\"#19d3f3\",\"pattern\":{\"shape\":\"\"}},\"name\":\"\\u043a\\u0430\\u0444\\u0435\\u0442\\u0435\\u0440\\u0438\\u0439\",\"offsetgroup\":\"\\u043a\\u0430\\u0444\\u0435\\u0442\\u0435\\u0440\\u0438\\u0439\",\"orientation\":\"v\",\"showlegend\":true,\"textposition\":\"outside\",\"x\":[\"\\u043a\\u0430\\u0444\\u0435\\u0442\\u0435\\u0440\\u0438\\u0439\"],\"xaxis\":\"x\",\"y\":[13.0],\"yaxis\":\"y\",\"type\":\"bar\",\"text\":\"\\u043f\\u0440\\u043e\\u0446\\u0435\\u043d\\u0442\",\"texttemplate\":\"%{value:.2}%\"},{\"alignmentgroup\":\"True\",\"hovertemplate\":\"object_type=%{x}<br>\\u043f\\u0440\\u043e\\u0446\\u0435\\u043d\\u0442=%{y}<extra></extra>\",\"legendgroup\":\"\\u0431\\u0430\\u0440\",\"marker\":{\"color\":\"#FF6692\",\"pattern\":{\"shape\":\"\"}},\"name\":\"\\u0431\\u0430\\u0440\",\"offsetgroup\":\"\\u0431\\u0430\\u0440\",\"orientation\":\"v\",\"showlegend\":true,\"textposition\":\"outside\",\"x\":[\"\\u0431\\u0430\\u0440\"],\"xaxis\":\"x\",\"y\":[4.0],\"yaxis\":\"y\",\"type\":\"bar\",\"text\":\"\\u043f\\u0440\\u043e\\u0446\\u0435\\u043d\\u0442\",\"texttemplate\":\"%{value:.2}%\"},{\"alignmentgroup\":\"True\",\"hovertemplate\":\"object_type=%{x}<br>\\u043f\\u0440\\u043e\\u0446\\u0435\\u043d\\u0442=%{y}<extra></extra>\",\"legendgroup\":\"\\u0431\\u0443\\u0444\\u0435\\u0442\",\"marker\":{\"color\":\"#B6E880\",\"pattern\":{\"shape\":\"\"}},\"name\":\"\\u0431\\u0443\\u0444\\u0435\\u0442\",\"offsetgroup\":\"\\u0431\\u0443\\u0444\\u0435\\u0442\",\"orientation\":\"v\",\"showlegend\":true,\"textposition\":\"outside\",\"x\":[\"\\u0431\\u0443\\u0444\\u0435\\u0442\"],\"xaxis\":\"x\",\"y\":[2.0],\"yaxis\":\"y\",\"type\":\"bar\",\"text\":\"\\u043f\\u0440\\u043e\\u0446\\u0435\\u043d\\u0442\",\"texttemplate\":\"%{value:.2}%\"},{\"alignmentgroup\":\"True\",\"hovertemplate\":\"object_type=%{x}<br>\\u043f\\u0440\\u043e\\u0446\\u0435\\u043d\\u0442=%{y}<extra></extra>\",\"legendgroup\":\"\\u0441\\u0442\\u043e\\u043b\\u043e\\u0432\\u0430\\u044f\",\"marker\":{\"color\":\"#FF97FF\",\"pattern\":{\"shape\":\"\"}},\"name\":\"\\u0441\\u0442\\u043e\\u043b\\u043e\\u0432\\u0430\\u044f\",\"offsetgroup\":\"\\u0441\\u0442\\u043e\\u043b\\u043e\\u0432\\u0430\\u044f\",\"orientation\":\"v\",\"showlegend\":true,\"textposition\":\"outside\",\"x\":[\"\\u0441\\u0442\\u043e\\u043b\\u043e\\u0432\\u0430\\u044f\"],\"xaxis\":\"x\",\"y\":[0.0],\"yaxis\":\"y\",\"type\":\"bar\",\"text\":\"\\u043f\\u0440\\u043e\\u0446\\u0435\\u043d\\u0442\",\"texttemplate\":\"%{value:.2}%\"}],                        {\"template\":{\"data\":{\"bar\":[{\"error_x\":{\"color\":\"#2a3f5f\"},\"error_y\":{\"color\":\"#2a3f5f\"},\"marker\":{\"line\":{\"color\":\"#E5ECF6\",\"width\":0.5},\"pattern\":{\"fillmode\":\"overlay\",\"size\":10,\"solidity\":0.2}},\"type\":\"bar\"}],\"barpolar\":[{\"marker\":{\"line\":{\"color\":\"#E5ECF6\",\"width\":0.5},\"pattern\":{\"fillmode\":\"overlay\",\"size\":10,\"solidity\":0.2}},\"type\":\"barpolar\"}],\"carpet\":[{\"aaxis\":{\"endlinecolor\":\"#2a3f5f\",\"gridcolor\":\"white\",\"linecolor\":\"white\",\"minorgridcolor\":\"white\",\"startlinecolor\":\"#2a3f5f\"},\"baxis\":{\"endlinecolor\":\"#2a3f5f\",\"gridcolor\":\"white\",\"linecolor\":\"white\",\"minorgridcolor\":\"white\",\"startlinecolor\":\"#2a3f5f\"},\"type\":\"carpet\"}],\"choropleth\":[{\"colorbar\":{\"outlinewidth\":0,\"ticks\":\"\"},\"type\":\"choropleth\"}],\"contour\":[{\"colorbar\":{\"outlinewidth\":0,\"ticks\":\"\"},\"colorscale\":[[0.0,\"#0d0887\"],[0.1111111111111111,\"#46039f\"],[0.2222222222222222,\"#7201a8\"],[0.3333333333333333,\"#9c179e\"],[0.4444444444444444,\"#bd3786\"],[0.5555555555555556,\"#d8576b\"],[0.6666666666666666,\"#ed7953\"],[0.7777777777777778,\"#fb9f3a\"],[0.8888888888888888,\"#fdca26\"],[1.0,\"#f0f921\"]],\"type\":\"contour\"}],\"contourcarpet\":[{\"colorbar\":{\"outlinewidth\":0,\"ticks\":\"\"},\"type\":\"contourcarpet\"}],\"heatmap\":[{\"colorbar\":{\"outlinewidth\":0,\"ticks\":\"\"},\"colorscale\":[[0.0,\"#0d0887\"],[0.1111111111111111,\"#46039f\"],[0.2222222222222222,\"#7201a8\"],[0.3333333333333333,\"#9c179e\"],[0.4444444444444444,\"#bd3786\"],[0.5555555555555556,\"#d8576b\"],[0.6666666666666666,\"#ed7953\"],[0.7777777777777778,\"#fb9f3a\"],[0.8888888888888888,\"#fdca26\"],[1.0,\"#f0f921\"]],\"type\":\"heatmap\"}],\"heatmapgl\":[{\"colorbar\":{\"outlinewidth\":0,\"ticks\":\"\"},\"colorscale\":[[0.0,\"#0d0887\"],[0.1111111111111111,\"#46039f\"],[0.2222222222222222,\"#7201a8\"],[0.3333333333333333,\"#9c179e\"],[0.4444444444444444,\"#bd3786\"],[0.5555555555555556,\"#d8576b\"],[0.6666666666666666,\"#ed7953\"],[0.7777777777777778,\"#fb9f3a\"],[0.8888888888888888,\"#fdca26\"],[1.0,\"#f0f921\"]],\"type\":\"heatmapgl\"}],\"histogram\":[{\"marker\":{\"pattern\":{\"fillmode\":\"overlay\",\"size\":10,\"solidity\":0.2}},\"type\":\"histogram\"}],\"histogram2d\":[{\"colorbar\":{\"outlinewidth\":0,\"ticks\":\"\"},\"colorscale\":[[0.0,\"#0d0887\"],[0.1111111111111111,\"#46039f\"],[0.2222222222222222,\"#7201a8\"],[0.3333333333333333,\"#9c179e\"],[0.4444444444444444,\"#bd3786\"],[0.5555555555555556,\"#d8576b\"],[0.6666666666666666,\"#ed7953\"],[0.7777777777777778,\"#fb9f3a\"],[0.8888888888888888,\"#fdca26\"],[1.0,\"#f0f921\"]],\"type\":\"histogram2d\"}],\"histogram2dcontour\":[{\"colorbar\":{\"outlinewidth\":0,\"ticks\":\"\"},\"colorscale\":[[0.0,\"#0d0887\"],[0.1111111111111111,\"#46039f\"],[0.2222222222222222,\"#7201a8\"],[0.3333333333333333,\"#9c179e\"],[0.4444444444444444,\"#bd3786\"],[0.5555555555555556,\"#d8576b\"],[0.6666666666666666,\"#ed7953\"],[0.7777777777777778,\"#fb9f3a\"],[0.8888888888888888,\"#fdca26\"],[1.0,\"#f0f921\"]],\"type\":\"histogram2dcontour\"}],\"mesh3d\":[{\"colorbar\":{\"outlinewidth\":0,\"ticks\":\"\"},\"type\":\"mesh3d\"}],\"parcoords\":[{\"line\":{\"colorbar\":{\"outlinewidth\":0,\"ticks\":\"\"}},\"type\":\"parcoords\"}],\"pie\":[{\"automargin\":true,\"type\":\"pie\"}],\"scatter\":[{\"marker\":{\"colorbar\":{\"outlinewidth\":0,\"ticks\":\"\"}},\"type\":\"scatter\"}],\"scatter3d\":[{\"line\":{\"colorbar\":{\"outlinewidth\":0,\"ticks\":\"\"}},\"marker\":{\"colorbar\":{\"outlinewidth\":0,\"ticks\":\"\"}},\"type\":\"scatter3d\"}],\"scattercarpet\":[{\"marker\":{\"colorbar\":{\"outlinewidth\":0,\"ticks\":\"\"}},\"type\":\"scattercarpet\"}],\"scattergeo\":[{\"marker\":{\"colorbar\":{\"outlinewidth\":0,\"ticks\":\"\"}},\"type\":\"scattergeo\"}],\"scattergl\":[{\"marker\":{\"colorbar\":{\"outlinewidth\":0,\"ticks\":\"\"}},\"type\":\"scattergl\"}],\"scattermapbox\":[{\"marker\":{\"colorbar\":{\"outlinewidth\":0,\"ticks\":\"\"}},\"type\":\"scattermapbox\"}],\"scatterpolar\":[{\"marker\":{\"colorbar\":{\"outlinewidth\":0,\"ticks\":\"\"}},\"type\":\"scatterpolar\"}],\"scatterpolargl\":[{\"marker\":{\"colorbar\":{\"outlinewidth\":0,\"ticks\":\"\"}},\"type\":\"scatterpolargl\"}],\"scatterternary\":[{\"marker\":{\"colorbar\":{\"outlinewidth\":0,\"ticks\":\"\"}},\"type\":\"scatterternary\"}],\"surface\":[{\"colorbar\":{\"outlinewidth\":0,\"ticks\":\"\"},\"colorscale\":[[0.0,\"#0d0887\"],[0.1111111111111111,\"#46039f\"],[0.2222222222222222,\"#7201a8\"],[0.3333333333333333,\"#9c179e\"],[0.4444444444444444,\"#bd3786\"],[0.5555555555555556,\"#d8576b\"],[0.6666666666666666,\"#ed7953\"],[0.7777777777777778,\"#fb9f3a\"],[0.8888888888888888,\"#fdca26\"],[1.0,\"#f0f921\"]],\"type\":\"surface\"}],\"table\":[{\"cells\":{\"fill\":{\"color\":\"#EBF0F8\"},\"line\":{\"color\":\"white\"}},\"header\":{\"fill\":{\"color\":\"#C8D4E3\"},\"line\":{\"color\":\"white\"}},\"type\":\"table\"}]},\"layout\":{\"annotationdefaults\":{\"arrowcolor\":\"#2a3f5f\",\"arrowhead\":0,\"arrowwidth\":1},\"autotypenumbers\":\"strict\",\"coloraxis\":{\"colorbar\":{\"outlinewidth\":0,\"ticks\":\"\"}},\"colorscale\":{\"diverging\":[[0,\"#8e0152\"],[0.1,\"#c51b7d\"],[0.2,\"#de77ae\"],[0.3,\"#f1b6da\"],[0.4,\"#fde0ef\"],[0.5,\"#f7f7f7\"],[0.6,\"#e6f5d0\"],[0.7,\"#b8e186\"],[0.8,\"#7fbc41\"],[0.9,\"#4d9221\"],[1,\"#276419\"]],\"sequential\":[[0.0,\"#0d0887\"],[0.1111111111111111,\"#46039f\"],[0.2222222222222222,\"#7201a8\"],[0.3333333333333333,\"#9c179e\"],[0.4444444444444444,\"#bd3786\"],[0.5555555555555556,\"#d8576b\"],[0.6666666666666666,\"#ed7953\"],[0.7777777777777778,\"#fb9f3a\"],[0.8888888888888888,\"#fdca26\"],[1.0,\"#f0f921\"]],\"sequentialminus\":[[0.0,\"#0d0887\"],[0.1111111111111111,\"#46039f\"],[0.2222222222222222,\"#7201a8\"],[0.3333333333333333,\"#9c179e\"],[0.4444444444444444,\"#bd3786\"],[0.5555555555555556,\"#d8576b\"],[0.6666666666666666,\"#ed7953\"],[0.7777777777777778,\"#fb9f3a\"],[0.8888888888888888,\"#fdca26\"],[1.0,\"#f0f921\"]]},\"colorway\":[\"#636efa\",\"#EF553B\",\"#00cc96\",\"#ab63fa\",\"#FFA15A\",\"#19d3f3\",\"#FF6692\",\"#B6E880\",\"#FF97FF\",\"#FECB52\"],\"font\":{\"color\":\"#2a3f5f\"},\"geo\":{\"bgcolor\":\"white\",\"lakecolor\":\"white\",\"landcolor\":\"#E5ECF6\",\"showlakes\":true,\"showland\":true,\"subunitcolor\":\"white\"},\"hoverlabel\":{\"align\":\"left\"},\"hovermode\":\"closest\",\"mapbox\":{\"style\":\"light\"},\"paper_bgcolor\":\"white\",\"plot_bgcolor\":\"#E5ECF6\",\"polar\":{\"angularaxis\":{\"gridcolor\":\"white\",\"linecolor\":\"white\",\"ticks\":\"\"},\"bgcolor\":\"#E5ECF6\",\"radialaxis\":{\"gridcolor\":\"white\",\"linecolor\":\"white\",\"ticks\":\"\"}},\"scene\":{\"xaxis\":{\"backgroundcolor\":\"#E5ECF6\",\"gridcolor\":\"white\",\"gridwidth\":2,\"linecolor\":\"white\",\"showbackground\":true,\"ticks\":\"\",\"zerolinecolor\":\"white\"},\"yaxis\":{\"backgroundcolor\":\"#E5ECF6\",\"gridcolor\":\"white\",\"gridwidth\":2,\"linecolor\":\"white\",\"showbackground\":true,\"ticks\":\"\",\"zerolinecolor\":\"white\"},\"zaxis\":{\"backgroundcolor\":\"#E5ECF6\",\"gridcolor\":\"white\",\"gridwidth\":2,\"linecolor\":\"white\",\"showbackground\":true,\"ticks\":\"\",\"zerolinecolor\":\"white\"}},\"shapedefaults\":{\"line\":{\"color\":\"#2a3f5f\"}},\"ternary\":{\"aaxis\":{\"gridcolor\":\"white\",\"linecolor\":\"white\",\"ticks\":\"\"},\"baxis\":{\"gridcolor\":\"white\",\"linecolor\":\"white\",\"ticks\":\"\"},\"bgcolor\":\"#E5ECF6\",\"caxis\":{\"gridcolor\":\"white\",\"linecolor\":\"white\",\"ticks\":\"\"}},\"title\":{\"x\":0.05},\"xaxis\":{\"automargin\":true,\"gridcolor\":\"white\",\"linecolor\":\"white\",\"ticks\":\"\",\"title\":{\"standoff\":15},\"zerolinecolor\":\"white\",\"zerolinewidth\":2},\"yaxis\":{\"automargin\":true,\"gridcolor\":\"white\",\"linecolor\":\"white\",\"ticks\":\"\",\"title\":{\"standoff\":15},\"zerolinecolor\":\"white\",\"zerolinewidth\":2}}},\"xaxis\":{\"anchor\":\"y\",\"domain\":[0.0,1.0],\"title\":{\"text\":\"\\u0422\\u0438\\u043f \\u043e\\u0431\\u044a\\u0435\\u043a\\u0442\\u0430\"},\"categoryorder\":\"array\",\"categoryarray\":[\"\\u043f\\u0440\\u0435\\u0434\\u043f\\u0440\\u0438\\u044f\\u0442\\u0438\\u0435 \\u0431\\u044b\\u0441\\u0442\\u0440\\u043e\\u0433\\u043e \\u043e\\u0431\\u0441\\u043b\\u0443\\u0436\\u0438\\u0432\\u0430\\u043d\\u0438\\u044f\",\"\\u043c\\u0430\\u0433\\u0430\\u0437\\u0438\\u043d (\\u043e\\u0442\\u0434\\u0435\\u043b \\u043a\\u0443\\u043b\\u0438\\u043d\\u0430\\u0440\\u0438\\u0438)\",\"\\u0440\\u0435\\u0441\\u0442\\u043e\\u0440\\u0430\\u043d\",\"\\u043a\\u0430\\u0444\\u0435\",\"\\u0437\\u0430\\u043a\\u0443\\u0441\\u043e\\u0447\\u043d\\u0430\\u044f\",\"\\u043a\\u0430\\u0444\\u0435\\u0442\\u0435\\u0440\\u0438\\u0439\",\"\\u0431\\u0430\\u0440\",\"\\u0431\\u0443\\u0444\\u0435\\u0442\",\"\\u0441\\u0442\\u043e\\u043b\\u043e\\u0432\\u0430\\u044f\"],\"tickangle\":45},\"yaxis\":{\"anchor\":\"x\",\"domain\":[0.0,1.0],\"title\":{\"text\":\"% \\u0437\\u0430\\u0432\\u0435\\u0434\\u0435\\u043d\\u0438\\u0439\"}},\"legend\":{\"title\":{\"text\":\"object_type\"},\"tracegroupgap\":0},\"margin\":{\"t\":60},\"barmode\":\"relative\",\"height\":550,\"width\":1000,\"title\":{\"text\":\"\\u0414\\u043e\\u043b\\u044f \\u0441\\u0435\\u0442\\u0435\\u0432\\u044b\\u0445 \\u0437\\u0430\\u0432\\u0435\\u0434\\u0435\\u043d\\u0438\\u0439 \\u043e\\u0442 \\u0432\\u0441\\u0435\\u0445 \\u043e\\u0431\\u044a\\u0435\\u043a\\u0442\\u043e\\u0432 \\u043e\\u0431\\u0449\\u0435\\u0441\\u0442\\u0432\\u0435\\u043d\\u043d\\u043e\\u0433\\u043e \\u043f\\u0438\\u0442\\u0430\\u043d\\u0438\\u044f (\\u043f\\u043e \\u0442\\u0438\\u043f\\u0430\\u043c)\"}},                        {\"responsive\": true}                    ).then(function(){\n",
       "                            \n",
       "var gd = document.getElementById('0516cf69-d4f3-40c3-b18d-f2b72378eeb0');\n",
       "var x = new MutationObserver(function (mutations, observer) {{\n",
       "        var display = window.getComputedStyle(gd).display;\n",
       "        if (!display || display === 'none') {{\n",
       "            console.log([gd, 'removed!']);\n",
       "            Plotly.purge(gd);\n",
       "            observer.disconnect();\n",
       "        }}\n",
       "}});\n",
       "\n",
       "// Listen for the removal of the full notebook cells\n",
       "var notebookContainer = gd.closest('#notebook-container');\n",
       "if (notebookContainer) {{\n",
       "    x.observe(notebookContainer, {childList: true});\n",
       "}}\n",
       "\n",
       "// Listen for the clearing of the current output cell\n",
       "var outputEl = gd.closest('.output');\n",
       "if (outputEl) {{\n",
       "    x.observe(outputEl, {childList: true});\n",
       "}}\n",
       "\n",
       "                        })                };                });            </script>        </div>"
      ]
     },
     "metadata": {},
     "output_type": "display_data"
    }
   ],
   "source": [
    "fig = px.bar(data_c, \n",
    "             x='object_type', y='процент', width = 1000, height = 550, color='object_type')\n",
    "fig.update_xaxes(tickangle=45)\n",
    "fig.update_layout(\n",
    "    title='Доля сетевых заведений от всех объектов общественного питания (по типам)',\n",
    "    xaxis_title=\"Тип объекта\",\n",
    "    yaxis_title=\"% заведений\")\n",
    "\n",
    "fig.update_traces(text='процент', textposition='outside', texttemplate='%{value:.2}%')\n",
    "\n",
    "fig.show()"
   ]
  }
 ],
 "metadata": {
  "ExecuteTimeLog": [
   {
    "duration": 1895,
    "start_time": "2022-08-29T13:25:22.722Z"
   },
   {
    "duration": 66,
    "start_time": "2022-08-29T13:25:38.697Z"
   },
   {
    "duration": 77,
    "start_time": "2022-08-29T13:25:59.542Z"
   },
   {
    "duration": 73,
    "start_time": "2022-08-29T13:26:22.643Z"
   },
   {
    "duration": 9,
    "start_time": "2022-08-29T13:27:02.552Z"
   },
   {
    "duration": 19,
    "start_time": "2022-08-29T13:29:37.765Z"
   },
   {
    "duration": 15,
    "start_time": "2022-08-29T13:29:55.679Z"
   },
   {
    "duration": 5,
    "start_time": "2022-08-29T13:30:51.402Z"
   },
   {
    "duration": 15,
    "start_time": "2022-08-29T13:33:04.366Z"
   },
   {
    "duration": 36,
    "start_time": "2022-08-29T13:34:07.127Z"
   },
   {
    "duration": 8,
    "start_time": "2022-08-29T13:39:09.402Z"
   },
   {
    "duration": 6,
    "start_time": "2022-08-29T13:41:15.479Z"
   },
   {
    "duration": 5,
    "start_time": "2022-08-29T13:41:55.240Z"
   },
   {
    "duration": 15,
    "start_time": "2022-08-29T13:55:32.515Z"
   },
   {
    "duration": 110,
    "start_time": "2022-08-29T13:56:14.018Z"
   },
   {
    "duration": 41,
    "start_time": "2022-08-29T13:56:56.215Z"
   },
   {
    "duration": 15,
    "start_time": "2022-08-29T13:57:12.942Z"
   },
   {
    "duration": 13,
    "start_time": "2022-08-29T13:58:12.293Z"
   },
   {
    "duration": 14,
    "start_time": "2022-08-29T13:58:44.571Z"
   },
   {
    "duration": 14,
    "start_time": "2022-08-29T13:59:42.717Z"
   },
   {
    "duration": 17,
    "start_time": "2022-08-29T14:00:27.268Z"
   },
   {
    "duration": 12,
    "start_time": "2022-08-29T14:01:16.019Z"
   },
   {
    "duration": 1514,
    "start_time": "2022-08-29T14:05:04.784Z"
   },
   {
    "duration": 17400,
    "start_time": "2022-08-29T14:06:37.834Z"
   },
   {
    "duration": 9,
    "start_time": "2022-08-29T14:07:36.563Z"
   },
   {
    "duration": 968,
    "start_time": "2022-08-29T14:10:40.256Z"
   },
   {
    "duration": 8,
    "start_time": "2022-08-29T14:11:12.177Z"
   },
   {
    "duration": 1286,
    "start_time": "2022-08-29T14:12:35.159Z"
   },
   {
    "duration": 1045,
    "start_time": "2022-08-29T14:14:41.480Z"
   },
   {
    "duration": 17,
    "start_time": "2022-08-29T14:18:43.627Z"
   },
   {
    "duration": 15,
    "start_time": "2022-08-29T14:19:15.260Z"
   },
   {
    "duration": 12,
    "start_time": "2022-08-29T14:19:38.302Z"
   },
   {
    "duration": 10,
    "start_time": "2022-08-29T14:20:19.348Z"
   },
   {
    "duration": 12,
    "start_time": "2022-08-29T14:20:32.101Z"
   },
   {
    "duration": 12,
    "start_time": "2022-08-29T14:20:48.366Z"
   },
   {
    "duration": 11,
    "start_time": "2022-08-29T14:21:01.663Z"
   },
   {
    "duration": 10,
    "start_time": "2022-08-29T14:21:18.305Z"
   },
   {
    "duration": 11,
    "start_time": "2022-08-29T14:21:40.347Z"
   },
   {
    "duration": 73,
    "start_time": "2022-08-29T14:30:31.386Z"
   },
   {
    "duration": 11,
    "start_time": "2022-08-29T14:30:33.754Z"
   },
   {
    "duration": 18,
    "start_time": "2022-08-29T14:32:56.675Z"
   },
   {
    "duration": 15,
    "start_time": "2022-08-29T14:33:06.529Z"
   },
   {
    "duration": 22,
    "start_time": "2022-08-29T15:22:44.005Z"
   },
   {
    "duration": 19,
    "start_time": "2022-08-29T15:22:45.526Z"
   },
   {
    "duration": 16,
    "start_time": "2022-08-29T15:22:46.655Z"
   },
   {
    "duration": 13,
    "start_time": "2022-08-29T15:22:58.120Z"
   },
   {
    "duration": 12,
    "start_time": "2022-08-29T15:23:00.258Z"
   },
   {
    "duration": 15,
    "start_time": "2022-08-29T15:27:15.297Z"
   },
   {
    "duration": 24,
    "start_time": "2022-08-29T15:27:33.361Z"
   },
   {
    "duration": 16,
    "start_time": "2022-08-29T15:27:51.692Z"
   },
   {
    "duration": 11,
    "start_time": "2022-08-29T15:28:30.320Z"
   },
   {
    "duration": 14,
    "start_time": "2022-08-29T15:28:49.725Z"
   },
   {
    "duration": 75,
    "start_time": "2022-08-29T15:29:03.084Z"
   },
   {
    "duration": 11,
    "start_time": "2022-08-29T15:29:04.181Z"
   },
   {
    "duration": 24,
    "start_time": "2022-08-29T15:29:05.032Z"
   },
   {
    "duration": 23,
    "start_time": "2022-08-29T15:29:05.877Z"
   },
   {
    "duration": 16,
    "start_time": "2022-08-29T15:29:06.597Z"
   },
   {
    "duration": 15,
    "start_time": "2022-08-29T15:29:10.916Z"
   },
   {
    "duration": 19,
    "start_time": "2022-08-29T15:29:12.062Z"
   },
   {
    "duration": 17,
    "start_time": "2022-08-29T15:29:13.790Z"
   },
   {
    "duration": 10,
    "start_time": "2022-08-29T15:29:14.952Z"
   },
   {
    "duration": 6,
    "start_time": "2022-08-29T15:29:18.795Z"
   },
   {
    "duration": 6,
    "start_time": "2022-08-29T15:29:19.478Z"
   },
   {
    "duration": 16,
    "start_time": "2022-08-29T15:32:58.455Z"
   },
   {
    "duration": 15,
    "start_time": "2022-08-29T15:33:16.228Z"
   },
   {
    "duration": 75,
    "start_time": "2022-08-29T15:33:22.576Z"
   },
   {
    "duration": 9,
    "start_time": "2022-08-29T15:33:23.452Z"
   },
   {
    "duration": 27,
    "start_time": "2022-08-29T15:33:24.466Z"
   },
   {
    "duration": 21,
    "start_time": "2022-08-29T15:33:25.496Z"
   },
   {
    "duration": 16,
    "start_time": "2022-08-29T15:33:26.946Z"
   },
   {
    "duration": 20,
    "start_time": "2022-08-29T15:33:28.549Z"
   },
   {
    "duration": 13,
    "start_time": "2022-08-29T15:33:48.936Z"
   },
   {
    "duration": 13,
    "start_time": "2022-08-29T15:33:50.209Z"
   },
   {
    "duration": 8,
    "start_time": "2022-08-29T15:33:51.160Z"
   },
   {
    "duration": 5,
    "start_time": "2022-08-29T15:33:52.200Z"
   },
   {
    "duration": 5,
    "start_time": "2022-08-29T15:33:53.425Z"
   },
   {
    "duration": 12,
    "start_time": "2022-08-29T15:34:12.145Z"
   },
   {
    "duration": 11,
    "start_time": "2022-08-29T15:34:15.123Z"
   },
   {
    "duration": 10,
    "start_time": "2022-08-29T15:37:29.951Z"
   },
   {
    "duration": 8,
    "start_time": "2022-08-29T15:38:07.893Z"
   },
   {
    "duration": 12,
    "start_time": "2022-08-29T15:39:01.518Z"
   },
   {
    "duration": 31,
    "start_time": "2022-08-29T15:45:54.912Z"
   },
   {
    "duration": 948,
    "start_time": "2022-08-29T15:49:10.852Z"
   },
   {
    "duration": 687,
    "start_time": "2022-08-29T15:49:53.701Z"
   },
   {
    "duration": 838,
    "start_time": "2022-08-29T15:50:19.619Z"
   },
   {
    "duration": 19069,
    "start_time": "2022-08-29T15:50:44.302Z"
   },
   {
    "duration": 21168,
    "start_time": "2022-08-29T15:51:32.755Z"
   },
   {
    "duration": 18,
    "start_time": "2022-08-29T16:35:31.973Z"
   },
   {
    "duration": 15,
    "start_time": "2022-08-29T16:36:43.197Z"
   },
   {
    "duration": 16,
    "start_time": "2022-08-29T16:37:31.294Z"
   },
   {
    "duration": 119,
    "start_time": "2022-08-29T16:41:42.859Z"
   },
   {
    "duration": 63,
    "start_time": "2022-08-29T16:41:58.026Z"
   },
   {
    "duration": 14,
    "start_time": "2022-08-29T16:42:08.539Z"
   },
   {
    "duration": 73,
    "start_time": "2022-08-29T16:43:21.523Z"
   },
   {
    "duration": 11,
    "start_time": "2022-08-29T16:43:24.536Z"
   },
   {
    "duration": 22,
    "start_time": "2022-08-29T16:43:24.722Z"
   },
   {
    "duration": 24,
    "start_time": "2022-08-29T16:43:25.363Z"
   },
   {
    "duration": 17,
    "start_time": "2022-08-29T16:43:25.474Z"
   },
   {
    "duration": 15,
    "start_time": "2022-08-29T16:43:25.702Z"
   },
   {
    "duration": 13,
    "start_time": "2022-08-29T16:43:25.829Z"
   },
   {
    "duration": 13,
    "start_time": "2022-08-29T16:43:26.071Z"
   },
   {
    "duration": 10,
    "start_time": "2022-08-29T16:43:26.256Z"
   },
   {
    "duration": 5,
    "start_time": "2022-08-29T16:43:27.735Z"
   },
   {
    "duration": 6,
    "start_time": "2022-08-29T16:43:28.338Z"
   },
   {
    "duration": 15,
    "start_time": "2022-08-29T16:43:34.764Z"
   },
   {
    "duration": 20825,
    "start_time": "2022-08-29T16:43:38.325Z"
   },
   {
    "duration": 15,
    "start_time": "2022-08-29T16:45:33.840Z"
   },
   {
    "duration": 13,
    "start_time": "2022-08-29T16:48:24.243Z"
   },
   {
    "duration": 12,
    "start_time": "2022-08-29T16:48:46.426Z"
   },
   {
    "duration": 13,
    "start_time": "2022-08-29T16:48:52.267Z"
   },
   {
    "duration": 12,
    "start_time": "2022-08-29T16:48:58.945Z"
   },
   {
    "duration": 11,
    "start_time": "2022-08-29T16:49:05.339Z"
   },
   {
    "duration": 2970,
    "start_time": "2022-08-29T16:51:18.043Z"
   },
   {
    "duration": 59,
    "start_time": "2022-08-29T16:55:30.292Z"
   },
   {
    "duration": 13,
    "start_time": "2022-08-29T16:55:40.852Z"
   },
   {
    "duration": 381,
    "start_time": "2022-08-29T16:57:56.252Z"
   },
   {
    "duration": 1421,
    "start_time": "2022-08-29T20:16:06.917Z"
   },
   {
    "duration": 12,
    "start_time": "2022-08-29T20:16:08.339Z"
   },
   {
    "duration": 21,
    "start_time": "2022-08-29T20:16:08.352Z"
   },
   {
    "duration": 21,
    "start_time": "2022-08-29T20:16:08.375Z"
   },
   {
    "duration": 14,
    "start_time": "2022-08-29T20:16:08.398Z"
   },
   {
    "duration": 13,
    "start_time": "2022-08-29T20:16:08.414Z"
   },
   {
    "duration": 38,
    "start_time": "2022-08-29T20:16:08.429Z"
   },
   {
    "duration": 14,
    "start_time": "2022-08-29T20:16:08.469Z"
   },
   {
    "duration": 9,
    "start_time": "2022-08-29T20:16:08.484Z"
   },
   {
    "duration": 5,
    "start_time": "2022-08-29T20:16:08.495Z"
   },
   {
    "duration": 6,
    "start_time": "2022-08-29T20:16:08.502Z"
   },
   {
    "duration": 16,
    "start_time": "2022-08-29T20:16:22.317Z"
   },
   {
    "duration": 98,
    "start_time": "2022-08-29T21:03:01.292Z"
   },
   {
    "duration": 17,
    "start_time": "2022-08-29T21:03:13.619Z"
   },
   {
    "duration": 18,
    "start_time": "2022-08-29T21:03:37.669Z"
   },
   {
    "duration": 17,
    "start_time": "2022-08-29T21:04:52.854Z"
   },
   {
    "duration": 17,
    "start_time": "2022-08-29T21:05:27.511Z"
   },
   {
    "duration": 18,
    "start_time": "2022-08-29T21:06:02.359Z"
   },
   {
    "duration": 25,
    "start_time": "2022-08-29T21:06:20.684Z"
   },
   {
    "duration": 159,
    "start_time": "2022-08-29T21:06:21.596Z"
   },
   {
    "duration": 148,
    "start_time": "2022-08-29T21:07:00.303Z"
   },
   {
    "duration": 154,
    "start_time": "2022-08-29T21:12:33.393Z"
   },
   {
    "duration": 293,
    "start_time": "2022-08-29T21:16:26.430Z"
   },
   {
    "duration": 69,
    "start_time": "2022-08-29T21:17:16.926Z"
   },
   {
    "duration": 41,
    "start_time": "2022-08-29T21:18:04.939Z"
   },
   {
    "duration": 8,
    "start_time": "2022-08-29T21:18:06.500Z"
   },
   {
    "duration": 1503,
    "start_time": "2022-08-30T12:16:08.291Z"
   },
   {
    "duration": 12,
    "start_time": "2022-08-30T12:16:09.796Z"
   },
   {
    "duration": 23,
    "start_time": "2022-08-30T12:16:09.809Z"
   },
   {
    "duration": 20,
    "start_time": "2022-08-30T12:16:09.834Z"
   },
   {
    "duration": 14,
    "start_time": "2022-08-30T12:16:09.856Z"
   },
   {
    "duration": 36,
    "start_time": "2022-08-30T12:16:09.872Z"
   },
   {
    "duration": 16,
    "start_time": "2022-08-30T12:16:09.910Z"
   },
   {
    "duration": 13,
    "start_time": "2022-08-30T12:16:09.928Z"
   },
   {
    "duration": 8,
    "start_time": "2022-08-30T12:16:09.943Z"
   },
   {
    "duration": 6,
    "start_time": "2022-08-30T12:16:09.953Z"
   },
   {
    "duration": 6,
    "start_time": "2022-08-30T12:16:09.960Z"
   },
   {
    "duration": 19,
    "start_time": "2022-08-30T12:16:10.949Z"
   },
   {
    "duration": 329,
    "start_time": "2022-08-30T12:16:11.134Z"
   },
   {
    "duration": 9,
    "start_time": "2022-08-30T12:16:12.768Z"
   },
   {
    "duration": 44,
    "start_time": "2022-08-30T12:19:16.427Z"
   },
   {
    "duration": 172,
    "start_time": "2022-08-30T12:21:06.437Z"
   },
   {
    "duration": 11,
    "start_time": "2022-08-30T12:21:57.937Z"
   },
   {
    "duration": 18,
    "start_time": "2022-08-30T12:29:01.563Z"
   },
   {
    "duration": 39,
    "start_time": "2022-08-30T12:29:03.309Z"
   },
   {
    "duration": 8,
    "start_time": "2022-08-30T12:29:04.496Z"
   },
   {
    "duration": 1326,
    "start_time": "2022-08-30T12:35:00.767Z"
   },
   {
    "duration": 2089,
    "start_time": "2022-08-30T12:36:38.209Z"
   },
   {
    "duration": 9,
    "start_time": "2022-08-30T12:37:04.939Z"
   },
   {
    "duration": 9,
    "start_time": "2022-08-30T12:37:19.441Z"
   },
   {
    "duration": 10,
    "start_time": "2022-08-30T12:37:37.940Z"
   },
   {
    "duration": 18,
    "start_time": "2022-08-30T12:38:04.721Z"
   },
   {
    "duration": 10,
    "start_time": "2022-08-30T12:38:13.020Z"
   },
   {
    "duration": 1491,
    "start_time": "2022-08-30T12:38:27.077Z"
   },
   {
    "duration": 10,
    "start_time": "2022-08-30T12:39:08.294Z"
   },
   {
    "duration": 11,
    "start_time": "2022-08-30T12:39:40.141Z"
   },
   {
    "duration": 2176,
    "start_time": "2022-08-30T12:40:22.852Z"
   },
   {
    "duration": 1493,
    "start_time": "2022-08-30T12:40:38.462Z"
   },
   {
    "duration": 2441,
    "start_time": "2022-08-30T12:40:47.167Z"
   },
   {
    "duration": 10,
    "start_time": "2022-08-30T12:41:14.531Z"
   },
   {
    "duration": 14,
    "start_time": "2022-08-30T12:41:50.296Z"
   },
   {
    "duration": 13,
    "start_time": "2022-08-30T12:43:08.690Z"
   },
   {
    "duration": 10,
    "start_time": "2022-08-30T12:44:43.824Z"
   },
   {
    "duration": 6,
    "start_time": "2022-08-30T12:48:01.886Z"
   },
   {
    "duration": 7,
    "start_time": "2022-08-30T12:48:14.818Z"
   },
   {
    "duration": 14,
    "start_time": "2022-08-30T12:49:36.277Z"
   },
   {
    "duration": 9,
    "start_time": "2022-08-30T12:50:08.527Z"
   },
   {
    "duration": 16,
    "start_time": "2022-08-30T12:51:48.605Z"
   },
   {
    "duration": 13,
    "start_time": "2022-08-30T12:52:16.316Z"
   },
   {
    "duration": 7,
    "start_time": "2022-08-30T12:52:31.138Z"
   },
   {
    "duration": 9,
    "start_time": "2022-08-30T12:54:20.868Z"
   },
   {
    "duration": 11,
    "start_time": "2022-08-30T12:54:50.393Z"
   },
   {
    "duration": 13,
    "start_time": "2022-08-30T13:09:53.127Z"
   },
   {
    "duration": 15,
    "start_time": "2022-08-30T13:13:29.428Z"
   },
   {
    "duration": 108,
    "start_time": "2022-08-30T13:13:49.229Z"
   },
   {
    "duration": 15,
    "start_time": "2022-08-30T13:14:00.726Z"
   },
   {
    "duration": 15,
    "start_time": "2022-08-30T13:19:09.019Z"
   },
   {
    "duration": 19,
    "start_time": "2022-08-30T13:23:28.331Z"
   },
   {
    "duration": 18,
    "start_time": "2022-08-30T13:23:48.731Z"
   },
   {
    "duration": 18,
    "start_time": "2022-08-30T13:25:28.127Z"
   },
   {
    "duration": 20,
    "start_time": "2022-08-30T13:27:34.034Z"
   },
   {
    "duration": 19,
    "start_time": "2022-08-30T13:27:51.041Z"
   },
   {
    "duration": 19,
    "start_time": "2022-08-30T13:32:08.194Z"
   },
   {
    "duration": 15,
    "start_time": "2022-08-30T13:33:17.025Z"
   },
   {
    "duration": 17,
    "start_time": "2022-08-30T13:34:00.237Z"
   },
   {
    "duration": 19,
    "start_time": "2022-08-30T13:34:14.238Z"
   },
   {
    "duration": 20,
    "start_time": "2022-08-30T13:34:23.966Z"
   },
   {
    "duration": 19,
    "start_time": "2022-08-30T13:34:32.903Z"
   },
   {
    "duration": 18,
    "start_time": "2022-08-30T13:34:40.007Z"
   },
   {
    "duration": 16,
    "start_time": "2022-08-30T13:55:55.868Z"
   },
   {
    "duration": 18,
    "start_time": "2022-08-30T13:58:36.966Z"
   },
   {
    "duration": 869,
    "start_time": "2022-08-30T13:59:25.800Z"
   },
   {
    "duration": 44,
    "start_time": "2022-08-30T14:10:12.669Z"
   },
   {
    "duration": 51,
    "start_time": "2022-08-30T14:11:18.006Z"
   },
   {
    "duration": 11,
    "start_time": "2022-08-30T14:13:25.715Z"
   },
   {
    "duration": 8,
    "start_time": "2022-08-30T14:14:29.908Z"
   },
   {
    "duration": 14,
    "start_time": "2022-08-30T14:19:31.302Z"
   },
   {
    "duration": 7,
    "start_time": "2022-08-30T14:20:09.565Z"
   },
   {
    "duration": 16,
    "start_time": "2022-08-30T14:22:49.834Z"
   },
   {
    "duration": 19,
    "start_time": "2022-08-30T14:25:23.277Z"
   },
   {
    "duration": 15,
    "start_time": "2022-08-30T14:25:44.210Z"
   },
   {
    "duration": 43,
    "start_time": "2022-08-30T14:26:22.205Z"
   },
   {
    "duration": 39,
    "start_time": "2022-08-30T14:28:32.354Z"
   },
   {
    "duration": 9,
    "start_time": "2022-08-30T14:31:05.538Z"
   },
   {
    "duration": 24,
    "start_time": "2022-08-30T15:19:12.650Z"
   },
   {
    "duration": 27,
    "start_time": "2022-08-30T15:19:48.351Z"
   },
   {
    "duration": 84,
    "start_time": "2022-08-30T15:22:31.209Z"
   },
   {
    "duration": 9,
    "start_time": "2022-08-30T15:22:31.296Z"
   },
   {
    "duration": 37,
    "start_time": "2022-08-30T15:22:31.515Z"
   },
   {
    "duration": 22,
    "start_time": "2022-08-30T15:22:31.593Z"
   },
   {
    "duration": 16,
    "start_time": "2022-08-30T15:22:31.794Z"
   },
   {
    "duration": 16,
    "start_time": "2022-08-30T15:22:31.868Z"
   },
   {
    "duration": 15,
    "start_time": "2022-08-30T15:22:32.092Z"
   },
   {
    "duration": 14,
    "start_time": "2022-08-30T15:22:32.182Z"
   },
   {
    "duration": 10,
    "start_time": "2022-08-30T15:22:32.399Z"
   },
   {
    "duration": 8,
    "start_time": "2022-08-30T15:22:32.480Z"
   },
   {
    "duration": 6,
    "start_time": "2022-08-30T15:22:32.686Z"
   },
   {
    "duration": 20,
    "start_time": "2022-08-30T15:22:33.291Z"
   },
   {
    "duration": 55,
    "start_time": "2022-08-30T15:22:33.380Z"
   },
   {
    "duration": 14,
    "start_time": "2022-08-30T15:22:33.607Z"
   },
   {
    "duration": 25,
    "start_time": "2022-08-30T15:22:34.099Z"
   },
   {
    "duration": 58,
    "start_time": "2022-08-30T15:22:34.652Z"
   },
   {
    "duration": 14,
    "start_time": "2022-08-30T15:22:34.976Z"
   },
   {
    "duration": 75,
    "start_time": "2022-08-30T15:22:54.065Z"
   },
   {
    "duration": 10,
    "start_time": "2022-08-30T15:22:54.810Z"
   },
   {
    "duration": 35,
    "start_time": "2022-08-30T15:22:54.892Z"
   },
   {
    "duration": 21,
    "start_time": "2022-08-30T15:22:55.120Z"
   },
   {
    "duration": 16,
    "start_time": "2022-08-30T15:22:55.208Z"
   },
   {
    "duration": 15,
    "start_time": "2022-08-30T15:22:55.420Z"
   },
   {
    "duration": 16,
    "start_time": "2022-08-30T15:22:55.515Z"
   },
   {
    "duration": 16,
    "start_time": "2022-08-30T15:22:55.728Z"
   },
   {
    "duration": 10,
    "start_time": "2022-08-30T15:22:55.844Z"
   },
   {
    "duration": 7,
    "start_time": "2022-08-30T15:22:56.045Z"
   },
   {
    "duration": 8,
    "start_time": "2022-08-30T15:22:56.140Z"
   },
   {
    "duration": 20,
    "start_time": "2022-08-30T15:22:56.739Z"
   },
   {
    "duration": 49,
    "start_time": "2022-08-30T15:22:56.950Z"
   },
   {
    "duration": 12,
    "start_time": "2022-08-30T15:22:57.050Z"
   },
   {
    "duration": 19,
    "start_time": "2022-08-30T15:22:57.627Z"
   },
   {
    "duration": 46,
    "start_time": "2022-08-30T15:22:57.737Z"
   },
   {
    "duration": 9,
    "start_time": "2022-08-30T15:22:57.957Z"
   },
   {
    "duration": 17,
    "start_time": "2022-08-30T15:22:58.717Z"
   },
   {
    "duration": 9,
    "start_time": "2022-08-30T15:22:59.481Z"
   },
   {
    "duration": 17,
    "start_time": "2022-08-30T15:23:01.320Z"
   },
   {
    "duration": 99,
    "start_time": "2022-08-30T15:26:01.052Z"
   },
   {
    "duration": 24,
    "start_time": "2022-08-30T15:29:06.215Z"
   },
   {
    "duration": 12,
    "start_time": "2022-08-30T15:29:33.792Z"
   },
   {
    "duration": 21,
    "start_time": "2022-08-30T15:30:26.181Z"
   },
   {
    "duration": 122,
    "start_time": "2022-08-30T15:30:57.119Z"
   },
   {
    "duration": 20,
    "start_time": "2022-08-30T15:32:09.674Z"
   },
   {
    "duration": 18,
    "start_time": "2022-08-30T15:32:48.248Z"
   },
   {
    "duration": 102,
    "start_time": "2022-08-30T15:33:27.824Z"
   },
   {
    "duration": 19,
    "start_time": "2022-08-30T15:35:49.854Z"
   },
   {
    "duration": 24,
    "start_time": "2022-08-30T15:36:49.948Z"
   },
   {
    "duration": 160,
    "start_time": "2022-08-30T15:37:16.341Z"
   },
   {
    "duration": 80,
    "start_time": "2022-08-30T15:45:40.453Z"
   },
   {
    "duration": 8,
    "start_time": "2022-08-30T15:45:40.560Z"
   },
   {
    "duration": 22,
    "start_time": "2022-08-30T15:45:40.774Z"
   },
   {
    "duration": 21,
    "start_time": "2022-08-30T15:45:40.848Z"
   },
   {
    "duration": 14,
    "start_time": "2022-08-30T15:45:41.060Z"
   },
   {
    "duration": 16,
    "start_time": "2022-08-30T15:45:41.149Z"
   },
   {
    "duration": 15,
    "start_time": "2022-08-30T15:45:41.357Z"
   },
   {
    "duration": 21,
    "start_time": "2022-08-30T15:45:41.440Z"
   },
   {
    "duration": 11,
    "start_time": "2022-08-30T15:45:41.708Z"
   },
   {
    "duration": 6,
    "start_time": "2022-08-30T15:45:41.796Z"
   },
   {
    "duration": 6,
    "start_time": "2022-08-30T15:45:42.004Z"
   },
   {
    "duration": 19,
    "start_time": "2022-08-30T15:45:42.546Z"
   },
   {
    "duration": 43,
    "start_time": "2022-08-30T15:45:42.613Z"
   },
   {
    "duration": 10,
    "start_time": "2022-08-30T15:45:42.796Z"
   },
   {
    "duration": 17,
    "start_time": "2022-08-30T15:45:43.108Z"
   },
   {
    "duration": 50,
    "start_time": "2022-08-30T15:45:43.334Z"
   },
   {
    "duration": 10,
    "start_time": "2022-08-30T15:45:43.428Z"
   },
   {
    "duration": 16,
    "start_time": "2022-08-30T15:45:43.937Z"
   },
   {
    "duration": 9,
    "start_time": "2022-08-30T15:45:44.023Z"
   },
   {
    "duration": 19,
    "start_time": "2022-08-30T15:45:44.521Z"
   },
   {
    "duration": 102,
    "start_time": "2022-08-30T15:45:44.608Z"
   },
   {
    "duration": 20,
    "start_time": "2022-08-30T15:45:44.797Z"
   },
   {
    "duration": 101,
    "start_time": "2022-08-30T15:45:44.894Z"
   },
   {
    "duration": 17,
    "start_time": "2022-08-30T15:45:45.076Z"
   },
   {
    "duration": 99,
    "start_time": "2022-08-30T15:45:45.157Z"
   },
   {
    "duration": 22,
    "start_time": "2022-08-30T15:45:45.423Z"
   },
   {
    "duration": 20,
    "start_time": "2022-08-30T17:06:17.329Z"
   },
   {
    "duration": 77,
    "start_time": "2022-08-30T17:07:12.096Z"
   },
   {
    "duration": 8,
    "start_time": "2022-08-30T17:07:12.175Z"
   },
   {
    "duration": 24,
    "start_time": "2022-08-30T17:07:12.400Z"
   },
   {
    "duration": 20,
    "start_time": "2022-08-30T17:07:12.485Z"
   },
   {
    "duration": 22,
    "start_time": "2022-08-30T17:07:12.707Z"
   },
   {
    "duration": 20,
    "start_time": "2022-08-30T17:07:12.787Z"
   },
   {
    "duration": 14,
    "start_time": "2022-08-30T17:07:12.993Z"
   },
   {
    "duration": 15,
    "start_time": "2022-08-30T17:07:13.087Z"
   },
   {
    "duration": 10,
    "start_time": "2022-08-30T17:07:13.310Z"
   },
   {
    "duration": 6,
    "start_time": "2022-08-30T17:07:13.411Z"
   },
   {
    "duration": 6,
    "start_time": "2022-08-30T17:07:13.610Z"
   },
   {
    "duration": 20,
    "start_time": "2022-08-30T17:07:14.162Z"
   },
   {
    "duration": 46,
    "start_time": "2022-08-30T17:07:14.332Z"
   },
   {
    "duration": 9,
    "start_time": "2022-08-30T17:07:14.395Z"
   },
   {
    "duration": 18,
    "start_time": "2022-08-30T17:07:14.832Z"
   },
   {
    "duration": 49,
    "start_time": "2022-08-30T17:07:14.936Z"
   },
   {
    "duration": 9,
    "start_time": "2022-08-30T17:07:15.165Z"
   },
   {
    "duration": 20,
    "start_time": "2022-08-30T17:07:15.767Z"
   },
   {
    "duration": 106,
    "start_time": "2022-08-30T17:07:15.885Z"
   },
   {
    "duration": 21,
    "start_time": "2022-08-30T17:07:16.503Z"
   },
   {
    "duration": 93,
    "start_time": "2022-08-30T17:07:16.613Z"
   },
   {
    "duration": 18,
    "start_time": "2022-08-30T17:07:16.864Z"
   },
   {
    "duration": 109,
    "start_time": "2022-08-30T17:07:16.953Z"
   },
   {
    "duration": 16,
    "start_time": "2022-08-30T17:07:17.210Z"
   },
   {
    "duration": 111,
    "start_time": "2022-08-30T17:07:18.034Z"
   },
   {
    "duration": 20,
    "start_time": "2022-08-30T17:07:18.147Z"
   },
   {
    "duration": 10,
    "start_time": "2022-08-30T17:35:27.700Z"
   },
   {
    "duration": 16,
    "start_time": "2022-08-30T17:37:55.612Z"
   },
   {
    "duration": 14,
    "start_time": "2022-08-30T17:38:21.509Z"
   },
   {
    "duration": 21,
    "start_time": "2022-08-30T17:40:49.327Z"
   },
   {
    "duration": 18,
    "start_time": "2022-08-30T17:40:59.878Z"
   },
   {
    "duration": 17,
    "start_time": "2022-08-30T17:41:41.803Z"
   },
   {
    "duration": 15,
    "start_time": "2022-08-30T17:42:25.467Z"
   },
   {
    "duration": 21,
    "start_time": "2022-08-30T17:43:34.498Z"
   },
   {
    "duration": 66,
    "start_time": "2022-08-30T17:47:56.043Z"
   },
   {
    "duration": 43,
    "start_time": "2022-08-30T18:25:32.018Z"
   },
   {
    "duration": 45,
    "start_time": "2022-08-30T18:25:59.055Z"
   },
   {
    "duration": 76,
    "start_time": "2022-08-30T18:26:18.992Z"
   },
   {
    "duration": 9,
    "start_time": "2022-08-30T18:26:19.267Z"
   },
   {
    "duration": 22,
    "start_time": "2022-08-30T18:26:19.827Z"
   },
   {
    "duration": 21,
    "start_time": "2022-08-30T18:26:19.914Z"
   },
   {
    "duration": 16,
    "start_time": "2022-08-30T18:26:20.121Z"
   },
   {
    "duration": 15,
    "start_time": "2022-08-30T18:26:20.195Z"
   },
   {
    "duration": 16,
    "start_time": "2022-08-30T18:26:20.386Z"
   },
   {
    "duration": 14,
    "start_time": "2022-08-30T18:26:20.454Z"
   },
   {
    "duration": 13,
    "start_time": "2022-08-30T18:26:20.629Z"
   },
   {
    "duration": 7,
    "start_time": "2022-08-30T18:26:20.703Z"
   },
   {
    "duration": 7,
    "start_time": "2022-08-30T18:26:20.849Z"
   },
   {
    "duration": 19,
    "start_time": "2022-08-30T18:26:21.357Z"
   },
   {
    "duration": 48,
    "start_time": "2022-08-30T18:26:21.533Z"
   },
   {
    "duration": 9,
    "start_time": "2022-08-30T18:26:21.629Z"
   },
   {
    "duration": 21,
    "start_time": "2022-08-30T18:26:22.004Z"
   },
   {
    "duration": 43,
    "start_time": "2022-08-30T18:26:22.156Z"
   },
   {
    "duration": 10,
    "start_time": "2022-08-30T18:26:22.240Z"
   },
   {
    "duration": 21,
    "start_time": "2022-08-30T18:26:22.556Z"
   },
   {
    "duration": 10,
    "start_time": "2022-08-30T18:26:22.746Z"
   },
   {
    "duration": 23,
    "start_time": "2022-08-30T18:26:23.137Z"
   },
   {
    "duration": 90,
    "start_time": "2022-08-30T18:26:23.225Z"
   },
   {
    "duration": 18,
    "start_time": "2022-08-30T18:26:23.416Z"
   },
   {
    "duration": 111,
    "start_time": "2022-08-30T18:26:23.497Z"
   },
   {
    "duration": 18,
    "start_time": "2022-08-30T18:26:23.696Z"
   },
   {
    "duration": 101,
    "start_time": "2022-08-30T18:26:23.777Z"
   },
   {
    "duration": 20,
    "start_time": "2022-08-30T18:26:23.982Z"
   },
   {
    "duration": 9,
    "start_time": "2022-08-30T18:26:24.359Z"
   },
   {
    "duration": 23,
    "start_time": "2022-08-30T18:26:24.543Z"
   },
   {
    "duration": 54,
    "start_time": "2022-08-30T18:26:24.618Z"
   },
   {
    "duration": 155,
    "start_time": "2022-08-30T18:26:25.072Z"
   },
   {
    "duration": 17,
    "start_time": "2022-08-30T18:26:48.185Z"
   },
   {
    "duration": 7,
    "start_time": "2022-08-30T18:28:55.208Z"
   },
   {
    "duration": 24,
    "start_time": "2022-08-30T18:30:22.600Z"
   },
   {
    "duration": 943,
    "start_time": "2022-08-30T18:30:33.543Z"
   },
   {
    "duration": 1005,
    "start_time": "2022-08-30T18:31:13.773Z"
   },
   {
    "duration": 11,
    "start_time": "2022-08-30T18:31:21.848Z"
   },
   {
    "duration": 17,
    "start_time": "2022-08-30T18:40:19.451Z"
   },
   {
    "duration": 49,
    "start_time": "2022-08-30T18:42:00.319Z"
   },
   {
    "duration": 14,
    "start_time": "2022-08-30T18:42:03.361Z"
   },
   {
    "duration": 17,
    "start_time": "2022-08-30T18:42:11.920Z"
   },
   {
    "duration": 51,
    "start_time": "2022-08-30T18:44:01.534Z"
   },
   {
    "duration": 15,
    "start_time": "2022-08-30T18:44:02.743Z"
   },
   {
    "duration": 15,
    "start_time": "2022-08-30T18:44:07.980Z"
   },
   {
    "duration": 61,
    "start_time": "2022-08-30T18:45:44.677Z"
   },
   {
    "duration": 14,
    "start_time": "2022-08-30T18:45:45.687Z"
   },
   {
    "duration": 8,
    "start_time": "2022-08-30T18:45:51.925Z"
   },
   {
    "duration": 53,
    "start_time": "2022-08-30T18:46:21.549Z"
   },
   {
    "duration": 14,
    "start_time": "2022-08-30T18:46:22.860Z"
   },
   {
    "duration": 54,
    "start_time": "2022-08-30T18:47:39.312Z"
   },
   {
    "duration": 15,
    "start_time": "2022-08-30T18:47:40.763Z"
   },
   {
    "duration": 16,
    "start_time": "2022-08-30T18:57:07.656Z"
   },
   {
    "duration": 22,
    "start_time": "2022-08-30T18:58:35.590Z"
   },
   {
    "duration": 28,
    "start_time": "2022-08-30T18:59:02.705Z"
   },
   {
    "duration": 146,
    "start_time": "2022-08-30T19:00:05.462Z"
   },
   {
    "duration": 17,
    "start_time": "2022-08-30T19:00:06.520Z"
   },
   {
    "duration": 20,
    "start_time": "2022-08-30T19:00:12.163Z"
   },
   {
    "duration": 56,
    "start_time": "2022-08-30T19:01:33.573Z"
   },
   {
    "duration": 15,
    "start_time": "2022-08-30T19:01:34.433Z"
   },
   {
    "duration": 22,
    "start_time": "2022-08-30T19:03:41.668Z"
   },
   {
    "duration": 17,
    "start_time": "2022-08-30T19:04:16.764Z"
   },
   {
    "duration": 28,
    "start_time": "2022-08-30T19:06:53.336Z"
   },
   {
    "duration": 51,
    "start_time": "2022-08-30T19:08:01.744Z"
   },
   {
    "duration": 89,
    "start_time": "2022-08-30T19:08:54.497Z"
   },
   {
    "duration": 11,
    "start_time": "2022-08-30T19:08:54.589Z"
   },
   {
    "duration": 24,
    "start_time": "2022-08-30T19:08:54.787Z"
   },
   {
    "duration": 24,
    "start_time": "2022-08-30T19:08:54.905Z"
   },
   {
    "duration": 16,
    "start_time": "2022-08-30T19:08:54.978Z"
   },
   {
    "duration": 18,
    "start_time": "2022-08-30T19:08:55.170Z"
   },
   {
    "duration": 22,
    "start_time": "2022-08-30T19:08:55.244Z"
   },
   {
    "duration": 22,
    "start_time": "2022-08-30T19:08:55.442Z"
   },
   {
    "duration": 10,
    "start_time": "2022-08-30T19:08:55.509Z"
   },
   {
    "duration": 6,
    "start_time": "2022-08-30T19:08:55.713Z"
   },
   {
    "duration": 6,
    "start_time": "2022-08-30T19:08:55.794Z"
   },
   {
    "duration": 18,
    "start_time": "2022-08-30T19:08:56.324Z"
   },
   {
    "duration": 54,
    "start_time": "2022-08-30T19:08:56.523Z"
   },
   {
    "duration": 9,
    "start_time": "2022-08-30T19:08:56.583Z"
   },
   {
    "duration": 16,
    "start_time": "2022-08-30T19:08:57.008Z"
   },
   {
    "duration": 49,
    "start_time": "2022-08-30T19:08:57.243Z"
   },
   {
    "duration": 8,
    "start_time": "2022-08-30T19:08:57.318Z"
   },
   {
    "duration": 16,
    "start_time": "2022-08-30T19:08:57.809Z"
   },
   {
    "duration": 9,
    "start_time": "2022-08-30T19:08:57.876Z"
   },
   {
    "duration": 17,
    "start_time": "2022-08-30T19:08:58.372Z"
   },
   {
    "duration": 88,
    "start_time": "2022-08-30T19:08:58.442Z"
   },
   {
    "duration": 19,
    "start_time": "2022-08-30T19:08:58.655Z"
   },
   {
    "duration": 103,
    "start_time": "2022-08-30T19:08:58.743Z"
   },
   {
    "duration": 19,
    "start_time": "2022-08-30T19:08:58.949Z"
   },
   {
    "duration": 93,
    "start_time": "2022-08-30T19:08:59.138Z"
   },
   {
    "duration": 21,
    "start_time": "2022-08-30T19:08:59.395Z"
   },
   {
    "duration": 9,
    "start_time": "2022-08-30T19:08:59.798Z"
   },
   {
    "duration": 16,
    "start_time": "2022-08-30T19:09:00.017Z"
   },
   {
    "duration": 43,
    "start_time": "2022-08-30T19:09:00.103Z"
   },
   {
    "duration": 60,
    "start_time": "2022-08-30T19:09:00.647Z"
   },
   {
    "duration": 16,
    "start_time": "2022-08-30T19:09:00.709Z"
   },
   {
    "duration": 23,
    "start_time": "2022-08-30T19:09:00.951Z"
   },
   {
    "duration": 43,
    "start_time": "2022-08-30T19:09:01.179Z"
   },
   {
    "duration": 83,
    "start_time": "2022-08-30T19:09:39.117Z"
   },
   {
    "duration": 10,
    "start_time": "2022-08-30T19:09:39.226Z"
   },
   {
    "duration": 25,
    "start_time": "2022-08-30T19:09:39.453Z"
   },
   {
    "duration": 25,
    "start_time": "2022-08-30T19:09:39.537Z"
   },
   {
    "duration": 19,
    "start_time": "2022-08-30T19:09:39.802Z"
   },
   {
    "duration": 17,
    "start_time": "2022-08-30T19:09:39.883Z"
   },
   {
    "duration": 19,
    "start_time": "2022-08-30T19:09:40.132Z"
   },
   {
    "duration": 19,
    "start_time": "2022-08-30T19:09:40.217Z"
   },
   {
    "duration": 9,
    "start_time": "2022-08-30T19:09:40.449Z"
   },
   {
    "duration": 5,
    "start_time": "2022-08-30T19:09:40.516Z"
   },
   {
    "duration": 8,
    "start_time": "2022-08-30T19:09:40.749Z"
   },
   {
    "duration": 19,
    "start_time": "2022-08-30T19:09:41.339Z"
   },
   {
    "duration": 47,
    "start_time": "2022-08-30T19:09:41.596Z"
   },
   {
    "duration": 9,
    "start_time": "2022-08-30T19:09:41.654Z"
   },
   {
    "duration": 16,
    "start_time": "2022-08-30T19:09:42.180Z"
   },
   {
    "duration": 42,
    "start_time": "2022-08-30T19:09:43.392Z"
   },
   {
    "duration": 9,
    "start_time": "2022-08-30T19:09:44.132Z"
   },
   {
    "duration": 16,
    "start_time": "2022-08-30T19:09:45.104Z"
   },
   {
    "duration": 8,
    "start_time": "2022-08-30T19:09:46.714Z"
   },
   {
    "duration": 17,
    "start_time": "2022-08-30T19:09:47.097Z"
   },
   {
    "duration": 90,
    "start_time": "2022-08-30T19:09:47.340Z"
   },
   {
    "duration": 17,
    "start_time": "2022-08-30T19:09:47.442Z"
   },
   {
    "duration": 103,
    "start_time": "2022-08-30T19:09:47.662Z"
   },
   {
    "duration": 16,
    "start_time": "2022-08-30T19:09:47.847Z"
   },
   {
    "duration": 100,
    "start_time": "2022-08-30T19:09:49.008Z"
   },
   {
    "duration": 20,
    "start_time": "2022-08-30T19:09:49.803Z"
   },
   {
    "duration": 9,
    "start_time": "2022-08-30T19:09:50.177Z"
   },
   {
    "duration": 17,
    "start_time": "2022-08-30T19:09:50.405Z"
   },
   {
    "duration": 43,
    "start_time": "2022-08-30T19:09:50.489Z"
   },
   {
    "duration": 161,
    "start_time": "2022-08-30T19:09:51.464Z"
   },
   {
    "duration": 17,
    "start_time": "2022-08-30T19:09:52.045Z"
   },
   {
    "duration": 25,
    "start_time": "2022-08-30T19:09:52.318Z"
   },
   {
    "duration": 54,
    "start_time": "2022-08-30T19:09:52.389Z"
   },
   {
    "duration": 1526,
    "start_time": "2022-08-31T09:05:51.907Z"
   },
   {
    "duration": 12,
    "start_time": "2022-08-31T09:05:53.435Z"
   },
   {
    "duration": 22,
    "start_time": "2022-08-31T09:05:53.449Z"
   },
   {
    "duration": 29,
    "start_time": "2022-08-31T09:05:53.474Z"
   },
   {
    "duration": 14,
    "start_time": "2022-08-31T09:05:53.504Z"
   },
   {
    "duration": 13,
    "start_time": "2022-08-31T09:05:53.519Z"
   },
   {
    "duration": 14,
    "start_time": "2022-08-31T09:05:53.533Z"
   },
   {
    "duration": 12,
    "start_time": "2022-08-31T09:05:53.548Z"
   },
   {
    "duration": 7,
    "start_time": "2022-08-31T09:05:53.561Z"
   },
   {
    "duration": 5,
    "start_time": "2022-08-31T09:05:53.598Z"
   },
   {
    "duration": 5,
    "start_time": "2022-08-31T09:05:53.686Z"
   },
   {
    "duration": 20,
    "start_time": "2022-08-31T09:05:54.298Z"
   },
   {
    "duration": 380,
    "start_time": "2022-08-31T09:05:54.526Z"
   },
   {
    "duration": 13,
    "start_time": "2022-08-31T09:05:54.909Z"
   },
   {
    "duration": 17,
    "start_time": "2022-08-31T09:05:55.876Z"
   },
   {
    "duration": 40,
    "start_time": "2022-08-31T09:05:57.070Z"
   },
   {
    "duration": 9,
    "start_time": "2022-08-31T09:05:58.125Z"
   },
   {
    "duration": 14,
    "start_time": "2022-08-31T09:05:58.532Z"
   },
   {
    "duration": 9,
    "start_time": "2022-08-31T09:05:58.745Z"
   },
   {
    "duration": 17,
    "start_time": "2022-08-31T09:05:59.143Z"
   },
   {
    "duration": 96,
    "start_time": "2022-08-31T09:05:59.378Z"
   },
   {
    "duration": 17,
    "start_time": "2022-08-31T09:05:59.714Z"
   },
   {
    "duration": 153,
    "start_time": "2022-08-31T09:05:59.793Z"
   },
   {
    "duration": 15,
    "start_time": "2022-08-31T09:06:00.005Z"
   },
   {
    "duration": 98,
    "start_time": "2022-08-31T09:06:00.100Z"
   },
   {
    "duration": 17,
    "start_time": "2022-08-31T09:06:00.325Z"
   },
   {
    "duration": 10,
    "start_time": "2022-08-31T09:06:00.718Z"
   },
   {
    "duration": 18,
    "start_time": "2022-08-31T09:06:00.930Z"
   },
   {
    "duration": 52,
    "start_time": "2022-08-31T09:06:01.051Z"
   },
   {
    "duration": 51,
    "start_time": "2022-08-31T09:06:01.540Z"
   },
   {
    "duration": 13,
    "start_time": "2022-08-31T09:06:01.724Z"
   },
   {
    "duration": 20,
    "start_time": "2022-08-31T09:06:02.171Z"
   },
   {
    "duration": 55,
    "start_time": "2022-08-31T09:06:02.377Z"
   },
   {
    "duration": 158,
    "start_time": "2022-08-31T09:28:50.957Z"
   },
   {
    "duration": 158,
    "start_time": "2022-08-31T09:29:07.941Z"
   },
   {
    "duration": 15,
    "start_time": "2022-08-31T09:29:12.537Z"
   },
   {
    "duration": 24,
    "start_time": "2022-08-31T09:29:28.559Z"
   },
   {
    "duration": 42,
    "start_time": "2022-08-31T09:29:30.849Z"
   },
   {
    "duration": 233,
    "start_time": "2022-08-31T09:30:56.073Z"
   },
   {
    "duration": 8,
    "start_time": "2022-08-31T09:30:56.308Z"
   },
   {
    "duration": 20,
    "start_time": "2022-08-31T09:30:56.338Z"
   },
   {
    "duration": 20,
    "start_time": "2022-08-31T09:30:56.522Z"
   },
   {
    "duration": 15,
    "start_time": "2022-08-31T09:30:56.606Z"
   },
   {
    "duration": 16,
    "start_time": "2022-08-31T09:30:56.790Z"
   },
   {
    "duration": 14,
    "start_time": "2022-08-31T09:30:56.864Z"
   },
   {
    "duration": 12,
    "start_time": "2022-08-31T09:30:57.060Z"
   },
   {
    "duration": 9,
    "start_time": "2022-08-31T09:30:57.131Z"
   },
   {
    "duration": 6,
    "start_time": "2022-08-31T09:30:57.310Z"
   },
   {
    "duration": 6,
    "start_time": "2022-08-31T09:30:57.388Z"
   },
   {
    "duration": 16,
    "start_time": "2022-08-31T09:30:57.908Z"
   },
   {
    "duration": 43,
    "start_time": "2022-08-31T09:30:58.093Z"
   },
   {
    "duration": 8,
    "start_time": "2022-08-31T09:30:58.173Z"
   },
   {
    "duration": 15,
    "start_time": "2022-08-31T09:30:58.660Z"
   },
   {
    "duration": 39,
    "start_time": "2022-08-31T09:30:58.889Z"
   },
   {
    "duration": 9,
    "start_time": "2022-08-31T09:30:58.979Z"
   },
   {
    "duration": 16,
    "start_time": "2022-08-31T09:30:59.381Z"
   },
   {
    "duration": 9,
    "start_time": "2022-08-31T09:30:59.472Z"
   },
   {
    "duration": 16,
    "start_time": "2022-08-31T09:31:00.294Z"
   },
   {
    "duration": 85,
    "start_time": "2022-08-31T09:31:00.394Z"
   },
   {
    "duration": 16,
    "start_time": "2022-08-31T09:31:00.626Z"
   },
   {
    "duration": 101,
    "start_time": "2022-08-31T09:31:00.893Z"
   },
   {
    "duration": 16,
    "start_time": "2022-08-31T09:31:01.075Z"
   },
   {
    "duration": 92,
    "start_time": "2022-08-31T09:31:01.577Z"
   },
   {
    "duration": 63,
    "start_time": "2022-08-31T09:31:01.672Z"
   },
   {
    "duration": 8,
    "start_time": "2022-08-31T09:31:02.433Z"
   },
   {
    "duration": 13,
    "start_time": "2022-08-31T09:31:02.505Z"
   },
   {
    "duration": 42,
    "start_time": "2022-08-31T09:31:02.697Z"
   },
   {
    "duration": 111,
    "start_time": "2022-08-31T09:31:05.702Z"
   },
   {
    "duration": 12,
    "start_time": "2022-08-31T09:31:07.472Z"
   },
   {
    "duration": 28,
    "start_time": "2022-08-31T09:31:59.892Z"
   },
   {
    "duration": 111,
    "start_time": "2022-08-31T09:32:06.764Z"
   },
   {
    "duration": 12,
    "start_time": "2022-08-31T09:32:08.154Z"
   },
   {
    "duration": 16,
    "start_time": "2022-08-31T09:32:10.053Z"
   },
   {
    "duration": 40,
    "start_time": "2022-08-31T09:32:11.166Z"
   },
   {
    "duration": 1540,
    "start_time": "2022-08-31T19:09:43.511Z"
   },
   {
    "duration": 12,
    "start_time": "2022-08-31T19:09:45.053Z"
   },
   {
    "duration": 33,
    "start_time": "2022-08-31T19:09:45.067Z"
   },
   {
    "duration": 23,
    "start_time": "2022-08-31T19:09:45.102Z"
   },
   {
    "duration": 15,
    "start_time": "2022-08-31T19:09:45.127Z"
   },
   {
    "duration": 15,
    "start_time": "2022-08-31T19:09:45.143Z"
   },
   {
    "duration": 33,
    "start_time": "2022-08-31T19:09:45.160Z"
   },
   {
    "duration": 15,
    "start_time": "2022-08-31T19:09:45.195Z"
   },
   {
    "duration": 7,
    "start_time": "2022-08-31T19:09:45.212Z"
   },
   {
    "duration": 6,
    "start_time": "2022-08-31T19:09:45.222Z"
   },
   {
    "duration": 11,
    "start_time": "2022-08-31T19:09:45.230Z"
   },
   {
    "duration": 19,
    "start_time": "2022-08-31T19:09:45.629Z"
   },
   {
    "duration": 1535,
    "start_time": "2022-08-31T19:09:45.828Z"
   },
   {
    "duration": 16,
    "start_time": "2022-08-31T19:09:47.366Z"
   },
   {
    "duration": 24,
    "start_time": "2022-08-31T19:09:47.383Z"
   },
   {
    "duration": 106,
    "start_time": "2022-08-31T19:09:47.409Z"
   },
   {
    "duration": 11,
    "start_time": "2022-08-31T19:09:47.517Z"
   },
   {
    "duration": 18,
    "start_time": "2022-08-31T19:09:47.529Z"
   },
   {
    "duration": 48,
    "start_time": "2022-08-31T19:09:47.550Z"
   },
   {
    "duration": 19,
    "start_time": "2022-08-31T19:09:48.232Z"
   },
   {
    "duration": 107,
    "start_time": "2022-08-31T19:09:48.255Z"
   },
   {
    "duration": 19,
    "start_time": "2022-08-31T19:09:48.496Z"
   },
   {
    "duration": 194,
    "start_time": "2022-08-31T19:09:48.519Z"
   },
   {
    "duration": 19,
    "start_time": "2022-08-31T19:09:48.754Z"
   },
   {
    "duration": 107,
    "start_time": "2022-08-31T19:09:48.966Z"
   },
   {
    "duration": 21,
    "start_time": "2022-08-31T19:09:49.339Z"
   },
   {
    "duration": 9,
    "start_time": "2022-08-31T19:09:49.746Z"
   },
   {
    "duration": 17,
    "start_time": "2022-08-31T19:09:49.935Z"
   },
   {
    "duration": 52,
    "start_time": "2022-08-31T19:09:50.029Z"
   },
   {
    "duration": 111,
    "start_time": "2022-08-31T19:09:50.513Z"
   },
   {
    "duration": 13,
    "start_time": "2022-08-31T19:09:50.626Z"
   },
   {
    "duration": 22,
    "start_time": "2022-08-31T19:09:50.985Z"
   },
   {
    "duration": 45,
    "start_time": "2022-08-31T19:09:51.212Z"
   },
   {
    "duration": 1360,
    "start_time": "2022-08-31T19:14:15.168Z"
   },
   {
    "duration": 936,
    "start_time": "2022-08-31T19:37:10.180Z"
   },
   {
    "duration": 1167,
    "start_time": "2022-08-31T19:41:37.364Z"
   },
   {
    "duration": 21,
    "start_time": "2022-08-31T19:42:02.946Z"
   },
   {
    "duration": 171,
    "start_time": "2022-08-31T19:53:07.502Z"
   },
   {
    "duration": 30,
    "start_time": "2022-08-31T19:54:53.470Z"
   },
   {
    "duration": 25,
    "start_time": "2022-08-31T19:56:11.684Z"
   },
   {
    "duration": 167,
    "start_time": "2022-08-31T19:56:30.183Z"
   },
   {
    "duration": 25,
    "start_time": "2022-08-31T19:57:47.648Z"
   },
   {
    "duration": 23,
    "start_time": "2022-08-31T19:58:41.819Z"
   },
   {
    "duration": 24,
    "start_time": "2022-08-31T19:59:58.792Z"
   },
   {
    "duration": 20,
    "start_time": "2022-08-31T20:00:11.686Z"
   },
   {
    "duration": 33,
    "start_time": "2022-08-31T20:00:20.683Z"
   },
   {
    "duration": 21,
    "start_time": "2022-08-31T20:00:38.094Z"
   },
   {
    "duration": 20,
    "start_time": "2022-08-31T20:00:59.536Z"
   },
   {
    "duration": 21,
    "start_time": "2022-08-31T20:01:29.204Z"
   },
   {
    "duration": 81,
    "start_time": "2022-08-31T20:03:32.613Z"
   },
   {
    "duration": 10,
    "start_time": "2022-08-31T20:03:32.696Z"
   },
   {
    "duration": 40,
    "start_time": "2022-08-31T20:03:32.848Z"
   },
   {
    "duration": 24,
    "start_time": "2022-08-31T20:03:32.907Z"
   },
   {
    "duration": 17,
    "start_time": "2022-08-31T20:03:33.079Z"
   },
   {
    "duration": 17,
    "start_time": "2022-08-31T20:03:33.148Z"
   },
   {
    "duration": 16,
    "start_time": "2022-08-31T20:03:33.306Z"
   },
   {
    "duration": 18,
    "start_time": "2022-08-31T20:03:33.369Z"
   },
   {
    "duration": 11,
    "start_time": "2022-08-31T20:03:33.539Z"
   },
   {
    "duration": 6,
    "start_time": "2022-08-31T20:03:33.599Z"
   },
   {
    "duration": 8,
    "start_time": "2022-08-31T20:03:33.785Z"
   },
   {
    "duration": 28,
    "start_time": "2022-08-31T20:03:34.196Z"
   },
   {
    "duration": 68,
    "start_time": "2022-08-31T20:03:34.379Z"
   },
   {
    "duration": 11,
    "start_time": "2022-08-31T20:03:34.468Z"
   },
   {
    "duration": 19,
    "start_time": "2022-08-31T20:03:34.871Z"
   },
   {
    "duration": 49,
    "start_time": "2022-08-31T20:03:34.964Z"
   },
   {
    "duration": 11,
    "start_time": "2022-08-31T20:03:35.163Z"
   },
   {
    "duration": 18,
    "start_time": "2022-08-31T20:03:35.489Z"
   },
   {
    "duration": 12,
    "start_time": "2022-08-31T20:03:35.688Z"
   },
   {
    "duration": 20,
    "start_time": "2022-08-31T20:03:36.077Z"
   },
   {
    "duration": 104,
    "start_time": "2022-08-31T20:03:36.320Z"
   },
   {
    "duration": 20,
    "start_time": "2022-08-31T20:03:36.437Z"
   },
   {
    "duration": 128,
    "start_time": "2022-08-31T20:03:36.709Z"
   },
   {
    "duration": 24,
    "start_time": "2022-08-31T20:03:36.840Z"
   },
   {
    "duration": 114,
    "start_time": "2022-08-31T20:03:37.077Z"
   },
   {
    "duration": 22,
    "start_time": "2022-08-31T20:03:37.193Z"
   },
   {
    "duration": 13,
    "start_time": "2022-08-31T20:03:37.564Z"
   },
   {
    "duration": 18,
    "start_time": "2022-08-31T20:03:37.798Z"
   },
   {
    "duration": 49,
    "start_time": "2022-08-31T20:03:38.342Z"
   },
   {
    "duration": 128,
    "start_time": "2022-08-31T20:03:39.402Z"
   },
   {
    "duration": 17,
    "start_time": "2022-08-31T20:03:39.587Z"
   },
   {
    "duration": 1113,
    "start_time": "2022-08-31T20:03:42.631Z"
   },
   {
    "duration": 25,
    "start_time": "2022-08-31T20:03:43.829Z"
   },
   {
    "duration": 65,
    "start_time": "2022-08-31T20:03:44.815Z"
   },
   {
    "duration": 20,
    "start_time": "2022-08-31T20:03:46.396Z"
   },
   {
    "duration": 21,
    "start_time": "2022-08-31T20:26:03.327Z"
   },
   {
    "duration": 22,
    "start_time": "2022-08-31T20:26:47.534Z"
   },
   {
    "duration": 18,
    "start_time": "2022-08-31T20:30:30.091Z"
   },
   {
    "duration": 19,
    "start_time": "2022-08-31T20:34:01.503Z"
   },
   {
    "duration": 17,
    "start_time": "2022-08-31T20:37:57.040Z"
   },
   {
    "duration": 16,
    "start_time": "2022-08-31T20:38:18.889Z"
   },
   {
    "duration": 18,
    "start_time": "2022-08-31T20:38:45.379Z"
   },
   {
    "duration": 16,
    "start_time": "2022-08-31T20:39:13.270Z"
   },
   {
    "duration": 77,
    "start_time": "2022-08-31T20:39:30.974Z"
   },
   {
    "duration": 9,
    "start_time": "2022-08-31T20:39:31.058Z"
   },
   {
    "duration": 25,
    "start_time": "2022-08-31T20:39:31.224Z"
   },
   {
    "duration": 21,
    "start_time": "2022-08-31T20:39:31.313Z"
   },
   {
    "duration": 16,
    "start_time": "2022-08-31T20:39:31.498Z"
   },
   {
    "duration": 14,
    "start_time": "2022-08-31T20:39:31.571Z"
   },
   {
    "duration": 17,
    "start_time": "2022-08-31T20:39:31.759Z"
   },
   {
    "duration": 19,
    "start_time": "2022-08-31T20:39:31.837Z"
   },
   {
    "duration": 9,
    "start_time": "2022-08-31T20:39:32.011Z"
   },
   {
    "duration": 5,
    "start_time": "2022-08-31T20:39:32.097Z"
   },
   {
    "duration": 6,
    "start_time": "2022-08-31T20:39:32.269Z"
   },
   {
    "duration": 18,
    "start_time": "2022-08-31T20:39:32.777Z"
   },
   {
    "duration": 52,
    "start_time": "2022-08-31T20:39:32.882Z"
   },
   {
    "duration": 10,
    "start_time": "2022-08-31T20:39:33.041Z"
   },
   {
    "duration": 17,
    "start_time": "2022-08-31T20:39:33.373Z"
   },
   {
    "duration": 45,
    "start_time": "2022-08-31T20:39:33.563Z"
   },
   {
    "duration": 9,
    "start_time": "2022-08-31T20:39:33.645Z"
   },
   {
    "duration": 16,
    "start_time": "2022-08-31T20:39:34.086Z"
   },
   {
    "duration": 10,
    "start_time": "2022-08-31T20:39:34.167Z"
   },
   {
    "duration": 20,
    "start_time": "2022-08-31T20:39:34.615Z"
   },
   {
    "duration": 101,
    "start_time": "2022-08-31T20:39:34.704Z"
   },
   {
    "duration": 19,
    "start_time": "2022-08-31T20:39:34.880Z"
   },
   {
    "duration": 108,
    "start_time": "2022-08-31T20:39:34.977Z"
   },
   {
    "duration": 19,
    "start_time": "2022-08-31T20:39:35.159Z"
   },
   {
    "duration": 106,
    "start_time": "2022-08-31T20:39:35.244Z"
   },
   {
    "duration": 22,
    "start_time": "2022-08-31T20:39:35.432Z"
   },
   {
    "duration": 9,
    "start_time": "2022-08-31T20:39:35.800Z"
   },
   {
    "duration": 19,
    "start_time": "2022-08-31T20:39:35.977Z"
   },
   {
    "duration": 43,
    "start_time": "2022-08-31T20:39:36.075Z"
   },
   {
    "duration": 113,
    "start_time": "2022-08-31T20:39:36.559Z"
   },
   {
    "duration": 25,
    "start_time": "2022-08-31T20:39:36.673Z"
   },
   {
    "duration": 1896,
    "start_time": "2022-08-31T20:39:37.243Z"
   },
   {
    "duration": 22,
    "start_time": "2022-08-31T20:39:39.141Z"
   },
   {
    "duration": 45,
    "start_time": "2022-08-31T20:39:39.164Z"
   },
   {
    "duration": 18,
    "start_time": "2022-08-31T20:39:39.211Z"
   },
   {
    "duration": 24,
    "start_time": "2022-08-31T20:39:39.382Z"
   },
   {
    "duration": 20,
    "start_time": "2022-08-31T20:39:39.595Z"
   },
   {
    "duration": 16,
    "start_time": "2022-08-31T20:39:40.611Z"
   },
   {
    "duration": 47,
    "start_time": "2022-08-31T20:42:31.093Z"
   },
   {
    "duration": 1462,
    "start_time": "2022-09-01T14:46:22.638Z"
   },
   {
    "duration": 11,
    "start_time": "2022-09-01T14:46:24.102Z"
   },
   {
    "duration": 18,
    "start_time": "2022-09-01T14:46:24.115Z"
   },
   {
    "duration": 20,
    "start_time": "2022-09-01T14:46:24.135Z"
   },
   {
    "duration": 12,
    "start_time": "2022-09-01T14:46:24.157Z"
   },
   {
    "duration": 12,
    "start_time": "2022-09-01T14:46:24.170Z"
   },
   {
    "duration": 13,
    "start_time": "2022-09-01T14:46:24.183Z"
   },
   {
    "duration": 12,
    "start_time": "2022-09-01T14:46:24.198Z"
   },
   {
    "duration": 7,
    "start_time": "2022-09-01T14:46:24.211Z"
   },
   {
    "duration": 37,
    "start_time": "2022-09-01T14:46:24.220Z"
   },
   {
    "duration": 6,
    "start_time": "2022-09-01T14:46:24.291Z"
   },
   {
    "duration": 17,
    "start_time": "2022-09-01T14:46:24.866Z"
   },
   {
    "duration": 327,
    "start_time": "2022-09-01T14:46:25.025Z"
   },
   {
    "duration": 12,
    "start_time": "2022-09-01T14:46:25.355Z"
   },
   {
    "duration": 15,
    "start_time": "2022-09-01T14:46:25.644Z"
   },
   {
    "duration": 37,
    "start_time": "2022-09-01T14:46:25.804Z"
   },
   {
    "duration": 9,
    "start_time": "2022-09-01T14:46:25.983Z"
   },
   {
    "duration": 19,
    "start_time": "2022-09-01T14:46:26.497Z"
   },
   {
    "duration": 11,
    "start_time": "2022-09-01T14:46:26.671Z"
   },
   {
    "duration": 18,
    "start_time": "2022-09-01T14:46:28.059Z"
   },
   {
    "duration": 109,
    "start_time": "2022-09-01T14:46:28.223Z"
   },
   {
    "duration": 15,
    "start_time": "2022-09-01T14:46:28.403Z"
   },
   {
    "duration": 158,
    "start_time": "2022-09-01T14:46:28.587Z"
   },
   {
    "duration": 20,
    "start_time": "2022-09-01T14:46:28.747Z"
   },
   {
    "duration": 89,
    "start_time": "2022-09-01T14:46:28.917Z"
   },
   {
    "duration": 18,
    "start_time": "2022-09-01T14:46:29.077Z"
   },
   {
    "duration": 9,
    "start_time": "2022-09-01T14:46:29.829Z"
   },
   {
    "duration": 15,
    "start_time": "2022-09-01T14:46:29.979Z"
   },
   {
    "duration": 41,
    "start_time": "2022-09-01T14:46:30.119Z"
   },
   {
    "duration": 107,
    "start_time": "2022-09-01T14:46:30.687Z"
   },
   {
    "duration": 12,
    "start_time": "2022-09-01T14:46:30.846Z"
   },
   {
    "duration": 1254,
    "start_time": "2022-09-01T14:46:31.176Z"
   },
   {
    "duration": 19,
    "start_time": "2022-09-01T14:46:32.432Z"
   },
   {
    "duration": 41,
    "start_time": "2022-09-01T14:46:32.452Z"
   },
   {
    "duration": 15,
    "start_time": "2022-09-01T14:46:32.495Z"
   },
   {
    "duration": 19,
    "start_time": "2022-09-01T14:46:32.817Z"
   },
   {
    "duration": 15,
    "start_time": "2022-09-01T14:46:32.921Z"
   },
   {
    "duration": 15,
    "start_time": "2022-09-01T14:46:33.161Z"
   },
   {
    "duration": 45,
    "start_time": "2022-09-01T14:46:33.661Z"
   },
   {
    "duration": 144,
    "start_time": "2022-09-01T14:49:08.683Z"
   },
   {
    "duration": 14,
    "start_time": "2022-09-01T14:49:45.665Z"
   },
   {
    "duration": 14,
    "start_time": "2022-09-01T14:50:08.977Z"
   },
   {
    "duration": 42,
    "start_time": "2022-09-01T14:50:10.589Z"
   },
   {
    "duration": 73,
    "start_time": "2022-09-01T14:50:21.285Z"
   },
   {
    "duration": 8,
    "start_time": "2022-09-01T14:50:21.684Z"
   },
   {
    "duration": 19,
    "start_time": "2022-09-01T14:50:21.835Z"
   },
   {
    "duration": 18,
    "start_time": "2022-09-01T14:50:21.989Z"
   },
   {
    "duration": 14,
    "start_time": "2022-09-01T14:50:22.162Z"
   },
   {
    "duration": 14,
    "start_time": "2022-09-01T14:50:22.308Z"
   },
   {
    "duration": 14,
    "start_time": "2022-09-01T14:50:22.470Z"
   },
   {
    "duration": 12,
    "start_time": "2022-09-01T14:50:22.615Z"
   },
   {
    "duration": 8,
    "start_time": "2022-09-01T14:50:22.770Z"
   },
   {
    "duration": 5,
    "start_time": "2022-09-01T14:50:22.909Z"
   },
   {
    "duration": 5,
    "start_time": "2022-09-01T14:50:23.050Z"
   },
   {
    "duration": 16,
    "start_time": "2022-09-01T14:50:26.215Z"
   },
   {
    "duration": 42,
    "start_time": "2022-09-01T14:50:26.372Z"
   },
   {
    "duration": 8,
    "start_time": "2022-09-01T14:50:26.510Z"
   },
   {
    "duration": 71,
    "start_time": "2022-09-01T14:50:35.523Z"
   },
   {
    "duration": 8,
    "start_time": "2022-09-01T14:50:35.728Z"
   },
   {
    "duration": 21,
    "start_time": "2022-09-01T14:50:35.806Z"
   },
   {
    "duration": 20,
    "start_time": "2022-09-01T14:50:36.047Z"
   },
   {
    "duration": 14,
    "start_time": "2022-09-01T14:50:36.175Z"
   },
   {
    "duration": 13,
    "start_time": "2022-09-01T14:50:36.363Z"
   },
   {
    "duration": 13,
    "start_time": "2022-09-01T14:50:36.472Z"
   },
   {
    "duration": 13,
    "start_time": "2022-09-01T14:50:36.687Z"
   },
   {
    "duration": 8,
    "start_time": "2022-09-01T14:50:36.810Z"
   },
   {
    "duration": 4,
    "start_time": "2022-09-01T14:50:37.079Z"
   },
   {
    "duration": 5,
    "start_time": "2022-09-01T14:50:37.201Z"
   },
   {
    "duration": 20,
    "start_time": "2022-09-01T14:50:37.869Z"
   },
   {
    "duration": 44,
    "start_time": "2022-09-01T14:50:38.057Z"
   },
   {
    "duration": 10,
    "start_time": "2022-09-01T14:50:38.170Z"
   },
   {
    "duration": 16,
    "start_time": "2022-09-01T14:50:38.629Z"
   },
   {
    "duration": 42,
    "start_time": "2022-09-01T14:50:38.729Z"
   },
   {
    "duration": 8,
    "start_time": "2022-09-01T14:50:38.883Z"
   },
   {
    "duration": 15,
    "start_time": "2022-09-01T14:50:39.443Z"
   },
   {
    "duration": 11,
    "start_time": "2022-09-01T14:50:39.625Z"
   },
   {
    "duration": 17,
    "start_time": "2022-09-01T14:50:40.501Z"
   },
   {
    "duration": 83,
    "start_time": "2022-09-01T14:50:40.705Z"
   },
   {
    "duration": 16,
    "start_time": "2022-09-01T14:50:41.437Z"
   },
   {
    "duration": 88,
    "start_time": "2022-09-01T14:50:41.526Z"
   },
   {
    "duration": 16,
    "start_time": "2022-09-01T14:50:41.751Z"
   },
   {
    "duration": 85,
    "start_time": "2022-09-01T14:50:42.303Z"
   },
   {
    "duration": 18,
    "start_time": "2022-09-01T14:50:42.435Z"
   },
   {
    "duration": 8,
    "start_time": "2022-09-01T14:50:43.415Z"
   },
   {
    "duration": 15,
    "start_time": "2022-09-01T14:50:43.482Z"
   },
   {
    "duration": 39,
    "start_time": "2022-09-01T14:50:43.727Z"
   },
   {
    "duration": 101,
    "start_time": "2022-09-01T14:50:47.143Z"
   },
   {
    "duration": 13,
    "start_time": "2022-09-01T14:50:48.001Z"
   },
   {
    "duration": 986,
    "start_time": "2022-09-01T14:50:49.811Z"
   },
   {
    "duration": 19,
    "start_time": "2022-09-01T14:50:52.994Z"
   },
   {
    "duration": 41,
    "start_time": "2022-09-01T14:50:54.038Z"
   },
   {
    "duration": 17,
    "start_time": "2022-09-01T14:50:55.288Z"
   },
   {
    "duration": 17,
    "start_time": "2022-09-01T14:51:00.229Z"
   },
   {
    "duration": 14,
    "start_time": "2022-09-01T14:51:17.066Z"
   },
   {
    "duration": 15,
    "start_time": "2022-09-01T14:51:20.169Z"
   },
   {
    "duration": 52,
    "start_time": "2022-09-01T14:51:23.387Z"
   },
   {
    "duration": 15,
    "start_time": "2022-09-01T14:53:56.937Z"
   },
   {
    "duration": 15,
    "start_time": "2022-09-01T14:55:04.200Z"
   },
   {
    "duration": 21,
    "start_time": "2022-09-01T15:05:53.372Z"
   },
   {
    "duration": 191,
    "start_time": "2022-09-01T15:07:30.642Z"
   },
   {
    "duration": 218,
    "start_time": "2022-09-01T15:09:08.414Z"
   },
   {
    "duration": 91,
    "start_time": "2022-09-01T15:10:49.854Z"
   },
   {
    "duration": 10,
    "start_time": "2022-09-01T15:10:50.292Z"
   },
   {
    "duration": 22,
    "start_time": "2022-09-01T15:10:50.598Z"
   },
   {
    "duration": 20,
    "start_time": "2022-09-01T15:10:50.703Z"
   },
   {
    "duration": 17,
    "start_time": "2022-09-01T15:10:50.927Z"
   },
   {
    "duration": 15,
    "start_time": "2022-09-01T15:10:50.992Z"
   },
   {
    "duration": 15,
    "start_time": "2022-09-01T15:10:51.198Z"
   },
   {
    "duration": 19,
    "start_time": "2022-09-01T15:10:51.309Z"
   },
   {
    "duration": 9,
    "start_time": "2022-09-01T15:10:51.589Z"
   },
   {
    "duration": 6,
    "start_time": "2022-09-01T15:10:51.662Z"
   },
   {
    "duration": 6,
    "start_time": "2022-09-01T15:10:51.881Z"
   },
   {
    "duration": 19,
    "start_time": "2022-09-01T15:10:52.542Z"
   },
   {
    "duration": 146,
    "start_time": "2022-09-01T15:10:52.658Z"
   },
   {
    "duration": 9,
    "start_time": "2022-09-01T15:10:52.806Z"
   },
   {
    "duration": 20,
    "start_time": "2022-09-01T15:10:53.338Z"
   },
   {
    "duration": 57,
    "start_time": "2022-09-01T15:10:53.437Z"
   },
   {
    "duration": 9,
    "start_time": "2022-09-01T15:10:53.645Z"
   },
   {
    "duration": 22,
    "start_time": "2022-09-01T15:10:54.035Z"
   },
   {
    "duration": 10,
    "start_time": "2022-09-01T15:10:54.263Z"
   },
   {
    "duration": 22,
    "start_time": "2022-09-01T15:10:54.720Z"
   },
   {
    "duration": 125,
    "start_time": "2022-09-01T15:10:54.941Z"
   },
   {
    "duration": 18,
    "start_time": "2022-09-01T15:10:55.069Z"
   },
   {
    "duration": 118,
    "start_time": "2022-09-01T15:10:55.286Z"
   },
   {
    "duration": 19,
    "start_time": "2022-09-01T15:10:55.406Z"
   },
   {
    "duration": 100,
    "start_time": "2022-09-01T15:10:55.623Z"
   },
   {
    "duration": 28,
    "start_time": "2022-09-01T15:10:55.731Z"
   },
   {
    "duration": 21,
    "start_time": "2022-09-01T15:10:55.955Z"
   },
   {
    "duration": 222,
    "start_time": "2022-09-01T15:10:56.070Z"
   },
   {
    "duration": 9,
    "start_time": "2022-09-01T15:10:56.679Z"
   },
   {
    "duration": 15,
    "start_time": "2022-09-01T15:10:56.905Z"
   },
   {
    "duration": 41,
    "start_time": "2022-09-01T15:10:57.008Z"
   },
   {
    "duration": 121,
    "start_time": "2022-09-01T15:10:57.552Z"
   },
   {
    "duration": 16,
    "start_time": "2022-09-01T15:10:57.674Z"
   },
   {
    "duration": 1194,
    "start_time": "2022-09-01T15:10:57.988Z"
   },
   {
    "duration": 19,
    "start_time": "2022-09-01T15:10:59.184Z"
   },
   {
    "duration": 64,
    "start_time": "2022-09-01T15:10:59.205Z"
   },
   {
    "duration": 27,
    "start_time": "2022-09-01T15:10:59.271Z"
   },
   {
    "duration": 22,
    "start_time": "2022-09-01T15:10:59.300Z"
   },
   {
    "duration": 51,
    "start_time": "2022-09-01T15:10:59.324Z"
   },
   {
    "duration": 21,
    "start_time": "2022-09-01T15:10:59.533Z"
   },
   {
    "duration": 46,
    "start_time": "2022-09-01T15:10:59.629Z"
   },
   {
    "duration": 22,
    "start_time": "2022-09-01T15:31:17.494Z"
   },
   {
    "duration": 228,
    "start_time": "2022-09-01T15:31:50.872Z"
   },
   {
    "duration": 21,
    "start_time": "2022-09-01T15:36:33.433Z"
   },
   {
    "duration": 464,
    "start_time": "2022-09-01T15:37:12.248Z"
   },
   {
    "duration": 492,
    "start_time": "2022-09-01T15:37:46.219Z"
   },
   {
    "duration": 185,
    "start_time": "2022-09-01T15:38:10.664Z"
   },
   {
    "duration": 408,
    "start_time": "2022-09-01T15:39:12.889Z"
   },
   {
    "duration": 72,
    "start_time": "2022-09-01T15:49:55.612Z"
   },
   {
    "duration": 8,
    "start_time": "2022-09-01T15:49:55.825Z"
   },
   {
    "duration": 19,
    "start_time": "2022-09-01T15:49:55.914Z"
   },
   {
    "duration": 19,
    "start_time": "2022-09-01T15:49:56.103Z"
   },
   {
    "duration": 14,
    "start_time": "2022-09-01T15:49:56.185Z"
   },
   {
    "duration": 14,
    "start_time": "2022-09-01T15:49:56.371Z"
   },
   {
    "duration": 15,
    "start_time": "2022-09-01T15:49:56.475Z"
   },
   {
    "duration": 12,
    "start_time": "2022-09-01T15:49:56.641Z"
   },
   {
    "duration": 10,
    "start_time": "2022-09-01T15:49:56.725Z"
   },
   {
    "duration": 5,
    "start_time": "2022-09-01T15:49:56.886Z"
   },
   {
    "duration": 6,
    "start_time": "2022-09-01T15:49:56.975Z"
   },
   {
    "duration": 18,
    "start_time": "2022-09-01T15:49:57.518Z"
   },
   {
    "duration": 40,
    "start_time": "2022-09-01T15:49:57.611Z"
   },
   {
    "duration": 9,
    "start_time": "2022-09-01T15:49:57.792Z"
   },
   {
    "duration": 15,
    "start_time": "2022-09-01T15:49:58.100Z"
   },
   {
    "duration": 39,
    "start_time": "2022-09-01T15:49:58.281Z"
   },
   {
    "duration": 21,
    "start_time": "2022-09-01T15:49:58.352Z"
   },
   {
    "duration": 15,
    "start_time": "2022-09-01T15:49:58.779Z"
   },
   {
    "duration": 9,
    "start_time": "2022-09-01T15:49:58.870Z"
   },
   {
    "duration": 16,
    "start_time": "2022-09-01T15:49:59.198Z"
   },
   {
    "duration": 86,
    "start_time": "2022-09-01T15:49:59.377Z"
   },
   {
    "duration": 17,
    "start_time": "2022-09-01T15:49:59.464Z"
   },
   {
    "duration": 207,
    "start_time": "2022-09-01T15:49:59.602Z"
   },
   {
    "duration": 15,
    "start_time": "2022-09-01T15:49:59.811Z"
   },
   {
    "duration": 92,
    "start_time": "2022-09-01T15:49:59.876Z"
   },
   {
    "duration": 26,
    "start_time": "2022-09-01T15:50:00.044Z"
   },
   {
    "duration": 26,
    "start_time": "2022-09-01T15:50:00.243Z"
   },
   {
    "duration": 223,
    "start_time": "2022-09-01T15:50:00.370Z"
   },
   {
    "duration": 440,
    "start_time": "2022-09-01T15:50:00.595Z"
   },
   {
    "duration": 8,
    "start_time": "2022-09-01T15:50:01.037Z"
   },
   {
    "duration": 23,
    "start_time": "2022-09-01T15:50:01.142Z"
   },
   {
    "duration": 48,
    "start_time": "2022-09-01T15:50:01.579Z"
   },
   {
    "duration": 103,
    "start_time": "2022-09-01T15:50:01.967Z"
   },
   {
    "duration": 12,
    "start_time": "2022-09-01T15:50:02.216Z"
   },
   {
    "duration": 1252,
    "start_time": "2022-09-01T15:50:02.496Z"
   },
   {
    "duration": 21,
    "start_time": "2022-09-01T15:50:03.750Z"
   },
   {
    "duration": 46,
    "start_time": "2022-09-01T15:50:03.772Z"
   },
   {
    "duration": 49,
    "start_time": "2022-09-01T15:50:03.821Z"
   },
   {
    "duration": 19,
    "start_time": "2022-09-01T15:50:03.871Z"
   },
   {
    "duration": 17,
    "start_time": "2022-09-01T15:50:03.892Z"
   },
   {
    "duration": 17,
    "start_time": "2022-09-01T15:50:03.912Z"
   },
   {
    "duration": 64,
    "start_time": "2022-09-01T15:50:03.930Z"
   },
   {
    "duration": 1558,
    "start_time": "2022-09-02T06:10:46.344Z"
   },
   {
    "duration": 11,
    "start_time": "2022-09-02T06:10:47.904Z"
   },
   {
    "duration": 18,
    "start_time": "2022-09-02T06:10:47.917Z"
   },
   {
    "duration": 28,
    "start_time": "2022-09-02T06:10:47.937Z"
   },
   {
    "duration": 14,
    "start_time": "2022-09-02T06:10:47.971Z"
   },
   {
    "duration": 13,
    "start_time": "2022-09-02T06:10:47.986Z"
   },
   {
    "duration": 13,
    "start_time": "2022-09-02T06:10:48.001Z"
   },
   {
    "duration": 12,
    "start_time": "2022-09-02T06:10:48.016Z"
   },
   {
    "duration": 7,
    "start_time": "2022-09-02T06:10:48.030Z"
   },
   {
    "duration": 5,
    "start_time": "2022-09-02T06:10:48.055Z"
   },
   {
    "duration": 5,
    "start_time": "2022-09-02T06:10:48.085Z"
   },
   {
    "duration": 17,
    "start_time": "2022-09-02T06:10:48.729Z"
   },
   {
    "duration": 354,
    "start_time": "2022-09-02T06:10:48.967Z"
   },
   {
    "duration": 12,
    "start_time": "2022-09-02T06:10:49.323Z"
   },
   {
    "duration": 17,
    "start_time": "2022-09-02T06:10:49.626Z"
   },
   {
    "duration": 46,
    "start_time": "2022-09-02T06:10:49.746Z"
   },
   {
    "duration": 12,
    "start_time": "2022-09-02T06:10:50.049Z"
   },
   {
    "duration": 14,
    "start_time": "2022-09-02T06:10:51.470Z"
   },
   {
    "duration": 9,
    "start_time": "2022-09-02T06:10:51.704Z"
   },
   {
    "duration": 19,
    "start_time": "2022-09-02T06:10:52.132Z"
   },
   {
    "duration": 117,
    "start_time": "2022-09-02T06:10:52.367Z"
   },
   {
    "duration": 19,
    "start_time": "2022-09-02T06:10:52.485Z"
   },
   {
    "duration": 181,
    "start_time": "2022-09-02T06:10:52.700Z"
   },
   {
    "duration": 18,
    "start_time": "2022-09-02T06:10:52.883Z"
   },
   {
    "duration": 97,
    "start_time": "2022-09-02T06:10:53.097Z"
   },
   {
    "duration": 20,
    "start_time": "2022-09-02T06:10:53.237Z"
   },
   {
    "duration": 18,
    "start_time": "2022-09-02T06:10:53.503Z"
   },
   {
    "duration": 246,
    "start_time": "2022-09-02T06:10:54.818Z"
   },
   {
    "duration": 475,
    "start_time": "2022-09-02T06:10:57.033Z"
   },
   {
    "duration": 99,
    "start_time": "2022-09-02T06:32:21.688Z"
   },
   {
    "duration": 39,
    "start_time": "2022-09-02T06:45:58.989Z"
   },
   {
    "duration": 152,
    "start_time": "2022-09-02T06:46:25.397Z"
   },
   {
    "duration": 36,
    "start_time": "2022-09-02T06:46:41.278Z"
   },
   {
    "duration": 23,
    "start_time": "2022-09-02T06:46:48.415Z"
   },
   {
    "duration": 15,
    "start_time": "2022-09-02T06:47:33.058Z"
   },
   {
    "duration": 27,
    "start_time": "2022-09-02T06:47:56.385Z"
   },
   {
    "duration": 9763,
    "start_time": "2022-09-02T06:58:38.032Z"
   },
   {
    "duration": 105,
    "start_time": "2022-09-02T06:59:23.966Z"
   },
   {
    "duration": 12,
    "start_time": "2022-09-02T06:59:24.177Z"
   },
   {
    "duration": 35,
    "start_time": "2022-09-02T06:59:24.251Z"
   },
   {
    "duration": 29,
    "start_time": "2022-09-02T06:59:24.462Z"
   },
   {
    "duration": 19,
    "start_time": "2022-09-02T06:59:24.544Z"
   },
   {
    "duration": 21,
    "start_time": "2022-09-02T06:59:24.775Z"
   },
   {
    "duration": 21,
    "start_time": "2022-09-02T06:59:24.851Z"
   },
   {
    "duration": 18,
    "start_time": "2022-09-02T06:59:25.081Z"
   },
   {
    "duration": 11,
    "start_time": "2022-09-02T06:59:25.182Z"
   },
   {
    "duration": 7,
    "start_time": "2022-09-02T06:59:25.396Z"
   },
   {
    "duration": 8,
    "start_time": "2022-09-02T06:59:25.466Z"
   },
   {
    "duration": 26,
    "start_time": "2022-09-02T06:59:26.479Z"
   },
   {
    "duration": 78,
    "start_time": "2022-09-02T06:59:26.653Z"
   },
   {
    "duration": 10,
    "start_time": "2022-09-02T06:59:27.694Z"
   },
   {
    "duration": 24,
    "start_time": "2022-09-02T06:59:28.946Z"
   },
   {
    "duration": 64,
    "start_time": "2022-09-02T06:59:29.497Z"
   },
   {
    "duration": 13,
    "start_time": "2022-09-02T06:59:30.006Z"
   },
   {
    "duration": 22,
    "start_time": "2022-09-02T06:59:32.605Z"
   },
   {
    "duration": 12,
    "start_time": "2022-09-02T06:59:33.475Z"
   },
   {
    "duration": 16,
    "start_time": "2022-09-02T06:59:35.845Z"
   },
   {
    "duration": 89,
    "start_time": "2022-09-02T06:59:36.243Z"
   },
   {
    "duration": 16,
    "start_time": "2022-09-02T06:59:36.530Z"
   },
   {
    "duration": 143,
    "start_time": "2022-09-02T06:59:36.640Z"
   },
   {
    "duration": 26,
    "start_time": "2022-09-02T06:59:36.898Z"
   },
   {
    "duration": 140,
    "start_time": "2022-09-02T06:59:37.325Z"
   },
   {
    "duration": 26,
    "start_time": "2022-09-02T06:59:37.952Z"
   },
   {
    "duration": 19,
    "start_time": "2022-09-02T06:59:38.598Z"
   },
   {
    "duration": 8597,
    "start_time": "2022-09-02T06:59:41.242Z"
   },
   {
    "duration": 197,
    "start_time": "2022-09-02T07:02:20.940Z"
   },
   {
    "duration": 1457,
    "start_time": "2022-09-02T07:06:07.059Z"
   },
   {
    "duration": 1401,
    "start_time": "2022-09-02T07:06:23.891Z"
   },
   {
    "duration": 24,
    "start_time": "2022-09-02T07:06:36.218Z"
   },
   {
    "duration": 13,
    "start_time": "2022-09-02T07:06:50.293Z"
   },
   {
    "duration": 20,
    "start_time": "2022-09-02T07:09:29.332Z"
   },
   {
    "duration": 16,
    "start_time": "2022-09-02T07:09:43.124Z"
   },
   {
    "duration": 15,
    "start_time": "2022-09-02T07:11:36.450Z"
   },
   {
    "duration": 25,
    "start_time": "2022-09-02T07:11:50.647Z"
   },
   {
    "duration": 15,
    "start_time": "2022-09-02T07:13:09.933Z"
   },
   {
    "duration": 18,
    "start_time": "2022-09-02T07:13:23.496Z"
   },
   {
    "duration": 11,
    "start_time": "2022-09-02T07:19:24.288Z"
   },
   {
    "duration": 25,
    "start_time": "2022-09-02T07:20:00.612Z"
   },
   {
    "duration": 24,
    "start_time": "2022-09-02T07:20:27.925Z"
   },
   {
    "duration": 40,
    "start_time": "2022-09-02T07:20:38.817Z"
   },
   {
    "duration": 29,
    "start_time": "2022-09-02T07:21:27.907Z"
   },
   {
    "duration": 34,
    "start_time": "2022-09-02T07:22:22.033Z"
   },
   {
    "duration": 28,
    "start_time": "2022-09-02T07:26:05.459Z"
   },
   {
    "duration": 24,
    "start_time": "2022-09-02T07:27:00.586Z"
   },
   {
    "duration": 27,
    "start_time": "2022-09-02T07:29:20.040Z"
   },
   {
    "duration": 25,
    "start_time": "2022-09-02T07:30:00.357Z"
   },
   {
    "duration": 25,
    "start_time": "2022-09-02T07:30:07.136Z"
   },
   {
    "duration": 21,
    "start_time": "2022-09-02T07:30:46.527Z"
   },
   {
    "duration": 84,
    "start_time": "2022-09-02T07:30:57.451Z"
   },
   {
    "duration": 23,
    "start_time": "2022-09-02T07:31:11.994Z"
   },
   {
    "duration": 30,
    "start_time": "2022-09-02T07:31:48.853Z"
   },
   {
    "duration": 23,
    "start_time": "2022-09-02T07:32:12.478Z"
   },
   {
    "duration": 30,
    "start_time": "2022-09-02T07:32:37.337Z"
   },
   {
    "duration": 8839,
    "start_time": "2022-09-02T07:33:07.097Z"
   },
   {
    "duration": 20,
    "start_time": "2022-09-02T07:33:35.172Z"
   },
   {
    "duration": 734,
    "start_time": "2022-09-02T07:34:05.134Z"
   },
   {
    "duration": 15,
    "start_time": "2022-09-02T07:43:10.394Z"
   },
   {
    "duration": 17,
    "start_time": "2022-09-02T07:44:05.965Z"
   },
   {
    "duration": 14,
    "start_time": "2022-09-02T07:44:51.080Z"
   },
   {
    "duration": 24,
    "start_time": "2022-09-02T07:48:57.943Z"
   },
   {
    "duration": 19,
    "start_time": "2022-09-02T07:53:47.553Z"
   },
   {
    "duration": 20,
    "start_time": "2022-09-02T07:54:33.583Z"
   },
   {
    "duration": 25,
    "start_time": "2022-09-02T07:55:24.086Z"
   },
   {
    "duration": 17,
    "start_time": "2022-09-02T07:56:34.956Z"
   },
   {
    "duration": 3860,
    "start_time": "2022-09-02T07:56:54.013Z"
   },
   {
    "duration": 178,
    "start_time": "2022-09-02T07:57:26.369Z"
   },
   {
    "duration": 18,
    "start_time": "2022-09-02T08:01:21.064Z"
   },
   {
    "duration": 165,
    "start_time": "2022-09-02T08:01:22.064Z"
   },
   {
    "duration": 21,
    "start_time": "2022-09-02T08:05:49.842Z"
   },
   {
    "duration": 71,
    "start_time": "2022-09-02T08:07:30.809Z"
   },
   {
    "duration": 8,
    "start_time": "2022-09-02T08:07:30.912Z"
   },
   {
    "duration": 19,
    "start_time": "2022-09-02T08:07:31.141Z"
   },
   {
    "duration": 20,
    "start_time": "2022-09-02T08:07:31.233Z"
   },
   {
    "duration": 16,
    "start_time": "2022-09-02T08:07:31.457Z"
   },
   {
    "duration": 21,
    "start_time": "2022-09-02T08:07:31.546Z"
   },
   {
    "duration": 17,
    "start_time": "2022-09-02T08:07:31.744Z"
   },
   {
    "duration": 12,
    "start_time": "2022-09-02T08:07:31.821Z"
   },
   {
    "duration": 8,
    "start_time": "2022-09-02T08:07:32.039Z"
   },
   {
    "duration": 5,
    "start_time": "2022-09-02T08:07:32.114Z"
   },
   {
    "duration": 5,
    "start_time": "2022-09-02T08:07:32.283Z"
   },
   {
    "duration": 18,
    "start_time": "2022-09-02T08:07:32.922Z"
   },
   {
    "duration": 45,
    "start_time": "2022-09-02T08:07:33.321Z"
   },
   {
    "duration": 8,
    "start_time": "2022-09-02T08:07:33.495Z"
   },
   {
    "duration": 14,
    "start_time": "2022-09-02T08:07:33.983Z"
   },
   {
    "duration": 38,
    "start_time": "2022-09-02T08:07:34.085Z"
   },
   {
    "duration": 9,
    "start_time": "2022-09-02T08:07:34.308Z"
   },
   {
    "duration": 14,
    "start_time": "2022-09-02T08:07:34.773Z"
   },
   {
    "duration": 8,
    "start_time": "2022-09-02T08:07:34.999Z"
   },
   {
    "duration": 17,
    "start_time": "2022-09-02T08:07:35.429Z"
   },
   {
    "duration": 86,
    "start_time": "2022-09-02T08:07:35.654Z"
   },
   {
    "duration": 17,
    "start_time": "2022-09-02T08:07:35.753Z"
   },
   {
    "duration": 93,
    "start_time": "2022-09-02T08:07:35.970Z"
   },
   {
    "duration": 17,
    "start_time": "2022-09-02T08:07:36.072Z"
   },
   {
    "duration": 105,
    "start_time": "2022-09-02T08:07:36.287Z"
   },
   {
    "duration": 29,
    "start_time": "2022-09-02T08:07:36.394Z"
   },
   {
    "duration": 21,
    "start_time": "2022-09-02T08:07:36.574Z"
   },
   {
    "duration": 199,
    "start_time": "2022-09-02T08:07:36.641Z"
   },
   {
    "duration": 9,
    "start_time": "2022-09-02T08:07:37.255Z"
   },
   {
    "duration": 18,
    "start_time": "2022-09-02T08:07:37.362Z"
   },
   {
    "duration": 39,
    "start_time": "2022-09-02T08:07:37.590Z"
   },
   {
    "duration": 96,
    "start_time": "2022-09-02T08:07:38.039Z"
   },
   {
    "duration": 13,
    "start_time": "2022-09-02T08:07:38.275Z"
   },
   {
    "duration": 1398,
    "start_time": "2022-09-02T08:07:38.584Z"
   },
   {
    "duration": 18,
    "start_time": "2022-09-02T08:07:39.984Z"
   },
   {
    "duration": 39,
    "start_time": "2022-09-02T08:07:40.003Z"
   },
   {
    "duration": 17,
    "start_time": "2022-09-02T08:07:40.054Z"
   },
   {
    "duration": 20,
    "start_time": "2022-09-02T08:07:40.306Z"
   },
   {
    "duration": 15,
    "start_time": "2022-09-02T08:07:40.560Z"
   },
   {
    "duration": 15,
    "start_time": "2022-09-02T08:07:42.729Z"
   },
   {
    "duration": 42,
    "start_time": "2022-09-02T08:07:43.120Z"
   },
   {
    "duration": 163,
    "start_time": "2022-09-02T08:25:13.572Z"
   },
   {
    "duration": 66,
    "start_time": "2022-09-02T08:48:53.737Z"
   },
   {
    "duration": 24,
    "start_time": "2022-09-02T08:51:37.454Z"
   },
   {
    "duration": 64,
    "start_time": "2022-09-02T08:51:42.025Z"
   },
   {
    "duration": 53,
    "start_time": "2022-09-02T08:52:47.323Z"
   },
   {
    "duration": 13,
    "start_time": "2022-09-02T08:52:57.090Z"
   },
   {
    "duration": 24,
    "start_time": "2022-09-02T08:53:02.950Z"
   },
   {
    "duration": 16,
    "start_time": "2022-09-02T08:54:19.249Z"
   },
   {
    "duration": 40,
    "start_time": "2022-09-02T08:54:21.545Z"
   },
   {
    "duration": 9,
    "start_time": "2022-09-02T08:54:22.644Z"
   },
   {
    "duration": 14,
    "start_time": "2022-09-02T08:54:39.854Z"
   },
   {
    "duration": 9,
    "start_time": "2022-09-02T08:54:41.739Z"
   },
   {
    "duration": 15,
    "start_time": "2022-09-02T08:56:23.371Z"
   },
   {
    "duration": 86,
    "start_time": "2022-09-02T08:56:59.257Z"
   },
   {
    "duration": 104,
    "start_time": "2022-09-02T08:58:03.872Z"
   },
   {
    "duration": 103,
    "start_time": "2022-09-02T08:59:25.256Z"
   },
   {
    "duration": 32,
    "start_time": "2022-09-02T09:01:47.768Z"
   },
   {
    "duration": 17,
    "start_time": "2022-09-02T09:04:40.222Z"
   },
   {
    "duration": 38,
    "start_time": "2022-09-02T09:04:42.830Z"
   },
   {
    "duration": 102,
    "start_time": "2022-09-02T09:05:00.156Z"
   },
   {
    "duration": 13,
    "start_time": "2022-09-02T09:05:23.677Z"
   },
   {
    "duration": 1108,
    "start_time": "2022-09-02T09:05:28.855Z"
   },
   {
    "duration": 18,
    "start_time": "2022-09-02T09:06:41.585Z"
   },
   {
    "duration": 52,
    "start_time": "2022-09-02T09:06:43.862Z"
   },
   {
    "duration": 19,
    "start_time": "2022-09-02T09:06:50.987Z"
   },
   {
    "duration": 27,
    "start_time": "2022-09-02T09:07:36.732Z"
   },
   {
    "duration": 16,
    "start_time": "2022-09-02T09:07:56.846Z"
   },
   {
    "duration": 19,
    "start_time": "2022-09-02T09:07:57.376Z"
   },
   {
    "duration": 53,
    "start_time": "2022-09-02T09:07:58.290Z"
   },
   {
    "duration": 1224,
    "start_time": "2022-09-02T09:08:52.031Z"
   },
   {
    "duration": 11,
    "start_time": "2022-09-02T09:08:53.256Z"
   },
   {
    "duration": 21,
    "start_time": "2022-09-02T09:08:53.269Z"
   },
   {
    "duration": 21,
    "start_time": "2022-09-02T09:08:53.292Z"
   },
   {
    "duration": 12,
    "start_time": "2022-09-02T09:08:53.315Z"
   },
   {
    "duration": 38,
    "start_time": "2022-09-02T09:08:53.328Z"
   },
   {
    "duration": 16,
    "start_time": "2022-09-02T09:08:53.368Z"
   },
   {
    "duration": 13,
    "start_time": "2022-09-02T09:08:53.385Z"
   },
   {
    "duration": 8,
    "start_time": "2022-09-02T09:08:53.399Z"
   },
   {
    "duration": 6,
    "start_time": "2022-09-02T09:08:53.408Z"
   },
   {
    "duration": 42,
    "start_time": "2022-09-02T09:08:53.416Z"
   },
   {
    "duration": 17,
    "start_time": "2022-09-02T09:08:53.460Z"
   },
   {
    "duration": 356,
    "start_time": "2022-09-02T09:08:53.478Z"
   },
   {
    "duration": 14,
    "start_time": "2022-09-02T09:08:53.838Z"
   },
   {
    "duration": 24,
    "start_time": "2022-09-02T09:08:53.854Z"
   },
   {
    "duration": 103,
    "start_time": "2022-09-02T09:08:53.880Z"
   },
   {
    "duration": 8,
    "start_time": "2022-09-02T09:08:53.985Z"
   },
   {
    "duration": 15,
    "start_time": "2022-09-02T09:08:53.995Z"
   },
   {
    "duration": 46,
    "start_time": "2022-09-02T09:08:54.012Z"
   },
   {
    "duration": 18,
    "start_time": "2022-09-02T09:08:54.060Z"
   },
   {
    "duration": 115,
    "start_time": "2022-09-02T09:08:54.079Z"
   },
   {
    "duration": 16,
    "start_time": "2022-09-02T09:08:54.196Z"
   },
   {
    "duration": 181,
    "start_time": "2022-09-02T09:08:54.214Z"
   },
   {
    "duration": 17,
    "start_time": "2022-09-02T09:08:54.396Z"
   },
   {
    "duration": 108,
    "start_time": "2022-09-02T09:08:54.415Z"
   },
   {
    "duration": 32,
    "start_time": "2022-09-02T09:08:54.524Z"
   },
   {
    "duration": 171,
    "start_time": "2022-09-02T09:08:54.558Z"
   },
   {
    "duration": 24,
    "start_time": "2022-09-02T09:08:54.731Z"
   },
   {
    "duration": 40,
    "start_time": "2022-09-02T09:08:54.756Z"
   },
   {
    "duration": 122,
    "start_time": "2022-09-02T09:08:54.798Z"
   },
   {
    "duration": 13,
    "start_time": "2022-09-02T09:08:54.921Z"
   },
   {
    "duration": 755,
    "start_time": "2022-09-02T09:08:54.935Z"
   },
   {
    "duration": 20,
    "start_time": "2022-09-02T09:08:55.691Z"
   },
   {
    "duration": 43,
    "start_time": "2022-09-02T09:08:55.712Z"
   },
   {
    "duration": 19,
    "start_time": "2022-09-02T09:08:55.756Z"
   },
   {
    "duration": 16,
    "start_time": "2022-09-02T09:08:55.777Z"
   },
   {
    "duration": 14,
    "start_time": "2022-09-02T09:08:55.794Z"
   },
   {
    "duration": 45,
    "start_time": "2022-09-02T09:08:55.810Z"
   },
   {
    "duration": 41,
    "start_time": "2022-09-02T09:08:55.857Z"
   },
   {
    "duration": 16,
    "start_time": "2022-09-02T10:00:07.073Z"
   },
   {
    "duration": 158,
    "start_time": "2022-09-02T10:00:09.758Z"
   },
   {
    "duration": 16,
    "start_time": "2022-09-02T10:00:36.146Z"
   },
   {
    "duration": 39,
    "start_time": "2022-09-02T10:00:52.416Z"
   },
   {
    "duration": 25,
    "start_time": "2022-09-02T10:13:45.383Z"
   },
   {
    "duration": 94,
    "start_time": "2022-09-02T10:14:15.659Z"
   },
   {
    "duration": 38,
    "start_time": "2022-09-02T10:14:36.876Z"
   },
   {
    "duration": 17,
    "start_time": "2022-09-02T12:55:09.621Z"
   },
   {
    "duration": 72,
    "start_time": "2022-09-02T12:55:32.228Z"
   },
   {
    "duration": 8,
    "start_time": "2022-09-02T12:55:32.425Z"
   },
   {
    "duration": 19,
    "start_time": "2022-09-02T12:55:32.518Z"
   },
   {
    "duration": 20,
    "start_time": "2022-09-02T12:55:32.707Z"
   },
   {
    "duration": 14,
    "start_time": "2022-09-02T12:55:32.802Z"
   },
   {
    "duration": 16,
    "start_time": "2022-09-02T12:55:32.992Z"
   },
   {
    "duration": 14,
    "start_time": "2022-09-02T12:55:33.083Z"
   },
   {
    "duration": 13,
    "start_time": "2022-09-02T12:55:33.266Z"
   },
   {
    "duration": 9,
    "start_time": "2022-09-02T12:55:33.403Z"
   },
   {
    "duration": 5,
    "start_time": "2022-09-02T12:55:33.545Z"
   },
   {
    "duration": 5,
    "start_time": "2022-09-02T12:55:33.721Z"
   },
   {
    "duration": 17,
    "start_time": "2022-09-02T12:55:34.780Z"
   },
   {
    "duration": 43,
    "start_time": "2022-09-02T12:55:34.872Z"
   },
   {
    "duration": 9,
    "start_time": "2022-09-02T12:55:35.141Z"
   },
   {
    "duration": 17,
    "start_time": "2022-09-02T12:55:35.811Z"
   },
   {
    "duration": 38,
    "start_time": "2022-09-02T12:55:36.258Z"
   },
   {
    "duration": 9,
    "start_time": "2022-09-02T12:55:36.437Z"
   },
   {
    "duration": 15,
    "start_time": "2022-09-02T12:55:37.733Z"
   },
   {
    "duration": 8,
    "start_time": "2022-09-02T12:55:38.067Z"
   },
   {
    "duration": 16,
    "start_time": "2022-09-02T12:55:39.488Z"
   },
   {
    "duration": 85,
    "start_time": "2022-09-02T12:55:39.661Z"
   },
   {
    "duration": 17,
    "start_time": "2022-09-02T12:55:40.031Z"
   },
   {
    "duration": 94,
    "start_time": "2022-09-02T12:55:40.750Z"
   },
   {
    "duration": 16,
    "start_time": "2022-09-02T12:55:41.177Z"
   },
   {
    "duration": 98,
    "start_time": "2022-09-02T12:55:41.275Z"
   },
   {
    "duration": 22,
    "start_time": "2022-09-02T12:55:41.481Z"
   },
   {
    "duration": 175,
    "start_time": "2022-09-02T12:55:41.659Z"
   },
   {
    "duration": 19,
    "start_time": "2022-09-02T12:55:43.600Z"
   },
   {
    "duration": 48,
    "start_time": "2022-09-02T12:55:43.828Z"
   },
   {
    "duration": 100,
    "start_time": "2022-09-02T12:55:55.477Z"
   },
   {
    "duration": 12,
    "start_time": "2022-09-02T12:55:55.685Z"
   },
   {
    "duration": 1150,
    "start_time": "2022-09-02T12:55:55.986Z"
   },
   {
    "duration": 20,
    "start_time": "2022-09-02T12:55:57.138Z"
   },
   {
    "duration": 39,
    "start_time": "2022-09-02T12:55:57.159Z"
   },
   {
    "duration": 15,
    "start_time": "2022-09-02T12:55:57.200Z"
   },
   {
    "duration": 18,
    "start_time": "2022-09-02T12:58:53.663Z"
   },
   {
    "duration": 15,
    "start_time": "2022-09-02T12:58:55.746Z"
   },
   {
    "duration": 16,
    "start_time": "2022-09-02T12:58:57.152Z"
   },
   {
    "duration": 48,
    "start_time": "2022-09-02T12:59:10.232Z"
   },
   {
    "duration": 79,
    "start_time": "2022-09-02T12:59:56.254Z"
   },
   {
    "duration": 10,
    "start_time": "2022-09-02T12:59:56.370Z"
   },
   {
    "duration": 19,
    "start_time": "2022-09-02T12:59:56.532Z"
   },
   {
    "duration": 19,
    "start_time": "2022-09-02T12:59:56.612Z"
   },
   {
    "duration": 17,
    "start_time": "2022-09-02T12:59:56.808Z"
   },
   {
    "duration": 14,
    "start_time": "2022-09-02T12:59:56.871Z"
   },
   {
    "duration": 14,
    "start_time": "2022-09-02T12:59:57.073Z"
   },
   {
    "duration": 13,
    "start_time": "2022-09-02T12:59:57.124Z"
   },
   {
    "duration": 9,
    "start_time": "2022-09-02T12:59:57.204Z"
   },
   {
    "duration": 7,
    "start_time": "2022-09-02T12:59:57.385Z"
   },
   {
    "duration": 5,
    "start_time": "2022-09-02T12:59:57.434Z"
   },
   {
    "duration": 17,
    "start_time": "2022-09-02T12:59:57.898Z"
   },
   {
    "duration": 41,
    "start_time": "2022-09-02T12:59:58.057Z"
   },
   {
    "duration": 9,
    "start_time": "2022-09-02T12:59:58.131Z"
   },
   {
    "duration": 16,
    "start_time": "2022-09-02T12:59:58.519Z"
   },
   {
    "duration": 39,
    "start_time": "2022-09-02T12:59:58.620Z"
   },
   {
    "duration": 8,
    "start_time": "2022-09-02T12:59:58.823Z"
   },
   {
    "duration": 15,
    "start_time": "2022-09-02T12:59:59.169Z"
   },
   {
    "duration": 9,
    "start_time": "2022-09-02T12:59:59.339Z"
   },
   {
    "duration": 16,
    "start_time": "2022-09-02T12:59:59.642Z"
   },
   {
    "duration": 87,
    "start_time": "2022-09-02T12:59:59.823Z"
   },
   {
    "duration": 18,
    "start_time": "2022-09-02T12:59:59.912Z"
   },
   {
    "duration": 105,
    "start_time": "2022-09-02T13:00:00.057Z"
   },
   {
    "duration": 17,
    "start_time": "2022-09-02T13:00:00.164Z"
   },
   {
    "duration": 90,
    "start_time": "2022-09-02T13:00:00.375Z"
   },
   {
    "duration": 23,
    "start_time": "2022-09-02T13:00:00.589Z"
   },
   {
    "duration": 288,
    "start_time": "2022-09-02T13:00:00.772Z"
   },
   {
    "duration": 15,
    "start_time": "2022-09-02T13:00:01.406Z"
   },
   {
    "duration": 43,
    "start_time": "2022-09-02T13:00:01.495Z"
   },
   {
    "duration": 119,
    "start_time": "2022-09-02T13:00:02.708Z"
   },
   {
    "duration": 14,
    "start_time": "2022-09-02T13:00:02.889Z"
   },
   {
    "duration": 833,
    "start_time": "2022-09-02T13:00:03.150Z"
   },
   {
    "duration": 19,
    "start_time": "2022-09-02T13:00:03.985Z"
   },
   {
    "duration": 39,
    "start_time": "2022-09-02T13:00:04.005Z"
   },
   {
    "duration": 23,
    "start_time": "2022-09-02T13:00:04.046Z"
   },
   {
    "duration": 1289,
    "start_time": "2022-09-02T13:21:56.856Z"
   },
   {
    "duration": 15,
    "start_time": "2022-09-02T13:21:58.147Z"
   },
   {
    "duration": 20,
    "start_time": "2022-09-02T13:21:58.166Z"
   },
   {
    "duration": 25,
    "start_time": "2022-09-02T13:21:58.188Z"
   },
   {
    "duration": 14,
    "start_time": "2022-09-02T13:21:58.215Z"
   },
   {
    "duration": 34,
    "start_time": "2022-09-02T13:21:58.231Z"
   },
   {
    "duration": 13,
    "start_time": "2022-09-02T13:21:58.267Z"
   },
   {
    "duration": 13,
    "start_time": "2022-09-02T13:21:58.281Z"
   },
   {
    "duration": 8,
    "start_time": "2022-09-02T13:21:58.295Z"
   },
   {
    "duration": 7,
    "start_time": "2022-09-02T13:21:58.305Z"
   },
   {
    "duration": 10,
    "start_time": "2022-09-02T13:21:58.313Z"
   },
   {
    "duration": 42,
    "start_time": "2022-09-02T13:21:58.325Z"
   },
   {
    "duration": 358,
    "start_time": "2022-09-02T13:21:58.371Z"
   },
   {
    "duration": 10,
    "start_time": "2022-09-02T13:21:58.730Z"
   },
   {
    "duration": 35,
    "start_time": "2022-09-02T13:21:58.741Z"
   },
   {
    "duration": 56,
    "start_time": "2022-09-02T13:21:58.777Z"
   },
   {
    "duration": 9,
    "start_time": "2022-09-02T13:21:58.854Z"
   },
   {
    "duration": 24,
    "start_time": "2022-09-02T13:21:58.864Z"
   },
   {
    "duration": 9,
    "start_time": "2022-09-02T13:21:58.890Z"
   },
   {
    "duration": 42,
    "start_time": "2022-09-02T13:21:58.902Z"
   },
   {
    "duration": 120,
    "start_time": "2022-09-02T13:21:58.946Z"
   },
   {
    "duration": 24,
    "start_time": "2022-09-02T13:21:59.069Z"
   },
   {
    "duration": 188,
    "start_time": "2022-09-02T13:21:59.095Z"
   },
   {
    "duration": 15,
    "start_time": "2022-09-02T13:21:59.285Z"
   },
   {
    "duration": 99,
    "start_time": "2022-09-02T13:21:59.302Z"
   },
   {
    "duration": 22,
    "start_time": "2022-09-02T13:21:59.403Z"
   },
   {
    "duration": 183,
    "start_time": "2022-09-02T13:21:59.427Z"
   },
   {
    "duration": 15,
    "start_time": "2022-09-02T13:21:59.612Z"
   },
   {
    "duration": 53,
    "start_time": "2022-09-02T13:21:59.628Z"
   },
   {
    "duration": 109,
    "start_time": "2022-09-02T13:21:59.683Z"
   },
   {
    "duration": 11,
    "start_time": "2022-09-02T13:21:59.794Z"
   },
   {
    "duration": 1240,
    "start_time": "2022-09-02T13:21:59.807Z"
   },
   {
    "duration": 20,
    "start_time": "2022-09-02T13:22:01.049Z"
   },
   {
    "duration": 46,
    "start_time": "2022-09-02T13:22:01.071Z"
   },
   {
    "duration": 39,
    "start_time": "2022-09-02T13:22:01.118Z"
   },
   {
    "duration": 19,
    "start_time": "2022-09-02T13:22:01.158Z"
   },
   {
    "duration": 14,
    "start_time": "2022-09-02T13:22:01.178Z"
   },
   {
    "duration": 13,
    "start_time": "2022-09-02T13:22:01.194Z"
   },
   {
    "duration": 67,
    "start_time": "2022-09-02T13:22:01.209Z"
   },
   {
    "duration": 1515,
    "start_time": "2022-09-02T19:09:35.724Z"
   },
   {
    "duration": 11,
    "start_time": "2022-09-02T19:09:37.241Z"
   },
   {
    "duration": 22,
    "start_time": "2022-09-02T19:09:37.253Z"
   },
   {
    "duration": 25,
    "start_time": "2022-09-02T19:09:37.277Z"
   },
   {
    "duration": 14,
    "start_time": "2022-09-02T19:09:37.303Z"
   },
   {
    "duration": 13,
    "start_time": "2022-09-02T19:09:37.319Z"
   },
   {
    "duration": 14,
    "start_time": "2022-09-02T19:09:37.334Z"
   },
   {
    "duration": 13,
    "start_time": "2022-09-02T19:09:37.350Z"
   },
   {
    "duration": 30,
    "start_time": "2022-09-02T19:09:37.364Z"
   },
   {
    "duration": 11,
    "start_time": "2022-09-02T19:09:37.396Z"
   },
   {
    "duration": 9,
    "start_time": "2022-09-02T19:09:37.408Z"
   },
   {
    "duration": 17,
    "start_time": "2022-09-02T19:09:37.419Z"
   },
   {
    "duration": 387,
    "start_time": "2022-09-02T19:09:37.438Z"
   },
   {
    "duration": 19,
    "start_time": "2022-09-02T19:09:37.828Z"
   },
   {
    "duration": 39,
    "start_time": "2022-09-02T19:09:37.849Z"
   },
   {
    "duration": 44,
    "start_time": "2022-09-02T19:09:37.889Z"
   },
   {
    "duration": 58,
    "start_time": "2022-09-02T19:09:37.935Z"
   },
   {
    "duration": 16,
    "start_time": "2022-09-02T19:09:37.995Z"
   },
   {
    "duration": 9,
    "start_time": "2022-09-02T19:09:38.013Z"
   },
   {
    "duration": 17,
    "start_time": "2022-09-02T19:09:38.023Z"
   },
   {
    "duration": 132,
    "start_time": "2022-09-02T19:09:38.041Z"
   },
   {
    "duration": 27,
    "start_time": "2022-09-02T19:09:38.175Z"
   },
   {
    "duration": 185,
    "start_time": "2022-09-02T19:09:38.203Z"
   },
   {
    "duration": 19,
    "start_time": "2022-09-02T19:09:38.390Z"
   },
   {
    "duration": 111,
    "start_time": "2022-09-02T19:09:38.410Z"
   },
   {
    "duration": 24,
    "start_time": "2022-09-02T19:09:38.522Z"
   },
   {
    "duration": 197,
    "start_time": "2022-09-02T19:09:38.547Z"
   },
   {
    "duration": 16,
    "start_time": "2022-09-02T19:09:38.746Z"
   },
   {
    "duration": 53,
    "start_time": "2022-09-02T19:09:38.764Z"
   },
   {
    "duration": 114,
    "start_time": "2022-09-02T19:09:38.818Z"
   },
   {
    "duration": 13,
    "start_time": "2022-09-02T19:09:38.933Z"
   },
   {
    "duration": 1133,
    "start_time": "2022-09-02T19:09:38.947Z"
   },
   {
    "duration": 23,
    "start_time": "2022-09-02T19:09:40.082Z"
   },
   {
    "duration": 43,
    "start_time": "2022-09-02T19:09:40.107Z"
   },
   {
    "duration": 36,
    "start_time": "2022-09-02T19:09:40.152Z"
   },
   {
    "duration": 22,
    "start_time": "2022-09-02T19:09:40.190Z"
   },
   {
    "duration": 18,
    "start_time": "2022-09-02T19:09:40.214Z"
   },
   {
    "duration": 17,
    "start_time": "2022-09-02T19:09:40.234Z"
   },
   {
    "duration": 80,
    "start_time": "2022-09-02T19:09:40.253Z"
   },
   {
    "duration": 51,
    "start_time": "2022-09-02T19:19:32.709Z"
   },
   {
    "duration": 45,
    "start_time": "2022-09-02T19:19:48.919Z"
   },
   {
    "duration": 10,
    "start_time": "2022-09-02T19:29:26.579Z"
   },
   {
    "duration": 1591,
    "start_time": "2022-09-03T15:02:27.816Z"
   },
   {
    "duration": 11,
    "start_time": "2022-09-03T15:02:29.409Z"
   },
   {
    "duration": 34,
    "start_time": "2022-09-03T15:02:29.421Z"
   },
   {
    "duration": 19,
    "start_time": "2022-09-03T15:02:29.457Z"
   },
   {
    "duration": 12,
    "start_time": "2022-09-03T15:02:29.478Z"
   },
   {
    "duration": 19,
    "start_time": "2022-09-03T15:02:29.492Z"
   },
   {
    "duration": 14,
    "start_time": "2022-09-03T15:02:29.590Z"
   },
   {
    "duration": 18,
    "start_time": "2022-09-03T15:02:29.676Z"
   },
   {
    "duration": 9,
    "start_time": "2022-09-03T15:02:30.015Z"
   },
   {
    "duration": 4,
    "start_time": "2022-09-03T15:02:30.184Z"
   },
   {
    "duration": 5,
    "start_time": "2022-09-03T15:02:30.370Z"
   },
   {
    "duration": 17,
    "start_time": "2022-09-03T15:02:30.927Z"
   },
   {
    "duration": 462,
    "start_time": "2022-09-03T15:02:31.097Z"
   },
   {
    "duration": 67,
    "start_time": "2022-09-03T15:02:31.561Z"
   },
   {
    "duration": 10,
    "start_time": "2022-09-03T15:02:31.630Z"
   },
   {
    "duration": 16,
    "start_time": "2022-09-03T15:02:49.927Z"
   },
   {
    "duration": 41,
    "start_time": "2022-09-03T15:02:50.101Z"
   },
   {
    "duration": 8,
    "start_time": "2022-09-03T15:02:50.826Z"
   },
   {
    "duration": 14,
    "start_time": "2022-09-03T15:02:51.325Z"
   },
   {
    "duration": 8,
    "start_time": "2022-09-03T15:02:51.496Z"
   },
   {
    "duration": 18,
    "start_time": "2022-09-03T15:06:09.425Z"
   },
   {
    "duration": 17,
    "start_time": "2022-09-03T15:06:31.447Z"
   },
   {
    "duration": 1500,
    "start_time": "2022-09-03T15:10:12.224Z"
   },
   {
    "duration": 642,
    "start_time": "2022-09-03T15:10:36.301Z"
   },
   {
    "duration": 17,
    "start_time": "2022-09-03T15:15:20.762Z"
   },
   {
    "duration": 46,
    "start_time": "2022-09-03T15:15:25.004Z"
   },
   {
    "duration": 17,
    "start_time": "2022-09-03T15:17:45.289Z"
   },
   {
    "duration": 1001,
    "start_time": "2022-09-03T15:18:58.628Z"
   },
   {
    "duration": 9,
    "start_time": "2022-09-03T15:19:21.676Z"
   },
   {
    "duration": 9,
    "start_time": "2022-09-03T15:19:32.608Z"
   },
   {
    "duration": 10,
    "start_time": "2022-09-03T15:20:17.058Z"
   },
   {
    "duration": 7,
    "start_time": "2022-09-03T15:21:11.529Z"
   },
   {
    "duration": 715,
    "start_time": "2022-09-03T15:31:10.526Z"
   },
   {
    "duration": 20,
    "start_time": "2022-09-03T15:31:57.843Z"
   },
   {
    "duration": 21,
    "start_time": "2022-09-03T15:35:29.104Z"
   },
   {
    "duration": 7,
    "start_time": "2022-09-03T15:37:38.188Z"
   },
   {
    "duration": 18,
    "start_time": "2022-09-03T15:44:39.078Z"
   },
   {
    "duration": 72,
    "start_time": "2022-09-03T15:45:37.721Z"
   },
   {
    "duration": 88,
    "start_time": "2022-09-03T15:46:25.019Z"
   },
   {
    "duration": 22,
    "start_time": "2022-09-03T15:47:38.025Z"
   },
   {
    "duration": 22,
    "start_time": "2022-09-03T15:48:08.312Z"
   },
   {
    "duration": 22,
    "start_time": "2022-09-03T15:48:50.566Z"
   },
   {
    "duration": 70,
    "start_time": "2022-09-03T15:48:56.039Z"
   },
   {
    "duration": 17,
    "start_time": "2022-09-03T15:49:16.756Z"
   },
   {
    "duration": 66,
    "start_time": "2022-09-03T15:49:16.931Z"
   },
   {
    "duration": 19,
    "start_time": "2022-09-03T15:49:45.989Z"
   },
   {
    "duration": 63,
    "start_time": "2022-09-03T15:49:46.846Z"
   },
   {
    "duration": 73,
    "start_time": "2022-09-03T15:51:03.254Z"
   },
   {
    "duration": 66,
    "start_time": "2022-09-03T15:51:11.259Z"
   },
   {
    "duration": 22,
    "start_time": "2022-09-03T15:53:40.839Z"
   },
   {
    "duration": 65,
    "start_time": "2022-09-03T15:54:28.295Z"
   },
   {
    "duration": 17,
    "start_time": "2022-09-03T15:54:30.787Z"
   },
   {
    "duration": 89,
    "start_time": "2022-09-03T15:54:31.225Z"
   },
   {
    "duration": 16,
    "start_time": "2022-09-03T15:54:31.331Z"
   },
   {
    "duration": 96,
    "start_time": "2022-09-03T15:54:31.524Z"
   },
   {
    "duration": 15,
    "start_time": "2022-09-03T15:54:31.622Z"
   },
   {
    "duration": 93,
    "start_time": "2022-09-03T15:54:31.766Z"
   },
   {
    "duration": 115,
    "start_time": "2022-09-03T15:54:31.865Z"
   },
   {
    "duration": 193,
    "start_time": "2022-09-03T15:54:32.128Z"
   },
   {
    "duration": 9,
    "start_time": "2022-09-03T15:57:32.657Z"
   },
   {
    "duration": 75,
    "start_time": "2022-09-03T15:57:56.280Z"
   },
   {
    "duration": 11,
    "start_time": "2022-09-03T15:57:56.362Z"
   },
   {
    "duration": 22,
    "start_time": "2022-09-03T15:57:56.557Z"
   },
   {
    "duration": 22,
    "start_time": "2022-09-03T15:57:56.820Z"
   },
   {
    "duration": 16,
    "start_time": "2022-09-03T15:57:56.874Z"
   },
   {
    "duration": 15,
    "start_time": "2022-09-03T15:57:57.037Z"
   },
   {
    "duration": 15,
    "start_time": "2022-09-03T15:57:57.493Z"
   },
   {
    "duration": 14,
    "start_time": "2022-09-03T15:57:57.572Z"
   },
   {
    "duration": 8,
    "start_time": "2022-09-03T15:57:57.807Z"
   },
   {
    "duration": 5,
    "start_time": "2022-09-03T15:57:57.993Z"
   },
   {
    "duration": 6,
    "start_time": "2022-09-03T15:57:58.097Z"
   },
   {
    "duration": 17,
    "start_time": "2022-09-03T15:57:58.585Z"
   },
   {
    "duration": 40,
    "start_time": "2022-09-03T15:57:58.674Z"
   },
   {
    "duration": 44,
    "start_time": "2022-09-03T15:57:58.917Z"
   },
   {
    "duration": 9,
    "start_time": "2022-09-03T15:57:59.084Z"
   },
   {
    "duration": 15,
    "start_time": "2022-09-03T15:57:59.585Z"
   },
   {
    "duration": 46,
    "start_time": "2022-09-03T15:57:59.663Z"
   },
   {
    "duration": 9,
    "start_time": "2022-09-03T15:57:59.835Z"
   },
   {
    "duration": 15,
    "start_time": "2022-09-03T15:58:00.954Z"
   },
   {
    "duration": 9,
    "start_time": "2022-09-03T15:58:01.088Z"
   },
   {
    "duration": 26,
    "start_time": "2022-09-03T15:58:01.317Z"
   },
   {
    "duration": 67,
    "start_time": "2022-09-03T15:58:01.399Z"
   },
   {
    "duration": 18,
    "start_time": "2022-09-03T15:58:03.379Z"
   },
   {
    "duration": 104,
    "start_time": "2022-09-03T15:58:03.474Z"
   },
   {
    "duration": 20,
    "start_time": "2022-09-03T15:58:03.657Z"
   },
   {
    "duration": 118,
    "start_time": "2022-09-03T15:58:03.763Z"
   },
   {
    "duration": 18,
    "start_time": "2022-09-03T15:58:03.976Z"
   },
   {
    "duration": 94,
    "start_time": "2022-09-03T15:58:04.156Z"
   },
   {
    "duration": 24,
    "start_time": "2022-09-03T15:58:04.252Z"
   },
   {
    "duration": 185,
    "start_time": "2022-09-03T15:58:04.487Z"
   },
   {
    "duration": 19,
    "start_time": "2022-09-03T15:58:05.967Z"
   },
   {
    "duration": 42,
    "start_time": "2022-09-03T15:58:06.207Z"
   },
   {
    "duration": 109,
    "start_time": "2022-09-03T15:58:07.318Z"
   },
   {
    "duration": 15,
    "start_time": "2022-09-03T15:58:07.532Z"
   },
   {
    "duration": 1112,
    "start_time": "2022-09-03T15:58:07.864Z"
   },
   {
    "duration": 7,
    "start_time": "2022-09-03T15:58:08.978Z"
   },
   {
    "duration": 8,
    "start_time": "2022-09-03T15:58:38.193Z"
   },
   {
    "duration": 19,
    "start_time": "2022-09-03T15:59:15.270Z"
   },
   {
    "duration": 5,
    "start_time": "2022-09-03T15:59:28.303Z"
   },
   {
    "duration": 21,
    "start_time": "2022-09-03T15:59:33.839Z"
   },
   {
    "duration": 44,
    "start_time": "2022-09-03T15:59:36.205Z"
   },
   {
    "duration": 15,
    "start_time": "2022-09-03T15:59:59.956Z"
   },
   {
    "duration": 7,
    "start_time": "2022-09-03T16:00:44.372Z"
   },
   {
    "duration": 21,
    "start_time": "2022-09-03T16:00:54.065Z"
   },
   {
    "duration": 44,
    "start_time": "2022-09-03T16:00:55.089Z"
   },
   {
    "duration": 1589,
    "start_time": "2022-09-04T13:58:50.372Z"
   },
   {
    "duration": 11,
    "start_time": "2022-09-04T13:58:51.962Z"
   },
   {
    "duration": 24,
    "start_time": "2022-09-04T13:58:51.974Z"
   },
   {
    "duration": 17,
    "start_time": "2022-09-04T13:58:52.000Z"
   },
   {
    "duration": 12,
    "start_time": "2022-09-04T13:58:52.019Z"
   },
   {
    "duration": 33,
    "start_time": "2022-09-04T13:58:52.032Z"
   },
   {
    "duration": 12,
    "start_time": "2022-09-04T13:58:52.067Z"
   },
   {
    "duration": 12,
    "start_time": "2022-09-04T13:58:52.081Z"
   },
   {
    "duration": 7,
    "start_time": "2022-09-04T13:58:52.095Z"
   },
   {
    "duration": 8,
    "start_time": "2022-09-04T13:58:52.104Z"
   },
   {
    "duration": 11,
    "start_time": "2022-09-04T13:58:52.113Z"
   },
   {
    "duration": 27,
    "start_time": "2022-09-04T13:58:52.126Z"
   },
   {
    "duration": 369,
    "start_time": "2022-09-04T13:58:52.155Z"
   },
   {
    "duration": 55,
    "start_time": "2022-09-04T13:58:52.526Z"
   },
   {
    "duration": 11,
    "start_time": "2022-09-04T13:58:52.648Z"
   },
   {
    "duration": 17,
    "start_time": "2022-09-04T13:58:52.661Z"
   },
   {
    "duration": 92,
    "start_time": "2022-09-04T13:58:52.680Z"
   },
   {
    "duration": 8,
    "start_time": "2022-09-04T13:58:52.774Z"
   },
   {
    "duration": 18,
    "start_time": "2022-09-04T13:58:52.784Z"
   },
   {
    "duration": 8,
    "start_time": "2022-09-04T13:58:52.803Z"
   },
   {
    "duration": 50,
    "start_time": "2022-09-04T13:58:52.812Z"
   },
   {
    "duration": 156,
    "start_time": "2022-09-04T13:58:52.864Z"
   },
   {
    "duration": 34,
    "start_time": "2022-09-04T13:58:53.021Z"
   },
   {
    "duration": 111,
    "start_time": "2022-09-04T13:58:53.057Z"
   },
   {
    "duration": 17,
    "start_time": "2022-09-04T13:58:53.169Z"
   },
   {
    "duration": 122,
    "start_time": "2022-09-04T13:58:53.188Z"
   },
   {
    "duration": 17,
    "start_time": "2022-09-04T13:58:53.311Z"
   },
   {
    "duration": 107,
    "start_time": "2022-09-04T13:58:53.340Z"
   },
   {
    "duration": 27,
    "start_time": "2022-09-04T13:58:53.449Z"
   },
   {
    "duration": 209,
    "start_time": "2022-09-04T13:58:53.477Z"
   },
   {
    "duration": 19,
    "start_time": "2022-09-04T13:58:53.688Z"
   },
   {
    "duration": 69,
    "start_time": "2022-09-04T13:58:53.709Z"
   },
   {
    "duration": 129,
    "start_time": "2022-09-04T13:58:53.780Z"
   },
   {
    "duration": 12,
    "start_time": "2022-09-04T13:58:53.911Z"
   },
   {
    "duration": 1358,
    "start_time": "2022-09-04T13:58:53.925Z"
   },
   {
    "duration": 7,
    "start_time": "2022-09-04T13:58:55.284Z"
   },
   {
    "duration": 7,
    "start_time": "2022-09-04T13:58:55.292Z"
   },
   {
    "duration": 24,
    "start_time": "2022-09-04T13:58:55.300Z"
   },
   {
    "duration": 46,
    "start_time": "2022-09-04T13:58:55.325Z"
   },
   {
    "duration": 15,
    "start_time": "2022-09-04T13:58:55.373Z"
   },
   {
    "duration": 16,
    "start_time": "2022-09-04T13:58:55.390Z"
   },
   {
    "duration": 14,
    "start_time": "2022-09-04T13:58:55.407Z"
   },
   {
    "duration": 29,
    "start_time": "2022-09-04T13:58:55.422Z"
   },
   {
    "duration": 49,
    "start_time": "2022-09-04T13:58:55.453Z"
   },
   {
    "duration": 73,
    "start_time": "2022-09-04T14:05:05.784Z"
   },
   {
    "duration": 70,
    "start_time": "2022-09-04T14:05:17.181Z"
   },
   {
    "duration": 71,
    "start_time": "2022-09-04T14:05:21.238Z"
   },
   {
    "duration": 1409,
    "start_time": "2023-05-31T12:32:39.301Z"
   },
   {
    "duration": 784,
    "start_time": "2023-05-31T12:32:40.711Z"
   },
   {
    "duration": 21,
    "start_time": "2023-05-31T12:35:53.364Z"
   },
   {
    "duration": 22,
    "start_time": "2023-05-31T12:36:32.754Z"
   },
   {
    "duration": 16,
    "start_time": "2023-05-31T12:38:27.344Z"
   },
   {
    "duration": 26,
    "start_time": "2023-05-31T12:39:33.815Z"
   },
   {
    "duration": 21,
    "start_time": "2023-05-31T12:39:35.027Z"
   },
   {
    "duration": 19,
    "start_time": "2023-05-31T12:40:28.933Z"
   },
   {
    "duration": 25,
    "start_time": "2023-05-31T12:41:15.014Z"
   },
   {
    "duration": 11,
    "start_time": "2023-05-31T12:41:16.028Z"
   },
   {
    "duration": 5,
    "start_time": "2023-05-31T12:41:23.563Z"
   },
   {
    "duration": 18,
    "start_time": "2023-05-31T12:42:28.766Z"
   },
   {
    "duration": 404,
    "start_time": "2023-05-31T12:42:33.005Z"
   },
   {
    "duration": 57,
    "start_time": "2023-05-31T12:43:04.056Z"
   },
   {
    "duration": 47,
    "start_time": "2023-05-31T12:43:43.146Z"
   },
   {
    "duration": 25,
    "start_time": "2023-05-31T12:43:57.040Z"
   },
   {
    "duration": 106,
    "start_time": "2023-05-31T12:45:51.807Z"
   },
   {
    "duration": 156,
    "start_time": "2023-05-31T12:46:10.056Z"
   },
   {
    "duration": 8,
    "start_time": "2023-05-31T12:46:38.003Z"
   },
   {
    "duration": 8,
    "start_time": "2023-05-31T12:46:52.307Z"
   },
   {
    "duration": 26,
    "start_time": "2023-05-31T12:48:04.832Z"
   },
   {
    "duration": 122,
    "start_time": "2023-05-31T12:48:05.473Z"
   },
   {
    "duration": 8,
    "start_time": "2023-05-31T12:48:06.461Z"
   },
   {
    "duration": 15,
    "start_time": "2023-05-31T12:48:13.969Z"
   },
   {
    "duration": 48,
    "start_time": "2023-05-31T12:48:18.151Z"
   },
   {
    "duration": 9,
    "start_time": "2023-05-31T12:49:36.355Z"
   },
   {
    "duration": 204,
    "start_time": "2023-05-31T12:51:11.277Z"
   },
   {
    "duration": 9,
    "start_time": "2023-05-31T12:51:30.700Z"
   },
   {
    "duration": 24,
    "start_time": "2023-05-31T12:53:04.652Z"
   },
   {
    "duration": 11,
    "start_time": "2023-05-31T12:53:06.054Z"
   },
   {
    "duration": 10,
    "start_time": "2023-05-31T12:53:54.742Z"
   },
   {
    "duration": 22,
    "start_time": "2023-05-31T12:54:13.261Z"
   },
   {
    "duration": 91,
    "start_time": "2023-05-31T12:54:14.506Z"
   },
   {
    "duration": 17,
    "start_time": "2023-05-31T12:56:30.744Z"
   },
   {
    "duration": 101,
    "start_time": "2023-05-31T12:56:33.879Z"
   },
   {
    "duration": 15,
    "start_time": "2023-05-31T12:56:37.976Z"
   },
   {
    "duration": 123,
    "start_time": "2023-05-31T12:56:40.513Z"
   },
   {
    "duration": 18,
    "start_time": "2023-05-31T12:56:41.654Z"
   },
   {
    "duration": 106,
    "start_time": "2023-05-31T12:56:42.741Z"
   },
   {
    "duration": 26,
    "start_time": "2023-05-31T12:56:43.809Z"
   },
   {
    "duration": 207,
    "start_time": "2023-05-31T12:57:41.453Z"
   },
   {
    "duration": 15,
    "start_time": "2023-05-31T12:58:32.558Z"
   },
   {
    "duration": 45,
    "start_time": "2023-05-31T12:58:35.841Z"
   },
   {
    "duration": 135,
    "start_time": "2023-05-31T13:00:12.945Z"
   },
   {
    "duration": 1360,
    "start_time": "2023-05-31T13:02:28.526Z"
   },
   {
    "duration": 7,
    "start_time": "2023-05-31T13:02:33.949Z"
   },
   {
    "duration": 6,
    "start_time": "2023-05-31T13:03:31.493Z"
   },
   {
    "duration": 20,
    "start_time": "2023-05-31T13:04:43.766Z"
   },
   {
    "duration": 43,
    "start_time": "2023-05-31T13:04:45.136Z"
   },
   {
    "duration": 17,
    "start_time": "2023-05-31T13:05:03.475Z"
   },
   {
    "duration": 18,
    "start_time": "2023-05-31T13:05:59.745Z"
   },
   {
    "duration": 16,
    "start_time": "2023-05-31T13:06:00.737Z"
   },
   {
    "duration": 15,
    "start_time": "2023-05-31T13:06:03.467Z"
   },
   {
    "duration": 51,
    "start_time": "2023-05-31T13:06:05.305Z"
   },
   {
    "duration": 83,
    "start_time": "2023-05-31T13:06:52.377Z"
   },
   {
    "duration": 87,
    "start_time": "2023-05-31T13:07:33.513Z"
   }
  ],
  "kernelspec": {
   "display_name": "Python 3 (ipykernel)",
   "language": "python",
   "name": "python3"
  },
  "language_info": {
   "codemirror_mode": {
    "name": "ipython",
    "version": 3
   },
   "file_extension": ".py",
   "mimetype": "text/x-python",
   "name": "python",
   "nbconvert_exporter": "python",
   "pygments_lexer": "ipython3",
   "version": "3.9.5"
  },
  "toc": {
   "base_numbering": 1,
   "nav_menu": {},
   "number_sections": true,
   "sideBar": true,
   "skip_h1_title": true,
   "title_cell": "Содержание",
   "title_sidebar": "Contents",
   "toc_cell": true,
   "toc_position": {},
   "toc_section_display": true,
   "toc_window_display": false
  }
 },
 "nbformat": 4,
 "nbformat_minor": 2
}
