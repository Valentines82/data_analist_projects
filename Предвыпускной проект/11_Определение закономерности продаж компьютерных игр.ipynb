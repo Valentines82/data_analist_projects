{
 "cells": [
  {
   "cell_type": "markdown",
   "id": "7e520a41",
   "metadata": {
    "toc": true
   },
   "source": [
    "<h1>Содержание<span class=\"tocSkip\"></span></h1>\n",
    "<div class=\"toc\"><ul class=\"toc-item\"><li><span><a href=\"#Описание-проекта:\" data-toc-modified-id=\"Описание-проекта:-1\"><span class=\"toc-item-num\">1&nbsp;&nbsp;</span>Описание проекта:</a></span></li><li><span><a href=\"#Открываем-данные\" data-toc-modified-id=\"Открываем-данные-2\"><span class=\"toc-item-num\">2&nbsp;&nbsp;</span>Открываем данные</a></span></li><li><span><a href=\"#Подготовка-данных\" data-toc-modified-id=\"Подготовка-данных-3\"><span class=\"toc-item-num\">3&nbsp;&nbsp;</span>Подготовка данных</a></span><ul class=\"toc-item\"><li><span><a href=\"#Выводы:\" data-toc-modified-id=\"Выводы:-3.1\"><span class=\"toc-item-num\">3.1&nbsp;&nbsp;</span>Выводы:</a></span></li></ul></li><li><span><a href=\"#Проведем-исследовательский-анализ-данных\" data-toc-modified-id=\"Проведем-исследовательский-анализ-данных-4\"><span class=\"toc-item-num\">4&nbsp;&nbsp;</span>Проведем исследовательский анализ данных</a></span><ul class=\"toc-item\"><li><span><a href=\"#Посмотрим,-сколько-игр-выпускалось-в-разные-годы\" data-toc-modified-id=\"Посмотрим,-сколько-игр-выпускалось-в-разные-годы-4.1\"><span class=\"toc-item-num\">4.1&nbsp;&nbsp;</span>Посмотрим, сколько игр выпускалось в разные годы</a></span></li><li><span><a href=\"#Посмотрим,-как-менялись-продажи-по-платформам\" data-toc-modified-id=\"Посмотрим,-как-менялись-продажи-по-платформам-4.2\"><span class=\"toc-item-num\">4.2&nbsp;&nbsp;</span>Посмотрим, как менялись продажи по платформам</a></span></li><li><span><a href=\"#Возьмем-данные-за-соответствующий-актуальный-период.-Актуальный-период-определим-по-результатам-исследования-предыдущих-вопросов.-Основной-фактор-—-эти-данные-помогут-построить-прогноз-на-2017-год.\" data-toc-modified-id=\"Возьмем-данные-за-соответствующий-актуальный-период.-Актуальный-период-определим-по-результатам-исследования-предыдущих-вопросов.-Основной-фактор-—-эти-данные-помогут-построить-прогноз-на-2017-год.-4.3\"><span class=\"toc-item-num\">4.3&nbsp;&nbsp;</span>Возьмем данные за соответствующий актуальный период. Актуальный период определим по результатам исследования предыдущих вопросов. Основной фактор — эти данные помогут построить прогноз на 2017 год.</a></span></li><li><span><a href=\"#Выберем-несколько-потенциально-прибыльных-платформ.\" data-toc-modified-id=\"Выберем-несколько-потенциально-прибыльных-платформ.-4.4\"><span class=\"toc-item-num\">4.4&nbsp;&nbsp;</span>Выберем несколько потенциально прибыльных платформ.</a></span></li><li><span><a href=\"#Построим-график-«ящик-с-усами»-по-глобальным-продажам-каждой-игры-и-разбивкой-по-платформам.\" data-toc-modified-id=\"Построим-график-«ящик-с-усами»-по-глобальным-продажам-каждой-игры-и-разбивкой-по-платформам.-4.5\"><span class=\"toc-item-num\">4.5&nbsp;&nbsp;</span>Построим график «ящик с усами» по глобальным продажам каждой игры и разбивкой по платформам.</a></span></li><li><span><a href=\"#Посмотрим,-как-влияют-на-продажи-внутри-одной-популярной-платформы-отзывы-пользователей-и-критиков.\" data-toc-modified-id=\"Посмотрим,-как-влияют-на-продажи-внутри-одной-популярной-платформы-отзывы-пользователей-и-критиков.-4.6\"><span class=\"toc-item-num\">4.6&nbsp;&nbsp;</span>Посмотрим, как влияют на продажи внутри одной популярной платформы отзывы пользователей и критиков.</a></span></li><li><span><a href=\"#Посмотрим-на-общее-распределение-игр-по-жанрам.-Что-можно-сказать-о-самых-прибыльных-жанрах?\" data-toc-modified-id=\"Посмотрим-на-общее-распределение-игр-по-жанрам.-Что-можно-сказать-о-самых-прибыльных-жанрах?-4.7\"><span class=\"toc-item-num\">4.7&nbsp;&nbsp;</span>Посмотрим на общее распределение игр по жанрам. Что можно сказать о самых прибыльных жанрах?</a></span></li><li><span><a href=\"#ВЫВОД:\" data-toc-modified-id=\"ВЫВОД:-4.8\"><span class=\"toc-item-num\">4.8&nbsp;&nbsp;</span>ВЫВОД:</a></span></li></ul></li><li><span><a href=\"#Составим-портрет-пользователя-каждого-региона\" data-toc-modified-id=\"Составим-портрет-пользователя-каждого-региона-5\"><span class=\"toc-item-num\">5&nbsp;&nbsp;</span>Составим портрет пользователя каждого региона</a></span><ul class=\"toc-item\"><li><span><a href=\"#Портрет-пользователей-Северной-Америки\" data-toc-modified-id=\"Портрет-пользователей-Северной-Америки-5.1\"><span class=\"toc-item-num\">5.1&nbsp;&nbsp;</span>Портрет пользователей Северной Америки</a></span><ul class=\"toc-item\"><li><span><a href=\"#Вывод:\" data-toc-modified-id=\"Вывод:-5.1.1\"><span class=\"toc-item-num\">5.1.1&nbsp;&nbsp;</span>Вывод:</a></span></li></ul></li><li><span><a href=\"#Портрет-пользователя-из-Европы\" data-toc-modified-id=\"Портрет-пользователя-из-Европы-5.2\"><span class=\"toc-item-num\">5.2&nbsp;&nbsp;</span>Портрет пользователя из Европы</a></span><ul class=\"toc-item\"><li><span><a href=\"#ВЫВОД:\" data-toc-modified-id=\"ВЫВОД:-5.2.1\"><span class=\"toc-item-num\">5.2.1&nbsp;&nbsp;</span>ВЫВОД:</a></span></li></ul></li><li><span><a href=\"#Портрет-пользователей-из-Японии\" data-toc-modified-id=\"Портрет-пользователей-из-Японии-5.3\"><span class=\"toc-item-num\">5.3&nbsp;&nbsp;</span>Портрет пользователей из Японии</a></span><ul class=\"toc-item\"><li><span><a href=\"#Вывод:\" data-toc-modified-id=\"Вывод:-5.3.1\"><span class=\"toc-item-num\">5.3.1&nbsp;&nbsp;</span>Вывод:</a></span></li></ul></li><li><span><a href=\"#Влияет-ли-рейтинг-ESRB-на-продажи-в-отдельном-регионе?\" data-toc-modified-id=\"Влияет-ли-рейтинг-ESRB-на-продажи-в-отдельном-регионе?-5.4\"><span class=\"toc-item-num\">5.4&nbsp;&nbsp;</span>Влияет ли рейтинг ESRB на продажи в отдельном регионе?</a></span></li><li><span><a href=\"#Вывод-по-составлению-портрета-пользователя-каждого-региона\" data-toc-modified-id=\"Вывод-по-составлению-портрета-пользователя-каждого-региона-5.5\"><span class=\"toc-item-num\">5.5&nbsp;&nbsp;</span>Вывод по составлению портрета пользователя каждого региона</a></span></li></ul></li><li><span><a href=\"#Проверка-гипотез\" data-toc-modified-id=\"Проверка-гипотез-6\"><span class=\"toc-item-num\">6&nbsp;&nbsp;</span>Проверка гипотез</a></span><ul class=\"toc-item\"><li><span><a href=\"#Средние-пользовательские-рейтинги-платформ-Xbox-One-и-PC-одинаковые\" data-toc-modified-id=\"Средние-пользовательские-рейтинги-платформ-Xbox-One-и-PC-одинаковые-6.1\"><span class=\"toc-item-num\">6.1&nbsp;&nbsp;</span>Средние пользовательские рейтинги платформ Xbox One и PC одинаковые</a></span><ul class=\"toc-item\"><li><span><a href=\"#ВЫВОД:-Средние-пользовательские-рейтинги-платформ-Xbox-One-и-PC-одинаковые.\" data-toc-modified-id=\"ВЫВОД:-Средние-пользовательские-рейтинги-платформ-Xbox-One-и-PC-одинаковые.-6.1.1\"><span class=\"toc-item-num\">6.1.1&nbsp;&nbsp;</span>ВЫВОД: Средние пользовательские рейтинги платформ Xbox One и PC одинаковые.</a></span></li></ul></li><li><span><a href=\"#Средние-пользовательские-рейтинги-жанров-Action-(англ.-«действие»,-экшен-игры)-и-Sports-(англ.-«спортивные-соревнования»)-разные\" data-toc-modified-id=\"Средние-пользовательские-рейтинги-жанров-Action-(англ.-«действие»,-экшен-игры)-и-Sports-(англ.-«спортивные-соревнования»)-разные-6.2\"><span class=\"toc-item-num\">6.2&nbsp;&nbsp;</span>Средние пользовательские рейтинги жанров Action (англ. «действие», экшен-игры) и Sports (англ. «спортивные соревнования») разные</a></span><ul class=\"toc-item\"><li><span><a href=\"#Вывод:-Практически-нет-вероятности-получить-одинакове-средние-рейнтинги-по-двум-жанрам.\" data-toc-modified-id=\"Вывод:-Практически-нет-вероятности-получить-одинакове-средние-рейнтинги-по-двум-жанрам.-6.2.1\"><span class=\"toc-item-num\">6.2.1&nbsp;&nbsp;</span>Вывод: Практически нет вероятности получить одинакове средние рейнтинги по двум жанрам.</a></span></li></ul></li></ul></li><li><span><a href=\"#Общий-вывод\" data-toc-modified-id=\"Общий-вывод-7\"><span class=\"toc-item-num\">7&nbsp;&nbsp;</span>Общий вывод</a></span></li></ul></div>"
   ]
  },
  {
   "cell_type": "code",
   "execution_count": 1,
   "id": "0aac8e84",
   "metadata": {},
   "outputs": [],
   "source": [
    "# загружаем нужные библиотеки\n",
    "import pandas as pd\n",
    "import seaborn as sns\n",
    "from scipy import stats as st\n",
    "import numpy as np\n",
    "import matplotlib.pyplot as plt\n",
    "%matplotlib inline\n",
    "plt.rcParams.update({'figure.max_open_warning': 0})\n",
    "import warnings\n",
    "warnings.filterwarnings('ignore')"
   ]
  },
  {
   "cell_type": "markdown",
   "id": "38371712",
   "metadata": {},
   "source": [
    "## Описание проекта:\n",
    "Работаем с интернет-магазином, который продаёт по всему миру компьютерные игры. Из открытых источников доступны исторические данные о продажах игр, оценки пользователей и экспертов, жанры и платформы (например, Xbox или PlayStation). Нам нужно выявить определяющие успешность игры закономерности. Это позволит сделать ставку на потенциально популярный продукт и спланировать рекламные кампании. Перед нами данные до 2016 года. Представим, что сейчас декабрь 2016 г., и мы планируете кампанию на 2017-й. "
   ]
  },
  {
   "cell_type": "markdown",
   "id": "6d5192b1",
   "metadata": {},
   "source": [
    "## Открываем данные"
   ]
  },
  {
   "cell_type": "code",
   "execution_count": 2,
   "id": "3f8d4853",
   "metadata": {},
   "outputs": [
    {
     "data": {
      "text/html": [
       "<div>\n",
       "<style scoped>\n",
       "    .dataframe tbody tr th:only-of-type {\n",
       "        vertical-align: middle;\n",
       "    }\n",
       "\n",
       "    .dataframe tbody tr th {\n",
       "        vertical-align: top;\n",
       "    }\n",
       "\n",
       "    .dataframe thead th {\n",
       "        text-align: right;\n",
       "    }\n",
       "</style>\n",
       "<table border=\"1\" class=\"dataframe\">\n",
       "  <thead>\n",
       "    <tr style=\"text-align: right;\">\n",
       "      <th></th>\n",
       "      <th>Name</th>\n",
       "      <th>Platform</th>\n",
       "      <th>Year_of_Release</th>\n",
       "      <th>Genre</th>\n",
       "      <th>NA_sales</th>\n",
       "      <th>EU_sales</th>\n",
       "      <th>JP_sales</th>\n",
       "      <th>Other_sales</th>\n",
       "      <th>Critic_Score</th>\n",
       "      <th>User_Score</th>\n",
       "      <th>Rating</th>\n",
       "    </tr>\n",
       "  </thead>\n",
       "  <tbody>\n",
       "    <tr>\n",
       "      <th>0</th>\n",
       "      <td>Wii Sports</td>\n",
       "      <td>Wii</td>\n",
       "      <td>2006.0</td>\n",
       "      <td>Sports</td>\n",
       "      <td>41.36</td>\n",
       "      <td>28.96</td>\n",
       "      <td>3.77</td>\n",
       "      <td>8.45</td>\n",
       "      <td>76.0</td>\n",
       "      <td>8</td>\n",
       "      <td>E</td>\n",
       "    </tr>\n",
       "    <tr>\n",
       "      <th>1</th>\n",
       "      <td>Super Mario Bros.</td>\n",
       "      <td>NES</td>\n",
       "      <td>1985.0</td>\n",
       "      <td>Platform</td>\n",
       "      <td>29.08</td>\n",
       "      <td>3.58</td>\n",
       "      <td>6.81</td>\n",
       "      <td>0.77</td>\n",
       "      <td>NaN</td>\n",
       "      <td>NaN</td>\n",
       "      <td>NaN</td>\n",
       "    </tr>\n",
       "    <tr>\n",
       "      <th>2</th>\n",
       "      <td>Mario Kart Wii</td>\n",
       "      <td>Wii</td>\n",
       "      <td>2008.0</td>\n",
       "      <td>Racing</td>\n",
       "      <td>15.68</td>\n",
       "      <td>12.76</td>\n",
       "      <td>3.79</td>\n",
       "      <td>3.29</td>\n",
       "      <td>82.0</td>\n",
       "      <td>8.3</td>\n",
       "      <td>E</td>\n",
       "    </tr>\n",
       "    <tr>\n",
       "      <th>3</th>\n",
       "      <td>Wii Sports Resort</td>\n",
       "      <td>Wii</td>\n",
       "      <td>2009.0</td>\n",
       "      <td>Sports</td>\n",
       "      <td>15.61</td>\n",
       "      <td>10.93</td>\n",
       "      <td>3.28</td>\n",
       "      <td>2.95</td>\n",
       "      <td>80.0</td>\n",
       "      <td>8</td>\n",
       "      <td>E</td>\n",
       "    </tr>\n",
       "    <tr>\n",
       "      <th>4</th>\n",
       "      <td>Pokemon Red/Pokemon Blue</td>\n",
       "      <td>GB</td>\n",
       "      <td>1996.0</td>\n",
       "      <td>Role-Playing</td>\n",
       "      <td>11.27</td>\n",
       "      <td>8.89</td>\n",
       "      <td>10.22</td>\n",
       "      <td>1.00</td>\n",
       "      <td>NaN</td>\n",
       "      <td>NaN</td>\n",
       "      <td>NaN</td>\n",
       "    </tr>\n",
       "  </tbody>\n",
       "</table>\n",
       "</div>"
      ],
      "text/plain": [
       "                       Name Platform  Year_of_Release         Genre  NA_sales  \\\n",
       "0                Wii Sports      Wii           2006.0        Sports     41.36   \n",
       "1         Super Mario Bros.      NES           1985.0      Platform     29.08   \n",
       "2            Mario Kart Wii      Wii           2008.0        Racing     15.68   \n",
       "3         Wii Sports Resort      Wii           2009.0        Sports     15.61   \n",
       "4  Pokemon Red/Pokemon Blue       GB           1996.0  Role-Playing     11.27   \n",
       "\n",
       "   EU_sales  JP_sales  Other_sales  Critic_Score User_Score Rating  \n",
       "0     28.96      3.77         8.45          76.0          8      E  \n",
       "1      3.58      6.81         0.77           NaN        NaN    NaN  \n",
       "2     12.76      3.79         3.29          82.0        8.3      E  \n",
       "3     10.93      3.28         2.95          80.0          8      E  \n",
       "4      8.89     10.22         1.00           NaN        NaN    NaN  "
      ]
     },
     "execution_count": 2,
     "metadata": {},
     "output_type": "execute_result"
    }
   ],
   "source": [
    "# загружаем нужный файл\n",
    "df = pd.read_csv('/datasets/games.csv')\n",
    "df.head()"
   ]
  },
  {
   "cell_type": "markdown",
   "id": "622c514e",
   "metadata": {},
   "source": [
    "## Подготовка данных"
   ]
  },
  {
   "cell_type": "markdown",
   "id": "64b95a9a",
   "metadata": {},
   "source": [
    "**Заменим названия столбцов (приведем к нижнему регистру)**"
   ]
  },
  {
   "cell_type": "code",
   "execution_count": 3,
   "id": "0712500b",
   "metadata": {},
   "outputs": [
    {
     "data": {
      "text/html": [
       "<div>\n",
       "<style scoped>\n",
       "    .dataframe tbody tr th:only-of-type {\n",
       "        vertical-align: middle;\n",
       "    }\n",
       "\n",
       "    .dataframe tbody tr th {\n",
       "        vertical-align: top;\n",
       "    }\n",
       "\n",
       "    .dataframe thead th {\n",
       "        text-align: right;\n",
       "    }\n",
       "</style>\n",
       "<table border=\"1\" class=\"dataframe\">\n",
       "  <thead>\n",
       "    <tr style=\"text-align: right;\">\n",
       "      <th></th>\n",
       "      <th>name</th>\n",
       "      <th>platform</th>\n",
       "      <th>year_of_release</th>\n",
       "      <th>genre</th>\n",
       "      <th>na_sales</th>\n",
       "      <th>eu_sales</th>\n",
       "      <th>jp_sales</th>\n",
       "      <th>other_sales</th>\n",
       "      <th>critic_score</th>\n",
       "      <th>user_score</th>\n",
       "      <th>rating</th>\n",
       "    </tr>\n",
       "  </thead>\n",
       "  <tbody>\n",
       "    <tr>\n",
       "      <th>0</th>\n",
       "      <td>Wii Sports</td>\n",
       "      <td>Wii</td>\n",
       "      <td>2006.0</td>\n",
       "      <td>Sports</td>\n",
       "      <td>41.36</td>\n",
       "      <td>28.96</td>\n",
       "      <td>3.77</td>\n",
       "      <td>8.45</td>\n",
       "      <td>76.0</td>\n",
       "      <td>8</td>\n",
       "      <td>E</td>\n",
       "    </tr>\n",
       "    <tr>\n",
       "      <th>1</th>\n",
       "      <td>Super Mario Bros.</td>\n",
       "      <td>NES</td>\n",
       "      <td>1985.0</td>\n",
       "      <td>Platform</td>\n",
       "      <td>29.08</td>\n",
       "      <td>3.58</td>\n",
       "      <td>6.81</td>\n",
       "      <td>0.77</td>\n",
       "      <td>NaN</td>\n",
       "      <td>NaN</td>\n",
       "      <td>NaN</td>\n",
       "    </tr>\n",
       "    <tr>\n",
       "      <th>2</th>\n",
       "      <td>Mario Kart Wii</td>\n",
       "      <td>Wii</td>\n",
       "      <td>2008.0</td>\n",
       "      <td>Racing</td>\n",
       "      <td>15.68</td>\n",
       "      <td>12.76</td>\n",
       "      <td>3.79</td>\n",
       "      <td>3.29</td>\n",
       "      <td>82.0</td>\n",
       "      <td>8.3</td>\n",
       "      <td>E</td>\n",
       "    </tr>\n",
       "    <tr>\n",
       "      <th>3</th>\n",
       "      <td>Wii Sports Resort</td>\n",
       "      <td>Wii</td>\n",
       "      <td>2009.0</td>\n",
       "      <td>Sports</td>\n",
       "      <td>15.61</td>\n",
       "      <td>10.93</td>\n",
       "      <td>3.28</td>\n",
       "      <td>2.95</td>\n",
       "      <td>80.0</td>\n",
       "      <td>8</td>\n",
       "      <td>E</td>\n",
       "    </tr>\n",
       "    <tr>\n",
       "      <th>4</th>\n",
       "      <td>Pokemon Red/Pokemon Blue</td>\n",
       "      <td>GB</td>\n",
       "      <td>1996.0</td>\n",
       "      <td>Role-Playing</td>\n",
       "      <td>11.27</td>\n",
       "      <td>8.89</td>\n",
       "      <td>10.22</td>\n",
       "      <td>1.00</td>\n",
       "      <td>NaN</td>\n",
       "      <td>NaN</td>\n",
       "      <td>NaN</td>\n",
       "    </tr>\n",
       "  </tbody>\n",
       "</table>\n",
       "</div>"
      ],
      "text/plain": [
       "                       name platform  year_of_release         genre  na_sales  \\\n",
       "0                Wii Sports      Wii           2006.0        Sports     41.36   \n",
       "1         Super Mario Bros.      NES           1985.0      Platform     29.08   \n",
       "2            Mario Kart Wii      Wii           2008.0        Racing     15.68   \n",
       "3         Wii Sports Resort      Wii           2009.0        Sports     15.61   \n",
       "4  Pokemon Red/Pokemon Blue       GB           1996.0  Role-Playing     11.27   \n",
       "\n",
       "   eu_sales  jp_sales  other_sales  critic_score user_score rating  \n",
       "0     28.96      3.77         8.45          76.0          8      E  \n",
       "1      3.58      6.81         0.77           NaN        NaN    NaN  \n",
       "2     12.76      3.79         3.29          82.0        8.3      E  \n",
       "3     10.93      3.28         2.95          80.0          8      E  \n",
       "4      8.89     10.22         1.00           NaN        NaN    NaN  "
      ]
     },
     "execution_count": 3,
     "metadata": {},
     "output_type": "execute_result"
    }
   ],
   "source": [
    "# приводим заголовки столбцов к нижнему регистру\n",
    "df.columns = df.columns.str.lower()\n",
    "df.head()"
   ]
  },
  {
   "cell_type": "markdown",
   "id": "ed5b9501",
   "metadata": {},
   "source": [
    "**Преобразуем данные в нужные типы и обработаем пропуски, где это возможно.**"
   ]
  },
  {
   "cell_type": "code",
   "execution_count": 4,
   "id": "b2fa5dc5",
   "metadata": {},
   "outputs": [
    {
     "name": "stdout",
     "output_type": "stream",
     "text": [
      "<class 'pandas.core.frame.DataFrame'>\n",
      "RangeIndex: 16715 entries, 0 to 16714\n",
      "Data columns (total 11 columns):\n",
      " #   Column           Non-Null Count  Dtype  \n",
      "---  ------           --------------  -----  \n",
      " 0   name             16713 non-null  object \n",
      " 1   platform         16715 non-null  object \n",
      " 2   year_of_release  16446 non-null  float64\n",
      " 3   genre            16713 non-null  object \n",
      " 4   na_sales         16715 non-null  float64\n",
      " 5   eu_sales         16715 non-null  float64\n",
      " 6   jp_sales         16715 non-null  float64\n",
      " 7   other_sales      16715 non-null  float64\n",
      " 8   critic_score     8137 non-null   float64\n",
      " 9   user_score       10014 non-null  object \n",
      " 10  rating           9949 non-null   object \n",
      "dtypes: float64(6), object(5)\n",
      "memory usage: 1.4+ MB\n"
     ]
    }
   ],
   "source": [
    "# изучаем информацию по данным\n",
    "df.info()"
   ]
  },
  {
   "cell_type": "code",
   "execution_count": 5,
   "id": "16e1792a",
   "metadata": {},
   "outputs": [],
   "source": [
    "# удаляем два пропуска в 'name'\n",
    "df = df.dropna(subset = ['name'], axis = 0)"
   ]
  },
  {
   "cell_type": "code",
   "execution_count": 6,
   "id": "9f8a7ba7",
   "metadata": {},
   "outputs": [
    {
     "name": "stdout",
     "output_type": "stream",
     "text": [
      "<class 'pandas.core.frame.DataFrame'>\n",
      "Int64Index: 16713 entries, 0 to 16714\n",
      "Data columns (total 11 columns):\n",
      " #   Column           Non-Null Count  Dtype  \n",
      "---  ------           --------------  -----  \n",
      " 0   name             16713 non-null  object \n",
      " 1   platform         16713 non-null  object \n",
      " 2   year_of_release  16444 non-null  float64\n",
      " 3   genre            16713 non-null  object \n",
      " 4   na_sales         16713 non-null  float64\n",
      " 5   eu_sales         16713 non-null  float64\n",
      " 6   jp_sales         16713 non-null  float64\n",
      " 7   other_sales      16713 non-null  float64\n",
      " 8   critic_score     8137 non-null   float64\n",
      " 9   user_score       10014 non-null  object \n",
      " 10  rating           9949 non-null   object \n",
      "dtypes: float64(6), object(5)\n",
      "memory usage: 1.5+ MB\n"
     ]
    }
   ],
   "source": [
    "df.info()"
   ]
  },
  {
   "cell_type": "code",
   "execution_count": 7,
   "id": "36658ea8",
   "metadata": {},
   "outputs": [
    {
     "data": {
      "text/html": [
       "<div>\n",
       "<style scoped>\n",
       "    .dataframe tbody tr th:only-of-type {\n",
       "        vertical-align: middle;\n",
       "    }\n",
       "\n",
       "    .dataframe tbody tr th {\n",
       "        vertical-align: top;\n",
       "    }\n",
       "\n",
       "    .dataframe thead th {\n",
       "        text-align: right;\n",
       "    }\n",
       "</style>\n",
       "<table border=\"1\" class=\"dataframe\">\n",
       "  <thead>\n",
       "    <tr style=\"text-align: right;\">\n",
       "      <th></th>\n",
       "      <th>count</th>\n",
       "      <th>mean</th>\n",
       "      <th>std</th>\n",
       "      <th>min</th>\n",
       "      <th>25%</th>\n",
       "      <th>50%</th>\n",
       "      <th>75%</th>\n",
       "      <th>max</th>\n",
       "    </tr>\n",
       "  </thead>\n",
       "  <tbody>\n",
       "    <tr>\n",
       "      <th>year_of_release</th>\n",
       "      <td>16444.0</td>\n",
       "      <td>2006.486256</td>\n",
       "      <td>5.875525</td>\n",
       "      <td>1980.0</td>\n",
       "      <td>2003.0</td>\n",
       "      <td>2007.00</td>\n",
       "      <td>2010.00</td>\n",
       "      <td>2016.00</td>\n",
       "    </tr>\n",
       "    <tr>\n",
       "      <th>na_sales</th>\n",
       "      <td>16713.0</td>\n",
       "      <td>0.263302</td>\n",
       "      <td>0.813565</td>\n",
       "      <td>0.0</td>\n",
       "      <td>0.0</td>\n",
       "      <td>0.08</td>\n",
       "      <td>0.24</td>\n",
       "      <td>41.36</td>\n",
       "    </tr>\n",
       "    <tr>\n",
       "      <th>eu_sales</th>\n",
       "      <td>16713.0</td>\n",
       "      <td>0.145045</td>\n",
       "      <td>0.503359</td>\n",
       "      <td>0.0</td>\n",
       "      <td>0.0</td>\n",
       "      <td>0.02</td>\n",
       "      <td>0.11</td>\n",
       "      <td>28.96</td>\n",
       "    </tr>\n",
       "    <tr>\n",
       "      <th>jp_sales</th>\n",
       "      <td>16713.0</td>\n",
       "      <td>0.077625</td>\n",
       "      <td>0.308871</td>\n",
       "      <td>0.0</td>\n",
       "      <td>0.0</td>\n",
       "      <td>0.00</td>\n",
       "      <td>0.04</td>\n",
       "      <td>10.22</td>\n",
       "    </tr>\n",
       "    <tr>\n",
       "      <th>other_sales</th>\n",
       "      <td>16713.0</td>\n",
       "      <td>0.047343</td>\n",
       "      <td>0.186742</td>\n",
       "      <td>0.0</td>\n",
       "      <td>0.0</td>\n",
       "      <td>0.01</td>\n",
       "      <td>0.03</td>\n",
       "      <td>10.57</td>\n",
       "    </tr>\n",
       "    <tr>\n",
       "      <th>critic_score</th>\n",
       "      <td>8137.0</td>\n",
       "      <td>68.967679</td>\n",
       "      <td>13.938165</td>\n",
       "      <td>13.0</td>\n",
       "      <td>60.0</td>\n",
       "      <td>71.00</td>\n",
       "      <td>79.00</td>\n",
       "      <td>98.00</td>\n",
       "    </tr>\n",
       "  </tbody>\n",
       "</table>\n",
       "</div>"
      ],
      "text/plain": [
       "                   count         mean        std     min     25%      50%  \\\n",
       "year_of_release  16444.0  2006.486256   5.875525  1980.0  2003.0  2007.00   \n",
       "na_sales         16713.0     0.263302   0.813565     0.0     0.0     0.08   \n",
       "eu_sales         16713.0     0.145045   0.503359     0.0     0.0     0.02   \n",
       "jp_sales         16713.0     0.077625   0.308871     0.0     0.0     0.00   \n",
       "other_sales      16713.0     0.047343   0.186742     0.0     0.0     0.01   \n",
       "critic_score      8137.0    68.967679  13.938165    13.0    60.0    71.00   \n",
       "\n",
       "                     75%      max  \n",
       "year_of_release  2010.00  2016.00  \n",
       "na_sales            0.24    41.36  \n",
       "eu_sales            0.11    28.96  \n",
       "jp_sales            0.04    10.22  \n",
       "other_sales         0.03    10.57  \n",
       "critic_score       79.00    98.00  "
      ]
     },
     "execution_count": 7,
     "metadata": {},
     "output_type": "execute_result"
    }
   ],
   "source": [
    "df.describe().T"
   ]
  },
  {
   "cell_type": "code",
   "execution_count": 8,
   "id": "d39b33f3",
   "metadata": {},
   "outputs": [
    {
     "data": {
      "text/html": [
       "<div>\n",
       "<style scoped>\n",
       "    .dataframe tbody tr th:only-of-type {\n",
       "        vertical-align: middle;\n",
       "    }\n",
       "\n",
       "    .dataframe tbody tr th {\n",
       "        vertical-align: top;\n",
       "    }\n",
       "\n",
       "    .dataframe thead th {\n",
       "        text-align: right;\n",
       "    }\n",
       "</style>\n",
       "<table border=\"1\" class=\"dataframe\">\n",
       "  <thead>\n",
       "    <tr style=\"text-align: right;\">\n",
       "      <th></th>\n",
       "      <th>name</th>\n",
       "      <th>platform</th>\n",
       "      <th>year_of_release</th>\n",
       "      <th>genre</th>\n",
       "      <th>na_sales</th>\n",
       "      <th>eu_sales</th>\n",
       "      <th>jp_sales</th>\n",
       "      <th>other_sales</th>\n",
       "      <th>critic_score</th>\n",
       "      <th>user_score</th>\n",
       "      <th>rating</th>\n",
       "    </tr>\n",
       "  </thead>\n",
       "  <tbody>\n",
       "    <tr>\n",
       "      <th>183</th>\n",
       "      <td>Madden NFL 2004</td>\n",
       "      <td>PS2</td>\n",
       "      <td>NaN</td>\n",
       "      <td>Sports</td>\n",
       "      <td>4.26</td>\n",
       "      <td>0.26</td>\n",
       "      <td>0.01</td>\n",
       "      <td>0.71</td>\n",
       "      <td>94.0</td>\n",
       "      <td>8.5</td>\n",
       "      <td>E</td>\n",
       "    </tr>\n",
       "    <tr>\n",
       "      <th>377</th>\n",
       "      <td>FIFA Soccer 2004</td>\n",
       "      <td>PS2</td>\n",
       "      <td>NaN</td>\n",
       "      <td>Sports</td>\n",
       "      <td>0.59</td>\n",
       "      <td>2.36</td>\n",
       "      <td>0.04</td>\n",
       "      <td>0.51</td>\n",
       "      <td>84.0</td>\n",
       "      <td>6.4</td>\n",
       "      <td>E</td>\n",
       "    </tr>\n",
       "    <tr>\n",
       "      <th>456</th>\n",
       "      <td>LEGO Batman: The Videogame</td>\n",
       "      <td>Wii</td>\n",
       "      <td>NaN</td>\n",
       "      <td>Action</td>\n",
       "      <td>1.80</td>\n",
       "      <td>0.97</td>\n",
       "      <td>0.00</td>\n",
       "      <td>0.29</td>\n",
       "      <td>74.0</td>\n",
       "      <td>7.9</td>\n",
       "      <td>E10+</td>\n",
       "    </tr>\n",
       "    <tr>\n",
       "      <th>475</th>\n",
       "      <td>wwe Smackdown vs. Raw 2006</td>\n",
       "      <td>PS2</td>\n",
       "      <td>NaN</td>\n",
       "      <td>Fighting</td>\n",
       "      <td>1.57</td>\n",
       "      <td>1.02</td>\n",
       "      <td>0.00</td>\n",
       "      <td>0.41</td>\n",
       "      <td>NaN</td>\n",
       "      <td>NaN</td>\n",
       "      <td>NaN</td>\n",
       "    </tr>\n",
       "    <tr>\n",
       "      <th>609</th>\n",
       "      <td>Space Invaders</td>\n",
       "      <td>2600</td>\n",
       "      <td>NaN</td>\n",
       "      <td>Shooter</td>\n",
       "      <td>2.36</td>\n",
       "      <td>0.14</td>\n",
       "      <td>0.00</td>\n",
       "      <td>0.03</td>\n",
       "      <td>NaN</td>\n",
       "      <td>NaN</td>\n",
       "      <td>NaN</td>\n",
       "    </tr>\n",
       "    <tr>\n",
       "      <th>...</th>\n",
       "      <td>...</td>\n",
       "      <td>...</td>\n",
       "      <td>...</td>\n",
       "      <td>...</td>\n",
       "      <td>...</td>\n",
       "      <td>...</td>\n",
       "      <td>...</td>\n",
       "      <td>...</td>\n",
       "      <td>...</td>\n",
       "      <td>...</td>\n",
       "      <td>...</td>\n",
       "    </tr>\n",
       "    <tr>\n",
       "      <th>16373</th>\n",
       "      <td>PDC World Championship Darts 2008</td>\n",
       "      <td>PSP</td>\n",
       "      <td>NaN</td>\n",
       "      <td>Sports</td>\n",
       "      <td>0.01</td>\n",
       "      <td>0.00</td>\n",
       "      <td>0.00</td>\n",
       "      <td>0.00</td>\n",
       "      <td>43.0</td>\n",
       "      <td>tbd</td>\n",
       "      <td>E10+</td>\n",
       "    </tr>\n",
       "    <tr>\n",
       "      <th>16405</th>\n",
       "      <td>Freaky Flyers</td>\n",
       "      <td>GC</td>\n",
       "      <td>NaN</td>\n",
       "      <td>Racing</td>\n",
       "      <td>0.01</td>\n",
       "      <td>0.00</td>\n",
       "      <td>0.00</td>\n",
       "      <td>0.00</td>\n",
       "      <td>69.0</td>\n",
       "      <td>6.5</td>\n",
       "      <td>T</td>\n",
       "    </tr>\n",
       "    <tr>\n",
       "      <th>16448</th>\n",
       "      <td>Inversion</td>\n",
       "      <td>PC</td>\n",
       "      <td>NaN</td>\n",
       "      <td>Shooter</td>\n",
       "      <td>0.01</td>\n",
       "      <td>0.00</td>\n",
       "      <td>0.00</td>\n",
       "      <td>0.00</td>\n",
       "      <td>59.0</td>\n",
       "      <td>6.7</td>\n",
       "      <td>M</td>\n",
       "    </tr>\n",
       "    <tr>\n",
       "      <th>16458</th>\n",
       "      <td>Hakuouki: Shinsengumi Kitan</td>\n",
       "      <td>PS3</td>\n",
       "      <td>NaN</td>\n",
       "      <td>Adventure</td>\n",
       "      <td>0.01</td>\n",
       "      <td>0.00</td>\n",
       "      <td>0.00</td>\n",
       "      <td>0.00</td>\n",
       "      <td>NaN</td>\n",
       "      <td>NaN</td>\n",
       "      <td>NaN</td>\n",
       "    </tr>\n",
       "    <tr>\n",
       "      <th>16522</th>\n",
       "      <td>Virtua Quest</td>\n",
       "      <td>GC</td>\n",
       "      <td>NaN</td>\n",
       "      <td>Role-Playing</td>\n",
       "      <td>0.01</td>\n",
       "      <td>0.00</td>\n",
       "      <td>0.00</td>\n",
       "      <td>0.00</td>\n",
       "      <td>55.0</td>\n",
       "      <td>5.5</td>\n",
       "      <td>T</td>\n",
       "    </tr>\n",
       "  </tbody>\n",
       "</table>\n",
       "<p>269 rows × 11 columns</p>\n",
       "</div>"
      ],
      "text/plain": [
       "                                    name platform  year_of_release  \\\n",
       "183                      Madden NFL 2004      PS2              NaN   \n",
       "377                     FIFA Soccer 2004      PS2              NaN   \n",
       "456           LEGO Batman: The Videogame      Wii              NaN   \n",
       "475           wwe Smackdown vs. Raw 2006      PS2              NaN   \n",
       "609                       Space Invaders     2600              NaN   \n",
       "...                                  ...      ...              ...   \n",
       "16373  PDC World Championship Darts 2008      PSP              NaN   \n",
       "16405                      Freaky Flyers       GC              NaN   \n",
       "16448                          Inversion       PC              NaN   \n",
       "16458        Hakuouki: Shinsengumi Kitan      PS3              NaN   \n",
       "16522                       Virtua Quest       GC              NaN   \n",
       "\n",
       "              genre  na_sales  eu_sales  jp_sales  other_sales  critic_score  \\\n",
       "183          Sports      4.26      0.26      0.01         0.71          94.0   \n",
       "377          Sports      0.59      2.36      0.04         0.51          84.0   \n",
       "456          Action      1.80      0.97      0.00         0.29          74.0   \n",
       "475        Fighting      1.57      1.02      0.00         0.41           NaN   \n",
       "609         Shooter      2.36      0.14      0.00         0.03           NaN   \n",
       "...             ...       ...       ...       ...          ...           ...   \n",
       "16373        Sports      0.01      0.00      0.00         0.00          43.0   \n",
       "16405        Racing      0.01      0.00      0.00         0.00          69.0   \n",
       "16448       Shooter      0.01      0.00      0.00         0.00          59.0   \n",
       "16458     Adventure      0.01      0.00      0.00         0.00           NaN   \n",
       "16522  Role-Playing      0.01      0.00      0.00         0.00          55.0   \n",
       "\n",
       "      user_score rating  \n",
       "183          8.5      E  \n",
       "377          6.4      E  \n",
       "456          7.9   E10+  \n",
       "475          NaN    NaN  \n",
       "609          NaN    NaN  \n",
       "...          ...    ...  \n",
       "16373        tbd   E10+  \n",
       "16405        6.5      T  \n",
       "16448        6.7      M  \n",
       "16458        NaN    NaN  \n",
       "16522        5.5      T  \n",
       "\n",
       "[269 rows x 11 columns]"
      ]
     },
     "execution_count": 8,
     "metadata": {},
     "output_type": "execute_result"
    }
   ],
   "source": [
    "df[df['year_of_release'].isna()]"
   ]
  },
  {
   "cell_type": "code",
   "execution_count": 9,
   "id": "d373bd62",
   "metadata": {},
   "outputs": [
    {
     "data": {
      "text/plain": [
       "269"
      ]
     },
     "execution_count": 9,
     "metadata": {},
     "output_type": "execute_result"
    }
   ],
   "source": [
    "df['year_of_release'].isna().sum()"
   ]
  },
  {
   "cell_type": "code",
   "execution_count": 10,
   "id": "3add970c",
   "metadata": {},
   "outputs": [
    {
     "data": {
      "text/html": [
       "<div>\n",
       "<style scoped>\n",
       "    .dataframe tbody tr th:only-of-type {\n",
       "        vertical-align: middle;\n",
       "    }\n",
       "\n",
       "    .dataframe tbody tr th {\n",
       "        vertical-align: top;\n",
       "    }\n",
       "\n",
       "    .dataframe thead th {\n",
       "        text-align: right;\n",
       "    }\n",
       "</style>\n",
       "<table border=\"1\" class=\"dataframe\">\n",
       "  <thead>\n",
       "    <tr style=\"text-align: right;\">\n",
       "      <th></th>\n",
       "      <th>name</th>\n",
       "      <th>platform</th>\n",
       "      <th>year_of_release</th>\n",
       "      <th>genre</th>\n",
       "      <th>na_sales</th>\n",
       "      <th>eu_sales</th>\n",
       "      <th>jp_sales</th>\n",
       "      <th>other_sales</th>\n",
       "      <th>critic_score</th>\n",
       "      <th>user_score</th>\n",
       "      <th>rating</th>\n",
       "    </tr>\n",
       "  </thead>\n",
       "  <tbody>\n",
       "    <tr>\n",
       "      <th>377</th>\n",
       "      <td>FIFA Soccer 2004</td>\n",
       "      <td>PS2</td>\n",
       "      <td>NaN</td>\n",
       "      <td>Sports</td>\n",
       "      <td>0.59</td>\n",
       "      <td>2.36</td>\n",
       "      <td>0.04</td>\n",
       "      <td>0.51</td>\n",
       "      <td>84.0</td>\n",
       "      <td>6.4</td>\n",
       "      <td>E</td>\n",
       "    </tr>\n",
       "    <tr>\n",
       "      <th>2606</th>\n",
       "      <td>FIFA Soccer 2004</td>\n",
       "      <td>XB</td>\n",
       "      <td>2003.0</td>\n",
       "      <td>Sports</td>\n",
       "      <td>0.24</td>\n",
       "      <td>0.49</td>\n",
       "      <td>0.00</td>\n",
       "      <td>0.05</td>\n",
       "      <td>82.0</td>\n",
       "      <td>8.2</td>\n",
       "      <td>E</td>\n",
       "    </tr>\n",
       "    <tr>\n",
       "      <th>12029</th>\n",
       "      <td>FIFA Soccer 2004</td>\n",
       "      <td>GC</td>\n",
       "      <td>2003.0</td>\n",
       "      <td>Sports</td>\n",
       "      <td>0.05</td>\n",
       "      <td>0.01</td>\n",
       "      <td>0.00</td>\n",
       "      <td>0.00</td>\n",
       "      <td>83.0</td>\n",
       "      <td>6.2</td>\n",
       "      <td>E</td>\n",
       "    </tr>\n",
       "    <tr>\n",
       "      <th>13086</th>\n",
       "      <td>FIFA Soccer 2004</td>\n",
       "      <td>GBA</td>\n",
       "      <td>2003.0</td>\n",
       "      <td>Sports</td>\n",
       "      <td>0.04</td>\n",
       "      <td>0.01</td>\n",
       "      <td>0.00</td>\n",
       "      <td>0.00</td>\n",
       "      <td>82.0</td>\n",
       "      <td>7.9</td>\n",
       "      <td>E</td>\n",
       "    </tr>\n",
       "  </tbody>\n",
       "</table>\n",
       "</div>"
      ],
      "text/plain": [
       "                   name platform  year_of_release   genre  na_sales  eu_sales  \\\n",
       "377    FIFA Soccer 2004      PS2              NaN  Sports      0.59      2.36   \n",
       "2606   FIFA Soccer 2004       XB           2003.0  Sports      0.24      0.49   \n",
       "12029  FIFA Soccer 2004       GC           2003.0  Sports      0.05      0.01   \n",
       "13086  FIFA Soccer 2004      GBA           2003.0  Sports      0.04      0.01   \n",
       "\n",
       "       jp_sales  other_sales  critic_score user_score rating  \n",
       "377        0.04         0.51          84.0        6.4      E  \n",
       "2606       0.00         0.05          82.0        8.2      E  \n",
       "12029      0.00         0.00          83.0        6.2      E  \n",
       "13086      0.00         0.00          82.0        7.9      E  "
      ]
     },
     "execution_count": 10,
     "metadata": {},
     "output_type": "execute_result"
    }
   ],
   "source": [
    "# Проверим, есть ли игры которые выпускались на других платформах.\n",
    "df.query('name == \"FIFA Soccer 2004\"')"
   ]
  },
  {
   "cell_type": "code",
   "execution_count": 11,
   "id": "217d2f07",
   "metadata": {},
   "outputs": [],
   "source": [
    "# восполним пробелы в годах за счет наличия в датасете информации об одних и тех же игра, но разных платформах\n",
    "for i in df[df['year_of_release'].isnull() == True].index:  \n",
    "    df['year_of_release'][i] = df.loc[df['name'] == df['name'][i], 'year_of_release'].max()"
   ]
  },
  {
   "cell_type": "code",
   "execution_count": 12,
   "id": "ddbc5b8d",
   "metadata": {},
   "outputs": [
    {
     "data": {
      "text/html": [
       "<div>\n",
       "<style scoped>\n",
       "    .dataframe tbody tr th:only-of-type {\n",
       "        vertical-align: middle;\n",
       "    }\n",
       "\n",
       "    .dataframe tbody tr th {\n",
       "        vertical-align: top;\n",
       "    }\n",
       "\n",
       "    .dataframe thead th {\n",
       "        text-align: right;\n",
       "    }\n",
       "</style>\n",
       "<table border=\"1\" class=\"dataframe\">\n",
       "  <thead>\n",
       "    <tr style=\"text-align: right;\">\n",
       "      <th></th>\n",
       "      <th>name</th>\n",
       "      <th>platform</th>\n",
       "      <th>year_of_release</th>\n",
       "      <th>genre</th>\n",
       "      <th>na_sales</th>\n",
       "      <th>eu_sales</th>\n",
       "      <th>jp_sales</th>\n",
       "      <th>other_sales</th>\n",
       "      <th>critic_score</th>\n",
       "      <th>user_score</th>\n",
       "      <th>rating</th>\n",
       "    </tr>\n",
       "  </thead>\n",
       "  <tbody>\n",
       "    <tr>\n",
       "      <th>377</th>\n",
       "      <td>FIFA Soccer 2004</td>\n",
       "      <td>PS2</td>\n",
       "      <td>2003.0</td>\n",
       "      <td>Sports</td>\n",
       "      <td>0.59</td>\n",
       "      <td>2.36</td>\n",
       "      <td>0.04</td>\n",
       "      <td>0.51</td>\n",
       "      <td>84.0</td>\n",
       "      <td>6.4</td>\n",
       "      <td>E</td>\n",
       "    </tr>\n",
       "    <tr>\n",
       "      <th>2606</th>\n",
       "      <td>FIFA Soccer 2004</td>\n",
       "      <td>XB</td>\n",
       "      <td>2003.0</td>\n",
       "      <td>Sports</td>\n",
       "      <td>0.24</td>\n",
       "      <td>0.49</td>\n",
       "      <td>0.00</td>\n",
       "      <td>0.05</td>\n",
       "      <td>82.0</td>\n",
       "      <td>8.2</td>\n",
       "      <td>E</td>\n",
       "    </tr>\n",
       "    <tr>\n",
       "      <th>12029</th>\n",
       "      <td>FIFA Soccer 2004</td>\n",
       "      <td>GC</td>\n",
       "      <td>2003.0</td>\n",
       "      <td>Sports</td>\n",
       "      <td>0.05</td>\n",
       "      <td>0.01</td>\n",
       "      <td>0.00</td>\n",
       "      <td>0.00</td>\n",
       "      <td>83.0</td>\n",
       "      <td>6.2</td>\n",
       "      <td>E</td>\n",
       "    </tr>\n",
       "    <tr>\n",
       "      <th>13086</th>\n",
       "      <td>FIFA Soccer 2004</td>\n",
       "      <td>GBA</td>\n",
       "      <td>2003.0</td>\n",
       "      <td>Sports</td>\n",
       "      <td>0.04</td>\n",
       "      <td>0.01</td>\n",
       "      <td>0.00</td>\n",
       "      <td>0.00</td>\n",
       "      <td>82.0</td>\n",
       "      <td>7.9</td>\n",
       "      <td>E</td>\n",
       "    </tr>\n",
       "  </tbody>\n",
       "</table>\n",
       "</div>"
      ],
      "text/plain": [
       "                   name platform  year_of_release   genre  na_sales  eu_sales  \\\n",
       "377    FIFA Soccer 2004      PS2           2003.0  Sports      0.59      2.36   \n",
       "2606   FIFA Soccer 2004       XB           2003.0  Sports      0.24      0.49   \n",
       "12029  FIFA Soccer 2004       GC           2003.0  Sports      0.05      0.01   \n",
       "13086  FIFA Soccer 2004      GBA           2003.0  Sports      0.04      0.01   \n",
       "\n",
       "       jp_sales  other_sales  critic_score user_score rating  \n",
       "377        0.04         0.51          84.0        6.4      E  \n",
       "2606       0.00         0.05          82.0        8.2      E  \n",
       "12029      0.00         0.00          83.0        6.2      E  \n",
       "13086      0.00         0.00          82.0        7.9      E  "
      ]
     },
     "execution_count": 12,
     "metadata": {},
     "output_type": "execute_result"
    }
   ],
   "source": [
    "df.query('name == \"FIFA Soccer 2004\"')"
   ]
  },
  {
   "cell_type": "code",
   "execution_count": 13,
   "id": "b56e57cd",
   "metadata": {},
   "outputs": [
    {
     "data": {
      "text/plain": [
       "146"
      ]
     },
     "execution_count": 13,
     "metadata": {},
     "output_type": "execute_result"
    }
   ],
   "source": [
    "df['year_of_release'].isna().sum()"
   ]
  },
  {
   "cell_type": "code",
   "execution_count": 14,
   "id": "2ca688d7",
   "metadata": {},
   "outputs": [
    {
     "data": {
      "text/plain": [
       "0.87"
      ]
     },
     "execution_count": 14,
     "metadata": {},
     "output_type": "execute_result"
    }
   ],
   "source": [
    "# процент пропусков в 'year_of_release'\n",
    "round((df['year_of_release'].isna().sum())*100/(len(df['year_of_release'])), 2)"
   ]
  },
  {
   "cell_type": "code",
   "execution_count": 15,
   "id": "2abf5423",
   "metadata": {},
   "outputs": [
    {
     "name": "stdout",
     "output_type": "stream",
     "text": [
      "<class 'pandas.core.frame.DataFrame'>\n",
      "Int64Index: 16567 entries, 0 to 16714\n",
      "Data columns (total 11 columns):\n",
      " #   Column           Non-Null Count  Dtype  \n",
      "---  ------           --------------  -----  \n",
      " 0   name             16567 non-null  object \n",
      " 1   platform         16567 non-null  object \n",
      " 2   year_of_release  16567 non-null  float64\n",
      " 3   genre            16567 non-null  object \n",
      " 4   na_sales         16567 non-null  float64\n",
      " 5   eu_sales         16567 non-null  float64\n",
      " 6   jp_sales         16567 non-null  float64\n",
      " 7   other_sales      16567 non-null  float64\n",
      " 8   critic_score     8075 non-null   float64\n",
      " 9   user_score       9934 non-null   object \n",
      " 10  rating           9868 non-null   object \n",
      "dtypes: float64(6), object(5)\n",
      "memory usage: 1.5+ MB\n"
     ]
    }
   ],
   "source": [
    "# так как процент пропусков в 'year_of_release' слишком мал, то удалим строки с пропущенными значениями\n",
    "df = df.dropna(subset = ['year_of_release'], axis = 0)\n",
    "df.info()"
   ]
  },
  {
   "cell_type": "code",
   "execution_count": 16,
   "id": "bedde51c",
   "metadata": {},
   "outputs": [
    {
     "name": "stdout",
     "output_type": "stream",
     "text": [
      "<class 'pandas.core.frame.DataFrame'>\n",
      "Int64Index: 16567 entries, 0 to 16714\n",
      "Data columns (total 11 columns):\n",
      " #   Column           Non-Null Count  Dtype  \n",
      "---  ------           --------------  -----  \n",
      " 0   name             16567 non-null  object \n",
      " 1   platform         16567 non-null  object \n",
      " 2   year_of_release  16567 non-null  int64  \n",
      " 3   genre            16567 non-null  object \n",
      " 4   na_sales         16567 non-null  float64\n",
      " 5   eu_sales         16567 non-null  float64\n",
      " 6   jp_sales         16567 non-null  float64\n",
      " 7   other_sales      16567 non-null  float64\n",
      " 8   critic_score     8075 non-null   float64\n",
      " 9   user_score       9934 non-null   object \n",
      " 10  rating           9868 non-null   object \n",
      "dtypes: float64(5), int64(1), object(5)\n",
      "memory usage: 1.5+ MB\n"
     ]
    }
   ],
   "source": [
    "# меняем тип данных 'year_of_release' на int\n",
    "df['year_of_release'] = df['year_of_release'].astype(int)\n",
    "df.info()"
   ]
  },
  {
   "cell_type": "code",
   "execution_count": 17,
   "id": "9e76e6bd",
   "metadata": {},
   "outputs": [
    {
     "data": {
      "text/html": [
       "<style  type=\"text/css\" >\n",
       "#T_c2874_row0_col0{\n",
       "            background-color:  #67000d;\n",
       "            color:  #f1f1f1;\n",
       "        }#T_c2874_row1_col0{\n",
       "            background-color:  #bf151b;\n",
       "            color:  #f1f1f1;\n",
       "        }#T_c2874_row2_col0{\n",
       "            background-color:  #c2161b;\n",
       "            color:  #f1f1f1;\n",
       "        }#T_c2874_row3_col0,#T_c2874_row4_col0,#T_c2874_row5_col0,#T_c2874_row6_col0,#T_c2874_row7_col0,#T_c2874_row8_col0,#T_c2874_row9_col0,#T_c2874_row10_col0{\n",
       "            background-color:  #fff5f0;\n",
       "            color:  #000000;\n",
       "        }</style><table id=\"T_c2874_\" ><thead>    <tr>        <th class=\"blank level0\" ></th>        <th class=\"col_heading level0 col0\" >0</th>    </tr></thead><tbody>\n",
       "                <tr>\n",
       "                        <th id=\"T_c2874_level0_row0\" class=\"row_heading level0 row0\" >critic_score</th>\n",
       "                        <td id=\"T_c2874_row0_col0\" class=\"data row0 col0\" >0.512585</td>\n",
       "            </tr>\n",
       "            <tr>\n",
       "                        <th id=\"T_c2874_level0_row1\" class=\"row_heading level0 row1\" >rating</th>\n",
       "                        <td id=\"T_c2874_row1_col0\" class=\"data row1 col0\" >0.404358</td>\n",
       "            </tr>\n",
       "            <tr>\n",
       "                        <th id=\"T_c2874_level0_row2\" class=\"row_heading level0 row2\" >user_score</th>\n",
       "                        <td id=\"T_c2874_row2_col0\" class=\"data row2 col0\" >0.400374</td>\n",
       "            </tr>\n",
       "            <tr>\n",
       "                        <th id=\"T_c2874_level0_row3\" class=\"row_heading level0 row3\" >name</th>\n",
       "                        <td id=\"T_c2874_row3_col0\" class=\"data row3 col0\" >0.000000</td>\n",
       "            </tr>\n",
       "            <tr>\n",
       "                        <th id=\"T_c2874_level0_row4\" class=\"row_heading level0 row4\" >platform</th>\n",
       "                        <td id=\"T_c2874_row4_col0\" class=\"data row4 col0\" >0.000000</td>\n",
       "            </tr>\n",
       "            <tr>\n",
       "                        <th id=\"T_c2874_level0_row5\" class=\"row_heading level0 row5\" >year_of_release</th>\n",
       "                        <td id=\"T_c2874_row5_col0\" class=\"data row5 col0\" >0.000000</td>\n",
       "            </tr>\n",
       "            <tr>\n",
       "                        <th id=\"T_c2874_level0_row6\" class=\"row_heading level0 row6\" >genre</th>\n",
       "                        <td id=\"T_c2874_row6_col0\" class=\"data row6 col0\" >0.000000</td>\n",
       "            </tr>\n",
       "            <tr>\n",
       "                        <th id=\"T_c2874_level0_row7\" class=\"row_heading level0 row7\" >na_sales</th>\n",
       "                        <td id=\"T_c2874_row7_col0\" class=\"data row7 col0\" >0.000000</td>\n",
       "            </tr>\n",
       "            <tr>\n",
       "                        <th id=\"T_c2874_level0_row8\" class=\"row_heading level0 row8\" >eu_sales</th>\n",
       "                        <td id=\"T_c2874_row8_col0\" class=\"data row8 col0\" >0.000000</td>\n",
       "            </tr>\n",
       "            <tr>\n",
       "                        <th id=\"T_c2874_level0_row9\" class=\"row_heading level0 row9\" >jp_sales</th>\n",
       "                        <td id=\"T_c2874_row9_col0\" class=\"data row9 col0\" >0.000000</td>\n",
       "            </tr>\n",
       "            <tr>\n",
       "                        <th id=\"T_c2874_level0_row10\" class=\"row_heading level0 row10\" >other_sales</th>\n",
       "                        <td id=\"T_c2874_row10_col0\" class=\"data row10 col0\" >0.000000</td>\n",
       "            </tr>\n",
       "    </tbody></table>"
      ],
      "text/plain": [
       "<pandas.io.formats.style.Styler at 0x7f1022789640>"
      ]
     },
     "execution_count": 17,
     "metadata": {},
     "output_type": "execute_result"
    }
   ],
   "source": [
    "# обрабатываем пропуски\n",
    "df.isna().mean().sort_values(ascending = False).to_frame().style.background_gradient(cmap='Reds')"
   ]
  },
  {
   "cell_type": "code",
   "execution_count": 18,
   "id": "2c5df299",
   "metadata": {},
   "outputs": [
    {
     "data": {
      "text/plain": [
       "name                  0\n",
       "platform              0\n",
       "year_of_release       0\n",
       "genre                 0\n",
       "na_sales              0\n",
       "eu_sales              0\n",
       "jp_sales              0\n",
       "other_sales           0\n",
       "critic_score       8492\n",
       "user_score         6633\n",
       "rating             6699\n",
       "dtype: int64"
      ]
     },
     "execution_count": 18,
     "metadata": {},
     "output_type": "execute_result"
    }
   ],
   "source": [
    "df.isna().sum()"
   ]
  },
  {
   "cell_type": "code",
   "execution_count": 19,
   "id": "eb3a9000",
   "metadata": {},
   "outputs": [
    {
     "data": {
      "text/html": [
       "<div>\n",
       "<style scoped>\n",
       "    .dataframe tbody tr th:only-of-type {\n",
       "        vertical-align: middle;\n",
       "    }\n",
       "\n",
       "    .dataframe tbody tr th {\n",
       "        vertical-align: top;\n",
       "    }\n",
       "\n",
       "    .dataframe thead th {\n",
       "        text-align: right;\n",
       "    }\n",
       "</style>\n",
       "<table border=\"1\" class=\"dataframe\">\n",
       "  <thead>\n",
       "    <tr style=\"text-align: right;\">\n",
       "      <th></th>\n",
       "      <th>name</th>\n",
       "      <th>platform</th>\n",
       "      <th>year_of_release</th>\n",
       "      <th>genre</th>\n",
       "      <th>na_sales</th>\n",
       "      <th>eu_sales</th>\n",
       "      <th>jp_sales</th>\n",
       "      <th>other_sales</th>\n",
       "      <th>critic_score</th>\n",
       "      <th>user_score</th>\n",
       "      <th>rating</th>\n",
       "    </tr>\n",
       "  </thead>\n",
       "  <tbody>\n",
       "    <tr>\n",
       "      <th>1</th>\n",
       "      <td>Super Mario Bros.</td>\n",
       "      <td>NES</td>\n",
       "      <td>1985</td>\n",
       "      <td>Platform</td>\n",
       "      <td>29.08</td>\n",
       "      <td>3.58</td>\n",
       "      <td>6.81</td>\n",
       "      <td>0.77</td>\n",
       "      <td>NaN</td>\n",
       "      <td>NaN</td>\n",
       "      <td>NaN</td>\n",
       "    </tr>\n",
       "    <tr>\n",
       "      <th>4</th>\n",
       "      <td>Pokemon Red/Pokemon Blue</td>\n",
       "      <td>GB</td>\n",
       "      <td>1996</td>\n",
       "      <td>Role-Playing</td>\n",
       "      <td>11.27</td>\n",
       "      <td>8.89</td>\n",
       "      <td>10.22</td>\n",
       "      <td>1.00</td>\n",
       "      <td>NaN</td>\n",
       "      <td>NaN</td>\n",
       "      <td>NaN</td>\n",
       "    </tr>\n",
       "    <tr>\n",
       "      <th>5</th>\n",
       "      <td>Tetris</td>\n",
       "      <td>GB</td>\n",
       "      <td>1989</td>\n",
       "      <td>Puzzle</td>\n",
       "      <td>23.20</td>\n",
       "      <td>2.26</td>\n",
       "      <td>4.22</td>\n",
       "      <td>0.58</td>\n",
       "      <td>NaN</td>\n",
       "      <td>NaN</td>\n",
       "      <td>NaN</td>\n",
       "    </tr>\n",
       "    <tr>\n",
       "      <th>9</th>\n",
       "      <td>Duck Hunt</td>\n",
       "      <td>NES</td>\n",
       "      <td>1984</td>\n",
       "      <td>Shooter</td>\n",
       "      <td>26.93</td>\n",
       "      <td>0.63</td>\n",
       "      <td>0.28</td>\n",
       "      <td>0.47</td>\n",
       "      <td>NaN</td>\n",
       "      <td>NaN</td>\n",
       "      <td>NaN</td>\n",
       "    </tr>\n",
       "    <tr>\n",
       "      <th>10</th>\n",
       "      <td>Nintendogs</td>\n",
       "      <td>DS</td>\n",
       "      <td>2005</td>\n",
       "      <td>Simulation</td>\n",
       "      <td>9.05</td>\n",
       "      <td>10.95</td>\n",
       "      <td>1.93</td>\n",
       "      <td>2.74</td>\n",
       "      <td>NaN</td>\n",
       "      <td>NaN</td>\n",
       "      <td>NaN</td>\n",
       "    </tr>\n",
       "    <tr>\n",
       "      <th>...</th>\n",
       "      <td>...</td>\n",
       "      <td>...</td>\n",
       "      <td>...</td>\n",
       "      <td>...</td>\n",
       "      <td>...</td>\n",
       "      <td>...</td>\n",
       "      <td>...</td>\n",
       "      <td>...</td>\n",
       "      <td>...</td>\n",
       "      <td>...</td>\n",
       "      <td>...</td>\n",
       "    </tr>\n",
       "    <tr>\n",
       "      <th>16710</th>\n",
       "      <td>Samurai Warriors: Sanada Maru</td>\n",
       "      <td>PS3</td>\n",
       "      <td>2016</td>\n",
       "      <td>Action</td>\n",
       "      <td>0.00</td>\n",
       "      <td>0.00</td>\n",
       "      <td>0.01</td>\n",
       "      <td>0.00</td>\n",
       "      <td>NaN</td>\n",
       "      <td>NaN</td>\n",
       "      <td>NaN</td>\n",
       "    </tr>\n",
       "    <tr>\n",
       "      <th>16711</th>\n",
       "      <td>LMA Manager 2007</td>\n",
       "      <td>X360</td>\n",
       "      <td>2006</td>\n",
       "      <td>Sports</td>\n",
       "      <td>0.00</td>\n",
       "      <td>0.01</td>\n",
       "      <td>0.00</td>\n",
       "      <td>0.00</td>\n",
       "      <td>NaN</td>\n",
       "      <td>NaN</td>\n",
       "      <td>NaN</td>\n",
       "    </tr>\n",
       "    <tr>\n",
       "      <th>16712</th>\n",
       "      <td>Haitaka no Psychedelica</td>\n",
       "      <td>PSV</td>\n",
       "      <td>2016</td>\n",
       "      <td>Adventure</td>\n",
       "      <td>0.00</td>\n",
       "      <td>0.00</td>\n",
       "      <td>0.01</td>\n",
       "      <td>0.00</td>\n",
       "      <td>NaN</td>\n",
       "      <td>NaN</td>\n",
       "      <td>NaN</td>\n",
       "    </tr>\n",
       "    <tr>\n",
       "      <th>16713</th>\n",
       "      <td>Spirits &amp; Spells</td>\n",
       "      <td>GBA</td>\n",
       "      <td>2003</td>\n",
       "      <td>Platform</td>\n",
       "      <td>0.01</td>\n",
       "      <td>0.00</td>\n",
       "      <td>0.00</td>\n",
       "      <td>0.00</td>\n",
       "      <td>NaN</td>\n",
       "      <td>NaN</td>\n",
       "      <td>NaN</td>\n",
       "    </tr>\n",
       "    <tr>\n",
       "      <th>16714</th>\n",
       "      <td>Winning Post 8 2016</td>\n",
       "      <td>PSV</td>\n",
       "      <td>2016</td>\n",
       "      <td>Simulation</td>\n",
       "      <td>0.00</td>\n",
       "      <td>0.00</td>\n",
       "      <td>0.01</td>\n",
       "      <td>0.00</td>\n",
       "      <td>NaN</td>\n",
       "      <td>NaN</td>\n",
       "      <td>NaN</td>\n",
       "    </tr>\n",
       "  </tbody>\n",
       "</table>\n",
       "<p>8492 rows × 11 columns</p>\n",
       "</div>"
      ],
      "text/plain": [
       "                                name platform  year_of_release         genre  \\\n",
       "1                  Super Mario Bros.      NES             1985      Platform   \n",
       "4           Pokemon Red/Pokemon Blue       GB             1996  Role-Playing   \n",
       "5                             Tetris       GB             1989        Puzzle   \n",
       "9                          Duck Hunt      NES             1984       Shooter   \n",
       "10                        Nintendogs       DS             2005    Simulation   \n",
       "...                              ...      ...              ...           ...   \n",
       "16710  Samurai Warriors: Sanada Maru      PS3             2016        Action   \n",
       "16711               LMA Manager 2007     X360             2006        Sports   \n",
       "16712        Haitaka no Psychedelica      PSV             2016     Adventure   \n",
       "16713               Spirits & Spells      GBA             2003      Platform   \n",
       "16714            Winning Post 8 2016      PSV             2016    Simulation   \n",
       "\n",
       "       na_sales  eu_sales  jp_sales  other_sales  critic_score user_score  \\\n",
       "1         29.08      3.58      6.81         0.77           NaN        NaN   \n",
       "4         11.27      8.89     10.22         1.00           NaN        NaN   \n",
       "5         23.20      2.26      4.22         0.58           NaN        NaN   \n",
       "9         26.93      0.63      0.28         0.47           NaN        NaN   \n",
       "10         9.05     10.95      1.93         2.74           NaN        NaN   \n",
       "...         ...       ...       ...          ...           ...        ...   \n",
       "16710      0.00      0.00      0.01         0.00           NaN        NaN   \n",
       "16711      0.00      0.01      0.00         0.00           NaN        NaN   \n",
       "16712      0.00      0.00      0.01         0.00           NaN        NaN   \n",
       "16713      0.01      0.00      0.00         0.00           NaN        NaN   \n",
       "16714      0.00      0.00      0.01         0.00           NaN        NaN   \n",
       "\n",
       "      rating  \n",
       "1        NaN  \n",
       "4        NaN  \n",
       "5        NaN  \n",
       "9        NaN  \n",
       "10       NaN  \n",
       "...      ...  \n",
       "16710    NaN  \n",
       "16711    NaN  \n",
       "16712    NaN  \n",
       "16713    NaN  \n",
       "16714    NaN  \n",
       "\n",
       "[8492 rows x 11 columns]"
      ]
     },
     "execution_count": 19,
     "metadata": {},
     "output_type": "execute_result"
    }
   ],
   "source": [
    "df[df['critic_score'].isna()]"
   ]
  },
  {
   "cell_type": "code",
   "execution_count": 20,
   "id": "32f11c1c",
   "metadata": {},
   "outputs": [
    {
     "name": "stdout",
     "output_type": "stream",
     "text": [
      "<class 'pandas.core.frame.DataFrame'>\n",
      "Int64Index: 16567 entries, 0 to 16714\n",
      "Data columns (total 11 columns):\n",
      " #   Column           Non-Null Count  Dtype  \n",
      "---  ------           --------------  -----  \n",
      " 0   name             16567 non-null  object \n",
      " 1   platform         16567 non-null  object \n",
      " 2   year_of_release  16567 non-null  int64  \n",
      " 3   genre            16567 non-null  object \n",
      " 4   na_sales         16567 non-null  float64\n",
      " 5   eu_sales         16567 non-null  float64\n",
      " 6   jp_sales         16567 non-null  float64\n",
      " 7   other_sales      16567 non-null  float64\n",
      " 8   critic_score     8075 non-null   float64\n",
      " 9   user_score       9934 non-null   object \n",
      " 10  rating           9868 non-null   object \n",
      "dtypes: float64(5), int64(1), object(5)\n",
      "memory usage: 1.5+ MB\n"
     ]
    }
   ],
   "source": [
    "df.info()"
   ]
  },
  {
   "cell_type": "code",
   "execution_count": 21,
   "id": "728a3fb9",
   "metadata": {},
   "outputs": [
    {
     "data": {
      "text/html": [
       "<div>\n",
       "<style scoped>\n",
       "    .dataframe tbody tr th:only-of-type {\n",
       "        vertical-align: middle;\n",
       "    }\n",
       "\n",
       "    .dataframe tbody tr th {\n",
       "        vertical-align: top;\n",
       "    }\n",
       "\n",
       "    .dataframe thead tr th {\n",
       "        text-align: left;\n",
       "    }\n",
       "\n",
       "    .dataframe thead tr:last-of-type th {\n",
       "        text-align: right;\n",
       "    }\n",
       "</style>\n",
       "<table border=\"1\" class=\"dataframe\">\n",
       "  <thead>\n",
       "    <tr>\n",
       "      <th></th>\n",
       "      <th>max</th>\n",
       "      <th>median</th>\n",
       "      <th>min</th>\n",
       "      <th>mean</th>\n",
       "    </tr>\n",
       "    <tr>\n",
       "      <th></th>\n",
       "      <th>critic_score</th>\n",
       "      <th>critic_score</th>\n",
       "      <th>critic_score</th>\n",
       "      <th>critic_score</th>\n",
       "    </tr>\n",
       "    <tr>\n",
       "      <th>genre</th>\n",
       "      <th></th>\n",
       "      <th></th>\n",
       "      <th></th>\n",
       "      <th></th>\n",
       "    </tr>\n",
       "  </thead>\n",
       "  <tbody>\n",
       "    <tr>\n",
       "      <th>Action</th>\n",
       "      <td>98.0</td>\n",
       "      <td>68.0</td>\n",
       "      <td>19.0</td>\n",
       "      <td>66.658147</td>\n",
       "    </tr>\n",
       "    <tr>\n",
       "      <th>Adventure</th>\n",
       "      <td>93.0</td>\n",
       "      <td>66.0</td>\n",
       "      <td>17.0</td>\n",
       "      <td>65.271028</td>\n",
       "    </tr>\n",
       "    <tr>\n",
       "      <th>Fighting</th>\n",
       "      <td>98.0</td>\n",
       "      <td>72.0</td>\n",
       "      <td>23.0</td>\n",
       "      <td>69.250000</td>\n",
       "    </tr>\n",
       "    <tr>\n",
       "      <th>Misc</th>\n",
       "      <td>93.0</td>\n",
       "      <td>69.0</td>\n",
       "      <td>19.0</td>\n",
       "      <td>66.560078</td>\n",
       "    </tr>\n",
       "    <tr>\n",
       "      <th>Platform</th>\n",
       "      <td>97.0</td>\n",
       "      <td>69.0</td>\n",
       "      <td>19.0</td>\n",
       "      <td>68.073320</td>\n",
       "    </tr>\n",
       "    <tr>\n",
       "      <th>Puzzle</th>\n",
       "      <td>90.0</td>\n",
       "      <td>70.0</td>\n",
       "      <td>25.0</td>\n",
       "      <td>67.354260</td>\n",
       "    </tr>\n",
       "    <tr>\n",
       "      <th>Racing</th>\n",
       "      <td>96.0</td>\n",
       "      <td>69.0</td>\n",
       "      <td>13.0</td>\n",
       "      <td>68.032653</td>\n",
       "    </tr>\n",
       "    <tr>\n",
       "      <th>Role-Playing</th>\n",
       "      <td>96.0</td>\n",
       "      <td>74.0</td>\n",
       "      <td>35.0</td>\n",
       "      <td>72.672131</td>\n",
       "    </tr>\n",
       "    <tr>\n",
       "      <th>Shooter</th>\n",
       "      <td>97.0</td>\n",
       "      <td>73.0</td>\n",
       "      <td>27.0</td>\n",
       "      <td>70.284492</td>\n",
       "    </tr>\n",
       "    <tr>\n",
       "      <th>Simulation</th>\n",
       "      <td>92.0</td>\n",
       "      <td>70.0</td>\n",
       "      <td>31.0</td>\n",
       "      <td>68.595989</td>\n",
       "    </tr>\n",
       "    <tr>\n",
       "      <th>Sports</th>\n",
       "      <td>98.0</td>\n",
       "      <td>75.0</td>\n",
       "      <td>19.0</td>\n",
       "      <td>71.999158</td>\n",
       "    </tr>\n",
       "    <tr>\n",
       "      <th>Strategy</th>\n",
       "      <td>94.0</td>\n",
       "      <td>73.0</td>\n",
       "      <td>35.0</td>\n",
       "      <td>72.040134</td>\n",
       "    </tr>\n",
       "  </tbody>\n",
       "</table>\n",
       "</div>"
      ],
      "text/plain": [
       "                      max       median          min         mean\n",
       "             critic_score critic_score critic_score critic_score\n",
       "genre                                                           \n",
       "Action               98.0         68.0         19.0    66.658147\n",
       "Adventure            93.0         66.0         17.0    65.271028\n",
       "Fighting             98.0         72.0         23.0    69.250000\n",
       "Misc                 93.0         69.0         19.0    66.560078\n",
       "Platform             97.0         69.0         19.0    68.073320\n",
       "Puzzle               90.0         70.0         25.0    67.354260\n",
       "Racing               96.0         69.0         13.0    68.032653\n",
       "Role-Playing         96.0         74.0         35.0    72.672131\n",
       "Shooter              97.0         73.0         27.0    70.284492\n",
       "Simulation           92.0         70.0         31.0    68.595989\n",
       "Sports               98.0         75.0         19.0    71.999158\n",
       "Strategy             94.0         73.0         35.0    72.040134"
      ]
     },
     "execution_count": 21,
     "metadata": {},
     "output_type": "execute_result"
    }
   ],
   "source": [
    "df.pivot_table(index = 'genre', values = 'critic_score', aggfunc = ['max', 'median', 'min', 'mean'])"
   ]
  },
  {
   "cell_type": "code",
   "execution_count": 22,
   "id": "1d304035",
   "metadata": {},
   "outputs": [
    {
     "data": {
      "text/html": [
       "<div>\n",
       "<style scoped>\n",
       "    .dataframe tbody tr th:only-of-type {\n",
       "        vertical-align: middle;\n",
       "    }\n",
       "\n",
       "    .dataframe tbody tr th {\n",
       "        vertical-align: top;\n",
       "    }\n",
       "\n",
       "    .dataframe thead th {\n",
       "        text-align: right;\n",
       "    }\n",
       "</style>\n",
       "<table border=\"1\" class=\"dataframe\">\n",
       "  <thead>\n",
       "    <tr style=\"text-align: right;\">\n",
       "      <th></th>\n",
       "      <th>year_of_release</th>\n",
       "      <th>na_sales</th>\n",
       "      <th>eu_sales</th>\n",
       "      <th>jp_sales</th>\n",
       "      <th>other_sales</th>\n",
       "      <th>critic_score</th>\n",
       "    </tr>\n",
       "  </thead>\n",
       "  <tbody>\n",
       "    <tr>\n",
       "      <th>year_of_release</th>\n",
       "      <td>1.000000</td>\n",
       "      <td>-0.092619</td>\n",
       "      <td>0.003912</td>\n",
       "      <td>-0.168309</td>\n",
       "      <td>0.037583</td>\n",
       "      <td>0.011454</td>\n",
       "    </tr>\n",
       "    <tr>\n",
       "      <th>na_sales</th>\n",
       "      <td>-0.092619</td>\n",
       "      <td>1.000000</td>\n",
       "      <td>0.765529</td>\n",
       "      <td>0.450286</td>\n",
       "      <td>0.638700</td>\n",
       "      <td>0.240298</td>\n",
       "    </tr>\n",
       "    <tr>\n",
       "      <th>eu_sales</th>\n",
       "      <td>0.003912</td>\n",
       "      <td>0.765529</td>\n",
       "      <td>1.000000</td>\n",
       "      <td>0.435287</td>\n",
       "      <td>0.722693</td>\n",
       "      <td>0.220765</td>\n",
       "    </tr>\n",
       "    <tr>\n",
       "      <th>jp_sales</th>\n",
       "      <td>-0.168309</td>\n",
       "      <td>0.450286</td>\n",
       "      <td>0.435287</td>\n",
       "      <td>1.000000</td>\n",
       "      <td>0.291221</td>\n",
       "      <td>0.152651</td>\n",
       "    </tr>\n",
       "    <tr>\n",
       "      <th>other_sales</th>\n",
       "      <td>0.037583</td>\n",
       "      <td>0.638700</td>\n",
       "      <td>0.722693</td>\n",
       "      <td>0.291221</td>\n",
       "      <td>1.000000</td>\n",
       "      <td>0.198357</td>\n",
       "    </tr>\n",
       "    <tr>\n",
       "      <th>critic_score</th>\n",
       "      <td>0.011454</td>\n",
       "      <td>0.240298</td>\n",
       "      <td>0.220765</td>\n",
       "      <td>0.152651</td>\n",
       "      <td>0.198357</td>\n",
       "      <td>1.000000</td>\n",
       "    </tr>\n",
       "  </tbody>\n",
       "</table>\n",
       "</div>"
      ],
      "text/plain": [
       "                 year_of_release  na_sales  eu_sales  jp_sales  other_sales  \\\n",
       "year_of_release         1.000000 -0.092619  0.003912 -0.168309     0.037583   \n",
       "na_sales               -0.092619  1.000000  0.765529  0.450286     0.638700   \n",
       "eu_sales                0.003912  0.765529  1.000000  0.435287     0.722693   \n",
       "jp_sales               -0.168309  0.450286  0.435287  1.000000     0.291221   \n",
       "other_sales             0.037583  0.638700  0.722693  0.291221     1.000000   \n",
       "critic_score            0.011454  0.240298  0.220765  0.152651     0.198357   \n",
       "\n",
       "                 critic_score  \n",
       "year_of_release      0.011454  \n",
       "na_sales             0.240298  \n",
       "eu_sales             0.220765  \n",
       "jp_sales             0.152651  \n",
       "other_sales          0.198357  \n",
       "critic_score         1.000000  "
      ]
     },
     "execution_count": 22,
     "metadata": {},
     "output_type": "execute_result"
    }
   ],
   "source": [
    "df.corr()"
   ]
  },
  {
   "cell_type": "code",
   "execution_count": 23,
   "id": "8f9e3a80",
   "metadata": {},
   "outputs": [
    {
     "data": {
      "text/plain": [
       "71.0"
      ]
     },
     "execution_count": 23,
     "metadata": {},
     "output_type": "execute_result"
    }
   ],
   "source": [
    "df['critic_score'].median()"
   ]
  },
  {
   "cell_type": "code",
   "execution_count": 24,
   "id": "f5a6822d",
   "metadata": {},
   "outputs": [
    {
     "data": {
      "text/plain": [
       "array(['8', nan, '8.3', '8.5', '6.6', '8.4', '8.6', '7.7', '6.3', '7.4',\n",
       "       '8.2', '9', '7.9', '8.1', '8.7', '7.1', '3.4', '5.3', '4.8', '3.2',\n",
       "       '8.9', '6.4', '7.8', '7.5', '2.6', '7.2', '9.2', '7', '7.3', '4.3',\n",
       "       '7.6', '5.7', '5', '9.1', '6.5', 'tbd', '8.8', '6.9', '9.4', '6.8',\n",
       "       '6.1', '6.7', '5.4', '4', '4.9', '4.5', '9.3', '6.2', '4.2', '6',\n",
       "       '3.7', '4.1', '5.8', '5.6', '5.5', '4.4', '4.6', '5.9', '3.9',\n",
       "       '3.1', '2.9', '5.2', '3.3', '4.7', '5.1', '3.5', '2.5', '1.9', '3',\n",
       "       '2.7', '2.2', '2', '9.5', '2.1', '3.6', '2.8', '1.8', '3.8', '0',\n",
       "       '1.6', '9.6', '2.4', '1.7', '1.1', '0.3', '1.5', '0.7', '1.2',\n",
       "       '2.3', '0.5', '1.3', '0.2', '0.6', '1.4', '0.9', '1', '9.7'],\n",
       "      dtype=object)"
      ]
     },
     "execution_count": 24,
     "metadata": {},
     "output_type": "execute_result"
    }
   ],
   "source": [
    "df['user_score'].unique()"
   ]
  },
  {
   "cell_type": "markdown",
   "id": "aa17a119",
   "metadata": {},
   "source": [
    "Среди оценок пользователей встречается аббревиатура TBD. Вероятно это обозначает 'To Be Determined' - 'Будет определено'. Меняем значение 'tbd' на 'NaN'."
   ]
  },
  {
   "cell_type": "code",
   "execution_count": 25,
   "id": "33d1b0f9",
   "metadata": {},
   "outputs": [],
   "source": [
    "df['user_score'] = df['user_score'].replace('tbd', np.nan, regex=True)"
   ]
  },
  {
   "cell_type": "code",
   "execution_count": 26,
   "id": "33a10199",
   "metadata": {},
   "outputs": [
    {
     "name": "stdout",
     "output_type": "stream",
     "text": [
      "<class 'pandas.core.frame.DataFrame'>\n",
      "Int64Index: 16567 entries, 0 to 16714\n",
      "Data columns (total 11 columns):\n",
      " #   Column           Non-Null Count  Dtype  \n",
      "---  ------           --------------  -----  \n",
      " 0   name             16567 non-null  object \n",
      " 1   platform         16567 non-null  object \n",
      " 2   year_of_release  16567 non-null  int64  \n",
      " 3   genre            16567 non-null  object \n",
      " 4   na_sales         16567 non-null  float64\n",
      " 5   eu_sales         16567 non-null  float64\n",
      " 6   jp_sales         16567 non-null  float64\n",
      " 7   other_sales      16567 non-null  float64\n",
      " 8   critic_score     8075 non-null   float64\n",
      " 9   user_score       7540 non-null   float64\n",
      " 10  rating           9868 non-null   object \n",
      "dtypes: float64(6), int64(1), object(4)\n",
      "memory usage: 1.5+ MB\n"
     ]
    }
   ],
   "source": [
    "# приводим тип данных столбца user_score к float\n",
    "df['user_score'] = df['user_score'].astype(float)\n",
    "df.info()"
   ]
  },
  {
   "cell_type": "code",
   "execution_count": 27,
   "id": "fdef1c9b",
   "metadata": {},
   "outputs": [
    {
     "data": {
      "text/plain": [
       "array(['E', nan, 'M', 'T', 'E10+', 'K-A', 'AO', 'EC', 'RP'], dtype=object)"
      ]
     },
     "execution_count": 27,
     "metadata": {},
     "output_type": "execute_result"
    }
   ],
   "source": [
    "df['rating'].unique()"
   ]
  },
  {
   "cell_type": "markdown",
   "id": "53135dcf",
   "metadata": {},
   "source": [
    "**Посчитаем суммарные продажи во всех регионах и запишем их в отдельный столбец.**"
   ]
  },
  {
   "cell_type": "code",
   "execution_count": 28,
   "id": "3f8a4c7c",
   "metadata": {},
   "outputs": [
    {
     "data": {
      "text/html": [
       "<div>\n",
       "<style scoped>\n",
       "    .dataframe tbody tr th:only-of-type {\n",
       "        vertical-align: middle;\n",
       "    }\n",
       "\n",
       "    .dataframe tbody tr th {\n",
       "        vertical-align: top;\n",
       "    }\n",
       "\n",
       "    .dataframe thead th {\n",
       "        text-align: right;\n",
       "    }\n",
       "</style>\n",
       "<table border=\"1\" class=\"dataframe\">\n",
       "  <thead>\n",
       "    <tr style=\"text-align: right;\">\n",
       "      <th></th>\n",
       "      <th>name</th>\n",
       "      <th>platform</th>\n",
       "      <th>year_of_release</th>\n",
       "      <th>genre</th>\n",
       "      <th>na_sales</th>\n",
       "      <th>eu_sales</th>\n",
       "      <th>jp_sales</th>\n",
       "      <th>other_sales</th>\n",
       "      <th>critic_score</th>\n",
       "      <th>user_score</th>\n",
       "      <th>rating</th>\n",
       "      <th>total_sales</th>\n",
       "    </tr>\n",
       "  </thead>\n",
       "  <tbody>\n",
       "    <tr>\n",
       "      <th>0</th>\n",
       "      <td>Wii Sports</td>\n",
       "      <td>Wii</td>\n",
       "      <td>2006</td>\n",
       "      <td>Sports</td>\n",
       "      <td>41.36</td>\n",
       "      <td>28.96</td>\n",
       "      <td>3.77</td>\n",
       "      <td>8.45</td>\n",
       "      <td>76.0</td>\n",
       "      <td>8.0</td>\n",
       "      <td>E</td>\n",
       "      <td>82.54</td>\n",
       "    </tr>\n",
       "    <tr>\n",
       "      <th>1</th>\n",
       "      <td>Super Mario Bros.</td>\n",
       "      <td>NES</td>\n",
       "      <td>1985</td>\n",
       "      <td>Platform</td>\n",
       "      <td>29.08</td>\n",
       "      <td>3.58</td>\n",
       "      <td>6.81</td>\n",
       "      <td>0.77</td>\n",
       "      <td>NaN</td>\n",
       "      <td>NaN</td>\n",
       "      <td>NaN</td>\n",
       "      <td>40.24</td>\n",
       "    </tr>\n",
       "    <tr>\n",
       "      <th>2</th>\n",
       "      <td>Mario Kart Wii</td>\n",
       "      <td>Wii</td>\n",
       "      <td>2008</td>\n",
       "      <td>Racing</td>\n",
       "      <td>15.68</td>\n",
       "      <td>12.76</td>\n",
       "      <td>3.79</td>\n",
       "      <td>3.29</td>\n",
       "      <td>82.0</td>\n",
       "      <td>8.3</td>\n",
       "      <td>E</td>\n",
       "      <td>35.52</td>\n",
       "    </tr>\n",
       "    <tr>\n",
       "      <th>3</th>\n",
       "      <td>Wii Sports Resort</td>\n",
       "      <td>Wii</td>\n",
       "      <td>2009</td>\n",
       "      <td>Sports</td>\n",
       "      <td>15.61</td>\n",
       "      <td>10.93</td>\n",
       "      <td>3.28</td>\n",
       "      <td>2.95</td>\n",
       "      <td>80.0</td>\n",
       "      <td>8.0</td>\n",
       "      <td>E</td>\n",
       "      <td>32.77</td>\n",
       "    </tr>\n",
       "    <tr>\n",
       "      <th>4</th>\n",
       "      <td>Pokemon Red/Pokemon Blue</td>\n",
       "      <td>GB</td>\n",
       "      <td>1996</td>\n",
       "      <td>Role-Playing</td>\n",
       "      <td>11.27</td>\n",
       "      <td>8.89</td>\n",
       "      <td>10.22</td>\n",
       "      <td>1.00</td>\n",
       "      <td>NaN</td>\n",
       "      <td>NaN</td>\n",
       "      <td>NaN</td>\n",
       "      <td>31.38</td>\n",
       "    </tr>\n",
       "  </tbody>\n",
       "</table>\n",
       "</div>"
      ],
      "text/plain": [
       "                       name platform  year_of_release         genre  na_sales  \\\n",
       "0                Wii Sports      Wii             2006        Sports     41.36   \n",
       "1         Super Mario Bros.      NES             1985      Platform     29.08   \n",
       "2            Mario Kart Wii      Wii             2008        Racing     15.68   \n",
       "3         Wii Sports Resort      Wii             2009        Sports     15.61   \n",
       "4  Pokemon Red/Pokemon Blue       GB             1996  Role-Playing     11.27   \n",
       "\n",
       "   eu_sales  jp_sales  other_sales  critic_score  user_score rating  \\\n",
       "0     28.96      3.77         8.45          76.0         8.0      E   \n",
       "1      3.58      6.81         0.77           NaN         NaN    NaN   \n",
       "2     12.76      3.79         3.29          82.0         8.3      E   \n",
       "3     10.93      3.28         2.95          80.0         8.0      E   \n",
       "4      8.89     10.22         1.00           NaN         NaN    NaN   \n",
       "\n",
       "   total_sales  \n",
       "0        82.54  \n",
       "1        40.24  \n",
       "2        35.52  \n",
       "3        32.77  \n",
       "4        31.38  "
      ]
     },
     "execution_count": 28,
     "metadata": {},
     "output_type": "execute_result"
    }
   ],
   "source": [
    "# создадим столбец, котрый суммирует данные по продажам во всех регионах\n",
    "df['total_sales'] = df['na_sales'] + df['eu_sales'] + df['jp_sales'] + df['other_sales']\n",
    "df.head()"
   ]
  },
  {
   "cell_type": "code",
   "execution_count": 29,
   "id": "057e25b1",
   "metadata": {},
   "outputs": [
    {
     "data": {
      "text/plain": [
       "0"
      ]
     },
     "execution_count": 29,
     "metadata": {},
     "output_type": "execute_result"
    }
   ],
   "source": [
    "# проверим на дубли\n",
    "df.duplicated().sum()"
   ]
  },
  {
   "cell_type": "code",
   "execution_count": 30,
   "id": "ee57d581",
   "metadata": {},
   "outputs": [
    {
     "data": {
      "text/html": [
       "<div>\n",
       "<style scoped>\n",
       "    .dataframe tbody tr th:only-of-type {\n",
       "        vertical-align: middle;\n",
       "    }\n",
       "\n",
       "    .dataframe tbody tr th {\n",
       "        vertical-align: top;\n",
       "    }\n",
       "\n",
       "    .dataframe thead th {\n",
       "        text-align: right;\n",
       "    }\n",
       "</style>\n",
       "<table border=\"1\" class=\"dataframe\">\n",
       "  <thead>\n",
       "    <tr style=\"text-align: right;\">\n",
       "      <th></th>\n",
       "      <th>name</th>\n",
       "      <th>platform</th>\n",
       "      <th>year_of_release</th>\n",
       "      <th>genre</th>\n",
       "      <th>na_sales</th>\n",
       "      <th>eu_sales</th>\n",
       "      <th>jp_sales</th>\n",
       "      <th>other_sales</th>\n",
       "      <th>critic_score</th>\n",
       "      <th>user_score</th>\n",
       "      <th>rating</th>\n",
       "      <th>total_sales</th>\n",
       "    </tr>\n",
       "  </thead>\n",
       "  <tbody>\n",
       "    <tr>\n",
       "      <th>604</th>\n",
       "      <td>Madden NFL 13</td>\n",
       "      <td>PS3</td>\n",
       "      <td>2012</td>\n",
       "      <td>Sports</td>\n",
       "      <td>2.11</td>\n",
       "      <td>0.22</td>\n",
       "      <td>0.00</td>\n",
       "      <td>0.23</td>\n",
       "      <td>83.0</td>\n",
       "      <td>5.5</td>\n",
       "      <td>E</td>\n",
       "      <td>2.56</td>\n",
       "    </tr>\n",
       "    <tr>\n",
       "      <th>1745</th>\n",
       "      <td>Sonic the Hedgehog</td>\n",
       "      <td>PS3</td>\n",
       "      <td>2006</td>\n",
       "      <td>Platform</td>\n",
       "      <td>0.41</td>\n",
       "      <td>0.06</td>\n",
       "      <td>0.04</td>\n",
       "      <td>0.66</td>\n",
       "      <td>43.0</td>\n",
       "      <td>4.1</td>\n",
       "      <td>E10+</td>\n",
       "      <td>1.17</td>\n",
       "    </tr>\n",
       "    <tr>\n",
       "      <th>4127</th>\n",
       "      <td>Sonic the Hedgehog</td>\n",
       "      <td>PS3</td>\n",
       "      <td>2006</td>\n",
       "      <td>Platform</td>\n",
       "      <td>0.00</td>\n",
       "      <td>0.48</td>\n",
       "      <td>0.00</td>\n",
       "      <td>0.00</td>\n",
       "      <td>43.0</td>\n",
       "      <td>4.1</td>\n",
       "      <td>E10+</td>\n",
       "      <td>0.48</td>\n",
       "    </tr>\n",
       "    <tr>\n",
       "      <th>16230</th>\n",
       "      <td>Madden NFL 13</td>\n",
       "      <td>PS3</td>\n",
       "      <td>2012</td>\n",
       "      <td>Sports</td>\n",
       "      <td>0.00</td>\n",
       "      <td>0.01</td>\n",
       "      <td>0.00</td>\n",
       "      <td>0.00</td>\n",
       "      <td>83.0</td>\n",
       "      <td>5.5</td>\n",
       "      <td>E</td>\n",
       "      <td>0.01</td>\n",
       "    </tr>\n",
       "  </tbody>\n",
       "</table>\n",
       "</div>"
      ],
      "text/plain": [
       "                     name platform  year_of_release     genre  na_sales  \\\n",
       "604         Madden NFL 13      PS3             2012    Sports      2.11   \n",
       "1745   Sonic the Hedgehog      PS3             2006  Platform      0.41   \n",
       "4127   Sonic the Hedgehog      PS3             2006  Platform      0.00   \n",
       "16230       Madden NFL 13      PS3             2012    Sports      0.00   \n",
       "\n",
       "       eu_sales  jp_sales  other_sales  critic_score  user_score rating  \\\n",
       "604        0.22      0.00         0.23          83.0         5.5      E   \n",
       "1745       0.06      0.04         0.66          43.0         4.1   E10+   \n",
       "4127       0.48      0.00         0.00          43.0         4.1   E10+   \n",
       "16230      0.01      0.00         0.00          83.0         5.5      E   \n",
       "\n",
       "       total_sales  \n",
       "604           2.56  \n",
       "1745          1.17  \n",
       "4127          0.48  \n",
       "16230         0.01  "
      ]
     },
     "execution_count": 30,
     "metadata": {},
     "output_type": "execute_result"
    }
   ],
   "source": [
    "# проверим на неявные дубликаты\n",
    "df[df[['name', 'platform','year_of_release']].duplicated(keep = False)]"
   ]
  },
  {
   "cell_type": "code",
   "execution_count": 31,
   "id": "3786ad58",
   "metadata": {},
   "outputs": [],
   "source": [
    "# удалим те неявные дубли\n",
    "df = df.drop(index = [4127, 16230], axis = 0)"
   ]
  },
  {
   "cell_type": "markdown",
   "id": "59697782",
   "metadata": {},
   "source": [
    "### Выводы:\n",
    "1. Часть пропусков в годах выпуска игр были заменены на аналогичные года игр на других платформах, остальная часть данных, а так же по два пропуска в 'name' и 'genre' были удалены, так как не значителбны.\n",
    "2. Тип данных в 'year_of_release' приведен к int.\n",
    "3. Много пропусков в 'critic_score', 'user_score' и 'rating'. Принято решение оставить пропуски как есть, так как замена может привести к искажению реальной картины. Возможно оценок нет у игр, которые были выпущены в года,когда такие оценки не ставили, так же не ставили оценок непопулярным играм. Оценки за 2016 год вероятно не проставлены, так как у нас не полные данные.\n",
    "4. Среди оценок пользователей встречается аббревиатура TBD. Вероятно это обозначает 'To Be Determined' - 'Будет определено'. Заменили значение 'tbd' на 'NaN'.\n",
    "5. 'user_score' привели к типу float."
   ]
  },
  {
   "cell_type": "markdown",
   "id": "8a3aa0c7",
   "metadata": {},
   "source": [
    "## Проведем исследовательский анализ данных"
   ]
  },
  {
   "cell_type": "markdown",
   "id": "8806806d",
   "metadata": {},
   "source": [
    "### Посмотрим, сколько игр выпускалось в разные годы"
   ]
  },
  {
   "cell_type": "code",
   "execution_count": 32,
   "id": "25c40118",
   "metadata": {},
   "outputs": [
    {
     "data": {
      "text/plain": [
       "Text(0, 0.5, 'Количество игр')"
      ]
     },
     "execution_count": 32,
     "metadata": {},
     "output_type": "execute_result"
    },
    {
     "data": {
      "image/png": "[encoded data removed]",
      "text/plain": [
       "<Figure size 864x648 with 1 Axes>"
      ]
     },
     "metadata": {
      "needs_background": "light"
     },
     "output_type": "display_data"
    }
   ],
   "source": [
    "games_by_year = df.pivot_table(index='year_of_release', values='name', aggfunc='count')\n",
    "plt.figure(figsize=(12,9))\n",
    "sns.lineplot(data=games_by_year)\n",
    "plt.title(\"Количество игр по годам\")\n",
    "plt.xlabel(\"Год выпуска\")\n",
    "plt.ylabel(\"Количество игр\")"
   ]
  },
  {
   "cell_type": "markdown",
   "id": "50015247",
   "metadata": {},
   "source": [
    "**Начиная с 1990 года идет резкий подъем выпуска игр. Пик приходится на 2007-2008 года. Затем идет резкий спад выпуска игр. Вероятно спад совпал с началом популярности мобильных и сетевых игр. Период с 1980 по 1990 не имеет большого значения. Его в дальнейшем можно исключить.** "
   ]
  },
  {
   "cell_type": "code",
   "execution_count": 33,
   "id": "e55b43e9",
   "metadata": {},
   "outputs": [],
   "source": [
    "# исключаем период выпуска игр до 1990 года\n",
    "df_actuality = df[df['year_of_release'] >= 1990]"
   ]
  },
  {
   "cell_type": "markdown",
   "id": "2ec3da01",
   "metadata": {},
   "source": [
    "### Посмотрим, как менялись продажи по платформам"
   ]
  },
  {
   "cell_type": "code",
   "execution_count": 34,
   "id": "534f4e3e",
   "metadata": {},
   "outputs": [
    {
     "data": {
      "text/html": [
       "<div>\n",
       "<style scoped>\n",
       "    .dataframe tbody tr th:only-of-type {\n",
       "        vertical-align: middle;\n",
       "    }\n",
       "\n",
       "    .dataframe tbody tr th {\n",
       "        vertical-align: top;\n",
       "    }\n",
       "\n",
       "    .dataframe thead th {\n",
       "        text-align: right;\n",
       "    }\n",
       "</style>\n",
       "<table border=\"1\" class=\"dataframe\">\n",
       "  <thead>\n",
       "    <tr style=\"text-align: right;\">\n",
       "      <th></th>\n",
       "      <th>total_sales</th>\n",
       "    </tr>\n",
       "    <tr>\n",
       "      <th>platform</th>\n",
       "      <th></th>\n",
       "    </tr>\n",
       "  </thead>\n",
       "  <tbody>\n",
       "    <tr>\n",
       "      <th>PS2</th>\n",
       "      <td>1247.16</td>\n",
       "    </tr>\n",
       "    <tr>\n",
       "      <th>X360</th>\n",
       "      <td>966.61</td>\n",
       "    </tr>\n",
       "    <tr>\n",
       "      <th>PS3</th>\n",
       "      <td>934.70</td>\n",
       "    </tr>\n",
       "    <tr>\n",
       "      <th>Wii</th>\n",
       "      <td>903.31</td>\n",
       "    </tr>\n",
       "    <tr>\n",
       "      <th>DS</th>\n",
       "      <td>804.26</td>\n",
       "    </tr>\n",
       "    <tr>\n",
       "      <th>PS</th>\n",
       "      <td>727.58</td>\n",
       "    </tr>\n",
       "    <tr>\n",
       "      <th>PS4</th>\n",
       "      <td>314.14</td>\n",
       "    </tr>\n",
       "    <tr>\n",
       "      <th>GBA</th>\n",
       "      <td>313.73</td>\n",
       "    </tr>\n",
       "    <tr>\n",
       "      <th>PSP</th>\n",
       "      <td>293.57</td>\n",
       "    </tr>\n",
       "    <tr>\n",
       "      <th>PC</th>\n",
       "      <td>258.79</td>\n",
       "    </tr>\n",
       "    <tr>\n",
       "      <th>3DS</th>\n",
       "      <td>258.53</td>\n",
       "    </tr>\n",
       "    <tr>\n",
       "      <th>XB</th>\n",
       "      <td>256.69</td>\n",
       "    </tr>\n",
       "    <tr>\n",
       "      <th>N64</th>\n",
       "      <td>218.48</td>\n",
       "    </tr>\n",
       "    <tr>\n",
       "      <th>SNES</th>\n",
       "      <td>200.04</td>\n",
       "    </tr>\n",
       "    <tr>\n",
       "      <th>GC</th>\n",
       "      <td>198.66</td>\n",
       "    </tr>\n",
       "    <tr>\n",
       "      <th>GB</th>\n",
       "      <td>188.03</td>\n",
       "    </tr>\n",
       "    <tr>\n",
       "      <th>XOne</th>\n",
       "      <td>159.32</td>\n",
       "    </tr>\n",
       "    <tr>\n",
       "      <th>WiiU</th>\n",
       "      <td>82.19</td>\n",
       "    </tr>\n",
       "    <tr>\n",
       "      <th>PSV</th>\n",
       "      <td>53.81</td>\n",
       "    </tr>\n",
       "    <tr>\n",
       "      <th>SAT</th>\n",
       "      <td>33.59</td>\n",
       "    </tr>\n",
       "    <tr>\n",
       "      <th>GEN</th>\n",
       "      <td>28.35</td>\n",
       "    </tr>\n",
       "    <tr>\n",
       "      <th>NES</th>\n",
       "      <td>27.54</td>\n",
       "    </tr>\n",
       "    <tr>\n",
       "      <th>DC</th>\n",
       "      <td>15.95</td>\n",
       "    </tr>\n",
       "    <tr>\n",
       "      <th>2600</th>\n",
       "      <td>2.53</td>\n",
       "    </tr>\n",
       "    <tr>\n",
       "      <th>SCD</th>\n",
       "      <td>1.86</td>\n",
       "    </tr>\n",
       "    <tr>\n",
       "      <th>NG</th>\n",
       "      <td>1.44</td>\n",
       "    </tr>\n",
       "    <tr>\n",
       "      <th>WS</th>\n",
       "      <td>1.42</td>\n",
       "    </tr>\n",
       "    <tr>\n",
       "      <th>TG16</th>\n",
       "      <td>0.16</td>\n",
       "    </tr>\n",
       "    <tr>\n",
       "      <th>3DO</th>\n",
       "      <td>0.10</td>\n",
       "    </tr>\n",
       "    <tr>\n",
       "      <th>GG</th>\n",
       "      <td>0.04</td>\n",
       "    </tr>\n",
       "    <tr>\n",
       "      <th>PCFX</th>\n",
       "      <td>0.03</td>\n",
       "    </tr>\n",
       "  </tbody>\n",
       "</table>\n",
       "</div>"
      ],
      "text/plain": [
       "          total_sales\n",
       "platform             \n",
       "PS2           1247.16\n",
       "X360           966.61\n",
       "PS3            934.70\n",
       "Wii            903.31\n",
       "DS             804.26\n",
       "PS             727.58\n",
       "PS4            314.14\n",
       "GBA            313.73\n",
       "PSP            293.57\n",
       "PC             258.79\n",
       "3DS            258.53\n",
       "XB             256.69\n",
       "N64            218.48\n",
       "SNES           200.04\n",
       "GC             198.66\n",
       "GB             188.03\n",
       "XOne           159.32\n",
       "WiiU            82.19\n",
       "PSV             53.81\n",
       "SAT             33.59\n",
       "GEN             28.35\n",
       "NES             27.54\n",
       "DC              15.95\n",
       "2600             2.53\n",
       "SCD              1.86\n",
       "NG               1.44\n",
       "WS               1.42\n",
       "TG16             0.16\n",
       "3DO              0.10\n",
       "GG               0.04\n",
       "PCFX             0.03"
      ]
     },
     "execution_count": 34,
     "metadata": {},
     "output_type": "execute_result"
    }
   ],
   "source": [
    "sales_by_platform = df_actuality.pivot_table(index='platform', values='total_sales', aggfunc='sum').sort_values(by='total_sales', ascending=False)\n",
    "sales_by_platform"
   ]
  },
  {
   "cell_type": "code",
   "execution_count": 35,
   "id": "e499de61",
   "metadata": {},
   "outputs": [
    {
     "data": {
      "text/plain": [
       "Text(0, 0.5, 'Количество продаж')"
      ]
     },
     "execution_count": 35,
     "metadata": {},
     "output_type": "execute_result"
    },
    {
     "data": {
      "image/png": "[encoded data removed]",
      "text/plain": [
       "<Figure size 936x288 with 1 Axes>"
      ]
     },
     "metadata": {
      "needs_background": "light"
     },
     "output_type": "display_data"
    }
   ],
   "source": [
    "plt.figure(figsize=(13,4))\n",
    "sns.barplot(x=sales_by_platform.index,y=sales_by_platform['total_sales'])\n",
    "plt.title(\"Продажи по платформам за весь период\")\n",
    "plt.xlabel(\"Платформа\")\n",
    "plt.ylabel(\"Количество продаж\")"
   ]
  },
  {
   "cell_type": "code",
   "execution_count": 36,
   "id": "b13f0ea2",
   "metadata": {},
   "outputs": [
    {
     "data": {
      "text/html": [
       "<div>\n",
       "<style scoped>\n",
       "    .dataframe tbody tr th:only-of-type {\n",
       "        vertical-align: middle;\n",
       "    }\n",
       "\n",
       "    .dataframe tbody tr th {\n",
       "        vertical-align: top;\n",
       "    }\n",
       "\n",
       "    .dataframe thead th {\n",
       "        text-align: right;\n",
       "    }\n",
       "</style>\n",
       "<table border=\"1\" class=\"dataframe\">\n",
       "  <thead>\n",
       "    <tr style=\"text-align: right;\">\n",
       "      <th></th>\n",
       "      <th>platform</th>\n",
       "      <th>total_sales</th>\n",
       "    </tr>\n",
       "  </thead>\n",
       "  <tbody>\n",
       "    <tr>\n",
       "      <th>0</th>\n",
       "      <td>PS2</td>\n",
       "      <td>1247.16</td>\n",
       "    </tr>\n",
       "    <tr>\n",
       "      <th>1</th>\n",
       "      <td>X360</td>\n",
       "      <td>966.61</td>\n",
       "    </tr>\n",
       "    <tr>\n",
       "      <th>2</th>\n",
       "      <td>PS3</td>\n",
       "      <td>934.70</td>\n",
       "    </tr>\n",
       "    <tr>\n",
       "      <th>3</th>\n",
       "      <td>Wii</td>\n",
       "      <td>903.31</td>\n",
       "    </tr>\n",
       "    <tr>\n",
       "      <th>4</th>\n",
       "      <td>DS</td>\n",
       "      <td>804.26</td>\n",
       "    </tr>\n",
       "    <tr>\n",
       "      <th>5</th>\n",
       "      <td>PS</td>\n",
       "      <td>727.58</td>\n",
       "    </tr>\n",
       "    <tr>\n",
       "      <th>6</th>\n",
       "      <td>PS4</td>\n",
       "      <td>314.14</td>\n",
       "    </tr>\n",
       "    <tr>\n",
       "      <th>7</th>\n",
       "      <td>GBA</td>\n",
       "      <td>313.73</td>\n",
       "    </tr>\n",
       "    <tr>\n",
       "      <th>8</th>\n",
       "      <td>PSP</td>\n",
       "      <td>293.57</td>\n",
       "    </tr>\n",
       "    <tr>\n",
       "      <th>9</th>\n",
       "      <td>PC</td>\n",
       "      <td>258.79</td>\n",
       "    </tr>\n",
       "    <tr>\n",
       "      <th>10</th>\n",
       "      <td>3DS</td>\n",
       "      <td>258.53</td>\n",
       "    </tr>\n",
       "    <tr>\n",
       "      <th>11</th>\n",
       "      <td>XB</td>\n",
       "      <td>256.69</td>\n",
       "    </tr>\n",
       "    <tr>\n",
       "      <th>12</th>\n",
       "      <td>N64</td>\n",
       "      <td>218.48</td>\n",
       "    </tr>\n",
       "    <tr>\n",
       "      <th>13</th>\n",
       "      <td>SNES</td>\n",
       "      <td>200.04</td>\n",
       "    </tr>\n",
       "    <tr>\n",
       "      <th>14</th>\n",
       "      <td>GC</td>\n",
       "      <td>198.66</td>\n",
       "    </tr>\n",
       "    <tr>\n",
       "      <th>15</th>\n",
       "      <td>GB</td>\n",
       "      <td>188.03</td>\n",
       "    </tr>\n",
       "    <tr>\n",
       "      <th>16</th>\n",
       "      <td>XOne</td>\n",
       "      <td>159.32</td>\n",
       "    </tr>\n",
       "    <tr>\n",
       "      <th>17</th>\n",
       "      <td>WiiU</td>\n",
       "      <td>82.19</td>\n",
       "    </tr>\n",
       "    <tr>\n",
       "      <th>18</th>\n",
       "      <td>PSV</td>\n",
       "      <td>53.81</td>\n",
       "    </tr>\n",
       "    <tr>\n",
       "      <th>19</th>\n",
       "      <td>SAT</td>\n",
       "      <td>33.59</td>\n",
       "    </tr>\n",
       "    <tr>\n",
       "      <th>20</th>\n",
       "      <td>GEN</td>\n",
       "      <td>28.35</td>\n",
       "    </tr>\n",
       "    <tr>\n",
       "      <th>21</th>\n",
       "      <td>NES</td>\n",
       "      <td>27.54</td>\n",
       "    </tr>\n",
       "    <tr>\n",
       "      <th>22</th>\n",
       "      <td>DC</td>\n",
       "      <td>15.95</td>\n",
       "    </tr>\n",
       "  </tbody>\n",
       "</table>\n",
       "</div>"
      ],
      "text/plain": [
       "   platform  total_sales\n",
       "0       PS2      1247.16\n",
       "1      X360       966.61\n",
       "2       PS3       934.70\n",
       "3       Wii       903.31\n",
       "4        DS       804.26\n",
       "5        PS       727.58\n",
       "6       PS4       314.14\n",
       "7       GBA       313.73\n",
       "8       PSP       293.57\n",
       "9        PC       258.79\n",
       "10      3DS       258.53\n",
       "11       XB       256.69\n",
       "12      N64       218.48\n",
       "13     SNES       200.04\n",
       "14       GC       198.66\n",
       "15       GB       188.03\n",
       "16     XOne       159.32\n",
       "17     WiiU        82.19\n",
       "18      PSV        53.81\n",
       "19      SAT        33.59\n",
       "20      GEN        28.35\n",
       "21      NES        27.54\n",
       "22       DC        15.95"
      ]
     },
     "execution_count": 36,
     "metadata": {},
     "output_type": "execute_result"
    }
   ],
   "source": [
    "# отсеем самые незначительные для дальнейшего исследования платформы\n",
    "top_platforms = sales_by_platform.reset_index()\n",
    "top_platforms = top_platforms[top_platforms['total_sales'] > 15]\n",
    "top_platforms"
   ]
  },
  {
   "cell_type": "code",
   "execution_count": 37,
   "id": "0eda6800",
   "metadata": {},
   "outputs": [
    {
     "data": {
      "text/plain": [
       "array(['PS2', 'X360', 'PS3', 'Wii', 'DS', 'PS', 'PS4', 'GBA', 'PSP', 'PC',\n",
       "       '3DS', 'XB', 'N64', 'SNES', 'GC', 'GB', 'XOne', 'WiiU', 'PSV',\n",
       "       'SAT', 'GEN', 'NES', 'DC'], dtype=object)"
      ]
     },
     "execution_count": 37,
     "metadata": {},
     "output_type": "execute_result"
    }
   ],
   "source": [
    "top_platforms_list = top_platforms['platform'].unique()\n",
    "top_platforms_list"
   ]
  },
  {
   "cell_type": "code",
   "execution_count": 38,
   "id": "e034c9f9",
   "metadata": {
    "scrolled": false
   },
   "outputs": [
    {
     "data": {
      "image/png": "[encoded data removed]",
      "text/plain": [
       "<Figure size 936x288 with 1 Axes>"
      ]
     },
     "metadata": {
      "needs_background": "light"
     },
     "output_type": "display_data"
    },
    {
     "data": {
      "image/png": "[encoded data removed]",
      "text/plain": [
       "<Figure size 936x288 with 1 Axes>"
      ]
     },
     "metadata": {
      "needs_background": "light"
     },
     "output_type": "display_data"
    },
    {
     "data": {
      "image/png": "[encoded data removed]",
      "text/plain": [
       "<Figure size 936x288 with 1 Axes>"
      ]
     },
     "metadata": {
      "needs_background": "light"
     },
     "output_type": "display_data"
    },
    {
     "data": {
      "image/png": "[encoded data removed]",
      "text/plain": [
       "<Figure size 936x288 with 1 Axes>"
      ]
     },
     "metadata": {
      "needs_background": "light"
     },
     "output_type": "display_data"
    },
    {
     "data": {
      "image/png": "[encoded data removed]",
      "text/plain": [
       "<Figure size 936x288 with 1 Axes>"
      ]
     },
     "metadata": {
      "needs_background": "light"
     },
     "output_type": "display_data"
    },
    {
     "data": {
      "image/png": "[encoded data removed]",
      "text/plain": [
       "<Figure size 936x288 with 1 Axes>"
      ]
     },
     "metadata": {
      "needs_background": "light"
     },
     "output_type": "display_data"
    },
    {
     "data": {
      "image/png": "[encoded data removed]",
      "text/plain": [
       "<Figure size 936x288 with 1 Axes>"
      ]
     },
     "metadata": {
      "needs_background": "light"
     },
     "output_type": "display_data"
    },
    {
     "data": {
      "image/png": "[encoded data removed]",
      "text/plain": [
       "<Figure size 936x288 with 1 Axes>"
      ]
     },
     "metadata": {
      "needs_background": "light"
     },
     "output_type": "display_data"
    },
    {
     "data": {
      "image/png": "[encoded data removed]",
      "text/plain": [
       "<Figure size 936x288 with 1 Axes>"
      ]
     },
     "metadata": {
      "needs_background": "light"
     },
     "output_type": "display_data"
    },
    {
     "data": {
      "image/png": "[encoded data removed]",
      "text/plain": [
       "<Figure size 936x288 with 1 Axes>"
      ]
     },
     "metadata": {
      "needs_background": "light"
     },
     "output_type": "display_data"
    },
    {
     "data": {
      "image/png": "[encoded data removed]",
      "text/plain": [
       "<Figure size 936x288 with 1 Axes>"
      ]
     },
     "metadata": {
      "needs_background": "light"
     },
     "output_type": "display_data"
    },
    {
     "data": {
      "image/png": "[encoded data removed]",
      "text/plain": [
       "<Figure size 936x288 with 1 Axes>"
      ]
     },
     "metadata": {
      "needs_background": "light"
     },
     "output_type": "display_data"
    },
    {
     "data": {
      "image/png": "[encoded data removed]",
      "text/plain": [
       "<Figure size 936x288 with 1 Axes>"
      ]
     },
     "metadata": {
      "needs_background": "light"
     },
     "output_type": "display_data"
    },
    {
     "data": {
      "image/png": "[encoded data removed]",
      "text/plain": [
       "<Figure size 936x288 with 1 Axes>"
      ]
     },
     "metadata": {
      "needs_background": "light"
     },
     "output_type": "display_data"
    },
    {
     "data": {
      "image/png": "[encoded data removed]",
      "text/plain": [
       "<Figure size 936x288 with 1 Axes>"
      ]
     },
     "metadata": {
      "needs_background": "light"
     },
     "output_type": "display_data"
    },
    {
     "data": {
      "image/png": "[encoded data removed]",
      "text/plain": [
       "<Figure size 936x288 with 1 Axes>"
      ]
     },
     "metadata": {
      "needs_background": "light"
     },
     "output_type": "display_data"
    },
    {
     "data": {
      "image/png": "[encoded data removed]",
      "text/plain": [
       "<Figure size 936x288 with 1 Axes>"
      ]
     },
     "metadata": {
      "needs_background": "light"
     },
     "output_type": "display_data"
    },
    {
     "data": {
      "image/png": "[encoded data removed]",
      "text/plain": [
       "<Figure size 936x288 with 1 Axes>"
      ]
     },
     "metadata": {
      "needs_background": "light"
     },
     "output_type": "display_data"
    },
    {
     "data": {
      "image/png": "[encoded data removed]",
      "text/plain": [
       "<Figure size 936x288 with 1 Axes>"
      ]
     },
     "metadata": {
      "needs_background": "light"
     },
     "output_type": "display_data"
    },
    {
     "data": {
      "image/png": "[encoded data removed]",
      "text/plain": [
       "<Figure size 936x288 with 1 Axes>"
      ]
     },
     "metadata": {
      "needs_background": "light"
     },
     "output_type": "display_data"
    },
    {
     "data": {
      "image/png": "[encoded data removed]",
      "text/plain": [
       "<Figure size 936x288 with 1 Axes>"
      ]
     },
     "metadata": {
      "needs_background": "light"
     },
     "output_type": "display_data"
    },
    {
     "data": {
      "image/png": "[encoded data removed]",
      "text/plain": [
       "<Figure size 936x288 with 1 Axes>"
      ]
     },
     "metadata": {
      "needs_background": "light"
     },
     "output_type": "display_data"
    },
    {
     "data": {
      "image/png": "[encoded data removed]",
      "text/plain": [
       "<Figure size 936x288 with 1 Axes>"
      ]
     },
     "metadata": {
      "needs_background": "light"
     },
     "output_type": "display_data"
    }
   ],
   "source": [
    "# построим распределения по годам для каждой платформы.\n",
    "for platform in top_platforms_list:\n",
    "    df_actuality[df_actuality['platform'] == platform].pivot_table(index='year_of_release', values='total_sales', aggfunc='sum').plot(\n",
    "        kind='bar', figsize=(13,4))\n",
    "    plt.title(platform)"
   ]
  },
  {
   "cell_type": "markdown",
   "id": "dd962b8a",
   "metadata": {},
   "source": [
    "**В основном платформы живут 4-5 лет, но есть долгожители, которым удается продержаться около 10 лет. Это PS2, X360, PS3, Wii, DS, PS4 (пока мало данных, но тоже внесем в этот список), PSP и PC.**"
   ]
  },
  {
   "cell_type": "markdown",
   "id": "b570f974",
   "metadata": {},
   "source": [
    "###  Возьмем данные за соответствующий актуальный период. Актуальный период определим по результатам исследования предыдущих вопросов. Основной фактор — эти данные помогут построить прогноз на 2017 год.\n"
   ]
  },
  {
   "cell_type": "code",
   "execution_count": 39,
   "id": "8fc46ec7",
   "metadata": {},
   "outputs": [],
   "source": [
    "# примем актуальным период не ранее 2014 года, так как это пик развития данной индустрии\n",
    "df_actuality = df_actuality[df_actuality['year_of_release'] >= 2014]"
   ]
  },
  {
   "cell_type": "code",
   "execution_count": 40,
   "id": "4bcf856b",
   "metadata": {},
   "outputs": [
    {
     "name": "stdout",
     "output_type": "stream",
     "text": [
      "<class 'pandas.core.frame.DataFrame'>\n",
      "Int64Index: 1690 entries, 31 to 16714\n",
      "Data columns (total 12 columns):\n",
      " #   Column           Non-Null Count  Dtype  \n",
      "---  ------           --------------  -----  \n",
      " 0   name             1690 non-null   object \n",
      " 1   platform         1690 non-null   object \n",
      " 2   year_of_release  1690 non-null   int64  \n",
      " 3   genre            1690 non-null   object \n",
      " 4   na_sales         1690 non-null   float64\n",
      " 5   eu_sales         1690 non-null   float64\n",
      " 6   jp_sales         1690 non-null   float64\n",
      " 7   other_sales      1690 non-null   float64\n",
      " 8   critic_score     719 non-null    float64\n",
      " 9   user_score       889 non-null    float64\n",
      " 10  rating           941 non-null    object \n",
      " 11  total_sales      1690 non-null   float64\n",
      "dtypes: float64(7), int64(1), object(4)\n",
      "memory usage: 171.6+ KB\n"
     ]
    }
   ],
   "source": [
    "df_actuality.info()"
   ]
  },
  {
   "cell_type": "markdown",
   "id": "d6eed137",
   "metadata": {},
   "source": [
    "### Выберем несколько потенциально прибыльных платформ."
   ]
  },
  {
   "cell_type": "code",
   "execution_count": 41,
   "id": "05f26c8b",
   "metadata": {},
   "outputs": [
    {
     "data": {
      "text/html": [
       "<div>\n",
       "<style scoped>\n",
       "    .dataframe tbody tr th:only-of-type {\n",
       "        vertical-align: middle;\n",
       "    }\n",
       "\n",
       "    .dataframe tbody tr th {\n",
       "        vertical-align: top;\n",
       "    }\n",
       "\n",
       "    .dataframe thead th {\n",
       "        text-align: right;\n",
       "    }\n",
       "</style>\n",
       "<table border=\"1\" class=\"dataframe\">\n",
       "  <thead>\n",
       "    <tr style=\"text-align: right;\">\n",
       "      <th></th>\n",
       "      <th>total_sales</th>\n",
       "    </tr>\n",
       "    <tr>\n",
       "      <th>platform</th>\n",
       "      <th></th>\n",
       "    </tr>\n",
       "  </thead>\n",
       "  <tbody>\n",
       "    <tr>\n",
       "      <th>PS4</th>\n",
       "      <td>288.15</td>\n",
       "    </tr>\n",
       "    <tr>\n",
       "      <th>XOne</th>\n",
       "      <td>140.36</td>\n",
       "    </tr>\n",
       "    <tr>\n",
       "      <th>3DS</th>\n",
       "      <td>86.68</td>\n",
       "    </tr>\n",
       "    <tr>\n",
       "      <th>PS3</th>\n",
       "      <td>68.18</td>\n",
       "    </tr>\n",
       "    <tr>\n",
       "      <th>X360</th>\n",
       "      <td>48.22</td>\n",
       "    </tr>\n",
       "    <tr>\n",
       "      <th>WiiU</th>\n",
       "      <td>42.98</td>\n",
       "    </tr>\n",
       "    <tr>\n",
       "      <th>PC</th>\n",
       "      <td>27.40</td>\n",
       "    </tr>\n",
       "    <tr>\n",
       "      <th>PSV</th>\n",
       "      <td>22.40</td>\n",
       "    </tr>\n",
       "    <tr>\n",
       "      <th>Wii</th>\n",
       "      <td>5.07</td>\n",
       "    </tr>\n",
       "    <tr>\n",
       "      <th>PSP</th>\n",
       "      <td>0.36</td>\n",
       "    </tr>\n",
       "  </tbody>\n",
       "</table>\n",
       "</div>"
      ],
      "text/plain": [
       "          total_sales\n",
       "platform             \n",
       "PS4            288.15\n",
       "XOne           140.36\n",
       "3DS             86.68\n",
       "PS3             68.18\n",
       "X360            48.22\n",
       "WiiU            42.98\n",
       "PC              27.40\n",
       "PSV             22.40\n",
       "Wii              5.07\n",
       "PSP              0.36"
      ]
     },
     "execution_count": 41,
     "metadata": {},
     "output_type": "execute_result"
    }
   ],
   "source": [
    "sales_top_platform = df_actuality.pivot_table(index='platform', values='total_sales', aggfunc='sum').sort_values(by='total_sales', ascending=False)\n",
    "sales_top_platform"
   ]
  },
  {
   "cell_type": "code",
   "execution_count": 42,
   "id": "c7126b5a",
   "metadata": {},
   "outputs": [
    {
     "data": {
      "text/html": [
       "<div>\n",
       "<style scoped>\n",
       "    .dataframe tbody tr th:only-of-type {\n",
       "        vertical-align: middle;\n",
       "    }\n",
       "\n",
       "    .dataframe tbody tr th {\n",
       "        vertical-align: top;\n",
       "    }\n",
       "\n",
       "    .dataframe thead th {\n",
       "        text-align: right;\n",
       "    }\n",
       "</style>\n",
       "<table border=\"1\" class=\"dataframe\">\n",
       "  <thead>\n",
       "    <tr style=\"text-align: right;\">\n",
       "      <th></th>\n",
       "      <th>platform</th>\n",
       "      <th>total_sales</th>\n",
       "    </tr>\n",
       "  </thead>\n",
       "  <tbody>\n",
       "    <tr>\n",
       "      <th>0</th>\n",
       "      <td>PS4</td>\n",
       "      <td>288.15</td>\n",
       "    </tr>\n",
       "    <tr>\n",
       "      <th>1</th>\n",
       "      <td>XOne</td>\n",
       "      <td>140.36</td>\n",
       "    </tr>\n",
       "    <tr>\n",
       "      <th>2</th>\n",
       "      <td>3DS</td>\n",
       "      <td>86.68</td>\n",
       "    </tr>\n",
       "    <tr>\n",
       "      <th>3</th>\n",
       "      <td>PS3</td>\n",
       "      <td>68.18</td>\n",
       "    </tr>\n",
       "    <tr>\n",
       "      <th>4</th>\n",
       "      <td>X360</td>\n",
       "      <td>48.22</td>\n",
       "    </tr>\n",
       "    <tr>\n",
       "      <th>5</th>\n",
       "      <td>WiiU</td>\n",
       "      <td>42.98</td>\n",
       "    </tr>\n",
       "  </tbody>\n",
       "</table>\n",
       "</div>"
      ],
      "text/plain": [
       "  platform  total_sales\n",
       "0      PS4       288.15\n",
       "1     XOne       140.36\n",
       "2      3DS        86.68\n",
       "3      PS3        68.18\n",
       "4     X360        48.22\n",
       "5     WiiU        42.98"
      ]
     },
     "execution_count": 42,
     "metadata": {},
     "output_type": "execute_result"
    }
   ],
   "source": [
    "sales_top_platform = sales_top_platform[sales_top_platform['total_sales'] > 40].reset_index()\n",
    "sales_top_platform"
   ]
  },
  {
   "cell_type": "code",
   "execution_count": 43,
   "id": "286ca4f5",
   "metadata": {},
   "outputs": [
    {
     "data": {
      "text/plain": [
       "['PS4', 'XOne', '3DS', 'PS3', 'X360', 'WiiU']"
      ]
     },
     "execution_count": 43,
     "metadata": {},
     "output_type": "execute_result"
    }
   ],
   "source": [
    "sales_top_platform = list(sales_top_platform['platform'])\n",
    "sales_top_platform"
   ]
  },
  {
   "cell_type": "code",
   "execution_count": 44,
   "id": "aec4e10a",
   "metadata": {},
   "outputs": [
    {
     "data": {
      "text/html": [
       "<div>\n",
       "<style scoped>\n",
       "    .dataframe tbody tr th:only-of-type {\n",
       "        vertical-align: middle;\n",
       "    }\n",
       "\n",
       "    .dataframe tbody tr th {\n",
       "        vertical-align: top;\n",
       "    }\n",
       "\n",
       "    .dataframe thead th {\n",
       "        text-align: right;\n",
       "    }\n",
       "</style>\n",
       "<table border=\"1\" class=\"dataframe\">\n",
       "  <thead>\n",
       "    <tr style=\"text-align: right;\">\n",
       "      <th></th>\n",
       "      <th>name</th>\n",
       "      <th>platform</th>\n",
       "      <th>year_of_release</th>\n",
       "      <th>genre</th>\n",
       "      <th>na_sales</th>\n",
       "      <th>eu_sales</th>\n",
       "      <th>jp_sales</th>\n",
       "      <th>other_sales</th>\n",
       "      <th>critic_score</th>\n",
       "      <th>user_score</th>\n",
       "      <th>rating</th>\n",
       "      <th>total_sales</th>\n",
       "    </tr>\n",
       "  </thead>\n",
       "  <tbody>\n",
       "    <tr>\n",
       "      <th>31</th>\n",
       "      <td>Call of Duty: Black Ops 3</td>\n",
       "      <td>PS4</td>\n",
       "      <td>2015</td>\n",
       "      <td>Shooter</td>\n",
       "      <td>6.03</td>\n",
       "      <td>5.86</td>\n",
       "      <td>0.36</td>\n",
       "      <td>2.38</td>\n",
       "      <td>NaN</td>\n",
       "      <td>NaN</td>\n",
       "      <td>NaN</td>\n",
       "      <td>14.63</td>\n",
       "    </tr>\n",
       "    <tr>\n",
       "      <th>42</th>\n",
       "      <td>Grand Theft Auto V</td>\n",
       "      <td>PS4</td>\n",
       "      <td>2014</td>\n",
       "      <td>Action</td>\n",
       "      <td>3.96</td>\n",
       "      <td>6.31</td>\n",
       "      <td>0.38</td>\n",
       "      <td>1.97</td>\n",
       "      <td>97.0</td>\n",
       "      <td>8.3</td>\n",
       "      <td>M</td>\n",
       "      <td>12.62</td>\n",
       "    </tr>\n",
       "    <tr>\n",
       "      <th>47</th>\n",
       "      <td>Pokemon Omega Ruby/Pokemon Alpha Sapphire</td>\n",
       "      <td>3DS</td>\n",
       "      <td>2014</td>\n",
       "      <td>Role-Playing</td>\n",
       "      <td>4.35</td>\n",
       "      <td>3.49</td>\n",
       "      <td>3.10</td>\n",
       "      <td>0.74</td>\n",
       "      <td>NaN</td>\n",
       "      <td>NaN</td>\n",
       "      <td>NaN</td>\n",
       "      <td>11.68</td>\n",
       "    </tr>\n",
       "    <tr>\n",
       "      <th>77</th>\n",
       "      <td>FIFA 16</td>\n",
       "      <td>PS4</td>\n",
       "      <td>2015</td>\n",
       "      <td>Sports</td>\n",
       "      <td>1.12</td>\n",
       "      <td>6.12</td>\n",
       "      <td>0.06</td>\n",
       "      <td>1.28</td>\n",
       "      <td>82.0</td>\n",
       "      <td>4.3</td>\n",
       "      <td>E</td>\n",
       "      <td>8.58</td>\n",
       "    </tr>\n",
       "    <tr>\n",
       "      <th>87</th>\n",
       "      <td>Star Wars Battlefront (2015)</td>\n",
       "      <td>PS4</td>\n",
       "      <td>2015</td>\n",
       "      <td>Shooter</td>\n",
       "      <td>2.99</td>\n",
       "      <td>3.49</td>\n",
       "      <td>0.22</td>\n",
       "      <td>1.28</td>\n",
       "      <td>NaN</td>\n",
       "      <td>NaN</td>\n",
       "      <td>NaN</td>\n",
       "      <td>7.98</td>\n",
       "    </tr>\n",
       "  </tbody>\n",
       "</table>\n",
       "</div>"
      ],
      "text/plain": [
       "                                         name platform  year_of_release  \\\n",
       "31                  Call of Duty: Black Ops 3      PS4             2015   \n",
       "42                         Grand Theft Auto V      PS4             2014   \n",
       "47  Pokemon Omega Ruby/Pokemon Alpha Sapphire      3DS             2014   \n",
       "77                                    FIFA 16      PS4             2015   \n",
       "87               Star Wars Battlefront (2015)      PS4             2015   \n",
       "\n",
       "           genre  na_sales  eu_sales  jp_sales  other_sales  critic_score  \\\n",
       "31       Shooter      6.03      5.86      0.36         2.38           NaN   \n",
       "42        Action      3.96      6.31      0.38         1.97          97.0   \n",
       "47  Role-Playing      4.35      3.49      3.10         0.74           NaN   \n",
       "77        Sports      1.12      6.12      0.06         1.28          82.0   \n",
       "87       Shooter      2.99      3.49      0.22         1.28           NaN   \n",
       "\n",
       "    user_score rating  total_sales  \n",
       "31         NaN    NaN        14.63  \n",
       "42         8.3      M        12.62  \n",
       "47         NaN    NaN        11.68  \n",
       "77         4.3      E         8.58  \n",
       "87         NaN    NaN         7.98  "
      ]
     },
     "execution_count": 44,
     "metadata": {},
     "output_type": "execute_result"
    }
   ],
   "source": [
    "top = df_actuality[df_actuality['platform'].isin(sales_top_platform)]\n",
    "top.head()"
   ]
  },
  {
   "cell_type": "code",
   "execution_count": 45,
   "id": "a815a896",
   "metadata": {},
   "outputs": [
    {
     "data": {
      "text/plain": [
       "count    1219.000000\n",
       "mean        0.553380\n",
       "std         1.212111\n",
       "min         0.010000\n",
       "25%         0.050000\n",
       "50%         0.140000\n",
       "75%         0.480000\n",
       "max        14.630000\n",
       "Name: total_sales, dtype: float64"
      ]
     },
     "execution_count": 45,
     "metadata": {},
     "output_type": "execute_result"
    }
   ],
   "source": [
    "top['total_sales'].describe()"
   ]
  },
  {
   "cell_type": "code",
   "execution_count": 46,
   "id": "b020ee20",
   "metadata": {},
   "outputs": [],
   "source": [
    "# избавляемся от выбросов\n",
    "top = top[top['total_sales'] < 2]"
   ]
  },
  {
   "cell_type": "markdown",
   "id": "b36247df",
   "metadata": {},
   "source": [
    "### Построим график «ящик с усами» по глобальным продажам каждой игры и разбивкой по платформам."
   ]
  },
  {
   "cell_type": "code",
   "execution_count": 47,
   "id": "725ed334",
   "metadata": {},
   "outputs": [
    {
     "data": {
      "text/plain": [
       "Text(0, 0.5, 'Глобальные продажи')"
      ]
     },
     "execution_count": 47,
     "metadata": {},
     "output_type": "execute_result"
    },
    {
     "data": {
      "image/png": "[encoded data removed]",
      "text/plain": [
       "<Figure size 864x720 with 1 Axes>"
      ]
     },
     "metadata": {
      "needs_background": "light"
     },
     "output_type": "display_data"
    }
   ],
   "source": [
    "plt.figure(figsize=(12,10))\n",
    "sns.boxplot(data= top, x='platform', y='total_sales')\n",
    "plt.title('Ящик с усами', fontsize=15)\n",
    "plt.xlabel('Платформа', fontsize=12)\n",
    "plt.ylabel('Глобальные продажи',fontsize=12)"
   ]
  },
  {
   "cell_type": "markdown",
   "id": "49cd1386",
   "metadata": {},
   "source": [
    "Графики показывают:\n",
    "- самые высокие медианы по убыванию - X360 и XOne, Wii, PS4, PS3 далее остальные \n",
    "- Самая молодая и перспективная - платформа PS4\n",
    "- 3DS хуже всех."
   ]
  },
  {
   "cell_type": "markdown",
   "id": "9f2bbac4",
   "metadata": {},
   "source": [
    "### Посмотрим, как влияют на продажи внутри одной популярной платформы отзывы пользователей и критиков. "
   ]
  },
  {
   "cell_type": "code",
   "execution_count": 48,
   "id": "fb00633c",
   "metadata": {},
   "outputs": [],
   "source": [
    "# напишем функцию, которая будет отрисовывать графики рассеивания и считать корреляции\n",
    "def corr_matrix(name_of_platform):\n",
    "    platform = df[df['platform']==name_of_platform]\n",
    "    fig, ax = plt.subplots(1 ,2, figsize=(15,5))\n",
    "    sns.scatterplot(x='user_score', y='total_sales', data=platform, ax=ax[0])\n",
    "    sns.scatterplot(x='critic_score', y='total_sales', data=platform, ax=ax[1])\n",
    "    fig.suptitle(name_of_platform, fontsize=15)\n",
    "    ax[0].set(xlabel='Оценка пользователей')\n",
    "    ax[1].set(xlabel='Оценка критиков')\n",
    "    ax[0].set(ylabel='Количество продаж')\n",
    "    ax[1].set(ylabel='Количество продаж')\n",
    "    plt.show()\n",
    "    \n",
    "    correl = platform['user_score'].corr(platform['total_sales'])\n",
    "    critic_correl = platform['critic_score'].corr(platform['total_sales'])\n",
    "    \n",
    "    print('Корреляция между отзывами критиков и продажами ', name_of_platform.upper(), critic_correl)\n",
    "    \n",
    "    print('\\n')\n",
    "    \n",
    "    print('Корреляция между отзывами пользователей и продажами ', name_of_platform.upper(), correl)\n",
    " \n",
    "    print('\\n')"
   ]
  },
  {
   "cell_type": "code",
   "execution_count": 49,
   "id": "08db53e5",
   "metadata": {
    "scrolled": false
   },
   "outputs": [
    {
     "data": {
      "image/png": "[encoded data removed]",
      "text/plain": [
       "<Figure size 1080x360 with 2 Axes>"
      ]
     },
     "metadata": {
      "needs_background": "light"
     },
     "output_type": "display_data"
    },
    {
     "name": "stdout",
     "output_type": "stream",
     "text": [
      "Корреляция между отзывами критиков и продажами  PS4 0.40656790206178095\n",
      "\n",
      "\n",
      "Корреляция между отзывами пользователей и продажами  PS4 -0.031957110204556376\n",
      "\n",
      "\n"
     ]
    },
    {
     "data": {
      "image/png": "[encoded data removed]",
      "text/plain": [
       "<Figure size 1080x360 with 2 Axes>"
      ]
     },
     "metadata": {
      "needs_background": "light"
     },
     "output_type": "display_data"
    },
    {
     "name": "stdout",
     "output_type": "stream",
     "text": [
      "Корреляция между отзывами критиков и продажами  XONE 0.4169983280084017\n",
      "\n",
      "\n",
      "Корреляция между отзывами пользователей и продажами  XONE -0.06892505328279414\n",
      "\n",
      "\n"
     ]
    },
    {
     "data": {
      "image/png": "[encoded data removed]",
      "text/plain": [
       "<Figure size 1080x360 with 2 Axes>"
      ]
     },
     "metadata": {
      "needs_background": "light"
     },
     "output_type": "display_data"
    },
    {
     "name": "stdout",
     "output_type": "stream",
     "text": [
      "Корреляция между отзывами критиков и продажами  3DS 0.34821555174929825\n",
      "\n",
      "\n",
      "Корреляция между отзывами пользователей и продажами  3DS 0.222305117884012\n",
      "\n",
      "\n"
     ]
    },
    {
     "data": {
      "image/png": "[encoded data removed]",
      "text/plain": [
       "<Figure size 1080x360 with 2 Axes>"
      ]
     },
     "metadata": {
      "needs_background": "light"
     },
     "output_type": "display_data"
    },
    {
     "name": "stdout",
     "output_type": "stream",
     "text": [
      "Корреляция между отзывами критиков и продажами  PS3 0.43354256791991863\n",
      "\n",
      "\n",
      "Корреляция между отзывами пользователей и продажами  PS3 0.12696023197690307\n",
      "\n",
      "\n"
     ]
    },
    {
     "data": {
      "image/png": "[encoded data removed]",
      "text/plain": [
       "<Figure size 1080x360 with 2 Axes>"
      ]
     },
     "metadata": {
      "needs_background": "light"
     },
     "output_type": "display_data"
    },
    {
     "name": "stdout",
     "output_type": "stream",
     "text": [
      "Корреляция между отзывами критиков и продажами  X360 0.3917421352905376\n",
      "\n",
      "\n",
      "Корреляция между отзывами пользователей и продажами  X360 0.11365027165034972\n",
      "\n",
      "\n"
     ]
    },
    {
     "data": {
      "image/png": "[encoded data removed]",
      "text/plain": [
       "<Figure size 1080x360 with 2 Axes>"
      ]
     },
     "metadata": {
      "needs_background": "light"
     },
     "output_type": "display_data"
    },
    {
     "name": "stdout",
     "output_type": "stream",
     "text": [
      "Корреляция между отзывами критиков и продажами  WIIU 0.34837976012017485\n",
      "\n",
      "\n",
      "Корреляция между отзывами пользователей и продажами  WIIU 0.4002190202148617\n",
      "\n",
      "\n"
     ]
    }
   ],
   "source": [
    "for platform in sales_top_platform:\n",
    "    corr_matrix(platform)"
   ]
  },
  {
   "cell_type": "markdown",
   "id": "c4632103",
   "metadata": {},
   "source": [
    "**Определенно корреляция между отзывами и продажами есть. У всех рассматриваемых платформ корреляция между отзыами критиков и продажами стабильно выше, чем между критикой пользователей и продажами. У некоторых платформ эта разница фундаментальная.**"
   ]
  },
  {
   "cell_type": "markdown",
   "id": "1151cf08",
   "metadata": {},
   "source": [
    "### Посмотрим на общее распределение игр по жанрам. Что можно сказать о самых прибыльных жанрах?"
   ]
  },
  {
   "cell_type": "code",
   "execution_count": 50,
   "id": "03bb85f2",
   "metadata": {},
   "outputs": [
    {
     "data": {
      "text/html": [
       "<div>\n",
       "<style scoped>\n",
       "    .dataframe tbody tr th:only-of-type {\n",
       "        vertical-align: middle;\n",
       "    }\n",
       "\n",
       "    .dataframe tbody tr th {\n",
       "        vertical-align: top;\n",
       "    }\n",
       "\n",
       "    .dataframe thead th {\n",
       "        text-align: right;\n",
       "    }\n",
       "</style>\n",
       "<table border=\"1\" class=\"dataframe\">\n",
       "  <thead>\n",
       "    <tr style=\"text-align: right;\">\n",
       "      <th></th>\n",
       "      <th>genre</th>\n",
       "      <th>total_sales</th>\n",
       "    </tr>\n",
       "  </thead>\n",
       "  <tbody>\n",
       "    <tr>\n",
       "      <th>0</th>\n",
       "      <td>Action</td>\n",
       "      <td>114.92</td>\n",
       "    </tr>\n",
       "    <tr>\n",
       "      <th>1</th>\n",
       "      <td>Sports</td>\n",
       "      <td>47.90</td>\n",
       "    </tr>\n",
       "    <tr>\n",
       "      <th>2</th>\n",
       "      <td>Shooter</td>\n",
       "      <td>46.82</td>\n",
       "    </tr>\n",
       "    <tr>\n",
       "      <th>3</th>\n",
       "      <td>Role-Playing</td>\n",
       "      <td>44.43</td>\n",
       "    </tr>\n",
       "    <tr>\n",
       "      <th>4</th>\n",
       "      <td>Misc</td>\n",
       "      <td>18.56</td>\n",
       "    </tr>\n",
       "    <tr>\n",
       "      <th>5</th>\n",
       "      <td>Racing</td>\n",
       "      <td>15.20</td>\n",
       "    </tr>\n",
       "    <tr>\n",
       "      <th>6</th>\n",
       "      <td>Adventure</td>\n",
       "      <td>14.64</td>\n",
       "    </tr>\n",
       "    <tr>\n",
       "      <th>7</th>\n",
       "      <td>Platform</td>\n",
       "      <td>14.63</td>\n",
       "    </tr>\n",
       "    <tr>\n",
       "      <th>8</th>\n",
       "      <td>Fighting</td>\n",
       "      <td>12.23</td>\n",
       "    </tr>\n",
       "    <tr>\n",
       "      <th>9</th>\n",
       "      <td>Simulation</td>\n",
       "      <td>3.44</td>\n",
       "    </tr>\n",
       "    <tr>\n",
       "      <th>10</th>\n",
       "      <td>Puzzle</td>\n",
       "      <td>2.15</td>\n",
       "    </tr>\n",
       "    <tr>\n",
       "      <th>11</th>\n",
       "      <td>Strategy</td>\n",
       "      <td>1.49</td>\n",
       "    </tr>\n",
       "  </tbody>\n",
       "</table>\n",
       "</div>"
      ],
      "text/plain": [
       "           genre  total_sales\n",
       "0         Action       114.92\n",
       "1         Sports        47.90\n",
       "2        Shooter        46.82\n",
       "3   Role-Playing        44.43\n",
       "4           Misc        18.56\n",
       "5         Racing        15.20\n",
       "6      Adventure        14.64\n",
       "7       Platform        14.63\n",
       "8       Fighting        12.23\n",
       "9     Simulation         3.44\n",
       "10        Puzzle         2.15\n",
       "11      Strategy         1.49"
      ]
     },
     "execution_count": 50,
     "metadata": {},
     "output_type": "execute_result"
    }
   ],
   "source": [
    "genre = top.pivot_table(index='genre', values='total_sales', aggfunc='sum').sort_values(by='total_sales', ascending=False).reset_index()\n",
    "genre"
   ]
  },
  {
   "cell_type": "code",
   "execution_count": 51,
   "id": "c3392f26",
   "metadata": {},
   "outputs": [
    {
     "data": {
      "text/plain": [
       "count    1690.000000\n",
       "mean        0.431834\n",
       "std         1.055799\n",
       "min         0.010000\n",
       "25%         0.030000\n",
       "50%         0.100000\n",
       "75%         0.350000\n",
       "max        14.630000\n",
       "Name: total_sales, dtype: float64"
      ]
     },
     "execution_count": 51,
     "metadata": {},
     "output_type": "execute_result"
    }
   ],
   "source": [
    "df_actuality['total_sales'].describe()"
   ]
  },
  {
   "cell_type": "code",
   "execution_count": 52,
   "id": "a97c64b1",
   "metadata": {},
   "outputs": [],
   "source": [
    "# избавляемся от выбросов\n",
    "genre = df_actuality[df_actuality['total_sales'] < 1.5]"
   ]
  },
  {
   "cell_type": "code",
   "execution_count": 53,
   "id": "e27ad76a",
   "metadata": {},
   "outputs": [
    {
     "data": {
      "text/plain": [
       "Text(0, 0.5, 'Продажи')"
      ]
     },
     "execution_count": 53,
     "metadata": {},
     "output_type": "execute_result"
    },
    {
     "data": {
      "image/png": "[encoded data removed]",
      "text/plain": [
       "<Figure size 1080x432 with 1 Axes>"
      ]
     },
     "metadata": {
      "needs_background": "light"
     },
     "output_type": "display_data"
    }
   ],
   "source": [
    "# построим график чтобы лучше отразить жанры \n",
    "plt.figure(figsize=(15,6))\n",
    "plt.title('Распределение игр по жанрам ',fontsize=15)\n",
    "sns.boxplot(data= genre, x='genre', y='total_sales')\n",
    "#sns.barplot(data=genre, x='genre', y='total_sales')\n",
    "plt.xlabel('Жанры игр',fontsize=12)\n",
    "plt.ylabel('Продажи',fontsize=12)"
   ]
  },
  {
   "cell_type": "markdown",
   "id": "916a8d25",
   "metadata": {},
   "source": [
    "С большим отрывом лидирует жанр 'Shooter'. Затем пятерку лидеров замыкают 'Sports', 'Misc', 'Action' и 'Role_Playing'. Когда-то лидер всех игр - Тетрис (жанр 'Puzzle') на последнем месте."
   ]
  },
  {
   "cell_type": "markdown",
   "id": "33d5c0b9",
   "metadata": {},
   "source": [
    "### ВЫВОД: \n",
    "1. Количество игр на игровые приставки и компьютеры начало расти с большой скоростью с 90х годов до 2008 года. С 2008 года пошел резкий спад. Видимо из-за развития мобильных игр.\n",
    "2. Самые популярные игровые платформы за весь период : PS3, Xbox 360, PS4, Wii, DS, SPS.\n",
    "3. Средняя жизнь наиболее популярной игровой платформы составляет 8-10 лет. Пик продаж наступает примерно через 4 года после выхода.\n",
    "4. Больше всего было продано игр на Sony Playstation и Xbox 360.\n",
    "5. У анализируемых нами платформ наблюдается взаимосвязь между продажами и оценками критиков. Пользовательские же оценки почти не играют значимой роли. Это значит, что для людей мнение критиков важнее мнения других пользователей.\n",
    "6. Самым популярным жанром является 'Shooter'. Затем 'Sports', 'Misc', 'Action' и 'Role_Playing'. "
   ]
  },
  {
   "cell_type": "markdown",
   "id": "7788e2f2",
   "metadata": {},
   "source": [
    "## Составим портрет пользователя каждого региона"
   ]
  },
  {
   "cell_type": "code",
   "execution_count": 54,
   "id": "608a64f7",
   "metadata": {},
   "outputs": [],
   "source": [
    "# функция для создания сводных таблиц за актуальный период\n",
    "def user_image_2016(row, title):\n",
    "    temp = df[df['year_of_release']>=2014]\n",
    "    fig, axes = plt.subplots(1, 3, figsize=(20, 4))\n",
    "    for pivot, ax in zip(list(['platform','genre','rating']), axes):\n",
    "        ppivot = temp.pivot_table(index=pivot, values=row, aggfunc='sum').sort_values(by=row, ascending=False).reset_index().rename_axis(None, axis=1).head(5)\n",
    "        display(ppivot)\n",
    "\n",
    "        sns.barplot(data=ppivot, x=pivot, y=row, ax=ax)\n",
    "        fig.suptitle(title, fontsize=15)"
   ]
  },
  {
   "cell_type": "markdown",
   "id": "d55228e2",
   "metadata": {},
   "source": [
    "### Портрет пользователей Северной Америки"
   ]
  },
  {
   "cell_type": "code",
   "execution_count": 55,
   "id": "83977b12",
   "metadata": {},
   "outputs": [
    {
     "data": {
      "text/html": [
       "<div>\n",
       "<style scoped>\n",
       "    .dataframe tbody tr th:only-of-type {\n",
       "        vertical-align: middle;\n",
       "    }\n",
       "\n",
       "    .dataframe tbody tr th {\n",
       "        vertical-align: top;\n",
       "    }\n",
       "\n",
       "    .dataframe thead th {\n",
       "        text-align: right;\n",
       "    }\n",
       "</style>\n",
       "<table border=\"1\" class=\"dataframe\">\n",
       "  <thead>\n",
       "    <tr style=\"text-align: right;\">\n",
       "      <th></th>\n",
       "      <th>platform</th>\n",
       "      <th>na_sales</th>\n",
       "    </tr>\n",
       "  </thead>\n",
       "  <tbody>\n",
       "    <tr>\n",
       "      <th>0</th>\n",
       "      <td>PS4</td>\n",
       "      <td>98.61</td>\n",
       "    </tr>\n",
       "    <tr>\n",
       "      <th>1</th>\n",
       "      <td>XOne</td>\n",
       "      <td>81.27</td>\n",
       "    </tr>\n",
       "    <tr>\n",
       "      <th>2</th>\n",
       "      <td>X360</td>\n",
       "      <td>28.30</td>\n",
       "    </tr>\n",
       "    <tr>\n",
       "      <th>3</th>\n",
       "      <td>3DS</td>\n",
       "      <td>22.64</td>\n",
       "    </tr>\n",
       "    <tr>\n",
       "      <th>4</th>\n",
       "      <td>PS3</td>\n",
       "      <td>22.05</td>\n",
       "    </tr>\n",
       "  </tbody>\n",
       "</table>\n",
       "</div>"
      ],
      "text/plain": [
       "  platform  na_sales\n",
       "0      PS4     98.61\n",
       "1     XOne     81.27\n",
       "2     X360     28.30\n",
       "3      3DS     22.64\n",
       "4      PS3     22.05"
      ]
     },
     "metadata": {},
     "output_type": "display_data"
    },
    {
     "data": {
      "text/html": [
       "<div>\n",
       "<style scoped>\n",
       "    .dataframe tbody tr th:only-of-type {\n",
       "        vertical-align: middle;\n",
       "    }\n",
       "\n",
       "    .dataframe tbody tr th {\n",
       "        vertical-align: top;\n",
       "    }\n",
       "\n",
       "    .dataframe thead th {\n",
       "        text-align: right;\n",
       "    }\n",
       "</style>\n",
       "<table border=\"1\" class=\"dataframe\">\n",
       "  <thead>\n",
       "    <tr style=\"text-align: right;\">\n",
       "      <th></th>\n",
       "      <th>genre</th>\n",
       "      <th>na_sales</th>\n",
       "    </tr>\n",
       "  </thead>\n",
       "  <tbody>\n",
       "    <tr>\n",
       "      <th>0</th>\n",
       "      <td>Shooter</td>\n",
       "      <td>79.02</td>\n",
       "    </tr>\n",
       "    <tr>\n",
       "      <th>1</th>\n",
       "      <td>Action</td>\n",
       "      <td>72.59</td>\n",
       "    </tr>\n",
       "    <tr>\n",
       "      <th>2</th>\n",
       "      <td>Sports</td>\n",
       "      <td>46.13</td>\n",
       "    </tr>\n",
       "    <tr>\n",
       "      <th>3</th>\n",
       "      <td>Role-Playing</td>\n",
       "      <td>33.47</td>\n",
       "    </tr>\n",
       "    <tr>\n",
       "      <th>4</th>\n",
       "      <td>Misc</td>\n",
       "      <td>15.05</td>\n",
       "    </tr>\n",
       "  </tbody>\n",
       "</table>\n",
       "</div>"
      ],
      "text/plain": [
       "          genre  na_sales\n",
       "0       Shooter     79.02\n",
       "1        Action     72.59\n",
       "2        Sports     46.13\n",
       "3  Role-Playing     33.47\n",
       "4          Misc     15.05"
      ]
     },
     "metadata": {},
     "output_type": "display_data"
    },
    {
     "data": {
      "text/html": [
       "<div>\n",
       "<style scoped>\n",
       "    .dataframe tbody tr th:only-of-type {\n",
       "        vertical-align: middle;\n",
       "    }\n",
       "\n",
       "    .dataframe tbody tr th {\n",
       "        vertical-align: top;\n",
       "    }\n",
       "\n",
       "    .dataframe thead th {\n",
       "        text-align: right;\n",
       "    }\n",
       "</style>\n",
       "<table border=\"1\" class=\"dataframe\">\n",
       "  <thead>\n",
       "    <tr style=\"text-align: right;\">\n",
       "      <th></th>\n",
       "      <th>rating</th>\n",
       "      <th>na_sales</th>\n",
       "    </tr>\n",
       "  </thead>\n",
       "  <tbody>\n",
       "    <tr>\n",
       "      <th>0</th>\n",
       "      <td>M</td>\n",
       "      <td>96.48</td>\n",
       "    </tr>\n",
       "    <tr>\n",
       "      <th>1</th>\n",
       "      <td>E</td>\n",
       "      <td>50.74</td>\n",
       "    </tr>\n",
       "    <tr>\n",
       "      <th>2</th>\n",
       "      <td>T</td>\n",
       "      <td>38.95</td>\n",
       "    </tr>\n",
       "    <tr>\n",
       "      <th>3</th>\n",
       "      <td>E10+</td>\n",
       "      <td>33.23</td>\n",
       "    </tr>\n",
       "  </tbody>\n",
       "</table>\n",
       "</div>"
      ],
      "text/plain": [
       "  rating  na_sales\n",
       "0      M     96.48\n",
       "1      E     50.74\n",
       "2      T     38.95\n",
       "3   E10+     33.23"
      ]
     },
     "metadata": {},
     "output_type": "display_data"
    },
    {
     "data": {
      "image/png": "[encoded data removed]",
      "text/plain": [
       "<Figure size 1440x288 with 3 Axes>"
      ]
     },
     "metadata": {
      "needs_background": "light"
     },
     "output_type": "display_data"
    }
   ],
   "source": [
    "# топ 5 платформ, жанров и рейтингов за актуальный период\n",
    "user_image_2016('na_sales','Топ 5 платформ, жанров и рейтингов за последний год')"
   ]
  },
  {
   "cell_type": "markdown",
   "id": "f4b66d00",
   "metadata": {},
   "source": [
    "#### Вывод:\n",
    "1. Топ игровых приставок выглядит таким образом : PS4, XOne, 3DS, WiiU, X360.\n",
    "2. Топ жанров игр: Shooter, Action, Sports, Role-Playing, Misc.\n",
    "3. Топ рейтингов игр : \"От 18 и выше\" , \"от 7 и выше\", \"от 16 и старше\" и \"от 12 и старше\"."
   ]
  },
  {
   "cell_type": "markdown",
   "id": "a8d83519",
   "metadata": {},
   "source": [
    "### Портрет пользователя из Европы"
   ]
  },
  {
   "cell_type": "code",
   "execution_count": 56,
   "id": "56dc9b68",
   "metadata": {},
   "outputs": [
    {
     "data": {
      "text/html": [
       "<div>\n",
       "<style scoped>\n",
       "    .dataframe tbody tr th:only-of-type {\n",
       "        vertical-align: middle;\n",
       "    }\n",
       "\n",
       "    .dataframe tbody tr th {\n",
       "        vertical-align: top;\n",
       "    }\n",
       "\n",
       "    .dataframe thead th {\n",
       "        text-align: right;\n",
       "    }\n",
       "</style>\n",
       "<table border=\"1\" class=\"dataframe\">\n",
       "  <thead>\n",
       "    <tr style=\"text-align: right;\">\n",
       "      <th></th>\n",
       "      <th>platform</th>\n",
       "      <th>eu_sales</th>\n",
       "    </tr>\n",
       "  </thead>\n",
       "  <tbody>\n",
       "    <tr>\n",
       "      <th>0</th>\n",
       "      <td>PS4</td>\n",
       "      <td>130.04</td>\n",
       "    </tr>\n",
       "    <tr>\n",
       "      <th>1</th>\n",
       "      <td>XOne</td>\n",
       "      <td>46.25</td>\n",
       "    </tr>\n",
       "    <tr>\n",
       "      <th>2</th>\n",
       "      <td>PS3</td>\n",
       "      <td>25.54</td>\n",
       "    </tr>\n",
       "    <tr>\n",
       "      <th>3</th>\n",
       "      <td>PC</td>\n",
       "      <td>18.22</td>\n",
       "    </tr>\n",
       "    <tr>\n",
       "      <th>4</th>\n",
       "      <td>3DS</td>\n",
       "      <td>16.12</td>\n",
       "    </tr>\n",
       "  </tbody>\n",
       "</table>\n",
       "</div>"
      ],
      "text/plain": [
       "  platform  eu_sales\n",
       "0      PS4    130.04\n",
       "1     XOne     46.25\n",
       "2      PS3     25.54\n",
       "3       PC     18.22\n",
       "4      3DS     16.12"
      ]
     },
     "metadata": {},
     "output_type": "display_data"
    },
    {
     "data": {
      "text/html": [
       "<div>\n",
       "<style scoped>\n",
       "    .dataframe tbody tr th:only-of-type {\n",
       "        vertical-align: middle;\n",
       "    }\n",
       "\n",
       "    .dataframe tbody tr th {\n",
       "        vertical-align: top;\n",
       "    }\n",
       "\n",
       "    .dataframe thead th {\n",
       "        text-align: right;\n",
       "    }\n",
       "</style>\n",
       "<table border=\"1\" class=\"dataframe\">\n",
       "  <thead>\n",
       "    <tr style=\"text-align: right;\">\n",
       "      <th></th>\n",
       "      <th>genre</th>\n",
       "      <th>eu_sales</th>\n",
       "    </tr>\n",
       "  </thead>\n",
       "  <tbody>\n",
       "    <tr>\n",
       "      <th>0</th>\n",
       "      <td>Action</td>\n",
       "      <td>74.93</td>\n",
       "    </tr>\n",
       "    <tr>\n",
       "      <th>1</th>\n",
       "      <td>Shooter</td>\n",
       "      <td>65.52</td>\n",
       "    </tr>\n",
       "    <tr>\n",
       "      <th>2</th>\n",
       "      <td>Sports</td>\n",
       "      <td>45.73</td>\n",
       "    </tr>\n",
       "    <tr>\n",
       "      <th>3</th>\n",
       "      <td>Role-Playing</td>\n",
       "      <td>28.17</td>\n",
       "    </tr>\n",
       "    <tr>\n",
       "      <th>4</th>\n",
       "      <td>Racing</td>\n",
       "      <td>14.13</td>\n",
       "    </tr>\n",
       "  </tbody>\n",
       "</table>\n",
       "</div>"
      ],
      "text/plain": [
       "          genre  eu_sales\n",
       "0        Action     74.93\n",
       "1       Shooter     65.52\n",
       "2        Sports     45.73\n",
       "3  Role-Playing     28.17\n",
       "4        Racing     14.13"
      ]
     },
     "metadata": {},
     "output_type": "display_data"
    },
    {
     "data": {
      "text/html": [
       "<div>\n",
       "<style scoped>\n",
       "    .dataframe tbody tr th:only-of-type {\n",
       "        vertical-align: middle;\n",
       "    }\n",
       "\n",
       "    .dataframe tbody tr th {\n",
       "        vertical-align: top;\n",
       "    }\n",
       "\n",
       "    .dataframe thead th {\n",
       "        text-align: right;\n",
       "    }\n",
       "</style>\n",
       "<table border=\"1\" class=\"dataframe\">\n",
       "  <thead>\n",
       "    <tr style=\"text-align: right;\">\n",
       "      <th></th>\n",
       "      <th>rating</th>\n",
       "      <th>eu_sales</th>\n",
       "    </tr>\n",
       "  </thead>\n",
       "  <tbody>\n",
       "    <tr>\n",
       "      <th>0</th>\n",
       "      <td>M</td>\n",
       "      <td>93.69</td>\n",
       "    </tr>\n",
       "    <tr>\n",
       "      <th>1</th>\n",
       "      <td>E</td>\n",
       "      <td>58.06</td>\n",
       "    </tr>\n",
       "    <tr>\n",
       "      <th>2</th>\n",
       "      <td>T</td>\n",
       "      <td>34.07</td>\n",
       "    </tr>\n",
       "    <tr>\n",
       "      <th>3</th>\n",
       "      <td>E10+</td>\n",
       "      <td>26.16</td>\n",
       "    </tr>\n",
       "  </tbody>\n",
       "</table>\n",
       "</div>"
      ],
      "text/plain": [
       "  rating  eu_sales\n",
       "0      M     93.69\n",
       "1      E     58.06\n",
       "2      T     34.07\n",
       "3   E10+     26.16"
      ]
     },
     "metadata": {},
     "output_type": "display_data"
    },
    {
     "data": {
      "image/png": "[encoded data removed]",
      "text/plain": [
       "<Figure size 1440x288 with 3 Axes>"
      ]
     },
     "metadata": {
      "needs_background": "light"
     },
     "output_type": "display_data"
    }
   ],
   "source": [
    "# за последний год\n",
    "user_image_2016('eu_sales','Топ 5 платформ, жанров и рейтингов за последний год')"
   ]
  },
  {
   "cell_type": "markdown",
   "id": "0b484277",
   "metadata": {},
   "source": [
    "#### ВЫВОД: \n",
    "1. Топ игровых приставок выглядит таким образом : PS4, Xone, PC, 3DS, PS3.\n",
    "2. Топ жанров игр: Shooter, Action, Sports, Role-Playing, Racing.\n",
    "3. Топ рейтингов: \"От 18 и выше\" , \"от 7 и старше\", \"от 16 и старше\" и \"от 12 и выше\""
   ]
  },
  {
   "cell_type": "markdown",
   "id": "9e096801",
   "metadata": {},
   "source": [
    "### Портрет пользователей из Японии"
   ]
  },
  {
   "cell_type": "code",
   "execution_count": 57,
   "id": "1afa4380",
   "metadata": {},
   "outputs": [
    {
     "data": {
      "text/html": [
       "<div>\n",
       "<style scoped>\n",
       "    .dataframe tbody tr th:only-of-type {\n",
       "        vertical-align: middle;\n",
       "    }\n",
       "\n",
       "    .dataframe tbody tr th {\n",
       "        vertical-align: top;\n",
       "    }\n",
       "\n",
       "    .dataframe thead th {\n",
       "        text-align: right;\n",
       "    }\n",
       "</style>\n",
       "<table border=\"1\" class=\"dataframe\">\n",
       "  <thead>\n",
       "    <tr style=\"text-align: right;\">\n",
       "      <th></th>\n",
       "      <th>platform</th>\n",
       "      <th>jp_sales</th>\n",
       "    </tr>\n",
       "  </thead>\n",
       "  <tbody>\n",
       "    <tr>\n",
       "      <th>0</th>\n",
       "      <td>3DS</td>\n",
       "      <td>44.24</td>\n",
       "    </tr>\n",
       "    <tr>\n",
       "      <th>1</th>\n",
       "      <td>PS4</td>\n",
       "      <td>15.02</td>\n",
       "    </tr>\n",
       "    <tr>\n",
       "      <th>2</th>\n",
       "      <td>PSV</td>\n",
       "      <td>14.54</td>\n",
       "    </tr>\n",
       "    <tr>\n",
       "      <th>3</th>\n",
       "      <td>PS3</td>\n",
       "      <td>11.22</td>\n",
       "    </tr>\n",
       "    <tr>\n",
       "      <th>4</th>\n",
       "      <td>WiiU</td>\n",
       "      <td>7.31</td>\n",
       "    </tr>\n",
       "  </tbody>\n",
       "</table>\n",
       "</div>"
      ],
      "text/plain": [
       "  platform  jp_sales\n",
       "0      3DS     44.24\n",
       "1      PS4     15.02\n",
       "2      PSV     14.54\n",
       "3      PS3     11.22\n",
       "4     WiiU      7.31"
      ]
     },
     "metadata": {},
     "output_type": "display_data"
    },
    {
     "data": {
      "text/html": [
       "<div>\n",
       "<style scoped>\n",
       "    .dataframe tbody tr th:only-of-type {\n",
       "        vertical-align: middle;\n",
       "    }\n",
       "\n",
       "    .dataframe tbody tr th {\n",
       "        vertical-align: top;\n",
       "    }\n",
       "\n",
       "    .dataframe thead th {\n",
       "        text-align: right;\n",
       "    }\n",
       "</style>\n",
       "<table border=\"1\" class=\"dataframe\">\n",
       "  <thead>\n",
       "    <tr style=\"text-align: right;\">\n",
       "      <th></th>\n",
       "      <th>genre</th>\n",
       "      <th>jp_sales</th>\n",
       "    </tr>\n",
       "  </thead>\n",
       "  <tbody>\n",
       "    <tr>\n",
       "      <th>0</th>\n",
       "      <td>Role-Playing</td>\n",
       "      <td>31.16</td>\n",
       "    </tr>\n",
       "    <tr>\n",
       "      <th>1</th>\n",
       "      <td>Action</td>\n",
       "      <td>29.58</td>\n",
       "    </tr>\n",
       "    <tr>\n",
       "      <th>2</th>\n",
       "      <td>Fighting</td>\n",
       "      <td>6.37</td>\n",
       "    </tr>\n",
       "    <tr>\n",
       "      <th>3</th>\n",
       "      <td>Misc</td>\n",
       "      <td>5.61</td>\n",
       "    </tr>\n",
       "    <tr>\n",
       "      <th>4</th>\n",
       "      <td>Shooter</td>\n",
       "      <td>4.87</td>\n",
       "    </tr>\n",
       "  </tbody>\n",
       "</table>\n",
       "</div>"
      ],
      "text/plain": [
       "          genre  jp_sales\n",
       "0  Role-Playing     31.16\n",
       "1        Action     29.58\n",
       "2      Fighting      6.37\n",
       "3          Misc      5.61\n",
       "4       Shooter      4.87"
      ]
     },
     "metadata": {},
     "output_type": "display_data"
    },
    {
     "data": {
      "text/html": [
       "<div>\n",
       "<style scoped>\n",
       "    .dataframe tbody tr th:only-of-type {\n",
       "        vertical-align: middle;\n",
       "    }\n",
       "\n",
       "    .dataframe tbody tr th {\n",
       "        vertical-align: top;\n",
       "    }\n",
       "\n",
       "    .dataframe thead th {\n",
       "        text-align: right;\n",
       "    }\n",
       "</style>\n",
       "<table border=\"1\" class=\"dataframe\">\n",
       "  <thead>\n",
       "    <tr style=\"text-align: right;\">\n",
       "      <th></th>\n",
       "      <th>rating</th>\n",
       "      <th>jp_sales</th>\n",
       "    </tr>\n",
       "  </thead>\n",
       "  <tbody>\n",
       "    <tr>\n",
       "      <th>0</th>\n",
       "      <td>T</td>\n",
       "      <td>14.78</td>\n",
       "    </tr>\n",
       "    <tr>\n",
       "      <th>1</th>\n",
       "      <td>E</td>\n",
       "      <td>8.94</td>\n",
       "    </tr>\n",
       "    <tr>\n",
       "      <th>2</th>\n",
       "      <td>M</td>\n",
       "      <td>8.01</td>\n",
       "    </tr>\n",
       "    <tr>\n",
       "      <th>3</th>\n",
       "      <td>E10+</td>\n",
       "      <td>4.46</td>\n",
       "    </tr>\n",
       "  </tbody>\n",
       "</table>\n",
       "</div>"
      ],
      "text/plain": [
       "  rating  jp_sales\n",
       "0      T     14.78\n",
       "1      E      8.94\n",
       "2      M      8.01\n",
       "3   E10+      4.46"
      ]
     },
     "metadata": {},
     "output_type": "display_data"
    },
    {
     "data": {
      "image/png": "[encoded data removed]",
      "text/plain": [
       "<Figure size 1440x288 with 3 Axes>"
      ]
     },
     "metadata": {
      "needs_background": "light"
     },
     "output_type": "display_data"
    }
   ],
   "source": [
    "# за актуальный период\n",
    "user_image_2016('jp_sales','Топ 5 платформ, жанров и рейтингов за весь период')"
   ]
  },
  {
   "cell_type": "markdown",
   "id": "1bc0256f",
   "metadata": {},
   "source": [
    "#### Вывод:\n",
    "1. Топ игровых приставок выглядит таким образом : 3DS, PS4, PSV, PS3, WiiU.\n",
    "2. Топ жанров игр: Action, Role-Playing, Shooter, Misc, Adventure.\n",
    "3. Топ рейтингов: \"От 16 и выше\", \"От 7 и выше\", \"от 18 и выше\" и \"от 12 и выше\"."
   ]
  },
  {
   "cell_type": "markdown",
   "id": "ac627daf",
   "metadata": {},
   "source": [
    "### Влияет ли рейтинг ESRB на продажи в отдельном регионе?"
   ]
  },
  {
   "cell_type": "code",
   "execution_count": 58,
   "id": "d09af757",
   "metadata": {},
   "outputs": [
    {
     "data": {
      "text/html": [
       "<div>\n",
       "<style scoped>\n",
       "    .dataframe tbody tr th:only-of-type {\n",
       "        vertical-align: middle;\n",
       "    }\n",
       "\n",
       "    .dataframe tbody tr th {\n",
       "        vertical-align: top;\n",
       "    }\n",
       "\n",
       "    .dataframe thead th {\n",
       "        text-align: right;\n",
       "    }\n",
       "</style>\n",
       "<table border=\"1\" class=\"dataframe\">\n",
       "  <thead>\n",
       "    <tr style=\"text-align: right;\">\n",
       "      <th></th>\n",
       "      <th>platform</th>\n",
       "      <th>na_sales</th>\n",
       "    </tr>\n",
       "  </thead>\n",
       "  <tbody>\n",
       "    <tr>\n",
       "      <th>0</th>\n",
       "      <td>3DS</td>\n",
       "      <td>3.38</td>\n",
       "    </tr>\n",
       "    <tr>\n",
       "      <th>1</th>\n",
       "      <td>PS4</td>\n",
       "      <td>3.12</td>\n",
       "    </tr>\n",
       "    <tr>\n",
       "      <th>2</th>\n",
       "      <td>XOne</td>\n",
       "      <td>1.40</td>\n",
       "    </tr>\n",
       "    <tr>\n",
       "      <th>3</th>\n",
       "      <td>WiiU</td>\n",
       "      <td>0.35</td>\n",
       "    </tr>\n",
       "    <tr>\n",
       "      <th>4</th>\n",
       "      <td>PS3</td>\n",
       "      <td>0.19</td>\n",
       "    </tr>\n",
       "    <tr>\n",
       "      <th>5</th>\n",
       "      <td>PC</td>\n",
       "      <td>0.08</td>\n",
       "    </tr>\n",
       "    <tr>\n",
       "      <th>6</th>\n",
       "      <td>X360</td>\n",
       "      <td>0.01</td>\n",
       "    </tr>\n",
       "    <tr>\n",
       "      <th>7</th>\n",
       "      <td>PSV</td>\n",
       "      <td>0.00</td>\n",
       "    </tr>\n",
       "  </tbody>\n",
       "</table>\n",
       "</div>"
      ],
      "text/plain": [
       "  platform  na_sales\n",
       "0      3DS      3.38\n",
       "1      PS4      3.12\n",
       "2     XOne      1.40\n",
       "3     WiiU      0.35\n",
       "4      PS3      0.19\n",
       "5       PC      0.08\n",
       "6     X360      0.01\n",
       "7      PSV      0.00"
      ]
     },
     "execution_count": 58,
     "metadata": {},
     "output_type": "execute_result"
    }
   ],
   "source": [
    "# продажи игр без рейтинга по платформам для Северной Америки за последний год\n",
    "no_rate_na = df[pd.isnull(df['rating'])]\n",
    "no_rate_na = no_rate_na[no_rate_na['year_of_release']>2015]\n",
    "no_rate_na.pivot_table(index='platform', values='na_sales', aggfunc='sum').sort_values(by='na_sales', ascending=False).reset_index().rename_axis(None, axis=1).head(60)"
   ]
  },
  {
   "cell_type": "code",
   "execution_count": 59,
   "id": "e93677e2",
   "metadata": {},
   "outputs": [
    {
     "data": {
      "text/html": [
       "<div>\n",
       "<style scoped>\n",
       "    .dataframe tbody tr th:only-of-type {\n",
       "        vertical-align: middle;\n",
       "    }\n",
       "\n",
       "    .dataframe tbody tr th {\n",
       "        vertical-align: top;\n",
       "    }\n",
       "\n",
       "    .dataframe thead th {\n",
       "        text-align: right;\n",
       "    }\n",
       "</style>\n",
       "<table border=\"1\" class=\"dataframe\">\n",
       "  <thead>\n",
       "    <tr style=\"text-align: right;\">\n",
       "      <th></th>\n",
       "      <th>genre</th>\n",
       "      <th>na_sales</th>\n",
       "    </tr>\n",
       "  </thead>\n",
       "  <tbody>\n",
       "    <tr>\n",
       "      <th>0</th>\n",
       "      <td>Role-Playing</td>\n",
       "      <td>4.36</td>\n",
       "    </tr>\n",
       "    <tr>\n",
       "      <th>1</th>\n",
       "      <td>Action</td>\n",
       "      <td>1.62</td>\n",
       "    </tr>\n",
       "    <tr>\n",
       "      <th>2</th>\n",
       "      <td>Shooter</td>\n",
       "      <td>1.11</td>\n",
       "    </tr>\n",
       "    <tr>\n",
       "      <th>3</th>\n",
       "      <td>Platform</td>\n",
       "      <td>0.55</td>\n",
       "    </tr>\n",
       "    <tr>\n",
       "      <th>4</th>\n",
       "      <td>Adventure</td>\n",
       "      <td>0.35</td>\n",
       "    </tr>\n",
       "    <tr>\n",
       "      <th>5</th>\n",
       "      <td>Misc</td>\n",
       "      <td>0.32</td>\n",
       "    </tr>\n",
       "    <tr>\n",
       "      <th>6</th>\n",
       "      <td>Racing</td>\n",
       "      <td>0.11</td>\n",
       "    </tr>\n",
       "    <tr>\n",
       "      <th>7</th>\n",
       "      <td>Sports</td>\n",
       "      <td>0.06</td>\n",
       "    </tr>\n",
       "    <tr>\n",
       "      <th>8</th>\n",
       "      <td>Fighting</td>\n",
       "      <td>0.05</td>\n",
       "    </tr>\n",
       "  </tbody>\n",
       "</table>\n",
       "</div>"
      ],
      "text/plain": [
       "          genre  na_sales\n",
       "0  Role-Playing      4.36\n",
       "1        Action      1.62\n",
       "2       Shooter      1.11\n",
       "3      Platform      0.55\n",
       "4     Adventure      0.35\n",
       "5          Misc      0.32\n",
       "6        Racing      0.11\n",
       "7        Sports      0.06\n",
       "8      Fighting      0.05"
      ]
     },
     "execution_count": 59,
     "metadata": {},
     "output_type": "execute_result"
    }
   ],
   "source": [
    "# продажи игр без рейтинга по жанрам для Северной Америки\n",
    "no_rate_na[no_rate_na['na_sales'] > 0].pivot_table(index='genre', values='na_sales', aggfunc='sum').sort_values(by='na_sales', ascending=False).reset_index().rename_axis(None, axis=1).head(60)"
   ]
  },
  {
   "cell_type": "markdown",
   "id": "3e2e04e1",
   "metadata": {},
   "source": [
    "Выводы по продажам игр без рейтинга в Северной Америке: \n",
    "- Лидирующая по продажам платформа - 3DS. Следом идут PS4, Xbox и Wii.\n",
    "- Лидирующий по продажам жанр - Role-Playing. С заметным отставанием идут Action и Shooter."
   ]
  },
  {
   "cell_type": "code",
   "execution_count": 60,
   "id": "9a25b1bb",
   "metadata": {},
   "outputs": [
    {
     "data": {
      "text/html": [
       "<div>\n",
       "<style scoped>\n",
       "    .dataframe tbody tr th:only-of-type {\n",
       "        vertical-align: middle;\n",
       "    }\n",
       "\n",
       "    .dataframe tbody tr th {\n",
       "        vertical-align: top;\n",
       "    }\n",
       "\n",
       "    .dataframe thead th {\n",
       "        text-align: right;\n",
       "    }\n",
       "</style>\n",
       "<table border=\"1\" class=\"dataframe\">\n",
       "  <thead>\n",
       "    <tr style=\"text-align: right;\">\n",
       "      <th></th>\n",
       "      <th>platform</th>\n",
       "      <th>eu_sales</th>\n",
       "    </tr>\n",
       "  </thead>\n",
       "  <tbody>\n",
       "    <tr>\n",
       "      <th>0</th>\n",
       "      <td>PS4</td>\n",
       "      <td>3.91</td>\n",
       "    </tr>\n",
       "    <tr>\n",
       "      <th>1</th>\n",
       "      <td>3DS</td>\n",
       "      <td>1.84</td>\n",
       "    </tr>\n",
       "    <tr>\n",
       "      <th>2</th>\n",
       "      <td>XOne</td>\n",
       "      <td>0.78</td>\n",
       "    </tr>\n",
       "    <tr>\n",
       "      <th>3</th>\n",
       "      <td>PC</td>\n",
       "      <td>0.48</td>\n",
       "    </tr>\n",
       "    <tr>\n",
       "      <th>4</th>\n",
       "      <td>WiiU</td>\n",
       "      <td>0.31</td>\n",
       "    </tr>\n",
       "    <tr>\n",
       "      <th>5</th>\n",
       "      <td>PS3</td>\n",
       "      <td>0.13</td>\n",
       "    </tr>\n",
       "    <tr>\n",
       "      <th>6</th>\n",
       "      <td>X360</td>\n",
       "      <td>0.02</td>\n",
       "    </tr>\n",
       "    <tr>\n",
       "      <th>7</th>\n",
       "      <td>PSV</td>\n",
       "      <td>0.00</td>\n",
       "    </tr>\n",
       "  </tbody>\n",
       "</table>\n",
       "</div>"
      ],
      "text/plain": [
       "  platform  eu_sales\n",
       "0      PS4      3.91\n",
       "1      3DS      1.84\n",
       "2     XOne      0.78\n",
       "3       PC      0.48\n",
       "4     WiiU      0.31\n",
       "5      PS3      0.13\n",
       "6     X360      0.02\n",
       "7      PSV      0.00"
      ]
     },
     "execution_count": 60,
     "metadata": {},
     "output_type": "execute_result"
    }
   ],
   "source": [
    "# продажи игр без рейтинга по платформам для Европе.\n",
    "no_rate_eu = df[pd.isnull(df['rating'])]\n",
    "no_rate_eu = no_rate_eu[no_rate_eu['year_of_release']>2015]\n",
    "no_rate_eu.pivot_table(index='platform', values='eu_sales', aggfunc='sum').sort_values(by='eu_sales', ascending=False).reset_index().rename_axis(None, axis=1).head(60)"
   ]
  },
  {
   "cell_type": "code",
   "execution_count": 61,
   "id": "f90b4503",
   "metadata": {},
   "outputs": [
    {
     "data": {
      "text/html": [
       "<div>\n",
       "<style scoped>\n",
       "    .dataframe tbody tr th:only-of-type {\n",
       "        vertical-align: middle;\n",
       "    }\n",
       "\n",
       "    .dataframe tbody tr th {\n",
       "        vertical-align: top;\n",
       "    }\n",
       "\n",
       "    .dataframe thead th {\n",
       "        text-align: right;\n",
       "    }\n",
       "</style>\n",
       "<table border=\"1\" class=\"dataframe\">\n",
       "  <thead>\n",
       "    <tr style=\"text-align: right;\">\n",
       "      <th></th>\n",
       "      <th>genre</th>\n",
       "      <th>eu_sales</th>\n",
       "    </tr>\n",
       "  </thead>\n",
       "  <tbody>\n",
       "    <tr>\n",
       "      <th>0</th>\n",
       "      <td>Role-Playing</td>\n",
       "      <td>2.65</td>\n",
       "    </tr>\n",
       "    <tr>\n",
       "      <th>1</th>\n",
       "      <td>Action</td>\n",
       "      <td>1.16</td>\n",
       "    </tr>\n",
       "    <tr>\n",
       "      <th>2</th>\n",
       "      <td>Shooter</td>\n",
       "      <td>1.07</td>\n",
       "    </tr>\n",
       "    <tr>\n",
       "      <th>3</th>\n",
       "      <td>Platform</td>\n",
       "      <td>0.79</td>\n",
       "    </tr>\n",
       "    <tr>\n",
       "      <th>4</th>\n",
       "      <td>Adventure</td>\n",
       "      <td>0.69</td>\n",
       "    </tr>\n",
       "    <tr>\n",
       "      <th>5</th>\n",
       "      <td>Racing</td>\n",
       "      <td>0.51</td>\n",
       "    </tr>\n",
       "    <tr>\n",
       "      <th>6</th>\n",
       "      <td>Sports</td>\n",
       "      <td>0.18</td>\n",
       "    </tr>\n",
       "    <tr>\n",
       "      <th>7</th>\n",
       "      <td>Misc</td>\n",
       "      <td>0.17</td>\n",
       "    </tr>\n",
       "    <tr>\n",
       "      <th>8</th>\n",
       "      <td>Strategy</td>\n",
       "      <td>0.12</td>\n",
       "    </tr>\n",
       "    <tr>\n",
       "      <th>9</th>\n",
       "      <td>Simulation</td>\n",
       "      <td>0.11</td>\n",
       "    </tr>\n",
       "    <tr>\n",
       "      <th>10</th>\n",
       "      <td>Fighting</td>\n",
       "      <td>0.02</td>\n",
       "    </tr>\n",
       "  </tbody>\n",
       "</table>\n",
       "</div>"
      ],
      "text/plain": [
       "           genre  eu_sales\n",
       "0   Role-Playing      2.65\n",
       "1         Action      1.16\n",
       "2        Shooter      1.07\n",
       "3       Platform      0.79\n",
       "4      Adventure      0.69\n",
       "5         Racing      0.51\n",
       "6         Sports      0.18\n",
       "7           Misc      0.17\n",
       "8       Strategy      0.12\n",
       "9     Simulation      0.11\n",
       "10      Fighting      0.02"
      ]
     },
     "execution_count": 61,
     "metadata": {},
     "output_type": "execute_result"
    }
   ],
   "source": [
    "# продажи игр без рейтинга по жанрам для Европы.\n",
    "no_rate_eu[no_rate_eu['eu_sales'] > 0].pivot_table(index='genre', values='eu_sales', aggfunc='sum').sort_values(by='eu_sales', ascending=False).reset_index().rename_axis(None, axis=1).head(60)"
   ]
  },
  {
   "cell_type": "markdown",
   "id": "6575a4fb",
   "metadata": {},
   "source": [
    "Выводы по продажам игр без рейтинга в Европе:\n",
    "\n",
    "- Лидирующая по продажам платформа - PS4. Следом идут 3DS и Xbox One.\n",
    "- Лидирующий по продажам жанр - Role-Playing. С заметным отставанием идут Action и Shooter."
   ]
  },
  {
   "cell_type": "code",
   "execution_count": 62,
   "id": "118965e3",
   "metadata": {},
   "outputs": [
    {
     "data": {
      "text/html": [
       "<div>\n",
       "<style scoped>\n",
       "    .dataframe tbody tr th:only-of-type {\n",
       "        vertical-align: middle;\n",
       "    }\n",
       "\n",
       "    .dataframe tbody tr th {\n",
       "        vertical-align: top;\n",
       "    }\n",
       "\n",
       "    .dataframe thead th {\n",
       "        text-align: right;\n",
       "    }\n",
       "</style>\n",
       "<table border=\"1\" class=\"dataframe\">\n",
       "  <thead>\n",
       "    <tr style=\"text-align: right;\">\n",
       "      <th></th>\n",
       "      <th>platform</th>\n",
       "      <th>jp_sales</th>\n",
       "    </tr>\n",
       "  </thead>\n",
       "  <tbody>\n",
       "    <tr>\n",
       "      <th>0</th>\n",
       "      <td>3DS</td>\n",
       "      <td>7.05</td>\n",
       "    </tr>\n",
       "    <tr>\n",
       "      <th>1</th>\n",
       "      <td>PSV</td>\n",
       "      <td>2.94</td>\n",
       "    </tr>\n",
       "    <tr>\n",
       "      <th>2</th>\n",
       "      <td>PS4</td>\n",
       "      <td>2.88</td>\n",
       "    </tr>\n",
       "    <tr>\n",
       "      <th>3</th>\n",
       "      <td>PS3</td>\n",
       "      <td>1.16</td>\n",
       "    </tr>\n",
       "    <tr>\n",
       "      <th>4</th>\n",
       "      <td>WiiU</td>\n",
       "      <td>0.29</td>\n",
       "    </tr>\n",
       "    <tr>\n",
       "      <th>5</th>\n",
       "      <td>PC</td>\n",
       "      <td>0.00</td>\n",
       "    </tr>\n",
       "    <tr>\n",
       "      <th>6</th>\n",
       "      <td>X360</td>\n",
       "      <td>0.00</td>\n",
       "    </tr>\n",
       "    <tr>\n",
       "      <th>7</th>\n",
       "      <td>XOne</td>\n",
       "      <td>0.00</td>\n",
       "    </tr>\n",
       "  </tbody>\n",
       "</table>\n",
       "</div>"
      ],
      "text/plain": [
       "  platform  jp_sales\n",
       "0      3DS      7.05\n",
       "1      PSV      2.94\n",
       "2      PS4      2.88\n",
       "3      PS3      1.16\n",
       "4     WiiU      0.29\n",
       "5       PC      0.00\n",
       "6     X360      0.00\n",
       "7     XOne      0.00"
      ]
     },
     "execution_count": 62,
     "metadata": {},
     "output_type": "execute_result"
    }
   ],
   "source": [
    "# Продажи игр без рейтинга по платформам для Японии.\n",
    "no_rate_jp = df[pd.isnull(df['rating'])]\n",
    "no_rate_jp = no_rate_jp[no_rate_jp['year_of_release']>2015]\n",
    "no_rate_jp.pivot_table(index='platform', values='jp_sales', aggfunc='sum').sort_values(by='jp_sales', ascending=False).reset_index().rename_axis(None, axis=1).head(60)"
   ]
  },
  {
   "cell_type": "code",
   "execution_count": 63,
   "id": "19e2e052",
   "metadata": {},
   "outputs": [
    {
     "data": {
      "text/html": [
       "<div>\n",
       "<style scoped>\n",
       "    .dataframe tbody tr th:only-of-type {\n",
       "        vertical-align: middle;\n",
       "    }\n",
       "\n",
       "    .dataframe tbody tr th {\n",
       "        vertical-align: top;\n",
       "    }\n",
       "\n",
       "    .dataframe thead th {\n",
       "        text-align: right;\n",
       "    }\n",
       "</style>\n",
       "<table border=\"1\" class=\"dataframe\">\n",
       "  <thead>\n",
       "    <tr style=\"text-align: right;\">\n",
       "      <th></th>\n",
       "      <th>genre</th>\n",
       "      <th>jp_sales</th>\n",
       "    </tr>\n",
       "  </thead>\n",
       "  <tbody>\n",
       "    <tr>\n",
       "      <th>0</th>\n",
       "      <td>Action</td>\n",
       "      <td>5.82</td>\n",
       "    </tr>\n",
       "    <tr>\n",
       "      <th>1</th>\n",
       "      <td>Role-Playing</td>\n",
       "      <td>5.22</td>\n",
       "    </tr>\n",
       "    <tr>\n",
       "      <th>2</th>\n",
       "      <td>Adventure</td>\n",
       "      <td>1.09</td>\n",
       "    </tr>\n",
       "    <tr>\n",
       "      <th>3</th>\n",
       "      <td>Misc</td>\n",
       "      <td>0.82</td>\n",
       "    </tr>\n",
       "    <tr>\n",
       "      <th>4</th>\n",
       "      <td>Sports</td>\n",
       "      <td>0.58</td>\n",
       "    </tr>\n",
       "    <tr>\n",
       "      <th>5</th>\n",
       "      <td>Simulation</td>\n",
       "      <td>0.33</td>\n",
       "    </tr>\n",
       "    <tr>\n",
       "      <th>6</th>\n",
       "      <td>Strategy</td>\n",
       "      <td>0.23</td>\n",
       "    </tr>\n",
       "    <tr>\n",
       "      <th>7</th>\n",
       "      <td>Fighting</td>\n",
       "      <td>0.16</td>\n",
       "    </tr>\n",
       "    <tr>\n",
       "      <th>8</th>\n",
       "      <td>Platform</td>\n",
       "      <td>0.04</td>\n",
       "    </tr>\n",
       "    <tr>\n",
       "      <th>9</th>\n",
       "      <td>Shooter</td>\n",
       "      <td>0.02</td>\n",
       "    </tr>\n",
       "    <tr>\n",
       "      <th>10</th>\n",
       "      <td>Racing</td>\n",
       "      <td>0.01</td>\n",
       "    </tr>\n",
       "  </tbody>\n",
       "</table>\n",
       "</div>"
      ],
      "text/plain": [
       "           genre  jp_sales\n",
       "0         Action      5.82\n",
       "1   Role-Playing      5.22\n",
       "2      Adventure      1.09\n",
       "3           Misc      0.82\n",
       "4         Sports      0.58\n",
       "5     Simulation      0.33\n",
       "6       Strategy      0.23\n",
       "7       Fighting      0.16\n",
       "8       Platform      0.04\n",
       "9        Shooter      0.02\n",
       "10        Racing      0.01"
      ]
     },
     "execution_count": 63,
     "metadata": {},
     "output_type": "execute_result"
    }
   ],
   "source": [
    "# Продажи игр без рейтинга по жанрам для Японии.\n",
    "no_rate_jp[no_rate_jp['jp_sales'] > 0].pivot_table(index='genre', values='jp_sales', aggfunc='sum').sort_values(by='jp_sales', ascending=False).reset_index().rename_axis(None, axis=1).head(60)"
   ]
  },
  {
   "cell_type": "markdown",
   "id": "6504d97f",
   "metadata": {},
   "source": [
    "Выводы по продажам игр без рейтинга в Японии:\n",
    " \n",
    "- Лидирующая по продажам платформа с большим перевесом - 3DS. На втором и третьем местах идут PSV и PS4.\n",
    "- Лидирующий по продажам жанр - Action. Немного уступает - Role-Playing. И замыкает тройку - Adventure."
   ]
  },
  {
   "cell_type": "markdown",
   "id": "1fe44ba4",
   "metadata": {},
   "source": [
    "### Вывод по составлению портрета пользователя каждого региона\n",
    "1. Самые популярные игровые платформы в Северной Америке это: PS4, XOne, 3DS, WiiU, X360.\n",
    "Топ жанров игр: Shooter, Action, Sports, Role-Playing, Misc.\n",
    "Топ рейтингов игр : \"От 18 и выше\" , \"от 7 и выше\", \"от 16 и старше\" и \"от 12 и старше\".\n",
    "\n",
    "2. Самые популярные игровые платформы в Европе это: PS4, Xone, PC, 3DS, PS3.\n",
    "Топ жанров игр: Shooter, Action, Sports, Role-Playing, Racing.\n",
    "Топ рейтингов: \"От 18 и выше\" , \"от 7 и старше\", \"от 16 и старше\" и \"от 12 и выше\"\n",
    "\n",
    "3. Самые популярные игровые платформы в Японии это: 3DS, PS4, PSV, PS3, WiiU.\n",
    "Топ жанров игр: Action, Role-Playing, Shooter, Misc, Adventure.\n",
    "Топ рейтингов: \"От 16 и выше\", \"От 7 и выше\", \"от 18 и выше\" и \"от 12 и выше\".\n",
    "\n",
    "4. Рейтинги все таки влияют на продажи во всех регионах, но менее ощутимо это влияние в Японии.\n",
    "\n",
    "5. Для прогноза будущих продаж лучше брать данные за последний год, так как технологии стремительно развиваются, а вкусы людей могут меняться очень быстро. Соответственно, для 2017 года большую часть прибыли будут приносить игры жанра Shooter, для платформы PS4 и с рейтингом от 17 и выше. На втором месте по продажам разместятся игры жанра Sports, для платформы PS4 и с рейтингом \"для всех\". И замкнут тройку лидеров тоже игры жанра Shooter с тем же рейтингом от 17 и выше, но уже для платформы XOne."
   ]
  },
  {
   "cell_type": "markdown",
   "id": "0270e1eb",
   "metadata": {},
   "source": [
    "## Проверка гипотез"
   ]
  },
  {
   "cell_type": "markdown",
   "id": "4cc33e12",
   "metadata": {},
   "source": [
    "### Средние пользовательские рейтинги платформ Xbox One и PC одинаковые\n",
    "Сформулируем гипотезы\n",
    "- Нулевая гипотеза H₀: Средние пользовательские рейтинги платформ Xbox One и PC одинаковые;\n",
    "- Альтернативная гипотеза H₁: Средние пользовательские рейтинги платформ Xbox One и PC различаются"
   ]
  },
  {
   "cell_type": "code",
   "execution_count": 64,
   "id": "0ff8f22a",
   "metadata": {},
   "outputs": [
    {
     "data": {
      "text/plain": [
       "6.594545454545454"
      ]
     },
     "execution_count": 64,
     "metadata": {},
     "output_type": "execute_result"
    }
   ],
   "source": [
    "# сохраним в переменных xbox_hyp и pc_hyp соответствующие данные (актуальные данные за последние 3 года)\n",
    "xone_hyp = df[(df['platform']=='XOne') & (df['year_of_release']>=2014)]['user_score']\n",
    "pc_hyp = df[(df['platform']=='PC') & (df['year_of_release']>=2014)]['user_score']\n",
    "\n",
    "#Посчитаем средний рейтинг пользователя для xbox платформ\n",
    "xone_hyp.mean()"
   ]
  },
  {
   "cell_type": "code",
   "execution_count": 65,
   "id": "409e3597",
   "metadata": {},
   "outputs": [
    {
     "data": {
      "text/plain": [
       "6.316260162601626"
      ]
     },
     "execution_count": 65,
     "metadata": {},
     "output_type": "execute_result"
    }
   ],
   "source": [
    "#Посчитаем средний рейтинг пользователя для PC платформ\n",
    "pc_hyp.mean()"
   ]
  },
  {
   "cell_type": "code",
   "execution_count": 66,
   "id": "6953b078",
   "metadata": {},
   "outputs": [
    {
     "data": {
      "text/plain": [
       "1.8965188383045526"
      ]
     },
     "execution_count": 66,
     "metadata": {},
     "output_type": "execute_result"
    }
   ],
   "source": [
    "# Произведем проверку дисперсии выборок\n",
    "np.var(df[df['platform']=='XOne']['user_score'])"
   ]
  },
  {
   "cell_type": "code",
   "execution_count": 67,
   "id": "2cc6d466",
   "metadata": {},
   "outputs": [
    {
     "data": {
      "text/plain": [
       "2.3318329936123363"
      ]
     },
     "execution_count": 67,
     "metadata": {},
     "output_type": "execute_result"
    }
   ],
   "source": [
    "np.var(df[df['platform']=='PC']['user_score'])"
   ]
  },
  {
   "cell_type": "code",
   "execution_count": 68,
   "id": "90c8d0a2",
   "metadata": {},
   "outputs": [
    {
     "name": "stdout",
     "output_type": "stream",
     "text": [
      "p-значение: 0.139237120435483\n",
      "Не получилось отвергнуть нулевую гипотезу\n"
     ]
    }
   ],
   "source": [
    "#Выполним проверку гипотезы. Будем использовать метод ttest_ind\n",
    "\n",
    "alpha = .05\n",
    "\n",
    "results = st.ttest_ind(xone_hyp.dropna(), pc_hyp.dropna(), equal_var=False)\n",
    "\n",
    "print('p-значение:', results.pvalue)\n",
    "\n",
    "\n",
    "if (results.pvalue < alpha):\n",
    "    print(\"Отвергаем нулевую гипотезу\")\n",
    "else:\n",
    "    print(\"Не получилось отвергнуть нулевую гипотезу\")"
   ]
  },
  {
   "cell_type": "markdown",
   "id": "e19c54cd",
   "metadata": {},
   "source": [
    "#### ВЫВОД: Средние пользовательские рейтинги платформ Xbox One и PC одинаковые."
   ]
  },
  {
   "cell_type": "markdown",
   "id": "c2b53417",
   "metadata": {},
   "source": [
    "### Средние пользовательские рейтинги жанров Action (англ. «действие», экшен-игры) и Sports (англ. «спортивные соревнования») разные"
   ]
  },
  {
   "cell_type": "markdown",
   "id": "2c4d4ce8",
   "metadata": {},
   "source": [
    "Сформулируем нулевые гипотезы:\n",
    "\n",
    "- Нулевая гипотеза H₀: Средние пользовательские рейтинги жанров Action и Sports одинаковые.\n",
    "- Альтернативная гипотеза H₁: Средние пользовательские рейтинги жанров Action и Sports различаются."
   ]
  },
  {
   "cell_type": "code",
   "execution_count": 69,
   "id": "01365225",
   "metadata": {},
   "outputs": [
    {
     "data": {
      "text/plain": [
       "6.766442953020134"
      ]
     },
     "execution_count": 69,
     "metadata": {},
     "output_type": "execute_result"
    }
   ],
   "source": [
    "# Сохраним в переменных genre_action_hyp и genre_sports_hyp соответствующие данные с пользовательскими оценками\n",
    "genre_action_hyp = df[(df['genre']=='Action') & (df['year_of_release']>=2014)]['user_score']\n",
    "genre_sports_hyp = df[(df['genre']=='Sports') & (df['year_of_release']>=2014)]['user_score']\n",
    "\n",
    "#выведем среднюю оценку по жанру экшн\n",
    "genre_action_hyp.mean()"
   ]
  },
  {
   "cell_type": "code",
   "execution_count": 70,
   "id": "31424fc2",
   "metadata": {},
   "outputs": [
    {
     "data": {
      "text/plain": [
       "5.225196850393701"
      ]
     },
     "execution_count": 70,
     "metadata": {},
     "output_type": "execute_result"
    }
   ],
   "source": [
    "#выведем среднюю оценку по жанру спорт\n",
    "genre_sports_hyp.mean()"
   ]
  },
  {
   "cell_type": "code",
   "execution_count": 71,
   "id": "d1c3d925",
   "metadata": {},
   "outputs": [
    {
     "data": {
      "text/plain": [
       "2.023633788189832"
      ]
     },
     "execution_count": 71,
     "metadata": {},
     "output_type": "execute_result"
    }
   ],
   "source": [
    "# Произведем проверку дисперсии выборок\n",
    "np.var(df[df['genre']=='Action']['user_score'])"
   ]
  },
  {
   "cell_type": "code",
   "execution_count": 72,
   "id": "293e5bf3",
   "metadata": {},
   "outputs": [
    {
     "data": {
      "text/plain": [
       "2.599304841496117"
      ]
     },
     "execution_count": 72,
     "metadata": {},
     "output_type": "execute_result"
    }
   ],
   "source": [
    "np.var(df[df['genre']=='Sports']['user_score'])"
   ]
  },
  {
   "cell_type": "code",
   "execution_count": 73,
   "id": "9b4e75d9",
   "metadata": {},
   "outputs": [
    {
     "name": "stdout",
     "output_type": "stream",
     "text": [
      "p-значение: 9.658176026869598e-15\n",
      "Отвергаем нулевую гипотезу\n"
     ]
    }
   ],
   "source": [
    "#Выполним проверку гипотезы. Будем использовать метод ttest_ind\n",
    "\n",
    "alpha = .05\n",
    "\n",
    "results = st.ttest_ind(genre_action_hyp.dropna(), genre_sports_hyp.dropna(), equal_var=False)\n",
    "\n",
    "print('p-значение:', results.pvalue)\n",
    "\n",
    "\n",
    "if (results.pvalue < alpha):\n",
    "    print(\"Отвергаем нулевую гипотезу\")\n",
    "else:\n",
    "    print(\"Не получилось отвергнуть нулевую гипотезу\")"
   ]
  },
  {
   "cell_type": "markdown",
   "id": "ca2ff97e",
   "metadata": {},
   "source": [
    "#### Вывод: Практически нет вероятности получить одинакове средние рейнтинги по двум жанрам."
   ]
  },
  {
   "cell_type": "markdown",
   "id": "a8cf68e5",
   "metadata": {},
   "source": [
    "## Общий вывод"
   ]
  },
  {
   "cell_type": "markdown",
   "id": "aa21a71d",
   "metadata": {},
   "source": [
    "1. Перед анализом данных мы подготовили наши данные, привели к правильным данным столбцы, привели к нижнему регистру таблицы и сами названия колонок. Привели к правильным типам данных необходимые столбцы. Определили, что аббревиатура TBD значит to be determined, to be done. То есть, данные были специально не заполнены. Поэтому заменили tbd на nan для проведения дальнейшего анализа. \n",
    "2. Проведя анализ, мы выявили, что количество игр на игровые приставки и компьютеры начало расти с большой скоростью с 90х до 2008 года. С 2008 года после того как массово начали создавать мобильные приложения и мобильные игры, произошел резкий спад разработок консольных игр. \n",
    "3. За весь период консольных приставок самые популярные оказались: PS2, X360, PS3, WII, DS, PS. Также мы выявили, что средняя продолжительность жизни игровой приставки составляет порядка 10 лет. Самый пик продаж наступает примерно через 4 года после выпуска консоли. \n",
    "4. У платформ лидеров наблюдается взаимосвязь между продажами и оценками критиков. Пользовательские же оценки не играют значимой роли. Это значит, что для людей мнение критиков важнее мнения других пользователей. Самый популярный жанр за последние 10 лет: 'Action'. \n",
    "\n",
    "5. Самые популярные игровые платформы в Северной Америке это: XBOX, PS2, WII, PS3, DS. \n",
    "   - Топ 5 жанров в северной америке : action, sports, shooter, platform, misc. \n",
    "   - По рейтингам видно, что больше всего продаж у игр с рейтингом \"для всех\", на втором месте игры с рейтингом \"от 13 и выше\" и на третьем месте игры с рейтингом \"от 17 и выше\".\n",
    "\n",
    "6. Самые популярные игровые платформы в Европе это: PS2, PS3, XBOX, WII, PS. \n",
    "   - Топ 5 жанров в Европе : action, sports, shooter, racing, misc. \n",
    "   - По рейтингам видно, что больше всего продаж у игр с рейтингом \"для всех\", на втором месте игры с рейтингом \"от 17 и выше\" и на третьем месте игры с рейтингом \"от 13 и выше\".\n",
    "\n",
    "7. Самые популярные игровые платформы в Японии это: DS, PS, PS2, SNES, 3DS. \n",
    "   - Топ 5 жанров в Японии : Role-Playing, action, sports, platform, misc. \n",
    "   - По рейтингам видно, что больше всего продаж у игр с рейтингом \"для всех\", на втором месте игры с рейтингом \"от 13 и выше\" и на третьем месте игры с рейтингом \"от 17 и выше\".\n",
    "\n",
    "8. Если брать данные за последний год (2016):\\ То в Северной Америке:\n",
    "\n",
    "- Топ игровых платформ выглядит так: PS4, Xone, DS3;\n",
    "- Топ Жанров игр: Shooter, Action, Sports;\n",
    "- Топ Рейтингов игр: \"От 17 и выше\" , \"от 13 и выше\" и \"для всех\".\n",
    "\n",
    "В Европейском Союзе:\n",
    "\n",
    "- Топ игровых платформ : PS4, Xone, PC;\n",
    "- Топ жанров: Shooter, Sports, Action;\n",
    "- Топ рейтингов: \"От 17 и выше\", \"для всех\", \"от 13 и выше\".\n",
    "\n",
    "В Японии:\n",
    "\n",
    "- Топ игровых платформ : 3DS, PS4, PSV;\n",
    "- Топ жанров: Action, Role-playing, Adventure;\n",
    "- Топ рейтингов: \"От 13 и выше\", \"от 17 и выше\", \"для всех\".\n",
    "9. Для прогноза будущих продаж лучше брать данные за последний год, так как технологии стремительно развиваются, а вкусы людей могут меняться очень быстро. Соответственно, для 2017 года большую часть прибыли будут приносить игры жанра Shooter, для платформы PS4 и с рейтингом от 17 и выше. На втором месте по продажам разместятся игры жанра Sports, для платформы PS4 и с рейтингом \"для всех\". И замкнут тройку лидеров тоже игры жанра Shooter с тем же рейтингом от 17 и выше, но уже для платформы XOne."
   ]
  }
 ],
 "metadata": {
  "ExecuteTimeLog": [
   {
    "duration": 1557,
    "start_time": "2023-04-03T03:14:16.889Z"
   },
   {
    "duration": 296,
    "start_time": "2023-04-03T03:14:18.449Z"
   },
   {
    "duration": 18,
    "start_time": "2023-04-03T03:14:18.747Z"
   },
   {
    "duration": 23,
    "start_time": "2023-04-03T03:14:18.767Z"
   },
   {
    "duration": 12,
    "start_time": "2023-04-03T03:14:18.802Z"
   },
   {
    "duration": 32,
    "start_time": "2023-04-03T03:14:18.817Z"
   },
   {
    "duration": 62,
    "start_time": "2023-04-03T03:14:18.851Z"
   },
   {
    "duration": 31,
    "start_time": "2023-04-03T03:14:18.916Z"
   },
   {
    "duration": 5,
    "start_time": "2023-04-03T03:14:18.950Z"
   },
   {
    "duration": 52,
    "start_time": "2023-04-03T03:14:18.957Z"
   },
   {
    "duration": 522,
    "start_time": "2023-04-03T03:14:19.011Z"
   },
   {
    "duration": 24,
    "start_time": "2023-04-03T03:14:19.535Z"
   },
   {
    "duration": 6,
    "start_time": "2023-04-03T03:14:19.562Z"
   },
   {
    "duration": 30,
    "start_time": "2023-04-03T03:14:19.573Z"
   },
   {
    "duration": 27,
    "start_time": "2023-04-03T03:14:19.605Z"
   },
   {
    "duration": 16,
    "start_time": "2023-04-03T03:14:19.634Z"
   },
   {
    "duration": 82,
    "start_time": "2023-04-03T03:14:19.652Z"
   },
   {
    "duration": 14,
    "start_time": "2023-04-03T03:14:19.737Z"
   },
   {
    "duration": 21,
    "start_time": "2023-04-03T03:14:19.753Z"
   },
   {
    "duration": 36,
    "start_time": "2023-04-03T03:14:19.776Z"
   },
   {
    "duration": 40,
    "start_time": "2023-04-03T03:14:19.814Z"
   },
   {
    "duration": 14,
    "start_time": "2023-04-03T03:14:19.856Z"
   },
   {
    "duration": 6,
    "start_time": "2023-04-03T03:14:19.903Z"
   },
   {
    "duration": 5,
    "start_time": "2023-04-03T03:14:19.911Z"
   },
   {
    "duration": 19,
    "start_time": "2023-04-03T03:14:19.918Z"
   },
   {
    "duration": 21,
    "start_time": "2023-04-03T03:14:19.938Z"
   },
   {
    "duration": 6,
    "start_time": "2023-04-03T03:14:19.961Z"
   },
   {
    "duration": 52,
    "start_time": "2023-04-03T03:14:19.968Z"
   },
   {
    "duration": 20,
    "start_time": "2023-04-03T03:14:20.022Z"
   },
   {
    "duration": 278,
    "start_time": "2023-04-03T03:14:20.044Z"
   },
   {
    "duration": 6,
    "start_time": "2023-04-03T03:14:20.324Z"
   },
   {
    "duration": 17,
    "start_time": "2023-04-03T03:14:20.332Z"
   },
   {
    "duration": 354,
    "start_time": "2023-04-03T03:14:20.351Z"
   },
   {
    "duration": 12,
    "start_time": "2023-04-03T03:14:20.707Z"
   },
   {
    "duration": 19,
    "start_time": "2023-04-03T03:14:20.721Z"
   },
   {
    "duration": 4283,
    "start_time": "2023-04-03T03:14:20.742Z"
   },
   {
    "duration": 5,
    "start_time": "2023-04-03T03:14:25.026Z"
   },
   {
    "duration": 17,
    "start_time": "2023-04-03T03:14:25.033Z"
   },
   {
    "duration": 16,
    "start_time": "2023-04-03T03:14:25.052Z"
   },
   {
    "duration": 35,
    "start_time": "2023-04-03T03:14:25.070Z"
   },
   {
    "duration": 4,
    "start_time": "2023-04-03T03:14:25.109Z"
   },
   {
    "duration": 18,
    "start_time": "2023-04-03T03:14:25.115Z"
   },
   {
    "duration": 9,
    "start_time": "2023-04-03T03:14:25.135Z"
   },
   {
    "duration": 4,
    "start_time": "2023-04-03T03:14:25.145Z"
   },
   {
    "duration": 307,
    "start_time": "2023-04-03T03:14:25.151Z"
   },
   {
    "duration": 149,
    "start_time": "2023-04-03T03:14:25.460Z"
   },
   {
    "duration": 2334,
    "start_time": "2023-04-03T03:14:25.611Z"
   },
   {
    "duration": 16,
    "start_time": "2023-04-03T03:14:27.947Z"
   },
   {
    "duration": 279,
    "start_time": "2023-04-03T03:14:27.964Z"
   },
   {
    "duration": 6,
    "start_time": "2023-04-03T03:14:28.245Z"
   },
   {
    "duration": 5,
    "start_time": "2023-04-03T03:14:28.254Z"
   },
   {
    "duration": 473,
    "start_time": "2023-04-03T03:14:28.261Z"
   },
   {
    "duration": 570,
    "start_time": "2023-04-03T03:14:28.737Z"
   },
   {
    "duration": 465,
    "start_time": "2023-04-03T03:14:29.309Z"
   },
   {
    "duration": 487,
    "start_time": "2023-04-03T03:14:29.776Z"
   },
   {
    "duration": 512,
    "start_time": "2023-04-03T03:14:30.265Z"
   },
   {
    "duration": 449,
    "start_time": "2023-04-03T03:14:30.779Z"
   },
   {
    "duration": 20,
    "start_time": "2023-04-03T03:14:31.230Z"
   },
   {
    "duration": 33,
    "start_time": "2023-04-03T03:14:31.251Z"
   },
   {
    "duration": 32,
    "start_time": "2023-04-03T03:14:31.286Z"
   },
   {
    "duration": 20,
    "start_time": "2023-04-03T03:14:31.320Z"
   },
   {
    "duration": 38,
    "start_time": "2023-04-03T03:14:31.342Z"
   },
   {
    "duration": 24,
    "start_time": "2023-04-03T03:14:31.382Z"
   },
   {
    "duration": 27,
    "start_time": "2023-04-03T03:14:31.408Z"
   },
   {
    "duration": 10,
    "start_time": "2023-04-03T03:14:31.437Z"
   },
   {
    "duration": 23,
    "start_time": "2023-04-03T03:14:31.449Z"
   },
   {
    "duration": 46,
    "start_time": "2023-04-03T03:14:31.474Z"
   },
   {
    "duration": 22,
    "start_time": "2023-04-03T03:14:31.522Z"
   },
   {
    "duration": 24,
    "start_time": "2023-04-03T03:14:31.546Z"
   },
   {
    "duration": 21,
    "start_time": "2023-04-03T03:14:31.572Z"
   },
   {
    "duration": 33,
    "start_time": "2023-04-03T03:14:31.594Z"
   },
   {
    "duration": 39,
    "start_time": "2023-04-03T03:14:31.630Z"
   },
   {
    "duration": 44,
    "start_time": "2023-04-03T03:14:31.670Z"
   },
   {
    "duration": 1556,
    "start_time": "2023-04-03T08:34:00.418Z"
   },
   {
    "duration": 176,
    "start_time": "2023-04-03T08:34:11.990Z"
   },
   {
    "duration": 18,
    "start_time": "2023-04-03T08:34:14.917Z"
   },
   {
    "duration": 17,
    "start_time": "2023-04-03T08:34:16.749Z"
   },
   {
    "duration": 8,
    "start_time": "2023-04-03T08:34:17.753Z"
   },
   {
    "duration": 17,
    "start_time": "2023-04-03T08:34:19.510Z"
   },
   {
    "duration": 46,
    "start_time": "2023-04-03T08:34:20.076Z"
   },
   {
    "duration": 23,
    "start_time": "2023-04-03T08:34:21.207Z"
   },
   {
    "duration": 12,
    "start_time": "2023-04-03T08:34:21.896Z"
   },
   {
    "duration": 26,
    "start_time": "2023-04-03T08:34:22.894Z"
   },
   {
    "duration": 516,
    "start_time": "2023-04-03T08:34:23.736Z"
   },
   {
    "duration": 16,
    "start_time": "2023-04-03T08:34:24.523Z"
   },
   {
    "duration": 7,
    "start_time": "2023-04-03T08:34:25.409Z"
   },
   {
    "duration": 5,
    "start_time": "2023-04-03T08:34:27.420Z"
   },
   {
    "duration": 16,
    "start_time": "2023-04-03T08:34:28.063Z"
   },
   {
    "duration": 16,
    "start_time": "2023-04-03T08:34:41.309Z"
   },
   {
    "duration": 70,
    "start_time": "2023-04-03T08:34:42.027Z"
   },
   {
    "duration": 17,
    "start_time": "2023-04-03T08:34:45.780Z"
   },
   {
    "duration": 24,
    "start_time": "2023-04-03T08:34:53.723Z"
   },
   {
    "duration": 15,
    "start_time": "2023-04-03T08:35:02.344Z"
   },
   {
    "duration": 52,
    "start_time": "2023-04-03T08:35:03.061Z"
   },
   {
    "duration": 21,
    "start_time": "2023-04-03T08:35:03.912Z"
   },
   {
    "duration": 10,
    "start_time": "2023-04-03T08:35:05.403Z"
   },
   {
    "duration": 7,
    "start_time": "2023-04-03T08:35:21.907Z"
   },
   {
    "duration": 15,
    "start_time": "2023-04-03T08:35:23.347Z"
   },
   {
    "duration": 22,
    "start_time": "2023-04-03T08:35:25.132Z"
   },
   {
    "duration": 5,
    "start_time": "2023-04-03T08:35:26.220Z"
   },
   {
    "duration": 16,
    "start_time": "2023-04-03T08:35:29.017Z"
   },
   {
    "duration": 23,
    "start_time": "2023-04-03T08:37:37.642Z"
   },
   {
    "duration": 724,
    "start_time": "2023-04-03T09:06:01.574Z"
   },
   {
    "duration": 33,
    "start_time": "2023-04-03T09:06:11.394Z"
   },
   {
    "duration": 25,
    "start_time": "2023-04-03T09:06:36.283Z"
   },
   {
    "duration": 14,
    "start_time": "2023-04-03T09:09:08.630Z"
   },
   {
    "duration": 32,
    "start_time": "2023-04-03T09:09:39.871Z"
   },
   {
    "duration": 24,
    "start_time": "2023-04-03T09:10:13.585Z"
   },
   {
    "duration": 20,
    "start_time": "2023-04-03T09:10:20.818Z"
   },
   {
    "duration": 21,
    "start_time": "2023-04-03T09:10:33.569Z"
   },
   {
    "duration": 25,
    "start_time": "2023-04-03T09:20:23.217Z"
   },
   {
    "duration": 32,
    "start_time": "2023-04-03T09:20:35.082Z"
   },
   {
    "duration": 32,
    "start_time": "2023-04-03T09:20:36.516Z"
   },
   {
    "duration": 23,
    "start_time": "2023-04-03T09:21:08.430Z"
   },
   {
    "duration": 5,
    "start_time": "2023-04-03T09:21:25.529Z"
   },
   {
    "duration": 23,
    "start_time": "2023-04-03T09:21:28.040Z"
   },
   {
    "duration": 14,
    "start_time": "2023-04-03T09:21:52.366Z"
   },
   {
    "duration": 8,
    "start_time": "2023-04-03T09:24:37.638Z"
   },
   {
    "duration": 146,
    "start_time": "2023-04-03T09:24:38.395Z"
   },
   {
    "duration": 13,
    "start_time": "2023-04-03T09:24:38.773Z"
   },
   {
    "duration": 14,
    "start_time": "2023-04-03T09:24:39.022Z"
   },
   {
    "duration": 8,
    "start_time": "2023-04-03T09:24:39.112Z"
   },
   {
    "duration": 17,
    "start_time": "2023-04-03T09:24:39.376Z"
   },
   {
    "duration": 45,
    "start_time": "2023-04-03T09:24:39.670Z"
   },
   {
    "duration": 29,
    "start_time": "2023-04-03T09:24:39.975Z"
   },
   {
    "duration": 6,
    "start_time": "2023-04-03T09:24:40.829Z"
   },
   {
    "duration": 18,
    "start_time": "2023-04-03T09:24:40.918Z"
   },
   {
    "duration": 481,
    "start_time": "2023-04-03T09:24:41.098Z"
   },
   {
    "duration": 18,
    "start_time": "2023-04-03T09:24:42.605Z"
   },
   {
    "duration": 6,
    "start_time": "2023-04-03T09:24:43.311Z"
   },
   {
    "duration": 6,
    "start_time": "2023-04-03T09:24:44.233Z"
   },
   {
    "duration": 24,
    "start_time": "2023-04-03T09:24:45.080Z"
   },
   {
    "duration": 16,
    "start_time": "2023-04-03T09:24:48.124Z"
   },
   {
    "duration": 17,
    "start_time": "2023-04-03T09:24:48.692Z"
   },
   {
    "duration": 10,
    "start_time": "2023-04-03T09:24:49.439Z"
   },
   {
    "duration": 19,
    "start_time": "2023-04-03T09:24:49.614Z"
   },
   {
    "duration": 14,
    "start_time": "2023-04-03T09:24:49.872Z"
   },
   {
    "duration": 45,
    "start_time": "2023-04-03T09:24:50.527Z"
   },
   {
    "duration": 14,
    "start_time": "2023-04-03T09:24:51.197Z"
   },
   {
    "duration": 6,
    "start_time": "2023-04-03T09:24:52.073Z"
   },
   {
    "duration": 6,
    "start_time": "2023-04-03T09:24:52.970Z"
   },
   {
    "duration": 16,
    "start_time": "2023-04-03T09:24:55.076Z"
   },
   {
    "duration": 22,
    "start_time": "2023-04-03T09:24:55.872Z"
   },
   {
    "duration": 7,
    "start_time": "2023-04-03T09:24:56.040Z"
   },
   {
    "duration": 16,
    "start_time": "2023-04-03T09:24:57.624Z"
   },
   {
    "duration": 15,
    "start_time": "2023-04-03T09:24:57.927Z"
   },
   {
    "duration": 27,
    "start_time": "2023-04-03T09:24:58.169Z"
   },
   {
    "duration": 7,
    "start_time": "2023-04-03T09:24:58.744Z"
   },
   {
    "duration": 297,
    "start_time": "2023-04-03T09:26:02.069Z"
   },
   {
    "duration": 6,
    "start_time": "2023-04-03T09:26:03.802Z"
   },
   {
    "duration": 27,
    "start_time": "2023-04-03T09:26:05.032Z"
   },
   {
    "duration": 514,
    "start_time": "2023-04-03T09:26:05.630Z"
   },
   {
    "duration": 14,
    "start_time": "2023-04-03T09:26:06.505Z"
   },
   {
    "duration": 5,
    "start_time": "2023-04-03T09:26:27.577Z"
   },
   {
    "duration": 4350,
    "start_time": "2023-04-03T09:26:28.216Z"
   },
   {
    "duration": 5,
    "start_time": "2023-04-03T09:26:32.568Z"
   },
   {
    "duration": 5,
    "start_time": "2023-04-03T09:27:37.140Z"
   },
   {
    "duration": 14,
    "start_time": "2023-04-03T09:27:43.871Z"
   },
   {
    "duration": 4,
    "start_time": "2023-04-03T09:28:23.502Z"
   },
   {
    "duration": 12,
    "start_time": "2023-04-03T09:29:56.543Z"
   },
   {
    "duration": 21,
    "start_time": "2023-04-03T09:29:59.831Z"
   },
   {
    "duration": 13,
    "start_time": "2023-04-03T09:30:02.934Z"
   },
   {
    "duration": 5,
    "start_time": "2023-04-03T09:30:04.270Z"
   },
   {
    "duration": 12,
    "start_time": "2023-04-03T09:30:42.540Z"
   },
   {
    "duration": 14,
    "start_time": "2023-04-03T09:30:52.415Z"
   },
   {
    "duration": 10,
    "start_time": "2023-04-03T09:30:54.699Z"
   },
   {
    "duration": 6,
    "start_time": "2023-04-03T09:31:07.979Z"
   },
   {
    "duration": 22,
    "start_time": "2023-04-03T09:31:12.405Z"
   },
   {
    "duration": 9,
    "start_time": "2023-04-03T09:31:16.201Z"
   },
   {
    "duration": 4,
    "start_time": "2023-04-03T09:31:28.801Z"
   },
   {
    "duration": 236,
    "start_time": "2023-04-03T09:31:33.584Z"
   },
   {
    "duration": 7,
    "start_time": "2023-04-03T09:33:17.671Z"
   },
   {
    "duration": 1975,
    "start_time": "2023-04-03T09:33:18.972Z"
   },
   {
    "duration": 16,
    "start_time": "2023-04-03T09:35:26.738Z"
   },
   {
    "duration": 230,
    "start_time": "2023-04-03T09:35:29.601Z"
   },
   {
    "duration": 338,
    "start_time": "2023-04-03T09:37:10.679Z"
   },
   {
    "duration": 11,
    "start_time": "2023-04-03T09:38:35.699Z"
   },
   {
    "duration": 10,
    "start_time": "2023-04-03T09:38:45.681Z"
   },
   {
    "duration": 4,
    "start_time": "2023-04-03T09:40:04.649Z"
   },
   {
    "duration": 224,
    "start_time": "2023-04-03T09:40:08.549Z"
   },
   {
    "duration": 4,
    "start_time": "2023-04-03T09:40:35.215Z"
   },
   {
    "duration": 170,
    "start_time": "2023-04-03T09:40:38.484Z"
   },
   {
    "duration": 4,
    "start_time": "2023-04-03T09:40:56.873Z"
   },
   {
    "duration": 256,
    "start_time": "2023-04-03T09:40:58.075Z"
   },
   {
    "duration": 3,
    "start_time": "2023-04-03T09:41:06.949Z"
   },
   {
    "duration": 157,
    "start_time": "2023-04-03T09:41:07.800Z"
   },
   {
    "duration": 249,
    "start_time": "2023-04-03T09:41:56.775Z"
   },
   {
    "duration": 5,
    "start_time": "2023-04-03T09:41:58.725Z"
   },
   {
    "duration": 1715,
    "start_time": "2023-04-03T09:41:58.795Z"
   },
   {
    "duration": 17,
    "start_time": "2023-04-03T09:42:00.512Z"
   },
   {
    "duration": 28,
    "start_time": "2023-04-03T09:42:00.531Z"
   },
   {
    "duration": 42,
    "start_time": "2023-04-03T09:42:00.562Z"
   },
   {
    "duration": 275,
    "start_time": "2023-04-03T09:42:00.606Z"
   },
   {
    "duration": 4,
    "start_time": "2023-04-03T09:46:05.913Z"
   },
   {
    "duration": 352,
    "start_time": "2023-04-03T09:46:07.003Z"
   },
   {
    "duration": 5,
    "start_time": "2023-04-03T09:53:05.228Z"
   },
   {
    "duration": 18,
    "start_time": "2023-04-03T09:54:28.384Z"
   },
   {
    "duration": 6,
    "start_time": "2023-04-03T09:54:29.717Z"
   },
   {
    "duration": 6,
    "start_time": "2023-04-03T09:55:49.872Z"
   },
   {
    "duration": 11,
    "start_time": "2023-04-03T09:58:07.416Z"
   },
   {
    "duration": 25,
    "start_time": "2023-04-03T09:58:19.977Z"
   },
   {
    "duration": 5,
    "start_time": "2023-04-03T09:58:20.939Z"
   },
   {
    "duration": 17,
    "start_time": "2023-04-03T09:58:22.133Z"
   },
   {
    "duration": 9,
    "start_time": "2023-04-03T09:58:22.900Z"
   },
   {
    "duration": 4,
    "start_time": "2023-04-03T09:58:23.902Z"
   },
   {
    "duration": 11,
    "start_time": "2023-04-03T09:58:38.069Z"
   },
   {
    "duration": 5,
    "start_time": "2023-04-03T10:00:09.793Z"
   },
   {
    "duration": 281,
    "start_time": "2023-04-03T10:00:26.452Z"
   },
   {
    "duration": 282,
    "start_time": "2023-04-03T10:02:05.954Z"
   },
   {
    "duration": 5,
    "start_time": "2023-04-03T10:02:17.764Z"
   },
   {
    "duration": 337,
    "start_time": "2023-04-03T10:02:19.481Z"
   },
   {
    "duration": 4,
    "start_time": "2023-04-03T10:02:35.374Z"
   },
   {
    "duration": 323,
    "start_time": "2023-04-03T10:02:36.280Z"
   },
   {
    "duration": 13,
    "start_time": "2023-04-03T10:04:59.615Z"
   },
   {
    "duration": 13,
    "start_time": "2023-04-03T10:04:59.899Z"
   },
   {
    "duration": 9,
    "start_time": "2023-04-03T10:05:00.062Z"
   },
   {
    "duration": 4,
    "start_time": "2023-04-03T10:05:00.170Z"
   },
   {
    "duration": 16,
    "start_time": "2023-04-03T10:05:00.233Z"
   },
   {
    "duration": 9,
    "start_time": "2023-04-03T10:05:00.411Z"
   },
   {
    "duration": 5,
    "start_time": "2023-04-03T10:05:00.640Z"
   },
   {
    "duration": 261,
    "start_time": "2023-04-03T10:05:00.952Z"
   },
   {
    "duration": 7,
    "start_time": "2023-04-03T10:05:02.010Z"
   },
   {
    "duration": 1923,
    "start_time": "2023-04-03T10:05:02.201Z"
   },
   {
    "duration": 16,
    "start_time": "2023-04-03T10:05:04.126Z"
   },
   {
    "duration": 62,
    "start_time": "2023-04-03T10:05:04.143Z"
   },
   {
    "duration": 35,
    "start_time": "2023-04-03T10:05:04.206Z"
   },
   {
    "duration": 376,
    "start_time": "2023-04-03T10:05:04.242Z"
   },
   {
    "duration": 6,
    "start_time": "2023-04-03T10:06:54.473Z"
   },
   {
    "duration": 5,
    "start_time": "2023-04-03T10:06:56.096Z"
   },
   {
    "duration": 479,
    "start_time": "2023-04-03T10:07:00.869Z"
   },
   {
    "duration": 465,
    "start_time": "2023-04-03T10:07:04.208Z"
   },
   {
    "duration": 5,
    "start_time": "2023-04-03T10:09:09.879Z"
   },
   {
    "duration": 602,
    "start_time": "2023-04-03T10:09:55.421Z"
   },
   {
    "duration": 419,
    "start_time": "2023-04-03T10:14:56.904Z"
   },
   {
    "duration": 478,
    "start_time": "2023-04-03T10:19:30.825Z"
   },
   {
    "duration": 22,
    "start_time": "2023-04-03T10:22:46.866Z"
   },
   {
    "duration": 22,
    "start_time": "2023-04-03T10:22:47.009Z"
   },
   {
    "duration": 19,
    "start_time": "2023-04-03T10:22:47.303Z"
   },
   {
    "duration": 17,
    "start_time": "2023-04-03T10:22:47.443Z"
   },
   {
    "duration": 19,
    "start_time": "2023-04-03T10:22:47.723Z"
   },
   {
    "duration": 16,
    "start_time": "2023-04-03T10:22:47.878Z"
   },
   {
    "duration": 9,
    "start_time": "2023-04-03T10:31:58.680Z"
   },
   {
    "duration": 4,
    "start_time": "2023-04-03T10:32:01.145Z"
   },
   {
    "duration": 6,
    "start_time": "2023-04-03T10:32:03.117Z"
   },
   {
    "duration": 7,
    "start_time": "2023-04-03T10:32:04.240Z"
   },
   {
    "duration": 5,
    "start_time": "2023-04-03T10:32:05.969Z"
   },
   {
    "duration": 11,
    "start_time": "2023-04-03T10:32:36.783Z"
   },
   {
    "duration": 4,
    "start_time": "2023-04-03T10:32:37.732Z"
   },
   {
    "duration": 7,
    "start_time": "2023-04-03T10:32:39.199Z"
   },
   {
    "duration": 8,
    "start_time": "2023-04-03T10:32:39.979Z"
   },
   {
    "duration": 7,
    "start_time": "2023-04-03T10:32:50.549Z"
   },
   {
    "duration": 430,
    "start_time": "2023-04-03T10:33:22.806Z"
   },
   {
    "duration": 411,
    "start_time": "2023-04-03T10:33:23.238Z"
   },
   {
    "duration": 31,
    "start_time": "2023-04-03T10:33:23.651Z"
   },
   {
    "duration": 17,
    "start_time": "2023-04-03T10:33:23.785Z"
   },
   {
    "duration": 24,
    "start_time": "2023-04-03T10:33:24.021Z"
   },
   {
    "duration": 17,
    "start_time": "2023-04-03T10:33:24.084Z"
   },
   {
    "duration": 19,
    "start_time": "2023-04-03T10:33:24.330Z"
   },
   {
    "duration": 19,
    "start_time": "2023-04-03T10:33:24.521Z"
   },
   {
    "duration": 11,
    "start_time": "2023-04-03T10:33:26.422Z"
   },
   {
    "duration": 4,
    "start_time": "2023-04-03T10:33:27.034Z"
   },
   {
    "duration": 8,
    "start_time": "2023-04-03T10:33:27.110Z"
   },
   {
    "duration": 9,
    "start_time": "2023-04-03T10:33:27.294Z"
   },
   {
    "duration": 7,
    "start_time": "2023-04-03T10:33:27.372Z"
   },
   {
    "duration": 5,
    "start_time": "2023-04-03T10:34:28.144Z"
   },
   {
    "duration": 488,
    "start_time": "2023-04-03T10:34:29.891Z"
   },
   {
    "duration": 441,
    "start_time": "2023-04-03T10:34:37.519Z"
   },
   {
    "duration": 607,
    "start_time": "2023-04-03T10:34:39.760Z"
   },
   {
    "duration": 19,
    "start_time": "2023-04-03T10:35:31.602Z"
   },
   {
    "duration": 16,
    "start_time": "2023-04-03T10:35:32.095Z"
   },
   {
    "duration": 17,
    "start_time": "2023-04-03T10:35:32.404Z"
   },
   {
    "duration": 18,
    "start_time": "2023-04-03T10:35:32.500Z"
   },
   {
    "duration": 17,
    "start_time": "2023-04-03T10:35:32.795Z"
   },
   {
    "duration": 18,
    "start_time": "2023-04-03T10:35:32.995Z"
   },
   {
    "duration": 11,
    "start_time": "2023-04-03T10:35:36.869Z"
   },
   {
    "duration": 5,
    "start_time": "2023-04-03T10:35:37.872Z"
   },
   {
    "duration": 8,
    "start_time": "2023-04-03T10:35:37.965Z"
   },
   {
    "duration": 8,
    "start_time": "2023-04-03T10:35:38.218Z"
   },
   {
    "duration": 5,
    "start_time": "2023-04-03T10:35:40.968Z"
   },
   {
    "duration": 13,
    "start_time": "2023-04-03T10:35:47.548Z"
   },
   {
    "duration": 11,
    "start_time": "2023-04-03T10:36:06.164Z"
   },
   {
    "duration": 4,
    "start_time": "2023-04-03T10:36:07.798Z"
   },
   {
    "duration": 8,
    "start_time": "2023-04-03T10:36:08.638Z"
   },
   {
    "duration": 10,
    "start_time": "2023-04-03T10:36:10.288Z"
   },
   {
    "duration": 7,
    "start_time": "2023-04-03T10:36:11.011Z"
   },
   {
    "duration": 1196,
    "start_time": "2023-04-03T13:18:55.641Z"
   },
   {
    "duration": 290,
    "start_time": "2023-04-03T13:18:56.840Z"
   },
   {
    "duration": 21,
    "start_time": "2023-04-03T13:18:57.134Z"
   },
   {
    "duration": 44,
    "start_time": "2023-04-03T13:18:57.157Z"
   },
   {
    "duration": 51,
    "start_time": "2023-04-03T13:18:57.209Z"
   },
   {
    "duration": 56,
    "start_time": "2023-04-03T13:18:57.261Z"
   },
   {
    "duration": 31,
    "start_time": "2023-04-03T13:18:57.318Z"
   },
   {
    "duration": 17,
    "start_time": "2023-04-03T13:18:57.351Z"
   },
   {
    "duration": 21,
    "start_time": "2023-04-03T13:18:57.370Z"
   },
   {
    "duration": 64,
    "start_time": "2023-04-03T13:18:57.393Z"
   },
   {
    "duration": 472,
    "start_time": "2023-04-03T13:18:57.458Z"
   },
   {
    "duration": 15,
    "start_time": "2023-04-03T13:18:57.932Z"
   },
   {
    "duration": 7,
    "start_time": "2023-04-03T13:18:57.949Z"
   },
   {
    "duration": 23,
    "start_time": "2023-04-03T13:18:57.958Z"
   },
   {
    "duration": 53,
    "start_time": "2023-04-03T13:18:57.982Z"
   },
   {
    "duration": 16,
    "start_time": "2023-04-03T13:18:58.037Z"
   },
   {
    "duration": 58,
    "start_time": "2023-04-03T13:18:58.055Z"
   },
   {
    "duration": 10,
    "start_time": "2023-04-03T13:18:58.114Z"
   },
   {
    "duration": 18,
    "start_time": "2023-04-03T13:18:58.125Z"
   },
   {
    "duration": 13,
    "start_time": "2023-04-03T13:18:58.144Z"
   },
   {
    "duration": 62,
    "start_time": "2023-04-03T13:18:58.177Z"
   },
   {
    "duration": 11,
    "start_time": "2023-04-03T13:18:58.241Z"
   },
   {
    "duration": 6,
    "start_time": "2023-04-03T13:18:58.254Z"
   },
   {
    "duration": 5,
    "start_time": "2023-04-03T13:18:58.261Z"
   },
   {
    "duration": 43,
    "start_time": "2023-04-03T13:18:58.268Z"
   },
   {
    "duration": 20,
    "start_time": "2023-04-03T13:18:58.321Z"
   },
   {
    "duration": 7,
    "start_time": "2023-04-03T13:18:58.343Z"
   },
   {
    "duration": 15,
    "start_time": "2023-04-03T13:18:58.353Z"
   },
   {
    "duration": 37,
    "start_time": "2023-04-03T13:18:58.369Z"
   },
   {
    "duration": 29,
    "start_time": "2023-04-03T13:18:58.407Z"
   },
   {
    "duration": 5,
    "start_time": "2023-04-03T13:18:58.438Z"
   },
   {
    "duration": 224,
    "start_time": "2023-04-03T13:18:58.445Z"
   },
   {
    "duration": 12,
    "start_time": "2023-04-03T13:18:58.670Z"
   },
   {
    "duration": 49,
    "start_time": "2023-04-03T13:18:58.683Z"
   },
   {
    "duration": 310,
    "start_time": "2023-04-03T13:18:58.734Z"
   },
   {
    "duration": 11,
    "start_time": "2023-04-03T13:18:59.046Z"
   },
   {
    "duration": 66,
    "start_time": "2023-04-03T13:18:59.059Z"
   },
   {
    "duration": 3916,
    "start_time": "2023-04-03T13:18:59.127Z"
   },
   {
    "duration": 4,
    "start_time": "2023-04-03T13:19:03.044Z"
   },
   {
    "duration": 98,
    "start_time": "2023-04-03T13:19:03.050Z"
   },
   {
    "duration": 61,
    "start_time": "2023-04-03T13:19:03.150Z"
   },
   {
    "duration": 30,
    "start_time": "2023-04-03T13:19:03.220Z"
   },
   {
    "duration": 62,
    "start_time": "2023-04-03T13:19:03.252Z"
   },
   {
    "duration": 38,
    "start_time": "2023-04-03T13:19:03.316Z"
   },
   {
    "duration": 15,
    "start_time": "2023-04-03T13:19:03.356Z"
   },
   {
    "duration": 45,
    "start_time": "2023-04-03T13:19:03.374Z"
   },
   {
    "duration": 304,
    "start_time": "2023-04-03T13:19:03.421Z"
   },
   {
    "duration": 5,
    "start_time": "2023-04-03T13:19:03.726Z"
   },
   {
    "duration": 1808,
    "start_time": "2023-04-03T13:19:03.733Z"
   },
   {
    "duration": 35,
    "start_time": "2023-04-03T13:19:05.543Z"
   },
   {
    "duration": 54,
    "start_time": "2023-04-03T13:19:05.580Z"
   },
   {
    "duration": 4,
    "start_time": "2023-04-03T13:19:05.636Z"
   },
   {
    "duration": 317,
    "start_time": "2023-04-03T13:19:05.642Z"
   },
   {
    "duration": 5,
    "start_time": "2023-04-03T13:19:05.961Z"
   },
   {
    "duration": 465,
    "start_time": "2023-04-03T13:19:05.968Z"
   },
   {
    "duration": 432,
    "start_time": "2023-04-03T13:19:06.434Z"
   },
   {
    "duration": 481,
    "start_time": "2023-04-03T13:19:06.868Z"
   },
   {
    "duration": 50,
    "start_time": "2023-04-03T13:19:07.351Z"
   },
   {
    "duration": 17,
    "start_time": "2023-04-03T13:19:07.414Z"
   },
   {
    "duration": 22,
    "start_time": "2023-04-03T13:19:07.433Z"
   },
   {
    "duration": 32,
    "start_time": "2023-04-03T13:19:07.457Z"
   },
   {
    "duration": 63,
    "start_time": "2023-04-03T13:19:07.491Z"
   },
   {
    "duration": 36,
    "start_time": "2023-04-03T13:19:07.557Z"
   },
   {
    "duration": 33,
    "start_time": "2023-04-03T13:19:07.597Z"
   },
   {
    "duration": 15,
    "start_time": "2023-04-03T13:19:07.632Z"
   },
   {
    "duration": 16,
    "start_time": "2023-04-03T13:19:07.648Z"
   },
   {
    "duration": 32,
    "start_time": "2023-04-03T13:19:07.665Z"
   },
   {
    "duration": 32,
    "start_time": "2023-04-03T13:19:07.699Z"
   },
   {
    "duration": 15,
    "start_time": "2023-04-03T13:19:07.732Z"
   },
   {
    "duration": 9,
    "start_time": "2023-04-03T13:19:07.748Z"
   },
   {
    "duration": 49,
    "start_time": "2023-04-03T13:19:07.759Z"
   },
   {
    "duration": 16,
    "start_time": "2023-04-03T13:19:07.815Z"
   },
   {
    "duration": 20,
    "start_time": "2023-04-03T13:19:07.833Z"
   },
   {
    "duration": 1102,
    "start_time": "2023-06-03T10:33:24.244Z"
   },
   {
    "duration": 239,
    "start_time": "2023-06-03T10:35:56.238Z"
   },
   {
    "duration": 26,
    "start_time": "2023-06-03T10:36:48.571Z"
   },
   {
    "duration": 18,
    "start_time": "2023-06-03T10:37:08.981Z"
   },
   {
    "duration": 8,
    "start_time": "2023-06-03T10:37:10.155Z"
   },
   {
    "duration": 14,
    "start_time": "2023-06-03T10:37:23.600Z"
   },
   {
    "duration": 33,
    "start_time": "2023-06-03T10:37:24.416Z"
   },
   {
    "duration": 22,
    "start_time": "2023-06-03T10:37:25.499Z"
   },
   {
    "duration": 10,
    "start_time": "2023-06-03T10:37:26.278Z"
   },
   {
    "duration": 16,
    "start_time": "2023-06-03T10:37:31.362Z"
   },
   {
    "duration": 421,
    "start_time": "2023-06-03T10:37:32.151Z"
   },
   {
    "duration": 16,
    "start_time": "2023-06-03T10:37:33.730Z"
   },
   {
    "duration": 4,
    "start_time": "2023-06-03T10:37:34.524Z"
   },
   {
    "duration": 5,
    "start_time": "2023-06-03T10:37:44.963Z"
   },
   {
    "duration": 17,
    "start_time": "2023-06-03T10:37:45.754Z"
   },
   {
    "duration": 15,
    "start_time": "2023-06-03T10:37:57.987Z"
   },
   {
    "duration": 47,
    "start_time": "2023-06-03T10:37:58.701Z"
   },
   {
    "duration": 16,
    "start_time": "2023-06-03T10:38:17.173Z"
   },
   {
    "duration": 19,
    "start_time": "2023-06-03T10:38:18.145Z"
   },
   {
    "duration": 14,
    "start_time": "2023-06-03T10:38:18.929Z"
   },
   {
    "duration": 34,
    "start_time": "2023-06-03T10:38:20.288Z"
   },
   {
    "duration": 13,
    "start_time": "2023-06-03T10:38:21.041Z"
   },
   {
    "duration": 5,
    "start_time": "2023-06-03T10:38:23.198Z"
   },
   {
    "duration": 5,
    "start_time": "2023-06-03T10:38:25.455Z"
   },
   {
    "duration": 23,
    "start_time": "2023-06-03T10:38:33.504Z"
   },
   {
    "duration": 15,
    "start_time": "2023-06-03T10:38:39.301Z"
   },
   {
    "duration": 5,
    "start_time": "2023-06-03T10:38:40.110Z"
   },
   {
    "duration": 17,
    "start_time": "2023-06-03T10:39:32.589Z"
   },
   {
    "duration": 16,
    "start_time": "2023-06-03T10:39:49.530Z"
   },
   {
    "duration": 20,
    "start_time": "2023-06-03T10:39:51.395Z"
   },
   {
    "duration": 9,
    "start_time": "2023-06-03T10:39:52.290Z"
   },
   {
    "duration": 244,
    "start_time": "2023-06-03T10:40:49.216Z"
   },
   {
    "duration": 5,
    "start_time": "2023-06-03T10:42:06.711Z"
   },
   {
    "duration": 16,
    "start_time": "2023-06-03T10:42:16.020Z"
   },
   {
    "duration": 310,
    "start_time": "2023-06-03T10:42:17.639Z"
   },
   {
    "duration": 10,
    "start_time": "2023-06-03T10:42:21.611Z"
   },
   {
    "duration": 7,
    "start_time": "2023-06-03T10:42:22.482Z"
   },
   {
    "duration": 4156,
    "start_time": "2023-06-03T10:42:24.976Z"
   },
   {
    "duration": 5,
    "start_time": "2023-06-03T10:43:16.148Z"
   },
   {
    "duration": 12,
    "start_time": "2023-06-03T10:43:24.987Z"
   },
   {
    "duration": 16,
    "start_time": "2023-06-03T10:43:34.995Z"
   },
   {
    "duration": 9,
    "start_time": "2023-06-03T10:43:35.918Z"
   },
   {
    "duration": 5,
    "start_time": "2023-06-03T10:43:36.662Z"
   },
   {
    "duration": 16,
    "start_time": "2023-06-03T10:43:40.295Z"
   },
   {
    "duration": 9,
    "start_time": "2023-06-03T10:43:41.121Z"
   },
   {
    "duration": 4,
    "start_time": "2023-06-03T10:43:42.028Z"
   },
   {
    "duration": 219,
    "start_time": "2023-06-03T10:44:02.945Z"
   },
   {
    "duration": 5,
    "start_time": "2023-06-03T10:44:32.431Z"
   },
   {
    "duration": 1798,
    "start_time": "2023-06-03T10:44:34.492Z"
   },
   {
    "duration": 16,
    "start_time": "2023-06-03T10:45:16.517Z"
   },
   {
    "duration": 8,
    "start_time": "2023-06-03T10:45:17.326Z"
   },
   {
    "duration": 4,
    "start_time": "2023-06-03T10:45:23.364Z"
   },
   {
    "duration": 300,
    "start_time": "2023-06-03T10:45:24.932Z"
   },
   {
    "duration": 5,
    "start_time": "2023-06-03T10:46:03.696Z"
   },
   {
    "duration": 363,
    "start_time": "2023-06-03T10:46:14.918Z"
   },
   {
    "duration": 335,
    "start_time": "2023-06-03T10:46:55.192Z"
   },
   {
    "duration": 433,
    "start_time": "2023-06-03T10:47:16.952Z"
   },
   {
    "duration": 17,
    "start_time": "2023-06-03T10:47:40.117Z"
   },
   {
    "duration": 21,
    "start_time": "2023-06-03T10:47:41.105Z"
   },
   {
    "duration": 16,
    "start_time": "2023-06-03T10:47:42.748Z"
   },
   {
    "duration": 20,
    "start_time": "2023-06-03T10:47:43.903Z"
   },
   {
    "duration": 18,
    "start_time": "2023-06-03T10:47:48.391Z"
   },
   {
    "duration": 18,
    "start_time": "2023-06-03T10:47:49.111Z"
   },
   {
    "duration": 10,
    "start_time": "2023-06-03T10:48:34.303Z"
   },
   {
    "duration": 4,
    "start_time": "2023-06-03T10:48:34.967Z"
   },
   {
    "duration": 8,
    "start_time": "2023-06-03T10:48:35.539Z"
   },
   {
    "duration": 8,
    "start_time": "2023-06-03T10:48:35.960Z"
   },
   {
    "duration": 6,
    "start_time": "2023-06-03T10:48:36.504Z"
   },
   {
    "duration": 11,
    "start_time": "2023-06-03T10:49:07.860Z"
   },
   {
    "duration": 5,
    "start_time": "2023-06-03T10:49:08.515Z"
   },
   {
    "duration": 7,
    "start_time": "2023-06-03T10:49:08.778Z"
   },
   {
    "duration": 7,
    "start_time": "2023-06-03T10:49:09.198Z"
   },
   {
    "duration": 6,
    "start_time": "2023-06-03T10:49:09.284Z"
   }
  ],
  "kernelspec": {
   "display_name": "Python 3 (ipykernel)",
   "language": "python",
   "name": "python3"
  },
  "language_info": {
   "codemirror_mode": {
    "name": "ipython",
    "version": 3
   },
   "file_extension": ".py",
   "mimetype": "text/x-python",
   "name": "python",
   "nbconvert_exporter": "python",
   "pygments_lexer": "ipython3",
   "version": "3.9.5"
  },
  "toc": {
   "base_numbering": 1,
   "nav_menu": {},
   "number_sections": true,
   "sideBar": true,
   "skip_h1_title": true,
   "title_cell": "Содержание",
   "title_sidebar": "Contents",
   "toc_cell": true,
   "toc_position": {},
   "toc_section_display": true,
   "toc_window_display": false
  }
 },
 "nbformat": 4,
 "nbformat_minor": 5
}
