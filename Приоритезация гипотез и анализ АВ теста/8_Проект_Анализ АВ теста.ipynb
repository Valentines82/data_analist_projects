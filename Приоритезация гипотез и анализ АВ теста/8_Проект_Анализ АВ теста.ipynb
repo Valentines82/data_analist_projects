{
 "cells": [
  {
   "cell_type": "markdown",
   "id": "b2493b4d",
   "metadata": {
    "toc": true
   },
   "source": [
    "<h1>Содержание<span class=\"tocSkip\"></span></h1>\n",
    "<div class=\"toc\"><ul class=\"toc-item\"><li><span><a href=\"#Часть-1.-Приоритизация-гипотез.\" data-toc-modified-id=\"Часть-1.-Приоритизация-гипотез.-1\"><span class=\"toc-item-num\">1&nbsp;&nbsp;</span>Часть 1. Приоритизация гипотез.</a></span><ul class=\"toc-item\"><li><span><a href=\"#Выводы\" data-toc-modified-id=\"Выводы-1.1\"><span class=\"toc-item-num\">1.1&nbsp;&nbsp;</span>Выводы</a></span></li></ul></li><li><span><a href=\"#Часть-2.-Анализ-A/B-теста\" data-toc-modified-id=\"Часть-2.-Анализ-A/B-теста-2\"><span class=\"toc-item-num\">2&nbsp;&nbsp;</span>Часть 2. Анализ A/B-теста</a></span><ul class=\"toc-item\"><li><span><a href=\"#Предобработка-данныз\" data-toc-modified-id=\"Предобработка-данныз-2.1\"><span class=\"toc-item-num\">2.1&nbsp;&nbsp;</span>Предобработка данныз</a></span></li><li><span><a href=\"#Кумулятивная-выручка-по-группам\" data-toc-modified-id=\"Кумулятивная-выручка-по-группам-2.2\"><span class=\"toc-item-num\">2.2&nbsp;&nbsp;</span>Кумулятивная выручка по группам</a></span><ul class=\"toc-item\"><li><span><a href=\"#ВЫВОД:\" data-toc-modified-id=\"ВЫВОД:-2.2.1\"><span class=\"toc-item-num\">2.2.1&nbsp;&nbsp;</span>ВЫВОД:</a></span></li></ul></li><li><span><a href=\"#Построим-график-кумулятивного-среднего-чека-по-группам\" data-toc-modified-id=\"Построим-график-кумулятивного-среднего-чека-по-группам-2.3\"><span class=\"toc-item-num\">2.3&nbsp;&nbsp;</span>Построим график кумулятивного среднего чека по группам</a></span><ul class=\"toc-item\"><li><span><a href=\"#ВЫВОД:\" data-toc-modified-id=\"ВЫВОД:-2.3.1\"><span class=\"toc-item-num\">2.3.1&nbsp;&nbsp;</span>ВЫВОД:</a></span></li></ul></li><li><span><a href=\"#Построим-график-относительного-изменения-кумулятивного-среднего-чека-группы-B-к-группе-A.\" data-toc-modified-id=\"Построим-график-относительного-изменения-кумулятивного-среднего-чека-группы-B-к-группе-A.-2.4\"><span class=\"toc-item-num\">2.4&nbsp;&nbsp;</span>Построим график относительного изменения кумулятивного среднего чека группы B к группе A.</a></span><ul class=\"toc-item\"><li><span><a href=\"#ВЫВОД:\" data-toc-modified-id=\"ВЫВОД:-2.4.1\"><span class=\"toc-item-num\">2.4.1&nbsp;&nbsp;</span>ВЫВОД:</a></span></li></ul></li><li><span><a href=\"#Построим-график-кумулятивного-среднего-количества-заказов-на-посетителя-по-группам.\" data-toc-modified-id=\"Построим-график-кумулятивного-среднего-количества-заказов-на-посетителя-по-группам.-2.5\"><span class=\"toc-item-num\">2.5&nbsp;&nbsp;</span>Построим график кумулятивного среднего количества заказов на посетителя по группам.</a></span><ul class=\"toc-item\"><li><span><a href=\"#ВЫВОД:\" data-toc-modified-id=\"ВЫВОД:-2.5.1\"><span class=\"toc-item-num\">2.5.1&nbsp;&nbsp;</span>ВЫВОД:</a></span></li></ul></li><li><span><a href=\"#Построим-график-относительного-изменения-кумулятивного-среднего-количества-заказов-на-посетителя-группы-B-к-группе-A.\" data-toc-modified-id=\"Построим-график-относительного-изменения-кумулятивного-среднего-количества-заказов-на-посетителя-группы-B-к-группе-A.-2.6\"><span class=\"toc-item-num\">2.6&nbsp;&nbsp;</span>Построим график относительного изменения кумулятивного среднего количества заказов на посетителя группы B к группе A.</a></span><ul class=\"toc-item\"><li><span><a href=\"#ВЫВОД:\" data-toc-modified-id=\"ВЫВОД:-2.6.1\"><span class=\"toc-item-num\">2.6.1&nbsp;&nbsp;</span>ВЫВОД:</a></span></li></ul></li><li><span><a href=\"#Построим-точечный-график-количества-заказов-по-пользователям.\" data-toc-modified-id=\"Построим-точечный-график-количества-заказов-по-пользователям.-2.7\"><span class=\"toc-item-num\">2.7&nbsp;&nbsp;</span>Построим точечный график количества заказов по пользователям.</a></span><ul class=\"toc-item\"><li><span><a href=\"#ВЫВОДЫ:\" data-toc-modified-id=\"ВЫВОДЫ:-2.7.1\"><span class=\"toc-item-num\">2.7.1&nbsp;&nbsp;</span>ВЫВОДЫ:</a></span></li></ul></li><li><span><a href=\"#Посчитаем-95-й-и-99-й-перцентили-количества-заказов-на-пользователя.-Выберем-границу-для-определения-аномальных-пользователей.\" data-toc-modified-id=\"Посчитаем-95-й-и-99-й-перцентили-количества-заказов-на-пользователя.-Выберем-границу-для-определения-аномальных-пользователей.-2.8\"><span class=\"toc-item-num\">2.8&nbsp;&nbsp;</span>Посчитаем 95-й и 99-й перцентили количества заказов на пользователя. Выберем границу для определения аномальных пользователей.</a></span><ul class=\"toc-item\"><li><span><a href=\"#ВЫВОД:-будем-считать,-что-аномальные-пользователи-это-те,-кто-сделал-более-двух-закзов.\" data-toc-modified-id=\"ВЫВОД:-будем-считать,-что-аномальные-пользователи-это-те,-кто-сделал-более-двух-закзов.-2.8.1\"><span class=\"toc-item-num\">2.8.1&nbsp;&nbsp;</span>ВЫВОД: будем считать, что аномальные пользователи это те, кто сделал более двух закзов.</a></span></li></ul></li><li><span><a href=\"#Построим-точечный-график-стоимостей-заказов.\" data-toc-modified-id=\"Построим-точечный-график-стоимостей-заказов.-2.9\"><span class=\"toc-item-num\">2.9&nbsp;&nbsp;</span>Построим точечный график стоимостей заказов.</a></span><ul class=\"toc-item\"><li><span><a href=\"#ВЫВОД:-основная-часть-заказов-находится-в-определенных-пределах,-но-есть-аномально-большой-заказ-на-сумму-более-1,2-млн.-рублей.\" data-toc-modified-id=\"ВЫВОД:-основная-часть-заказов-находится-в-определенных-пределах,-но-есть-аномально-большой-заказ-на-сумму-более-1,2-млн.-рублей.-2.9.1\"><span class=\"toc-item-num\">2.9.1&nbsp;&nbsp;</span>ВЫВОД: основная часть заказов находится в определенных пределах, но есть аномально большой заказ на сумму более 1,2 млн. рублей.</a></span></li></ul></li><li><span><a href=\"#Посчитаем-95-й-и-99-й-перцентили-стоимости-заказов.-Выберем-границу-для-определения-аномальных-заказов.\" data-toc-modified-id=\"Посчитаем-95-й-и-99-й-перцентили-стоимости-заказов.-Выберем-границу-для-определения-аномальных-заказов.-2.10\"><span class=\"toc-item-num\">2.10&nbsp;&nbsp;</span>Посчитаем 95-й и 99-й перцентили стоимости заказов. Выберем границу для определения аномальных заказов.</a></span><ul class=\"toc-item\"><li><span><a href=\"#ВЫВОД:-аномальными-будем-считать-заказы-дороже-28000-рублей.\" data-toc-modified-id=\"ВЫВОД:-аномальными-будем-считать-заказы-дороже-28000-рублей.-2.10.1\"><span class=\"toc-item-num\">2.10.1&nbsp;&nbsp;</span>ВЫВОД: аномальными будем считать заказы дороже 28000 рублей.</a></span></li></ul></li><li><span><a href=\"#Посчитаем-статистическую-значимость-различий-в-среднем-количестве-заказов-на-посетителя-между-группами-по-«сырым»-данным.\" data-toc-modified-id=\"Посчитаем-статистическую-значимость-различий-в-среднем-количестве-заказов-на-посетителя-между-группами-по-«сырым»-данным.-2.11\"><span class=\"toc-item-num\">2.11&nbsp;&nbsp;</span>Посчитаем статистическую значимость различий в среднем количестве заказов на посетителя между группами по «сырым» данным.</a></span><ul class=\"toc-item\"><li><span><a href=\"#ВЫВОДЫ:\" data-toc-modified-id=\"ВЫВОДЫ:-2.11.1\"><span class=\"toc-item-num\">2.11.1&nbsp;&nbsp;</span>ВЫВОДЫ:</a></span></li></ul></li><li><span><a href=\"#Посчитаем-статистическую-значимость-различий-в-среднем-чеке-заказа-между-группами-по-«сырым»-данным.\" data-toc-modified-id=\"Посчитаем-статистическую-значимость-различий-в-среднем-чеке-заказа-между-группами-по-«сырым»-данным.-2.12\"><span class=\"toc-item-num\">2.12&nbsp;&nbsp;</span>Посчитаем статистическую значимость различий в среднем чеке заказа между группами по «сырым» данным.</a></span><ul class=\"toc-item\"><li><span><a href=\"#ВЫВОДЫ:-В-качестве-нулевой-гипотезы-примем,-что-в-среднем-чеки-в-группах-равны.-Альтернативная-гипотеза---средний-чек-в-группах-отличается.-Уровень-значимости-равен-0,05\" data-toc-modified-id=\"ВЫВОДЫ:-В-качестве-нулевой-гипотезы-примем,-что-в-среднем-чеки-в-группах-равны.-Альтернативная-гипотеза---средний-чек-в-группах-отличается.-Уровень-значимости-равен-0,05-2.12.1\"><span class=\"toc-item-num\">2.12.1&nbsp;&nbsp;</span>ВЫВОДЫ: В качестве нулевой гипотезы примем, что в среднем чеки в группах равны. Альтернативная гипотеза - средний чек в группах отличается. Уровень значимости равен 0,05</a></span></li></ul></li><li><span><a href=\"#Посчитаем-статистическую-значимость-различий-в-среднем-количестве-заказов-на-посетителя-между-группами-по-«очищенным»-данным.\" data-toc-modified-id=\"Посчитаем-статистическую-значимость-различий-в-среднем-количестве-заказов-на-посетителя-между-группами-по-«очищенным»-данным.-2.13\"><span class=\"toc-item-num\">2.13&nbsp;&nbsp;</span>Посчитаем статистическую значимость различий в среднем количестве заказов на посетителя между группами по «очищенным» данным.</a></span><ul class=\"toc-item\"><li><span><a href=\"#ВЫВОДЫ:\" data-toc-modified-id=\"ВЫВОДЫ:-2.13.1\"><span class=\"toc-item-num\">2.13.1&nbsp;&nbsp;</span>ВЫВОДЫ:</a></span></li></ul></li><li><span><a href=\"#Посчитаем-статистическую-значимость-различий-в-среднем-чеке-заказа-между-группами-по-«очищенным»-данным.\" data-toc-modified-id=\"Посчитаем-статистическую-значимость-различий-в-среднем-чеке-заказа-между-группами-по-«очищенным»-данным.-2.14\"><span class=\"toc-item-num\">2.14&nbsp;&nbsp;</span>Посчитаем статистическую значимость различий в среднем чеке заказа между группами по «очищенным» данным.</a></span><ul class=\"toc-item\"><li><span><a href=\"#ВЫВОД:\" data-toc-modified-id=\"ВЫВОД:-2.14.1\"><span class=\"toc-item-num\">2.14.1&nbsp;&nbsp;</span>ВЫВОД:</a></span></li></ul></li></ul></li><li><span><a href=\"#Общий-вывод\" data-toc-modified-id=\"Общий-вывод-3\"><span class=\"toc-item-num\">3&nbsp;&nbsp;</span>Общий вывод</a></span></li><li><span><a href=\"#Рекомендация\" data-toc-modified-id=\"Рекомендация-4\"><span class=\"toc-item-num\">4&nbsp;&nbsp;</span>Рекомендация</a></span></li></ul></div>"
   ]
  },
  {
   "cell_type": "markdown",
   "id": "936cf747",
   "metadata": {},
   "source": [
    "## Часть 1. Приоритизация гипотез."
   ]
  },
  {
   "cell_type": "markdown",
   "id": "0f99a432",
   "metadata": {},
   "source": [
    "**Имеется 9 гипотез по увеличению выручки интернет-магазина с указанными параметрами Reach, Impact, Confidence, Effort. Необходимо определить приоритет гипотез, применив фреймворки ICE и RICE**"
   ]
  },
  {
   "cell_type": "markdown",
   "id": "522a97ab",
   "metadata": {},
   "source": [
    "# Описание данных\n",
    "**Файл hypothesis.csv**\n",
    " - Hypothesis — краткое описание гипотезы;\n",
    " - Reach — охват пользователей по 10-балльной шкале;\n",
    " - Impact — влияние на пользователей по 10-балльной шкале;\n",
    " - Confidence — уверенность в гипотезе по 10-балльной шкале;\n",
    " - Efforts — затраты ресурсов на проверку гипотезы по 10-балльной шкале. Чем больше значение Efforts, тем дороже проверка гипотезы."
   ]
  },
  {
   "cell_type": "code",
   "execution_count": 6,
   "id": "65e1c655",
   "metadata": {},
   "outputs": [],
   "source": [
    "import pandas as pd"
   ]
  },
  {
   "cell_type": "code",
   "execution_count": 7,
   "id": "6d239faa",
   "metadata": {},
   "outputs": [],
   "source": [
    "pd.options.display.max_colwidth = 130\n",
    "df = pd.read_csv('/datasets/hypothesis.csv', sep = ',')"
   ]
  },
  {
   "cell_type": "code",
   "execution_count": 8,
   "id": "71ed7b50",
   "metadata": {},
   "outputs": [
    {
     "data": {
      "text/html": [
       "<div>\n",
       "<style scoped>\n",
       "    .dataframe tbody tr th:only-of-type {\n",
       "        vertical-align: middle;\n",
       "    }\n",
       "\n",
       "    .dataframe tbody tr th {\n",
       "        vertical-align: top;\n",
       "    }\n",
       "\n",
       "    .dataframe thead th {\n",
       "        text-align: right;\n",
       "    }\n",
       "</style>\n",
       "<table border=\"1\" class=\"dataframe\">\n",
       "  <thead>\n",
       "    <tr style=\"text-align: right;\">\n",
       "      <th></th>\n",
       "      <th>Hypothesis</th>\n",
       "      <th>Reach</th>\n",
       "      <th>Impact</th>\n",
       "      <th>Confidence</th>\n",
       "      <th>Efforts</th>\n",
       "    </tr>\n",
       "  </thead>\n",
       "  <tbody>\n",
       "    <tr>\n",
       "      <th>0</th>\n",
       "      <td>Добавить два новых канала привлечения трафика, что позволит привлекать на 30% больше пользователей</td>\n",
       "      <td>3</td>\n",
       "      <td>10</td>\n",
       "      <td>8</td>\n",
       "      <td>6</td>\n",
       "    </tr>\n",
       "    <tr>\n",
       "      <th>1</th>\n",
       "      <td>Запустить собственную службу доставки, что сократит срок доставки заказов</td>\n",
       "      <td>2</td>\n",
       "      <td>5</td>\n",
       "      <td>4</td>\n",
       "      <td>10</td>\n",
       "    </tr>\n",
       "    <tr>\n",
       "      <th>2</th>\n",
       "      <td>Добавить блоки рекомендаций товаров на сайт интернет магазина, чтобы повысить конверсию и средний чек заказа</td>\n",
       "      <td>8</td>\n",
       "      <td>3</td>\n",
       "      <td>7</td>\n",
       "      <td>3</td>\n",
       "    </tr>\n",
       "    <tr>\n",
       "      <th>3</th>\n",
       "      <td>Изменить структура категорий, что увеличит конверсию, т.к. пользователи быстрее найдут нужный товар</td>\n",
       "      <td>8</td>\n",
       "      <td>3</td>\n",
       "      <td>3</td>\n",
       "      <td>8</td>\n",
       "    </tr>\n",
       "    <tr>\n",
       "      <th>4</th>\n",
       "      <td>Изменить цвет фона главной страницы, чтобы увеличить вовлеченность пользователей</td>\n",
       "      <td>3</td>\n",
       "      <td>1</td>\n",
       "      <td>1</td>\n",
       "      <td>1</td>\n",
       "    </tr>\n",
       "    <tr>\n",
       "      <th>5</th>\n",
       "      <td>Добавить страницу отзывов клиентов о магазине, что позволит увеличить количество заказов</td>\n",
       "      <td>3</td>\n",
       "      <td>2</td>\n",
       "      <td>2</td>\n",
       "      <td>3</td>\n",
       "    </tr>\n",
       "    <tr>\n",
       "      <th>6</th>\n",
       "      <td>Показать на главной странице баннеры с актуальными акциями и распродажами, чтобы увеличить конверсию</td>\n",
       "      <td>5</td>\n",
       "      <td>3</td>\n",
       "      <td>8</td>\n",
       "      <td>3</td>\n",
       "    </tr>\n",
       "    <tr>\n",
       "      <th>7</th>\n",
       "      <td>Добавить форму подписки на все основные страницы, чтобы собрать базу клиентов для email-рассылок</td>\n",
       "      <td>10</td>\n",
       "      <td>7</td>\n",
       "      <td>8</td>\n",
       "      <td>5</td>\n",
       "    </tr>\n",
       "    <tr>\n",
       "      <th>8</th>\n",
       "      <td>Запустить акцию, дающую скидку на товар в день рождения</td>\n",
       "      <td>1</td>\n",
       "      <td>9</td>\n",
       "      <td>9</td>\n",
       "      <td>5</td>\n",
       "    </tr>\n",
       "  </tbody>\n",
       "</table>\n",
       "</div>"
      ],
      "text/plain": [
       "                                                                                                     Hypothesis  \\\n",
       "0            Добавить два новых канала привлечения трафика, что позволит привлекать на 30% больше пользователей   \n",
       "1                                     Запустить собственную службу доставки, что сократит срок доставки заказов   \n",
       "2  Добавить блоки рекомендаций товаров на сайт интернет магазина, чтобы повысить конверсию и средний чек заказа   \n",
       "3           Изменить структура категорий, что увеличит конверсию, т.к. пользователи быстрее найдут нужный товар   \n",
       "4                              Изменить цвет фона главной страницы, чтобы увеличить вовлеченность пользователей   \n",
       "5                      Добавить страницу отзывов клиентов о магазине, что позволит увеличить количество заказов   \n",
       "6          Показать на главной странице баннеры с актуальными акциями и распродажами, чтобы увеличить конверсию   \n",
       "7              Добавить форму подписки на все основные страницы, чтобы собрать базу клиентов для email-рассылок   \n",
       "8                                                       Запустить акцию, дающую скидку на товар в день рождения   \n",
       "\n",
       "   Reach  Impact  Confidence  Efforts  \n",
       "0      3      10           8        6  \n",
       "1      2       5           4       10  \n",
       "2      8       3           7        3  \n",
       "3      8       3           3        8  \n",
       "4      3       1           1        1  \n",
       "5      3       2           2        3  \n",
       "6      5       3           8        3  \n",
       "7     10       7           8        5  \n",
       "8      1       9           9        5  "
      ]
     },
     "execution_count": 8,
     "metadata": {},
     "output_type": "execute_result"
    }
   ],
   "source": [
    "df"
   ]
  },
  {
   "cell_type": "markdown",
   "id": "18340e5a",
   "metadata": {},
   "source": [
    "<div class=\"alert\"> <b>Приоритизация ICE</b> </div> "
   ]
  },
  {
   "cell_type": "code",
   "execution_count": 9,
   "id": "40aa2c91",
   "metadata": {},
   "outputs": [
    {
     "data": {
      "text/html": [
       "<div>\n",
       "<style scoped>\n",
       "    .dataframe tbody tr th:only-of-type {\n",
       "        vertical-align: middle;\n",
       "    }\n",
       "\n",
       "    .dataframe tbody tr th {\n",
       "        vertical-align: top;\n",
       "    }\n",
       "\n",
       "    .dataframe thead th {\n",
       "        text-align: right;\n",
       "    }\n",
       "</style>\n",
       "<table border=\"1\" class=\"dataframe\">\n",
       "  <thead>\n",
       "    <tr style=\"text-align: right;\">\n",
       "      <th></th>\n",
       "      <th>Hypothesis</th>\n",
       "      <th>ICE</th>\n",
       "    </tr>\n",
       "  </thead>\n",
       "  <tbody>\n",
       "    <tr>\n",
       "      <th>8</th>\n",
       "      <td>Запустить акцию, дающую скидку на товар в день рождения</td>\n",
       "      <td>16.20</td>\n",
       "    </tr>\n",
       "    <tr>\n",
       "      <th>0</th>\n",
       "      <td>Добавить два новых канала привлечения трафика, что позволит привлекать на 30% больше пользователей</td>\n",
       "      <td>13.33</td>\n",
       "    </tr>\n",
       "    <tr>\n",
       "      <th>7</th>\n",
       "      <td>Добавить форму подписки на все основные страницы, чтобы собрать базу клиентов для email-рассылок</td>\n",
       "      <td>11.20</td>\n",
       "    </tr>\n",
       "    <tr>\n",
       "      <th>6</th>\n",
       "      <td>Показать на главной странице баннеры с актуальными акциями и распродажами, чтобы увеличить конверсию</td>\n",
       "      <td>8.00</td>\n",
       "    </tr>\n",
       "    <tr>\n",
       "      <th>2</th>\n",
       "      <td>Добавить блоки рекомендаций товаров на сайт интернет магазина, чтобы повысить конверсию и средний чек заказа</td>\n",
       "      <td>7.00</td>\n",
       "    </tr>\n",
       "    <tr>\n",
       "      <th>1</th>\n",
       "      <td>Запустить собственную службу доставки, что сократит срок доставки заказов</td>\n",
       "      <td>2.00</td>\n",
       "    </tr>\n",
       "    <tr>\n",
       "      <th>5</th>\n",
       "      <td>Добавить страницу отзывов клиентов о магазине, что позволит увеличить количество заказов</td>\n",
       "      <td>1.33</td>\n",
       "    </tr>\n",
       "    <tr>\n",
       "      <th>3</th>\n",
       "      <td>Изменить структура категорий, что увеличит конверсию, т.к. пользователи быстрее найдут нужный товар</td>\n",
       "      <td>1.12</td>\n",
       "    </tr>\n",
       "    <tr>\n",
       "      <th>4</th>\n",
       "      <td>Изменить цвет фона главной страницы, чтобы увеличить вовлеченность пользователей</td>\n",
       "      <td>1.00</td>\n",
       "    </tr>\n",
       "  </tbody>\n",
       "</table>\n",
       "</div>"
      ],
      "text/plain": [
       "                                                                                                     Hypothesis  \\\n",
       "8                                                       Запустить акцию, дающую скидку на товар в день рождения   \n",
       "0            Добавить два новых канала привлечения трафика, что позволит привлекать на 30% больше пользователей   \n",
       "7              Добавить форму подписки на все основные страницы, чтобы собрать базу клиентов для email-рассылок   \n",
       "6          Показать на главной странице баннеры с актуальными акциями и распродажами, чтобы увеличить конверсию   \n",
       "2  Добавить блоки рекомендаций товаров на сайт интернет магазина, чтобы повысить конверсию и средний чек заказа   \n",
       "1                                     Запустить собственную службу доставки, что сократит срок доставки заказов   \n",
       "5                      Добавить страницу отзывов клиентов о магазине, что позволит увеличить количество заказов   \n",
       "3           Изменить структура категорий, что увеличит конверсию, т.к. пользователи быстрее найдут нужный товар   \n",
       "4                              Изменить цвет фона главной страницы, чтобы увеличить вовлеченность пользователей   \n",
       "\n",
       "     ICE  \n",
       "8  16.20  \n",
       "0  13.33  \n",
       "7  11.20  \n",
       "6   8.00  \n",
       "2   7.00  \n",
       "1   2.00  \n",
       "5   1.33  \n",
       "3   1.12  \n",
       "4   1.00  "
      ]
     },
     "metadata": {},
     "output_type": "display_data"
    }
   ],
   "source": [
    "df['ICE'] = (df['Impact'] * df['Confidence']) / df['Efforts']\n",
    "df_ice = round(df[['Hypothesis', 'ICE']], 2).sort_values(by = 'ICE', ascending = False) \n",
    "display(df_ice)"
   ]
  },
  {
   "cell_type": "markdown",
   "id": "2b7b2284",
   "metadata": {},
   "source": [
    "<div class=\"alert\"> <b>Приоритизация RICE</b> </div>"
   ]
  },
  {
   "cell_type": "code",
   "execution_count": 10,
   "id": "15c439a9",
   "metadata": {},
   "outputs": [
    {
     "data": {
      "text/html": [
       "<div>\n",
       "<style scoped>\n",
       "    .dataframe tbody tr th:only-of-type {\n",
       "        vertical-align: middle;\n",
       "    }\n",
       "\n",
       "    .dataframe tbody tr th {\n",
       "        vertical-align: top;\n",
       "    }\n",
       "\n",
       "    .dataframe thead th {\n",
       "        text-align: right;\n",
       "    }\n",
       "</style>\n",
       "<table border=\"1\" class=\"dataframe\">\n",
       "  <thead>\n",
       "    <tr style=\"text-align: right;\">\n",
       "      <th></th>\n",
       "      <th>Hypothesis</th>\n",
       "      <th>RICE</th>\n",
       "    </tr>\n",
       "  </thead>\n",
       "  <tbody>\n",
       "    <tr>\n",
       "      <th>7</th>\n",
       "      <td>Добавить форму подписки на все основные страницы, чтобы собрать базу клиентов для email-рассылок</td>\n",
       "      <td>112.0</td>\n",
       "    </tr>\n",
       "    <tr>\n",
       "      <th>2</th>\n",
       "      <td>Добавить блоки рекомендаций товаров на сайт интернет магазина, чтобы повысить конверсию и средний чек заказа</td>\n",
       "      <td>56.0</td>\n",
       "    </tr>\n",
       "    <tr>\n",
       "      <th>0</th>\n",
       "      <td>Добавить два новых канала привлечения трафика, что позволит привлекать на 30% больше пользователей</td>\n",
       "      <td>40.0</td>\n",
       "    </tr>\n",
       "    <tr>\n",
       "      <th>6</th>\n",
       "      <td>Показать на главной странице баннеры с актуальными акциями и распродажами, чтобы увеличить конверсию</td>\n",
       "      <td>40.0</td>\n",
       "    </tr>\n",
       "    <tr>\n",
       "      <th>8</th>\n",
       "      <td>Запустить акцию, дающую скидку на товар в день рождения</td>\n",
       "      <td>16.2</td>\n",
       "    </tr>\n",
       "    <tr>\n",
       "      <th>3</th>\n",
       "      <td>Изменить структура категорий, что увеличит конверсию, т.к. пользователи быстрее найдут нужный товар</td>\n",
       "      <td>9.0</td>\n",
       "    </tr>\n",
       "    <tr>\n",
       "      <th>1</th>\n",
       "      <td>Запустить собственную службу доставки, что сократит срок доставки заказов</td>\n",
       "      <td>4.0</td>\n",
       "    </tr>\n",
       "    <tr>\n",
       "      <th>5</th>\n",
       "      <td>Добавить страницу отзывов клиентов о магазине, что позволит увеличить количество заказов</td>\n",
       "      <td>4.0</td>\n",
       "    </tr>\n",
       "    <tr>\n",
       "      <th>4</th>\n",
       "      <td>Изменить цвет фона главной страницы, чтобы увеличить вовлеченность пользователей</td>\n",
       "      <td>3.0</td>\n",
       "    </tr>\n",
       "  </tbody>\n",
       "</table>\n",
       "</div>"
      ],
      "text/plain": [
       "                                                                                                     Hypothesis  \\\n",
       "7              Добавить форму подписки на все основные страницы, чтобы собрать базу клиентов для email-рассылок   \n",
       "2  Добавить блоки рекомендаций товаров на сайт интернет магазина, чтобы повысить конверсию и средний чек заказа   \n",
       "0            Добавить два новых канала привлечения трафика, что позволит привлекать на 30% больше пользователей   \n",
       "6          Показать на главной странице баннеры с актуальными акциями и распродажами, чтобы увеличить конверсию   \n",
       "8                                                       Запустить акцию, дающую скидку на товар в день рождения   \n",
       "3           Изменить структура категорий, что увеличит конверсию, т.к. пользователи быстрее найдут нужный товар   \n",
       "1                                     Запустить собственную службу доставки, что сократит срок доставки заказов   \n",
       "5                      Добавить страницу отзывов клиентов о магазине, что позволит увеличить количество заказов   \n",
       "4                              Изменить цвет фона главной страницы, чтобы увеличить вовлеченность пользователей   \n",
       "\n",
       "    RICE  \n",
       "7  112.0  \n",
       "2   56.0  \n",
       "0   40.0  \n",
       "6   40.0  \n",
       "8   16.2  \n",
       "3    9.0  \n",
       "1    4.0  \n",
       "5    4.0  \n",
       "4    3.0  "
      ]
     },
     "metadata": {},
     "output_type": "display_data"
    }
   ],
   "source": [
    "df['RICE'] = (df['Reach'] * df['Impact'] * df['Confidence']) / df['Efforts']\n",
    "df_rice = df[['Hypothesis', 'RICE']].sort_values(by = 'RICE', ascending = False) \n",
    "display(df_rice)"
   ]
  },
  {
   "cell_type": "markdown",
   "id": "ab219f29",
   "metadata": {},
   "source": [
    "### Выводы\n",
    "\n",
    "1. Приоритезация по ICE не учитывает величину охвата пользователей, поэтому чем больше уровень влияния и уверенности в данных, а усилий меньше, тем выше приоритет. RICE в расчете приритета учитывает такой показатель, как Reach (охват пользователей, на которых повлияет изменение). \n",
    "2. При расчете ICE самой приорететной гипотезой является гипотеза \"Запустить акцию, дающую скидку на товар в день рождения\", так как по совокупности показателей - уровня влияния, уверенности достоверности оценочных параметров и затраченных усилий на реализацию эта гипотеза получила максимальный балл. Но охват пользователей самый минимальный, что отодвигает эту гипотезу на 5-е место из 9-ти, если считать RICE.\n",
    "3. При расчете RICE самой приоритетной гипотезой является гипотеза \"Добавить форму подписки на все основные страницы, чтобы собрать базу клиентов для email-рассылок\" с большим отрывом от остальных, так как имеет максимальный показатель охвата из возможных."
   ]
  },
  {
   "cell_type": "markdown",
   "id": "3da88eaf",
   "metadata": {},
   "source": [
    "## Часть 2. Анализ A/B-теста"
   ]
  },
  {
   "cell_type": "markdown",
   "id": "689a72ce",
   "metadata": {},
   "source": [
    "**Мы провели A/B-тест и получили результаты, которые содержаться в файлах orders и visitors. Необходимо проанализировать результаты теста и по итогам принять или опровергнуть нулевую гипотезу. Нулевая гипотеза - между группами отсутствуют различия. Альтернативная гипотеза - между группами имеются значимые различия. Уровень значимости равен 0,05.**"
   ]
  },
  {
   "cell_type": "markdown",
   "id": "efd9ba5e",
   "metadata": {},
   "source": [
    "# Описание данных\n",
    "**Файл orders.csv**\n",
    " - transactionId — идентификатор заказа;\n",
    " - visitorId — идентификатор пользователя, совершившего заказ;\n",
    " - date — дата, когда был совершён заказ;\n",
    " - revenue — выручка заказа;\n",
    " - group — группа A/B-теста, в которую попал заказ."
   ]
  },
  {
   "cell_type": "markdown",
   "id": "b181a347",
   "metadata": {},
   "source": [
    "**Файл visitors.csv**\n",
    " - date — дата;\n",
    " - group — группа A/B-теста;\n",
    " - visitors — количество пользователей в указанную дату в указанной группе A/B-теста"
   ]
  },
  {
   "cell_type": "code",
   "execution_count": 38,
   "id": "24dee45b",
   "metadata": {},
   "outputs": [],
   "source": [
    "import pandas as pd\n",
    "from scipy import stats as st\n",
    "import numpy as np\n",
    "import datetime as dt\n",
    "import matplotlib.pyplot as plt\n",
    "from matplotlib.pyplot import figure"
   ]
  },
  {
   "cell_type": "code",
   "execution_count": 39,
   "id": "dc4dc648",
   "metadata": {},
   "outputs": [],
   "source": [
    "# загружаем данные\n",
    "orders = pd.read_csv('/datasets/orders.csv')\n",
    "visitors = pd.read_csv('/datasets/visitors.csv')"
   ]
  },
  {
   "cell_type": "markdown",
   "id": "92cf5ff3",
   "metadata": {},
   "source": [
    "### Предобработка данныз"
   ]
  },
  {
   "cell_type": "code",
   "execution_count": 40,
   "id": "cdff12b8",
   "metadata": {},
   "outputs": [
    {
     "data": {
      "text/html": [
       "<div>\n",
       "<style scoped>\n",
       "    .dataframe tbody tr th:only-of-type {\n",
       "        vertical-align: middle;\n",
       "    }\n",
       "\n",
       "    .dataframe tbody tr th {\n",
       "        vertical-align: top;\n",
       "    }\n",
       "\n",
       "    .dataframe thead th {\n",
       "        text-align: right;\n",
       "    }\n",
       "</style>\n",
       "<table border=\"1\" class=\"dataframe\">\n",
       "  <thead>\n",
       "    <tr style=\"text-align: right;\">\n",
       "      <th></th>\n",
       "      <th>transactionId</th>\n",
       "      <th>visitorId</th>\n",
       "      <th>date</th>\n",
       "      <th>revenue</th>\n",
       "      <th>group</th>\n",
       "    </tr>\n",
       "  </thead>\n",
       "  <tbody>\n",
       "    <tr>\n",
       "      <th>0</th>\n",
       "      <td>3667963787</td>\n",
       "      <td>3312258926</td>\n",
       "      <td>2019-08-15</td>\n",
       "      <td>1650</td>\n",
       "      <td>B</td>\n",
       "    </tr>\n",
       "    <tr>\n",
       "      <th>1</th>\n",
       "      <td>2804400009</td>\n",
       "      <td>3642806036</td>\n",
       "      <td>2019-08-15</td>\n",
       "      <td>730</td>\n",
       "      <td>B</td>\n",
       "    </tr>\n",
       "    <tr>\n",
       "      <th>2</th>\n",
       "      <td>2961555356</td>\n",
       "      <td>4069496402</td>\n",
       "      <td>2019-08-15</td>\n",
       "      <td>400</td>\n",
       "      <td>A</td>\n",
       "    </tr>\n",
       "    <tr>\n",
       "      <th>3</th>\n",
       "      <td>3797467345</td>\n",
       "      <td>1196621759</td>\n",
       "      <td>2019-08-15</td>\n",
       "      <td>9759</td>\n",
       "      <td>B</td>\n",
       "    </tr>\n",
       "    <tr>\n",
       "      <th>4</th>\n",
       "      <td>2282983706</td>\n",
       "      <td>2322279887</td>\n",
       "      <td>2019-08-15</td>\n",
       "      <td>2308</td>\n",
       "      <td>B</td>\n",
       "    </tr>\n",
       "  </tbody>\n",
       "</table>\n",
       "</div>"
      ],
      "text/plain": [
       "   transactionId   visitorId        date  revenue group\n",
       "0     3667963787  3312258926  2019-08-15     1650     B\n",
       "1     2804400009  3642806036  2019-08-15      730     B\n",
       "2     2961555356  4069496402  2019-08-15      400     A\n",
       "3     3797467345  1196621759  2019-08-15     9759     B\n",
       "4     2282983706  2322279887  2019-08-15     2308     B"
      ]
     },
     "execution_count": 40,
     "metadata": {},
     "output_type": "execute_result"
    }
   ],
   "source": [
    "# предобработка данных orders\n",
    "orders.head()"
   ]
  },
  {
   "cell_type": "code",
   "execution_count": 41,
   "id": "5d69c93e",
   "metadata": {},
   "outputs": [
    {
     "name": "stdout",
     "output_type": "stream",
     "text": [
      "<class 'pandas.core.frame.DataFrame'>\n",
      "RangeIndex: 1197 entries, 0 to 1196\n",
      "Data columns (total 5 columns):\n",
      " #   Column         Non-Null Count  Dtype \n",
      "---  ------         --------------  ----- \n",
      " 0   transactionId  1197 non-null   int64 \n",
      " 1   visitorId      1197 non-null   int64 \n",
      " 2   date           1197 non-null   object\n",
      " 3   revenue        1197 non-null   int64 \n",
      " 4   group          1197 non-null   object\n",
      "dtypes: int64(3), object(2)\n",
      "memory usage: 46.9+ KB\n"
     ]
    }
   ],
   "source": [
    "orders.info()"
   ]
  },
  {
   "cell_type": "code",
   "execution_count": 42,
   "id": "5bb8f2f8",
   "metadata": {},
   "outputs": [
    {
     "data": {
      "text/plain": [
       "array(['B', 'A'], dtype=object)"
      ]
     },
     "execution_count": 42,
     "metadata": {},
     "output_type": "execute_result"
    }
   ],
   "source": [
    "orders['group'].unique()"
   ]
  },
  {
   "cell_type": "code",
   "execution_count": 43,
   "id": "f34c5478",
   "metadata": {},
   "outputs": [],
   "source": [
    "# приводим orders['date'] к типу datetime\n",
    "orders['date'] = orders['date'].map(lambda x: dt.datetime.strptime(x, '%Y-%m-%d'))"
   ]
  },
  {
   "cell_type": "code",
   "execution_count": 44,
   "id": "8b13104b",
   "metadata": {},
   "outputs": [
    {
     "data": {
      "text/plain": [
       "0"
      ]
     },
     "execution_count": 44,
     "metadata": {},
     "output_type": "execute_result"
    }
   ],
   "source": [
    "orders.duplicated().sum()"
   ]
  },
  {
   "cell_type": "code",
   "execution_count": 45,
   "id": "a43e0f32",
   "metadata": {},
   "outputs": [
    {
     "data": {
      "text/plain": [
       "transactionId    557\n",
       "visitorId        557\n",
       "date             557\n",
       "revenue          557\n",
       "group            557\n",
       "dtype: int64"
      ]
     },
     "execution_count": 45,
     "metadata": {},
     "output_type": "execute_result"
    }
   ],
   "source": [
    "orders[orders['group'] =='A'].count()"
   ]
  },
  {
   "cell_type": "code",
   "execution_count": 46,
   "id": "6e88f221",
   "metadata": {},
   "outputs": [
    {
     "data": {
      "text/html": [
       "<div>\n",
       "<style scoped>\n",
       "    .dataframe tbody tr th:only-of-type {\n",
       "        vertical-align: middle;\n",
       "    }\n",
       "\n",
       "    .dataframe tbody tr th {\n",
       "        vertical-align: top;\n",
       "    }\n",
       "\n",
       "    .dataframe thead th {\n",
       "        text-align: right;\n",
       "    }\n",
       "</style>\n",
       "<table border=\"1\" class=\"dataframe\">\n",
       "  <thead>\n",
       "    <tr style=\"text-align: right;\">\n",
       "      <th></th>\n",
       "      <th>date</th>\n",
       "      <th>group</th>\n",
       "      <th>visitors</th>\n",
       "    </tr>\n",
       "  </thead>\n",
       "  <tbody>\n",
       "    <tr>\n",
       "      <th>0</th>\n",
       "      <td>2019-08-01</td>\n",
       "      <td>A</td>\n",
       "      <td>719</td>\n",
       "    </tr>\n",
       "    <tr>\n",
       "      <th>1</th>\n",
       "      <td>2019-08-02</td>\n",
       "      <td>A</td>\n",
       "      <td>619</td>\n",
       "    </tr>\n",
       "    <tr>\n",
       "      <th>2</th>\n",
       "      <td>2019-08-03</td>\n",
       "      <td>A</td>\n",
       "      <td>507</td>\n",
       "    </tr>\n",
       "    <tr>\n",
       "      <th>3</th>\n",
       "      <td>2019-08-04</td>\n",
       "      <td>A</td>\n",
       "      <td>717</td>\n",
       "    </tr>\n",
       "    <tr>\n",
       "      <th>4</th>\n",
       "      <td>2019-08-05</td>\n",
       "      <td>A</td>\n",
       "      <td>756</td>\n",
       "    </tr>\n",
       "  </tbody>\n",
       "</table>\n",
       "</div>"
      ],
      "text/plain": [
       "         date group  visitors\n",
       "0  2019-08-01     A       719\n",
       "1  2019-08-02     A       619\n",
       "2  2019-08-03     A       507\n",
       "3  2019-08-04     A       717\n",
       "4  2019-08-05     A       756"
      ]
     },
     "execution_count": 46,
     "metadata": {},
     "output_type": "execute_result"
    }
   ],
   "source": [
    "# предобработка данных visitors\n",
    "visitors.head()"
   ]
  },
  {
   "cell_type": "code",
   "execution_count": 47,
   "id": "d4490359",
   "metadata": {},
   "outputs": [
    {
     "name": "stdout",
     "output_type": "stream",
     "text": [
      "<class 'pandas.core.frame.DataFrame'>\n",
      "RangeIndex: 62 entries, 0 to 61\n",
      "Data columns (total 3 columns):\n",
      " #   Column    Non-Null Count  Dtype \n",
      "---  ------    --------------  ----- \n",
      " 0   date      62 non-null     object\n",
      " 1   group     62 non-null     object\n",
      " 2   visitors  62 non-null     int64 \n",
      "dtypes: int64(1), object(2)\n",
      "memory usage: 1.6+ KB\n"
     ]
    }
   ],
   "source": [
    "visitors.info()"
   ]
  },
  {
   "cell_type": "code",
   "execution_count": 48,
   "id": "c6e54820",
   "metadata": {},
   "outputs": [
    {
     "data": {
      "text/plain": [
       "array(['A', 'B'], dtype=object)"
      ]
     },
     "execution_count": 48,
     "metadata": {},
     "output_type": "execute_result"
    }
   ],
   "source": [
    "visitors['group'].unique()"
   ]
  },
  {
   "cell_type": "code",
   "execution_count": 49,
   "id": "4e9c04c0",
   "metadata": {},
   "outputs": [],
   "source": [
    "# приводим visitors['date'] к типу datetime\n",
    "visitors['date'] = visitors['date'].map(lambda x: dt.datetime.strptime(x, '%Y-%m-%d'))"
   ]
  },
  {
   "cell_type": "markdown",
   "id": "ac44382f",
   "metadata": {},
   "source": [
    "### Кумулятивная выручка по группам"
   ]
  },
  {
   "cell_type": "code",
   "execution_count": 54,
   "id": "f420b53a",
   "metadata": {},
   "outputs": [],
   "source": [
    "# создадим массив уникальных пар значений дат и групп теста\n",
    "dates_groups = orders[['date', 'group']].drop_duplicates()"
   ]
  },
  {
   "cell_type": "code",
   "execution_count": 55,
   "id": "98f681de",
   "metadata": {},
   "outputs": [],
   "source": [
    "# получим куммулятивные данные по выручке из таблицы orders\n",
    "orders_cumulative = dates_groups.apply(lambda x: orders[np.logical_and(orders['date'] <= x['date'], orders['group'] == x['group'])].agg({'date':'max', 'group':'max', 'transactionId':'nunique', 'visitorId':'nunique', 'revenue':'sum'}), axis = 1).sort_values(by=['date', 'group'])"
   ]
  },
  {
   "cell_type": "code",
   "execution_count": 56,
   "id": "29f17d7a",
   "metadata": {},
   "outputs": [
    {
     "data": {
      "text/html": [
       "<div>\n",
       "<style scoped>\n",
       "    .dataframe tbody tr th:only-of-type {\n",
       "        vertical-align: middle;\n",
       "    }\n",
       "\n",
       "    .dataframe tbody tr th {\n",
       "        vertical-align: top;\n",
       "    }\n",
       "\n",
       "    .dataframe thead th {\n",
       "        text-align: right;\n",
       "    }\n",
       "</style>\n",
       "<table border=\"1\" class=\"dataframe\">\n",
       "  <thead>\n",
       "    <tr style=\"text-align: right;\">\n",
       "      <th></th>\n",
       "      <th>date</th>\n",
       "      <th>group</th>\n",
       "      <th>transactionId</th>\n",
       "      <th>visitorId</th>\n",
       "      <th>revenue</th>\n",
       "    </tr>\n",
       "  </thead>\n",
       "  <tbody>\n",
       "    <tr>\n",
       "      <th>55</th>\n",
       "      <td>2019-08-01</td>\n",
       "      <td>A</td>\n",
       "      <td>24</td>\n",
       "      <td>20</td>\n",
       "      <td>148579</td>\n",
       "    </tr>\n",
       "    <tr>\n",
       "      <th>66</th>\n",
       "      <td>2019-08-01</td>\n",
       "      <td>B</td>\n",
       "      <td>21</td>\n",
       "      <td>20</td>\n",
       "      <td>101217</td>\n",
       "    </tr>\n",
       "    <tr>\n",
       "      <th>175</th>\n",
       "      <td>2019-08-02</td>\n",
       "      <td>A</td>\n",
       "      <td>44</td>\n",
       "      <td>38</td>\n",
       "      <td>242401</td>\n",
       "    </tr>\n",
       "    <tr>\n",
       "      <th>173</th>\n",
       "      <td>2019-08-02</td>\n",
       "      <td>B</td>\n",
       "      <td>45</td>\n",
       "      <td>43</td>\n",
       "      <td>266748</td>\n",
       "    </tr>\n",
       "    <tr>\n",
       "      <th>291</th>\n",
       "      <td>2019-08-03</td>\n",
       "      <td>A</td>\n",
       "      <td>68</td>\n",
       "      <td>62</td>\n",
       "      <td>354874</td>\n",
       "    </tr>\n",
       "    <tr>\n",
       "      <th>...</th>\n",
       "      <td>...</td>\n",
       "      <td>...</td>\n",
       "      <td>...</td>\n",
       "      <td>...</td>\n",
       "      <td>...</td>\n",
       "    </tr>\n",
       "    <tr>\n",
       "      <th>496</th>\n",
       "      <td>2019-08-29</td>\n",
       "      <td>B</td>\n",
       "      <td>596</td>\n",
       "      <td>544</td>\n",
       "      <td>5559398</td>\n",
       "    </tr>\n",
       "    <tr>\n",
       "      <th>730</th>\n",
       "      <td>2019-08-30</td>\n",
       "      <td>A</td>\n",
       "      <td>545</td>\n",
       "      <td>493</td>\n",
       "      <td>4022970</td>\n",
       "    </tr>\n",
       "    <tr>\n",
       "      <th>690</th>\n",
       "      <td>2019-08-30</td>\n",
       "      <td>B</td>\n",
       "      <td>620</td>\n",
       "      <td>567</td>\n",
       "      <td>5774631</td>\n",
       "    </tr>\n",
       "    <tr>\n",
       "      <th>958</th>\n",
       "      <td>2019-08-31</td>\n",
       "      <td>A</td>\n",
       "      <td>557</td>\n",
       "      <td>503</td>\n",
       "      <td>4084803</td>\n",
       "    </tr>\n",
       "    <tr>\n",
       "      <th>930</th>\n",
       "      <td>2019-08-31</td>\n",
       "      <td>B</td>\n",
       "      <td>640</td>\n",
       "      <td>586</td>\n",
       "      <td>5907760</td>\n",
       "    </tr>\n",
       "  </tbody>\n",
       "</table>\n",
       "<p>62 rows × 5 columns</p>\n",
       "</div>"
      ],
      "text/plain": [
       "          date group  transactionId  visitorId  revenue\n",
       "55  2019-08-01     A             24         20   148579\n",
       "66  2019-08-01     B             21         20   101217\n",
       "175 2019-08-02     A             44         38   242401\n",
       "173 2019-08-02     B             45         43   266748\n",
       "291 2019-08-03     A             68         62   354874\n",
       "..         ...   ...            ...        ...      ...\n",
       "496 2019-08-29     B            596        544  5559398\n",
       "730 2019-08-30     A            545        493  4022970\n",
       "690 2019-08-30     B            620        567  5774631\n",
       "958 2019-08-31     A            557        503  4084803\n",
       "930 2019-08-31     B            640        586  5907760\n",
       "\n",
       "[62 rows x 5 columns]"
      ]
     },
     "execution_count": 56,
     "metadata": {},
     "output_type": "execute_result"
    }
   ],
   "source": [
    "orders_cumulative"
   ]
  },
  {
   "cell_type": "code",
   "execution_count": 57,
   "id": "e169126b",
   "metadata": {},
   "outputs": [],
   "source": [
    "# получим куммулятивные данные о посетителях из таблицы visitors\n",
    "visitors_cumulative = dates_groups.apply(lambda x: visitors[np.logical_and(visitors['date'] <= x['date'], visitors['group'] == x['group'])].agg({'date':'max', 'group':'max', 'visitors':'sum'}), axis = 1).sort_values(by=['date', 'group'])"
   ]
  },
  {
   "cell_type": "code",
   "execution_count": 58,
   "id": "b6afda9e",
   "metadata": {},
   "outputs": [
    {
     "data": {
      "text/html": [
       "<div>\n",
       "<style scoped>\n",
       "    .dataframe tbody tr th:only-of-type {\n",
       "        vertical-align: middle;\n",
       "    }\n",
       "\n",
       "    .dataframe tbody tr th {\n",
       "        vertical-align: top;\n",
       "    }\n",
       "\n",
       "    .dataframe thead th {\n",
       "        text-align: right;\n",
       "    }\n",
       "</style>\n",
       "<table border=\"1\" class=\"dataframe\">\n",
       "  <thead>\n",
       "    <tr style=\"text-align: right;\">\n",
       "      <th></th>\n",
       "      <th>date</th>\n",
       "      <th>group</th>\n",
       "      <th>visitors</th>\n",
       "    </tr>\n",
       "  </thead>\n",
       "  <tbody>\n",
       "    <tr>\n",
       "      <th>55</th>\n",
       "      <td>2019-08-01</td>\n",
       "      <td>A</td>\n",
       "      <td>719</td>\n",
       "    </tr>\n",
       "    <tr>\n",
       "      <th>66</th>\n",
       "      <td>2019-08-01</td>\n",
       "      <td>B</td>\n",
       "      <td>713</td>\n",
       "    </tr>\n",
       "    <tr>\n",
       "      <th>175</th>\n",
       "      <td>2019-08-02</td>\n",
       "      <td>A</td>\n",
       "      <td>1338</td>\n",
       "    </tr>\n",
       "    <tr>\n",
       "      <th>173</th>\n",
       "      <td>2019-08-02</td>\n",
       "      <td>B</td>\n",
       "      <td>1294</td>\n",
       "    </tr>\n",
       "    <tr>\n",
       "      <th>291</th>\n",
       "      <td>2019-08-03</td>\n",
       "      <td>A</td>\n",
       "      <td>1845</td>\n",
       "    </tr>\n",
       "    <tr>\n",
       "      <th>...</th>\n",
       "      <td>...</td>\n",
       "      <td>...</td>\n",
       "      <td>...</td>\n",
       "    </tr>\n",
       "    <tr>\n",
       "      <th>496</th>\n",
       "      <td>2019-08-29</td>\n",
       "      <td>B</td>\n",
       "      <td>17708</td>\n",
       "    </tr>\n",
       "    <tr>\n",
       "      <th>730</th>\n",
       "      <td>2019-08-30</td>\n",
       "      <td>A</td>\n",
       "      <td>18037</td>\n",
       "    </tr>\n",
       "    <tr>\n",
       "      <th>690</th>\n",
       "      <td>2019-08-30</td>\n",
       "      <td>B</td>\n",
       "      <td>18198</td>\n",
       "    </tr>\n",
       "    <tr>\n",
       "      <th>958</th>\n",
       "      <td>2019-08-31</td>\n",
       "      <td>A</td>\n",
       "      <td>18736</td>\n",
       "    </tr>\n",
       "    <tr>\n",
       "      <th>930</th>\n",
       "      <td>2019-08-31</td>\n",
       "      <td>B</td>\n",
       "      <td>18916</td>\n",
       "    </tr>\n",
       "  </tbody>\n",
       "</table>\n",
       "<p>62 rows × 3 columns</p>\n",
       "</div>"
      ],
      "text/plain": [
       "          date group  visitors\n",
       "55  2019-08-01     A       719\n",
       "66  2019-08-01     B       713\n",
       "175 2019-08-02     A      1338\n",
       "173 2019-08-02     B      1294\n",
       "291 2019-08-03     A      1845\n",
       "..         ...   ...       ...\n",
       "496 2019-08-29     B     17708\n",
       "730 2019-08-30     A     18037\n",
       "690 2019-08-30     B     18198\n",
       "958 2019-08-31     A     18736\n",
       "930 2019-08-31     B     18916\n",
       "\n",
       "[62 rows x 3 columns]"
      ]
     },
     "execution_count": 58,
     "metadata": {},
     "output_type": "execute_result"
    }
   ],
   "source": [
    "visitors_cumulative"
   ]
  },
  {
   "cell_type": "code",
   "execution_count": 59,
   "id": "ab4e34fb",
   "metadata": {},
   "outputs": [
    {
     "data": {
      "text/html": [
       "<div>\n",
       "<style scoped>\n",
       "    .dataframe tbody tr th:only-of-type {\n",
       "        vertical-align: middle;\n",
       "    }\n",
       "\n",
       "    .dataframe tbody tr th {\n",
       "        vertical-align: top;\n",
       "    }\n",
       "\n",
       "    .dataframe thead th {\n",
       "        text-align: right;\n",
       "    }\n",
       "</style>\n",
       "<table border=\"1\" class=\"dataframe\">\n",
       "  <thead>\n",
       "    <tr style=\"text-align: right;\">\n",
       "      <th></th>\n",
       "      <th>date</th>\n",
       "      <th>group</th>\n",
       "      <th>orders</th>\n",
       "      <th>buyers</th>\n",
       "      <th>revenue</th>\n",
       "      <th>visitors</th>\n",
       "    </tr>\n",
       "  </thead>\n",
       "  <tbody>\n",
       "    <tr>\n",
       "      <th>0</th>\n",
       "      <td>2019-08-01</td>\n",
       "      <td>A</td>\n",
       "      <td>24</td>\n",
       "      <td>20</td>\n",
       "      <td>148579</td>\n",
       "      <td>719</td>\n",
       "    </tr>\n",
       "    <tr>\n",
       "      <th>1</th>\n",
       "      <td>2019-08-01</td>\n",
       "      <td>B</td>\n",
       "      <td>21</td>\n",
       "      <td>20</td>\n",
       "      <td>101217</td>\n",
       "      <td>713</td>\n",
       "    </tr>\n",
       "    <tr>\n",
       "      <th>2</th>\n",
       "      <td>2019-08-02</td>\n",
       "      <td>A</td>\n",
       "      <td>44</td>\n",
       "      <td>38</td>\n",
       "      <td>242401</td>\n",
       "      <td>1338</td>\n",
       "    </tr>\n",
       "    <tr>\n",
       "      <th>3</th>\n",
       "      <td>2019-08-02</td>\n",
       "      <td>B</td>\n",
       "      <td>45</td>\n",
       "      <td>43</td>\n",
       "      <td>266748</td>\n",
       "      <td>1294</td>\n",
       "    </tr>\n",
       "    <tr>\n",
       "      <th>4</th>\n",
       "      <td>2019-08-03</td>\n",
       "      <td>A</td>\n",
       "      <td>68</td>\n",
       "      <td>62</td>\n",
       "      <td>354874</td>\n",
       "      <td>1845</td>\n",
       "    </tr>\n",
       "    <tr>\n",
       "      <th>...</th>\n",
       "      <td>...</td>\n",
       "      <td>...</td>\n",
       "      <td>...</td>\n",
       "      <td>...</td>\n",
       "      <td>...</td>\n",
       "      <td>...</td>\n",
       "    </tr>\n",
       "    <tr>\n",
       "      <th>57</th>\n",
       "      <td>2019-08-29</td>\n",
       "      <td>B</td>\n",
       "      <td>596</td>\n",
       "      <td>544</td>\n",
       "      <td>5559398</td>\n",
       "      <td>17708</td>\n",
       "    </tr>\n",
       "    <tr>\n",
       "      <th>58</th>\n",
       "      <td>2019-08-30</td>\n",
       "      <td>A</td>\n",
       "      <td>545</td>\n",
       "      <td>493</td>\n",
       "      <td>4022970</td>\n",
       "      <td>18037</td>\n",
       "    </tr>\n",
       "    <tr>\n",
       "      <th>59</th>\n",
       "      <td>2019-08-30</td>\n",
       "      <td>B</td>\n",
       "      <td>620</td>\n",
       "      <td>567</td>\n",
       "      <td>5774631</td>\n",
       "      <td>18198</td>\n",
       "    </tr>\n",
       "    <tr>\n",
       "      <th>60</th>\n",
       "      <td>2019-08-31</td>\n",
       "      <td>A</td>\n",
       "      <td>557</td>\n",
       "      <td>503</td>\n",
       "      <td>4084803</td>\n",
       "      <td>18736</td>\n",
       "    </tr>\n",
       "    <tr>\n",
       "      <th>61</th>\n",
       "      <td>2019-08-31</td>\n",
       "      <td>B</td>\n",
       "      <td>640</td>\n",
       "      <td>586</td>\n",
       "      <td>5907760</td>\n",
       "      <td>18916</td>\n",
       "    </tr>\n",
       "  </tbody>\n",
       "</table>\n",
       "<p>62 rows × 6 columns</p>\n",
       "</div>"
      ],
      "text/plain": [
       "         date group  orders  buyers  revenue  visitors\n",
       "0  2019-08-01     A      24      20   148579       719\n",
       "1  2019-08-01     B      21      20   101217       713\n",
       "2  2019-08-02     A      44      38   242401      1338\n",
       "3  2019-08-02     B      45      43   266748      1294\n",
       "4  2019-08-03     A      68      62   354874      1845\n",
       "..        ...   ...     ...     ...      ...       ...\n",
       "57 2019-08-29     B     596     544  5559398     17708\n",
       "58 2019-08-30     A     545     493  4022970     18037\n",
       "59 2019-08-30     B     620     567  5774631     18198\n",
       "60 2019-08-31     A     557     503  4084803     18736\n",
       "61 2019-08-31     B     640     586  5907760     18916\n",
       "\n",
       "[62 rows x 6 columns]"
      ]
     },
     "execution_count": 59,
     "metadata": {},
     "output_type": "execute_result"
    }
   ],
   "source": [
    "# объединим visitors_cumulative и orders_cumulative\n",
    "cumulative_data = orders_cumulative.merge(visitors_cumulative, left_on = ['date', 'group'], right_on = ['date', 'group'])\n",
    "cumulative_data.columns = ['date', 'group', 'orders', 'buyers', 'revenue', 'visitors']\n",
    "cumulative_data"
   ]
  },
  {
   "cell_type": "markdown",
   "id": "a72c5b06",
   "metadata": {},
   "source": [
    "<div class=\"alert\"> <b>Построим график кумулятивной выручки по группам</b> </div>"
   ]
  },
  {
   "cell_type": "code",
   "execution_count": 60,
   "id": "46006bf7",
   "metadata": {},
   "outputs": [],
   "source": [
    "cumulative_revenueA = cumulative_data[cumulative_data['group'] == 'A'][['date', 'revenue', 'orders', 'visitors']]"
   ]
  },
  {
   "cell_type": "code",
   "execution_count": 61,
   "id": "632614ca",
   "metadata": {},
   "outputs": [],
   "source": [
    "cumulative_revenueB = cumulative_data[cumulative_data['group'] == 'B'][['date', 'revenue', 'orders', 'visitors']]"
   ]
  },
  {
   "cell_type": "code",
   "execution_count": 62,
   "id": "13b50f25",
   "metadata": {},
   "outputs": [
    {
     "data": {
      "image/png": "[encoded data removed]",
      "text/plain": [
       "<Figure size 792x504 with 1 Axes>"
      ]
     },
     "metadata": {
      "needs_background": "light"
     },
     "output_type": "display_data"
    }
   ],
   "source": [
    "plt.figure(figsize=(11, 7))\n",
    "plt.plot(cumulative_revenueA['date'], cumulative_revenueA['revenue'], label = 'A')\n",
    "plt.plot(cumulative_revenueB['date'], cumulative_revenueB['revenue'], label = 'B')\n",
    "plt.legend()\n",
    "plt.title(\"График кумулятивной выручки по группам\")\n",
    "plt.xlabel(\"Дата\")\n",
    "plt.ylabel(\"Выручка в млн. руб.\")\n",
    "plt.show()"
   ]
  },
  {
   "cell_type": "markdown",
   "id": "03927bf2",
   "metadata": {},
   "source": [
    "#### ВЫВОД:\n",
    "1. Кумулятивная выручка группы 'В' через 5 дней после начала теста стала незначительно увеличиваться по сравнению с группой 'А', затем по итогам 2-х недель теста выручки сравнялись, после чего группа 'В' снова стала вырываться вперед. На 20-й день теста произошел резкий рост кумулятивной выручки группы 'В' и до конца теста этот отрыв остался.\n",
    "2. Похоже резкий рост группы 'B' связан либо с аномальным ростом чека, либо с резким увеличением заказов, так как после этого рост был равномерным."
   ]
  },
  {
   "cell_type": "markdown",
   "id": "6489c81a",
   "metadata": {},
   "source": [
    "### Построим график кумулятивного среднего чека по группам"
   ]
  },
  {
   "cell_type": "code",
   "execution_count": 64,
   "id": "97276579",
   "metadata": {},
   "outputs": [
    {
     "data": {
      "image/png": "[encoded data removed]",
      "text/plain": [
       "<Figure size 648x360 with 1 Axes>"
      ]
     },
     "metadata": {
      "needs_background": "light"
     },
     "output_type": "display_data"
    }
   ],
   "source": [
    "plt.figure(figsize=(9, 5))\n",
    "plt.plot(cumulative_revenueA['date'], cumulative_revenueA['revenue']/cumulative_revenueA['orders'], label = 'A')\n",
    "plt.plot(cumulative_revenueB['date'], cumulative_revenueB['revenue']/cumulative_revenueB['orders'], label = 'B')\n",
    "plt.legend()\n",
    "plt.title(\"График кумулятивного среднего чека по группам\")\n",
    "plt.xlabel(\"Дата\")\n",
    "plt.ylabel(\"Выручка в тыс. руб.\")\n",
    "plt.show()"
   ]
  },
  {
   "cell_type": "markdown",
   "id": "b68114ba",
   "metadata": {},
   "source": [
    "#### ВЫВОД:\n",
    "1. На 19 и 20-й день произошел резкий рост среднего чека группы 'В', а затем до конца теста идет плавное снижение.\n",
    "2. Похоже на какую-то аномально большую покупку."
   ]
  },
  {
   "cell_type": "markdown",
   "id": "3dca386f",
   "metadata": {},
   "source": [
    "### Построим график относительного изменения кумулятивного среднего чека группы B к группе A. "
   ]
  },
  {
   "cell_type": "code",
   "execution_count": 65,
   "id": "a37a2daf",
   "metadata": {},
   "outputs": [],
   "source": [
    "# объединим куммулятивные данные\n",
    "cumulative_revenue = cumulative_revenueA.merge(cumulative_revenueB, left_on = 'date', right_on = 'date', how = 'left', suffixes = ['A', 'B'])"
   ]
  },
  {
   "cell_type": "code",
   "execution_count": 66,
   "id": "e975e35d",
   "metadata": {},
   "outputs": [
    {
     "data": {
      "image/png": "[encoded data removed]",
      "text/plain": [
       "<Figure size 648x360 with 1 Axes>"
      ]
     },
     "metadata": {
      "needs_background": "light"
     },
     "output_type": "display_data"
    }
   ],
   "source": [
    "plt.figure(figsize=(9, 5))\n",
    "plt.plot(cumulative_revenue['date'], (cumulative_revenue['revenueB']/cumulative_revenue['ordersB'])/(cumulative_revenue['revenueA']/cumulative_revenue['ordersA'])-1)\n",
    "# добавим нулевую ось\n",
    "plt.axhline(y=0, color = 'black', linestyle = '--')\n",
    "plt.show()"
   ]
  },
  {
   "cell_type": "markdown",
   "id": "a59b863d",
   "metadata": {},
   "source": [
    "#### ВЫВОД:\n",
    "Под конец второй недели теста средний чек группы 'B' снизился более чем на 10% по отношениию к группе 'A', но затем средние чеки практически сравнялись. В конце третей недели произошел резкий рост (практически 50%) среднего чека группы 'B' по отношению к 'A'. После резкого роста и до конца теста идет плавное снижение среднего чека группы 'B' по отношению к 'A'."
   ]
  },
  {
   "cell_type": "markdown",
   "id": "b6adca43",
   "metadata": {},
   "source": [
    "### Построим график кумулятивного среднего количества заказов на посетителя по группам."
   ]
  },
  {
   "cell_type": "code",
   "execution_count": 67,
   "id": "29a5771c",
   "metadata": {},
   "outputs": [
    {
     "data": {
      "image/png": "[encoded data removed]",
      "text/plain": [
       "<Figure size 648x360 with 1 Axes>"
      ]
     },
     "metadata": {
      "needs_background": "light"
     },
     "output_type": "display_data"
    }
   ],
   "source": [
    "plt.figure(figsize=(9, 5))\n",
    "plt.plot(cumulative_revenueA['date'], cumulative_revenueA['orders']/cumulative_revenueA['visitors'], label = 'A')\n",
    "plt.plot(cumulative_revenueB['date'], cumulative_revenueB['orders']/cumulative_revenueB['visitors'], label = 'B')\n",
    "plt.legend()\n",
    "plt.title(\"График кумулятивного среднего кол-ва заказов по группам\")\n",
    "plt.xlabel(\"Дата\")\n",
    "plt.show()"
   ]
  },
  {
   "cell_type": "markdown",
   "id": "485172f3",
   "metadata": {},
   "source": [
    "#### ВЫВОД: \n",
    "1. За первую неделю теста наблюдаются резкие скачки значений, но к концу теста происходит стабилизация значений; \n",
    "2. В среднем количество заказов на посетителя больше в группе 'B'."
   ]
  },
  {
   "cell_type": "markdown",
   "id": "1cf4f4c9",
   "metadata": {},
   "source": [
    "### Построим график относительного изменения кумулятивного среднего количества заказов на посетителя группы B к группе A."
   ]
  },
  {
   "cell_type": "code",
   "execution_count": 68,
   "id": "541f2907",
   "metadata": {},
   "outputs": [
    {
     "data": {
      "image/png": "[encoded data removed]",
      "text/plain": [
       "<Figure size 648x360 with 1 Axes>"
      ]
     },
     "metadata": {
      "needs_background": "light"
     },
     "output_type": "display_data"
    }
   ],
   "source": [
    "plt.figure(figsize=(9, 5))\n",
    "plt.plot(cumulative_revenue['date'], (cumulative_revenue['ordersB']/cumulative_revenue['visitorsB'])/(cumulative_revenue['ordersA']/cumulative_revenue['visitorsA'])-1)\n",
    "# добавим нулевую ось\n",
    "plt.axhline(y=0, color = 'black', linestyle = '--')\n",
    "plt.title(\"График относительного изменения кумулятивного среднего кол-ва заказов на посетителя группы В к группе А\")\n",
    "plt.xlabel(\"Дата\")\n",
    "plt.show()"
   ]
  },
  {
   "cell_type": "markdown",
   "id": "83429a5b",
   "metadata": {},
   "source": [
    "#### ВЫВОД: \n",
    "1. В первые дни теста наблюдаются резкие скачки значений, к концу второй недели теста значения стабилизируются;\n",
    "2. В группе В стабильно больше среднее число заказов на покупателя. "
   ]
  },
  {
   "cell_type": "markdown",
   "id": "4ddf028c",
   "metadata": {},
   "source": [
    "### Построим точечный график количества заказов по пользователям. "
   ]
  },
  {
   "cell_type": "code",
   "execution_count": 69,
   "id": "37dde6ea",
   "metadata": {},
   "outputs": [],
   "source": [
    "orders_by_users = orders.groupby('visitorId', as_index = False).agg({'transactionId':'nunique'})\n",
    "orders_by_users.columns = ['user_id', 'orders']\n",
    "orders_by_users = orders_by_users.sort_values(by = 'orders', ascending = False)"
   ]
  },
  {
   "cell_type": "code",
   "execution_count": 70,
   "id": "f94c625f",
   "metadata": {},
   "outputs": [
    {
     "data": {
      "image/png": "[encoded data removed]",
      "text/plain": [
       "<Figure size 432x288 with 1 Axes>"
      ]
     },
     "metadata": {
      "needs_background": "light"
     },
     "output_type": "display_data"
    }
   ],
   "source": [
    "x_values = pd.Series(range(0, len(orders_by_users)))\n",
    "plt.scatter(x_values, orders_by_users['orders'])\n",
    "plt.show()"
   ]
  },
  {
   "cell_type": "markdown",
   "id": "6f8c0012",
   "metadata": {},
   "source": [
    "#### ВЫВОДЫ:\n",
    "Основная часть пользователей делает по одному заказу, реже 2."
   ]
  },
  {
   "cell_type": "markdown",
   "id": "6cc2ee52",
   "metadata": {},
   "source": [
    "### Посчитаем 95-й и 99-й перцентили количества заказов на пользователя. Выберем границу для определения аномальных пользователей."
   ]
  },
  {
   "cell_type": "code",
   "execution_count": 71,
   "id": "f9d0edcd",
   "metadata": {},
   "outputs": [
    {
     "data": {
      "text/plain": [
       "array([2., 4.])"
      ]
     },
     "execution_count": 71,
     "metadata": {},
     "output_type": "execute_result"
    }
   ],
   "source": [
    "np.percentile(orders_by_users['orders'], [95,99])"
   ]
  },
  {
   "cell_type": "markdown",
   "id": "f4870517",
   "metadata": {},
   "source": [
    "#### ВЫВОД: будем считать, что аномальные пользователи это те, кто сделал более двух закзов."
   ]
  },
  {
   "cell_type": "markdown",
   "id": "c90b7036",
   "metadata": {},
   "source": [
    "### Построим точечный график стоимостей заказов."
   ]
  },
  {
   "cell_type": "code",
   "execution_count": 72,
   "id": "f843fabb",
   "metadata": {},
   "outputs": [
    {
     "data": {
      "text/html": [
       "<div>\n",
       "<style scoped>\n",
       "    .dataframe tbody tr th:only-of-type {\n",
       "        vertical-align: middle;\n",
       "    }\n",
       "\n",
       "    .dataframe tbody tr th {\n",
       "        vertical-align: top;\n",
       "    }\n",
       "\n",
       "    .dataframe thead th {\n",
       "        text-align: right;\n",
       "    }\n",
       "</style>\n",
       "<table border=\"1\" class=\"dataframe\">\n",
       "  <thead>\n",
       "    <tr style=\"text-align: right;\">\n",
       "      <th></th>\n",
       "      <th>transactionId</th>\n",
       "      <th>visitorId</th>\n",
       "      <th>date</th>\n",
       "      <th>revenue</th>\n",
       "      <th>group</th>\n",
       "    </tr>\n",
       "  </thead>\n",
       "  <tbody>\n",
       "    <tr>\n",
       "      <th>0</th>\n",
       "      <td>3667963787</td>\n",
       "      <td>3312258926</td>\n",
       "      <td>2019-08-15</td>\n",
       "      <td>1650</td>\n",
       "      <td>B</td>\n",
       "    </tr>\n",
       "    <tr>\n",
       "      <th>1</th>\n",
       "      <td>2804400009</td>\n",
       "      <td>3642806036</td>\n",
       "      <td>2019-08-15</td>\n",
       "      <td>730</td>\n",
       "      <td>B</td>\n",
       "    </tr>\n",
       "    <tr>\n",
       "      <th>2</th>\n",
       "      <td>2961555356</td>\n",
       "      <td>4069496402</td>\n",
       "      <td>2019-08-15</td>\n",
       "      <td>400</td>\n",
       "      <td>A</td>\n",
       "    </tr>\n",
       "    <tr>\n",
       "      <th>3</th>\n",
       "      <td>3797467345</td>\n",
       "      <td>1196621759</td>\n",
       "      <td>2019-08-15</td>\n",
       "      <td>9759</td>\n",
       "      <td>B</td>\n",
       "    </tr>\n",
       "    <tr>\n",
       "      <th>4</th>\n",
       "      <td>2282983706</td>\n",
       "      <td>2322279887</td>\n",
       "      <td>2019-08-15</td>\n",
       "      <td>2308</td>\n",
       "      <td>B</td>\n",
       "    </tr>\n",
       "    <tr>\n",
       "      <th>...</th>\n",
       "      <td>...</td>\n",
       "      <td>...</td>\n",
       "      <td>...</td>\n",
       "      <td>...</td>\n",
       "      <td>...</td>\n",
       "    </tr>\n",
       "    <tr>\n",
       "      <th>1192</th>\n",
       "      <td>2662137336</td>\n",
       "      <td>3733762160</td>\n",
       "      <td>2019-08-14</td>\n",
       "      <td>6490</td>\n",
       "      <td>B</td>\n",
       "    </tr>\n",
       "    <tr>\n",
       "      <th>1193</th>\n",
       "      <td>2203539145</td>\n",
       "      <td>370388673</td>\n",
       "      <td>2019-08-14</td>\n",
       "      <td>3190</td>\n",
       "      <td>A</td>\n",
       "    </tr>\n",
       "    <tr>\n",
       "      <th>1194</th>\n",
       "      <td>1807773912</td>\n",
       "      <td>573423106</td>\n",
       "      <td>2019-08-14</td>\n",
       "      <td>10550</td>\n",
       "      <td>A</td>\n",
       "    </tr>\n",
       "    <tr>\n",
       "      <th>1195</th>\n",
       "      <td>1947021204</td>\n",
       "      <td>1614305549</td>\n",
       "      <td>2019-08-14</td>\n",
       "      <td>100</td>\n",
       "      <td>A</td>\n",
       "    </tr>\n",
       "    <tr>\n",
       "      <th>1196</th>\n",
       "      <td>3936777065</td>\n",
       "      <td>2108080724</td>\n",
       "      <td>2019-08-15</td>\n",
       "      <td>202740</td>\n",
       "      <td>B</td>\n",
       "    </tr>\n",
       "  </tbody>\n",
       "</table>\n",
       "<p>1197 rows × 5 columns</p>\n",
       "</div>"
      ],
      "text/plain": [
       "      transactionId   visitorId       date  revenue group\n",
       "0        3667963787  3312258926 2019-08-15     1650     B\n",
       "1        2804400009  3642806036 2019-08-15      730     B\n",
       "2        2961555356  4069496402 2019-08-15      400     A\n",
       "3        3797467345  1196621759 2019-08-15     9759     B\n",
       "4        2282983706  2322279887 2019-08-15     2308     B\n",
       "...             ...         ...        ...      ...   ...\n",
       "1192     2662137336  3733762160 2019-08-14     6490     B\n",
       "1193     2203539145   370388673 2019-08-14     3190     A\n",
       "1194     1807773912   573423106 2019-08-14    10550     A\n",
       "1195     1947021204  1614305549 2019-08-14      100     A\n",
       "1196     3936777065  2108080724 2019-08-15   202740     B\n",
       "\n",
       "[1197 rows x 5 columns]"
      ]
     },
     "execution_count": 72,
     "metadata": {},
     "output_type": "execute_result"
    }
   ],
   "source": [
    "orders"
   ]
  },
  {
   "cell_type": "code",
   "execution_count": 74,
   "id": "9f611a25",
   "metadata": {},
   "outputs": [
    {
     "data": {
      "image/png": "[encoded data removed]",
      "text/plain": [
       "<Figure size 432x288 with 1 Axes>"
      ]
     },
     "metadata": {
      "needs_background": "light"
     },
     "output_type": "display_data"
    }
   ],
   "source": [
    "x_values_2 = pd.Series(range(0, len(orders)))\n",
    "plt.scatter(x_values_2, orders['revenue'])\n",
    "plt.show()"
   ]
  },
  {
   "cell_type": "markdown",
   "id": "f24083f2",
   "metadata": {},
   "source": [
    "#### ВЫВОД: основная часть заказов находится в определенных пределах, но есть аномально большой заказ на сумму более 1,2 млн. рублей."
   ]
  },
  {
   "cell_type": "markdown",
   "id": "ac152c57",
   "metadata": {},
   "source": [
    "### Посчитаем 95-й и 99-й перцентили стоимости заказов. Выберем границу для определения аномальных заказов."
   ]
  },
  {
   "cell_type": "code",
   "execution_count": 90,
   "id": "c9d0c558",
   "metadata": {},
   "outputs": [
    {
     "data": {
      "text/plain": [
       "array([28000. , 58233.2])"
      ]
     },
     "execution_count": 90,
     "metadata": {},
     "output_type": "execute_result"
    }
   ],
   "source": [
    "np.percentile(orders['revenue'], [95,99])"
   ]
  },
  {
   "cell_type": "markdown",
   "id": "0f6a2745",
   "metadata": {},
   "source": [
    "#### ВЫВОД: аномальными будем считать заказы дороже 28000 рублей."
   ]
  },
  {
   "cell_type": "markdown",
   "id": "c64bdb3e",
   "metadata": {},
   "source": [
    "### Посчитаем статистическую значимость различий в среднем количестве заказов на посетителя между группами по «сырым» данным. "
   ]
  },
  {
   "cell_type": "code",
   "execution_count": 75,
   "id": "5ae8c67f",
   "metadata": {},
   "outputs": [],
   "source": [
    "# найдем посетителей группы А по дням\n",
    "visitors_daily_A = visitors[visitors['group'] == 'A'][['date', 'visitors']]\n",
    "visitors_daily_A.columns = ['date', 'visitors_A']"
   ]
  },
  {
   "cell_type": "code",
   "execution_count": 76,
   "id": "d53b1d7b",
   "metadata": {},
   "outputs": [],
   "source": [
    "# найдем куммулятивные данные по посетителям группы А \n",
    "visitors_cumulative_A = visitors_daily_A.apply(lambda x: visitors_daily_A[visitors_daily_A['date'] <= x['date']].agg({'date':'max','visitors_A':'sum'}), axis = 1)\n",
    "visitors_cumulative_A.columns = ['date','visitors_cumulative_A']"
   ]
  },
  {
   "cell_type": "code",
   "execution_count": 77,
   "id": "111ee36f",
   "metadata": {},
   "outputs": [],
   "source": [
    "# найдем посетителей группы B по дням\n",
    "visitors_daily_B = visitors[visitors['group'] == 'B'][['date', 'visitors']]\n",
    "visitors_daily_B.columns = ['date', 'visitors_B']"
   ]
  },
  {
   "cell_type": "code",
   "execution_count": 78,
   "id": "5ccedbab",
   "metadata": {},
   "outputs": [],
   "source": [
    "# найдем куммулятивные данные по посетителям группы B\n",
    "visitors_cumulative_B = visitors_daily_B.apply(lambda x: visitors_daily_B[visitors_daily_B['date'] <= x['date']].agg({'date':'max', 'visitors_B':'sum'}), axis = 1)\n",
    "visitors_cumulative_B.columns = ['date', 'visitors_cumulative_B']"
   ]
  },
  {
   "cell_type": "code",
   "execution_count": 79,
   "id": "549f58a9",
   "metadata": {},
   "outputs": [],
   "source": [
    "# найдем количество заказов и выручку для каждого дня в группе А\n",
    "orders_daily_A = orders[orders['group'] == 'A'][['date', 'transactionId', 'visitorId', 'revenue']].groupby('date', as_index=False).agg({'transactionId':'nunique', 'revenue':'sum'})\n",
    "orders_daily_A.columns = ['date', 'orders_A', 'revenue_A']"
   ]
  },
  {
   "cell_type": "code",
   "execution_count": 80,
   "id": "4535aee0",
   "metadata": {},
   "outputs": [
    {
     "data": {
      "text/html": [
       "<div>\n",
       "<style scoped>\n",
       "    .dataframe tbody tr th:only-of-type {\n",
       "        vertical-align: middle;\n",
       "    }\n",
       "\n",
       "    .dataframe tbody tr th {\n",
       "        vertical-align: top;\n",
       "    }\n",
       "\n",
       "    .dataframe thead th {\n",
       "        text-align: right;\n",
       "    }\n",
       "</style>\n",
       "<table border=\"1\" class=\"dataframe\">\n",
       "  <thead>\n",
       "    <tr style=\"text-align: right;\">\n",
       "      <th></th>\n",
       "      <th>date</th>\n",
       "      <th>orders_cumulative_A</th>\n",
       "      <th>revenue_cumulative_A</th>\n",
       "    </tr>\n",
       "  </thead>\n",
       "  <tbody>\n",
       "    <tr>\n",
       "      <th>0</th>\n",
       "      <td>2019-08-01</td>\n",
       "      <td>24</td>\n",
       "      <td>148579</td>\n",
       "    </tr>\n",
       "    <tr>\n",
       "      <th>1</th>\n",
       "      <td>2019-08-02</td>\n",
       "      <td>44</td>\n",
       "      <td>242401</td>\n",
       "    </tr>\n",
       "    <tr>\n",
       "      <th>2</th>\n",
       "      <td>2019-08-03</td>\n",
       "      <td>68</td>\n",
       "      <td>354874</td>\n",
       "    </tr>\n",
       "    <tr>\n",
       "      <th>3</th>\n",
       "      <td>2019-08-04</td>\n",
       "      <td>84</td>\n",
       "      <td>425699</td>\n",
       "    </tr>\n",
       "    <tr>\n",
       "      <th>4</th>\n",
       "      <td>2019-08-05</td>\n",
       "      <td>109</td>\n",
       "      <td>549917</td>\n",
       "    </tr>\n",
       "  </tbody>\n",
       "</table>\n",
       "</div>"
      ],
      "text/plain": [
       "        date  orders_cumulative_A  revenue_cumulative_A\n",
       "0 2019-08-01                   24                148579\n",
       "1 2019-08-02                   44                242401\n",
       "2 2019-08-03                   68                354874\n",
       "3 2019-08-04                   84                425699\n",
       "4 2019-08-05                  109                549917"
      ]
     },
     "execution_count": 80,
     "metadata": {},
     "output_type": "execute_result"
    }
   ],
   "source": [
    "# считаем куммулятивные значения заказов и выручки для каждого дня в группе А\n",
    "orders_cumulative_A = orders_daily_A.apply(lambda x: orders_daily_A[orders_daily_A['date']<=x['date']].agg({'date':'max', 'orders_A':'sum', 'revenue_A':'sum'}), axis = 1).sort_values(by = ['date'])\n",
    "orders_cumulative_A.columns = ['date', 'orders_cumulative_A', 'revenue_cumulative_A']\n",
    "orders_cumulative_A.head()"
   ]
  },
  {
   "cell_type": "code",
   "execution_count": 81,
   "id": "ac1670b0",
   "metadata": {},
   "outputs": [],
   "source": [
    "# найдем количество заказов и выручку для каждого дня в группе B\n",
    "orders_daily_B = orders[orders['group'] == 'B'][['date', 'transactionId', 'visitorId', 'revenue']].groupby('date', as_index=False).agg({'transactionId':'nunique', 'revenue':'sum'})\n",
    "orders_daily_B.columns = ['date', 'orders_B', 'revenue_B']"
   ]
  },
  {
   "cell_type": "code",
   "execution_count": 82,
   "id": "16d27d59",
   "metadata": {},
   "outputs": [
    {
     "data": {
      "text/html": [
       "<div>\n",
       "<style scoped>\n",
       "    .dataframe tbody tr th:only-of-type {\n",
       "        vertical-align: middle;\n",
       "    }\n",
       "\n",
       "    .dataframe tbody tr th {\n",
       "        vertical-align: top;\n",
       "    }\n",
       "\n",
       "    .dataframe thead th {\n",
       "        text-align: right;\n",
       "    }\n",
       "</style>\n",
       "<table border=\"1\" class=\"dataframe\">\n",
       "  <thead>\n",
       "    <tr style=\"text-align: right;\">\n",
       "      <th></th>\n",
       "      <th>date</th>\n",
       "      <th>orders_cumulative_B</th>\n",
       "      <th>revenue_cumulative_B</th>\n",
       "    </tr>\n",
       "  </thead>\n",
       "  <tbody>\n",
       "    <tr>\n",
       "      <th>0</th>\n",
       "      <td>2019-08-01</td>\n",
       "      <td>21</td>\n",
       "      <td>101217</td>\n",
       "    </tr>\n",
       "    <tr>\n",
       "      <th>1</th>\n",
       "      <td>2019-08-02</td>\n",
       "      <td>45</td>\n",
       "      <td>266748</td>\n",
       "    </tr>\n",
       "    <tr>\n",
       "      <th>2</th>\n",
       "      <td>2019-08-03</td>\n",
       "      <td>61</td>\n",
       "      <td>380996</td>\n",
       "    </tr>\n",
       "    <tr>\n",
       "      <th>3</th>\n",
       "      <td>2019-08-04</td>\n",
       "      <td>78</td>\n",
       "      <td>489567</td>\n",
       "    </tr>\n",
       "    <tr>\n",
       "      <th>4</th>\n",
       "      <td>2019-08-05</td>\n",
       "      <td>101</td>\n",
       "      <td>581995</td>\n",
       "    </tr>\n",
       "  </tbody>\n",
       "</table>\n",
       "</div>"
      ],
      "text/plain": [
       "        date  orders_cumulative_B  revenue_cumulative_B\n",
       "0 2019-08-01                   21                101217\n",
       "1 2019-08-02                   45                266748\n",
       "2 2019-08-03                   61                380996\n",
       "3 2019-08-04                   78                489567\n",
       "4 2019-08-05                  101                581995"
      ]
     },
     "execution_count": 82,
     "metadata": {},
     "output_type": "execute_result"
    }
   ],
   "source": [
    "# считаем куммулятивные значения заказов и выручки для каждого дня в группе B\n",
    "orders_cumulative_B = orders_daily_B.apply(lambda x: orders_daily_B[orders_daily_B['date']<=x['date']].agg({'date':'max', 'orders_B':'sum', 'revenue_B':'sum'}), axis = 1).sort_values(by = ['date'])\n",
    "orders_cumulative_B.columns = ['date', 'orders_cumulative_B', 'revenue_cumulative_B']\n",
    "orders_cumulative_B.head()"
   ]
  },
  {
   "cell_type": "code",
   "execution_count": 83,
   "id": "4ceb0fe4",
   "metadata": {},
   "outputs": [
    {
     "data": {
      "text/html": [
       "<div>\n",
       "<style scoped>\n",
       "    .dataframe tbody tr th:only-of-type {\n",
       "        vertical-align: middle;\n",
       "    }\n",
       "\n",
       "    .dataframe tbody tr th {\n",
       "        vertical-align: top;\n",
       "    }\n",
       "\n",
       "    .dataframe thead th {\n",
       "        text-align: right;\n",
       "    }\n",
       "</style>\n",
       "<table border=\"1\" class=\"dataframe\">\n",
       "  <thead>\n",
       "    <tr style=\"text-align: right;\">\n",
       "      <th></th>\n",
       "      <th>date</th>\n",
       "      <th>orders_A</th>\n",
       "      <th>revenue_A</th>\n",
       "      <th>orders_B</th>\n",
       "      <th>revenue_B</th>\n",
       "      <th>orders_cumulative_A</th>\n",
       "      <th>revenue_cumulative_A</th>\n",
       "      <th>orders_cumulative_B</th>\n",
       "      <th>revenue_cumulative_B</th>\n",
       "      <th>visitors_A</th>\n",
       "      <th>visitors_cumulative_A</th>\n",
       "      <th>visitors_B</th>\n",
       "      <th>visitors_cumulative_B</th>\n",
       "    </tr>\n",
       "  </thead>\n",
       "  <tbody>\n",
       "    <tr>\n",
       "      <th>0</th>\n",
       "      <td>2019-08-01</td>\n",
       "      <td>24</td>\n",
       "      <td>148579</td>\n",
       "      <td>21</td>\n",
       "      <td>101217</td>\n",
       "      <td>24</td>\n",
       "      <td>148579</td>\n",
       "      <td>21</td>\n",
       "      <td>101217</td>\n",
       "      <td>719</td>\n",
       "      <td>719</td>\n",
       "      <td>713</td>\n",
       "      <td>713</td>\n",
       "    </tr>\n",
       "    <tr>\n",
       "      <th>1</th>\n",
       "      <td>2019-08-02</td>\n",
       "      <td>20</td>\n",
       "      <td>93822</td>\n",
       "      <td>24</td>\n",
       "      <td>165531</td>\n",
       "      <td>44</td>\n",
       "      <td>242401</td>\n",
       "      <td>45</td>\n",
       "      <td>266748</td>\n",
       "      <td>619</td>\n",
       "      <td>1338</td>\n",
       "      <td>581</td>\n",
       "      <td>1294</td>\n",
       "    </tr>\n",
       "    <tr>\n",
       "      <th>2</th>\n",
       "      <td>2019-08-03</td>\n",
       "      <td>24</td>\n",
       "      <td>112473</td>\n",
       "      <td>16</td>\n",
       "      <td>114248</td>\n",
       "      <td>68</td>\n",
       "      <td>354874</td>\n",
       "      <td>61</td>\n",
       "      <td>380996</td>\n",
       "      <td>507</td>\n",
       "      <td>1845</td>\n",
       "      <td>509</td>\n",
       "      <td>1803</td>\n",
       "    </tr>\n",
       "    <tr>\n",
       "      <th>3</th>\n",
       "      <td>2019-08-04</td>\n",
       "      <td>16</td>\n",
       "      <td>70825</td>\n",
       "      <td>17</td>\n",
       "      <td>108571</td>\n",
       "      <td>84</td>\n",
       "      <td>425699</td>\n",
       "      <td>78</td>\n",
       "      <td>489567</td>\n",
       "      <td>717</td>\n",
       "      <td>2562</td>\n",
       "      <td>770</td>\n",
       "      <td>2573</td>\n",
       "    </tr>\n",
       "    <tr>\n",
       "      <th>4</th>\n",
       "      <td>2019-08-05</td>\n",
       "      <td>25</td>\n",
       "      <td>124218</td>\n",
       "      <td>23</td>\n",
       "      <td>92428</td>\n",
       "      <td>109</td>\n",
       "      <td>549917</td>\n",
       "      <td>101</td>\n",
       "      <td>581995</td>\n",
       "      <td>756</td>\n",
       "      <td>3318</td>\n",
       "      <td>707</td>\n",
       "      <td>3280</td>\n",
       "    </tr>\n",
       "  </tbody>\n",
       "</table>\n",
       "</div>"
      ],
      "text/plain": [
       "        date  orders_A  revenue_A  orders_B  revenue_B  orders_cumulative_A  \\\n",
       "0 2019-08-01        24     148579        21     101217                   24   \n",
       "1 2019-08-02        20      93822        24     165531                   44   \n",
       "2 2019-08-03        24     112473        16     114248                   68   \n",
       "3 2019-08-04        16      70825        17     108571                   84   \n",
       "4 2019-08-05        25     124218        23      92428                  109   \n",
       "\n",
       "   revenue_cumulative_A  orders_cumulative_B  revenue_cumulative_B  \\\n",
       "0                148579                   21                101217   \n",
       "1                242401                   45                266748   \n",
       "2                354874                   61                380996   \n",
       "3                425699                   78                489567   \n",
       "4                549917                  101                581995   \n",
       "\n",
       "   visitors_A  visitors_cumulative_A  visitors_B  visitors_cumulative_B  \n",
       "0         719                    719         713                    713  \n",
       "1         619                   1338         581                   1294  \n",
       "2         507                   1845         509                   1803  \n",
       "3         717                   2562         770                   2573  \n",
       "4         756                   3318         707                   3280  "
      ]
     },
     "execution_count": 83,
     "metadata": {},
     "output_type": "execute_result"
    }
   ],
   "source": [
    "# объединим таблицы\n",
    "df = orders_daily_A.merge(orders_daily_B, left_on = 'date', right_on = 'date', how = 'left').merge(orders_cumulative_A, left_on = 'date', right_on = 'date', how = 'left').merge(orders_cumulative_B, left_on = 'date', right_on = 'date', how = 'left').merge(visitors_daily_A, left_on = 'date', right_on = 'date', how = 'left').merge(visitors_cumulative_A, left_on = 'date', right_on = 'date', how = 'left').merge(visitors_daily_B, left_on = 'date', right_on = 'date', how = 'left').merge(visitors_cumulative_B, left_on = 'date', right_on = 'date', how = 'left')\n",
    "df.head()"
   ]
  },
  {
   "cell_type": "code",
   "execution_count": 84,
   "id": "85e9255c",
   "metadata": {},
   "outputs": [
    {
     "data": {
      "text/html": [
       "<div>\n",
       "<style scoped>\n",
       "    .dataframe tbody tr th:only-of-type {\n",
       "        vertical-align: middle;\n",
       "    }\n",
       "\n",
       "    .dataframe tbody tr th {\n",
       "        vertical-align: top;\n",
       "    }\n",
       "\n",
       "    .dataframe thead th {\n",
       "        text-align: right;\n",
       "    }\n",
       "</style>\n",
       "<table border=\"1\" class=\"dataframe\">\n",
       "  <thead>\n",
       "    <tr style=\"text-align: right;\">\n",
       "      <th></th>\n",
       "      <th>user_id</th>\n",
       "      <th>orders</th>\n",
       "    </tr>\n",
       "  </thead>\n",
       "  <tbody>\n",
       "    <tr>\n",
       "      <th>0</th>\n",
       "      <td>8300375</td>\n",
       "      <td>1</td>\n",
       "    </tr>\n",
       "    <tr>\n",
       "      <th>1</th>\n",
       "      <td>11685486</td>\n",
       "      <td>1</td>\n",
       "    </tr>\n",
       "    <tr>\n",
       "      <th>2</th>\n",
       "      <td>54447517</td>\n",
       "      <td>1</td>\n",
       "    </tr>\n",
       "    <tr>\n",
       "      <th>3</th>\n",
       "      <td>66685450</td>\n",
       "      <td>1</td>\n",
       "    </tr>\n",
       "    <tr>\n",
       "      <th>4</th>\n",
       "      <td>78758296</td>\n",
       "      <td>1</td>\n",
       "    </tr>\n",
       "    <tr>\n",
       "      <th>...</th>\n",
       "      <td>...</td>\n",
       "      <td>...</td>\n",
       "    </tr>\n",
       "    <tr>\n",
       "      <th>498</th>\n",
       "      <td>4243832526</td>\n",
       "      <td>1</td>\n",
       "    </tr>\n",
       "    <tr>\n",
       "      <th>499</th>\n",
       "      <td>4256040402</td>\n",
       "      <td>7</td>\n",
       "    </tr>\n",
       "    <tr>\n",
       "      <th>500</th>\n",
       "      <td>4259830713</td>\n",
       "      <td>1</td>\n",
       "    </tr>\n",
       "    <tr>\n",
       "      <th>501</th>\n",
       "      <td>4266935830</td>\n",
       "      <td>1</td>\n",
       "    </tr>\n",
       "    <tr>\n",
       "      <th>502</th>\n",
       "      <td>4278982564</td>\n",
       "      <td>1</td>\n",
       "    </tr>\n",
       "  </tbody>\n",
       "</table>\n",
       "<p>503 rows × 2 columns</p>\n",
       "</div>"
      ],
      "text/plain": [
       "        user_id  orders\n",
       "0       8300375       1\n",
       "1      11685486       1\n",
       "2      54447517       1\n",
       "3      66685450       1\n",
       "4      78758296       1\n",
       "..          ...     ...\n",
       "498  4243832526       1\n",
       "499  4256040402       7\n",
       "500  4259830713       1\n",
       "501  4266935830       1\n",
       "502  4278982564       1\n",
       "\n",
       "[503 rows x 2 columns]"
      ]
     },
     "execution_count": 84,
     "metadata": {},
     "output_type": "execute_result"
    }
   ],
   "source": [
    "# сгруппируем количество заказов на каждого пользователя в группе А\n",
    "orders_by_usersA = orders[orders['group'] == 'A'].groupby('visitorId', as_index = False).agg({'transactionId':'nunique'})\n",
    "orders_by_usersA.columns = ['user_id', 'orders']\n",
    "orders_by_usersA"
   ]
  },
  {
   "cell_type": "code",
   "execution_count": 85,
   "id": "8b8c8ff9",
   "metadata": {},
   "outputs": [
    {
     "data": {
      "text/html": [
       "<div>\n",
       "<style scoped>\n",
       "    .dataframe tbody tr th:only-of-type {\n",
       "        vertical-align: middle;\n",
       "    }\n",
       "\n",
       "    .dataframe tbody tr th {\n",
       "        vertical-align: top;\n",
       "    }\n",
       "\n",
       "    .dataframe thead th {\n",
       "        text-align: right;\n",
       "    }\n",
       "</style>\n",
       "<table border=\"1\" class=\"dataframe\">\n",
       "  <thead>\n",
       "    <tr style=\"text-align: right;\">\n",
       "      <th></th>\n",
       "      <th>user_id</th>\n",
       "      <th>orders</th>\n",
       "    </tr>\n",
       "  </thead>\n",
       "  <tbody>\n",
       "    <tr>\n",
       "      <th>0</th>\n",
       "      <td>5114589</td>\n",
       "      <td>1</td>\n",
       "    </tr>\n",
       "    <tr>\n",
       "      <th>1</th>\n",
       "      <td>6958315</td>\n",
       "      <td>1</td>\n",
       "    </tr>\n",
       "    <tr>\n",
       "      <th>2</th>\n",
       "      <td>8300375</td>\n",
       "      <td>1</td>\n",
       "    </tr>\n",
       "    <tr>\n",
       "      <th>3</th>\n",
       "      <td>39475350</td>\n",
       "      <td>1</td>\n",
       "    </tr>\n",
       "    <tr>\n",
       "      <th>4</th>\n",
       "      <td>47206413</td>\n",
       "      <td>1</td>\n",
       "    </tr>\n",
       "    <tr>\n",
       "      <th>...</th>\n",
       "      <td>...</td>\n",
       "      <td>...</td>\n",
       "    </tr>\n",
       "    <tr>\n",
       "      <th>581</th>\n",
       "      <td>4258103007</td>\n",
       "      <td>1</td>\n",
       "    </tr>\n",
       "    <tr>\n",
       "      <th>582</th>\n",
       "      <td>4266935830</td>\n",
       "      <td>1</td>\n",
       "    </tr>\n",
       "    <tr>\n",
       "      <th>583</th>\n",
       "      <td>4279090005</td>\n",
       "      <td>1</td>\n",
       "    </tr>\n",
       "    <tr>\n",
       "      <th>584</th>\n",
       "      <td>4281247801</td>\n",
       "      <td>1</td>\n",
       "    </tr>\n",
       "    <tr>\n",
       "      <th>585</th>\n",
       "      <td>4283872382</td>\n",
       "      <td>1</td>\n",
       "    </tr>\n",
       "  </tbody>\n",
       "</table>\n",
       "<p>586 rows × 2 columns</p>\n",
       "</div>"
      ],
      "text/plain": [
       "        user_id  orders\n",
       "0       5114589       1\n",
       "1       6958315       1\n",
       "2       8300375       1\n",
       "3      39475350       1\n",
       "4      47206413       1\n",
       "..          ...     ...\n",
       "581  4258103007       1\n",
       "582  4266935830       1\n",
       "583  4279090005       1\n",
       "584  4281247801       1\n",
       "585  4283872382       1\n",
       "\n",
       "[586 rows x 2 columns]"
      ]
     },
     "execution_count": 85,
     "metadata": {},
     "output_type": "execute_result"
    }
   ],
   "source": [
    "# сгруппируем количество заказов на каждого пользователя в группе В\n",
    "orders_by_usersB = orders[orders['group'] == 'B'].groupby('visitorId', as_index = False).agg({'transactionId':'nunique'})\n",
    "orders_by_usersB.columns = ['user_id', 'orders']\n",
    "orders_by_usersB"
   ]
  },
  {
   "cell_type": "code",
   "execution_count": 86,
   "id": "c5f842de",
   "metadata": {},
   "outputs": [],
   "source": [
    "# для проверки гипотезы критерием Манна-Уитни создадим массивы данных для каждой группы, которые будут включать данные \n",
    "# по количеству заказов на каждого пользователя, включая пользователей без заказов (то есть 0 заказов)\n",
    "sample_A = pd.concat([orders_by_usersA['orders'], pd.Series(0, index = np.arange(df['visitors_A'].sum() - len(orders_by_usersA['orders'])))], axis = 0)\n",
    "sample_B = pd.concat([orders_by_usersB['orders'], pd.Series(0, index = np.arange(df['visitors_B'].sum() - len(orders_by_usersB['orders'])))], axis = 0)\n"
   ]
  },
  {
   "cell_type": "code",
   "execution_count": 87,
   "id": "6ed99040",
   "metadata": {},
   "outputs": [
    {
     "data": {
      "text/plain": [
       "'0.017'"
      ]
     },
     "metadata": {},
     "output_type": "display_data"
    },
    {
     "data": {
      "text/plain": [
       "'0.138'"
      ]
     },
     "metadata": {},
     "output_type": "display_data"
    }
   ],
   "source": [
    "display(\"{0:.3f}\".format(st.mannwhitneyu(sample_A, sample_B)[1]))\n",
    "display(\"{0:.3f}\".format(sample_B.mean()/sample_A.mean()-1))"
   ]
  },
  {
   "cell_type": "markdown",
   "id": "57eda737",
   "metadata": {},
   "source": [
    "#### ВЫВОДЫ: \n",
    "В качестве нулевой гипотезы примем равенство количества заказов на посетителя в группах.\n",
    "Альтернативная гипотеза - количество заказов на посетителя в группах отличаются.\n",
    "Уровень значимости равен 0,05\n",
    "1. Количество заказов на посетителя в группах значительно отличается, так как p-value 0,017 < 0,05\n",
    "2. Среднее количество заказов в группе В больше на 14%"
   ]
  },
  {
   "cell_type": "markdown",
   "id": "172bb295",
   "metadata": {},
   "source": [
    "### Посчитаем статистическую значимость различий в среднем чеке заказа между группами по «сырым» данным.  "
   ]
  },
  {
   "cell_type": "code",
   "execution_count": 88,
   "id": "965c7e49",
   "metadata": {},
   "outputs": [
    {
     "data": {
      "text/plain": [
       "'0.729'"
      ]
     },
     "metadata": {},
     "output_type": "display_data"
    },
    {
     "data": {
      "text/plain": [
       "'0.259'"
      ]
     },
     "metadata": {},
     "output_type": "display_data"
    }
   ],
   "source": [
    "display(\"{0:.3f}\".format(st.mannwhitneyu(orders[orders['group'] == 'A']['revenue'], orders[orders['group'] == 'B']['revenue'])[1]))\n",
    "display('{0:.3f}'.format(orders[orders['group'] == 'B']['revenue'].mean()/orders[orders['group'] == 'A']['revenue'].mean() - 1))"
   ]
  },
  {
   "cell_type": "markdown",
   "id": "f12b39f7",
   "metadata": {},
   "source": [
    "#### ВЫВОДЫ: В качестве нулевой гипотезы примем, что в среднем чеки в группах равны. Альтернативная гипотеза - средний чек в группах отличается. Уровень значимости равен 0,05\n",
    "1. Статистически значимых различий в среднем чеке в группах нет, значит верна гипотеза, что они равны\n",
    "2. Среднеарифметическое чеков группы B больше на 26%"
   ]
  },
  {
   "cell_type": "markdown",
   "id": "8c2e1b3b",
   "metadata": {},
   "source": [
    "### Посчитаем статистическую значимость различий в среднем количестве заказов на посетителя между группами по «очищенным» данным."
   ]
  },
  {
   "cell_type": "code",
   "execution_count": 89,
   "id": "c72a2983",
   "metadata": {},
   "outputs": [
    {
     "data": {
      "text/plain": [
       "74"
      ]
     },
     "execution_count": 89,
     "metadata": {},
     "output_type": "execute_result"
    }
   ],
   "source": [
    "# сделаем срез пользователей с числом заказов больше 2\n",
    "users_many_orders = pd.concat([orders_by_usersA[orders_by_usersA['orders']>2]['user_id'], orders_by_usersB[orders_by_usersB['orders']>2]['user_id']], axis = 0)\n",
    "# сделаем срез пользователей с заказами дороже 28000 рублей\n",
    "users_expensive_orders = orders[orders['revenue'] > 28000]['visitorId']\n",
    "# объединим этих пользователей\n",
    "abnormal_users = pd.concat([users_many_orders, users_expensive_orders], axis = 0).drop_duplicates().sort_values()\n",
    "abnormal_users.shape[0]"
   ]
  },
  {
   "cell_type": "code",
   "execution_count": 90,
   "id": "c1f7c582",
   "metadata": {},
   "outputs": [
    {
     "data": {
      "text/plain": [
       "'0.013'"
      ]
     },
     "metadata": {},
     "output_type": "display_data"
    },
    {
     "data": {
      "text/plain": [
       "'0.173'"
      ]
     },
     "metadata": {},
     "output_type": "display_data"
    }
   ],
   "source": [
    "sample_A_filtered = pd.concat([orders_by_usersA[np.logical_not(orders_by_usersA['user_id'].isin(abnormal_users))]['orders'], pd.Series(0, index = np.arange(df['visitors_A'].sum() - len(orders_by_usersA['orders'])))], axis = 0)\n",
    "sample_B_filtered = pd.concat([orders_by_usersB[np.logical_not(orders_by_usersB['user_id'].isin(abnormal_users))]['orders'], pd.Series(0, index = np.arange(df['visitors_B'].sum() - len(orders_by_usersB['orders'])))], axis = 0)\n",
    "display(\"{0:.3f}\".format(st.mannwhitneyu(sample_A_filtered, sample_B_filtered)[1]))\n",
    "display(\"{0:.3f}\".format(sample_B_filtered.mean()/sample_A_filtered.mean()-1))"
   ]
  },
  {
   "cell_type": "markdown",
   "id": "9e24f52d",
   "metadata": {},
   "source": [
    "#### ВЫВОДЫ: \n",
    "1. Количество заказов на посетителя в группах значительно отличается\n",
    "2. Среднее количество заказов в группе В больше на 17%"
   ]
  },
  {
   "cell_type": "markdown",
   "id": "f99d8fc8",
   "metadata": {},
   "source": [
    "### Посчитаем статистическую значимость различий в среднем чеке заказа между группами по «очищенным» данным.  "
   ]
  },
  {
   "cell_type": "code",
   "execution_count": 91,
   "id": "c71b6a01",
   "metadata": {},
   "outputs": [
    {
     "data": {
      "text/plain": [
       "'0.738'"
      ]
     },
     "metadata": {},
     "output_type": "display_data"
    },
    {
     "data": {
      "text/plain": [
       "'-0.020'"
      ]
     },
     "metadata": {},
     "output_type": "display_data"
    }
   ],
   "source": [
    "display(\"{0:.3f}\".format(st.mannwhitneyu(orders[np.logical_and(orders['group'] == 'A', np.logical_not(orders['visitorId'].isin(abnormal_users)))]['revenue'], orders[np.logical_and(orders['group'] == 'B', np.logical_not(orders['visitorId'].isin(abnormal_users)))]['revenue'])[1]))\n",
    "display('{0:.3f}'.format(orders[np.logical_and(orders['group'] == 'B', np.logical_not(orders['visitorId'].isin(abnormal_users)))]['revenue'].mean()/orders[np.logical_and(orders['group'] == 'A', np.logical_not(orders['visitorId'].isin(abnormal_users)))]['revenue'].mean() - 1))"
   ]
  },
  {
   "cell_type": "markdown",
   "id": "09b5164d",
   "metadata": {},
   "source": [
    "#### ВЫВОД: \n",
    "1. p-value 0,738 > 0,05 статистически значимой разницы в среднем чеке нет, так как p-value больше уровня значимости.\n",
    "2. Среднеарифметическое чеков в группе В по данным с аномалиями был выше на 26%, а этот же показатель на основании \"очищенных\" данных сократился практически до нулевой разницы. Этот результат произошел в следствии удаления из расчетов аномально больших чеков."
   ]
  },
  {
   "cell_type": "markdown",
   "id": "8c518680",
   "metadata": {},
   "source": [
    "## Общий вывод\n",
    "В процессе анализа результатов A/B теста была проведена работа с двумя файлами: \n",
    "1. orders - данные о пользователях и их заказах, включая выручку с каждого заказа. Всего в тесте участвовало 1197 человек. Все пользователи были поделены на две группы (группа А - 557 пользователей, группа В - 640 пользователей). \n",
    "2. visitors - данные о количестве пользователей в группах на каждый день. \n",
    "Тест проводился в с 01.08.2019 по 31.08.2019, то есть на протяжении всего августа.\n",
    "В ходе исследования выяснилось, что в группу В попал аномально большой чек более 1,2 млн.рублей. Данный факт примем как некая случайность. Так же в обеих группах имеются пользователи, которые оформляли аномально много заказов и аномально дорогие заказы. Так как количество аномально дорогих заказов и аномально большой количество заказов на одного пользователя составляет менее 5% от общей массы, в дальнейшем для окончательного расчета данные заказы были исключены, во избежании возможного искажения результатов. По результатам исследования получен следующий результат - выигрывает группа 'B'. Хотя средний чек не отличается в группах, но в группе 'B' больше заказов. Тест можно останавливать.\n"
   ]
  },
  {
   "cell_type": "markdown",
   "id": "025be39a",
   "metadata": {},
   "source": [
    "## Рекомендация\n",
    "Добавить форму подписки на все основные страницы, чтобы собрать базу клиентов для email-рассылок."
   ]
  }
 ],
 "metadata": {
  "ExecuteTimeLog": [
   {
    "duration": 454,
    "start_time": "2023-02-28T07:42:53.596Z"
   },
   {
    "duration": 82,
    "start_time": "2023-02-28T07:42:54.052Z"
   },
   {
    "duration": 16,
    "start_time": "2023-02-28T07:42:54.136Z"
   },
   {
    "duration": 15,
    "start_time": "2023-02-28T07:42:54.155Z"
   },
   {
    "duration": 11,
    "start_time": "2023-02-28T07:42:54.172Z"
   },
   {
    "duration": 863,
    "start_time": "2023-02-28T07:42:54.184Z"
   },
   {
    "duration": 163,
    "start_time": "2023-02-28T07:42:55.049Z"
   },
   {
    "duration": 8,
    "start_time": "2023-02-28T07:42:55.214Z"
   },
   {
    "duration": 18,
    "start_time": "2023-02-28T07:42:55.224Z"
   },
   {
    "duration": 17,
    "start_time": "2023-02-28T07:42:55.246Z"
   },
   {
    "duration": 23,
    "start_time": "2023-02-28T07:42:55.265Z"
   },
   {
    "duration": 21,
    "start_time": "2023-02-28T07:42:55.290Z"
   },
   {
    "duration": 22,
    "start_time": "2023-02-28T07:42:55.313Z"
   },
   {
    "duration": 12,
    "start_time": "2023-02-28T07:42:55.336Z"
   },
   {
    "duration": 9,
    "start_time": "2023-02-28T07:42:55.350Z"
   },
   {
    "duration": 9,
    "start_time": "2023-02-28T07:42:55.360Z"
   },
   {
    "duration": 11,
    "start_time": "2023-02-28T07:42:55.370Z"
   },
   {
    "duration": 163,
    "start_time": "2023-02-28T07:42:55.383Z"
   },
   {
    "duration": 11,
    "start_time": "2023-02-28T07:42:55.548Z"
   },
   {
    "duration": 134,
    "start_time": "2023-02-28T07:42:55.560Z"
   },
   {
    "duration": 13,
    "start_time": "2023-02-28T07:42:55.696Z"
   },
   {
    "duration": 17,
    "start_time": "2023-02-28T07:42:55.710Z"
   },
   {
    "duration": 4,
    "start_time": "2023-02-28T07:42:55.728Z"
   },
   {
    "duration": 5,
    "start_time": "2023-02-28T07:42:55.734Z"
   },
   {
    "duration": 304,
    "start_time": "2023-02-28T07:42:55.740Z"
   },
   {
    "duration": 188,
    "start_time": "2023-02-28T07:42:56.046Z"
   },
   {
    "duration": 8,
    "start_time": "2023-02-28T07:42:56.236Z"
   },
   {
    "duration": 414,
    "start_time": "2023-02-28T07:42:56.250Z"
   },
   {
    "duration": 228,
    "start_time": "2023-02-28T07:42:56.667Z"
   },
   {
    "duration": 279,
    "start_time": "2023-02-28T07:42:56.897Z"
   },
   {
    "duration": 20,
    "start_time": "2023-02-28T07:42:57.177Z"
   },
   {
    "duration": 125,
    "start_time": "2023-02-28T07:42:57.199Z"
   },
   {
    "duration": 5,
    "start_time": "2023-02-28T07:42:57.326Z"
   },
   {
    "duration": 14,
    "start_time": "2023-02-28T07:42:57.332Z"
   },
   {
    "duration": 146,
    "start_time": "2023-02-28T07:42:57.347Z"
   },
   {
    "duration": 5,
    "start_time": "2023-02-28T07:42:57.495Z"
   },
   {
    "duration": 6,
    "start_time": "2023-02-28T07:42:57.501Z"
   },
   {
    "duration": 125,
    "start_time": "2023-02-28T07:42:57.509Z"
   },
   {
    "duration": 0,
    "start_time": "2023-02-28T07:42:57.636Z"
   },
   {
    "duration": 0,
    "start_time": "2023-02-28T07:42:57.637Z"
   },
   {
    "duration": 0,
    "start_time": "2023-02-28T07:42:57.639Z"
   },
   {
    "duration": 0,
    "start_time": "2023-02-28T07:42:57.641Z"
   },
   {
    "duration": 0,
    "start_time": "2023-02-28T07:42:57.643Z"
   },
   {
    "duration": 0,
    "start_time": "2023-02-28T07:42:57.644Z"
   },
   {
    "duration": 0,
    "start_time": "2023-02-28T07:42:57.646Z"
   },
   {
    "duration": 0,
    "start_time": "2023-02-28T07:42:57.647Z"
   },
   {
    "duration": 0,
    "start_time": "2023-02-28T07:42:57.648Z"
   },
   {
    "duration": 0,
    "start_time": "2023-02-28T07:42:57.650Z"
   },
   {
    "duration": 0,
    "start_time": "2023-02-28T07:42:57.651Z"
   },
   {
    "duration": 0,
    "start_time": "2023-02-28T07:42:57.654Z"
   },
   {
    "duration": 0,
    "start_time": "2023-02-28T07:42:57.656Z"
   },
   {
    "duration": 0,
    "start_time": "2023-02-28T07:42:57.657Z"
   },
   {
    "duration": 0,
    "start_time": "2023-02-28T07:42:57.691Z"
   },
   {
    "duration": 406,
    "start_time": "2023-02-28T07:52:31.829Z"
   },
   {
    "duration": 28,
    "start_time": "2023-02-28T07:52:32.237Z"
   },
   {
    "duration": 15,
    "start_time": "2023-02-28T07:52:32.266Z"
   },
   {
    "duration": 42,
    "start_time": "2023-02-28T07:52:32.283Z"
   },
   {
    "duration": 17,
    "start_time": "2023-02-28T07:52:32.327Z"
   },
   {
    "duration": 662,
    "start_time": "2023-02-28T07:52:32.345Z"
   },
   {
    "duration": 52,
    "start_time": "2023-02-28T07:52:33.009Z"
   },
   {
    "duration": 66,
    "start_time": "2023-02-28T07:52:33.062Z"
   },
   {
    "duration": 27,
    "start_time": "2023-02-28T07:52:33.129Z"
   },
   {
    "duration": 9,
    "start_time": "2023-02-28T07:52:33.159Z"
   },
   {
    "duration": 54,
    "start_time": "2023-02-28T07:52:33.169Z"
   },
   {
    "duration": 17,
    "start_time": "2023-02-28T07:52:33.225Z"
   },
   {
    "duration": 32,
    "start_time": "2023-02-28T07:52:33.244Z"
   },
   {
    "duration": 34,
    "start_time": "2023-02-28T07:52:33.278Z"
   },
   {
    "duration": 28,
    "start_time": "2023-02-28T07:52:33.313Z"
   },
   {
    "duration": 12,
    "start_time": "2023-02-28T07:52:33.342Z"
   },
   {
    "duration": 17,
    "start_time": "2023-02-28T07:52:33.355Z"
   },
   {
    "duration": 178,
    "start_time": "2023-02-28T07:52:33.374Z"
   },
   {
    "duration": 11,
    "start_time": "2023-02-28T07:52:33.554Z"
   },
   {
    "duration": 123,
    "start_time": "2023-02-28T07:52:33.567Z"
   },
   {
    "duration": 11,
    "start_time": "2023-02-28T07:52:33.699Z"
   },
   {
    "duration": 15,
    "start_time": "2023-02-28T07:52:33.711Z"
   },
   {
    "duration": 9,
    "start_time": "2023-02-28T07:52:33.728Z"
   },
   {
    "duration": 8,
    "start_time": "2023-02-28T07:52:33.738Z"
   },
   {
    "duration": 278,
    "start_time": "2023-02-28T07:52:33.747Z"
   },
   {
    "duration": 197,
    "start_time": "2023-02-28T07:52:34.027Z"
   },
   {
    "duration": 6,
    "start_time": "2023-02-28T07:52:34.226Z"
   },
   {
    "duration": 296,
    "start_time": "2023-02-28T07:52:34.235Z"
   },
   {
    "duration": 214,
    "start_time": "2023-02-28T07:52:34.533Z"
   },
   {
    "duration": 272,
    "start_time": "2023-02-28T07:52:34.749Z"
   },
   {
    "duration": 7,
    "start_time": "2023-02-28T07:52:35.023Z"
   },
   {
    "duration": 131,
    "start_time": "2023-02-28T07:52:35.032Z"
   },
   {
    "duration": 5,
    "start_time": "2023-02-28T07:52:35.165Z"
   },
   {
    "duration": 55,
    "start_time": "2023-02-28T07:52:35.171Z"
   },
   {
    "duration": 132,
    "start_time": "2023-02-28T07:52:35.228Z"
   },
   {
    "duration": 6,
    "start_time": "2023-02-28T07:52:35.361Z"
   },
   {
    "duration": 27,
    "start_time": "2023-02-28T07:52:35.369Z"
   },
   {
    "duration": 201,
    "start_time": "2023-02-28T07:52:35.397Z"
   },
   {
    "duration": 0,
    "start_time": "2023-02-28T07:52:35.600Z"
   },
   {
    "duration": 0,
    "start_time": "2023-02-28T07:52:35.601Z"
   },
   {
    "duration": 0,
    "start_time": "2023-02-28T07:52:35.602Z"
   },
   {
    "duration": 1,
    "start_time": "2023-02-28T07:52:35.604Z"
   },
   {
    "duration": 0,
    "start_time": "2023-02-28T07:52:35.606Z"
   },
   {
    "duration": 0,
    "start_time": "2023-02-28T07:52:35.611Z"
   },
   {
    "duration": 0,
    "start_time": "2023-02-28T07:52:35.613Z"
   },
   {
    "duration": 0,
    "start_time": "2023-02-28T07:52:35.614Z"
   },
   {
    "duration": 0,
    "start_time": "2023-02-28T07:52:35.615Z"
   },
   {
    "duration": 0,
    "start_time": "2023-02-28T07:52:35.616Z"
   },
   {
    "duration": 0,
    "start_time": "2023-02-28T07:52:35.618Z"
   },
   {
    "duration": 0,
    "start_time": "2023-02-28T07:52:35.619Z"
   },
   {
    "duration": 0,
    "start_time": "2023-02-28T07:52:35.620Z"
   },
   {
    "duration": 0,
    "start_time": "2023-02-28T07:52:35.621Z"
   },
   {
    "duration": 0,
    "start_time": "2023-02-28T07:52:35.623Z"
   },
   {
    "duration": 393,
    "start_time": "2023-02-28T10:21:45.919Z"
   },
   {
    "duration": 46,
    "start_time": "2023-02-28T10:21:46.314Z"
   },
   {
    "duration": 14,
    "start_time": "2023-02-28T10:21:46.361Z"
   },
   {
    "duration": 13,
    "start_time": "2023-02-28T10:21:46.377Z"
   },
   {
    "duration": 16,
    "start_time": "2023-02-28T10:21:46.391Z"
   },
   {
    "duration": 642,
    "start_time": "2023-02-28T10:21:46.408Z"
   },
   {
    "duration": 52,
    "start_time": "2023-02-28T10:21:47.052Z"
   },
   {
    "duration": 58,
    "start_time": "2023-02-28T10:21:47.106Z"
   },
   {
    "duration": 13,
    "start_time": "2023-02-28T10:21:47.166Z"
   },
   {
    "duration": 10,
    "start_time": "2023-02-28T10:21:47.182Z"
   },
   {
    "duration": 12,
    "start_time": "2023-02-28T10:21:47.193Z"
   },
   {
    "duration": 13,
    "start_time": "2023-02-28T10:21:47.207Z"
   },
   {
    "duration": 6,
    "start_time": "2023-02-28T10:21:47.222Z"
   },
   {
    "duration": 11,
    "start_time": "2023-02-28T10:21:47.230Z"
   },
   {
    "duration": 5,
    "start_time": "2023-02-28T10:21:47.243Z"
   },
   {
    "duration": 8,
    "start_time": "2023-02-28T10:21:47.250Z"
   },
   {
    "duration": 32,
    "start_time": "2023-02-28T10:21:47.259Z"
   },
   {
    "duration": 168,
    "start_time": "2023-02-28T10:21:47.293Z"
   },
   {
    "duration": 11,
    "start_time": "2023-02-28T10:21:47.463Z"
   },
   {
    "duration": 151,
    "start_time": "2023-02-28T10:21:47.475Z"
   },
   {
    "duration": 14,
    "start_time": "2023-02-28T10:21:47.628Z"
   },
   {
    "duration": 15,
    "start_time": "2023-02-28T10:21:47.644Z"
   },
   {
    "duration": 6,
    "start_time": "2023-02-28T10:21:47.661Z"
   },
   {
    "duration": 6,
    "start_time": "2023-02-28T10:21:47.668Z"
   },
   {
    "duration": 281,
    "start_time": "2023-02-28T10:21:47.692Z"
   },
   {
    "duration": 181,
    "start_time": "2023-02-28T10:21:47.974Z"
   },
   {
    "duration": 5,
    "start_time": "2023-02-28T10:21:48.157Z"
   },
   {
    "duration": 340,
    "start_time": "2023-02-28T10:21:48.165Z"
   },
   {
    "duration": 198,
    "start_time": "2023-02-28T10:21:48.507Z"
   },
   {
    "duration": 286,
    "start_time": "2023-02-28T10:21:48.707Z"
   },
   {
    "duration": 7,
    "start_time": "2023-02-28T10:21:48.994Z"
   },
   {
    "duration": 113,
    "start_time": "2023-02-28T10:21:49.003Z"
   },
   {
    "duration": 5,
    "start_time": "2023-02-28T10:21:49.118Z"
   },
   {
    "duration": 13,
    "start_time": "2023-02-28T10:21:49.124Z"
   },
   {
    "duration": 141,
    "start_time": "2023-02-28T10:21:49.139Z"
   },
   {
    "duration": 19,
    "start_time": "2023-02-28T10:21:49.283Z"
   },
   {
    "duration": 8,
    "start_time": "2023-02-28T10:21:49.304Z"
   },
   {
    "duration": 116,
    "start_time": "2023-02-28T10:21:49.314Z"
   },
   {
    "duration": 0,
    "start_time": "2023-02-28T10:21:49.431Z"
   },
   {
    "duration": 0,
    "start_time": "2023-02-28T10:21:49.432Z"
   },
   {
    "duration": 0,
    "start_time": "2023-02-28T10:21:49.434Z"
   },
   {
    "duration": 0,
    "start_time": "2023-02-28T10:21:49.434Z"
   },
   {
    "duration": 0,
    "start_time": "2023-02-28T10:21:49.436Z"
   },
   {
    "duration": 0,
    "start_time": "2023-02-28T10:21:49.436Z"
   },
   {
    "duration": 0,
    "start_time": "2023-02-28T10:21:49.437Z"
   },
   {
    "duration": 0,
    "start_time": "2023-02-28T10:21:49.438Z"
   },
   {
    "duration": 0,
    "start_time": "2023-02-28T10:21:49.439Z"
   },
   {
    "duration": 0,
    "start_time": "2023-02-28T10:21:49.440Z"
   },
   {
    "duration": 0,
    "start_time": "2023-02-28T10:21:49.441Z"
   },
   {
    "duration": 0,
    "start_time": "2023-02-28T10:21:49.442Z"
   },
   {
    "duration": 0,
    "start_time": "2023-02-28T10:21:49.443Z"
   },
   {
    "duration": 0,
    "start_time": "2023-02-28T10:21:49.444Z"
   },
   {
    "duration": 0,
    "start_time": "2023-02-28T10:21:49.445Z"
   },
   {
    "duration": 4,
    "start_time": "2023-02-28T10:21:59.053Z"
   },
   {
    "duration": 48,
    "start_time": "2023-02-28T10:21:59.619Z"
   },
   {
    "duration": 10,
    "start_time": "2023-02-28T10:22:00.189Z"
   },
   {
    "duration": 53,
    "start_time": "2023-02-28T10:22:01.771Z"
   },
   {
    "duration": 9,
    "start_time": "2023-02-28T10:22:02.473Z"
   },
   {
    "duration": 56,
    "start_time": "2023-02-28T10:22:03.921Z"
   },
   {
    "duration": 20,
    "start_time": "2023-02-28T10:22:04.642Z"
   },
   {
    "duration": 13,
    "start_time": "2023-02-28T10:22:06.201Z"
   },
   {
    "duration": 16,
    "start_time": "2023-02-28T10:22:09.827Z"
   },
   {
    "duration": 873,
    "start_time": "2023-02-28T10:22:10.451Z"
   },
   {
    "duration": 0,
    "start_time": "2023-02-28T10:22:11.326Z"
   },
   {
    "duration": 13,
    "start_time": "2023-02-28T10:25:01.566Z"
   },
   {
    "duration": 13,
    "start_time": "2023-02-28T10:25:16.523Z"
   },
   {
    "duration": 891,
    "start_time": "2023-02-28T10:25:33.193Z"
   },
   {
    "duration": 14,
    "start_time": "2023-02-28T10:25:39.794Z"
   },
   {
    "duration": 49,
    "start_time": "2023-02-28T13:05:16.061Z"
   },
   {
    "duration": 344,
    "start_time": "2023-02-28T15:44:49.645Z"
   },
   {
    "duration": 89,
    "start_time": "2023-02-28T15:45:07.670Z"
   },
   {
    "duration": 15,
    "start_time": "2023-02-28T15:45:08.913Z"
   },
   {
    "duration": 13,
    "start_time": "2023-02-28T15:45:27.451Z"
   },
   {
    "duration": 65,
    "start_time": "2023-02-28T15:47:31.499Z"
   },
   {
    "duration": 10,
    "start_time": "2023-02-28T15:48:06.811Z"
   },
   {
    "duration": 11,
    "start_time": "2023-02-28T15:55:14.670Z"
   },
   {
    "duration": 10,
    "start_time": "2023-02-28T15:55:22.865Z"
   },
   {
    "duration": 12,
    "start_time": "2023-02-28T15:59:26.661Z"
   },
   {
    "duration": 10,
    "start_time": "2023-02-28T16:01:11.240Z"
   },
   {
    "duration": 11,
    "start_time": "2023-02-28T16:01:48.772Z"
   },
   {
    "duration": 12,
    "start_time": "2023-02-28T16:02:24.469Z"
   },
   {
    "duration": 12,
    "start_time": "2023-02-28T16:02:34.548Z"
   },
   {
    "duration": 12,
    "start_time": "2023-02-28T16:02:57.987Z"
   },
   {
    "duration": 12,
    "start_time": "2023-02-28T16:07:34.785Z"
   },
   {
    "duration": 12,
    "start_time": "2023-02-28T16:07:52.221Z"
   },
   {
    "duration": 892,
    "start_time": "2023-02-28T16:21:00.616Z"
   },
   {
    "duration": 3,
    "start_time": "2023-02-28T16:24:10.815Z"
   },
   {
    "duration": 179,
    "start_time": "2023-02-28T16:24:18.711Z"
   },
   {
    "duration": 9,
    "start_time": "2023-02-28T16:24:23.977Z"
   },
   {
    "duration": 11,
    "start_time": "2023-02-28T16:24:25.145Z"
   },
   {
    "duration": 5,
    "start_time": "2023-02-28T16:24:26.219Z"
   },
   {
    "duration": 13,
    "start_time": "2023-02-28T16:24:26.940Z"
   },
   {
    "duration": 6,
    "start_time": "2023-02-28T16:24:27.676Z"
   },
   {
    "duration": 7,
    "start_time": "2023-02-28T16:24:28.478Z"
   },
   {
    "duration": 10,
    "start_time": "2023-02-28T16:24:29.339Z"
   },
   {
    "duration": 5,
    "start_time": "2023-02-28T16:24:30.204Z"
   },
   {
    "duration": 5,
    "start_time": "2023-02-28T16:24:57.411Z"
   },
   {
    "duration": 6,
    "start_time": "2023-02-28T16:24:58.934Z"
   },
   {
    "duration": 163,
    "start_time": "2023-02-28T16:25:00.306Z"
   },
   {
    "duration": 12,
    "start_time": "2023-02-28T16:25:01.912Z"
   },
   {
    "duration": 121,
    "start_time": "2023-02-28T16:25:02.808Z"
   },
   {
    "duration": 12,
    "start_time": "2023-02-28T16:25:03.549Z"
   },
   {
    "duration": 16,
    "start_time": "2023-02-28T16:25:04.410Z"
   },
   {
    "duration": 5,
    "start_time": "2023-02-28T16:25:15.085Z"
   },
   {
    "duration": 4,
    "start_time": "2023-02-28T16:25:15.760Z"
   },
   {
    "duration": 287,
    "start_time": "2023-02-28T16:25:16.837Z"
   },
   {
    "duration": 374,
    "start_time": "2023-02-28T18:37:42.099Z"
   },
   {
    "duration": 83,
    "start_time": "2023-02-28T18:37:42.839Z"
   },
   {
    "duration": 14,
    "start_time": "2023-02-28T18:37:43.615Z"
   },
   {
    "duration": 20,
    "start_time": "2023-02-28T18:37:46.181Z"
   },
   {
    "duration": 13,
    "start_time": "2023-02-28T18:37:59.693Z"
   },
   {
    "duration": 900,
    "start_time": "2023-02-28T18:38:22.827Z"
   },
   {
    "duration": 169,
    "start_time": "2023-02-28T18:38:24.832Z"
   },
   {
    "duration": 71,
    "start_time": "2023-02-28T18:38:25.392Z"
   },
   {
    "duration": 11,
    "start_time": "2023-02-28T18:38:26.089Z"
   },
   {
    "duration": 4,
    "start_time": "2023-02-28T18:38:26.877Z"
   },
   {
    "duration": 13,
    "start_time": "2023-02-28T18:38:29.750Z"
   },
   {
    "duration": 7,
    "start_time": "2023-02-28T18:38:30.301Z"
   },
   {
    "duration": 8,
    "start_time": "2023-02-28T18:38:30.900Z"
   },
   {
    "duration": 13,
    "start_time": "2023-02-28T18:38:31.733Z"
   },
   {
    "duration": 5,
    "start_time": "2023-02-28T18:38:32.374Z"
   },
   {
    "duration": 5,
    "start_time": "2023-02-28T18:38:35.071Z"
   },
   {
    "duration": 6,
    "start_time": "2023-02-28T18:38:37.188Z"
   },
   {
    "duration": 193,
    "start_time": "2023-02-28T18:38:39.225Z"
   },
   {
    "duration": 11,
    "start_time": "2023-02-28T18:38:40.948Z"
   },
   {
    "duration": 131,
    "start_time": "2023-02-28T18:38:41.622Z"
   },
   {
    "duration": 14,
    "start_time": "2023-02-28T18:38:42.505Z"
   },
   {
    "duration": 17,
    "start_time": "2023-02-28T18:38:43.329Z"
   },
   {
    "duration": 5,
    "start_time": "2023-02-28T18:38:46.268Z"
   },
   {
    "duration": 5,
    "start_time": "2023-02-28T18:38:47.185Z"
   },
   {
    "duration": 277,
    "start_time": "2023-02-28T18:38:57.069Z"
   },
   {
    "duration": 197,
    "start_time": "2023-02-28T18:39:38.271Z"
   },
   {
    "duration": 229,
    "start_time": "2023-02-28T18:39:46.640Z"
   },
   {
    "duration": 199,
    "start_time": "2023-02-28T18:40:14.485Z"
   },
   {
    "duration": 219,
    "start_time": "2023-02-28T18:44:12.573Z"
   },
   {
    "duration": 3,
    "start_time": "2023-02-28T18:44:38.607Z"
   },
   {
    "duration": 66,
    "start_time": "2023-02-28T18:44:39.062Z"
   },
   {
    "duration": 8,
    "start_time": "2023-02-28T18:44:39.297Z"
   },
   {
    "duration": 11,
    "start_time": "2023-02-28T18:44:39.356Z"
   },
   {
    "duration": 6,
    "start_time": "2023-02-28T18:44:39.502Z"
   },
   {
    "duration": 16,
    "start_time": "2023-02-28T18:44:39.586Z"
   },
   {
    "duration": 8,
    "start_time": "2023-02-28T18:44:39.782Z"
   },
   {
    "duration": 8,
    "start_time": "2023-02-28T18:44:39.846Z"
   },
   {
    "duration": 15,
    "start_time": "2023-02-28T18:44:40.016Z"
   },
   {
    "duration": 6,
    "start_time": "2023-02-28T18:44:40.095Z"
   },
   {
    "duration": 6,
    "start_time": "2023-02-28T18:44:40.284Z"
   },
   {
    "duration": 7,
    "start_time": "2023-02-28T18:44:40.379Z"
   },
   {
    "duration": 166,
    "start_time": "2023-02-28T18:44:40.673Z"
   },
   {
    "duration": 11,
    "start_time": "2023-02-28T18:44:40.888Z"
   },
   {
    "duration": 117,
    "start_time": "2023-02-28T18:44:40.988Z"
   },
   {
    "duration": 12,
    "start_time": "2023-02-28T18:44:41.204Z"
   },
   {
    "duration": 16,
    "start_time": "2023-02-28T18:44:41.304Z"
   },
   {
    "duration": 5,
    "start_time": "2023-02-28T18:44:41.831Z"
   },
   {
    "duration": 5,
    "start_time": "2023-02-28T18:44:41.912Z"
   },
   {
    "duration": 211,
    "start_time": "2023-02-28T18:44:42.143Z"
   },
   {
    "duration": 173,
    "start_time": "2023-02-28T18:45:25.168Z"
   },
   {
    "duration": 195,
    "start_time": "2023-02-28T18:46:47.898Z"
   },
   {
    "duration": 6,
    "start_time": "2023-02-28T18:47:11.317Z"
   },
   {
    "duration": 339,
    "start_time": "2023-02-28T18:47:24.748Z"
   },
   {
    "duration": 287,
    "start_time": "2023-02-28T18:47:37.427Z"
   },
   {
    "duration": 203,
    "start_time": "2023-02-28T18:49:27.866Z"
   },
   {
    "duration": 224,
    "start_time": "2023-02-28T18:52:11.045Z"
   },
   {
    "duration": 8,
    "start_time": "2023-02-28T18:52:11.612Z"
   },
   {
    "duration": 280,
    "start_time": "2023-02-28T18:52:11.797Z"
   },
   {
    "duration": 235,
    "start_time": "2023-02-28T18:52:13.263Z"
   },
   {
    "duration": 281,
    "start_time": "2023-02-28T18:54:55.313Z"
   },
   {
    "duration": 370,
    "start_time": "2023-02-28T18:56:50.492Z"
   },
   {
    "duration": 10,
    "start_time": "2023-02-28T18:56:51.187Z"
   },
   {
    "duration": 154,
    "start_time": "2023-02-28T18:56:51.367Z"
   },
   {
    "duration": 7,
    "start_time": "2023-02-28T18:57:16.607Z"
   },
   {
    "duration": 112,
    "start_time": "2023-02-28T18:57:16.813Z"
   },
   {
    "duration": 6,
    "start_time": "2023-02-28T18:57:17.423Z"
   },
   {
    "duration": 13,
    "start_time": "2023-02-28T18:57:18.897Z"
   },
   {
    "duration": 131,
    "start_time": "2023-02-28T18:57:20.480Z"
   },
   {
    "duration": 6,
    "start_time": "2023-02-28T18:57:22.653Z"
   },
   {
    "duration": 5,
    "start_time": "2023-02-28T18:57:36.686Z"
   },
   {
    "duration": 121,
    "start_time": "2023-02-28T18:57:36.760Z"
   },
   {
    "duration": 6,
    "start_time": "2023-02-28T18:57:37.011Z"
   },
   {
    "duration": 53,
    "start_time": "2023-02-28T18:58:39.615Z"
   },
   {
    "duration": 6,
    "start_time": "2023-02-28T18:58:49.556Z"
   },
   {
    "duration": 45,
    "start_time": "2023-02-28T18:58:50.846Z"
   },
   {
    "duration": 13,
    "start_time": "2023-02-28T18:58:52.246Z"
   },
   {
    "duration": 81,
    "start_time": "2023-02-28T18:58:53.372Z"
   },
   {
    "duration": 10,
    "start_time": "2023-02-28T18:59:02.860Z"
   },
   {
    "duration": 62,
    "start_time": "2023-02-28T18:59:03.366Z"
   },
   {
    "duration": 39,
    "start_time": "2023-02-28T18:59:12.871Z"
   },
   {
    "duration": 14,
    "start_time": "2023-02-28T18:59:23.595Z"
   },
   {
    "duration": 14,
    "start_time": "2023-02-28T18:59:24.531Z"
   },
   {
    "duration": 7,
    "start_time": "2023-02-28T18:59:29.133Z"
   },
   {
    "duration": 27,
    "start_time": "2023-02-28T19:00:03.764Z"
   },
   {
    "duration": 17,
    "start_time": "2023-02-28T19:07:08.841Z"
   },
   {
    "duration": 14,
    "start_time": "2023-02-28T19:07:30.504Z"
   },
   {
    "duration": 43,
    "start_time": "2023-02-28T19:07:32.812Z"
   },
   {
    "duration": 16,
    "start_time": "2023-02-28T19:08:23.262Z"
   },
   {
    "duration": 15,
    "start_time": "2023-02-28T19:23:57.268Z"
   },
   {
    "duration": 12,
    "start_time": "2023-02-28T19:23:57.791Z"
   },
   {
    "duration": 36,
    "start_time": "2023-02-28T19:23:58.054Z"
   },
   {
    "duration": 22,
    "start_time": "2023-02-28T19:23:58.513Z"
   },
   {
    "duration": 8,
    "start_time": "2023-02-28T19:39:47.261Z"
   },
   {
    "duration": 11,
    "start_time": "2023-02-28T19:40:48.370Z"
   },
   {
    "duration": 9,
    "start_time": "2023-02-28T19:41:08.979Z"
   },
   {
    "duration": 11,
    "start_time": "2023-02-28T19:42:31.663Z"
   },
   {
    "duration": 12,
    "start_time": "2023-02-28T19:42:39.703Z"
   },
   {
    "duration": 13,
    "start_time": "2023-02-28T19:42:39.793Z"
   },
   {
    "duration": 6,
    "start_time": "2023-02-28T19:42:39.941Z"
   },
   {
    "duration": 301,
    "start_time": "2023-02-28T19:42:40.009Z"
   },
   {
    "duration": 0,
    "start_time": "2023-02-28T19:42:40.312Z"
   },
   {
    "duration": 181,
    "start_time": "2023-02-28T19:42:40.395Z"
   },
   {
    "duration": 12,
    "start_time": "2023-02-28T19:42:40.598Z"
   },
   {
    "duration": 123,
    "start_time": "2023-02-28T19:42:40.660Z"
   },
   {
    "duration": 12,
    "start_time": "2023-02-28T19:42:40.827Z"
   },
   {
    "duration": 19,
    "start_time": "2023-02-28T19:42:40.887Z"
   },
   {
    "duration": 6,
    "start_time": "2023-02-28T19:42:41.283Z"
   },
   {
    "duration": 5,
    "start_time": "2023-02-28T19:42:41.356Z"
   },
   {
    "duration": 223,
    "start_time": "2023-02-28T19:42:41.548Z"
   },
   {
    "duration": 292,
    "start_time": "2023-02-28T19:42:42.266Z"
   },
   {
    "duration": 7,
    "start_time": "2023-02-28T19:42:42.584Z"
   },
   {
    "duration": 294,
    "start_time": "2023-02-28T19:42:42.748Z"
   },
   {
    "duration": 226,
    "start_time": "2023-02-28T19:42:43.054Z"
   },
   {
    "duration": 297,
    "start_time": "2023-02-28T19:42:43.888Z"
   },
   {
    "duration": 9,
    "start_time": "2023-02-28T19:42:44.677Z"
   },
   {
    "duration": 118,
    "start_time": "2023-02-28T19:42:44.763Z"
   },
   {
    "duration": 6,
    "start_time": "2023-02-28T19:42:45.167Z"
   },
   {
    "duration": 13,
    "start_time": "2023-02-28T19:42:45.711Z"
   },
   {
    "duration": 130,
    "start_time": "2023-02-28T19:42:45.810Z"
   },
   {
    "duration": 6,
    "start_time": "2023-02-28T19:42:46.344Z"
   },
   {
    "duration": 5,
    "start_time": "2023-02-28T19:42:46.932Z"
   },
   {
    "duration": 49,
    "start_time": "2023-02-28T19:42:47.097Z"
   },
   {
    "duration": 5,
    "start_time": "2023-02-28T19:42:47.185Z"
   },
   {
    "duration": 50,
    "start_time": "2023-02-28T19:42:47.316Z"
   },
   {
    "duration": 13,
    "start_time": "2023-02-28T19:42:47.412Z"
   },
   {
    "duration": 62,
    "start_time": "2023-02-28T19:42:47.611Z"
   },
   {
    "duration": 32,
    "start_time": "2023-02-28T19:42:47.680Z"
   },
   {
    "duration": 69,
    "start_time": "2023-02-28T19:42:47.861Z"
   },
   {
    "duration": 36,
    "start_time": "2023-02-28T19:42:47.965Z"
   },
   {
    "duration": 14,
    "start_time": "2023-02-28T19:42:48.170Z"
   },
   {
    "duration": 15,
    "start_time": "2023-02-28T19:42:48.368Z"
   },
   {
    "duration": 51,
    "start_time": "2023-02-28T19:42:48.451Z"
   },
   {
    "duration": 27,
    "start_time": "2023-02-28T19:42:48.656Z"
   },
   {
    "duration": 15,
    "start_time": "2023-02-28T19:42:49.259Z"
   },
   {
    "duration": 12,
    "start_time": "2023-02-28T19:42:49.759Z"
   },
   {
    "duration": 33,
    "start_time": "2023-02-28T19:42:50.025Z"
   },
   {
    "duration": 16,
    "start_time": "2023-02-28T19:42:50.488Z"
   },
   {
    "duration": 309,
    "start_time": "2023-02-28T19:48:11.346Z"
   },
   {
    "duration": 3,
    "start_time": "2023-02-28T19:48:48.708Z"
   },
   {
    "duration": 67,
    "start_time": "2023-02-28T19:48:49.827Z"
   },
   {
    "duration": 10,
    "start_time": "2023-02-28T19:48:50.292Z"
   },
   {
    "duration": 15,
    "start_time": "2023-02-28T19:48:50.764Z"
   },
   {
    "duration": 6,
    "start_time": "2023-02-28T19:48:51.425Z"
   },
   {
    "duration": 12,
    "start_time": "2023-02-28T19:48:51.897Z"
   },
   {
    "duration": 6,
    "start_time": "2023-02-28T19:48:52.442Z"
   },
   {
    "duration": 9,
    "start_time": "2023-02-28T19:48:53.046Z"
   },
   {
    "duration": 8,
    "start_time": "2023-02-28T19:48:53.517Z"
   },
   {
    "duration": 15,
    "start_time": "2023-02-28T19:48:54.048Z"
   },
   {
    "duration": 5,
    "start_time": "2023-02-28T19:48:54.716Z"
   },
   {
    "duration": 5,
    "start_time": "2023-02-28T19:48:56.482Z"
   },
   {
    "duration": 6,
    "start_time": "2023-02-28T19:49:01.255Z"
   },
   {
    "duration": 181,
    "start_time": "2023-02-28T19:49:23.845Z"
   },
   {
    "duration": 22,
    "start_time": "2023-02-28T19:49:24.028Z"
   },
   {
    "duration": 114,
    "start_time": "2023-02-28T19:49:24.205Z"
   },
   {
    "duration": 10,
    "start_time": "2023-02-28T19:49:24.321Z"
   },
   {
    "duration": 15,
    "start_time": "2023-02-28T19:49:24.521Z"
   },
   {
    "duration": 6,
    "start_time": "2023-02-28T19:49:24.882Z"
   },
   {
    "duration": 5,
    "start_time": "2023-02-28T19:49:25.088Z"
   },
   {
    "duration": 211,
    "start_time": "2023-02-28T19:49:25.185Z"
   },
   {
    "duration": 191,
    "start_time": "2023-02-28T19:49:26.071Z"
   },
   {
    "duration": 6,
    "start_time": "2023-02-28T19:49:26.584Z"
   },
   {
    "duration": 282,
    "start_time": "2023-02-28T19:49:26.654Z"
   },
   {
    "duration": 202,
    "start_time": "2023-02-28T19:49:27.186Z"
   },
   {
    "duration": 288,
    "start_time": "2023-02-28T19:49:27.885Z"
   },
   {
    "duration": 7,
    "start_time": "2023-02-28T19:49:28.795Z"
   },
   {
    "duration": 111,
    "start_time": "2023-02-28T19:49:29.007Z"
   },
   {
    "duration": 5,
    "start_time": "2023-02-28T19:49:29.350Z"
   },
   {
    "duration": 19,
    "start_time": "2023-02-28T19:49:29.920Z"
   },
   {
    "duration": 236,
    "start_time": "2023-02-28T19:49:30.109Z"
   },
   {
    "duration": 6,
    "start_time": "2023-02-28T19:49:30.728Z"
   },
   {
    "duration": 5,
    "start_time": "2023-02-28T19:49:31.280Z"
   },
   {
    "duration": 45,
    "start_time": "2023-02-28T19:49:31.501Z"
   },
   {
    "duration": 5,
    "start_time": "2023-02-28T19:49:31.574Z"
   },
   {
    "duration": 50,
    "start_time": "2023-02-28T19:49:31.802Z"
   },
   {
    "duration": 11,
    "start_time": "2023-02-28T19:49:31.890Z"
   },
   {
    "duration": 65,
    "start_time": "2023-02-28T19:49:32.121Z"
   },
   {
    "duration": 9,
    "start_time": "2023-02-28T19:49:32.198Z"
   },
   {
    "duration": 53,
    "start_time": "2023-02-28T19:49:32.421Z"
   },
   {
    "duration": 30,
    "start_time": "2023-02-28T19:49:32.523Z"
   },
   {
    "duration": 13,
    "start_time": "2023-02-28T19:49:32.736Z"
   },
   {
    "duration": 14,
    "start_time": "2023-02-28T19:49:32.829Z"
   },
   {
    "duration": 7,
    "start_time": "2023-02-28T19:49:33.042Z"
   },
   {
    "duration": 29,
    "start_time": "2023-02-28T19:49:33.131Z"
   },
   {
    "duration": 11,
    "start_time": "2023-02-28T19:49:33.950Z"
   },
   {
    "duration": 9,
    "start_time": "2023-02-28T19:49:34.584Z"
   },
   {
    "duration": 30,
    "start_time": "2023-02-28T19:49:34.916Z"
   },
   {
    "duration": 15,
    "start_time": "2023-02-28T19:49:35.647Z"
   },
   {
    "duration": 469,
    "start_time": "2023-03-01T10:49:04.441Z"
   },
   {
    "duration": 64,
    "start_time": "2023-03-01T10:49:04.912Z"
   },
   {
    "duration": 18,
    "start_time": "2023-03-01T10:49:04.978Z"
   },
   {
    "duration": 15,
    "start_time": "2023-03-01T10:49:04.998Z"
   },
   {
    "duration": 13,
    "start_time": "2023-03-01T10:49:05.015Z"
   },
   {
    "duration": 743,
    "start_time": "2023-03-01T10:49:05.034Z"
   },
   {
    "duration": 129,
    "start_time": "2023-03-01T10:49:05.779Z"
   },
   {
    "duration": 75,
    "start_time": "2023-03-01T10:49:05.910Z"
   },
   {
    "duration": 26,
    "start_time": "2023-03-01T10:49:05.987Z"
   },
   {
    "duration": 26,
    "start_time": "2023-03-01T10:49:06.016Z"
   },
   {
    "duration": 21,
    "start_time": "2023-03-01T10:49:06.045Z"
   },
   {
    "duration": 22,
    "start_time": "2023-03-01T10:49:06.068Z"
   },
   {
    "duration": 31,
    "start_time": "2023-03-01T10:49:06.092Z"
   },
   {
    "duration": 36,
    "start_time": "2023-03-01T10:49:06.125Z"
   },
   {
    "duration": 24,
    "start_time": "2023-03-01T10:49:06.163Z"
   },
   {
    "duration": 17,
    "start_time": "2023-03-01T10:49:06.189Z"
   },
   {
    "duration": 37,
    "start_time": "2023-03-01T10:49:06.208Z"
   },
   {
    "duration": 36,
    "start_time": "2023-03-01T10:49:06.249Z"
   },
   {
    "duration": 222,
    "start_time": "2023-03-01T10:49:06.287Z"
   },
   {
    "duration": 22,
    "start_time": "2023-03-01T10:49:06.511Z"
   },
   {
    "duration": 162,
    "start_time": "2023-03-01T10:49:06.535Z"
   },
   {
    "duration": 25,
    "start_time": "2023-03-01T10:49:06.699Z"
   },
   {
    "duration": 32,
    "start_time": "2023-03-01T10:49:06.726Z"
   },
   {
    "duration": 12,
    "start_time": "2023-03-01T10:49:06.760Z"
   },
   {
    "duration": 16,
    "start_time": "2023-03-01T10:49:06.776Z"
   },
   {
    "duration": 384,
    "start_time": "2023-03-01T10:49:06.794Z"
   },
   {
    "duration": 262,
    "start_time": "2023-03-01T10:49:07.180Z"
   },
   {
    "duration": 10,
    "start_time": "2023-03-01T10:49:07.447Z"
   },
   {
    "duration": 369,
    "start_time": "2023-03-01T10:49:07.460Z"
   },
   {
    "duration": 257,
    "start_time": "2023-03-01T10:49:07.831Z"
   },
   {
    "duration": 416,
    "start_time": "2023-03-01T10:49:08.090Z"
   },
   {
    "duration": 8,
    "start_time": "2023-03-01T10:49:08.508Z"
   },
   {
    "duration": 167,
    "start_time": "2023-03-01T10:49:08.518Z"
   },
   {
    "duration": 6,
    "start_time": "2023-03-01T10:49:08.687Z"
   },
   {
    "duration": 18,
    "start_time": "2023-03-01T10:49:08.695Z"
   },
   {
    "duration": 163,
    "start_time": "2023-03-01T10:49:08.715Z"
   },
   {
    "duration": 6,
    "start_time": "2023-03-01T10:49:08.880Z"
   },
   {
    "duration": 9,
    "start_time": "2023-03-01T10:49:08.888Z"
   },
   {
    "duration": 71,
    "start_time": "2023-03-01T10:49:08.899Z"
   },
   {
    "duration": 10,
    "start_time": "2023-03-01T10:49:08.972Z"
   },
   {
    "duration": 75,
    "start_time": "2023-03-01T10:49:08.984Z"
   },
   {
    "duration": 13,
    "start_time": "2023-03-01T10:49:09.062Z"
   },
   {
    "duration": 82,
    "start_time": "2023-03-01T10:49:09.077Z"
   },
   {
    "duration": 13,
    "start_time": "2023-03-01T10:49:09.161Z"
   },
   {
    "duration": 69,
    "start_time": "2023-03-01T10:49:09.175Z"
   },
   {
    "duration": 34,
    "start_time": "2023-03-01T10:49:09.247Z"
   },
   {
    "duration": 16,
    "start_time": "2023-03-01T10:49:09.283Z"
   },
   {
    "duration": 40,
    "start_time": "2023-03-01T10:49:09.301Z"
   },
   {
    "duration": 7,
    "start_time": "2023-03-01T10:49:09.343Z"
   },
   {
    "duration": 36,
    "start_time": "2023-03-01T10:49:09.352Z"
   },
   {
    "duration": 43,
    "start_time": "2023-03-01T10:49:09.390Z"
   },
   {
    "duration": 14,
    "start_time": "2023-03-01T10:49:09.435Z"
   },
   {
    "duration": 36,
    "start_time": "2023-03-01T10:49:09.451Z"
   },
   {
    "duration": 43,
    "start_time": "2023-03-01T10:49:09.489Z"
   },
   {
    "duration": 409,
    "start_time": "2023-03-01T18:35:05.447Z"
   },
   {
    "duration": 58,
    "start_time": "2023-03-01T18:35:06.600Z"
   },
   {
    "duration": 14,
    "start_time": "2023-03-01T18:35:07.929Z"
   },
   {
    "duration": 14,
    "start_time": "2023-03-01T18:35:10.142Z"
   },
   {
    "duration": 12,
    "start_time": "2023-03-01T18:35:10.687Z"
   },
   {
    "duration": 865,
    "start_time": "2023-03-01T18:35:13.545Z"
   },
   {
    "duration": 139,
    "start_time": "2023-03-01T18:35:14.412Z"
   },
   {
    "duration": 69,
    "start_time": "2023-03-01T18:35:15.469Z"
   },
   {
    "duration": 13,
    "start_time": "2023-03-01T18:35:16.749Z"
   },
   {
    "duration": 5,
    "start_time": "2023-03-01T18:35:17.359Z"
   },
   {
    "duration": 15,
    "start_time": "2023-03-01T18:35:17.442Z"
   },
   {
    "duration": 6,
    "start_time": "2023-03-01T18:35:17.624Z"
   },
   {
    "duration": 9,
    "start_time": "2023-03-01T18:35:17.691Z"
   },
   {
    "duration": 7,
    "start_time": "2023-03-01T18:35:17.883Z"
   },
   {
    "duration": 9,
    "start_time": "2023-03-01T18:35:17.957Z"
   },
   {
    "duration": 4,
    "start_time": "2023-03-01T18:35:18.176Z"
   },
   {
    "duration": 4,
    "start_time": "2023-03-01T18:35:18.288Z"
   },
   {
    "duration": 10,
    "start_time": "2023-03-01T18:35:18.365Z"
   },
   {
    "duration": 164,
    "start_time": "2023-03-01T18:35:18.725Z"
   },
   {
    "duration": 11,
    "start_time": "2023-03-01T18:35:19.004Z"
   },
   {
    "duration": 117,
    "start_time": "2023-03-01T18:35:19.097Z"
   },
   {
    "duration": 11,
    "start_time": "2023-03-01T18:35:19.297Z"
   },
   {
    "duration": 16,
    "start_time": "2023-03-01T18:35:19.386Z"
   },
   {
    "duration": 5,
    "start_time": "2023-03-01T18:35:19.893Z"
   },
   {
    "duration": 5,
    "start_time": "2023-03-01T18:35:19.972Z"
   },
   {
    "duration": 311,
    "start_time": "2023-03-01T18:35:20.172Z"
   },
   {
    "duration": 190,
    "start_time": "2023-03-01T18:35:22.220Z"
   },
   {
    "duration": 5,
    "start_time": "2023-03-01T18:35:23.820Z"
   },
   {
    "duration": 339,
    "start_time": "2023-03-01T18:35:24.342Z"
   },
   {
    "duration": 216,
    "start_time": "2023-03-01T18:35:24.697Z"
   },
   {
    "duration": 316,
    "start_time": "2023-03-01T18:35:26.531Z"
   },
   {
    "duration": 8,
    "start_time": "2023-03-01T18:35:31.020Z"
   },
   {
    "duration": 111,
    "start_time": "2023-03-01T18:35:31.109Z"
   },
   {
    "duration": 5,
    "start_time": "2023-03-01T18:35:31.602Z"
   },
   {
    "duration": 13,
    "start_time": "2023-03-01T18:35:32.101Z"
   },
   {
    "duration": 127,
    "start_time": "2023-03-01T18:35:32.201Z"
   },
   {
    "duration": 6,
    "start_time": "2023-03-01T18:35:32.942Z"
   },
   {
    "duration": 6,
    "start_time": "2023-03-01T18:35:33.744Z"
   },
   {
    "duration": 49,
    "start_time": "2023-03-01T18:35:33.857Z"
   },
   {
    "duration": 5,
    "start_time": "2023-03-01T18:35:34.120Z"
   },
   {
    "duration": 47,
    "start_time": "2023-03-01T18:35:34.298Z"
   },
   {
    "duration": 10,
    "start_time": "2023-03-01T18:35:36.029Z"
   },
   {
    "duration": 54,
    "start_time": "2023-03-01T18:35:36.118Z"
   },
   {
    "duration": 11,
    "start_time": "2023-03-01T18:35:36.334Z"
   },
   {
    "duration": 56,
    "start_time": "2023-03-01T18:35:36.403Z"
   },
   {
    "duration": 29,
    "start_time": "2023-03-01T18:35:36.614Z"
   },
   {
    "duration": 14,
    "start_time": "2023-03-01T18:35:36.695Z"
   },
   {
    "duration": 14,
    "start_time": "2023-03-01T18:35:36.886Z"
   },
   {
    "duration": 8,
    "start_time": "2023-03-01T18:35:37.078Z"
   },
   {
    "duration": 33,
    "start_time": "2023-03-01T18:35:37.715Z"
   },
   {
    "duration": 13,
    "start_time": "2023-03-01T18:35:41.717Z"
   },
   {
    "duration": 1307,
    "start_time": "2023-03-01T18:37:37.750Z"
   },
   {
    "duration": 13,
    "start_time": "2023-03-01T18:50:39.868Z"
   },
   {
    "duration": 4,
    "start_time": "2023-03-01T18:51:05.773Z"
   },
   {
    "duration": 26,
    "start_time": "2023-03-01T18:51:06.390Z"
   },
   {
    "duration": 14,
    "start_time": "2023-03-01T18:51:07.188Z"
   },
   {
    "duration": 19,
    "start_time": "2023-03-01T18:51:09.760Z"
   },
   {
    "duration": 22,
    "start_time": "2023-03-01T18:51:12.230Z"
   },
   {
    "duration": 4,
    "start_time": "2023-03-01T18:51:17.039Z"
   },
   {
    "duration": 92,
    "start_time": "2023-03-01T18:51:18.221Z"
   },
   {
    "duration": 12,
    "start_time": "2023-03-01T18:51:18.883Z"
   },
   {
    "duration": 15,
    "start_time": "2023-03-01T18:51:20.124Z"
   },
   {
    "duration": 6,
    "start_time": "2023-03-01T18:51:20.817Z"
   },
   {
    "duration": 17,
    "start_time": "2023-03-01T18:51:21.693Z"
   },
   {
    "duration": 12,
    "start_time": "2023-03-01T18:51:22.398Z"
   },
   {
    "duration": 12,
    "start_time": "2023-03-01T18:51:23.479Z"
   },
   {
    "duration": 10,
    "start_time": "2023-03-01T18:51:24.417Z"
   },
   {
    "duration": 14,
    "start_time": "2023-03-01T18:51:25.020Z"
   },
   {
    "duration": 6,
    "start_time": "2023-03-01T18:51:25.624Z"
   },
   {
    "duration": 7,
    "start_time": "2023-03-01T18:51:26.277Z"
   },
   {
    "duration": 7,
    "start_time": "2023-03-01T18:51:26.896Z"
   },
   {
    "duration": 260,
    "start_time": "2023-03-01T18:51:28.207Z"
   },
   {
    "duration": 16,
    "start_time": "2023-03-01T18:51:28.841Z"
   },
   {
    "duration": 154,
    "start_time": "2023-03-01T18:51:29.863Z"
   },
   {
    "duration": 16,
    "start_time": "2023-03-01T18:51:30.659Z"
   },
   {
    "duration": 23,
    "start_time": "2023-03-01T18:51:31.250Z"
   },
   {
    "duration": 5,
    "start_time": "2023-03-01T18:51:33.269Z"
   },
   {
    "duration": 5,
    "start_time": "2023-03-01T18:51:33.940Z"
   },
   {
    "duration": 273,
    "start_time": "2023-03-01T18:51:34.519Z"
   },
   {
    "duration": 372,
    "start_time": "2023-03-01T18:51:39.302Z"
   },
   {
    "duration": 7,
    "start_time": "2023-03-01T18:51:41.412Z"
   },
   {
    "duration": 327,
    "start_time": "2023-03-01T18:51:41.994Z"
   },
   {
    "duration": 238,
    "start_time": "2023-03-01T18:51:43.981Z"
   },
   {
    "duration": 315,
    "start_time": "2023-03-01T18:51:47.291Z"
   },
   {
    "duration": 10,
    "start_time": "2023-03-01T18:51:50.068Z"
   },
   {
    "duration": 172,
    "start_time": "2023-03-01T18:51:50.434Z"
   },
   {
    "duration": 7,
    "start_time": "2023-03-01T18:51:52.023Z"
   },
   {
    "duration": 17,
    "start_time": "2023-03-01T18:51:53.678Z"
   },
   {
    "duration": 179,
    "start_time": "2023-03-01T18:51:54.165Z"
   },
   {
    "duration": 7,
    "start_time": "2023-03-01T18:51:56.540Z"
   },
   {
    "duration": 7,
    "start_time": "2023-03-01T18:51:58.575Z"
   },
   {
    "duration": 73,
    "start_time": "2023-03-01T18:51:59.219Z"
   },
   {
    "duration": 6,
    "start_time": "2023-03-01T18:52:00.034Z"
   },
   {
    "duration": 64,
    "start_time": "2023-03-01T18:52:00.676Z"
   },
   {
    "duration": 13,
    "start_time": "2023-03-01T18:52:01.286Z"
   },
   {
    "duration": 74,
    "start_time": "2023-03-01T18:52:02.003Z"
   },
   {
    "duration": 19,
    "start_time": "2023-03-01T18:52:02.777Z"
   },
   {
    "duration": 65,
    "start_time": "2023-03-01T18:52:03.240Z"
   },
   {
    "duration": 47,
    "start_time": "2023-03-01T18:52:03.729Z"
   },
   {
    "duration": 20,
    "start_time": "2023-03-01T18:52:04.647Z"
   },
   {
    "duration": 16,
    "start_time": "2023-03-01T18:52:04.865Z"
   },
   {
    "duration": 7,
    "start_time": "2023-03-01T18:52:05.409Z"
   },
   {
    "duration": 44,
    "start_time": "2023-03-01T18:52:06.070Z"
   },
   {
    "duration": 14,
    "start_time": "2023-03-01T18:52:09.321Z"
   },
   {
    "duration": 10,
    "start_time": "2023-03-01T18:52:11.920Z"
   },
   {
    "duration": 55,
    "start_time": "2023-03-01T18:52:13.173Z"
   },
   {
    "duration": 23,
    "start_time": "2023-03-01T18:52:14.496Z"
   },
   {
    "duration": 425,
    "start_time": "2023-06-02T11:41:38.966Z"
   },
   {
    "duration": 74,
    "start_time": "2023-06-02T11:41:39.921Z"
   },
   {
    "duration": 14,
    "start_time": "2023-06-02T11:41:42.069Z"
   },
   {
    "duration": 20,
    "start_time": "2023-06-02T11:42:00.480Z"
   },
   {
    "duration": 15,
    "start_time": "2023-06-02T11:42:12.103Z"
   },
   {
    "duration": 10,
    "start_time": "2023-06-02T11:42:51.255Z"
   },
   {
    "duration": 30,
    "start_time": "2023-06-02T11:42:52.052Z"
   },
   {
    "duration": 21,
    "start_time": "2023-06-02T11:42:52.729Z"
   },
   {
    "duration": 17,
    "start_time": "2023-06-02T11:42:54.119Z"
   },
   {
    "duration": 18,
    "start_time": "2023-06-02T11:42:55.846Z"
   },
   {
    "duration": 850,
    "start_time": "2023-06-02T11:47:13.577Z"
   },
   {
    "duration": 152,
    "start_time": "2023-06-02T11:47:32.954Z"
   },
   {
    "duration": 76,
    "start_time": "2023-06-02T11:47:33.715Z"
   },
   {
    "duration": 12,
    "start_time": "2023-06-02T11:47:34.761Z"
   },
   {
    "duration": 4,
    "start_time": "2023-06-02T11:47:35.865Z"
   },
   {
    "duration": 21,
    "start_time": "2023-06-02T11:47:39.317Z"
   },
   {
    "duration": 7,
    "start_time": "2023-06-02T11:47:40.061Z"
   },
   {
    "duration": 8,
    "start_time": "2023-06-02T11:47:40.752Z"
   },
   {
    "duration": 10,
    "start_time": "2023-06-02T11:47:41.444Z"
   },
   {
    "duration": 15,
    "start_time": "2023-06-02T11:47:42.413Z"
   },
   {
    "duration": 4,
    "start_time": "2023-06-02T11:47:43.178Z"
   },
   {
    "duration": 4,
    "start_time": "2023-06-02T11:47:50.220Z"
   },
   {
    "duration": 6,
    "start_time": "2023-06-02T11:47:51.280Z"
   },
   {
    "duration": 184,
    "start_time": "2023-06-02T11:47:58.753Z"
   },
   {
    "duration": 17,
    "start_time": "2023-06-02T11:47:59.545Z"
   },
   {
    "duration": 120,
    "start_time": "2023-06-02T11:48:00.480Z"
   },
   {
    "duration": 11,
    "start_time": "2023-06-02T11:48:01.968Z"
   },
   {
    "duration": 20,
    "start_time": "2023-06-02T11:48:02.816Z"
   },
   {
    "duration": 6,
    "start_time": "2023-06-02T11:48:17.316Z"
   },
   {
    "duration": 5,
    "start_time": "2023-06-02T11:48:18.116Z"
   },
   {
    "duration": 302,
    "start_time": "2023-06-02T11:48:19.579Z"
   },
   {
    "duration": 19,
    "start_time": "2023-06-02T11:49:37.848Z"
   },
   {
    "duration": 14,
    "start_time": "2023-06-02T11:49:38.537Z"
   },
   {
    "duration": 4,
    "start_time": "2023-06-02T11:49:39.087Z"
   },
   {
    "duration": 734,
    "start_time": "2023-06-02T11:49:39.537Z"
   },
   {
    "duration": 0,
    "start_time": "2023-06-02T11:49:40.273Z"
   },
   {
    "duration": 0,
    "start_time": "2023-06-02T11:49:40.274Z"
   },
   {
    "duration": 9,
    "start_time": "2023-06-02T11:49:40.495Z"
   },
   {
    "duration": 13,
    "start_time": "2023-06-02T11:49:40.679Z"
   },
   {
    "duration": 2,
    "start_time": "2023-06-02T11:49:56.802Z"
   },
   {
    "duration": 70,
    "start_time": "2023-06-02T11:49:57.149Z"
   },
   {
    "duration": 14,
    "start_time": "2023-06-02T11:49:57.928Z"
   },
   {
    "duration": 20,
    "start_time": "2023-06-02T11:49:58.352Z"
   },
   {
    "duration": 8,
    "start_time": "2023-06-02T11:49:58.822Z"
   },
   {
    "duration": 16,
    "start_time": "2023-06-02T11:49:59.281Z"
   },
   {
    "duration": 7,
    "start_time": "2023-06-02T11:50:02.865Z"
   },
   {
    "duration": 10,
    "start_time": "2023-06-02T11:50:04.976Z"
   },
   {
    "duration": 7,
    "start_time": "2023-06-02T11:50:05.717Z"
   },
   {
    "duration": 12,
    "start_time": "2023-06-02T11:50:06.653Z"
   },
   {
    "duration": 7,
    "start_time": "2023-06-02T11:50:07.466Z"
   },
   {
    "duration": 5,
    "start_time": "2023-06-02T11:50:10.563Z"
   },
   {
    "duration": 12,
    "start_time": "2023-06-02T11:50:11.850Z"
   },
   {
    "duration": 192,
    "start_time": "2023-06-02T11:50:12.523Z"
   },
   {
    "duration": 16,
    "start_time": "2023-06-02T11:50:13.168Z"
   },
   {
    "duration": 149,
    "start_time": "2023-06-02T11:50:14.041Z"
   },
   {
    "duration": 8,
    "start_time": "2023-06-02T11:51:09.655Z"
   },
   {
    "duration": 180,
    "start_time": "2023-06-02T11:51:10.566Z"
   },
   {
    "duration": 14,
    "start_time": "2023-06-02T11:51:11.469Z"
   },
   {
    "duration": 136,
    "start_time": "2023-06-02T11:51:12.293Z"
   },
   {
    "duration": 12,
    "start_time": "2023-06-02T11:51:13.215Z"
   },
   {
    "duration": 32,
    "start_time": "2023-06-02T11:51:14.023Z"
   },
   {
    "duration": 5,
    "start_time": "2023-06-02T11:51:17.191Z"
   },
   {
    "duration": 4,
    "start_time": "2023-06-02T11:51:18.014Z"
   },
   {
    "duration": 269,
    "start_time": "2023-06-02T11:51:18.822Z"
   },
   {
    "duration": 233,
    "start_time": "2023-06-02T11:51:48.268Z"
   },
   {
    "duration": 243,
    "start_time": "2023-06-02T11:54:59.551Z"
   },
   {
    "duration": 7,
    "start_time": "2023-06-02T11:55:26.686Z"
   },
   {
    "duration": 383,
    "start_time": "2023-06-02T11:55:27.724Z"
   },
   {
    "duration": 345,
    "start_time": "2023-06-02T11:56:00.952Z"
   },
   {
    "duration": 286,
    "start_time": "2023-06-02T11:58:50.179Z"
   },
   {
    "duration": 11,
    "start_time": "2023-06-02T11:59:29.719Z"
   },
   {
    "duration": 177,
    "start_time": "2023-06-02T11:59:42.353Z"
   },
   {
    "duration": 12,
    "start_time": "2023-06-02T12:00:31.569Z"
   },
   {
    "duration": 15,
    "start_time": "2023-06-02T12:01:21.206Z"
   },
   {
    "duration": 314,
    "start_time": "2023-06-02T12:01:22.199Z"
   },
   {
    "duration": 174,
    "start_time": "2023-06-02T12:01:34.387Z"
   },
   {
    "duration": 6,
    "start_time": "2023-06-02T12:02:41.009Z"
   },
   {
    "duration": 67,
    "start_time": "2023-06-02T12:02:41.699Z"
   },
   {
    "duration": 8,
    "start_time": "2023-06-02T12:02:42.368Z"
   },
   {
    "duration": 54,
    "start_time": "2023-06-02T12:02:43.166Z"
   },
   {
    "duration": 39,
    "start_time": "2023-06-02T12:02:44.257Z"
   },
   {
    "duration": 106,
    "start_time": "2023-06-02T12:02:44.946Z"
   },
   {
    "duration": 14,
    "start_time": "2023-06-02T12:02:45.880Z"
   },
   {
    "duration": 83,
    "start_time": "2023-06-02T12:02:47.000Z"
   },
   {
    "duration": 55,
    "start_time": "2023-06-02T12:02:47.855Z"
   },
   {
    "duration": 19,
    "start_time": "2023-06-02T12:02:48.798Z"
   },
   {
    "duration": 22,
    "start_time": "2023-06-02T12:02:49.610Z"
   },
   {
    "duration": 13,
    "start_time": "2023-06-02T12:02:50.453Z"
   },
   {
    "duration": 79,
    "start_time": "2023-06-02T12:02:51.923Z"
   },
   {
    "duration": 20,
    "start_time": "2023-06-02T12:03:47.791Z"
   },
   {
    "duration": 10,
    "start_time": "2023-06-02T12:04:26.413Z"
   },
   {
    "duration": 79,
    "start_time": "2023-06-02T12:04:30.121Z"
   },
   {
    "duration": 33,
    "start_time": "2023-06-02T12:05:11.749Z"
   }
  ],
  "kernelspec": {
   "display_name": "Python 3 (ipykernel)",
   "language": "python",
   "name": "python3"
  },
  "language_info": {
   "codemirror_mode": {
    "name": "ipython",
    "version": 3
   },
   "file_extension": ".py",
   "mimetype": "text/x-python",
   "name": "python",
   "nbconvert_exporter": "python",
   "pygments_lexer": "ipython3",
   "version": "3.9.5"
  },
  "toc": {
   "base_numbering": 1,
   "nav_menu": {},
   "number_sections": true,
   "sideBar": true,
   "skip_h1_title": true,
   "title_cell": "Содержание",
   "title_sidebar": "Contents",
   "toc_cell": true,
   "toc_position": {},
   "toc_section_display": true,
   "toc_window_display": false
  }
 },
 "nbformat": 4,
 "nbformat_minor": 5
}
